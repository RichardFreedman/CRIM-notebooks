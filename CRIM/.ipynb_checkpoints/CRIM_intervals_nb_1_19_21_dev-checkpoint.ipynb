{
 "cells": [
  {
   "cell_type": "markdown",
   "metadata": {},
   "source": [
    "## Search with Options\n",
    "\n",
    "- Piece or Corpus\n",
    "- Actual or Incremental Durations\n",
    "- Chromatic or Diatonic\n",
    "- Exact or Close\n",
    "- Classify\n",
    "\n",
    "***\n"
   ]
  },
  {
   "cell_type": "code",
   "execution_count": 23,
   "metadata": {},
   "outputs": [],
   "source": [
    "from crim_intervals import *\n",
    "import pandas as pd\n",
    "import ast\n",
    "import matplotlib\n",
    "from itertools import tee, combinations\n",
    "import numpy as np"
   ]
  },
  {
   "cell_type": "markdown",
   "metadata": {},
   "source": [
    "### Short Corpus"
   ]
  },
  {
   "cell_type": "code",
   "execution_count": 24,
   "metadata": {},
   "outputs": [],
   "source": [
    "# work_list = ['CRIM_Mass_0002_1.mei',\n",
    "#  'CRIM_Mass_0002_2.mei',\n",
    "#  'CRIM_Mass_0002_3.mei',\n",
    "#  'CRIM_Mass_0002_4.mei',\n",
    "#  'CRIM_Mass_0002_5.mei',\n",
    "# 'CRIM_Model_0001.mei']\n",
    "\n",
    "work_list = ['CRIM_Mass_0005_1.mei']"
   ]
  },
  {
   "source": [
    "## Load File and Correct the MEI Metadata"
   ],
   "cell_type": "markdown",
   "metadata": {
    "jupyter": {
     "outputs_hidden": true
    },
    "scrolled": true
   }
  },
  {
   "cell_type": "code",
   "execution_count": 25,
   "metadata": {
    "tags": []
   },
   "outputs": [
    {
     "output_type": "stream",
     "name": "stdout",
     "text": [
      "Requesting file from https://crimproject.org/mei/MEI_4.0/CRIM_Mass_0005_1.mei...\n",
      "Successfully imported.\n",
      "https://crimproject.org/mei/MEI_4.0/CRIM_Mass_0005_1.mei Missa Ave Maria: Kyrie\n",
      "Missa Ave Maria: Kyrie\n"
     ]
    }
   ],
   "source": [
    "work_list = [el.replace(\"CRIM_\", \"https://crimproject.org/mei/MEI_4.0/CRIM_\") for el in work_list]\n",
    "corpus = CorpusBase(work_list)\n",
    "\n",
    "import xml.etree.ElementTree as ET\n",
    "import requests\n",
    "\n",
    "MEINSURI = 'http://www.music-encoding.org/ns/mei'\n",
    "MEINS = '{%s}' % MEINSURI\n",
    "\n",
    "for i, path in enumerate(work_list):\n",
    "    \n",
    "    try:\n",
    "        if path[0] == '/':\n",
    "            mei_doc = ET.parse(path)\n",
    "        else:\n",
    "            mei_doc = ET.fromstring(requests.get(path).text)\n",
    "\n",
    "      # Find the title from the MEI file and update the Music21 Score metadata\n",
    "        title = mei_doc.find('mei:meiHead//mei:titleStmt/mei:title', namespaces={\"mei\": MEINSURI}).text\n",
    "        print(path, title)\n",
    "        corpus.scores[i].metadata.title = title\n",
    "    except:\n",
    "        continue\n",
    "\n",
    "for s in corpus.scores:\n",
    "    print(s.metadata.title)"
   ]
  },
  {
   "cell_type": "markdown",
   "metadata": {},
   "source": [
    "\n",
    "## Select Actual or Incremental Durations\n",
    "\n",
    "#### About Rhythmic Durations\n",
    "\n",
    "- For `find_close_matches` and `find_exact_matches`, rhythmic variation/duration is displayed, but **not** factored into the calculation of matching.\n",
    "- **Incremental Offset** calculates the intervals using a **fixed offset between notes**, no matter their actual duration.  Use this to ignore passing tones or other ornaments.  The offsets are expressed in multiples of the quarter note (Offset = 1 samples at quarter note; Offset = 2 at half note, etc). Set with `vectors = IntervalBase(corpus.note_list_incremental_offset(2))`"
   ]
  },
  {
   "cell_type": "code",
   "execution_count": 27,
   "metadata": {},
   "outputs": [],
   "source": [
    "vectors = IntervalBase(corpus.note_list)\n",
    "#vectors = IntervalBase(corpus.note_list_incremental_offset(2))"
   ]
  },
  {
   "cell_type": "markdown",
   "metadata": {},
   "source": [
    "***\n",
    "\n",
    "## Select Generic or Semitone Scale:\n",
    "\n",
    "- **Length of the Soggetto**: `into_patterns([vectors.semitone_intervals], 5)` \n",
    "\n",
    "- The **number** in this command represents the **minimum number of vectors to find**. 5 vectors is 6 notes.\n"
   ]
  },
  {
   "cell_type": "code",
   "execution_count": 28,
   "metadata": {},
   "outputs": [],
   "source": [
    "patterns = into_patterns([vectors.generic_intervals], 5)\n",
    "#patterns = into_patterns([vectors.semitone_intervals], 4)"
   ]
  },
  {
   "cell_type": "markdown",
   "metadata": {},
   "source": [
    "***\n",
    "\n",
    "## Select Exact Matches Here, or Close Below\n",
    "#### (Use comment feature to select screen preview or CSV output) \n",
    "\n",
    "- **Exact** is exact in *all* ways `find_exact_matches(patterns, 2)` \n",
    "- The **number** in this command represents the **minimum number of matching melodies needed before reporting**. This allows us to filter for common or uncommon soggetti."
   ]
  },
  {
   "cell_type": "code",
   "execution_count": 33,
   "metadata": {
    "tags": []
   },
   "outputs": [
    {
     "output_type": "stream",
     "name": "stdout",
     "text": [
      "Finding exact matches...\n",
      "49 melodic intervals had more than 2 exact matches.\n",
      "\n"
     ]
    }
   ],
   "source": [
    "exact_matches = find_exact_matches(patterns, 2)\n",
    "output_exact = export_pandas(exact_matches)\n",
    "pd.DataFrame(output_exact).head()\n",
    "output_exact\n",
    "# output_exact[\"pattern_generating_match\"] = output_exact[\"pattern_generating_match\"].apply(tuple)\n",
    "\n",
    "# results = pd.DataFrame(output_exact)\n",
    "# results[\"pattern_generating_match\"] = results[\"pattern_generating_match\"].apply(tuple)\n",
    "# results.head(10)\n",
    "# export_to_csv(exact_matches)\n",
    "output_exact.to_csv(\"Mass_0005_1_Exact_4.csv\")"
   ]
  },
  {
   "cell_type": "markdown",
   "metadata": {},
   "source": [
    "***\n",
    "\n",
    "### Select Close Matches Here\n",
    "#### (Comment out the 'for item iteration' in order to skip screen preview)\n",
    "\n",
    "- **Close** matches allow for melodic variation (see more below). `find_close_matches(patterns, 2, 1)`\n",
    "- The **first number** in this command is the **minimum number of melodies** needed before reporting\n",
    "- The **second number** is **threshold of similarity** needed in order to find a match. \n",
    "- Lower number = very similar; higher number = less similar\n",
    "\n",
    "##### More about Close Matches  \n",
    "- The **threshold for close matches** is determined by the **second number** called in the method. \n",
    "- We select two patterns, then compare *each vector in each pattern successively*. \n",
    "- The *differences between each vector are summed*. \n",
    "- If that value is **below the threshold specified**, we consider the **two patterns closely matched**.\n",
    "- The format of the method call is  `find_close_matches(the array you get from into_patterns, minimum matches needed to be displayed, threshold for close match)`."
   ]
  },
  {
   "cell_type": "code",
   "execution_count": 17,
   "metadata": {
    "tags": []
   },
   "outputs": [
    {
     "output_type": "stream",
     "name": "stdout",
     "text": [
      "Finding close matches...\n",
      "65 melodic intervals had more than 4 exact or close matches.\n",
      "\n"
     ]
    }
   ],
   "source": [
    "close_matches = find_close_matches(patterns, 4, 1)\n",
    "#for item in close_matches:\n",
    "   #item.print_close_matches()\n",
    "    #return pd.DataFrame(close_matches)\n",
    "\n",
    "output_close = export_pandas(close_matches)\n",
    "output_close[\"pattern_generating_match\"] = output_close[\"pattern_generating_match\"].apply(tuple)\n",
    "\n",
    "results = pd.DataFrame(output_close)\n",
    "results[\"pattern_generating_match\"] = results[\"pattern_generating_match\"].apply(tuple)\n",
    "results.head()\n",
    "\n",
    "results.to_csv(\"Model_0001_Close_3_1\")\n",
    "# export_to_csv(close_matches)"
   ]
  },
  {
   "cell_type": "markdown",
   "metadata": {},
   "source": [
    "***\n",
    "\n",
    "## Classify Patterns Here \n",
    "#### Note:  depends on choice of Close or Exact above!  Must choose appropriate one below!\n",
    "#### Enable \"export_to_csv\" line to allow this within Notebook (must answer \"Y\" and provide filename)\n",
    "\n",
    "#### note that the classifier can only find patterns with AT LEAST THREE entries!  2-voice fugas are invisible at the moment.  Could be added!"
   ]
  },
  {
   "cell_type": "code",
   "execution_count": 164,
   "metadata": {
    "jupyter": {
     "outputs_hidden": true
    },
    "tags": []
   },
   "outputs": [],
   "source": [
    "%%capture\n",
    "#cm = classify_matches(close_matches, 1)\n",
    "cm = classify_matches(exact_matches, 1)\n",
    "#pd.DataFrame(classified_matches)\n",
    "output_cm = export_pandas(cm)\n",
    "\n",
    "## For CSV export, use the following (and follow prompts for file name)\n",
    "#export_to_csv(cm)\n",
    "\n",
    "cm"
   ]
  },
  {
   "cell_type": "code",
   "execution_count": 163,
   "metadata": {},
   "outputs": [],
   "source": [
    "def classified_matches_to_pandas(matches):\n",
    "    \n",
    "    soggetti_matches = []\n",
    "    \n",
    "    for i, cm in enumerate(matches):\n",
    "        \n",
    "        for j, soggetti in enumerate(cm.matches):\n",
    "            \n",
    "            soggetti_matches.append({\n",
    "                \"piece\": soggetti.first_note.metadata.title,\n",
    "                \"type\": cm.type,\n",
    "                \"part\": soggetti.first_note.part.strip(\"[] \"),\n",
    "                \"bar\": soggetti.first_note.note.measureNumber,\n",
    "                \"offset\": soggetti.first_note.note.offset,\n",
    "                \"entry_number\": j + 1,\n",
    "                \"pattern\": tuple(cm.pattern),\n",
    "                \"match_number\": i + 1\n",
    "            })\n",
    "    return pd.DataFrame(soggetti_matches)\n",
    "    "
   ]
  },
  {
   "cell_type": "code",
   "execution_count": 138,
   "metadata": {},
   "outputs": [
    {
     "output_type": "execute_result",
     "data": {
      "text/plain": [
       "        piece            type      part  bar  offset  entry_number  \\\n",
       "0   Ave Maria  periodic_entry  Superius    1     0.0             1   \n",
       "1   Ave Maria  periodic_entry     Altus    3    16.0             2   \n",
       "2   Ave Maria  periodic_entry     Tenor    5    32.0             3   \n",
       "3   Ave Maria  periodic_entry    Bassus    7    48.0             4   \n",
       "12  Ave Maria            fuga     Altus   33   256.0             1   \n",
       "..        ...             ...       ...  ...     ...           ...   \n",
       "71  Ave Maria   imitative duo     Tenor  124  1048.0             4   \n",
       "75  Ave Maria   imitative duo     Tenor  124  1054.0             4   \n",
       "79  Ave Maria   imitative duo     Tenor  124  1055.0             4   \n",
       "83  Ave Maria   imitative duo     Tenor  125  1056.0             4   \n",
       "87  Ave Maria   imitative duo     Tenor  125  1060.0             4   \n",
       "\n",
       "                pattern  match_number  \n",
       "0      (4, 1, 2, 2, -3)             1  \n",
       "1      (4, 1, 2, 2, -3)             1  \n",
       "2      (4, 1, 2, 2, -3)             1  \n",
       "3      (4, 1, 2, 2, -3)             1  \n",
       "12   (1, 2, -2, -2, -2)             4  \n",
       "..                  ...           ...  \n",
       "71   (-2, -2, -2, 1, 3)            19  \n",
       "75   (-2, -2, 1, 3, -2)            20  \n",
       "79   (-2, 1, 3, -2, -2)            21  \n",
       "83   (1, 3, -2, -2, -2)            22  \n",
       "87  (3, -2, -2, -2, -2)            23  \n",
       "\n",
       "[88 rows x 8 columns]"
      ],
      "text/html": "<div>\n<style scoped>\n    .dataframe tbody tr th:only-of-type {\n        vertical-align: middle;\n    }\n\n    .dataframe tbody tr th {\n        vertical-align: top;\n    }\n\n    .dataframe thead th {\n        text-align: right;\n    }\n</style>\n<table border=\"1\" class=\"dataframe\">\n  <thead>\n    <tr style=\"text-align: right;\">\n      <th></th>\n      <th>piece</th>\n      <th>type</th>\n      <th>part</th>\n      <th>bar</th>\n      <th>offset</th>\n      <th>entry_number</th>\n      <th>pattern</th>\n      <th>match_number</th>\n    </tr>\n  </thead>\n  <tbody>\n    <tr>\n      <th>0</th>\n      <td>Ave Maria</td>\n      <td>periodic_entry</td>\n      <td>Superius</td>\n      <td>1</td>\n      <td>0.0</td>\n      <td>1</td>\n      <td>(4, 1, 2, 2, -3)</td>\n      <td>1</td>\n    </tr>\n    <tr>\n      <th>1</th>\n      <td>Ave Maria</td>\n      <td>periodic_entry</td>\n      <td>Altus</td>\n      <td>3</td>\n      <td>16.0</td>\n      <td>2</td>\n      <td>(4, 1, 2, 2, -3)</td>\n      <td>1</td>\n    </tr>\n    <tr>\n      <th>2</th>\n      <td>Ave Maria</td>\n      <td>periodic_entry</td>\n      <td>Tenor</td>\n      <td>5</td>\n      <td>32.0</td>\n      <td>3</td>\n      <td>(4, 1, 2, 2, -3)</td>\n      <td>1</td>\n    </tr>\n    <tr>\n      <th>3</th>\n      <td>Ave Maria</td>\n      <td>periodic_entry</td>\n      <td>Bassus</td>\n      <td>7</td>\n      <td>48.0</td>\n      <td>4</td>\n      <td>(4, 1, 2, 2, -3)</td>\n      <td>1</td>\n    </tr>\n    <tr>\n      <th>12</th>\n      <td>Ave Maria</td>\n      <td>fuga</td>\n      <td>Altus</td>\n      <td>33</td>\n      <td>256.0</td>\n      <td>1</td>\n      <td>(1, 2, -2, -2, -2)</td>\n      <td>4</td>\n    </tr>\n    <tr>\n      <th>...</th>\n      <td>...</td>\n      <td>...</td>\n      <td>...</td>\n      <td>...</td>\n      <td>...</td>\n      <td>...</td>\n      <td>...</td>\n      <td>...</td>\n    </tr>\n    <tr>\n      <th>71</th>\n      <td>Ave Maria</td>\n      <td>imitative duo</td>\n      <td>Tenor</td>\n      <td>124</td>\n      <td>1048.0</td>\n      <td>4</td>\n      <td>(-2, -2, -2, 1, 3)</td>\n      <td>19</td>\n    </tr>\n    <tr>\n      <th>75</th>\n      <td>Ave Maria</td>\n      <td>imitative duo</td>\n      <td>Tenor</td>\n      <td>124</td>\n      <td>1054.0</td>\n      <td>4</td>\n      <td>(-2, -2, 1, 3, -2)</td>\n      <td>20</td>\n    </tr>\n    <tr>\n      <th>79</th>\n      <td>Ave Maria</td>\n      <td>imitative duo</td>\n      <td>Tenor</td>\n      <td>124</td>\n      <td>1055.0</td>\n      <td>4</td>\n      <td>(-2, 1, 3, -2, -2)</td>\n      <td>21</td>\n    </tr>\n    <tr>\n      <th>83</th>\n      <td>Ave Maria</td>\n      <td>imitative duo</td>\n      <td>Tenor</td>\n      <td>125</td>\n      <td>1056.0</td>\n      <td>4</td>\n      <td>(1, 3, -2, -2, -2)</td>\n      <td>22</td>\n    </tr>\n    <tr>\n      <th>87</th>\n      <td>Ave Maria</td>\n      <td>imitative duo</td>\n      <td>Tenor</td>\n      <td>125</td>\n      <td>1060.0</td>\n      <td>4</td>\n      <td>(3, -2, -2, -2, -2)</td>\n      <td>23</td>\n    </tr>\n  </tbody>\n</table>\n<p>88 rows × 8 columns</p>\n</div>"
     },
     "metadata": {},
     "execution_count": 138
    }
   ],
   "source": [
    "df = classified_matches_to_pandas(cm)\n",
    "pd.set_option('display.max_rows', 50)\n",
    "df_sorted = df.sort_values(\"offset\")\n",
    "df_sorted"
   ]
  },
  {
   "cell_type": "code",
   "execution_count": 139,
   "metadata": {
    "scrolled": true
   },
   "outputs": [
    {
     "output_type": "execute_result",
     "data": {
      "text/plain": [
       "   match_number      piece            type             pattern  offset_1  \\\n",
       "0             1  Ave Maria  periodic_entry    (4, 1, 2, 2, -3)       0.0   \n",
       "1             4  Ave Maria            fuga  (1, 2, -2, -2, -2)     256.0   \n",
       "2             5  Ave Maria   imitative duo   (4, -2, 2, 2, -3)     428.0   \n",
       "3             6  Ave Maria   imitative duo  (-2, 2, 2, -3, -2)     432.0   \n",
       "4             2  Ave Maria   imitative duo  (2, 2, -3, -2, -2)     438.0   \n",
       "\n",
       "   offset_2  offset_3  offset_4    part_1  part_2    part_3  part_4  \n",
       "0      16.0      32.0      48.0  Superius   Altus     Tenor  Bassus  \n",
       "1     288.0     320.0     320.0     Altus  Bassus  Superius   Tenor  \n",
       "2     432.0     468.0     472.0  Superius   Altus     Tenor  Bassus  \n",
       "3     436.0     472.0     476.0  Superius   Altus     Tenor  Bassus  \n",
       "4     442.0     478.0     482.0  Superius   Altus     Tenor  Bassus  "
      ],
      "text/html": "<div>\n<style scoped>\n    .dataframe tbody tr th:only-of-type {\n        vertical-align: middle;\n    }\n\n    .dataframe tbody tr th {\n        vertical-align: top;\n    }\n\n    .dataframe thead th {\n        text-align: right;\n    }\n</style>\n<table border=\"1\" class=\"dataframe\">\n  <thead>\n    <tr style=\"text-align: right;\">\n      <th></th>\n      <th>match_number</th>\n      <th>piece</th>\n      <th>type</th>\n      <th>pattern</th>\n      <th>offset_1</th>\n      <th>offset_2</th>\n      <th>offset_3</th>\n      <th>offset_4</th>\n      <th>part_1</th>\n      <th>part_2</th>\n      <th>part_3</th>\n      <th>part_4</th>\n    </tr>\n  </thead>\n  <tbody>\n    <tr>\n      <th>0</th>\n      <td>1</td>\n      <td>Ave Maria</td>\n      <td>periodic_entry</td>\n      <td>(4, 1, 2, 2, -3)</td>\n      <td>0.0</td>\n      <td>16.0</td>\n      <td>32.0</td>\n      <td>48.0</td>\n      <td>Superius</td>\n      <td>Altus</td>\n      <td>Tenor</td>\n      <td>Bassus</td>\n    </tr>\n    <tr>\n      <th>1</th>\n      <td>4</td>\n      <td>Ave Maria</td>\n      <td>fuga</td>\n      <td>(1, 2, -2, -2, -2)</td>\n      <td>256.0</td>\n      <td>288.0</td>\n      <td>320.0</td>\n      <td>320.0</td>\n      <td>Altus</td>\n      <td>Bassus</td>\n      <td>Superius</td>\n      <td>Tenor</td>\n    </tr>\n    <tr>\n      <th>2</th>\n      <td>5</td>\n      <td>Ave Maria</td>\n      <td>imitative duo</td>\n      <td>(4, -2, 2, 2, -3)</td>\n      <td>428.0</td>\n      <td>432.0</td>\n      <td>468.0</td>\n      <td>472.0</td>\n      <td>Superius</td>\n      <td>Altus</td>\n      <td>Tenor</td>\n      <td>Bassus</td>\n    </tr>\n    <tr>\n      <th>3</th>\n      <td>6</td>\n      <td>Ave Maria</td>\n      <td>imitative duo</td>\n      <td>(-2, 2, 2, -3, -2)</td>\n      <td>432.0</td>\n      <td>436.0</td>\n      <td>472.0</td>\n      <td>476.0</td>\n      <td>Superius</td>\n      <td>Altus</td>\n      <td>Tenor</td>\n      <td>Bassus</td>\n    </tr>\n    <tr>\n      <th>4</th>\n      <td>2</td>\n      <td>Ave Maria</td>\n      <td>imitative duo</td>\n      <td>(2, 2, -3, -2, -2)</td>\n      <td>438.0</td>\n      <td>442.0</td>\n      <td>478.0</td>\n      <td>482.0</td>\n      <td>Superius</td>\n      <td>Altus</td>\n      <td>Tenor</td>\n      <td>Bassus</td>\n    </tr>\n  </tbody>\n</table>\n</div>"
     },
     "metadata": {},
     "execution_count": 139
    }
   ],
   "source": [
    "#df[\"pattern\"] = df[\"pattern\"].apply(tuple)\n",
    "\n",
    "wide_df = df.pivot_table(index=[\"match_number\", \"piece\", \"type\", \"pattern\"],\n",
    "            columns=\"entry_number\",\n",
    "            values=[\"part\", \"offset\"],\n",
    "            aggfunc=lambda x: x)\n",
    "\n",
    "wide_df.columns = [f\"{a}_{b}\" for a, b in wide_df.columns]\n",
    "wide_df = wide_df.sort_values(\"offset_1\")\n",
    "wide_df = wide_df.head().reset_index()\n",
    "wide_df"
   ]
  },
  {
   "source": [
    "## Improved Classifier 2021"
   ],
   "cell_type": "markdown",
   "metadata": {}
  },
  {
   "source": [
    "### Filter for Overall Length of Presentation Type"
   ],
   "cell_type": "markdown",
   "metadata": {}
  },
  {
   "cell_type": "code",
   "execution_count": 7,
   "metadata": {},
   "outputs": [],
   "source": [
    "# This function filters for the length of the Presentation Type in the Classifier\n",
    "\n",
    "def limit_offset_size(array, limit):\n",
    "    under_limit = np.cumsum(array) <= limit\n",
    "    return array[: sum(under_limit)]\n"
   ]
  },
  {
   "source": [
    "#### Functions to work with output of the original classifier"
   ],
   "cell_type": "markdown",
   "metadata": {}
  },
  {
   "cell_type": "code",
   "execution_count": 168,
   "metadata": {},
   "outputs": [],
   "source": [
    "# the following configured to work with output of FG Classifier\n",
    "\n",
    "import numpy as np\n",
    "\n",
    "def lists_to_tuples(el):\n",
    "    if isinstance(el, list):\n",
    "        return tuple(el)\n",
    "    else:\n",
    "        return el\n",
    "\n",
    "def classify_offsets(offset_difference_list):\n",
    "    \"\"\"\n",
    "    Put logic for classifying an offset list here\n",
    "    \"\"\"\n",
    "    offset_difference_list = limit_offset_size(offset_difference_list, 64)\n",
    "    \n",
    "    alt_list = offset_difference_list[::2]\n",
    "    \n",
    "    \n",
    "    if len(set(offset_difference_list)) == 1 and len(offset_difference_list) > 1:\n",
    "        return f\"PEN {offset_difference_list}\"\n",
    "    elif (len(offset_difference_list) %2 != 0) and (len(set(alt_list)) == 1):\n",
    "        return f\"ID {offset_difference_list}\"\n",
    "    elif len(offset_difference_list) >= 1:\n",
    "        return f\"Fuga {offset_difference_list}\"\n",
    "    else: \n",
    "        return f\"Singleton {offset_difference_list}\"\n",
    "\n",
    "\n",
    "def get_offset_difference_list(group):\n",
    "    group = group.sort_values(\"offset\")\n",
    "    group[\"next_offset\"] = group.offset.shift(-1)\n",
    "    offset_difference_list = (group.next_offset - group.offset).dropna().tolist()\n",
    "    return offset_difference_list\n",
    "   \n",
    "def predict_type(group):\n",
    "    offset_differences = get_offset_difference_list(group)\n",
    "    group[\"predicted_type\"] = classify_offsets(offset_differences)\n",
    "    return group\n"
   ]
  },
  {
   "source": [
    "### Call Function to work with Output of Original Classifier\n"
   ],
   "cell_type": "markdown",
   "metadata": {}
  },
  {
   "cell_type": "code",
   "execution_count": 169,
   "metadata": {},
   "outputs": [
    {
     "output_type": "execute_result",
     "data": {
      "text/plain": [
       "        piece            type      part  bar  offset  entry_number  \\\n",
       "0   Ave Maria  periodic_entry  Superius    1     0.0             1   \n",
       "1   Ave Maria  periodic_entry     Altus    3    16.0             2   \n",
       "2   Ave Maria  periodic_entry     Tenor    5    32.0             3   \n",
       "3   Ave Maria  periodic_entry    Bassus    7    48.0             4   \n",
       "12  Ave Maria            fuga     Altus   33   256.0             1   \n",
       "13  Ave Maria            fuga    Bassus   37   288.0             2   \n",
       "14  Ave Maria            fuga  Superius   41   320.0             3   \n",
       "15  Ave Maria            fuga     Tenor   41   320.0             4   \n",
       "16  Ave Maria   imitative duo  Superius   54   428.0             1   \n",
       "17  Ave Maria   imitative duo     Altus   55   432.0             2   \n",
       "20  Ave Maria   imitative duo  Superius   55   432.0             1   \n",
       "21  Ave Maria   imitative duo     Altus   55   436.0             2   \n",
       "4   Ave Maria   imitative duo  Superius   55   438.0             1   \n",
       "24  Ave Maria   imitative duo  Superius   56   440.0             1   \n",
       "5   Ave Maria   imitative duo     Altus   56   442.0             2   \n",
       "25  Ave Maria   imitative duo     Altus   56   444.0             2   \n",
       "18  Ave Maria   imitative duo     Tenor   59   468.0             3   \n",
       "22  Ave Maria   imitative duo     Tenor   60   472.0             3   \n",
       "19  Ave Maria   imitative duo    Bassus   60   472.0             4   \n",
       "23  Ave Maria   imitative duo    Bassus   60   476.0             4   \n",
       "\n",
       "               pattern  match_number          predicted_type  \n",
       "0     (4, 1, 2, 2, -3)             1  PEN [16.0, 16.0, 16.0]  \n",
       "1     (4, 1, 2, 2, -3)             1  PEN [16.0, 16.0, 16.0]  \n",
       "2     (4, 1, 2, 2, -3)             1  PEN [16.0, 16.0, 16.0]  \n",
       "3     (4, 1, 2, 2, -3)             1  PEN [16.0, 16.0, 16.0]  \n",
       "12  (1, 2, -2, -2, -2)             4  Fuga [32.0, 32.0, 0.0]  \n",
       "13  (1, 2, -2, -2, -2)             4  Fuga [32.0, 32.0, 0.0]  \n",
       "14  (1, 2, -2, -2, -2)             4  Fuga [32.0, 32.0, 0.0]  \n",
       "15  (1, 2, -2, -2, -2)             4  Fuga [32.0, 32.0, 0.0]  \n",
       "16   (4, -2, 2, 2, -3)             5     ID [4.0, 36.0, 4.0]  \n",
       "17   (4, -2, 2, 2, -3)             5     ID [4.0, 36.0, 4.0]  \n",
       "20  (-2, 2, 2, -3, -2)             6     ID [4.0, 36.0, 4.0]  \n",
       "21  (-2, 2, 2, -3, -2)             6     ID [4.0, 36.0, 4.0]  \n",
       "4   (2, 2, -3, -2, -2)             2     ID [4.0, 36.0, 4.0]  \n",
       "24  (2, -3, -2, -2, 1)             7     ID [4.0, 36.0, 4.0]  \n",
       "5   (2, 2, -3, -2, -2)             2     ID [4.0, 36.0, 4.0]  \n",
       "25  (2, -3, -2, -2, 1)             7     ID [4.0, 36.0, 4.0]  \n",
       "18   (4, -2, 2, 2, -3)             5     ID [4.0, 36.0, 4.0]  \n",
       "22  (-2, 2, 2, -3, -2)             6     ID [4.0, 36.0, 4.0]  \n",
       "19   (4, -2, 2, 2, -3)             5     ID [4.0, 36.0, 4.0]  \n",
       "23  (-2, 2, 2, -3, -2)             6     ID [4.0, 36.0, 4.0]  "
      ],
      "text/html": "<div>\n<style scoped>\n    .dataframe tbody tr th:only-of-type {\n        vertical-align: middle;\n    }\n\n    .dataframe tbody tr th {\n        vertical-align: top;\n    }\n\n    .dataframe thead th {\n        text-align: right;\n    }\n</style>\n<table border=\"1\" class=\"dataframe\">\n  <thead>\n    <tr style=\"text-align: right;\">\n      <th></th>\n      <th>piece</th>\n      <th>type</th>\n      <th>part</th>\n      <th>bar</th>\n      <th>offset</th>\n      <th>entry_number</th>\n      <th>pattern</th>\n      <th>match_number</th>\n      <th>predicted_type</th>\n    </tr>\n  </thead>\n  <tbody>\n    <tr>\n      <th>0</th>\n      <td>Ave Maria</td>\n      <td>periodic_entry</td>\n      <td>Superius</td>\n      <td>1</td>\n      <td>0.0</td>\n      <td>1</td>\n      <td>(4, 1, 2, 2, -3)</td>\n      <td>1</td>\n      <td>PEN [16.0, 16.0, 16.0]</td>\n    </tr>\n    <tr>\n      <th>1</th>\n      <td>Ave Maria</td>\n      <td>periodic_entry</td>\n      <td>Altus</td>\n      <td>3</td>\n      <td>16.0</td>\n      <td>2</td>\n      <td>(4, 1, 2, 2, -3)</td>\n      <td>1</td>\n      <td>PEN [16.0, 16.0, 16.0]</td>\n    </tr>\n    <tr>\n      <th>2</th>\n      <td>Ave Maria</td>\n      <td>periodic_entry</td>\n      <td>Tenor</td>\n      <td>5</td>\n      <td>32.0</td>\n      <td>3</td>\n      <td>(4, 1, 2, 2, -3)</td>\n      <td>1</td>\n      <td>PEN [16.0, 16.0, 16.0]</td>\n    </tr>\n    <tr>\n      <th>3</th>\n      <td>Ave Maria</td>\n      <td>periodic_entry</td>\n      <td>Bassus</td>\n      <td>7</td>\n      <td>48.0</td>\n      <td>4</td>\n      <td>(4, 1, 2, 2, -3)</td>\n      <td>1</td>\n      <td>PEN [16.0, 16.0, 16.0]</td>\n    </tr>\n    <tr>\n      <th>12</th>\n      <td>Ave Maria</td>\n      <td>fuga</td>\n      <td>Altus</td>\n      <td>33</td>\n      <td>256.0</td>\n      <td>1</td>\n      <td>(1, 2, -2, -2, -2)</td>\n      <td>4</td>\n      <td>Fuga [32.0, 32.0, 0.0]</td>\n    </tr>\n    <tr>\n      <th>13</th>\n      <td>Ave Maria</td>\n      <td>fuga</td>\n      <td>Bassus</td>\n      <td>37</td>\n      <td>288.0</td>\n      <td>2</td>\n      <td>(1, 2, -2, -2, -2)</td>\n      <td>4</td>\n      <td>Fuga [32.0, 32.0, 0.0]</td>\n    </tr>\n    <tr>\n      <th>14</th>\n      <td>Ave Maria</td>\n      <td>fuga</td>\n      <td>Superius</td>\n      <td>41</td>\n      <td>320.0</td>\n      <td>3</td>\n      <td>(1, 2, -2, -2, -2)</td>\n      <td>4</td>\n      <td>Fuga [32.0, 32.0, 0.0]</td>\n    </tr>\n    <tr>\n      <th>15</th>\n      <td>Ave Maria</td>\n      <td>fuga</td>\n      <td>Tenor</td>\n      <td>41</td>\n      <td>320.0</td>\n      <td>4</td>\n      <td>(1, 2, -2, -2, -2)</td>\n      <td>4</td>\n      <td>Fuga [32.0, 32.0, 0.0]</td>\n    </tr>\n    <tr>\n      <th>16</th>\n      <td>Ave Maria</td>\n      <td>imitative duo</td>\n      <td>Superius</td>\n      <td>54</td>\n      <td>428.0</td>\n      <td>1</td>\n      <td>(4, -2, 2, 2, -3)</td>\n      <td>5</td>\n      <td>ID [4.0, 36.0, 4.0]</td>\n    </tr>\n    <tr>\n      <th>17</th>\n      <td>Ave Maria</td>\n      <td>imitative duo</td>\n      <td>Altus</td>\n      <td>55</td>\n      <td>432.0</td>\n      <td>2</td>\n      <td>(4, -2, 2, 2, -3)</td>\n      <td>5</td>\n      <td>ID [4.0, 36.0, 4.0]</td>\n    </tr>\n    <tr>\n      <th>20</th>\n      <td>Ave Maria</td>\n      <td>imitative duo</td>\n      <td>Superius</td>\n      <td>55</td>\n      <td>432.0</td>\n      <td>1</td>\n      <td>(-2, 2, 2, -3, -2)</td>\n      <td>6</td>\n      <td>ID [4.0, 36.0, 4.0]</td>\n    </tr>\n    <tr>\n      <th>21</th>\n      <td>Ave Maria</td>\n      <td>imitative duo</td>\n      <td>Altus</td>\n      <td>55</td>\n      <td>436.0</td>\n      <td>2</td>\n      <td>(-2, 2, 2, -3, -2)</td>\n      <td>6</td>\n      <td>ID [4.0, 36.0, 4.0]</td>\n    </tr>\n    <tr>\n      <th>4</th>\n      <td>Ave Maria</td>\n      <td>imitative duo</td>\n      <td>Superius</td>\n      <td>55</td>\n      <td>438.0</td>\n      <td>1</td>\n      <td>(2, 2, -3, -2, -2)</td>\n      <td>2</td>\n      <td>ID [4.0, 36.0, 4.0]</td>\n    </tr>\n    <tr>\n      <th>24</th>\n      <td>Ave Maria</td>\n      <td>imitative duo</td>\n      <td>Superius</td>\n      <td>56</td>\n      <td>440.0</td>\n      <td>1</td>\n      <td>(2, -3, -2, -2, 1)</td>\n      <td>7</td>\n      <td>ID [4.0, 36.0, 4.0]</td>\n    </tr>\n    <tr>\n      <th>5</th>\n      <td>Ave Maria</td>\n      <td>imitative duo</td>\n      <td>Altus</td>\n      <td>56</td>\n      <td>442.0</td>\n      <td>2</td>\n      <td>(2, 2, -3, -2, -2)</td>\n      <td>2</td>\n      <td>ID [4.0, 36.0, 4.0]</td>\n    </tr>\n    <tr>\n      <th>25</th>\n      <td>Ave Maria</td>\n      <td>imitative duo</td>\n      <td>Altus</td>\n      <td>56</td>\n      <td>444.0</td>\n      <td>2</td>\n      <td>(2, -3, -2, -2, 1)</td>\n      <td>7</td>\n      <td>ID [4.0, 36.0, 4.0]</td>\n    </tr>\n    <tr>\n      <th>18</th>\n      <td>Ave Maria</td>\n      <td>imitative duo</td>\n      <td>Tenor</td>\n      <td>59</td>\n      <td>468.0</td>\n      <td>3</td>\n      <td>(4, -2, 2, 2, -3)</td>\n      <td>5</td>\n      <td>ID [4.0, 36.0, 4.0]</td>\n    </tr>\n    <tr>\n      <th>22</th>\n      <td>Ave Maria</td>\n      <td>imitative duo</td>\n      <td>Tenor</td>\n      <td>60</td>\n      <td>472.0</td>\n      <td>3</td>\n      <td>(-2, 2, 2, -3, -2)</td>\n      <td>6</td>\n      <td>ID [4.0, 36.0, 4.0]</td>\n    </tr>\n    <tr>\n      <th>19</th>\n      <td>Ave Maria</td>\n      <td>imitative duo</td>\n      <td>Bassus</td>\n      <td>60</td>\n      <td>472.0</td>\n      <td>4</td>\n      <td>(4, -2, 2, 2, -3)</td>\n      <td>5</td>\n      <td>ID [4.0, 36.0, 4.0]</td>\n    </tr>\n    <tr>\n      <th>23</th>\n      <td>Ave Maria</td>\n      <td>imitative duo</td>\n      <td>Bassus</td>\n      <td>60</td>\n      <td>476.0</td>\n      <td>4</td>\n      <td>(-2, 2, 2, -3, -2)</td>\n      <td>6</td>\n      <td>ID [4.0, 36.0, 4.0]</td>\n    </tr>\n  </tbody>\n</table>\n</div>"
     },
     "metadata": {},
     "execution_count": 169
    }
   ],
   "source": [
    "\n",
    "df = df_sorted.applymap(lists_to_tuples).groupby(\"pattern\").apply(predict_type)[:20]\n",
    "df\n"
   ]
  },
  {
   "source": [
    "### Function to work with output of Close or Exact Matches"
   ],
   "cell_type": "markdown",
   "metadata": {}
  },
  {
   "cell_type": "code",
   "execution_count": 12,
   "metadata": {},
   "outputs": [],
   "source": [
    "# THIS IS DEV COPY for use with CLOSE/EXACT Matches\n",
    "\n",
    "import numpy as np\n",
    "\n",
    "def lists_to_tuples_a(el):\n",
    "    if isinstance(el, list):\n",
    "        return tuple(el)\n",
    "    else:\n",
    "        return el\n",
    "\n",
    "def classify_offsets_a(offset_difference_list):\n",
    "    \"\"\"\n",
    "    Put logic for classifying an offset list here\n",
    "    \"\"\"\n",
    "    offset_difference_list = limit_offset_size(offset_difference_list, 64)\n",
    "    \n",
    "    alt_list = offset_difference_list[::2]\n",
    "    \n",
    "    \n",
    "    if len(set(offset_difference_list)) == 1 and len(offset_difference_list) > 1:\n",
    "        return \"PEN\", offset_difference_list\n",
    "    elif (len(offset_difference_list) %2 != 0) and (len(set(alt_list)) == 1):\n",
    "        return \"ID\", offset_difference_list\n",
    "    elif len(offset_difference_list) >= 1:\n",
    "        return \"Fuga\", offset_difference_list\n",
    "    else: \n",
    "        return \"Singleton\", offset_difference_list\n",
    "\n",
    "    \n",
    "    # if len(set(offset_difference_list)) == 1 and len(offset_difference_list) > 1:\n",
    "    #     return f\"PEN {offset_difference_list}\"\n",
    "    # elif (len(offset_difference_list) %2 != 0) and (len(set(alt_list)) == 1):\n",
    "    #     return f\"ID {offset_difference_list}\"\n",
    "    # else:\n",
    "    #      return f\"Fuga {offset_difference_list}\"\n",
    "\n",
    "def get_offset_difference_list_a(group):\n",
    "    group = group.sort_values(\"start_offset\")\n",
    "    group[\"next_offset\"] = group.start_offset.shift(-1)\n",
    "    offset_difference_list = (group.next_offset - group.start_offset).dropna().tolist()\n",
    "    return offset_difference_list\n",
    "   \n",
    "# def predict_type_a(group):\n",
    "#     offset_differences = get_offset_difference_list_a(group)\n",
    "#     group[\"predicted_type\"] = classify_offsets_a(offset_differences)\n",
    "#     return group\n",
    "\n",
    "def predict_type_a(group):\n",
    "    offset_differences = get_offset_difference_list_a(group)\n",
    "    # group[\"predicted_type\"] = classify_offsets_a(offset_differences)\n",
    "    predicted_type, offsets = classify_offsets_a(offset_differences)\n",
    "\n",
    "    group[\"predicted_type\"] = [predicted_type for i in range(len(group))]\n",
    "    group[\"offset_diffs\"] = [offsets for i in range(len(group))]\n",
    "    group[\"entry_number\"] = [i + 1 for i in range(len(group))]\n",
    "\n",
    "    return group"
   ]
  },
  {
   "source": [
    "### Call Function to Classify with Close/Exact Matches\n",
    "#### use 'output.close' or 'output.exact'"
   ],
   "cell_type": "markdown",
   "metadata": {}
  },
  {
   "cell_type": "code",
   "execution_count": 13,
   "metadata": {},
   "outputs": [
    {
     "output_type": "execute_result",
     "data": {
      "text/plain": [
       "   pattern_generating_match       pattern_matched piece_title        part  \\\n",
       "0          (4, 1, 2, 2, -3)      (4, 1, 2, 2, -3)   Ave Maria  [Superius]   \n",
       "1          (4, 1, 2, 2, -3)      (4, 1, 2, 2, -3)   Ave Maria  [Superius]   \n",
       "2          (4, 1, 2, 2, -3)      (4, 1, 2, 2, -3)   Ave Maria       Altus   \n",
       "3          (4, 1, 2, 2, -3)      (4, 1, 2, 2, -3)   Ave Maria       Tenor   \n",
       "4          (4, 1, 2, 2, -3)      (4, 1, 2, 2, -3)   Ave Maria      Bassus   \n",
       "5       (-2, -2, -2, 2, -2)   (-2, -2, -2, 2, -2)   Ave Maria  [Superius]   \n",
       "6       (-2, -2, -2, 2, -2)   (-2, -2, -2, 2, -2)   Ave Maria       Altus   \n",
       "7       (-2, -2, -2, 2, -2)   (-2, -2, -2, 2, -2)   Ave Maria       Tenor   \n",
       "8       (-2, -2, -2, 2, -2)   (-2, -2, -2, 2, -2)   Ave Maria      Bassus   \n",
       "9          (1, 1, 2, 2, -3)      (1, 1, 2, 2, -3)   Ave Maria  [Superius]   \n",
       "10         (1, 1, 2, 2, -3)      (1, 1, 2, 2, -3)   Ave Maria       Altus   \n",
       "11         (1, 1, 2, 2, -3)      (1, 1, 2, 2, -3)   Ave Maria       Tenor   \n",
       "12         (1, 1, 2, 2, -3)      (1, 1, 2, 2, -3)   Ave Maria      Bassus   \n",
       "13       (2, 2, -3, -2, -2)    (2, 2, -3, -2, -2)   Ave Maria  [Superius]   \n",
       "14       (2, 2, -3, -2, -2)    (2, 2, -3, -2, -2)   Ave Maria  [Superius]   \n",
       "15       (2, 2, -3, -2, -2)    (2, 2, -3, -2, -2)   Ave Maria       Altus   \n",
       "16       (2, 2, -3, -2, -2)    (2, 2, -3, -2, -2)   Ave Maria       Tenor   \n",
       "17       (2, 2, -3, -2, -2)    (2, 2, -3, -2, -2)   Ave Maria      Bassus   \n",
       "18     (-2, -2, -2, -2, -2)  (-2, -2, -2, -2, -2)   Ave Maria  [Superius]   \n",
       "19     (-2, -2, -2, -2, -2)  (-2, -2, -2, -2, -2)   Ave Maria  [Superius]   \n",
       "20     (-2, -2, -2, -2, -2)  (-2, -2, -2, -2, -2)   Ave Maria  [Superius]   \n",
       "21     (-2, -2, -2, -2, -2)  (-2, -2, -2, -2, -2)   Ave Maria       Tenor   \n",
       "22         (2, 2, 1, 2, -2)      (2, 2, 1, 2, -2)   Ave Maria  [Superius]   \n",
       "23         (2, 2, 1, 2, -2)      (2, 2, 1, 2, -2)   Ave Maria       Altus   \n",
       "24         (2, 2, 1, 2, -2)      (2, 2, 1, 2, -2)   Ave Maria       Altus   \n",
       "25         (2, 2, 1, 2, -2)      (2, 2, 1, 2, -2)   Ave Maria       Altus   \n",
       "26         (2, 2, 1, 2, -2)      (2, 2, 1, 2, -2)   Ave Maria       Tenor   \n",
       "27         (2, 2, 1, 2, -2)      (2, 2, 1, 2, -2)   Ave Maria      Bassus   \n",
       "28        (1, 2, -2, 1, -2)     (1, 2, -2, 1, -2)   Ave Maria  [Superius]   \n",
       "29        (1, 2, -2, 1, -2)     (1, 2, -2, 1, -2)   Ave Maria       Altus   \n",
       "30        (1, 2, -2, 1, -2)     (1, 2, -2, 1, -2)   Ave Maria       Tenor   \n",
       "31        (1, 2, -2, 1, -2)     (1, 2, -2, 1, -2)   Ave Maria      Bassus   \n",
       "32        (2, -2, 1, -2, 2)     (2, -2, 1, -2, 2)   Ave Maria  [Superius]   \n",
       "33        (2, -2, 1, -2, 2)     (2, -2, 1, -2, 2)   Ave Maria       Altus   \n",
       "34        (2, -2, 1, -2, 2)     (2, -2, 1, -2, 2)   Ave Maria       Altus   \n",
       "35        (2, -2, 1, -2, 2)     (2, -2, 1, -2, 2)   Ave Maria       Altus   \n",
       "36        (2, -2, 1, -2, 2)     (2, -2, 1, -2, 2)   Ave Maria       Tenor   \n",
       "37        (2, -2, 1, -2, 2)     (2, -2, 1, -2, 2)   Ave Maria      Bassus   \n",
       "38        (1, 1, 2, -2, -2)     (1, 1, 2, -2, -2)   Ave Maria  [Superius]   \n",
       "39        (1, 1, 2, -2, -2)     (1, 1, 2, -2, -2)   Ave Maria  [Superius]   \n",
       "40        (1, 1, 2, -2, -2)     (1, 1, 2, -2, -2)   Ave Maria  [Superius]   \n",
       "41        (1, 1, 2, -2, -2)     (1, 1, 2, -2, -2)   Ave Maria  [Superius]   \n",
       "42        (1, 1, 2, -2, -2)     (1, 1, 2, -2, -2)   Ave Maria       Altus   \n",
       "43        (1, 1, 2, -2, -2)     (1, 1, 2, -2, -2)   Ave Maria       Altus   \n",
       "44        (1, 1, 2, -2, -2)     (1, 1, 2, -2, -2)   Ave Maria       Tenor   \n",
       "45        (1, 1, 2, -2, -2)     (1, 1, 2, -2, -2)   Ave Maria       Tenor   \n",
       "46        (1, 1, 2, -2, -2)     (1, 1, 2, -2, -2)   Ave Maria       Tenor   \n",
       "47       (1, 2, -2, -2, -2)    (1, 2, -2, -2, -2)   Ave Maria  [Superius]   \n",
       "48       (1, 2, -2, -2, -2)    (1, 2, -2, -2, -2)   Ave Maria  [Superius]   \n",
       "49       (1, 2, -2, -2, -2)    (1, 2, -2, -2, -2)   Ave Maria  [Superius]   \n",
       "\n",
       "    start_measure  start_beat  end_measure  end_beat  start_offset  \\\n",
       "0               1         1.0            4       1.0           0.0   \n",
       "1             105         3.0          107       3.5         884.0   \n",
       "2               3         1.0            6       1.0          16.0   \n",
       "3               5         1.0            8       1.0          32.0   \n",
       "4               7         1.0           10       1.0          48.0   \n",
       "5               8         1.0           10       2.0          56.0   \n",
       "6              10         1.0           12       2.5          72.0   \n",
       "7              12         1.0           14       2.0          88.0   \n",
       "8             139         4.0          141       1.0        1174.0   \n",
       "9              16         3.0           19       1.0         124.0   \n",
       "10             18         3.0           21       1.0         140.0   \n",
       "11             20         3.0           23       1.0         156.0   \n",
       "12             22         3.0           25       1.0         172.0   \n",
       "13             17         3.0           19       3.0         132.0   \n",
       "14             55         4.0           57       4.5         438.0   \n",
       "15             56         2.0           58       2.5         442.0   \n",
       "16             60         4.0           62       4.5         478.0   \n",
       "17             61         2.0           63       2.5         482.0   \n",
       "18             19         1.0           20       3.0         144.0   \n",
       "19             20         4.0           22       3.0         158.0   \n",
       "20             85         1.0           87       1.0         672.0   \n",
       "21             28         1.0           29       1.5         216.0   \n",
       "22             32         1.0           34       1.5         248.0   \n",
       "23             32         1.0           34       2.0         248.0   \n",
       "24            115         1.0          117       3.5         976.0   \n",
       "25            123         1.0          125       3.5        1040.0   \n",
       "26             36         1.0           38       1.5         280.0   \n",
       "27             36         1.0           38       2.0         280.0   \n",
       "28             33         1.0           34       4.0         256.0   \n",
       "29             79         1.0           80       4.0         624.0   \n",
       "30             37         1.0           38       4.0         288.0   \n",
       "31             82         1.0           83       4.0         648.0   \n",
       "32             33         3.0           35       1.0         260.0   \n",
       "33             37         1.0           39       1.0         288.0   \n",
       "34             79         3.0           81       1.0         628.0   \n",
       "35            139         1.0          141       3.0        1168.0   \n",
       "36             37         3.0           39       1.0         292.0   \n",
       "37             82         3.0           84       1.0         652.0   \n",
       "38             40         3.0           43       1.0         316.0   \n",
       "39             84         1.0           85       4.0         664.0   \n",
       "40            111         3.0          113       2.5         940.0   \n",
       "41            119         3.0          121       2.5        1004.0   \n",
       "42             94         1.0           95       3.0         744.0   \n",
       "43             98         1.0           99       3.0         792.0   \n",
       "44             40         3.0           43       1.0         316.0   \n",
       "45            114         1.0          116       4.5         968.0   \n",
       "46            122         1.0          124       4.5        1032.0   \n",
       "47             41         1.0           43       3.0         320.0   \n",
       "48             84         3.0           86       2.0         668.0   \n",
       "49            112         3.0          114       3.0         948.0   \n",
       "\n",
       "    end_offset                  note_durations  \\\n",
       "0         24.0  (4.0, 8.0, 4.0, 4.0, 4.0, 8.0)   \n",
       "1        910.0  (4.0, 8.0, 4.0, 4.0, 6.0, 2.0)   \n",
       "2         40.0  (4.0, 8.0, 4.0, 4.0, 4.0, 8.0)   \n",
       "3         56.0  (4.0, 8.0, 4.0, 4.0, 4.0, 8.0)   \n",
       "4         72.0  (4.0, 8.0, 4.0, 4.0, 4.0, 8.0)   \n",
       "5         74.0  (6.0, 2.0, 4.0, 4.0, 2.0, 2.0)   \n",
       "6         91.0  (6.0, 2.0, 4.0, 4.0, 3.0, 1.0)   \n",
       "7        106.0  (6.0, 2.0, 4.0, 4.0, 2.0, 2.0)   \n",
       "8       1184.0  (3.0, 1.0, 1.0, 1.0, 4.0, 8.0)   \n",
       "9        144.0  (6.0, 2.0, 4.0, 4.0, 4.0, 3.0)   \n",
       "10       160.0  (6.0, 2.0, 4.0, 4.0, 4.0, 8.0)   \n",
       "11       176.0  (6.0, 2.0, 4.0, 4.0, 4.0, 2.0)   \n",
       "12       192.0  (6.0, 2.0, 4.0, 4.0, 4.0, 8.0)   \n",
       "13       148.0  (4.0, 4.0, 4.0, 3.0, 1.0, 2.0)   \n",
       "14       455.0  (2.0, 4.0, 4.0, 6.0, 1.0, 1.0)   \n",
       "15       459.0  (2.0, 4.0, 4.0, 6.0, 1.0, 1.0)   \n",
       "16       495.0  (2.0, 4.0, 4.0, 6.0, 1.0, 1.0)   \n",
       "17       499.0  (2.0, 4.0, 4.0, 6.0, 1.0, 1.0)   \n",
       "18       156.0  (3.0, 1.0, 2.0, 2.0, 4.0, 2.0)   \n",
       "19       172.0  (3.0, 1.0, 4.0, 2.0, 4.0, 4.0)   \n",
       "20       688.0  (4.0, 2.0, 4.0, 2.0, 4.0, 4.0)   \n",
       "21       225.0  (3.0, 1.0, 1.0, 1.0, 3.0, 1.0)   \n",
       "22       265.0  (4.0, 4.0, 4.0, 2.0, 3.0, 1.0)   \n",
       "23       266.0  (4.0, 4.0, 4.0, 2.0, 4.0, 2.0)   \n",
       "24       989.0  (4.0, 2.0, 4.0, 2.0, 1.0, 1.0)   \n",
       "25      1053.0  (4.0, 2.0, 4.0, 2.0, 1.0, 1.0)   \n",
       "26       297.0  (4.0, 4.0, 4.0, 2.0, 3.0, 1.0)   \n",
       "27       298.0  (4.0, 4.0, 4.0, 2.0, 4.0, 2.0)   \n",
       "28       270.0  (4.0, 2.0, 3.0, 1.0, 4.0, 2.0)   \n",
       "29       638.0  (4.0, 2.0, 3.0, 1.0, 4.0, 2.0)   \n",
       "30       302.0  (4.0, 2.0, 3.0, 1.0, 4.0, 2.0)   \n",
       "31       662.0  (4.0, 2.0, 3.0, 1.0, 4.0, 2.0)   \n",
       "32       272.0  (2.0, 3.0, 1.0, 4.0, 2.0, 8.0)   \n",
       "33       304.0  (6.0, 3.0, 1.0, 4.0, 2.0, 8.0)   \n",
       "34       640.0  (2.0, 3.0, 1.0, 4.0, 2.0, 8.0)   \n",
       "35      1180.0  (2.0, 3.0, 1.0, 4.0, 2.0, 8.0)   \n",
       "36       304.0  (2.0, 3.0, 1.0, 4.0, 2.0, 8.0)   \n",
       "37       664.0  (2.0, 3.0, 1.0, 4.0, 2.0, 8.0)   \n",
       "38       336.0  (4.0, 4.0, 4.0, 6.0, 2.0, 4.0)   \n",
       "39       678.0  (4.0, 2.0, 2.0, 4.0, 2.0, 4.0)   \n",
       "40       963.0  (8.0, 4.0, 4.0, 6.0, 1.0, 1.0)   \n",
       "41      1027.0  (8.0, 4.0, 4.0, 6.0, 1.0, 1.0)   \n",
       "42       764.0  (4.0, 4.0, 4.0, 6.0, 2.0, 2.0)   \n",
       "43       812.0  (4.0, 4.0, 4.0, 6.0, 2.0, 2.0)   \n",
       "44       336.0  (4.0, 4.0, 4.0, 6.0, 2.0, 4.0)   \n",
       "45       991.0  (8.0, 4.0, 4.0, 6.0, 1.0, 1.0)   \n",
       "46      1055.0  (8.0, 4.0, 4.0, 6.0, 1.0, 1.0)   \n",
       "47       340.0  (4.0, 4.0, 6.0, 2.0, 4.0, 4.0)   \n",
       "48       682.0  (2.0, 2.0, 4.0, 2.0, 4.0, 2.0)   \n",
       "49       964.0  (4.0, 4.0, 6.0, 1.0, 1.0, 4.0)   \n",
       "\n",
       "                                                  ema  \\\n",
       "0     1-4/1/@1.0-end,@start-end,@start-end,@start-1.0   \n",
       "1            105-107/1/@3.0-end,@start-end,@start-3.5   \n",
       "2     3-6/2/@1.0-end,@start-end,@start-end,@start-1.0   \n",
       "3     5-8/3/@1.0-end,@start-end,@start-end,@start-1.0   \n",
       "4    7-10/4/@1.0-end,@start-end,@start-end,@start-1.0   \n",
       "5               8-10/1/@1.0-end,@start-end,@start-2.0   \n",
       "6              10-12/2/@1.0-end,@start-end,@start-2.5   \n",
       "7              12-14/3/@1.0-end,@start-end,@start-2.0   \n",
       "8            139-141/4/@4.0-end,@start-end,@start-1.0   \n",
       "9   16-19/1/@3.0-end,@start-end,@start-end,@start-1.0   \n",
       "10  18-21/2/@3.0-end,@start-end,@start-end,@start-1.0   \n",
       "11  20-23/3/@3.0-end,@start-end,@start-end,@start-1.0   \n",
       "12  22-25/4/@3.0-end,@start-end,@start-end,@start-1.0   \n",
       "13             17-19/1/@3.0-end,@start-end,@start-3.0   \n",
       "14             55-57/1/@4.0-end,@start-end,@start-4.5   \n",
       "15             56-58/2/@2.0-end,@start-end,@start-2.5   \n",
       "16             60-62/3/@4.0-end,@start-end,@start-4.5   \n",
       "17             61-63/4/@2.0-end,@start-end,@start-2.5   \n",
       "18                        19-20/1/@1.0-end,@start-3.0   \n",
       "19             20-22/1/@4.0-end,@start-end,@start-3.0   \n",
       "20             85-87/1/@1.0-end,@start-end,@start-1.0   \n",
       "21                        28-29/3/@1.0-end,@start-1.5   \n",
       "22             32-34/1/@1.0-end,@start-end,@start-1.5   \n",
       "23             32-34/2/@1.0-end,@start-end,@start-2.0   \n",
       "24           115-117/2/@1.0-end,@start-end,@start-3.5   \n",
       "25           123-125/2/@1.0-end,@start-end,@start-3.5   \n",
       "26             36-38/3/@1.0-end,@start-end,@start-1.5   \n",
       "27             36-38/4/@1.0-end,@start-end,@start-2.0   \n",
       "28                        33-34/1/@1.0-end,@start-4.0   \n",
       "29                        79-80/2/@1.0-end,@start-4.0   \n",
       "30                        37-38/3/@1.0-end,@start-4.0   \n",
       "31                        82-83/4/@1.0-end,@start-4.0   \n",
       "32             33-35/1/@3.0-end,@start-end,@start-1.0   \n",
       "33             37-39/2/@1.0-end,@start-end,@start-1.0   \n",
       "34             79-81/2/@3.0-end,@start-end,@start-1.0   \n",
       "35           139-141/2/@1.0-end,@start-end,@start-3.0   \n",
       "36             37-39/3/@3.0-end,@start-end,@start-1.0   \n",
       "37             82-84/4/@3.0-end,@start-end,@start-1.0   \n",
       "38  40-43/1/@3.0-end,@start-end,@start-end,@start-1.0   \n",
       "39                        84-85/1/@1.0-end,@start-4.0   \n",
       "40           111-113/1/@3.0-end,@start-end,@start-2.5   \n",
       "41           119-121/1/@3.0-end,@start-end,@start-2.5   \n",
       "42                        94-95/2/@1.0-end,@start-3.0   \n",
       "43                        98-99/2/@1.0-end,@start-3.0   \n",
       "44  40-43/3/@3.0-end,@start-end,@start-end,@start-1.0   \n",
       "45           114-116/3/@1.0-end,@start-end,@start-4.5   \n",
       "46           122-124/3/@1.0-end,@start-end,@start-4.5   \n",
       "47             41-43/1/@1.0-end,@start-end,@start-3.0   \n",
       "48             84-86/1/@3.0-end,@start-end,@start-2.0   \n",
       "49           112-114/1/@3.0-end,@start-end,@start-3.0   \n",
       "\n",
       "                                              ema_url predicted_type  \\\n",
       "0   https://ema.crimproject.org/https%3A%2F%2Fcrim...            PEN   \n",
       "1   https://ema.crimproject.org/https%3A%2F%2Fcrim...            PEN   \n",
       "2   https://ema.crimproject.org/https%3A%2F%2Fcrim...            PEN   \n",
       "3   https://ema.crimproject.org/https%3A%2F%2Fcrim...            PEN   \n",
       "4   https://ema.crimproject.org/https%3A%2F%2Fcrim...            PEN   \n",
       "5   https://ema.crimproject.org/https%3A%2F%2Fcrim...            PEN   \n",
       "6   https://ema.crimproject.org/https%3A%2F%2Fcrim...            PEN   \n",
       "7   https://ema.crimproject.org/https%3A%2F%2Fcrim...            PEN   \n",
       "8   https://ema.crimproject.org/https%3A%2F%2Fcrim...            PEN   \n",
       "9   https://ema.crimproject.org/https%3A%2F%2Fcrim...            PEN   \n",
       "10  https://ema.crimproject.org/https%3A%2F%2Fcrim...            PEN   \n",
       "11  https://ema.crimproject.org/https%3A%2F%2Fcrim...            PEN   \n",
       "12  https://ema.crimproject.org/https%3A%2F%2Fcrim...            PEN   \n",
       "13  https://ema.crimproject.org/https%3A%2F%2Fcrim...      Singleton   \n",
       "14  https://ema.crimproject.org/https%3A%2F%2Fcrim...      Singleton   \n",
       "15  https://ema.crimproject.org/https%3A%2F%2Fcrim...      Singleton   \n",
       "16  https://ema.crimproject.org/https%3A%2F%2Fcrim...      Singleton   \n",
       "17  https://ema.crimproject.org/https%3A%2F%2Fcrim...      Singleton   \n",
       "18  https://ema.crimproject.org/https%3A%2F%2Fcrim...             ID   \n",
       "19  https://ema.crimproject.org/https%3A%2F%2Fcrim...             ID   \n",
       "20  https://ema.crimproject.org/https%3A%2F%2Fcrim...             ID   \n",
       "21  https://ema.crimproject.org/https%3A%2F%2Fcrim...             ID   \n",
       "22  https://ema.crimproject.org/https%3A%2F%2Fcrim...             ID   \n",
       "23  https://ema.crimproject.org/https%3A%2F%2Fcrim...             ID   \n",
       "24  https://ema.crimproject.org/https%3A%2F%2Fcrim...             ID   \n",
       "25  https://ema.crimproject.org/https%3A%2F%2Fcrim...             ID   \n",
       "26  https://ema.crimproject.org/https%3A%2F%2Fcrim...             ID   \n",
       "27  https://ema.crimproject.org/https%3A%2F%2Fcrim...             ID   \n",
       "28  https://ema.crimproject.org/https%3A%2F%2Fcrim...             ID   \n",
       "29  https://ema.crimproject.org/https%3A%2F%2Fcrim...             ID   \n",
       "30  https://ema.crimproject.org/https%3A%2F%2Fcrim...             ID   \n",
       "31  https://ema.crimproject.org/https%3A%2F%2Fcrim...             ID   \n",
       "32  https://ema.crimproject.org/https%3A%2F%2Fcrim...           Fuga   \n",
       "33  https://ema.crimproject.org/https%3A%2F%2Fcrim...           Fuga   \n",
       "34  https://ema.crimproject.org/https%3A%2F%2Fcrim...           Fuga   \n",
       "35  https://ema.crimproject.org/https%3A%2F%2Fcrim...           Fuga   \n",
       "36  https://ema.crimproject.org/https%3A%2F%2Fcrim...           Fuga   \n",
       "37  https://ema.crimproject.org/https%3A%2F%2Fcrim...           Fuga   \n",
       "38  https://ema.crimproject.org/https%3A%2F%2Fcrim...             ID   \n",
       "39  https://ema.crimproject.org/https%3A%2F%2Fcrim...             ID   \n",
       "40  https://ema.crimproject.org/https%3A%2F%2Fcrim...             ID   \n",
       "41  https://ema.crimproject.org/https%3A%2F%2Fcrim...             ID   \n",
       "42  https://ema.crimproject.org/https%3A%2F%2Fcrim...             ID   \n",
       "43  https://ema.crimproject.org/https%3A%2F%2Fcrim...             ID   \n",
       "44  https://ema.crimproject.org/https%3A%2F%2Fcrim...             ID   \n",
       "45  https://ema.crimproject.org/https%3A%2F%2Fcrim...             ID   \n",
       "46  https://ema.crimproject.org/https%3A%2F%2Fcrim...             ID   \n",
       "47  https://ema.crimproject.org/https%3A%2F%2Fcrim...           Fuga   \n",
       "48  https://ema.crimproject.org/https%3A%2F%2Fcrim...           Fuga   \n",
       "49  https://ema.crimproject.org/https%3A%2F%2Fcrim...           Fuga   \n",
       "\n",
       "          offset_diffs  entry_number  \n",
       "0   [16.0, 16.0, 16.0]             1  \n",
       "1   [16.0, 16.0, 16.0]             2  \n",
       "2   [16.0, 16.0, 16.0]             3  \n",
       "3   [16.0, 16.0, 16.0]             4  \n",
       "4   [16.0, 16.0, 16.0]             5  \n",
       "5         [16.0, 16.0]             1  \n",
       "6         [16.0, 16.0]             2  \n",
       "7         [16.0, 16.0]             3  \n",
       "8         [16.0, 16.0]             4  \n",
       "9   [16.0, 16.0, 16.0]             1  \n",
       "10  [16.0, 16.0, 16.0]             2  \n",
       "11  [16.0, 16.0, 16.0]             3  \n",
       "12  [16.0, 16.0, 16.0]             4  \n",
       "13                  []             1  \n",
       "14                  []             2  \n",
       "15                  []             3  \n",
       "16                  []             4  \n",
       "17                  []             5  \n",
       "18              [14.0]             1  \n",
       "19              [14.0]             2  \n",
       "20              [14.0]             3  \n",
       "21              [14.0]             4  \n",
       "22    [0.0, 32.0, 0.0]             1  \n",
       "23    [0.0, 32.0, 0.0]             2  \n",
       "24    [0.0, 32.0, 0.0]             3  \n",
       "25    [0.0, 32.0, 0.0]             4  \n",
       "26    [0.0, 32.0, 0.0]             5  \n",
       "27    [0.0, 32.0, 0.0]             6  \n",
       "28              [32.0]             1  \n",
       "29              [32.0]             2  \n",
       "30              [32.0]             3  \n",
       "31              [32.0]             4  \n",
       "32         [28.0, 4.0]             1  \n",
       "33         [28.0, 4.0]             2  \n",
       "34         [28.0, 4.0]             3  \n",
       "35         [28.0, 4.0]             4  \n",
       "36         [28.0, 4.0]             5  \n",
       "37         [28.0, 4.0]             6  \n",
       "38               [0.0]             1  \n",
       "39               [0.0]             2  \n",
       "40               [0.0]             3  \n",
       "41               [0.0]             4  \n",
       "42               [0.0]             5  \n",
       "43               [0.0]             6  \n",
       "44               [0.0]             7  \n",
       "45               [0.0]             8  \n",
       "46               [0.0]             9  \n",
       "47   [32.0, 32.0, 0.0]             1  \n",
       "48   [32.0, 32.0, 0.0]             2  \n",
       "49   [32.0, 32.0, 0.0]             3  "
      ],
      "text/html": "<div>\n<style scoped>\n    .dataframe tbody tr th:only-of-type {\n        vertical-align: middle;\n    }\n\n    .dataframe tbody tr th {\n        vertical-align: top;\n    }\n\n    .dataframe thead th {\n        text-align: right;\n    }\n</style>\n<table border=\"1\" class=\"dataframe\">\n  <thead>\n    <tr style=\"text-align: right;\">\n      <th></th>\n      <th>pattern_generating_match</th>\n      <th>pattern_matched</th>\n      <th>piece_title</th>\n      <th>part</th>\n      <th>start_measure</th>\n      <th>start_beat</th>\n      <th>end_measure</th>\n      <th>end_beat</th>\n      <th>start_offset</th>\n      <th>end_offset</th>\n      <th>note_durations</th>\n      <th>ema</th>\n      <th>ema_url</th>\n      <th>predicted_type</th>\n      <th>offset_diffs</th>\n      <th>entry_number</th>\n    </tr>\n  </thead>\n  <tbody>\n    <tr>\n      <th>0</th>\n      <td>(4, 1, 2, 2, -3)</td>\n      <td>(4, 1, 2, 2, -3)</td>\n      <td>Ave Maria</td>\n      <td>[Superius]</td>\n      <td>1</td>\n      <td>1.0</td>\n      <td>4</td>\n      <td>1.0</td>\n      <td>0.0</td>\n      <td>24.0</td>\n      <td>(4.0, 8.0, 4.0, 4.0, 4.0, 8.0)</td>\n      <td>1-4/1/@1.0-end,@start-end,@start-end,@start-1.0</td>\n      <td>https://ema.crimproject.org/https%3A%2F%2Fcrim...</td>\n      <td>PEN</td>\n      <td>[16.0, 16.0, 16.0]</td>\n      <td>1</td>\n    </tr>\n    <tr>\n      <th>1</th>\n      <td>(4, 1, 2, 2, -3)</td>\n      <td>(4, 1, 2, 2, -3)</td>\n      <td>Ave Maria</td>\n      <td>[Superius]</td>\n      <td>105</td>\n      <td>3.0</td>\n      <td>107</td>\n      <td>3.5</td>\n      <td>884.0</td>\n      <td>910.0</td>\n      <td>(4.0, 8.0, 4.0, 4.0, 6.0, 2.0)</td>\n      <td>105-107/1/@3.0-end,@start-end,@start-3.5</td>\n      <td>https://ema.crimproject.org/https%3A%2F%2Fcrim...</td>\n      <td>PEN</td>\n      <td>[16.0, 16.0, 16.0]</td>\n      <td>2</td>\n    </tr>\n    <tr>\n      <th>2</th>\n      <td>(4, 1, 2, 2, -3)</td>\n      <td>(4, 1, 2, 2, -3)</td>\n      <td>Ave Maria</td>\n      <td>Altus</td>\n      <td>3</td>\n      <td>1.0</td>\n      <td>6</td>\n      <td>1.0</td>\n      <td>16.0</td>\n      <td>40.0</td>\n      <td>(4.0, 8.0, 4.0, 4.0, 4.0, 8.0)</td>\n      <td>3-6/2/@1.0-end,@start-end,@start-end,@start-1.0</td>\n      <td>https://ema.crimproject.org/https%3A%2F%2Fcrim...</td>\n      <td>PEN</td>\n      <td>[16.0, 16.0, 16.0]</td>\n      <td>3</td>\n    </tr>\n    <tr>\n      <th>3</th>\n      <td>(4, 1, 2, 2, -3)</td>\n      <td>(4, 1, 2, 2, -3)</td>\n      <td>Ave Maria</td>\n      <td>Tenor</td>\n      <td>5</td>\n      <td>1.0</td>\n      <td>8</td>\n      <td>1.0</td>\n      <td>32.0</td>\n      <td>56.0</td>\n      <td>(4.0, 8.0, 4.0, 4.0, 4.0, 8.0)</td>\n      <td>5-8/3/@1.0-end,@start-end,@start-end,@start-1.0</td>\n      <td>https://ema.crimproject.org/https%3A%2F%2Fcrim...</td>\n      <td>PEN</td>\n      <td>[16.0, 16.0, 16.0]</td>\n      <td>4</td>\n    </tr>\n    <tr>\n      <th>4</th>\n      <td>(4, 1, 2, 2, -3)</td>\n      <td>(4, 1, 2, 2, -3)</td>\n      <td>Ave Maria</td>\n      <td>Bassus</td>\n      <td>7</td>\n      <td>1.0</td>\n      <td>10</td>\n      <td>1.0</td>\n      <td>48.0</td>\n      <td>72.0</td>\n      <td>(4.0, 8.0, 4.0, 4.0, 4.0, 8.0)</td>\n      <td>7-10/4/@1.0-end,@start-end,@start-end,@start-1.0</td>\n      <td>https://ema.crimproject.org/https%3A%2F%2Fcrim...</td>\n      <td>PEN</td>\n      <td>[16.0, 16.0, 16.0]</td>\n      <td>5</td>\n    </tr>\n    <tr>\n      <th>5</th>\n      <td>(-2, -2, -2, 2, -2)</td>\n      <td>(-2, -2, -2, 2, -2)</td>\n      <td>Ave Maria</td>\n      <td>[Superius]</td>\n      <td>8</td>\n      <td>1.0</td>\n      <td>10</td>\n      <td>2.0</td>\n      <td>56.0</td>\n      <td>74.0</td>\n      <td>(6.0, 2.0, 4.0, 4.0, 2.0, 2.0)</td>\n      <td>8-10/1/@1.0-end,@start-end,@start-2.0</td>\n      <td>https://ema.crimproject.org/https%3A%2F%2Fcrim...</td>\n      <td>PEN</td>\n      <td>[16.0, 16.0]</td>\n      <td>1</td>\n    </tr>\n    <tr>\n      <th>6</th>\n      <td>(-2, -2, -2, 2, -2)</td>\n      <td>(-2, -2, -2, 2, -2)</td>\n      <td>Ave Maria</td>\n      <td>Altus</td>\n      <td>10</td>\n      <td>1.0</td>\n      <td>12</td>\n      <td>2.5</td>\n      <td>72.0</td>\n      <td>91.0</td>\n      <td>(6.0, 2.0, 4.0, 4.0, 3.0, 1.0)</td>\n      <td>10-12/2/@1.0-end,@start-end,@start-2.5</td>\n      <td>https://ema.crimproject.org/https%3A%2F%2Fcrim...</td>\n      <td>PEN</td>\n      <td>[16.0, 16.0]</td>\n      <td>2</td>\n    </tr>\n    <tr>\n      <th>7</th>\n      <td>(-2, -2, -2, 2, -2)</td>\n      <td>(-2, -2, -2, 2, -2)</td>\n      <td>Ave Maria</td>\n      <td>Tenor</td>\n      <td>12</td>\n      <td>1.0</td>\n      <td>14</td>\n      <td>2.0</td>\n      <td>88.0</td>\n      <td>106.0</td>\n      <td>(6.0, 2.0, 4.0, 4.0, 2.0, 2.0)</td>\n      <td>12-14/3/@1.0-end,@start-end,@start-2.0</td>\n      <td>https://ema.crimproject.org/https%3A%2F%2Fcrim...</td>\n      <td>PEN</td>\n      <td>[16.0, 16.0]</td>\n      <td>3</td>\n    </tr>\n    <tr>\n      <th>8</th>\n      <td>(-2, -2, -2, 2, -2)</td>\n      <td>(-2, -2, -2, 2, -2)</td>\n      <td>Ave Maria</td>\n      <td>Bassus</td>\n      <td>139</td>\n      <td>4.0</td>\n      <td>141</td>\n      <td>1.0</td>\n      <td>1174.0</td>\n      <td>1184.0</td>\n      <td>(3.0, 1.0, 1.0, 1.0, 4.0, 8.0)</td>\n      <td>139-141/4/@4.0-end,@start-end,@start-1.0</td>\n      <td>https://ema.crimproject.org/https%3A%2F%2Fcrim...</td>\n      <td>PEN</td>\n      <td>[16.0, 16.0]</td>\n      <td>4</td>\n    </tr>\n    <tr>\n      <th>9</th>\n      <td>(1, 1, 2, 2, -3)</td>\n      <td>(1, 1, 2, 2, -3)</td>\n      <td>Ave Maria</td>\n      <td>[Superius]</td>\n      <td>16</td>\n      <td>3.0</td>\n      <td>19</td>\n      <td>1.0</td>\n      <td>124.0</td>\n      <td>144.0</td>\n      <td>(6.0, 2.0, 4.0, 4.0, 4.0, 3.0)</td>\n      <td>16-19/1/@3.0-end,@start-end,@start-end,@start-1.0</td>\n      <td>https://ema.crimproject.org/https%3A%2F%2Fcrim...</td>\n      <td>PEN</td>\n      <td>[16.0, 16.0, 16.0]</td>\n      <td>1</td>\n    </tr>\n    <tr>\n      <th>10</th>\n      <td>(1, 1, 2, 2, -3)</td>\n      <td>(1, 1, 2, 2, -3)</td>\n      <td>Ave Maria</td>\n      <td>Altus</td>\n      <td>18</td>\n      <td>3.0</td>\n      <td>21</td>\n      <td>1.0</td>\n      <td>140.0</td>\n      <td>160.0</td>\n      <td>(6.0, 2.0, 4.0, 4.0, 4.0, 8.0)</td>\n      <td>18-21/2/@3.0-end,@start-end,@start-end,@start-1.0</td>\n      <td>https://ema.crimproject.org/https%3A%2F%2Fcrim...</td>\n      <td>PEN</td>\n      <td>[16.0, 16.0, 16.0]</td>\n      <td>2</td>\n    </tr>\n    <tr>\n      <th>11</th>\n      <td>(1, 1, 2, 2, -3)</td>\n      <td>(1, 1, 2, 2, -3)</td>\n      <td>Ave Maria</td>\n      <td>Tenor</td>\n      <td>20</td>\n      <td>3.0</td>\n      <td>23</td>\n      <td>1.0</td>\n      <td>156.0</td>\n      <td>176.0</td>\n      <td>(6.0, 2.0, 4.0, 4.0, 4.0, 2.0)</td>\n      <td>20-23/3/@3.0-end,@start-end,@start-end,@start-1.0</td>\n      <td>https://ema.crimproject.org/https%3A%2F%2Fcrim...</td>\n      <td>PEN</td>\n      <td>[16.0, 16.0, 16.0]</td>\n      <td>3</td>\n    </tr>\n    <tr>\n      <th>12</th>\n      <td>(1, 1, 2, 2, -3)</td>\n      <td>(1, 1, 2, 2, -3)</td>\n      <td>Ave Maria</td>\n      <td>Bassus</td>\n      <td>22</td>\n      <td>3.0</td>\n      <td>25</td>\n      <td>1.0</td>\n      <td>172.0</td>\n      <td>192.0</td>\n      <td>(6.0, 2.0, 4.0, 4.0, 4.0, 8.0)</td>\n      <td>22-25/4/@3.0-end,@start-end,@start-end,@start-1.0</td>\n      <td>https://ema.crimproject.org/https%3A%2F%2Fcrim...</td>\n      <td>PEN</td>\n      <td>[16.0, 16.0, 16.0]</td>\n      <td>4</td>\n    </tr>\n    <tr>\n      <th>13</th>\n      <td>(2, 2, -3, -2, -2)</td>\n      <td>(2, 2, -3, -2, -2)</td>\n      <td>Ave Maria</td>\n      <td>[Superius]</td>\n      <td>17</td>\n      <td>3.0</td>\n      <td>19</td>\n      <td>3.0</td>\n      <td>132.0</td>\n      <td>148.0</td>\n      <td>(4.0, 4.0, 4.0, 3.0, 1.0, 2.0)</td>\n      <td>17-19/1/@3.0-end,@start-end,@start-3.0</td>\n      <td>https://ema.crimproject.org/https%3A%2F%2Fcrim...</td>\n      <td>Singleton</td>\n      <td>[]</td>\n      <td>1</td>\n    </tr>\n    <tr>\n      <th>14</th>\n      <td>(2, 2, -3, -2, -2)</td>\n      <td>(2, 2, -3, -2, -2)</td>\n      <td>Ave Maria</td>\n      <td>[Superius]</td>\n      <td>55</td>\n      <td>4.0</td>\n      <td>57</td>\n      <td>4.5</td>\n      <td>438.0</td>\n      <td>455.0</td>\n      <td>(2.0, 4.0, 4.0, 6.0, 1.0, 1.0)</td>\n      <td>55-57/1/@4.0-end,@start-end,@start-4.5</td>\n      <td>https://ema.crimproject.org/https%3A%2F%2Fcrim...</td>\n      <td>Singleton</td>\n      <td>[]</td>\n      <td>2</td>\n    </tr>\n    <tr>\n      <th>15</th>\n      <td>(2, 2, -3, -2, -2)</td>\n      <td>(2, 2, -3, -2, -2)</td>\n      <td>Ave Maria</td>\n      <td>Altus</td>\n      <td>56</td>\n      <td>2.0</td>\n      <td>58</td>\n      <td>2.5</td>\n      <td>442.0</td>\n      <td>459.0</td>\n      <td>(2.0, 4.0, 4.0, 6.0, 1.0, 1.0)</td>\n      <td>56-58/2/@2.0-end,@start-end,@start-2.5</td>\n      <td>https://ema.crimproject.org/https%3A%2F%2Fcrim...</td>\n      <td>Singleton</td>\n      <td>[]</td>\n      <td>3</td>\n    </tr>\n    <tr>\n      <th>16</th>\n      <td>(2, 2, -3, -2, -2)</td>\n      <td>(2, 2, -3, -2, -2)</td>\n      <td>Ave Maria</td>\n      <td>Tenor</td>\n      <td>60</td>\n      <td>4.0</td>\n      <td>62</td>\n      <td>4.5</td>\n      <td>478.0</td>\n      <td>495.0</td>\n      <td>(2.0, 4.0, 4.0, 6.0, 1.0, 1.0)</td>\n      <td>60-62/3/@4.0-end,@start-end,@start-4.5</td>\n      <td>https://ema.crimproject.org/https%3A%2F%2Fcrim...</td>\n      <td>Singleton</td>\n      <td>[]</td>\n      <td>4</td>\n    </tr>\n    <tr>\n      <th>17</th>\n      <td>(2, 2, -3, -2, -2)</td>\n      <td>(2, 2, -3, -2, -2)</td>\n      <td>Ave Maria</td>\n      <td>Bassus</td>\n      <td>61</td>\n      <td>2.0</td>\n      <td>63</td>\n      <td>2.5</td>\n      <td>482.0</td>\n      <td>499.0</td>\n      <td>(2.0, 4.0, 4.0, 6.0, 1.0, 1.0)</td>\n      <td>61-63/4/@2.0-end,@start-end,@start-2.5</td>\n      <td>https://ema.crimproject.org/https%3A%2F%2Fcrim...</td>\n      <td>Singleton</td>\n      <td>[]</td>\n      <td>5</td>\n    </tr>\n    <tr>\n      <th>18</th>\n      <td>(-2, -2, -2, -2, -2)</td>\n      <td>(-2, -2, -2, -2, -2)</td>\n      <td>Ave Maria</td>\n      <td>[Superius]</td>\n      <td>19</td>\n      <td>1.0</td>\n      <td>20</td>\n      <td>3.0</td>\n      <td>144.0</td>\n      <td>156.0</td>\n      <td>(3.0, 1.0, 2.0, 2.0, 4.0, 2.0)</td>\n      <td>19-20/1/@1.0-end,@start-3.0</td>\n      <td>https://ema.crimproject.org/https%3A%2F%2Fcrim...</td>\n      <td>ID</td>\n      <td>[14.0]</td>\n      <td>1</td>\n    </tr>\n    <tr>\n      <th>19</th>\n      <td>(-2, -2, -2, -2, -2)</td>\n      <td>(-2, -2, -2, -2, -2)</td>\n      <td>Ave Maria</td>\n      <td>[Superius]</td>\n      <td>20</td>\n      <td>4.0</td>\n      <td>22</td>\n      <td>3.0</td>\n      <td>158.0</td>\n      <td>172.0</td>\n      <td>(3.0, 1.0, 4.0, 2.0, 4.0, 4.0)</td>\n      <td>20-22/1/@4.0-end,@start-end,@start-3.0</td>\n      <td>https://ema.crimproject.org/https%3A%2F%2Fcrim...</td>\n      <td>ID</td>\n      <td>[14.0]</td>\n      <td>2</td>\n    </tr>\n    <tr>\n      <th>20</th>\n      <td>(-2, -2, -2, -2, -2)</td>\n      <td>(-2, -2, -2, -2, -2)</td>\n      <td>Ave Maria</td>\n      <td>[Superius]</td>\n      <td>85</td>\n      <td>1.0</td>\n      <td>87</td>\n      <td>1.0</td>\n      <td>672.0</td>\n      <td>688.0</td>\n      <td>(4.0, 2.0, 4.0, 2.0, 4.0, 4.0)</td>\n      <td>85-87/1/@1.0-end,@start-end,@start-1.0</td>\n      <td>https://ema.crimproject.org/https%3A%2F%2Fcrim...</td>\n      <td>ID</td>\n      <td>[14.0]</td>\n      <td>3</td>\n    </tr>\n    <tr>\n      <th>21</th>\n      <td>(-2, -2, -2, -2, -2)</td>\n      <td>(-2, -2, -2, -2, -2)</td>\n      <td>Ave Maria</td>\n      <td>Tenor</td>\n      <td>28</td>\n      <td>1.0</td>\n      <td>29</td>\n      <td>1.5</td>\n      <td>216.0</td>\n      <td>225.0</td>\n      <td>(3.0, 1.0, 1.0, 1.0, 3.0, 1.0)</td>\n      <td>28-29/3/@1.0-end,@start-1.5</td>\n      <td>https://ema.crimproject.org/https%3A%2F%2Fcrim...</td>\n      <td>ID</td>\n      <td>[14.0]</td>\n      <td>4</td>\n    </tr>\n    <tr>\n      <th>22</th>\n      <td>(2, 2, 1, 2, -2)</td>\n      <td>(2, 2, 1, 2, -2)</td>\n      <td>Ave Maria</td>\n      <td>[Superius]</td>\n      <td>32</td>\n      <td>1.0</td>\n      <td>34</td>\n      <td>1.5</td>\n      <td>248.0</td>\n      <td>265.0</td>\n      <td>(4.0, 4.0, 4.0, 2.0, 3.0, 1.0)</td>\n      <td>32-34/1/@1.0-end,@start-end,@start-1.5</td>\n      <td>https://ema.crimproject.org/https%3A%2F%2Fcrim...</td>\n      <td>ID</td>\n      <td>[0.0, 32.0, 0.0]</td>\n      <td>1</td>\n    </tr>\n    <tr>\n      <th>23</th>\n      <td>(2, 2, 1, 2, -2)</td>\n      <td>(2, 2, 1, 2, -2)</td>\n      <td>Ave Maria</td>\n      <td>Altus</td>\n      <td>32</td>\n      <td>1.0</td>\n      <td>34</td>\n      <td>2.0</td>\n      <td>248.0</td>\n      <td>266.0</td>\n      <td>(4.0, 4.0, 4.0, 2.0, 4.0, 2.0)</td>\n      <td>32-34/2/@1.0-end,@start-end,@start-2.0</td>\n      <td>https://ema.crimproject.org/https%3A%2F%2Fcrim...</td>\n      <td>ID</td>\n      <td>[0.0, 32.0, 0.0]</td>\n      <td>2</td>\n    </tr>\n    <tr>\n      <th>24</th>\n      <td>(2, 2, 1, 2, -2)</td>\n      <td>(2, 2, 1, 2, -2)</td>\n      <td>Ave Maria</td>\n      <td>Altus</td>\n      <td>115</td>\n      <td>1.0</td>\n      <td>117</td>\n      <td>3.5</td>\n      <td>976.0</td>\n      <td>989.0</td>\n      <td>(4.0, 2.0, 4.0, 2.0, 1.0, 1.0)</td>\n      <td>115-117/2/@1.0-end,@start-end,@start-3.5</td>\n      <td>https://ema.crimproject.org/https%3A%2F%2Fcrim...</td>\n      <td>ID</td>\n      <td>[0.0, 32.0, 0.0]</td>\n      <td>3</td>\n    </tr>\n    <tr>\n      <th>25</th>\n      <td>(2, 2, 1, 2, -2)</td>\n      <td>(2, 2, 1, 2, -2)</td>\n      <td>Ave Maria</td>\n      <td>Altus</td>\n      <td>123</td>\n      <td>1.0</td>\n      <td>125</td>\n      <td>3.5</td>\n      <td>1040.0</td>\n      <td>1053.0</td>\n      <td>(4.0, 2.0, 4.0, 2.0, 1.0, 1.0)</td>\n      <td>123-125/2/@1.0-end,@start-end,@start-3.5</td>\n      <td>https://ema.crimproject.org/https%3A%2F%2Fcrim...</td>\n      <td>ID</td>\n      <td>[0.0, 32.0, 0.0]</td>\n      <td>4</td>\n    </tr>\n    <tr>\n      <th>26</th>\n      <td>(2, 2, 1, 2, -2)</td>\n      <td>(2, 2, 1, 2, -2)</td>\n      <td>Ave Maria</td>\n      <td>Tenor</td>\n      <td>36</td>\n      <td>1.0</td>\n      <td>38</td>\n      <td>1.5</td>\n      <td>280.0</td>\n      <td>297.0</td>\n      <td>(4.0, 4.0, 4.0, 2.0, 3.0, 1.0)</td>\n      <td>36-38/3/@1.0-end,@start-end,@start-1.5</td>\n      <td>https://ema.crimproject.org/https%3A%2F%2Fcrim...</td>\n      <td>ID</td>\n      <td>[0.0, 32.0, 0.0]</td>\n      <td>5</td>\n    </tr>\n    <tr>\n      <th>27</th>\n      <td>(2, 2, 1, 2, -2)</td>\n      <td>(2, 2, 1, 2, -2)</td>\n      <td>Ave Maria</td>\n      <td>Bassus</td>\n      <td>36</td>\n      <td>1.0</td>\n      <td>38</td>\n      <td>2.0</td>\n      <td>280.0</td>\n      <td>298.0</td>\n      <td>(4.0, 4.0, 4.0, 2.0, 4.0, 2.0)</td>\n      <td>36-38/4/@1.0-end,@start-end,@start-2.0</td>\n      <td>https://ema.crimproject.org/https%3A%2F%2Fcrim...</td>\n      <td>ID</td>\n      <td>[0.0, 32.0, 0.0]</td>\n      <td>6</td>\n    </tr>\n    <tr>\n      <th>28</th>\n      <td>(1, 2, -2, 1, -2)</td>\n      <td>(1, 2, -2, 1, -2)</td>\n      <td>Ave Maria</td>\n      <td>[Superius]</td>\n      <td>33</td>\n      <td>1.0</td>\n      <td>34</td>\n      <td>4.0</td>\n      <td>256.0</td>\n      <td>270.0</td>\n      <td>(4.0, 2.0, 3.0, 1.0, 4.0, 2.0)</td>\n      <td>33-34/1/@1.0-end,@start-4.0</td>\n      <td>https://ema.crimproject.org/https%3A%2F%2Fcrim...</td>\n      <td>ID</td>\n      <td>[32.0]</td>\n      <td>1</td>\n    </tr>\n    <tr>\n      <th>29</th>\n      <td>(1, 2, -2, 1, -2)</td>\n      <td>(1, 2, -2, 1, -2)</td>\n      <td>Ave Maria</td>\n      <td>Altus</td>\n      <td>79</td>\n      <td>1.0</td>\n      <td>80</td>\n      <td>4.0</td>\n      <td>624.0</td>\n      <td>638.0</td>\n      <td>(4.0, 2.0, 3.0, 1.0, 4.0, 2.0)</td>\n      <td>79-80/2/@1.0-end,@start-4.0</td>\n      <td>https://ema.crimproject.org/https%3A%2F%2Fcrim...</td>\n      <td>ID</td>\n      <td>[32.0]</td>\n      <td>2</td>\n    </tr>\n    <tr>\n      <th>30</th>\n      <td>(1, 2, -2, 1, -2)</td>\n      <td>(1, 2, -2, 1, -2)</td>\n      <td>Ave Maria</td>\n      <td>Tenor</td>\n      <td>37</td>\n      <td>1.0</td>\n      <td>38</td>\n      <td>4.0</td>\n      <td>288.0</td>\n      <td>302.0</td>\n      <td>(4.0, 2.0, 3.0, 1.0, 4.0, 2.0)</td>\n      <td>37-38/3/@1.0-end,@start-4.0</td>\n      <td>https://ema.crimproject.org/https%3A%2F%2Fcrim...</td>\n      <td>ID</td>\n      <td>[32.0]</td>\n      <td>3</td>\n    </tr>\n    <tr>\n      <th>31</th>\n      <td>(1, 2, -2, 1, -2)</td>\n      <td>(1, 2, -2, 1, -2)</td>\n      <td>Ave Maria</td>\n      <td>Bassus</td>\n      <td>82</td>\n      <td>1.0</td>\n      <td>83</td>\n      <td>4.0</td>\n      <td>648.0</td>\n      <td>662.0</td>\n      <td>(4.0, 2.0, 3.0, 1.0, 4.0, 2.0)</td>\n      <td>82-83/4/@1.0-end,@start-4.0</td>\n      <td>https://ema.crimproject.org/https%3A%2F%2Fcrim...</td>\n      <td>ID</td>\n      <td>[32.0]</td>\n      <td>4</td>\n    </tr>\n    <tr>\n      <th>32</th>\n      <td>(2, -2, 1, -2, 2)</td>\n      <td>(2, -2, 1, -2, 2)</td>\n      <td>Ave Maria</td>\n      <td>[Superius]</td>\n      <td>33</td>\n      <td>3.0</td>\n      <td>35</td>\n      <td>1.0</td>\n      <td>260.0</td>\n      <td>272.0</td>\n      <td>(2.0, 3.0, 1.0, 4.0, 2.0, 8.0)</td>\n      <td>33-35/1/@3.0-end,@start-end,@start-1.0</td>\n      <td>https://ema.crimproject.org/https%3A%2F%2Fcrim...</td>\n      <td>Fuga</td>\n      <td>[28.0, 4.0]</td>\n      <td>1</td>\n    </tr>\n    <tr>\n      <th>33</th>\n      <td>(2, -2, 1, -2, 2)</td>\n      <td>(2, -2, 1, -2, 2)</td>\n      <td>Ave Maria</td>\n      <td>Altus</td>\n      <td>37</td>\n      <td>1.0</td>\n      <td>39</td>\n      <td>1.0</td>\n      <td>288.0</td>\n      <td>304.0</td>\n      <td>(6.0, 3.0, 1.0, 4.0, 2.0, 8.0)</td>\n      <td>37-39/2/@1.0-end,@start-end,@start-1.0</td>\n      <td>https://ema.crimproject.org/https%3A%2F%2Fcrim...</td>\n      <td>Fuga</td>\n      <td>[28.0, 4.0]</td>\n      <td>2</td>\n    </tr>\n    <tr>\n      <th>34</th>\n      <td>(2, -2, 1, -2, 2)</td>\n      <td>(2, -2, 1, -2, 2)</td>\n      <td>Ave Maria</td>\n      <td>Altus</td>\n      <td>79</td>\n      <td>3.0</td>\n      <td>81</td>\n      <td>1.0</td>\n      <td>628.0</td>\n      <td>640.0</td>\n      <td>(2.0, 3.0, 1.0, 4.0, 2.0, 8.0)</td>\n      <td>79-81/2/@3.0-end,@start-end,@start-1.0</td>\n      <td>https://ema.crimproject.org/https%3A%2F%2Fcrim...</td>\n      <td>Fuga</td>\n      <td>[28.0, 4.0]</td>\n      <td>3</td>\n    </tr>\n    <tr>\n      <th>35</th>\n      <td>(2, -2, 1, -2, 2)</td>\n      <td>(2, -2, 1, -2, 2)</td>\n      <td>Ave Maria</td>\n      <td>Altus</td>\n      <td>139</td>\n      <td>1.0</td>\n      <td>141</td>\n      <td>3.0</td>\n      <td>1168.0</td>\n      <td>1180.0</td>\n      <td>(2.0, 3.0, 1.0, 4.0, 2.0, 8.0)</td>\n      <td>139-141/2/@1.0-end,@start-end,@start-3.0</td>\n      <td>https://ema.crimproject.org/https%3A%2F%2Fcrim...</td>\n      <td>Fuga</td>\n      <td>[28.0, 4.0]</td>\n      <td>4</td>\n    </tr>\n    <tr>\n      <th>36</th>\n      <td>(2, -2, 1, -2, 2)</td>\n      <td>(2, -2, 1, -2, 2)</td>\n      <td>Ave Maria</td>\n      <td>Tenor</td>\n      <td>37</td>\n      <td>3.0</td>\n      <td>39</td>\n      <td>1.0</td>\n      <td>292.0</td>\n      <td>304.0</td>\n      <td>(2.0, 3.0, 1.0, 4.0, 2.0, 8.0)</td>\n      <td>37-39/3/@3.0-end,@start-end,@start-1.0</td>\n      <td>https://ema.crimproject.org/https%3A%2F%2Fcrim...</td>\n      <td>Fuga</td>\n      <td>[28.0, 4.0]</td>\n      <td>5</td>\n    </tr>\n    <tr>\n      <th>37</th>\n      <td>(2, -2, 1, -2, 2)</td>\n      <td>(2, -2, 1, -2, 2)</td>\n      <td>Ave Maria</td>\n      <td>Bassus</td>\n      <td>82</td>\n      <td>3.0</td>\n      <td>84</td>\n      <td>1.0</td>\n      <td>652.0</td>\n      <td>664.0</td>\n      <td>(2.0, 3.0, 1.0, 4.0, 2.0, 8.0)</td>\n      <td>82-84/4/@3.0-end,@start-end,@start-1.0</td>\n      <td>https://ema.crimproject.org/https%3A%2F%2Fcrim...</td>\n      <td>Fuga</td>\n      <td>[28.0, 4.0]</td>\n      <td>6</td>\n    </tr>\n    <tr>\n      <th>38</th>\n      <td>(1, 1, 2, -2, -2)</td>\n      <td>(1, 1, 2, -2, -2)</td>\n      <td>Ave Maria</td>\n      <td>[Superius]</td>\n      <td>40</td>\n      <td>3.0</td>\n      <td>43</td>\n      <td>1.0</td>\n      <td>316.0</td>\n      <td>336.0</td>\n      <td>(4.0, 4.0, 4.0, 6.0, 2.0, 4.0)</td>\n      <td>40-43/1/@3.0-end,@start-end,@start-end,@start-1.0</td>\n      <td>https://ema.crimproject.org/https%3A%2F%2Fcrim...</td>\n      <td>ID</td>\n      <td>[0.0]</td>\n      <td>1</td>\n    </tr>\n    <tr>\n      <th>39</th>\n      <td>(1, 1, 2, -2, -2)</td>\n      <td>(1, 1, 2, -2, -2)</td>\n      <td>Ave Maria</td>\n      <td>[Superius]</td>\n      <td>84</td>\n      <td>1.0</td>\n      <td>85</td>\n      <td>4.0</td>\n      <td>664.0</td>\n      <td>678.0</td>\n      <td>(4.0, 2.0, 2.0, 4.0, 2.0, 4.0)</td>\n      <td>84-85/1/@1.0-end,@start-4.0</td>\n      <td>https://ema.crimproject.org/https%3A%2F%2Fcrim...</td>\n      <td>ID</td>\n      <td>[0.0]</td>\n      <td>2</td>\n    </tr>\n    <tr>\n      <th>40</th>\n      <td>(1, 1, 2, -2, -2)</td>\n      <td>(1, 1, 2, -2, -2)</td>\n      <td>Ave Maria</td>\n      <td>[Superius]</td>\n      <td>111</td>\n      <td>3.0</td>\n      <td>113</td>\n      <td>2.5</td>\n      <td>940.0</td>\n      <td>963.0</td>\n      <td>(8.0, 4.0, 4.0, 6.0, 1.0, 1.0)</td>\n      <td>111-113/1/@3.0-end,@start-end,@start-2.5</td>\n      <td>https://ema.crimproject.org/https%3A%2F%2Fcrim...</td>\n      <td>ID</td>\n      <td>[0.0]</td>\n      <td>3</td>\n    </tr>\n    <tr>\n      <th>41</th>\n      <td>(1, 1, 2, -2, -2)</td>\n      <td>(1, 1, 2, -2, -2)</td>\n      <td>Ave Maria</td>\n      <td>[Superius]</td>\n      <td>119</td>\n      <td>3.0</td>\n      <td>121</td>\n      <td>2.5</td>\n      <td>1004.0</td>\n      <td>1027.0</td>\n      <td>(8.0, 4.0, 4.0, 6.0, 1.0, 1.0)</td>\n      <td>119-121/1/@3.0-end,@start-end,@start-2.5</td>\n      <td>https://ema.crimproject.org/https%3A%2F%2Fcrim...</td>\n      <td>ID</td>\n      <td>[0.0]</td>\n      <td>4</td>\n    </tr>\n    <tr>\n      <th>42</th>\n      <td>(1, 1, 2, -2, -2)</td>\n      <td>(1, 1, 2, -2, -2)</td>\n      <td>Ave Maria</td>\n      <td>Altus</td>\n      <td>94</td>\n      <td>1.0</td>\n      <td>95</td>\n      <td>3.0</td>\n      <td>744.0</td>\n      <td>764.0</td>\n      <td>(4.0, 4.0, 4.0, 6.0, 2.0, 2.0)</td>\n      <td>94-95/2/@1.0-end,@start-3.0</td>\n      <td>https://ema.crimproject.org/https%3A%2F%2Fcrim...</td>\n      <td>ID</td>\n      <td>[0.0]</td>\n      <td>5</td>\n    </tr>\n    <tr>\n      <th>43</th>\n      <td>(1, 1, 2, -2, -2)</td>\n      <td>(1, 1, 2, -2, -2)</td>\n      <td>Ave Maria</td>\n      <td>Altus</td>\n      <td>98</td>\n      <td>1.0</td>\n      <td>99</td>\n      <td>3.0</td>\n      <td>792.0</td>\n      <td>812.0</td>\n      <td>(4.0, 4.0, 4.0, 6.0, 2.0, 2.0)</td>\n      <td>98-99/2/@1.0-end,@start-3.0</td>\n      <td>https://ema.crimproject.org/https%3A%2F%2Fcrim...</td>\n      <td>ID</td>\n      <td>[0.0]</td>\n      <td>6</td>\n    </tr>\n    <tr>\n      <th>44</th>\n      <td>(1, 1, 2, -2, -2)</td>\n      <td>(1, 1, 2, -2, -2)</td>\n      <td>Ave Maria</td>\n      <td>Tenor</td>\n      <td>40</td>\n      <td>3.0</td>\n      <td>43</td>\n      <td>1.0</td>\n      <td>316.0</td>\n      <td>336.0</td>\n      <td>(4.0, 4.0, 4.0, 6.0, 2.0, 4.0)</td>\n      <td>40-43/3/@3.0-end,@start-end,@start-end,@start-1.0</td>\n      <td>https://ema.crimproject.org/https%3A%2F%2Fcrim...</td>\n      <td>ID</td>\n      <td>[0.0]</td>\n      <td>7</td>\n    </tr>\n    <tr>\n      <th>45</th>\n      <td>(1, 1, 2, -2, -2)</td>\n      <td>(1, 1, 2, -2, -2)</td>\n      <td>Ave Maria</td>\n      <td>Tenor</td>\n      <td>114</td>\n      <td>1.0</td>\n      <td>116</td>\n      <td>4.5</td>\n      <td>968.0</td>\n      <td>991.0</td>\n      <td>(8.0, 4.0, 4.0, 6.0, 1.0, 1.0)</td>\n      <td>114-116/3/@1.0-end,@start-end,@start-4.5</td>\n      <td>https://ema.crimproject.org/https%3A%2F%2Fcrim...</td>\n      <td>ID</td>\n      <td>[0.0]</td>\n      <td>8</td>\n    </tr>\n    <tr>\n      <th>46</th>\n      <td>(1, 1, 2, -2, -2)</td>\n      <td>(1, 1, 2, -2, -2)</td>\n      <td>Ave Maria</td>\n      <td>Tenor</td>\n      <td>122</td>\n      <td>1.0</td>\n      <td>124</td>\n      <td>4.5</td>\n      <td>1032.0</td>\n      <td>1055.0</td>\n      <td>(8.0, 4.0, 4.0, 6.0, 1.0, 1.0)</td>\n      <td>122-124/3/@1.0-end,@start-end,@start-4.5</td>\n      <td>https://ema.crimproject.org/https%3A%2F%2Fcrim...</td>\n      <td>ID</td>\n      <td>[0.0]</td>\n      <td>9</td>\n    </tr>\n    <tr>\n      <th>47</th>\n      <td>(1, 2, -2, -2, -2)</td>\n      <td>(1, 2, -2, -2, -2)</td>\n      <td>Ave Maria</td>\n      <td>[Superius]</td>\n      <td>41</td>\n      <td>1.0</td>\n      <td>43</td>\n      <td>3.0</td>\n      <td>320.0</td>\n      <td>340.0</td>\n      <td>(4.0, 4.0, 6.0, 2.0, 4.0, 4.0)</td>\n      <td>41-43/1/@1.0-end,@start-end,@start-3.0</td>\n      <td>https://ema.crimproject.org/https%3A%2F%2Fcrim...</td>\n      <td>Fuga</td>\n      <td>[32.0, 32.0, 0.0]</td>\n      <td>1</td>\n    </tr>\n    <tr>\n      <th>48</th>\n      <td>(1, 2, -2, -2, -2)</td>\n      <td>(1, 2, -2, -2, -2)</td>\n      <td>Ave Maria</td>\n      <td>[Superius]</td>\n      <td>84</td>\n      <td>3.0</td>\n      <td>86</td>\n      <td>2.0</td>\n      <td>668.0</td>\n      <td>682.0</td>\n      <td>(2.0, 2.0, 4.0, 2.0, 4.0, 2.0)</td>\n      <td>84-86/1/@3.0-end,@start-end,@start-2.0</td>\n      <td>https://ema.crimproject.org/https%3A%2F%2Fcrim...</td>\n      <td>Fuga</td>\n      <td>[32.0, 32.0, 0.0]</td>\n      <td>2</td>\n    </tr>\n    <tr>\n      <th>49</th>\n      <td>(1, 2, -2, -2, -2)</td>\n      <td>(1, 2, -2, -2, -2)</td>\n      <td>Ave Maria</td>\n      <td>[Superius]</td>\n      <td>112</td>\n      <td>3.0</td>\n      <td>114</td>\n      <td>3.0</td>\n      <td>948.0</td>\n      <td>964.0</td>\n      <td>(4.0, 4.0, 6.0, 1.0, 1.0, 4.0)</td>\n      <td>112-114/1/@3.0-end,@start-end,@start-3.0</td>\n      <td>https://ema.crimproject.org/https%3A%2F%2Fcrim...</td>\n      <td>Fuga</td>\n      <td>[32.0, 32.0, 0.0]</td>\n      <td>3</td>\n    </tr>\n  </tbody>\n</table>\n</div>"
     },
     "metadata": {},
     "execution_count": 13
    }
   ],
   "source": [
    "dff = output_exact.applymap(lists_to_tuples_a).groupby(\"pattern_generating_match\").apply(predict_type_a)[:50]\n",
    "# dff[[\"pattern_generating_match\", \"start_offset\", \"predicted_type\"]]\n",
    "dff\n"
   ]
  },
  {
   "cell_type": "code",
   "execution_count": null,
   "metadata": {},
   "outputs": [],
   "source": [
    "[]\n",
    "\n",
    "res_list = [i for i, value in enumerate(test_list) if value == 3] \n"
   ]
  },
  {
   "cell_type": "code",
   "execution_count": 14,
   "metadata": {},
   "outputs": [
    {
     "output_type": "execute_result",
     "data": {
      "text/plain": [
       "  piece_title       pattern_matched predicted_type  start_offset_Altus  \\\n",
       "0   Ave Maria   (-2, -2, -2, 2, -2)            PEN           72.000000   \n",
       "1   Ave Maria      (1, 1, 2, 2, -3)            PEN          140.000000   \n",
       "2   Ave Maria      (2, 2, 1, 2, -2)             ID          754.666667   \n",
       "3   Ave Maria     (1, 2, -2, 1, -2)             ID          624.000000   \n",
       "4   Ave Maria     (2, -2, 1, -2, 2)           Fuga          694.666667   \n",
       "5   Ave Maria    (2, 2, -3, -2, -2)      Singleton          442.000000   \n",
       "6   Ave Maria  (-2, -2, -2, -2, -2)             ID                 NaN   \n",
       "7   Ave Maria      (4, 1, 2, 2, -3)            PEN           16.000000   \n",
       "8   Ave Maria    (1, 2, -2, -2, -2)           Fuga                 NaN   \n",
       "9   Ave Maria     (1, 1, 2, -2, -2)             ID          768.000000   \n",
       "\n",
       "   start_offset_Bassus  start_offset_Tenor  start_offset_[Superius]  \n",
       "0               1174.0                88.0                56.000000  \n",
       "1                172.0               156.0               124.000000  \n",
       "2                280.0               280.0               248.000000  \n",
       "3                648.0               288.0               256.000000  \n",
       "4                652.0               292.0               260.000000  \n",
       "5                482.0               478.0               285.000000  \n",
       "6                  NaN               216.0               324.666667  \n",
       "7                 48.0                32.0               442.000000  \n",
       "8                  NaN                 NaN               645.333333  \n",
       "9                  NaN               772.0               731.000000  "
      ],
      "text/html": "<div>\n<style scoped>\n    .dataframe tbody tr th:only-of-type {\n        vertical-align: middle;\n    }\n\n    .dataframe tbody tr th {\n        vertical-align: top;\n    }\n\n    .dataframe thead th {\n        text-align: right;\n    }\n</style>\n<table border=\"1\" class=\"dataframe\">\n  <thead>\n    <tr style=\"text-align: right;\">\n      <th></th>\n      <th>piece_title</th>\n      <th>pattern_matched</th>\n      <th>predicted_type</th>\n      <th>start_offset_Altus</th>\n      <th>start_offset_Bassus</th>\n      <th>start_offset_Tenor</th>\n      <th>start_offset_[Superius]</th>\n    </tr>\n  </thead>\n  <tbody>\n    <tr>\n      <th>0</th>\n      <td>Ave Maria</td>\n      <td>(-2, -2, -2, 2, -2)</td>\n      <td>PEN</td>\n      <td>72.000000</td>\n      <td>1174.0</td>\n      <td>88.0</td>\n      <td>56.000000</td>\n    </tr>\n    <tr>\n      <th>1</th>\n      <td>Ave Maria</td>\n      <td>(1, 1, 2, 2, -3)</td>\n      <td>PEN</td>\n      <td>140.000000</td>\n      <td>172.0</td>\n      <td>156.0</td>\n      <td>124.000000</td>\n    </tr>\n    <tr>\n      <th>2</th>\n      <td>Ave Maria</td>\n      <td>(2, 2, 1, 2, -2)</td>\n      <td>ID</td>\n      <td>754.666667</td>\n      <td>280.0</td>\n      <td>280.0</td>\n      <td>248.000000</td>\n    </tr>\n    <tr>\n      <th>3</th>\n      <td>Ave Maria</td>\n      <td>(1, 2, -2, 1, -2)</td>\n      <td>ID</td>\n      <td>624.000000</td>\n      <td>648.0</td>\n      <td>288.0</td>\n      <td>256.000000</td>\n    </tr>\n    <tr>\n      <th>4</th>\n      <td>Ave Maria</td>\n      <td>(2, -2, 1, -2, 2)</td>\n      <td>Fuga</td>\n      <td>694.666667</td>\n      <td>652.0</td>\n      <td>292.0</td>\n      <td>260.000000</td>\n    </tr>\n    <tr>\n      <th>5</th>\n      <td>Ave Maria</td>\n      <td>(2, 2, -3, -2, -2)</td>\n      <td>Singleton</td>\n      <td>442.000000</td>\n      <td>482.0</td>\n      <td>478.0</td>\n      <td>285.000000</td>\n    </tr>\n    <tr>\n      <th>6</th>\n      <td>Ave Maria</td>\n      <td>(-2, -2, -2, -2, -2)</td>\n      <td>ID</td>\n      <td>NaN</td>\n      <td>NaN</td>\n      <td>216.0</td>\n      <td>324.666667</td>\n    </tr>\n    <tr>\n      <th>7</th>\n      <td>Ave Maria</td>\n      <td>(4, 1, 2, 2, -3)</td>\n      <td>PEN</td>\n      <td>16.000000</td>\n      <td>48.0</td>\n      <td>32.0</td>\n      <td>442.000000</td>\n    </tr>\n    <tr>\n      <th>8</th>\n      <td>Ave Maria</td>\n      <td>(1, 2, -2, -2, -2)</td>\n      <td>Fuga</td>\n      <td>NaN</td>\n      <td>NaN</td>\n      <td>NaN</td>\n      <td>645.333333</td>\n    </tr>\n    <tr>\n      <th>9</th>\n      <td>Ave Maria</td>\n      <td>(1, 1, 2, -2, -2)</td>\n      <td>ID</td>\n      <td>768.000000</td>\n      <td>NaN</td>\n      <td>772.0</td>\n      <td>731.000000</td>\n    </tr>\n  </tbody>\n</table>\n</div>"
     },
     "metadata": {},
     "execution_count": 14
    }
   ],
   "source": [
    "wide_df = dff.pivot_table(index=[\"piece_title\", \"pattern_matched\", \"predicted_type\"],\n",
    "            columns=[\"part\"],\n",
    "            values=[\"start_offset\"],\n",
    "            )\n",
    "\n",
    "wide_df.columns = [f\"{a}_{b}\" for a, b in wide_df.columns]\n",
    "wide_df = wide_df.sort_values(\"start_offset_[Superius]\")\n",
    "wide_df = wide_df.reset_index()\n",
    "\n",
    "wide_df.head(50)"
   ]
  },
  {
   "cell_type": "code",
   "execution_count": null,
   "metadata": {},
   "outputs": [],
   "source": []
  },
  {
   "cell_type": "markdown",
   "metadata": {},
   "source": [
    "# Durational Ratios\n",
    "\n",
    "#### This Function Calculates the Ratios of the Durations in each Match"
   ]
  },
  {
   "cell_type": "code",
   "execution_count": 140,
   "metadata": {},
   "outputs": [],
   "source": [
    "# makes pairs of ratio strings\n",
    "\n",
    "def pairwise(iterable):\n",
    "    \"s -> (s0,s1), (s1,s2), (s2, s3), ...\"\n",
    "    a, b = tee(iterable)\n",
    "    next(b, None)\n",
    "    return zip(a, b)\n",
    "\n",
    "def get_ratios(input_list):\n",
    "    ratio_pairs = []\n",
    "    for a, b in pairwise(input_list):\n",
    "        ratio_pairs.append(b / a)\n",
    "    return ratio_pairs\n"
   ]
  },
  {
   "cell_type": "markdown",
   "metadata": {},
   "source": [
    "#### Now call the function to operate on the RESULTS file from earlier"
   ]
  },
  {
   "cell_type": "code",
   "execution_count": 141,
   "metadata": {},
   "outputs": [
    {
     "output_type": "execute_result",
     "data": {
      "text/plain": [
       "  pattern_generating_match   pattern_matched piece_title        part  \\\n",
       "0         (4, 1, 2, 2, -3)  [4, 1, 2, 2, -3]   Ave Maria  [Superius]   \n",
       "1         (4, 1, 2, 2, -3)  [4, 1, 2, 2, -3]   Ave Maria  [Superius]   \n",
       "2         (4, 1, 2, 2, -3)  [4, 1, 2, 2, -3]   Ave Maria       Altus   \n",
       "3         (4, 1, 2, 2, -3)  [4, 1, 2, 2, -3]   Ave Maria       Tenor   \n",
       "4         (4, 1, 2, 2, -3)  [4, 1, 2, 2, -3]   Ave Maria      Bassus   \n",
       "\n",
       "   start_measure  start_beat  end_measure  end_beat  start_offset  end_offset  \\\n",
       "0              1         1.0            4       1.0           0.0        24.0   \n",
       "1            105         3.0          107       3.5         884.0       910.0   \n",
       "2              3         1.0            6       1.0          16.0        40.0   \n",
       "3              5         1.0            8       1.0          32.0        56.0   \n",
       "4              7         1.0           10       1.0          48.0        72.0   \n",
       "\n",
       "                   note_durations                           duration_ratios  \n",
       "0  [4.0, 8.0, 4.0, 4.0, 4.0, 8.0]                 [2.0, 0.5, 1.0, 1.0, 2.0]  \n",
       "1  [4.0, 8.0, 4.0, 4.0, 6.0, 2.0]  [2.0, 0.5, 1.0, 1.5, 0.3333333333333333]  \n",
       "2  [4.0, 8.0, 4.0, 4.0, 4.0, 8.0]                 [2.0, 0.5, 1.0, 1.0, 2.0]  \n",
       "3  [4.0, 8.0, 4.0, 4.0, 4.0, 8.0]                 [2.0, 0.5, 1.0, 1.0, 2.0]  \n",
       "4  [4.0, 8.0, 4.0, 4.0, 4.0, 8.0]                 [2.0, 0.5, 1.0, 1.0, 2.0]  "
      ],
      "text/html": "<div>\n<style scoped>\n    .dataframe tbody tr th:only-of-type {\n        vertical-align: middle;\n    }\n\n    .dataframe tbody tr th {\n        vertical-align: top;\n    }\n\n    .dataframe thead th {\n        text-align: right;\n    }\n</style>\n<table border=\"1\" class=\"dataframe\">\n  <thead>\n    <tr style=\"text-align: right;\">\n      <th></th>\n      <th>pattern_generating_match</th>\n      <th>pattern_matched</th>\n      <th>piece_title</th>\n      <th>part</th>\n      <th>start_measure</th>\n      <th>start_beat</th>\n      <th>end_measure</th>\n      <th>end_beat</th>\n      <th>start_offset</th>\n      <th>end_offset</th>\n      <th>note_durations</th>\n      <th>duration_ratios</th>\n    </tr>\n  </thead>\n  <tbody>\n    <tr>\n      <th>0</th>\n      <td>(4, 1, 2, 2, -3)</td>\n      <td>[4, 1, 2, 2, -3]</td>\n      <td>Ave Maria</td>\n      <td>[Superius]</td>\n      <td>1</td>\n      <td>1.0</td>\n      <td>4</td>\n      <td>1.0</td>\n      <td>0.0</td>\n      <td>24.0</td>\n      <td>[4.0, 8.0, 4.0, 4.0, 4.0, 8.0]</td>\n      <td>[2.0, 0.5, 1.0, 1.0, 2.0]</td>\n    </tr>\n    <tr>\n      <th>1</th>\n      <td>(4, 1, 2, 2, -3)</td>\n      <td>[4, 1, 2, 2, -3]</td>\n      <td>Ave Maria</td>\n      <td>[Superius]</td>\n      <td>105</td>\n      <td>3.0</td>\n      <td>107</td>\n      <td>3.5</td>\n      <td>884.0</td>\n      <td>910.0</td>\n      <td>[4.0, 8.0, 4.0, 4.0, 6.0, 2.0]</td>\n      <td>[2.0, 0.5, 1.0, 1.5, 0.3333333333333333]</td>\n    </tr>\n    <tr>\n      <th>2</th>\n      <td>(4, 1, 2, 2, -3)</td>\n      <td>[4, 1, 2, 2, -3]</td>\n      <td>Ave Maria</td>\n      <td>Altus</td>\n      <td>3</td>\n      <td>1.0</td>\n      <td>6</td>\n      <td>1.0</td>\n      <td>16.0</td>\n      <td>40.0</td>\n      <td>[4.0, 8.0, 4.0, 4.0, 4.0, 8.0]</td>\n      <td>[2.0, 0.5, 1.0, 1.0, 2.0]</td>\n    </tr>\n    <tr>\n      <th>3</th>\n      <td>(4, 1, 2, 2, -3)</td>\n      <td>[4, 1, 2, 2, -3]</td>\n      <td>Ave Maria</td>\n      <td>Tenor</td>\n      <td>5</td>\n      <td>1.0</td>\n      <td>8</td>\n      <td>1.0</td>\n      <td>32.0</td>\n      <td>56.0</td>\n      <td>[4.0, 8.0, 4.0, 4.0, 4.0, 8.0]</td>\n      <td>[2.0, 0.5, 1.0, 1.0, 2.0]</td>\n    </tr>\n    <tr>\n      <th>4</th>\n      <td>(4, 1, 2, 2, -3)</td>\n      <td>[4, 1, 2, 2, -3]</td>\n      <td>Ave Maria</td>\n      <td>Bassus</td>\n      <td>7</td>\n      <td>1.0</td>\n      <td>10</td>\n      <td>1.0</td>\n      <td>48.0</td>\n      <td>72.0</td>\n      <td>[4.0, 8.0, 4.0, 4.0, 4.0, 8.0]</td>\n      <td>[2.0, 0.5, 1.0, 1.0, 2.0]</td>\n    </tr>\n  </tbody>\n</table>\n</div>"
     },
     "metadata": {},
     "execution_count": 141
    }
   ],
   "source": [
    "# calculates 'duration ratios' for each soggetto, then adds this to the DF\n",
    "\n",
    "results[\"duration_ratios\"] = results.note_durations.apply(get_ratios)\n",
    "short_results = results.drop(columns=[\"ema_url\", \"ema\"])\n",
    "short_results.head()"
   ]
  },
  {
   "cell_type": "code",
   "execution_count": 161,
   "metadata": {},
   "outputs": [
    {
     "output_type": "execute_result",
     "data": {
      "text/plain": [
       "   piece_title pattern_generating_match        part  start_measure  \\\n",
       "0    Ave Maria         (4, 1, 2, 2, -3)  [Superius]              1   \n",
       "1    Ave Maria         (4, 1, 2, 2, -3)  [Superius]            105   \n",
       "2    Ave Maria         (4, 1, 2, 2, -3)       Altus              3   \n",
       "3    Ave Maria         (4, 1, 2, 2, -3)       Tenor              5   \n",
       "4    Ave Maria         (4, 1, 2, 2, -3)      Bassus              7   \n",
       "5    Ave Maria      (-2, -2, -2, 2, -2)  [Superius]              8   \n",
       "6    Ave Maria      (-2, -2, -2, 2, -2)       Altus             10   \n",
       "7    Ave Maria      (-2, -2, -2, 2, -2)       Altus            132   \n",
       "8    Ave Maria      (-2, -2, -2, 2, -2)       Tenor             12   \n",
       "9    Ave Maria      (-2, -2, -2, 2, -2)      Bassus             91   \n",
       "10   Ave Maria      (-2, -2, -2, 2, -2)      Bassus            139   \n",
       "11   Ave Maria       (-2, -2, 2, -2, 4)  [Superius]              8   \n",
       "12   Ave Maria       (-2, -2, 2, -2, 4)       Altus             10   \n",
       "13   Ave Maria       (-2, -2, 2, -2, 4)       Tenor             12   \n",
       "14   Ave Maria       (-2, 2, -2, 4, -2)  [Superius]              9   \n",
       "15   Ave Maria       (-2, 2, -2, 4, -2)       Altus             11   \n",
       "16   Ave Maria       (-2, 2, -2, 4, -2)       Tenor             13   \n",
       "17   Ave Maria       (2, -2, 4, -2, -2)  [Superius]              9   \n",
       "18   Ave Maria       (2, -2, 4, -2, -2)       Altus             11   \n",
       "19   Ave Maria       (2, -2, 4, -2, -2)       Tenor             13   \n",
       "\n",
       "    start_offset                  predicted_type  \n",
       "0            0.0  Fuga [16.0, 16.0, 16.0, 836.0]  \n",
       "1          884.0  Fuga [16.0, 16.0, 16.0, 836.0]  \n",
       "2           16.0  Fuga [16.0, 16.0, 16.0, 836.0]  \n",
       "3           32.0  Fuga [16.0, 16.0, 16.0, 836.0]  \n",
       "4           48.0  Fuga [16.0, 16.0, 16.0, 836.0]  \n",
       "5           56.0        Fuga [16.0, 16.0, 634.0]  \n",
       "6           72.0        Fuga [16.0, 16.0, 634.0]  \n",
       "7         1109.0        Fuga [16.0, 16.0, 634.0]  \n",
       "8           88.0        Fuga [16.0, 16.0, 634.0]  \n",
       "9          722.0        Fuga [16.0, 16.0, 634.0]  \n",
       "10        1174.0        Fuga [16.0, 16.0, 634.0]  \n",
       "11          62.0                PEN [16.0, 16.0]  \n",
       "12          78.0                PEN [16.0, 16.0]  \n",
       "13          94.0                PEN [16.0, 16.0]  \n",
       "14          64.0                PEN [16.0, 16.0]  \n",
       "15          80.0                PEN [16.0, 16.0]  \n",
       "16          96.0                PEN [16.0, 16.0]  \n",
       "17          68.0                PEN [16.0, 16.0]  \n",
       "18          84.0                PEN [16.0, 16.0]  \n",
       "19         100.0                PEN [16.0, 16.0]  "
      ],
      "text/html": "<div>\n<style scoped>\n    .dataframe tbody tr th:only-of-type {\n        vertical-align: middle;\n    }\n\n    .dataframe tbody tr th {\n        vertical-align: top;\n    }\n\n    .dataframe thead th {\n        text-align: right;\n    }\n</style>\n<table border=\"1\" class=\"dataframe\">\n  <thead>\n    <tr style=\"text-align: right;\">\n      <th></th>\n      <th>piece_title</th>\n      <th>pattern_generating_match</th>\n      <th>part</th>\n      <th>start_measure</th>\n      <th>start_offset</th>\n      <th>predicted_type</th>\n    </tr>\n  </thead>\n  <tbody>\n    <tr>\n      <th>0</th>\n      <td>Ave Maria</td>\n      <td>(4, 1, 2, 2, -3)</td>\n      <td>[Superius]</td>\n      <td>1</td>\n      <td>0.0</td>\n      <td>Fuga [16.0, 16.0, 16.0, 836.0]</td>\n    </tr>\n    <tr>\n      <th>1</th>\n      <td>Ave Maria</td>\n      <td>(4, 1, 2, 2, -3)</td>\n      <td>[Superius]</td>\n      <td>105</td>\n      <td>884.0</td>\n      <td>Fuga [16.0, 16.0, 16.0, 836.0]</td>\n    </tr>\n    <tr>\n      <th>2</th>\n      <td>Ave Maria</td>\n      <td>(4, 1, 2, 2, -3)</td>\n      <td>Altus</td>\n      <td>3</td>\n      <td>16.0</td>\n      <td>Fuga [16.0, 16.0, 16.0, 836.0]</td>\n    </tr>\n    <tr>\n      <th>3</th>\n      <td>Ave Maria</td>\n      <td>(4, 1, 2, 2, -3)</td>\n      <td>Tenor</td>\n      <td>5</td>\n      <td>32.0</td>\n      <td>Fuga [16.0, 16.0, 16.0, 836.0]</td>\n    </tr>\n    <tr>\n      <th>4</th>\n      <td>Ave Maria</td>\n      <td>(4, 1, 2, 2, -3)</td>\n      <td>Bassus</td>\n      <td>7</td>\n      <td>48.0</td>\n      <td>Fuga [16.0, 16.0, 16.0, 836.0]</td>\n    </tr>\n    <tr>\n      <th>5</th>\n      <td>Ave Maria</td>\n      <td>(-2, -2, -2, 2, -2)</td>\n      <td>[Superius]</td>\n      <td>8</td>\n      <td>56.0</td>\n      <td>Fuga [16.0, 16.0, 634.0]</td>\n    </tr>\n    <tr>\n      <th>6</th>\n      <td>Ave Maria</td>\n      <td>(-2, -2, -2, 2, -2)</td>\n      <td>Altus</td>\n      <td>10</td>\n      <td>72.0</td>\n      <td>Fuga [16.0, 16.0, 634.0]</td>\n    </tr>\n    <tr>\n      <th>7</th>\n      <td>Ave Maria</td>\n      <td>(-2, -2, -2, 2, -2)</td>\n      <td>Altus</td>\n      <td>132</td>\n      <td>1109.0</td>\n      <td>Fuga [16.0, 16.0, 634.0]</td>\n    </tr>\n    <tr>\n      <th>8</th>\n      <td>Ave Maria</td>\n      <td>(-2, -2, -2, 2, -2)</td>\n      <td>Tenor</td>\n      <td>12</td>\n      <td>88.0</td>\n      <td>Fuga [16.0, 16.0, 634.0]</td>\n    </tr>\n    <tr>\n      <th>9</th>\n      <td>Ave Maria</td>\n      <td>(-2, -2, -2, 2, -2)</td>\n      <td>Bassus</td>\n      <td>91</td>\n      <td>722.0</td>\n      <td>Fuga [16.0, 16.0, 634.0]</td>\n    </tr>\n    <tr>\n      <th>10</th>\n      <td>Ave Maria</td>\n      <td>(-2, -2, -2, 2, -2)</td>\n      <td>Bassus</td>\n      <td>139</td>\n      <td>1174.0</td>\n      <td>Fuga [16.0, 16.0, 634.0]</td>\n    </tr>\n    <tr>\n      <th>11</th>\n      <td>Ave Maria</td>\n      <td>(-2, -2, 2, -2, 4)</td>\n      <td>[Superius]</td>\n      <td>8</td>\n      <td>62.0</td>\n      <td>PEN [16.0, 16.0]</td>\n    </tr>\n    <tr>\n      <th>12</th>\n      <td>Ave Maria</td>\n      <td>(-2, -2, 2, -2, 4)</td>\n      <td>Altus</td>\n      <td>10</td>\n      <td>78.0</td>\n      <td>PEN [16.0, 16.0]</td>\n    </tr>\n    <tr>\n      <th>13</th>\n      <td>Ave Maria</td>\n      <td>(-2, -2, 2, -2, 4)</td>\n      <td>Tenor</td>\n      <td>12</td>\n      <td>94.0</td>\n      <td>PEN [16.0, 16.0]</td>\n    </tr>\n    <tr>\n      <th>14</th>\n      <td>Ave Maria</td>\n      <td>(-2, 2, -2, 4, -2)</td>\n      <td>[Superius]</td>\n      <td>9</td>\n      <td>64.0</td>\n      <td>PEN [16.0, 16.0]</td>\n    </tr>\n    <tr>\n      <th>15</th>\n      <td>Ave Maria</td>\n      <td>(-2, 2, -2, 4, -2)</td>\n      <td>Altus</td>\n      <td>11</td>\n      <td>80.0</td>\n      <td>PEN [16.0, 16.0]</td>\n    </tr>\n    <tr>\n      <th>16</th>\n      <td>Ave Maria</td>\n      <td>(-2, 2, -2, 4, -2)</td>\n      <td>Tenor</td>\n      <td>13</td>\n      <td>96.0</td>\n      <td>PEN [16.0, 16.0]</td>\n    </tr>\n    <tr>\n      <th>17</th>\n      <td>Ave Maria</td>\n      <td>(2, -2, 4, -2, -2)</td>\n      <td>[Superius]</td>\n      <td>9</td>\n      <td>68.0</td>\n      <td>PEN [16.0, 16.0]</td>\n    </tr>\n    <tr>\n      <th>18</th>\n      <td>Ave Maria</td>\n      <td>(2, -2, 4, -2, -2)</td>\n      <td>Altus</td>\n      <td>11</td>\n      <td>84.0</td>\n      <td>PEN [16.0, 16.0]</td>\n    </tr>\n    <tr>\n      <th>19</th>\n      <td>Ave Maria</td>\n      <td>(2, -2, 4, -2, -2)</td>\n      <td>Tenor</td>\n      <td>13</td>\n      <td>100.0</td>\n      <td>PEN [16.0, 16.0]</td>\n    </tr>\n  </tbody>\n</table>\n</div>"
     },
     "metadata": {},
     "execution_count": 161
    }
   ],
   "source": [
    "df_s = df[[\"piece_title\", \"pattern_generating_match\", \"part\", \"start_measure\", \"start_offset\", \"predicted_type\"]]\n",
    "df_s.head(20)"
   ]
  },
  {
   "cell_type": "markdown",
   "metadata": {},
   "source": [
    "## Group by the Pattern Generating Match\n",
    "- Each has its own string of durations, and duration ratios\n",
    "- and then we compare the ratios to get the differences\n",
    "- the \"list(combinations)\" method takes care of building the pairs, using data from our dataframe 'results'"
   ]
  },
  {
   "cell_type": "code",
   "execution_count": 149,
   "metadata": {},
   "outputs": [],
   "source": [
    "def compare_ratios(ratios_1, ratios_2):\n",
    "    \n",
    "    ## division of lists \n",
    "    # using zip() + list comprehension \n",
    "    diffs = [i - j for i, j in zip(ratios_1, ratios_2)] \n",
    "    abs_diffs = [abs(ele) for ele in diffs] \n",
    "    sum_diffs = sum(abs_diffs)\n",
    "\n",
    "    return sum_diffs\n",
    "\n",
    "#results[\"Pattern_Generating_Match\"] = results[\"Pattern_Generating_Match\"].apply(tuple) \n",
    "\n",
    "def get_ratio_distances(results, pattern_col, output_cols):\n",
    "    \n",
    "    matches = []\n",
    "\n",
    "    for name, group in results.groupby(pattern_col):\n",
    "\n",
    "        ratio_pairs = list(combinations(group.index.values, 2))\n",
    "\n",
    "        for a, b in ratio_pairs:\n",
    "            \n",
    "            a_match = results.loc[a]\n",
    "            b_match = results.loc[b]\n",
    "            \n",
    "            sum_diffs = compare_ratios(a_match.duration_ratios, b_match.duration_ratios)\n",
    "            \n",
    "            match_dict = {\n",
    "                \"pattern\": name,\n",
    "                \"sum_diffs\": sum_diffs\n",
    "            }\n",
    "            \n",
    "            for col in output_cols:\n",
    "                match_dict.update({\n",
    "                    f\"match_1_{col}\": a_match[col],\n",
    "                    f\"match_2_{col}\": b_match[col]\n",
    "                })\n",
    "                \n",
    "            matches.append(match_dict)\n",
    "            \n",
    "    return pd.DataFrame(matches)"
   ]
  },
  {
   "cell_type": "markdown",
   "metadata": {},
   "source": [
    "### Now Run the Function to get the 'edit distances' for the durations of matching patterns"
   ]
  },
  {
   "cell_type": "code",
   "execution_count": 151,
   "metadata": {},
   "outputs": [
    {
     "output_type": "execute_result",
     "data": {
      "text/plain": [
       "                   pattern  sum_diffs match_1_piece_title match_2_piece_title  \\\n",
       "0        (-5, 1, 2, 1, -5)   0.000000           Ave Maria           Ave Maria   \n",
       "1     (-3, -2, -2, -2, -2)   5.583333           Ave Maria           Ave Maria   \n",
       "2     (-3, -2, -2, -2, -2)   7.583333           Ave Maria           Ave Maria   \n",
       "3     (-3, -2, -2, -2, -2)   5.416667           Ave Maria           Ave Maria   \n",
       "4     (-3, -2, -2, -2, -2)   3.750000           Ave Maria           Ave Maria   \n",
       "...                    ...        ...                 ...                 ...   \n",
       "4082   (6, -2, -2, -2, -2)   5.416667           Ave Maria           Ave Maria   \n",
       "4083   (6, -2, -2, -2, -2)   6.583333           Ave Maria           Ave Maria   \n",
       "4084   (6, -2, -2, -2, -2)   6.416667           Ave Maria           Ave Maria   \n",
       "4085   (6, -2, -2, -2, -2)   0.833333           Ave Maria           Ave Maria   \n",
       "4086   (8, -2, -2, -2, -2)   3.416667           Ave Maria           Ave Maria   \n",
       "\n",
       "     match_1_part match_2_part  match_1_start_measure  match_2_start_measure  \\\n",
       "0          Bassus       Bassus                     94                     98   \n",
       "1      [Superius]   [Superius]                     18                     19   \n",
       "2      [Superius]   [Superius]                     18                     20   \n",
       "3      [Superius]   [Superius]                     18                     85   \n",
       "4      [Superius]        Altus                     18                    131   \n",
       "...           ...          ...                    ...                    ...   \n",
       "4082   [Superius]       Bassus                     20                     90   \n",
       "4083        Altus       Bassus                     27                     88   \n",
       "4084        Altus       Bassus                     27                     90   \n",
       "4085       Bassus       Bassus                     88                     90   \n",
       "4086        Tenor        Tenor                     27                     75   \n",
       "\n",
       "      match_1_start_offset  match_2_start_offset  \n",
       "0                    756.0                 804.0  \n",
       "1                    140.0                 144.0  \n",
       "2                    140.0                 158.0  \n",
       "3                    140.0                 672.0  \n",
       "4                    140.0                1104.0  \n",
       "...                    ...                   ...  \n",
       "4082                 156.0                 716.0  \n",
       "4083                 211.0                 700.0  \n",
       "4084                 211.0                 716.0  \n",
       "4085                 700.0                 716.0  \n",
       "4086                 212.0                 594.0  \n",
       "\n",
       "[4087 rows x 10 columns]"
      ],
      "text/html": "<div>\n<style scoped>\n    .dataframe tbody tr th:only-of-type {\n        vertical-align: middle;\n    }\n\n    .dataframe tbody tr th {\n        vertical-align: top;\n    }\n\n    .dataframe thead th {\n        text-align: right;\n    }\n</style>\n<table border=\"1\" class=\"dataframe\">\n  <thead>\n    <tr style=\"text-align: right;\">\n      <th></th>\n      <th>pattern</th>\n      <th>sum_diffs</th>\n      <th>match_1_piece_title</th>\n      <th>match_2_piece_title</th>\n      <th>match_1_part</th>\n      <th>match_2_part</th>\n      <th>match_1_start_measure</th>\n      <th>match_2_start_measure</th>\n      <th>match_1_start_offset</th>\n      <th>match_2_start_offset</th>\n    </tr>\n  </thead>\n  <tbody>\n    <tr>\n      <th>0</th>\n      <td>(-5, 1, 2, 1, -5)</td>\n      <td>0.000000</td>\n      <td>Ave Maria</td>\n      <td>Ave Maria</td>\n      <td>Bassus</td>\n      <td>Bassus</td>\n      <td>94</td>\n      <td>98</td>\n      <td>756.0</td>\n      <td>804.0</td>\n    </tr>\n    <tr>\n      <th>1</th>\n      <td>(-3, -2, -2, -2, -2)</td>\n      <td>5.583333</td>\n      <td>Ave Maria</td>\n      <td>Ave Maria</td>\n      <td>[Superius]</td>\n      <td>[Superius]</td>\n      <td>18</td>\n      <td>19</td>\n      <td>140.0</td>\n      <td>144.0</td>\n    </tr>\n    <tr>\n      <th>2</th>\n      <td>(-3, -2, -2, -2, -2)</td>\n      <td>7.583333</td>\n      <td>Ave Maria</td>\n      <td>Ave Maria</td>\n      <td>[Superius]</td>\n      <td>[Superius]</td>\n      <td>18</td>\n      <td>20</td>\n      <td>140.0</td>\n      <td>158.0</td>\n    </tr>\n    <tr>\n      <th>3</th>\n      <td>(-3, -2, -2, -2, -2)</td>\n      <td>5.416667</td>\n      <td>Ave Maria</td>\n      <td>Ave Maria</td>\n      <td>[Superius]</td>\n      <td>[Superius]</td>\n      <td>18</td>\n      <td>85</td>\n      <td>140.0</td>\n      <td>672.0</td>\n    </tr>\n    <tr>\n      <th>4</th>\n      <td>(-3, -2, -2, -2, -2)</td>\n      <td>3.750000</td>\n      <td>Ave Maria</td>\n      <td>Ave Maria</td>\n      <td>[Superius]</td>\n      <td>Altus</td>\n      <td>18</td>\n      <td>131</td>\n      <td>140.0</td>\n      <td>1104.0</td>\n    </tr>\n    <tr>\n      <th>...</th>\n      <td>...</td>\n      <td>...</td>\n      <td>...</td>\n      <td>...</td>\n      <td>...</td>\n      <td>...</td>\n      <td>...</td>\n      <td>...</td>\n      <td>...</td>\n      <td>...</td>\n    </tr>\n    <tr>\n      <th>4082</th>\n      <td>(6, -2, -2, -2, -2)</td>\n      <td>5.416667</td>\n      <td>Ave Maria</td>\n      <td>Ave Maria</td>\n      <td>[Superius]</td>\n      <td>Bassus</td>\n      <td>20</td>\n      <td>90</td>\n      <td>156.0</td>\n      <td>716.0</td>\n    </tr>\n    <tr>\n      <th>4083</th>\n      <td>(6, -2, -2, -2, -2)</td>\n      <td>6.583333</td>\n      <td>Ave Maria</td>\n      <td>Ave Maria</td>\n      <td>Altus</td>\n      <td>Bassus</td>\n      <td>27</td>\n      <td>88</td>\n      <td>211.0</td>\n      <td>700.0</td>\n    </tr>\n    <tr>\n      <th>4084</th>\n      <td>(6, -2, -2, -2, -2)</td>\n      <td>6.416667</td>\n      <td>Ave Maria</td>\n      <td>Ave Maria</td>\n      <td>Altus</td>\n      <td>Bassus</td>\n      <td>27</td>\n      <td>90</td>\n      <td>211.0</td>\n      <td>716.0</td>\n    </tr>\n    <tr>\n      <th>4085</th>\n      <td>(6, -2, -2, -2, -2)</td>\n      <td>0.833333</td>\n      <td>Ave Maria</td>\n      <td>Ave Maria</td>\n      <td>Bassus</td>\n      <td>Bassus</td>\n      <td>88</td>\n      <td>90</td>\n      <td>700.0</td>\n      <td>716.0</td>\n    </tr>\n    <tr>\n      <th>4086</th>\n      <td>(8, -2, -2, -2, -2)</td>\n      <td>3.416667</td>\n      <td>Ave Maria</td>\n      <td>Ave Maria</td>\n      <td>Tenor</td>\n      <td>Tenor</td>\n      <td>27</td>\n      <td>75</td>\n      <td>212.0</td>\n      <td>594.0</td>\n    </tr>\n  </tbody>\n</table>\n<p>4087 rows × 10 columns</p>\n</div>"
     },
     "metadata": {},
     "execution_count": 151
    }
   ],
   "source": [
    "ratio_distances = get_ratio_distances(results, \"pattern_generating_match\", [\"piece_title\", \"part\", \"start_measure\", \"start_offset\"])\n",
    "ratio_distances"
   ]
  },
  {
   "cell_type": "markdown",
   "metadata": {},
   "source": [
    "### And FILTER the results according to any threshold we like"
   ]
  },
  {
   "cell_type": "code",
   "execution_count": 152,
   "metadata": {},
   "outputs": [
    {
     "output_type": "execute_result",
     "data": {
      "text/plain": [
       "                  pattern  sum_diffs match_1_piece_title match_2_piece_title  \\\n",
       "0       (-5, 1, 2, 1, -5)   0.000000           Ave Maria           Ave Maria   \n",
       "16    (-3, -2, -2, 1, -2)   0.000000           Ave Maria           Ave Maria   \n",
       "17     (-3, -2, -2, 1, 1)   0.000000           Ave Maria           Ave Maria   \n",
       "31      (-3, 1, 2, -3, 1)   0.000000           Ave Maria           Ave Maria   \n",
       "34      (-3, 1, 2, -3, 2)   0.000000           Ave Maria           Ave Maria   \n",
       "...                   ...        ...                 ...                 ...   \n",
       "4067  (5, -2, -2, -2, -2)   0.833333           Ave Maria           Ave Maria   \n",
       "4069    (5, -2, -2, 2, 2)   0.000000           Ave Maria           Ave Maria   \n",
       "4077    (5, -2, -2, 2, 2)   0.000000           Ave Maria           Ave Maria   \n",
       "4079     (5, 1, 2, -2, 1)   0.000000           Ave Maria           Ave Maria   \n",
       "4085  (6, -2, -2, -2, -2)   0.833333           Ave Maria           Ave Maria   \n",
       "\n",
       "     match_1_part match_2_part  match_1_start_measure  match_2_start_measure  \\\n",
       "0          Bassus       Bassus                     94                     98   \n",
       "16          Altus       Bassus                     57                     62   \n",
       "17     [Superius]        Tenor                     56                     61   \n",
       "31     [Superius]        Altus                     73                     70   \n",
       "34     [Superius]        Altus                     73                     70   \n",
       "...           ...          ...                    ...                    ...   \n",
       "4067       Bassus       Bassus                     88                     90   \n",
       "4069   [Superius]        Tenor                     10                     14   \n",
       "4077       Bassus       Bassus                    116                    124   \n",
       "4079        Altus       Bassus                     78                     81   \n",
       "4085       Bassus       Bassus                     88                     90   \n",
       "\n",
       "      match_1_start_offset  match_2_start_offset  \n",
       "0                    756.0                 804.0  \n",
       "16                   448.0                 488.0  \n",
       "17                   444.0                 484.0  \n",
       "31                   582.0                 558.0  \n",
       "34                   582.0                 558.0  \n",
       "...                    ...                   ...  \n",
       "4067                 700.0                 716.0  \n",
       "4069                  74.0                 106.0  \n",
       "4077                 988.0                1052.0  \n",
       "4079                 622.0                 646.0  \n",
       "4085                 700.0                 716.0  \n",
       "\n",
       "[856 rows x 10 columns]"
      ],
      "text/html": "<div>\n<style scoped>\n    .dataframe tbody tr th:only-of-type {\n        vertical-align: middle;\n    }\n\n    .dataframe tbody tr th {\n        vertical-align: top;\n    }\n\n    .dataframe thead th {\n        text-align: right;\n    }\n</style>\n<table border=\"1\" class=\"dataframe\">\n  <thead>\n    <tr style=\"text-align: right;\">\n      <th></th>\n      <th>pattern</th>\n      <th>sum_diffs</th>\n      <th>match_1_piece_title</th>\n      <th>match_2_piece_title</th>\n      <th>match_1_part</th>\n      <th>match_2_part</th>\n      <th>match_1_start_measure</th>\n      <th>match_2_start_measure</th>\n      <th>match_1_start_offset</th>\n      <th>match_2_start_offset</th>\n    </tr>\n  </thead>\n  <tbody>\n    <tr>\n      <th>0</th>\n      <td>(-5, 1, 2, 1, -5)</td>\n      <td>0.000000</td>\n      <td>Ave Maria</td>\n      <td>Ave Maria</td>\n      <td>Bassus</td>\n      <td>Bassus</td>\n      <td>94</td>\n      <td>98</td>\n      <td>756.0</td>\n      <td>804.0</td>\n    </tr>\n    <tr>\n      <th>16</th>\n      <td>(-3, -2, -2, 1, -2)</td>\n      <td>0.000000</td>\n      <td>Ave Maria</td>\n      <td>Ave Maria</td>\n      <td>Altus</td>\n      <td>Bassus</td>\n      <td>57</td>\n      <td>62</td>\n      <td>448.0</td>\n      <td>488.0</td>\n    </tr>\n    <tr>\n      <th>17</th>\n      <td>(-3, -2, -2, 1, 1)</td>\n      <td>0.000000</td>\n      <td>Ave Maria</td>\n      <td>Ave Maria</td>\n      <td>[Superius]</td>\n      <td>Tenor</td>\n      <td>56</td>\n      <td>61</td>\n      <td>444.0</td>\n      <td>484.0</td>\n    </tr>\n    <tr>\n      <th>31</th>\n      <td>(-3, 1, 2, -3, 1)</td>\n      <td>0.000000</td>\n      <td>Ave Maria</td>\n      <td>Ave Maria</td>\n      <td>[Superius]</td>\n      <td>Altus</td>\n      <td>73</td>\n      <td>70</td>\n      <td>582.0</td>\n      <td>558.0</td>\n    </tr>\n    <tr>\n      <th>34</th>\n      <td>(-3, 1, 2, -3, 2)</td>\n      <td>0.000000</td>\n      <td>Ave Maria</td>\n      <td>Ave Maria</td>\n      <td>[Superius]</td>\n      <td>Altus</td>\n      <td>73</td>\n      <td>70</td>\n      <td>582.0</td>\n      <td>558.0</td>\n    </tr>\n    <tr>\n      <th>...</th>\n      <td>...</td>\n      <td>...</td>\n      <td>...</td>\n      <td>...</td>\n      <td>...</td>\n      <td>...</td>\n      <td>...</td>\n      <td>...</td>\n      <td>...</td>\n      <td>...</td>\n    </tr>\n    <tr>\n      <th>4067</th>\n      <td>(5, -2, -2, -2, -2)</td>\n      <td>0.833333</td>\n      <td>Ave Maria</td>\n      <td>Ave Maria</td>\n      <td>Bassus</td>\n      <td>Bassus</td>\n      <td>88</td>\n      <td>90</td>\n      <td>700.0</td>\n      <td>716.0</td>\n    </tr>\n    <tr>\n      <th>4069</th>\n      <td>(5, -2, -2, 2, 2)</td>\n      <td>0.000000</td>\n      <td>Ave Maria</td>\n      <td>Ave Maria</td>\n      <td>[Superius]</td>\n      <td>Tenor</td>\n      <td>10</td>\n      <td>14</td>\n      <td>74.0</td>\n      <td>106.0</td>\n    </tr>\n    <tr>\n      <th>4077</th>\n      <td>(5, -2, -2, 2, 2)</td>\n      <td>0.000000</td>\n      <td>Ave Maria</td>\n      <td>Ave Maria</td>\n      <td>Bassus</td>\n      <td>Bassus</td>\n      <td>116</td>\n      <td>124</td>\n      <td>988.0</td>\n      <td>1052.0</td>\n    </tr>\n    <tr>\n      <th>4079</th>\n      <td>(5, 1, 2, -2, 1)</td>\n      <td>0.000000</td>\n      <td>Ave Maria</td>\n      <td>Ave Maria</td>\n      <td>Altus</td>\n      <td>Bassus</td>\n      <td>78</td>\n      <td>81</td>\n      <td>622.0</td>\n      <td>646.0</td>\n    </tr>\n    <tr>\n      <th>4085</th>\n      <td>(6, -2, -2, -2, -2)</td>\n      <td>0.833333</td>\n      <td>Ave Maria</td>\n      <td>Ave Maria</td>\n      <td>Bassus</td>\n      <td>Bassus</td>\n      <td>88</td>\n      <td>90</td>\n      <td>700.0</td>\n      <td>716.0</td>\n    </tr>\n  </tbody>\n</table>\n<p>856 rows × 10 columns</p>\n</div>"
     },
     "metadata": {},
     "execution_count": 152
    }
   ],
   "source": [
    "ratios_filtered = ratio_distances[ratio_distances.sum_diffs <= 1]\n",
    "ratios_filtered"
   ]
  },
  {
   "cell_type": "markdown",
   "metadata": {},
   "source": [
    "### Now Group the Duration-Filter Results by the Pattern (which shows us very closely related soggetti in sets)"
   ]
  },
  {
   "cell_type": "code",
   "execution_count": 153,
   "metadata": {},
   "outputs": [
    {
     "output_type": "execute_result",
     "data": {
      "text/plain": [
       "152"
      ]
     },
     "metadata": {},
     "execution_count": 153
    }
   ],
   "source": [
    "grouped = ratios_filtered.groupby(\"pattern\")\n",
    "len(grouped['pattern'].nunique())"
   ]
  },
  {
   "cell_type": "code",
   "execution_count": null,
   "metadata": {},
   "outputs": [],
   "source": [
    "ratios_filtered.to_csv(\"filtered_sample_pair.csv\")"
   ]
  },
  {
   "source": [
    "### Greedy Soggetti\n",
    "* Groups by voice part\n",
    "* Gets one voice, then creates shifted cols to contain current+previous intervals and durations\n",
    "* slices each tuple: removes first from previous match and last from current match\n",
    "* if these are identical, then we can merge the two soggetti"
   ],
   "cell_type": "markdown",
   "metadata": {}
  },
  {
   "cell_type": "code",
   "execution_count": 154,
   "metadata": {},
   "outputs": [],
   "source": [
    "results[\"pattern_matched\"] = results[\"pattern_matched\"].apply(tuple)\n",
    "# results_s = results.drop(columns=[\"ema_url\", \"ema\", \"duration_ratios\", \"pattern_generating_match\"])\n",
    "# # #results_s[\"group_number\"] = group_number\n",
    "# # results_grouped = results_s.groupby(by=[\"piece_title\", \"part\"])\n",
    "# # results_grouped.sort_values(\"start_measure\")\n",
    "# # results_grouped.head()\n",
    "# results_shifted = results_s.groupby([\"part\"]).shift(1)\n",
    "# results_shifted.head()\n"
   ]
  },
  {
   "cell_type": "code",
   "execution_count": 155,
   "metadata": {},
   "outputs": [],
   "source": [
    "# function to group by piece and part, then add shfted columns to accept Greedy Data\n",
    "# the 'df: pd.DataFrame' here is a way of specifying the type that ought to go here\n",
    "# it's a form of annotation or 'typing'\n",
    "\n",
    "def add_shifted_cols(df: pd.DataFrame,\n",
    "                    group_cols: list,\n",
    "                    shift_cols: list,\n",
    "                    shift_periods=-1,\n",
    "                    shifted_prefix=\"next\"\n",
    "                    ) -> pd.DataFrame:\n",
    "    \n",
    "    \n",
    "    df = df.copy()\n",
    "\n",
    "    df_shifted = df.groupby(group_cols).shift(shift_periods)\n",
    "\n",
    "    df[[ f\"{shifted_prefix}_{c}\" for c in shift_cols]] = df_shifted[shift_cols]\n",
    "\n",
    "    return df"
   ]
  },
  {
   "cell_type": "code",
   "execution_count": 156,
   "metadata": {},
   "outputs": [],
   "source": [
    "# Sequence here helps us deal with tuples in the data, slicing as needed the various lists of vectors and durations\n",
    "\n",
    "from typing import Sequence\n",
    "\n",
    "def add_subsequence_cols(df: pd.DataFrame, this_sequence_cols: Sequence, next_sequence_cols: Sequence) -> pd.DataFrame:\n",
    "\n",
    "    df = df.copy()\n",
    "\n",
    "    for col in this_sequence_cols:\n",
    "            df[f\"{col}_short\"] = df[col].dropna().apply(lambda x: x[1:]) \n",
    "    \n",
    "    for col in next_sequence_cols:\n",
    "            df[f\"{col}_short\"] = df[col].dropna().apply(lambda x: x[:-1])\n",
    "          \n",
    "\n",
    "    return df\n",
    "\n"
   ]
  },
  {
   "cell_type": "code",
   "execution_count": 157,
   "metadata": {},
   "outputs": [
    {
     "output_type": "execute_result",
     "data": {
      "text/plain": [
       "          pattern_matched piece_title        part  start_measure  start_beat  \\\n",
       "0        (4, 1, 2, 2, -3)   Ave Maria  [Superius]              1         1.0   \n",
       "2        (4, 1, 2, 2, -3)   Ave Maria       Altus              3         1.0   \n",
       "3        (4, 1, 2, 2, -3)   Ave Maria       Tenor              5         1.0   \n",
       "4        (4, 1, 2, 2, -3)   Ave Maria      Bassus              7         1.0   \n",
       "1032  (-2, -2, -2, 2, -2)   Ave Maria  [Superius]              8         1.0   \n",
       "...                   ...         ...         ...            ...         ...   \n",
       "617    (-2, -2, -2, 2, 1)   Ave Maria  [Superius]            148         3.0   \n",
       "817     (-2, 2, 2, -2, 1)   Ave Maria       Tenor            148         1.0   \n",
       "321    (-2, -2, -2, 2, 1)   Ave Maria  [Superius]            148         3.0   \n",
       "1070    (-2, 2, 2, -2, 1)   Ave Maria       Tenor            148         1.0   \n",
       "1002    (-2, 2, 2, -2, 1)   Ave Maria       Tenor            148         1.0   \n",
       "\n",
       "      end_measure  end_beat  start_offset  end_offset  \\\n",
       "0               4       1.0           0.0        24.0   \n",
       "2               6       1.0          16.0        40.0   \n",
       "3               8       1.0          32.0        56.0   \n",
       "4              10       1.0          48.0        72.0   \n",
       "1032           10       2.0          56.0        74.0   \n",
       "...           ...       ...           ...         ...   \n",
       "617           152       3.0        1236.0      1284.0   \n",
       "817           152       5.0        1240.0      1288.0   \n",
       "321           152       3.0        1236.0      1284.0   \n",
       "1070          152       5.0        1240.0      1288.0   \n",
       "1002          152       5.0        1240.0      1288.0   \n",
       "\n",
       "                         note_durations  \\\n",
       "0        [4.0, 8.0, 4.0, 4.0, 4.0, 8.0]   \n",
       "2        [4.0, 8.0, 4.0, 4.0, 4.0, 8.0]   \n",
       "3        [4.0, 8.0, 4.0, 4.0, 4.0, 8.0]   \n",
       "4        [4.0, 8.0, 4.0, 4.0, 4.0, 8.0]   \n",
       "1032     [6.0, 2.0, 4.0, 4.0, 2.0, 2.0]   \n",
       "...                                 ...   \n",
       "617   [4.0, 4.0, 8.0, 16.0, 16.0, 16.0]   \n",
       "817   [4.0, 4.0, 8.0, 16.0, 16.0, 16.0]   \n",
       "321   [4.0, 4.0, 8.0, 16.0, 16.0, 16.0]   \n",
       "1070  [4.0, 4.0, 8.0, 16.0, 16.0, 16.0]   \n",
       "1002  [4.0, 4.0, 8.0, 16.0, 16.0, 16.0]   \n",
       "\n",
       "                               duration_ratios  next_start_measure  \\\n",
       "0                    [2.0, 0.5, 1.0, 1.0, 2.0]               105.0   \n",
       "2                    [2.0, 0.5, 1.0, 1.0, 2.0]                10.0   \n",
       "3                    [2.0, 0.5, 1.0, 1.0, 2.0]                12.0   \n",
       "4                    [2.0, 0.5, 1.0, 1.0, 2.0]                91.0   \n",
       "1032  [0.3333333333333333, 2.0, 1.0, 0.5, 1.0]               134.0   \n",
       "...                                        ...                 ...   \n",
       "617                  [1.0, 2.0, 2.0, 1.0, 1.0]                32.0   \n",
       "817                  [1.0, 2.0, 2.0, 1.0, 1.0]                37.0   \n",
       "321                  [1.0, 2.0, 2.0, 1.0, 1.0]                51.0   \n",
       "1070                 [1.0, 2.0, 2.0, 1.0, 1.0]                44.0   \n",
       "1002                 [1.0, 2.0, 2.0, 1.0, 1.0]                51.0   \n",
       "\n",
       "      next_end_measure             next_note_durations next_pattern_matched  \n",
       "0                107.0  [4.0, 8.0, 4.0, 4.0, 6.0, 2.0]     (4, 1, 2, 2, -3)  \n",
       "2                 12.0  [6.0, 2.0, 4.0, 4.0, 3.0, 1.0]  (-2, -2, -2, 2, -2)  \n",
       "3                 14.0  [6.0, 2.0, 4.0, 4.0, 2.0, 2.0]  (-2, -2, -2, 2, -2)  \n",
       "4                 92.0  [4.0, 1.0, 1.0, 2.0, 2.0, 4.0]  (-2, -2, -2, 3, -2)  \n",
       "1032             137.0  [4.0, 4.0, 6.0, 6.0, 6.0, 6.0]  (-2, -2, 2, -2, -2)  \n",
       "...                ...                             ...                  ...  \n",
       "617               34.0  [4.0, 4.0, 4.0, 2.0, 3.0, 1.0]     (2, 2, 1, 2, -2)  \n",
       "817               39.0  [2.0, 3.0, 1.0, 4.0, 2.0, 8.0]    (2, -2, 1, -2, 2)  \n",
       "321               52.0  [1.0, 1.0, 1.0, 2.0, 3.0, 1.0]   (-2, -2, 2, 2, -2)  \n",
       "1070              46.0  [2.0, 4.0, 4.0, 4.0, 4.0, 4.0]     (2, 2, 2, -3, 2)  \n",
       "1002              52.0  [3.0, 1.0, 2.0, 2.0, 2.0, 4.0]   (-2, 2, -3, 2, -3)  \n",
       "\n",
       "[1096 rows x 15 columns]"
      ],
      "text/html": "<div>\n<style scoped>\n    .dataframe tbody tr th:only-of-type {\n        vertical-align: middle;\n    }\n\n    .dataframe tbody tr th {\n        vertical-align: top;\n    }\n\n    .dataframe thead th {\n        text-align: right;\n    }\n</style>\n<table border=\"1\" class=\"dataframe\">\n  <thead>\n    <tr style=\"text-align: right;\">\n      <th></th>\n      <th>pattern_matched</th>\n      <th>piece_title</th>\n      <th>part</th>\n      <th>start_measure</th>\n      <th>start_beat</th>\n      <th>end_measure</th>\n      <th>end_beat</th>\n      <th>start_offset</th>\n      <th>end_offset</th>\n      <th>note_durations</th>\n      <th>duration_ratios</th>\n      <th>next_start_measure</th>\n      <th>next_end_measure</th>\n      <th>next_note_durations</th>\n      <th>next_pattern_matched</th>\n    </tr>\n  </thead>\n  <tbody>\n    <tr>\n      <th>0</th>\n      <td>(4, 1, 2, 2, -3)</td>\n      <td>Ave Maria</td>\n      <td>[Superius]</td>\n      <td>1</td>\n      <td>1.0</td>\n      <td>4</td>\n      <td>1.0</td>\n      <td>0.0</td>\n      <td>24.0</td>\n      <td>[4.0, 8.0, 4.0, 4.0, 4.0, 8.0]</td>\n      <td>[2.0, 0.5, 1.0, 1.0, 2.0]</td>\n      <td>105.0</td>\n      <td>107.0</td>\n      <td>[4.0, 8.0, 4.0, 4.0, 6.0, 2.0]</td>\n      <td>(4, 1, 2, 2, -3)</td>\n    </tr>\n    <tr>\n      <th>2</th>\n      <td>(4, 1, 2, 2, -3)</td>\n      <td>Ave Maria</td>\n      <td>Altus</td>\n      <td>3</td>\n      <td>1.0</td>\n      <td>6</td>\n      <td>1.0</td>\n      <td>16.0</td>\n      <td>40.0</td>\n      <td>[4.0, 8.0, 4.0, 4.0, 4.0, 8.0]</td>\n      <td>[2.0, 0.5, 1.0, 1.0, 2.0]</td>\n      <td>10.0</td>\n      <td>12.0</td>\n      <td>[6.0, 2.0, 4.0, 4.0, 3.0, 1.0]</td>\n      <td>(-2, -2, -2, 2, -2)</td>\n    </tr>\n    <tr>\n      <th>3</th>\n      <td>(4, 1, 2, 2, -3)</td>\n      <td>Ave Maria</td>\n      <td>Tenor</td>\n      <td>5</td>\n      <td>1.0</td>\n      <td>8</td>\n      <td>1.0</td>\n      <td>32.0</td>\n      <td>56.0</td>\n      <td>[4.0, 8.0, 4.0, 4.0, 4.0, 8.0]</td>\n      <td>[2.0, 0.5, 1.0, 1.0, 2.0]</td>\n      <td>12.0</td>\n      <td>14.0</td>\n      <td>[6.0, 2.0, 4.0, 4.0, 2.0, 2.0]</td>\n      <td>(-2, -2, -2, 2, -2)</td>\n    </tr>\n    <tr>\n      <th>4</th>\n      <td>(4, 1, 2, 2, -3)</td>\n      <td>Ave Maria</td>\n      <td>Bassus</td>\n      <td>7</td>\n      <td>1.0</td>\n      <td>10</td>\n      <td>1.0</td>\n      <td>48.0</td>\n      <td>72.0</td>\n      <td>[4.0, 8.0, 4.0, 4.0, 4.0, 8.0]</td>\n      <td>[2.0, 0.5, 1.0, 1.0, 2.0]</td>\n      <td>91.0</td>\n      <td>92.0</td>\n      <td>[4.0, 1.0, 1.0, 2.0, 2.0, 4.0]</td>\n      <td>(-2, -2, -2, 3, -2)</td>\n    </tr>\n    <tr>\n      <th>1032</th>\n      <td>(-2, -2, -2, 2, -2)</td>\n      <td>Ave Maria</td>\n      <td>[Superius]</td>\n      <td>8</td>\n      <td>1.0</td>\n      <td>10</td>\n      <td>2.0</td>\n      <td>56.0</td>\n      <td>74.0</td>\n      <td>[6.0, 2.0, 4.0, 4.0, 2.0, 2.0]</td>\n      <td>[0.3333333333333333, 2.0, 1.0, 0.5, 1.0]</td>\n      <td>134.0</td>\n      <td>137.0</td>\n      <td>[4.0, 4.0, 6.0, 6.0, 6.0, 6.0]</td>\n      <td>(-2, -2, 2, -2, -2)</td>\n    </tr>\n    <tr>\n      <th>...</th>\n      <td>...</td>\n      <td>...</td>\n      <td>...</td>\n      <td>...</td>\n      <td>...</td>\n      <td>...</td>\n      <td>...</td>\n      <td>...</td>\n      <td>...</td>\n      <td>...</td>\n      <td>...</td>\n      <td>...</td>\n      <td>...</td>\n      <td>...</td>\n      <td>...</td>\n    </tr>\n    <tr>\n      <th>617</th>\n      <td>(-2, -2, -2, 2, 1)</td>\n      <td>Ave Maria</td>\n      <td>[Superius]</td>\n      <td>148</td>\n      <td>3.0</td>\n      <td>152</td>\n      <td>3.0</td>\n      <td>1236.0</td>\n      <td>1284.0</td>\n      <td>[4.0, 4.0, 8.0, 16.0, 16.0, 16.0]</td>\n      <td>[1.0, 2.0, 2.0, 1.0, 1.0]</td>\n      <td>32.0</td>\n      <td>34.0</td>\n      <td>[4.0, 4.0, 4.0, 2.0, 3.0, 1.0]</td>\n      <td>(2, 2, 1, 2, -2)</td>\n    </tr>\n    <tr>\n      <th>817</th>\n      <td>(-2, 2, 2, -2, 1)</td>\n      <td>Ave Maria</td>\n      <td>Tenor</td>\n      <td>148</td>\n      <td>1.0</td>\n      <td>152</td>\n      <td>5.0</td>\n      <td>1240.0</td>\n      <td>1288.0</td>\n      <td>[4.0, 4.0, 8.0, 16.0, 16.0, 16.0]</td>\n      <td>[1.0, 2.0, 2.0, 1.0, 1.0]</td>\n      <td>37.0</td>\n      <td>39.0</td>\n      <td>[2.0, 3.0, 1.0, 4.0, 2.0, 8.0]</td>\n      <td>(2, -2, 1, -2, 2)</td>\n    </tr>\n    <tr>\n      <th>321</th>\n      <td>(-2, -2, -2, 2, 1)</td>\n      <td>Ave Maria</td>\n      <td>[Superius]</td>\n      <td>148</td>\n      <td>3.0</td>\n      <td>152</td>\n      <td>3.0</td>\n      <td>1236.0</td>\n      <td>1284.0</td>\n      <td>[4.0, 4.0, 8.0, 16.0, 16.0, 16.0]</td>\n      <td>[1.0, 2.0, 2.0, 1.0, 1.0]</td>\n      <td>51.0</td>\n      <td>52.0</td>\n      <td>[1.0, 1.0, 1.0, 2.0, 3.0, 1.0]</td>\n      <td>(-2, -2, 2, 2, -2)</td>\n    </tr>\n    <tr>\n      <th>1070</th>\n      <td>(-2, 2, 2, -2, 1)</td>\n      <td>Ave Maria</td>\n      <td>Tenor</td>\n      <td>148</td>\n      <td>1.0</td>\n      <td>152</td>\n      <td>5.0</td>\n      <td>1240.0</td>\n      <td>1288.0</td>\n      <td>[4.0, 4.0, 8.0, 16.0, 16.0, 16.0]</td>\n      <td>[1.0, 2.0, 2.0, 1.0, 1.0]</td>\n      <td>44.0</td>\n      <td>46.0</td>\n      <td>[2.0, 4.0, 4.0, 4.0, 4.0, 4.0]</td>\n      <td>(2, 2, 2, -3, 2)</td>\n    </tr>\n    <tr>\n      <th>1002</th>\n      <td>(-2, 2, 2, -2, 1)</td>\n      <td>Ave Maria</td>\n      <td>Tenor</td>\n      <td>148</td>\n      <td>1.0</td>\n      <td>152</td>\n      <td>5.0</td>\n      <td>1240.0</td>\n      <td>1288.0</td>\n      <td>[4.0, 4.0, 8.0, 16.0, 16.0, 16.0]</td>\n      <td>[1.0, 2.0, 2.0, 1.0, 1.0]</td>\n      <td>51.0</td>\n      <td>52.0</td>\n      <td>[3.0, 1.0, 2.0, 2.0, 2.0, 4.0]</td>\n      <td>(-2, 2, -3, 2, -3)</td>\n    </tr>\n  </tbody>\n</table>\n<p>1096 rows × 15 columns</p>\n</div>"
     },
     "metadata": {},
     "execution_count": 157
    }
   ],
   "source": [
    "# here we call the function to add the cols\n",
    "\n",
    "df_shifted = add_shifted_cols(results,\n",
    "                    group_cols=[\"piece_title\", \"part\"],\n",
    "                    shift_cols=[\"start_measure\", \"end_measure\", \"note_durations\", \"pattern_matched\"])\n",
    "\n",
    "df_brief = df_shifted.sort_values(\"start_measure\").drop(columns=[\"ema\", \"ema_url\", \"pattern_generating_match\"])\n",
    "df_brief"
   ]
  },
  {
   "cell_type": "code",
   "execution_count": 158,
   "metadata": {},
   "outputs": [
    {
     "output_type": "execute_result",
     "data": {
      "text/plain": [
       "        pattern_matched piece_title        part  start_measure  start_beat  \\\n",
       "0      (4, 1, 2, 2, -3)   Ave Maria  [Superius]              1         1.0   \n",
       "1      (4, 1, 2, 2, -3)   Ave Maria  [Superius]            105         3.0   \n",
       "2      (4, 1, 2, 2, -3)   Ave Maria       Altus              3         1.0   \n",
       "3      (4, 1, 2, 2, -3)   Ave Maria       Tenor              5         1.0   \n",
       "4      (4, 1, 2, 2, -3)   Ave Maria      Bassus              7         1.0   \n",
       "...                 ...         ...         ...            ...         ...   \n",
       "1091  (2, 2, -3, 1, -2)   Ave Maria  [Superius]            106         3.0   \n",
       "1092  (2, 2, -3, 3, -2)   Ave Maria       Tenor             21         3.0   \n",
       "1093  (1, 2, -3, 2, -2)   Ave Maria       Tenor             81         3.0   \n",
       "1094  (2, 2, -4, 2, -2)   Ave Maria      Bassus            131         3.5   \n",
       "1095  (2, 2, -3, 2, -2)   Ave Maria      Bassus            138         4.5   \n",
       "\n",
       "      end_measure  end_beat  start_offset  end_offset  \\\n",
       "0               4       1.0           0.0        24.0   \n",
       "1             107       3.5         884.0       910.0   \n",
       "2               6       1.0          16.0        40.0   \n",
       "3               8       1.0          32.0        56.0   \n",
       "4              10       1.0          48.0        72.0   \n",
       "...           ...       ...           ...         ...   \n",
       "1091          108       3.0         896.0       920.0   \n",
       "1092           23       3.5         164.0       181.0   \n",
       "1093           83       2.0         644.0       658.0   \n",
       "1094          133       1.0        1109.0      1120.0   \n",
       "1095          140       1.5        1167.0      1177.0   \n",
       "\n",
       "                      note_durations  next_start_measure  next_end_measure  \\\n",
       "0     [4.0, 8.0, 4.0, 4.0, 4.0, 8.0]               105.0             107.0   \n",
       "1     [4.0, 8.0, 4.0, 4.0, 6.0, 2.0]                 8.0              10.0   \n",
       "2     [4.0, 8.0, 4.0, 4.0, 4.0, 8.0]                10.0              12.0   \n",
       "3     [4.0, 8.0, 4.0, 4.0, 4.0, 8.0]                12.0              14.0   \n",
       "4     [4.0, 8.0, 4.0, 4.0, 4.0, 8.0]                91.0              92.0   \n",
       "...                              ...                 ...               ...   \n",
       "1091  [4.0, 4.0, 6.0, 2.0, 8.0, 4.0]                 NaN               NaN   \n",
       "1092  [4.0, 4.0, 4.0, 2.0, 3.0, 1.0]                81.0              83.0   \n",
       "1093  [2.0, 2.0, 4.0, 2.0, 4.0, 2.0]                 NaN               NaN   \n",
       "1094  [1.0, 2.0, 2.0, 2.0, 4.0, 8.0]               138.0             140.0   \n",
       "1095  [1.0, 2.0, 2.0, 2.0, 3.0, 1.0]                 NaN               NaN   \n",
       "\n",
       "                 next_note_durations next_pattern_matched  \\\n",
       "0     [4.0, 8.0, 4.0, 4.0, 6.0, 2.0]     (4, 1, 2, 2, -3)   \n",
       "1     [6.0, 2.0, 4.0, 4.0, 2.0, 2.0]  (-2, -2, -2, 2, -2)   \n",
       "2     [6.0, 2.0, 4.0, 4.0, 3.0, 1.0]  (-2, -2, -2, 2, -2)   \n",
       "3     [6.0, 2.0, 4.0, 4.0, 2.0, 2.0]  (-2, -2, -2, 2, -2)   \n",
       "4     [4.0, 1.0, 1.0, 2.0, 2.0, 4.0]  (-2, -2, -2, 3, -2)   \n",
       "...                              ...                  ...   \n",
       "1091                             NaN                  NaN   \n",
       "1092  [2.0, 2.0, 4.0, 2.0, 4.0, 2.0]    (1, 2, -3, 2, -2)   \n",
       "1093                             NaN                  NaN   \n",
       "1094  [1.0, 2.0, 2.0, 2.0, 3.0, 1.0]    (2, 2, -3, 2, -2)   \n",
       "1095                             NaN                  NaN   \n",
       "\n",
       "     pattern_matched_short       note_durations_short  \\\n",
       "0            (1, 2, 2, -3)  [8.0, 4.0, 4.0, 4.0, 8.0]   \n",
       "1            (1, 2, 2, -3)  [8.0, 4.0, 4.0, 6.0, 2.0]   \n",
       "2            (1, 2, 2, -3)  [8.0, 4.0, 4.0, 4.0, 8.0]   \n",
       "3            (1, 2, 2, -3)  [8.0, 4.0, 4.0, 4.0, 8.0]   \n",
       "4            (1, 2, 2, -3)  [8.0, 4.0, 4.0, 4.0, 8.0]   \n",
       "...                    ...                        ...   \n",
       "1091        (2, -3, 1, -2)  [4.0, 6.0, 2.0, 8.0, 4.0]   \n",
       "1092        (2, -3, 3, -2)  [4.0, 4.0, 2.0, 3.0, 1.0]   \n",
       "1093        (2, -3, 2, -2)  [2.0, 4.0, 2.0, 4.0, 2.0]   \n",
       "1094        (2, -4, 2, -2)  [2.0, 2.0, 2.0, 4.0, 8.0]   \n",
       "1095        (2, -3, 2, -2)  [2.0, 2.0, 2.0, 3.0, 1.0]   \n",
       "\n",
       "     next_pattern_matched_short  next_note_durations_short  \n",
       "0                  (4, 1, 2, 2)  [4.0, 8.0, 4.0, 4.0, 6.0]  \n",
       "1               (-2, -2, -2, 2)  [6.0, 2.0, 4.0, 4.0, 2.0]  \n",
       "2               (-2, -2, -2, 2)  [6.0, 2.0, 4.0, 4.0, 3.0]  \n",
       "3               (-2, -2, -2, 2)  [6.0, 2.0, 4.0, 4.0, 2.0]  \n",
       "4               (-2, -2, -2, 3)  [4.0, 1.0, 1.0, 2.0, 2.0]  \n",
       "...                         ...                        ...  \n",
       "1091                        NaN                        NaN  \n",
       "1092              (1, 2, -3, 2)  [2.0, 2.0, 4.0, 2.0, 4.0]  \n",
       "1093                        NaN                        NaN  \n",
       "1094              (2, 2, -3, 2)  [1.0, 2.0, 2.0, 2.0, 3.0]  \n",
       "1095                        NaN                        NaN  \n",
       "\n",
       "[1096 rows x 18 columns]"
      ],
      "text/html": "<div>\n<style scoped>\n    .dataframe tbody tr th:only-of-type {\n        vertical-align: middle;\n    }\n\n    .dataframe tbody tr th {\n        vertical-align: top;\n    }\n\n    .dataframe thead th {\n        text-align: right;\n    }\n</style>\n<table border=\"1\" class=\"dataframe\">\n  <thead>\n    <tr style=\"text-align: right;\">\n      <th></th>\n      <th>pattern_matched</th>\n      <th>piece_title</th>\n      <th>part</th>\n      <th>start_measure</th>\n      <th>start_beat</th>\n      <th>end_measure</th>\n      <th>end_beat</th>\n      <th>start_offset</th>\n      <th>end_offset</th>\n      <th>note_durations</th>\n      <th>next_start_measure</th>\n      <th>next_end_measure</th>\n      <th>next_note_durations</th>\n      <th>next_pattern_matched</th>\n      <th>pattern_matched_short</th>\n      <th>note_durations_short</th>\n      <th>next_pattern_matched_short</th>\n      <th>next_note_durations_short</th>\n    </tr>\n  </thead>\n  <tbody>\n    <tr>\n      <th>0</th>\n      <td>(4, 1, 2, 2, -3)</td>\n      <td>Ave Maria</td>\n      <td>[Superius]</td>\n      <td>1</td>\n      <td>1.0</td>\n      <td>4</td>\n      <td>1.0</td>\n      <td>0.0</td>\n      <td>24.0</td>\n      <td>[4.0, 8.0, 4.0, 4.0, 4.0, 8.0]</td>\n      <td>105.0</td>\n      <td>107.0</td>\n      <td>[4.0, 8.0, 4.0, 4.0, 6.0, 2.0]</td>\n      <td>(4, 1, 2, 2, -3)</td>\n      <td>(1, 2, 2, -3)</td>\n      <td>[8.0, 4.0, 4.0, 4.0, 8.0]</td>\n      <td>(4, 1, 2, 2)</td>\n      <td>[4.0, 8.0, 4.0, 4.0, 6.0]</td>\n    </tr>\n    <tr>\n      <th>1</th>\n      <td>(4, 1, 2, 2, -3)</td>\n      <td>Ave Maria</td>\n      <td>[Superius]</td>\n      <td>105</td>\n      <td>3.0</td>\n      <td>107</td>\n      <td>3.5</td>\n      <td>884.0</td>\n      <td>910.0</td>\n      <td>[4.0, 8.0, 4.0, 4.0, 6.0, 2.0]</td>\n      <td>8.0</td>\n      <td>10.0</td>\n      <td>[6.0, 2.0, 4.0, 4.0, 2.0, 2.0]</td>\n      <td>(-2, -2, -2, 2, -2)</td>\n      <td>(1, 2, 2, -3)</td>\n      <td>[8.0, 4.0, 4.0, 6.0, 2.0]</td>\n      <td>(-2, -2, -2, 2)</td>\n      <td>[6.0, 2.0, 4.0, 4.0, 2.0]</td>\n    </tr>\n    <tr>\n      <th>2</th>\n      <td>(4, 1, 2, 2, -3)</td>\n      <td>Ave Maria</td>\n      <td>Altus</td>\n      <td>3</td>\n      <td>1.0</td>\n      <td>6</td>\n      <td>1.0</td>\n      <td>16.0</td>\n      <td>40.0</td>\n      <td>[4.0, 8.0, 4.0, 4.0, 4.0, 8.0]</td>\n      <td>10.0</td>\n      <td>12.0</td>\n      <td>[6.0, 2.0, 4.0, 4.0, 3.0, 1.0]</td>\n      <td>(-2, -2, -2, 2, -2)</td>\n      <td>(1, 2, 2, -3)</td>\n      <td>[8.0, 4.0, 4.0, 4.0, 8.0]</td>\n      <td>(-2, -2, -2, 2)</td>\n      <td>[6.0, 2.0, 4.0, 4.0, 3.0]</td>\n    </tr>\n    <tr>\n      <th>3</th>\n      <td>(4, 1, 2, 2, -3)</td>\n      <td>Ave Maria</td>\n      <td>Tenor</td>\n      <td>5</td>\n      <td>1.0</td>\n      <td>8</td>\n      <td>1.0</td>\n      <td>32.0</td>\n      <td>56.0</td>\n      <td>[4.0, 8.0, 4.0, 4.0, 4.0, 8.0]</td>\n      <td>12.0</td>\n      <td>14.0</td>\n      <td>[6.0, 2.0, 4.0, 4.0, 2.0, 2.0]</td>\n      <td>(-2, -2, -2, 2, -2)</td>\n      <td>(1, 2, 2, -3)</td>\n      <td>[8.0, 4.0, 4.0, 4.0, 8.0]</td>\n      <td>(-2, -2, -2, 2)</td>\n      <td>[6.0, 2.0, 4.0, 4.0, 2.0]</td>\n    </tr>\n    <tr>\n      <th>4</th>\n      <td>(4, 1, 2, 2, -3)</td>\n      <td>Ave Maria</td>\n      <td>Bassus</td>\n      <td>7</td>\n      <td>1.0</td>\n      <td>10</td>\n      <td>1.0</td>\n      <td>48.0</td>\n      <td>72.0</td>\n      <td>[4.0, 8.0, 4.0, 4.0, 4.0, 8.0]</td>\n      <td>91.0</td>\n      <td>92.0</td>\n      <td>[4.0, 1.0, 1.0, 2.0, 2.0, 4.0]</td>\n      <td>(-2, -2, -2, 3, -2)</td>\n      <td>(1, 2, 2, -3)</td>\n      <td>[8.0, 4.0, 4.0, 4.0, 8.0]</td>\n      <td>(-2, -2, -2, 3)</td>\n      <td>[4.0, 1.0, 1.0, 2.0, 2.0]</td>\n    </tr>\n    <tr>\n      <th>...</th>\n      <td>...</td>\n      <td>...</td>\n      <td>...</td>\n      <td>...</td>\n      <td>...</td>\n      <td>...</td>\n      <td>...</td>\n      <td>...</td>\n      <td>...</td>\n      <td>...</td>\n      <td>...</td>\n      <td>...</td>\n      <td>...</td>\n      <td>...</td>\n      <td>...</td>\n      <td>...</td>\n      <td>...</td>\n      <td>...</td>\n    </tr>\n    <tr>\n      <th>1091</th>\n      <td>(2, 2, -3, 1, -2)</td>\n      <td>Ave Maria</td>\n      <td>[Superius]</td>\n      <td>106</td>\n      <td>3.0</td>\n      <td>108</td>\n      <td>3.0</td>\n      <td>896.0</td>\n      <td>920.0</td>\n      <td>[4.0, 4.0, 6.0, 2.0, 8.0, 4.0]</td>\n      <td>NaN</td>\n      <td>NaN</td>\n      <td>NaN</td>\n      <td>NaN</td>\n      <td>(2, -3, 1, -2)</td>\n      <td>[4.0, 6.0, 2.0, 8.0, 4.0]</td>\n      <td>NaN</td>\n      <td>NaN</td>\n    </tr>\n    <tr>\n      <th>1092</th>\n      <td>(2, 2, -3, 3, -2)</td>\n      <td>Ave Maria</td>\n      <td>Tenor</td>\n      <td>21</td>\n      <td>3.0</td>\n      <td>23</td>\n      <td>3.5</td>\n      <td>164.0</td>\n      <td>181.0</td>\n      <td>[4.0, 4.0, 4.0, 2.0, 3.0, 1.0]</td>\n      <td>81.0</td>\n      <td>83.0</td>\n      <td>[2.0, 2.0, 4.0, 2.0, 4.0, 2.0]</td>\n      <td>(1, 2, -3, 2, -2)</td>\n      <td>(2, -3, 3, -2)</td>\n      <td>[4.0, 4.0, 2.0, 3.0, 1.0]</td>\n      <td>(1, 2, -3, 2)</td>\n      <td>[2.0, 2.0, 4.0, 2.0, 4.0]</td>\n    </tr>\n    <tr>\n      <th>1093</th>\n      <td>(1, 2, -3, 2, -2)</td>\n      <td>Ave Maria</td>\n      <td>Tenor</td>\n      <td>81</td>\n      <td>3.0</td>\n      <td>83</td>\n      <td>2.0</td>\n      <td>644.0</td>\n      <td>658.0</td>\n      <td>[2.0, 2.0, 4.0, 2.0, 4.0, 2.0]</td>\n      <td>NaN</td>\n      <td>NaN</td>\n      <td>NaN</td>\n      <td>NaN</td>\n      <td>(2, -3, 2, -2)</td>\n      <td>[2.0, 4.0, 2.0, 4.0, 2.0]</td>\n      <td>NaN</td>\n      <td>NaN</td>\n    </tr>\n    <tr>\n      <th>1094</th>\n      <td>(2, 2, -4, 2, -2)</td>\n      <td>Ave Maria</td>\n      <td>Bassus</td>\n      <td>131</td>\n      <td>3.5</td>\n      <td>133</td>\n      <td>1.0</td>\n      <td>1109.0</td>\n      <td>1120.0</td>\n      <td>[1.0, 2.0, 2.0, 2.0, 4.0, 8.0]</td>\n      <td>138.0</td>\n      <td>140.0</td>\n      <td>[1.0, 2.0, 2.0, 2.0, 3.0, 1.0]</td>\n      <td>(2, 2, -3, 2, -2)</td>\n      <td>(2, -4, 2, -2)</td>\n      <td>[2.0, 2.0, 2.0, 4.0, 8.0]</td>\n      <td>(2, 2, -3, 2)</td>\n      <td>[1.0, 2.0, 2.0, 2.0, 3.0]</td>\n    </tr>\n    <tr>\n      <th>1095</th>\n      <td>(2, 2, -3, 2, -2)</td>\n      <td>Ave Maria</td>\n      <td>Bassus</td>\n      <td>138</td>\n      <td>4.5</td>\n      <td>140</td>\n      <td>1.5</td>\n      <td>1167.0</td>\n      <td>1177.0</td>\n      <td>[1.0, 2.0, 2.0, 2.0, 3.0, 1.0]</td>\n      <td>NaN</td>\n      <td>NaN</td>\n      <td>NaN</td>\n      <td>NaN</td>\n      <td>(2, -3, 2, -2)</td>\n      <td>[2.0, 2.0, 2.0, 3.0, 1.0]</td>\n      <td>NaN</td>\n      <td>NaN</td>\n    </tr>\n  </tbody>\n</table>\n<p>1096 rows × 18 columns</p>\n</div>"
     },
     "metadata": {},
     "execution_count": 158
    }
   ],
   "source": [
    "# And here we call the function to slice and enter the data\n",
    "\n",
    "df_brief = add_subsequence_cols(df_shifted, \n",
    "    this_sequence_cols=[\"pattern_matched\", \"note_durations\"], \n",
    "    next_sequence_cols=[\"next_pattern_matched\", \"next_note_durations\"]\n",
    "    )\n",
    "df_brief.drop(columns=[\"ema\", \"ema_url\", \"pattern_generating_match\", \"duration_ratios\"])"
   ]
  },
  {
   "cell_type": "code",
   "execution_count": null,
   "metadata": {},
   "outputs": [],
   "source": [
    "# Now  filter previous results to make sure the melodic and rhythmic vectors match for each sequence\n",
    "\n",
    "df_filter_durs = df_brief[df_brief[\"note_durations_short\"] == df_brief[\"next_note_durations_short\"]]\n",
    "df_filter_patts = df_filter_durs[df_filter_durs[\"pattern_matched_short\"] == df_filter_durs[\"next_pattern_matched_short\"]]\n",
    "df_filter_patts.count()"
   ]
  },
  {
   "cell_type": "code",
   "execution_count": null,
   "metadata": {},
   "outputs": [],
   "source": [
    "# This is just a way to inspect a single voice\n",
    "\n",
    "df_filter_one_voice = df_filter_patts[df_filter_patts[\"part\"].str.contains('Contratenor')]\n",
    "df_filter_one_voice.head()"
   ]
  },
  {
   "cell_type": "code",
   "execution_count": null,
   "metadata": {},
   "outputs": [],
   "source": [
    "# Make sure there are no NaN values \n",
    "\n",
    "# Add new column for check of matching end measures +1 (which we do by subtracting 1, then checking for ==)\n",
    "# combine the results:  these are the soggetti that need to get Greedy\n",
    "\n",
    "df_filter_patts['next_end_measure'].fillna(0)\n",
    "df_filter_patts['next_end_measure_minus'] = df_filter_patts['next_end_measure'].apply(lambda x: x-1)\n",
    "df_test_1 = df_filter_patts[df_filter_patts[\"end_measure\"] == df_filter_patts[\"next_end_measure\"]]\n",
    "df_test_2 = df_filter_patts[df_filter_patts[\"end_measure\"] == df_filter_patts[\"next_end_measure_minus\"]]\n",
    "df_test_combined = pd.concat([df_test_1, df_test_2])\n",
    "df_test_combined\n"
   ]
  }
 ],
 "metadata": {
  "kernelspec": {
   "display_name": "Python 3",
   "language": "python",
   "name": "python3"
  },
  "language_info": {
   "codemirror_mode": {
    "name": "ipython",
    "version": 3
   },
   "file_extension": ".py",
   "mimetype": "text/x-python",
   "name": "python",
   "nbconvert_exporter": "python",
   "pygments_lexer": "ipython3",
   "version": "3.8.5-final"
  }
 },
 "nbformat": 4,
 "nbformat_minor": 4
}