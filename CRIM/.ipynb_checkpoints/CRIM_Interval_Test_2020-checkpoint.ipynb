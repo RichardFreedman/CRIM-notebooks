{
 "cells": [
  {
   "cell_type": "markdown",
   "metadata": {
    "id": "smxDxiH7_3Fr"
   },
   "source": [
    "# About Crim Intervals \n",
    "\n",
    "- See more at https://github.com/HCDigitalScholarship/intervals/blob/master/README.md\n",
    "\n",
    "## How to Select Pieces\n",
    "\n",
    "- For local file(s), use: `corpus = CorpusBase(['/Users/rfreedma/MEI/CRIM_Intervals_Tests/Brumel_Complete.mei'])`\n",
    "- For remote file, use: `corpus = CorpusBase(['https://crimproject.org/mei/CRIM_Model_0008.mei', 'https://crimproject.org/mei/CRIM_Mass_0005_5.mei'])`\n",
    "\n",
    "\n",
    "## Notes about the Various Parameters\n",
    "\n",
    "- **Length of the Soggetto**: into_patterns([vectors.semitone_intervals], 5) The **number** in this command represents the **minimum number of vectors to find**. 5 vectors is 6 notes.\n",
    "\n",
    "### Chromatic vs Diatonic \n",
    "- **Chromatic** uses `into_patterns([vectors.semitone_intervals], 5)`\n",
    "- **Diatonic** uses `into_patterns([vectors.generic_intervals], 5)`\n",
    "\n",
    "### Exact vs Close  \n",
    "- **Exact** is exact in *all* ways find_exact_matches(patterns, 2). The **number** in this command represents the **minimum number of matching melodies needed before reporting**. This allows us to filter for common or uncommon soggetti.\n",
    "- **Close** matches allow for melodic variation (see more below). `find_close_matches(patterns, 2, 1)`\n",
    ". The **first number** in this command is the minimum number of melodies needed before reporting; the **second number** is threshold needed in order to find a match. Lower number = very similar; higher number = less similar\n",
    "\n",
    "### More about Close Matches  \n",
    "- The **threshold for close matches** is determined by the third number called in the method. We select two patterns, then compare *each vector in each pattern successively*. The \"differences\" between each vector are summed. If that value is below the threshold specified, we consider the two patterns closely matched.\n",
    "- The format of the method call is  `find_close_matches(the array you get from into_patterns, minimum matches needed to be displayed, threshold for close match)`.\n",
    "\n",
    "### About Rhythmic Durations\n",
    "\n",
    "- For `find_close_matches` and `find_exact_matches`, rhythmic variation/duration is displayed, but **not** factored into the calculation of matching.\n",
    "- **Incremental Offset** calculates the intervals using a fixed offset between notes, no matter their actual duration.  Use this to ignore passing tones or other ornaments.  The offsets are expressed in multiples of the quarter note (Offset = 1 samples at quarter note; Offset = 2 at half note, etc). Set with `vectors = IntervalBase(corpus.note_list_incremental_offset(2))`\n",
    "\n",
    "### Dataframe Preview vs Full Results in Browser\n",
    "\n",
    "- Comment out the first of these for preview only.  Include for full results\n",
    "\n",
    "    - `#pd.set_option(\"display.max_rows\", None, \"display.max_columns\", None)`\n",
    "    - `return pd.DataFrame(match_data)`\n",
    "    \n",
    "### To Set CSV Output\n",
    "\n",
    "- Specify file name here `pd.Series(match_data).to_csv(\"Match_data_10_13.csv\")`\n",
    "\n",
    "***"
   ]
  },
  {
   "cell_type": "markdown",
   "metadata": {
    "id": "SIo3MIjN7tW2"
   },
   "source": [
    "# Testing CRIM Intervals with Ave Maria Soggetti and Patterns\n",
    "These tests demonstrate the how the CRIM Intervals system produces \"matches\" in various contexts:\n",
    "\n",
    "**Exact Matches** (in all respects--melodic and rhythmic)\n",
    "**Close Matches** (via tranposition, substitution of pitches and durations, ornamentation, and differences in overall length)\n",
    "The CRIM intervals __[test file](https://drive.google.com/file/d/1DoXHAzj_QxLS7sFyyoqXOPUwYer4rKi6/view?usp=sharing)__ is the basis of our work.\n",
    "It features a few basic soggetti, each heard in four different voices. These are marked with **Rehearsal Letters** in the score (see below). The successive statements of each soggetto are sometimes exactly the same, and sometimes differ in small ways, as noted here.\n"
   ]
  },
  {
   "cell_type": "markdown",
   "metadata": {
    "id": "GBkTT4_o7tW3"
   },
   "source": [
    "**Rehearsal A** (The soggetti match in all ways. They are *exactly the same*, except for octave transposition). They also form a PEn (8- @B2)\n",
    "\n",
    "<ul>\n",
    "    <li>V1@1</li>\n",
    "    <li>V2@3</li>\n",
    "    <li>V3@5</li>\n",
    "    <li>V4@7</li>\n",
    "</ul>\n",
    "\n",
    "\n",
    "![picture](https://drive.google.com/uc?id=1bNtiAhFbYJW3Q5eSwWfPPSxeFSl8RRv4)"
   ]
  },
  {
   "cell_type": "markdown",
   "metadata": {
    "id": "o9F2_N3Y7tW3"
   },
   "source": [
    "**Rehearsal B** (Pitches modified in various ways, as noted). They also form a PEn (8- @B2)\n",
    "\n",
    "<ul>\n",
    "    <li>V1@12 (Original Soggetto)</li>\n",
    "    <li>V2@14 (Second pitch changed--a tonal flex. Durations identical)</li>\n",
    "    <li>V3@16 (Second and third pitches changed. Durations identical)</li>\n",
    "    <li>V4@18 (Original Soggetto)</li>\n",
    "</ul>\n",
    "\n",
    "![picture](https://drive.google.com/uc?id=1NRD_bKhOxphXaElvPZ2VPSUxypTjh-p6)"
   ]
  },
  {
   "cell_type": "markdown",
   "metadata": {
    "id": "0qukACAt7tW5"
   },
   "source": [
    "**Rehearsal C** (Transposed in ways that mean the melodic intervals are chromatically different, but diatonically the same.  This is a test for **vectors.semitone_intervals** vs **generic_intervals**\n",
    "\n",
    "They also form a ID (B1/3/1)\n",
    "\n",
    "<ul>\n",
    "    <li>V1@23 (Original Soggetto)</li>\n",
    "    <li>V2@24 (Transposed, now only matches for *generic* intervals)</li>\n",
    "    <li>V3@27 (Transposed, but a *chromatic* match)</li>\n",
    "    <li>V4@28 (Original melodic intervals and pitches, but one rhythm differs.  Same total duration)</li>\n",
    "</ul>\n",
    "\n",
    "![picture](https://drive.google.com/uc?id=1qEhIgldfasw752KAu6v6PGaFv9ymmKZs)"
   ]
  },
  {
   "cell_type": "markdown",
   "metadata": {
    "id": "X3Fm9rMU7tW6"
   },
   "source": [
    "**Rehearsal D** (Soggetto ornamented in various ways, but same total duration. This will be a test for the **offset** method.  If measured at **offset = 2.0** they should all read as matches.)  They also form a Fuga (@B1/2/3)\n",
    "\n",
    "<ul>\n",
    "    <li>V1@34 (Original Soggetto)</li>\n",
    "    <li>V2@35 (One additional diminution)</li>\n",
    "    <li>V3@37 (Two additional diminutions)</li>\n",
    "    <li>V4@40 (Four additional diminutions)</li>\n",
    "</ul>\n",
    "\n",
    "![picture](https://drive.google.com/uc?id=12o6n6B2lqbB2_Zz8S_EK4SGvaWZ87-K9)"
   ]
  },
  {
   "cell_type": "markdown",
   "metadata": {
    "id": "jTOuV4ojTjR1"
   },
   "source": [
    "# Install CRIM Intervals and Pandas"
   ]
  },
  {
   "cell_type": "code",
   "execution_count": 13,
   "metadata": {
    "colab": {
     "base_uri": "https://localhost:8080/"
    },
    "executionInfo": {
     "elapsed": 32948,
     "status": "ok",
     "timestamp": 1604258961424,
     "user": {
      "displayName": "Richard Freedman",
      "photoUrl": "https://lh3.googleusercontent.com/a-/AOh14GhHvfHtQ2E373o2tC8YiM21mhdNEPTOEGIBrH3OH_o=s64",
      "userId": "15551081619854298243"
     },
     "user_tz": 300
    },
    "id": "SuQe1-FT7tW6",
    "outputId": "3566963f-a331-4576-b5d4-dc94e8125d59"
   },
   "outputs": [],
   "source": [
    "from crim_intervals import *\n",
    "import pandas as pd"
   ]
  },
  {
   "cell_type": "markdown",
   "metadata": {
    "id": "Fdgqw7ABSl5M"
   },
   "source": [
    "# Upload the Test File\n",
    "And check working directory"
   ]
  },
  {
   "cell_type": "markdown",
   "metadata": {
    "id": "mRNurLzRUXAx"
   },
   "source": [
    "# Load the Test  MEI File to CRIM Intervals\n",
    "***\n",
    "- Pull MEI from CRIM Repository:  `'https://raw.githubusercontent.com/RichardFreedman/CRIM-notebooks/master/CRIM/CRIM_intervals_test.mei'`\n",
    "\n",
    "### Or\n",
    "\n",
    "- Use `/content/your_file_name.mei` for any local file you've uploaded\n"
   ]
  },
  {
   "cell_type": "code",
   "execution_count": 20,
   "metadata": {
    "colab": {
     "base_uri": "https://localhost:8080/",
     "height": 385
    },
    "executionInfo": {
     "elapsed": 364,
     "status": "error",
     "timestamp": 1604259934893,
     "user": {
      "displayName": "Richard Freedman",
      "photoUrl": "https://lh3.googleusercontent.com/a-/AOh14GhHvfHtQ2E373o2tC8YiM21mhdNEPTOEGIBrH3OH_o=s64",
      "userId": "15551081619854298243"
     },
     "user_tz": 300
    },
    "id": "q9yn3DlIUcGY",
    "outputId": "037b4c77-dad4-4a56-d32f-fb5603b5d923"
   },
   "outputs": [
    {
     "name": "stdout",
     "output_type": "stream",
     "text": [
      "Requesting file from /Users/rfreedma/Documents/Python Projects/CRIM-notebooks/CRIM/CRIM_intervals_test.mei...\n",
      "Successfully imported.\n"
     ]
    }
   ],
   "source": [
    "#corpus = CorpusBase(['/Users/rfreedma/Documents/crim/MEI/StrasFiles/01_Brumel_Heth.mei', '/Users/rfreedma/Documents/crim/MEI/StrasFiles/02_Brumel_Joth.mei', '/Users/rfreedma/Documents/crim/MEI/StrasFiles/03_Brumel_Lamed.mei', '/Users/rfreedma/Documents/crim/MEI/StrasFiles/04_Brumel_Nun.mei', '/Users/rfreedma/Documents/crim/MEI/StrasFiles/05_Brumel_Gimel.mei'])\n",
    "corpus_files = ['/Users/rfreedma/Documents/Python Projects/CRIM-notebooks/CRIM/CRIM_intervals_test.mei']\n",
    "corpus = CorpusBase(corpus_files)"
   ]
  },
  {
   "cell_type": "markdown",
   "metadata": {
    "id": "Own2Vf5fU0aH"
   },
   "source": [
    "***\n",
    "\n",
    "# Select Actual or Incremental Durations\n",
    "\n",
    "### About Rhythmic Durations\n",
    "\n",
    "- For `find_close_matches` and `find_exact_matches`, rhythmic variation/duration is displayed, but **not** factored into the calculation of matching.\n",
    "- **Incremental Offset** calculates the intervals using a **fixed offset between notes**, no matter their actual duration.  Use this to ignore passing tones or other ornaments.  The offsets are expressed in multiples of the quarter note (Offset = 1 samples at quarter note; Offset = 2 at half note, etc). Set with `vectors = IntervalBase(corpus.note_list_incremental_offset(2))`"
   ]
  },
  {
   "cell_type": "code",
   "execution_count": 4,
   "metadata": {
    "executionInfo": {
     "elapsed": 513,
     "status": "ok",
     "timestamp": 1604259935046,
     "user": {
      "displayName": "Richard Freedman",
      "photoUrl": "https://lh3.googleusercontent.com/a-/AOh14GhHvfHtQ2E373o2tC8YiM21mhdNEPTOEGIBrH3OH_o=s64",
      "userId": "15551081619854298243"
     },
     "user_tz": 300
    },
    "id": "AMgnNplQU4gj"
   },
   "outputs": [],
   "source": [
    "vectors = IntervalBase(corpus.note_list)\n",
    "#vectors = IntervalBase(corpus.note_list_incremental_offset(2))"
   ]
  },
  {
   "cell_type": "markdown",
   "metadata": {
    "id": "efQtIP8SVF_s"
   },
   "source": [
    "***\n",
    "\n",
    "# Select Generic or Semitone:\n",
    "\n",
    "- **Length of the Soggetto**: `into_patterns([vectors.semitone_intervals], 5)` \n",
    "\n",
    "- The **number** in this command represents the **minimum number of vectors to find**. 5 vectors is 6 notes.\n"
   ]
  },
  {
   "cell_type": "code",
   "execution_count": 5,
   "metadata": {
    "executionInfo": {
     "elapsed": 511,
     "status": "ok",
     "timestamp": 1604259935047,
     "user": {
      "displayName": "Richard Freedman",
      "photoUrl": "https://lh3.googleusercontent.com/a-/AOh14GhHvfHtQ2E373o2tC8YiM21mhdNEPTOEGIBrH3OH_o=s64",
      "userId": "15551081619854298243"
     },
     "user_tz": 300
    },
    "id": "6uR7dujRVJ8V"
   },
   "outputs": [],
   "source": [
    "patterns = into_patterns([vectors.generic_intervals], 4)\n",
    "#patterns = into_patterns([vectors.semitone_intervals], 4)"
   ]
  },
  {
   "cell_type": "markdown",
   "metadata": {
    "id": "EO-eQVGrT8CR"
   },
   "source": [
    "***\n",
    "\n",
    "# Select Exact Matches Here\n",
    "### (Use comment feature to select screen preview or CSV output) \n",
    "\n",
    "- **Exact** is exact in *all* ways `find_exact_matches(patterns, 2)` \n",
    "- The **number** in this command represents the **minimum number of matching melodies needed before reporting**. This allows us to filter for common or uncommon soggetti."
   ]
  },
  {
   "cell_type": "code",
   "execution_count": 10,
   "metadata": {
    "colab": {
     "base_uri": "https://localhost:8080/",
     "height": 340
    },
    "executionInfo": {
     "elapsed": 505,
     "status": "ok",
     "timestamp": 1604259935048,
     "user": {
      "displayName": "Richard Freedman",
      "photoUrl": "https://lh3.googleusercontent.com/a-/AOh14GhHvfHtQ2E373o2tC8YiM21mhdNEPTOEGIBrH3OH_o=s64",
      "userId": "15551081619854298243"
     },
     "user_tz": 300
    },
    "id": "RmiQhvs57tW-",
    "outputId": "dd27a1e0-52cf-40a7-de3b-248b06e98819"
   },
   "outputs": [
    {
     "name": "stdout",
     "output_type": "stream",
     "text": [
      "Finding exact matches...\n",
      "5 melodic intervals had more than 2 exact matches.\n",
      "\n"
     ]
    },
    {
     "data": {
      "text/html": [
       "<div>\n",
       "<style scoped>\n",
       "    .dataframe tbody tr th:only-of-type {\n",
       "        vertical-align: middle;\n",
       "    }\n",
       "\n",
       "    .dataframe tbody tr th {\n",
       "        vertical-align: top;\n",
       "    }\n",
       "\n",
       "    .dataframe thead th {\n",
       "        text-align: right;\n",
       "    }\n",
       "</style>\n",
       "<table border=\"1\" class=\"dataframe\">\n",
       "  <thead>\n",
       "    <tr style=\"text-align: right;\">\n",
       "      <th></th>\n",
       "      <th>pattern_generating_match</th>\n",
       "      <th>pattern_matched</th>\n",
       "      <th>piece_title</th>\n",
       "      <th>part</th>\n",
       "      <th>start_measure</th>\n",
       "      <th>end_measure</th>\n",
       "      <th>note_durations</th>\n",
       "      <th>ema</th>\n",
       "      <th>ema_url</th>\n",
       "    </tr>\n",
       "  </thead>\n",
       "  <tbody>\n",
       "    <tr>\n",
       "      <th>0</th>\n",
       "      <td>[4, 1, 2, 2]</td>\n",
       "      <td>[4, 1, 2, 2]</td>\n",
       "      <td>Ave Maria</td>\n",
       "      <td>[Superius]</td>\n",
       "      <td>1</td>\n",
       "      <td>3</td>\n",
       "      <td>[4.0, 8.0, 4.0, 4.0, 4.0]</td>\n",
       "      <td>1-3/1/@1.0-end,@start-end,@start-3.0</td>\n",
       "      <td>File must be a crim url to have a valid EMA url</td>\n",
       "    </tr>\n",
       "    <tr>\n",
       "      <th>1</th>\n",
       "      <td>[4, 1, 2, 2]</td>\n",
       "      <td>[4, 1, 2, 2]</td>\n",
       "      <td>Ave Maria</td>\n",
       "      <td>[Superius]</td>\n",
       "      <td>12</td>\n",
       "      <td>14</td>\n",
       "      <td>[4.0, 8.0, 4.0, 4.0, 4.0]</td>\n",
       "      <td>12-14/1/@1.0-end,@start-end,@start-3.0</td>\n",
       "      <td>File must be a crim url to have a valid EMA url</td>\n",
       "    </tr>\n",
       "    <tr>\n",
       "      <th>2</th>\n",
       "      <td>[4, 1, 2, 2]</td>\n",
       "      <td>[4, 1, 2, 2]</td>\n",
       "      <td>Ave Maria</td>\n",
       "      <td>Altus</td>\n",
       "      <td>3</td>\n",
       "      <td>5</td>\n",
       "      <td>[4.0, 8.0, 4.0, 4.0, 4.0]</td>\n",
       "      <td>3-5/2/@1.0-end,@start-end,@start-3.0</td>\n",
       "      <td>File must be a crim url to have a valid EMA url</td>\n",
       "    </tr>\n",
       "    <tr>\n",
       "      <th>3</th>\n",
       "      <td>[4, 1, 2, 2]</td>\n",
       "      <td>[4, 1, 2, 2]</td>\n",
       "      <td>Ave Maria</td>\n",
       "      <td>Tenor</td>\n",
       "      <td>5</td>\n",
       "      <td>7</td>\n",
       "      <td>[4.0, 8.0, 4.0, 4.0, 4.0]</td>\n",
       "      <td>5-7/3/@1.0-end,@start-end,@start-3.0</td>\n",
       "      <td>File must be a crim url to have a valid EMA url</td>\n",
       "    </tr>\n",
       "    <tr>\n",
       "      <th>4</th>\n",
       "      <td>[4, 1, 2, 2]</td>\n",
       "      <td>[4, 1, 2, 2]</td>\n",
       "      <td>Ave Maria</td>\n",
       "      <td>Bassus</td>\n",
       "      <td>7</td>\n",
       "      <td>9</td>\n",
       "      <td>[4.0, 8.0, 4.0, 4.0, 4.0]</td>\n",
       "      <td>7-9/4/@1.0-end,@start-end,@start-3.0</td>\n",
       "      <td>File must be a crim url to have a valid EMA url</td>\n",
       "    </tr>\n",
       "  </tbody>\n",
       "</table>\n",
       "</div>"
      ],
      "text/plain": [
       "  pattern_generating_match  ...                                          ema_url\n",
       "0             [4, 1, 2, 2]  ...  File must be a crim url to have a valid EMA url\n",
       "1             [4, 1, 2, 2]  ...  File must be a crim url to have a valid EMA url\n",
       "2             [4, 1, 2, 2]  ...  File must be a crim url to have a valid EMA url\n",
       "3             [4, 1, 2, 2]  ...  File must be a crim url to have a valid EMA url\n",
       "4             [4, 1, 2, 2]  ...  File must be a crim url to have a valid EMA url\n",
       "\n",
       "[5 rows x 9 columns]"
      ]
     },
     "execution_count": 10,
     "metadata": {
      "tags": []
     },
     "output_type": "execute_result"
    }
   ],
   "source": [
    "exact_matches = find_exact_matches(patterns, 2)\n",
    "## Use the following for exact screen preview\n",
    "#for item in exact_matches:\n",
    "    #item.print_exact_matches()\n",
    "\n",
    "output = export_pandas(exact_matches)\n",
    "pd.DataFrame(output).head()\n",
    "## For complete dataframe preview, use the following\n",
    "# pd.DataFrame(output)\n",
    "## For CSV export, use the following (and follow prompts for file name)\n",
    "#export_to_csv(exact_matches)"
   ]
  },
  {
   "cell_type": "markdown",
   "metadata": {
    "id": "JUNiv9kUUF_R"
   },
   "source": [
    "***\n",
    "\n",
    "# Select Close Matches Here\n",
    "### (Comment out the 'for item iteration' in order to skip screen preview)\n",
    "\n",
    "- **Close** matches allow for melodic variation (see more below). `find_close_matches(patterns, 2, 1)`\n",
    "- The **first number** in this command is the **minimum number of melodies** needed before reporting\n",
    "- The **second number** is **threshold of similarity** needed in order to find a match. \n",
    "- Lower number = very similar; higher number = less similar\n",
    "\n",
    "##### More about Close Matches  \n",
    "- The **threshold for close matches** is determined by the **second number** called in the method. \n",
    "- We select two patterns, then compare *each vector in each pattern successively*. \n",
    "- The *differences between each vector are summed*. \n",
    "- If that value is **below the threshold specified**, we consider the **two patterns closely matched**.\n",
    "- The format of the method call is  `find_close_matches(the array you get from into_patterns, minimum matches needed to be displayed, threshold for close match)`.\n"
   ]
  },
  {
   "cell_type": "code",
   "execution_count": 7,
   "metadata": {
    "colab": {
     "base_uri": "https://localhost:8080/",
     "height": 742
    },
    "executionInfo": {
     "elapsed": 866,
     "status": "ok",
     "timestamp": 1604259935411,
     "user": {
      "displayName": "Richard Freedman",
      "photoUrl": "https://lh3.googleusercontent.com/a-/AOh14GhHvfHtQ2E373o2tC8YiM21mhdNEPTOEGIBrH3OH_o=s64",
      "userId": "15551081619854298243"
     },
     "user_tz": 300
    },
    "id": "54aH_EcnUJsC",
    "outputId": "640e6c69-b822-4288-a72d-370dd5cf94d0"
   },
   "outputs": [
    {
     "name": "stdout",
     "output_type": "stream",
     "text": [
      "Finding close matches...\n",
      "86 melodic intervals had more than 4 exact or close matches.\n",
      "\n",
      "This method will create a csv file in your current working directory. Continue? (y/n): y\n",
      "Enter a name for your csv file (.csv will be appended): Mass_0001_01_Generic_Close_4_2\n",
      "CSV created in your current working directory.\n"
     ]
    }
   ],
   "source": [
    "close_matches = find_close_matches(patterns, 4, 2)\n",
    "## Use the following for exact screen preview\n",
    "#for item in close_matches:\n",
    "   #item.print_close_matches()\n",
    "    #return pd.DataFrame(close_matches)\n",
    "\n",
    "output = export_pandas(close_matches)\n",
    "pd.DataFrame(output).head()\n",
    "## For complete dataframe preview, use the following\n",
    "pd.DataFrame(output)\n",
    "## For CSV export, use the following (and follow prompts for file name)\n",
    "export_to_csv(close_matches)"
   ]
  },
  {
   "cell_type": "markdown",
   "metadata": {
    "id": "g5TjBwURVf13"
   },
   "source": [
    "***\n",
    "\n",
    "# Classify Patterns Here \n",
    "### Note:  depends on choice of Close or Exact above!  Must choose appropriate one below!\n",
    "### No Pandas Preview, but CSV Export OK\n",
    "### Scroll to bottom of output to name and save CSV file"
   ]
  },
  {
   "cell_type": "code",
   "execution_count": 8,
   "metadata": {
    "colab": {
     "base_uri": "https://localhost:8080/",
     "height": 1000
    },
    "executionInfo": {
     "elapsed": 100183,
     "status": "error",
     "timestamp": 1604260034730,
     "user": {
      "displayName": "Richard Freedman",
      "photoUrl": "https://lh3.googleusercontent.com/a-/AOh14GhHvfHtQ2E373o2tC8YiM21mhdNEPTOEGIBrH3OH_o=s64",
      "userId": "15551081619854298243"
     },
     "user_tz": 300
    },
    "id": "17nl_qF6VkQs",
    "outputId": "048eaa0a-777c-4b0f-cf45-98509d335af8"
   },
   "outputs": [
    {
     "name": "stdout",
     "output_type": "stream",
     "text": [
      "periodic entry:\n",
      "Pattern: [2, 2, 2, 2], Locations in entry: \n",
      "- Measure 23 in voice 3\n",
      "- Measure 23 in voice 3\n",
      "- Measure 23 in voice 3\n",
      "fuga:\n",
      "Pattern: [1, 3, -2, -2], Locations in entry: \n",
      "- Measure 2 in voice 2\n",
      "- Measure 2 in voice 3\n",
      "- Measure 6 in voice 2\n",
      "- Measure 7 in voice 2\n",
      "periodic entry:\n",
      "Pattern: [2, 2, -2, -2], Locations in entry: \n",
      "- Measure 6 in voice 2\n",
      "- Measure 7 in voice 2\n",
      "- Measure 11 in voice 2\n",
      "- Measure 12 in voice 3\n",
      "fuga:\n",
      "Pattern: [2, -2, 2, -2], Locations in entry: \n",
      "- Measure 3 in voice 2\n",
      "- Measure 4 in voice 3\n",
      "- Measure 7 in voice 1\n",
      "fuga:\n",
      "Pattern: [2, 2, 2, -3], Locations in entry: \n",
      "- Measure 14 in voice 1\n",
      "- Measure 14 in voice 2\n",
      "- Measure 15 in voice 2\n",
      "fuga:\n",
      "Pattern: [2, 2, 2, -3], Locations in entry: \n",
      "- Measure 14 in voice 2\n",
      "- Measure 15 in voice 2\n",
      "- Measure 21 in voice 1\n",
      "fuga:\n",
      "Pattern: [2, 2, 2, -3], Locations in entry: \n",
      "- Measure 15 in voice 2\n",
      "- Measure 21 in voice 1\n",
      "- Measure 23 in voice 3\n",
      "- Measure 25 in voice 2\n",
      "fuga:\n",
      "Pattern: [2, 4, -3, 2], Locations in entry: \n",
      "- Measure 13 in voice 3\n",
      "- Measure 20 in voice 1\n",
      "- Measure 20 in voice 2\n",
      "- Measure 21 in voice 3\n",
      "fuga:\n",
      "Pattern: [1, 4, -2, 4], Locations in entry: \n",
      "- Measure 20 in voice 2\n",
      "- Measure 21 in voice 3\n",
      "- Measure 23 in voice 4\n",
      "fuga:\n",
      "Pattern: [1, 5, -3, 2], Locations in entry: \n",
      "- Measure 21 in voice 3\n",
      "- Measure 23 in voice 4\n",
      "- Measure 25 in voice 3\n",
      "fuga:\n",
      "Pattern: [2, 2, 2, -3], Locations in entry: \n",
      "- Measure 14 in voice 1\n",
      "- Measure 14 in voice 2\n",
      "- Measure 15 in voice 2\n",
      "fuga:\n",
      "Pattern: [2, 2, 2, -3], Locations in entry: \n",
      "- Measure 14 in voice 2\n",
      "- Measure 15 in voice 2\n",
      "- Measure 21 in voice 1\n",
      "fuga:\n",
      "Pattern: [2, 2, 2, -3], Locations in entry: \n",
      "- Measure 15 in voice 2\n",
      "- Measure 21 in voice 1\n",
      "- Measure 23 in voice 3\n",
      "- Measure 25 in voice 2\n",
      "fuga:\n",
      "Pattern: [2, 2, -2, 4], Locations in entry: \n",
      "- Measure 4 in voice 3\n",
      "- Measure 4 in voice 4\n",
      "- Measure 14 in voice 2\n",
      "- Measure 16 in voice 2\n",
      "fuga:\n",
      "Pattern: [2, 2, -3, 4], Locations in entry: \n",
      "- Measure 14 in voice 2\n",
      "- Measure 16 in voice 2\n",
      "- Measure 21 in voice 1\n",
      "fuga:\n",
      "Pattern: [1, 3, -2, -2], Locations in entry: \n",
      "- Measure 2 in voice 2\n",
      "- Measure 2 in voice 3\n",
      "- Measure 11 in voice 2\n",
      "- Measure 12 in voice 3\n",
      "fuga:\n",
      "Pattern: [-2, 2, 2, 2], Locations in entry: \n",
      "- Measure 14 in voice 1\n",
      "- Measure 14 in voice 2\n",
      "- Measure 15 in voice 2\n",
      "- Measure 20 in voice 1\n",
      "periodic entry:\n",
      "Pattern: [2, 2, 2, 2], Locations in entry: \n",
      "- Measure 23 in voice 3\n",
      "- Measure 23 in voice 3\n",
      "- Measure 23 in voice 3\n",
      "fuga:\n",
      "Pattern: [2, 2, 2, -2], Locations in entry: \n",
      "- Measure 3 in voice 3\n",
      "- Measure 4 in voice 1\n",
      "- Measure 14 in voice 1\n",
      "- Measure 14 in voice 2\n",
      "fuga:\n",
      "Pattern: [2, 2, 2, -3], Locations in entry: \n",
      "- Measure 14 in voice 1\n",
      "- Measure 14 in voice 2\n",
      "- Measure 15 in voice 2\n",
      "fuga:\n",
      "Pattern: [2, 2, 2, -3], Locations in entry: \n",
      "- Measure 14 in voice 2\n",
      "- Measure 15 in voice 2\n",
      "- Measure 21 in voice 1\n",
      "fuga:\n",
      "Pattern: [2, 2, 2, -3], Locations in entry: \n",
      "- Measure 15 in voice 2\n",
      "- Measure 21 in voice 1\n",
      "- Measure 23 in voice 3\n",
      "- Measure 25 in voice 2\n",
      "fuga:\n",
      "Pattern: [1, 3, -2, -2], Locations in entry: \n",
      "- Measure 2 in voice 2\n",
      "- Measure 2 in voice 3\n",
      "- Measure 6 in voice 2\n",
      "- Measure 7 in voice 2\n",
      "periodic entry:\n",
      "Pattern: [2, 2, -2, -2], Locations in entry: \n",
      "- Measure 6 in voice 2\n",
      "- Measure 7 in voice 2\n",
      "- Measure 11 in voice 2\n",
      "- Measure 12 in voice 3\n",
      "imitative duo:\n",
      "Pattern: [2, -2, 2, -2], Locations in entry: \n",
      "- Measure 3 in voice 2\n",
      "- Measure 4 in voice 2\n",
      "- Measure 6 in voice 1\n",
      "- Measure 7 in voice 1\n",
      "fuga:\n",
      "Pattern: [4, -2, 2, -2], Locations in entry: \n",
      "- Measure 4 in voice 3\n",
      "- Measure 6 in voice 1\n",
      "- Measure 7 in voice 1\n",
      "periodic entry:\n",
      "Pattern: [2, 2, 2, 2], Locations in entry: \n",
      "- Measure 23 in voice 3\n",
      "- Measure 23 in voice 3\n",
      "- Measure 23 in voice 3\n",
      "fuga:\n",
      "Pattern: [-2, -2, 2, 2], Locations in entry: \n",
      "- Measure 3 in voice 3\n",
      "- Measure 4 in voice 1\n",
      "- Measure 6 in voice 3\n",
      "fuga:\n",
      "Pattern: [1, 3, -2, -2], Locations in entry: \n",
      "- Measure 2 in voice 2\n",
      "- Measure 2 in voice 3\n",
      "- Measure 6 in voice 2\n",
      "- Measure 7 in voice 2\n",
      "periodic entry:\n",
      "Pattern: [2, 2, -2, -2], Locations in entry: \n",
      "- Measure 6 in voice 2\n",
      "- Measure 7 in voice 2\n",
      "- Measure 11 in voice 2\n",
      "- Measure 12 in voice 3\n",
      "fuga:\n",
      "Pattern: [2, 4, -3, 2], Locations in entry: \n",
      "- Measure 13 in voice 3\n",
      "- Measure 20 in voice 1\n",
      "- Measure 21 in voice 3\n",
      "fuga:\n",
      "Pattern: [1, 4, -3, 3], Locations in entry: \n",
      "- Measure 20 in voice 1\n",
      "- Measure 21 in voice 3\n",
      "- Measure 23 in voice 4\n",
      "fuga:\n",
      "Pattern: [1, 5, -3, 2], Locations in entry: \n",
      "- Measure 21 in voice 3\n",
      "- Measure 23 in voice 4\n",
      "- Measure 25 in voice 3\n",
      "fuga:\n",
      "Pattern: [2, 2, -2, -2], Locations in entry: \n",
      "- Measure 11 in voice 2\n",
      "- Measure 12 in voice 3\n",
      "- Measure 12 in voice 4\n",
      "fuga:\n",
      "Pattern: [2, 2, -3, 2], Locations in entry: \n",
      "- Measure 14 in voice 1\n",
      "- Measure 16 in voice 2\n",
      "- Measure 20 in voice 1\n",
      "- Measure 21 in voice 3\n",
      "fuga:\n",
      "Pattern: [1, 4, -3, 3], Locations in entry: \n",
      "- Measure 20 in voice 1\n",
      "- Measure 21 in voice 3\n",
      "- Measure 23 in voice 4\n",
      "fuga:\n",
      "Pattern: [1, 5, -3, 2], Locations in entry: \n",
      "- Measure 21 in voice 3\n",
      "- Measure 23 in voice 4\n",
      "- Measure 25 in voice 3\n",
      "fuga:\n",
      "Pattern: [2, 4, -3, 2], Locations in entry: \n",
      "- Measure 13 in voice 3\n",
      "- Measure 20 in voice 1\n",
      "- Measure 21 in voice 3\n",
      "fuga:\n",
      "Pattern: [1, 4, -3, 3], Locations in entry: \n",
      "- Measure 20 in voice 1\n",
      "- Measure 21 in voice 3\n",
      "- Measure 23 in voice 4\n",
      "fuga:\n",
      "Pattern: [1, 5, -3, 2], Locations in entry: \n",
      "- Measure 21 in voice 3\n",
      "- Measure 23 in voice 4\n",
      "- Measure 25 in voice 3\n",
      "fuga:\n",
      "Pattern: [2, 2, -3, 2], Locations in entry: \n",
      "- Measure 14 in voice 1\n",
      "- Measure 16 in voice 2\n",
      "- Measure 16 in voice 4\n",
      "- Measure 22 in voice 3\n",
      "periodic entry:\n",
      "Pattern: [2, 2, 2, 2], Locations in entry: \n",
      "- Measure 23 in voice 3\n",
      "- Measure 23 in voice 3\n",
      "- Measure 23 in voice 3\n",
      "fuga:\n",
      "Pattern: [1, 3, -2, -2], Locations in entry: \n",
      "- Measure 2 in voice 2\n",
      "- Measure 2 in voice 3\n",
      "- Measure 6 in voice 2\n",
      "- Measure 7 in voice 2\n",
      "periodic entry:\n",
      "Pattern: [2, 2, -2, -2], Locations in entry: \n",
      "- Measure 6 in voice 2\n",
      "- Measure 7 in voice 2\n",
      "- Measure 11 in voice 2\n",
      "- Measure 12 in voice 3\n",
      "fuga:\n",
      "Pattern: [2, -2, 2, -2], Locations in entry: \n",
      "- Measure 3 in voice 2\n",
      "- Measure 4 in voice 3\n",
      "- Measure 7 in voice 1\n",
      "fuga:\n",
      "Pattern: [2, 2, 2, -3], Locations in entry: \n",
      "- Measure 14 in voice 1\n",
      "- Measure 14 in voice 2\n",
      "- Measure 15 in voice 2\n",
      "fuga:\n",
      "Pattern: [2, 2, 2, -3], Locations in entry: \n",
      "- Measure 14 in voice 2\n",
      "- Measure 15 in voice 2\n",
      "- Measure 21 in voice 1\n",
      "fuga:\n",
      "Pattern: [2, 2, 2, -3], Locations in entry: \n",
      "- Measure 15 in voice 2\n",
      "- Measure 21 in voice 1\n",
      "- Measure 23 in voice 3\n",
      "- Measure 25 in voice 2\n",
      "fuga:\n",
      "Pattern: [2, 4, -3, 2], Locations in entry: \n",
      "- Measure 13 in voice 3\n",
      "- Measure 20 in voice 1\n",
      "- Measure 20 in voice 2\n",
      "- Measure 21 in voice 3\n",
      "fuga:\n",
      "Pattern: [1, 4, -2, 4], Locations in entry: \n",
      "- Measure 20 in voice 2\n",
      "- Measure 21 in voice 3\n",
      "- Measure 23 in voice 4\n",
      "fuga:\n",
      "Pattern: [1, 5, -3, 2], Locations in entry: \n",
      "- Measure 21 in voice 3\n",
      "- Measure 23 in voice 4\n",
      "- Measure 25 in voice 3\n",
      "fuga:\n",
      "Pattern: [2, 2, 2, -3], Locations in entry: \n",
      "- Measure 14 in voice 1\n",
      "- Measure 14 in voice 2\n",
      "- Measure 15 in voice 2\n",
      "fuga:\n",
      "Pattern: [2, 2, 2, -3], Locations in entry: \n",
      "- Measure 14 in voice 2\n",
      "- Measure 15 in voice 2\n",
      "- Measure 21 in voice 1\n",
      "fuga:\n",
      "Pattern: [2, 2, 2, -3], Locations in entry: \n",
      "- Measure 15 in voice 2\n",
      "- Measure 21 in voice 1\n",
      "- Measure 23 in voice 3\n",
      "- Measure 25 in voice 2\n",
      "fuga:\n",
      "Pattern: [2, 2, -2, 4], Locations in entry: \n",
      "- Measure 4 in voice 3\n",
      "- Measure 4 in voice 4\n",
      "- Measure 14 in voice 2\n",
      "- Measure 16 in voice 2\n",
      "fuga:\n",
      "Pattern: [2, 2, -3, 4], Locations in entry: \n",
      "- Measure 14 in voice 2\n",
      "- Measure 16 in voice 2\n",
      "- Measure 21 in voice 1\n",
      "fuga:\n",
      "Pattern: [1, 3, -2, -2], Locations in entry: \n",
      "- Measure 2 in voice 2\n",
      "- Measure 2 in voice 3\n",
      "- Measure 11 in voice 2\n",
      "- Measure 12 in voice 3\n",
      "fuga:\n",
      "Pattern: [-2, 2, 2, 2], Locations in entry: \n",
      "- Measure 14 in voice 1\n",
      "- Measure 14 in voice 2\n",
      "- Measure 15 in voice 2\n",
      "- Measure 20 in voice 1\n",
      "periodic entry:\n",
      "Pattern: [2, 2, 2, 2], Locations in entry: \n",
      "- Measure 23 in voice 3\n",
      "- Measure 23 in voice 3\n",
      "- Measure 23 in voice 3\n",
      "fuga:\n",
      "Pattern: [2, 2, 2, -2], Locations in entry: \n",
      "- Measure 3 in voice 3\n",
      "- Measure 4 in voice 1\n",
      "- Measure 14 in voice 1\n",
      "- Measure 14 in voice 2\n",
      "fuga:\n",
      "Pattern: [2, 2, 2, -3], Locations in entry: \n",
      "- Measure 14 in voice 1\n",
      "- Measure 14 in voice 2\n",
      "- Measure 15 in voice 2\n",
      "fuga:\n",
      "Pattern: [2, 2, 2, -3], Locations in entry: \n",
      "- Measure 14 in voice 2\n",
      "- Measure 15 in voice 2\n",
      "- Measure 21 in voice 1\n",
      "fuga:\n",
      "Pattern: [2, 2, 2, -3], Locations in entry: \n",
      "- Measure 15 in voice 2\n",
      "- Measure 21 in voice 1\n",
      "- Measure 23 in voice 3\n",
      "- Measure 25 in voice 2\n",
      "fuga:\n",
      "Pattern: [1, 3, -2, -2], Locations in entry: \n",
      "- Measure 2 in voice 2\n",
      "- Measure 2 in voice 3\n",
      "- Measure 6 in voice 2\n",
      "- Measure 7 in voice 2\n",
      "periodic entry:\n",
      "Pattern: [2, 2, -2, -2], Locations in entry: \n",
      "- Measure 6 in voice 2\n",
      "- Measure 7 in voice 2\n",
      "- Measure 11 in voice 2\n",
      "- Measure 12 in voice 3\n",
      "imitative duo:\n",
      "Pattern: [2, -2, 2, -2], Locations in entry: \n",
      "- Measure 3 in voice 2\n",
      "- Measure 4 in voice 2\n",
      "- Measure 6 in voice 1\n",
      "- Measure 7 in voice 1\n",
      "fuga:\n",
      "Pattern: [4, -2, 2, -2], Locations in entry: \n",
      "- Measure 4 in voice 3\n",
      "- Measure 6 in voice 1\n",
      "- Measure 7 in voice 1\n",
      "periodic entry:\n",
      "Pattern: [2, 2, 2, 2], Locations in entry: \n",
      "- Measure 23 in voice 3\n",
      "- Measure 23 in voice 3\n",
      "- Measure 23 in voice 3\n",
      "fuga:\n",
      "Pattern: [-2, -2, 2, 2], Locations in entry: \n",
      "- Measure 3 in voice 3\n",
      "- Measure 4 in voice 1\n",
      "- Measure 6 in voice 3\n",
      "fuga:\n",
      "Pattern: [1, 3, -2, -2], Locations in entry: \n",
      "- Measure 2 in voice 2\n",
      "- Measure 2 in voice 3\n",
      "- Measure 6 in voice 2\n",
      "- Measure 7 in voice 2\n",
      "periodic entry:\n",
      "Pattern: [2, 2, -2, -2], Locations in entry: \n",
      "- Measure 6 in voice 2\n",
      "- Measure 7 in voice 2\n",
      "- Measure 11 in voice 2\n",
      "- Measure 12 in voice 3\n",
      "fuga:\n",
      "Pattern: [2, 4, -3, 2], Locations in entry: \n",
      "- Measure 13 in voice 3\n",
      "- Measure 20 in voice 1\n",
      "- Measure 21 in voice 3\n",
      "fuga:\n",
      "Pattern: [1, 4, -3, 3], Locations in entry: \n",
      "- Measure 20 in voice 1\n",
      "- Measure 21 in voice 3\n",
      "- Measure 23 in voice 4\n",
      "fuga:\n",
      "Pattern: [1, 5, -3, 2], Locations in entry: \n",
      "- Measure 21 in voice 3\n",
      "- Measure 23 in voice 4\n",
      "- Measure 25 in voice 3\n",
      "fuga:\n",
      "Pattern: [2, 2, -2, -2], Locations in entry: \n",
      "- Measure 11 in voice 2\n",
      "- Measure 12 in voice 3\n",
      "- Measure 12 in voice 4\n",
      "fuga:\n",
      "Pattern: [2, 2, -3, 2], Locations in entry: \n",
      "- Measure 14 in voice 1\n",
      "- Measure 16 in voice 2\n",
      "- Measure 20 in voice 1\n",
      "- Measure 21 in voice 3\n",
      "fuga:\n",
      "Pattern: [1, 4, -3, 3], Locations in entry: \n",
      "- Measure 20 in voice 1\n",
      "- Measure 21 in voice 3\n",
      "- Measure 23 in voice 4\n",
      "fuga:\n",
      "Pattern: [1, 5, -3, 2], Locations in entry: \n",
      "- Measure 21 in voice 3\n",
      "- Measure 23 in voice 4\n",
      "- Measure 25 in voice 3\n",
      "fuga:\n",
      "Pattern: [2, 4, -3, 2], Locations in entry: \n",
      "- Measure 13 in voice 3\n",
      "- Measure 20 in voice 1\n",
      "- Measure 21 in voice 3\n",
      "fuga:\n",
      "Pattern: [1, 4, -3, 3], Locations in entry: \n",
      "- Measure 20 in voice 1\n",
      "- Measure 21 in voice 3\n",
      "- Measure 23 in voice 4\n",
      "fuga:\n",
      "Pattern: [1, 5, -3, 2], Locations in entry: \n",
      "- Measure 21 in voice 3\n",
      "- Measure 23 in voice 4\n",
      "- Measure 25 in voice 3\n",
      "fuga:\n",
      "Pattern: [2, 2, -3, 2], Locations in entry: \n",
      "- Measure 14 in voice 1\n",
      "- Measure 16 in voice 2\n",
      "- Measure 16 in voice 4\n",
      "- Measure 22 in voice 3\n"
     ]
    },
    {
     "name": "stdout",
     "output_type": "stream",
     "text": [
      "This method will create a csv file in your current working directory. Continue? (y/n): y\n",
      "Enter a name for your csv file (.csv will be appended): Mass_0001_1_Classified_2\n",
      "CSV created in your current working directory.\n"
     ]
    }
   ],
   "source": [
    "classify_matches(close_matches, 2)\n",
    "#classify_matches(exact_matches, 2)\n",
    "classified_matches = classify_matches(close_matches, 2)\n",
    "#pd.DataFrame(classified_matches)\n",
    "output = export_pandas(classified_matches)\n",
    "pd.DataFrame(output).head()\n",
    "\n",
    "## For CSV export, use the following (and follow prompts for file name)\n",
    "\n",
    "export_to_csv(classified_matches)"
   ]
  },
  {
   "cell_type": "markdown",
   "metadata": {
    "id": "GgsA2tTPTSyq"
   },
   "source": [
    "# Export Results to CSV\n",
    "The file will be saved in the Colab Notebook.  See below to download to your local machine."
   ]
  },
  {
   "cell_type": "code",
   "execution_count": null,
   "metadata": {
    "executionInfo": {
     "elapsed": 100175,
     "status": "aborted",
     "timestamp": 1604260034728,
     "user": {
      "displayName": "Richard Freedman",
      "photoUrl": "https://lh3.googleusercontent.com/a-/AOh14GhHvfHtQ2E373o2tC8YiM21mhdNEPTOEGIBrH3OH_o=s64",
      "userId": "15551081619854298243"
     },
     "user_tz": 300
    },
    "id": "PgaZhALH7tXE"
   },
   "outputs": [],
   "source": [
    "export_to_csv(exact_matches)\n",
    "#export_to_csv(close_matches)"
   ]
  },
  {
   "cell_type": "markdown",
   "metadata": {
    "id": "Cr-A3QKxTISo"
   },
   "source": [
    "# Download CSV Files to Local Machine\n",
    "In files.download(\"file_name.csv\")"
   ]
  },
  {
   "cell_type": "code",
   "execution_count": null,
   "metadata": {
    "executionInfo": {
     "elapsed": 100171,
     "status": "aborted",
     "timestamp": 1604260034730,
     "user": {
      "displayName": "Richard Freedman",
      "photoUrl": "https://lh3.googleusercontent.com/a-/AOh14GhHvfHtQ2E373o2tC8YiM21mhdNEPTOEGIBrH3OH_o=s64",
      "userId": "15551081619854298243"
     },
     "user_tz": 300
    },
    "id": "Fa6xbS_Z7tXL"
   },
   "outputs": [],
   "source": [
    "from google.colab import files\n",
    "files.download(\"Sample.csv\")"
   ]
  },
  {
   "cell_type": "markdown",
   "metadata": {
    "id": "jkk-UBiA7tXB"
   },
   "source": [
    "# Discussion of Results"
   ]
  },
  {
   "cell_type": "markdown",
   "metadata": {
    "id": "uLnBcNne7tXB"
   },
   "source": [
    "The results are summarized [here](https://docs.google.com/document/d/1mUaTUqv4e_Em0gtNFNrUb9aClzbFb2vb8HdVbQCefiU/edit?usp=sharing), with comments."
   ]
  },
  {
   "cell_type": "code",
   "execution_count": null,
   "metadata": {
    "id": "FkZ1DyAcTEYh"
   },
   "outputs": [],
   "source": []
  }
 ],
 "metadata": {
  "colab": {
   "collapsed_sections": [],
   "name": "CRIM_Interval_Test_2020.ipynb",
   "provenance": []
  },
  "kernelspec": {
   "display_name": "Python 3",
   "language": "python",
   "name": "python3"
  },
  "language_info": {
   "codemirror_mode": {
    "name": "ipython",
    "version": 3
   },
   "file_extension": ".py",
   "mimetype": "text/x-python",
   "name": "python",
   "nbconvert_exporter": "python",
   "pygments_lexer": "ipython3",
   "version": "3.7.4"
  }
 },
 "nbformat": 4,
 "nbformat_minor": 1
}
