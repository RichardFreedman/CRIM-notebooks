{
 "cells": [
  {
   "cell_type": "code",
   "execution_count": 1,
   "metadata": {},
   "outputs": [],
   "source": [
    "import pandas as pd\n",
    "import ast\n",
    "import matplotlib\n",
    "\n",
    "from itertools import tee, combinations\n",
    "\n"
   ]
  },
  {
   "cell_type": "markdown",
   "metadata": {},
   "source": [
    "### Import Data, Convert Durations to Ratios, add to DataFrame"
   ]
  },
  {
   "cell_type": "code",
   "execution_count": 2,
   "metadata": {},
   "outputs": [],
   "source": [
    "results = pd.read_csv('https://raw.githubusercontent.com/RichardFreedman/CRIM-notebooks/master/CRIM/Mass_0001_01_Generic_Close_4_2.csv')"
   ]
  },
  {
   "cell_type": "code",
   "execution_count": 3,
   "metadata": {},
   "outputs": [],
   "source": [
    "# converts strings to numbers and replaces these in the dataframe\n",
    "\n",
    "results['Note_Durations'] = results['Note_Durations'].apply(ast.literal_eval)\n",
    "\n",
    "durations = results['Note_Durations']\n",
    "\n",
    "def pairwise(iterable):\n",
    "    \"s -> (s0,s1), (s1,s2), (s2, s3), ...\"\n",
    "    a, b = tee(iterable)\n",
    "    next(b, None)\n",
    "    return zip(a, b)\n",
    "\n",
    "def get_ratios(input_list):\n",
    "    ratio_pairs = []\n",
    "    for a, b in pairwise(input_list):\n",
    "        ratio_pairs.append(b / a)\n",
    "    return ratio_pairs\n",
    "   "
   ]
  },
  {
   "cell_type": "code",
   "execution_count": 4,
   "metadata": {},
   "outputs": [
    {
     "data": {
      "text/html": [
       "<div>\n",
       "<style scoped>\n",
       "    .dataframe tbody tr th:only-of-type {\n",
       "        vertical-align: middle;\n",
       "    }\n",
       "\n",
       "    .dataframe tbody tr th {\n",
       "        vertical-align: top;\n",
       "    }\n",
       "\n",
       "    .dataframe thead th {\n",
       "        text-align: right;\n",
       "    }\n",
       "</style>\n",
       "<table border=\"1\" class=\"dataframe\">\n",
       "  <thead>\n",
       "    <tr style=\"text-align: right;\">\n",
       "      <th></th>\n",
       "      <th>Pattern_Generating_Match</th>\n",
       "      <th>Pattern_matched</th>\n",
       "      <th>Piece_Title</th>\n",
       "      <th>Part</th>\n",
       "      <th>First_Note_Measure_Number</th>\n",
       "      <th>Last_Note_Measure_Number</th>\n",
       "      <th>Note_Durations</th>\n",
       "      <th>EMA</th>\n",
       "      <th>EMA_url</th>\n",
       "      <th>Duration_Ratios</th>\n",
       "    </tr>\n",
       "  </thead>\n",
       "  <tbody>\n",
       "    <tr>\n",
       "      <th>0</th>\n",
       "      <td>[-2, 2, 2, -2]</td>\n",
       "      <td>[-2, 2, 2, -2]</td>\n",
       "      <td>Missa Confitemini  Kyrie</td>\n",
       "      <td>Superius</td>\n",
       "      <td>1</td>\n",
       "      <td>3</td>\n",
       "      <td>[2.0, 4.0, 4.0, 3.0, 1.0]</td>\n",
       "      <td>1-3/1/@4.0-end,@start-end,@start-2.5</td>\n",
       "      <td>https://ema.crimproject.org/https%3A%2F%2Fcrim...</td>\n",
       "      <td>[2.0, 1.0, 0.75, 0.3333333333333333]</td>\n",
       "    </tr>\n",
       "    <tr>\n",
       "      <th>1</th>\n",
       "      <td>[-2, 2, 2, -2]</td>\n",
       "      <td>[-3, 2, 2, -2]</td>\n",
       "      <td>Missa Confitemini  Kyrie</td>\n",
       "      <td>Superius</td>\n",
       "      <td>13</td>\n",
       "      <td>14</td>\n",
       "      <td>[4.0, 2.0, 2.0, 1.0, 1.0]</td>\n",
       "      <td>13-14/1/@1.0-end,@start-1.5</td>\n",
       "      <td>https://ema.crimproject.org/https%3A%2F%2Fcrim...</td>\n",
       "      <td>[0.5, 1.0, 0.5, 1.0]</td>\n",
       "    </tr>\n",
       "    <tr>\n",
       "      <th>2</th>\n",
       "      <td>[-2, 2, 2, -2]</td>\n",
       "      <td>[-2, 2, 4, -2]</td>\n",
       "      <td>Missa Confitemini  Kyrie</td>\n",
       "      <td>Contratenor</td>\n",
       "      <td>7</td>\n",
       "      <td>7</td>\n",
       "      <td>[1.0, 1.0, 2.0, 1.0, 1.0]</td>\n",
       "      <td>7-7/2/@2.0-end,@start-4.5</td>\n",
       "      <td>https://ema.crimproject.org/https%3A%2F%2Fcrim...</td>\n",
       "      <td>[1.0, 2.0, 0.5, 1.0]</td>\n",
       "    </tr>\n",
       "    <tr>\n",
       "      <th>3</th>\n",
       "      <td>[-2, 2, 2, -2]</td>\n",
       "      <td>[-3, 2, 2, -2]</td>\n",
       "      <td>Missa Confitemini  Kyrie</td>\n",
       "      <td>Contratenor</td>\n",
       "      <td>11</td>\n",
       "      <td>12</td>\n",
       "      <td>[4.0, 2.0, 2.0, 6.0, 1.0]</td>\n",
       "      <td>11-12/2/@1.0-end,@start-4.0</td>\n",
       "      <td>https://ema.crimproject.org/https%3A%2F%2Fcrim...</td>\n",
       "      <td>[0.5, 1.0, 3.0, 0.16666666666666666]</td>\n",
       "    </tr>\n",
       "  </tbody>\n",
       "</table>\n",
       "</div>"
      ],
      "text/plain": [
       "  Pattern_Generating_Match Pattern_matched               Piece_Title  \\\n",
       "0           [-2, 2, 2, -2]  [-2, 2, 2, -2]  Missa Confitemini  Kyrie   \n",
       "1           [-2, 2, 2, -2]  [-3, 2, 2, -2]  Missa Confitemini  Kyrie   \n",
       "2           [-2, 2, 2, -2]  [-2, 2, 4, -2]  Missa Confitemini  Kyrie   \n",
       "3           [-2, 2, 2, -2]  [-3, 2, 2, -2]  Missa Confitemini  Kyrie   \n",
       "\n",
       "          Part  First_Note_Measure_Number  Last_Note_Measure_Number  \\\n",
       "0     Superius                          1                         3   \n",
       "1     Superius                         13                        14   \n",
       "2  Contratenor                          7                         7   \n",
       "3  Contratenor                         11                        12   \n",
       "\n",
       "              Note_Durations                                   EMA  \\\n",
       "0  [2.0, 4.0, 4.0, 3.0, 1.0]  1-3/1/@4.0-end,@start-end,@start-2.5   \n",
       "1  [4.0, 2.0, 2.0, 1.0, 1.0]           13-14/1/@1.0-end,@start-1.5   \n",
       "2  [1.0, 1.0, 2.0, 1.0, 1.0]             7-7/2/@2.0-end,@start-4.5   \n",
       "3  [4.0, 2.0, 2.0, 6.0, 1.0]           11-12/2/@1.0-end,@start-4.0   \n",
       "\n",
       "                                             EMA_url  \\\n",
       "0  https://ema.crimproject.org/https%3A%2F%2Fcrim...   \n",
       "1  https://ema.crimproject.org/https%3A%2F%2Fcrim...   \n",
       "2  https://ema.crimproject.org/https%3A%2F%2Fcrim...   \n",
       "3  https://ema.crimproject.org/https%3A%2F%2Fcrim...   \n",
       "\n",
       "                        Duration_Ratios  \n",
       "0  [2.0, 1.0, 0.75, 0.3333333333333333]  \n",
       "1                  [0.5, 1.0, 0.5, 1.0]  \n",
       "2                  [1.0, 2.0, 0.5, 1.0]  \n",
       "3  [0.5, 1.0, 3.0, 0.16666666666666666]  "
      ]
     },
     "execution_count": 4,
     "metadata": {},
     "output_type": "execute_result"
    }
   ],
   "source": [
    "results[\"Duration_Ratios\"] = results.Note_Durations.apply(get_ratios)\n",
    "results.head(4)"
   ]
  },
  {
   "cell_type": "markdown",
   "metadata": {},
   "source": [
    "### Test of Compare Ratios with Sample Data"
   ]
  },
  {
   "cell_type": "code",
   "execution_count": 5,
   "metadata": {},
   "outputs": [],
   "source": [
    "def compare_ratios_test (ratios_1, ratios_2):\n",
    "\n",
    "    # subraction of lists \n",
    "    # using zip() + list comprehension \n",
    "\n",
    "    # initializing lists \n",
    "    ratios_1 = [3, 5, 2, 6, 4] \n",
    "    ratios_2 = [7, 3, 4, 1, 5] \n",
    "\n",
    "    # printing original lists \n",
    "    print (\"The original list 1 is : \" + str(ratios_1)) \n",
    "    print (\"The original list 2 is : \" + str(ratios_2)) \n",
    "\n",
    "    # division of lists \n",
    "    # using zip() + list comprehension \n",
    "    diffs = [i - j for i, j in zip(ratios_1, ratios_2)] \n",
    "    abs_diffs = [abs(ele) for ele in diffs] \n",
    "    sum_diffs = sum(abs_diffs)\n",
    "\n",
    "    # printing result \n",
    "    print (\"The difference list is : \" + str(diffs)) \n",
    "    print (\"The sum of absolute diffs is : \" + str(sum_diffs)) \n",
    "    #return abs_diffs\n",
    "    return sum_diffs\n",
    "    \n",
    "    "
   ]
  },
  {
   "cell_type": "markdown",
   "metadata": {},
   "source": [
    "### And Run the Test"
   ]
  },
  {
   "cell_type": "code",
   "execution_count": 6,
   "metadata": {},
   "outputs": [
    {
     "name": "stdout",
     "output_type": "stream",
     "text": [
      "The original list 1 is : [3, 5, 2, 6, 4]\n",
      "The original list 2 is : [7, 3, 4, 1, 5]\n",
      "The difference list is : [-4, 2, -2, 5, -1]\n",
      "The sum of absolute diffs is : 14\n"
     ]
    },
    {
     "data": {
      "text/plain": [
       "14"
      ]
     },
     "execution_count": 6,
     "metadata": {},
     "output_type": "execute_result"
    }
   ],
   "source": [
    "ratios_1 = [3, 5, 2, 6, 4] \n",
    "ratios_2 = [7, 3, 4, 1, 5] \n",
    "\n",
    "compare_ratios_test (ratios_1, ratios_2)\n",
    "\n",
    "\n"
   ]
  },
  {
   "cell_type": "markdown",
   "metadata": {},
   "source": [
    "### Compare Ratios with Actual Data from CSV"
   ]
  },
  {
   "cell_type": "code",
   "execution_count": 7,
   "metadata": {},
   "outputs": [],
   "source": [
    "# Here we group the rows in the DF by the Pattern Generating Match\n",
    "# Each has its own string of durations, and duration ratios\n",
    "# and then we compare the ratios to get the differences\n",
    "# the \"list(combinations)\" method takes care of building the pairs, using data from our dataframe 'results'\n",
    "\n",
    "def compare_ratios (ratios_1, ratios_2):\n",
    "    \n",
    "    ## division of lists \n",
    "    # using zip() + list comprehension \n",
    "    diffs = [i - j for i, j in zip(ratios_1, ratios_2)] \n",
    "    abs_diffs = [abs(ele) for ele in diffs] \n",
    "    sum_diffs = sum(abs_diffs)\n",
    "\n",
    "    return sum_diffs\n",
    "    \n",
    "# this MUST be before the for loop, since it's used there.\n",
    "matches = []\n",
    "\n",
    "for name, group in results.groupby(\"Pattern_Generating_Match\"):\n",
    "    #print(name)\n",
    "    #print(group)\n",
    "    ratio_pairs = list(combinations(group.Duration_Ratios.values, 2))\n",
    "    for a,b in ratio_pairs: \n",
    "        sum_diffs = compare_ratios(a,b)\n",
    "        \n",
    "        matches.append(\n",
    "            {\n",
    "                \"Pattern_Generating_Match\": name,\n",
    "                \"Duration_Ratio_1\": a,\n",
    "                \"Duration_Ratio_2\": b,\n",
    "                \"Sum_Diffs\": sum_diffs\n",
    "            }\n",
    "        )\n"
   ]
  },
  {
   "cell_type": "code",
   "execution_count": 9,
   "metadata": {},
   "outputs": [
    {
     "data": {
      "text/html": [
       "<div>\n",
       "<style scoped>\n",
       "    .dataframe tbody tr th:only-of-type {\n",
       "        vertical-align: middle;\n",
       "    }\n",
       "\n",
       "    .dataframe tbody tr th {\n",
       "        vertical-align: top;\n",
       "    }\n",
       "\n",
       "    .dataframe thead th {\n",
       "        text-align: right;\n",
       "    }\n",
       "</style>\n",
       "<table border=\"1\" class=\"dataframe\">\n",
       "  <thead>\n",
       "    <tr style=\"text-align: right;\">\n",
       "      <th></th>\n",
       "      <th>Pattern_Generating_Match</th>\n",
       "      <th>Duration_Ratio_1</th>\n",
       "      <th>Duration_Ratio_2</th>\n",
       "      <th>Sum_Diffs</th>\n",
       "    </tr>\n",
       "  </thead>\n",
       "  <tbody>\n",
       "    <tr>\n",
       "      <th>36</th>\n",
       "      <td>[-2, -2, -2, 1]</td>\n",
       "      <td>[2.0, 1.0, 0.5, 8.0]</td>\n",
       "      <td>[1.0, 2.0, 0.5, 8.0]</td>\n",
       "      <td>2.0</td>\n",
       "    </tr>\n",
       "    <tr>\n",
       "      <th>85</th>\n",
       "      <td>[-2, -2, -2, 1]</td>\n",
       "      <td>[1.0, 0.5, 1.0, 2.0]</td>\n",
       "      <td>[2.0, 0.5, 1.0, 3.0]</td>\n",
       "      <td>2.0</td>\n",
       "    </tr>\n",
       "    <tr>\n",
       "      <th>87</th>\n",
       "      <td>[-2, -2, -2, 1]</td>\n",
       "      <td>[1.0, 0.5, 1.0, 2.0]</td>\n",
       "      <td>[1.0, 0.5, 1.0, 4.0]</td>\n",
       "      <td>2.0</td>\n",
       "    </tr>\n",
       "    <tr>\n",
       "      <th>97</th>\n",
       "      <td>[-2, -2, -2, 1]</td>\n",
       "      <td>[1.0, 1.0, 1.0, 2.0]</td>\n",
       "      <td>[1.0, 1.0, 1.0, 4.0]</td>\n",
       "      <td>2.0</td>\n",
       "    </tr>\n",
       "    <tr>\n",
       "      <th>111</th>\n",
       "      <td>[-2, -2, -2, 1]</td>\n",
       "      <td>[1.0, 0.5, 1.0, 2.0]</td>\n",
       "      <td>[2.0, 0.5, 1.0, 3.0]</td>\n",
       "      <td>2.0</td>\n",
       "    </tr>\n",
       "    <tr>\n",
       "      <th>...</th>\n",
       "      <td>...</td>\n",
       "      <td>...</td>\n",
       "      <td>...</td>\n",
       "      <td>...</td>\n",
       "    </tr>\n",
       "    <tr>\n",
       "      <th>3543</th>\n",
       "      <td>[5, -2, 2, 2]</td>\n",
       "      <td>[2.0, 1.0, 0.5, 2.0]</td>\n",
       "      <td>[2.0, 0.5, 1.0, 1.0]</td>\n",
       "      <td>2.0</td>\n",
       "    </tr>\n",
       "    <tr>\n",
       "      <th>3544</th>\n",
       "      <td>[5, -2, 2, 2]</td>\n",
       "      <td>[2.0, 1.0, 0.5, 2.0]</td>\n",
       "      <td>[2.0, 0.5, 1.0, 1.0]</td>\n",
       "      <td>2.0</td>\n",
       "    </tr>\n",
       "    <tr>\n",
       "      <th>3566</th>\n",
       "      <td>[5, -3, 2, 2]</td>\n",
       "      <td>[2.0, 0.5, 1.0, 1.0]</td>\n",
       "      <td>[2.0, 1.0, 0.5, 2.0]</td>\n",
       "      <td>2.0</td>\n",
       "    </tr>\n",
       "    <tr>\n",
       "      <th>3571</th>\n",
       "      <td>[5, -3, 2, 2]</td>\n",
       "      <td>[2.0, 1.0, 0.5, 2.0]</td>\n",
       "      <td>[2.0, 0.5, 1.0, 1.0]</td>\n",
       "      <td>2.0</td>\n",
       "    </tr>\n",
       "    <tr>\n",
       "      <th>3572</th>\n",
       "      <td>[5, -3, 2, 2]</td>\n",
       "      <td>[2.0, 1.0, 0.5, 2.0]</td>\n",
       "      <td>[2.0, 0.5, 1.0, 1.0]</td>\n",
       "      <td>2.0</td>\n",
       "    </tr>\n",
       "  </tbody>\n",
       "</table>\n",
       "<p>134 rows × 4 columns</p>\n",
       "</div>"
      ],
      "text/plain": [
       "     Pattern_Generating_Match      Duration_Ratio_1      Duration_Ratio_2  \\\n",
       "36            [-2, -2, -2, 1]  [2.0, 1.0, 0.5, 8.0]  [1.0, 2.0, 0.5, 8.0]   \n",
       "85            [-2, -2, -2, 1]  [1.0, 0.5, 1.0, 2.0]  [2.0, 0.5, 1.0, 3.0]   \n",
       "87            [-2, -2, -2, 1]  [1.0, 0.5, 1.0, 2.0]  [1.0, 0.5, 1.0, 4.0]   \n",
       "97            [-2, -2, -2, 1]  [1.0, 1.0, 1.0, 2.0]  [1.0, 1.0, 1.0, 4.0]   \n",
       "111           [-2, -2, -2, 1]  [1.0, 0.5, 1.0, 2.0]  [2.0, 0.5, 1.0, 3.0]   \n",
       "...                       ...                   ...                   ...   \n",
       "3543            [5, -2, 2, 2]  [2.0, 1.0, 0.5, 2.0]  [2.0, 0.5, 1.0, 1.0]   \n",
       "3544            [5, -2, 2, 2]  [2.0, 1.0, 0.5, 2.0]  [2.0, 0.5, 1.0, 1.0]   \n",
       "3566            [5, -3, 2, 2]  [2.0, 0.5, 1.0, 1.0]  [2.0, 1.0, 0.5, 2.0]   \n",
       "3571            [5, -3, 2, 2]  [2.0, 1.0, 0.5, 2.0]  [2.0, 0.5, 1.0, 1.0]   \n",
       "3572            [5, -3, 2, 2]  [2.0, 1.0, 0.5, 2.0]  [2.0, 0.5, 1.0, 1.0]   \n",
       "\n",
       "      Sum_Diffs  \n",
       "36          2.0  \n",
       "85          2.0  \n",
       "87          2.0  \n",
       "97          2.0  \n",
       "111         2.0  \n",
       "...         ...  \n",
       "3543        2.0  \n",
       "3544        2.0  \n",
       "3566        2.0  \n",
       "3571        2.0  \n",
       "3572        2.0  \n",
       "\n",
       "[134 rows x 4 columns]"
      ]
     },
     "execution_count": 9,
     "metadata": {},
     "output_type": "execute_result"
    }
   ],
   "source": [
    "matches_df=pd.DataFrame(matches)\n",
    "# could SORT by these!\n",
    "matches_df[matches_df.Sum_Diffs == 2]"
   ]
  },
  {
   "cell_type": "code",
   "execution_count": 10,
   "metadata": {},
   "outputs": [],
   "source": [
    "super_matches = matches_df[matches_df.Sum_Diffs < 5]"
   ]
  },
  {
   "cell_type": "code",
   "execution_count": 102,
   "metadata": {},
   "outputs": [
    {
     "data": {
      "text/plain": [
       "<matplotlib.axes._subplots.AxesSubplot at 0x7fbf691ea790>"
      ]
     },
     "execution_count": 102,
     "metadata": {},
     "output_type": "execute_result"
    },
    {
     "data": {
      "image/png": "[encoded data removed]",
      "text/plain": [
       "<Figure size 432x288 with 1 Axes>"
      ]
     },
     "metadata": {
      "needs_background": "light"
     },
     "output_type": "display_data"
    }
   ],
   "source": [
    "super_matches.plot(kind=\"hist\")"
   ]
  },
  {
   "cell_type": "code",
   "execution_count": 84,
   "metadata": {},
   "outputs": [
    {
     "data": {
      "text/html": [
       "<div>\n",
       "<style scoped>\n",
       "    .dataframe tbody tr th:only-of-type {\n",
       "        vertical-align: middle;\n",
       "    }\n",
       "\n",
       "    .dataframe tbody tr th {\n",
       "        vertical-align: top;\n",
       "    }\n",
       "\n",
       "    .dataframe thead th {\n",
       "        text-align: right;\n",
       "    }\n",
       "</style>\n",
       "<table border=\"1\" class=\"dataframe\">\n",
       "  <thead>\n",
       "    <tr style=\"text-align: right;\">\n",
       "      <th></th>\n",
       "      <th>Pattern_Generating_Match</th>\n",
       "      <th>Duration_Ratio_1</th>\n",
       "      <th>Duration_Ratio_2</th>\n",
       "      <th>Sum_Diffs</th>\n",
       "    </tr>\n",
       "  </thead>\n",
       "  <tbody>\n",
       "    <tr>\n",
       "      <td>1535</td>\n",
       "      <td>[-3, 2, 2, -2]</td>\n",
       "      <td>[0.5, 1.0, 3.0, 0.16666666666666666]</td>\n",
       "      <td>[1.0, 4.0, 1.0, 8.0]</td>\n",
       "      <td>13.333333</td>\n",
       "    </tr>\n",
       "    <tr>\n",
       "      <td>1580</td>\n",
       "      <td>[-3, 2, 2, -2]</td>\n",
       "      <td>[1.0, 4.0, 1.0, 8.0]</td>\n",
       "      <td>[0.5, 1.0, 3.0, 0.16666666666666666]</td>\n",
       "      <td>13.333333</td>\n",
       "    </tr>\n",
       "    <tr>\n",
       "      <td>1463</td>\n",
       "      <td>[-3, 2, 1, -2]</td>\n",
       "      <td>[0.5, 1.0, 3.0, 0.16666666666666666]</td>\n",
       "      <td>[1.0, 4.0, 1.0, 8.0]</td>\n",
       "      <td>13.333333</td>\n",
       "    </tr>\n",
       "    <tr>\n",
       "      <td>1492</td>\n",
       "      <td>[-3, 2, 1, -2]</td>\n",
       "      <td>[1.0, 4.0, 1.0, 8.0]</td>\n",
       "      <td>[0.5, 1.0, 3.0, 0.16666666666666666]</td>\n",
       "      <td>13.333333</td>\n",
       "    </tr>\n",
       "    <tr>\n",
       "      <td>1233</td>\n",
       "      <td>[-2, 2, 2, -3]</td>\n",
       "      <td>[0.5, 1.0, 3.0, 0.16666666666666666]</td>\n",
       "      <td>[1.0, 4.0, 1.0, 8.0]</td>\n",
       "      <td>13.333333</td>\n",
       "    </tr>\n",
       "    <tr>\n",
       "      <td>...</td>\n",
       "      <td>...</td>\n",
       "      <td>...</td>\n",
       "      <td>...</td>\n",
       "      <td>...</td>\n",
       "    </tr>\n",
       "    <tr>\n",
       "      <td>887</td>\n",
       "      <td>[-2, 1, -2, -2]</td>\n",
       "      <td>[0.5, 1.5, 0.3333333333333333, 2.0]</td>\n",
       "      <td>[0.5, 1.5, 0.3333333333333333, 2.0]</td>\n",
       "      <td>0.000000</td>\n",
       "    </tr>\n",
       "    <tr>\n",
       "      <td>300</td>\n",
       "      <td>[-2, -2, -2, 4]</td>\n",
       "      <td>[1.0, 0.5, 1.0, 2.0]</td>\n",
       "      <td>[1.0, 0.5, 1.0, 2.0]</td>\n",
       "      <td>0.000000</td>\n",
       "    </tr>\n",
       "    <tr>\n",
       "      <td>195</td>\n",
       "      <td>[-2, -2, -2, 2]</td>\n",
       "      <td>[1.0, 0.5, 1.0, 2.0]</td>\n",
       "      <td>[1.0, 0.5, 1.0, 2.0]</td>\n",
       "      <td>0.000000</td>\n",
       "    </tr>\n",
       "    <tr>\n",
       "      <td>84</td>\n",
       "      <td>[-2, -2, -2, 1]</td>\n",
       "      <td>[1.0, 0.5, 1.0, 2.0]</td>\n",
       "      <td>[1.0, 0.5, 1.0, 2.0]</td>\n",
       "      <td>0.000000</td>\n",
       "    </tr>\n",
       "    <tr>\n",
       "      <td>15</td>\n",
       "      <td>[-2, -2, -2, -2]</td>\n",
       "      <td>[0.3333333333333333, 2.0, 0.5, 1.0]</td>\n",
       "      <td>[0.3333333333333333, 2.0, 0.5, 1.0]</td>\n",
       "      <td>0.000000</td>\n",
       "    </tr>\n",
       "  </tbody>\n",
       "</table>\n",
       "<p>3576 rows × 4 columns</p>\n",
       "</div>"
      ],
      "text/plain": [
       "     Pattern_Generating_Match                      Duration_Ratio_1  \\\n",
       "1535           [-3, 2, 2, -2]  [0.5, 1.0, 3.0, 0.16666666666666666]   \n",
       "1580           [-3, 2, 2, -2]                  [1.0, 4.0, 1.0, 8.0]   \n",
       "1463           [-3, 2, 1, -2]  [0.5, 1.0, 3.0, 0.16666666666666666]   \n",
       "1492           [-3, 2, 1, -2]                  [1.0, 4.0, 1.0, 8.0]   \n",
       "1233           [-2, 2, 2, -3]  [0.5, 1.0, 3.0, 0.16666666666666666]   \n",
       "...                       ...                                   ...   \n",
       "887           [-2, 1, -2, -2]   [0.5, 1.5, 0.3333333333333333, 2.0]   \n",
       "300           [-2, -2, -2, 4]                  [1.0, 0.5, 1.0, 2.0]   \n",
       "195           [-2, -2, -2, 2]                  [1.0, 0.5, 1.0, 2.0]   \n",
       "84            [-2, -2, -2, 1]                  [1.0, 0.5, 1.0, 2.0]   \n",
       "15           [-2, -2, -2, -2]   [0.3333333333333333, 2.0, 0.5, 1.0]   \n",
       "\n",
       "                          Duration_Ratio_2  Sum_Diffs  \n",
       "1535                  [1.0, 4.0, 1.0, 8.0]  13.333333  \n",
       "1580  [0.5, 1.0, 3.0, 0.16666666666666666]  13.333333  \n",
       "1463                  [1.0, 4.0, 1.0, 8.0]  13.333333  \n",
       "1492  [0.5, 1.0, 3.0, 0.16666666666666666]  13.333333  \n",
       "1233                  [1.0, 4.0, 1.0, 8.0]  13.333333  \n",
       "...                                    ...        ...  \n",
       "887    [0.5, 1.5, 0.3333333333333333, 2.0]   0.000000  \n",
       "300                   [1.0, 0.5, 1.0, 2.0]   0.000000  \n",
       "195                   [1.0, 0.5, 1.0, 2.0]   0.000000  \n",
       "84                    [1.0, 0.5, 1.0, 2.0]   0.000000  \n",
       "15     [0.3333333333333333, 2.0, 0.5, 1.0]   0.000000  \n",
       "\n",
       "[3576 rows x 4 columns]"
      ]
     },
     "execution_count": 84,
     "metadata": {},
     "output_type": "execute_result"
    }
   ],
   "source": [
    "matches_df.sort_values([\"Sum_Diffs\", \"Pattern_Generating_Match\"], ascending=False)"
   ]
  },
  {
   "cell_type": "code",
   "execution_count": 76,
   "metadata": {},
   "outputs": [
    {
     "data": {
      "text/plain": [
       "<matplotlib.axes._subplots.AxesSubplot at 0x7fbf7b14c790>"
      ]
     },
     "execution_count": 76,
     "metadata": {},
     "output_type": "execute_result"
    },
    {
     "data": {
      "image/png": "[encoded data removed]",
      "text/plain": [
       "<Figure size 432x288 with 1 Axes>"
      ]
     },
     "metadata": {
      "needs_background": "light"
     },
     "output_type": "display_data"
    }
   ],
   "source": [
    "matches_df.Sum_Diffs.hist()"
   ]
  },
  {
   "cell_type": "code",
   "execution_count": 77,
   "metadata": {},
   "outputs": [
    {
     "data": {
      "text/plain": [
       "<matplotlib.axes._subplots.AxesSubplot at 0x7fbf5f55a550>"
      ]
     },
     "execution_count": 77,
     "metadata": {},
     "output_type": "execute_result"
    },
    {
     "data": {
      "image/png": "[encoded data removed]",
      "text/plain": [
       "<Figure size 432x288 with 1 Axes>"
      ]
     },
     "metadata": {
      "needs_background": "light"
     },
     "output_type": "display_data"
    }
   ],
   "source": [
    "plotdata = matches_df\n",
    "plotdata.plot(kind=\"bar\")"
   ]
  },
  {
   "cell_type": "code",
   "execution_count": 11,
   "metadata": {},
   "outputs": [
    {
     "data": {
      "text/html": [
       "<div>\n",
       "<style scoped>\n",
       "    .dataframe tbody tr th:only-of-type {\n",
       "        vertical-align: middle;\n",
       "    }\n",
       "\n",
       "    .dataframe tbody tr th {\n",
       "        vertical-align: top;\n",
       "    }\n",
       "\n",
       "    .dataframe thead th {\n",
       "        text-align: right;\n",
       "    }\n",
       "</style>\n",
       "<table border=\"1\" class=\"dataframe\">\n",
       "  <thead>\n",
       "    <tr style=\"text-align: right;\">\n",
       "      <th></th>\n",
       "      <th>Pattern_Generating_Match</th>\n",
       "      <th>Duration_Ratio_1</th>\n",
       "      <th>Duration_Ratio_2</th>\n",
       "      <th>Sum_Diffs</th>\n",
       "      <th>Part</th>\n",
       "      <th>Piece_Title</th>\n",
       "    </tr>\n",
       "  </thead>\n",
       "  <tbody>\n",
       "    <tr>\n",
       "      <th>0</th>\n",
       "      <td>[-2, -2, -2, -2]</td>\n",
       "      <td>[0.3333333333333333, 2.0, 2.0, 1.0]</td>\n",
       "      <td>[2.0, 2.0, 1.0, 0.5]</td>\n",
       "      <td>3.166667</td>\n",
       "      <td>Superius</td>\n",
       "      <td>Missa Confitemini  Kyrie</td>\n",
       "    </tr>\n",
       "    <tr>\n",
       "      <th>1</th>\n",
       "      <td>[-2, -2, -2, -2]</td>\n",
       "      <td>[0.3333333333333333, 2.0, 2.0, 1.0]</td>\n",
       "      <td>[0.5, 1.0, 2.0, 0.5]</td>\n",
       "      <td>1.666667</td>\n",
       "      <td>Superius</td>\n",
       "      <td>Missa Confitemini  Kyrie</td>\n",
       "    </tr>\n",
       "    <tr>\n",
       "      <th>2</th>\n",
       "      <td>[-2, -2, -2, -2]</td>\n",
       "      <td>[0.3333333333333333, 2.0, 2.0, 1.0]</td>\n",
       "      <td>[0.3333333333333333, 2.0, 0.5, 1.0]</td>\n",
       "      <td>1.500000</td>\n",
       "      <td>Contratenor</td>\n",
       "      <td>Missa Confitemini  Kyrie</td>\n",
       "    </tr>\n",
       "    <tr>\n",
       "      <th>3</th>\n",
       "      <td>[-2, -2, -2, -2]</td>\n",
       "      <td>[0.3333333333333333, 2.0, 2.0, 1.0]</td>\n",
       "      <td>[0.3333333333333333, 2.0, 0.5, 1.0]</td>\n",
       "      <td>1.500000</td>\n",
       "      <td>Contratenor</td>\n",
       "      <td>Missa Confitemini  Kyrie</td>\n",
       "    </tr>\n",
       "    <tr>\n",
       "      <th>4</th>\n",
       "      <td>[-2, -2, -2, -2]</td>\n",
       "      <td>[0.3333333333333333, 2.0, 2.0, 1.0]</td>\n",
       "      <td>[0.3333333333333333, 1.0, 0.5, 1.0]</td>\n",
       "      <td>2.500000</td>\n",
       "      <td>Contratenor</td>\n",
       "      <td>Missa Confitemini  Kyrie</td>\n",
       "    </tr>\n",
       "  </tbody>\n",
       "</table>\n",
       "</div>"
      ],
      "text/plain": [
       "  Pattern_Generating_Match                     Duration_Ratio_1  \\\n",
       "0         [-2, -2, -2, -2]  [0.3333333333333333, 2.0, 2.0, 1.0]   \n",
       "1         [-2, -2, -2, -2]  [0.3333333333333333, 2.0, 2.0, 1.0]   \n",
       "2         [-2, -2, -2, -2]  [0.3333333333333333, 2.0, 2.0, 1.0]   \n",
       "3         [-2, -2, -2, -2]  [0.3333333333333333, 2.0, 2.0, 1.0]   \n",
       "4         [-2, -2, -2, -2]  [0.3333333333333333, 2.0, 2.0, 1.0]   \n",
       "\n",
       "                      Duration_Ratio_2  Sum_Diffs         Part  \\\n",
       "0                 [2.0, 2.0, 1.0, 0.5]   3.166667     Superius   \n",
       "1                 [0.5, 1.0, 2.0, 0.5]   1.666667     Superius   \n",
       "2  [0.3333333333333333, 2.0, 0.5, 1.0]   1.500000  Contratenor   \n",
       "3  [0.3333333333333333, 2.0, 0.5, 1.0]   1.500000  Contratenor   \n",
       "4  [0.3333333333333333, 1.0, 0.5, 1.0]   2.500000  Contratenor   \n",
       "\n",
       "                Piece_Title  \n",
       "0  Missa Confitemini  Kyrie  \n",
       "1  Missa Confitemini  Kyrie  \n",
       "2  Missa Confitemini  Kyrie  \n",
       "3  Missa Confitemini  Kyrie  \n",
       "4  Missa Confitemini  Kyrie  "
      ]
     },
     "execution_count": 11,
     "metadata": {},
     "output_type": "execute_result"
    }
   ],
   "source": [
    "matches_df['Part'] = results.Part\n",
    "matches_df['Piece_Title'] = results.Piece_Title\n",
    "matches_df.head()\n",
    "\n"
   ]
  },
  {
   "cell_type": "code",
   "execution_count": 12,
   "metadata": {},
   "outputs": [
    {
     "data": {
      "text/plain": [
       "<matplotlib.axes._subplots.AxesSubplot at 0x7f8b4950c150>"
      ]
     },
     "execution_count": 12,
     "metadata": {},
     "output_type": "execute_result"
    }
   ],
   "source": [
    "matches_df.Part.hist()"
   ]
  },
  {
   "cell_type": "code",
   "execution_count": 13,
   "metadata": {},
   "outputs": [
    {
     "data": {
      "text/plain": [
       "<matplotlib.axes._subplots.AxesSubplot at 0x7f8b49ad5390>"
      ]
     },
     "execution_count": 13,
     "metadata": {},
     "output_type": "execute_result"
    },
    {
     "data": {
      "image/png": "[encoded data removed]",
      "text/plain": [
       "<Figure size 432x288 with 1 Axes>"
      ]
     },
     "metadata": {
      "needs_background": "light"
     },
     "output_type": "display_data"
    }
   ],
   "source": [
    "matches_df.Piece_Title.hist()"
   ]
  },
  {
   "cell_type": "markdown",
   "metadata": {},
   "source": [
    "### Test Data"
   ]
  },
  {
   "cell_type": "code",
   "execution_count": null,
   "metadata": {},
   "outputs": [],
   "source": [
    "ratios_1 = [3, 5, 2, 6, 4] \n",
    "ratios_2 = [7, 3, 4, 1, 5] \n",
    "\n",
    "\n",
    "compare_ratios(ratios_1, ratios_2)"
   ]
  }
 ],
 "metadata": {
  "kernelspec": {
   "display_name": "Python 3",
   "language": "python",
   "name": "python3"
  },
  "language_info": {
   "codemirror_mode": {
    "name": "ipython",
    "version": 3
   },
   "file_extension": ".py",
   "mimetype": "text/x-python",
   "name": "python",
   "nbconvert_exporter": "python",
   "pygments_lexer": "ipython3",
   "version": "3.7.4"
  }
 },
 "nbformat": 4,
 "nbformat_minor": 2
}
