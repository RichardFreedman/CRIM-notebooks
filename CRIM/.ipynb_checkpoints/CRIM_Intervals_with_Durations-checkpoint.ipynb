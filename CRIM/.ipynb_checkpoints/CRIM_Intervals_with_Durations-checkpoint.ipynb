{
 "cells": [
  {
   "cell_type": "markdown",
   "metadata": {},
   "source": [
    "# About Crim Intervals \n",
    "\n",
    "- See more at https://github.com/HCDigitalScholarship/intervals/blob/master/README.md\n",
    "\n",
    "## How to Select Pieces\n",
    "\n",
    "- For local file(s), use: `corpus = CorpusBase(['/Users/rfreedma/MEI/CRIM_Intervals_Tests/Brumel_Complete.mei'])`\n",
    "- For remote file, use: `corpus = CorpusBase(['https://crimproject.org/mei/CRIM_Model_0008.mei', 'https://crimproject.org/mei/CRIM_Mass_0005_5.mei'])`\n",
    "\n",
    "\n",
    "## Notes about the Various Parameters\n",
    "\n",
    "- **Length of the Soggetto**: into_patterns([vectors.semitone_intervals], 5) The **number** in this command represents the **minimum number of vectors to find**. 5 vectors is 6 notes.\n",
    "\n",
    "### Chromatic vs Diatonic \n",
    "- **Chromatic** uses `into_patterns([vectors.semitone_intervals], 5)`\n",
    "- **Diatonic** uses `into_patterns([vectors.generic_intervals], 5)`\n",
    "\n",
    "### Exact vs Close  \n",
    "- **Exact** is exact in *all* ways find_exact_matches(patterns, 2). The **number** in this command represents the **minimum number of matching melodies needed before reporting**. This allows us to filter for common or uncommon soggetti.\n",
    "- **Close** matches allow for melodic variation (see more below). `find_close_matches(patterns, 2, 1)`\n",
    ". The **first number** in this command is the minimum number of melodies needed before reporting; the **second number** is threshold needed in order to find a match. Lower number = very similar; higher number = less similar\n",
    "\n",
    "### More about Close Matches  \n",
    "- The **threshold for close matches** is determined by the third number called in the method. We select two patterns, then compare *each vector in each pattern successively*. The \"differences\" between each vector are summed. If that value is below the threshold specified, we consider the two patterns closely matched.\n",
    "- The format of the method call is  `find_close_matches(the array you get from into_patterns, minimum matches needed to be displayed, threshold for close match)`.\n",
    "\n",
    "### About Rhythmic Durations\n",
    "\n",
    "- For `find_close_matches` and `find_exact_matches`, rhythmic variation/duration is displayed, but **not** factored into the calculation of matching.\n",
    "- **Incremental Offset** calculates the intervals using a fixed offset between notes, no matter their actual duration.  Use this to ignore passing tones or other ornaments.  The offsets are expressed in multiples of the quarter note (Offset = 1 samples at quarter note; Offset = 2 at half note, etc). Set with `vectors = IntervalBase(corpus.note_list_incremental_offset(2))`\n",
    "\n",
    "### Dataframe Preview vs Full Results in Browser\n",
    "\n",
    "- Comment out the first of these for preview only.  Include for full results\n",
    "\n",
    "    - `#pd.set_option(\"display.max_rows\", None, \"display.max_columns\", None)`\n",
    "    - `return pd.DataFrame(match_data)`\n",
    "    \n",
    "### To Set CSV Output\n",
    "\n",
    "- Specify file name here `pd.Series(match_data).to_csv(\"Match_data_10_13.csv\")`\n",
    "\n",
    "***"
   ]
  },
  {
   "cell_type": "markdown",
   "metadata": {},
   "source": [
    "## Search with Options\n",
    "\n",
    "- Piece or Corpus\n",
    "- Actual or Incremental Durations\n",
    "- Chromatic or Diatonic\n",
    "- Exact or Close\n",
    "- Classify\n",
    "\n",
    "***\n"
   ]
  },
  {
   "cell_type": "markdown",
   "metadata": {},
   "source": [
    "### Load Crim Intervals and Pandas"
   ]
  },
  {
   "cell_type": "code",
   "execution_count": 36,
   "metadata": {},
   "outputs": [],
   "source": [
    "from crim_intervals import *\n",
    "import pandas as pd\n",
    "import ast\n",
    "from itertools import tee, combinations\n",
    "import matplotlib"
   ]
  },
  {
   "cell_type": "markdown",
   "metadata": {},
   "source": [
    "***\n",
    "\n",
    "### Selected Piece or Corpus \n",
    "\n",
    "A Note About Local Files\n",
    "Use /content/your_file_name.mei for any local file you've uploaded\n",
    "\n",
    "Otherwise provide URL\n",
    "\n",
    "To load CRIM files directly from Git:"
   ]
  },
  {
   "cell_type": "code",
   "execution_count": 37,
   "metadata": {},
   "outputs": [
    {
     "name": "stdout",
     "output_type": "stream",
     "text": [
      "Requesting file from https://raw.githubusercontent.com/CRIM-Project/CRIM-online/master/crim/static/mei/MEI_4.0/CRIM_Model_0001.mei...\n",
      "Successfully imported.\n"
     ]
    }
   ],
   "source": [
    "#corpus = CorpusBase(['/Users/rfreedma/MEI/A_MEI_Tests/Sandrin_Doulce_RF_12_15_20.mei'])\n",
    "#url = 'https://raw.githubusercontent.com/CRIM-Project/CRIM-online/master/crim/static/mei/MEI_4.0/'\n",
    "corpus_files = ['https://raw.githubusercontent.com/CRIM-Project/CRIM-online/master/crim/static/mei/MEI_4.0/CRIM_Model_0001.mei']\n",
    "corpus = CorpusBase(corpus_files)"
   ]
  },
  {
   "cell_type": "markdown",
   "metadata": {},
   "source": [
    "# Correct the MEI Metadata\n",
    "\n",
    "Just as an experiment, we load the MEI files directly in order to adjust metadata. \n",
    "\n",
    "This routine fixes the title information.\n",
    "\n",
    "These changes would be implemented in https://github.com/HCDigitalScholarship/intervals/blob/master/main_objs.py"
   ]
  },
  {
   "cell_type": "code",
   "execution_count": 38,
   "metadata": {},
   "outputs": [],
   "source": [
    "import xml.etree.ElementTree as ET\n",
    "import requests\n",
    "\n",
    "MEINSURI = 'http://www.music-encoding.org/ns/mei'\n",
    "MEINS = '{%s}' % MEINSURI\n",
    "\n",
    "for i, path in enumerate(corpus_files):\n",
    "  if path[0] == '/':\n",
    "    mei_doc = ET.parse(path)\n",
    "  else:\n",
    "    mei_doc = ET.fromstring(requests.get(path).text)\n",
    "  # Find the title from the MEI file and update the Music21 Score metadata\n",
    "  title = mei_doc.find(f'{MEINS}meiHead//{MEINS}titleStmt/{MEINS}title').text\n",
    "  corpus.scores[i].metadata.title = title"
   ]
  },
  {
   "cell_type": "markdown",
   "metadata": {},
   "source": [
    "***\n",
    "\n",
    "### Select Actual or Incremental Durations\n",
    "\n",
    "#### About Rhythmic Durations\n",
    "\n",
    "- For `find_close_matches` and `find_exact_matches`, rhythmic variation/duration is displayed, but **not** factored into the calculation of matching.\n",
    "- **Incremental Offset** calculates the intervals using a **fixed offset between notes**, no matter their actual duration.  Use this to ignore passing tones or other ornaments.  The offsets are expressed in multiples of the quarter note (Offset = 1 samples at quarter note; Offset = 2 at half note, etc). Set with `vectors = IntervalBase(corpus.note_list_incremental_offset(2))`"
   ]
  },
  {
   "cell_type": "code",
   "execution_count": 39,
   "metadata": {},
   "outputs": [],
   "source": [
    "vectors = IntervalBase(corpus.note_list)\n",
    "#vectors = IntervalBase(corpus.note_list_incremental_offset(2))"
   ]
  },
  {
   "cell_type": "markdown",
   "metadata": {},
   "source": [
    "***\n",
    "\n",
    "### Select Generic or Semitone:\n",
    "\n",
    "- **Length of the Soggetto**: `into_patterns([vectors.semitone_intervals], 5)` \n",
    "\n",
    "- The **number** in this command represents the **minimum number of vectors to find**. 5 vectors is 6 notes.\n"
   ]
  },
  {
   "cell_type": "code",
   "execution_count": 40,
   "metadata": {},
   "outputs": [],
   "source": [
    "patterns = into_patterns([vectors.generic_intervals], 4)\n",
    "#patterns = into_patterns([vectors.semitone_intervals], 4)"
   ]
  },
  {
   "cell_type": "markdown",
   "metadata": {},
   "source": [
    "***\n",
    "\n",
    "### Select Exact Matches Here\n",
    "#### (Use comment feature to select screen preview or CSV output) \n",
    "\n",
    "- **Exact** is exact in *all* ways `find_exact_matches(patterns, 2)` \n",
    "- The **number** in this command represents the **minimum number of matching melodies needed before reporting**. This allows us to filter for common or uncommon soggetti."
   ]
  },
  {
   "cell_type": "code",
   "execution_count": 42,
   "metadata": {},
   "outputs": [
    {
     "name": "stdout",
     "output_type": "stream",
     "text": [
      "Finding exact matches...\n",
      "106 melodic intervals had more than 2 exact matches.\n",
      "\n",
      "This method will create a csv file in your current working directory. Continue? (y/n): y\n",
      "Enter a name for your csv file (.csv will be appended): results_Model_0001_exact\n",
      "CSV created in your current working directory.\n"
     ]
    }
   ],
   "source": [
    "exact_matches = find_exact_matches(patterns, 2)\n",
    "# Use this for exact screen preview\n",
    "#for item in exact_matches:\n",
    "    #item.print_exact_matches()\n",
    "\n",
    "output_exact = export_pandas(exact_matches)\n",
    "pd.DataFrame(output_exact).head()\n",
    "#results = pd.DataFrame(output_exact)\n",
    "export_to_csv(exact_matches) "
   ]
  },
  {
   "cell_type": "code",
   "execution_count": null,
   "metadata": {},
   "outputs": [],
   "source": [
    "output_exact.dtypes"
   ]
  },
  {
   "cell_type": "markdown",
   "metadata": {},
   "source": [
    "***\n",
    "\n",
    "### Select Close Matches Here\n",
    "#### (Comment out the 'for item iteration' in order to skip screen preview)\n",
    "\n",
    "- **Close** matches allow for melodic variation (see more below). `find_close_matches(patterns, 2, 1)`\n",
    "- The **first number** in this command is the **minimum number of melodies** needed before reporting\n",
    "- The **second number** is **threshold of similarity** needed in order to find a match. \n",
    "- Lower number = very similar; higher number = less similar\n",
    "\n",
    "##### More about Close Matches  \n",
    "- The **threshold for close matches** is determined by the **second number** called in the method. \n",
    "- We select two patterns, then compare *each vector in each pattern successively*. \n",
    "- The *differences between each vector are summed*. \n",
    "- If that value is **below the threshold specified**, we consider the **two patterns closely matched**.\n",
    "- The format of the method call is  `find_close_matches(the array you get from into_patterns, minimum matches needed to be displayed, threshold for close match)`."
   ]
  },
  {
   "cell_type": "code",
   "execution_count": null,
   "metadata": {},
   "outputs": [],
   "source": [
    "close_matches = find_close_matches(patterns, 2, 1)\n",
    "#for item in close_matches:\n",
    "   #item.print_close_matches()\n",
    "    #return pd.DataFrame(close_matches)\n",
    "\n",
    "output_close = export_pandas(close_matches)\n",
    "results = pd.DataFrame(output_close)\n",
    "results.head()\n",
    "#export_to_csv(close_matches)"
   ]
  },
  {
   "cell_type": "markdown",
   "metadata": {},
   "source": [
    "***\n",
    "\n",
    "### Classify Patterns Here \n",
    "#### Note:  depends on choice of Close or Exact above!  Must choose appropriate one below!\n",
    "#### No Pandas Preview, but CSV Export OK\n",
    "#### Scroll to bottom of output to name and save CSV file"
   ]
  },
  {
   "cell_type": "code",
   "execution_count": null,
   "metadata": {},
   "outputs": [],
   "source": [
    "classify_matches(close_matches, 2)\n",
    "#classify_matches(exact_matches, 2)\n",
    "classified_matches = classify_matches(close_matches, 2)\n",
    "#pd.DataFrame(classified_matches)\n",
    "output = export_pandas(classified_matches)\n",
    "#pd.DataFrame(output).head()\n",
    "\n",
    "## For CSV export, use the following (and follow prompts for file name)\n",
    "\n",
    "export_to_csv(classified_matches)"
   ]
  },
  {
   "cell_type": "markdown",
   "metadata": {},
   "source": [
    "## Read CSV of Classified Matches\n",
    "\n",
    "- Update file name to match the output of previous cells for Classifier"
   ]
  },
  {
   "cell_type": "code",
   "execution_count": null,
   "metadata": {},
   "outputs": [],
   "source": [
    "pd.read_csv('Sandrin_Soggetti.csv', usecols=['Pattern Generating Match', 'Classification Type', 'Soggetti 1 Part', 'Soggetti 1 Measure', 'Soggetti 2 Part', 'Soggetti 2 Measure', 'Soggetti 3 Part', 'Soggetti 3 Measure', 'Soggetti 4 Part', 'Soggetti 4 Measure'])\n"
   ]
  },
  {
   "cell_type": "markdown",
   "metadata": {},
   "source": [
    "# Now use Duration Ratio Matching"
   ]
  },
  {
   "cell_type": "markdown",
   "metadata": {},
   "source": [
    "## Read CSV of Match Output"
   ]
  },
  {
   "cell_type": "code",
   "execution_count": 45,
   "metadata": {},
   "outputs": [
    {
     "data": {
      "text/html": [
       "<div>\n",
       "<style scoped>\n",
       "    .dataframe tbody tr th:only-of-type {\n",
       "        vertical-align: middle;\n",
       "    }\n",
       "\n",
       "    .dataframe tbody tr th {\n",
       "        vertical-align: top;\n",
       "    }\n",
       "\n",
       "    .dataframe thead th {\n",
       "        text-align: right;\n",
       "    }\n",
       "</style>\n",
       "<table border=\"1\" class=\"dataframe\">\n",
       "  <thead>\n",
       "    <tr style=\"text-align: right;\">\n",
       "      <th></th>\n",
       "      <th>Pattern_Generating_Match</th>\n",
       "      <th>Pattern_Matched</th>\n",
       "      <th>Piece_Title</th>\n",
       "      <th>Part</th>\n",
       "      <th>First_Note_Measure_Number</th>\n",
       "      <th>Last_Note_Measure_Number</th>\n",
       "      <th>Note Durations</th>\n",
       "      <th>EMA</th>\n",
       "      <th>EMA url</th>\n",
       "    </tr>\n",
       "  </thead>\n",
       "  <tbody>\n",
       "    <tr>\n",
       "      <th>0</th>\n",
       "      <td>[5, -2, 2, 3]</td>\n",
       "      <td>[5, -2, 2, 3]</td>\n",
       "      <td>Veni speciosam</td>\n",
       "      <td>Superius</td>\n",
       "      <td>1</td>\n",
       "      <td>2</td>\n",
       "      <td>[4.0, 6.0, 2.0, 2.0, 2.0]</td>\n",
       "      <td>1-2/1/@1.0-end,@start-4.0</td>\n",
       "      <td>https://ema.crimproject.org/https%3A%2F%2Fcrim...</td>\n",
       "    </tr>\n",
       "    <tr>\n",
       "      <th>1</th>\n",
       "      <td>[5, -2, 2, 3]</td>\n",
       "      <td>[5, -2, 2, 3]</td>\n",
       "      <td>Veni speciosam</td>\n",
       "      <td>Superius</td>\n",
       "      <td>10</td>\n",
       "      <td>11</td>\n",
       "      <td>[4.0, 6.0, 2.0, 2.0, 2.0]</td>\n",
       "      <td>10-11/1/@1.0-end,@start-4.0</td>\n",
       "      <td>https://ema.crimproject.org/https%3A%2F%2Fcrim...</td>\n",
       "    </tr>\n",
       "    <tr>\n",
       "      <th>2</th>\n",
       "      <td>[5, -2, 2, 3]</td>\n",
       "      <td>[5, -2, 2, 3]</td>\n",
       "      <td>Veni speciosam</td>\n",
       "      <td>Superius</td>\n",
       "      <td>31</td>\n",
       "      <td>32</td>\n",
       "      <td>[2.0, 6.0, 2.0, 2.0, 4.0]</td>\n",
       "      <td>31-32/1/@2.0-end,@start-4.0</td>\n",
       "      <td>https://ema.crimproject.org/https%3A%2F%2Fcrim...</td>\n",
       "    </tr>\n",
       "    <tr>\n",
       "      <th>3</th>\n",
       "      <td>[5, -2, 2, 3]</td>\n",
       "      <td>[5, -2, 2, 3]</td>\n",
       "      <td>Veni speciosam</td>\n",
       "      <td>Contratenor</td>\n",
       "      <td>34</td>\n",
       "      <td>36</td>\n",
       "      <td>[2.0, 6.0, 2.0, 2.0, 2.0]</td>\n",
       "      <td>34-36/2/@4.0-end,@start-end,@start-2.0</td>\n",
       "      <td>https://ema.crimproject.org/https%3A%2F%2Fcrim...</td>\n",
       "    </tr>\n",
       "    <tr>\n",
       "      <th>4</th>\n",
       "      <td>[5, -2, 2, 3]</td>\n",
       "      <td>[5, -2, 2, 3]</td>\n",
       "      <td>Veni speciosam</td>\n",
       "      <td>PrimusTenor</td>\n",
       "      <td>5</td>\n",
       "      <td>6</td>\n",
       "      <td>[4.0, 6.0, 2.0, 2.0, 2.0]</td>\n",
       "      <td>5-6/3/@1.0-end,@start-4.0</td>\n",
       "      <td>https://ema.crimproject.org/https%3A%2F%2Fcrim...</td>\n",
       "    </tr>\n",
       "  </tbody>\n",
       "</table>\n",
       "</div>"
      ],
      "text/plain": [
       "  Pattern_Generating_Match Pattern_Matched     Piece_Title         Part  \\\n",
       "0            [5, -2, 2, 3]   [5, -2, 2, 3]  Veni speciosam     Superius   \n",
       "1            [5, -2, 2, 3]   [5, -2, 2, 3]  Veni speciosam     Superius   \n",
       "2            [5, -2, 2, 3]   [5, -2, 2, 3]  Veni speciosam     Superius   \n",
       "3            [5, -2, 2, 3]   [5, -2, 2, 3]  Veni speciosam  Contratenor   \n",
       "4            [5, -2, 2, 3]   [5, -2, 2, 3]  Veni speciosam  PrimusTenor   \n",
       "\n",
       "   First_Note_Measure_Number  Last_Note_Measure_Number  \\\n",
       "0                          1                         2   \n",
       "1                         10                        11   \n",
       "2                         31                        32   \n",
       "3                         34                        36   \n",
       "4                          5                         6   \n",
       "\n",
       "              Note Durations                                     EMA  \\\n",
       "0  [4.0, 6.0, 2.0, 2.0, 2.0]               1-2/1/@1.0-end,@start-4.0   \n",
       "1  [4.0, 6.0, 2.0, 2.0, 2.0]             10-11/1/@1.0-end,@start-4.0   \n",
       "2  [2.0, 6.0, 2.0, 2.0, 4.0]             31-32/1/@2.0-end,@start-4.0   \n",
       "3  [2.0, 6.0, 2.0, 2.0, 2.0]  34-36/2/@4.0-end,@start-end,@start-2.0   \n",
       "4  [4.0, 6.0, 2.0, 2.0, 2.0]               5-6/3/@1.0-end,@start-4.0   \n",
       "\n",
       "                                             EMA url  \n",
       "0  https://ema.crimproject.org/https%3A%2F%2Fcrim...  \n",
       "1  https://ema.crimproject.org/https%3A%2F%2Fcrim...  \n",
       "2  https://ema.crimproject.org/https%3A%2F%2Fcrim...  \n",
       "3  https://ema.crimproject.org/https%3A%2F%2Fcrim...  \n",
       "4  https://ema.crimproject.org/https%3A%2F%2Fcrim...  "
      ]
     },
     "execution_count": 45,
     "metadata": {},
     "output_type": "execute_result"
    }
   ],
   "source": [
    "results = pd.read_csv('results_Model_0001_exact.csv')\n",
    "results.rename(columns=\n",
    "                   {'Pattern Generating Match': 'Pattern_Generating_Match', \n",
    "                    'Pattern matched':'Pattern_Matched',\n",
    "                    'Piece Title': 'Piece_Title',\n",
    "                    'First Note Measure Number': 'First_Note_Measure_Number',\n",
    "                   'Last Note Measure Number': 'Last_Note_Measure_Number',\n",
    "                   },\n",
    "                    inplace=True)\n",
    "results.head()"
   ]
  },
  {
   "cell_type": "code",
   "execution_count": null,
   "metadata": {},
   "outputs": [],
   "source": [
    "# converts strings to numbers and replaces these in the dataframe\n",
    "\n",
    "results['Note_Durations'] = results['Note_Durations'].apply(ast.literal_eval)\n",
    "\n",
    "durations = results['Note_Durations']"
   ]
  },
  {
   "cell_type": "code",
   "execution_count": null,
   "metadata": {},
   "outputs": [],
   "source": [
    "# makes pairs of ratio strings\n",
    "\n",
    "def pairwise(iterable):\n",
    "    \"s -> (s0,s1), (s1,s2), (s2, s3), ...\"\n",
    "    a, b = tee(iterable)\n",
    "    next(b, None)\n",
    "    return zip(a, b)\n",
    "\n",
    "def get_ratios(input_list):\n",
    "    ratio_pairs = []\n",
    "    for a, b in pairwise(input_list):\n",
    "        ratio_pairs.append(b / a)\n",
    "    return ratio_pairs\n",
    "\n",
    "\n"
   ]
  },
  {
   "cell_type": "code",
   "execution_count": null,
   "metadata": {},
   "outputs": [],
   "source": [
    "# calculates 'duration ratios' for each soggetto, then adds this to the DF\n",
    "\n",
    "results[\"Duration_Ratios\"] = results.Note_Durations.apply(get_ratios)\n",
    "results.head(4)"
   ]
  },
  {
   "cell_type": "code",
   "execution_count": null,
   "metadata": {},
   "outputs": [],
   "source": [
    "# Here we group the rows in the DF by the Pattern Generating Match\n",
    "# Each has its own string of durations, and duration ratios\n",
    "# and then we compare the ratios to get the differences\n",
    "# the \"list(combinations)\" method takes care of building the pairs, using data from our dataframe 'results'\n",
    "\n",
    "def compare_ratios_2 (ratios_1, ratios_2):\n",
    "    \n",
    "    ## division of lists \n",
    "    # using zip() + list comprehension \n",
    "    diffs = [i - j for i, j in zip(ratios_1, ratios_2)] \n",
    "    abs_diffs = [abs(ele) for ele in diffs] \n",
    "    sum_diffs = sum(abs_diffs)\n",
    "\n",
    "    return sum_diffs\n",
    "\n",
    "matches_2 = []\n",
    "\n",
    "for name, group in results.groupby(\"Pattern_Generating_Match\"):\n",
    "    \n",
    "    ratio_pairs = list(combinations(group.index.values, 2))\n",
    "    \n",
    "    for a,b in ratio_pairs:\n",
    "        sum_diffs = compare_ratios_2(results.iloc[a].Duration_Ratios, results.iloc[b].Duration_Ratios)\n",
    "        \n",
    "        matches_2.append(\n",
    "            {\n",
    "                \"pattern\": name,\n",
    "                \"ratio_1\": results.iloc[a].Duration_Ratios,\n",
    "                \"ratio_2\": results.iloc[b].Duration_Ratios,\n",
    "                \"sum_diffs\": sum_diffs,\n",
    "                \"match_1_index\": a,\n",
    "                \"match_2_index\": b,\n",
    "                \"match_1_ema\": results.iloc[a].EMA,\n",
    "                \"match_2_ema\": results.iloc[b].EMA\n",
    "            }\n",
    "        )"
   ]
  },
  {
   "cell_type": "code",
   "execution_count": null,
   "metadata": {},
   "outputs": [],
   "source": [
    "compare_ratios_2\n",
    "matches_df=pd.DataFrame(matches_2)\n",
    "matches_df.head(5)\n",
    "# could SORT by these!\n",
    "matches_df[matches_df.sum_diffs == 0]"
   ]
  },
  {
   "cell_type": "code",
   "execution_count": null,
   "metadata": {},
   "outputs": [],
   "source": []
  }
 ],
 "metadata": {
  "kernelspec": {
   "display_name": "Python 3",
   "language": "python",
   "name": "python3"
  },
  "language_info": {
   "codemirror_mode": {
    "name": "ipython",
    "version": 3
   },
   "file_extension": ".py",
   "mimetype": "text/x-python",
   "name": "python",
   "nbconvert_exporter": "python",
   "pygments_lexer": "ipython3",
   "version": "3.7.4"
  }
 },
 "nbformat": 4,
 "nbformat_minor": 2
}
