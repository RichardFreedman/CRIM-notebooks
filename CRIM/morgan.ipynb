from music21 import converter, stream
import pandas as pd

class CorpusBase(object):
  def __init__(self):
    self.importedPieces = {}
  
  def _import_piece(self, pathname: str):
    if pathname not in self.importedPieces: # only import a piece if it hasn't been imported this session
      piece = converter.Converter()
      piece.parseFile(pathname, forceSource=True, storePickle=False)
      self.importedPieces[pathname] = ImportedPiece(piece.stream)
    
    return self.importedPieces[pathname]

class ImportedPiece():
  def __init__(self, piece):
    self.piece = piece
    self.analyses = {}

  def getPartSeries(self):
    if 'PartSeries' not in self.analyses:
      parts = self.piece.getElementsByClass(stream.Part)
      part_series = []
      for i, part in enumerate(parts):
        notesAndRests = part.flat.getElementsByClass(['Note', 'Rest'])
        part_name = part.partName or 'Part_' + str(i + 1)
        ser = pd.Series(notesAndRests, name=part_name)
        ser.index = ser.apply(lambda noteOrRest: noteOrRest.offset)
        ser = ser[~ser.index.duplicated()] # remove multiple events at the same offset in a given part
        part_series.append(ser)
      self.analyses['PartSeries'] = part_series
    return self.analyses['PartSeries']

  def getM21Objs(self):
    if 'M21Objs' not in self.analyses:
      self.analyses['M21Objs'] = pd.concat(self.getPartSeries(), axis=1)
    return self.analyses['M21Objs']

  def _remove_tied(self, noteOrRest):
    if hasattr(noteOrRest, 'tie') and noteOrRest.tie is not None and noteOrRest.tie.type != 'start':
      return None
    else:
      return noteOrRest

  def getM21ObjsNoTies(self):
    if 'M21ObjsNoTies' not in self.analyses:
      df = self.getM21Objs().applymap(self._remove_tied).dropna(how='all')
      self.analyses['M21ObjsNoTies'] = df
    return self.analyses['M21ObjsNoTies']

  def _getNotesAndRestsHelper(self, noteOrRest):
    if not hasattr(noteOrRest, 'isRest'):
      return noteOrRest
    if noteOrRest.isRest:
      return 'Rest'
    else:
      return noteOrRest.nameWithOctave
    
  def getNotesAndRests(self):
    if 'NotesAndRests' not in self.analyses:
      df = self.getM21ObjsNoTies().applymap(self._getNotesAndRestsHelper)
      self.analyses['NotesAndRests'] = df
    return self.analyses['NotesAndRests']

corpus = CorpusBase()
imported_piece = corpus._import_piece('01B Alleluia c verse.xml')
notesAndRests = imported_piece.getNotesAndRests()
print(notesAndRests, imported_piece.analyses.keys(), sep='\n\n\n')