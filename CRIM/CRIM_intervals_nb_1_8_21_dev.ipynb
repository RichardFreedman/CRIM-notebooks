{
 "cells": [
  {
   "cell_type": "markdown",
   "metadata": {},
   "source": [
    "## Search with Options\n",
    "\n",
    "- Piece or Corpus\n",
    "- Actual or Incremental Durations\n",
    "- Chromatic or Diatonic\n",
    "- Exact or Close\n",
    "- Classify\n",
    "\n",
    "***\n"
   ]
  },
  {
   "cell_type": "code",
   "execution_count": 175,
   "metadata": {},
   "outputs": [],
   "source": [
    "from crim_intervals import *\n",
    "import pandas as pd\n",
    "import ast\n",
    "import matplotlib\n",
    "from itertools import tee, combinations"
   ]
  },
  {
   "cell_type": "markdown",
   "metadata": {},
   "source": [
    "### The Complete Corpus"
   ]
  },
  {
   "cell_type": "code",
   "execution_count": 3,
   "metadata": {},
   "outputs": [],
   "source": [
    "work_list = ['CRIM_Mass_0001_1.mei','CRIM_Mass_0001_2.mei','CRIM_Mass_0001_3.mei','CRIM_Mass_0001_4.mei','CRIM_Mass_0001_5.mei','CRIM_Mass_0002_1.mei','CRIM_Mass_0002_2.mei','CRIM_Mass_0002_3.mei','CRIM_Mass_0002_4.mei','CRIM_Mass_0002_5.mei','CRIM_Mass_0003_1.mei','CRIM_Mass_0003_2.mei','CRIM_Mass_0003_3.mei','CRIM_Mass_0003_4.mei','CRIM_Mass_0003_5.mei','CRIM_Mass_0004_1.mei','CRIM_Mass_0004_2.mei','CRIM_Mass_0004_3.mei','CRIM_Mass_0004_4.mei','CRIM_Mass_0004_5.mei','CRIM_Mass_0005_1.mei','CRIM_Mass_0005_2.mei','CRIM_Mass_0005_3.mei','CRIM_Mass_0005_4.mei','CRIM_Mass_0005_5.mei','CRIM_Mass_0006_1.mei','CRIM_Mass_0006_2.mei','CRIM_Mass_0006_3.mei','CRIM_Mass_0006_4.mei','CRIM_Mass_0006_5.mei','CRIM_Mass_0007_1.mei', 'CRIM_Mass_0007_2.mei', 'CRIM_Mass_0007_3.mei', 'CRIM_Mass_0007_4.mei', 'CRIM_Mass_0007_5.mei', 'CRIM_Mass_0008_1.mei', 'CRIM_Mass_0008_2.mei', 'CRIM_Mass_0008_3.mei', 'CRIM_Mass_0008_4.mei', 'CRIM_Mass_0008_5.mei', 'CRIM_Mass_0009_1.mei', 'CRIM_Mass_0009_2.mei', 'CRIM_Mass_0009_3.mei', 'CRIM_Mass_0009_4.mei', 'CRIM_Mass_0009_5.mei', 'CRIM_Mass_0010_1.mei', 'CRIM_Mass_0010_2.mei', 'CRIM_Mass_0010_3.mei', 'CRIM_Mass_0010_4.mei', 'CRIM_Mass_0010_5.mei', 'CRIM_Mass_0011_1.mei', 'CRIM_Mass_0011_2.mei', 'CRIM_Mass_0011_3.mei', 'CRIM_Mass_0011_4.mei', 'CRIM_Mass_0011_5.mei', 'CRIM_Mass_0012_1.mei', 'CRIM_Mass_0012_2.mei', 'CRIM_Mass_0012_3.mei', 'CRIM_Mass_0012_4.mei', 'CRIM_Mass_0012_5.mei', 'CRIM_Mass_0013_1.mei', 'CRIM_Mass_0013_2.mei', 'CRIM_Mass_0013_3.mei', 'CRIM_Mass_0013_4.mei', 'CRIM_Mass_0013_5.mei', 'CRIM_Mass_0014_1.mei', 'CRIM_Mass_0014_2.mei', 'CRIM_Mass_0014_3.mei', 'CRIM_Mass_0014_4.mei', 'CRIM_Mass_0014_5.mei', 'CRIM_Mass_0015_1.mei', 'CRIM_Mass_0015_2.mei', 'CRIM_Mass_0015_3.mei', 'CRIM_Mass_0015_4.mei', 'CRIM_Mass_0015_5.mei', 'CRIM_Mass_0016_1.mei', 'CRIM_Mass_0016_2.mei', 'CRIM_Mass_0016_3.mei', 'CRIM_Mass_0016_4.mei', 'CRIM_Mass_0016_5.mei', 'CRIM_Mass_0017_1.mei', 'CRIM_Mass_0017_2.mei', 'CRIM_Mass_0017_3.mei', 'CRIM_Mass_0017_4.mei', 'CRIM_Mass_0017_5.mei', 'CRIM_Mass_0018_1.mei', 'CRIM_Mass_0018_2.mei', 'CRIM_Mass_0018_3.mei', 'CRIM_Mass_0018_4.mei', 'CRIM_Mass_0018_5.mei', 'CRIM_Mass_0019_1.mei', 'CRIM_Mass_0019_2.mei', 'CRIM_Mass_0019_3.mei', 'CRIM_Mass_0019_4.mei', 'CRIM_Mass_0019_5.mei', 'CRIM_Mass_0020_1.mei', 'CRIM_Mass_0020_2.mei', 'CRIM_Mass_0020_3.mei', 'CRIM_Mass_0020_4.mei', 'CRIM_Mass_0020_5.mei', 'CRIM_Mass_0021_1.mei', 'CRIM_Mass_0021_2.mei', 'CRIM_Mass_0021_3.mei', 'CRIM_Mass_0021_4.mei', 'CRIM_Mass_0021_5.mei', 'CRIM_Mass_0022_2.mei', 'CRIM_Model_0001.mei', 'CRIM_Model_0008.mei', 'CRIM_Model_0009.mei', 'CRIM_Model_0010.mei', 'CRIM_Model_0011.mei', 'CRIM_Model_0012.mei', 'CRIM_Model_0013.mei', 'CRIM_Model_0014.mei', 'CRIM_Model_0015.mei', 'CRIM_Model_0016.mei', 'CRIM_Model_0017.mei', 'CRIM_Model_0019.mei', 'CRIM_Model_0020.mei', 'CRIM_Model_0021.mei', 'CRIM_Model_0023.mei', 'CRIM_Model_0025.mei', 'CRIM_Model_0026.mei',\n",
    "]"
   ]
  },
  {
   "cell_type": "markdown",
   "metadata": {},
   "source": [
    "### Short Corpus"
   ]
  },
  {
   "cell_type": "code",
   "execution_count": 236,
   "metadata": {},
   "outputs": [],
   "source": [
    "# work_list = ['CRIM_Mass_0002_1.mei',\n",
    "#  'CRIM_Mass_0002_2.mei',\n",
    "#  'CRIM_Mass_0002_3.mei',\n",
    "#  'CRIM_Mass_0002_4.mei',\n",
    "#  'CRIM_Mass_0002_5.mei',\n",
    "# 'CRIM_Model_0001.mei']\n",
    "\n",
    "work_list = ['CRIM_Model_0015.mei']"
   ]
  },
  {
   "source": [
    "## Load File and Correct the MEI Metadata"
   ],
   "cell_type": "markdown",
   "metadata": {
    "jupyter": {
     "outputs_hidden": true
    },
    "scrolled": true
   }
  },
  {
   "cell_type": "code",
   "execution_count": 237,
   "metadata": {
    "tags": []
   },
   "outputs": [
    {
     "output_type": "stream",
     "name": "stdout",
     "text": [
      "Requesting file from https://crimproject.org/mei/MEI_4.0/CRIM_Model_0015.mei...\n",
      "Successfully imported.\n",
      "https://crimproject.org/mei/MEI_4.0/CRIM_Model_0015.mei Quo abiit dilectus tuus\n",
      "Quo abiit dilectus tuus\n"
     ]
    }
   ],
   "source": [
    "work_list = [el.replace(\"CRIM_\", \"https://crimproject.org/mei/MEI_4.0/CRIM_\") for el in work_list]\n",
    "corpus = CorpusBase(work_list)\n",
    "\n",
    "import xml.etree.ElementTree as ET\n",
    "import requests\n",
    "\n",
    "MEINSURI = 'http://www.music-encoding.org/ns/mei'\n",
    "MEINS = '{%s}' % MEINSURI\n",
    "\n",
    "for i, path in enumerate(work_list):\n",
    "    \n",
    "    try:\n",
    "        if path[0] == '/':\n",
    "            mei_doc = ET.parse(path)\n",
    "        else:\n",
    "            mei_doc = ET.fromstring(requests.get(path).text)\n",
    "\n",
    "      # Find the title from the MEI file and update the Music21 Score metadata\n",
    "        title = mei_doc.find('mei:meiHead//mei:titleStmt/mei:title', namespaces={\"mei\": MEINSURI}).text\n",
    "        print(path, title)\n",
    "        corpus.scores[i].metadata.title = title\n",
    "    except:\n",
    "        continue\n",
    "\n",
    "for s in corpus.scores:\n",
    "    print(s.metadata.title)"
   ]
  },
  {
   "cell_type": "markdown",
   "metadata": {},
   "source": [
    "\n",
    "## Select Actual or Incremental Durations\n",
    "\n",
    "#### About Rhythmic Durations\n",
    "\n",
    "- For `find_close_matches` and `find_exact_matches`, rhythmic variation/duration is displayed, but **not** factored into the calculation of matching.\n",
    "- **Incremental Offset** calculates the intervals using a **fixed offset between notes**, no matter their actual duration.  Use this to ignore passing tones or other ornaments.  The offsets are expressed in multiples of the quarter note (Offset = 1 samples at quarter note; Offset = 2 at half note, etc). Set with `vectors = IntervalBase(corpus.note_list_incremental_offset(2))`"
   ]
  },
  {
   "cell_type": "code",
   "execution_count": 238,
   "metadata": {},
   "outputs": [],
   "source": [
    "vectors = IntervalBase(corpus.note_list)\n",
    "#vectors = IntervalBase(corpus.note_list_incremental_offset(2))"
   ]
  },
  {
   "cell_type": "markdown",
   "metadata": {},
   "source": [
    "***\n",
    "\n",
    "## Select Generic or Semitone Scale:\n",
    "\n",
    "- **Length of the Soggetto**: `into_patterns([vectors.semitone_intervals], 5)` \n",
    "\n",
    "- The **number** in this command represents the **minimum number of vectors to find**. 5 vectors is 6 notes.\n"
   ]
  },
  {
   "cell_type": "code",
   "execution_count": 239,
   "metadata": {},
   "outputs": [],
   "source": [
    "patterns = into_patterns([vectors.generic_intervals], 6)\n",
    "#patterns = into_patterns([vectors.semitone_intervals], 4)"
   ]
  },
  {
   "cell_type": "markdown",
   "metadata": {},
   "source": [
    "***\n",
    "\n",
    "## Select Exact Matches Here, or Close Below\n",
    "#### (Use comment feature to select screen preview or CSV output) \n",
    "\n",
    "- **Exact** is exact in *all* ways `find_exact_matches(patterns, 2)` \n",
    "- The **number** in this command represents the **minimum number of matching melodies needed before reporting**. This allows us to filter for common or uncommon soggetti."
   ]
  },
  {
   "cell_type": "code",
   "execution_count": 240,
   "metadata": {
    "tags": []
   },
   "outputs": [
    {
     "output_type": "stream",
     "name": "stdout",
     "text": [
      "Finding exact matches...\n",
      "173 melodic intervals had more than 1 exact matches.\n",
      "\n"
     ]
    },
    {
     "output_type": "execute_result",
     "data": {
      "text/plain": [
       "  pattern_generating_match        pattern_matched              piece_title  \\\n",
       "0     (5, -2, 2, 2, 2, -2)   [5, -2, 2, 2, 2, -2]  Quo abiit dilectus tuus   \n",
       "1     (5, -2, 2, 2, 2, -2)   [5, -2, 2, 2, 2, -2]  Quo abiit dilectus tuus   \n",
       "2    (-2, 2, 2, 2, -2, -2)  [-2, 2, 2, 2, -2, -2]  Quo abiit dilectus tuus   \n",
       "3    (-2, 2, 2, 2, -2, -2)  [-2, 2, 2, 2, -2, -2]  Quo abiit dilectus tuus   \n",
       "4    (-2, 2, 2, 2, -2, -2)  [-2, 2, 2, 2, -2, -2]  Quo abiit dilectus tuus   \n",
       "\n",
       "       part  start_measure  end_measure                       note_durations  \\\n",
       "0  Superior              1            3  [4.0, 6.0, 2.0, 2.0, 2.0, 3.0, 0.5]   \n",
       "1     Tenor             10           12  [4.0, 6.0, 2.0, 2.0, 2.0, 3.0, 0.5]   \n",
       "2  Superior              1            3  [6.0, 2.0, 2.0, 2.0, 3.0, 0.5, 0.5]   \n",
       "3  Superior             32           33  [1.0, 1.0, 1.0, 1.0, 2.0, 1.0, 1.0]   \n",
       "4  Superior             54           56  [2.0, 3.0, 1.0, 2.0, 4.0, 2.0, 4.0]   \n",
       "\n",
       "                                      ema  \\\n",
       "0    1-3/1/@1.0-end,@start-end,@start-2.5   \n",
       "1  10-12/3/@1.0-end,@start-end,@start-2.5   \n",
       "2   1-3/1/@3.0-end,@start-end,@start-2.75   \n",
       "3             32-33/1/@3.0-end,@start-2.5   \n",
       "4  54-56/1/@2.0-end,@start-end,@start-1.0   \n",
       "\n",
       "                                             ema_url  \n",
       "0  https://ema.crimproject.org/https%3A%2F%2Fcrim...  \n",
       "1  https://ema.crimproject.org/https%3A%2F%2Fcrim...  \n",
       "2  https://ema.crimproject.org/https%3A%2F%2Fcrim...  \n",
       "3  https://ema.crimproject.org/https%3A%2F%2Fcrim...  \n",
       "4  https://ema.crimproject.org/https%3A%2F%2Fcrim...  "
      ],
      "text/html": "<div>\n<style scoped>\n    .dataframe tbody tr th:only-of-type {\n        vertical-align: middle;\n    }\n\n    .dataframe tbody tr th {\n        vertical-align: top;\n    }\n\n    .dataframe thead th {\n        text-align: right;\n    }\n</style>\n<table border=\"1\" class=\"dataframe\">\n  <thead>\n    <tr style=\"text-align: right;\">\n      <th></th>\n      <th>pattern_generating_match</th>\n      <th>pattern_matched</th>\n      <th>piece_title</th>\n      <th>part</th>\n      <th>start_measure</th>\n      <th>end_measure</th>\n      <th>note_durations</th>\n      <th>ema</th>\n      <th>ema_url</th>\n    </tr>\n  </thead>\n  <tbody>\n    <tr>\n      <th>0</th>\n      <td>(5, -2, 2, 2, 2, -2)</td>\n      <td>[5, -2, 2, 2, 2, -2]</td>\n      <td>Quo abiit dilectus tuus</td>\n      <td>Superior</td>\n      <td>1</td>\n      <td>3</td>\n      <td>[4.0, 6.0, 2.0, 2.0, 2.0, 3.0, 0.5]</td>\n      <td>1-3/1/@1.0-end,@start-end,@start-2.5</td>\n      <td>https://ema.crimproject.org/https%3A%2F%2Fcrim...</td>\n    </tr>\n    <tr>\n      <th>1</th>\n      <td>(5, -2, 2, 2, 2, -2)</td>\n      <td>[5, -2, 2, 2, 2, -2]</td>\n      <td>Quo abiit dilectus tuus</td>\n      <td>Tenor</td>\n      <td>10</td>\n      <td>12</td>\n      <td>[4.0, 6.0, 2.0, 2.0, 2.0, 3.0, 0.5]</td>\n      <td>10-12/3/@1.0-end,@start-end,@start-2.5</td>\n      <td>https://ema.crimproject.org/https%3A%2F%2Fcrim...</td>\n    </tr>\n    <tr>\n      <th>2</th>\n      <td>(-2, 2, 2, 2, -2, -2)</td>\n      <td>[-2, 2, 2, 2, -2, -2]</td>\n      <td>Quo abiit dilectus tuus</td>\n      <td>Superior</td>\n      <td>1</td>\n      <td>3</td>\n      <td>[6.0, 2.0, 2.0, 2.0, 3.0, 0.5, 0.5]</td>\n      <td>1-3/1/@3.0-end,@start-end,@start-2.75</td>\n      <td>https://ema.crimproject.org/https%3A%2F%2Fcrim...</td>\n    </tr>\n    <tr>\n      <th>3</th>\n      <td>(-2, 2, 2, 2, -2, -2)</td>\n      <td>[-2, 2, 2, 2, -2, -2]</td>\n      <td>Quo abiit dilectus tuus</td>\n      <td>Superior</td>\n      <td>32</td>\n      <td>33</td>\n      <td>[1.0, 1.0, 1.0, 1.0, 2.0, 1.0, 1.0]</td>\n      <td>32-33/1/@3.0-end,@start-2.5</td>\n      <td>https://ema.crimproject.org/https%3A%2F%2Fcrim...</td>\n    </tr>\n    <tr>\n      <th>4</th>\n      <td>(-2, 2, 2, 2, -2, -2)</td>\n      <td>[-2, 2, 2, 2, -2, -2]</td>\n      <td>Quo abiit dilectus tuus</td>\n      <td>Superior</td>\n      <td>54</td>\n      <td>56</td>\n      <td>[2.0, 3.0, 1.0, 2.0, 4.0, 2.0, 4.0]</td>\n      <td>54-56/1/@2.0-end,@start-end,@start-1.0</td>\n      <td>https://ema.crimproject.org/https%3A%2F%2Fcrim...</td>\n    </tr>\n  </tbody>\n</table>\n</div>"
     },
     "metadata": {},
     "execution_count": 240
    }
   ],
   "source": [
    "exact_matches = find_exact_matches(patterns, 1)\n",
    "# Use this for exact screen preview\n",
    "#for item in exact_matches:\n",
    "    #item.print_exact_matches()\n",
    "\n",
    "output_exact = export_pandas(exact_matches)\n",
    "pd.DataFrame(output_exact).head()\n",
    "output_exact[\"pattern_generating_match\"] = output_exact[\"pattern_generating_match\"].apply(tuple)\n",
    "\n",
    "results = pd.DataFrame(output_exact)\n",
    "results[\"pattern_generating_match\"] = results[\"pattern_generating_match\"].apply(tuple)\n",
    "results.head()\n",
    "#export_to_csv(exact_matches)"
   ]
  },
  {
   "source": [
    "### A Quick Overview of the Results"
   ],
   "cell_type": "markdown",
   "metadata": {}
  },
  {
   "cell_type": "code",
   "execution_count": 241,
   "metadata": {},
   "outputs": [
    {
     "output_type": "execute_result",
     "data": {
      "text/plain": [
       "'There are 173 unique soggetti and 657 total matches in this search'"
      ]
     },
     "metadata": {},
     "execution_count": 241
    }
   ],
   "source": [
    "total_matches = len(output_exact)\n",
    "unique_sogetti = output_exact.pattern_generating_match.apply(str).nunique()\n",
    "summary = 'There are {} unique soggetti and {} total matches in this search'.format(unique_sogetti, total_matches)\n",
    "summary"
   ]
  },
  {
   "cell_type": "markdown",
   "metadata": {},
   "source": [
    "### Group by the Pattern Generating Match and Check Distribution of Results\n",
    "\n",
    "- Report Top Ten and Bottom Ten Results)"
   ]
  },
  {
   "cell_type": "code",
   "execution_count": 242,
   "metadata": {},
   "outputs": [
    {
     "output_type": "execute_result",
     "data": {
      "text/plain": [
       "                           0\n",
       "pattern_generating_match    \n",
       "(2, 2, 2, -2, -2, -2)     19\n",
       "(-2, -2, -2, 2, 2, 2)     17\n",
       "(-2, 2, 2, 2, -2, -2)     14\n",
       "(-2, -2, -2, -2, 2, 2)    13\n",
       "(2, 2, -2, -2, -2, 2)     13\n",
       "(-2, -2, -2, -2, -2, 2)   12\n",
       "(-2, -2, 2, 2, 2, 2)      11\n",
       "(2, 2, -2, -2, -2, -2)    11\n",
       "(2, 2, -3, 3, -2, -2)     11\n",
       "(2, -2, -2, -2, -2, -2)   10"
      ],
      "text/html": "<div>\n<style scoped>\n    .dataframe tbody tr th:only-of-type {\n        vertical-align: middle;\n    }\n\n    .dataframe tbody tr th {\n        vertical-align: top;\n    }\n\n    .dataframe thead th {\n        text-align: right;\n    }\n</style>\n<table border=\"1\" class=\"dataframe\">\n  <thead>\n    <tr style=\"text-align: right;\">\n      <th></th>\n      <th>0</th>\n    </tr>\n    <tr>\n      <th>pattern_generating_match</th>\n      <th></th>\n    </tr>\n  </thead>\n  <tbody>\n    <tr>\n      <th>(2, 2, 2, -2, -2, -2)</th>\n      <td>19</td>\n    </tr>\n    <tr>\n      <th>(-2, -2, -2, 2, 2, 2)</th>\n      <td>17</td>\n    </tr>\n    <tr>\n      <th>(-2, 2, 2, 2, -2, -2)</th>\n      <td>14</td>\n    </tr>\n    <tr>\n      <th>(-2, -2, -2, -2, 2, 2)</th>\n      <td>13</td>\n    </tr>\n    <tr>\n      <th>(2, 2, -2, -2, -2, 2)</th>\n      <td>13</td>\n    </tr>\n    <tr>\n      <th>(-2, -2, -2, -2, -2, 2)</th>\n      <td>12</td>\n    </tr>\n    <tr>\n      <th>(-2, -2, 2, 2, 2, 2)</th>\n      <td>11</td>\n    </tr>\n    <tr>\n      <th>(2, 2, -2, -2, -2, -2)</th>\n      <td>11</td>\n    </tr>\n    <tr>\n      <th>(2, 2, -3, 3, -2, -2)</th>\n      <td>11</td>\n    </tr>\n    <tr>\n      <th>(2, -2, -2, -2, -2, -2)</th>\n      <td>10</td>\n    </tr>\n  </tbody>\n</table>\n</div>"
     },
     "metadata": {},
     "execution_count": 242
    }
   ],
   "source": [
    "pattern_inventory = pd.DataFrame(output_exact.groupby(\"pattern_generating_match\").size().sort_values(ascending=False)[:10])\n",
    "pattern_inventory"
   ]
  },
  {
   "cell_type": "code",
   "execution_count": 243,
   "metadata": {},
   "outputs": [
    {
     "output_type": "execute_result",
     "data": {
      "text/plain": [
       "                          0\n",
       "pattern_generating_match   \n",
       "(-2, 4, 1, -2, -2, -2)    2\n",
       "(2, -2, -2, -2, -2, 2)    2\n",
       "(2, -2, -3, 3, -2, 2)     2\n",
       "(2, -3, 5, 1, -5, 4)      2\n",
       "(2, -3, 3, -2, -2, -3)    2\n",
       "(2, -3, 2, 2, 2, 2)       2\n",
       "(2, -3, 2, 2, -3, -2)     2\n",
       "(2, -3, 2, -2, -2, 2)     2\n",
       "(2, -3, -2, 2, 2, -2)     2\n",
       "(1, 2, 2, 2, -2, 4)       2"
      ],
      "text/html": "<div>\n<style scoped>\n    .dataframe tbody tr th:only-of-type {\n        vertical-align: middle;\n    }\n\n    .dataframe tbody tr th {\n        vertical-align: top;\n    }\n\n    .dataframe thead th {\n        text-align: right;\n    }\n</style>\n<table border=\"1\" class=\"dataframe\">\n  <thead>\n    <tr style=\"text-align: right;\">\n      <th></th>\n      <th>0</th>\n    </tr>\n    <tr>\n      <th>pattern_generating_match</th>\n      <th></th>\n    </tr>\n  </thead>\n  <tbody>\n    <tr>\n      <th>(-2, 4, 1, -2, -2, -2)</th>\n      <td>2</td>\n    </tr>\n    <tr>\n      <th>(2, -2, -2, -2, -2, 2)</th>\n      <td>2</td>\n    </tr>\n    <tr>\n      <th>(2, -2, -3, 3, -2, 2)</th>\n      <td>2</td>\n    </tr>\n    <tr>\n      <th>(2, -3, 5, 1, -5, 4)</th>\n      <td>2</td>\n    </tr>\n    <tr>\n      <th>(2, -3, 3, -2, -2, -3)</th>\n      <td>2</td>\n    </tr>\n    <tr>\n      <th>(2, -3, 2, 2, 2, 2)</th>\n      <td>2</td>\n    </tr>\n    <tr>\n      <th>(2, -3, 2, 2, -3, -2)</th>\n      <td>2</td>\n    </tr>\n    <tr>\n      <th>(2, -3, 2, -2, -2, 2)</th>\n      <td>2</td>\n    </tr>\n    <tr>\n      <th>(2, -3, -2, 2, 2, -2)</th>\n      <td>2</td>\n    </tr>\n    <tr>\n      <th>(1, 2, 2, 2, -2, 4)</th>\n      <td>2</td>\n    </tr>\n  </tbody>\n</table>\n</div>"
     },
     "metadata": {},
     "execution_count": 243
    }
   ],
   "source": [
    "pattern_inventory = pd.DataFrame(output_exact.groupby(\"pattern_generating_match\").size().sort_values(ascending=True)[:10])\n",
    "pattern_inventory"
   ]
  },
  {
   "cell_type": "markdown",
   "metadata": {},
   "source": [
    "***\n",
    "\n",
    "### Select Close Matches Here\n",
    "#### (Comment out the 'for item iteration' in order to skip screen preview)\n",
    "\n",
    "- **Close** matches allow for melodic variation (see more below). `find_close_matches(patterns, 2, 1)`\n",
    "- The **first number** in this command is the **minimum number of melodies** needed before reporting\n",
    "- The **second number** is **threshold of similarity** needed in order to find a match. \n",
    "- Lower number = very similar; higher number = less similar\n",
    "\n",
    "##### More about Close Matches  \n",
    "- The **threshold for close matches** is determined by the **second number** called in the method. \n",
    "- We select two patterns, then compare *each vector in each pattern successively*. \n",
    "- The *differences between each vector are summed*. \n",
    "- If that value is **below the threshold specified**, we consider the **two patterns closely matched**.\n",
    "- The format of the method call is  `find_close_matches(the array you get from into_patterns, minimum matches needed to be displayed, threshold for close match)`."
   ]
  },
  {
   "cell_type": "code",
   "execution_count": 245,
   "metadata": {
    "tags": []
   },
   "outputs": [
    {
     "output_type": "stream",
     "name": "stdout",
     "text": [
      "Finding close matches...\n",
      "301 melodic intervals had more than 2 exact or close matches.\n",
      "\n"
     ]
    },
    {
     "output_type": "execute_result",
     "data": {
      "text/plain": [
       "  pattern_generating_match        pattern_matched              piece_title  \\\n",
       "0     (5, -2, 2, 2, 2, -2)   [5, -2, 2, 2, 2, -2]  Quo abiit dilectus tuus   \n",
       "1     (5, -2, 2, 2, 2, -2)   [4, -2, 2, 2, 2, -2]  Quo abiit dilectus tuus   \n",
       "2     (5, -2, 2, 2, 2, -2)   [5, -2, 2, 2, 2, -2]  Quo abiit dilectus tuus   \n",
       "3     (5, -2, 2, 2, 2, -2)   [4, -2, 2, 2, 2, -2]  Quo abiit dilectus tuus   \n",
       "4    (-2, 2, 2, 2, -2, -2)  [-2, 2, 2, 2, -2, -2]  Quo abiit dilectus tuus   \n",
       "\n",
       "          part  start_measure  end_measure  \\\n",
       "0     Superior              1            3   \n",
       "1  Contratenor              3            5   \n",
       "2        Tenor             10           12   \n",
       "3       Bassus             12           14   \n",
       "4     Superior              1            3   \n",
       "\n",
       "                        note_durations  \\\n",
       "0  [4.0, 6.0, 2.0, 2.0, 2.0, 3.0, 0.5]   \n",
       "1  [4.0, 6.0, 2.0, 2.0, 2.0, 3.0, 0.5]   \n",
       "2  [4.0, 6.0, 2.0, 2.0, 2.0, 3.0, 0.5]   \n",
       "3  [2.0, 6.0, 2.0, 2.0, 2.0, 4.0, 2.0]   \n",
       "4  [6.0, 2.0, 2.0, 2.0, 3.0, 0.5, 0.5]   \n",
       "\n",
       "                                      ema  \\\n",
       "0    1-3/1/@1.0-end,@start-end,@start-2.5   \n",
       "1    3-5/2/@1.0-end,@start-end,@start-2.5   \n",
       "2  10-12/3/@1.0-end,@start-end,@start-2.5   \n",
       "3  12-14/4/@2.0-end,@start-end,@start-3.0   \n",
       "4   1-3/1/@3.0-end,@start-end,@start-2.75   \n",
       "\n",
       "                                             ema_url  \n",
       "0  https://ema.crimproject.org/https%3A%2F%2Fcrim...  \n",
       "1  https://ema.crimproject.org/https%3A%2F%2Fcrim...  \n",
       "2  https://ema.crimproject.org/https%3A%2F%2Fcrim...  \n",
       "3  https://ema.crimproject.org/https%3A%2F%2Fcrim...  \n",
       "4  https://ema.crimproject.org/https%3A%2F%2Fcrim...  "
      ],
      "text/html": "<div>\n<style scoped>\n    .dataframe tbody tr th:only-of-type {\n        vertical-align: middle;\n    }\n\n    .dataframe tbody tr th {\n        vertical-align: top;\n    }\n\n    .dataframe thead th {\n        text-align: right;\n    }\n</style>\n<table border=\"1\" class=\"dataframe\">\n  <thead>\n    <tr style=\"text-align: right;\">\n      <th></th>\n      <th>pattern_generating_match</th>\n      <th>pattern_matched</th>\n      <th>piece_title</th>\n      <th>part</th>\n      <th>start_measure</th>\n      <th>end_measure</th>\n      <th>note_durations</th>\n      <th>ema</th>\n      <th>ema_url</th>\n    </tr>\n  </thead>\n  <tbody>\n    <tr>\n      <th>0</th>\n      <td>(5, -2, 2, 2, 2, -2)</td>\n      <td>[5, -2, 2, 2, 2, -2]</td>\n      <td>Quo abiit dilectus tuus</td>\n      <td>Superior</td>\n      <td>1</td>\n      <td>3</td>\n      <td>[4.0, 6.0, 2.0, 2.0, 2.0, 3.0, 0.5]</td>\n      <td>1-3/1/@1.0-end,@start-end,@start-2.5</td>\n      <td>https://ema.crimproject.org/https%3A%2F%2Fcrim...</td>\n    </tr>\n    <tr>\n      <th>1</th>\n      <td>(5, -2, 2, 2, 2, -2)</td>\n      <td>[4, -2, 2, 2, 2, -2]</td>\n      <td>Quo abiit dilectus tuus</td>\n      <td>Contratenor</td>\n      <td>3</td>\n      <td>5</td>\n      <td>[4.0, 6.0, 2.0, 2.0, 2.0, 3.0, 0.5]</td>\n      <td>3-5/2/@1.0-end,@start-end,@start-2.5</td>\n      <td>https://ema.crimproject.org/https%3A%2F%2Fcrim...</td>\n    </tr>\n    <tr>\n      <th>2</th>\n      <td>(5, -2, 2, 2, 2, -2)</td>\n      <td>[5, -2, 2, 2, 2, -2]</td>\n      <td>Quo abiit dilectus tuus</td>\n      <td>Tenor</td>\n      <td>10</td>\n      <td>12</td>\n      <td>[4.0, 6.0, 2.0, 2.0, 2.0, 3.0, 0.5]</td>\n      <td>10-12/3/@1.0-end,@start-end,@start-2.5</td>\n      <td>https://ema.crimproject.org/https%3A%2F%2Fcrim...</td>\n    </tr>\n    <tr>\n      <th>3</th>\n      <td>(5, -2, 2, 2, 2, -2)</td>\n      <td>[4, -2, 2, 2, 2, -2]</td>\n      <td>Quo abiit dilectus tuus</td>\n      <td>Bassus</td>\n      <td>12</td>\n      <td>14</td>\n      <td>[2.0, 6.0, 2.0, 2.0, 2.0, 4.0, 2.0]</td>\n      <td>12-14/4/@2.0-end,@start-end,@start-3.0</td>\n      <td>https://ema.crimproject.org/https%3A%2F%2Fcrim...</td>\n    </tr>\n    <tr>\n      <th>4</th>\n      <td>(-2, 2, 2, 2, -2, -2)</td>\n      <td>[-2, 2, 2, 2, -2, -2]</td>\n      <td>Quo abiit dilectus tuus</td>\n      <td>Superior</td>\n      <td>1</td>\n      <td>3</td>\n      <td>[6.0, 2.0, 2.0, 2.0, 3.0, 0.5, 0.5]</td>\n      <td>1-3/1/@3.0-end,@start-end,@start-2.75</td>\n      <td>https://ema.crimproject.org/https%3A%2F%2Fcrim...</td>\n    </tr>\n  </tbody>\n</table>\n</div>"
     },
     "metadata": {},
     "execution_count": 245
    }
   ],
   "source": [
    "close_matches = find_close_matches(patterns, 2, 1)\n",
    "#for item in close_matches:\n",
    "   #item.print_close_matches()\n",
    "    #return pd.DataFrame(close_matches)\n",
    "\n",
    "output_close = export_pandas(close_matches)\n",
    "output_close[\"pattern_generating_match\"] = output_close[\"pattern_generating_match\"].apply(tuple)\n",
    "\n",
    "results = pd.DataFrame(output_close)\n",
    "results[\"pattern_generating_match\"] = results[\"pattern_generating_match\"].apply(tuple)\n",
    "results.head()\n",
    "#export_to_csv(close_matches)"
   ]
  },
  {
   "source": [
    "### How Many Unique Soggetti?  How many instances?"
   ],
   "cell_type": "markdown",
   "metadata": {}
  },
  {
   "cell_type": "code",
   "execution_count": 246,
   "metadata": {},
   "outputs": [
    {
     "output_type": "execute_result",
     "data": {
      "text/plain": [
       "'There are 301 unique soggetti and 2168 total matches in this search'"
      ]
     },
     "metadata": {},
     "execution_count": 246
    }
   ],
   "source": [
    "total_matches = len(output_close)\n",
    "unique_sogetti = output_close.pattern_generating_match.apply(str).nunique()\n",
    "summary = 'There are {} unique soggetti and {} total matches in this search'.format(unique_sogetti, total_matches)\n",
    "summary"
   ]
  },
  {
   "cell_type": "markdown",
   "metadata": {},
   "source": [
    "### Top and Bottom Ten Soggetti\n",
    "\n",
    "\n"
   ]
  },
  {
   "cell_type": "code",
   "execution_count": 247,
   "metadata": {},
   "outputs": [
    {
     "output_type": "execute_result",
     "data": {
      "text/plain": [
       "                           0\n",
       "pattern_generating_match    \n",
       "(-2, -2, -3, 2, 2, 2)     26\n",
       "(3, -2, -2, -2, -2, -2)   23\n",
       "(-3, 2, 2, 2, -2, -2)     22\n",
       "(-2, -2, -2, 2, 2, 2)     22\n",
       "(-2, -3, 2, 2, 2, 2)      21\n",
       "(2, 2, 2, -2, -2, -2)     21\n",
       "(-2, 2, 2, 2, -2, -2)     21\n",
       "(2, 2, 2, -2, -2, -3)     20\n",
       "(-2, -2, -2, -3, 2, 2)    20\n",
       "(2, 2, 3, -2, -2, -2)     20"
      ],
      "text/html": "<div>\n<style scoped>\n    .dataframe tbody tr th:only-of-type {\n        vertical-align: middle;\n    }\n\n    .dataframe tbody tr th {\n        vertical-align: top;\n    }\n\n    .dataframe thead th {\n        text-align: right;\n    }\n</style>\n<table border=\"1\" class=\"dataframe\">\n  <thead>\n    <tr style=\"text-align: right;\">\n      <th></th>\n      <th>0</th>\n    </tr>\n    <tr>\n      <th>pattern_generating_match</th>\n      <th></th>\n    </tr>\n  </thead>\n  <tbody>\n    <tr>\n      <th>(-2, -2, -3, 2, 2, 2)</th>\n      <td>26</td>\n    </tr>\n    <tr>\n      <th>(3, -2, -2, -2, -2, -2)</th>\n      <td>23</td>\n    </tr>\n    <tr>\n      <th>(-3, 2, 2, 2, -2, -2)</th>\n      <td>22</td>\n    </tr>\n    <tr>\n      <th>(-2, -2, -2, 2, 2, 2)</th>\n      <td>22</td>\n    </tr>\n    <tr>\n      <th>(-2, -3, 2, 2, 2, 2)</th>\n      <td>21</td>\n    </tr>\n    <tr>\n      <th>(2, 2, 2, -2, -2, -2)</th>\n      <td>21</td>\n    </tr>\n    <tr>\n      <th>(-2, 2, 2, 2, -2, -2)</th>\n      <td>21</td>\n    </tr>\n    <tr>\n      <th>(2, 2, 2, -2, -2, -3)</th>\n      <td>20</td>\n    </tr>\n    <tr>\n      <th>(-2, -2, -2, -3, 2, 2)</th>\n      <td>20</td>\n    </tr>\n    <tr>\n      <th>(2, 2, 3, -2, -2, -2)</th>\n      <td>20</td>\n    </tr>\n  </tbody>\n</table>\n</div>"
     },
     "metadata": {},
     "execution_count": 247
    }
   ],
   "source": [
    "pattern_inventory = pd.DataFrame(output_close.groupby(\"pattern_generating_match\").size().sort_values(ascending=False)[:10])\n",
    "pattern_inventory"
   ]
  },
  {
   "cell_type": "code",
   "execution_count": 248,
   "metadata": {},
   "outputs": [
    {
     "output_type": "execute_result",
     "data": {
      "text/plain": [
       "                          0\n",
       "pattern_generating_match   \n",
       "(-5, 3, -2, 4, -2, -2)    3\n",
       "(1, -2, 3, -2, -2, -2)    3\n",
       "(1, -2, 2, 2, 2, 2)       3\n",
       "(1, -2, -2, 2, -2, -3)    3\n",
       "(1, -3, 2, 2, 3, -2)      3\n",
       "(1, -3, 2, 2, 2, -2)      3\n",
       "(1, -3, 2, 2, -3, -2)     3\n",
       "(1, -5, 3, -2, 4, -2)     3\n",
       "(-2, 3, -2, 2, 2, 2)      3\n",
       "(-2, 2, 2, 2, 2, -4)      3"
      ],
      "text/html": "<div>\n<style scoped>\n    .dataframe tbody tr th:only-of-type {\n        vertical-align: middle;\n    }\n\n    .dataframe tbody tr th {\n        vertical-align: top;\n    }\n\n    .dataframe thead th {\n        text-align: right;\n    }\n</style>\n<table border=\"1\" class=\"dataframe\">\n  <thead>\n    <tr style=\"text-align: right;\">\n      <th></th>\n      <th>0</th>\n    </tr>\n    <tr>\n      <th>pattern_generating_match</th>\n      <th></th>\n    </tr>\n  </thead>\n  <tbody>\n    <tr>\n      <th>(-5, 3, -2, 4, -2, -2)</th>\n      <td>3</td>\n    </tr>\n    <tr>\n      <th>(1, -2, 3, -2, -2, -2)</th>\n      <td>3</td>\n    </tr>\n    <tr>\n      <th>(1, -2, 2, 2, 2, 2)</th>\n      <td>3</td>\n    </tr>\n    <tr>\n      <th>(1, -2, -2, 2, -2, -3)</th>\n      <td>3</td>\n    </tr>\n    <tr>\n      <th>(1, -3, 2, 2, 3, -2)</th>\n      <td>3</td>\n    </tr>\n    <tr>\n      <th>(1, -3, 2, 2, 2, -2)</th>\n      <td>3</td>\n    </tr>\n    <tr>\n      <th>(1, -3, 2, 2, -3, -2)</th>\n      <td>3</td>\n    </tr>\n    <tr>\n      <th>(1, -5, 3, -2, 4, -2)</th>\n      <td>3</td>\n    </tr>\n    <tr>\n      <th>(-2, 3, -2, 2, 2, 2)</th>\n      <td>3</td>\n    </tr>\n    <tr>\n      <th>(-2, 2, 2, 2, 2, -4)</th>\n      <td>3</td>\n    </tr>\n  </tbody>\n</table>\n</div>"
     },
     "metadata": {},
     "execution_count": 248
    }
   ],
   "source": [
    "pattern_inventory = pd.DataFrame(output_close.groupby(\"pattern_generating_match\").size().sort_values(ascending=True)[:10])\n",
    "pattern_inventory\n"
   ]
  },
  {
   "cell_type": "code",
   "execution_count": null,
   "metadata": {},
   "outputs": [],
   "source": [
    "### Grouping the Melodic Matches (No Durational Filter)\n",
    "\n",
    "- This shows us the number each"
   ]
  },
  {
   "cell_type": "code",
   "execution_count": 272,
   "metadata": {},
   "outputs": [
    {
     "output_type": "execute_result",
     "data": {
      "text/plain": [
       "                                                              0\n",
       "pattern_generating_match note_durations                        \n",
       "(-5, 3, -2, 4, -2, -2)   (2.0, 2.0, 2.0, 2.0, 4.0, 2.0, 1.0)  2\n",
       "                         (2.0, 2.0, 2.0, 2.0, 4.0, 2.0, 2.0)  1\n",
       "(-3, -3, 2, 2, 2, 2)     (1.0, 2.0, 3.0, 1.0, 2.0, 2.0, 2.0)  1\n",
       "                         (2.0, 2.0, 1.0, 1.0, 1.0, 1.0, 2.0)  1\n",
       "                         (2.0, 2.0, 2.0, 1.0, 1.0, 1.0, 1.0)  1"
      ],
      "text/html": "<div>\n<style scoped>\n    .dataframe tbody tr th:only-of-type {\n        vertical-align: middle;\n    }\n\n    .dataframe tbody tr th {\n        vertical-align: top;\n    }\n\n    .dataframe thead th {\n        text-align: right;\n    }\n</style>\n<table border=\"1\" class=\"dataframe\">\n  <thead>\n    <tr style=\"text-align: right;\">\n      <th></th>\n      <th></th>\n      <th>0</th>\n    </tr>\n    <tr>\n      <th>pattern_generating_match</th>\n      <th>note_durations</th>\n      <th></th>\n    </tr>\n  </thead>\n  <tbody>\n    <tr>\n      <th rowspan=\"2\" valign=\"top\">(-5, 3, -2, 4, -2, -2)</th>\n      <th>(2.0, 2.0, 2.0, 2.0, 4.0, 2.0, 1.0)</th>\n      <td>2</td>\n    </tr>\n    <tr>\n      <th>(2.0, 2.0, 2.0, 2.0, 4.0, 2.0, 2.0)</th>\n      <td>1</td>\n    </tr>\n    <tr>\n      <th rowspan=\"3\" valign=\"top\">(-3, -3, 2, 2, 2, 2)</th>\n      <th>(1.0, 2.0, 3.0, 1.0, 2.0, 2.0, 2.0)</th>\n      <td>1</td>\n    </tr>\n    <tr>\n      <th>(2.0, 2.0, 1.0, 1.0, 1.0, 1.0, 2.0)</th>\n      <td>1</td>\n    </tr>\n    <tr>\n      <th>(2.0, 2.0, 2.0, 1.0, 1.0, 1.0, 1.0)</th>\n      <td>1</td>\n    </tr>\n  </tbody>\n</table>\n</div>"
     },
     "metadata": {},
     "execution_count": 272
    }
   ],
   "source": [
    "results[\"note_durations\"] = results[\"note_durations\"].apply(tuple)\n",
    "df2 = pd.DataFrame(results.groupby([\"pattern_generating_match\", \"note_durations\"]).size())\n",
    "df2.head()"
   ]
  },
  {
   "cell_type": "markdown",
   "metadata": {},
   "source": [
    "***\n",
    "\n",
    "### Classify Patterns Here \n",
    "#### Note:  depends on choice of Close or Exact above!  Must choose appropriate one below!\n",
    "#### Enable \"export_to_csv\" line to allow this within Notebook (must answer \"Y\" and provide filename)\n",
    "\n",
    "### note that the classifier can only find patterns with AT LEAST THREE entries!  2-voice fugas are invisible at the moment.  Could be added!"
   ]
  },
  {
   "cell_type": "code",
   "execution_count": 250,
   "metadata": {
    "jupyter": {
     "outputs_hidden": true
    },
    "tags": []
   },
   "outputs": [],
   "source": [
    "%%capture\n",
    "#classify_matches(close_matches, 1)\n",
    "#classify_matches(exact_matches, 2)\n",
    "cm = classify_matches(close_matches, 1)\n",
    "#pd.DataFrame(classified_matches)\n",
    "output_cm = export_pandas(cm)\n",
    "#pd.DataFrame(output).head()\n",
    "\n",
    "## For CSV export, use the following (and follow prompts for file name)\n",
    "\n",
    "#export_to_csv(cm)\n",
    "\n"
   ]
  },
  {
   "cell_type": "code",
   "execution_count": 251,
   "metadata": {},
   "outputs": [
    {
     "output_type": "execute_result",
     "data": {
      "text/plain": [
       "  pattern_generating_match        pattern_matched              piece_title  \\\n",
       "0    [-2, 2, 2, 2, -2, -2]  [-2, 2, 2, 2, -2, -2]  Quo abiit dilectus tuus   \n",
       "1    [-2, 2, 2, 2, -2, -2]  [-2, 2, 2, 2, -2, -2]  Quo abiit dilectus tuus   \n",
       "2    [-2, 2, 2, 2, -2, -2]  [-3, 2, 2, 2, -2, -2]  Quo abiit dilectus tuus   \n",
       "3    [-2, 2, 2, 2, -2, -2]  [-3, 2, 2, 2, -2, -2]  Quo abiit dilectus tuus   \n",
       "4    [-3, 2, 2, 2, -2, -2]  [-3, 2, 2, 2, -2, -2]  Quo abiit dilectus tuus   \n",
       "\n",
       "          part  start_measure  end_measure  \\\n",
       "0     Superior              1            3   \n",
       "1  Contratenor              3            5   \n",
       "2     Superior             88           90   \n",
       "3        Tenor             93           95   \n",
       "4     Superior             88           90   \n",
       "\n",
       "                        note_durations  \n",
       "0  [6.0, 2.0, 2.0, 2.0, 3.0, 0.5, 0.5]  \n",
       "1  [6.0, 2.0, 2.0, 2.0, 3.0, 0.5, 0.5]  \n",
       "2  [4.0, 2.0, 2.0, 2.0, 3.0, 1.0, 1.0]  \n",
       "3  [4.0, 2.0, 2.0, 2.0, 3.0, 0.5, 0.5]  \n",
       "4  [4.0, 2.0, 2.0, 2.0, 3.0, 1.0, 1.0]  "
      ],
      "text/html": "<div>\n<style scoped>\n    .dataframe tbody tr th:only-of-type {\n        vertical-align: middle;\n    }\n\n    .dataframe tbody tr th {\n        vertical-align: top;\n    }\n\n    .dataframe thead th {\n        text-align: right;\n    }\n</style>\n<table border=\"1\" class=\"dataframe\">\n  <thead>\n    <tr style=\"text-align: right;\">\n      <th></th>\n      <th>pattern_generating_match</th>\n      <th>pattern_matched</th>\n      <th>piece_title</th>\n      <th>part</th>\n      <th>start_measure</th>\n      <th>end_measure</th>\n      <th>note_durations</th>\n    </tr>\n  </thead>\n  <tbody>\n    <tr>\n      <th>0</th>\n      <td>[-2, 2, 2, 2, -2, -2]</td>\n      <td>[-2, 2, 2, 2, -2, -2]</td>\n      <td>Quo abiit dilectus tuus</td>\n      <td>Superior</td>\n      <td>1</td>\n      <td>3</td>\n      <td>[6.0, 2.0, 2.0, 2.0, 3.0, 0.5, 0.5]</td>\n    </tr>\n    <tr>\n      <th>1</th>\n      <td>[-2, 2, 2, 2, -2, -2]</td>\n      <td>[-2, 2, 2, 2, -2, -2]</td>\n      <td>Quo abiit dilectus tuus</td>\n      <td>Contratenor</td>\n      <td>3</td>\n      <td>5</td>\n      <td>[6.0, 2.0, 2.0, 2.0, 3.0, 0.5, 0.5]</td>\n    </tr>\n    <tr>\n      <th>2</th>\n      <td>[-2, 2, 2, 2, -2, -2]</td>\n      <td>[-3, 2, 2, 2, -2, -2]</td>\n      <td>Quo abiit dilectus tuus</td>\n      <td>Superior</td>\n      <td>88</td>\n      <td>90</td>\n      <td>[4.0, 2.0, 2.0, 2.0, 3.0, 1.0, 1.0]</td>\n    </tr>\n    <tr>\n      <th>3</th>\n      <td>[-2, 2, 2, 2, -2, -2]</td>\n      <td>[-3, 2, 2, 2, -2, -2]</td>\n      <td>Quo abiit dilectus tuus</td>\n      <td>Tenor</td>\n      <td>93</td>\n      <td>95</td>\n      <td>[4.0, 2.0, 2.0, 2.0, 3.0, 0.5, 0.5]</td>\n    </tr>\n    <tr>\n      <th>4</th>\n      <td>[-3, 2, 2, 2, -2, -2]</td>\n      <td>[-3, 2, 2, 2, -2, -2]</td>\n      <td>Quo abiit dilectus tuus</td>\n      <td>Superior</td>\n      <td>88</td>\n      <td>90</td>\n      <td>[4.0, 2.0, 2.0, 2.0, 3.0, 1.0, 1.0]</td>\n    </tr>\n  </tbody>\n</table>\n</div>"
     },
     "metadata": {},
     "execution_count": 251
    }
   ],
   "source": [
    "short_out = output_cm.drop(columns=[\"ema_url\", \"ema\"])\n",
    "short_out.head()"
   ]
  },
  {
   "cell_type": "code",
   "execution_count": 252,
   "metadata": {},
   "outputs": [],
   "source": [
    "def classified_matches_to_pandas(matches):\n",
    "    \n",
    "    soggetti_matches = []\n",
    "    \n",
    "    for i, cm in enumerate(matches):\n",
    "        \n",
    "        for j, soggetti in enumerate(cm.matches):\n",
    "            \n",
    "            soggetti_matches.append({\n",
    "                \"piece\": soggetti.first_note.metadata.title,\n",
    "                \"type\": cm.type,\n",
    "                \"part\": soggetti.first_note.part.strip(\"[] \"),\n",
    "                \"bar\": soggetti.first_note.note.measureNumber,\n",
    "                \"entry_number\": j + 1,\n",
    "                \"pattern\": cm.pattern,\n",
    "                \"match_number\": i + 1\n",
    "            })\n",
    "    return pd.DataFrame(soggetti_matches)"
   ]
  },
  {
   "cell_type": "code",
   "execution_count": 253,
   "metadata": {},
   "outputs": [
    {
     "output_type": "execute_result",
     "data": {
      "text/plain": [
       "                       piece  type         part  bar  entry_number  \\\n",
       "0    Quo abiit dilectus tuus  fuga     Superior    1             1   \n",
       "117  Quo abiit dilectus tuus  fuga     Superior    1             1   \n",
       "1    Quo abiit dilectus tuus  fuga  Contratenor    3             2   \n",
       "118  Quo abiit dilectus tuus  fuga  Contratenor    3             2   \n",
       "74   Quo abiit dilectus tuus  fuga        Tenor   20             1   \n",
       "..                       ...   ...          ...  ...           ...   \n",
       "124  Quo abiit dilectus tuus  fuga  Contratenor  119             4   \n",
       "7    Quo abiit dilectus tuus  fuga  Contratenor  119             4   \n",
       "141  Quo abiit dilectus tuus  fuga     Superior  132             1   \n",
       "142  Quo abiit dilectus tuus  fuga  Contratenor  133             2   \n",
       "143  Quo abiit dilectus tuus  fuga        Tenor  134             3   \n",
       "\n",
       "                   pattern  match_number  \n",
       "0    [-2, 2, 2, 2, -2, -2]             1  \n",
       "117  [-2, 2, 2, 2, -2, -2]            34  \n",
       "1    [-2, 2, 2, 2, -2, -2]             1  \n",
       "118  [-2, 2, 2, 2, -2, -2]            34  \n",
       "74   [2, 2, -2, -2, -2, 2]            22  \n",
       "..                     ...           ...  \n",
       "124  [-3, 2, 2, 2, -2, -2]            35  \n",
       "7    [-3, 2, 2, 2, -2, -2]             2  \n",
       "141   [2, 3, -2, -2, 1, 3]            41  \n",
       "142   [2, 3, -2, -2, 1, 3]            41  \n",
       "143   [2, 3, -2, -2, 1, 3]            41  \n",
       "\n",
       "[198 rows x 7 columns]"
      ],
      "text/html": "<div>\n<style scoped>\n    .dataframe tbody tr th:only-of-type {\n        vertical-align: middle;\n    }\n\n    .dataframe tbody tr th {\n        vertical-align: top;\n    }\n\n    .dataframe thead th {\n        text-align: right;\n    }\n</style>\n<table border=\"1\" class=\"dataframe\">\n  <thead>\n    <tr style=\"text-align: right;\">\n      <th></th>\n      <th>piece</th>\n      <th>type</th>\n      <th>part</th>\n      <th>bar</th>\n      <th>entry_number</th>\n      <th>pattern</th>\n      <th>match_number</th>\n    </tr>\n  </thead>\n  <tbody>\n    <tr>\n      <th>0</th>\n      <td>Quo abiit dilectus tuus</td>\n      <td>fuga</td>\n      <td>Superior</td>\n      <td>1</td>\n      <td>1</td>\n      <td>[-2, 2, 2, 2, -2, -2]</td>\n      <td>1</td>\n    </tr>\n    <tr>\n      <th>117</th>\n      <td>Quo abiit dilectus tuus</td>\n      <td>fuga</td>\n      <td>Superior</td>\n      <td>1</td>\n      <td>1</td>\n      <td>[-2, 2, 2, 2, -2, -2]</td>\n      <td>34</td>\n    </tr>\n    <tr>\n      <th>1</th>\n      <td>Quo abiit dilectus tuus</td>\n      <td>fuga</td>\n      <td>Contratenor</td>\n      <td>3</td>\n      <td>2</td>\n      <td>[-2, 2, 2, 2, -2, -2]</td>\n      <td>1</td>\n    </tr>\n    <tr>\n      <th>118</th>\n      <td>Quo abiit dilectus tuus</td>\n      <td>fuga</td>\n      <td>Contratenor</td>\n      <td>3</td>\n      <td>2</td>\n      <td>[-2, 2, 2, 2, -2, -2]</td>\n      <td>34</td>\n    </tr>\n    <tr>\n      <th>74</th>\n      <td>Quo abiit dilectus tuus</td>\n      <td>fuga</td>\n      <td>Tenor</td>\n      <td>20</td>\n      <td>1</td>\n      <td>[2, 2, -2, -2, -2, 2]</td>\n      <td>22</td>\n    </tr>\n    <tr>\n      <th>...</th>\n      <td>...</td>\n      <td>...</td>\n      <td>...</td>\n      <td>...</td>\n      <td>...</td>\n      <td>...</td>\n      <td>...</td>\n    </tr>\n    <tr>\n      <th>124</th>\n      <td>Quo abiit dilectus tuus</td>\n      <td>fuga</td>\n      <td>Contratenor</td>\n      <td>119</td>\n      <td>4</td>\n      <td>[-3, 2, 2, 2, -2, -2]</td>\n      <td>35</td>\n    </tr>\n    <tr>\n      <th>7</th>\n      <td>Quo abiit dilectus tuus</td>\n      <td>fuga</td>\n      <td>Contratenor</td>\n      <td>119</td>\n      <td>4</td>\n      <td>[-3, 2, 2, 2, -2, -2]</td>\n      <td>2</td>\n    </tr>\n    <tr>\n      <th>141</th>\n      <td>Quo abiit dilectus tuus</td>\n      <td>fuga</td>\n      <td>Superior</td>\n      <td>132</td>\n      <td>1</td>\n      <td>[2, 3, -2, -2, 1, 3]</td>\n      <td>41</td>\n    </tr>\n    <tr>\n      <th>142</th>\n      <td>Quo abiit dilectus tuus</td>\n      <td>fuga</td>\n      <td>Contratenor</td>\n      <td>133</td>\n      <td>2</td>\n      <td>[2, 3, -2, -2, 1, 3]</td>\n      <td>41</td>\n    </tr>\n    <tr>\n      <th>143</th>\n      <td>Quo abiit dilectus tuus</td>\n      <td>fuga</td>\n      <td>Tenor</td>\n      <td>134</td>\n      <td>3</td>\n      <td>[2, 3, -2, -2, 1, 3]</td>\n      <td>41</td>\n    </tr>\n  </tbody>\n</table>\n<p>198 rows × 7 columns</p>\n</div>"
     },
     "metadata": {},
     "execution_count": 253
    }
   ],
   "source": [
    "df = classified_matches_to_pandas(cm)\n",
    "pd.set_option('display.max_rows', 50)\n",
    "df_sorted = df.sort_values(\"bar\")\n",
    "df_sorted"
   ]
  },
  {
   "cell_type": "code",
   "execution_count": 254,
   "metadata": {
    "scrolled": true
   },
   "outputs": [
    {
     "output_type": "execute_result",
     "data": {
      "text/plain": [
       "                                                                           bar_1  \\\n",
       "match_number piece                   type          pattern                         \n",
       "1            Quo abiit dilectus tuus fuga          (-2, 2, 2, 2, -2, -2)     1.0   \n",
       "34           Quo abiit dilectus tuus fuga          (-2, 2, 2, 2, -2, -2)     1.0   \n",
       "22           Quo abiit dilectus tuus fuga          (2, 2, -2, -2, -2, 2)    20.0   \n",
       "47           Quo abiit dilectus tuus fuga          (2, 2, -2, -2, -2, 2)    20.0   \n",
       "3            Quo abiit dilectus tuus imitative duo (3, -2, -2, -2, -3, 1)   22.0   \n",
       "...                                                                          ...   \n",
       "11           Quo abiit dilectus tuus fuga          (-2, -3, 1, 2, 2, 2)     90.0   \n",
       "37           Quo abiit dilectus tuus fuga          (1, 1, 3, -2, -3, 2)    110.0   \n",
       "38           Quo abiit dilectus tuus fuga          (1, 1, 3, -2, -3, 2)    111.0   \n",
       "39           Quo abiit dilectus tuus fuga          (1, 3, -2, -3, 2, 2)    112.0   \n",
       "41           Quo abiit dilectus tuus fuga          (2, 3, -2, -2, 1, 3)    132.0   \n",
       "\n",
       "                                                                           bar_2  \\\n",
       "match_number piece                   type          pattern                         \n",
       "1            Quo abiit dilectus tuus fuga          (-2, 2, 2, 2, -2, -2)     3.0   \n",
       "34           Quo abiit dilectus tuus fuga          (-2, 2, 2, 2, -2, -2)     3.0   \n",
       "22           Quo abiit dilectus tuus fuga          (2, 2, -2, -2, -2, 2)    25.0   \n",
       "47           Quo abiit dilectus tuus fuga          (2, 2, -2, -2, -2, 2)    25.0   \n",
       "3            Quo abiit dilectus tuus imitative duo (3, -2, -2, -2, -3, 1)   24.0   \n",
       "...                                                                          ...   \n",
       "11           Quo abiit dilectus tuus fuga          (-2, -3, 1, 2, 2, 2)     97.0   \n",
       "37           Quo abiit dilectus tuus fuga          (1, 1, 3, -2, -3, 2)    111.0   \n",
       "38           Quo abiit dilectus tuus fuga          (1, 1, 3, -2, -3, 2)    114.0   \n",
       "39           Quo abiit dilectus tuus fuga          (1, 3, -2, -3, 2, 2)    114.0   \n",
       "41           Quo abiit dilectus tuus fuga          (2, 3, -2, -2, 1, 3)    133.0   \n",
       "\n",
       "                                                                           bar_3  \\\n",
       "match_number piece                   type          pattern                         \n",
       "1            Quo abiit dilectus tuus fuga          (-2, 2, 2, 2, -2, -2)    88.0   \n",
       "34           Quo abiit dilectus tuus fuga          (-2, 2, 2, 2, -2, -2)    88.0   \n",
       "22           Quo abiit dilectus tuus fuga          (2, 2, -2, -2, -2, 2)    29.0   \n",
       "47           Quo abiit dilectus tuus fuga          (2, 2, -2, -2, -2, 2)    29.0   \n",
       "3            Quo abiit dilectus tuus imitative duo (3, -2, -2, -2, -3, 1)   26.0   \n",
       "...                                                                          ...   \n",
       "11           Quo abiit dilectus tuus fuga          (-2, -3, 1, 2, 2, 2)    109.0   \n",
       "37           Quo abiit dilectus tuus fuga          (1, 1, 3, -2, -3, 2)    114.0   \n",
       "38           Quo abiit dilectus tuus fuga          (1, 1, 3, -2, -3, 2)    116.0   \n",
       "39           Quo abiit dilectus tuus fuga          (1, 3, -2, -3, 2, 2)    116.0   \n",
       "41           Quo abiit dilectus tuus fuga          (2, 3, -2, -2, 1, 3)    134.0   \n",
       "\n",
       "                                                                           bar_4  \\\n",
       "match_number piece                   type          pattern                         \n",
       "1            Quo abiit dilectus tuus fuga          (-2, 2, 2, 2, -2, -2)    93.0   \n",
       "34           Quo abiit dilectus tuus fuga          (-2, 2, 2, 2, -2, -2)    93.0   \n",
       "22           Quo abiit dilectus tuus fuga          (2, 2, -2, -2, -2, 2)     NaN   \n",
       "47           Quo abiit dilectus tuus fuga          (2, 2, -2, -2, -2, 2)     NaN   \n",
       "3            Quo abiit dilectus tuus imitative duo (3, -2, -2, -2, -3, 1)   28.0   \n",
       "...                                                                          ...   \n",
       "11           Quo abiit dilectus tuus fuga          (-2, -3, 1, 2, 2, 2)    113.0   \n",
       "37           Quo abiit dilectus tuus fuga          (1, 1, 3, -2, -3, 2)      NaN   \n",
       "38           Quo abiit dilectus tuus fuga          (1, 1, 3, -2, -3, 2)      NaN   \n",
       "39           Quo abiit dilectus tuus fuga          (1, 3, -2, -3, 2, 2)      NaN   \n",
       "41           Quo abiit dilectus tuus fuga          (2, 3, -2, -2, 1, 3)      NaN   \n",
       "\n",
       "                                                                                part_1  \\\n",
       "match_number piece                   type          pattern                               \n",
       "1            Quo abiit dilectus tuus fuga          (-2, 2, 2, 2, -2, -2)      Superior   \n",
       "34           Quo abiit dilectus tuus fuga          (-2, 2, 2, 2, -2, -2)      Superior   \n",
       "22           Quo abiit dilectus tuus fuga          (2, 2, -2, -2, -2, 2)         Tenor   \n",
       "47           Quo abiit dilectus tuus fuga          (2, 2, -2, -2, -2, 2)         Tenor   \n",
       "3            Quo abiit dilectus tuus imitative duo (3, -2, -2, -2, -3, 1)  Contratenor   \n",
       "...                                                                                ...   \n",
       "11           Quo abiit dilectus tuus fuga          (-2, -3, 1, 2, 2, 2)    Contratenor   \n",
       "37           Quo abiit dilectus tuus fuga          (1, 1, 3, -2, -3, 2)    Contratenor   \n",
       "38           Quo abiit dilectus tuus fuga          (1, 1, 3, -2, -3, 2)       Superior   \n",
       "39           Quo abiit dilectus tuus fuga          (1, 3, -2, -3, 2, 2)       Superior   \n",
       "41           Quo abiit dilectus tuus fuga          (2, 3, -2, -2, 1, 3)       Superior   \n",
       "\n",
       "                                                                                part_2  \\\n",
       "match_number piece                   type          pattern                               \n",
       "1            Quo abiit dilectus tuus fuga          (-2, 2, 2, 2, -2, -2)   Contratenor   \n",
       "34           Quo abiit dilectus tuus fuga          (-2, 2, 2, 2, -2, -2)   Contratenor   \n",
       "22           Quo abiit dilectus tuus fuga          (2, 2, -2, -2, -2, 2)   Contratenor   \n",
       "47           Quo abiit dilectus tuus fuga          (2, 2, -2, -2, -2, 2)   Contratenor   \n",
       "3            Quo abiit dilectus tuus imitative duo (3, -2, -2, -2, -3, 1)     Superior   \n",
       "...                                                                                ...   \n",
       "11           Quo abiit dilectus tuus fuga          (-2, -3, 1, 2, 2, 2)       Superior   \n",
       "37           Quo abiit dilectus tuus fuga          (1, 1, 3, -2, -3, 2)       Superior   \n",
       "38           Quo abiit dilectus tuus fuga          (1, 1, 3, -2, -3, 2)         Bassus   \n",
       "39           Quo abiit dilectus tuus fuga          (1, 3, -2, -3, 2, 2)         Bassus   \n",
       "41           Quo abiit dilectus tuus fuga          (2, 3, -2, -2, 1, 3)    Contratenor   \n",
       "\n",
       "                                                                             part_3  \\\n",
       "match_number piece                   type          pattern                            \n",
       "1            Quo abiit dilectus tuus fuga          (-2, 2, 2, 2, -2, -2)   Superior   \n",
       "34           Quo abiit dilectus tuus fuga          (-2, 2, 2, 2, -2, -2)   Superior   \n",
       "22           Quo abiit dilectus tuus fuga          (2, 2, -2, -2, -2, 2)     Bassus   \n",
       "47           Quo abiit dilectus tuus fuga          (2, 2, -2, -2, -2, 2)     Bassus   \n",
       "3            Quo abiit dilectus tuus imitative duo (3, -2, -2, -2, -3, 1)    Bassus   \n",
       "...                                                                             ...   \n",
       "11           Quo abiit dilectus tuus fuga          (-2, -3, 1, 2, 2, 2)       Tenor   \n",
       "37           Quo abiit dilectus tuus fuga          (1, 1, 3, -2, -3, 2)      Bassus   \n",
       "38           Quo abiit dilectus tuus fuga          (1, 1, 3, -2, -3, 2)       Tenor   \n",
       "39           Quo abiit dilectus tuus fuga          (1, 3, -2, -3, 2, 2)       Tenor   \n",
       "41           Quo abiit dilectus tuus fuga          (2, 3, -2, -2, 1, 3)       Tenor   \n",
       "\n",
       "                                                                                part_4  \n",
       "match_number piece                   type          pattern                              \n",
       "1            Quo abiit dilectus tuus fuga          (-2, 2, 2, 2, -2, -2)         Tenor  \n",
       "34           Quo abiit dilectus tuus fuga          (-2, 2, 2, 2, -2, -2)         Tenor  \n",
       "22           Quo abiit dilectus tuus fuga          (2, 2, -2, -2, -2, 2)           NaN  \n",
       "47           Quo abiit dilectus tuus fuga          (2, 2, -2, -2, -2, 2)           NaN  \n",
       "3            Quo abiit dilectus tuus imitative duo (3, -2, -2, -2, -3, 1)        Tenor  \n",
       "...                                                                                ...  \n",
       "11           Quo abiit dilectus tuus fuga          (-2, -3, 1, 2, 2, 2)    Contratenor  \n",
       "37           Quo abiit dilectus tuus fuga          (1, 1, 3, -2, -3, 2)            NaN  \n",
       "38           Quo abiit dilectus tuus fuga          (1, 1, 3, -2, -3, 2)            NaN  \n",
       "39           Quo abiit dilectus tuus fuga          (1, 3, -2, -3, 2, 2)            NaN  \n",
       "41           Quo abiit dilectus tuus fuga          (2, 3, -2, -2, 1, 3)            NaN  \n",
       "\n",
       "[57 rows x 8 columns]"
      ],
      "text/html": "<div>\n<style scoped>\n    .dataframe tbody tr th:only-of-type {\n        vertical-align: middle;\n    }\n\n    .dataframe tbody tr th {\n        vertical-align: top;\n    }\n\n    .dataframe thead th {\n        text-align: right;\n    }\n</style>\n<table border=\"1\" class=\"dataframe\">\n  <thead>\n    <tr style=\"text-align: right;\">\n      <th></th>\n      <th></th>\n      <th></th>\n      <th></th>\n      <th>bar_1</th>\n      <th>bar_2</th>\n      <th>bar_3</th>\n      <th>bar_4</th>\n      <th>part_1</th>\n      <th>part_2</th>\n      <th>part_3</th>\n      <th>part_4</th>\n    </tr>\n    <tr>\n      <th>match_number</th>\n      <th>piece</th>\n      <th>type</th>\n      <th>pattern</th>\n      <th></th>\n      <th></th>\n      <th></th>\n      <th></th>\n      <th></th>\n      <th></th>\n      <th></th>\n      <th></th>\n    </tr>\n  </thead>\n  <tbody>\n    <tr>\n      <th>1</th>\n      <th>Quo abiit dilectus tuus</th>\n      <th>fuga</th>\n      <th>(-2, 2, 2, 2, -2, -2)</th>\n      <td>1.0</td>\n      <td>3.0</td>\n      <td>88.0</td>\n      <td>93.0</td>\n      <td>Superior</td>\n      <td>Contratenor</td>\n      <td>Superior</td>\n      <td>Tenor</td>\n    </tr>\n    <tr>\n      <th>34</th>\n      <th>Quo abiit dilectus tuus</th>\n      <th>fuga</th>\n      <th>(-2, 2, 2, 2, -2, -2)</th>\n      <td>1.0</td>\n      <td>3.0</td>\n      <td>88.0</td>\n      <td>93.0</td>\n      <td>Superior</td>\n      <td>Contratenor</td>\n      <td>Superior</td>\n      <td>Tenor</td>\n    </tr>\n    <tr>\n      <th>22</th>\n      <th>Quo abiit dilectus tuus</th>\n      <th>fuga</th>\n      <th>(2, 2, -2, -2, -2, 2)</th>\n      <td>20.0</td>\n      <td>25.0</td>\n      <td>29.0</td>\n      <td>NaN</td>\n      <td>Tenor</td>\n      <td>Contratenor</td>\n      <td>Bassus</td>\n      <td>NaN</td>\n    </tr>\n    <tr>\n      <th>47</th>\n      <th>Quo abiit dilectus tuus</th>\n      <th>fuga</th>\n      <th>(2, 2, -2, -2, -2, 2)</th>\n      <td>20.0</td>\n      <td>25.0</td>\n      <td>29.0</td>\n      <td>NaN</td>\n      <td>Tenor</td>\n      <td>Contratenor</td>\n      <td>Bassus</td>\n      <td>NaN</td>\n    </tr>\n    <tr>\n      <th>3</th>\n      <th>Quo abiit dilectus tuus</th>\n      <th>imitative duo</th>\n      <th>(3, -2, -2, -2, -3, 1)</th>\n      <td>22.0</td>\n      <td>24.0</td>\n      <td>26.0</td>\n      <td>28.0</td>\n      <td>Contratenor</td>\n      <td>Superior</td>\n      <td>Bassus</td>\n      <td>Tenor</td>\n    </tr>\n    <tr>\n      <th>...</th>\n      <th>...</th>\n      <th>...</th>\n      <th>...</th>\n      <td>...</td>\n      <td>...</td>\n      <td>...</td>\n      <td>...</td>\n      <td>...</td>\n      <td>...</td>\n      <td>...</td>\n      <td>...</td>\n    </tr>\n    <tr>\n      <th>11</th>\n      <th>Quo abiit dilectus tuus</th>\n      <th>fuga</th>\n      <th>(-2, -3, 1, 2, 2, 2)</th>\n      <td>90.0</td>\n      <td>97.0</td>\n      <td>109.0</td>\n      <td>113.0</td>\n      <td>Contratenor</td>\n      <td>Superior</td>\n      <td>Tenor</td>\n      <td>Contratenor</td>\n    </tr>\n    <tr>\n      <th>37</th>\n      <th>Quo abiit dilectus tuus</th>\n      <th>fuga</th>\n      <th>(1, 1, 3, -2, -3, 2)</th>\n      <td>110.0</td>\n      <td>111.0</td>\n      <td>114.0</td>\n      <td>NaN</td>\n      <td>Contratenor</td>\n      <td>Superior</td>\n      <td>Bassus</td>\n      <td>NaN</td>\n    </tr>\n    <tr>\n      <th>38</th>\n      <th>Quo abiit dilectus tuus</th>\n      <th>fuga</th>\n      <th>(1, 1, 3, -2, -3, 2)</th>\n      <td>111.0</td>\n      <td>114.0</td>\n      <td>116.0</td>\n      <td>NaN</td>\n      <td>Superior</td>\n      <td>Bassus</td>\n      <td>Tenor</td>\n      <td>NaN</td>\n    </tr>\n    <tr>\n      <th>39</th>\n      <th>Quo abiit dilectus tuus</th>\n      <th>fuga</th>\n      <th>(1, 3, -2, -3, 2, 2)</th>\n      <td>112.0</td>\n      <td>114.0</td>\n      <td>116.0</td>\n      <td>NaN</td>\n      <td>Superior</td>\n      <td>Bassus</td>\n      <td>Tenor</td>\n      <td>NaN</td>\n    </tr>\n    <tr>\n      <th>41</th>\n      <th>Quo abiit dilectus tuus</th>\n      <th>fuga</th>\n      <th>(2, 3, -2, -2, 1, 3)</th>\n      <td>132.0</td>\n      <td>133.0</td>\n      <td>134.0</td>\n      <td>NaN</td>\n      <td>Superior</td>\n      <td>Contratenor</td>\n      <td>Tenor</td>\n      <td>NaN</td>\n    </tr>\n  </tbody>\n</table>\n<p>57 rows × 8 columns</p>\n</div>"
     },
     "metadata": {},
     "execution_count": 254
    }
   ],
   "source": [
    "df[\"pattern\"] = df[\"pattern\"].apply(tuple)\n",
    "\n",
    "wide_df = df.pivot_table(index=[\"match_number\", \"piece\", \"type\", \"pattern\"],\n",
    "            columns=\"entry_number\",\n",
    "            values=[\"part\", \"bar\"],\n",
    "            aggfunc=lambda x: x)\n",
    "\n",
    "wide_df.columns = [f\"{a}_{b}\" for a, b in wide_df.columns]\n",
    "\n",
    "wide_df.head().reset_index()\n",
    "\n",
    "sort_bar = wide_df.sort_values(\"bar_1\")\n",
    "\n",
    "sort_bar"
   ]
  },
  {
   "cell_type": "markdown",
   "metadata": {},
   "source": [
    "## Read CSV of Classified Matches\n",
    "\n",
    "- Update file name to match the output of previous cells for Classifier"
   ]
  },
  {
   "cell_type": "code",
   "execution_count": null,
   "metadata": {},
   "outputs": [],
   "source": [
    "results = pd.read_csv('Sandrin_Classified.csv')\n",
    "results.rename(columns=\n",
    "                   {'Pattern Generating Match': 'Pattern_Generating_Match', \n",
    "                    'Pattern matched':'Pattern_Matched',\n",
    "                    'Classification Type': 'Classification_Type',\n",
    "                    'Piece Title': 'Piece_Title',\n",
    "                    'First Note Measure Number': 'Start_Measure',\n",
    "                    'Last Note Measure Number': 'Stop_Measure',\n",
    "                    'Note Durations': 'Note_Durations'\n",
    "                   },\n",
    "                    inplace=True)\n",
    "\n",
    "results['note_durations'] = results['note_durations'].apply(ast.literal_eval)\n",
    "\n",
    "durations = results['note_durations']\n",
    "results.head()"
   ]
  },
  {
   "cell_type": "markdown",
   "metadata": {},
   "source": [
    "# Durational Ratios\n",
    "\n",
    "#### This Function Calculates the Ratios of the Durations in each Match"
   ]
  },
  {
   "cell_type": "code",
   "execution_count": 255,
   "metadata": {},
   "outputs": [],
   "source": [
    "# makes pairs of ratio strings\n",
    "\n",
    "def pairwise(iterable):\n",
    "    \"s -> (s0,s1), (s1,s2), (s2, s3), ...\"\n",
    "    a, b = tee(iterable)\n",
    "    next(b, None)\n",
    "    return zip(a, b)\n",
    "\n",
    "def get_ratios(input_list):\n",
    "    ratio_pairs = []\n",
    "    for a, b in pairwise(input_list):\n",
    "        ratio_pairs.append(b / a)\n",
    "    return ratio_pairs\n",
    "\n",
    "\n"
   ]
  },
  {
   "cell_type": "markdown",
   "metadata": {},
   "source": [
    "#### Now call the function to operate on the RESULTS file from earlier"
   ]
  },
  {
   "cell_type": "code",
   "execution_count": 256,
   "metadata": {},
   "outputs": [
    {
     "output_type": "execute_result",
     "data": {
      "text/plain": [
       "     pattern_generating_match        pattern_matched              piece_title  \\\n",
       "0        (5, -2, 2, 2, 2, -2)   [5, -2, 2, 2, 2, -2]  Quo abiit dilectus tuus   \n",
       "1        (5, -2, 2, 2, 2, -2)   [4, -2, 2, 2, 2, -2]  Quo abiit dilectus tuus   \n",
       "2        (5, -2, 2, 2, 2, -2)   [5, -2, 2, 2, 2, -2]  Quo abiit dilectus tuus   \n",
       "3        (5, -2, 2, 2, 2, -2)   [4, -2, 2, 2, 2, -2]  Quo abiit dilectus tuus   \n",
       "4       (-2, 2, 2, 2, -2, -2)  [-2, 2, 2, 2, -2, -2]  Quo abiit dilectus tuus   \n",
       "...                       ...                    ...                      ...   \n",
       "2163     (-3, -3, 2, 2, 2, 2)   [-2, -3, 2, 2, 2, 2]  Quo abiit dilectus tuus   \n",
       "2164     (-3, -3, 2, 2, 2, 2)   [-2, -3, 2, 2, 2, 2]  Quo abiit dilectus tuus   \n",
       "2165     (-3, -3, 2, 2, 2, 2)   [-2, -3, 2, 2, 2, 2]  Quo abiit dilectus tuus   \n",
       "2166     (-3, -3, 2, 2, 2, 2)   [-2, -3, 2, 2, 2, 2]  Quo abiit dilectus tuus   \n",
       "2167     (-3, -3, 2, 2, 2, 2)   [-3, -3, 2, 2, 2, 2]  Quo abiit dilectus tuus   \n",
       "\n",
       "             part  start_measure  end_measure  \\\n",
       "0        Superior              1            3   \n",
       "1     Contratenor              3            5   \n",
       "2           Tenor             10           12   \n",
       "3          Bassus             12           14   \n",
       "4        Superior              1            3   \n",
       "...           ...            ...          ...   \n",
       "2163     Superior             36           37   \n",
       "2164     Superior             97           99   \n",
       "2165  Contratenor            160          161   \n",
       "2166        Tenor            109          110   \n",
       "2167       Bassus            164          165   \n",
       "\n",
       "                           note_durations  \\\n",
       "0     (4.0, 6.0, 2.0, 2.0, 2.0, 3.0, 0.5)   \n",
       "1     (4.0, 6.0, 2.0, 2.0, 2.0, 3.0, 0.5)   \n",
       "2     (4.0, 6.0, 2.0, 2.0, 2.0, 3.0, 0.5)   \n",
       "3     (2.0, 6.0, 2.0, 2.0, 2.0, 4.0, 2.0)   \n",
       "4     (6.0, 2.0, 2.0, 2.0, 3.0, 0.5, 0.5)   \n",
       "...                                   ...   \n",
       "2163  (2.0, 2.0, 2.0, 1.0, 1.0, 1.0, 1.0)   \n",
       "2164  (2.0, 4.0, 2.0, 2.0, 2.0, 2.0, 2.0)   \n",
       "2165  (1.0, 2.0, 3.0, 1.0, 2.0, 2.0, 2.0)   \n",
       "2166  (4.0, 2.0, 1.0, 1.0, 1.0, 1.0, 1.0)   \n",
       "2167  (2.0, 2.0, 1.0, 1.0, 1.0, 1.0, 2.0)   \n",
       "\n",
       "                                        duration_ratios  \n",
       "0     [1.5, 0.3333333333333333, 1.0, 1.0, 1.5, 0.166...  \n",
       "1     [1.5, 0.3333333333333333, 1.0, 1.0, 1.5, 0.166...  \n",
       "2     [1.5, 0.3333333333333333, 1.0, 1.0, 1.5, 0.166...  \n",
       "3         [3.0, 0.3333333333333333, 1.0, 1.0, 2.0, 0.5]  \n",
       "4     [0.3333333333333333, 1.0, 1.0, 1.5, 0.16666666...  \n",
       "...                                                 ...  \n",
       "2163                     [1.0, 1.0, 0.5, 1.0, 1.0, 1.0]  \n",
       "2164                     [2.0, 0.5, 1.0, 1.0, 1.0, 1.0]  \n",
       "2165      [2.0, 1.5, 0.3333333333333333, 2.0, 1.0, 1.0]  \n",
       "2166                     [0.5, 0.5, 1.0, 1.0, 1.0, 1.0]  \n",
       "2167                     [1.0, 0.5, 1.0, 1.0, 1.0, 2.0]  \n",
       "\n",
       "[2168 rows x 8 columns]"
      ],
      "text/html": "<div>\n<style scoped>\n    .dataframe tbody tr th:only-of-type {\n        vertical-align: middle;\n    }\n\n    .dataframe tbody tr th {\n        vertical-align: top;\n    }\n\n    .dataframe thead th {\n        text-align: right;\n    }\n</style>\n<table border=\"1\" class=\"dataframe\">\n  <thead>\n    <tr style=\"text-align: right;\">\n      <th></th>\n      <th>pattern_generating_match</th>\n      <th>pattern_matched</th>\n      <th>piece_title</th>\n      <th>part</th>\n      <th>start_measure</th>\n      <th>end_measure</th>\n      <th>note_durations</th>\n      <th>duration_ratios</th>\n    </tr>\n  </thead>\n  <tbody>\n    <tr>\n      <th>0</th>\n      <td>(5, -2, 2, 2, 2, -2)</td>\n      <td>[5, -2, 2, 2, 2, -2]</td>\n      <td>Quo abiit dilectus tuus</td>\n      <td>Superior</td>\n      <td>1</td>\n      <td>3</td>\n      <td>(4.0, 6.0, 2.0, 2.0, 2.0, 3.0, 0.5)</td>\n      <td>[1.5, 0.3333333333333333, 1.0, 1.0, 1.5, 0.166...</td>\n    </tr>\n    <tr>\n      <th>1</th>\n      <td>(5, -2, 2, 2, 2, -2)</td>\n      <td>[4, -2, 2, 2, 2, -2]</td>\n      <td>Quo abiit dilectus tuus</td>\n      <td>Contratenor</td>\n      <td>3</td>\n      <td>5</td>\n      <td>(4.0, 6.0, 2.0, 2.0, 2.0, 3.0, 0.5)</td>\n      <td>[1.5, 0.3333333333333333, 1.0, 1.0, 1.5, 0.166...</td>\n    </tr>\n    <tr>\n      <th>2</th>\n      <td>(5, -2, 2, 2, 2, -2)</td>\n      <td>[5, -2, 2, 2, 2, -2]</td>\n      <td>Quo abiit dilectus tuus</td>\n      <td>Tenor</td>\n      <td>10</td>\n      <td>12</td>\n      <td>(4.0, 6.0, 2.0, 2.0, 2.0, 3.0, 0.5)</td>\n      <td>[1.5, 0.3333333333333333, 1.0, 1.0, 1.5, 0.166...</td>\n    </tr>\n    <tr>\n      <th>3</th>\n      <td>(5, -2, 2, 2, 2, -2)</td>\n      <td>[4, -2, 2, 2, 2, -2]</td>\n      <td>Quo abiit dilectus tuus</td>\n      <td>Bassus</td>\n      <td>12</td>\n      <td>14</td>\n      <td>(2.0, 6.0, 2.0, 2.0, 2.0, 4.0, 2.0)</td>\n      <td>[3.0, 0.3333333333333333, 1.0, 1.0, 2.0, 0.5]</td>\n    </tr>\n    <tr>\n      <th>4</th>\n      <td>(-2, 2, 2, 2, -2, -2)</td>\n      <td>[-2, 2, 2, 2, -2, -2]</td>\n      <td>Quo abiit dilectus tuus</td>\n      <td>Superior</td>\n      <td>1</td>\n      <td>3</td>\n      <td>(6.0, 2.0, 2.0, 2.0, 3.0, 0.5, 0.5)</td>\n      <td>[0.3333333333333333, 1.0, 1.0, 1.5, 0.16666666...</td>\n    </tr>\n    <tr>\n      <th>...</th>\n      <td>...</td>\n      <td>...</td>\n      <td>...</td>\n      <td>...</td>\n      <td>...</td>\n      <td>...</td>\n      <td>...</td>\n      <td>...</td>\n    </tr>\n    <tr>\n      <th>2163</th>\n      <td>(-3, -3, 2, 2, 2, 2)</td>\n      <td>[-2, -3, 2, 2, 2, 2]</td>\n      <td>Quo abiit dilectus tuus</td>\n      <td>Superior</td>\n      <td>36</td>\n      <td>37</td>\n      <td>(2.0, 2.0, 2.0, 1.0, 1.0, 1.0, 1.0)</td>\n      <td>[1.0, 1.0, 0.5, 1.0, 1.0, 1.0]</td>\n    </tr>\n    <tr>\n      <th>2164</th>\n      <td>(-3, -3, 2, 2, 2, 2)</td>\n      <td>[-2, -3, 2, 2, 2, 2]</td>\n      <td>Quo abiit dilectus tuus</td>\n      <td>Superior</td>\n      <td>97</td>\n      <td>99</td>\n      <td>(2.0, 4.0, 2.0, 2.0, 2.0, 2.0, 2.0)</td>\n      <td>[2.0, 0.5, 1.0, 1.0, 1.0, 1.0]</td>\n    </tr>\n    <tr>\n      <th>2165</th>\n      <td>(-3, -3, 2, 2, 2, 2)</td>\n      <td>[-2, -3, 2, 2, 2, 2]</td>\n      <td>Quo abiit dilectus tuus</td>\n      <td>Contratenor</td>\n      <td>160</td>\n      <td>161</td>\n      <td>(1.0, 2.0, 3.0, 1.0, 2.0, 2.0, 2.0)</td>\n      <td>[2.0, 1.5, 0.3333333333333333, 2.0, 1.0, 1.0]</td>\n    </tr>\n    <tr>\n      <th>2166</th>\n      <td>(-3, -3, 2, 2, 2, 2)</td>\n      <td>[-2, -3, 2, 2, 2, 2]</td>\n      <td>Quo abiit dilectus tuus</td>\n      <td>Tenor</td>\n      <td>109</td>\n      <td>110</td>\n      <td>(4.0, 2.0, 1.0, 1.0, 1.0, 1.0, 1.0)</td>\n      <td>[0.5, 0.5, 1.0, 1.0, 1.0, 1.0]</td>\n    </tr>\n    <tr>\n      <th>2167</th>\n      <td>(-3, -3, 2, 2, 2, 2)</td>\n      <td>[-3, -3, 2, 2, 2, 2]</td>\n      <td>Quo abiit dilectus tuus</td>\n      <td>Bassus</td>\n      <td>164</td>\n      <td>165</td>\n      <td>(2.0, 2.0, 1.0, 1.0, 1.0, 1.0, 2.0)</td>\n      <td>[1.0, 0.5, 1.0, 1.0, 1.0, 2.0]</td>\n    </tr>\n  </tbody>\n</table>\n<p>2168 rows × 8 columns</p>\n</div>"
     },
     "metadata": {},
     "execution_count": 256
    }
   ],
   "source": [
    "# calculates 'duration ratios' for each soggetto, then adds this to the DF\n",
    "\n",
    "results[\"duration_ratios\"] = results.note_durations.apply(get_ratios)\n",
    "short_results = results.drop(columns=[\"ema_url\", \"ema\"])\n",
    "short_results"
   ]
  },
  {
   "cell_type": "code",
   "execution_count": 274,
   "metadata": {},
   "outputs": [
    {
     "output_type": "execute_result",
     "data": {
      "text/plain": [
       "                                                                                                            0\n",
       "pattern_generating_match note_durations                      duration_ratios                                 \n",
       "(-5, 3, -2, 4, -2, -2)   (2.0, 2.0, 2.0, 2.0, 4.0, 2.0, 1.0) (1.0, 1.0, 1.0, 2.0, 0.5, 0.5)                 2\n",
       "                         (2.0, 2.0, 2.0, 2.0, 4.0, 2.0, 2.0) (1.0, 1.0, 1.0, 2.0, 0.5, 1.0)                 1\n",
       "(-3, -3, 2, 2, 2, 2)     (1.0, 2.0, 3.0, 1.0, 2.0, 2.0, 2.0) (2.0, 1.5, 0.3333333333333333, 2.0, 1.0, 1.0)  1\n",
       "                         (2.0, 2.0, 1.0, 1.0, 1.0, 1.0, 2.0) (1.0, 0.5, 1.0, 1.0, 1.0, 2.0)                 1\n",
       "                         (2.0, 2.0, 2.0, 1.0, 1.0, 1.0, 1.0) (1.0, 1.0, 0.5, 1.0, 1.0, 1.0)                 1"
      ],
      "text/html": "<div>\n<style scoped>\n    .dataframe tbody tr th:only-of-type {\n        vertical-align: middle;\n    }\n\n    .dataframe tbody tr th {\n        vertical-align: top;\n    }\n\n    .dataframe thead th {\n        text-align: right;\n    }\n</style>\n<table border=\"1\" class=\"dataframe\">\n  <thead>\n    <tr style=\"text-align: right;\">\n      <th></th>\n      <th></th>\n      <th></th>\n      <th>0</th>\n    </tr>\n    <tr>\n      <th>pattern_generating_match</th>\n      <th>note_durations</th>\n      <th>duration_ratios</th>\n      <th></th>\n    </tr>\n  </thead>\n  <tbody>\n    <tr>\n      <th rowspan=\"2\" valign=\"top\">(-5, 3, -2, 4, -2, -2)</th>\n      <th>(2.0, 2.0, 2.0, 2.0, 4.0, 2.0, 1.0)</th>\n      <th>(1.0, 1.0, 1.0, 2.0, 0.5, 0.5)</th>\n      <td>2</td>\n    </tr>\n    <tr>\n      <th>(2.0, 2.0, 2.0, 2.0, 4.0, 2.0, 2.0)</th>\n      <th>(1.0, 1.0, 1.0, 2.0, 0.5, 1.0)</th>\n      <td>1</td>\n    </tr>\n    <tr>\n      <th rowspan=\"3\" valign=\"top\">(-3, -3, 2, 2, 2, 2)</th>\n      <th>(1.0, 2.0, 3.0, 1.0, 2.0, 2.0, 2.0)</th>\n      <th>(2.0, 1.5, 0.3333333333333333, 2.0, 1.0, 1.0)</th>\n      <td>1</td>\n    </tr>\n    <tr>\n      <th>(2.0, 2.0, 1.0, 1.0, 1.0, 1.0, 2.0)</th>\n      <th>(1.0, 0.5, 1.0, 1.0, 1.0, 2.0)</th>\n      <td>1</td>\n    </tr>\n    <tr>\n      <th>(2.0, 2.0, 2.0, 1.0, 1.0, 1.0, 1.0)</th>\n      <th>(1.0, 1.0, 0.5, 1.0, 1.0, 1.0)</th>\n      <td>1</td>\n    </tr>\n  </tbody>\n</table>\n</div>"
     },
     "metadata": {},
     "execution_count": 274
    }
   ],
   "source": [
    "results[\"duration_ratios\"] = results[\"duration_ratios\"].apply(tuple)\n",
    "df3 = pd.DataFrame(results.groupby([\"pattern_generating_match\", \"note_durations\", \"duration_ratios\"]).size())\n",
    "\n",
    "df3.head()"
   ]
  },
  {
   "cell_type": "markdown",
   "metadata": {},
   "source": [
    "## Group by the Pattern Generating Match\n",
    "- Each has its own string of durations, and duration ratios\n",
    "- and then we compare the ratios to get the differences\n",
    "- the \"list(combinations)\" method takes care of building the pairs, using data from our dataframe 'results'"
   ]
  },
  {
   "cell_type": "code",
   "execution_count": 193,
   "metadata": {},
   "outputs": [],
   "source": [
    "def compare_ratios(ratios_1, ratios_2):\n",
    "    \n",
    "    ## division of lists \n",
    "    # using zip() + list comprehension \n",
    "    diffs = [i - j for i, j in zip(ratios_1, ratios_2)] \n",
    "    abs_diffs = [abs(ele) for ele in diffs] \n",
    "    sum_diffs = sum(abs_diffs)\n",
    "\n",
    "    return sum_diffs\n",
    "\n",
    "#results[\"Pattern_Generating_Match\"] = results[\"Pattern_Generating_Match\"].apply(tuple) \n",
    "\n",
    "def get_ratio_distances(results, pattern_col, output_cols):\n",
    "    \n",
    "    matches = []\n",
    "\n",
    "    for name, group in results.groupby(pattern_col):\n",
    "\n",
    "        ratio_pairs = list(combinations(group.index.values, 2))\n",
    "\n",
    "        for a, b in ratio_pairs:\n",
    "            \n",
    "            a_match = results.loc[a]\n",
    "            b_match = results.loc[b]\n",
    "            \n",
    "            sum_diffs = compare_ratios(a_match.duration_ratios, b_match.duration_ratios)\n",
    "            \n",
    "            match_dict = {\n",
    "                \"pattern\": name,\n",
    "                \"sum_diffs\": sum_diffs\n",
    "            }\n",
    "            \n",
    "            for col in output_cols:\n",
    "                match_dict.update({\n",
    "                    f\"match_1_{col}\": a_match[col],\n",
    "                    f\"match_2_{col}\": b_match[col]\n",
    "                })\n",
    "                \n",
    "            matches.append(match_dict)\n",
    "            \n",
    "    return pd.DataFrame(matches)"
   ]
  },
  {
   "cell_type": "markdown",
   "metadata": {},
   "source": [
    "### Now Run the Function to get the 'edit distances' for the durations of matching patterns"
   ]
  },
  {
   "cell_type": "code",
   "execution_count": 269,
   "metadata": {},
   "outputs": [
    {
     "output_type": "execute_result",
     "data": {
      "text/plain": [
       "                  pattern  sum_diffs      match_1_piece_title  \\\n",
       "0  (-5, 3, -2, 4, -2, -2)   0.500000  Quo abiit dilectus tuus   \n",
       "1  (-5, 3, -2, 4, -2, -2)   0.000000  Quo abiit dilectus tuus   \n",
       "2  (-5, 3, -2, 4, -2, -2)   0.500000  Quo abiit dilectus tuus   \n",
       "3    (-3, -3, 2, 2, 2, 2)   2.000000  Quo abiit dilectus tuus   \n",
       "4    (-3, -3, 2, 2, 2, 2)   2.666667  Quo abiit dilectus tuus   \n",
       "\n",
       "       match_2_piece_title match_1_part match_2_part  match_1_start_measure  \\\n",
       "0  Quo abiit dilectus tuus     Superior  Contratenor                    125   \n",
       "1  Quo abiit dilectus tuus     Superior        Tenor                    125   \n",
       "2  Quo abiit dilectus tuus  Contratenor        Tenor                    123   \n",
       "3  Quo abiit dilectus tuus     Superior     Superior                     36   \n",
       "4  Quo abiit dilectus tuus     Superior  Contratenor                     36   \n",
       "\n",
       "   match_2_start_measure  match_1_end_measure  match_2_end_measure  \n",
       "0                    123                  127                  125  \n",
       "1                    127                  127                  129  \n",
       "2                    127                  125                  129  \n",
       "3                     97                   37                   99  \n",
       "4                    160                   37                  161  "
      ],
      "text/html": "<div>\n<style scoped>\n    .dataframe tbody tr th:only-of-type {\n        vertical-align: middle;\n    }\n\n    .dataframe tbody tr th {\n        vertical-align: top;\n    }\n\n    .dataframe thead th {\n        text-align: right;\n    }\n</style>\n<table border=\"1\" class=\"dataframe\">\n  <thead>\n    <tr style=\"text-align: right;\">\n      <th></th>\n      <th>pattern</th>\n      <th>sum_diffs</th>\n      <th>match_1_piece_title</th>\n      <th>match_2_piece_title</th>\n      <th>match_1_part</th>\n      <th>match_2_part</th>\n      <th>match_1_start_measure</th>\n      <th>match_2_start_measure</th>\n      <th>match_1_end_measure</th>\n      <th>match_2_end_measure</th>\n    </tr>\n  </thead>\n  <tbody>\n    <tr>\n      <th>0</th>\n      <td>(-5, 3, -2, 4, -2, -2)</td>\n      <td>0.500000</td>\n      <td>Quo abiit dilectus tuus</td>\n      <td>Quo abiit dilectus tuus</td>\n      <td>Superior</td>\n      <td>Contratenor</td>\n      <td>125</td>\n      <td>123</td>\n      <td>127</td>\n      <td>125</td>\n    </tr>\n    <tr>\n      <th>1</th>\n      <td>(-5, 3, -2, 4, -2, -2)</td>\n      <td>0.000000</td>\n      <td>Quo abiit dilectus tuus</td>\n      <td>Quo abiit dilectus tuus</td>\n      <td>Superior</td>\n      <td>Tenor</td>\n      <td>125</td>\n      <td>127</td>\n      <td>127</td>\n      <td>129</td>\n    </tr>\n    <tr>\n      <th>2</th>\n      <td>(-5, 3, -2, 4, -2, -2)</td>\n      <td>0.500000</td>\n      <td>Quo abiit dilectus tuus</td>\n      <td>Quo abiit dilectus tuus</td>\n      <td>Contratenor</td>\n      <td>Tenor</td>\n      <td>123</td>\n      <td>127</td>\n      <td>125</td>\n      <td>129</td>\n    </tr>\n    <tr>\n      <th>3</th>\n      <td>(-3, -3, 2, 2, 2, 2)</td>\n      <td>2.000000</td>\n      <td>Quo abiit dilectus tuus</td>\n      <td>Quo abiit dilectus tuus</td>\n      <td>Superior</td>\n      <td>Superior</td>\n      <td>36</td>\n      <td>97</td>\n      <td>37</td>\n      <td>99</td>\n    </tr>\n    <tr>\n      <th>4</th>\n      <td>(-3, -3, 2, 2, 2, 2)</td>\n      <td>2.666667</td>\n      <td>Quo abiit dilectus tuus</td>\n      <td>Quo abiit dilectus tuus</td>\n      <td>Superior</td>\n      <td>Contratenor</td>\n      <td>36</td>\n      <td>160</td>\n      <td>37</td>\n      <td>161</td>\n    </tr>\n  </tbody>\n</table>\n</div>"
     },
     "metadata": {},
     "execution_count": 269
    }
   ],
   "source": [
    "ratio_distances = get_ratio_distances(results, \"pattern_generating_match\", [\"piece_title\", \"part\", \"start_measure\", \"end_measure\"])\n",
    "ratio_distances.head()"
   ]
  },
  {
   "cell_type": "markdown",
   "metadata": {},
   "source": [
    "### And FILTER the results according to any threshold we like"
   ]
  },
  {
   "cell_type": "code",
   "execution_count": 268,
   "metadata": {},
   "outputs": [
    {
     "output_type": "execute_result",
     "data": {
      "text/plain": [
       "                  pattern  sum_diffs match_1_piece_title match_2_piece_title  \\\n",
       "0   (-3, -2, -3, 2, 2, 2)        0.0  Je suis déshéritée  Je suis déshéritée   \n",
       "1  (-3, 2, -2, -2, -2, 2)        0.0  Je suis déshéritée  Je suis déshéritée   \n",
       "2  (-3, 2, -2, -2, -2, 2)        0.0  Je suis déshéritée  Je suis déshéritée   \n",
       "3  (-3, 2, -2, -2, -2, 2)        0.0  Je suis déshéritée  Je suis déshéritée   \n",
       "4  (-3, 2, -2, -2, -2, 2)        0.0  Je suis déshéritée  Je suis déshéritée   \n",
       "\n",
       "  match_1_part match_2_part  match_1_start_measure  match_2_start_measure  \\\n",
       "0       Bassus       Bassus                      4                     12   \n",
       "1  Contratenor        Tenor                     19                     15   \n",
       "2  Contratenor       Bassus                     19                      5   \n",
       "3  Contratenor       Bassus                     19                     13   \n",
       "4        Tenor       Bassus                     15                      5   \n",
       "\n",
       "   match_1_end_measure  match_2_end_measure  \n",
       "0                    5                   13  \n",
       "1                   20                   16  \n",
       "2                   20                    6  \n",
       "3                   20                   14  \n",
       "4                   16                    6  "
      ],
      "text/html": "<div>\n<style scoped>\n    .dataframe tbody tr th:only-of-type {\n        vertical-align: middle;\n    }\n\n    .dataframe tbody tr th {\n        vertical-align: top;\n    }\n\n    .dataframe thead th {\n        text-align: right;\n    }\n</style>\n<table border=\"1\" class=\"dataframe\">\n  <thead>\n    <tr style=\"text-align: right;\">\n      <th></th>\n      <th>pattern</th>\n      <th>sum_diffs</th>\n      <th>match_1_piece_title</th>\n      <th>match_2_piece_title</th>\n      <th>match_1_part</th>\n      <th>match_2_part</th>\n      <th>match_1_start_measure</th>\n      <th>match_2_start_measure</th>\n      <th>match_1_end_measure</th>\n      <th>match_2_end_measure</th>\n    </tr>\n  </thead>\n  <tbody>\n    <tr>\n      <th>0</th>\n      <td>(-3, -2, -3, 2, 2, 2)</td>\n      <td>0.0</td>\n      <td>Je suis déshéritée</td>\n      <td>Je suis déshéritée</td>\n      <td>Bassus</td>\n      <td>Bassus</td>\n      <td>4</td>\n      <td>12</td>\n      <td>5</td>\n      <td>13</td>\n    </tr>\n    <tr>\n      <th>1</th>\n      <td>(-3, 2, -2, -2, -2, 2)</td>\n      <td>0.0</td>\n      <td>Je suis déshéritée</td>\n      <td>Je suis déshéritée</td>\n      <td>Contratenor</td>\n      <td>Tenor</td>\n      <td>19</td>\n      <td>15</td>\n      <td>20</td>\n      <td>16</td>\n    </tr>\n    <tr>\n      <th>2</th>\n      <td>(-3, 2, -2, -2, -2, 2)</td>\n      <td>0.0</td>\n      <td>Je suis déshéritée</td>\n      <td>Je suis déshéritée</td>\n      <td>Contratenor</td>\n      <td>Bassus</td>\n      <td>19</td>\n      <td>5</td>\n      <td>20</td>\n      <td>6</td>\n    </tr>\n    <tr>\n      <th>3</th>\n      <td>(-3, 2, -2, -2, -2, 2)</td>\n      <td>0.0</td>\n      <td>Je suis déshéritée</td>\n      <td>Je suis déshéritée</td>\n      <td>Contratenor</td>\n      <td>Bassus</td>\n      <td>19</td>\n      <td>13</td>\n      <td>20</td>\n      <td>14</td>\n    </tr>\n    <tr>\n      <th>4</th>\n      <td>(-3, 2, -2, -2, -2, 2)</td>\n      <td>0.0</td>\n      <td>Je suis déshéritée</td>\n      <td>Je suis déshéritée</td>\n      <td>Tenor</td>\n      <td>Bassus</td>\n      <td>15</td>\n      <td>5</td>\n      <td>16</td>\n      <td>6</td>\n    </tr>\n  </tbody>\n</table>\n</div>"
     },
     "metadata": {},
     "execution_count": 268
    }
   ],
   "source": [
    "ratios_filtered = ratio_distances[ratio_distances.sum_diffs <= 0]\n",
    "ratios_filtered.head()"
   ]
  },
  {
   "cell_type": "markdown",
   "metadata": {},
   "source": [
    "### Now Group the Duration-Filter Results by the Pattern (which shows us very closely related soggetti in sets)"
   ]
  },
  {
   "cell_type": "code",
   "execution_count": 265,
   "metadata": {},
   "outputs": [
    {
     "output_type": "execute_result",
     "data": {
      "text/plain": [
       "19"
      ]
     },
     "metadata": {},
     "execution_count": 265
    }
   ],
   "source": [
    "grouped = ratios_filtered.groupby(\"pattern\")\n",
    "len(grouped['pattern'].nunique())"
   ]
  },
  {
   "cell_type": "code",
   "execution_count": 81,
   "metadata": {},
   "outputs": [],
   "source": [
    "ratios_filtered.to_csv(\"filtered_sample_pair.csv\")"
   ]
  },
  {
   "source": [
    "### Greedy Soggetti\n",
    "* Groups by voice part\n",
    "* Gets one voice, then creates shifted cols to contain current+previous intervals and durations\n",
    "* slices each tuple: removes first from previous match and last from current match\n",
    "* if these are identical, then we can merge the two soggetti"
   ],
   "cell_type": "markdown",
   "metadata": {}
  },
  {
   "cell_type": "code",
   "execution_count": 301,
   "metadata": {},
   "outputs": [
    {
     "output_type": "execute_result",
     "data": {
      "text/plain": [
       "        pattern_matched              piece_title  start_measure  end_measure  \\\n",
       "0                   NaN                      NaN            NaN          NaN   \n",
       "1                   NaN                      NaN            NaN          NaN   \n",
       "2                   NaN                      NaN            NaN          NaN   \n",
       "3                   NaN                      NaN            NaN          NaN   \n",
       "4  (5, -2, 2, 2, 2, -2)  Quo abiit dilectus tuus            1.0          3.0   \n",
       "\n",
       "                        note_durations  \n",
       "0                                  NaN  \n",
       "1                                  NaN  \n",
       "2                                  NaN  \n",
       "3                                  NaN  \n",
       "4  (4.0, 6.0, 2.0, 2.0, 2.0, 3.0, 0.5)  "
      ],
      "text/html": "<div>\n<style scoped>\n    .dataframe tbody tr th:only-of-type {\n        vertical-align: middle;\n    }\n\n    .dataframe tbody tr th {\n        vertical-align: top;\n    }\n\n    .dataframe thead th {\n        text-align: right;\n    }\n</style>\n<table border=\"1\" class=\"dataframe\">\n  <thead>\n    <tr style=\"text-align: right;\">\n      <th></th>\n      <th>pattern_matched</th>\n      <th>piece_title</th>\n      <th>start_measure</th>\n      <th>end_measure</th>\n      <th>note_durations</th>\n    </tr>\n  </thead>\n  <tbody>\n    <tr>\n      <th>0</th>\n      <td>NaN</td>\n      <td>NaN</td>\n      <td>NaN</td>\n      <td>NaN</td>\n      <td>NaN</td>\n    </tr>\n    <tr>\n      <th>1</th>\n      <td>NaN</td>\n      <td>NaN</td>\n      <td>NaN</td>\n      <td>NaN</td>\n      <td>NaN</td>\n    </tr>\n    <tr>\n      <th>2</th>\n      <td>NaN</td>\n      <td>NaN</td>\n      <td>NaN</td>\n      <td>NaN</td>\n      <td>NaN</td>\n    </tr>\n    <tr>\n      <th>3</th>\n      <td>NaN</td>\n      <td>NaN</td>\n      <td>NaN</td>\n      <td>NaN</td>\n      <td>NaN</td>\n    </tr>\n    <tr>\n      <th>4</th>\n      <td>(5, -2, 2, 2, 2, -2)</td>\n      <td>Quo abiit dilectus tuus</td>\n      <td>1.0</td>\n      <td>3.0</td>\n      <td>(4.0, 6.0, 2.0, 2.0, 2.0, 3.0, 0.5)</td>\n    </tr>\n  </tbody>\n</table>\n</div>"
     },
     "metadata": {},
     "execution_count": 301
    }
   ],
   "source": [
    "results[\"pattern_matched\"] = results[\"pattern_matched\"].apply(tuple)\n",
    "results_s = results.drop(columns=[\"ema_url\", \"ema\", \"duration_ratios\", \"pattern_generating_match\"])\n",
    "# #results_s[\"group_number\"] = group_number\n",
    "# results_grouped = results_s.groupby(by=[\"piece_title\", \"part\"])\n",
    "# results_grouped.sort_values(\"start_measure\")\n",
    "# results_grouped.head()\n",
    "results_shifted = results_s.groupby([\"part\"]).shift(1)\n",
    "results_shifted.head()\n"
   ]
  },
  {
   "cell_type": "code",
   "execution_count": 302,
   "metadata": {},
   "outputs": [],
   "source": [
    "# function to group by piece and part, then add shfted columns to accept Greedy Data\n",
    "\n",
    "def add_shifted_cols(df: pd.DataFrame,\n",
    "                    group_cols: list,\n",
    "                    shift_cols: list,\n",
    "                    shift_periods=-1,\n",
    "                    shifted_prefix=\"next\"\n",
    "                    ) -> pd.DataFrame:\n",
    "    \n",
    "    \n",
    "    df = df.copy()\n",
    "\n",
    "    df_shifted = df.groupby(group_cols).shift(shift_periods)\n",
    "\n",
    "    df[[ f\"{shifted_prefix}_{c}\" for c in shift_cols]] = df_shifted[shift_cols]\n",
    "\n",
    "    return df"
   ]
  },
  {
   "cell_type": "code",
   "execution_count": 306,
   "metadata": {},
   "outputs": [],
   "source": [
    "# Sequence here helps us deal with tuples in the data, slicing as needed the various lists of vectors and durations\n",
    "\n",
    "from typing import Sequence\n",
    "\n",
    "def add_subsequence_cols(df: pd.DataFrame, this_sequence_cols: Sequence, next_sequence_cols: Sequence) -> pd.DataFrame:\n",
    "\n",
    "    df = df.copy()\n",
    "\n",
    "    for col in this_sequence_cols:\n",
    "            df[f\"{col}_short\"] = df[col].dropna().apply(lambda x: x[1:]) \n",
    "    \n",
    "    for col in next_sequence_cols:\n",
    "            df[f\"{col}_short\"] = df[col].dropna().apply(lambda x: x[:-1])\n",
    "          \n",
    "\n",
    "    return df\n",
    "\n"
   ]
  },
  {
   "cell_type": "code",
   "execution_count": 320,
   "metadata": {},
   "outputs": [
    {
     "output_type": "execute_result",
     "data": {
      "text/plain": [
       "            pattern_matched              piece_title      part  start_measure  \\\n",
       "0      (5, -2, 2, 2, 2, -2)  Quo abiit dilectus tuus  Superior              1   \n",
       "1370  (-2, 2, 2, 2, -2, -2)  Quo abiit dilectus tuus  Superior              1   \n",
       "4     (-2, 2, 2, 2, -2, -2)  Quo abiit dilectus tuus  Superior              1   \n",
       "1254   (5, -2, 2, 2, 2, -2)  Quo abiit dilectus tuus  Superior              1   \n",
       "863   (-2, 2, 2, 2, -2, -2)  Quo abiit dilectus tuus  Superior              1   \n",
       "\n",
       "      end_measure                       note_durations  \\\n",
       "0               3  (4.0, 6.0, 2.0, 2.0, 2.0, 3.0, 0.5)   \n",
       "1370            3  (6.0, 2.0, 2.0, 2.0, 3.0, 0.5, 0.5)   \n",
       "4               3  (6.0, 2.0, 2.0, 2.0, 3.0, 0.5, 0.5)   \n",
       "1254            3  (4.0, 6.0, 2.0, 2.0, 2.0, 3.0, 0.5)   \n",
       "863             3  (6.0, 2.0, 2.0, 2.0, 3.0, 0.5, 0.5)   \n",
       "\n",
       "                                        duration_ratios  next_start_measure  \\\n",
       "0     (1.5, 0.3333333333333333, 1.0, 1.0, 1.5, 0.166...                 1.0   \n",
       "1370  (0.3333333333333333, 1.0, 1.0, 1.5, 0.16666666...                32.0   \n",
       "4     (0.3333333333333333, 1.0, 1.0, 1.5, 0.16666666...                32.0   \n",
       "1254  (1.5, 0.3333333333333333, 1.0, 1.0, 1.5, 0.166...                 6.0   \n",
       "863   (0.3333333333333333, 1.0, 1.0, 1.5, 0.16666666...                32.0   \n",
       "\n",
       "      next_end_measure                  next_note_durations  \\\n",
       "0                  3.0  (6.0, 2.0, 2.0, 2.0, 3.0, 0.5, 0.5)   \n",
       "1370              33.0  (1.0, 1.0, 1.0, 1.0, 2.0, 1.0, 1.0)   \n",
       "4                 33.0  (1.0, 1.0, 1.0, 1.0, 2.0, 1.0, 1.0)   \n",
       "1254               7.0  (2.0, 4.0, 2.0, 2.0, 2.0, 2.0, 1.0)   \n",
       "863               33.0  (1.0, 1.0, 1.0, 1.0, 2.0, 1.0, 1.0)   \n",
       "\n",
       "       next_pattern_matched  \n",
       "0     (-2, 2, 2, 2, -2, -2)  \n",
       "1370  (-2, 2, 2, 2, -2, -2)  \n",
       "4     (-2, 2, 2, 2, -2, -2)  \n",
       "1254  (2, -2, -2, 2, 2, -2)  \n",
       "863   (-2, 2, 2, 2, -2, -2)  "
      ],
      "text/html": "<div>\n<style scoped>\n    .dataframe tbody tr th:only-of-type {\n        vertical-align: middle;\n    }\n\n    .dataframe tbody tr th {\n        vertical-align: top;\n    }\n\n    .dataframe thead th {\n        text-align: right;\n    }\n</style>\n<table border=\"1\" class=\"dataframe\">\n  <thead>\n    <tr style=\"text-align: right;\">\n      <th></th>\n      <th>pattern_matched</th>\n      <th>piece_title</th>\n      <th>part</th>\n      <th>start_measure</th>\n      <th>end_measure</th>\n      <th>note_durations</th>\n      <th>duration_ratios</th>\n      <th>next_start_measure</th>\n      <th>next_end_measure</th>\n      <th>next_note_durations</th>\n      <th>next_pattern_matched</th>\n    </tr>\n  </thead>\n  <tbody>\n    <tr>\n      <th>0</th>\n      <td>(5, -2, 2, 2, 2, -2)</td>\n      <td>Quo abiit dilectus tuus</td>\n      <td>Superior</td>\n      <td>1</td>\n      <td>3</td>\n      <td>(4.0, 6.0, 2.0, 2.0, 2.0, 3.0, 0.5)</td>\n      <td>(1.5, 0.3333333333333333, 1.0, 1.0, 1.5, 0.166...</td>\n      <td>1.0</td>\n      <td>3.0</td>\n      <td>(6.0, 2.0, 2.0, 2.0, 3.0, 0.5, 0.5)</td>\n      <td>(-2, 2, 2, 2, -2, -2)</td>\n    </tr>\n    <tr>\n      <th>1370</th>\n      <td>(-2, 2, 2, 2, -2, -2)</td>\n      <td>Quo abiit dilectus tuus</td>\n      <td>Superior</td>\n      <td>1</td>\n      <td>3</td>\n      <td>(6.0, 2.0, 2.0, 2.0, 3.0, 0.5, 0.5)</td>\n      <td>(0.3333333333333333, 1.0, 1.0, 1.5, 0.16666666...</td>\n      <td>32.0</td>\n      <td>33.0</td>\n      <td>(1.0, 1.0, 1.0, 1.0, 2.0, 1.0, 1.0)</td>\n      <td>(-2, 2, 2, 2, -2, -2)</td>\n    </tr>\n    <tr>\n      <th>4</th>\n      <td>(-2, 2, 2, 2, -2, -2)</td>\n      <td>Quo abiit dilectus tuus</td>\n      <td>Superior</td>\n      <td>1</td>\n      <td>3</td>\n      <td>(6.0, 2.0, 2.0, 2.0, 3.0, 0.5, 0.5)</td>\n      <td>(0.3333333333333333, 1.0, 1.0, 1.5, 0.16666666...</td>\n      <td>32.0</td>\n      <td>33.0</td>\n      <td>(1.0, 1.0, 1.0, 1.0, 2.0, 1.0, 1.0)</td>\n      <td>(-2, 2, 2, 2, -2, -2)</td>\n    </tr>\n    <tr>\n      <th>1254</th>\n      <td>(5, -2, 2, 2, 2, -2)</td>\n      <td>Quo abiit dilectus tuus</td>\n      <td>Superior</td>\n      <td>1</td>\n      <td>3</td>\n      <td>(4.0, 6.0, 2.0, 2.0, 2.0, 3.0, 0.5)</td>\n      <td>(1.5, 0.3333333333333333, 1.0, 1.0, 1.5, 0.166...</td>\n      <td>6.0</td>\n      <td>7.0</td>\n      <td>(2.0, 4.0, 2.0, 2.0, 2.0, 2.0, 1.0)</td>\n      <td>(2, -2, -2, 2, 2, -2)</td>\n    </tr>\n    <tr>\n      <th>863</th>\n      <td>(-2, 2, 2, 2, -2, -2)</td>\n      <td>Quo abiit dilectus tuus</td>\n      <td>Superior</td>\n      <td>1</td>\n      <td>3</td>\n      <td>(6.0, 2.0, 2.0, 2.0, 3.0, 0.5, 0.5)</td>\n      <td>(0.3333333333333333, 1.0, 1.0, 1.5, 0.16666666...</td>\n      <td>32.0</td>\n      <td>33.0</td>\n      <td>(1.0, 1.0, 1.0, 1.0, 2.0, 1.0, 1.0)</td>\n      <td>(-2, 2, 2, 2, -2, -2)</td>\n    </tr>\n  </tbody>\n</table>\n</div>"
     },
     "metadata": {},
     "execution_count": 320
    }
   ],
   "source": [
    "# here we call the function to add the cols\n",
    "\n",
    "df_shifted = add_shifted_cols(results,\n",
    "                    group_cols=[\"piece_title\", \"part\"],\n",
    "                    shift_cols=[\"start_measure\", \"end_measure\", \"note_durations\", \"pattern_matched\"])\n",
    "\n",
    "df_brief = df_shifted.sort_values(\"start_measure\").drop(columns=[\"ema\", \"ema_url\", \"pattern_generating_match\"])\n",
    "df_brief.head()"
   ]
  },
  {
   "cell_type": "code",
   "execution_count": 323,
   "metadata": {},
   "outputs": [
    {
     "output_type": "execute_result",
     "data": {
      "text/plain": [
       "            pattern_matched              piece_title         part  \\\n",
       "0      (5, -2, 2, 2, 2, -2)  Quo abiit dilectus tuus     Superior   \n",
       "1      (4, -2, 2, 2, 2, -2)  Quo abiit dilectus tuus  Contratenor   \n",
       "2      (5, -2, 2, 2, 2, -2)  Quo abiit dilectus tuus        Tenor   \n",
       "3      (4, -2, 2, 2, 2, -2)  Quo abiit dilectus tuus       Bassus   \n",
       "4     (-2, 2, 2, 2, -2, -2)  Quo abiit dilectus tuus     Superior   \n",
       "...                     ...                      ...          ...   \n",
       "2163   (-2, -3, 2, 2, 2, 2)  Quo abiit dilectus tuus     Superior   \n",
       "2164   (-2, -3, 2, 2, 2, 2)  Quo abiit dilectus tuus     Superior   \n",
       "2165   (-2, -3, 2, 2, 2, 2)  Quo abiit dilectus tuus  Contratenor   \n",
       "2166   (-2, -3, 2, 2, 2, 2)  Quo abiit dilectus tuus        Tenor   \n",
       "2167   (-3, -3, 2, 2, 2, 2)  Quo abiit dilectus tuus       Bassus   \n",
       "\n",
       "      start_measure  end_measure                       note_durations  \\\n",
       "0                 1            3  (4.0, 6.0, 2.0, 2.0, 2.0, 3.0, 0.5)   \n",
       "1                 3            5  (4.0, 6.0, 2.0, 2.0, 2.0, 3.0, 0.5)   \n",
       "2                10           12  (4.0, 6.0, 2.0, 2.0, 2.0, 3.0, 0.5)   \n",
       "3                12           14  (2.0, 6.0, 2.0, 2.0, 2.0, 4.0, 2.0)   \n",
       "4                 1            3  (6.0, 2.0, 2.0, 2.0, 3.0, 0.5, 0.5)   \n",
       "...             ...          ...                                  ...   \n",
       "2163             36           37  (2.0, 2.0, 2.0, 1.0, 1.0, 1.0, 1.0)   \n",
       "2164             97           99  (2.0, 4.0, 2.0, 2.0, 2.0, 2.0, 2.0)   \n",
       "2165            160          161  (1.0, 2.0, 3.0, 1.0, 2.0, 2.0, 2.0)   \n",
       "2166            109          110  (4.0, 2.0, 1.0, 1.0, 1.0, 1.0, 1.0)   \n",
       "2167            164          165  (2.0, 2.0, 1.0, 1.0, 1.0, 1.0, 2.0)   \n",
       "\n",
       "      next_start_measure  next_end_measure  \\\n",
       "0                    1.0               3.0   \n",
       "1                    3.0               5.0   \n",
       "2                   10.0              12.0   \n",
       "3                    8.0              10.0   \n",
       "4                   32.0              33.0   \n",
       "...                  ...               ...   \n",
       "2163                97.0              99.0   \n",
       "2164                 NaN               NaN   \n",
       "2165                 NaN               NaN   \n",
       "2166                 NaN               NaN   \n",
       "2167                 NaN               NaN   \n",
       "\n",
       "                      next_note_durations   next_pattern_matched  \\\n",
       "0     (6.0, 2.0, 2.0, 2.0, 3.0, 0.5, 0.5)  (-2, 2, 2, 2, -2, -2)   \n",
       "1     (6.0, 2.0, 2.0, 2.0, 3.0, 0.5, 0.5)  (-2, 2, 2, 2, -2, -2)   \n",
       "2     (6.0, 2.0, 2.0, 2.0, 3.0, 0.5, 0.5)  (-2, 2, 2, 2, -2, -2)   \n",
       "3     (2.0, 2.0, 2.0, 2.0, 3.0, 1.0, 1.0)  (-2, 2, 2, 2, -2, -2)   \n",
       "4     (1.0, 1.0, 1.0, 1.0, 2.0, 1.0, 1.0)  (-2, 2, 2, 2, -2, -2)   \n",
       "...                                   ...                    ...   \n",
       "2163  (2.0, 4.0, 2.0, 2.0, 2.0, 2.0, 2.0)   (-2, -3, 2, 2, 2, 2)   \n",
       "2164                                  NaN                    NaN   \n",
       "2165                                  NaN                    NaN   \n",
       "2166                                  NaN                    NaN   \n",
       "2167                                  NaN                    NaN   \n",
       "\n",
       "     pattern_matched_short            note_durations_short  \\\n",
       "0        (-2, 2, 2, 2, -2)  (6.0, 2.0, 2.0, 2.0, 3.0, 0.5)   \n",
       "1        (-2, 2, 2, 2, -2)  (6.0, 2.0, 2.0, 2.0, 3.0, 0.5)   \n",
       "2        (-2, 2, 2, 2, -2)  (6.0, 2.0, 2.0, 2.0, 3.0, 0.5)   \n",
       "3        (-2, 2, 2, 2, -2)  (6.0, 2.0, 2.0, 2.0, 4.0, 2.0)   \n",
       "4        (2, 2, 2, -2, -2)  (2.0, 2.0, 2.0, 3.0, 0.5, 0.5)   \n",
       "...                    ...                             ...   \n",
       "2163      (-3, 2, 2, 2, 2)  (2.0, 2.0, 1.0, 1.0, 1.0, 1.0)   \n",
       "2164      (-3, 2, 2, 2, 2)  (4.0, 2.0, 2.0, 2.0, 2.0, 2.0)   \n",
       "2165      (-3, 2, 2, 2, 2)  (2.0, 3.0, 1.0, 2.0, 2.0, 2.0)   \n",
       "2166      (-3, 2, 2, 2, 2)  (2.0, 1.0, 1.0, 1.0, 1.0, 1.0)   \n",
       "2167      (-3, 2, 2, 2, 2)  (2.0, 1.0, 1.0, 1.0, 1.0, 2.0)   \n",
       "\n",
       "     next_pattern_matched_short       next_note_durations_short  \n",
       "0             (-2, 2, 2, 2, -2)  (6.0, 2.0, 2.0, 2.0, 3.0, 0.5)  \n",
       "1             (-2, 2, 2, 2, -2)  (6.0, 2.0, 2.0, 2.0, 3.0, 0.5)  \n",
       "2             (-2, 2, 2, 2, -2)  (6.0, 2.0, 2.0, 2.0, 3.0, 0.5)  \n",
       "3             (-2, 2, 2, 2, -2)  (2.0, 2.0, 2.0, 2.0, 3.0, 1.0)  \n",
       "4             (-2, 2, 2, 2, -2)  (1.0, 1.0, 1.0, 1.0, 2.0, 1.0)  \n",
       "...                         ...                             ...  \n",
       "2163          (-2, -3, 2, 2, 2)  (2.0, 4.0, 2.0, 2.0, 2.0, 2.0)  \n",
       "2164                        NaN                             NaN  \n",
       "2165                        NaN                             NaN  \n",
       "2166                        NaN                             NaN  \n",
       "2167                        NaN                             NaN  \n",
       "\n",
       "[2168 rows x 14 columns]"
      ],
      "text/html": "<div>\n<style scoped>\n    .dataframe tbody tr th:only-of-type {\n        vertical-align: middle;\n    }\n\n    .dataframe tbody tr th {\n        vertical-align: top;\n    }\n\n    .dataframe thead th {\n        text-align: right;\n    }\n</style>\n<table border=\"1\" class=\"dataframe\">\n  <thead>\n    <tr style=\"text-align: right;\">\n      <th></th>\n      <th>pattern_matched</th>\n      <th>piece_title</th>\n      <th>part</th>\n      <th>start_measure</th>\n      <th>end_measure</th>\n      <th>note_durations</th>\n      <th>next_start_measure</th>\n      <th>next_end_measure</th>\n      <th>next_note_durations</th>\n      <th>next_pattern_matched</th>\n      <th>pattern_matched_short</th>\n      <th>note_durations_short</th>\n      <th>next_pattern_matched_short</th>\n      <th>next_note_durations_short</th>\n    </tr>\n  </thead>\n  <tbody>\n    <tr>\n      <th>0</th>\n      <td>(5, -2, 2, 2, 2, -2)</td>\n      <td>Quo abiit dilectus tuus</td>\n      <td>Superior</td>\n      <td>1</td>\n      <td>3</td>\n      <td>(4.0, 6.0, 2.0, 2.0, 2.0, 3.0, 0.5)</td>\n      <td>1.0</td>\n      <td>3.0</td>\n      <td>(6.0, 2.0, 2.0, 2.0, 3.0, 0.5, 0.5)</td>\n      <td>(-2, 2, 2, 2, -2, -2)</td>\n      <td>(-2, 2, 2, 2, -2)</td>\n      <td>(6.0, 2.0, 2.0, 2.0, 3.0, 0.5)</td>\n      <td>(-2, 2, 2, 2, -2)</td>\n      <td>(6.0, 2.0, 2.0, 2.0, 3.0, 0.5)</td>\n    </tr>\n    <tr>\n      <th>1</th>\n      <td>(4, -2, 2, 2, 2, -2)</td>\n      <td>Quo abiit dilectus tuus</td>\n      <td>Contratenor</td>\n      <td>3</td>\n      <td>5</td>\n      <td>(4.0, 6.0, 2.0, 2.0, 2.0, 3.0, 0.5)</td>\n      <td>3.0</td>\n      <td>5.0</td>\n      <td>(6.0, 2.0, 2.0, 2.0, 3.0, 0.5, 0.5)</td>\n      <td>(-2, 2, 2, 2, -2, -2)</td>\n      <td>(-2, 2, 2, 2, -2)</td>\n      <td>(6.0, 2.0, 2.0, 2.0, 3.0, 0.5)</td>\n      <td>(-2, 2, 2, 2, -2)</td>\n      <td>(6.0, 2.0, 2.0, 2.0, 3.0, 0.5)</td>\n    </tr>\n    <tr>\n      <th>2</th>\n      <td>(5, -2, 2, 2, 2, -2)</td>\n      <td>Quo abiit dilectus tuus</td>\n      <td>Tenor</td>\n      <td>10</td>\n      <td>12</td>\n      <td>(4.0, 6.0, 2.0, 2.0, 2.0, 3.0, 0.5)</td>\n      <td>10.0</td>\n      <td>12.0</td>\n      <td>(6.0, 2.0, 2.0, 2.0, 3.0, 0.5, 0.5)</td>\n      <td>(-2, 2, 2, 2, -2, -2)</td>\n      <td>(-2, 2, 2, 2, -2)</td>\n      <td>(6.0, 2.0, 2.0, 2.0, 3.0, 0.5)</td>\n      <td>(-2, 2, 2, 2, -2)</td>\n      <td>(6.0, 2.0, 2.0, 2.0, 3.0, 0.5)</td>\n    </tr>\n    <tr>\n      <th>3</th>\n      <td>(4, -2, 2, 2, 2, -2)</td>\n      <td>Quo abiit dilectus tuus</td>\n      <td>Bassus</td>\n      <td>12</td>\n      <td>14</td>\n      <td>(2.0, 6.0, 2.0, 2.0, 2.0, 4.0, 2.0)</td>\n      <td>8.0</td>\n      <td>10.0</td>\n      <td>(2.0, 2.0, 2.0, 2.0, 3.0, 1.0, 1.0)</td>\n      <td>(-2, 2, 2, 2, -2, -2)</td>\n      <td>(-2, 2, 2, 2, -2)</td>\n      <td>(6.0, 2.0, 2.0, 2.0, 4.0, 2.0)</td>\n      <td>(-2, 2, 2, 2, -2)</td>\n      <td>(2.0, 2.0, 2.0, 2.0, 3.0, 1.0)</td>\n    </tr>\n    <tr>\n      <th>4</th>\n      <td>(-2, 2, 2, 2, -2, -2)</td>\n      <td>Quo abiit dilectus tuus</td>\n      <td>Superior</td>\n      <td>1</td>\n      <td>3</td>\n      <td>(6.0, 2.0, 2.0, 2.0, 3.0, 0.5, 0.5)</td>\n      <td>32.0</td>\n      <td>33.0</td>\n      <td>(1.0, 1.0, 1.0, 1.0, 2.0, 1.0, 1.0)</td>\n      <td>(-2, 2, 2, 2, -2, -2)</td>\n      <td>(2, 2, 2, -2, -2)</td>\n      <td>(2.0, 2.0, 2.0, 3.0, 0.5, 0.5)</td>\n      <td>(-2, 2, 2, 2, -2)</td>\n      <td>(1.0, 1.0, 1.0, 1.0, 2.0, 1.0)</td>\n    </tr>\n    <tr>\n      <th>...</th>\n      <td>...</td>\n      <td>...</td>\n      <td>...</td>\n      <td>...</td>\n      <td>...</td>\n      <td>...</td>\n      <td>...</td>\n      <td>...</td>\n      <td>...</td>\n      <td>...</td>\n      <td>...</td>\n      <td>...</td>\n      <td>...</td>\n      <td>...</td>\n    </tr>\n    <tr>\n      <th>2163</th>\n      <td>(-2, -3, 2, 2, 2, 2)</td>\n      <td>Quo abiit dilectus tuus</td>\n      <td>Superior</td>\n      <td>36</td>\n      <td>37</td>\n      <td>(2.0, 2.0, 2.0, 1.0, 1.0, 1.0, 1.0)</td>\n      <td>97.0</td>\n      <td>99.0</td>\n      <td>(2.0, 4.0, 2.0, 2.0, 2.0, 2.0, 2.0)</td>\n      <td>(-2, -3, 2, 2, 2, 2)</td>\n      <td>(-3, 2, 2, 2, 2)</td>\n      <td>(2.0, 2.0, 1.0, 1.0, 1.0, 1.0)</td>\n      <td>(-2, -3, 2, 2, 2)</td>\n      <td>(2.0, 4.0, 2.0, 2.0, 2.0, 2.0)</td>\n    </tr>\n    <tr>\n      <th>2164</th>\n      <td>(-2, -3, 2, 2, 2, 2)</td>\n      <td>Quo abiit dilectus tuus</td>\n      <td>Superior</td>\n      <td>97</td>\n      <td>99</td>\n      <td>(2.0, 4.0, 2.0, 2.0, 2.0, 2.0, 2.0)</td>\n      <td>NaN</td>\n      <td>NaN</td>\n      <td>NaN</td>\n      <td>NaN</td>\n      <td>(-3, 2, 2, 2, 2)</td>\n      <td>(4.0, 2.0, 2.0, 2.0, 2.0, 2.0)</td>\n      <td>NaN</td>\n      <td>NaN</td>\n    </tr>\n    <tr>\n      <th>2165</th>\n      <td>(-2, -3, 2, 2, 2, 2)</td>\n      <td>Quo abiit dilectus tuus</td>\n      <td>Contratenor</td>\n      <td>160</td>\n      <td>161</td>\n      <td>(1.0, 2.0, 3.0, 1.0, 2.0, 2.0, 2.0)</td>\n      <td>NaN</td>\n      <td>NaN</td>\n      <td>NaN</td>\n      <td>NaN</td>\n      <td>(-3, 2, 2, 2, 2)</td>\n      <td>(2.0, 3.0, 1.0, 2.0, 2.0, 2.0)</td>\n      <td>NaN</td>\n      <td>NaN</td>\n    </tr>\n    <tr>\n      <th>2166</th>\n      <td>(-2, -3, 2, 2, 2, 2)</td>\n      <td>Quo abiit dilectus tuus</td>\n      <td>Tenor</td>\n      <td>109</td>\n      <td>110</td>\n      <td>(4.0, 2.0, 1.0, 1.0, 1.0, 1.0, 1.0)</td>\n      <td>NaN</td>\n      <td>NaN</td>\n      <td>NaN</td>\n      <td>NaN</td>\n      <td>(-3, 2, 2, 2, 2)</td>\n      <td>(2.0, 1.0, 1.0, 1.0, 1.0, 1.0)</td>\n      <td>NaN</td>\n      <td>NaN</td>\n    </tr>\n    <tr>\n      <th>2167</th>\n      <td>(-3, -3, 2, 2, 2, 2)</td>\n      <td>Quo abiit dilectus tuus</td>\n      <td>Bassus</td>\n      <td>164</td>\n      <td>165</td>\n      <td>(2.0, 2.0, 1.0, 1.0, 1.0, 1.0, 2.0)</td>\n      <td>NaN</td>\n      <td>NaN</td>\n      <td>NaN</td>\n      <td>NaN</td>\n      <td>(-3, 2, 2, 2, 2)</td>\n      <td>(2.0, 1.0, 1.0, 1.0, 1.0, 2.0)</td>\n      <td>NaN</td>\n      <td>NaN</td>\n    </tr>\n  </tbody>\n</table>\n<p>2168 rows × 14 columns</p>\n</div>"
     },
     "metadata": {},
     "execution_count": 323
    }
   ],
   "source": [
    "# And here we call the function to slice and enter the data\n",
    "\n",
    "df_brief = add_subsequence_cols(df_shifted, \n",
    "    this_sequence_cols=[\"pattern_matched\", \"note_durations\"], \n",
    "    next_sequence_cols=[\"next_pattern_matched\", \"next_note_durations\"]\n",
    "    )\n",
    "df_brief.drop(columns=[\"ema\", \"ema_url\", \"pattern_generating_match\", \"duration_ratios\"])"
   ]
  },
  {
   "cell_type": "code",
   "execution_count": null,
   "metadata": {},
   "outputs": [],
   "source": [
    "# Now  filter prevoious results to make sure the melodic and rhythmic vectors match for each sequence\n",
    "\n",
    "df_filter_durs = df_brief[df_brief[\"note_durations_short\"] == df_brief[\"next_note_durations_short\"]]\n",
    "df_filter_patts = df_filter_durs[df_filter_durs[\"pattern_matched_short\"] == df_filter_durs[\"next_pattern_matched_short\"]]\n",
    "df_filter_patts.count()"
   ]
  },
  {
   "cell_type": "code",
   "execution_count": null,
   "metadata": {},
   "outputs": [],
   "source": [
    "# This is just a way to inspect a single voice\n",
    "\n",
    "df_filter_one_voice = df_filter_patts[df_filter_patts[\"part\"].str.contains('Contratenor')]\n",
    "df_filter_one_voice"
   ]
  },
  {
   "cell_type": "code",
   "execution_count": null,
   "metadata": {},
   "outputs": [],
   "source": [
    "# Make sure there are no NaN values \n",
    "\n",
    "# Add new column for check of matching end measures +1 (which we do by subtracting 1, then checking for ==)\n",
    "# combine the results:  these are the soggetti that need to get Greedy\n",
    "\n",
    "df_filter_patts['next_end_measure'].fillna(0)\n",
    "df_filter_patts['next_end_measure_minus'] = df_filter_patts['next_end_measure'].apply(lambda x: x-1)\n",
    "df_test_1 = df_filter_patts[df_filter_patts[\"end_measure\"] == df_filter_patts[\"next_end_measure\\\"]]\n",
    "df_test_2 = df_filter_patts[df_filter_patts[\\\"end_measure\\\"] == df_filter_patts[\\\"next_end_measure_minus\\\"]]\n",
    "df_test_combined = pd.concat([df_test_1, df_test_2])\n",
    "df_test_combined.count()\n"
   ]
  },
  {
   "cell_type": "code",
   "execution_count": 36,
   "metadata": {},
   "outputs": [
    {
     "output_type": "execute_result",
     "data": {
      "text/plain": [
       "258"
      ]
     },
     "metadata": {},
     "execution_count": 36
    }
   ],
   "source": [
    "df_brief['next_end_measure'] = df_brief['next_end_measure'].fillna(0)\n",
    "df_brief['next_end_measure_minus'] = df_brief[\"next_end_measure\"].apply(lambda x: x-1)\n",
    "df_brief.head()\n",
    "len(df_brief)\n",
    "\n"
   ]
  },
  {
   "cell_type": "code",
   "execution_count": 74,
   "metadata": {},
   "outputs": [
    {
     "output_type": "execute_result",
     "data": {
      "text/plain": [
       "         pattern_matched         piece_title      part  start_measure  \\\n",
       "234  [-2, -2, 2, -2, -2]  Je suis déshéritée    Bassus              6   \n",
       "54       [2, 2, 2, 2, 2]  Je suis déshéritée     Tenor             14   \n",
       "206    [1, 2, 3, -2, -2]  Je suis déshéritée  Superius             21   \n",
       "\n",
       "     end_measure                  note_durations  \\\n",
       "234            7  [1.0, 1.0, 1.0, 4.0, 3.0, 1.0]   \n",
       "54            15  [2.0, 3.0, 1.0, 1.0, 1.0, 1.0]   \n",
       "206           22  [4.0, 2.0, 2.0, 2.0, 2.0, 4.0]   \n",
       "\n",
       "                               duration_ratios  next_start_measure  \\\n",
       "234  [1.0, 1.0, 4.0, 0.75, 0.3333333333333333]                 6.0   \n",
       "54    [1.5, 0.3333333333333333, 1.0, 1.0, 1.0]                14.0   \n",
       "206                  [0.5, 1.0, 1.0, 1.0, 2.0]                21.0   \n",
       "\n",
       "     next_end_measure             next_note_durations next_pattern_matched  \\\n",
       "234               7.0  [1.0, 1.0, 1.0, 4.0, 3.0, 1.0]  [-2, -2, 2, -2, -2]   \n",
       "54               15.0  [2.0, 3.0, 1.0, 1.0, 1.0, 1.0]      [2, 2, 2, 2, 2]   \n",
       "206              22.0  [4.0, 2.0, 2.0, 2.0, 2.0, 4.0]    [1, 2, 3, -2, -2]   \n",
       "\n",
       "    pattern_matched_short next_pattern_matched_short  note_durations_short  \\\n",
       "234           [-2, 2, -2]                [-2, 2, -2]  [1.0, 1.0, 4.0, 3.0]   \n",
       "54              [2, 2, 2]                  [2, 2, 2]  [3.0, 1.0, 1.0, 1.0]   \n",
       "206            [2, 3, -2]                 [2, 3, -2]  [2.0, 2.0, 2.0, 2.0]   \n",
       "\n",
       "    next_note_durations_short  next_end_measure_minus  \n",
       "234      [1.0, 1.0, 4.0, 3.0]                     6.0  \n",
       "54       [3.0, 1.0, 1.0, 1.0]                    14.0  \n",
       "206      [2.0, 2.0, 2.0, 2.0]                    21.0  "
      ],
      "text/html": "<div>\n<style scoped>\n    .dataframe tbody tr th:only-of-type {\n        vertical-align: middle;\n    }\n\n    .dataframe tbody tr th {\n        vertical-align: top;\n    }\n\n    .dataframe thead th {\n        text-align: right;\n    }\n</style>\n<table border=\"1\" class=\"dataframe\">\n  <thead>\n    <tr style=\"text-align: right;\">\n      <th></th>\n      <th>pattern_matched</th>\n      <th>piece_title</th>\n      <th>part</th>\n      <th>start_measure</th>\n      <th>end_measure</th>\n      <th>note_durations</th>\n      <th>duration_ratios</th>\n      <th>next_start_measure</th>\n      <th>next_end_measure</th>\n      <th>next_note_durations</th>\n      <th>next_pattern_matched</th>\n      <th>pattern_matched_short</th>\n      <th>next_pattern_matched_short</th>\n      <th>note_durations_short</th>\n      <th>next_note_durations_short</th>\n      <th>next_end_measure_minus</th>\n    </tr>\n  </thead>\n  <tbody>\n    <tr>\n      <th>234</th>\n      <td>[-2, -2, 2, -2, -2]</td>\n      <td>Je suis déshéritée</td>\n      <td>Bassus</td>\n      <td>6</td>\n      <td>7</td>\n      <td>[1.0, 1.0, 1.0, 4.0, 3.0, 1.0]</td>\n      <td>[1.0, 1.0, 4.0, 0.75, 0.3333333333333333]</td>\n      <td>6.0</td>\n      <td>7.0</td>\n      <td>[1.0, 1.0, 1.0, 4.0, 3.0, 1.0]</td>\n      <td>[-2, -2, 2, -2, -2]</td>\n      <td>[-2, 2, -2]</td>\n      <td>[-2, 2, -2]</td>\n      <td>[1.0, 1.0, 4.0, 3.0]</td>\n      <td>[1.0, 1.0, 4.0, 3.0]</td>\n      <td>6.0</td>\n    </tr>\n    <tr>\n      <th>54</th>\n      <td>[2, 2, 2, 2, 2]</td>\n      <td>Je suis déshéritée</td>\n      <td>Tenor</td>\n      <td>14</td>\n      <td>15</td>\n      <td>[2.0, 3.0, 1.0, 1.0, 1.0, 1.0]</td>\n      <td>[1.5, 0.3333333333333333, 1.0, 1.0, 1.0]</td>\n      <td>14.0</td>\n      <td>15.0</td>\n      <td>[2.0, 3.0, 1.0, 1.0, 1.0, 1.0]</td>\n      <td>[2, 2, 2, 2, 2]</td>\n      <td>[2, 2, 2]</td>\n      <td>[2, 2, 2]</td>\n      <td>[3.0, 1.0, 1.0, 1.0]</td>\n      <td>[3.0, 1.0, 1.0, 1.0]</td>\n      <td>14.0</td>\n    </tr>\n    <tr>\n      <th>206</th>\n      <td>[1, 2, 3, -2, -2]</td>\n      <td>Je suis déshéritée</td>\n      <td>Superius</td>\n      <td>21</td>\n      <td>22</td>\n      <td>[4.0, 2.0, 2.0, 2.0, 2.0, 4.0]</td>\n      <td>[0.5, 1.0, 1.0, 1.0, 2.0]</td>\n      <td>21.0</td>\n      <td>22.0</td>\n      <td>[4.0, 2.0, 2.0, 2.0, 2.0, 4.0]</td>\n      <td>[1, 2, 3, -2, -2]</td>\n      <td>[2, 3, -2]</td>\n      <td>[2, 3, -2]</td>\n      <td>[2.0, 2.0, 2.0, 2.0]</td>\n      <td>[2.0, 2.0, 2.0, 2.0]</td>\n      <td>21.0</td>\n    </tr>\n  </tbody>\n</table>\n</div>"
     },
     "metadata": {},
     "execution_count": 74
    }
   ],
   "source": [
    "nds = df_brief[\"note_durations_short\"]\n",
    "nnds = df_brief[\"next_note_durations_short\"]\n",
    "pms = df_brief[\"pattern_matched_short\"]\n",
    "npms = df_brief[\"next_pattern_matched_short\"]\n",
    "nem = df_brief[\"next_end_measure\"]\n",
    "em = df_brief[\"end_measure\"]\n",
    "nemm = df_brief[\"next_end_measure_minus\"]\n",
    "\n",
    "gsd = df_brief[(pms == npms)]\n",
    "gsd = gsp[(nds == nnds)]\n",
    "gsm = gsd[(em == nem) | (em == nemm)]\n",
    "gsm_sorted = gsm.sort_values(\"start_measure\")\n",
    "gsm_sorted  \n",
    "# greedy_short_durations =  df_brief[(nds == nnds)]\n",
    "\n",
    "# greedy_sorted = greedy_results.sort_values(\"start_measure\")\n",
    "# greedy_sorted\n",
    "\n",
    "\n",
    "# gs_sort = gs_all.sort_values('start_measure')\n",
    "# gs_sort.head()"
   ]
  },
  {
   "cell_type": "code",
   "execution_count": null,
   "metadata": {},
   "outputs": [],
   "source": []
  }
 ],
 "metadata": {
  "kernelspec": {
   "display_name": "Python 3",
   "language": "python",
   "name": "python3"
  },
  "language_info": {
   "codemirror_mode": {
    "name": "ipython",
    "version": 3
   },
   "file_extension": ".py",
   "mimetype": "text/x-python",
   "name": "python",
   "nbconvert_exporter": "python",
   "pygments_lexer": "ipython3",
   "version": "3.8.5-final"
  }
 },
 "nbformat": 4,
 "nbformat_minor": 4
}