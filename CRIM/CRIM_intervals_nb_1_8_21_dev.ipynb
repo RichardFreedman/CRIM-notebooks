{
 "cells": [
  {
   "cell_type": "markdown",
   "metadata": {},
   "source": [
    "## Search with Options\n",
    "\n",
    "- Piece or Corpus\n",
    "- Actual or Incremental Durations\n",
    "- Chromatic or Diatonic\n",
    "- Exact or Close\n",
    "- Classify\n",
    "\n",
    "***\n"
   ]
  },
  {
   "cell_type": "code",
   "execution_count": 1,
   "metadata": {},
   "outputs": [],
   "source": [
    "from crim_intervals import *\n",
    "import pandas as pd\n",
    "import ast\n",
    "import matplotlib\n",
    "from itertools import tee, combinations\n",
    "import numpy as np"
   ]
  },
  {
   "cell_type": "markdown",
   "metadata": {},
   "source": [
    "### The Complete Corpus"
   ]
  },
  {
   "cell_type": "code",
   "execution_count": 2,
   "metadata": {},
   "outputs": [],
   "source": [
    "work_list = ['CRIM_Mass_0001_1.mei','CRIM_Mass_0001_2.mei','CRIM_Mass_0001_3.mei','CRIM_Mass_0001_4.mei','CRIM_Mass_0001_5.mei','CRIM_Mass_0002_1.mei','CRIM_Mass_0002_2.mei','CRIM_Mass_0002_3.mei','CRIM_Mass_0002_4.mei','CRIM_Mass_0002_5.mei','CRIM_Mass_0003_1.mei','CRIM_Mass_0003_2.mei','CRIM_Mass_0003_3.mei','CRIM_Mass_0003_4.mei','CRIM_Mass_0003_5.mei','CRIM_Mass_0004_1.mei','CRIM_Mass_0004_2.mei','CRIM_Mass_0004_3.mei','CRIM_Mass_0004_4.mei','CRIM_Mass_0004_5.mei','CRIM_Mass_0005_1.mei','CRIM_Mass_0005_2.mei','CRIM_Mass_0005_3.mei','CRIM_Mass_0005_4.mei','CRIM_Mass_0005_5.mei','CRIM_Mass_0006_1.mei','CRIM_Mass_0006_2.mei','CRIM_Mass_0006_3.mei','CRIM_Mass_0006_4.mei','CRIM_Mass_0006_5.mei','CRIM_Mass_0007_1.mei', 'CRIM_Mass_0007_2.mei', 'CRIM_Mass_0007_3.mei', 'CRIM_Mass_0007_4.mei', 'CRIM_Mass_0007_5.mei', 'CRIM_Mass_0008_1.mei', 'CRIM_Mass_0008_2.mei', 'CRIM_Mass_0008_3.mei', 'CRIM_Mass_0008_4.mei', 'CRIM_Mass_0008_5.mei', 'CRIM_Mass_0009_1.mei', 'CRIM_Mass_0009_2.mei', 'CRIM_Mass_0009_3.mei', 'CRIM_Mass_0009_4.mei', 'CRIM_Mass_0009_5.mei', 'CRIM_Mass_0010_1.mei', 'CRIM_Mass_0010_2.mei', 'CRIM_Mass_0010_3.mei', 'CRIM_Mass_0010_4.mei', 'CRIM_Mass_0010_5.mei', 'CRIM_Mass_0011_1.mei', 'CRIM_Mass_0011_2.mei', 'CRIM_Mass_0011_3.mei', 'CRIM_Mass_0011_4.mei', 'CRIM_Mass_0011_5.mei', 'CRIM_Mass_0012_1.mei', 'CRIM_Mass_0012_2.mei', 'CRIM_Mass_0012_3.mei', 'CRIM_Mass_0012_4.mei', 'CRIM_Mass_0012_5.mei', 'CRIM_Mass_0013_1.mei', 'CRIM_Mass_0013_2.mei', 'CRIM_Mass_0013_3.mei', 'CRIM_Mass_0013_4.mei', 'CRIM_Mass_0013_5.mei', 'CRIM_Mass_0014_1.mei', 'CRIM_Mass_0014_2.mei', 'CRIM_Mass_0014_3.mei', 'CRIM_Mass_0014_4.mei', 'CRIM_Mass_0014_5.mei', 'CRIM_Mass_0015_1.mei', 'CRIM_Mass_0015_2.mei', 'CRIM_Mass_0015_3.mei', 'CRIM_Mass_0015_4.mei', 'CRIM_Mass_0015_5.mei', 'CRIM_Mass_0016_1.mei', 'CRIM_Mass_0016_2.mei', 'CRIM_Mass_0016_3.mei', 'CRIM_Mass_0016_4.mei', 'CRIM_Mass_0016_5.mei', 'CRIM_Mass_0017_1.mei', 'CRIM_Mass_0017_2.mei', 'CRIM_Mass_0017_3.mei', 'CRIM_Mass_0017_4.mei', 'CRIM_Mass_0017_5.mei', 'CRIM_Mass_0018_1.mei', 'CRIM_Mass_0018_2.mei', 'CRIM_Mass_0018_3.mei', 'CRIM_Mass_0018_4.mei', 'CRIM_Mass_0018_5.mei', 'CRIM_Mass_0019_1.mei', 'CRIM_Mass_0019_2.mei', 'CRIM_Mass_0019_3.mei', 'CRIM_Mass_0019_4.mei', 'CRIM_Mass_0019_5.mei', 'CRIM_Mass_0020_1.mei', 'CRIM_Mass_0020_2.mei', 'CRIM_Mass_0020_3.mei', 'CRIM_Mass_0020_4.mei', 'CRIM_Mass_0020_5.mei', 'CRIM_Mass_0021_1.mei', 'CRIM_Mass_0021_2.mei', 'CRIM_Mass_0021_3.mei', 'CRIM_Mass_0021_4.mei', 'CRIM_Mass_0021_5.mei', 'CRIM_Mass_0022_2.mei', 'CRIM_Model_0001.mei', 'CRIM_Model_0008.mei', 'CRIM_Model_0009.mei', 'CRIM_Model_0010.mei', 'CRIM_Model_0011.mei', 'CRIM_Model_0012.mei', 'CRIM_Model_0013.mei', 'CRIM_Model_0014.mei', 'CRIM_Model_0015.mei', 'CRIM_Model_0016.mei', 'CRIM_Model_0017.mei', 'CRIM_Model_0019.mei', 'CRIM_Model_0020.mei', 'CRIM_Model_0021.mei', 'CRIM_Model_0023.mei', 'CRIM_Model_0025.mei', 'CRIM_Model_0026.mei',\n",
    "]"
   ]
  },
  {
   "cell_type": "markdown",
   "metadata": {},
   "source": [
    "### Short Corpus"
   ]
  },
  {
   "cell_type": "code",
   "execution_count": 3,
   "metadata": {},
   "outputs": [],
   "source": [
    "# work_list = ['CRIM_Mass_0002_1.mei',\n",
    "#  'CRIM_Mass_0002_2.mei',\n",
    "#  'CRIM_Mass_0002_3.mei',\n",
    "#  'CRIM_Mass_0002_4.mei',\n",
    "#  'CRIM_Mass_0002_5.mei',\n",
    "# 'CRIM_Model_0001.mei']\n",
    "\n",
    "work_list = ['CRIM_Model_0008.mei']"
   ]
  },
  {
   "source": [
    "## Load File and Correct the MEI Metadata"
   ],
   "cell_type": "markdown",
   "metadata": {
    "jupyter": {
     "outputs_hidden": true
    },
    "scrolled": true
   }
  },
  {
   "cell_type": "code",
   "execution_count": 4,
   "metadata": {
    "tags": []
   },
   "outputs": [
    {
     "output_type": "stream",
     "name": "stdout",
     "text": [
      "Requesting file from https://crimproject.org/mei/MEI_4.0/CRIM_Model_0008.mei...\n",
      "Successfully imported.\n",
      "https://crimproject.org/mei/MEI_4.0/CRIM_Model_0008.mei Ave Maria\n",
      "Ave Maria\n"
     ]
    }
   ],
   "source": [
    "work_list = [el.replace(\"CRIM_\", \"https://crimproject.org/mei/MEI_4.0/CRIM_\") for el in work_list]\n",
    "corpus = CorpusBase(work_list)\n",
    "\n",
    "import xml.etree.ElementTree as ET\n",
    "import requests\n",
    "\n",
    "MEINSURI = 'http://www.music-encoding.org/ns/mei'\n",
    "MEINS = '{%s}' % MEINSURI\n",
    "\n",
    "for i, path in enumerate(work_list):\n",
    "    \n",
    "    try:\n",
    "        if path[0] == '/':\n",
    "            mei_doc = ET.parse(path)\n",
    "        else:\n",
    "            mei_doc = ET.fromstring(requests.get(path).text)\n",
    "\n",
    "      # Find the title from the MEI file and update the Music21 Score metadata\n",
    "        title = mei_doc.find('mei:meiHead//mei:titleStmt/mei:title', namespaces={\"mei\": MEINSURI}).text\n",
    "        print(path, title)\n",
    "        corpus.scores[i].metadata.title = title\n",
    "    except:\n",
    "        continue\n",
    "\n",
    "for s in corpus.scores:\n",
    "    print(s.metadata.title)"
   ]
  },
  {
   "cell_type": "markdown",
   "metadata": {},
   "source": [
    "\n",
    "## Select Actual or Incremental Durations\n",
    "\n",
    "#### About Rhythmic Durations\n",
    "\n",
    "- For `find_close_matches` and `find_exact_matches`, rhythmic variation/duration is displayed, but **not** factored into the calculation of matching.\n",
    "- **Incremental Offset** calculates the intervals using a **fixed offset between notes**, no matter their actual duration.  Use this to ignore passing tones or other ornaments.  The offsets are expressed in multiples of the quarter note (Offset = 1 samples at quarter note; Offset = 2 at half note, etc). Set with `vectors = IntervalBase(corpus.note_list_incremental_offset(2))`"
   ]
  },
  {
   "cell_type": "code",
   "execution_count": 5,
   "metadata": {},
   "outputs": [],
   "source": [
    "vectors = IntervalBase(corpus.note_list)\n",
    "#vectors = IntervalBase(corpus.note_list_incremental_offset(2))"
   ]
  },
  {
   "cell_type": "markdown",
   "metadata": {},
   "source": [
    "***\n",
    "\n",
    "## Select Generic or Semitone Scale:\n",
    "\n",
    "- **Length of the Soggetto**: `into_patterns([vectors.semitone_intervals], 5)` \n",
    "\n",
    "- The **number** in this command represents the **minimum number of vectors to find**. 5 vectors is 6 notes.\n"
   ]
  },
  {
   "cell_type": "code",
   "execution_count": 6,
   "metadata": {},
   "outputs": [],
   "source": [
    "patterns = into_patterns([vectors.generic_intervals], 5)\n",
    "#patterns = into_patterns([vectors.semitone_intervals], 4)"
   ]
  },
  {
   "cell_type": "markdown",
   "metadata": {},
   "source": [
    "***\n",
    "\n",
    "## Select Exact Matches Here, or Close Below\n",
    "#### (Use comment feature to select screen preview or CSV output) \n",
    "\n",
    "- **Exact** is exact in *all* ways `find_exact_matches(patterns, 2)` \n",
    "- The **number** in this command represents the **minimum number of matching melodies needed before reporting**. This allows us to filter for common or uncommon soggetti."
   ]
  },
  {
   "cell_type": "code",
   "execution_count": 30,
   "metadata": {
    "tags": []
   },
   "outputs": [
    {
     "output_type": "stream",
     "name": "stdout",
     "text": [
      "Finding exact matches...\n",
      "41 melodic intervals had more than 3 exact matches.\n",
      "\n"
     ]
    },
    {
     "output_type": "execute_result",
     "data": {
      "text/plain": [
       "  pattern_generating_match      pattern_matched piece_title        part  \\\n",
       "0         (4, 1, 2, 2, -3)     [4, 1, 2, 2, -3]   Ave Maria  [Superius]   \n",
       "1         (4, 1, 2, 2, -3)     [4, 1, 2, 2, -3]   Ave Maria  [Superius]   \n",
       "2         (4, 1, 2, 2, -3)     [4, 1, 2, 2, -3]   Ave Maria       Altus   \n",
       "3         (4, 1, 2, 2, -3)     [4, 1, 2, 2, -3]   Ave Maria       Tenor   \n",
       "4         (4, 1, 2, 2, -3)     [4, 1, 2, 2, -3]   Ave Maria      Bassus   \n",
       "5      (-2, -2, -2, 2, -2)  [-2, -2, -2, 2, -2]   Ave Maria  [Superius]   \n",
       "6      (-2, -2, -2, 2, -2)  [-2, -2, -2, 2, -2]   Ave Maria       Altus   \n",
       "7      (-2, -2, -2, 2, -2)  [-2, -2, -2, 2, -2]   Ave Maria       Tenor   \n",
       "8      (-2, -2, -2, 2, -2)  [-2, -2, -2, 2, -2]   Ave Maria      Bassus   \n",
       "9         (1, 1, 2, 2, -3)     [1, 1, 2, 2, -3]   Ave Maria  [Superius]   \n",
       "\n",
       "   start_measure  start_beat  end_measure  end_beat  start_offset  end_offset  \\\n",
       "0              1         1.0            4       1.0           0.0        24.0   \n",
       "1            105         3.0          107       3.5         884.0       910.0   \n",
       "2              3         1.0            6       1.0          16.0        40.0   \n",
       "3              5         1.0            8       1.0          32.0        56.0   \n",
       "4              7         1.0           10       1.0          48.0        72.0   \n",
       "5              8         1.0           10       2.0          56.0        74.0   \n",
       "6             10         1.0           12       2.5          72.0        91.0   \n",
       "7             12         1.0           14       2.0          88.0       106.0   \n",
       "8            139         4.0          141       1.0        1174.0      1184.0   \n",
       "9             16         3.0           19       1.0         124.0       144.0   \n",
       "\n",
       "                   note_durations  \\\n",
       "0  [4.0, 8.0, 4.0, 4.0, 4.0, 8.0]   \n",
       "1  [4.0, 8.0, 4.0, 4.0, 6.0, 2.0]   \n",
       "2  [4.0, 8.0, 4.0, 4.0, 4.0, 8.0]   \n",
       "3  [4.0, 8.0, 4.0, 4.0, 4.0, 8.0]   \n",
       "4  [4.0, 8.0, 4.0, 4.0, 4.0, 8.0]   \n",
       "5  [6.0, 2.0, 4.0, 4.0, 2.0, 2.0]   \n",
       "6  [6.0, 2.0, 4.0, 4.0, 3.0, 1.0]   \n",
       "7  [6.0, 2.0, 4.0, 4.0, 2.0, 2.0]   \n",
       "8  [3.0, 1.0, 1.0, 1.0, 4.0, 8.0]   \n",
       "9  [6.0, 2.0, 4.0, 4.0, 4.0, 3.0]   \n",
       "\n",
       "                                                 ema  \\\n",
       "0    1-4/1/@1.0-end,@start-end,@start-end,@start-1.0   \n",
       "1           105-107/1/@3.0-end,@start-end,@start-3.5   \n",
       "2    3-6/2/@1.0-end,@start-end,@start-end,@start-1.0   \n",
       "3    5-8/3/@1.0-end,@start-end,@start-end,@start-1.0   \n",
       "4   7-10/4/@1.0-end,@start-end,@start-end,@start-1.0   \n",
       "5              8-10/1/@1.0-end,@start-end,@start-2.0   \n",
       "6             10-12/2/@1.0-end,@start-end,@start-2.5   \n",
       "7             12-14/3/@1.0-end,@start-end,@start-2.0   \n",
       "8           139-141/4/@4.0-end,@start-end,@start-1.0   \n",
       "9  16-19/1/@3.0-end,@start-end,@start-end,@start-1.0   \n",
       "\n",
       "                                             ema_url  sum_durs  \n",
       "0  https://ema.crimproject.org/https%3A%2F%2Fcrim...      32.0  \n",
       "1  https://ema.crimproject.org/https%3A%2F%2Fcrim...      28.0  \n",
       "2  https://ema.crimproject.org/https%3A%2F%2Fcrim...      32.0  \n",
       "3  https://ema.crimproject.org/https%3A%2F%2Fcrim...      32.0  \n",
       "4  https://ema.crimproject.org/https%3A%2F%2Fcrim...      32.0  \n",
       "5  https://ema.crimproject.org/https%3A%2F%2Fcrim...      20.0  \n",
       "6  https://ema.crimproject.org/https%3A%2F%2Fcrim...      20.0  \n",
       "7  https://ema.crimproject.org/https%3A%2F%2Fcrim...      20.0  \n",
       "8  https://ema.crimproject.org/https%3A%2F%2Fcrim...      18.0  \n",
       "9  https://ema.crimproject.org/https%3A%2F%2Fcrim...      23.0  "
      ],
      "text/html": "<div>\n<style scoped>\n    .dataframe tbody tr th:only-of-type {\n        vertical-align: middle;\n    }\n\n    .dataframe tbody tr th {\n        vertical-align: top;\n    }\n\n    .dataframe thead th {\n        text-align: right;\n    }\n</style>\n<table border=\"1\" class=\"dataframe\">\n  <thead>\n    <tr style=\"text-align: right;\">\n      <th></th>\n      <th>pattern_generating_match</th>\n      <th>pattern_matched</th>\n      <th>piece_title</th>\n      <th>part</th>\n      <th>start_measure</th>\n      <th>start_beat</th>\n      <th>end_measure</th>\n      <th>end_beat</th>\n      <th>start_offset</th>\n      <th>end_offset</th>\n      <th>note_durations</th>\n      <th>ema</th>\n      <th>ema_url</th>\n      <th>sum_durs</th>\n    </tr>\n  </thead>\n  <tbody>\n    <tr>\n      <th>0</th>\n      <td>(4, 1, 2, 2, -3)</td>\n      <td>[4, 1, 2, 2, -3]</td>\n      <td>Ave Maria</td>\n      <td>[Superius]</td>\n      <td>1</td>\n      <td>1.0</td>\n      <td>4</td>\n      <td>1.0</td>\n      <td>0.0</td>\n      <td>24.0</td>\n      <td>[4.0, 8.0, 4.0, 4.0, 4.0, 8.0]</td>\n      <td>1-4/1/@1.0-end,@start-end,@start-end,@start-1.0</td>\n      <td>https://ema.crimproject.org/https%3A%2F%2Fcrim...</td>\n      <td>32.0</td>\n    </tr>\n    <tr>\n      <th>1</th>\n      <td>(4, 1, 2, 2, -3)</td>\n      <td>[4, 1, 2, 2, -3]</td>\n      <td>Ave Maria</td>\n      <td>[Superius]</td>\n      <td>105</td>\n      <td>3.0</td>\n      <td>107</td>\n      <td>3.5</td>\n      <td>884.0</td>\n      <td>910.0</td>\n      <td>[4.0, 8.0, 4.0, 4.0, 6.0, 2.0]</td>\n      <td>105-107/1/@3.0-end,@start-end,@start-3.5</td>\n      <td>https://ema.crimproject.org/https%3A%2F%2Fcrim...</td>\n      <td>28.0</td>\n    </tr>\n    <tr>\n      <th>2</th>\n      <td>(4, 1, 2, 2, -3)</td>\n      <td>[4, 1, 2, 2, -3]</td>\n      <td>Ave Maria</td>\n      <td>Altus</td>\n      <td>3</td>\n      <td>1.0</td>\n      <td>6</td>\n      <td>1.0</td>\n      <td>16.0</td>\n      <td>40.0</td>\n      <td>[4.0, 8.0, 4.0, 4.0, 4.0, 8.0]</td>\n      <td>3-6/2/@1.0-end,@start-end,@start-end,@start-1.0</td>\n      <td>https://ema.crimproject.org/https%3A%2F%2Fcrim...</td>\n      <td>32.0</td>\n    </tr>\n    <tr>\n      <th>3</th>\n      <td>(4, 1, 2, 2, -3)</td>\n      <td>[4, 1, 2, 2, -3]</td>\n      <td>Ave Maria</td>\n      <td>Tenor</td>\n      <td>5</td>\n      <td>1.0</td>\n      <td>8</td>\n      <td>1.0</td>\n      <td>32.0</td>\n      <td>56.0</td>\n      <td>[4.0, 8.0, 4.0, 4.0, 4.0, 8.0]</td>\n      <td>5-8/3/@1.0-end,@start-end,@start-end,@start-1.0</td>\n      <td>https://ema.crimproject.org/https%3A%2F%2Fcrim...</td>\n      <td>32.0</td>\n    </tr>\n    <tr>\n      <th>4</th>\n      <td>(4, 1, 2, 2, -3)</td>\n      <td>[4, 1, 2, 2, -3]</td>\n      <td>Ave Maria</td>\n      <td>Bassus</td>\n      <td>7</td>\n      <td>1.0</td>\n      <td>10</td>\n      <td>1.0</td>\n      <td>48.0</td>\n      <td>72.0</td>\n      <td>[4.0, 8.0, 4.0, 4.0, 4.0, 8.0]</td>\n      <td>7-10/4/@1.0-end,@start-end,@start-end,@start-1.0</td>\n      <td>https://ema.crimproject.org/https%3A%2F%2Fcrim...</td>\n      <td>32.0</td>\n    </tr>\n    <tr>\n      <th>5</th>\n      <td>(-2, -2, -2, 2, -2)</td>\n      <td>[-2, -2, -2, 2, -2]</td>\n      <td>Ave Maria</td>\n      <td>[Superius]</td>\n      <td>8</td>\n      <td>1.0</td>\n      <td>10</td>\n      <td>2.0</td>\n      <td>56.0</td>\n      <td>74.0</td>\n      <td>[6.0, 2.0, 4.0, 4.0, 2.0, 2.0]</td>\n      <td>8-10/1/@1.0-end,@start-end,@start-2.0</td>\n      <td>https://ema.crimproject.org/https%3A%2F%2Fcrim...</td>\n      <td>20.0</td>\n    </tr>\n    <tr>\n      <th>6</th>\n      <td>(-2, -2, -2, 2, -2)</td>\n      <td>[-2, -2, -2, 2, -2]</td>\n      <td>Ave Maria</td>\n      <td>Altus</td>\n      <td>10</td>\n      <td>1.0</td>\n      <td>12</td>\n      <td>2.5</td>\n      <td>72.0</td>\n      <td>91.0</td>\n      <td>[6.0, 2.0, 4.0, 4.0, 3.0, 1.0]</td>\n      <td>10-12/2/@1.0-end,@start-end,@start-2.5</td>\n      <td>https://ema.crimproject.org/https%3A%2F%2Fcrim...</td>\n      <td>20.0</td>\n    </tr>\n    <tr>\n      <th>7</th>\n      <td>(-2, -2, -2, 2, -2)</td>\n      <td>[-2, -2, -2, 2, -2]</td>\n      <td>Ave Maria</td>\n      <td>Tenor</td>\n      <td>12</td>\n      <td>1.0</td>\n      <td>14</td>\n      <td>2.0</td>\n      <td>88.0</td>\n      <td>106.0</td>\n      <td>[6.0, 2.0, 4.0, 4.0, 2.0, 2.0]</td>\n      <td>12-14/3/@1.0-end,@start-end,@start-2.0</td>\n      <td>https://ema.crimproject.org/https%3A%2F%2Fcrim...</td>\n      <td>20.0</td>\n    </tr>\n    <tr>\n      <th>8</th>\n      <td>(-2, -2, -2, 2, -2)</td>\n      <td>[-2, -2, -2, 2, -2]</td>\n      <td>Ave Maria</td>\n      <td>Bassus</td>\n      <td>139</td>\n      <td>4.0</td>\n      <td>141</td>\n      <td>1.0</td>\n      <td>1174.0</td>\n      <td>1184.0</td>\n      <td>[3.0, 1.0, 1.0, 1.0, 4.0, 8.0]</td>\n      <td>139-141/4/@4.0-end,@start-end,@start-1.0</td>\n      <td>https://ema.crimproject.org/https%3A%2F%2Fcrim...</td>\n      <td>18.0</td>\n    </tr>\n    <tr>\n      <th>9</th>\n      <td>(1, 1, 2, 2, -3)</td>\n      <td>[1, 1, 2, 2, -3]</td>\n      <td>Ave Maria</td>\n      <td>[Superius]</td>\n      <td>16</td>\n      <td>3.0</td>\n      <td>19</td>\n      <td>1.0</td>\n      <td>124.0</td>\n      <td>144.0</td>\n      <td>[6.0, 2.0, 4.0, 4.0, 4.0, 3.0]</td>\n      <td>16-19/1/@3.0-end,@start-end,@start-end,@start-1.0</td>\n      <td>https://ema.crimproject.org/https%3A%2F%2Fcrim...</td>\n      <td>23.0</td>\n    </tr>\n  </tbody>\n</table>\n</div>"
     },
     "metadata": {},
     "execution_count": 30
    }
   ],
   "source": [
    "exact_matches = find_exact_matches(patterns, 3)\n",
    "# Use this for exact screen preview\n",
    "#for item in exact_matches:\n",
    "    #item.print_exact_matches()\n",
    "\n",
    "output_exact = export_pandas(exact_matches)\n",
    "pd.DataFrame(output_exact).head()\n",
    "output_exact[\"pattern_generating_match\"] = output_exact[\"pattern_generating_match\"].apply(tuple)\n",
    "output_exact[\"sum_durs\"] = output_exact[\"note_durations\"].apply(sum)\n",
    "output_exact.head()\n",
    "\n",
    "\n",
    "results = pd.DataFrame(output_exact)\n",
    "results[\"pattern_generating_match\"] = results[\"pattern_generating_match\"].apply(tuple)\n",
    "results.head(10)\n",
    "#export_to_csv(exact_matches)\n"
   ]
  },
  {
   "cell_type": "code",
   "execution_count": 8,
   "metadata": {},
   "outputs": [
    {
     "output_type": "execute_result",
     "data": {
      "text/plain": [
       "  pattern_generating_match      pattern_matched piece_title        part  \\\n",
       "0         (4, 1, 2, 2, -3)     [4, 1, 2, 2, -3]   Ave Maria  [Superius]   \n",
       "2         (4, 1, 2, 2, -3)     [4, 1, 2, 2, -3]   Ave Maria       Altus   \n",
       "3         (4, 1, 2, 2, -3)     [4, 1, 2, 2, -3]   Ave Maria       Tenor   \n",
       "4         (4, 1, 2, 2, -3)     [4, 1, 2, 2, -3]   Ave Maria      Bassus   \n",
       "5      (-2, -2, -2, 2, -2)  [-2, -2, -2, 2, -2]   Ave Maria  [Superius]   \n",
       "6      (-2, -2, -2, 2, -2)  [-2, -2, -2, 2, -2]   Ave Maria       Altus   \n",
       "7      (-2, -2, -2, 2, -2)  [-2, -2, -2, 2, -2]   Ave Maria       Tenor   \n",
       "\n",
       "   start_measure  start_beat  end_measure  end_beat  start_offset  end_offset  \\\n",
       "0              1         1.0            4       1.0           0.0        24.0   \n",
       "2              3         1.0            6       1.0          16.0        40.0   \n",
       "3              5         1.0            8       1.0          32.0        56.0   \n",
       "4              7         1.0           10       1.0          48.0        72.0   \n",
       "5              8         1.0           10       2.0          56.0        74.0   \n",
       "6             10         1.0           12       2.5          72.0        91.0   \n",
       "7             12         1.0           14       2.0          88.0       106.0   \n",
       "\n",
       "                   note_durations  \n",
       "0  [4.0, 8.0, 4.0, 4.0, 4.0, 8.0]  \n",
       "2  [4.0, 8.0, 4.0, 4.0, 4.0, 8.0]  \n",
       "3  [4.0, 8.0, 4.0, 4.0, 4.0, 8.0]  \n",
       "4  [4.0, 8.0, 4.0, 4.0, 4.0, 8.0]  \n",
       "5  [6.0, 2.0, 4.0, 4.0, 2.0, 2.0]  \n",
       "6  [6.0, 2.0, 4.0, 4.0, 3.0, 1.0]  \n",
       "7  [6.0, 2.0, 4.0, 4.0, 2.0, 2.0]  "
      ],
      "text/html": "<div>\n<style scoped>\n    .dataframe tbody tr th:only-of-type {\n        vertical-align: middle;\n    }\n\n    .dataframe tbody tr th {\n        vertical-align: top;\n    }\n\n    .dataframe thead th {\n        text-align: right;\n    }\n</style>\n<table border=\"1\" class=\"dataframe\">\n  <thead>\n    <tr style=\"text-align: right;\">\n      <th></th>\n      <th>pattern_generating_match</th>\n      <th>pattern_matched</th>\n      <th>piece_title</th>\n      <th>part</th>\n      <th>start_measure</th>\n      <th>start_beat</th>\n      <th>end_measure</th>\n      <th>end_beat</th>\n      <th>start_offset</th>\n      <th>end_offset</th>\n      <th>note_durations</th>\n    </tr>\n  </thead>\n  <tbody>\n    <tr>\n      <th>0</th>\n      <td>(4, 1, 2, 2, -3)</td>\n      <td>[4, 1, 2, 2, -3]</td>\n      <td>Ave Maria</td>\n      <td>[Superius]</td>\n      <td>1</td>\n      <td>1.0</td>\n      <td>4</td>\n      <td>1.0</td>\n      <td>0.0</td>\n      <td>24.0</td>\n      <td>[4.0, 8.0, 4.0, 4.0, 4.0, 8.0]</td>\n    </tr>\n    <tr>\n      <th>2</th>\n      <td>(4, 1, 2, 2, -3)</td>\n      <td>[4, 1, 2, 2, -3]</td>\n      <td>Ave Maria</td>\n      <td>Altus</td>\n      <td>3</td>\n      <td>1.0</td>\n      <td>6</td>\n      <td>1.0</td>\n      <td>16.0</td>\n      <td>40.0</td>\n      <td>[4.0, 8.0, 4.0, 4.0, 4.0, 8.0]</td>\n    </tr>\n    <tr>\n      <th>3</th>\n      <td>(4, 1, 2, 2, -3)</td>\n      <td>[4, 1, 2, 2, -3]</td>\n      <td>Ave Maria</td>\n      <td>Tenor</td>\n      <td>5</td>\n      <td>1.0</td>\n      <td>8</td>\n      <td>1.0</td>\n      <td>32.0</td>\n      <td>56.0</td>\n      <td>[4.0, 8.0, 4.0, 4.0, 4.0, 8.0]</td>\n    </tr>\n    <tr>\n      <th>4</th>\n      <td>(4, 1, 2, 2, -3)</td>\n      <td>[4, 1, 2, 2, -3]</td>\n      <td>Ave Maria</td>\n      <td>Bassus</td>\n      <td>7</td>\n      <td>1.0</td>\n      <td>10</td>\n      <td>1.0</td>\n      <td>48.0</td>\n      <td>72.0</td>\n      <td>[4.0, 8.0, 4.0, 4.0, 4.0, 8.0]</td>\n    </tr>\n    <tr>\n      <th>5</th>\n      <td>(-2, -2, -2, 2, -2)</td>\n      <td>[-2, -2, -2, 2, -2]</td>\n      <td>Ave Maria</td>\n      <td>[Superius]</td>\n      <td>8</td>\n      <td>1.0</td>\n      <td>10</td>\n      <td>2.0</td>\n      <td>56.0</td>\n      <td>74.0</td>\n      <td>[6.0, 2.0, 4.0, 4.0, 2.0, 2.0]</td>\n    </tr>\n    <tr>\n      <th>6</th>\n      <td>(-2, -2, -2, 2, -2)</td>\n      <td>[-2, -2, -2, 2, -2]</td>\n      <td>Ave Maria</td>\n      <td>Altus</td>\n      <td>10</td>\n      <td>1.0</td>\n      <td>12</td>\n      <td>2.5</td>\n      <td>72.0</td>\n      <td>91.0</td>\n      <td>[6.0, 2.0, 4.0, 4.0, 3.0, 1.0]</td>\n    </tr>\n    <tr>\n      <th>7</th>\n      <td>(-2, -2, -2, 2, -2)</td>\n      <td>[-2, -2, -2, 2, -2]</td>\n      <td>Ave Maria</td>\n      <td>Tenor</td>\n      <td>12</td>\n      <td>1.0</td>\n      <td>14</td>\n      <td>2.0</td>\n      <td>88.0</td>\n      <td>106.0</td>\n      <td>[6.0, 2.0, 4.0, 4.0, 2.0, 2.0]</td>\n    </tr>\n  </tbody>\n</table>\n</div>"
     },
     "metadata": {},
     "execution_count": 8
    }
   ],
   "source": [
    "# compact and sorted by offset\n",
    "output_exact_compact = output_exact.drop(columns=[\"ema\", \"ema_url\"])\n",
    "output_exact_compact = output_exact_compact.sort_values(\"start_offset\")\n",
    "\n",
    "output_exact_compact.head(7)\n"
   ]
  },
  {
   "source": [
    "### A Quick Overview of the Results"
   ],
   "cell_type": "markdown",
   "metadata": {}
  },
  {
   "cell_type": "code",
   "execution_count": 9,
   "metadata": {},
   "outputs": [
    {
     "output_type": "execute_result",
     "data": {
      "text/plain": [
       "'There are 41 unique soggetti and 219 total matches in this search'"
      ]
     },
     "metadata": {},
     "execution_count": 9
    }
   ],
   "source": [
    "total_matches = len(output_exact)\n",
    "unique_sogetti = output_exact.pattern_generating_match.apply(str).nunique()\n",
    "summary = 'There are {} unique soggetti and {} total matches in this search'.format(unique_sogetti, total_matches)\n",
    "summary"
   ]
  },
  {
   "cell_type": "markdown",
   "metadata": {},
   "source": [
    "### Group by the Pattern Generating Match and Check Distribution of Results\n",
    "\n",
    "- Report Top Ten and Bottom Ten Results)"
   ]
  },
  {
   "cell_type": "code",
   "execution_count": 10,
   "metadata": {},
   "outputs": [
    {
     "output_type": "execute_result",
     "data": {
      "text/plain": [
       "                           0\n",
       "pattern_generating_match    \n",
       "(1, 2, -2, -2, -2)        13\n",
       "(2, -2, -2, -2, -2)       11\n",
       "(1, 1, 2, -2, -2)          9\n",
       "(-3, 2, -2, -2, -2)        8\n",
       "(-2, -2, -2, 2, 2)         8\n",
       "(2, -3, 2, -2, -2)         8\n",
       "(-2, -2, -2, -2, 2)        7\n",
       "(2, -3, 2, -3, 2)          7\n",
       "(2, 2, 2, -3, 2)           6\n",
       "(2, 2, 1, 2, -2)           6"
      ],
      "text/html": "<div>\n<style scoped>\n    .dataframe tbody tr th:only-of-type {\n        vertical-align: middle;\n    }\n\n    .dataframe tbody tr th {\n        vertical-align: top;\n    }\n\n    .dataframe thead th {\n        text-align: right;\n    }\n</style>\n<table border=\"1\" class=\"dataframe\">\n  <thead>\n    <tr style=\"text-align: right;\">\n      <th></th>\n      <th>0</th>\n    </tr>\n    <tr>\n      <th>pattern_generating_match</th>\n      <th></th>\n    </tr>\n  </thead>\n  <tbody>\n    <tr>\n      <th>(1, 2, -2, -2, -2)</th>\n      <td>13</td>\n    </tr>\n    <tr>\n      <th>(2, -2, -2, -2, -2)</th>\n      <td>11</td>\n    </tr>\n    <tr>\n      <th>(1, 1, 2, -2, -2)</th>\n      <td>9</td>\n    </tr>\n    <tr>\n      <th>(-3, 2, -2, -2, -2)</th>\n      <td>8</td>\n    </tr>\n    <tr>\n      <th>(-2, -2, -2, 2, 2)</th>\n      <td>8</td>\n    </tr>\n    <tr>\n      <th>(2, -3, 2, -2, -2)</th>\n      <td>8</td>\n    </tr>\n    <tr>\n      <th>(-2, -2, -2, -2, 2)</th>\n      <td>7</td>\n    </tr>\n    <tr>\n      <th>(2, -3, 2, -3, 2)</th>\n      <td>7</td>\n    </tr>\n    <tr>\n      <th>(2, 2, 2, -3, 2)</th>\n      <td>6</td>\n    </tr>\n    <tr>\n      <th>(2, 2, 1, 2, -2)</th>\n      <td>6</td>\n    </tr>\n  </tbody>\n</table>\n</div>"
     },
     "metadata": {},
     "execution_count": 10
    }
   ],
   "source": [
    "pattern_inventory = pd.DataFrame(output_exact.groupby(\"pattern_generating_match\").size().sort_values(ascending=False)[:10])\n",
    "pattern_inventory"
   ]
  },
  {
   "cell_type": "code",
   "execution_count": 11,
   "metadata": {},
   "outputs": [
    {
     "output_type": "execute_result",
     "data": {
      "text/plain": [
       "                          0\n",
       "pattern_generating_match   \n",
       "(-3, 2, -3, 2, -2)        4\n",
       "(3, -2, -2, -2, -2)       4\n",
       "(2, 2, -2, -2, -2)        4\n",
       "(2, 1, 2, 1, -3)          4\n",
       "(2, 1, 2, -2, -2)         4\n",
       "(2, -2, 2, -3, 2)         4\n",
       "(2, -2, -2, -2, 2)        4\n",
       "(2, -2, -2, -2, 1)        4\n",
       "(2, -3, -2, -2, 1)        4\n",
       "(4, -2, 2, 2, -3)         4"
      ],
      "text/html": "<div>\n<style scoped>\n    .dataframe tbody tr th:only-of-type {\n        vertical-align: middle;\n    }\n\n    .dataframe tbody tr th {\n        vertical-align: top;\n    }\n\n    .dataframe thead th {\n        text-align: right;\n    }\n</style>\n<table border=\"1\" class=\"dataframe\">\n  <thead>\n    <tr style=\"text-align: right;\">\n      <th></th>\n      <th>0</th>\n    </tr>\n    <tr>\n      <th>pattern_generating_match</th>\n      <th></th>\n    </tr>\n  </thead>\n  <tbody>\n    <tr>\n      <th>(-3, 2, -3, 2, -2)</th>\n      <td>4</td>\n    </tr>\n    <tr>\n      <th>(3, -2, -2, -2, -2)</th>\n      <td>4</td>\n    </tr>\n    <tr>\n      <th>(2, 2, -2, -2, -2)</th>\n      <td>4</td>\n    </tr>\n    <tr>\n      <th>(2, 1, 2, 1, -3)</th>\n      <td>4</td>\n    </tr>\n    <tr>\n      <th>(2, 1, 2, -2, -2)</th>\n      <td>4</td>\n    </tr>\n    <tr>\n      <th>(2, -2, 2, -3, 2)</th>\n      <td>4</td>\n    </tr>\n    <tr>\n      <th>(2, -2, -2, -2, 2)</th>\n      <td>4</td>\n    </tr>\n    <tr>\n      <th>(2, -2, -2, -2, 1)</th>\n      <td>4</td>\n    </tr>\n    <tr>\n      <th>(2, -3, -2, -2, 1)</th>\n      <td>4</td>\n    </tr>\n    <tr>\n      <th>(4, -2, 2, 2, -3)</th>\n      <td>4</td>\n    </tr>\n  </tbody>\n</table>\n</div>"
     },
     "metadata": {},
     "execution_count": 11
    }
   ],
   "source": [
    "pattern_inventory = pd.DataFrame(output_exact.groupby(\"pattern_generating_match\").size().sort_values(ascending=True)[:10])\n",
    "pattern_inventory"
   ]
  },
  {
   "cell_type": "markdown",
   "metadata": {},
   "source": [
    "***\n",
    "\n",
    "## Select Close Matches Here\n",
    "#### (Comment out the 'for item iteration' in order to skip screen preview)\n",
    "\n",
    "- **Close** matches allow for melodic variation (see more below). `find_close_matches(patterns, 2, 1)`\n",
    "- The **first number** in this command is the **minimum number of melodies** needed before reporting\n",
    "- The **second number** is **threshold of similarity** needed in order to find a match. \n",
    "- Lower number = very similar; higher number = less similar\n",
    "\n",
    "##### More about Close Matches  \n",
    "- The **threshold for close matches** is determined by the **second number** called in the method. \n",
    "- We select two patterns, then compare *each vector in each pattern successively*. \n",
    "- The *differences between each vector are summed*. \n",
    "- If that value is **below the threshold specified**, we consider the **two patterns closely matched**.\n",
    "- The format of the method call is  `find_close_matches(the array you get from into_patterns, minimum matches needed to be displayed, threshold for close match)`."
   ]
  },
  {
   "cell_type": "code",
   "execution_count": 12,
   "metadata": {
    "tags": []
   },
   "outputs": [
    {
     "output_type": "stream",
     "name": "stdout",
     "text": [
      "Finding close matches...\n",
      "202 melodic intervals had more than 1 exact or close matches.\n",
      "\n"
     ]
    },
    {
     "output_type": "execute_result",
     "data": {
      "text/plain": [
       "  pattern_generating_match   pattern_matched piece_title        part  \\\n",
       "0         (4, 1, 2, 2, -3)  [4, 1, 2, 2, -3]   Ave Maria  [Superius]   \n",
       "1         (4, 1, 2, 2, -3)  [4, 1, 2, 2, -3]   Ave Maria  [Superius]   \n",
       "2         (4, 1, 2, 2, -3)  [4, 1, 2, 2, -3]   Ave Maria       Altus   \n",
       "3         (4, 1, 2, 2, -3)  [4, 1, 2, 2, -3]   Ave Maria       Tenor   \n",
       "4         (4, 1, 2, 2, -3)  [4, 1, 2, 2, -3]   Ave Maria      Bassus   \n",
       "\n",
       "   start_measure  start_beat  end_measure  end_beat  start_offset  end_offset  \\\n",
       "0              1         1.0            4       1.0           0.0        24.0   \n",
       "1            105         3.0          107       3.5         884.0       910.0   \n",
       "2              3         1.0            6       1.0          16.0        40.0   \n",
       "3              5         1.0            8       1.0          32.0        56.0   \n",
       "4              7         1.0           10       1.0          48.0        72.0   \n",
       "\n",
       "                   note_durations  \\\n",
       "0  [4.0, 8.0, 4.0, 4.0, 4.0, 8.0]   \n",
       "1  [4.0, 8.0, 4.0, 4.0, 6.0, 2.0]   \n",
       "2  [4.0, 8.0, 4.0, 4.0, 4.0, 8.0]   \n",
       "3  [4.0, 8.0, 4.0, 4.0, 4.0, 8.0]   \n",
       "4  [4.0, 8.0, 4.0, 4.0, 4.0, 8.0]   \n",
       "\n",
       "                                                ema  \\\n",
       "0   1-4/1/@1.0-end,@start-end,@start-end,@start-1.0   \n",
       "1          105-107/1/@3.0-end,@start-end,@start-3.5   \n",
       "2   3-6/2/@1.0-end,@start-end,@start-end,@start-1.0   \n",
       "3   5-8/3/@1.0-end,@start-end,@start-end,@start-1.0   \n",
       "4  7-10/4/@1.0-end,@start-end,@start-end,@start-1.0   \n",
       "\n",
       "                                             ema_url  \n",
       "0  https://ema.crimproject.org/https%3A%2F%2Fcrim...  \n",
       "1  https://ema.crimproject.org/https%3A%2F%2Fcrim...  \n",
       "2  https://ema.crimproject.org/https%3A%2F%2Fcrim...  \n",
       "3  https://ema.crimproject.org/https%3A%2F%2Fcrim...  \n",
       "4  https://ema.crimproject.org/https%3A%2F%2Fcrim...  "
      ],
      "text/html": "<div>\n<style scoped>\n    .dataframe tbody tr th:only-of-type {\n        vertical-align: middle;\n    }\n\n    .dataframe tbody tr th {\n        vertical-align: top;\n    }\n\n    .dataframe thead th {\n        text-align: right;\n    }\n</style>\n<table border=\"1\" class=\"dataframe\">\n  <thead>\n    <tr style=\"text-align: right;\">\n      <th></th>\n      <th>pattern_generating_match</th>\n      <th>pattern_matched</th>\n      <th>piece_title</th>\n      <th>part</th>\n      <th>start_measure</th>\n      <th>start_beat</th>\n      <th>end_measure</th>\n      <th>end_beat</th>\n      <th>start_offset</th>\n      <th>end_offset</th>\n      <th>note_durations</th>\n      <th>ema</th>\n      <th>ema_url</th>\n    </tr>\n  </thead>\n  <tbody>\n    <tr>\n      <th>0</th>\n      <td>(4, 1, 2, 2, -3)</td>\n      <td>[4, 1, 2, 2, -3]</td>\n      <td>Ave Maria</td>\n      <td>[Superius]</td>\n      <td>1</td>\n      <td>1.0</td>\n      <td>4</td>\n      <td>1.0</td>\n      <td>0.0</td>\n      <td>24.0</td>\n      <td>[4.0, 8.0, 4.0, 4.0, 4.0, 8.0]</td>\n      <td>1-4/1/@1.0-end,@start-end,@start-end,@start-1.0</td>\n      <td>https://ema.crimproject.org/https%3A%2F%2Fcrim...</td>\n    </tr>\n    <tr>\n      <th>1</th>\n      <td>(4, 1, 2, 2, -3)</td>\n      <td>[4, 1, 2, 2, -3]</td>\n      <td>Ave Maria</td>\n      <td>[Superius]</td>\n      <td>105</td>\n      <td>3.0</td>\n      <td>107</td>\n      <td>3.5</td>\n      <td>884.0</td>\n      <td>910.0</td>\n      <td>[4.0, 8.0, 4.0, 4.0, 6.0, 2.0]</td>\n      <td>105-107/1/@3.0-end,@start-end,@start-3.5</td>\n      <td>https://ema.crimproject.org/https%3A%2F%2Fcrim...</td>\n    </tr>\n    <tr>\n      <th>2</th>\n      <td>(4, 1, 2, 2, -3)</td>\n      <td>[4, 1, 2, 2, -3]</td>\n      <td>Ave Maria</td>\n      <td>Altus</td>\n      <td>3</td>\n      <td>1.0</td>\n      <td>6</td>\n      <td>1.0</td>\n      <td>16.0</td>\n      <td>40.0</td>\n      <td>[4.0, 8.0, 4.0, 4.0, 4.0, 8.0]</td>\n      <td>3-6/2/@1.0-end,@start-end,@start-end,@start-1.0</td>\n      <td>https://ema.crimproject.org/https%3A%2F%2Fcrim...</td>\n    </tr>\n    <tr>\n      <th>3</th>\n      <td>(4, 1, 2, 2, -3)</td>\n      <td>[4, 1, 2, 2, -3]</td>\n      <td>Ave Maria</td>\n      <td>Tenor</td>\n      <td>5</td>\n      <td>1.0</td>\n      <td>8</td>\n      <td>1.0</td>\n      <td>32.0</td>\n      <td>56.0</td>\n      <td>[4.0, 8.0, 4.0, 4.0, 4.0, 8.0]</td>\n      <td>5-8/3/@1.0-end,@start-end,@start-end,@start-1.0</td>\n      <td>https://ema.crimproject.org/https%3A%2F%2Fcrim...</td>\n    </tr>\n    <tr>\n      <th>4</th>\n      <td>(4, 1, 2, 2, -3)</td>\n      <td>[4, 1, 2, 2, -3]</td>\n      <td>Ave Maria</td>\n      <td>Bassus</td>\n      <td>7</td>\n      <td>1.0</td>\n      <td>10</td>\n      <td>1.0</td>\n      <td>48.0</td>\n      <td>72.0</td>\n      <td>[4.0, 8.0, 4.0, 4.0, 4.0, 8.0]</td>\n      <td>7-10/4/@1.0-end,@start-end,@start-end,@start-1.0</td>\n      <td>https://ema.crimproject.org/https%3A%2F%2Fcrim...</td>\n    </tr>\n  </tbody>\n</table>\n</div>"
     },
     "metadata": {},
     "execution_count": 12
    }
   ],
   "source": [
    "close_matches = find_close_matches(patterns, 1, 1)\n",
    "#for item in close_matches:\n",
    "   #item.print_close_matches()\n",
    "    #return pd.DataFrame(close_matches)\n",
    "\n",
    "output_close = export_pandas(close_matches)\n",
    "output_close[\"pattern_generating_match\"] = output_close[\"pattern_generating_match\"].apply(tuple)\n",
    "# output_close[\"sum_durs\"] = output_close[\"note_durations\"].apply(sum)\n",
    "\n",
    "output_close.head()\n",
    "\n",
    "# results = pd.DataFrame(output_close)\n",
    "# results[\"pattern_generating_match\"] = results[\"pattern_generating_match\"].apply(tuple)\n",
    "# results.head()\n",
    "#export_to_csv(close_matches)"
   ]
  },
  {
   "cell_type": "code",
   "execution_count": 13,
   "metadata": {},
   "outputs": [
    {
     "output_type": "execute_result",
     "data": {
      "text/plain": [
       "     pattern_generating_match      pattern_matched piece_title        part  \\\n",
       "0            (4, 1, 2, 2, -3)     [4, 1, 2, 2, -3]   Ave Maria  [Superius]   \n",
       "2            (4, 1, 2, 2, -3)     [4, 1, 2, 2, -3]   Ave Maria       Altus   \n",
       "3            (4, 1, 2, 2, -3)     [4, 1, 2, 2, -3]   Ave Maria       Tenor   \n",
       "4            (4, 1, 2, 2, -3)     [4, 1, 2, 2, -3]   Ave Maria      Bassus   \n",
       "5         (-2, -2, -2, 2, -2)  [-2, -2, -2, 2, -2]   Ave Maria  [Superius]   \n",
       "900       (-2, -2, -2, 2, -3)  [-2, -2, -2, 2, -2]   Ave Maria  [Superius]   \n",
       "1032      (-2, -2, -2, 3, -2)  [-2, -2, -2, 2, -2]   Ave Maria  [Superius]   \n",
       "\n",
       "      start_measure  start_beat  end_measure  end_beat  start_offset  \\\n",
       "0                 1         1.0            4       1.0           0.0   \n",
       "2                 3         1.0            6       1.0          16.0   \n",
       "3                 5         1.0            8       1.0          32.0   \n",
       "4                 7         1.0           10       1.0          48.0   \n",
       "5                 8         1.0           10       2.0          56.0   \n",
       "900               8         1.0           10       2.0          56.0   \n",
       "1032              8         1.0           10       2.0          56.0   \n",
       "\n",
       "      end_offset                  note_durations  \n",
       "0           24.0  [4.0, 8.0, 4.0, 4.0, 4.0, 8.0]  \n",
       "2           40.0  [4.0, 8.0, 4.0, 4.0, 4.0, 8.0]  \n",
       "3           56.0  [4.0, 8.0, 4.0, 4.0, 4.0, 8.0]  \n",
       "4           72.0  [4.0, 8.0, 4.0, 4.0, 4.0, 8.0]  \n",
       "5           74.0  [6.0, 2.0, 4.0, 4.0, 2.0, 2.0]  \n",
       "900         74.0  [6.0, 2.0, 4.0, 4.0, 2.0, 2.0]  \n",
       "1032        74.0  [6.0, 2.0, 4.0, 4.0, 2.0, 2.0]  "
      ],
      "text/html": "<div>\n<style scoped>\n    .dataframe tbody tr th:only-of-type {\n        vertical-align: middle;\n    }\n\n    .dataframe tbody tr th {\n        vertical-align: top;\n    }\n\n    .dataframe thead th {\n        text-align: right;\n    }\n</style>\n<table border=\"1\" class=\"dataframe\">\n  <thead>\n    <tr style=\"text-align: right;\">\n      <th></th>\n      <th>pattern_generating_match</th>\n      <th>pattern_matched</th>\n      <th>piece_title</th>\n      <th>part</th>\n      <th>start_measure</th>\n      <th>start_beat</th>\n      <th>end_measure</th>\n      <th>end_beat</th>\n      <th>start_offset</th>\n      <th>end_offset</th>\n      <th>note_durations</th>\n    </tr>\n  </thead>\n  <tbody>\n    <tr>\n      <th>0</th>\n      <td>(4, 1, 2, 2, -3)</td>\n      <td>[4, 1, 2, 2, -3]</td>\n      <td>Ave Maria</td>\n      <td>[Superius]</td>\n      <td>1</td>\n      <td>1.0</td>\n      <td>4</td>\n      <td>1.0</td>\n      <td>0.0</td>\n      <td>24.0</td>\n      <td>[4.0, 8.0, 4.0, 4.0, 4.0, 8.0]</td>\n    </tr>\n    <tr>\n      <th>2</th>\n      <td>(4, 1, 2, 2, -3)</td>\n      <td>[4, 1, 2, 2, -3]</td>\n      <td>Ave Maria</td>\n      <td>Altus</td>\n      <td>3</td>\n      <td>1.0</td>\n      <td>6</td>\n      <td>1.0</td>\n      <td>16.0</td>\n      <td>40.0</td>\n      <td>[4.0, 8.0, 4.0, 4.0, 4.0, 8.0]</td>\n    </tr>\n    <tr>\n      <th>3</th>\n      <td>(4, 1, 2, 2, -3)</td>\n      <td>[4, 1, 2, 2, -3]</td>\n      <td>Ave Maria</td>\n      <td>Tenor</td>\n      <td>5</td>\n      <td>1.0</td>\n      <td>8</td>\n      <td>1.0</td>\n      <td>32.0</td>\n      <td>56.0</td>\n      <td>[4.0, 8.0, 4.0, 4.0, 4.0, 8.0]</td>\n    </tr>\n    <tr>\n      <th>4</th>\n      <td>(4, 1, 2, 2, -3)</td>\n      <td>[4, 1, 2, 2, -3]</td>\n      <td>Ave Maria</td>\n      <td>Bassus</td>\n      <td>7</td>\n      <td>1.0</td>\n      <td>10</td>\n      <td>1.0</td>\n      <td>48.0</td>\n      <td>72.0</td>\n      <td>[4.0, 8.0, 4.0, 4.0, 4.0, 8.0]</td>\n    </tr>\n    <tr>\n      <th>5</th>\n      <td>(-2, -2, -2, 2, -2)</td>\n      <td>[-2, -2, -2, 2, -2]</td>\n      <td>Ave Maria</td>\n      <td>[Superius]</td>\n      <td>8</td>\n      <td>1.0</td>\n      <td>10</td>\n      <td>2.0</td>\n      <td>56.0</td>\n      <td>74.0</td>\n      <td>[6.0, 2.0, 4.0, 4.0, 2.0, 2.0]</td>\n    </tr>\n    <tr>\n      <th>900</th>\n      <td>(-2, -2, -2, 2, -3)</td>\n      <td>[-2, -2, -2, 2, -2]</td>\n      <td>Ave Maria</td>\n      <td>[Superius]</td>\n      <td>8</td>\n      <td>1.0</td>\n      <td>10</td>\n      <td>2.0</td>\n      <td>56.0</td>\n      <td>74.0</td>\n      <td>[6.0, 2.0, 4.0, 4.0, 2.0, 2.0]</td>\n    </tr>\n    <tr>\n      <th>1032</th>\n      <td>(-2, -2, -2, 3, -2)</td>\n      <td>[-2, -2, -2, 2, -2]</td>\n      <td>Ave Maria</td>\n      <td>[Superius]</td>\n      <td>8</td>\n      <td>1.0</td>\n      <td>10</td>\n      <td>2.0</td>\n      <td>56.0</td>\n      <td>74.0</td>\n      <td>[6.0, 2.0, 4.0, 4.0, 2.0, 2.0]</td>\n    </tr>\n  </tbody>\n</table>\n</div>"
     },
     "metadata": {},
     "execution_count": 13
    }
   ],
   "source": [
    "output_close_compact = output_close.drop(columns=[\"ema\", \"ema_url\"])\n",
    "output_close_compact = output_close_compact.sort_values(\"start_offset\")\n",
    "\n",
    "output_close_compact.head(7)"
   ]
  },
  {
   "source": [
    "### How Many Unique Soggetti?  How many instances?"
   ],
   "cell_type": "markdown",
   "metadata": {}
  },
  {
   "cell_type": "code",
   "execution_count": 14,
   "metadata": {},
   "outputs": [
    {
     "output_type": "execute_result",
     "data": {
      "text/plain": [
       "'There are 202 unique soggetti and 1096 total matches in this search'"
      ]
     },
     "metadata": {},
     "execution_count": 14
    }
   ],
   "source": [
    "total_matches = len(output_close)\n",
    "unique_sogetti = output_close.pattern_generating_match.apply(str).nunique()\n",
    "summary = 'There are {} unique soggetti and {} total matches in this search'.format(unique_sogetti, total_matches)\n",
    "summary"
   ]
  },
  {
   "cell_type": "markdown",
   "metadata": {},
   "source": [
    "### Top and Bottom Ten Soggetti\n",
    "\n",
    "\n"
   ]
  },
  {
   "cell_type": "code",
   "execution_count": 15,
   "metadata": {},
   "outputs": [
    {
     "output_type": "execute_result",
     "data": {
      "text/plain": [
       "                           0\n",
       "pattern_generating_match    \n",
       "(2, 2, -2, -2, -2)        23\n",
       "(1, 2, -2, -2, -2)        21\n",
       "(2, -2, -2, -2, -2)       20\n",
       "(1, 3, -2, -2, -2)        19\n",
       "(3, -2, -2, -2, -2)       17\n",
       "(-2, -2, -2, -2, 2)       15\n",
       "(-2, -2, -2, 2, 2)        14\n",
       "(2, 1, 2, -2, -2)         14\n",
       "(1, -2, -2, -2, -2)       14\n",
       "(2, -3, 2, -3, 2)         14"
      ],
      "text/html": "<div>\n<style scoped>\n    .dataframe tbody tr th:only-of-type {\n        vertical-align: middle;\n    }\n\n    .dataframe tbody tr th {\n        vertical-align: top;\n    }\n\n    .dataframe thead th {\n        text-align: right;\n    }\n</style>\n<table border=\"1\" class=\"dataframe\">\n  <thead>\n    <tr style=\"text-align: right;\">\n      <th></th>\n      <th>0</th>\n    </tr>\n    <tr>\n      <th>pattern_generating_match</th>\n      <th></th>\n    </tr>\n  </thead>\n  <tbody>\n    <tr>\n      <th>(2, 2, -2, -2, -2)</th>\n      <td>23</td>\n    </tr>\n    <tr>\n      <th>(1, 2, -2, -2, -2)</th>\n      <td>21</td>\n    </tr>\n    <tr>\n      <th>(2, -2, -2, -2, -2)</th>\n      <td>20</td>\n    </tr>\n    <tr>\n      <th>(1, 3, -2, -2, -2)</th>\n      <td>19</td>\n    </tr>\n    <tr>\n      <th>(3, -2, -2, -2, -2)</th>\n      <td>17</td>\n    </tr>\n    <tr>\n      <th>(-2, -2, -2, -2, 2)</th>\n      <td>15</td>\n    </tr>\n    <tr>\n      <th>(-2, -2, -2, 2, 2)</th>\n      <td>14</td>\n    </tr>\n    <tr>\n      <th>(2, 1, 2, -2, -2)</th>\n      <td>14</td>\n    </tr>\n    <tr>\n      <th>(1, -2, -2, -2, -2)</th>\n      <td>14</td>\n    </tr>\n    <tr>\n      <th>(2, -3, 2, -3, 2)</th>\n      <td>14</td>\n    </tr>\n  </tbody>\n</table>\n</div>"
     },
     "metadata": {},
     "execution_count": 15
    }
   ],
   "source": [
    "pattern_inventory = pd.DataFrame(output_close.groupby(\"pattern_generating_match\").size().sort_values(ascending=False)[:10])\n",
    "pattern_inventory"
   ]
  },
  {
   "cell_type": "code",
   "execution_count": 16,
   "metadata": {},
   "outputs": [
    {
     "output_type": "execute_result",
     "data": {
      "text/plain": [
       "                          0\n",
       "pattern_generating_match   \n",
       "(-5, 1, 2, 1, -5)         2\n",
       "(1, 1, -5, 1, 2)          2\n",
       "(1, -2, 3, -2, -2)        2\n",
       "(1, -2, 2, -2, -2)        2\n",
       "(1, -2, -2, 5, -2)        2\n",
       "(1, -2, -2, -3, 5)        2\n",
       "(1, -3, 1, 4, 1)          2\n",
       "(1, -3, 1, 2, -4)         2\n",
       "(1, -5, 1, 2, 1)          2\n",
       "(-2, 8, -3, -2, -2)       2"
      ],
      "text/html": "<div>\n<style scoped>\n    .dataframe tbody tr th:only-of-type {\n        vertical-align: middle;\n    }\n\n    .dataframe tbody tr th {\n        vertical-align: top;\n    }\n\n    .dataframe thead th {\n        text-align: right;\n    }\n</style>\n<table border=\"1\" class=\"dataframe\">\n  <thead>\n    <tr style=\"text-align: right;\">\n      <th></th>\n      <th>0</th>\n    </tr>\n    <tr>\n      <th>pattern_generating_match</th>\n      <th></th>\n    </tr>\n  </thead>\n  <tbody>\n    <tr>\n      <th>(-5, 1, 2, 1, -5)</th>\n      <td>2</td>\n    </tr>\n    <tr>\n      <th>(1, 1, -5, 1, 2)</th>\n      <td>2</td>\n    </tr>\n    <tr>\n      <th>(1, -2, 3, -2, -2)</th>\n      <td>2</td>\n    </tr>\n    <tr>\n      <th>(1, -2, 2, -2, -2)</th>\n      <td>2</td>\n    </tr>\n    <tr>\n      <th>(1, -2, -2, 5, -2)</th>\n      <td>2</td>\n    </tr>\n    <tr>\n      <th>(1, -2, -2, -3, 5)</th>\n      <td>2</td>\n    </tr>\n    <tr>\n      <th>(1, -3, 1, 4, 1)</th>\n      <td>2</td>\n    </tr>\n    <tr>\n      <th>(1, -3, 1, 2, -4)</th>\n      <td>2</td>\n    </tr>\n    <tr>\n      <th>(1, -5, 1, 2, 1)</th>\n      <td>2</td>\n    </tr>\n    <tr>\n      <th>(-2, 8, -3, -2, -2)</th>\n      <td>2</td>\n    </tr>\n  </tbody>\n</table>\n</div>"
     },
     "metadata": {},
     "execution_count": 16
    }
   ],
   "source": [
    "pattern_inventory = pd.DataFrame(output_close.groupby(\"pattern_generating_match\").size().sort_values(ascending=True)[:10])\n",
    "pattern_inventory\n"
   ]
  },
  {
   "source": [
    "### Grouping the Melodic Matches (No Durational Filter)\n",
    "\n",
    "- This shows us the number of each soggetto"
   ],
   "cell_type": "markdown",
   "metadata": {}
  },
  {
   "cell_type": "code",
   "execution_count": 17,
   "metadata": {},
   "outputs": [
    {
     "output_type": "execute_result",
     "data": {
      "text/plain": [
       "                                                         0\n",
       "pattern_generating_match note_durations                   \n",
       "(-3, 2, -3, 2, -2)       (4.0, 4.0, 4.0, 4.0, 3.0, 1.0)  4\n",
       "(-3, 2, -2, -2, -2)      (2.0, 2.0, 3.0, 1.0, 1.0, 1.0)  2\n",
       "                         (4.0, 2.0, 4.0, 2.0, 4.0, 8.0)  2\n",
       "                         (4.0, 4.0, 3.0, 1.0, 4.0, 3.0)  1\n",
       "                         (4.0, 4.0, 3.0, 1.0, 4.0, 4.0)  2"
      ],
      "text/html": "<div>\n<style scoped>\n    .dataframe tbody tr th:only-of-type {\n        vertical-align: middle;\n    }\n\n    .dataframe tbody tr th {\n        vertical-align: top;\n    }\n\n    .dataframe thead th {\n        text-align: right;\n    }\n</style>\n<table border=\"1\" class=\"dataframe\">\n  <thead>\n    <tr style=\"text-align: right;\">\n      <th></th>\n      <th></th>\n      <th>0</th>\n    </tr>\n    <tr>\n      <th>pattern_generating_match</th>\n      <th>note_durations</th>\n      <th></th>\n    </tr>\n  </thead>\n  <tbody>\n    <tr>\n      <th>(-3, 2, -3, 2, -2)</th>\n      <th>(4.0, 4.0, 4.0, 4.0, 3.0, 1.0)</th>\n      <td>4</td>\n    </tr>\n    <tr>\n      <th rowspan=\"4\" valign=\"top\">(-3, 2, -2, -2, -2)</th>\n      <th>(2.0, 2.0, 3.0, 1.0, 1.0, 1.0)</th>\n      <td>2</td>\n    </tr>\n    <tr>\n      <th>(4.0, 2.0, 4.0, 2.0, 4.0, 8.0)</th>\n      <td>2</td>\n    </tr>\n    <tr>\n      <th>(4.0, 4.0, 3.0, 1.0, 4.0, 3.0)</th>\n      <td>1</td>\n    </tr>\n    <tr>\n      <th>(4.0, 4.0, 3.0, 1.0, 4.0, 4.0)</th>\n      <td>2</td>\n    </tr>\n  </tbody>\n</table>\n</div>"
     },
     "metadata": {},
     "execution_count": 17
    }
   ],
   "source": [
    "results[\"note_durations\"] = results[\"note_durations\"].apply(tuple)\n",
    "df2 = pd.DataFrame(results.groupby([\"pattern_generating_match\", \"note_durations\"]).size())\n",
    "df2.head()"
   ]
  },
  {
   "cell_type": "markdown",
   "metadata": {},
   "source": [
    "***\n",
    "\n",
    "## Classify Patterns Here \n",
    "### Note:  depends on choice of Close or Exact above!  Must choose appropriate one below!\n",
    "\n",
    "#### Enable \"export_to_csv\" line to allow this within Notebook (must answer \"Y\" and provide filename)\n",
    "\n",
    "#### note that the classifier can only find patterns with AT LEAST THREE entries!  2-voice fugas are invisible at the moment.  Could be added!"
   ]
  },
  {
   "source": [
    "### Prepare Classified for Pandas Export"
   ],
   "cell_type": "markdown",
   "metadata": {}
  },
  {
   "cell_type": "code",
   "execution_count": 18,
   "metadata": {},
   "outputs": [],
   "source": [
    "def classified_matches_to_pandas(matches):\n",
    "    \n",
    "    soggetti_matches = []\n",
    "    \n",
    "    for i, cm in enumerate(matches):\n",
    "        \n",
    "        for j, soggetti in enumerate(cm.matches):\n",
    "            \n",
    "            soggetti_matches.append({\n",
    "                \"piece\": soggetti.first_note.metadata.title,\n",
    "                \"type\": cm.type,\n",
    "                \"part\": soggetti.first_note.part.strip(\"[] \"),\n",
    "                \"bar\": soggetti.first_note.note.measureNumber,\n",
    "                \"offset\": soggetti.first_note.note.offset,\n",
    "                \"entry_number\": j + 1,\n",
    "                \"pattern\": tuple(cm.pattern),\n",
    "                \"match_number\": i + 1\n",
    "            })\n",
    "    return pd.DataFrame(soggetti_matches)"
   ]
  },
  {
   "cell_type": "code",
   "execution_count": 19,
   "metadata": {
    "jupyter": {
     "outputs_hidden": true
    },
    "tags": []
   },
   "outputs": [],
   "source": [
    "%%capture\n",
    "#cm = classify_matches(close_matches, 1)\n",
    "cm = classify_matches(exact_matches, 1)\n",
    "#pd.DataFrame(classified_matches)\n",
    "output_cm = export_pandas(cm)\n",
    "# output_cm[\"sum_durs\"] = output_cm[\"note_durations\"].apply(sum)\n",
    "\n",
    "## For CSV export, use the following (and follow prompts for file name)\n",
    "#export_to_csv(cm)\n",
    "\n",
    "cm\n",
    "\n"
   ]
  },
  {
   "source": [
    "### Drop EMA and URL for readability"
   ],
   "cell_type": "markdown",
   "metadata": {}
  },
  {
   "cell_type": "code",
   "execution_count": 20,
   "metadata": {},
   "outputs": [
    {
     "output_type": "execute_result",
     "data": {
      "text/plain": [
       "  pattern_generating_match     pattern_matched piece_title        part  \\\n",
       "0         [4, 1, 2, 2, -3]    [4, 1, 2, 2, -3]   Ave Maria  [Superius]   \n",
       "1         [4, 1, 2, 2, -3]    [4, 1, 2, 2, -3]   Ave Maria       Altus   \n",
       "2         [4, 1, 2, 2, -3]    [4, 1, 2, 2, -3]   Ave Maria       Tenor   \n",
       "3         [4, 1, 2, 2, -3]    [4, 1, 2, 2, -3]   Ave Maria      Bassus   \n",
       "4       [2, 2, -3, -2, -2]  [2, 2, -3, -2, -2]   Ave Maria  [Superius]   \n",
       "5       [2, 2, -3, -2, -2]  [2, 2, -3, -2, -2]   Ave Maria       Altus   \n",
       "6       [2, 2, -3, -2, -2]  [2, 2, -3, -2, -2]   Ave Maria       Tenor   \n",
       "7       [2, 2, -3, -2, -2]  [2, 2, -3, -2, -2]   Ave Maria      Bassus   \n",
       "8        [1, 1, 2, -2, -2]   [1, 1, 2, -2, -2]   Ave Maria  [Superius]   \n",
       "9        [1, 1, 2, -2, -2]   [1, 1, 2, -2, -2]   Ave Maria       Tenor   \n",
       "\n",
       "   start_measure  start_beat  end_measure  end_beat  start_offset  end_offset  \\\n",
       "0              1         1.0            4       1.0           0.0        24.0   \n",
       "1              3         1.0            6       1.0          16.0        40.0   \n",
       "2              5         1.0            8       1.0          32.0        56.0   \n",
       "3              7         1.0           10       1.0          48.0        72.0   \n",
       "4             55         4.0           57       4.5         438.0       455.0   \n",
       "5             56         2.0           58       2.5         442.0       459.0   \n",
       "6             60         4.0           62       4.5         478.0       495.0   \n",
       "7             61         2.0           63       2.5         482.0       499.0   \n",
       "8            111         3.0          113       2.5         940.0       963.0   \n",
       "9            114         1.0          116       4.5         968.0       991.0   \n",
       "\n",
       "                   note_durations  \n",
       "0  [4.0, 8.0, 4.0, 4.0, 4.0, 8.0]  \n",
       "1  [4.0, 8.0, 4.0, 4.0, 4.0, 8.0]  \n",
       "2  [4.0, 8.0, 4.0, 4.0, 4.0, 8.0]  \n",
       "3  [4.0, 8.0, 4.0, 4.0, 4.0, 8.0]  \n",
       "4  [2.0, 4.0, 4.0, 6.0, 1.0, 1.0]  \n",
       "5  [2.0, 4.0, 4.0, 6.0, 1.0, 1.0]  \n",
       "6  [2.0, 4.0, 4.0, 6.0, 1.0, 1.0]  \n",
       "7  [2.0, 4.0, 4.0, 6.0, 1.0, 1.0]  \n",
       "8  [8.0, 4.0, 4.0, 6.0, 1.0, 1.0]  \n",
       "9  [8.0, 4.0, 4.0, 6.0, 1.0, 1.0]  "
      ],
      "text/html": "<div>\n<style scoped>\n    .dataframe tbody tr th:only-of-type {\n        vertical-align: middle;\n    }\n\n    .dataframe tbody tr th {\n        vertical-align: top;\n    }\n\n    .dataframe thead th {\n        text-align: right;\n    }\n</style>\n<table border=\"1\" class=\"dataframe\">\n  <thead>\n    <tr style=\"text-align: right;\">\n      <th></th>\n      <th>pattern_generating_match</th>\n      <th>pattern_matched</th>\n      <th>piece_title</th>\n      <th>part</th>\n      <th>start_measure</th>\n      <th>start_beat</th>\n      <th>end_measure</th>\n      <th>end_beat</th>\n      <th>start_offset</th>\n      <th>end_offset</th>\n      <th>note_durations</th>\n    </tr>\n  </thead>\n  <tbody>\n    <tr>\n      <th>0</th>\n      <td>[4, 1, 2, 2, -3]</td>\n      <td>[4, 1, 2, 2, -3]</td>\n      <td>Ave Maria</td>\n      <td>[Superius]</td>\n      <td>1</td>\n      <td>1.0</td>\n      <td>4</td>\n      <td>1.0</td>\n      <td>0.0</td>\n      <td>24.0</td>\n      <td>[4.0, 8.0, 4.0, 4.0, 4.0, 8.0]</td>\n    </tr>\n    <tr>\n      <th>1</th>\n      <td>[4, 1, 2, 2, -3]</td>\n      <td>[4, 1, 2, 2, -3]</td>\n      <td>Ave Maria</td>\n      <td>Altus</td>\n      <td>3</td>\n      <td>1.0</td>\n      <td>6</td>\n      <td>1.0</td>\n      <td>16.0</td>\n      <td>40.0</td>\n      <td>[4.0, 8.0, 4.0, 4.0, 4.0, 8.0]</td>\n    </tr>\n    <tr>\n      <th>2</th>\n      <td>[4, 1, 2, 2, -3]</td>\n      <td>[4, 1, 2, 2, -3]</td>\n      <td>Ave Maria</td>\n      <td>Tenor</td>\n      <td>5</td>\n      <td>1.0</td>\n      <td>8</td>\n      <td>1.0</td>\n      <td>32.0</td>\n      <td>56.0</td>\n      <td>[4.0, 8.0, 4.0, 4.0, 4.0, 8.0]</td>\n    </tr>\n    <tr>\n      <th>3</th>\n      <td>[4, 1, 2, 2, -3]</td>\n      <td>[4, 1, 2, 2, -3]</td>\n      <td>Ave Maria</td>\n      <td>Bassus</td>\n      <td>7</td>\n      <td>1.0</td>\n      <td>10</td>\n      <td>1.0</td>\n      <td>48.0</td>\n      <td>72.0</td>\n      <td>[4.0, 8.0, 4.0, 4.0, 4.0, 8.0]</td>\n    </tr>\n    <tr>\n      <th>4</th>\n      <td>[2, 2, -3, -2, -2]</td>\n      <td>[2, 2, -3, -2, -2]</td>\n      <td>Ave Maria</td>\n      <td>[Superius]</td>\n      <td>55</td>\n      <td>4.0</td>\n      <td>57</td>\n      <td>4.5</td>\n      <td>438.0</td>\n      <td>455.0</td>\n      <td>[2.0, 4.0, 4.0, 6.0, 1.0, 1.0]</td>\n    </tr>\n    <tr>\n      <th>5</th>\n      <td>[2, 2, -3, -2, -2]</td>\n      <td>[2, 2, -3, -2, -2]</td>\n      <td>Ave Maria</td>\n      <td>Altus</td>\n      <td>56</td>\n      <td>2.0</td>\n      <td>58</td>\n      <td>2.5</td>\n      <td>442.0</td>\n      <td>459.0</td>\n      <td>[2.0, 4.0, 4.0, 6.0, 1.0, 1.0]</td>\n    </tr>\n    <tr>\n      <th>6</th>\n      <td>[2, 2, -3, -2, -2]</td>\n      <td>[2, 2, -3, -2, -2]</td>\n      <td>Ave Maria</td>\n      <td>Tenor</td>\n      <td>60</td>\n      <td>4.0</td>\n      <td>62</td>\n      <td>4.5</td>\n      <td>478.0</td>\n      <td>495.0</td>\n      <td>[2.0, 4.0, 4.0, 6.0, 1.0, 1.0]</td>\n    </tr>\n    <tr>\n      <th>7</th>\n      <td>[2, 2, -3, -2, -2]</td>\n      <td>[2, 2, -3, -2, -2]</td>\n      <td>Ave Maria</td>\n      <td>Bassus</td>\n      <td>61</td>\n      <td>2.0</td>\n      <td>63</td>\n      <td>2.5</td>\n      <td>482.0</td>\n      <td>499.0</td>\n      <td>[2.0, 4.0, 4.0, 6.0, 1.0, 1.0]</td>\n    </tr>\n    <tr>\n      <th>8</th>\n      <td>[1, 1, 2, -2, -2]</td>\n      <td>[1, 1, 2, -2, -2]</td>\n      <td>Ave Maria</td>\n      <td>[Superius]</td>\n      <td>111</td>\n      <td>3.0</td>\n      <td>113</td>\n      <td>2.5</td>\n      <td>940.0</td>\n      <td>963.0</td>\n      <td>[8.0, 4.0, 4.0, 6.0, 1.0, 1.0]</td>\n    </tr>\n    <tr>\n      <th>9</th>\n      <td>[1, 1, 2, -2, -2]</td>\n      <td>[1, 1, 2, -2, -2]</td>\n      <td>Ave Maria</td>\n      <td>Tenor</td>\n      <td>114</td>\n      <td>1.0</td>\n      <td>116</td>\n      <td>4.5</td>\n      <td>968.0</td>\n      <td>991.0</td>\n      <td>[8.0, 4.0, 4.0, 6.0, 1.0, 1.0]</td>\n    </tr>\n  </tbody>\n</table>\n</div>"
     },
     "metadata": {},
     "execution_count": 20
    }
   ],
   "source": [
    "cm_compact = output_cm.drop(columns=[\"ema_url\", \"ema\"])\n",
    "cm_compact.head(10)"
   ]
  },
  {
   "source": [
    "#### Sort by Offset for readability."
   ],
   "cell_type": "markdown",
   "metadata": {}
  },
  {
   "cell_type": "code",
   "execution_count": 21,
   "metadata": {},
   "outputs": [
    {
     "output_type": "execute_result",
     "data": {
      "text/plain": [
       "        piece            type      part  bar  offset  entry_number  \\\n",
       "0   Ave Maria  periodic_entry  Superius    1     0.0             1   \n",
       "1   Ave Maria  periodic_entry     Altus    3    16.0             2   \n",
       "2   Ave Maria  periodic_entry     Tenor    5    32.0             3   \n",
       "3   Ave Maria  periodic_entry    Bassus    7    48.0             4   \n",
       "12  Ave Maria            fuga     Altus   33   256.0             1   \n",
       "..        ...             ...       ...  ...     ...           ...   \n",
       "71  Ave Maria   imitative duo     Tenor  124  1048.0             4   \n",
       "75  Ave Maria   imitative duo     Tenor  124  1054.0             4   \n",
       "79  Ave Maria   imitative duo     Tenor  124  1055.0             4   \n",
       "83  Ave Maria   imitative duo     Tenor  125  1056.0             4   \n",
       "87  Ave Maria   imitative duo     Tenor  125  1060.0             4   \n",
       "\n",
       "                pattern  match_number  \n",
       "0      (4, 1, 2, 2, -3)             1  \n",
       "1      (4, 1, 2, 2, -3)             1  \n",
       "2      (4, 1, 2, 2, -3)             1  \n",
       "3      (4, 1, 2, 2, -3)             1  \n",
       "12   (1, 2, -2, -2, -2)             4  \n",
       "..                  ...           ...  \n",
       "71   (-2, -2, -2, 1, 3)            19  \n",
       "75   (-2, -2, 1, 3, -2)            20  \n",
       "79   (-2, 1, 3, -2, -2)            21  \n",
       "83   (1, 3, -2, -2, -2)            22  \n",
       "87  (3, -2, -2, -2, -2)            23  \n",
       "\n",
       "[88 rows x 8 columns]"
      ],
      "text/html": "<div>\n<style scoped>\n    .dataframe tbody tr th:only-of-type {\n        vertical-align: middle;\n    }\n\n    .dataframe tbody tr th {\n        vertical-align: top;\n    }\n\n    .dataframe thead th {\n        text-align: right;\n    }\n</style>\n<table border=\"1\" class=\"dataframe\">\n  <thead>\n    <tr style=\"text-align: right;\">\n      <th></th>\n      <th>piece</th>\n      <th>type</th>\n      <th>part</th>\n      <th>bar</th>\n      <th>offset</th>\n      <th>entry_number</th>\n      <th>pattern</th>\n      <th>match_number</th>\n    </tr>\n  </thead>\n  <tbody>\n    <tr>\n      <th>0</th>\n      <td>Ave Maria</td>\n      <td>periodic_entry</td>\n      <td>Superius</td>\n      <td>1</td>\n      <td>0.0</td>\n      <td>1</td>\n      <td>(4, 1, 2, 2, -3)</td>\n      <td>1</td>\n    </tr>\n    <tr>\n      <th>1</th>\n      <td>Ave Maria</td>\n      <td>periodic_entry</td>\n      <td>Altus</td>\n      <td>3</td>\n      <td>16.0</td>\n      <td>2</td>\n      <td>(4, 1, 2, 2, -3)</td>\n      <td>1</td>\n    </tr>\n    <tr>\n      <th>2</th>\n      <td>Ave Maria</td>\n      <td>periodic_entry</td>\n      <td>Tenor</td>\n      <td>5</td>\n      <td>32.0</td>\n      <td>3</td>\n      <td>(4, 1, 2, 2, -3)</td>\n      <td>1</td>\n    </tr>\n    <tr>\n      <th>3</th>\n      <td>Ave Maria</td>\n      <td>periodic_entry</td>\n      <td>Bassus</td>\n      <td>7</td>\n      <td>48.0</td>\n      <td>4</td>\n      <td>(4, 1, 2, 2, -3)</td>\n      <td>1</td>\n    </tr>\n    <tr>\n      <th>12</th>\n      <td>Ave Maria</td>\n      <td>fuga</td>\n      <td>Altus</td>\n      <td>33</td>\n      <td>256.0</td>\n      <td>1</td>\n      <td>(1, 2, -2, -2, -2)</td>\n      <td>4</td>\n    </tr>\n    <tr>\n      <th>...</th>\n      <td>...</td>\n      <td>...</td>\n      <td>...</td>\n      <td>...</td>\n      <td>...</td>\n      <td>...</td>\n      <td>...</td>\n      <td>...</td>\n    </tr>\n    <tr>\n      <th>71</th>\n      <td>Ave Maria</td>\n      <td>imitative duo</td>\n      <td>Tenor</td>\n      <td>124</td>\n      <td>1048.0</td>\n      <td>4</td>\n      <td>(-2, -2, -2, 1, 3)</td>\n      <td>19</td>\n    </tr>\n    <tr>\n      <th>75</th>\n      <td>Ave Maria</td>\n      <td>imitative duo</td>\n      <td>Tenor</td>\n      <td>124</td>\n      <td>1054.0</td>\n      <td>4</td>\n      <td>(-2, -2, 1, 3, -2)</td>\n      <td>20</td>\n    </tr>\n    <tr>\n      <th>79</th>\n      <td>Ave Maria</td>\n      <td>imitative duo</td>\n      <td>Tenor</td>\n      <td>124</td>\n      <td>1055.0</td>\n      <td>4</td>\n      <td>(-2, 1, 3, -2, -2)</td>\n      <td>21</td>\n    </tr>\n    <tr>\n      <th>83</th>\n      <td>Ave Maria</td>\n      <td>imitative duo</td>\n      <td>Tenor</td>\n      <td>125</td>\n      <td>1056.0</td>\n      <td>4</td>\n      <td>(1, 3, -2, -2, -2)</td>\n      <td>22</td>\n    </tr>\n    <tr>\n      <th>87</th>\n      <td>Ave Maria</td>\n      <td>imitative duo</td>\n      <td>Tenor</td>\n      <td>125</td>\n      <td>1060.0</td>\n      <td>4</td>\n      <td>(3, -2, -2, -2, -2)</td>\n      <td>23</td>\n    </tr>\n  </tbody>\n</table>\n<p>88 rows × 8 columns</p>\n</div>"
     },
     "metadata": {},
     "execution_count": 21
    }
   ],
   "source": [
    "classified = classified_matches_to_pandas(cm)\n",
    "pd.set_option('display.max_rows', 50)\n",
    "classified = classified.sort_values(\"offset\")\n",
    "classified"
   ]
  },
  {
   "source": [
    "#### Add previous offset to check overlap with previous entry in any part"
   ],
   "cell_type": "markdown",
   "metadata": {}
  },
  {
   "cell_type": "code",
   "execution_count": 22,
   "metadata": {},
   "outputs": [
    {
     "output_type": "execute_result",
     "data": {
      "text/plain": [
       "        piece            type      part  bar  offset  entry_number  \\\n",
       "0   Ave Maria  periodic_entry  Superius    1     0.0             1   \n",
       "1   Ave Maria  periodic_entry     Altus    3    16.0             2   \n",
       "2   Ave Maria  periodic_entry     Tenor    5    32.0             3   \n",
       "3   Ave Maria  periodic_entry    Bassus    7    48.0             4   \n",
       "12  Ave Maria            fuga     Altus   33   256.0             1   \n",
       "..        ...             ...       ...  ...     ...           ...   \n",
       "71  Ave Maria   imitative duo     Tenor  124  1048.0             4   \n",
       "75  Ave Maria   imitative duo     Tenor  124  1054.0             4   \n",
       "79  Ave Maria   imitative duo     Tenor  124  1055.0             4   \n",
       "83  Ave Maria   imitative duo     Tenor  125  1056.0             4   \n",
       "87  Ave Maria   imitative duo     Tenor  125  1060.0             4   \n",
       "\n",
       "                pattern  match_number  previous_offset  overlap  \n",
       "0      (4, 1, 2, 2, -3)             1              0.0      0.0  \n",
       "1      (4, 1, 2, 2, -3)             1              0.0     16.0  \n",
       "2      (4, 1, 2, 2, -3)             1             16.0     16.0  \n",
       "3      (4, 1, 2, 2, -3)             1             32.0     16.0  \n",
       "12   (1, 2, -2, -2, -2)             4             48.0    208.0  \n",
       "..                  ...           ...              ...      ...  \n",
       "71   (-2, -2, -2, 1, 3)            19           1044.0      4.0  \n",
       "75   (-2, -2, 1, 3, -2)            20           1048.0      6.0  \n",
       "79   (-2, 1, 3, -2, -2)            21           1054.0      1.0  \n",
       "83   (1, 3, -2, -2, -2)            22           1055.0      1.0  \n",
       "87  (3, -2, -2, -2, -2)            23           1056.0      4.0  \n",
       "\n",
       "[88 rows x 10 columns]"
      ],
      "text/html": "<div>\n<style scoped>\n    .dataframe tbody tr th:only-of-type {\n        vertical-align: middle;\n    }\n\n    .dataframe tbody tr th {\n        vertical-align: top;\n    }\n\n    .dataframe thead th {\n        text-align: right;\n    }\n</style>\n<table border=\"1\" class=\"dataframe\">\n  <thead>\n    <tr style=\"text-align: right;\">\n      <th></th>\n      <th>piece</th>\n      <th>type</th>\n      <th>part</th>\n      <th>bar</th>\n      <th>offset</th>\n      <th>entry_number</th>\n      <th>pattern</th>\n      <th>match_number</th>\n      <th>previous_offset</th>\n      <th>overlap</th>\n    </tr>\n  </thead>\n  <tbody>\n    <tr>\n      <th>0</th>\n      <td>Ave Maria</td>\n      <td>periodic_entry</td>\n      <td>Superius</td>\n      <td>1</td>\n      <td>0.0</td>\n      <td>1</td>\n      <td>(4, 1, 2, 2, -3)</td>\n      <td>1</td>\n      <td>0.0</td>\n      <td>0.0</td>\n    </tr>\n    <tr>\n      <th>1</th>\n      <td>Ave Maria</td>\n      <td>periodic_entry</td>\n      <td>Altus</td>\n      <td>3</td>\n      <td>16.0</td>\n      <td>2</td>\n      <td>(4, 1, 2, 2, -3)</td>\n      <td>1</td>\n      <td>0.0</td>\n      <td>16.0</td>\n    </tr>\n    <tr>\n      <th>2</th>\n      <td>Ave Maria</td>\n      <td>periodic_entry</td>\n      <td>Tenor</td>\n      <td>5</td>\n      <td>32.0</td>\n      <td>3</td>\n      <td>(4, 1, 2, 2, -3)</td>\n      <td>1</td>\n      <td>16.0</td>\n      <td>16.0</td>\n    </tr>\n    <tr>\n      <th>3</th>\n      <td>Ave Maria</td>\n      <td>periodic_entry</td>\n      <td>Bassus</td>\n      <td>7</td>\n      <td>48.0</td>\n      <td>4</td>\n      <td>(4, 1, 2, 2, -3)</td>\n      <td>1</td>\n      <td>32.0</td>\n      <td>16.0</td>\n    </tr>\n    <tr>\n      <th>12</th>\n      <td>Ave Maria</td>\n      <td>fuga</td>\n      <td>Altus</td>\n      <td>33</td>\n      <td>256.0</td>\n      <td>1</td>\n      <td>(1, 2, -2, -2, -2)</td>\n      <td>4</td>\n      <td>48.0</td>\n      <td>208.0</td>\n    </tr>\n    <tr>\n      <th>...</th>\n      <td>...</td>\n      <td>...</td>\n      <td>...</td>\n      <td>...</td>\n      <td>...</td>\n      <td>...</td>\n      <td>...</td>\n      <td>...</td>\n      <td>...</td>\n      <td>...</td>\n    </tr>\n    <tr>\n      <th>71</th>\n      <td>Ave Maria</td>\n      <td>imitative duo</td>\n      <td>Tenor</td>\n      <td>124</td>\n      <td>1048.0</td>\n      <td>4</td>\n      <td>(-2, -2, -2, 1, 3)</td>\n      <td>19</td>\n      <td>1044.0</td>\n      <td>4.0</td>\n    </tr>\n    <tr>\n      <th>75</th>\n      <td>Ave Maria</td>\n      <td>imitative duo</td>\n      <td>Tenor</td>\n      <td>124</td>\n      <td>1054.0</td>\n      <td>4</td>\n      <td>(-2, -2, 1, 3, -2)</td>\n      <td>20</td>\n      <td>1048.0</td>\n      <td>6.0</td>\n    </tr>\n    <tr>\n      <th>79</th>\n      <td>Ave Maria</td>\n      <td>imitative duo</td>\n      <td>Tenor</td>\n      <td>124</td>\n      <td>1055.0</td>\n      <td>4</td>\n      <td>(-2, 1, 3, -2, -2)</td>\n      <td>21</td>\n      <td>1054.0</td>\n      <td>1.0</td>\n    </tr>\n    <tr>\n      <th>83</th>\n      <td>Ave Maria</td>\n      <td>imitative duo</td>\n      <td>Tenor</td>\n      <td>125</td>\n      <td>1056.0</td>\n      <td>4</td>\n      <td>(1, 3, -2, -2, -2)</td>\n      <td>22</td>\n      <td>1055.0</td>\n      <td>1.0</td>\n    </tr>\n    <tr>\n      <th>87</th>\n      <td>Ave Maria</td>\n      <td>imitative duo</td>\n      <td>Tenor</td>\n      <td>125</td>\n      <td>1060.0</td>\n      <td>4</td>\n      <td>(3, -2, -2, -2, -2)</td>\n      <td>23</td>\n      <td>1056.0</td>\n      <td>4.0</td>\n    </tr>\n  </tbody>\n</table>\n<p>88 rows × 10 columns</p>\n</div>"
     },
     "metadata": {},
     "execution_count": 22
    }
   ],
   "source": [
    "classified['previous_offset'] = classified['offset'].shift().fillna(0)\n",
    "classified['overlap'] = classified[\"offset\"] - classified[\"previous_offset\"]\n",
    "classified"
   ]
  },
  {
   "source": [
    "#### Pivot Table for Readability--Original Classifier"
   ],
   "cell_type": "markdown",
   "metadata": {}
  },
  {
   "cell_type": "code",
   "execution_count": 23,
   "metadata": {
    "scrolled": true
   },
   "outputs": [
    {
     "output_type": "execute_result",
     "data": {
      "text/plain": [
       "   match_number      piece            type             pattern  offset_1  \\\n",
       "0             1  Ave Maria  periodic_entry    (4, 1, 2, 2, -3)       0.0   \n",
       "1             4  Ave Maria            fuga  (1, 2, -2, -2, -2)     256.0   \n",
       "2             5  Ave Maria   imitative duo   (4, -2, 2, 2, -3)     428.0   \n",
       "3             6  Ave Maria   imitative duo  (-2, 2, 2, -3, -2)     432.0   \n",
       "4             2  Ave Maria   imitative duo  (2, 2, -3, -2, -2)     438.0   \n",
       "\n",
       "   offset_2  offset_3  offset_4    part_1  part_2    part_3  part_4  \n",
       "0      16.0      32.0      48.0  Superius   Altus     Tenor  Bassus  \n",
       "1     288.0     320.0     320.0     Altus  Bassus  Superius   Tenor  \n",
       "2     432.0     468.0     472.0  Superius   Altus     Tenor  Bassus  \n",
       "3     436.0     472.0     476.0  Superius   Altus     Tenor  Bassus  \n",
       "4     442.0     478.0     482.0  Superius   Altus     Tenor  Bassus  "
      ],
      "text/html": "<div>\n<style scoped>\n    .dataframe tbody tr th:only-of-type {\n        vertical-align: middle;\n    }\n\n    .dataframe tbody tr th {\n        vertical-align: top;\n    }\n\n    .dataframe thead th {\n        text-align: right;\n    }\n</style>\n<table border=\"1\" class=\"dataframe\">\n  <thead>\n    <tr style=\"text-align: right;\">\n      <th></th>\n      <th>match_number</th>\n      <th>piece</th>\n      <th>type</th>\n      <th>pattern</th>\n      <th>offset_1</th>\n      <th>offset_2</th>\n      <th>offset_3</th>\n      <th>offset_4</th>\n      <th>part_1</th>\n      <th>part_2</th>\n      <th>part_3</th>\n      <th>part_4</th>\n    </tr>\n  </thead>\n  <tbody>\n    <tr>\n      <th>0</th>\n      <td>1</td>\n      <td>Ave Maria</td>\n      <td>periodic_entry</td>\n      <td>(4, 1, 2, 2, -3)</td>\n      <td>0.0</td>\n      <td>16.0</td>\n      <td>32.0</td>\n      <td>48.0</td>\n      <td>Superius</td>\n      <td>Altus</td>\n      <td>Tenor</td>\n      <td>Bassus</td>\n    </tr>\n    <tr>\n      <th>1</th>\n      <td>4</td>\n      <td>Ave Maria</td>\n      <td>fuga</td>\n      <td>(1, 2, -2, -2, -2)</td>\n      <td>256.0</td>\n      <td>288.0</td>\n      <td>320.0</td>\n      <td>320.0</td>\n      <td>Altus</td>\n      <td>Bassus</td>\n      <td>Superius</td>\n      <td>Tenor</td>\n    </tr>\n    <tr>\n      <th>2</th>\n      <td>5</td>\n      <td>Ave Maria</td>\n      <td>imitative duo</td>\n      <td>(4, -2, 2, 2, -3)</td>\n      <td>428.0</td>\n      <td>432.0</td>\n      <td>468.0</td>\n      <td>472.0</td>\n      <td>Superius</td>\n      <td>Altus</td>\n      <td>Tenor</td>\n      <td>Bassus</td>\n    </tr>\n    <tr>\n      <th>3</th>\n      <td>6</td>\n      <td>Ave Maria</td>\n      <td>imitative duo</td>\n      <td>(-2, 2, 2, -3, -2)</td>\n      <td>432.0</td>\n      <td>436.0</td>\n      <td>472.0</td>\n      <td>476.0</td>\n      <td>Superius</td>\n      <td>Altus</td>\n      <td>Tenor</td>\n      <td>Bassus</td>\n    </tr>\n    <tr>\n      <th>4</th>\n      <td>2</td>\n      <td>Ave Maria</td>\n      <td>imitative duo</td>\n      <td>(2, 2, -3, -2, -2)</td>\n      <td>438.0</td>\n      <td>442.0</td>\n      <td>478.0</td>\n      <td>482.0</td>\n      <td>Superius</td>\n      <td>Altus</td>\n      <td>Tenor</td>\n      <td>Bassus</td>\n    </tr>\n  </tbody>\n</table>\n</div>"
     },
     "metadata": {},
     "execution_count": 23
    }
   ],
   "source": [
    "classified_pivot = classified.pivot_table(index=[\"match_number\", \"piece\", \"type\", \"pattern\"],\n",
    "            columns=\"entry_number\",\n",
    "            values=[\"part\", \"offset\"],\n",
    "            aggfunc=lambda x: x)\n",
    "\n",
    "classified_pivot.columns = [f\"{a}_{b}\" for a, b in classified_pivot.columns]\n",
    "classified_pivot = classified_pivot.sort_values(\"offset_1\")\n",
    "classified_pivot = classified_pivot.head().reset_index()\n",
    "classified_pivot"
   ]
  },
  {
   "cell_type": "markdown",
   "metadata": {},
   "source": [
    "### Read CSV of Classified Matches (previously exported)\n",
    "\n",
    "#### Update file name to match the output of previous cells for Classifier"
   ]
  },
  {
   "cell_type": "code",
   "execution_count": 24,
   "metadata": {},
   "outputs": [
    {
     "output_type": "error",
     "ename": "FileNotFoundError",
     "evalue": "[Errno 2] No such file or directory: 'Sandrin_Classified.csv'",
     "traceback": [
      "\u001b[0;31m---------------------------------------------------------------------------\u001b[0m",
      "\u001b[0;31mFileNotFoundError\u001b[0m                         Traceback (most recent call last)",
      "\u001b[0;32m<ipython-input-24-2d956b56c675>\u001b[0m in \u001b[0;36m<module>\u001b[0;34m\u001b[0m\n\u001b[0;32m----> 1\u001b[0;31m \u001b[0mresults\u001b[0m \u001b[0;34m=\u001b[0m \u001b[0mpd\u001b[0m\u001b[0;34m.\u001b[0m\u001b[0mread_csv\u001b[0m\u001b[0;34m(\u001b[0m\u001b[0;34m'Sandrin_Classified.csv'\u001b[0m\u001b[0;34m)\u001b[0m\u001b[0;34m\u001b[0m\u001b[0;34m\u001b[0m\u001b[0m\n\u001b[0m\u001b[1;32m      2\u001b[0m results.rename(columns=\n\u001b[1;32m      3\u001b[0m                    {'Pattern Generating Match': 'Pattern_Generating_Match', \n\u001b[1;32m      4\u001b[0m                     \u001b[0;34m'Pattern matched'\u001b[0m\u001b[0;34m:\u001b[0m\u001b[0;34m'Pattern_Matched'\u001b[0m\u001b[0;34m,\u001b[0m\u001b[0;34m\u001b[0m\u001b[0;34m\u001b[0m\u001b[0m\n\u001b[1;32m      5\u001b[0m                     \u001b[0;34m'Classification Type'\u001b[0m\u001b[0;34m:\u001b[0m \u001b[0;34m'Classification_Type'\u001b[0m\u001b[0;34m,\u001b[0m\u001b[0;34m\u001b[0m\u001b[0;34m\u001b[0m\u001b[0m\n",
      "\u001b[0;32m/opt/anaconda3/lib/python3.8/site-packages/pandas/io/parsers.py\u001b[0m in \u001b[0;36mread_csv\u001b[0;34m(filepath_or_buffer, sep, delimiter, header, names, index_col, usecols, squeeze, prefix, mangle_dupe_cols, dtype, engine, converters, true_values, false_values, skipinitialspace, skiprows, skipfooter, nrows, na_values, keep_default_na, na_filter, verbose, skip_blank_lines, parse_dates, infer_datetime_format, keep_date_col, date_parser, dayfirst, cache_dates, iterator, chunksize, compression, thousands, decimal, lineterminator, quotechar, quoting, doublequote, escapechar, comment, encoding, dialect, error_bad_lines, warn_bad_lines, delim_whitespace, low_memory, memory_map, float_precision)\u001b[0m\n\u001b[1;32m    684\u001b[0m     )\n\u001b[1;32m    685\u001b[0m \u001b[0;34m\u001b[0m\u001b[0m\n\u001b[0;32m--> 686\u001b[0;31m     \u001b[0;32mreturn\u001b[0m \u001b[0m_read\u001b[0m\u001b[0;34m(\u001b[0m\u001b[0mfilepath_or_buffer\u001b[0m\u001b[0;34m,\u001b[0m \u001b[0mkwds\u001b[0m\u001b[0;34m)\u001b[0m\u001b[0;34m\u001b[0m\u001b[0;34m\u001b[0m\u001b[0m\n\u001b[0m\u001b[1;32m    687\u001b[0m \u001b[0;34m\u001b[0m\u001b[0m\n\u001b[1;32m    688\u001b[0m \u001b[0;34m\u001b[0m\u001b[0m\n",
      "\u001b[0;32m/opt/anaconda3/lib/python3.8/site-packages/pandas/io/parsers.py\u001b[0m in \u001b[0;36m_read\u001b[0;34m(filepath_or_buffer, kwds)\u001b[0m\n\u001b[1;32m    450\u001b[0m \u001b[0;34m\u001b[0m\u001b[0m\n\u001b[1;32m    451\u001b[0m     \u001b[0;31m# Create the parser.\u001b[0m\u001b[0;34m\u001b[0m\u001b[0;34m\u001b[0m\u001b[0;34m\u001b[0m\u001b[0m\n\u001b[0;32m--> 452\u001b[0;31m     \u001b[0mparser\u001b[0m \u001b[0;34m=\u001b[0m \u001b[0mTextFileReader\u001b[0m\u001b[0;34m(\u001b[0m\u001b[0mfp_or_buf\u001b[0m\u001b[0;34m,\u001b[0m \u001b[0;34m**\u001b[0m\u001b[0mkwds\u001b[0m\u001b[0;34m)\u001b[0m\u001b[0;34m\u001b[0m\u001b[0;34m\u001b[0m\u001b[0m\n\u001b[0m\u001b[1;32m    453\u001b[0m \u001b[0;34m\u001b[0m\u001b[0m\n\u001b[1;32m    454\u001b[0m     \u001b[0;32mif\u001b[0m \u001b[0mchunksize\u001b[0m \u001b[0;32mor\u001b[0m \u001b[0miterator\u001b[0m\u001b[0;34m:\u001b[0m\u001b[0;34m\u001b[0m\u001b[0;34m\u001b[0m\u001b[0m\n",
      "\u001b[0;32m/opt/anaconda3/lib/python3.8/site-packages/pandas/io/parsers.py\u001b[0m in \u001b[0;36m__init__\u001b[0;34m(self, f, engine, **kwds)\u001b[0m\n\u001b[1;32m    944\u001b[0m             \u001b[0mself\u001b[0m\u001b[0;34m.\u001b[0m\u001b[0moptions\u001b[0m\u001b[0;34m[\u001b[0m\u001b[0;34m\"has_index_names\"\u001b[0m\u001b[0;34m]\u001b[0m \u001b[0;34m=\u001b[0m \u001b[0mkwds\u001b[0m\u001b[0;34m[\u001b[0m\u001b[0;34m\"has_index_names\"\u001b[0m\u001b[0;34m]\u001b[0m\u001b[0;34m\u001b[0m\u001b[0;34m\u001b[0m\u001b[0m\n\u001b[1;32m    945\u001b[0m \u001b[0;34m\u001b[0m\u001b[0m\n\u001b[0;32m--> 946\u001b[0;31m         \u001b[0mself\u001b[0m\u001b[0;34m.\u001b[0m\u001b[0m_make_engine\u001b[0m\u001b[0;34m(\u001b[0m\u001b[0mself\u001b[0m\u001b[0;34m.\u001b[0m\u001b[0mengine\u001b[0m\u001b[0;34m)\u001b[0m\u001b[0;34m\u001b[0m\u001b[0;34m\u001b[0m\u001b[0m\n\u001b[0m\u001b[1;32m    947\u001b[0m \u001b[0;34m\u001b[0m\u001b[0m\n\u001b[1;32m    948\u001b[0m     \u001b[0;32mdef\u001b[0m \u001b[0mclose\u001b[0m\u001b[0;34m(\u001b[0m\u001b[0mself\u001b[0m\u001b[0;34m)\u001b[0m\u001b[0;34m:\u001b[0m\u001b[0;34m\u001b[0m\u001b[0;34m\u001b[0m\u001b[0m\n",
      "\u001b[0;32m/opt/anaconda3/lib/python3.8/site-packages/pandas/io/parsers.py\u001b[0m in \u001b[0;36m_make_engine\u001b[0;34m(self, engine)\u001b[0m\n\u001b[1;32m   1176\u001b[0m     \u001b[0;32mdef\u001b[0m \u001b[0m_make_engine\u001b[0m\u001b[0;34m(\u001b[0m\u001b[0mself\u001b[0m\u001b[0;34m,\u001b[0m \u001b[0mengine\u001b[0m\u001b[0;34m=\u001b[0m\u001b[0;34m\"c\"\u001b[0m\u001b[0;34m)\u001b[0m\u001b[0;34m:\u001b[0m\u001b[0;34m\u001b[0m\u001b[0;34m\u001b[0m\u001b[0m\n\u001b[1;32m   1177\u001b[0m         \u001b[0;32mif\u001b[0m \u001b[0mengine\u001b[0m \u001b[0;34m==\u001b[0m \u001b[0;34m\"c\"\u001b[0m\u001b[0;34m:\u001b[0m\u001b[0;34m\u001b[0m\u001b[0;34m\u001b[0m\u001b[0m\n\u001b[0;32m-> 1178\u001b[0;31m             \u001b[0mself\u001b[0m\u001b[0;34m.\u001b[0m\u001b[0m_engine\u001b[0m \u001b[0;34m=\u001b[0m \u001b[0mCParserWrapper\u001b[0m\u001b[0;34m(\u001b[0m\u001b[0mself\u001b[0m\u001b[0;34m.\u001b[0m\u001b[0mf\u001b[0m\u001b[0;34m,\u001b[0m \u001b[0;34m**\u001b[0m\u001b[0mself\u001b[0m\u001b[0;34m.\u001b[0m\u001b[0moptions\u001b[0m\u001b[0;34m)\u001b[0m\u001b[0;34m\u001b[0m\u001b[0;34m\u001b[0m\u001b[0m\n\u001b[0m\u001b[1;32m   1179\u001b[0m         \u001b[0;32melse\u001b[0m\u001b[0;34m:\u001b[0m\u001b[0;34m\u001b[0m\u001b[0;34m\u001b[0m\u001b[0m\n\u001b[1;32m   1180\u001b[0m             \u001b[0;32mif\u001b[0m \u001b[0mengine\u001b[0m \u001b[0;34m==\u001b[0m \u001b[0;34m\"python\"\u001b[0m\u001b[0;34m:\u001b[0m\u001b[0;34m\u001b[0m\u001b[0;34m\u001b[0m\u001b[0m\n",
      "\u001b[0;32m/opt/anaconda3/lib/python3.8/site-packages/pandas/io/parsers.py\u001b[0m in \u001b[0;36m__init__\u001b[0;34m(self, src, **kwds)\u001b[0m\n\u001b[1;32m   2006\u001b[0m         \u001b[0mkwds\u001b[0m\u001b[0;34m[\u001b[0m\u001b[0;34m\"usecols\"\u001b[0m\u001b[0;34m]\u001b[0m \u001b[0;34m=\u001b[0m \u001b[0mself\u001b[0m\u001b[0;34m.\u001b[0m\u001b[0musecols\u001b[0m\u001b[0;34m\u001b[0m\u001b[0;34m\u001b[0m\u001b[0m\n\u001b[1;32m   2007\u001b[0m \u001b[0;34m\u001b[0m\u001b[0m\n\u001b[0;32m-> 2008\u001b[0;31m         \u001b[0mself\u001b[0m\u001b[0;34m.\u001b[0m\u001b[0m_reader\u001b[0m \u001b[0;34m=\u001b[0m \u001b[0mparsers\u001b[0m\u001b[0;34m.\u001b[0m\u001b[0mTextReader\u001b[0m\u001b[0;34m(\u001b[0m\u001b[0msrc\u001b[0m\u001b[0;34m,\u001b[0m \u001b[0;34m**\u001b[0m\u001b[0mkwds\u001b[0m\u001b[0;34m)\u001b[0m\u001b[0;34m\u001b[0m\u001b[0;34m\u001b[0m\u001b[0m\n\u001b[0m\u001b[1;32m   2009\u001b[0m         \u001b[0mself\u001b[0m\u001b[0;34m.\u001b[0m\u001b[0munnamed_cols\u001b[0m \u001b[0;34m=\u001b[0m \u001b[0mself\u001b[0m\u001b[0;34m.\u001b[0m\u001b[0m_reader\u001b[0m\u001b[0;34m.\u001b[0m\u001b[0munnamed_cols\u001b[0m\u001b[0;34m\u001b[0m\u001b[0;34m\u001b[0m\u001b[0m\n\u001b[1;32m   2010\u001b[0m \u001b[0;34m\u001b[0m\u001b[0m\n",
      "\u001b[0;32mpandas/_libs/parsers.pyx\u001b[0m in \u001b[0;36mpandas._libs.parsers.TextReader.__cinit__\u001b[0;34m()\u001b[0m\n",
      "\u001b[0;32mpandas/_libs/parsers.pyx\u001b[0m in \u001b[0;36mpandas._libs.parsers.TextReader._setup_parser_source\u001b[0;34m()\u001b[0m\n",
      "\u001b[0;31mFileNotFoundError\u001b[0m: [Errno 2] No such file or directory: 'Sandrin_Classified.csv'"
     ]
    }
   ],
   "source": [
    "results = pd.read_csv('Sandrin_Classified.csv')\n",
    "results.rename(columns=\n",
    "                   {'Pattern Generating Match': 'Pattern_Generating_Match', \n",
    "                    'Pattern matched':'Pattern_Matched',\n",
    "                    'Classification Type': 'Classification_Type',\n",
    "                    'Piece Title': 'Piece_Title',\n",
    "                    'First Note Measure Number': 'Start_Measure',\n",
    "                    'Last Note Measure Number': 'Stop_Measure',\n",
    "                    'Note Durations': 'Note_Durations'\n",
    "                   },\n",
    "                    inplace=True)\n",
    "\n",
    "results['note_durations'] = results['note_durations'].apply(ast.literal_eval)\n",
    "\n",
    "durations = results['note_durations']\n",
    "results.head()"
   ]
  },
  {
   "source": [
    "## New Flexible Classifier Functions to work with output of the Original Classifier"
   ],
   "cell_type": "markdown",
   "metadata": {}
  },
  {
   "cell_type": "code",
   "execution_count": 25,
   "metadata": {},
   "outputs": [],
   "source": [
    "# the following configured to work with output of FG Classifier\n",
    "\n",
    "import numpy as np\n",
    "\n",
    "# the array must be a list, and in this case is passed the offset_diff_list  that's why we need typing\n",
    "# the function understands on the basis of the position in the 'arguments' below.  or keyword args, which is a specified name\n",
    "\n",
    "\n",
    "# Converts lists to tuples\n",
    "\n",
    "def lists_to_tuples(el):\n",
    "    if isinstance(el, list):\n",
    "        return tuple(el)\n",
    "    else:\n",
    "        return el\n",
    "\n",
    "# Sets limit of length for any list of offset diffs\n",
    "\n",
    "def limit_offset_size(array, limit):\n",
    "    under_limit = np.cumsum(array) <= limit\n",
    "    return array[: sum(under_limit)]\n",
    "\n",
    "\n",
    "# Gets the offset difference list for any group\n",
    "def get_offset_difference_list(group):\n",
    "    group = group.sort_values(\"offset\")\n",
    "    group[\"next_offset\"] = group.offset.shift(-1)\n",
    "    offset_difference_list = (group.next_offset - group.offset).dropna().tolist()\n",
    "    return offset_difference_list\n",
    "\n",
    "\n",
    "# Classifies items in each group\n",
    "\n",
    "def classify_offsets(offset_difference_list):\n",
    "    \"\"\"\n",
    "    Put logic for classifying an offset list here\n",
    "    \"\"\"\n",
    "    offset_difference_list = limit_offset_size(offset_difference_list, 1000)\n",
    "    \n",
    "    alt_list = offset_difference_list[::2]\n",
    "    \n",
    "    if len(set(offset_difference_list)) == 1 and len(offset_difference_list) > 1:\n",
    "        return (\"PEN\", offset_difference_list)\n",
    "    elif (len(offset_difference_list) %2 != 0) and (len(set(alt_list)) == 1):\n",
    "        return (\"ID\", offset_difference_list)\n",
    "    elif len(offset_difference_list) >= 1:\n",
    "        return (\"Fuga\", offset_difference_list)\n",
    "    else: \n",
    "        return (\"Singleton\", offset_difference_list)\n",
    "    \n",
    "# Adds predicted group to output\n",
    "\n",
    "   \n",
    "def predict_type(group):\n",
    "    offset_differences = get_offset_difference_list(group)\n",
    "    predicted_type, offsets = classify_offsets(offset_differences)\n",
    "\n",
    "    group[\"predicted_type\"] = [predicted_type for i in range(len(group))]\n",
    "    group[\"offset_diffs\"] = [offsets for i in range(len(group))]\n",
    "    group[\"entry_number\"] = [i + 1 for i in range(len(group))]\n",
    "\n",
    "    return group\n",
    "\n"
   ]
  },
  {
   "source": [
    "### We call Function to work with Output of Original Classifier\n"
   ],
   "cell_type": "markdown",
   "metadata": {}
  },
  {
   "cell_type": "code",
   "execution_count": 26,
   "metadata": {},
   "outputs": [
    {
     "output_type": "execute_result",
     "data": {
      "text/plain": [
       "        piece  group_number predicted_type              pattern      part  \\\n",
       "35  Ave Maria             0             ID   (-3, 2, -3, 2, -2)  Superius   \n",
       "36  Ave Maria             0             ID   (-3, 2, -3, 2, -2)     Altus   \n",
       "37  Ave Maria             0             ID   (-3, 2, -3, 2, -2)     Tenor   \n",
       "38  Ave Maria             0             ID   (-3, 2, -3, 2, -2)    Bassus   \n",
       "46  Ave Maria             1           Fuga  (-3, 2, -2, -2, -2)     Altus   \n",
       "..        ...           ...            ...                  ...       ...   \n",
       "19  Ave Maria            19             ID    (4, -2, 2, 2, -3)    Bassus   \n",
       "0   Ave Maria            20            PEN     (4, 1, 2, 2, -3)  Superius   \n",
       "1   Ave Maria            20            PEN     (4, 1, 2, 2, -3)     Altus   \n",
       "2   Ave Maria            20            PEN     (4, 1, 2, 2, -3)     Tenor   \n",
       "3   Ave Maria            20            PEN     (4, 1, 2, 2, -3)    Bassus   \n",
       "\n",
       "    entry_number  offset        offset_diffs  \n",
       "35             1   512.0   [16.0, 8.0, 16.0]  \n",
       "36             2   528.0   [16.0, 8.0, 16.0]  \n",
       "37             3   536.0   [16.0, 8.0, 16.0]  \n",
       "38             4   552.0   [16.0, 8.0, 16.0]  \n",
       "46             1   536.0         [8.0, 16.0]  \n",
       "..           ...     ...                 ...  \n",
       "19             4   472.0    [4.0, 36.0, 4.0]  \n",
       "0              1     0.0  [16.0, 16.0, 16.0]  \n",
       "1              2    16.0  [16.0, 16.0, 16.0]  \n",
       "2              3    32.0  [16.0, 16.0, 16.0]  \n",
       "3              4    48.0  [16.0, 16.0, 16.0]  \n",
       "\n",
       "[88 rows x 8 columns]"
      ],
      "text/html": "<div>\n<style scoped>\n    .dataframe tbody tr th:only-of-type {\n        vertical-align: middle;\n    }\n\n    .dataframe tbody tr th {\n        vertical-align: top;\n    }\n\n    .dataframe thead th {\n        text-align: right;\n    }\n</style>\n<table border=\"1\" class=\"dataframe\">\n  <thead>\n    <tr style=\"text-align: right;\">\n      <th></th>\n      <th>piece</th>\n      <th>group_number</th>\n      <th>predicted_type</th>\n      <th>pattern</th>\n      <th>part</th>\n      <th>entry_number</th>\n      <th>offset</th>\n      <th>offset_diffs</th>\n    </tr>\n  </thead>\n  <tbody>\n    <tr>\n      <th>35</th>\n      <td>Ave Maria</td>\n      <td>0</td>\n      <td>ID</td>\n      <td>(-3, 2, -3, 2, -2)</td>\n      <td>Superius</td>\n      <td>1</td>\n      <td>512.0</td>\n      <td>[16.0, 8.0, 16.0]</td>\n    </tr>\n    <tr>\n      <th>36</th>\n      <td>Ave Maria</td>\n      <td>0</td>\n      <td>ID</td>\n      <td>(-3, 2, -3, 2, -2)</td>\n      <td>Altus</td>\n      <td>2</td>\n      <td>528.0</td>\n      <td>[16.0, 8.0, 16.0]</td>\n    </tr>\n    <tr>\n      <th>37</th>\n      <td>Ave Maria</td>\n      <td>0</td>\n      <td>ID</td>\n      <td>(-3, 2, -3, 2, -2)</td>\n      <td>Tenor</td>\n      <td>3</td>\n      <td>536.0</td>\n      <td>[16.0, 8.0, 16.0]</td>\n    </tr>\n    <tr>\n      <th>38</th>\n      <td>Ave Maria</td>\n      <td>0</td>\n      <td>ID</td>\n      <td>(-3, 2, -3, 2, -2)</td>\n      <td>Bassus</td>\n      <td>4</td>\n      <td>552.0</td>\n      <td>[16.0, 8.0, 16.0]</td>\n    </tr>\n    <tr>\n      <th>46</th>\n      <td>Ave Maria</td>\n      <td>1</td>\n      <td>Fuga</td>\n      <td>(-3, 2, -2, -2, -2)</td>\n      <td>Altus</td>\n      <td>1</td>\n      <td>536.0</td>\n      <td>[8.0, 16.0]</td>\n    </tr>\n    <tr>\n      <th>...</th>\n      <td>...</td>\n      <td>...</td>\n      <td>...</td>\n      <td>...</td>\n      <td>...</td>\n      <td>...</td>\n      <td>...</td>\n      <td>...</td>\n    </tr>\n    <tr>\n      <th>19</th>\n      <td>Ave Maria</td>\n      <td>19</td>\n      <td>ID</td>\n      <td>(4, -2, 2, 2, -3)</td>\n      <td>Bassus</td>\n      <td>4</td>\n      <td>472.0</td>\n      <td>[4.0, 36.0, 4.0]</td>\n    </tr>\n    <tr>\n      <th>0</th>\n      <td>Ave Maria</td>\n      <td>20</td>\n      <td>PEN</td>\n      <td>(4, 1, 2, 2, -3)</td>\n      <td>Superius</td>\n      <td>1</td>\n      <td>0.0</td>\n      <td>[16.0, 16.0, 16.0]</td>\n    </tr>\n    <tr>\n      <th>1</th>\n      <td>Ave Maria</td>\n      <td>20</td>\n      <td>PEN</td>\n      <td>(4, 1, 2, 2, -3)</td>\n      <td>Altus</td>\n      <td>2</td>\n      <td>16.0</td>\n      <td>[16.0, 16.0, 16.0]</td>\n    </tr>\n    <tr>\n      <th>2</th>\n      <td>Ave Maria</td>\n      <td>20</td>\n      <td>PEN</td>\n      <td>(4, 1, 2, 2, -3)</td>\n      <td>Tenor</td>\n      <td>3</td>\n      <td>32.0</td>\n      <td>[16.0, 16.0, 16.0]</td>\n    </tr>\n    <tr>\n      <th>3</th>\n      <td>Ave Maria</td>\n      <td>20</td>\n      <td>PEN</td>\n      <td>(4, 1, 2, 2, -3)</td>\n      <td>Bassus</td>\n      <td>4</td>\n      <td>48.0</td>\n      <td>[16.0, 16.0, 16.0]</td>\n    </tr>\n  </tbody>\n</table>\n<p>88 rows × 8 columns</p>\n</div>"
     },
     "metadata": {},
     "execution_count": 26
    }
   ],
   "source": [
    "\n",
    "classified_1 = classified.applymap(lists_to_tuples).sort_values(\"offset\").groupby(\"pattern\").apply(predict_type)\n",
    "classified_1[\"group_number\"] = classified_1.groupby('pattern').ngroup()\n",
    "classified_1 = classified_1[[\"piece\", \"group_number\", \"predicted_type\", \"pattern\", \"part\", \"entry_number\", \"offset\", \"offset_diffs\"]]\n",
    "classified_1 = classified_1.sort_values([\"group_number\", \"entry_number\"])\n",
    "classified_1"
   ]
  },
  {
   "source": [
    "### Function to work with output of Close or Exact Matches"
   ],
   "cell_type": "markdown",
   "metadata": {}
  },
  {
   "cell_type": "code",
   "execution_count": 27,
   "metadata": {},
   "outputs": [],
   "source": [
    "# THIS IS DEV COPY for use with CLOSE/EXACT Matches\n",
    "\n",
    "import numpy as np\n",
    "\n",
    "# Converts lists to tuples\n",
    "\n",
    "def lists_to_tuples_a(el):\n",
    "    if isinstance(el, list):\n",
    "        return tuple(el)\n",
    "    else:\n",
    "        return el\n",
    "\n",
    "# Filters for the length of the Presentation Type in the Classifier\n",
    "\n",
    "def limit_offset_size(array, limit):\n",
    "    under_limit = np.cumsum(array) <= limit\n",
    "    return array[: sum(under_limit)]\n",
    "\n",
    "\n",
    "# Gets the the list of offset differences for each group \n",
    "\n",
    "def get_offset_difference_list_a(group):\n",
    "    # if we do sort values as part of the func call, then we don't need this first line\n",
    "    group = group.sort_values(\"start_offset\")\n",
    "    group[\"next_offset\"] = group.start_offset.shift(-1)\n",
    "    offset_difference_list = (group.next_offset - group.start_offset).dropna().tolist()\n",
    "    return offset_difference_list\n",
    "\n",
    "# The classifications are done here\n",
    "\n",
    "def classify_offsets_a(offset_difference_list):\n",
    "    \"\"\"\n",
    "    Put logic for classifying an offset list here\n",
    "    \"\"\"\n",
    "    #\n",
    "    # offset_difference_list = limit_offset_size(offset_difference_list, 5000)\n",
    "    \n",
    "    alt_list = offset_difference_list[::2]\n",
    "    \n",
    "    \n",
    "    if len(set(offset_difference_list)) == 1 and len(offset_difference_list) > 1:\n",
    "        return (\"PEN\", offset_difference_list)\n",
    "    elif (len(offset_difference_list) %2 != 0) and (len(set(alt_list)) == 1):\n",
    "        return (\"ID\", offset_difference_list)\n",
    "    elif len(offset_difference_list) >= 1:\n",
    "        return (\"Fuga\", offset_difference_list)\n",
    "    else: \n",
    "        return (\"Singleton\", offset_difference_list)\n",
    "\n",
    "   \n",
    "# adds predicted type, offsets and entry numbers to the results\n",
    "\n",
    "def predict_type_a(group):\n",
    "    offset_differences = get_offset_difference_list_a(group)\n",
    "    predicted_type, offsets = classify_offsets_a(offset_differences)\n",
    "\n",
    "    group[\"predicted_type\"] = [predicted_type for i in range(len(group))]\n",
    "    group[\"offset_diffs\"] = [offsets for i in range(len(group))]\n",
    "    group[\"entry_number\"] = [i + 1 for i in range(len(group))]\n",
    "\n",
    "    return group\n",
    "\n"
   ]
  },
  {
   "source": [
    "### Run the Classifier for Close or Exact Matches here"
   ],
   "cell_type": "markdown",
   "metadata": {}
  },
  {
   "source": [
    "### Call Functions to Classify with Close/Exact Matches with NEW Classifier\n",
    "use 'output.close' or 'output.exact'"
   ],
   "cell_type": "markdown",
   "metadata": {}
  },
  {
   "cell_type": "code",
   "execution_count": 32,
   "metadata": {},
   "outputs": [
    {
     "output_type": "execute_result",
     "data": {
      "text/plain": [
       "    piece_title  group_number pattern_generating_match      pattern_matched  \\\n",
       "144   Ave Maria             0       (-3, 2, -3, 2, -2)   (-3, 2, -3, 2, -2)   \n",
       "145   Ave Maria             0       (-3, 2, -3, 2, -2)   (-3, 2, -3, 2, -2)   \n",
       "146   Ave Maria             0       (-3, 2, -3, 2, -2)   (-3, 2, -3, 2, -2)   \n",
       "147   Ave Maria             0       (-3, 2, -3, 2, -2)   (-3, 2, -3, 2, -2)   \n",
       "156   Ave Maria             1      (-3, 2, -2, -2, -2)  (-3, 2, -2, -2, -2)   \n",
       "..          ...           ...                      ...                  ...   \n",
       "0     Ave Maria            40         (4, 1, 2, 2, -3)     (4, 1, 2, 2, -3)   \n",
       "2     Ave Maria            40         (4, 1, 2, 2, -3)     (4, 1, 2, 2, -3)   \n",
       "3     Ave Maria            40         (4, 1, 2, 2, -3)     (4, 1, 2, 2, -3)   \n",
       "4     Ave Maria            40         (4, 1, 2, 2, -3)     (4, 1, 2, 2, -3)   \n",
       "1     Ave Maria            40         (4, 1, 2, 2, -3)     (4, 1, 2, 2, -3)   \n",
       "\n",
       "           part  start_measure  start_beat  start_offset  entry_number  \\\n",
       "144  [Superius]             65         1.0         512.0             1   \n",
       "145       Altus             67         1.0         528.0             2   \n",
       "146       Tenor             68         1.0         536.0             3   \n",
       "147      Bassus             70         1.0         552.0             4   \n",
       "156  [Superius]             66         1.0         520.0             1   \n",
       "..          ...            ...         ...           ...           ...   \n",
       "0    [Superius]              1         1.0           0.0             1   \n",
       "2         Altus              3         1.0          16.0             2   \n",
       "3         Tenor              5         1.0          32.0             3   \n",
       "4        Bassus              7         1.0          48.0             4   \n",
       "1    [Superius]            105         3.0         884.0             5   \n",
       "\n",
       "     sum_durs                                offset_diffs predicted_type  \n",
       "144      20.0                           [16.0, 8.0, 16.0]             ID  \n",
       "145      20.0                           [16.0, 8.0, 16.0]             ID  \n",
       "146      20.0                           [16.0, 8.0, 16.0]             ID  \n",
       "147      20.0                           [16.0, 8.0, 16.0]             ID  \n",
       "156      24.0  [16.0, 8.0, 16.0, 22.0, 42.0, 24.0, 522.0]           Fuga  \n",
       "..        ...                                         ...            ...  \n",
       "0        32.0                   [16.0, 16.0, 16.0, 836.0]           Fuga  \n",
       "2        32.0                   [16.0, 16.0, 16.0, 836.0]           Fuga  \n",
       "3        32.0                   [16.0, 16.0, 16.0, 836.0]           Fuga  \n",
       "4        32.0                   [16.0, 16.0, 16.0, 836.0]           Fuga  \n",
       "1        28.0                   [16.0, 16.0, 16.0, 836.0]           Fuga  \n",
       "\n",
       "[219 rows x 12 columns]"
      ],
      "text/html": "<div>\n<style scoped>\n    .dataframe tbody tr th:only-of-type {\n        vertical-align: middle;\n    }\n\n    .dataframe tbody tr th {\n        vertical-align: top;\n    }\n\n    .dataframe thead th {\n        text-align: right;\n    }\n</style>\n<table border=\"1\" class=\"dataframe\">\n  <thead>\n    <tr style=\"text-align: right;\">\n      <th></th>\n      <th>piece_title</th>\n      <th>group_number</th>\n      <th>pattern_generating_match</th>\n      <th>pattern_matched</th>\n      <th>part</th>\n      <th>start_measure</th>\n      <th>start_beat</th>\n      <th>start_offset</th>\n      <th>entry_number</th>\n      <th>sum_durs</th>\n      <th>offset_diffs</th>\n      <th>predicted_type</th>\n    </tr>\n  </thead>\n  <tbody>\n    <tr>\n      <th>144</th>\n      <td>Ave Maria</td>\n      <td>0</td>\n      <td>(-3, 2, -3, 2, -2)</td>\n      <td>(-3, 2, -3, 2, -2)</td>\n      <td>[Superius]</td>\n      <td>65</td>\n      <td>1.0</td>\n      <td>512.0</td>\n      <td>1</td>\n      <td>20.0</td>\n      <td>[16.0, 8.0, 16.0]</td>\n      <td>ID</td>\n    </tr>\n    <tr>\n      <th>145</th>\n      <td>Ave Maria</td>\n      <td>0</td>\n      <td>(-3, 2, -3, 2, -2)</td>\n      <td>(-3, 2, -3, 2, -2)</td>\n      <td>Altus</td>\n      <td>67</td>\n      <td>1.0</td>\n      <td>528.0</td>\n      <td>2</td>\n      <td>20.0</td>\n      <td>[16.0, 8.0, 16.0]</td>\n      <td>ID</td>\n    </tr>\n    <tr>\n      <th>146</th>\n      <td>Ave Maria</td>\n      <td>0</td>\n      <td>(-3, 2, -3, 2, -2)</td>\n      <td>(-3, 2, -3, 2, -2)</td>\n      <td>Tenor</td>\n      <td>68</td>\n      <td>1.0</td>\n      <td>536.0</td>\n      <td>3</td>\n      <td>20.0</td>\n      <td>[16.0, 8.0, 16.0]</td>\n      <td>ID</td>\n    </tr>\n    <tr>\n      <th>147</th>\n      <td>Ave Maria</td>\n      <td>0</td>\n      <td>(-3, 2, -3, 2, -2)</td>\n      <td>(-3, 2, -3, 2, -2)</td>\n      <td>Bassus</td>\n      <td>70</td>\n      <td>1.0</td>\n      <td>552.0</td>\n      <td>4</td>\n      <td>20.0</td>\n      <td>[16.0, 8.0, 16.0]</td>\n      <td>ID</td>\n    </tr>\n    <tr>\n      <th>156</th>\n      <td>Ave Maria</td>\n      <td>1</td>\n      <td>(-3, 2, -2, -2, -2)</td>\n      <td>(-3, 2, -2, -2, -2)</td>\n      <td>[Superius]</td>\n      <td>66</td>\n      <td>1.0</td>\n      <td>520.0</td>\n      <td>1</td>\n      <td>24.0</td>\n      <td>[16.0, 8.0, 16.0, 22.0, 42.0, 24.0, 522.0]</td>\n      <td>Fuga</td>\n    </tr>\n    <tr>\n      <th>...</th>\n      <td>...</td>\n      <td>...</td>\n      <td>...</td>\n      <td>...</td>\n      <td>...</td>\n      <td>...</td>\n      <td>...</td>\n      <td>...</td>\n      <td>...</td>\n      <td>...</td>\n      <td>...</td>\n      <td>...</td>\n    </tr>\n    <tr>\n      <th>0</th>\n      <td>Ave Maria</td>\n      <td>40</td>\n      <td>(4, 1, 2, 2, -3)</td>\n      <td>(4, 1, 2, 2, -3)</td>\n      <td>[Superius]</td>\n      <td>1</td>\n      <td>1.0</td>\n      <td>0.0</td>\n      <td>1</td>\n      <td>32.0</td>\n      <td>[16.0, 16.0, 16.0, 836.0]</td>\n      <td>Fuga</td>\n    </tr>\n    <tr>\n      <th>2</th>\n      <td>Ave Maria</td>\n      <td>40</td>\n      <td>(4, 1, 2, 2, -3)</td>\n      <td>(4, 1, 2, 2, -3)</td>\n      <td>Altus</td>\n      <td>3</td>\n      <td>1.0</td>\n      <td>16.0</td>\n      <td>2</td>\n      <td>32.0</td>\n      <td>[16.0, 16.0, 16.0, 836.0]</td>\n      <td>Fuga</td>\n    </tr>\n    <tr>\n      <th>3</th>\n      <td>Ave Maria</td>\n      <td>40</td>\n      <td>(4, 1, 2, 2, -3)</td>\n      <td>(4, 1, 2, 2, -3)</td>\n      <td>Tenor</td>\n      <td>5</td>\n      <td>1.0</td>\n      <td>32.0</td>\n      <td>3</td>\n      <td>32.0</td>\n      <td>[16.0, 16.0, 16.0, 836.0]</td>\n      <td>Fuga</td>\n    </tr>\n    <tr>\n      <th>4</th>\n      <td>Ave Maria</td>\n      <td>40</td>\n      <td>(4, 1, 2, 2, -3)</td>\n      <td>(4, 1, 2, 2, -3)</td>\n      <td>Bassus</td>\n      <td>7</td>\n      <td>1.0</td>\n      <td>48.0</td>\n      <td>4</td>\n      <td>32.0</td>\n      <td>[16.0, 16.0, 16.0, 836.0]</td>\n      <td>Fuga</td>\n    </tr>\n    <tr>\n      <th>1</th>\n      <td>Ave Maria</td>\n      <td>40</td>\n      <td>(4, 1, 2, 2, -3)</td>\n      <td>(4, 1, 2, 2, -3)</td>\n      <td>[Superius]</td>\n      <td>105</td>\n      <td>3.0</td>\n      <td>884.0</td>\n      <td>5</td>\n      <td>28.0</td>\n      <td>[16.0, 16.0, 16.0, 836.0]</td>\n      <td>Fuga</td>\n    </tr>\n  </tbody>\n</table>\n<p>219 rows × 12 columns</p>\n</div>"
     },
     "metadata": {},
     "execution_count": 32
    }
   ],
   "source": [
    "\n",
    "classified_2 = output_exact.applymap(lists_to_tuples_a).sort_values(\"start_offset\").groupby(\"pattern_matched\").apply(predict_type_a)\n",
    "classified_2[\"group_number\"] = classified_2.groupby('pattern_generating_match').ngroup()\n",
    "classified_2 = classified_2[[\"piece_title\", \"group_number\", \"pattern_generating_match\", \"pattern_matched\", \"part\", \"start_measure\", \"start_beat\", \"start_offset\", \"entry_number\", \"sum_durs\", \"offset_diffs\", \"predicted_type\"]]\n",
    "\n",
    "classified_2 = classified_2.sort_values([\"group_number\", \"entry_number\"])\n",
    "classified_2"
   ]
  },
  {
   "cell_type": "code",
   "execution_count": 166,
   "metadata": {},
   "outputs": [],
   "source": [
    "classified_2.to_csv(\"ave_classified.csv\")"
   ]
  },
  {
   "cell_type": "code",
   "execution_count": 34,
   "metadata": {},
   "outputs": [
    {
     "output_type": "execute_result",
     "data": {
      "text/plain": [
       "             piece_title group_number       pattern_matched predicted_type  \\\n",
       "entry_number                                                                 \n",
       "part                                                                         \n",
       "0              Ave Maria            0    (-3, 2, -3, 2, -2)             ID   \n",
       "1              Ave Maria            1   (-3, 2, -2, -2, -2)           Fuga   \n",
       "2              Ave Maria            2     (-3, 2, 2, 2, -3)           Fuga   \n",
       "3              Ave Maria            3  (-2, -2, -2, -2, -3)           Fuga   \n",
       "4              Ave Maria            4  (-2, -2, -2, -2, -2)           Fuga   \n",
       "\n",
       "                                            offset_diffs start_measure         \\\n",
       "entry_number                                                         1          \n",
       "part                                                             Altus Bassus   \n",
       "0                                      (16.0, 8.0, 16.0)           NaN    NaN   \n",
       "1             (16.0, 8.0, 16.0, 22.0, 42.0, 24.0, 522.0)           NaN    NaN   \n",
       "2                             (0.0, 0.0, 14.0, 2.0, 0.0)           NaN    NaN   \n",
       "3                                    (0.0, 258.0, 302.0)           NaN    NaN   \n",
       "4                                    (14.0, 58.0, 456.0)           NaN    NaN   \n",
       "\n",
       "                                     ... sum_durs                          \\\n",
       "entry_number                      2  ...        8                       9   \n",
       "part         Tenor [Superius] Altus  ...    Altus Bassus [Superius] Altus   \n",
       "0              NaN       65.0  67.0  ...      NaN    NaN        NaN   NaN   \n",
       "1              NaN       66.0  68.0  ...      NaN   10.0        NaN   NaN   \n",
       "2              NaN       44.0   NaN  ...      NaN    NaN        NaN   NaN   \n",
       "3             42.0        NaN   NaN  ...      NaN    NaN        NaN   NaN   \n",
       "4              NaN       19.0   NaN  ...      NaN    NaN        NaN   NaN   \n",
       "\n",
       "                                                       \n",
       "entry_number          10    11               12    13  \n",
       "part         Tenor Altus Altus [Superius] Tenor Altus  \n",
       "0              NaN   NaN   NaN        NaN   NaN   NaN  \n",
       "1              NaN   NaN   NaN        NaN   NaN   NaN  \n",
       "2              NaN   NaN   NaN        NaN   NaN   NaN  \n",
       "3              NaN   NaN   NaN        NaN   NaN   NaN  \n",
       "4              NaN   NaN   NaN        NaN   NaN   NaN  \n",
       "\n",
       "[5 rows x 79 columns]"
      ],
      "text/html": "<div>\n<style scoped>\n    .dataframe tbody tr th:only-of-type {\n        vertical-align: middle;\n    }\n\n    .dataframe tbody tr th {\n        vertical-align: top;\n    }\n\n    .dataframe thead tr th {\n        text-align: left;\n    }\n</style>\n<table border=\"1\" class=\"dataframe\">\n  <thead>\n    <tr>\n      <th></th>\n      <th>piece_title</th>\n      <th>group_number</th>\n      <th>pattern_matched</th>\n      <th>predicted_type</th>\n      <th>offset_diffs</th>\n      <th colspan=\"5\" halign=\"left\">start_measure</th>\n      <th>...</th>\n      <th colspan=\"10\" halign=\"left\">sum_durs</th>\n    </tr>\n    <tr>\n      <th>entry_number</th>\n      <th></th>\n      <th></th>\n      <th></th>\n      <th></th>\n      <th></th>\n      <th colspan=\"4\" halign=\"left\">1</th>\n      <th>2</th>\n      <th>...</th>\n      <th colspan=\"3\" halign=\"left\">8</th>\n      <th colspan=\"2\" halign=\"left\">9</th>\n      <th>10</th>\n      <th colspan=\"2\" halign=\"left\">11</th>\n      <th>12</th>\n      <th>13</th>\n    </tr>\n    <tr>\n      <th>part</th>\n      <th></th>\n      <th></th>\n      <th></th>\n      <th></th>\n      <th></th>\n      <th>Altus</th>\n      <th>Bassus</th>\n      <th>Tenor</th>\n      <th>[Superius]</th>\n      <th>Altus</th>\n      <th>...</th>\n      <th>Altus</th>\n      <th>Bassus</th>\n      <th>[Superius]</th>\n      <th>Altus</th>\n      <th>Tenor</th>\n      <th>Altus</th>\n      <th>Altus</th>\n      <th>[Superius]</th>\n      <th>Tenor</th>\n      <th>Altus</th>\n    </tr>\n  </thead>\n  <tbody>\n    <tr>\n      <th>0</th>\n      <td>Ave Maria</td>\n      <td>0</td>\n      <td>(-3, 2, -3, 2, -2)</td>\n      <td>ID</td>\n      <td>(16.0, 8.0, 16.0)</td>\n      <td>NaN</td>\n      <td>NaN</td>\n      <td>NaN</td>\n      <td>65.0</td>\n      <td>67.0</td>\n      <td>...</td>\n      <td>NaN</td>\n      <td>NaN</td>\n      <td>NaN</td>\n      <td>NaN</td>\n      <td>NaN</td>\n      <td>NaN</td>\n      <td>NaN</td>\n      <td>NaN</td>\n      <td>NaN</td>\n      <td>NaN</td>\n    </tr>\n    <tr>\n      <th>1</th>\n      <td>Ave Maria</td>\n      <td>1</td>\n      <td>(-3, 2, -2, -2, -2)</td>\n      <td>Fuga</td>\n      <td>(16.0, 8.0, 16.0, 22.0, 42.0, 24.0, 522.0)</td>\n      <td>NaN</td>\n      <td>NaN</td>\n      <td>NaN</td>\n      <td>66.0</td>\n      <td>68.0</td>\n      <td>...</td>\n      <td>NaN</td>\n      <td>10.0</td>\n      <td>NaN</td>\n      <td>NaN</td>\n      <td>NaN</td>\n      <td>NaN</td>\n      <td>NaN</td>\n      <td>NaN</td>\n      <td>NaN</td>\n      <td>NaN</td>\n    </tr>\n    <tr>\n      <th>2</th>\n      <td>Ave Maria</td>\n      <td>2</td>\n      <td>(-3, 2, 2, 2, -3)</td>\n      <td>Fuga</td>\n      <td>(0.0, 0.0, 14.0, 2.0, 0.0)</td>\n      <td>NaN</td>\n      <td>NaN</td>\n      <td>NaN</td>\n      <td>44.0</td>\n      <td>NaN</td>\n      <td>...</td>\n      <td>NaN</td>\n      <td>NaN</td>\n      <td>NaN</td>\n      <td>NaN</td>\n      <td>NaN</td>\n      <td>NaN</td>\n      <td>NaN</td>\n      <td>NaN</td>\n      <td>NaN</td>\n      <td>NaN</td>\n    </tr>\n    <tr>\n      <th>3</th>\n      <td>Ave Maria</td>\n      <td>3</td>\n      <td>(-2, -2, -2, -2, -3)</td>\n      <td>Fuga</td>\n      <td>(0.0, 258.0, 302.0)</td>\n      <td>NaN</td>\n      <td>NaN</td>\n      <td>42.0</td>\n      <td>NaN</td>\n      <td>NaN</td>\n      <td>...</td>\n      <td>NaN</td>\n      <td>NaN</td>\n      <td>NaN</td>\n      <td>NaN</td>\n      <td>NaN</td>\n      <td>NaN</td>\n      <td>NaN</td>\n      <td>NaN</td>\n      <td>NaN</td>\n      <td>NaN</td>\n    </tr>\n    <tr>\n      <th>4</th>\n      <td>Ave Maria</td>\n      <td>4</td>\n      <td>(-2, -2, -2, -2, -2)</td>\n      <td>Fuga</td>\n      <td>(14.0, 58.0, 456.0)</td>\n      <td>NaN</td>\n      <td>NaN</td>\n      <td>NaN</td>\n      <td>19.0</td>\n      <td>NaN</td>\n      <td>...</td>\n      <td>NaN</td>\n      <td>NaN</td>\n      <td>NaN</td>\n      <td>NaN</td>\n      <td>NaN</td>\n      <td>NaN</td>\n      <td>NaN</td>\n      <td>NaN</td>\n      <td>NaN</td>\n      <td>NaN</td>\n    </tr>\n  </tbody>\n</table>\n<p>5 rows × 79 columns</p>\n</div>"
     },
     "metadata": {},
     "execution_count": 34
    }
   ],
   "source": [
    "\n",
    "classified_2[\"offset_diffs\"] = classified_2[\"offset_diffs\"].apply(tuple)\n",
    "classified_2_pivot = classified_2.pivot_table(index=[\"piece_title\", \"group_number\", \"pattern_matched\", \"predicted_type\", \"offset_diffs\"],\n",
    "            columns=[\"entry_number\", \"part\"],\n",
    "            values=[\"start_measure\",\"sum_durs\"],\n",
    "            )\n",
    "\n",
    "# classified_2_pivot.columns = [f\"{a}_{b}\" for a, b in classified_2_pivot.columns]\n",
    "classified_2_pivot = classified_2_pivot.reset_index()\n",
    "\n",
    "classified_2_pivot.head()"
   ]
  },
  {
   "cell_type": "code",
   "execution_count": 240,
   "metadata": {},
   "outputs": [
    {
     "output_type": "execute_result",
     "data": {
      "text/plain": [
       "             group_number                                offset_diffs  \\\n",
       "entry_number                                                            \n",
       "part                                                                    \n",
       "0                       0                           (16.0, 8.0, 16.0)   \n",
       "1                       1  (16.0, 8.0, 16.0, 22.0, 42.0, 24.0, 522.0)   \n",
       "2                       2                  (0.0, 0.0, 14.0, 2.0, 0.0)   \n",
       "3                       3                         (0.0, 258.0, 302.0)   \n",
       "4                       4                         (14.0, 58.0, 456.0)   \n",
       "\n",
       "                   pattern_matched piece_title predicted_type start_measure  \\\n",
       "entry_number                                                              1   \n",
       "part                                                                  Altus   \n",
       "0               (-3, 2, -3, 2, -2)   Ave Maria             ID           NaN   \n",
       "1              (-3, 2, -2, -2, -2)   Ave Maria           Fuga           NaN   \n",
       "2                (-3, 2, 2, 2, -3)   Ave Maria           Fuga           NaN   \n",
       "3             (-2, -2, -2, -2, -3)   Ave Maria           Fuga           NaN   \n",
       "4             (-2, -2, -2, -2, -2)   Ave Maria           Fuga           NaN   \n",
       "\n",
       "                                            ...                                \\\n",
       "entry_number                             2  ...     8                       9   \n",
       "part         Bassus Tenor [Superius] Altus  ... Altus Bassus [Superius] Altus   \n",
       "0               NaN   NaN       65.0  67.0  ...   NaN    NaN        NaN   NaN   \n",
       "1               NaN   NaN       66.0  68.0  ...   NaN  139.0        NaN   NaN   \n",
       "2               NaN   NaN       44.0   NaN  ...   NaN    NaN        NaN   NaN   \n",
       "3               NaN  42.0        NaN   NaN  ...   NaN    NaN        NaN   NaN   \n",
       "4               NaN   NaN       19.0   NaN  ...   NaN    NaN        NaN   NaN   \n",
       "\n",
       "                                                       \n",
       "entry_number          10    11               12    13  \n",
       "part         Tenor Altus Altus [Superius] Tenor Altus  \n",
       "0              NaN   NaN   NaN        NaN   NaN   NaN  \n",
       "1              NaN   NaN   NaN        NaN   NaN   NaN  \n",
       "2              NaN   NaN   NaN        NaN   NaN   NaN  \n",
       "3              NaN   NaN   NaN        NaN   NaN   NaN  \n",
       "4              NaN   NaN   NaN        NaN   NaN   NaN  \n",
       "\n",
       "[5 rows x 42 columns]"
      ],
      "text/html": "<div>\n<style scoped>\n    .dataframe tbody tr th:only-of-type {\n        vertical-align: middle;\n    }\n\n    .dataframe tbody tr th {\n        vertical-align: top;\n    }\n\n    .dataframe thead tr th {\n        text-align: left;\n    }\n</style>\n<table border=\"1\" class=\"dataframe\">\n  <thead>\n    <tr>\n      <th></th>\n      <th>group_number</th>\n      <th>offset_diffs</th>\n      <th>pattern_matched</th>\n      <th>piece_title</th>\n      <th>predicted_type</th>\n      <th colspan=\"16\" halign=\"left\">start_measure</th>\n    </tr>\n    <tr>\n      <th>entry_number</th>\n      <th></th>\n      <th></th>\n      <th></th>\n      <th></th>\n      <th></th>\n      <th colspan=\"4\" halign=\"left\">1</th>\n      <th>2</th>\n      <th>...</th>\n      <th colspan=\"3\" halign=\"left\">8</th>\n      <th colspan=\"2\" halign=\"left\">9</th>\n      <th>10</th>\n      <th colspan=\"2\" halign=\"left\">11</th>\n      <th>12</th>\n      <th>13</th>\n    </tr>\n    <tr>\n      <th>part</th>\n      <th></th>\n      <th></th>\n      <th></th>\n      <th></th>\n      <th></th>\n      <th>Altus</th>\n      <th>Bassus</th>\n      <th>Tenor</th>\n      <th>[Superius]</th>\n      <th>Altus</th>\n      <th>...</th>\n      <th>Altus</th>\n      <th>Bassus</th>\n      <th>[Superius]</th>\n      <th>Altus</th>\n      <th>Tenor</th>\n      <th>Altus</th>\n      <th>Altus</th>\n      <th>[Superius]</th>\n      <th>Tenor</th>\n      <th>Altus</th>\n    </tr>\n  </thead>\n  <tbody>\n    <tr>\n      <th>0</th>\n      <td>0</td>\n      <td>(16.0, 8.0, 16.0)</td>\n      <td>(-3, 2, -3, 2, -2)</td>\n      <td>Ave Maria</td>\n      <td>ID</td>\n      <td>NaN</td>\n      <td>NaN</td>\n      <td>NaN</td>\n      <td>65.0</td>\n      <td>67.0</td>\n      <td>...</td>\n      <td>NaN</td>\n      <td>NaN</td>\n      <td>NaN</td>\n      <td>NaN</td>\n      <td>NaN</td>\n      <td>NaN</td>\n      <td>NaN</td>\n      <td>NaN</td>\n      <td>NaN</td>\n      <td>NaN</td>\n    </tr>\n    <tr>\n      <th>1</th>\n      <td>1</td>\n      <td>(16.0, 8.0, 16.0, 22.0, 42.0, 24.0, 522.0)</td>\n      <td>(-3, 2, -2, -2, -2)</td>\n      <td>Ave Maria</td>\n      <td>Fuga</td>\n      <td>NaN</td>\n      <td>NaN</td>\n      <td>NaN</td>\n      <td>66.0</td>\n      <td>68.0</td>\n      <td>...</td>\n      <td>NaN</td>\n      <td>139.0</td>\n      <td>NaN</td>\n      <td>NaN</td>\n      <td>NaN</td>\n      <td>NaN</td>\n      <td>NaN</td>\n      <td>NaN</td>\n      <td>NaN</td>\n      <td>NaN</td>\n    </tr>\n    <tr>\n      <th>2</th>\n      <td>2</td>\n      <td>(0.0, 0.0, 14.0, 2.0, 0.0)</td>\n      <td>(-3, 2, 2, 2, -3)</td>\n      <td>Ave Maria</td>\n      <td>Fuga</td>\n      <td>NaN</td>\n      <td>NaN</td>\n      <td>NaN</td>\n      <td>44.0</td>\n      <td>NaN</td>\n      <td>...</td>\n      <td>NaN</td>\n      <td>NaN</td>\n      <td>NaN</td>\n      <td>NaN</td>\n      <td>NaN</td>\n      <td>NaN</td>\n      <td>NaN</td>\n      <td>NaN</td>\n      <td>NaN</td>\n      <td>NaN</td>\n    </tr>\n    <tr>\n      <th>3</th>\n      <td>3</td>\n      <td>(0.0, 258.0, 302.0)</td>\n      <td>(-2, -2, -2, -2, -3)</td>\n      <td>Ave Maria</td>\n      <td>Fuga</td>\n      <td>NaN</td>\n      <td>NaN</td>\n      <td>42.0</td>\n      <td>NaN</td>\n      <td>NaN</td>\n      <td>...</td>\n      <td>NaN</td>\n      <td>NaN</td>\n      <td>NaN</td>\n      <td>NaN</td>\n      <td>NaN</td>\n      <td>NaN</td>\n      <td>NaN</td>\n      <td>NaN</td>\n      <td>NaN</td>\n      <td>NaN</td>\n    </tr>\n    <tr>\n      <th>4</th>\n      <td>4</td>\n      <td>(14.0, 58.0, 456.0)</td>\n      <td>(-2, -2, -2, -2, -2)</td>\n      <td>Ave Maria</td>\n      <td>Fuga</td>\n      <td>NaN</td>\n      <td>NaN</td>\n      <td>NaN</td>\n      <td>19.0</td>\n      <td>NaN</td>\n      <td>...</td>\n      <td>NaN</td>\n      <td>NaN</td>\n      <td>NaN</td>\n      <td>NaN</td>\n      <td>NaN</td>\n      <td>NaN</td>\n      <td>NaN</td>\n      <td>NaN</td>\n      <td>NaN</td>\n      <td>NaN</td>\n    </tr>\n  </tbody>\n</table>\n<p>5 rows × 42 columns</p>\n</div>"
     },
     "metadata": {},
     "execution_count": 240
    }
   ],
   "source": [
    "# to sort columns, you could determine these via a Metadata Table  \n",
    "# extract list of the columns: 'wide_df.columns'.  Then sort them on the basis of some metadata for each piece\n",
    "# this is an alphabetical sort of col names, but we could specify voice order \n",
    "classified_2_pivot[sorted(classified_2_pivot.columns)].head()"
   ]
  },
  {
   "cell_type": "markdown",
   "metadata": {},
   "source": [
    "# Durational Ratios\n",
    "\n",
    "### This Function Calculates the Ratios of the Durations in each Match"
   ]
  },
  {
   "cell_type": "code",
   "execution_count": 35,
   "metadata": {},
   "outputs": [],
   "source": [
    "# makes pairs of ratio strings\n",
    "\n",
    "def pairwise(iterable):\n",
    "    \"s -> (s0,s1), (s1,s2), (s2, s3), ...\"\n",
    "    a, b = tee(iterable)\n",
    "    next(b, None)\n",
    "    return zip(a, b)\n",
    "\n",
    "def get_ratios(input_list):\n",
    "    ratio_pairs = []\n",
    "    for a, b in pairwise(input_list):\n",
    "        ratio_pairs.append(b / a)\n",
    "    return ratio_pairs\n",
    "\n",
    "\n"
   ]
  },
  {
   "cell_type": "markdown",
   "metadata": {},
   "source": [
    "### Now call the function to operate on the RESULTS file from earlier\n",
    "\n",
    "#### \"results\" = the output of close or exact match"
   ]
  },
  {
   "cell_type": "code",
   "execution_count": 36,
   "metadata": {},
   "outputs": [
    {
     "output_type": "execute_result",
     "data": {
      "text/plain": [
       "  pattern_generating_match   pattern_matched piece_title        part  \\\n",
       "0         (4, 1, 2, 2, -3)  [4, 1, 2, 2, -3]   Ave Maria  [Superius]   \n",
       "1         (4, 1, 2, 2, -3)  [4, 1, 2, 2, -3]   Ave Maria  [Superius]   \n",
       "2         (4, 1, 2, 2, -3)  [4, 1, 2, 2, -3]   Ave Maria       Altus   \n",
       "3         (4, 1, 2, 2, -3)  [4, 1, 2, 2, -3]   Ave Maria       Tenor   \n",
       "4         (4, 1, 2, 2, -3)  [4, 1, 2, 2, -3]   Ave Maria      Bassus   \n",
       "\n",
       "   start_measure  start_beat  end_measure  end_beat  start_offset  end_offset  \\\n",
       "0              1         1.0            4       1.0           0.0        24.0   \n",
       "1            105         3.0          107       3.5         884.0       910.0   \n",
       "2              3         1.0            6       1.0          16.0        40.0   \n",
       "3              5         1.0            8       1.0          32.0        56.0   \n",
       "4              7         1.0           10       1.0          48.0        72.0   \n",
       "\n",
       "                   note_durations  sum_durs  \\\n",
       "0  [4.0, 8.0, 4.0, 4.0, 4.0, 8.0]      32.0   \n",
       "1  [4.0, 8.0, 4.0, 4.0, 6.0, 2.0]      28.0   \n",
       "2  [4.0, 8.0, 4.0, 4.0, 4.0, 8.0]      32.0   \n",
       "3  [4.0, 8.0, 4.0, 4.0, 4.0, 8.0]      32.0   \n",
       "4  [4.0, 8.0, 4.0, 4.0, 4.0, 8.0]      32.0   \n",
       "\n",
       "                            duration_ratios  \n",
       "0                 [2.0, 0.5, 1.0, 1.0, 2.0]  \n",
       "1  [2.0, 0.5, 1.0, 1.5, 0.3333333333333333]  \n",
       "2                 [2.0, 0.5, 1.0, 1.0, 2.0]  \n",
       "3                 [2.0, 0.5, 1.0, 1.0, 2.0]  \n",
       "4                 [2.0, 0.5, 1.0, 1.0, 2.0]  "
      ],
      "text/html": "<div>\n<style scoped>\n    .dataframe tbody tr th:only-of-type {\n        vertical-align: middle;\n    }\n\n    .dataframe tbody tr th {\n        vertical-align: top;\n    }\n\n    .dataframe thead th {\n        text-align: right;\n    }\n</style>\n<table border=\"1\" class=\"dataframe\">\n  <thead>\n    <tr style=\"text-align: right;\">\n      <th></th>\n      <th>pattern_generating_match</th>\n      <th>pattern_matched</th>\n      <th>piece_title</th>\n      <th>part</th>\n      <th>start_measure</th>\n      <th>start_beat</th>\n      <th>end_measure</th>\n      <th>end_beat</th>\n      <th>start_offset</th>\n      <th>end_offset</th>\n      <th>note_durations</th>\n      <th>sum_durs</th>\n      <th>duration_ratios</th>\n    </tr>\n  </thead>\n  <tbody>\n    <tr>\n      <th>0</th>\n      <td>(4, 1, 2, 2, -3)</td>\n      <td>[4, 1, 2, 2, -3]</td>\n      <td>Ave Maria</td>\n      <td>[Superius]</td>\n      <td>1</td>\n      <td>1.0</td>\n      <td>4</td>\n      <td>1.0</td>\n      <td>0.0</td>\n      <td>24.0</td>\n      <td>[4.0, 8.0, 4.0, 4.0, 4.0, 8.0]</td>\n      <td>32.0</td>\n      <td>[2.0, 0.5, 1.0, 1.0, 2.0]</td>\n    </tr>\n    <tr>\n      <th>1</th>\n      <td>(4, 1, 2, 2, -3)</td>\n      <td>[4, 1, 2, 2, -3]</td>\n      <td>Ave Maria</td>\n      <td>[Superius]</td>\n      <td>105</td>\n      <td>3.0</td>\n      <td>107</td>\n      <td>3.5</td>\n      <td>884.0</td>\n      <td>910.0</td>\n      <td>[4.0, 8.0, 4.0, 4.0, 6.0, 2.0]</td>\n      <td>28.0</td>\n      <td>[2.0, 0.5, 1.0, 1.5, 0.3333333333333333]</td>\n    </tr>\n    <tr>\n      <th>2</th>\n      <td>(4, 1, 2, 2, -3)</td>\n      <td>[4, 1, 2, 2, -3]</td>\n      <td>Ave Maria</td>\n      <td>Altus</td>\n      <td>3</td>\n      <td>1.0</td>\n      <td>6</td>\n      <td>1.0</td>\n      <td>16.0</td>\n      <td>40.0</td>\n      <td>[4.0, 8.0, 4.0, 4.0, 4.0, 8.0]</td>\n      <td>32.0</td>\n      <td>[2.0, 0.5, 1.0, 1.0, 2.0]</td>\n    </tr>\n    <tr>\n      <th>3</th>\n      <td>(4, 1, 2, 2, -3)</td>\n      <td>[4, 1, 2, 2, -3]</td>\n      <td>Ave Maria</td>\n      <td>Tenor</td>\n      <td>5</td>\n      <td>1.0</td>\n      <td>8</td>\n      <td>1.0</td>\n      <td>32.0</td>\n      <td>56.0</td>\n      <td>[4.0, 8.0, 4.0, 4.0, 4.0, 8.0]</td>\n      <td>32.0</td>\n      <td>[2.0, 0.5, 1.0, 1.0, 2.0]</td>\n    </tr>\n    <tr>\n      <th>4</th>\n      <td>(4, 1, 2, 2, -3)</td>\n      <td>[4, 1, 2, 2, -3]</td>\n      <td>Ave Maria</td>\n      <td>Bassus</td>\n      <td>7</td>\n      <td>1.0</td>\n      <td>10</td>\n      <td>1.0</td>\n      <td>48.0</td>\n      <td>72.0</td>\n      <td>[4.0, 8.0, 4.0, 4.0, 4.0, 8.0]</td>\n      <td>32.0</td>\n      <td>[2.0, 0.5, 1.0, 1.0, 2.0]</td>\n    </tr>\n  </tbody>\n</table>\n</div>"
     },
     "metadata": {},
     "execution_count": 36
    }
   ],
   "source": [
    "# calculates 'duration ratios' for each soggetto, then adds this to the DF\n",
    "\n",
    "results[\"duration_ratios\"] = results.note_durations.apply(get_ratios)\n",
    "short_results = results.drop(columns=[\"ema_url\", \"ema\"])\n",
    "short_results.head()"
   ]
  },
  {
   "cell_type": "code",
   "execution_count": 36,
   "metadata": {},
   "outputs": [
    {
     "output_type": "execute_result",
     "data": {
      "text/plain": [
       "  pattern_generating_match   pattern_matched piece_title        part  \\\n",
       "0         (4, 1, 2, 2, -3)  [4, 1, 2, 2, -3]   Ave Maria  [Superius]   \n",
       "2         (4, 1, 2, 2, -3)  [4, 1, 2, 2, -3]   Ave Maria       Altus   \n",
       "3         (4, 1, 2, 2, -3)  [4, 1, 2, 2, -3]   Ave Maria       Tenor   \n",
       "4         (4, 1, 2, 2, -3)  [4, 1, 2, 2, -3]   Ave Maria      Bassus   \n",
       "1         (4, 1, 2, 2, -3)  [4, 1, 2, 2, -3]   Ave Maria  [Superius]   \n",
       "\n",
       "   start_measure  start_beat  end_measure  end_beat  start_offset  end_offset  \\\n",
       "0              1         1.0            4       1.0           0.0        24.0   \n",
       "2              3         1.0            6       1.0          16.0        40.0   \n",
       "3              5         1.0            8       1.0          32.0        56.0   \n",
       "4              7         1.0           10       1.0          48.0        72.0   \n",
       "1            105         3.0          107       3.5         884.0       910.0   \n",
       "\n",
       "                   note_durations                           duration_ratios  \\\n",
       "0  (4.0, 8.0, 4.0, 4.0, 4.0, 8.0)                 [2.0, 0.5, 1.0, 1.0, 2.0]   \n",
       "2  (4.0, 8.0, 4.0, 4.0, 4.0, 8.0)                 [2.0, 0.5, 1.0, 1.0, 2.0]   \n",
       "3  (4.0, 8.0, 4.0, 4.0, 4.0, 8.0)                 [2.0, 0.5, 1.0, 1.0, 2.0]   \n",
       "4  (4.0, 8.0, 4.0, 4.0, 4.0, 8.0)                 [2.0, 0.5, 1.0, 1.0, 2.0]   \n",
       "1  (4.0, 8.0, 4.0, 4.0, 6.0, 2.0)  [2.0, 0.5, 1.0, 1.5, 0.3333333333333333]   \n",
       "\n",
       "   next_offset  \n",
       "0         16.0  \n",
       "2         32.0  \n",
       "3         48.0  \n",
       "4        884.0  \n",
       "1          NaN  "
      ],
      "text/html": "<div>\n<style scoped>\n    .dataframe tbody tr th:only-of-type {\n        vertical-align: middle;\n    }\n\n    .dataframe tbody tr th {\n        vertical-align: top;\n    }\n\n    .dataframe thead th {\n        text-align: right;\n    }\n</style>\n<table border=\"1\" class=\"dataframe\">\n  <thead>\n    <tr style=\"text-align: right;\">\n      <th></th>\n      <th>pattern_generating_match</th>\n      <th>pattern_matched</th>\n      <th>piece_title</th>\n      <th>part</th>\n      <th>start_measure</th>\n      <th>start_beat</th>\n      <th>end_measure</th>\n      <th>end_beat</th>\n      <th>start_offset</th>\n      <th>end_offset</th>\n      <th>note_durations</th>\n      <th>duration_ratios</th>\n      <th>next_offset</th>\n    </tr>\n  </thead>\n  <tbody>\n    <tr>\n      <th>0</th>\n      <td>(4, 1, 2, 2, -3)</td>\n      <td>[4, 1, 2, 2, -3]</td>\n      <td>Ave Maria</td>\n      <td>[Superius]</td>\n      <td>1</td>\n      <td>1.0</td>\n      <td>4</td>\n      <td>1.0</td>\n      <td>0.0</td>\n      <td>24.0</td>\n      <td>(4.0, 8.0, 4.0, 4.0, 4.0, 8.0)</td>\n      <td>[2.0, 0.5, 1.0, 1.0, 2.0]</td>\n      <td>16.0</td>\n    </tr>\n    <tr>\n      <th>2</th>\n      <td>(4, 1, 2, 2, -3)</td>\n      <td>[4, 1, 2, 2, -3]</td>\n      <td>Ave Maria</td>\n      <td>Altus</td>\n      <td>3</td>\n      <td>1.0</td>\n      <td>6</td>\n      <td>1.0</td>\n      <td>16.0</td>\n      <td>40.0</td>\n      <td>(4.0, 8.0, 4.0, 4.0, 4.0, 8.0)</td>\n      <td>[2.0, 0.5, 1.0, 1.0, 2.0]</td>\n      <td>32.0</td>\n    </tr>\n    <tr>\n      <th>3</th>\n      <td>(4, 1, 2, 2, -3)</td>\n      <td>[4, 1, 2, 2, -3]</td>\n      <td>Ave Maria</td>\n      <td>Tenor</td>\n      <td>5</td>\n      <td>1.0</td>\n      <td>8</td>\n      <td>1.0</td>\n      <td>32.0</td>\n      <td>56.0</td>\n      <td>(4.0, 8.0, 4.0, 4.0, 4.0, 8.0)</td>\n      <td>[2.0, 0.5, 1.0, 1.0, 2.0]</td>\n      <td>48.0</td>\n    </tr>\n    <tr>\n      <th>4</th>\n      <td>(4, 1, 2, 2, -3)</td>\n      <td>[4, 1, 2, 2, -3]</td>\n      <td>Ave Maria</td>\n      <td>Bassus</td>\n      <td>7</td>\n      <td>1.0</td>\n      <td>10</td>\n      <td>1.0</td>\n      <td>48.0</td>\n      <td>72.0</td>\n      <td>(4.0, 8.0, 4.0, 4.0, 4.0, 8.0)</td>\n      <td>[2.0, 0.5, 1.0, 1.0, 2.0]</td>\n      <td>884.0</td>\n    </tr>\n    <tr>\n      <th>1</th>\n      <td>(4, 1, 2, 2, -3)</td>\n      <td>[4, 1, 2, 2, -3]</td>\n      <td>Ave Maria</td>\n      <td>[Superius]</td>\n      <td>105</td>\n      <td>3.0</td>\n      <td>107</td>\n      <td>3.5</td>\n      <td>884.0</td>\n      <td>910.0</td>\n      <td>(4.0, 8.0, 4.0, 4.0, 6.0, 2.0)</td>\n      <td>[2.0, 0.5, 1.0, 1.5, 0.3333333333333333]</td>\n      <td>NaN</td>\n    </tr>\n  </tbody>\n</table>\n</div>"
     },
     "metadata": {},
     "execution_count": 36
    }
   ],
   "source": [
    "# create column with _next_ start offset as shifted value (which in turn allows us to perform comparison)\n",
    "\n",
    "one_group[\"next_offset\"] = one_group.start_offset.shift(-1)\n",
    "one_group.head()"
   ]
  },
  {
   "cell_type": "code",
   "execution_count": 40,
   "metadata": {},
   "outputs": [
    {
     "output_type": "stream",
     "name": "stdout",
     "text": [
      "836.0\n"
     ]
    }
   ],
   "source": [
    "# get difference between start_offset and _next_ start offset\n",
    "\n",
    "offset_difference_list = (one_group.next_offset - one_group.start_offset).dropna().tolist()\n",
    "offset_difference_list\n",
    "print(offset_difference_list[-1])\n",
    "\n"
   ]
  },
  {
   "cell_type": "code",
   "execution_count": 42,
   "metadata": {},
   "outputs": [
    {
     "output_type": "execute_result",
     "data": {
      "text/plain": [
       "                                                                                                            0\n",
       "pattern_generating_match note_durations                 duration_ratios                                      \n",
       "(-5, 1, 2, 1, -5)        (4.0, 8.0, 4.0, 8.0, 4.0, 8.0) (2.0, 0.5, 2.0, 0.5, 2.0)                           2\n",
       "(-3, -2, -2, -2, -2)     (2.0, 3.0, 1.0, 1.0, 1.0, 4.0) (1.5, 0.3333333333333333, 1.0, 1.0, 4.0)            1\n",
       "                         (3.0, 1.0, 1.0, 1.0, 3.0, 1.0) (0.3333333333333333, 1.0, 1.0, 3.0, 0.333333333...  1\n",
       "                         (3.0, 1.0, 2.0, 2.0, 4.0, 2.0) (0.3333333333333333, 2.0, 1.0, 2.0, 0.5)            1\n",
       "                         (3.0, 1.0, 4.0, 2.0, 4.0, 4.0) (0.3333333333333333, 4.0, 0.5, 2.0, 1.0)            1"
      ],
      "text/html": "<div>\n<style scoped>\n    .dataframe tbody tr th:only-of-type {\n        vertical-align: middle;\n    }\n\n    .dataframe tbody tr th {\n        vertical-align: top;\n    }\n\n    .dataframe thead th {\n        text-align: right;\n    }\n</style>\n<table border=\"1\" class=\"dataframe\">\n  <thead>\n    <tr style=\"text-align: right;\">\n      <th></th>\n      <th></th>\n      <th></th>\n      <th>0</th>\n    </tr>\n    <tr>\n      <th>pattern_generating_match</th>\n      <th>note_durations</th>\n      <th>duration_ratios</th>\n      <th></th>\n    </tr>\n  </thead>\n  <tbody>\n    <tr>\n      <th>(-5, 1, 2, 1, -5)</th>\n      <th>(4.0, 8.0, 4.0, 8.0, 4.0, 8.0)</th>\n      <th>(2.0, 0.5, 2.0, 0.5, 2.0)</th>\n      <td>2</td>\n    </tr>\n    <tr>\n      <th rowspan=\"4\" valign=\"top\">(-3, -2, -2, -2, -2)</th>\n      <th>(2.0, 3.0, 1.0, 1.0, 1.0, 4.0)</th>\n      <th>(1.5, 0.3333333333333333, 1.0, 1.0, 4.0)</th>\n      <td>1</td>\n    </tr>\n    <tr>\n      <th>(3.0, 1.0, 1.0, 1.0, 3.0, 1.0)</th>\n      <th>(0.3333333333333333, 1.0, 1.0, 3.0, 0.3333333333333333)</th>\n      <td>1</td>\n    </tr>\n    <tr>\n      <th>(3.0, 1.0, 2.0, 2.0, 4.0, 2.0)</th>\n      <th>(0.3333333333333333, 2.0, 1.0, 2.0, 0.5)</th>\n      <td>1</td>\n    </tr>\n    <tr>\n      <th>(3.0, 1.0, 4.0, 2.0, 4.0, 4.0)</th>\n      <th>(0.3333333333333333, 4.0, 0.5, 2.0, 1.0)</th>\n      <td>1</td>\n    </tr>\n  </tbody>\n</table>\n</div>"
     },
     "metadata": {},
     "execution_count": 42
    }
   ],
   "source": [
    "results[\"duration_ratios\"] = results[\"duration_ratios\"].apply(tuple)\n",
    "results[\"note_durations\"] = results[\"note_durations\"].apply(tuple)\n",
    "df3 = pd.DataFrame(results.groupby([\"pattern_generating_match\", \"note_durations\", \"duration_ratios\"]).size())\n",
    "df3.head()"
   ]
  },
  {
   "source": [
    "### Sum of Durations for a particular soggetto\n",
    "\n",
    "#### We already determined this at the outset in Exact and Close Matches without need for function!"
   ],
   "cell_type": "markdown",
   "metadata": {}
  },
  {
   "cell_type": "code",
   "execution_count": 38,
   "metadata": {},
   "outputs": [],
   "source": [
    "def sum_durs(results, pattern_col, output_cols):\n",
    "    \n",
    "    sum_durs = []\n",
    "    li = results[\"note_durations\"]\n",
    "\n",
    "    for name, group in results.groupby(pattern_col):\n",
    "\n",
    "        sum_durs = ([sum(i) for i in li])\n",
    "        sum_durs.append(sum_durs)\n",
    "            \n",
    "    return pd.DataFrame(sum_durs)"
   ]
  },
  {
   "cell_type": "code",
   "execution_count": 39,
   "metadata": {},
   "outputs": [],
   "source": [
    "def sum_durs_2(results, pattern_col, output_cols):\n",
    "    \n",
    "    sum_durs = []\n",
    "    #this is getting all groups\n",
    "    # then iterate over them and pass through the process we work out below\n",
    "    for name, group in results.groupby(pattern_col):\n",
    "\n",
    "        sum_durs = ([sum(i) for i in group.note_durations])\n",
    "        sum_durs.append(sum_durs)\n",
    "            \n",
    "    return pd.DataFrame(sum_durs)"
   ]
  },
  {
   "cell_type": "code",
   "execution_count": 40,
   "metadata": {},
   "outputs": [],
   "source": [
    "def offset_diffs(results, pattern_col, output_cols):\n",
    "    \n",
    "    offset_diffs = []\n",
    "    od = results[\"start_offset\"]\n",
    " \n",
    "    for name, group in results.groupby(pattern_col):\n",
    "\n",
    "        offset_diffs = [od[i + 1] - od[i] for i in range(len(od)-1)]\n",
    "        offset_diffs.append(offset_diffs)\n",
    "            \n",
    "    return pd.DataFrame(offset_diffs)"
   ]
  },
  {
   "source": [
    "### Now sorted by Start Offset"
   ],
   "cell_type": "markdown",
   "metadata": {}
  },
  {
   "cell_type": "code",
   "execution_count": 62,
   "metadata": {},
   "outputs": [
    {
     "output_type": "execute_result",
     "data": {
      "text/plain": [
       "  pattern_generating_match      pattern_matched piece_title        part  \\\n",
       "0         (4, 1, 2, 2, -3)     (4, 1, 2, 2, -3)   Ave Maria  [Superius]   \n",
       "2         (4, 1, 2, 2, -3)     (4, 1, 2, 2, -3)   Ave Maria       Altus   \n",
       "3         (4, 1, 2, 2, -3)     (4, 1, 2, 2, -3)   Ave Maria       Tenor   \n",
       "4         (4, 1, 2, 2, -3)     (4, 1, 2, 2, -3)   Ave Maria      Bassus   \n",
       "5      (-2, -2, -2, 2, -2)  (-2, -2, -2, 2, -2)   Ave Maria  [Superius]   \n",
       "\n",
       "   start_measure  start_beat  end_measure  end_beat  start_offset  end_offset  \\\n",
       "0              1         1.0            4       1.0           0.0        24.0   \n",
       "2              3         1.0            6       1.0          16.0        40.0   \n",
       "3              5         1.0            8       1.0          32.0        56.0   \n",
       "4              7         1.0           10       1.0          48.0        72.0   \n",
       "5              8         1.0           10       2.0          56.0        74.0   \n",
       "\n",
       "                   note_durations  sum_durs  \\\n",
       "0  (4.0, 8.0, 4.0, 4.0, 4.0, 8.0)      32.0   \n",
       "2  (4.0, 8.0, 4.0, 4.0, 4.0, 8.0)      32.0   \n",
       "3  (4.0, 8.0, 4.0, 4.0, 4.0, 8.0)      32.0   \n",
       "4  (4.0, 8.0, 4.0, 4.0, 4.0, 8.0)      32.0   \n",
       "5  (6.0, 2.0, 4.0, 4.0, 2.0, 2.0)      20.0   \n",
       "\n",
       "                            duration_ratios  \\\n",
       "0                 (2.0, 0.5, 1.0, 1.0, 2.0)   \n",
       "2                 (2.0, 0.5, 1.0, 1.0, 2.0)   \n",
       "3                 (2.0, 0.5, 1.0, 1.0, 2.0)   \n",
       "4                 (2.0, 0.5, 1.0, 1.0, 2.0)   \n",
       "5  (0.3333333333333333, 2.0, 1.0, 0.5, 1.0)   \n",
       "\n",
       "                                    sum_of_durations  \n",
       "0                                                 32  \n",
       "2                                                 32  \n",
       "3                                                 32  \n",
       "4                                                 28  \n",
       "5  [32.0, 32.0, 32.0, 32.0, 28.0, [32.0, 32.0, 32...  "
      ],
      "text/html": "<div>\n<style scoped>\n    .dataframe tbody tr th:only-of-type {\n        vertical-align: middle;\n    }\n\n    .dataframe tbody tr th {\n        vertical-align: top;\n    }\n\n    .dataframe thead th {\n        text-align: right;\n    }\n</style>\n<table border=\"1\" class=\"dataframe\">\n  <thead>\n    <tr style=\"text-align: right;\">\n      <th></th>\n      <th>pattern_generating_match</th>\n      <th>pattern_matched</th>\n      <th>piece_title</th>\n      <th>part</th>\n      <th>start_measure</th>\n      <th>start_beat</th>\n      <th>end_measure</th>\n      <th>end_beat</th>\n      <th>start_offset</th>\n      <th>end_offset</th>\n      <th>note_durations</th>\n      <th>sum_durs</th>\n      <th>duration_ratios</th>\n      <th>sum_of_durations</th>\n    </tr>\n  </thead>\n  <tbody>\n    <tr>\n      <th>0</th>\n      <td>(4, 1, 2, 2, -3)</td>\n      <td>(4, 1, 2, 2, -3)</td>\n      <td>Ave Maria</td>\n      <td>[Superius]</td>\n      <td>1</td>\n      <td>1.0</td>\n      <td>4</td>\n      <td>1.0</td>\n      <td>0.0</td>\n      <td>24.0</td>\n      <td>(4.0, 8.0, 4.0, 4.0, 4.0, 8.0)</td>\n      <td>32.0</td>\n      <td>(2.0, 0.5, 1.0, 1.0, 2.0)</td>\n      <td>32</td>\n    </tr>\n    <tr>\n      <th>2</th>\n      <td>(4, 1, 2, 2, -3)</td>\n      <td>(4, 1, 2, 2, -3)</td>\n      <td>Ave Maria</td>\n      <td>Altus</td>\n      <td>3</td>\n      <td>1.0</td>\n      <td>6</td>\n      <td>1.0</td>\n      <td>16.0</td>\n      <td>40.0</td>\n      <td>(4.0, 8.0, 4.0, 4.0, 4.0, 8.0)</td>\n      <td>32.0</td>\n      <td>(2.0, 0.5, 1.0, 1.0, 2.0)</td>\n      <td>32</td>\n    </tr>\n    <tr>\n      <th>3</th>\n      <td>(4, 1, 2, 2, -3)</td>\n      <td>(4, 1, 2, 2, -3)</td>\n      <td>Ave Maria</td>\n      <td>Tenor</td>\n      <td>5</td>\n      <td>1.0</td>\n      <td>8</td>\n      <td>1.0</td>\n      <td>32.0</td>\n      <td>56.0</td>\n      <td>(4.0, 8.0, 4.0, 4.0, 4.0, 8.0)</td>\n      <td>32.0</td>\n      <td>(2.0, 0.5, 1.0, 1.0, 2.0)</td>\n      <td>32</td>\n    </tr>\n    <tr>\n      <th>4</th>\n      <td>(4, 1, 2, 2, -3)</td>\n      <td>(4, 1, 2, 2, -3)</td>\n      <td>Ave Maria</td>\n      <td>Bassus</td>\n      <td>7</td>\n      <td>1.0</td>\n      <td>10</td>\n      <td>1.0</td>\n      <td>48.0</td>\n      <td>72.0</td>\n      <td>(4.0, 8.0, 4.0, 4.0, 4.0, 8.0)</td>\n      <td>32.0</td>\n      <td>(2.0, 0.5, 1.0, 1.0, 2.0)</td>\n      <td>28</td>\n    </tr>\n    <tr>\n      <th>5</th>\n      <td>(-2, -2, -2, 2, -2)</td>\n      <td>(-2, -2, -2, 2, -2)</td>\n      <td>Ave Maria</td>\n      <td>[Superius]</td>\n      <td>8</td>\n      <td>1.0</td>\n      <td>10</td>\n      <td>2.0</td>\n      <td>56.0</td>\n      <td>74.0</td>\n      <td>(6.0, 2.0, 4.0, 4.0, 2.0, 2.0)</td>\n      <td>20.0</td>\n      <td>(0.3333333333333333, 2.0, 1.0, 0.5, 1.0)</td>\n      <td>[32.0, 32.0, 32.0, 32.0, 28.0, [32.0, 32.0, 32...</td>\n    </tr>\n  </tbody>\n</table>\n</div>"
     },
     "metadata": {},
     "execution_count": 62
    }
   ],
   "source": [
    "results[\"duration_ratios\"] = results[\"duration_ratios\"].apply(tuple)\n",
    "results[\"note_durations\"] = results[\"note_durations\"].apply(tuple)\n",
    "results[\"duration_ratios\"] = results[\"duration_ratios\"].apply(tuple)\n",
    "results[\"pattern_matched\"] = results[\"pattern_matched\"].apply(tuple)\n",
    "results[\"pattern_generating_match\"] = results[\"pattern_generating_match\"].apply(tuple)\n",
    "# results.groupby([\"pattern_matched\"]).sort_values([\"start_offset\"], ascending = False).reset_index(drop=True)\n",
    "\n",
    "results = results.sort_values(\"start_offset\")\n",
    "\n",
    "results.head()\n",
    "\n",
    "\n",
    "# results[\"offset_diffs\"] = offset_diffs(results, \"pattern_generating_match\", \"offset_diffs\")\n",
    "# results2 = results[[\"pattern_matched\", \"part\", \"start_offset\", \"duration_ratios\", \"offset_diffs\"]]\n",
    "# results2\n"
   ]
  },
  {
   "source": [
    "results[\"duration_ratios\"] = results[\"duration_ratios\"].apply(tuple)\n",
    "results[\"note_durations\"] = results[\"note_durations\"].apply(tuple)\n",
    "results[\"duration_ratios\"] = results[\"duration_ratios\"].apply(tuple)\n",
    "results[\"pattern_matched\"] = results[\"pattern_matched\"].apply(tuple)\n",
    "\n",
    "sum_durs_2(results, \"pattern_generating_match\", \"sum_durations\")\n",
    "results[\"sum_of_durations\"] = sum_durs_2(results, \"pattern_generating_match\", \"sum_durations\")\n",
    "# results2 = results[[\"pattern_matched\", \"part\", \"start_offset\", \"sum_of_durations\", \"duration_ratios\"]]\n",
    "results.head()\n",
    "\n",
    "# results2 = pd.DataFrame(results2.groupby([\"pattern_matched\", \"sum_of_durations\", \"duration_ratios\"]).size())\n",
    "# results2\n"
   ],
   "cell_type": "code",
   "metadata": {},
   "execution_count": 60,
   "outputs": [
    {
     "output_type": "execute_result",
     "data": {
      "text/plain": [
       "  pattern_generating_match      pattern_matched piece_title        part  \\\n",
       "0         (4, 1, 2, 2, -3)     (4, 1, 2, 2, -3)   Ave Maria  [Superius]   \n",
       "2         (4, 1, 2, 2, -3)     (4, 1, 2, 2, -3)   Ave Maria       Altus   \n",
       "3         (4, 1, 2, 2, -3)     (4, 1, 2, 2, -3)   Ave Maria       Tenor   \n",
       "4         (4, 1, 2, 2, -3)     (4, 1, 2, 2, -3)   Ave Maria      Bassus   \n",
       "5      (-2, -2, -2, 2, -2)  (-2, -2, -2, 2, -2)   Ave Maria  [Superius]   \n",
       "\n",
       "   start_measure  start_beat  end_measure  end_beat  start_offset  end_offset  \\\n",
       "0              1         1.0            4       1.0           0.0        24.0   \n",
       "2              3         1.0            6       1.0          16.0        40.0   \n",
       "3              5         1.0            8       1.0          32.0        56.0   \n",
       "4              7         1.0           10       1.0          48.0        72.0   \n",
       "5              8         1.0           10       2.0          56.0        74.0   \n",
       "\n",
       "                   note_durations  sum_durs  \\\n",
       "0  (4.0, 8.0, 4.0, 4.0, 4.0, 8.0)      32.0   \n",
       "2  (4.0, 8.0, 4.0, 4.0, 4.0, 8.0)      32.0   \n",
       "3  (4.0, 8.0, 4.0, 4.0, 4.0, 8.0)      32.0   \n",
       "4  (4.0, 8.0, 4.0, 4.0, 4.0, 8.0)      32.0   \n",
       "5  (6.0, 2.0, 4.0, 4.0, 2.0, 2.0)      20.0   \n",
       "\n",
       "                            duration_ratios  \\\n",
       "0                 (2.0, 0.5, 1.0, 1.0, 2.0)   \n",
       "2                 (2.0, 0.5, 1.0, 1.0, 2.0)   \n",
       "3                 (2.0, 0.5, 1.0, 1.0, 2.0)   \n",
       "4                 (2.0, 0.5, 1.0, 1.0, 2.0)   \n",
       "5  (0.3333333333333333, 2.0, 1.0, 0.5, 1.0)   \n",
       "\n",
       "                                    sum_of_durations  \n",
       "0                                                 32  \n",
       "2                                                 32  \n",
       "3                                                 32  \n",
       "4                                                 28  \n",
       "5  [32.0, 32.0, 32.0, 32.0, 28.0, [32.0, 32.0, 32...  "
      ],
      "text/html": "<div>\n<style scoped>\n    .dataframe tbody tr th:only-of-type {\n        vertical-align: middle;\n    }\n\n    .dataframe tbody tr th {\n        vertical-align: top;\n    }\n\n    .dataframe thead th {\n        text-align: right;\n    }\n</style>\n<table border=\"1\" class=\"dataframe\">\n  <thead>\n    <tr style=\"text-align: right;\">\n      <th></th>\n      <th>pattern_generating_match</th>\n      <th>pattern_matched</th>\n      <th>piece_title</th>\n      <th>part</th>\n      <th>start_measure</th>\n      <th>start_beat</th>\n      <th>end_measure</th>\n      <th>end_beat</th>\n      <th>start_offset</th>\n      <th>end_offset</th>\n      <th>note_durations</th>\n      <th>sum_durs</th>\n      <th>duration_ratios</th>\n      <th>sum_of_durations</th>\n    </tr>\n  </thead>\n  <tbody>\n    <tr>\n      <th>0</th>\n      <td>(4, 1, 2, 2, -3)</td>\n      <td>(4, 1, 2, 2, -3)</td>\n      <td>Ave Maria</td>\n      <td>[Superius]</td>\n      <td>1</td>\n      <td>1.0</td>\n      <td>4</td>\n      <td>1.0</td>\n      <td>0.0</td>\n      <td>24.0</td>\n      <td>(4.0, 8.0, 4.0, 4.0, 4.0, 8.0)</td>\n      <td>32.0</td>\n      <td>(2.0, 0.5, 1.0, 1.0, 2.0)</td>\n      <td>32</td>\n    </tr>\n    <tr>\n      <th>2</th>\n      <td>(4, 1, 2, 2, -3)</td>\n      <td>(4, 1, 2, 2, -3)</td>\n      <td>Ave Maria</td>\n      <td>Altus</td>\n      <td>3</td>\n      <td>1.0</td>\n      <td>6</td>\n      <td>1.0</td>\n      <td>16.0</td>\n      <td>40.0</td>\n      <td>(4.0, 8.0, 4.0, 4.0, 4.0, 8.0)</td>\n      <td>32.0</td>\n      <td>(2.0, 0.5, 1.0, 1.0, 2.0)</td>\n      <td>32</td>\n    </tr>\n    <tr>\n      <th>3</th>\n      <td>(4, 1, 2, 2, -3)</td>\n      <td>(4, 1, 2, 2, -3)</td>\n      <td>Ave Maria</td>\n      <td>Tenor</td>\n      <td>5</td>\n      <td>1.0</td>\n      <td>8</td>\n      <td>1.0</td>\n      <td>32.0</td>\n      <td>56.0</td>\n      <td>(4.0, 8.0, 4.0, 4.0, 4.0, 8.0)</td>\n      <td>32.0</td>\n      <td>(2.0, 0.5, 1.0, 1.0, 2.0)</td>\n      <td>32</td>\n    </tr>\n    <tr>\n      <th>4</th>\n      <td>(4, 1, 2, 2, -3)</td>\n      <td>(4, 1, 2, 2, -3)</td>\n      <td>Ave Maria</td>\n      <td>Bassus</td>\n      <td>7</td>\n      <td>1.0</td>\n      <td>10</td>\n      <td>1.0</td>\n      <td>48.0</td>\n      <td>72.0</td>\n      <td>(4.0, 8.0, 4.0, 4.0, 4.0, 8.0)</td>\n      <td>32.0</td>\n      <td>(2.0, 0.5, 1.0, 1.0, 2.0)</td>\n      <td>28</td>\n    </tr>\n    <tr>\n      <th>5</th>\n      <td>(-2, -2, -2, 2, -2)</td>\n      <td>(-2, -2, -2, 2, -2)</td>\n      <td>Ave Maria</td>\n      <td>[Superius]</td>\n      <td>8</td>\n      <td>1.0</td>\n      <td>10</td>\n      <td>2.0</td>\n      <td>56.0</td>\n      <td>74.0</td>\n      <td>(6.0, 2.0, 4.0, 4.0, 2.0, 2.0)</td>\n      <td>20.0</td>\n      <td>(0.3333333333333333, 2.0, 1.0, 0.5, 1.0)</td>\n      <td>[32.0, 32.0, 32.0, 32.0, 28.0, [32.0, 32.0, 32...</td>\n    </tr>\n  </tbody>\n</table>\n</div>"
     },
     "metadata": {},
     "execution_count": 60
    }
   ]
  },
  {
   "cell_type": "markdown",
   "metadata": {},
   "source": [
    "## Group by the Pattern Generating Match\n",
    "- Each has its own string of durations, and duration ratios\n",
    "- and then we compare the ratios to get the differences\n",
    "- the \"list(combinations)\" method takes care of building the pairs, using data from our dataframe 'results'"
   ]
  },
  {
   "cell_type": "code",
   "execution_count": 43,
   "metadata": {},
   "outputs": [],
   "source": [
    "def compare_ratios(ratios_1, ratios_2):\n",
    "    \n",
    "    ## division of lists \n",
    "    # using zip() + list comprehension \n",
    "    diffs = [i - j for i, j in zip(ratios_1, ratios_2)] \n",
    "    abs_diffs = [abs(ele) for ele in diffs] \n",
    "    sum_diffs = sum(abs_diffs)\n",
    "\n",
    "    return sum_diffs\n",
    "\n",
    "#results[\"Pattern_Generating_Match\"] = results[\"Pattern_Generating_Match\"].apply(tuple) \n",
    "\n",
    "def get_ratio_distances(results, pattern_col, output_cols):\n",
    "    \n",
    "    matches = []\n",
    "\n",
    "    for name, group in results.groupby(pattern_col):\n",
    "\n",
    "        ratio_pairs = list(combinations(group.index.values, 2))\n",
    "\n",
    "        for a, b in ratio_pairs:\n",
    "            \n",
    "            a_match = results.loc[a]\n",
    "            b_match = results.loc[b]\n",
    "            \n",
    "            sum_diffs = compare_ratios(a_match.duration_ratios, b_match.duration_ratios)\n",
    "            \n",
    "            match_dict = {\n",
    "                \"pattern\": name,\n",
    "                \"sum_diffs\": sum_diffs\n",
    "            }\n",
    "            \n",
    "            for col in output_cols:\n",
    "                match_dict.update({\n",
    "                    f\"match_1_{col}\": a_match[col],\n",
    "                    f\"match_2_{col}\": b_match[col]\n",
    "                })\n",
    "                \n",
    "            matches.append(match_dict)\n",
    "            \n",
    "    return pd.DataFrame(matches)"
   ]
  },
  {
   "cell_type": "markdown",
   "metadata": {},
   "source": [
    "### Now Run the Function to get the 'edit distances' for the durations of matching patterns"
   ]
  },
  {
   "cell_type": "code",
   "execution_count": 44,
   "metadata": {},
   "outputs": [
    {
     "output_type": "execute_result",
     "data": {
      "text/plain": [
       "                pattern  sum_diffs match_1_piece_title match_2_piece_title  \\\n",
       "0    (-3, 2, -3, 2, -2)   0.000000           Ave Maria           Ave Maria   \n",
       "1    (-3, 2, -3, 2, -2)   0.000000           Ave Maria           Ave Maria   \n",
       "2    (-3, 2, -3, 2, -2)   0.000000           Ave Maria           Ave Maria   \n",
       "3    (-3, 2, -3, 2, -2)   0.000000           Ave Maria           Ave Maria   \n",
       "4    (-3, 2, -3, 2, -2)   0.000000           Ave Maria           Ave Maria   \n",
       "..                  ...        ...                 ...                 ...   \n",
       "558    (4, 1, 2, 2, -3)   0.000000           Ave Maria           Ave Maria   \n",
       "559    (4, 1, 2, 2, -3)   2.166667           Ave Maria           Ave Maria   \n",
       "560    (4, 1, 2, 2, -3)   0.000000           Ave Maria           Ave Maria   \n",
       "561    (4, 1, 2, 2, -3)   2.166667           Ave Maria           Ave Maria   \n",
       "562    (4, 1, 2, 2, -3)   2.166667           Ave Maria           Ave Maria   \n",
       "\n",
       "    match_1_part match_2_part  match_1_start_measure  match_2_start_measure  \\\n",
       "0     [Superius]        Altus                     65                     67   \n",
       "1     [Superius]        Tenor                     65                     68   \n",
       "2     [Superius]       Bassus                     65                     70   \n",
       "3          Altus        Tenor                     67                     68   \n",
       "4          Altus       Bassus                     67                     70   \n",
       "..           ...          ...                    ...                    ...   \n",
       "558        Altus       Bassus                      3                      7   \n",
       "559        Altus   [Superius]                      3                    105   \n",
       "560        Tenor       Bassus                      5                      7   \n",
       "561        Tenor   [Superius]                      5                    105   \n",
       "562       Bassus   [Superius]                      7                    105   \n",
       "\n",
       "     match_1_start_offset  match_2_start_offset  \n",
       "0                   512.0                 528.0  \n",
       "1                   512.0                 536.0  \n",
       "2                   512.0                 552.0  \n",
       "3                   528.0                 536.0  \n",
       "4                   528.0                 552.0  \n",
       "..                    ...                   ...  \n",
       "558                  16.0                  48.0  \n",
       "559                  16.0                 884.0  \n",
       "560                  32.0                  48.0  \n",
       "561                  32.0                 884.0  \n",
       "562                  48.0                 884.0  \n",
       "\n",
       "[563 rows x 10 columns]"
      ],
      "text/html": "<div>\n<style scoped>\n    .dataframe tbody tr th:only-of-type {\n        vertical-align: middle;\n    }\n\n    .dataframe tbody tr th {\n        vertical-align: top;\n    }\n\n    .dataframe thead th {\n        text-align: right;\n    }\n</style>\n<table border=\"1\" class=\"dataframe\">\n  <thead>\n    <tr style=\"text-align: right;\">\n      <th></th>\n      <th>pattern</th>\n      <th>sum_diffs</th>\n      <th>match_1_piece_title</th>\n      <th>match_2_piece_title</th>\n      <th>match_1_part</th>\n      <th>match_2_part</th>\n      <th>match_1_start_measure</th>\n      <th>match_2_start_measure</th>\n      <th>match_1_start_offset</th>\n      <th>match_2_start_offset</th>\n    </tr>\n  </thead>\n  <tbody>\n    <tr>\n      <th>0</th>\n      <td>(-3, 2, -3, 2, -2)</td>\n      <td>0.000000</td>\n      <td>Ave Maria</td>\n      <td>Ave Maria</td>\n      <td>[Superius]</td>\n      <td>Altus</td>\n      <td>65</td>\n      <td>67</td>\n      <td>512.0</td>\n      <td>528.0</td>\n    </tr>\n    <tr>\n      <th>1</th>\n      <td>(-3, 2, -3, 2, -2)</td>\n      <td>0.000000</td>\n      <td>Ave Maria</td>\n      <td>Ave Maria</td>\n      <td>[Superius]</td>\n      <td>Tenor</td>\n      <td>65</td>\n      <td>68</td>\n      <td>512.0</td>\n      <td>536.0</td>\n    </tr>\n    <tr>\n      <th>2</th>\n      <td>(-3, 2, -3, 2, -2)</td>\n      <td>0.000000</td>\n      <td>Ave Maria</td>\n      <td>Ave Maria</td>\n      <td>[Superius]</td>\n      <td>Bassus</td>\n      <td>65</td>\n      <td>70</td>\n      <td>512.0</td>\n      <td>552.0</td>\n    </tr>\n    <tr>\n      <th>3</th>\n      <td>(-3, 2, -3, 2, -2)</td>\n      <td>0.000000</td>\n      <td>Ave Maria</td>\n      <td>Ave Maria</td>\n      <td>Altus</td>\n      <td>Tenor</td>\n      <td>67</td>\n      <td>68</td>\n      <td>528.0</td>\n      <td>536.0</td>\n    </tr>\n    <tr>\n      <th>4</th>\n      <td>(-3, 2, -3, 2, -2)</td>\n      <td>0.000000</td>\n      <td>Ave Maria</td>\n      <td>Ave Maria</td>\n      <td>Altus</td>\n      <td>Bassus</td>\n      <td>67</td>\n      <td>70</td>\n      <td>528.0</td>\n      <td>552.0</td>\n    </tr>\n    <tr>\n      <th>...</th>\n      <td>...</td>\n      <td>...</td>\n      <td>...</td>\n      <td>...</td>\n      <td>...</td>\n      <td>...</td>\n      <td>...</td>\n      <td>...</td>\n      <td>...</td>\n      <td>...</td>\n    </tr>\n    <tr>\n      <th>558</th>\n      <td>(4, 1, 2, 2, -3)</td>\n      <td>0.000000</td>\n      <td>Ave Maria</td>\n      <td>Ave Maria</td>\n      <td>Altus</td>\n      <td>Bassus</td>\n      <td>3</td>\n      <td>7</td>\n      <td>16.0</td>\n      <td>48.0</td>\n    </tr>\n    <tr>\n      <th>559</th>\n      <td>(4, 1, 2, 2, -3)</td>\n      <td>2.166667</td>\n      <td>Ave Maria</td>\n      <td>Ave Maria</td>\n      <td>Altus</td>\n      <td>[Superius]</td>\n      <td>3</td>\n      <td>105</td>\n      <td>16.0</td>\n      <td>884.0</td>\n    </tr>\n    <tr>\n      <th>560</th>\n      <td>(4, 1, 2, 2, -3)</td>\n      <td>0.000000</td>\n      <td>Ave Maria</td>\n      <td>Ave Maria</td>\n      <td>Tenor</td>\n      <td>Bassus</td>\n      <td>5</td>\n      <td>7</td>\n      <td>32.0</td>\n      <td>48.0</td>\n    </tr>\n    <tr>\n      <th>561</th>\n      <td>(4, 1, 2, 2, -3)</td>\n      <td>2.166667</td>\n      <td>Ave Maria</td>\n      <td>Ave Maria</td>\n      <td>Tenor</td>\n      <td>[Superius]</td>\n      <td>5</td>\n      <td>105</td>\n      <td>32.0</td>\n      <td>884.0</td>\n    </tr>\n    <tr>\n      <th>562</th>\n      <td>(4, 1, 2, 2, -3)</td>\n      <td>2.166667</td>\n      <td>Ave Maria</td>\n      <td>Ave Maria</td>\n      <td>Bassus</td>\n      <td>[Superius]</td>\n      <td>7</td>\n      <td>105</td>\n      <td>48.0</td>\n      <td>884.0</td>\n    </tr>\n  </tbody>\n</table>\n<p>563 rows × 10 columns</p>\n</div>"
     },
     "metadata": {},
     "execution_count": 44
    }
   ],
   "source": [
    "ratio_distances = get_ratio_distances(results, \"pattern_generating_match\", [\"piece_title\", \"part\", \"start_measure\", \"start_offset\"])\n",
    "ratio_distances"
   ]
  },
  {
   "cell_type": "markdown",
   "metadata": {},
   "source": [
    "### And FILTER the results according to any threshold we like"
   ]
  },
  {
   "cell_type": "code",
   "execution_count": 45,
   "metadata": {},
   "outputs": [
    {
     "output_type": "execute_result",
     "data": {
      "text/plain": [
       "                pattern  sum_diffs match_1_piece_title match_2_piece_title  \\\n",
       "0    (-3, 2, -3, 2, -2)        0.0           Ave Maria           Ave Maria   \n",
       "1    (-3, 2, -3, 2, -2)        0.0           Ave Maria           Ave Maria   \n",
       "2    (-3, 2, -3, 2, -2)        0.0           Ave Maria           Ave Maria   \n",
       "3    (-3, 2, -3, 2, -2)        0.0           Ave Maria           Ave Maria   \n",
       "4    (-3, 2, -3, 2, -2)        0.0           Ave Maria           Ave Maria   \n",
       "..                  ...        ...                 ...                 ...   \n",
       "554    (4, 1, 2, 2, -3)        0.0           Ave Maria           Ave Maria   \n",
       "555    (4, 1, 2, 2, -3)        0.0           Ave Maria           Ave Maria   \n",
       "557    (4, 1, 2, 2, -3)        0.0           Ave Maria           Ave Maria   \n",
       "558    (4, 1, 2, 2, -3)        0.0           Ave Maria           Ave Maria   \n",
       "560    (4, 1, 2, 2, -3)        0.0           Ave Maria           Ave Maria   \n",
       "\n",
       "    match_1_part match_2_part  match_1_start_measure  match_2_start_measure  \\\n",
       "0     [Superius]        Altus                     65                     67   \n",
       "1     [Superius]        Tenor                     65                     68   \n",
       "2     [Superius]       Bassus                     65                     70   \n",
       "3          Altus        Tenor                     67                     68   \n",
       "4          Altus       Bassus                     67                     70   \n",
       "..           ...          ...                    ...                    ...   \n",
       "554   [Superius]        Tenor                      1                      5   \n",
       "555   [Superius]       Bassus                      1                      7   \n",
       "557        Altus        Tenor                      3                      5   \n",
       "558        Altus       Bassus                      3                      7   \n",
       "560        Tenor       Bassus                      5                      7   \n",
       "\n",
       "     match_1_start_offset  match_2_start_offset  \n",
       "0                   512.0                 528.0  \n",
       "1                   512.0                 536.0  \n",
       "2                   512.0                 552.0  \n",
       "3                   528.0                 536.0  \n",
       "4                   528.0                 552.0  \n",
       "..                    ...                   ...  \n",
       "554                   0.0                  32.0  \n",
       "555                   0.0                  48.0  \n",
       "557                  16.0                  32.0  \n",
       "558                  16.0                  48.0  \n",
       "560                  32.0                  48.0  \n",
       "\n",
       "[240 rows x 10 columns]"
      ],
      "text/html": "<div>\n<style scoped>\n    .dataframe tbody tr th:only-of-type {\n        vertical-align: middle;\n    }\n\n    .dataframe tbody tr th {\n        vertical-align: top;\n    }\n\n    .dataframe thead th {\n        text-align: right;\n    }\n</style>\n<table border=\"1\" class=\"dataframe\">\n  <thead>\n    <tr style=\"text-align: right;\">\n      <th></th>\n      <th>pattern</th>\n      <th>sum_diffs</th>\n      <th>match_1_piece_title</th>\n      <th>match_2_piece_title</th>\n      <th>match_1_part</th>\n      <th>match_2_part</th>\n      <th>match_1_start_measure</th>\n      <th>match_2_start_measure</th>\n      <th>match_1_start_offset</th>\n      <th>match_2_start_offset</th>\n    </tr>\n  </thead>\n  <tbody>\n    <tr>\n      <th>0</th>\n      <td>(-3, 2, -3, 2, -2)</td>\n      <td>0.0</td>\n      <td>Ave Maria</td>\n      <td>Ave Maria</td>\n      <td>[Superius]</td>\n      <td>Altus</td>\n      <td>65</td>\n      <td>67</td>\n      <td>512.0</td>\n      <td>528.0</td>\n    </tr>\n    <tr>\n      <th>1</th>\n      <td>(-3, 2, -3, 2, -2)</td>\n      <td>0.0</td>\n      <td>Ave Maria</td>\n      <td>Ave Maria</td>\n      <td>[Superius]</td>\n      <td>Tenor</td>\n      <td>65</td>\n      <td>68</td>\n      <td>512.0</td>\n      <td>536.0</td>\n    </tr>\n    <tr>\n      <th>2</th>\n      <td>(-3, 2, -3, 2, -2)</td>\n      <td>0.0</td>\n      <td>Ave Maria</td>\n      <td>Ave Maria</td>\n      <td>[Superius]</td>\n      <td>Bassus</td>\n      <td>65</td>\n      <td>70</td>\n      <td>512.0</td>\n      <td>552.0</td>\n    </tr>\n    <tr>\n      <th>3</th>\n      <td>(-3, 2, -3, 2, -2)</td>\n      <td>0.0</td>\n      <td>Ave Maria</td>\n      <td>Ave Maria</td>\n      <td>Altus</td>\n      <td>Tenor</td>\n      <td>67</td>\n      <td>68</td>\n      <td>528.0</td>\n      <td>536.0</td>\n    </tr>\n    <tr>\n      <th>4</th>\n      <td>(-3, 2, -3, 2, -2)</td>\n      <td>0.0</td>\n      <td>Ave Maria</td>\n      <td>Ave Maria</td>\n      <td>Altus</td>\n      <td>Bassus</td>\n      <td>67</td>\n      <td>70</td>\n      <td>528.0</td>\n      <td>552.0</td>\n    </tr>\n    <tr>\n      <th>...</th>\n      <td>...</td>\n      <td>...</td>\n      <td>...</td>\n      <td>...</td>\n      <td>...</td>\n      <td>...</td>\n      <td>...</td>\n      <td>...</td>\n      <td>...</td>\n      <td>...</td>\n    </tr>\n    <tr>\n      <th>554</th>\n      <td>(4, 1, 2, 2, -3)</td>\n      <td>0.0</td>\n      <td>Ave Maria</td>\n      <td>Ave Maria</td>\n      <td>[Superius]</td>\n      <td>Tenor</td>\n      <td>1</td>\n      <td>5</td>\n      <td>0.0</td>\n      <td>32.0</td>\n    </tr>\n    <tr>\n      <th>555</th>\n      <td>(4, 1, 2, 2, -3)</td>\n      <td>0.0</td>\n      <td>Ave Maria</td>\n      <td>Ave Maria</td>\n      <td>[Superius]</td>\n      <td>Bassus</td>\n      <td>1</td>\n      <td>7</td>\n      <td>0.0</td>\n      <td>48.0</td>\n    </tr>\n    <tr>\n      <th>557</th>\n      <td>(4, 1, 2, 2, -3)</td>\n      <td>0.0</td>\n      <td>Ave Maria</td>\n      <td>Ave Maria</td>\n      <td>Altus</td>\n      <td>Tenor</td>\n      <td>3</td>\n      <td>5</td>\n      <td>16.0</td>\n      <td>32.0</td>\n    </tr>\n    <tr>\n      <th>558</th>\n      <td>(4, 1, 2, 2, -3)</td>\n      <td>0.0</td>\n      <td>Ave Maria</td>\n      <td>Ave Maria</td>\n      <td>Altus</td>\n      <td>Bassus</td>\n      <td>3</td>\n      <td>7</td>\n      <td>16.0</td>\n      <td>48.0</td>\n    </tr>\n    <tr>\n      <th>560</th>\n      <td>(4, 1, 2, 2, -3)</td>\n      <td>0.0</td>\n      <td>Ave Maria</td>\n      <td>Ave Maria</td>\n      <td>Tenor</td>\n      <td>Bassus</td>\n      <td>5</td>\n      <td>7</td>\n      <td>32.0</td>\n      <td>48.0</td>\n    </tr>\n  </tbody>\n</table>\n<p>240 rows × 10 columns</p>\n</div>"
     },
     "metadata": {},
     "execution_count": 45
    }
   ],
   "source": [
    "ratios_filtered = ratio_distances[ratio_distances.sum_diffs <= 1]\n",
    "ratios_filtered"
   ]
  },
  {
   "cell_type": "markdown",
   "metadata": {},
   "source": [
    "### Now Group the Duration-Filter Results by the Pattern (which shows us very closely related soggetti in sets)"
   ]
  },
  {
   "cell_type": "code",
   "execution_count": 46,
   "metadata": {},
   "outputs": [
    {
     "output_type": "execute_result",
     "data": {
      "text/plain": [
       "39"
      ]
     },
     "metadata": {},
     "execution_count": 46
    }
   ],
   "source": [
    "grouped = ratios_filtered.groupby(\"pattern\")\n",
    "len(grouped['pattern'].nunique())"
   ]
  },
  {
   "cell_type": "code",
   "execution_count": 123,
   "metadata": {},
   "outputs": [],
   "source": [
    "ratios_filtered.to_csv(\"filtered_sample_pair.csv\")"
   ]
  },
  {
   "source": [
    "# Greedy Soggetti\n",
    "* Groups by voice part\n",
    "* Gets one voice, then creates shifted cols to contain current+previous intervals and durations\n",
    "* slices each tuple: removes first from previous match and last from current match\n",
    "* if these are identical, then we can merge the two soggetti"
   ],
   "cell_type": "markdown",
   "metadata": {}
  },
  {
   "cell_type": "code",
   "execution_count": 47,
   "metadata": {},
   "outputs": [],
   "source": [
    "results[\"pattern_matched\"] = results[\"pattern_matched\"].apply(tuple)\n",
    "# results_s = results.drop(columns=[\"ema_url\", \"ema\", \"duration_ratios\", \"pattern_generating_match\"])\n",
    "# # #results_s[\"group_number\"] = group_number\n",
    "# # results_grouped = results_s.groupby(by=[\"piece_title\", \"part\"])\n",
    "# # results_grouped.sort_values(\"start_measure\")\n",
    "# # results_grouped.head()\n",
    "# results_shifted = results_s.groupby([\"part\"]).shift(1)\n",
    "# results_shifted.head()\n"
   ]
  },
  {
   "cell_type": "code",
   "execution_count": 49,
   "metadata": {},
   "outputs": [],
   "source": [
    "# function to group by piece and part, then add shfted columns to accept Greedy Data\n",
    "# the 'df: pd.DataFrame' here is a way of specifying the type that ought to go here\n",
    "# it's a form of annotation or 'typing'\n",
    "\n",
    "def add_shifted_cols(df: pd.DataFrame,\n",
    "                    group_cols: list,\n",
    "                    shift_cols: list,\n",
    "                    shift_periods=-1,\n",
    "                    shifted_prefix=\"next\"\n",
    "                    ) -> pd.DataFrame:\n",
    "    \n",
    "    \n",
    "    df = df.copy()\n",
    "\n",
    "    df_shifted = df.groupby(group_cols).shift(shift_periods)\n",
    "\n",
    "    df[[ f\"{shifted_prefix}_{c}\" for c in shift_cols]] = df_shifted[shift_cols]\n",
    "\n",
    "    return df"
   ]
  },
  {
   "cell_type": "code",
   "execution_count": 50,
   "metadata": {},
   "outputs": [],
   "source": [
    "# Sequence here helps us deal with tuples in the data, slicing as needed the various lists of vectors and durations\n",
    "\n",
    "from typing import Sequence\n",
    "\n",
    "def add_subsequence_cols(df: pd.DataFrame, this_sequence_cols: Sequence, next_sequence_cols: Sequence) -> pd.DataFrame:\n",
    "\n",
    "    df = df.copy()\n",
    "\n",
    "    for col in this_sequence_cols:\n",
    "            df[f\"{col}_short\"] = df[col].dropna().apply(lambda x: x[1:]) \n",
    "    \n",
    "    for col in next_sequence_cols:\n",
    "            df[f\"{col}_short\"] = df[col].dropna().apply(lambda x: x[:-1])\n",
    "          \n",
    "\n",
    "    return df\n",
    "\n"
   ]
  },
  {
   "cell_type": "code",
   "execution_count": 51,
   "metadata": {},
   "outputs": [
    {
     "output_type": "execute_result",
     "data": {
      "text/plain": [
       "         pattern_matched piece_title        part  start_measure  start_beat  \\\n",
       "0       (4, 1, 2, 2, -3)   Ave Maria  [Superius]              1         1.0   \n",
       "2       (4, 1, 2, 2, -3)   Ave Maria       Altus              3         1.0   \n",
       "3       (4, 1, 2, 2, -3)   Ave Maria       Tenor              5         1.0   \n",
       "4       (4, 1, 2, 2, -3)   Ave Maria      Bassus              7         1.0   \n",
       "5    (-2, -2, -2, 2, -2)   Ave Maria  [Superius]              8         1.0   \n",
       "..                   ...         ...         ...            ...         ...   \n",
       "163  (-3, 2, -2, -2, -2)   Ave Maria      Bassus            139         2.0   \n",
       "111   (2, -2, -2, -2, 2)   Ave Maria      Bassus            139         3.0   \n",
       "155   (2, -3, 2, -2, -2)   Ave Maria      Bassus            139         1.0   \n",
       "35     (2, -2, 1, -2, 2)   Ave Maria       Altus            139         1.0   \n",
       "8    (-2, -2, -2, 2, -2)   Ave Maria      Bassus            139         4.0   \n",
       "\n",
       "     end_measure  end_beat  start_offset  end_offset  \\\n",
       "0              4       1.0           0.0        24.0   \n",
       "2              6       1.0          16.0        40.0   \n",
       "3              8       1.0          32.0        56.0   \n",
       "4             10       1.0          48.0        72.0   \n",
       "5             10       2.0          56.0        74.0   \n",
       "..           ...       ...           ...         ...   \n",
       "163          140       2.5        1170.0      1179.0   \n",
       "111          140       3.0        1172.0      1180.0   \n",
       "155          140       2.0        1168.0      1178.0   \n",
       "35           141       3.0        1168.0      1180.0   \n",
       "8            141       1.0        1174.0      1184.0   \n",
       "\n",
       "                     note_durations  sum_durs  \\\n",
       "0    (4.0, 8.0, 4.0, 4.0, 4.0, 8.0)      32.0   \n",
       "2    (4.0, 8.0, 4.0, 4.0, 4.0, 8.0)      32.0   \n",
       "3    (4.0, 8.0, 4.0, 4.0, 4.0, 8.0)      32.0   \n",
       "4    (4.0, 8.0, 4.0, 4.0, 4.0, 8.0)      32.0   \n",
       "5    (6.0, 2.0, 4.0, 4.0, 2.0, 2.0)      20.0   \n",
       "..                              ...       ...   \n",
       "163  (2.0, 2.0, 3.0, 1.0, 1.0, 1.0)      10.0   \n",
       "111  (2.0, 3.0, 1.0, 1.0, 1.0, 4.0)      12.0   \n",
       "155  (2.0, 2.0, 2.0, 3.0, 1.0, 1.0)      11.0   \n",
       "35   (2.0, 3.0, 1.0, 4.0, 2.0, 8.0)      20.0   \n",
       "8    (3.0, 1.0, 1.0, 1.0, 4.0, 8.0)      18.0   \n",
       "\n",
       "                              duration_ratios  \\\n",
       "0                   (2.0, 0.5, 1.0, 1.0, 2.0)   \n",
       "2                   (2.0, 0.5, 1.0, 1.0, 2.0)   \n",
       "3                   (2.0, 0.5, 1.0, 1.0, 2.0)   \n",
       "4                   (2.0, 0.5, 1.0, 1.0, 2.0)   \n",
       "5    (0.3333333333333333, 2.0, 1.0, 0.5, 1.0)   \n",
       "..                                        ...   \n",
       "163  (1.0, 1.5, 0.3333333333333333, 1.0, 1.0)   \n",
       "111  (1.5, 0.3333333333333333, 1.0, 1.0, 4.0)   \n",
       "155  (1.0, 1.0, 1.5, 0.3333333333333333, 1.0)   \n",
       "35   (1.5, 0.3333333333333333, 4.0, 0.5, 4.0)   \n",
       "8    (0.3333333333333333, 1.0, 1.0, 4.0, 2.0)   \n",
       "\n",
       "                                      sum_of_durations  next_start_measure  \\\n",
       "0                                                   32                 8.0   \n",
       "2                                                   32                10.0   \n",
       "3                                                   32                12.0   \n",
       "4                                                   28                14.0   \n",
       "5    [32.0, 32.0, 32.0, 32.0, 28.0, [32.0, 32.0, 32...                16.0   \n",
       "..                                                 ...                 ...   \n",
       "163                                                NaN               139.0   \n",
       "111                                                NaN               139.0   \n",
       "155                                                NaN               139.0   \n",
       "35                                                 NaN                 NaN   \n",
       "8                                                  NaN                 NaN   \n",
       "\n",
       "     next_end_measure             next_note_durations next_pattern_matched  \n",
       "0                10.0  (6.0, 2.0, 4.0, 4.0, 2.0, 2.0)  (-2, -2, -2, 2, -2)  \n",
       "2                12.0  (6.0, 2.0, 4.0, 4.0, 3.0, 1.0)  (-2, -2, -2, 2, -2)  \n",
       "3                14.0  (6.0, 2.0, 4.0, 4.0, 2.0, 2.0)  (-2, -2, -2, 2, -2)  \n",
       "4                16.0  (6.0, 2.0, 4.0, 4.0, 6.0, 2.0)   (-2, -2, -2, 2, 2)  \n",
       "5                19.0  (6.0, 2.0, 4.0, 4.0, 4.0, 3.0)     (1, 1, 2, 2, -3)  \n",
       "..                ...                             ...                  ...  \n",
       "163             140.0  (2.0, 3.0, 1.0, 1.0, 1.0, 4.0)   (2, -2, -2, -2, 2)  \n",
       "111             141.0  (3.0, 1.0, 1.0, 1.0, 4.0, 8.0)  (-2, -2, -2, 2, -2)  \n",
       "155             140.0  (2.0, 2.0, 3.0, 1.0, 1.0, 1.0)  (-3, 2, -2, -2, -2)  \n",
       "35                NaN                             NaN                  NaN  \n",
       "8                 NaN                             NaN                  NaN  \n",
       "\n",
       "[219 rows x 17 columns]"
      ],
      "text/html": "<div>\n<style scoped>\n    .dataframe tbody tr th:only-of-type {\n        vertical-align: middle;\n    }\n\n    .dataframe tbody tr th {\n        vertical-align: top;\n    }\n\n    .dataframe thead th {\n        text-align: right;\n    }\n</style>\n<table border=\"1\" class=\"dataframe\">\n  <thead>\n    <tr style=\"text-align: right;\">\n      <th></th>\n      <th>pattern_matched</th>\n      <th>piece_title</th>\n      <th>part</th>\n      <th>start_measure</th>\n      <th>start_beat</th>\n      <th>end_measure</th>\n      <th>end_beat</th>\n      <th>start_offset</th>\n      <th>end_offset</th>\n      <th>note_durations</th>\n      <th>sum_durs</th>\n      <th>duration_ratios</th>\n      <th>sum_of_durations</th>\n      <th>next_start_measure</th>\n      <th>next_end_measure</th>\n      <th>next_note_durations</th>\n      <th>next_pattern_matched</th>\n    </tr>\n  </thead>\n  <tbody>\n    <tr>\n      <th>0</th>\n      <td>(4, 1, 2, 2, -3)</td>\n      <td>Ave Maria</td>\n      <td>[Superius]</td>\n      <td>1</td>\n      <td>1.0</td>\n      <td>4</td>\n      <td>1.0</td>\n      <td>0.0</td>\n      <td>24.0</td>\n      <td>(4.0, 8.0, 4.0, 4.0, 4.0, 8.0)</td>\n      <td>32.0</td>\n      <td>(2.0, 0.5, 1.0, 1.0, 2.0)</td>\n      <td>32</td>\n      <td>8.0</td>\n      <td>10.0</td>\n      <td>(6.0, 2.0, 4.0, 4.0, 2.0, 2.0)</td>\n      <td>(-2, -2, -2, 2, -2)</td>\n    </tr>\n    <tr>\n      <th>2</th>\n      <td>(4, 1, 2, 2, -3)</td>\n      <td>Ave Maria</td>\n      <td>Altus</td>\n      <td>3</td>\n      <td>1.0</td>\n      <td>6</td>\n      <td>1.0</td>\n      <td>16.0</td>\n      <td>40.0</td>\n      <td>(4.0, 8.0, 4.0, 4.0, 4.0, 8.0)</td>\n      <td>32.0</td>\n      <td>(2.0, 0.5, 1.0, 1.0, 2.0)</td>\n      <td>32</td>\n      <td>10.0</td>\n      <td>12.0</td>\n      <td>(6.0, 2.0, 4.0, 4.0, 3.0, 1.0)</td>\n      <td>(-2, -2, -2, 2, -2)</td>\n    </tr>\n    <tr>\n      <th>3</th>\n      <td>(4, 1, 2, 2, -3)</td>\n      <td>Ave Maria</td>\n      <td>Tenor</td>\n      <td>5</td>\n      <td>1.0</td>\n      <td>8</td>\n      <td>1.0</td>\n      <td>32.0</td>\n      <td>56.0</td>\n      <td>(4.0, 8.0, 4.0, 4.0, 4.0, 8.0)</td>\n      <td>32.0</td>\n      <td>(2.0, 0.5, 1.0, 1.0, 2.0)</td>\n      <td>32</td>\n      <td>12.0</td>\n      <td>14.0</td>\n      <td>(6.0, 2.0, 4.0, 4.0, 2.0, 2.0)</td>\n      <td>(-2, -2, -2, 2, -2)</td>\n    </tr>\n    <tr>\n      <th>4</th>\n      <td>(4, 1, 2, 2, -3)</td>\n      <td>Ave Maria</td>\n      <td>Bassus</td>\n      <td>7</td>\n      <td>1.0</td>\n      <td>10</td>\n      <td>1.0</td>\n      <td>48.0</td>\n      <td>72.0</td>\n      <td>(4.0, 8.0, 4.0, 4.0, 4.0, 8.0)</td>\n      <td>32.0</td>\n      <td>(2.0, 0.5, 1.0, 1.0, 2.0)</td>\n      <td>28</td>\n      <td>14.0</td>\n      <td>16.0</td>\n      <td>(6.0, 2.0, 4.0, 4.0, 6.0, 2.0)</td>\n      <td>(-2, -2, -2, 2, 2)</td>\n    </tr>\n    <tr>\n      <th>5</th>\n      <td>(-2, -2, -2, 2, -2)</td>\n      <td>Ave Maria</td>\n      <td>[Superius]</td>\n      <td>8</td>\n      <td>1.0</td>\n      <td>10</td>\n      <td>2.0</td>\n      <td>56.0</td>\n      <td>74.0</td>\n      <td>(6.0, 2.0, 4.0, 4.0, 2.0, 2.0)</td>\n      <td>20.0</td>\n      <td>(0.3333333333333333, 2.0, 1.0, 0.5, 1.0)</td>\n      <td>[32.0, 32.0, 32.0, 32.0, 28.0, [32.0, 32.0, 32...</td>\n      <td>16.0</td>\n      <td>19.0</td>\n      <td>(6.0, 2.0, 4.0, 4.0, 4.0, 3.0)</td>\n      <td>(1, 1, 2, 2, -3)</td>\n    </tr>\n    <tr>\n      <th>...</th>\n      <td>...</td>\n      <td>...</td>\n      <td>...</td>\n      <td>...</td>\n      <td>...</td>\n      <td>...</td>\n      <td>...</td>\n      <td>...</td>\n      <td>...</td>\n      <td>...</td>\n      <td>...</td>\n      <td>...</td>\n      <td>...</td>\n      <td>...</td>\n      <td>...</td>\n      <td>...</td>\n      <td>...</td>\n    </tr>\n    <tr>\n      <th>163</th>\n      <td>(-3, 2, -2, -2, -2)</td>\n      <td>Ave Maria</td>\n      <td>Bassus</td>\n      <td>139</td>\n      <td>2.0</td>\n      <td>140</td>\n      <td>2.5</td>\n      <td>1170.0</td>\n      <td>1179.0</td>\n      <td>(2.0, 2.0, 3.0, 1.0, 1.0, 1.0)</td>\n      <td>10.0</td>\n      <td>(1.0, 1.5, 0.3333333333333333, 1.0, 1.0)</td>\n      <td>NaN</td>\n      <td>139.0</td>\n      <td>140.0</td>\n      <td>(2.0, 3.0, 1.0, 1.0, 1.0, 4.0)</td>\n      <td>(2, -2, -2, -2, 2)</td>\n    </tr>\n    <tr>\n      <th>111</th>\n      <td>(2, -2, -2, -2, 2)</td>\n      <td>Ave Maria</td>\n      <td>Bassus</td>\n      <td>139</td>\n      <td>3.0</td>\n      <td>140</td>\n      <td>3.0</td>\n      <td>1172.0</td>\n      <td>1180.0</td>\n      <td>(2.0, 3.0, 1.0, 1.0, 1.0, 4.0)</td>\n      <td>12.0</td>\n      <td>(1.5, 0.3333333333333333, 1.0, 1.0, 4.0)</td>\n      <td>NaN</td>\n      <td>139.0</td>\n      <td>141.0</td>\n      <td>(3.0, 1.0, 1.0, 1.0, 4.0, 8.0)</td>\n      <td>(-2, -2, -2, 2, -2)</td>\n    </tr>\n    <tr>\n      <th>155</th>\n      <td>(2, -3, 2, -2, -2)</td>\n      <td>Ave Maria</td>\n      <td>Bassus</td>\n      <td>139</td>\n      <td>1.0</td>\n      <td>140</td>\n      <td>2.0</td>\n      <td>1168.0</td>\n      <td>1178.0</td>\n      <td>(2.0, 2.0, 2.0, 3.0, 1.0, 1.0)</td>\n      <td>11.0</td>\n      <td>(1.0, 1.0, 1.5, 0.3333333333333333, 1.0)</td>\n      <td>NaN</td>\n      <td>139.0</td>\n      <td>140.0</td>\n      <td>(2.0, 2.0, 3.0, 1.0, 1.0, 1.0)</td>\n      <td>(-3, 2, -2, -2, -2)</td>\n    </tr>\n    <tr>\n      <th>35</th>\n      <td>(2, -2, 1, -2, 2)</td>\n      <td>Ave Maria</td>\n      <td>Altus</td>\n      <td>139</td>\n      <td>1.0</td>\n      <td>141</td>\n      <td>3.0</td>\n      <td>1168.0</td>\n      <td>1180.0</td>\n      <td>(2.0, 3.0, 1.0, 4.0, 2.0, 8.0)</td>\n      <td>20.0</td>\n      <td>(1.5, 0.3333333333333333, 4.0, 0.5, 4.0)</td>\n      <td>NaN</td>\n      <td>NaN</td>\n      <td>NaN</td>\n      <td>NaN</td>\n      <td>NaN</td>\n    </tr>\n    <tr>\n      <th>8</th>\n      <td>(-2, -2, -2, 2, -2)</td>\n      <td>Ave Maria</td>\n      <td>Bassus</td>\n      <td>139</td>\n      <td>4.0</td>\n      <td>141</td>\n      <td>1.0</td>\n      <td>1174.0</td>\n      <td>1184.0</td>\n      <td>(3.0, 1.0, 1.0, 1.0, 4.0, 8.0)</td>\n      <td>18.0</td>\n      <td>(0.3333333333333333, 1.0, 1.0, 4.0, 2.0)</td>\n      <td>NaN</td>\n      <td>NaN</td>\n      <td>NaN</td>\n      <td>NaN</td>\n      <td>NaN</td>\n    </tr>\n  </tbody>\n</table>\n<p>219 rows × 17 columns</p>\n</div>"
     },
     "metadata": {},
     "execution_count": 51
    }
   ],
   "source": [
    "# here we call the function to add the cols\n",
    "\n",
    "df_shifted = add_shifted_cols(results,\n",
    "                    group_cols=[\"piece_title\", \"part\"],\n",
    "                    shift_cols=[\"start_measure\", \"end_measure\", \"note_durations\", \"pattern_matched\"])\n",
    "\n",
    "df_brief = df_shifted.sort_values(\"start_measure\").drop(columns=[\"ema\", \"ema_url\", \"pattern_generating_match\"])\n",
    "df_brief"
   ]
  },
  {
   "cell_type": "code",
   "execution_count": 52,
   "metadata": {},
   "outputs": [
    {
     "output_type": "execute_result",
     "data": {
      "text/plain": [
       "         pattern_matched piece_title        part  start_measure  start_beat  \\\n",
       "0       (4, 1, 2, 2, -3)   Ave Maria  [Superius]              1         1.0   \n",
       "2       (4, 1, 2, 2, -3)   Ave Maria       Altus              3         1.0   \n",
       "3       (4, 1, 2, 2, -3)   Ave Maria       Tenor              5         1.0   \n",
       "4       (4, 1, 2, 2, -3)   Ave Maria      Bassus              7         1.0   \n",
       "5    (-2, -2, -2, 2, -2)   Ave Maria  [Superius]              8         1.0   \n",
       "..                   ...         ...         ...            ...         ...   \n",
       "155   (2, -3, 2, -2, -2)   Ave Maria      Bassus            139         1.0   \n",
       "35     (2, -2, 1, -2, 2)   Ave Maria       Altus            139         1.0   \n",
       "163  (-3, 2, -2, -2, -2)   Ave Maria      Bassus            139         2.0   \n",
       "111   (2, -2, -2, -2, 2)   Ave Maria      Bassus            139         3.0   \n",
       "8    (-2, -2, -2, 2, -2)   Ave Maria      Bassus            139         4.0   \n",
       "\n",
       "     end_measure  end_beat  start_offset  end_offset  \\\n",
       "0              4       1.0           0.0        24.0   \n",
       "2              6       1.0          16.0        40.0   \n",
       "3              8       1.0          32.0        56.0   \n",
       "4             10       1.0          48.0        72.0   \n",
       "5             10       2.0          56.0        74.0   \n",
       "..           ...       ...           ...         ...   \n",
       "155          140       2.0        1168.0      1178.0   \n",
       "35           141       3.0        1168.0      1180.0   \n",
       "163          140       2.5        1170.0      1179.0   \n",
       "111          140       3.0        1172.0      1180.0   \n",
       "8            141       1.0        1174.0      1184.0   \n",
       "\n",
       "                     note_durations  sum_durs  \\\n",
       "0    (4.0, 8.0, 4.0, 4.0, 4.0, 8.0)      32.0   \n",
       "2    (4.0, 8.0, 4.0, 4.0, 4.0, 8.0)      32.0   \n",
       "3    (4.0, 8.0, 4.0, 4.0, 4.0, 8.0)      32.0   \n",
       "4    (4.0, 8.0, 4.0, 4.0, 4.0, 8.0)      32.0   \n",
       "5    (6.0, 2.0, 4.0, 4.0, 2.0, 2.0)      20.0   \n",
       "..                              ...       ...   \n",
       "155  (2.0, 2.0, 2.0, 3.0, 1.0, 1.0)      11.0   \n",
       "35   (2.0, 3.0, 1.0, 4.0, 2.0, 8.0)      20.0   \n",
       "163  (2.0, 2.0, 3.0, 1.0, 1.0, 1.0)      10.0   \n",
       "111  (2.0, 3.0, 1.0, 1.0, 1.0, 4.0)      12.0   \n",
       "8    (3.0, 1.0, 1.0, 1.0, 4.0, 8.0)      18.0   \n",
       "\n",
       "                                      sum_of_durations  next_start_measure  \\\n",
       "0                                                   32                 8.0   \n",
       "2                                                   32                10.0   \n",
       "3                                                   32                12.0   \n",
       "4                                                   28                14.0   \n",
       "5    [32.0, 32.0, 32.0, 32.0, 28.0, [32.0, 32.0, 32...                16.0   \n",
       "..                                                 ...                 ...   \n",
       "155                                                NaN               139.0   \n",
       "35                                                 NaN                 NaN   \n",
       "163                                                NaN               139.0   \n",
       "111                                                NaN               139.0   \n",
       "8                                                  NaN                 NaN   \n",
       "\n",
       "     next_end_measure             next_note_durations next_pattern_matched  \\\n",
       "0                10.0  (6.0, 2.0, 4.0, 4.0, 2.0, 2.0)  (-2, -2, -2, 2, -2)   \n",
       "2                12.0  (6.0, 2.0, 4.0, 4.0, 3.0, 1.0)  (-2, -2, -2, 2, -2)   \n",
       "3                14.0  (6.0, 2.0, 4.0, 4.0, 2.0, 2.0)  (-2, -2, -2, 2, -2)   \n",
       "4                16.0  (6.0, 2.0, 4.0, 4.0, 6.0, 2.0)   (-2, -2, -2, 2, 2)   \n",
       "5                19.0  (6.0, 2.0, 4.0, 4.0, 4.0, 3.0)     (1, 1, 2, 2, -3)   \n",
       "..                ...                             ...                  ...   \n",
       "155             140.0  (2.0, 2.0, 3.0, 1.0, 1.0, 1.0)  (-3, 2, -2, -2, -2)   \n",
       "35                NaN                             NaN                  NaN   \n",
       "163             140.0  (2.0, 3.0, 1.0, 1.0, 1.0, 4.0)   (2, -2, -2, -2, 2)   \n",
       "111             141.0  (3.0, 1.0, 1.0, 1.0, 4.0, 8.0)  (-2, -2, -2, 2, -2)   \n",
       "8                 NaN                             NaN                  NaN   \n",
       "\n",
       "    pattern_matched_short       note_durations_short  \\\n",
       "0           (1, 2, 2, -3)  (8.0, 4.0, 4.0, 4.0, 8.0)   \n",
       "2           (1, 2, 2, -3)  (8.0, 4.0, 4.0, 4.0, 8.0)   \n",
       "3           (1, 2, 2, -3)  (8.0, 4.0, 4.0, 4.0, 8.0)   \n",
       "4           (1, 2, 2, -3)  (8.0, 4.0, 4.0, 4.0, 8.0)   \n",
       "5         (-2, -2, 2, -2)  (2.0, 4.0, 4.0, 2.0, 2.0)   \n",
       "..                    ...                        ...   \n",
       "155       (-3, 2, -2, -2)  (2.0, 2.0, 3.0, 1.0, 1.0)   \n",
       "35         (-2, 1, -2, 2)  (3.0, 1.0, 4.0, 2.0, 8.0)   \n",
       "163       (2, -2, -2, -2)  (2.0, 3.0, 1.0, 1.0, 1.0)   \n",
       "111       (-2, -2, -2, 2)  (3.0, 1.0, 1.0, 1.0, 4.0)   \n",
       "8         (-2, -2, 2, -2)  (1.0, 1.0, 1.0, 4.0, 8.0)   \n",
       "\n",
       "    next_pattern_matched_short  next_note_durations_short  \n",
       "0              (-2, -2, -2, 2)  (6.0, 2.0, 4.0, 4.0, 2.0)  \n",
       "2              (-2, -2, -2, 2)  (6.0, 2.0, 4.0, 4.0, 3.0)  \n",
       "3              (-2, -2, -2, 2)  (6.0, 2.0, 4.0, 4.0, 2.0)  \n",
       "4              (-2, -2, -2, 2)  (6.0, 2.0, 4.0, 4.0, 6.0)  \n",
       "5                 (1, 1, 2, 2)  (6.0, 2.0, 4.0, 4.0, 4.0)  \n",
       "..                         ...                        ...  \n",
       "155            (-3, 2, -2, -2)  (2.0, 2.0, 3.0, 1.0, 1.0)  \n",
       "35                         NaN                        NaN  \n",
       "163            (2, -2, -2, -2)  (2.0, 3.0, 1.0, 1.0, 1.0)  \n",
       "111            (-2, -2, -2, 2)  (3.0, 1.0, 1.0, 1.0, 4.0)  \n",
       "8                          NaN                        NaN  \n",
       "\n",
       "[219 rows x 20 columns]"
      ],
      "text/html": "<div>\n<style scoped>\n    .dataframe tbody tr th:only-of-type {\n        vertical-align: middle;\n    }\n\n    .dataframe tbody tr th {\n        vertical-align: top;\n    }\n\n    .dataframe thead th {\n        text-align: right;\n    }\n</style>\n<table border=\"1\" class=\"dataframe\">\n  <thead>\n    <tr style=\"text-align: right;\">\n      <th></th>\n      <th>pattern_matched</th>\n      <th>piece_title</th>\n      <th>part</th>\n      <th>start_measure</th>\n      <th>start_beat</th>\n      <th>end_measure</th>\n      <th>end_beat</th>\n      <th>start_offset</th>\n      <th>end_offset</th>\n      <th>note_durations</th>\n      <th>sum_durs</th>\n      <th>sum_of_durations</th>\n      <th>next_start_measure</th>\n      <th>next_end_measure</th>\n      <th>next_note_durations</th>\n      <th>next_pattern_matched</th>\n      <th>pattern_matched_short</th>\n      <th>note_durations_short</th>\n      <th>next_pattern_matched_short</th>\n      <th>next_note_durations_short</th>\n    </tr>\n  </thead>\n  <tbody>\n    <tr>\n      <th>0</th>\n      <td>(4, 1, 2, 2, -3)</td>\n      <td>Ave Maria</td>\n      <td>[Superius]</td>\n      <td>1</td>\n      <td>1.0</td>\n      <td>4</td>\n      <td>1.0</td>\n      <td>0.0</td>\n      <td>24.0</td>\n      <td>(4.0, 8.0, 4.0, 4.0, 4.0, 8.0)</td>\n      <td>32.0</td>\n      <td>32</td>\n      <td>8.0</td>\n      <td>10.0</td>\n      <td>(6.0, 2.0, 4.0, 4.0, 2.0, 2.0)</td>\n      <td>(-2, -2, -2, 2, -2)</td>\n      <td>(1, 2, 2, -3)</td>\n      <td>(8.0, 4.0, 4.0, 4.0, 8.0)</td>\n      <td>(-2, -2, -2, 2)</td>\n      <td>(6.0, 2.0, 4.0, 4.0, 2.0)</td>\n    </tr>\n    <tr>\n      <th>2</th>\n      <td>(4, 1, 2, 2, -3)</td>\n      <td>Ave Maria</td>\n      <td>Altus</td>\n      <td>3</td>\n      <td>1.0</td>\n      <td>6</td>\n      <td>1.0</td>\n      <td>16.0</td>\n      <td>40.0</td>\n      <td>(4.0, 8.0, 4.0, 4.0, 4.0, 8.0)</td>\n      <td>32.0</td>\n      <td>32</td>\n      <td>10.0</td>\n      <td>12.0</td>\n      <td>(6.0, 2.0, 4.0, 4.0, 3.0, 1.0)</td>\n      <td>(-2, -2, -2, 2, -2)</td>\n      <td>(1, 2, 2, -3)</td>\n      <td>(8.0, 4.0, 4.0, 4.0, 8.0)</td>\n      <td>(-2, -2, -2, 2)</td>\n      <td>(6.0, 2.0, 4.0, 4.0, 3.0)</td>\n    </tr>\n    <tr>\n      <th>3</th>\n      <td>(4, 1, 2, 2, -3)</td>\n      <td>Ave Maria</td>\n      <td>Tenor</td>\n      <td>5</td>\n      <td>1.0</td>\n      <td>8</td>\n      <td>1.0</td>\n      <td>32.0</td>\n      <td>56.0</td>\n      <td>(4.0, 8.0, 4.0, 4.0, 4.0, 8.0)</td>\n      <td>32.0</td>\n      <td>32</td>\n      <td>12.0</td>\n      <td>14.0</td>\n      <td>(6.0, 2.0, 4.0, 4.0, 2.0, 2.0)</td>\n      <td>(-2, -2, -2, 2, -2)</td>\n      <td>(1, 2, 2, -3)</td>\n      <td>(8.0, 4.0, 4.0, 4.0, 8.0)</td>\n      <td>(-2, -2, -2, 2)</td>\n      <td>(6.0, 2.0, 4.0, 4.0, 2.0)</td>\n    </tr>\n    <tr>\n      <th>4</th>\n      <td>(4, 1, 2, 2, -3)</td>\n      <td>Ave Maria</td>\n      <td>Bassus</td>\n      <td>7</td>\n      <td>1.0</td>\n      <td>10</td>\n      <td>1.0</td>\n      <td>48.0</td>\n      <td>72.0</td>\n      <td>(4.0, 8.0, 4.0, 4.0, 4.0, 8.0)</td>\n      <td>32.0</td>\n      <td>28</td>\n      <td>14.0</td>\n      <td>16.0</td>\n      <td>(6.0, 2.0, 4.0, 4.0, 6.0, 2.0)</td>\n      <td>(-2, -2, -2, 2, 2)</td>\n      <td>(1, 2, 2, -3)</td>\n      <td>(8.0, 4.0, 4.0, 4.0, 8.0)</td>\n      <td>(-2, -2, -2, 2)</td>\n      <td>(6.0, 2.0, 4.0, 4.0, 6.0)</td>\n    </tr>\n    <tr>\n      <th>5</th>\n      <td>(-2, -2, -2, 2, -2)</td>\n      <td>Ave Maria</td>\n      <td>[Superius]</td>\n      <td>8</td>\n      <td>1.0</td>\n      <td>10</td>\n      <td>2.0</td>\n      <td>56.0</td>\n      <td>74.0</td>\n      <td>(6.0, 2.0, 4.0, 4.0, 2.0, 2.0)</td>\n      <td>20.0</td>\n      <td>[32.0, 32.0, 32.0, 32.0, 28.0, [32.0, 32.0, 32...</td>\n      <td>16.0</td>\n      <td>19.0</td>\n      <td>(6.0, 2.0, 4.0, 4.0, 4.0, 3.0)</td>\n      <td>(1, 1, 2, 2, -3)</td>\n      <td>(-2, -2, 2, -2)</td>\n      <td>(2.0, 4.0, 4.0, 2.0, 2.0)</td>\n      <td>(1, 1, 2, 2)</td>\n      <td>(6.0, 2.0, 4.0, 4.0, 4.0)</td>\n    </tr>\n    <tr>\n      <th>...</th>\n      <td>...</td>\n      <td>...</td>\n      <td>...</td>\n      <td>...</td>\n      <td>...</td>\n      <td>...</td>\n      <td>...</td>\n      <td>...</td>\n      <td>...</td>\n      <td>...</td>\n      <td>...</td>\n      <td>...</td>\n      <td>...</td>\n      <td>...</td>\n      <td>...</td>\n      <td>...</td>\n      <td>...</td>\n      <td>...</td>\n      <td>...</td>\n      <td>...</td>\n    </tr>\n    <tr>\n      <th>155</th>\n      <td>(2, -3, 2, -2, -2)</td>\n      <td>Ave Maria</td>\n      <td>Bassus</td>\n      <td>139</td>\n      <td>1.0</td>\n      <td>140</td>\n      <td>2.0</td>\n      <td>1168.0</td>\n      <td>1178.0</td>\n      <td>(2.0, 2.0, 2.0, 3.0, 1.0, 1.0)</td>\n      <td>11.0</td>\n      <td>NaN</td>\n      <td>139.0</td>\n      <td>140.0</td>\n      <td>(2.0, 2.0, 3.0, 1.0, 1.0, 1.0)</td>\n      <td>(-3, 2, -2, -2, -2)</td>\n      <td>(-3, 2, -2, -2)</td>\n      <td>(2.0, 2.0, 3.0, 1.0, 1.0)</td>\n      <td>(-3, 2, -2, -2)</td>\n      <td>(2.0, 2.0, 3.0, 1.0, 1.0)</td>\n    </tr>\n    <tr>\n      <th>35</th>\n      <td>(2, -2, 1, -2, 2)</td>\n      <td>Ave Maria</td>\n      <td>Altus</td>\n      <td>139</td>\n      <td>1.0</td>\n      <td>141</td>\n      <td>3.0</td>\n      <td>1168.0</td>\n      <td>1180.0</td>\n      <td>(2.0, 3.0, 1.0, 4.0, 2.0, 8.0)</td>\n      <td>20.0</td>\n      <td>NaN</td>\n      <td>NaN</td>\n      <td>NaN</td>\n      <td>NaN</td>\n      <td>NaN</td>\n      <td>(-2, 1, -2, 2)</td>\n      <td>(3.0, 1.0, 4.0, 2.0, 8.0)</td>\n      <td>NaN</td>\n      <td>NaN</td>\n    </tr>\n    <tr>\n      <th>163</th>\n      <td>(-3, 2, -2, -2, -2)</td>\n      <td>Ave Maria</td>\n      <td>Bassus</td>\n      <td>139</td>\n      <td>2.0</td>\n      <td>140</td>\n      <td>2.5</td>\n      <td>1170.0</td>\n      <td>1179.0</td>\n      <td>(2.0, 2.0, 3.0, 1.0, 1.0, 1.0)</td>\n      <td>10.0</td>\n      <td>NaN</td>\n      <td>139.0</td>\n      <td>140.0</td>\n      <td>(2.0, 3.0, 1.0, 1.0, 1.0, 4.0)</td>\n      <td>(2, -2, -2, -2, 2)</td>\n      <td>(2, -2, -2, -2)</td>\n      <td>(2.0, 3.0, 1.0, 1.0, 1.0)</td>\n      <td>(2, -2, -2, -2)</td>\n      <td>(2.0, 3.0, 1.0, 1.0, 1.0)</td>\n    </tr>\n    <tr>\n      <th>111</th>\n      <td>(2, -2, -2, -2, 2)</td>\n      <td>Ave Maria</td>\n      <td>Bassus</td>\n      <td>139</td>\n      <td>3.0</td>\n      <td>140</td>\n      <td>3.0</td>\n      <td>1172.0</td>\n      <td>1180.0</td>\n      <td>(2.0, 3.0, 1.0, 1.0, 1.0, 4.0)</td>\n      <td>12.0</td>\n      <td>NaN</td>\n      <td>139.0</td>\n      <td>141.0</td>\n      <td>(3.0, 1.0, 1.0, 1.0, 4.0, 8.0)</td>\n      <td>(-2, -2, -2, 2, -2)</td>\n      <td>(-2, -2, -2, 2)</td>\n      <td>(3.0, 1.0, 1.0, 1.0, 4.0)</td>\n      <td>(-2, -2, -2, 2)</td>\n      <td>(3.0, 1.0, 1.0, 1.0, 4.0)</td>\n    </tr>\n    <tr>\n      <th>8</th>\n      <td>(-2, -2, -2, 2, -2)</td>\n      <td>Ave Maria</td>\n      <td>Bassus</td>\n      <td>139</td>\n      <td>4.0</td>\n      <td>141</td>\n      <td>1.0</td>\n      <td>1174.0</td>\n      <td>1184.0</td>\n      <td>(3.0, 1.0, 1.0, 1.0, 4.0, 8.0)</td>\n      <td>18.0</td>\n      <td>NaN</td>\n      <td>NaN</td>\n      <td>NaN</td>\n      <td>NaN</td>\n      <td>NaN</td>\n      <td>(-2, -2, 2, -2)</td>\n      <td>(1.0, 1.0, 1.0, 4.0, 8.0)</td>\n      <td>NaN</td>\n      <td>NaN</td>\n    </tr>\n  </tbody>\n</table>\n<p>219 rows × 20 columns</p>\n</div>"
     },
     "metadata": {},
     "execution_count": 52
    }
   ],
   "source": [
    "# And here we call the function to slice and enter the data\n",
    "\n",
    "df_brief = add_subsequence_cols(df_shifted, \n",
    "    this_sequence_cols=[\"pattern_matched\", \"note_durations\"], \n",
    "    next_sequence_cols=[\"next_pattern_matched\", \"next_note_durations\"]\n",
    "    )\n",
    "df_brief.drop(columns=[\"ema\", \"ema_url\", \"pattern_generating_match\", \"duration_ratios\"])"
   ]
  },
  {
   "cell_type": "code",
   "execution_count": 53,
   "metadata": {},
   "outputs": [
    {
     "output_type": "execute_result",
     "data": {
      "text/plain": [
       "pattern_generating_match      134\n",
       "pattern_matched               134\n",
       "piece_title                   134\n",
       "part                          134\n",
       "start_measure                 134\n",
       "start_beat                    134\n",
       "end_measure                   134\n",
       "end_beat                      134\n",
       "start_offset                  134\n",
       "end_offset                    134\n",
       "note_durations                134\n",
       "ema                           134\n",
       "ema_url                       134\n",
       "sum_durs                      134\n",
       "duration_ratios               134\n",
       "sum_of_durations                0\n",
       "next_start_measure            134\n",
       "next_end_measure              134\n",
       "next_note_durations           134\n",
       "next_pattern_matched          134\n",
       "pattern_matched_short         134\n",
       "note_durations_short          134\n",
       "next_pattern_matched_short    134\n",
       "next_note_durations_short     134\n",
       "dtype: int64"
      ]
     },
     "metadata": {},
     "execution_count": 53
    }
   ],
   "source": [
    "# Now  filter previous results to make sure the melodic and rhythmic vectors match for each sequence\n",
    "\n",
    "df_filter_durs = df_brief[df_brief[\"note_durations_short\"] == df_brief[\"next_note_durations_short\"]]\n",
    "df_filter_patts = df_filter_durs[df_filter_durs[\"pattern_matched_short\"] == df_filter_durs[\"next_pattern_matched_short\"]]\n",
    "df_filter_patts.count()"
   ]
  },
  {
   "cell_type": "code",
   "execution_count": 56,
   "metadata": {},
   "outputs": [
    {
     "output_type": "execute_result",
     "data": {
      "text/plain": [
       "    pattern_generating_match      pattern_matched piece_title   part  \\\n",
       "204      (-2, -2, -2, -2, 2)  (-2, -2, -2, -2, 2)   Ave Maria  Altus   \n",
       "23          (2, 2, 1, 2, -2)     (2, 2, 1, 2, -2)   Ave Maria  Altus   \n",
       "211        (2, 1, 2, -2, -2)    (2, 1, 2, -2, -2)   Ave Maria  Altus   \n",
       "126        (4, -2, 2, 2, -3)    (4, -2, 2, 2, -3)   Ave Maria  Altus   \n",
       "130       (-2, 2, 2, -3, -2)   (-2, 2, 2, -3, -2)   Ave Maria  Altus   \n",
       "\n",
       "     start_measure  start_beat  end_measure  end_beat  start_offset  \\\n",
       "204             27         3.0           29       1.0         212.0   \n",
       "23              32         1.0           34       2.0         248.0   \n",
       "211             32         3.0           34       3.0         252.0   \n",
       "126             55         1.0           57       3.0         432.0   \n",
       "130             55         3.0           58       2.0         436.0   \n",
       "\n",
       "     end_offset  ... sum_of_durations next_start_measure next_end_measure  \\\n",
       "204       224.0  ...              NaN               27.0             29.0   \n",
       "23        266.0  ...              NaN               32.0             34.0   \n",
       "211       268.0  ...              NaN               33.0             35.0   \n",
       "126       452.0  ...              NaN               55.0             58.0   \n",
       "130       458.0  ...              NaN               56.0             58.0   \n",
       "\n",
       "                next_note_durations next_pattern_matched  \\\n",
       "204  (1.0, 1.0, 1.0, 6.0, 2.0, 2.0)   (-2, -2, -2, 2, 2)   \n",
       "23   (4.0, 4.0, 2.0, 4.0, 2.0, 4.0)    (2, 1, 2, -2, -2)   \n",
       "211  (4.0, 2.0, 4.0, 2.0, 4.0, 8.0)   (1, 2, -2, -2, -2)   \n",
       "126  (6.0, 2.0, 4.0, 4.0, 6.0, 1.0)   (-2, 2, 2, -3, -2)   \n",
       "130  (2.0, 4.0, 4.0, 6.0, 1.0, 1.0)   (2, 2, -3, -2, -2)   \n",
       "\n",
       "    pattern_matched_short       note_durations_short  \\\n",
       "204       (-2, -2, -2, 2)  (1.0, 1.0, 1.0, 6.0, 2.0)   \n",
       "23          (2, 1, 2, -2)  (4.0, 4.0, 2.0, 4.0, 2.0)   \n",
       "211        (1, 2, -2, -2)  (4.0, 2.0, 4.0, 2.0, 4.0)   \n",
       "126        (-2, 2, 2, -3)  (6.0, 2.0, 4.0, 4.0, 6.0)   \n",
       "130        (2, 2, -3, -2)  (2.0, 4.0, 4.0, 6.0, 1.0)   \n",
       "\n",
       "     next_pattern_matched_short  next_note_durations_short  \\\n",
       "204             (-2, -2, -2, 2)  (1.0, 1.0, 1.0, 6.0, 2.0)   \n",
       "23                (2, 1, 2, -2)  (4.0, 4.0, 2.0, 4.0, 2.0)   \n",
       "211              (1, 2, -2, -2)  (4.0, 2.0, 4.0, 2.0, 4.0)   \n",
       "126              (-2, 2, 2, -3)  (6.0, 2.0, 4.0, 4.0, 6.0)   \n",
       "130              (2, 2, -3, -2)  (2.0, 4.0, 4.0, 6.0, 1.0)   \n",
       "\n",
       "    next_end_measure_minus  \n",
       "204                   28.0  \n",
       "23                    33.0  \n",
       "211                   34.0  \n",
       "126                   57.0  \n",
       "130                   57.0  \n",
       "\n",
       "[5 rows x 25 columns]"
      ],
      "text/html": "<div>\n<style scoped>\n    .dataframe tbody tr th:only-of-type {\n        vertical-align: middle;\n    }\n\n    .dataframe tbody tr th {\n        vertical-align: top;\n    }\n\n    .dataframe thead th {\n        text-align: right;\n    }\n</style>\n<table border=\"1\" class=\"dataframe\">\n  <thead>\n    <tr style=\"text-align: right;\">\n      <th></th>\n      <th>pattern_generating_match</th>\n      <th>pattern_matched</th>\n      <th>piece_title</th>\n      <th>part</th>\n      <th>start_measure</th>\n      <th>start_beat</th>\n      <th>end_measure</th>\n      <th>end_beat</th>\n      <th>start_offset</th>\n      <th>end_offset</th>\n      <th>...</th>\n      <th>sum_of_durations</th>\n      <th>next_start_measure</th>\n      <th>next_end_measure</th>\n      <th>next_note_durations</th>\n      <th>next_pattern_matched</th>\n      <th>pattern_matched_short</th>\n      <th>note_durations_short</th>\n      <th>next_pattern_matched_short</th>\n      <th>next_note_durations_short</th>\n      <th>next_end_measure_minus</th>\n    </tr>\n  </thead>\n  <tbody>\n    <tr>\n      <th>204</th>\n      <td>(-2, -2, -2, -2, 2)</td>\n      <td>(-2, -2, -2, -2, 2)</td>\n      <td>Ave Maria</td>\n      <td>Altus</td>\n      <td>27</td>\n      <td>3.0</td>\n      <td>29</td>\n      <td>1.0</td>\n      <td>212.0</td>\n      <td>224.0</td>\n      <td>...</td>\n      <td>NaN</td>\n      <td>27.0</td>\n      <td>29.0</td>\n      <td>(1.0, 1.0, 1.0, 6.0, 2.0, 2.0)</td>\n      <td>(-2, -2, -2, 2, 2)</td>\n      <td>(-2, -2, -2, 2)</td>\n      <td>(1.0, 1.0, 1.0, 6.0, 2.0)</td>\n      <td>(-2, -2, -2, 2)</td>\n      <td>(1.0, 1.0, 1.0, 6.0, 2.0)</td>\n      <td>28.0</td>\n    </tr>\n    <tr>\n      <th>23</th>\n      <td>(2, 2, 1, 2, -2)</td>\n      <td>(2, 2, 1, 2, -2)</td>\n      <td>Ave Maria</td>\n      <td>Altus</td>\n      <td>32</td>\n      <td>1.0</td>\n      <td>34</td>\n      <td>2.0</td>\n      <td>248.0</td>\n      <td>266.0</td>\n      <td>...</td>\n      <td>NaN</td>\n      <td>32.0</td>\n      <td>34.0</td>\n      <td>(4.0, 4.0, 2.0, 4.0, 2.0, 4.0)</td>\n      <td>(2, 1, 2, -2, -2)</td>\n      <td>(2, 1, 2, -2)</td>\n      <td>(4.0, 4.0, 2.0, 4.0, 2.0)</td>\n      <td>(2, 1, 2, -2)</td>\n      <td>(4.0, 4.0, 2.0, 4.0, 2.0)</td>\n      <td>33.0</td>\n    </tr>\n    <tr>\n      <th>211</th>\n      <td>(2, 1, 2, -2, -2)</td>\n      <td>(2, 1, 2, -2, -2)</td>\n      <td>Ave Maria</td>\n      <td>Altus</td>\n      <td>32</td>\n      <td>3.0</td>\n      <td>34</td>\n      <td>3.0</td>\n      <td>252.0</td>\n      <td>268.0</td>\n      <td>...</td>\n      <td>NaN</td>\n      <td>33.0</td>\n      <td>35.0</td>\n      <td>(4.0, 2.0, 4.0, 2.0, 4.0, 8.0)</td>\n      <td>(1, 2, -2, -2, -2)</td>\n      <td>(1, 2, -2, -2)</td>\n      <td>(4.0, 2.0, 4.0, 2.0, 4.0)</td>\n      <td>(1, 2, -2, -2)</td>\n      <td>(4.0, 2.0, 4.0, 2.0, 4.0)</td>\n      <td>34.0</td>\n    </tr>\n    <tr>\n      <th>126</th>\n      <td>(4, -2, 2, 2, -3)</td>\n      <td>(4, -2, 2, 2, -3)</td>\n      <td>Ave Maria</td>\n      <td>Altus</td>\n      <td>55</td>\n      <td>1.0</td>\n      <td>57</td>\n      <td>3.0</td>\n      <td>432.0</td>\n      <td>452.0</td>\n      <td>...</td>\n      <td>NaN</td>\n      <td>55.0</td>\n      <td>58.0</td>\n      <td>(6.0, 2.0, 4.0, 4.0, 6.0, 1.0)</td>\n      <td>(-2, 2, 2, -3, -2)</td>\n      <td>(-2, 2, 2, -3)</td>\n      <td>(6.0, 2.0, 4.0, 4.0, 6.0)</td>\n      <td>(-2, 2, 2, -3)</td>\n      <td>(6.0, 2.0, 4.0, 4.0, 6.0)</td>\n      <td>57.0</td>\n    </tr>\n    <tr>\n      <th>130</th>\n      <td>(-2, 2, 2, -3, -2)</td>\n      <td>(-2, 2, 2, -3, -2)</td>\n      <td>Ave Maria</td>\n      <td>Altus</td>\n      <td>55</td>\n      <td>3.0</td>\n      <td>58</td>\n      <td>2.0</td>\n      <td>436.0</td>\n      <td>458.0</td>\n      <td>...</td>\n      <td>NaN</td>\n      <td>56.0</td>\n      <td>58.0</td>\n      <td>(2.0, 4.0, 4.0, 6.0, 1.0, 1.0)</td>\n      <td>(2, 2, -3, -2, -2)</td>\n      <td>(2, 2, -3, -2)</td>\n      <td>(2.0, 4.0, 4.0, 6.0, 1.0)</td>\n      <td>(2, 2, -3, -2)</td>\n      <td>(2.0, 4.0, 4.0, 6.0, 1.0)</td>\n      <td>57.0</td>\n    </tr>\n  </tbody>\n</table>\n<p>5 rows × 25 columns</p>\n</div>"
     },
     "metadata": {},
     "execution_count": 56
    }
   ],
   "source": [
    "# This is just a way to inspect a single voice\n",
    "\n",
    "df_filter_one_voice = df_filter_patts[df_filter_patts[\"part\"].str.contains('Altus')]\n",
    "df_filter_one_voice.head()"
   ]
  },
  {
   "cell_type": "code",
   "execution_count": 55,
   "metadata": {},
   "outputs": [
    {
     "output_type": "execute_result",
     "data": {
      "text/plain": [
       "    pattern_generating_match       pattern_matched piece_title    part  \\\n",
       "204      (-2, -2, -2, -2, 2)   (-2, -2, -2, -2, 2)   Ave Maria   Altus   \n",
       "21      (-2, -2, -2, -2, -2)  (-2, -2, -2, -2, -2)   Ave Maria   Tenor   \n",
       "209      (-2, -2, -2, -2, 2)   (-2, -2, -2, -2, 2)   Ave Maria   Tenor   \n",
       "23          (2, 2, 1, 2, -2)      (2, 2, 1, 2, -2)   Ave Maria   Altus   \n",
       "27          (2, 2, 1, 2, -2)      (2, 2, 1, 2, -2)   Ave Maria  Bassus   \n",
       "..                       ...                   ...         ...     ...   \n",
       "46         (1, 1, 2, -2, -2)     (1, 1, 2, -2, -2)   Ave Maria   Tenor   \n",
       "187       (-2, -2, -2, 1, 3)    (-2, -2, -2, 1, 3)   Ave Maria   Tenor   \n",
       "199       (1, 3, -2, -2, -2)    (1, 3, -2, -2, -2)   Ave Maria   Tenor   \n",
       "106       (2, 2, -2, -2, -2)    (2, 2, -2, -2, -2)   Ave Maria   Altus   \n",
       "111       (2, -2, -2, -2, 2)    (2, -2, -2, -2, 2)   Ave Maria  Bassus   \n",
       "\n",
       "     start_measure  start_beat  end_measure  end_beat  start_offset  \\\n",
       "204             27         3.0           29       1.0         212.0   \n",
       "21              28         1.0           29       1.5         216.0   \n",
       "209             28         2.5           29       2.0         219.0   \n",
       "23              32         1.0           34       2.0         248.0   \n",
       "27              36         1.0           38       2.0         280.0   \n",
       "..             ...         ...          ...       ...           ...   \n",
       "46             122         1.0          124       4.5        1032.0   \n",
       "187            124         1.0          125       4.0        1048.0   \n",
       "199            125         1.0          126       3.0        1056.0   \n",
       "106            134         2.0          135       2.5        1130.0   \n",
       "111            139         3.0          140       3.0        1172.0   \n",
       "\n",
       "     end_offset  ... sum_of_durations next_start_measure next_end_measure  \\\n",
       "204       224.0  ...              NaN               27.0             29.0   \n",
       "21        225.0  ...              NaN               28.0             29.0   \n",
       "209       226.0  ...              NaN               28.0             29.0   \n",
       "23        266.0  ...              NaN               32.0             34.0   \n",
       "27        298.0  ...              NaN               36.0             38.0   \n",
       "..          ...  ...              ...                ...              ...   \n",
       "46       1055.0  ...              NaN              123.0            125.0   \n",
       "187      1062.0  ...              NaN              124.0            126.0   \n",
       "199      1068.0  ...              NaN              125.0            127.0   \n",
       "106      1139.0  ...              NaN              135.0            136.0   \n",
       "111      1180.0  ...              NaN              139.0            141.0   \n",
       "\n",
       "                next_note_durations next_pattern_matched  \\\n",
       "204  (1.0, 1.0, 1.0, 6.0, 2.0, 2.0)   (-2, -2, -2, 2, 2)   \n",
       "21   (1.0, 1.0, 1.0, 3.0, 1.0, 2.0)  (-2, -2, -2, -2, 2)   \n",
       "209  (1.0, 1.0, 3.0, 1.0, 2.0, 4.0)   (-2, -2, -2, 2, 2)   \n",
       "23   (4.0, 4.0, 2.0, 4.0, 2.0, 4.0)    (2, 1, 2, -2, -2)   \n",
       "27   (4.0, 4.0, 2.0, 4.0, 2.0, 4.0)    (2, 1, 2, -2, -2)   \n",
       "..                              ...                  ...   \n",
       "46   (4.0, 4.0, 6.0, 1.0, 1.0, 4.0)   (1, 2, -2, -2, -2)   \n",
       "187  (1.0, 1.0, 4.0, 2.0, 4.0, 1.0)   (-2, -2, 1, 3, -2)   \n",
       "199  (2.0, 4.0, 1.0, 1.0, 4.0, 8.0)  (3, -2, -2, -2, -2)   \n",
       "106  (2.0, 3.0, 1.0, 1.0, 1.0, 4.0)  (2, -2, -2, -2, -2)   \n",
       "111  (3.0, 1.0, 1.0, 1.0, 4.0, 8.0)  (-2, -2, -2, 2, -2)   \n",
       "\n",
       "    pattern_matched_short       note_durations_short  \\\n",
       "204       (-2, -2, -2, 2)  (1.0, 1.0, 1.0, 6.0, 2.0)   \n",
       "21       (-2, -2, -2, -2)  (1.0, 1.0, 1.0, 3.0, 1.0)   \n",
       "209       (-2, -2, -2, 2)  (1.0, 1.0, 3.0, 1.0, 2.0)   \n",
       "23          (2, 1, 2, -2)  (4.0, 4.0, 2.0, 4.0, 2.0)   \n",
       "27          (2, 1, 2, -2)  (4.0, 4.0, 2.0, 4.0, 2.0)   \n",
       "..                    ...                        ...   \n",
       "46         (1, 2, -2, -2)  (4.0, 4.0, 6.0, 1.0, 1.0)   \n",
       "187        (-2, -2, 1, 3)  (1.0, 1.0, 4.0, 2.0, 4.0)   \n",
       "199       (3, -2, -2, -2)  (2.0, 4.0, 1.0, 1.0, 4.0)   \n",
       "106       (2, -2, -2, -2)  (2.0, 3.0, 1.0, 1.0, 1.0)   \n",
       "111       (-2, -2, -2, 2)  (3.0, 1.0, 1.0, 1.0, 4.0)   \n",
       "\n",
       "     next_pattern_matched_short  next_note_durations_short  \\\n",
       "204             (-2, -2, -2, 2)  (1.0, 1.0, 1.0, 6.0, 2.0)   \n",
       "21             (-2, -2, -2, -2)  (1.0, 1.0, 1.0, 3.0, 1.0)   \n",
       "209             (-2, -2, -2, 2)  (1.0, 1.0, 3.0, 1.0, 2.0)   \n",
       "23                (2, 1, 2, -2)  (4.0, 4.0, 2.0, 4.0, 2.0)   \n",
       "27                (2, 1, 2, -2)  (4.0, 4.0, 2.0, 4.0, 2.0)   \n",
       "..                          ...                        ...   \n",
       "46               (1, 2, -2, -2)  (4.0, 4.0, 6.0, 1.0, 1.0)   \n",
       "187              (-2, -2, 1, 3)  (1.0, 1.0, 4.0, 2.0, 4.0)   \n",
       "199             (3, -2, -2, -2)  (2.0, 4.0, 1.0, 1.0, 4.0)   \n",
       "106             (2, -2, -2, -2)  (2.0, 3.0, 1.0, 1.0, 1.0)   \n",
       "111             (-2, -2, -2, 2)  (3.0, 1.0, 1.0, 1.0, 4.0)   \n",
       "\n",
       "    next_end_measure_minus  \n",
       "204                   28.0  \n",
       "21                    28.0  \n",
       "209                   28.0  \n",
       "23                    33.0  \n",
       "27                    37.0  \n",
       "..                     ...  \n",
       "46                   124.0  \n",
       "187                  125.0  \n",
       "199                  126.0  \n",
       "106                  135.0  \n",
       "111                  140.0  \n",
       "\n",
       "[134 rows x 25 columns]"
      ],
      "text/html": "<div>\n<style scoped>\n    .dataframe tbody tr th:only-of-type {\n        vertical-align: middle;\n    }\n\n    .dataframe tbody tr th {\n        vertical-align: top;\n    }\n\n    .dataframe thead th {\n        text-align: right;\n    }\n</style>\n<table border=\"1\" class=\"dataframe\">\n  <thead>\n    <tr style=\"text-align: right;\">\n      <th></th>\n      <th>pattern_generating_match</th>\n      <th>pattern_matched</th>\n      <th>piece_title</th>\n      <th>part</th>\n      <th>start_measure</th>\n      <th>start_beat</th>\n      <th>end_measure</th>\n      <th>end_beat</th>\n      <th>start_offset</th>\n      <th>end_offset</th>\n      <th>...</th>\n      <th>sum_of_durations</th>\n      <th>next_start_measure</th>\n      <th>next_end_measure</th>\n      <th>next_note_durations</th>\n      <th>next_pattern_matched</th>\n      <th>pattern_matched_short</th>\n      <th>note_durations_short</th>\n      <th>next_pattern_matched_short</th>\n      <th>next_note_durations_short</th>\n      <th>next_end_measure_minus</th>\n    </tr>\n  </thead>\n  <tbody>\n    <tr>\n      <th>204</th>\n      <td>(-2, -2, -2, -2, 2)</td>\n      <td>(-2, -2, -2, -2, 2)</td>\n      <td>Ave Maria</td>\n      <td>Altus</td>\n      <td>27</td>\n      <td>3.0</td>\n      <td>29</td>\n      <td>1.0</td>\n      <td>212.0</td>\n      <td>224.0</td>\n      <td>...</td>\n      <td>NaN</td>\n      <td>27.0</td>\n      <td>29.0</td>\n      <td>(1.0, 1.0, 1.0, 6.0, 2.0, 2.0)</td>\n      <td>(-2, -2, -2, 2, 2)</td>\n      <td>(-2, -2, -2, 2)</td>\n      <td>(1.0, 1.0, 1.0, 6.0, 2.0)</td>\n      <td>(-2, -2, -2, 2)</td>\n      <td>(1.0, 1.0, 1.0, 6.0, 2.0)</td>\n      <td>28.0</td>\n    </tr>\n    <tr>\n      <th>21</th>\n      <td>(-2, -2, -2, -2, -2)</td>\n      <td>(-2, -2, -2, -2, -2)</td>\n      <td>Ave Maria</td>\n      <td>Tenor</td>\n      <td>28</td>\n      <td>1.0</td>\n      <td>29</td>\n      <td>1.5</td>\n      <td>216.0</td>\n      <td>225.0</td>\n      <td>...</td>\n      <td>NaN</td>\n      <td>28.0</td>\n      <td>29.0</td>\n      <td>(1.0, 1.0, 1.0, 3.0, 1.0, 2.0)</td>\n      <td>(-2, -2, -2, -2, 2)</td>\n      <td>(-2, -2, -2, -2)</td>\n      <td>(1.0, 1.0, 1.0, 3.0, 1.0)</td>\n      <td>(-2, -2, -2, -2)</td>\n      <td>(1.0, 1.0, 1.0, 3.0, 1.0)</td>\n      <td>28.0</td>\n    </tr>\n    <tr>\n      <th>209</th>\n      <td>(-2, -2, -2, -2, 2)</td>\n      <td>(-2, -2, -2, -2, 2)</td>\n      <td>Ave Maria</td>\n      <td>Tenor</td>\n      <td>28</td>\n      <td>2.5</td>\n      <td>29</td>\n      <td>2.0</td>\n      <td>219.0</td>\n      <td>226.0</td>\n      <td>...</td>\n      <td>NaN</td>\n      <td>28.0</td>\n      <td>29.0</td>\n      <td>(1.0, 1.0, 3.0, 1.0, 2.0, 4.0)</td>\n      <td>(-2, -2, -2, 2, 2)</td>\n      <td>(-2, -2, -2, 2)</td>\n      <td>(1.0, 1.0, 3.0, 1.0, 2.0)</td>\n      <td>(-2, -2, -2, 2)</td>\n      <td>(1.0, 1.0, 3.0, 1.0, 2.0)</td>\n      <td>28.0</td>\n    </tr>\n    <tr>\n      <th>23</th>\n      <td>(2, 2, 1, 2, -2)</td>\n      <td>(2, 2, 1, 2, -2)</td>\n      <td>Ave Maria</td>\n      <td>Altus</td>\n      <td>32</td>\n      <td>1.0</td>\n      <td>34</td>\n      <td>2.0</td>\n      <td>248.0</td>\n      <td>266.0</td>\n      <td>...</td>\n      <td>NaN</td>\n      <td>32.0</td>\n      <td>34.0</td>\n      <td>(4.0, 4.0, 2.0, 4.0, 2.0, 4.0)</td>\n      <td>(2, 1, 2, -2, -2)</td>\n      <td>(2, 1, 2, -2)</td>\n      <td>(4.0, 4.0, 2.0, 4.0, 2.0)</td>\n      <td>(2, 1, 2, -2)</td>\n      <td>(4.0, 4.0, 2.0, 4.0, 2.0)</td>\n      <td>33.0</td>\n    </tr>\n    <tr>\n      <th>27</th>\n      <td>(2, 2, 1, 2, -2)</td>\n      <td>(2, 2, 1, 2, -2)</td>\n      <td>Ave Maria</td>\n      <td>Bassus</td>\n      <td>36</td>\n      <td>1.0</td>\n      <td>38</td>\n      <td>2.0</td>\n      <td>280.0</td>\n      <td>298.0</td>\n      <td>...</td>\n      <td>NaN</td>\n      <td>36.0</td>\n      <td>38.0</td>\n      <td>(4.0, 4.0, 2.0, 4.0, 2.0, 4.0)</td>\n      <td>(2, 1, 2, -2, -2)</td>\n      <td>(2, 1, 2, -2)</td>\n      <td>(4.0, 4.0, 2.0, 4.0, 2.0)</td>\n      <td>(2, 1, 2, -2)</td>\n      <td>(4.0, 4.0, 2.0, 4.0, 2.0)</td>\n      <td>37.0</td>\n    </tr>\n    <tr>\n      <th>...</th>\n      <td>...</td>\n      <td>...</td>\n      <td>...</td>\n      <td>...</td>\n      <td>...</td>\n      <td>...</td>\n      <td>...</td>\n      <td>...</td>\n      <td>...</td>\n      <td>...</td>\n      <td>...</td>\n      <td>...</td>\n      <td>...</td>\n      <td>...</td>\n      <td>...</td>\n      <td>...</td>\n      <td>...</td>\n      <td>...</td>\n      <td>...</td>\n      <td>...</td>\n      <td>...</td>\n    </tr>\n    <tr>\n      <th>46</th>\n      <td>(1, 1, 2, -2, -2)</td>\n      <td>(1, 1, 2, -2, -2)</td>\n      <td>Ave Maria</td>\n      <td>Tenor</td>\n      <td>122</td>\n      <td>1.0</td>\n      <td>124</td>\n      <td>4.5</td>\n      <td>1032.0</td>\n      <td>1055.0</td>\n      <td>...</td>\n      <td>NaN</td>\n      <td>123.0</td>\n      <td>125.0</td>\n      <td>(4.0, 4.0, 6.0, 1.0, 1.0, 4.0)</td>\n      <td>(1, 2, -2, -2, -2)</td>\n      <td>(1, 2, -2, -2)</td>\n      <td>(4.0, 4.0, 6.0, 1.0, 1.0)</td>\n      <td>(1, 2, -2, -2)</td>\n      <td>(4.0, 4.0, 6.0, 1.0, 1.0)</td>\n      <td>124.0</td>\n    </tr>\n    <tr>\n      <th>187</th>\n      <td>(-2, -2, -2, 1, 3)</td>\n      <td>(-2, -2, -2, 1, 3)</td>\n      <td>Ave Maria</td>\n      <td>Tenor</td>\n      <td>124</td>\n      <td>1.0</td>\n      <td>125</td>\n      <td>4.0</td>\n      <td>1048.0</td>\n      <td>1062.0</td>\n      <td>...</td>\n      <td>NaN</td>\n      <td>124.0</td>\n      <td>126.0</td>\n      <td>(1.0, 1.0, 4.0, 2.0, 4.0, 1.0)</td>\n      <td>(-2, -2, 1, 3, -2)</td>\n      <td>(-2, -2, 1, 3)</td>\n      <td>(1.0, 1.0, 4.0, 2.0, 4.0)</td>\n      <td>(-2, -2, 1, 3)</td>\n      <td>(1.0, 1.0, 4.0, 2.0, 4.0)</td>\n      <td>125.0</td>\n    </tr>\n    <tr>\n      <th>199</th>\n      <td>(1, 3, -2, -2, -2)</td>\n      <td>(1, 3, -2, -2, -2)</td>\n      <td>Ave Maria</td>\n      <td>Tenor</td>\n      <td>125</td>\n      <td>1.0</td>\n      <td>126</td>\n      <td>3.0</td>\n      <td>1056.0</td>\n      <td>1068.0</td>\n      <td>...</td>\n      <td>NaN</td>\n      <td>125.0</td>\n      <td>127.0</td>\n      <td>(2.0, 4.0, 1.0, 1.0, 4.0, 8.0)</td>\n      <td>(3, -2, -2, -2, -2)</td>\n      <td>(3, -2, -2, -2)</td>\n      <td>(2.0, 4.0, 1.0, 1.0, 4.0)</td>\n      <td>(3, -2, -2, -2)</td>\n      <td>(2.0, 4.0, 1.0, 1.0, 4.0)</td>\n      <td>126.0</td>\n    </tr>\n    <tr>\n      <th>106</th>\n      <td>(2, 2, -2, -2, -2)</td>\n      <td>(2, 2, -2, -2, -2)</td>\n      <td>Ave Maria</td>\n      <td>Altus</td>\n      <td>134</td>\n      <td>2.0</td>\n      <td>135</td>\n      <td>2.5</td>\n      <td>1130.0</td>\n      <td>1139.0</td>\n      <td>...</td>\n      <td>NaN</td>\n      <td>135.0</td>\n      <td>136.0</td>\n      <td>(2.0, 3.0, 1.0, 1.0, 1.0, 4.0)</td>\n      <td>(2, -2, -2, -2, -2)</td>\n      <td>(2, -2, -2, -2)</td>\n      <td>(2.0, 3.0, 1.0, 1.0, 1.0)</td>\n      <td>(2, -2, -2, -2)</td>\n      <td>(2.0, 3.0, 1.0, 1.0, 1.0)</td>\n      <td>135.0</td>\n    </tr>\n    <tr>\n      <th>111</th>\n      <td>(2, -2, -2, -2, 2)</td>\n      <td>(2, -2, -2, -2, 2)</td>\n      <td>Ave Maria</td>\n      <td>Bassus</td>\n      <td>139</td>\n      <td>3.0</td>\n      <td>140</td>\n      <td>3.0</td>\n      <td>1172.0</td>\n      <td>1180.0</td>\n      <td>...</td>\n      <td>NaN</td>\n      <td>139.0</td>\n      <td>141.0</td>\n      <td>(3.0, 1.0, 1.0, 1.0, 4.0, 8.0)</td>\n      <td>(-2, -2, -2, 2, -2)</td>\n      <td>(-2, -2, -2, 2)</td>\n      <td>(3.0, 1.0, 1.0, 1.0, 4.0)</td>\n      <td>(-2, -2, -2, 2)</td>\n      <td>(3.0, 1.0, 1.0, 1.0, 4.0)</td>\n      <td>140.0</td>\n    </tr>\n  </tbody>\n</table>\n<p>134 rows × 25 columns</p>\n</div>"
     },
     "metadata": {},
     "execution_count": 55
    }
   ],
   "source": [
    "# Make sure there are no NaN values \n",
    "\n",
    "# Add new column for check of matching end measures +1 (which we do by subtracting 1, then checking for ==)\n",
    "# combine the results:  these are the soggetti that need to get Greedy\n",
    "\n",
    "df_filter_patts['next_end_measure'].fillna(0)\n",
    "df_filter_patts['next_end_measure_minus'] = df_filter_patts['next_end_measure'].apply(lambda x: x-1)\n",
    "df_test_1 = df_filter_patts[df_filter_patts[\"end_measure\"] == df_filter_patts[\"next_end_measure\"]]\n",
    "df_test_2 = df_filter_patts[df_filter_patts[\"end_measure\"] == df_filter_patts[\"next_end_measure_minus\"]]\n",
    "df_test_combined = pd.concat([df_test_1, df_test_2])\n",
    "df_test_combined\n"
   ]
  }
 ],
 "metadata": {
  "kernelspec": {
   "display_name": "Python 3",
   "language": "python",
   "name": "python3"
  },
  "language_info": {
   "codemirror_mode": {
    "name": "ipython",
    "version": 3
   },
   "file_extension": ".py",
   "mimetype": "text/x-python",
   "name": "python",
   "nbconvert_exporter": "python",
   "pygments_lexer": "ipython3",
   "version": "3.8.5-final"
  }
 },
 "nbformat": 4,
 "nbformat_minor": 4
}