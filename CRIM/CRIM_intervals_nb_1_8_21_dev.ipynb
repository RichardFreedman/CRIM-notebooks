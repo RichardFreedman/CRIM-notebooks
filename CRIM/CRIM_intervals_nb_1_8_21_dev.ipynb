{
 "cells": [
  {
   "cell_type": "markdown",
   "metadata": {},
   "source": [
    "## Search with Options\n",
    "\n",
    "- Piece or Corpus\n",
    "- Actual or Incremental Durations\n",
    "- Chromatic or Diatonic\n",
    "- Exact or Close\n",
    "- Classify\n",
    "\n",
    "***\n"
   ]
  },
  {
   "cell_type": "code",
   "execution_count": 1,
   "metadata": {},
   "outputs": [],
   "source": [
    "from crim_intervals import *\n",
    "import pandas as pd\n",
    "import ast\n",
    "import matplotlib\n",
    "from itertools import tee, combinations\n",
    "import numpy as np"
   ]
  },
  {
   "cell_type": "markdown",
   "metadata": {},
   "source": [
    "### The Complete Corpus"
   ]
  },
  {
   "cell_type": "code",
   "execution_count": 2,
   "metadata": {},
   "outputs": [],
   "source": [
    "work_list = ['CRIM_Mass_0001_1.mei','CRIM_Mass_0001_2.mei','CRIM_Mass_0001_3.mei','CRIM_Mass_0001_4.mei','CRIM_Mass_0001_5.mei','CRIM_Mass_0002_1.mei','CRIM_Mass_0002_2.mei','CRIM_Mass_0002_3.mei','CRIM_Mass_0002_4.mei','CRIM_Mass_0002_5.mei','CRIM_Mass_0003_1.mei','CRIM_Mass_0003_2.mei','CRIM_Mass_0003_3.mei','CRIM_Mass_0003_4.mei','CRIM_Mass_0003_5.mei','CRIM_Mass_0004_1.mei','CRIM_Mass_0004_2.mei','CRIM_Mass_0004_3.mei','CRIM_Mass_0004_4.mei','CRIM_Mass_0004_5.mei','CRIM_Mass_0005_1.mei','CRIM_Mass_0005_2.mei','CRIM_Mass_0005_3.mei','CRIM_Mass_0005_4.mei','CRIM_Mass_0005_5.mei','CRIM_Mass_0006_1.mei','CRIM_Mass_0006_2.mei','CRIM_Mass_0006_3.mei','CRIM_Mass_0006_4.mei','CRIM_Mass_0006_5.mei','CRIM_Mass_0007_1.mei', 'CRIM_Mass_0007_2.mei', 'CRIM_Mass_0007_3.mei', 'CRIM_Mass_0007_4.mei', 'CRIM_Mass_0007_5.mei', 'CRIM_Mass_0008_1.mei', 'CRIM_Mass_0008_2.mei', 'CRIM_Mass_0008_3.mei', 'CRIM_Mass_0008_4.mei', 'CRIM_Mass_0008_5.mei', 'CRIM_Mass_0009_1.mei', 'CRIM_Mass_0009_2.mei', 'CRIM_Mass_0009_3.mei', 'CRIM_Mass_0009_4.mei', 'CRIM_Mass_0009_5.mei', 'CRIM_Mass_0010_1.mei', 'CRIM_Mass_0010_2.mei', 'CRIM_Mass_0010_3.mei', 'CRIM_Mass_0010_4.mei', 'CRIM_Mass_0010_5.mei', 'CRIM_Mass_0011_1.mei', 'CRIM_Mass_0011_2.mei', 'CRIM_Mass_0011_3.mei', 'CRIM_Mass_0011_4.mei', 'CRIM_Mass_0011_5.mei', 'CRIM_Mass_0012_1.mei', 'CRIM_Mass_0012_2.mei', 'CRIM_Mass_0012_3.mei', 'CRIM_Mass_0012_4.mei', 'CRIM_Mass_0012_5.mei', 'CRIM_Mass_0013_1.mei', 'CRIM_Mass_0013_2.mei', 'CRIM_Mass_0013_3.mei', 'CRIM_Mass_0013_4.mei', 'CRIM_Mass_0013_5.mei', 'CRIM_Mass_0014_1.mei', 'CRIM_Mass_0014_2.mei', 'CRIM_Mass_0014_3.mei', 'CRIM_Mass_0014_4.mei', 'CRIM_Mass_0014_5.mei', 'CRIM_Mass_0015_1.mei', 'CRIM_Mass_0015_2.mei', 'CRIM_Mass_0015_3.mei', 'CRIM_Mass_0015_4.mei', 'CRIM_Mass_0015_5.mei', 'CRIM_Mass_0016_1.mei', 'CRIM_Mass_0016_2.mei', 'CRIM_Mass_0016_3.mei', 'CRIM_Mass_0016_4.mei', 'CRIM_Mass_0016_5.mei', 'CRIM_Mass_0017_1.mei', 'CRIM_Mass_0017_2.mei', 'CRIM_Mass_0017_3.mei', 'CRIM_Mass_0017_4.mei', 'CRIM_Mass_0017_5.mei', 'CRIM_Mass_0018_1.mei', 'CRIM_Mass_0018_2.mei', 'CRIM_Mass_0018_3.mei', 'CRIM_Mass_0018_4.mei', 'CRIM_Mass_0018_5.mei', 'CRIM_Mass_0019_1.mei', 'CRIM_Mass_0019_2.mei', 'CRIM_Mass_0019_3.mei', 'CRIM_Mass_0019_4.mei', 'CRIM_Mass_0019_5.mei', 'CRIM_Mass_0020_1.mei', 'CRIM_Mass_0020_2.mei', 'CRIM_Mass_0020_3.mei', 'CRIM_Mass_0020_4.mei', 'CRIM_Mass_0020_5.mei', 'CRIM_Mass_0021_1.mei', 'CRIM_Mass_0021_2.mei', 'CRIM_Mass_0021_3.mei', 'CRIM_Mass_0021_4.mei', 'CRIM_Mass_0021_5.mei', 'CRIM_Mass_0022_2.mei', 'CRIM_Model_0001.mei', 'CRIM_Model_0008.mei', 'CRIM_Model_0009.mei', 'CRIM_Model_0010.mei', 'CRIM_Model_0011.mei', 'CRIM_Model_0012.mei', 'CRIM_Model_0013.mei', 'CRIM_Model_0014.mei', 'CRIM_Model_0015.mei', 'CRIM_Model_0016.mei', 'CRIM_Model_0017.mei', 'CRIM_Model_0019.mei', 'CRIM_Model_0020.mei', 'CRIM_Model_0021.mei', 'CRIM_Model_0023.mei', 'CRIM_Model_0025.mei', 'CRIM_Model_0026.mei',\n",
    "]"
   ]
  },
  {
   "cell_type": "markdown",
   "metadata": {},
   "source": [
    "### Short Corpus"
   ]
  },
  {
   "cell_type": "code",
   "execution_count": 3,
   "metadata": {},
   "outputs": [],
   "source": [
    "# work_list = ['CRIM_Mass_0002_1.mei',\n",
    "#  'CRIM_Mass_0002_2.mei',\n",
    "#  'CRIM_Mass_0002_3.mei',\n",
    "#  'CRIM_Mass_0002_4.mei',\n",
    "#  'CRIM_Mass_0002_5.mei',\n",
    "# 'CRIM_Model_0001.mei']\n",
    "\n",
    "work_list = ['CRIM_Model_0008.mei']"
   ]
  },
  {
   "source": [
    "## Load File and Correct the MEI Metadata"
   ],
   "cell_type": "markdown",
   "metadata": {
    "jupyter": {
     "outputs_hidden": true
    },
    "scrolled": true
   }
  },
  {
   "cell_type": "code",
   "execution_count": 4,
   "metadata": {
    "tags": []
   },
   "outputs": [
    {
     "output_type": "stream",
     "name": "stdout",
     "text": [
      "Requesting file from https://crimproject.org/mei/MEI_4.0/CRIM_Model_0008.mei...\n",
      "Successfully imported.\n",
      "https://crimproject.org/mei/MEI_4.0/CRIM_Model_0008.mei Ave Maria\n",
      "Ave Maria\n"
     ]
    }
   ],
   "source": [
    "work_list = [el.replace(\"CRIM_\", \"https://crimproject.org/mei/MEI_4.0/CRIM_\") for el in work_list]\n",
    "corpus = CorpusBase(work_list)\n",
    "\n",
    "import xml.etree.ElementTree as ET\n",
    "import requests\n",
    "\n",
    "MEINSURI = 'http://www.music-encoding.org/ns/mei'\n",
    "MEINS = '{%s}' % MEINSURI\n",
    "\n",
    "for i, path in enumerate(work_list):\n",
    "    \n",
    "    try:\n",
    "        if path[0] == '/':\n",
    "            mei_doc = ET.parse(path)\n",
    "        else:\n",
    "            mei_doc = ET.fromstring(requests.get(path).text)\n",
    "\n",
    "      # Find the title from the MEI file and update the Music21 Score metadata\n",
    "        title = mei_doc.find('mei:meiHead//mei:titleStmt/mei:title', namespaces={\"mei\": MEINSURI}).text\n",
    "        print(path, title)\n",
    "        corpus.scores[i].metadata.title = title\n",
    "    except:\n",
    "        continue\n",
    "\n",
    "for s in corpus.scores:\n",
    "    print(s.metadata.title)"
   ]
  },
  {
   "cell_type": "markdown",
   "metadata": {},
   "source": [
    "\n",
    "## Select Actual or Incremental Durations\n",
    "\n",
    "#### About Rhythmic Durations\n",
    "\n",
    "- For `find_close_matches` and `find_exact_matches`, rhythmic variation/duration is displayed, but **not** factored into the calculation of matching.\n",
    "- **Incremental Offset** calculates the intervals using a **fixed offset between notes**, no matter their actual duration.  Use this to ignore passing tones or other ornaments.  The offsets are expressed in multiples of the quarter note (Offset = 1 samples at quarter note; Offset = 2 at half note, etc). Set with `vectors = IntervalBase(corpus.note_list_incremental_offset(2))`"
   ]
  },
  {
   "cell_type": "code",
   "execution_count": 5,
   "metadata": {},
   "outputs": [],
   "source": [
    "vectors = IntervalBase(corpus.note_list)\n",
    "#vectors = IntervalBase(corpus.note_list_incremental_offset(2))"
   ]
  },
  {
   "cell_type": "markdown",
   "metadata": {},
   "source": [
    "***\n",
    "\n",
    "## Select Generic or Semitone Scale:\n",
    "\n",
    "- **Length of the Soggetto**: `into_patterns([vectors.semitone_intervals], 5)` \n",
    "\n",
    "- The **number** in this command represents the **minimum number of vectors to find**. 5 vectors is 6 notes.\n"
   ]
  },
  {
   "cell_type": "code",
   "execution_count": 6,
   "metadata": {},
   "outputs": [],
   "source": [
    "patterns = into_patterns([vectors.generic_intervals], 5)\n",
    "#patterns = into_patterns([vectors.semitone_intervals], 4)"
   ]
  },
  {
   "cell_type": "markdown",
   "metadata": {},
   "source": [
    "***\n",
    "\n",
    "## Select Exact Matches Here, or Close Below\n",
    "#### (Use comment feature to select screen preview or CSV output) \n",
    "\n",
    "- **Exact** is exact in *all* ways `find_exact_matches(patterns, 2)` \n",
    "- The **number** in this command represents the **minimum number of matching melodies needed before reporting**. This allows us to filter for common or uncommon soggetti."
   ]
  },
  {
   "cell_type": "code",
   "execution_count": 7,
   "metadata": {
    "tags": []
   },
   "outputs": [
    {
     "output_type": "stream",
     "name": "stdout",
     "text": [
      "Finding exact matches...\n",
      "41 melodic intervals had more than 3 exact matches.\n",
      "\n"
     ]
    },
    {
     "output_type": "execute_result",
     "data": {
      "text/plain": [
       "  pattern_generating_match      pattern_matched piece_title        part  \\\n",
       "0         (4, 1, 2, 2, -3)     [4, 1, 2, 2, -3]   Ave Maria  [Superius]   \n",
       "1         (4, 1, 2, 2, -3)     [4, 1, 2, 2, -3]   Ave Maria  [Superius]   \n",
       "2         (4, 1, 2, 2, -3)     [4, 1, 2, 2, -3]   Ave Maria       Altus   \n",
       "3         (4, 1, 2, 2, -3)     [4, 1, 2, 2, -3]   Ave Maria       Tenor   \n",
       "4         (4, 1, 2, 2, -3)     [4, 1, 2, 2, -3]   Ave Maria      Bassus   \n",
       "5      (-2, -2, -2, 2, -2)  [-2, -2, -2, 2, -2]   Ave Maria  [Superius]   \n",
       "6      (-2, -2, -2, 2, -2)  [-2, -2, -2, 2, -2]   Ave Maria       Altus   \n",
       "7      (-2, -2, -2, 2, -2)  [-2, -2, -2, 2, -2]   Ave Maria       Tenor   \n",
       "8      (-2, -2, -2, 2, -2)  [-2, -2, -2, 2, -2]   Ave Maria      Bassus   \n",
       "9         (1, 1, 2, 2, -3)     [1, 1, 2, 2, -3]   Ave Maria  [Superius]   \n",
       "\n",
       "   start_measure  start_beat  end_measure  end_beat  start_offset  end_offset  \\\n",
       "0              1         1.0            4       1.0           0.0        24.0   \n",
       "1            105         3.0          107       3.5         884.0       910.0   \n",
       "2              3         1.0            6       1.0          16.0        40.0   \n",
       "3              5         1.0            8       1.0          32.0        56.0   \n",
       "4              7         1.0           10       1.0          48.0        72.0   \n",
       "5              8         1.0           10       2.0          56.0        74.0   \n",
       "6             10         1.0           12       2.5          72.0        91.0   \n",
       "7             12         1.0           14       2.0          88.0       106.0   \n",
       "8            139         4.0          141       1.0        1174.0      1184.0   \n",
       "9             16         3.0           19       1.0         124.0       144.0   \n",
       "\n",
       "                   note_durations  \\\n",
       "0  [4.0, 8.0, 4.0, 4.0, 4.0, 8.0]   \n",
       "1  [4.0, 8.0, 4.0, 4.0, 6.0, 2.0]   \n",
       "2  [4.0, 8.0, 4.0, 4.0, 4.0, 8.0]   \n",
       "3  [4.0, 8.0, 4.0, 4.0, 4.0, 8.0]   \n",
       "4  [4.0, 8.0, 4.0, 4.0, 4.0, 8.0]   \n",
       "5  [6.0, 2.0, 4.0, 4.0, 2.0, 2.0]   \n",
       "6  [6.0, 2.0, 4.0, 4.0, 3.0, 1.0]   \n",
       "7  [6.0, 2.0, 4.0, 4.0, 2.0, 2.0]   \n",
       "8  [3.0, 1.0, 1.0, 1.0, 4.0, 8.0]   \n",
       "9  [6.0, 2.0, 4.0, 4.0, 4.0, 3.0]   \n",
       "\n",
       "                                                 ema  \\\n",
       "0    1-4/1/@1.0-end,@start-end,@start-end,@start-1.0   \n",
       "1           105-107/1/@3.0-end,@start-end,@start-3.5   \n",
       "2    3-6/2/@1.0-end,@start-end,@start-end,@start-1.0   \n",
       "3    5-8/3/@1.0-end,@start-end,@start-end,@start-1.0   \n",
       "4   7-10/4/@1.0-end,@start-end,@start-end,@start-1.0   \n",
       "5              8-10/1/@1.0-end,@start-end,@start-2.0   \n",
       "6             10-12/2/@1.0-end,@start-end,@start-2.5   \n",
       "7             12-14/3/@1.0-end,@start-end,@start-2.0   \n",
       "8           139-141/4/@4.0-end,@start-end,@start-1.0   \n",
       "9  16-19/1/@3.0-end,@start-end,@start-end,@start-1.0   \n",
       "\n",
       "                                             ema_url  \n",
       "0  https://ema.crimproject.org/https%3A%2F%2Fcrim...  \n",
       "1  https://ema.crimproject.org/https%3A%2F%2Fcrim...  \n",
       "2  https://ema.crimproject.org/https%3A%2F%2Fcrim...  \n",
       "3  https://ema.crimproject.org/https%3A%2F%2Fcrim...  \n",
       "4  https://ema.crimproject.org/https%3A%2F%2Fcrim...  \n",
       "5  https://ema.crimproject.org/https%3A%2F%2Fcrim...  \n",
       "6  https://ema.crimproject.org/https%3A%2F%2Fcrim...  \n",
       "7  https://ema.crimproject.org/https%3A%2F%2Fcrim...  \n",
       "8  https://ema.crimproject.org/https%3A%2F%2Fcrim...  \n",
       "9  https://ema.crimproject.org/https%3A%2F%2Fcrim...  "
      ],
      "text/html": "<div>\n<style scoped>\n    .dataframe tbody tr th:only-of-type {\n        vertical-align: middle;\n    }\n\n    .dataframe tbody tr th {\n        vertical-align: top;\n    }\n\n    .dataframe thead th {\n        text-align: right;\n    }\n</style>\n<table border=\"1\" class=\"dataframe\">\n  <thead>\n    <tr style=\"text-align: right;\">\n      <th></th>\n      <th>pattern_generating_match</th>\n      <th>pattern_matched</th>\n      <th>piece_title</th>\n      <th>part</th>\n      <th>start_measure</th>\n      <th>start_beat</th>\n      <th>end_measure</th>\n      <th>end_beat</th>\n      <th>start_offset</th>\n      <th>end_offset</th>\n      <th>note_durations</th>\n      <th>ema</th>\n      <th>ema_url</th>\n    </tr>\n  </thead>\n  <tbody>\n    <tr>\n      <th>0</th>\n      <td>(4, 1, 2, 2, -3)</td>\n      <td>[4, 1, 2, 2, -3]</td>\n      <td>Ave Maria</td>\n      <td>[Superius]</td>\n      <td>1</td>\n      <td>1.0</td>\n      <td>4</td>\n      <td>1.0</td>\n      <td>0.0</td>\n      <td>24.0</td>\n      <td>[4.0, 8.0, 4.0, 4.0, 4.0, 8.0]</td>\n      <td>1-4/1/@1.0-end,@start-end,@start-end,@start-1.0</td>\n      <td>https://ema.crimproject.org/https%3A%2F%2Fcrim...</td>\n    </tr>\n    <tr>\n      <th>1</th>\n      <td>(4, 1, 2, 2, -3)</td>\n      <td>[4, 1, 2, 2, -3]</td>\n      <td>Ave Maria</td>\n      <td>[Superius]</td>\n      <td>105</td>\n      <td>3.0</td>\n      <td>107</td>\n      <td>3.5</td>\n      <td>884.0</td>\n      <td>910.0</td>\n      <td>[4.0, 8.0, 4.0, 4.0, 6.0, 2.0]</td>\n      <td>105-107/1/@3.0-end,@start-end,@start-3.5</td>\n      <td>https://ema.crimproject.org/https%3A%2F%2Fcrim...</td>\n    </tr>\n    <tr>\n      <th>2</th>\n      <td>(4, 1, 2, 2, -3)</td>\n      <td>[4, 1, 2, 2, -3]</td>\n      <td>Ave Maria</td>\n      <td>Altus</td>\n      <td>3</td>\n      <td>1.0</td>\n      <td>6</td>\n      <td>1.0</td>\n      <td>16.0</td>\n      <td>40.0</td>\n      <td>[4.0, 8.0, 4.0, 4.0, 4.0, 8.0]</td>\n      <td>3-6/2/@1.0-end,@start-end,@start-end,@start-1.0</td>\n      <td>https://ema.crimproject.org/https%3A%2F%2Fcrim...</td>\n    </tr>\n    <tr>\n      <th>3</th>\n      <td>(4, 1, 2, 2, -3)</td>\n      <td>[4, 1, 2, 2, -3]</td>\n      <td>Ave Maria</td>\n      <td>Tenor</td>\n      <td>5</td>\n      <td>1.0</td>\n      <td>8</td>\n      <td>1.0</td>\n      <td>32.0</td>\n      <td>56.0</td>\n      <td>[4.0, 8.0, 4.0, 4.0, 4.0, 8.0]</td>\n      <td>5-8/3/@1.0-end,@start-end,@start-end,@start-1.0</td>\n      <td>https://ema.crimproject.org/https%3A%2F%2Fcrim...</td>\n    </tr>\n    <tr>\n      <th>4</th>\n      <td>(4, 1, 2, 2, -3)</td>\n      <td>[4, 1, 2, 2, -3]</td>\n      <td>Ave Maria</td>\n      <td>Bassus</td>\n      <td>7</td>\n      <td>1.0</td>\n      <td>10</td>\n      <td>1.0</td>\n      <td>48.0</td>\n      <td>72.0</td>\n      <td>[4.0, 8.0, 4.0, 4.0, 4.0, 8.0]</td>\n      <td>7-10/4/@1.0-end,@start-end,@start-end,@start-1.0</td>\n      <td>https://ema.crimproject.org/https%3A%2F%2Fcrim...</td>\n    </tr>\n    <tr>\n      <th>5</th>\n      <td>(-2, -2, -2, 2, -2)</td>\n      <td>[-2, -2, -2, 2, -2]</td>\n      <td>Ave Maria</td>\n      <td>[Superius]</td>\n      <td>8</td>\n      <td>1.0</td>\n      <td>10</td>\n      <td>2.0</td>\n      <td>56.0</td>\n      <td>74.0</td>\n      <td>[6.0, 2.0, 4.0, 4.0, 2.0, 2.0]</td>\n      <td>8-10/1/@1.0-end,@start-end,@start-2.0</td>\n      <td>https://ema.crimproject.org/https%3A%2F%2Fcrim...</td>\n    </tr>\n    <tr>\n      <th>6</th>\n      <td>(-2, -2, -2, 2, -2)</td>\n      <td>[-2, -2, -2, 2, -2]</td>\n      <td>Ave Maria</td>\n      <td>Altus</td>\n      <td>10</td>\n      <td>1.0</td>\n      <td>12</td>\n      <td>2.5</td>\n      <td>72.0</td>\n      <td>91.0</td>\n      <td>[6.0, 2.0, 4.0, 4.0, 3.0, 1.0]</td>\n      <td>10-12/2/@1.0-end,@start-end,@start-2.5</td>\n      <td>https://ema.crimproject.org/https%3A%2F%2Fcrim...</td>\n    </tr>\n    <tr>\n      <th>7</th>\n      <td>(-2, -2, -2, 2, -2)</td>\n      <td>[-2, -2, -2, 2, -2]</td>\n      <td>Ave Maria</td>\n      <td>Tenor</td>\n      <td>12</td>\n      <td>1.0</td>\n      <td>14</td>\n      <td>2.0</td>\n      <td>88.0</td>\n      <td>106.0</td>\n      <td>[6.0, 2.0, 4.0, 4.0, 2.0, 2.0]</td>\n      <td>12-14/3/@1.0-end,@start-end,@start-2.0</td>\n      <td>https://ema.crimproject.org/https%3A%2F%2Fcrim...</td>\n    </tr>\n    <tr>\n      <th>8</th>\n      <td>(-2, -2, -2, 2, -2)</td>\n      <td>[-2, -2, -2, 2, -2]</td>\n      <td>Ave Maria</td>\n      <td>Bassus</td>\n      <td>139</td>\n      <td>4.0</td>\n      <td>141</td>\n      <td>1.0</td>\n      <td>1174.0</td>\n      <td>1184.0</td>\n      <td>[3.0, 1.0, 1.0, 1.0, 4.0, 8.0]</td>\n      <td>139-141/4/@4.0-end,@start-end,@start-1.0</td>\n      <td>https://ema.crimproject.org/https%3A%2F%2Fcrim...</td>\n    </tr>\n    <tr>\n      <th>9</th>\n      <td>(1, 1, 2, 2, -3)</td>\n      <td>[1, 1, 2, 2, -3]</td>\n      <td>Ave Maria</td>\n      <td>[Superius]</td>\n      <td>16</td>\n      <td>3.0</td>\n      <td>19</td>\n      <td>1.0</td>\n      <td>124.0</td>\n      <td>144.0</td>\n      <td>[6.0, 2.0, 4.0, 4.0, 4.0, 3.0]</td>\n      <td>16-19/1/@3.0-end,@start-end,@start-end,@start-1.0</td>\n      <td>https://ema.crimproject.org/https%3A%2F%2Fcrim...</td>\n    </tr>\n  </tbody>\n</table>\n</div>"
     },
     "metadata": {},
     "execution_count": 7
    }
   ],
   "source": [
    "exact_matches = find_exact_matches(patterns, 3)\n",
    "# Use this for exact screen preview\n",
    "#for item in exact_matches:\n",
    "    #item.print_exact_matches()\n",
    "\n",
    "output_exact = export_pandas(exact_matches)\n",
    "pd.DataFrame(output_exact).head()\n",
    "output_exact[\"pattern_generating_match\"] = output_exact[\"pattern_generating_match\"].apply(tuple)\n",
    "\n",
    "results = pd.DataFrame(output_exact)\n",
    "results[\"pattern_generating_match\"] = results[\"pattern_generating_match\"].apply(tuple)\n",
    "results.head(10)\n",
    "#export_to_csv(exact_matches)\n"
   ]
  },
  {
   "cell_type": "code",
   "execution_count": 70,
   "metadata": {},
   "outputs": [
    {
     "output_type": "execute_result",
     "data": {
      "text/plain": [
       "    pattern_generating_match      pattern_matched piece_title        part  \\\n",
       "0           (4, 1, 2, 2, -3)     [4, 1, 2, 2, -3]   Ave Maria  [Superius]   \n",
       "2           (4, 1, 2, 2, -3)     [4, 1, 2, 2, -3]   Ave Maria       Altus   \n",
       "3           (4, 1, 2, 2, -3)     [4, 1, 2, 2, -3]   Ave Maria       Tenor   \n",
       "4           (4, 1, 2, 2, -3)     [4, 1, 2, 2, -3]   Ave Maria      Bassus   \n",
       "5        (-2, -2, -2, 2, -2)  [-2, -2, -2, 2, -2]   Ave Maria  [Superius]   \n",
       "..                       ...                  ...         ...         ...   \n",
       "155       (2, -3, 2, -2, -2)   [2, -3, 2, -2, -2]   Ave Maria      Bassus   \n",
       "35         (2, -2, 1, -2, 2)    [2, -2, 1, -2, 2]   Ave Maria       Altus   \n",
       "163      (-3, 2, -2, -2, -2)  [-3, 2, -2, -2, -2]   Ave Maria      Bassus   \n",
       "111       (2, -2, -2, -2, 2)   [2, -2, -2, -2, 2]   Ave Maria      Bassus   \n",
       "8        (-2, -2, -2, 2, -2)  [-2, -2, -2, 2, -2]   Ave Maria      Bassus   \n",
       "\n",
       "     start_measure  start_beat  end_measure  end_beat  start_offset  \\\n",
       "0                1         1.0            4       1.0           0.0   \n",
       "2                3         1.0            6       1.0          16.0   \n",
       "3                5         1.0            8       1.0          32.0   \n",
       "4                7         1.0           10       1.0          48.0   \n",
       "5                8         1.0           10       2.0          56.0   \n",
       "..             ...         ...          ...       ...           ...   \n",
       "155            139         1.0          140       2.0        1168.0   \n",
       "35             139         1.0          141       3.0        1168.0   \n",
       "163            139         2.0          140       2.5        1170.0   \n",
       "111            139         3.0          140       3.0        1172.0   \n",
       "8              139         4.0          141       1.0        1174.0   \n",
       "\n",
       "     end_offset                  note_durations  \n",
       "0          24.0  [4.0, 8.0, 4.0, 4.0, 4.0, 8.0]  \n",
       "2          40.0  [4.0, 8.0, 4.0, 4.0, 4.0, 8.0]  \n",
       "3          56.0  [4.0, 8.0, 4.0, 4.0, 4.0, 8.0]  \n",
       "4          72.0  [4.0, 8.0, 4.0, 4.0, 4.0, 8.0]  \n",
       "5          74.0  [6.0, 2.0, 4.0, 4.0, 2.0, 2.0]  \n",
       "..          ...                             ...  \n",
       "155      1178.0  [2.0, 2.0, 2.0, 3.0, 1.0, 1.0]  \n",
       "35       1180.0  [2.0, 3.0, 1.0, 4.0, 2.0, 8.0]  \n",
       "163      1179.0  [2.0, 2.0, 3.0, 1.0, 1.0, 1.0]  \n",
       "111      1180.0  [2.0, 3.0, 1.0, 1.0, 1.0, 4.0]  \n",
       "8        1184.0  [3.0, 1.0, 1.0, 1.0, 4.0, 8.0]  \n",
       "\n",
       "[219 rows x 11 columns]"
      ],
      "text/html": "<div>\n<style scoped>\n    .dataframe tbody tr th:only-of-type {\n        vertical-align: middle;\n    }\n\n    .dataframe tbody tr th {\n        vertical-align: top;\n    }\n\n    .dataframe thead th {\n        text-align: right;\n    }\n</style>\n<table border=\"1\" class=\"dataframe\">\n  <thead>\n    <tr style=\"text-align: right;\">\n      <th></th>\n      <th>pattern_generating_match</th>\n      <th>pattern_matched</th>\n      <th>piece_title</th>\n      <th>part</th>\n      <th>start_measure</th>\n      <th>start_beat</th>\n      <th>end_measure</th>\n      <th>end_beat</th>\n      <th>start_offset</th>\n      <th>end_offset</th>\n      <th>note_durations</th>\n    </tr>\n  </thead>\n  <tbody>\n    <tr>\n      <th>0</th>\n      <td>(4, 1, 2, 2, -3)</td>\n      <td>[4, 1, 2, 2, -3]</td>\n      <td>Ave Maria</td>\n      <td>[Superius]</td>\n      <td>1</td>\n      <td>1.0</td>\n      <td>4</td>\n      <td>1.0</td>\n      <td>0.0</td>\n      <td>24.0</td>\n      <td>[4.0, 8.0, 4.0, 4.0, 4.0, 8.0]</td>\n    </tr>\n    <tr>\n      <th>2</th>\n      <td>(4, 1, 2, 2, -3)</td>\n      <td>[4, 1, 2, 2, -3]</td>\n      <td>Ave Maria</td>\n      <td>Altus</td>\n      <td>3</td>\n      <td>1.0</td>\n      <td>6</td>\n      <td>1.0</td>\n      <td>16.0</td>\n      <td>40.0</td>\n      <td>[4.0, 8.0, 4.0, 4.0, 4.0, 8.0]</td>\n    </tr>\n    <tr>\n      <th>3</th>\n      <td>(4, 1, 2, 2, -3)</td>\n      <td>[4, 1, 2, 2, -3]</td>\n      <td>Ave Maria</td>\n      <td>Tenor</td>\n      <td>5</td>\n      <td>1.0</td>\n      <td>8</td>\n      <td>1.0</td>\n      <td>32.0</td>\n      <td>56.0</td>\n      <td>[4.0, 8.0, 4.0, 4.0, 4.0, 8.0]</td>\n    </tr>\n    <tr>\n      <th>4</th>\n      <td>(4, 1, 2, 2, -3)</td>\n      <td>[4, 1, 2, 2, -3]</td>\n      <td>Ave Maria</td>\n      <td>Bassus</td>\n      <td>7</td>\n      <td>1.0</td>\n      <td>10</td>\n      <td>1.0</td>\n      <td>48.0</td>\n      <td>72.0</td>\n      <td>[4.0, 8.0, 4.0, 4.0, 4.0, 8.0]</td>\n    </tr>\n    <tr>\n      <th>5</th>\n      <td>(-2, -2, -2, 2, -2)</td>\n      <td>[-2, -2, -2, 2, -2]</td>\n      <td>Ave Maria</td>\n      <td>[Superius]</td>\n      <td>8</td>\n      <td>1.0</td>\n      <td>10</td>\n      <td>2.0</td>\n      <td>56.0</td>\n      <td>74.0</td>\n      <td>[6.0, 2.0, 4.0, 4.0, 2.0, 2.0]</td>\n    </tr>\n    <tr>\n      <th>...</th>\n      <td>...</td>\n      <td>...</td>\n      <td>...</td>\n      <td>...</td>\n      <td>...</td>\n      <td>...</td>\n      <td>...</td>\n      <td>...</td>\n      <td>...</td>\n      <td>...</td>\n      <td>...</td>\n    </tr>\n    <tr>\n      <th>155</th>\n      <td>(2, -3, 2, -2, -2)</td>\n      <td>[2, -3, 2, -2, -2]</td>\n      <td>Ave Maria</td>\n      <td>Bassus</td>\n      <td>139</td>\n      <td>1.0</td>\n      <td>140</td>\n      <td>2.0</td>\n      <td>1168.0</td>\n      <td>1178.0</td>\n      <td>[2.0, 2.0, 2.0, 3.0, 1.0, 1.0]</td>\n    </tr>\n    <tr>\n      <th>35</th>\n      <td>(2, -2, 1, -2, 2)</td>\n      <td>[2, -2, 1, -2, 2]</td>\n      <td>Ave Maria</td>\n      <td>Altus</td>\n      <td>139</td>\n      <td>1.0</td>\n      <td>141</td>\n      <td>3.0</td>\n      <td>1168.0</td>\n      <td>1180.0</td>\n      <td>[2.0, 3.0, 1.0, 4.0, 2.0, 8.0]</td>\n    </tr>\n    <tr>\n      <th>163</th>\n      <td>(-3, 2, -2, -2, -2)</td>\n      <td>[-3, 2, -2, -2, -2]</td>\n      <td>Ave Maria</td>\n      <td>Bassus</td>\n      <td>139</td>\n      <td>2.0</td>\n      <td>140</td>\n      <td>2.5</td>\n      <td>1170.0</td>\n      <td>1179.0</td>\n      <td>[2.0, 2.0, 3.0, 1.0, 1.0, 1.0]</td>\n    </tr>\n    <tr>\n      <th>111</th>\n      <td>(2, -2, -2, -2, 2)</td>\n      <td>[2, -2, -2, -2, 2]</td>\n      <td>Ave Maria</td>\n      <td>Bassus</td>\n      <td>139</td>\n      <td>3.0</td>\n      <td>140</td>\n      <td>3.0</td>\n      <td>1172.0</td>\n      <td>1180.0</td>\n      <td>[2.0, 3.0, 1.0, 1.0, 1.0, 4.0]</td>\n    </tr>\n    <tr>\n      <th>8</th>\n      <td>(-2, -2, -2, 2, -2)</td>\n      <td>[-2, -2, -2, 2, -2]</td>\n      <td>Ave Maria</td>\n      <td>Bassus</td>\n      <td>139</td>\n      <td>4.0</td>\n      <td>141</td>\n      <td>1.0</td>\n      <td>1174.0</td>\n      <td>1184.0</td>\n      <td>[3.0, 1.0, 1.0, 1.0, 4.0, 8.0]</td>\n    </tr>\n  </tbody>\n</table>\n<p>219 rows × 11 columns</p>\n</div>"
     },
     "metadata": {},
     "execution_count": 70
    }
   ],
   "source": [
    "results2 = results.drop(columns=[\"ema\", \"ema_url\"])\n",
    "results2 = results2.sort_values(\"start_offset\")\n",
    "\n",
    "results2\n"
   ]
  },
  {
   "cell_type": "code",
   "execution_count": 71,
   "metadata": {},
   "outputs": [
    {
     "output_type": "execute_result",
     "data": {
      "text/plain": [
       "                      0                                                  1\n",
       "0    (-3, 2, -3, 2, -2)      pattern_generating_match     pattern_match...\n",
       "1   (-3, 2, -2, -2, -2)      pattern_generating_match      pattern_matc...\n",
       "2     (-3, 2, 2, 2, -3)     pattern_generating_match    pattern_matched...\n",
       "3  (-2, -2, -2, -2, -3)     pattern_generating_match       pattern_matc...\n",
       "4  (-2, -2, -2, -2, -2)     pattern_generating_match       pattern_matc..."
      ],
      "text/html": "<div>\n<style scoped>\n    .dataframe tbody tr th:only-of-type {\n        vertical-align: middle;\n    }\n\n    .dataframe tbody tr th {\n        vertical-align: top;\n    }\n\n    .dataframe thead th {\n        text-align: right;\n    }\n</style>\n<table border=\"1\" class=\"dataframe\">\n  <thead>\n    <tr style=\"text-align: right;\">\n      <th></th>\n      <th>0</th>\n      <th>1</th>\n    </tr>\n  </thead>\n  <tbody>\n    <tr>\n      <th>0</th>\n      <td>(-3, 2, -3, 2, -2)</td>\n      <td>pattern_generating_match     pattern_match...</td>\n    </tr>\n    <tr>\n      <th>1</th>\n      <td>(-3, 2, -2, -2, -2)</td>\n      <td>pattern_generating_match      pattern_matc...</td>\n    </tr>\n    <tr>\n      <th>2</th>\n      <td>(-3, 2, 2, 2, -3)</td>\n      <td>pattern_generating_match    pattern_matched...</td>\n    </tr>\n    <tr>\n      <th>3</th>\n      <td>(-2, -2, -2, -2, -3)</td>\n      <td>pattern_generating_match       pattern_matc...</td>\n    </tr>\n    <tr>\n      <th>4</th>\n      <td>(-2, -2, -2, -2, -2)</td>\n      <td>pattern_generating_match       pattern_matc...</td>\n    </tr>\n  </tbody>\n</table>\n</div>"
     },
     "metadata": {},
     "execution_count": 71
    }
   ],
   "source": [
    "results2 = pd.DataFrame(results2.groupby(['pattern_generating_match']))\n",
    "results2.head()\n",
    "#results2 = results2.groupby(by=\"pattern_generating_match\").sort_values('start_offset')\n",
    "\n",
    "#results3 = df.groupby('pattern_generating_match\"')\n",
    "# results4 = results3.aggregate(lambda x: tuple(x))\n",
    "# results3 = results2.groupby('start_offset').agg(lambda\n",
    "                             #x: list(x))\n",
    "#results.groupby('pattern_generating_match', as_index=False)['start_offset'].agg(list)\n",
    "# r2 = results.groupby('part',as_index=False)['start_offset'].aggregate(lambda x: list(x))"
   ]
  },
  {
   "source": [
    "### A Quick Overview of the Results"
   ],
   "cell_type": "markdown",
   "metadata": {}
  },
  {
   "cell_type": "code",
   "execution_count": 72,
   "metadata": {},
   "outputs": [
    {
     "output_type": "execute_result",
     "data": {
      "text/plain": [
       "'There are 41 unique soggetti and 219 total matches in this search'"
      ]
     },
     "metadata": {},
     "execution_count": 72
    }
   ],
   "source": [
    "total_matches = len(output_exact)\n",
    "unique_sogetti = output_exact.pattern_generating_match.apply(str).nunique()\n",
    "summary = 'There are {} unique soggetti and {} total matches in this search'.format(unique_sogetti, total_matches)\n",
    "summary"
   ]
  },
  {
   "cell_type": "markdown",
   "metadata": {},
   "source": [
    "### Group by the Pattern Generating Match and Check Distribution of Results\n",
    "\n",
    "- Report Top Ten and Bottom Ten Results)"
   ]
  },
  {
   "cell_type": "code",
   "execution_count": 73,
   "metadata": {},
   "outputs": [
    {
     "output_type": "execute_result",
     "data": {
      "text/plain": [
       "                           0\n",
       "pattern_generating_match    \n",
       "(1, 2, -2, -2, -2)        13\n",
       "(2, -2, -2, -2, -2)       11\n",
       "(1, 1, 2, -2, -2)          9\n",
       "(-3, 2, -2, -2, -2)        8\n",
       "(-2, -2, -2, 2, 2)         8\n",
       "(2, -3, 2, -2, -2)         8\n",
       "(-2, -2, -2, -2, 2)        7\n",
       "(2, -3, 2, -3, 2)          7\n",
       "(2, 2, 2, -3, 2)           6\n",
       "(2, 2, 1, 2, -2)           6"
      ],
      "text/html": "<div>\n<style scoped>\n    .dataframe tbody tr th:only-of-type {\n        vertical-align: middle;\n    }\n\n    .dataframe tbody tr th {\n        vertical-align: top;\n    }\n\n    .dataframe thead th {\n        text-align: right;\n    }\n</style>\n<table border=\"1\" class=\"dataframe\">\n  <thead>\n    <tr style=\"text-align: right;\">\n      <th></th>\n      <th>0</th>\n    </tr>\n    <tr>\n      <th>pattern_generating_match</th>\n      <th></th>\n    </tr>\n  </thead>\n  <tbody>\n    <tr>\n      <th>(1, 2, -2, -2, -2)</th>\n      <td>13</td>\n    </tr>\n    <tr>\n      <th>(2, -2, -2, -2, -2)</th>\n      <td>11</td>\n    </tr>\n    <tr>\n      <th>(1, 1, 2, -2, -2)</th>\n      <td>9</td>\n    </tr>\n    <tr>\n      <th>(-3, 2, -2, -2, -2)</th>\n      <td>8</td>\n    </tr>\n    <tr>\n      <th>(-2, -2, -2, 2, 2)</th>\n      <td>8</td>\n    </tr>\n    <tr>\n      <th>(2, -3, 2, -2, -2)</th>\n      <td>8</td>\n    </tr>\n    <tr>\n      <th>(-2, -2, -2, -2, 2)</th>\n      <td>7</td>\n    </tr>\n    <tr>\n      <th>(2, -3, 2, -3, 2)</th>\n      <td>7</td>\n    </tr>\n    <tr>\n      <th>(2, 2, 2, -3, 2)</th>\n      <td>6</td>\n    </tr>\n    <tr>\n      <th>(2, 2, 1, 2, -2)</th>\n      <td>6</td>\n    </tr>\n  </tbody>\n</table>\n</div>"
     },
     "metadata": {},
     "execution_count": 73
    }
   ],
   "source": [
    "pattern_inventory = pd.DataFrame(output_exact.groupby(\"pattern_generating_match\").size().sort_values(ascending=False)[:10])\n",
    "pattern_inventory"
   ]
  },
  {
   "cell_type": "code",
   "execution_count": 74,
   "metadata": {},
   "outputs": [
    {
     "output_type": "execute_result",
     "data": {
      "text/plain": [
       "                          0\n",
       "pattern_generating_match   \n",
       "(-3, 2, -3, 2, -2)        4\n",
       "(3, -2, -2, -2, -2)       4\n",
       "(2, 2, -2, -2, -2)        4\n",
       "(2, 1, 2, 1, -3)          4\n",
       "(2, 1, 2, -2, -2)         4\n",
       "(2, -2, 2, -3, 2)         4\n",
       "(2, -2, -2, -2, 2)        4\n",
       "(2, -2, -2, -2, 1)        4\n",
       "(2, -3, -2, -2, 1)        4\n",
       "(4, -2, 2, 2, -3)         4"
      ],
      "text/html": "<div>\n<style scoped>\n    .dataframe tbody tr th:only-of-type {\n        vertical-align: middle;\n    }\n\n    .dataframe tbody tr th {\n        vertical-align: top;\n    }\n\n    .dataframe thead th {\n        text-align: right;\n    }\n</style>\n<table border=\"1\" class=\"dataframe\">\n  <thead>\n    <tr style=\"text-align: right;\">\n      <th></th>\n      <th>0</th>\n    </tr>\n    <tr>\n      <th>pattern_generating_match</th>\n      <th></th>\n    </tr>\n  </thead>\n  <tbody>\n    <tr>\n      <th>(-3, 2, -3, 2, -2)</th>\n      <td>4</td>\n    </tr>\n    <tr>\n      <th>(3, -2, -2, -2, -2)</th>\n      <td>4</td>\n    </tr>\n    <tr>\n      <th>(2, 2, -2, -2, -2)</th>\n      <td>4</td>\n    </tr>\n    <tr>\n      <th>(2, 1, 2, 1, -3)</th>\n      <td>4</td>\n    </tr>\n    <tr>\n      <th>(2, 1, 2, -2, -2)</th>\n      <td>4</td>\n    </tr>\n    <tr>\n      <th>(2, -2, 2, -3, 2)</th>\n      <td>4</td>\n    </tr>\n    <tr>\n      <th>(2, -2, -2, -2, 2)</th>\n      <td>4</td>\n    </tr>\n    <tr>\n      <th>(2, -2, -2, -2, 1)</th>\n      <td>4</td>\n    </tr>\n    <tr>\n      <th>(2, -3, -2, -2, 1)</th>\n      <td>4</td>\n    </tr>\n    <tr>\n      <th>(4, -2, 2, 2, -3)</th>\n      <td>4</td>\n    </tr>\n  </tbody>\n</table>\n</div>"
     },
     "metadata": {},
     "execution_count": 74
    }
   ],
   "source": [
    "pattern_inventory = pd.DataFrame(output_exact.groupby(\"pattern_generating_match\").size().sort_values(ascending=True)[:10])\n",
    "pattern_inventory"
   ]
  },
  {
   "cell_type": "markdown",
   "metadata": {},
   "source": [
    "***\n",
    "\n",
    "### Select Close Matches Here\n",
    "#### (Comment out the 'for item iteration' in order to skip screen preview)\n",
    "\n",
    "- **Close** matches allow for melodic variation (see more below). `find_close_matches(patterns, 2, 1)`\n",
    "- The **first number** in this command is the **minimum number of melodies** needed before reporting\n",
    "- The **second number** is **threshold of similarity** needed in order to find a match. \n",
    "- Lower number = very similar; higher number = less similar\n",
    "\n",
    "##### More about Close Matches  \n",
    "- The **threshold for close matches** is determined by the **second number** called in the method. \n",
    "- We select two patterns, then compare *each vector in each pattern successively*. \n",
    "- The *differences between each vector are summed*. \n",
    "- If that value is **below the threshold specified**, we consider the **two patterns closely matched**.\n",
    "- The format of the method call is  `find_close_matches(the array you get from into_patterns, minimum matches needed to be displayed, threshold for close match)`."
   ]
  },
  {
   "cell_type": "code",
   "execution_count": 68,
   "metadata": {
    "tags": []
   },
   "outputs": [
    {
     "output_type": "stream",
     "name": "stdout",
     "text": [
      "Finding close matches...\n",
      "202 melodic intervals had more than 1 exact or close matches.\n",
      "\n"
     ]
    },
    {
     "output_type": "execute_result",
     "data": {
      "text/plain": [
       "  pattern_generating_match   pattern_matched piece_title        part  \\\n",
       "0         (4, 1, 2, 2, -3)  [4, 1, 2, 2, -3]   Ave Maria  [Superius]   \n",
       "1         (4, 1, 2, 2, -3)  [4, 1, 2, 2, -3]   Ave Maria  [Superius]   \n",
       "2         (4, 1, 2, 2, -3)  [4, 1, 2, 2, -3]   Ave Maria       Altus   \n",
       "3         (4, 1, 2, 2, -3)  [4, 1, 2, 2, -3]   Ave Maria       Tenor   \n",
       "4         (4, 1, 2, 2, -3)  [4, 1, 2, 2, -3]   Ave Maria      Bassus   \n",
       "\n",
       "   start_measure  start_beat  end_measure  end_beat  start_offset  end_offset  \\\n",
       "0              1         1.0            4       1.0           0.0        24.0   \n",
       "1            105         3.0          107       3.5         884.0       910.0   \n",
       "2              3         1.0            6       1.0          16.0        40.0   \n",
       "3              5         1.0            8       1.0          32.0        56.0   \n",
       "4              7         1.0           10       1.0          48.0        72.0   \n",
       "\n",
       "                   note_durations  \\\n",
       "0  [4.0, 8.0, 4.0, 4.0, 4.0, 8.0]   \n",
       "1  [4.0, 8.0, 4.0, 4.0, 6.0, 2.0]   \n",
       "2  [4.0, 8.0, 4.0, 4.0, 4.0, 8.0]   \n",
       "3  [4.0, 8.0, 4.0, 4.0, 4.0, 8.0]   \n",
       "4  [4.0, 8.0, 4.0, 4.0, 4.0, 8.0]   \n",
       "\n",
       "                                                ema  \\\n",
       "0   1-4/1/@1.0-end,@start-end,@start-end,@start-1.0   \n",
       "1          105-107/1/@3.0-end,@start-end,@start-3.5   \n",
       "2   3-6/2/@1.0-end,@start-end,@start-end,@start-1.0   \n",
       "3   5-8/3/@1.0-end,@start-end,@start-end,@start-1.0   \n",
       "4  7-10/4/@1.0-end,@start-end,@start-end,@start-1.0   \n",
       "\n",
       "                                             ema_url  \n",
       "0  https://ema.crimproject.org/https%3A%2F%2Fcrim...  \n",
       "1  https://ema.crimproject.org/https%3A%2F%2Fcrim...  \n",
       "2  https://ema.crimproject.org/https%3A%2F%2Fcrim...  \n",
       "3  https://ema.crimproject.org/https%3A%2F%2Fcrim...  \n",
       "4  https://ema.crimproject.org/https%3A%2F%2Fcrim...  "
      ],
      "text/html": "<div>\n<style scoped>\n    .dataframe tbody tr th:only-of-type {\n        vertical-align: middle;\n    }\n\n    .dataframe tbody tr th {\n        vertical-align: top;\n    }\n\n    .dataframe thead th {\n        text-align: right;\n    }\n</style>\n<table border=\"1\" class=\"dataframe\">\n  <thead>\n    <tr style=\"text-align: right;\">\n      <th></th>\n      <th>pattern_generating_match</th>\n      <th>pattern_matched</th>\n      <th>piece_title</th>\n      <th>part</th>\n      <th>start_measure</th>\n      <th>start_beat</th>\n      <th>end_measure</th>\n      <th>end_beat</th>\n      <th>start_offset</th>\n      <th>end_offset</th>\n      <th>note_durations</th>\n      <th>ema</th>\n      <th>ema_url</th>\n    </tr>\n  </thead>\n  <tbody>\n    <tr>\n      <th>0</th>\n      <td>(4, 1, 2, 2, -3)</td>\n      <td>[4, 1, 2, 2, -3]</td>\n      <td>Ave Maria</td>\n      <td>[Superius]</td>\n      <td>1</td>\n      <td>1.0</td>\n      <td>4</td>\n      <td>1.0</td>\n      <td>0.0</td>\n      <td>24.0</td>\n      <td>[4.0, 8.0, 4.0, 4.0, 4.0, 8.0]</td>\n      <td>1-4/1/@1.0-end,@start-end,@start-end,@start-1.0</td>\n      <td>https://ema.crimproject.org/https%3A%2F%2Fcrim...</td>\n    </tr>\n    <tr>\n      <th>1</th>\n      <td>(4, 1, 2, 2, -3)</td>\n      <td>[4, 1, 2, 2, -3]</td>\n      <td>Ave Maria</td>\n      <td>[Superius]</td>\n      <td>105</td>\n      <td>3.0</td>\n      <td>107</td>\n      <td>3.5</td>\n      <td>884.0</td>\n      <td>910.0</td>\n      <td>[4.0, 8.0, 4.0, 4.0, 6.0, 2.0]</td>\n      <td>105-107/1/@3.0-end,@start-end,@start-3.5</td>\n      <td>https://ema.crimproject.org/https%3A%2F%2Fcrim...</td>\n    </tr>\n    <tr>\n      <th>2</th>\n      <td>(4, 1, 2, 2, -3)</td>\n      <td>[4, 1, 2, 2, -3]</td>\n      <td>Ave Maria</td>\n      <td>Altus</td>\n      <td>3</td>\n      <td>1.0</td>\n      <td>6</td>\n      <td>1.0</td>\n      <td>16.0</td>\n      <td>40.0</td>\n      <td>[4.0, 8.0, 4.0, 4.0, 4.0, 8.0]</td>\n      <td>3-6/2/@1.0-end,@start-end,@start-end,@start-1.0</td>\n      <td>https://ema.crimproject.org/https%3A%2F%2Fcrim...</td>\n    </tr>\n    <tr>\n      <th>3</th>\n      <td>(4, 1, 2, 2, -3)</td>\n      <td>[4, 1, 2, 2, -3]</td>\n      <td>Ave Maria</td>\n      <td>Tenor</td>\n      <td>5</td>\n      <td>1.0</td>\n      <td>8</td>\n      <td>1.0</td>\n      <td>32.0</td>\n      <td>56.0</td>\n      <td>[4.0, 8.0, 4.0, 4.0, 4.0, 8.0]</td>\n      <td>5-8/3/@1.0-end,@start-end,@start-end,@start-1.0</td>\n      <td>https://ema.crimproject.org/https%3A%2F%2Fcrim...</td>\n    </tr>\n    <tr>\n      <th>4</th>\n      <td>(4, 1, 2, 2, -3)</td>\n      <td>[4, 1, 2, 2, -3]</td>\n      <td>Ave Maria</td>\n      <td>Bassus</td>\n      <td>7</td>\n      <td>1.0</td>\n      <td>10</td>\n      <td>1.0</td>\n      <td>48.0</td>\n      <td>72.0</td>\n      <td>[4.0, 8.0, 4.0, 4.0, 4.0, 8.0]</td>\n      <td>7-10/4/@1.0-end,@start-end,@start-end,@start-1.0</td>\n      <td>https://ema.crimproject.org/https%3A%2F%2Fcrim...</td>\n    </tr>\n  </tbody>\n</table>\n</div>"
     },
     "metadata": {},
     "execution_count": 68
    }
   ],
   "source": [
    "close_matches = find_close_matches(patterns, 1, 1)\n",
    "#for item in close_matches:\n",
    "   #item.print_close_matches()\n",
    "    #return pd.DataFrame(close_matches)\n",
    "\n",
    "output_close = export_pandas(close_matches)\n",
    "output_close[\"pattern_generating_match\"] = output_close[\"pattern_generating_match\"].apply(tuple)\n",
    "\n",
    "results = pd.DataFrame(output_close)\n",
    "results[\"pattern_generating_match\"] = results[\"pattern_generating_match\"].apply(tuple)\n",
    "results.head()\n",
    "#export_to_csv(close_matches)"
   ]
  },
  {
   "source": [
    "### How Many Unique Soggetti?  How many instances?"
   ],
   "cell_type": "markdown",
   "metadata": {}
  },
  {
   "cell_type": "code",
   "execution_count": 76,
   "metadata": {},
   "outputs": [
    {
     "output_type": "execute_result",
     "data": {
      "text/plain": [
       "'There are 202 unique soggetti and 1096 total matches in this search'"
      ]
     },
     "metadata": {},
     "execution_count": 76
    }
   ],
   "source": [
    "total_matches = len(output_close)\n",
    "unique_sogetti = output_close.pattern_generating_match.apply(str).nunique()\n",
    "summary = 'There are {} unique soggetti and {} total matches in this search'.format(unique_sogetti, total_matches)\n",
    "summary"
   ]
  },
  {
   "cell_type": "markdown",
   "metadata": {},
   "source": [
    "### Top and Bottom Ten Soggetti\n",
    "\n",
    "\n"
   ]
  },
  {
   "cell_type": "code",
   "execution_count": 111,
   "metadata": {},
   "outputs": [
    {
     "output_type": "execute_result",
     "data": {
      "text/plain": [
       "                           0\n",
       "pattern_generating_match    \n",
       "(2, 2, -2, -2, -2)        23\n",
       "(1, 2, -2, -2, -2)        21\n",
       "(2, -2, -2, -2, -2)       20\n",
       "(1, 3, -2, -2, -2)        19\n",
       "(3, -2, -2, -2, -2)       17\n",
       "(-2, -2, -2, -2, 2)       15\n",
       "(-2, -2, -2, 2, 2)        14\n",
       "(2, 1, 2, -2, -2)         14\n",
       "(1, -2, -2, -2, -2)       14\n",
       "(2, -3, 2, -3, 2)         14"
      ],
      "text/html": "<div>\n<style scoped>\n    .dataframe tbody tr th:only-of-type {\n        vertical-align: middle;\n    }\n\n    .dataframe tbody tr th {\n        vertical-align: top;\n    }\n\n    .dataframe thead th {\n        text-align: right;\n    }\n</style>\n<table border=\"1\" class=\"dataframe\">\n  <thead>\n    <tr style=\"text-align: right;\">\n      <th></th>\n      <th>0</th>\n    </tr>\n    <tr>\n      <th>pattern_generating_match</th>\n      <th></th>\n    </tr>\n  </thead>\n  <tbody>\n    <tr>\n      <th>(2, 2, -2, -2, -2)</th>\n      <td>23</td>\n    </tr>\n    <tr>\n      <th>(1, 2, -2, -2, -2)</th>\n      <td>21</td>\n    </tr>\n    <tr>\n      <th>(2, -2, -2, -2, -2)</th>\n      <td>20</td>\n    </tr>\n    <tr>\n      <th>(1, 3, -2, -2, -2)</th>\n      <td>19</td>\n    </tr>\n    <tr>\n      <th>(3, -2, -2, -2, -2)</th>\n      <td>17</td>\n    </tr>\n    <tr>\n      <th>(-2, -2, -2, -2, 2)</th>\n      <td>15</td>\n    </tr>\n    <tr>\n      <th>(-2, -2, -2, 2, 2)</th>\n      <td>14</td>\n    </tr>\n    <tr>\n      <th>(2, 1, 2, -2, -2)</th>\n      <td>14</td>\n    </tr>\n    <tr>\n      <th>(1, -2, -2, -2, -2)</th>\n      <td>14</td>\n    </tr>\n    <tr>\n      <th>(2, -3, 2, -3, 2)</th>\n      <td>14</td>\n    </tr>\n  </tbody>\n</table>\n</div>"
     },
     "metadata": {},
     "execution_count": 111
    }
   ],
   "source": [
    "pattern_inventory = pd.DataFrame(output_close.groupby(\"pattern_generating_match\").size().sort_values(ascending=False)[:10])\n",
    "pattern_inventory"
   ]
  },
  {
   "cell_type": "code",
   "execution_count": 112,
   "metadata": {},
   "outputs": [
    {
     "output_type": "execute_result",
     "data": {
      "text/plain": [
       "                          0\n",
       "pattern_generating_match   \n",
       "(-5, 1, 2, 1, -5)         2\n",
       "(1, 1, -5, 1, 2)          2\n",
       "(1, -2, 3, -2, -2)        2\n",
       "(1, -2, 2, -2, -2)        2\n",
       "(1, -2, -2, 5, -2)        2\n",
       "(1, -2, -2, -3, 5)        2\n",
       "(1, -3, 1, 4, 1)          2\n",
       "(1, -3, 1, 2, -4)         2\n",
       "(1, -5, 1, 2, 1)          2\n",
       "(-2, 8, -3, -2, -2)       2"
      ],
      "text/html": "<div>\n<style scoped>\n    .dataframe tbody tr th:only-of-type {\n        vertical-align: middle;\n    }\n\n    .dataframe tbody tr th {\n        vertical-align: top;\n    }\n\n    .dataframe thead th {\n        text-align: right;\n    }\n</style>\n<table border=\"1\" class=\"dataframe\">\n  <thead>\n    <tr style=\"text-align: right;\">\n      <th></th>\n      <th>0</th>\n    </tr>\n    <tr>\n      <th>pattern_generating_match</th>\n      <th></th>\n    </tr>\n  </thead>\n  <tbody>\n    <tr>\n      <th>(-5, 1, 2, 1, -5)</th>\n      <td>2</td>\n    </tr>\n    <tr>\n      <th>(1, 1, -5, 1, 2)</th>\n      <td>2</td>\n    </tr>\n    <tr>\n      <th>(1, -2, 3, -2, -2)</th>\n      <td>2</td>\n    </tr>\n    <tr>\n      <th>(1, -2, 2, -2, -2)</th>\n      <td>2</td>\n    </tr>\n    <tr>\n      <th>(1, -2, -2, 5, -2)</th>\n      <td>2</td>\n    </tr>\n    <tr>\n      <th>(1, -2, -2, -3, 5)</th>\n      <td>2</td>\n    </tr>\n    <tr>\n      <th>(1, -3, 1, 4, 1)</th>\n      <td>2</td>\n    </tr>\n    <tr>\n      <th>(1, -3, 1, 2, -4)</th>\n      <td>2</td>\n    </tr>\n    <tr>\n      <th>(1, -5, 1, 2, 1)</th>\n      <td>2</td>\n    </tr>\n    <tr>\n      <th>(-2, 8, -3, -2, -2)</th>\n      <td>2</td>\n    </tr>\n  </tbody>\n</table>\n</div>"
     },
     "metadata": {},
     "execution_count": 112
    }
   ],
   "source": [
    "pattern_inventory = pd.DataFrame(output_close.groupby(\"pattern_generating_match\").size().sort_values(ascending=True)[:10])\n",
    "pattern_inventory\n"
   ]
  },
  {
   "source": [
    "### Grouping the Melodic Matches (No Durational Filter)\n",
    "\n",
    "- This shows us the number each"
   ],
   "cell_type": "markdown",
   "metadata": {}
  },
  {
   "cell_type": "code",
   "execution_count": 15,
   "metadata": {},
   "outputs": [
    {
     "output_type": "execute_result",
     "data": {
      "text/plain": [
       "                                                         0\n",
       "pattern_generating_match note_durations                   \n",
       "(-5, 1, 2, 1, -5)        (4.0, 8.0, 4.0, 8.0, 4.0, 8.0)  2\n",
       "(-3, -2, -2, -2, -2)     (2.0, 3.0, 1.0, 1.0, 1.0, 4.0)  1\n",
       "                         (3.0, 1.0, 1.0, 1.0, 3.0, 1.0)  1\n",
       "                         (3.0, 1.0, 2.0, 2.0, 4.0, 2.0)  1\n",
       "                         (3.0, 1.0, 4.0, 2.0, 4.0, 4.0)  1"
      ],
      "text/html": "<div>\n<style scoped>\n    .dataframe tbody tr th:only-of-type {\n        vertical-align: middle;\n    }\n\n    .dataframe tbody tr th {\n        vertical-align: top;\n    }\n\n    .dataframe thead th {\n        text-align: right;\n    }\n</style>\n<table border=\"1\" class=\"dataframe\">\n  <thead>\n    <tr style=\"text-align: right;\">\n      <th></th>\n      <th></th>\n      <th>0</th>\n    </tr>\n    <tr>\n      <th>pattern_generating_match</th>\n      <th>note_durations</th>\n      <th></th>\n    </tr>\n  </thead>\n  <tbody>\n    <tr>\n      <th>(-5, 1, 2, 1, -5)</th>\n      <th>(4.0, 8.0, 4.0, 8.0, 4.0, 8.0)</th>\n      <td>2</td>\n    </tr>\n    <tr>\n      <th rowspan=\"4\" valign=\"top\">(-3, -2, -2, -2, -2)</th>\n      <th>(2.0, 3.0, 1.0, 1.0, 1.0, 4.0)</th>\n      <td>1</td>\n    </tr>\n    <tr>\n      <th>(3.0, 1.0, 1.0, 1.0, 3.0, 1.0)</th>\n      <td>1</td>\n    </tr>\n    <tr>\n      <th>(3.0, 1.0, 2.0, 2.0, 4.0, 2.0)</th>\n      <td>1</td>\n    </tr>\n    <tr>\n      <th>(3.0, 1.0, 4.0, 2.0, 4.0, 4.0)</th>\n      <td>1</td>\n    </tr>\n  </tbody>\n</table>\n</div>"
     },
     "metadata": {},
     "execution_count": 15
    }
   ],
   "source": [
    "results[\"note_durations\"] = results[\"note_durations\"].apply(tuple)\n",
    "df2 = pd.DataFrame(results.groupby([\"pattern_generating_match\", \"note_durations\"]).size())\n",
    "df2.head()"
   ]
  },
  {
   "cell_type": "markdown",
   "metadata": {},
   "source": [
    "***\n",
    "\n",
    "## Classify Patterns Here \n",
    "#### Note:  depends on choice of Close or Exact above!  Must choose appropriate one below!\n",
    "#### Enable \"export_to_csv\" line to allow this within Notebook (must answer \"Y\" and provide filename)\n",
    "\n",
    "#### note that the classifier can only find patterns with AT LEAST THREE entries!  2-voice fugas are invisible at the moment.  Could be added!"
   ]
  },
  {
   "cell_type": "code",
   "execution_count": 19,
   "metadata": {
    "jupyter": {
     "outputs_hidden": true
    },
    "tags": []
   },
   "outputs": [],
   "source": [
    "%%capture\n",
    "\n",
    "#cm = classify_matches(close_matches, 1)\n",
    "cm = classify_matches(exact_matches, 1)\n",
    "#pd.DataFrame(classified_matches)\n",
    "output_cm = export_pandas(cm)\n",
    "\n",
    "## For CSV export, use the following (and follow prompts for file name)\n",
    "\n",
    "#export_to_csv(cm)\n",
    "\n"
   ]
  },
  {
   "cell_type": "code",
   "execution_count": 20,
   "metadata": {},
   "outputs": [
    {
     "output_type": "execute_result",
     "data": {
      "text/plain": [
       "  pattern_generating_match     pattern_matched piece_title        part  \\\n",
       "0         [4, 1, 2, 2, -3]    [4, 1, 2, 2, -3]   Ave Maria  [Superius]   \n",
       "1         [4, 1, 2, 2, -3]    [4, 1, 2, 2, -3]   Ave Maria       Altus   \n",
       "2         [4, 1, 2, 2, -3]    [4, 1, 2, 2, -3]   Ave Maria       Tenor   \n",
       "3         [4, 1, 2, 2, -3]    [4, 1, 2, 2, -3]   Ave Maria      Bassus   \n",
       "4       [2, 2, -3, -2, -2]  [2, 2, -3, -2, -2]   Ave Maria  [Superius]   \n",
       "5       [2, 2, -3, -2, -2]  [2, 2, -3, -2, -2]   Ave Maria       Altus   \n",
       "6       [2, 2, -3, -2, -2]  [2, 2, -3, -2, -2]   Ave Maria       Tenor   \n",
       "7       [2, 2, -3, -2, -2]  [2, 2, -3, -2, -2]   Ave Maria      Bassus   \n",
       "8        [1, 1, 2, -2, -2]   [1, 1, 2, -2, -2]   Ave Maria  [Superius]   \n",
       "9        [1, 1, 2, -2, -2]   [1, 1, 2, -2, -2]   Ave Maria       Tenor   \n",
       "\n",
       "   start_measure  start_beat  end_measure  end_beat  start_offset  end_offset  \\\n",
       "0              1         1.0            4       1.0           0.0        24.0   \n",
       "1              3         1.0            6       1.0          16.0        40.0   \n",
       "2              5         1.0            8       1.0          32.0        56.0   \n",
       "3              7         1.0           10       1.0          48.0        72.0   \n",
       "4             55         4.0           57       4.5         438.0       455.0   \n",
       "5             56         2.0           58       2.5         442.0       459.0   \n",
       "6             60         4.0           62       4.5         478.0       495.0   \n",
       "7             61         2.0           63       2.5         482.0       499.0   \n",
       "8            111         3.0          113       2.5         940.0       963.0   \n",
       "9            114         1.0          116       4.5         968.0       991.0   \n",
       "\n",
       "                   note_durations  \n",
       "0  [4.0, 8.0, 4.0, 4.0, 4.0, 8.0]  \n",
       "1  [4.0, 8.0, 4.0, 4.0, 4.0, 8.0]  \n",
       "2  [4.0, 8.0, 4.0, 4.0, 4.0, 8.0]  \n",
       "3  [4.0, 8.0, 4.0, 4.0, 4.0, 8.0]  \n",
       "4  [2.0, 4.0, 4.0, 6.0, 1.0, 1.0]  \n",
       "5  [2.0, 4.0, 4.0, 6.0, 1.0, 1.0]  \n",
       "6  [2.0, 4.0, 4.0, 6.0, 1.0, 1.0]  \n",
       "7  [2.0, 4.0, 4.0, 6.0, 1.0, 1.0]  \n",
       "8  [8.0, 4.0, 4.0, 6.0, 1.0, 1.0]  \n",
       "9  [8.0, 4.0, 4.0, 6.0, 1.0, 1.0]  "
      ],
      "text/html": "<div>\n<style scoped>\n    .dataframe tbody tr th:only-of-type {\n        vertical-align: middle;\n    }\n\n    .dataframe tbody tr th {\n        vertical-align: top;\n    }\n\n    .dataframe thead th {\n        text-align: right;\n    }\n</style>\n<table border=\"1\" class=\"dataframe\">\n  <thead>\n    <tr style=\"text-align: right;\">\n      <th></th>\n      <th>pattern_generating_match</th>\n      <th>pattern_matched</th>\n      <th>piece_title</th>\n      <th>part</th>\n      <th>start_measure</th>\n      <th>start_beat</th>\n      <th>end_measure</th>\n      <th>end_beat</th>\n      <th>start_offset</th>\n      <th>end_offset</th>\n      <th>note_durations</th>\n    </tr>\n  </thead>\n  <tbody>\n    <tr>\n      <th>0</th>\n      <td>[4, 1, 2, 2, -3]</td>\n      <td>[4, 1, 2, 2, -3]</td>\n      <td>Ave Maria</td>\n      <td>[Superius]</td>\n      <td>1</td>\n      <td>1.0</td>\n      <td>4</td>\n      <td>1.0</td>\n      <td>0.0</td>\n      <td>24.0</td>\n      <td>[4.0, 8.0, 4.0, 4.0, 4.0, 8.0]</td>\n    </tr>\n    <tr>\n      <th>1</th>\n      <td>[4, 1, 2, 2, -3]</td>\n      <td>[4, 1, 2, 2, -3]</td>\n      <td>Ave Maria</td>\n      <td>Altus</td>\n      <td>3</td>\n      <td>1.0</td>\n      <td>6</td>\n      <td>1.0</td>\n      <td>16.0</td>\n      <td>40.0</td>\n      <td>[4.0, 8.0, 4.0, 4.0, 4.0, 8.0]</td>\n    </tr>\n    <tr>\n      <th>2</th>\n      <td>[4, 1, 2, 2, -3]</td>\n      <td>[4, 1, 2, 2, -3]</td>\n      <td>Ave Maria</td>\n      <td>Tenor</td>\n      <td>5</td>\n      <td>1.0</td>\n      <td>8</td>\n      <td>1.0</td>\n      <td>32.0</td>\n      <td>56.0</td>\n      <td>[4.0, 8.0, 4.0, 4.0, 4.0, 8.0]</td>\n    </tr>\n    <tr>\n      <th>3</th>\n      <td>[4, 1, 2, 2, -3]</td>\n      <td>[4, 1, 2, 2, -3]</td>\n      <td>Ave Maria</td>\n      <td>Bassus</td>\n      <td>7</td>\n      <td>1.0</td>\n      <td>10</td>\n      <td>1.0</td>\n      <td>48.0</td>\n      <td>72.0</td>\n      <td>[4.0, 8.0, 4.0, 4.0, 4.0, 8.0]</td>\n    </tr>\n    <tr>\n      <th>4</th>\n      <td>[2, 2, -3, -2, -2]</td>\n      <td>[2, 2, -3, -2, -2]</td>\n      <td>Ave Maria</td>\n      <td>[Superius]</td>\n      <td>55</td>\n      <td>4.0</td>\n      <td>57</td>\n      <td>4.5</td>\n      <td>438.0</td>\n      <td>455.0</td>\n      <td>[2.0, 4.0, 4.0, 6.0, 1.0, 1.0]</td>\n    </tr>\n    <tr>\n      <th>5</th>\n      <td>[2, 2, -3, -2, -2]</td>\n      <td>[2, 2, -3, -2, -2]</td>\n      <td>Ave Maria</td>\n      <td>Altus</td>\n      <td>56</td>\n      <td>2.0</td>\n      <td>58</td>\n      <td>2.5</td>\n      <td>442.0</td>\n      <td>459.0</td>\n      <td>[2.0, 4.0, 4.0, 6.0, 1.0, 1.0]</td>\n    </tr>\n    <tr>\n      <th>6</th>\n      <td>[2, 2, -3, -2, -2]</td>\n      <td>[2, 2, -3, -2, -2]</td>\n      <td>Ave Maria</td>\n      <td>Tenor</td>\n      <td>60</td>\n      <td>4.0</td>\n      <td>62</td>\n      <td>4.5</td>\n      <td>478.0</td>\n      <td>495.0</td>\n      <td>[2.0, 4.0, 4.0, 6.0, 1.0, 1.0]</td>\n    </tr>\n    <tr>\n      <th>7</th>\n      <td>[2, 2, -3, -2, -2]</td>\n      <td>[2, 2, -3, -2, -2]</td>\n      <td>Ave Maria</td>\n      <td>Bassus</td>\n      <td>61</td>\n      <td>2.0</td>\n      <td>63</td>\n      <td>2.5</td>\n      <td>482.0</td>\n      <td>499.0</td>\n      <td>[2.0, 4.0, 4.0, 6.0, 1.0, 1.0]</td>\n    </tr>\n    <tr>\n      <th>8</th>\n      <td>[1, 1, 2, -2, -2]</td>\n      <td>[1, 1, 2, -2, -2]</td>\n      <td>Ave Maria</td>\n      <td>[Superius]</td>\n      <td>111</td>\n      <td>3.0</td>\n      <td>113</td>\n      <td>2.5</td>\n      <td>940.0</td>\n      <td>963.0</td>\n      <td>[8.0, 4.0, 4.0, 6.0, 1.0, 1.0]</td>\n    </tr>\n    <tr>\n      <th>9</th>\n      <td>[1, 1, 2, -2, -2]</td>\n      <td>[1, 1, 2, -2, -2]</td>\n      <td>Ave Maria</td>\n      <td>Tenor</td>\n      <td>114</td>\n      <td>1.0</td>\n      <td>116</td>\n      <td>4.5</td>\n      <td>968.0</td>\n      <td>991.0</td>\n      <td>[8.0, 4.0, 4.0, 6.0, 1.0, 1.0]</td>\n    </tr>\n  </tbody>\n</table>\n</div>"
     },
     "metadata": {},
     "execution_count": 20
    }
   ],
   "source": [
    "short_cm = output_cm.drop(columns=[\"ema_url\", \"ema\"])\n",
    "short_cm.head(10)"
   ]
  },
  {
   "cell_type": "code",
   "execution_count": 117,
   "metadata": {},
   "outputs": [],
   "source": [
    "def classified_matches_to_pandas(matches):\n",
    "    \n",
    "    soggetti_matches = []\n",
    "    \n",
    "    for i, cm in enumerate(matches):\n",
    "        \n",
    "        for j, soggetti in enumerate(cm.matches):\n",
    "            \n",
    "            soggetti_matches.append({\n",
    "                \"piece\": soggetti.first_note.metadata.title,\n",
    "                \"type\": cm.type,\n",
    "                \"part\": soggetti.first_note.part.strip(\"[] \"),\n",
    "                \"bar\": soggetti.first_note.note.measureNumber,\n",
    "                \"offset\": soggetti.first_note.note.offset,\n",
    "                \"entry_number\": j + 1,\n",
    "                \"pattern\": tuple(cm.pattern),\n",
    "                \"match_number\": i + 1\n",
    "            })\n",
    "    return pd.DataFrame(soggetti_matches)"
   ]
  },
  {
   "cell_type": "code",
   "execution_count": 118,
   "metadata": {},
   "outputs": [
    {
     "output_type": "execute_result",
     "data": {
      "text/plain": [
       "        piece            type      part  bar  offset  entry_number  \\\n",
       "0   Ave Maria  periodic_entry  Superius    1     0.0             1   \n",
       "1   Ave Maria  periodic_entry     Altus    3    16.0             2   \n",
       "2   Ave Maria  periodic_entry     Tenor    5    32.0             3   \n",
       "3   Ave Maria  periodic_entry    Bassus    7    48.0             4   \n",
       "12  Ave Maria            fuga     Altus   33   256.0             1   \n",
       "..        ...             ...       ...  ...     ...           ...   \n",
       "71  Ave Maria   imitative duo     Tenor  124  1048.0             4   \n",
       "75  Ave Maria   imitative duo     Tenor  124  1054.0             4   \n",
       "79  Ave Maria   imitative duo     Tenor  124  1055.0             4   \n",
       "83  Ave Maria   imitative duo     Tenor  125  1056.0             4   \n",
       "87  Ave Maria   imitative duo     Tenor  125  1060.0             4   \n",
       "\n",
       "                pattern  match_number  \n",
       "0      (4, 1, 2, 2, -3)             1  \n",
       "1      (4, 1, 2, 2, -3)             1  \n",
       "2      (4, 1, 2, 2, -3)             1  \n",
       "3      (4, 1, 2, 2, -3)             1  \n",
       "12   (1, 2, -2, -2, -2)             4  \n",
       "..                  ...           ...  \n",
       "71   (-2, -2, -2, 1, 3)            19  \n",
       "75   (-2, -2, 1, 3, -2)            20  \n",
       "79   (-2, 1, 3, -2, -2)            21  \n",
       "83   (1, 3, -2, -2, -2)            22  \n",
       "87  (3, -2, -2, -2, -2)            23  \n",
       "\n",
       "[88 rows x 8 columns]"
      ],
      "text/html": "<div>\n<style scoped>\n    .dataframe tbody tr th:only-of-type {\n        vertical-align: middle;\n    }\n\n    .dataframe tbody tr th {\n        vertical-align: top;\n    }\n\n    .dataframe thead th {\n        text-align: right;\n    }\n</style>\n<table border=\"1\" class=\"dataframe\">\n  <thead>\n    <tr style=\"text-align: right;\">\n      <th></th>\n      <th>piece</th>\n      <th>type</th>\n      <th>part</th>\n      <th>bar</th>\n      <th>offset</th>\n      <th>entry_number</th>\n      <th>pattern</th>\n      <th>match_number</th>\n    </tr>\n  </thead>\n  <tbody>\n    <tr>\n      <th>0</th>\n      <td>Ave Maria</td>\n      <td>periodic_entry</td>\n      <td>Superius</td>\n      <td>1</td>\n      <td>0.0</td>\n      <td>1</td>\n      <td>(4, 1, 2, 2, -3)</td>\n      <td>1</td>\n    </tr>\n    <tr>\n      <th>1</th>\n      <td>Ave Maria</td>\n      <td>periodic_entry</td>\n      <td>Altus</td>\n      <td>3</td>\n      <td>16.0</td>\n      <td>2</td>\n      <td>(4, 1, 2, 2, -3)</td>\n      <td>1</td>\n    </tr>\n    <tr>\n      <th>2</th>\n      <td>Ave Maria</td>\n      <td>periodic_entry</td>\n      <td>Tenor</td>\n      <td>5</td>\n      <td>32.0</td>\n      <td>3</td>\n      <td>(4, 1, 2, 2, -3)</td>\n      <td>1</td>\n    </tr>\n    <tr>\n      <th>3</th>\n      <td>Ave Maria</td>\n      <td>periodic_entry</td>\n      <td>Bassus</td>\n      <td>7</td>\n      <td>48.0</td>\n      <td>4</td>\n      <td>(4, 1, 2, 2, -3)</td>\n      <td>1</td>\n    </tr>\n    <tr>\n      <th>12</th>\n      <td>Ave Maria</td>\n      <td>fuga</td>\n      <td>Altus</td>\n      <td>33</td>\n      <td>256.0</td>\n      <td>1</td>\n      <td>(1, 2, -2, -2, -2)</td>\n      <td>4</td>\n    </tr>\n    <tr>\n      <th>...</th>\n      <td>...</td>\n      <td>...</td>\n      <td>...</td>\n      <td>...</td>\n      <td>...</td>\n      <td>...</td>\n      <td>...</td>\n      <td>...</td>\n    </tr>\n    <tr>\n      <th>71</th>\n      <td>Ave Maria</td>\n      <td>imitative duo</td>\n      <td>Tenor</td>\n      <td>124</td>\n      <td>1048.0</td>\n      <td>4</td>\n      <td>(-2, -2, -2, 1, 3)</td>\n      <td>19</td>\n    </tr>\n    <tr>\n      <th>75</th>\n      <td>Ave Maria</td>\n      <td>imitative duo</td>\n      <td>Tenor</td>\n      <td>124</td>\n      <td>1054.0</td>\n      <td>4</td>\n      <td>(-2, -2, 1, 3, -2)</td>\n      <td>20</td>\n    </tr>\n    <tr>\n      <th>79</th>\n      <td>Ave Maria</td>\n      <td>imitative duo</td>\n      <td>Tenor</td>\n      <td>124</td>\n      <td>1055.0</td>\n      <td>4</td>\n      <td>(-2, 1, 3, -2, -2)</td>\n      <td>21</td>\n    </tr>\n    <tr>\n      <th>83</th>\n      <td>Ave Maria</td>\n      <td>imitative duo</td>\n      <td>Tenor</td>\n      <td>125</td>\n      <td>1056.0</td>\n      <td>4</td>\n      <td>(1, 3, -2, -2, -2)</td>\n      <td>22</td>\n    </tr>\n    <tr>\n      <th>87</th>\n      <td>Ave Maria</td>\n      <td>imitative duo</td>\n      <td>Tenor</td>\n      <td>125</td>\n      <td>1060.0</td>\n      <td>4</td>\n      <td>(3, -2, -2, -2, -2)</td>\n      <td>23</td>\n    </tr>\n  </tbody>\n</table>\n<p>88 rows × 8 columns</p>\n</div>"
     },
     "metadata": {},
     "execution_count": 118
    }
   ],
   "source": [
    "df = classified_matches_to_pandas(cm)\n",
    "pd.set_option('display.max_rows', 50)\n",
    "df_sorted = df.sort_values(\"offset\")\n",
    "df_sorted"
   ]
  },
  {
   "cell_type": "code",
   "execution_count": 119,
   "metadata": {
    "scrolled": true
   },
   "outputs": [
    {
     "output_type": "execute_result",
     "data": {
      "text/plain": [
       "   match_number      piece            type             pattern  offset_1  \\\n",
       "0             1  Ave Maria  periodic_entry    (4, 1, 2, 2, -3)       0.0   \n",
       "1             4  Ave Maria            fuga  (1, 2, -2, -2, -2)     256.0   \n",
       "2             5  Ave Maria   imitative duo   (4, -2, 2, 2, -3)     428.0   \n",
       "3             6  Ave Maria   imitative duo  (-2, 2, 2, -3, -2)     432.0   \n",
       "4             2  Ave Maria   imitative duo  (2, 2, -3, -2, -2)     438.0   \n",
       "\n",
       "   offset_2  offset_3  offset_4    part_1  part_2    part_3  part_4  \n",
       "0      16.0      32.0      48.0  Superius   Altus     Tenor  Bassus  \n",
       "1     288.0     320.0     320.0     Altus  Bassus  Superius   Tenor  \n",
       "2     432.0     468.0     472.0  Superius   Altus     Tenor  Bassus  \n",
       "3     436.0     472.0     476.0  Superius   Altus     Tenor  Bassus  \n",
       "4     442.0     478.0     482.0  Superius   Altus     Tenor  Bassus  "
      ],
      "text/html": "<div>\n<style scoped>\n    .dataframe tbody tr th:only-of-type {\n        vertical-align: middle;\n    }\n\n    .dataframe tbody tr th {\n        vertical-align: top;\n    }\n\n    .dataframe thead th {\n        text-align: right;\n    }\n</style>\n<table border=\"1\" class=\"dataframe\">\n  <thead>\n    <tr style=\"text-align: right;\">\n      <th></th>\n      <th>match_number</th>\n      <th>piece</th>\n      <th>type</th>\n      <th>pattern</th>\n      <th>offset_1</th>\n      <th>offset_2</th>\n      <th>offset_3</th>\n      <th>offset_4</th>\n      <th>part_1</th>\n      <th>part_2</th>\n      <th>part_3</th>\n      <th>part_4</th>\n    </tr>\n  </thead>\n  <tbody>\n    <tr>\n      <th>0</th>\n      <td>1</td>\n      <td>Ave Maria</td>\n      <td>periodic_entry</td>\n      <td>(4, 1, 2, 2, -3)</td>\n      <td>0.0</td>\n      <td>16.0</td>\n      <td>32.0</td>\n      <td>48.0</td>\n      <td>Superius</td>\n      <td>Altus</td>\n      <td>Tenor</td>\n      <td>Bassus</td>\n    </tr>\n    <tr>\n      <th>1</th>\n      <td>4</td>\n      <td>Ave Maria</td>\n      <td>fuga</td>\n      <td>(1, 2, -2, -2, -2)</td>\n      <td>256.0</td>\n      <td>288.0</td>\n      <td>320.0</td>\n      <td>320.0</td>\n      <td>Altus</td>\n      <td>Bassus</td>\n      <td>Superius</td>\n      <td>Tenor</td>\n    </tr>\n    <tr>\n      <th>2</th>\n      <td>5</td>\n      <td>Ave Maria</td>\n      <td>imitative duo</td>\n      <td>(4, -2, 2, 2, -3)</td>\n      <td>428.0</td>\n      <td>432.0</td>\n      <td>468.0</td>\n      <td>472.0</td>\n      <td>Superius</td>\n      <td>Altus</td>\n      <td>Tenor</td>\n      <td>Bassus</td>\n    </tr>\n    <tr>\n      <th>3</th>\n      <td>6</td>\n      <td>Ave Maria</td>\n      <td>imitative duo</td>\n      <td>(-2, 2, 2, -3, -2)</td>\n      <td>432.0</td>\n      <td>436.0</td>\n      <td>472.0</td>\n      <td>476.0</td>\n      <td>Superius</td>\n      <td>Altus</td>\n      <td>Tenor</td>\n      <td>Bassus</td>\n    </tr>\n    <tr>\n      <th>4</th>\n      <td>2</td>\n      <td>Ave Maria</td>\n      <td>imitative duo</td>\n      <td>(2, 2, -3, -2, -2)</td>\n      <td>438.0</td>\n      <td>442.0</td>\n      <td>478.0</td>\n      <td>482.0</td>\n      <td>Superius</td>\n      <td>Altus</td>\n      <td>Tenor</td>\n      <td>Bassus</td>\n    </tr>\n  </tbody>\n</table>\n</div>"
     },
     "metadata": {},
     "execution_count": 119
    }
   ],
   "source": [
    "#df[\"pattern\"] = df[\"pattern\"].apply(tuple)\n",
    "\n",
    "wide_df = df.pivot_table(index=[\"match_number\", \"piece\", \"type\", \"pattern\"],\n",
    "            columns=\"entry_number\",\n",
    "            values=[\"part\", \"offset\"],\n",
    "            aggfunc=lambda x: x)\n",
    "\n",
    "wide_df.columns = [f\"{a}_{b}\" for a, b in wide_df.columns]\n",
    "wide_df = wide_df.sort_values(\"offset_1\")\n",
    "wide_df = wide_df.head().reset_index()\n",
    "wide_df"
   ]
  },
  {
   "cell_type": "code",
   "execution_count": 120,
   "metadata": {},
   "outputs": [
    {
     "output_type": "execute_result",
     "data": {
      "text/plain": [
       "   match_number      piece            type           pattern  offset_1  \\\n",
       "0             1  Ave Maria  periodic_entry  (4, 1, 2, 2, -3)       0.0   \n",
       "\n",
       "   offset_2  offset_3  offset_4    part_1 part_2 part_3  part_4  \n",
       "0      16.0      32.0      48.0  Superius  Altus  Tenor  Bassus  "
      ],
      "text/html": "<div>\n<style scoped>\n    .dataframe tbody tr th:only-of-type {\n        vertical-align: middle;\n    }\n\n    .dataframe tbody tr th {\n        vertical-align: top;\n    }\n\n    .dataframe thead th {\n        text-align: right;\n    }\n</style>\n<table border=\"1\" class=\"dataframe\">\n  <thead>\n    <tr style=\"text-align: right;\">\n      <th></th>\n      <th>match_number</th>\n      <th>piece</th>\n      <th>type</th>\n      <th>pattern</th>\n      <th>offset_1</th>\n      <th>offset_2</th>\n      <th>offset_3</th>\n      <th>offset_4</th>\n      <th>part_1</th>\n      <th>part_2</th>\n      <th>part_3</th>\n      <th>part_4</th>\n    </tr>\n  </thead>\n  <tbody>\n    <tr>\n      <th>0</th>\n      <td>1</td>\n      <td>Ave Maria</td>\n      <td>periodic_entry</td>\n      <td>(4, 1, 2, 2, -3)</td>\n      <td>0.0</td>\n      <td>16.0</td>\n      <td>32.0</td>\n      <td>48.0</td>\n      <td>Superius</td>\n      <td>Altus</td>\n      <td>Tenor</td>\n      <td>Bassus</td>\n    </tr>\n  </tbody>\n</table>\n</div>"
     },
     "metadata": {},
     "execution_count": 120
    }
   ],
   "source": [
    "wide_df.groupby(\"pattern\").get_group((4, 1, 2, 2, -3))\n"
   ]
  },
  {
   "cell_type": "code",
   "execution_count": 121,
   "metadata": {},
   "outputs": [
    {
     "output_type": "execute_result",
     "data": {
      "text/plain": [
       "   match_number      piece            type             pattern  offset_1  \\\n",
       "0             1  Ave Maria  periodic_entry    (4, 1, 2, 2, -3)       0.0   \n",
       "1             4  Ave Maria            fuga  (1, 2, -2, -2, -2)     256.0   \n",
       "2             5  Ave Maria   imitative duo   (4, -2, 2, 2, -3)     428.0   \n",
       "3             6  Ave Maria   imitative duo  (-2, 2, 2, -3, -2)     432.0   \n",
       "4             2  Ave Maria   imitative duo  (2, 2, -3, -2, -2)     438.0   \n",
       "\n",
       "   offset_2  offset_3  offset_4    part_1  part_2    part_3  part_4  \\\n",
       "0      16.0      32.0      48.0  Superius   Altus     Tenor  Bassus   \n",
       "1     288.0     320.0     320.0     Altus  Bassus  Superius   Tenor   \n",
       "2     432.0     468.0     472.0  Superius   Altus     Tenor  Bassus   \n",
       "3     436.0     472.0     476.0  Superius   Altus     Tenor  Bassus   \n",
       "4     442.0     478.0     482.0  Superius   Altus     Tenor  Bassus   \n",
       "\n",
       "   previous_entry_2  \n",
       "0               0.0  \n",
       "1              16.0  \n",
       "2             288.0  \n",
       "3             432.0  \n",
       "4             436.0  "
      ],
      "text/html": "<div>\n<style scoped>\n    .dataframe tbody tr th:only-of-type {\n        vertical-align: middle;\n    }\n\n    .dataframe tbody tr th {\n        vertical-align: top;\n    }\n\n    .dataframe thead th {\n        text-align: right;\n    }\n</style>\n<table border=\"1\" class=\"dataframe\">\n  <thead>\n    <tr style=\"text-align: right;\">\n      <th></th>\n      <th>match_number</th>\n      <th>piece</th>\n      <th>type</th>\n      <th>pattern</th>\n      <th>offset_1</th>\n      <th>offset_2</th>\n      <th>offset_3</th>\n      <th>offset_4</th>\n      <th>part_1</th>\n      <th>part_2</th>\n      <th>part_3</th>\n      <th>part_4</th>\n      <th>previous_entry_2</th>\n    </tr>\n  </thead>\n  <tbody>\n    <tr>\n      <th>0</th>\n      <td>1</td>\n      <td>Ave Maria</td>\n      <td>periodic_entry</td>\n      <td>(4, 1, 2, 2, -3)</td>\n      <td>0.0</td>\n      <td>16.0</td>\n      <td>32.0</td>\n      <td>48.0</td>\n      <td>Superius</td>\n      <td>Altus</td>\n      <td>Tenor</td>\n      <td>Bassus</td>\n      <td>0.0</td>\n    </tr>\n    <tr>\n      <th>1</th>\n      <td>4</td>\n      <td>Ave Maria</td>\n      <td>fuga</td>\n      <td>(1, 2, -2, -2, -2)</td>\n      <td>256.0</td>\n      <td>288.0</td>\n      <td>320.0</td>\n      <td>320.0</td>\n      <td>Altus</td>\n      <td>Bassus</td>\n      <td>Superius</td>\n      <td>Tenor</td>\n      <td>16.0</td>\n    </tr>\n    <tr>\n      <th>2</th>\n      <td>5</td>\n      <td>Ave Maria</td>\n      <td>imitative duo</td>\n      <td>(4, -2, 2, 2, -3)</td>\n      <td>428.0</td>\n      <td>432.0</td>\n      <td>468.0</td>\n      <td>472.0</td>\n      <td>Superius</td>\n      <td>Altus</td>\n      <td>Tenor</td>\n      <td>Bassus</td>\n      <td>288.0</td>\n    </tr>\n    <tr>\n      <th>3</th>\n      <td>6</td>\n      <td>Ave Maria</td>\n      <td>imitative duo</td>\n      <td>(-2, 2, 2, -3, -2)</td>\n      <td>432.0</td>\n      <td>436.0</td>\n      <td>472.0</td>\n      <td>476.0</td>\n      <td>Superius</td>\n      <td>Altus</td>\n      <td>Tenor</td>\n      <td>Bassus</td>\n      <td>432.0</td>\n    </tr>\n    <tr>\n      <th>4</th>\n      <td>2</td>\n      <td>Ave Maria</td>\n      <td>imitative duo</td>\n      <td>(2, 2, -3, -2, -2)</td>\n      <td>438.0</td>\n      <td>442.0</td>\n      <td>478.0</td>\n      <td>482.0</td>\n      <td>Superius</td>\n      <td>Altus</td>\n      <td>Tenor</td>\n      <td>Bassus</td>\n      <td>436.0</td>\n    </tr>\n  </tbody>\n</table>\n</div>"
     },
     "metadata": {},
     "execution_count": 121
    }
   ],
   "source": [
    "wide_df['previous_entry_2'] = wide_df['offset_2'].shift().fillna(0)\n",
    "# wide_df['previous_match'] = wide_df['match_number'].shift().fillna(0)\n",
    "wide_df.head()\n",
    "# overlap = wide_df[wide_df[\"offset_1\"] == wide_df[\"offset_2_shift\"]]\n",
    "# overlap\n",
    "\n",
    "\n"
   ]
  },
  {
   "cell_type": "markdown",
   "metadata": {},
   "source": [
    "## Read CSV of Classified Matches\n",
    "\n",
    "- Update file name to match the output of previous cells for Classifier"
   ]
  },
  {
   "cell_type": "code",
   "execution_count": null,
   "metadata": {},
   "outputs": [],
   "source": [
    "results = pd.read_csv('Sandrin_Classified.csv')\n",
    "results.rename(columns=\n",
    "                   {'Pattern Generating Match': 'Pattern_Generating_Match', \n",
    "                    'Pattern matched':'Pattern_Matched',\n",
    "                    'Classification Type': 'Classification_Type',\n",
    "                    'Piece Title': 'Piece_Title',\n",
    "                    'First Note Measure Number': 'Start_Measure',\n",
    "                    'Last Note Measure Number': 'Stop_Measure',\n",
    "                    'Note Durations': 'Note_Durations'\n",
    "                   },\n",
    "                    inplace=True)\n",
    "\n",
    "results['note_durations'] = results['note_durations'].apply(ast.literal_eval)\n",
    "\n",
    "durations = results['note_durations']\n",
    "results.head()"
   ]
  },
  {
   "source": [
    "## New 2021 Classifier"
   ],
   "cell_type": "markdown",
   "metadata": {}
  },
  {
   "source": [
    "### Filter for Overall Length of Presentation Type"
   ],
   "cell_type": "markdown",
   "metadata": {}
  },
  {
   "cell_type": "code",
   "execution_count": null,
   "metadata": {},
   "outputs": [],
   "source": [
    "# This function filters for the length of the Presentation Type in the Classifier\n",
    "\n",
    "def limit_offset_size(array, limit):\n",
    "    under_limit = np.cumsum(array) <= limit\n",
    "    return array[: sum(under_limit)]\n"
   ]
  },
  {
   "cell_type": "code",
   "execution_count": null,
   "metadata": {},
   "outputs": [],
   "source": [
    "#### Functions to work with output of the original classifier"
   ]
  },
  {
   "cell_type": "code",
   "execution_count": 22,
   "metadata": {},
   "outputs": [],
   "source": [
    "# the following configured to work with output of FG Classifier\n",
    "\n",
    "import numpy as np\n",
    "\n",
    "def lists_to_tuples(el):\n",
    "    if isinstance(el, list):\n",
    "        return tuple(el)\n",
    "    else:\n",
    "        return el\n",
    "\n",
    "def classify_offsets(offset_difference_list):\n",
    "    \"\"\"\n",
    "    Put logic for classifying an offset list here\n",
    "    \"\"\"\n",
    "    offset_difference_list = limit_offset_size(offset_difference_list, 64)\n",
    "    \n",
    "    alt_list = offset_difference_list[::2]\n",
    "    \n",
    "    \n",
    "    if len(set(offset_difference_list)) == 1 and len(offset_difference_list) > 1:\n",
    "        return f\"PEN {offset_difference_list}\"\n",
    "    elif (len(offset_difference_list) %2 != 0) and (len(set(alt_list)) == 1):\n",
    "        return f\"ID {offset_difference_list}\"\n",
    "    elif len(offset_difference_list) >= 1:\n",
    "        return f\"Fuga {offset_difference_list}\"\n",
    "    else: \n",
    "        return f\"Singleton {offset_difference_list}\"\n",
    "\n",
    "\n",
    "def get_offset_difference_list(group):\n",
    "    group = group.sort_values(\"offset\")\n",
    "    group[\"next_offset\"] = group.offset.shift(-1)\n",
    "    offset_difference_list = (group.next_offset - group.offset).dropna().tolist()\n",
    "    return offset_difference_list\n",
    "   \n",
    "def predict_type(group):\n",
    "    offset_differences = get_offset_difference_list(group)\n",
    "    group[\"predicted_type\"] = classify_offsets(offset_differences)\n",
    "    return group\n",
    "\n"
   ]
  },
  {
   "cell_type": "code",
   "execution_count": null,
   "metadata": {},
   "outputs": [],
   "source": [
    "### Call Function to work with Output of Original Classifier\n"
   ]
  },
  {
   "cell_type": "code",
   "execution_count": null,
   "metadata": {},
   "outputs": [],
   "source": [
    "df = df_sorted.applymap(lists_to_tuples).groupby(\"pattern\").apply(predict_type)[:20]\n",
    "df"
   ]
  },
  {
   "source": [
    "### Function to work with output of Close or Exact Matches"
   ],
   "cell_type": "markdown",
   "metadata": {}
  },
  {
   "cell_type": "code",
   "execution_count": null,
   "metadata": {},
   "outputs": [],
   "source": [
    "# THIS IS DEV COPY for use with CLOSE/EXACT Matches\n",
    "\n",
    "import numpy as np\n",
    "\n",
    "def lists_to_tuples_a(el):\n",
    "    if isinstance(el, list):\n",
    "        return tuple(el)\n",
    "    else:\n",
    "        return el\n",
    "\n",
    "def classify_offsets_a(offset_difference_list):\n",
    "    \"\"\"\n",
    "    Put logic for classifying an offset list here\n",
    "    \"\"\"\n",
    "    offset_difference_list = limit_offset_size(offset_difference_list, 1000)\n",
    "    \n",
    "    alt_list = offset_difference_list[::2]\n",
    "    \n",
    "    \n",
    "    if len(set(offset_difference_list)) == 1 and len(offset_difference_list) > 1:\n",
    "        return f\"PEN {offset_difference_list}\"\n",
    "    elif (len(offset_difference_list) %2 != 0) and (len(set(alt_list)) == 1):\n",
    "        return f\"ID {offset_difference_list}\"\n",
    "    elif len(offset_difference_list) >= 1:\n",
    "        return f\"Fuga {offset_difference_list}\"\n",
    "    else: \n",
    "        return f\"Singleton {offset_difference_list}\"\n",
    "\n",
    "\n",
    "def get_offset_difference_list_a(group):\n",
    "    group = group.sort_values(\"start_offset\")\n",
    "    group[\"next_offset\"] = group.start_offset.shift(-1)\n",
    "    offset_difference_list = (group.next_offset - group.start_offset).dropna().tolist()\n",
    "    return offset_difference_list\n",
    "   \n",
    "def predict_type_a(group):\n",
    "    offset_differences = get_offset_difference_list_a(group)\n",
    "    group[\"predicted_type\"] = classify_offsets_a(offset_differences)\n",
    "    return group"
   ]
  },
  {
   "source": [
    "### Call Function to Classify with Close/Exact Matches\n",
    "use 'output.close' or 'output.exact'"
   ],
   "cell_type": "markdown",
   "metadata": {}
  },
  {
   "cell_type": "code",
   "execution_count": 1,
   "metadata": {},
   "outputs": [
    {
     "output_type": "error",
     "ename": "NameError",
     "evalue": "name 'output_close' is not defined",
     "traceback": [
      "\u001b[0;31m---------------------------------------------------------------------------\u001b[0m",
      "\u001b[0;31mNameError\u001b[0m                                 Traceback (most recent call last)",
      "\u001b[0;32m<ipython-input-1-c2f072d3a02e>\u001b[0m in \u001b[0;36m<module>\u001b[0;34m\u001b[0m\n\u001b[0;32m----> 1\u001b[0;31m \u001b[0mdf\u001b[0m \u001b[0;34m=\u001b[0m \u001b[0moutput_close\u001b[0m\u001b[0;34m.\u001b[0m\u001b[0mapplymap\u001b[0m\u001b[0;34m(\u001b[0m\u001b[0mlists_to_tuples\u001b[0m\u001b[0;34m)\u001b[0m\u001b[0;34m.\u001b[0m\u001b[0mgroupby\u001b[0m\u001b[0;34m(\u001b[0m\u001b[0;34m\"pattern_generating_match\"\u001b[0m\u001b[0;34m)\u001b[0m\u001b[0;34m.\u001b[0m\u001b[0mapply\u001b[0m\u001b[0;34m(\u001b[0m\u001b[0mpredict_type_a\u001b[0m\u001b[0;34m)\u001b[0m\u001b[0;34m[\u001b[0m\u001b[0;34m:\u001b[0m\u001b[0;36m50\u001b[0m\u001b[0;34m]\u001b[0m\u001b[0;34m\u001b[0m\u001b[0;34m\u001b[0m\u001b[0m\n\u001b[0m\u001b[1;32m      2\u001b[0m \u001b[0mdf\u001b[0m\u001b[0;34m\u001b[0m\u001b[0;34m\u001b[0m\u001b[0m\n",
      "\u001b[0;31mNameError\u001b[0m: name 'output_close' is not defined"
     ]
    }
   ],
   "source": [
    "df = output_close.applymap(lists_to_tuples).groupby(\"pattern_generating_match\").apply(predict_type_a)[:50]\n",
    "df"
   ]
  },
  {
   "cell_type": "markdown",
   "metadata": {},
   "source": [
    "# Durational Ratios\n",
    "\n",
    "#### This Function Calculates the Ratios of the Durations in each Match"
   ]
  },
  {
   "cell_type": "code",
   "execution_count": 66,
   "metadata": {},
   "outputs": [],
   "source": [
    "# makes pairs of ratio strings\n",
    "\n",
    "def pairwise(iterable):\n",
    "    \"s -> (s0,s1), (s1,s2), (s2, s3), ...\"\n",
    "    a, b = tee(iterable)\n",
    "    next(b, None)\n",
    "    return zip(a, b)\n",
    "\n",
    "def get_ratios(input_list):\n",
    "    ratio_pairs = []\n",
    "    for a, b in pairwise(input_list):\n",
    "        ratio_pairs.append(b / a)\n",
    "    return ratio_pairs\n",
    "\n",
    "\n"
   ]
  },
  {
   "cell_type": "markdown",
   "metadata": {},
   "source": [
    "#### Now call the function to operate on the RESULTS file from earlier"
   ]
  },
  {
   "cell_type": "code",
   "execution_count": 67,
   "metadata": {},
   "outputs": [
    {
     "output_type": "execute_result",
     "data": {
      "text/plain": [
       "  pattern_generating_match   pattern_matched piece_title        part  \\\n",
       "0         (4, 1, 2, 2, -3)  [4, 1, 2, 2, -3]   Ave Maria  [Superius]   \n",
       "1         (4, 1, 2, 2, -3)  [4, 1, 2, 2, -3]   Ave Maria  [Superius]   \n",
       "2         (4, 1, 2, 2, -3)  [4, 1, 2, 2, -3]   Ave Maria       Altus   \n",
       "3         (4, 1, 2, 2, -3)  [4, 1, 2, 2, -3]   Ave Maria       Tenor   \n",
       "4         (4, 1, 2, 2, -3)  [4, 1, 2, 2, -3]   Ave Maria      Bassus   \n",
       "\n",
       "   start_measure  start_beat  end_measure  end_beat  start_offset  end_offset  \\\n",
       "0              1         1.0            4       1.0           0.0        24.0   \n",
       "1            105         3.0          107       3.5         884.0       910.0   \n",
       "2              3         1.0            6       1.0          16.0        40.0   \n",
       "3              5         1.0            8       1.0          32.0        56.0   \n",
       "4              7         1.0           10       1.0          48.0        72.0   \n",
       "\n",
       "                   note_durations                           duration_ratios  \n",
       "0  [4.0, 8.0, 4.0, 4.0, 4.0, 8.0]                 [2.0, 0.5, 1.0, 1.0, 2.0]  \n",
       "1  [4.0, 8.0, 4.0, 4.0, 6.0, 2.0]  [2.0, 0.5, 1.0, 1.5, 0.3333333333333333]  \n",
       "2  [4.0, 8.0, 4.0, 4.0, 4.0, 8.0]                 [2.0, 0.5, 1.0, 1.0, 2.0]  \n",
       "3  [4.0, 8.0, 4.0, 4.0, 4.0, 8.0]                 [2.0, 0.5, 1.0, 1.0, 2.0]  \n",
       "4  [4.0, 8.0, 4.0, 4.0, 4.0, 8.0]                 [2.0, 0.5, 1.0, 1.0, 2.0]  "
      ],
      "text/html": "<div>\n<style scoped>\n    .dataframe tbody tr th:only-of-type {\n        vertical-align: middle;\n    }\n\n    .dataframe tbody tr th {\n        vertical-align: top;\n    }\n\n    .dataframe thead th {\n        text-align: right;\n    }\n</style>\n<table border=\"1\" class=\"dataframe\">\n  <thead>\n    <tr style=\"text-align: right;\">\n      <th></th>\n      <th>pattern_generating_match</th>\n      <th>pattern_matched</th>\n      <th>piece_title</th>\n      <th>part</th>\n      <th>start_measure</th>\n      <th>start_beat</th>\n      <th>end_measure</th>\n      <th>end_beat</th>\n      <th>start_offset</th>\n      <th>end_offset</th>\n      <th>note_durations</th>\n      <th>duration_ratios</th>\n    </tr>\n  </thead>\n  <tbody>\n    <tr>\n      <th>0</th>\n      <td>(4, 1, 2, 2, -3)</td>\n      <td>[4, 1, 2, 2, -3]</td>\n      <td>Ave Maria</td>\n      <td>[Superius]</td>\n      <td>1</td>\n      <td>1.0</td>\n      <td>4</td>\n      <td>1.0</td>\n      <td>0.0</td>\n      <td>24.0</td>\n      <td>[4.0, 8.0, 4.0, 4.0, 4.0, 8.0]</td>\n      <td>[2.0, 0.5, 1.0, 1.0, 2.0]</td>\n    </tr>\n    <tr>\n      <th>1</th>\n      <td>(4, 1, 2, 2, -3)</td>\n      <td>[4, 1, 2, 2, -3]</td>\n      <td>Ave Maria</td>\n      <td>[Superius]</td>\n      <td>105</td>\n      <td>3.0</td>\n      <td>107</td>\n      <td>3.5</td>\n      <td>884.0</td>\n      <td>910.0</td>\n      <td>[4.0, 8.0, 4.0, 4.0, 6.0, 2.0]</td>\n      <td>[2.0, 0.5, 1.0, 1.5, 0.3333333333333333]</td>\n    </tr>\n    <tr>\n      <th>2</th>\n      <td>(4, 1, 2, 2, -3)</td>\n      <td>[4, 1, 2, 2, -3]</td>\n      <td>Ave Maria</td>\n      <td>Altus</td>\n      <td>3</td>\n      <td>1.0</td>\n      <td>6</td>\n      <td>1.0</td>\n      <td>16.0</td>\n      <td>40.0</td>\n      <td>[4.0, 8.0, 4.0, 4.0, 4.0, 8.0]</td>\n      <td>[2.0, 0.5, 1.0, 1.0, 2.0]</td>\n    </tr>\n    <tr>\n      <th>3</th>\n      <td>(4, 1, 2, 2, -3)</td>\n      <td>[4, 1, 2, 2, -3]</td>\n      <td>Ave Maria</td>\n      <td>Tenor</td>\n      <td>5</td>\n      <td>1.0</td>\n      <td>8</td>\n      <td>1.0</td>\n      <td>32.0</td>\n      <td>56.0</td>\n      <td>[4.0, 8.0, 4.0, 4.0, 4.0, 8.0]</td>\n      <td>[2.0, 0.5, 1.0, 1.0, 2.0]</td>\n    </tr>\n    <tr>\n      <th>4</th>\n      <td>(4, 1, 2, 2, -3)</td>\n      <td>[4, 1, 2, 2, -3]</td>\n      <td>Ave Maria</td>\n      <td>Bassus</td>\n      <td>7</td>\n      <td>1.0</td>\n      <td>10</td>\n      <td>1.0</td>\n      <td>48.0</td>\n      <td>72.0</td>\n      <td>[4.0, 8.0, 4.0, 4.0, 4.0, 8.0]</td>\n      <td>[2.0, 0.5, 1.0, 1.0, 2.0]</td>\n    </tr>\n  </tbody>\n</table>\n</div>"
     },
     "metadata": {},
     "execution_count": 67
    }
   ],
   "source": [
    "# calculates 'duration ratios' for each soggetto, then adds this to the DF\n",
    "\n",
    "results[\"duration_ratios\"] = results.note_durations.apply(get_ratios)\n",
    "short_results = results.drop(columns=[\"ema_url\", \"ema\"])\n",
    "short_results.head()"
   ]
  },
  {
   "cell_type": "code",
   "execution_count": 25,
   "metadata": {},
   "outputs": [
    {
     "output_type": "error",
     "ename": "KeyError",
     "evalue": "'predicted_type'",
     "traceback": [
      "\u001b[0;31m---------------------------------------------------------------------------\u001b[0m",
      "\u001b[0;31mKeyError\u001b[0m                                  Traceback (most recent call last)",
      "\u001b[0;32m/opt/anaconda3/lib/python3.8/site-packages/pandas/core/indexes/base.py\u001b[0m in \u001b[0;36mget_loc\u001b[0;34m(self, key, method, tolerance)\u001b[0m\n\u001b[1;32m   2894\u001b[0m             \u001b[0;32mtry\u001b[0m\u001b[0;34m:\u001b[0m\u001b[0;34m\u001b[0m\u001b[0;34m\u001b[0m\u001b[0m\n\u001b[0;32m-> 2895\u001b[0;31m                 \u001b[0;32mreturn\u001b[0m \u001b[0mself\u001b[0m\u001b[0;34m.\u001b[0m\u001b[0m_engine\u001b[0m\u001b[0;34m.\u001b[0m\u001b[0mget_loc\u001b[0m\u001b[0;34m(\u001b[0m\u001b[0mcasted_key\u001b[0m\u001b[0;34m)\u001b[0m\u001b[0;34m\u001b[0m\u001b[0;34m\u001b[0m\u001b[0m\n\u001b[0m\u001b[1;32m   2896\u001b[0m             \u001b[0;32mexcept\u001b[0m \u001b[0mKeyError\u001b[0m \u001b[0;32mas\u001b[0m \u001b[0merr\u001b[0m\u001b[0;34m:\u001b[0m\u001b[0;34m\u001b[0m\u001b[0;34m\u001b[0m\u001b[0m\n",
      "\u001b[0;32mpandas/_libs/index.pyx\u001b[0m in \u001b[0;36mpandas._libs.index.IndexEngine.get_loc\u001b[0;34m()\u001b[0m\n",
      "\u001b[0;32mpandas/_libs/index.pyx\u001b[0m in \u001b[0;36mpandas._libs.index.IndexEngine.get_loc\u001b[0;34m()\u001b[0m\n",
      "\u001b[0;32mpandas/_libs/hashtable_class_helper.pxi\u001b[0m in \u001b[0;36mpandas._libs.hashtable.PyObjectHashTable.get_item\u001b[0;34m()\u001b[0m\n",
      "\u001b[0;32mpandas/_libs/hashtable_class_helper.pxi\u001b[0m in \u001b[0;36mpandas._libs.hashtable.PyObjectHashTable.get_item\u001b[0;34m()\u001b[0m\n",
      "\u001b[0;31mKeyError\u001b[0m: 'predicted_type'",
      "\nThe above exception was the direct cause of the following exception:\n",
      "\u001b[0;31mKeyError\u001b[0m                                  Traceback (most recent call last)",
      "\u001b[0;32m<ipython-input-25-a27a4c1a48f2>\u001b[0m in \u001b[0;36m<module>\u001b[0;34m\u001b[0m\n\u001b[1;32m      3\u001b[0m \u001b[0;34m\u001b[0m\u001b[0m\n\u001b[1;32m      4\u001b[0m \u001b[0mshort_cm\u001b[0m\u001b[0;34m.\u001b[0m\u001b[0mapplymap\u001b[0m\u001b[0;34m(\u001b[0m\u001b[0mlists_to_tuples\u001b[0m\u001b[0;34m)\u001b[0m\u001b[0;34m.\u001b[0m\u001b[0mgroupby\u001b[0m\u001b[0;34m(\u001b[0m\u001b[0;34m\"pattern_matched\"\u001b[0m\u001b[0;34m)\u001b[0m\u001b[0;34m.\u001b[0m\u001b[0mapply\u001b[0m\u001b[0;34m(\u001b[0m\u001b[0mpredict_type\u001b[0m\u001b[0;34m)\u001b[0m\u001b[0;34m[\u001b[0m\u001b[0;34m:\u001b[0m\u001b[0;36m50\u001b[0m\u001b[0;34m]\u001b[0m\u001b[0;34m\u001b[0m\u001b[0;34m\u001b[0m\u001b[0m\n\u001b[0;32m----> 5\u001b[0;31m \u001b[0mshort_cm\u001b[0m\u001b[0;34m[\u001b[0m\u001b[0;34m\"predicted_type\"\u001b[0m\u001b[0;34m]\u001b[0m\u001b[0;34m\u001b[0m\u001b[0;34m\u001b[0m\u001b[0m\n\u001b[0m",
      "\u001b[0;32m/opt/anaconda3/lib/python3.8/site-packages/pandas/core/frame.py\u001b[0m in \u001b[0;36m__getitem__\u001b[0;34m(self, key)\u001b[0m\n\u001b[1;32m   2900\u001b[0m             \u001b[0;32mif\u001b[0m \u001b[0mself\u001b[0m\u001b[0;34m.\u001b[0m\u001b[0mcolumns\u001b[0m\u001b[0;34m.\u001b[0m\u001b[0mnlevels\u001b[0m \u001b[0;34m>\u001b[0m \u001b[0;36m1\u001b[0m\u001b[0;34m:\u001b[0m\u001b[0;34m\u001b[0m\u001b[0;34m\u001b[0m\u001b[0m\n\u001b[1;32m   2901\u001b[0m                 \u001b[0;32mreturn\u001b[0m \u001b[0mself\u001b[0m\u001b[0;34m.\u001b[0m\u001b[0m_getitem_multilevel\u001b[0m\u001b[0;34m(\u001b[0m\u001b[0mkey\u001b[0m\u001b[0;34m)\u001b[0m\u001b[0;34m\u001b[0m\u001b[0;34m\u001b[0m\u001b[0m\n\u001b[0;32m-> 2902\u001b[0;31m             \u001b[0mindexer\u001b[0m \u001b[0;34m=\u001b[0m \u001b[0mself\u001b[0m\u001b[0;34m.\u001b[0m\u001b[0mcolumns\u001b[0m\u001b[0;34m.\u001b[0m\u001b[0mget_loc\u001b[0m\u001b[0;34m(\u001b[0m\u001b[0mkey\u001b[0m\u001b[0;34m)\u001b[0m\u001b[0;34m\u001b[0m\u001b[0;34m\u001b[0m\u001b[0m\n\u001b[0m\u001b[1;32m   2903\u001b[0m             \u001b[0;32mif\u001b[0m \u001b[0mis_integer\u001b[0m\u001b[0;34m(\u001b[0m\u001b[0mindexer\u001b[0m\u001b[0;34m)\u001b[0m\u001b[0;34m:\u001b[0m\u001b[0;34m\u001b[0m\u001b[0;34m\u001b[0m\u001b[0m\n\u001b[1;32m   2904\u001b[0m                 \u001b[0mindexer\u001b[0m \u001b[0;34m=\u001b[0m \u001b[0;34m[\u001b[0m\u001b[0mindexer\u001b[0m\u001b[0;34m]\u001b[0m\u001b[0;34m\u001b[0m\u001b[0;34m\u001b[0m\u001b[0m\n",
      "\u001b[0;32m/opt/anaconda3/lib/python3.8/site-packages/pandas/core/indexes/base.py\u001b[0m in \u001b[0;36mget_loc\u001b[0;34m(self, key, method, tolerance)\u001b[0m\n\u001b[1;32m   2895\u001b[0m                 \u001b[0;32mreturn\u001b[0m \u001b[0mself\u001b[0m\u001b[0;34m.\u001b[0m\u001b[0m_engine\u001b[0m\u001b[0;34m.\u001b[0m\u001b[0mget_loc\u001b[0m\u001b[0;34m(\u001b[0m\u001b[0mcasted_key\u001b[0m\u001b[0;34m)\u001b[0m\u001b[0;34m\u001b[0m\u001b[0;34m\u001b[0m\u001b[0m\n\u001b[1;32m   2896\u001b[0m             \u001b[0;32mexcept\u001b[0m \u001b[0mKeyError\u001b[0m \u001b[0;32mas\u001b[0m \u001b[0merr\u001b[0m\u001b[0;34m:\u001b[0m\u001b[0;34m\u001b[0m\u001b[0;34m\u001b[0m\u001b[0m\n\u001b[0;32m-> 2897\u001b[0;31m                 \u001b[0;32mraise\u001b[0m \u001b[0mKeyError\u001b[0m\u001b[0;34m(\u001b[0m\u001b[0mkey\u001b[0m\u001b[0;34m)\u001b[0m \u001b[0;32mfrom\u001b[0m \u001b[0merr\u001b[0m\u001b[0;34m\u001b[0m\u001b[0;34m\u001b[0m\u001b[0m\n\u001b[0m\u001b[1;32m   2898\u001b[0m \u001b[0;34m\u001b[0m\u001b[0m\n\u001b[1;32m   2899\u001b[0m         \u001b[0;32mif\u001b[0m \u001b[0mtolerance\u001b[0m \u001b[0;32mis\u001b[0m \u001b[0;32mnot\u001b[0m \u001b[0;32mNone\u001b[0m\u001b[0;34m:\u001b[0m\u001b[0;34m\u001b[0m\u001b[0;34m\u001b[0m\u001b[0m\n",
      "\u001b[0;31mKeyError\u001b[0m: 'predicted_type'"
     ]
    }
   ],
   "source": [
    "# now call the functions to classify\n",
    "# we can use the initial results--those without durational ratios\n",
    "\n",
    "short_cm.applymap(lists_to_tuples).groupby(\"pattern_matched\").apply(predict_type)[:50]\n",
    "short_cm[\"predicted_type\"]"
   ]
  },
  {
   "cell_type": "code",
   "execution_count": null,
   "metadata": {},
   "outputs": [],
   "source": [
    "def classified_matches_to_pandas(matches):\n",
    "\n",
    "    type_group = []\n",
    "    \n",
    "    for i, g in enumerate(group):\n",
    "        \n",
    "        for j, soggetti in enumerate(results.matches):\n",
    "            \n",
    "            type_group.append({\n",
    "                \"entry_number\": j + 1,\n",
    "                \"group_number\": i + 1\n",
    "            })\n",
    "    return pd.DataFrame(results)"
   ]
  },
  {
   "cell_type": "code",
   "execution_count": null,
   "metadata": {},
   "outputs": [],
   "source": []
  },
  {
   "cell_type": "code",
   "execution_count": 201,
   "metadata": {},
   "outputs": [],
   "source": [
    "res = rs.groupby(rs['pattern_matched'].map(tuple))\n",
    "\n",
    "\n"
   ]
  },
  {
   "cell_type": "code",
   "execution_count": 202,
   "metadata": {},
   "outputs": [],
   "source": [
    "#rs[\"pattern_matched\"] = rs[\"pattern_matched\"].apply(str)\n",
    "rs.groupby(\"pattern_matched\")\n",
    "rsg = rs.groupby(\"pattern_matched\")"
   ]
  },
  {
   "cell_type": "code",
   "execution_count": 203,
   "metadata": {},
   "outputs": [
    {
     "output_type": "execute_result",
     "data": {
      "text/plain": [
       "{(-2, -2, -2, 2, -3): [7], (-2, -2, -2, 2, -2): [5, 6, 8], (-2, -2, -2, 3, -2): [9], (4, 1, 2, 2, -3): [0, 1, 2, 3, 4]}"
      ]
     },
     "metadata": {},
     "execution_count": 203
    }
   ],
   "source": [
    "rsg.groups"
   ]
  },
  {
   "cell_type": "code",
   "execution_count": 193,
   "metadata": {},
   "outputs": [
    {
     "output_type": "execute_result",
     "data": {
      "text/plain": [
       "       pattern_matched  end_offset\n",
       "5  (-2, -2, -2, 2, -2)        74.0\n",
       "6  (-2, -2, -2, 2, -2)        91.0\n",
       "8  (-2, -2, -2, 2, -2)       106.0"
      ],
      "text/html": "<div>\n<style scoped>\n    .dataframe tbody tr th:only-of-type {\n        vertical-align: middle;\n    }\n\n    .dataframe tbody tr th {\n        vertical-align: top;\n    }\n\n    .dataframe thead th {\n        text-align: right;\n    }\n</style>\n<table border=\"1\" class=\"dataframe\">\n  <thead>\n    <tr style=\"text-align: right;\">\n      <th></th>\n      <th>pattern_matched</th>\n      <th>end_offset</th>\n    </tr>\n  </thead>\n  <tbody>\n    <tr>\n      <th>5</th>\n      <td>(-2, -2, -2, 2, -2)</td>\n      <td>74.0</td>\n    </tr>\n    <tr>\n      <th>6</th>\n      <td>(-2, -2, -2, 2, -2)</td>\n      <td>91.0</td>\n    </tr>\n    <tr>\n      <th>8</th>\n      <td>(-2, -2, -2, 2, -2)</td>\n      <td>106.0</td>\n    </tr>\n  </tbody>\n</table>\n</div>"
     },
     "metadata": {},
     "execution_count": 193
    }
   ],
   "source": [
    "rsg.get_group('(-2, -2, -2, 2, -2)')"
   ]
  },
  {
   "cell_type": "code",
   "execution_count": 161,
   "metadata": {},
   "outputs": [
    {
     "output_type": "execute_result",
     "data": {
      "text/plain": [
       "    pattern_generating_match      pattern_matched piece_title   part  \\\n",
       "940      (8, -2, -2, -2, -2)  [8, -2, -2, -2, -2]   Ave Maria  Tenor   \n",
       "941      (8, -2, -2, -2, -2)  [8, -2, -2, -2, -2]   Ave Maria  Tenor   \n",
       "\n",
       "     start_measure  start_beat  end_measure  end_beat  start_offset  \\\n",
       "940             27         3.0           28       4.0         212.0   \n",
       "941             75         2.0           77       1.0         594.0   \n",
       "\n",
       "     end_offset                  note_durations  \\\n",
       "940       222.0  (4.0, 3.0, 1.0, 1.0, 1.0, 3.0)   \n",
       "941       608.0  (2.0, 4.0, 2.0, 2.0, 4.0, 8.0)   \n",
       "\n",
       "                               duration_ratios  \n",
       "940  [0.75, 0.3333333333333333, 1.0, 1.0, 3.0]  \n",
       "941                  [2.0, 0.5, 1.0, 2.0, 2.0]  "
      ],
      "text/html": "<div>\n<style scoped>\n    .dataframe tbody tr th:only-of-type {\n        vertical-align: middle;\n    }\n\n    .dataframe tbody tr th {\n        vertical-align: top;\n    }\n\n    .dataframe thead th {\n        text-align: right;\n    }\n</style>\n<table border=\"1\" class=\"dataframe\">\n  <thead>\n    <tr style=\"text-align: right;\">\n      <th></th>\n      <th>pattern_generating_match</th>\n      <th>pattern_matched</th>\n      <th>piece_title</th>\n      <th>part</th>\n      <th>start_measure</th>\n      <th>start_beat</th>\n      <th>end_measure</th>\n      <th>end_beat</th>\n      <th>start_offset</th>\n      <th>end_offset</th>\n      <th>note_durations</th>\n      <th>duration_ratios</th>\n    </tr>\n  </thead>\n  <tbody>\n    <tr>\n      <th>940</th>\n      <td>(8, -2, -2, -2, -2)</td>\n      <td>[8, -2, -2, -2, -2]</td>\n      <td>Ave Maria</td>\n      <td>Tenor</td>\n      <td>27</td>\n      <td>3.0</td>\n      <td>28</td>\n      <td>4.0</td>\n      <td>212.0</td>\n      <td>222.0</td>\n      <td>(4.0, 3.0, 1.0, 1.0, 1.0, 3.0)</td>\n      <td>[0.75, 0.3333333333333333, 1.0, 1.0, 3.0]</td>\n    </tr>\n    <tr>\n      <th>941</th>\n      <td>(8, -2, -2, -2, -2)</td>\n      <td>[8, -2, -2, -2, -2]</td>\n      <td>Ave Maria</td>\n      <td>Tenor</td>\n      <td>75</td>\n      <td>2.0</td>\n      <td>77</td>\n      <td>1.0</td>\n      <td>594.0</td>\n      <td>608.0</td>\n      <td>(2.0, 4.0, 2.0, 2.0, 4.0, 8.0)</td>\n      <td>[2.0, 0.5, 1.0, 2.0, 2.0]</td>\n    </tr>\n  </tbody>\n</table>\n</div>"
     },
     "metadata": {},
     "execution_count": 161
    }
   ],
   "source": [
    "# short_results[\"pattern_generating_match\"] = results[\"pattern_generating_match\"].apply(tuple)\n",
    "gp = short_results.groupby(\"pattern_generating_match\")\n",
    "for group_name, group in gp:\n",
    "    group = group.sort_values(\"start_offset\")\n",
    "\n",
    "group\n",
    "\n",
    "\n",
    "\n",
    "\n",
    "\n"
   ]
  },
  {
   "cell_type": "code",
   "execution_count": 35,
   "metadata": {},
   "outputs": [
    {
     "output_type": "execute_result",
     "data": {
      "text/plain": [
       "  pattern_generating_match   pattern_matched piece_title        part  \\\n",
       "0         (4, 1, 2, 2, -3)  [4, 1, 2, 2, -3]   Ave Maria  [Superius]   \n",
       "2         (4, 1, 2, 2, -3)  [4, 1, 2, 2, -3]   Ave Maria       Altus   \n",
       "3         (4, 1, 2, 2, -3)  [4, 1, 2, 2, -3]   Ave Maria       Tenor   \n",
       "4         (4, 1, 2, 2, -3)  [4, 1, 2, 2, -3]   Ave Maria      Bassus   \n",
       "1         (4, 1, 2, 2, -3)  [4, 1, 2, 2, -3]   Ave Maria  [Superius]   \n",
       "\n",
       "   start_measure  start_beat  end_measure  end_beat  start_offset  end_offset  \\\n",
       "0              1         1.0            4       1.0           0.0        24.0   \n",
       "2              3         1.0            6       1.0          16.0        40.0   \n",
       "3              5         1.0            8       1.0          32.0        56.0   \n",
       "4              7         1.0           10       1.0          48.0        72.0   \n",
       "1            105         3.0          107       3.5         884.0       910.0   \n",
       "\n",
       "                   note_durations                           duration_ratios  \n",
       "0  (4.0, 8.0, 4.0, 4.0, 4.0, 8.0)                 [2.0, 0.5, 1.0, 1.0, 2.0]  \n",
       "2  (4.0, 8.0, 4.0, 4.0, 4.0, 8.0)                 [2.0, 0.5, 1.0, 1.0, 2.0]  \n",
       "3  (4.0, 8.0, 4.0, 4.0, 4.0, 8.0)                 [2.0, 0.5, 1.0, 1.0, 2.0]  \n",
       "4  (4.0, 8.0, 4.0, 4.0, 4.0, 8.0)                 [2.0, 0.5, 1.0, 1.0, 2.0]  \n",
       "1  (4.0, 8.0, 4.0, 4.0, 6.0, 2.0)  [2.0, 0.5, 1.0, 1.5, 0.3333333333333333]  "
      ],
      "text/html": "<div>\n<style scoped>\n    .dataframe tbody tr th:only-of-type {\n        vertical-align: middle;\n    }\n\n    .dataframe tbody tr th {\n        vertical-align: top;\n    }\n\n    .dataframe thead th {\n        text-align: right;\n    }\n</style>\n<table border=\"1\" class=\"dataframe\">\n  <thead>\n    <tr style=\"text-align: right;\">\n      <th></th>\n      <th>pattern_generating_match</th>\n      <th>pattern_matched</th>\n      <th>piece_title</th>\n      <th>part</th>\n      <th>start_measure</th>\n      <th>start_beat</th>\n      <th>end_measure</th>\n      <th>end_beat</th>\n      <th>start_offset</th>\n      <th>end_offset</th>\n      <th>note_durations</th>\n      <th>duration_ratios</th>\n    </tr>\n  </thead>\n  <tbody>\n    <tr>\n      <th>0</th>\n      <td>(4, 1, 2, 2, -3)</td>\n      <td>[4, 1, 2, 2, -3]</td>\n      <td>Ave Maria</td>\n      <td>[Superius]</td>\n      <td>1</td>\n      <td>1.0</td>\n      <td>4</td>\n      <td>1.0</td>\n      <td>0.0</td>\n      <td>24.0</td>\n      <td>(4.0, 8.0, 4.0, 4.0, 4.0, 8.0)</td>\n      <td>[2.0, 0.5, 1.0, 1.0, 2.0]</td>\n    </tr>\n    <tr>\n      <th>2</th>\n      <td>(4, 1, 2, 2, -3)</td>\n      <td>[4, 1, 2, 2, -3]</td>\n      <td>Ave Maria</td>\n      <td>Altus</td>\n      <td>3</td>\n      <td>1.0</td>\n      <td>6</td>\n      <td>1.0</td>\n      <td>16.0</td>\n      <td>40.0</td>\n      <td>(4.0, 8.0, 4.0, 4.0, 4.0, 8.0)</td>\n      <td>[2.0, 0.5, 1.0, 1.0, 2.0]</td>\n    </tr>\n    <tr>\n      <th>3</th>\n      <td>(4, 1, 2, 2, -3)</td>\n      <td>[4, 1, 2, 2, -3]</td>\n      <td>Ave Maria</td>\n      <td>Tenor</td>\n      <td>5</td>\n      <td>1.0</td>\n      <td>8</td>\n      <td>1.0</td>\n      <td>32.0</td>\n      <td>56.0</td>\n      <td>(4.0, 8.0, 4.0, 4.0, 4.0, 8.0)</td>\n      <td>[2.0, 0.5, 1.0, 1.0, 2.0]</td>\n    </tr>\n    <tr>\n      <th>4</th>\n      <td>(4, 1, 2, 2, -3)</td>\n      <td>[4, 1, 2, 2, -3]</td>\n      <td>Ave Maria</td>\n      <td>Bassus</td>\n      <td>7</td>\n      <td>1.0</td>\n      <td>10</td>\n      <td>1.0</td>\n      <td>48.0</td>\n      <td>72.0</td>\n      <td>(4.0, 8.0, 4.0, 4.0, 4.0, 8.0)</td>\n      <td>[2.0, 0.5, 1.0, 1.0, 2.0]</td>\n    </tr>\n    <tr>\n      <th>1</th>\n      <td>(4, 1, 2, 2, -3)</td>\n      <td>[4, 1, 2, 2, -3]</td>\n      <td>Ave Maria</td>\n      <td>[Superius]</td>\n      <td>105</td>\n      <td>3.0</td>\n      <td>107</td>\n      <td>3.5</td>\n      <td>884.0</td>\n      <td>910.0</td>\n      <td>(4.0, 8.0, 4.0, 4.0, 6.0, 2.0)</td>\n      <td>[2.0, 0.5, 1.0, 1.5, 0.3333333333333333]</td>\n    </tr>\n  </tbody>\n</table>\n</div>"
     },
     "metadata": {},
     "execution_count": 35
    }
   ],
   "source": [
    "# sort group by start offset\n",
    "one_group = one_group.sort_values(\"start_offset\")\n",
    "one_group"
   ]
  },
  {
   "cell_type": "code",
   "execution_count": 36,
   "metadata": {},
   "outputs": [
    {
     "output_type": "execute_result",
     "data": {
      "text/plain": [
       "  pattern_generating_match   pattern_matched piece_title        part  \\\n",
       "0         (4, 1, 2, 2, -3)  [4, 1, 2, 2, -3]   Ave Maria  [Superius]   \n",
       "2         (4, 1, 2, 2, -3)  [4, 1, 2, 2, -3]   Ave Maria       Altus   \n",
       "3         (4, 1, 2, 2, -3)  [4, 1, 2, 2, -3]   Ave Maria       Tenor   \n",
       "4         (4, 1, 2, 2, -3)  [4, 1, 2, 2, -3]   Ave Maria      Bassus   \n",
       "1         (4, 1, 2, 2, -3)  [4, 1, 2, 2, -3]   Ave Maria  [Superius]   \n",
       "\n",
       "   start_measure  start_beat  end_measure  end_beat  start_offset  end_offset  \\\n",
       "0              1         1.0            4       1.0           0.0        24.0   \n",
       "2              3         1.0            6       1.0          16.0        40.0   \n",
       "3              5         1.0            8       1.0          32.0        56.0   \n",
       "4              7         1.0           10       1.0          48.0        72.0   \n",
       "1            105         3.0          107       3.5         884.0       910.0   \n",
       "\n",
       "                   note_durations                           duration_ratios  \\\n",
       "0  (4.0, 8.0, 4.0, 4.0, 4.0, 8.0)                 [2.0, 0.5, 1.0, 1.0, 2.0]   \n",
       "2  (4.0, 8.0, 4.0, 4.0, 4.0, 8.0)                 [2.0, 0.5, 1.0, 1.0, 2.0]   \n",
       "3  (4.0, 8.0, 4.0, 4.0, 4.0, 8.0)                 [2.0, 0.5, 1.0, 1.0, 2.0]   \n",
       "4  (4.0, 8.0, 4.0, 4.0, 4.0, 8.0)                 [2.0, 0.5, 1.0, 1.0, 2.0]   \n",
       "1  (4.0, 8.0, 4.0, 4.0, 6.0, 2.0)  [2.0, 0.5, 1.0, 1.5, 0.3333333333333333]   \n",
       "\n",
       "   next_offset  \n",
       "0         16.0  \n",
       "2         32.0  \n",
       "3         48.0  \n",
       "4        884.0  \n",
       "1          NaN  "
      ],
      "text/html": "<div>\n<style scoped>\n    .dataframe tbody tr th:only-of-type {\n        vertical-align: middle;\n    }\n\n    .dataframe tbody tr th {\n        vertical-align: top;\n    }\n\n    .dataframe thead th {\n        text-align: right;\n    }\n</style>\n<table border=\"1\" class=\"dataframe\">\n  <thead>\n    <tr style=\"text-align: right;\">\n      <th></th>\n      <th>pattern_generating_match</th>\n      <th>pattern_matched</th>\n      <th>piece_title</th>\n      <th>part</th>\n      <th>start_measure</th>\n      <th>start_beat</th>\n      <th>end_measure</th>\n      <th>end_beat</th>\n      <th>start_offset</th>\n      <th>end_offset</th>\n      <th>note_durations</th>\n      <th>duration_ratios</th>\n      <th>next_offset</th>\n    </tr>\n  </thead>\n  <tbody>\n    <tr>\n      <th>0</th>\n      <td>(4, 1, 2, 2, -3)</td>\n      <td>[4, 1, 2, 2, -3]</td>\n      <td>Ave Maria</td>\n      <td>[Superius]</td>\n      <td>1</td>\n      <td>1.0</td>\n      <td>4</td>\n      <td>1.0</td>\n      <td>0.0</td>\n      <td>24.0</td>\n      <td>(4.0, 8.0, 4.0, 4.0, 4.0, 8.0)</td>\n      <td>[2.0, 0.5, 1.0, 1.0, 2.0]</td>\n      <td>16.0</td>\n    </tr>\n    <tr>\n      <th>2</th>\n      <td>(4, 1, 2, 2, -3)</td>\n      <td>[4, 1, 2, 2, -3]</td>\n      <td>Ave Maria</td>\n      <td>Altus</td>\n      <td>3</td>\n      <td>1.0</td>\n      <td>6</td>\n      <td>1.0</td>\n      <td>16.0</td>\n      <td>40.0</td>\n      <td>(4.0, 8.0, 4.0, 4.0, 4.0, 8.0)</td>\n      <td>[2.0, 0.5, 1.0, 1.0, 2.0]</td>\n      <td>32.0</td>\n    </tr>\n    <tr>\n      <th>3</th>\n      <td>(4, 1, 2, 2, -3)</td>\n      <td>[4, 1, 2, 2, -3]</td>\n      <td>Ave Maria</td>\n      <td>Tenor</td>\n      <td>5</td>\n      <td>1.0</td>\n      <td>8</td>\n      <td>1.0</td>\n      <td>32.0</td>\n      <td>56.0</td>\n      <td>(4.0, 8.0, 4.0, 4.0, 4.0, 8.0)</td>\n      <td>[2.0, 0.5, 1.0, 1.0, 2.0]</td>\n      <td>48.0</td>\n    </tr>\n    <tr>\n      <th>4</th>\n      <td>(4, 1, 2, 2, -3)</td>\n      <td>[4, 1, 2, 2, -3]</td>\n      <td>Ave Maria</td>\n      <td>Bassus</td>\n      <td>7</td>\n      <td>1.0</td>\n      <td>10</td>\n      <td>1.0</td>\n      <td>48.0</td>\n      <td>72.0</td>\n      <td>(4.0, 8.0, 4.0, 4.0, 4.0, 8.0)</td>\n      <td>[2.0, 0.5, 1.0, 1.0, 2.0]</td>\n      <td>884.0</td>\n    </tr>\n    <tr>\n      <th>1</th>\n      <td>(4, 1, 2, 2, -3)</td>\n      <td>[4, 1, 2, 2, -3]</td>\n      <td>Ave Maria</td>\n      <td>[Superius]</td>\n      <td>105</td>\n      <td>3.0</td>\n      <td>107</td>\n      <td>3.5</td>\n      <td>884.0</td>\n      <td>910.0</td>\n      <td>(4.0, 8.0, 4.0, 4.0, 6.0, 2.0)</td>\n      <td>[2.0, 0.5, 1.0, 1.5, 0.3333333333333333]</td>\n      <td>NaN</td>\n    </tr>\n  </tbody>\n</table>\n</div>"
     },
     "metadata": {},
     "execution_count": 36
    }
   ],
   "source": [
    "# create column with _next_ start offset as shifted value (which in turn allows us to perform comparison)\n",
    "\n",
    "one_group[\"next_offset\"] = one_group.start_offset.shift(-1)\n",
    "one_group.head()"
   ]
  },
  {
   "cell_type": "code",
   "execution_count": 40,
   "metadata": {},
   "outputs": [
    {
     "output_type": "stream",
     "name": "stdout",
     "text": [
      "836.0\n"
     ]
    }
   ],
   "source": [
    "# get difference between start_offset and _next_ start offset\n",
    "\n",
    "offset_difference_list = (one_group.next_offset - one_group.start_offset).dropna().tolist()\n",
    "offset_difference_list\n",
    "print(offset_difference_list[-1])\n",
    "\n"
   ]
  },
  {
   "cell_type": "code",
   "execution_count": 41,
   "metadata": {},
   "outputs": [
    {
     "output_type": "execute_result",
     "data": {
      "text/plain": [
       "[16.0, 16.0, 16.0]"
      ]
     },
     "metadata": {},
     "execution_count": 41
    }
   ],
   "source": [
    "# now trim it to less than 64 total\n",
    "\n",
    "offset_difference_span = (offset_difference_list[-1] - offset_difference_list[0])\n",
    "\n",
    "if offset_difference_span > 64:\n",
    "    del offset_difference_list[-1]\n",
    "offset_difference_list"
   ]
  },
  {
   "cell_type": "code",
   "execution_count": 33,
   "metadata": {
    "tags": []
   },
   "outputs": [
    {
     "output_type": "error",
     "ename": "SyntaxError",
     "evalue": "invalid syntax (<ipython-input-33-c90b2d14fc39>, line 4)",
     "traceback": [
      "\u001b[0;36m  File \u001b[0;32m\"<ipython-input-33-c90b2d14fc39>\"\u001b[0;36m, line \u001b[0;32m4\u001b[0m\n\u001b[0;31m    while offset_difference_span = sum(list) and offset_difference_span > 64:\u001b[0m\n\u001b[0m                                 ^\u001b[0m\n\u001b[0;31mSyntaxError\u001b[0m\u001b[0;31m:\u001b[0m invalid syntax\n"
     ]
    }
   ],
   "source": [
    "# trim to 64 or less.  Passes short ones without trim\n",
    "\n",
    "list = [16.0, 16.0, 16.0, 100.0]\n",
    "while offset_difference_span = sum(list) and offset_difference_span > 64:\n",
    "# print(offset_difference_span)\n",
    "    del list[-1]\n",
    "# while offset_difference_span > 64:\n",
    "#     print('yup')\n",
    "#     del list[0]\n",
    "# else:\n",
    "#     print('ok')\n",
    "\n",
    "print(list)\n"
   ]
  },
  {
   "cell_type": "code",
   "execution_count": 43,
   "metadata": {},
   "outputs": [
    {
     "output_type": "execute_result",
     "data": {
      "text/plain": [
       "True"
      ]
     },
     "metadata": {},
     "execution_count": 43
    }
   ],
   "source": [
    "# test if all equal:  PEN\n",
    "out = all(element == offset_difference_list[0] for element in offset_difference_list)\n",
    "out"
   ]
  },
  {
   "cell_type": "code",
   "execution_count": 44,
   "metadata": {},
   "outputs": [
    {
     "output_type": "execute_result",
     "data": {
      "text/plain": [
       "False"
      ]
     },
     "metadata": {},
     "execution_count": 44
    }
   ],
   "source": [
    "# test if unequal:  Fuga\n",
    "\n",
    "out2 = all(element != offset_difference_list[0] for element in offset_difference_list)\n",
    "out2"
   ]
  },
  {
   "cell_type": "code",
   "execution_count": 45,
   "metadata": {},
   "outputs": [
    {
     "output_type": "stream",
     "name": "stdout",
     "text": [
      "odd\n"
     ]
    }
   ],
   "source": [
    "#test even or odd (for ID)\n",
    "\n",
    "if len(offset_difference_list)%2==0:\n",
    "     print('even')\n",
    "else:\n",
    "     print('odd')"
   ]
  },
  {
   "cell_type": "code",
   "execution_count": 46,
   "metadata": {},
   "outputs": [
    {
     "output_type": "stream",
     "name": "stdout",
     "text": [
      "[1.0, 1.0, 1.0, 2.0]\nnope\n"
     ]
    }
   ],
   "source": [
    "# test for equality of odd items -> ID\n",
    "list = [1.0, 3.0, 1.0, 4.0, 1.0, 4.0, 2.0, 4.0]\n",
    "alt_list = list[0::2]\n",
    "print(alt_list)\n",
    "if all(element == alt_list[0] for element in alt_list):\n",
    "    print(\"id\")\n",
    "else:\n",
    "    print(\"nope\")"
   ]
  },
  {
   "cell_type": "code",
   "execution_count": 47,
   "metadata": {},
   "outputs": [
    {
     "output_type": "stream",
     "name": "stdout",
     "text": [
      "ok\n"
     ]
    },
    {
     "output_type": "execute_result",
     "data": {
      "text/plain": [
       "[1.0, 1.0, 3.0]"
      ]
     },
     "metadata": {},
     "execution_count": 47
    }
   ],
   "source": [
    "# test list and list at 1/3/5, etc\n",
    "\n",
    "list = [1.0, 2.0, 1.0, 2.0, 3.0]\n",
    "alt_list = list[0::2]\n",
    "\n",
    "\n",
    "# check that span is less than 64 beats\n",
    "span = sum(list)\n",
    "while span > 64:\n",
    "    del list[-1] \n",
    "else:\n",
    "    print('ok')\n",
    "\n",
    "alt_list"
   ]
  },
  {
   "cell_type": "code",
   "execution_count": 251,
   "metadata": {},
   "outputs": [
    {
     "output_type": "stream",
     "name": "stdout",
     "text": [
      "Fuga\n"
     ]
    }
   ],
   "source": [
    "if any(element != list[0] for element in list):\n",
    "    print(\"Fuga\")"
   ]
  },
  {
   "cell_type": "code",
   "execution_count": 254,
   "metadata": {},
   "outputs": [
    {
     "output_type": "stream",
     "name": "stdout",
     "text": [
      "Fuga\n"
     ]
    }
   ],
   "source": [
    "if all(element == list[0] for element in list):\n",
    "    print(\"PEn\")\n",
    "if len(list)%2!=0:\n",
    "     if all(element == alt_list[0] for element in alt_list):\n",
    "        print(\"ID\")\n",
    "if any(element != list[0] for element in list):\n",
    "    print(\"Fuga\")\n",
    "else:\n",
    "    print(\"end\")\n",
    "    \n"
   ]
  },
  {
   "cell_type": "code",
   "execution_count": 65,
   "metadata": {},
   "outputs": [
    {
     "output_type": "stream",
     "name": "stdout",
     "text": [
      "ID\n"
     ]
    }
   ],
   "source": [
    "# Here is the process\n",
    "# get list of offsets for each group\n",
    "\n",
    "\n",
    "list = [16.0, 18.0, 16.0, 19.0, 16.0]\n",
    "alt_list = list[0::2]\n",
    "span = sum(list)\n",
    "while span > 164:\n",
    "    del list[-1] \n",
    "else:\n",
    "    pass\n",
    "if all(element == list[0] for element in list):\n",
    "    print(\"PEn\")\n",
    "if len(list)%2!=0:\n",
    "     if all(element == alt_list[0] for element in alt_list):\n",
    "        print(\"ID\") \n",
    "else:\n",
    "    print(\"Fuga\")\n"
   ]
  },
  {
   "cell_type": "code",
   "execution_count": null,
   "metadata": {},
   "outputs": [],
   "source": [
    "# sketch of function for diffs of offsets\n",
    "\n",
    "def offsets_as_types(offset_difference_list):\n",
    "    i = 0\n",
    "    offset_difference_span = sum(offset_difference_list)\n",
    "    size = len(offset_difference_list)\n",
    "    while offset_difference_span > 64:\n",
    "    del offset_difference_list[-1] \n",
    "    else:\n",
    "        offset_difference_span_clear = offset_difference_span\n",
    "        #print(offset_difference_span_clear)\n",
    "        continue\n",
    "    while i < len(offset_difference_list) - 2:\n",
    "        \n",
    "        elif offset_difference_list[i] == offset_difference_list[i + 1] and offset_difs[i] == offset_difs[i + 2]:\n",
    "            grouping = (offset_difs_info[i][0], offset_difs_info[i][1], offset_difs_info[i + 1][0], offset_difs_info[i + 1][1], offset_difs_info[i + 2][0], offset_difs_info[i + 2][1])\n",
    "            grouping = list(dict.fromkeys(grouping))\n",
    "            classified_obj = ClassifiedMatch(grouping, \"periodic_entry\")\n",
    "            classified_matches.append(classified_obj)\n",
    "        \n",
    "        elif offset_difs[i] == offset_difs[i + 1]:\n",
    "            grouping = (offset_difs_info[i][0], offset_difs_info[i][1], offset_difs_info[i + 1][0], offset_difs_info[i + 1][1])\n",
    "            grouping = list(dict.fromkeys(grouping))\n",
    "            classified_obj = ClassifiedMatch(grouping, \"periodic entry\")\n",
    "            classified_matches.append(classified_obj)\n",
    "        \n",
    "        elif offset_difs[i] == offset_difs[i + 2]:\n",
    "            grouping = (offset_difs_info[i][0], offset_difs_info[i][1], offset_difs_info[i + 2][0], offset_difs_info[i + 2][1])\n",
    "            grouping = list(dict.fromkeys(grouping))\n",
    "            classified_obj = ClassifiedMatch(grouping, \"imitative duo\")\n",
    "            classified_matches.append(classified_obj)\n",
    "        \n",
    "        else:\n",
    "            grouping = (offset_difs_info[i][0], offset_difs_info[i][1], offset_difs_info[i + 1][0], offset_difs_info[i + 1][1])\n",
    "            grouping = list(dict.fromkeys(grouping))\n",
    "            classified_obj = ClassifiedMatch(grouping, \"fuga\")\n",
    "            classified_matches.append(classified_obj)\n",
    "        i += 1\n",
    "    pass\n",
    "if list is this\n",
    "\n",
    "return\n",
    "elif list this that\n",
    "\n",
    "return\n",
    "\n",
    "# LOOP OVER"
   ]
  },
  {
   "cell_type": "code",
   "execution_count": 42,
   "metadata": {},
   "outputs": [
    {
     "output_type": "execute_result",
     "data": {
      "text/plain": [
       "                                                                                                            0\n",
       "pattern_generating_match note_durations                 duration_ratios                                      \n",
       "(-5, 1, 2, 1, -5)        (4.0, 8.0, 4.0, 8.0, 4.0, 8.0) (2.0, 0.5, 2.0, 0.5, 2.0)                           2\n",
       "(-3, -2, -2, -2, -2)     (2.0, 3.0, 1.0, 1.0, 1.0, 4.0) (1.5, 0.3333333333333333, 1.0, 1.0, 4.0)            1\n",
       "                         (3.0, 1.0, 1.0, 1.0, 3.0, 1.0) (0.3333333333333333, 1.0, 1.0, 3.0, 0.333333333...  1\n",
       "                         (3.0, 1.0, 2.0, 2.0, 4.0, 2.0) (0.3333333333333333, 2.0, 1.0, 2.0, 0.5)            1\n",
       "                         (3.0, 1.0, 4.0, 2.0, 4.0, 4.0) (0.3333333333333333, 4.0, 0.5, 2.0, 1.0)            1"
      ],
      "text/html": "<div>\n<style scoped>\n    .dataframe tbody tr th:only-of-type {\n        vertical-align: middle;\n    }\n\n    .dataframe tbody tr th {\n        vertical-align: top;\n    }\n\n    .dataframe thead th {\n        text-align: right;\n    }\n</style>\n<table border=\"1\" class=\"dataframe\">\n  <thead>\n    <tr style=\"text-align: right;\">\n      <th></th>\n      <th></th>\n      <th></th>\n      <th>0</th>\n    </tr>\n    <tr>\n      <th>pattern_generating_match</th>\n      <th>note_durations</th>\n      <th>duration_ratios</th>\n      <th></th>\n    </tr>\n  </thead>\n  <tbody>\n    <tr>\n      <th>(-5, 1, 2, 1, -5)</th>\n      <th>(4.0, 8.0, 4.0, 8.0, 4.0, 8.0)</th>\n      <th>(2.0, 0.5, 2.0, 0.5, 2.0)</th>\n      <td>2</td>\n    </tr>\n    <tr>\n      <th rowspan=\"4\" valign=\"top\">(-3, -2, -2, -2, -2)</th>\n      <th>(2.0, 3.0, 1.0, 1.0, 1.0, 4.0)</th>\n      <th>(1.5, 0.3333333333333333, 1.0, 1.0, 4.0)</th>\n      <td>1</td>\n    </tr>\n    <tr>\n      <th>(3.0, 1.0, 1.0, 1.0, 3.0, 1.0)</th>\n      <th>(0.3333333333333333, 1.0, 1.0, 3.0, 0.3333333333333333)</th>\n      <td>1</td>\n    </tr>\n    <tr>\n      <th>(3.0, 1.0, 2.0, 2.0, 4.0, 2.0)</th>\n      <th>(0.3333333333333333, 2.0, 1.0, 2.0, 0.5)</th>\n      <td>1</td>\n    </tr>\n    <tr>\n      <th>(3.0, 1.0, 4.0, 2.0, 4.0, 4.0)</th>\n      <th>(0.3333333333333333, 4.0, 0.5, 2.0, 1.0)</th>\n      <td>1</td>\n    </tr>\n  </tbody>\n</table>\n</div>"
     },
     "metadata": {},
     "execution_count": 42
    }
   ],
   "source": [
    "results[\"duration_ratios\"] = results[\"duration_ratios\"].apply(tuple)\n",
    "results[\"note_durations\"] = results[\"note_durations\"].apply(tuple)\n",
    "df3 = pd.DataFrame(results.groupby([\"pattern_generating_match\", \"note_durations\", \"duration_ratios\"]).size())\n",
    "df3.head()"
   ]
  },
  {
   "cell_type": "code",
   "execution_count": 1,
   "metadata": {},
   "outputs": [],
   "source": [
    "def sum_durs(results, pattern_col, output_cols):\n",
    "    \n",
    "    sum_durs = []\n",
    "    li = results[\"note_durations\"]\n",
    "\n",
    "    for name, group in results.groupby(pattern_col):\n",
    "\n",
    "        sum_durs = ([sum(i) for i in li])\n",
    "        sum_durs.append(sum_durs)\n",
    "            \n",
    "    return pd.DataFrame(sum_durs)"
   ]
  },
  {
   "cell_type": "code",
   "execution_count": 2,
   "metadata": {},
   "outputs": [],
   "source": [
    "def sum_durs_2(results, pattern_col, output_cols):\n",
    "    \n",
    "    sum_durs = []\n",
    "    #this is getting all groups\n",
    "    # then iterate over them and pass through the process we work out below\n",
    "    for name, group in results.groupby(pattern_col):\n",
    "\n",
    "        sum_durs = ([sum(i) for i in group.note_durations])\n",
    "        sum_durs.append(sum_durs)\n",
    "            \n",
    "    return pd.DataFrame(sum_durs)"
   ]
  },
  {
   "cell_type": "code",
   "execution_count": 90,
   "metadata": {},
   "outputs": [],
   "source": [
    "def offset_diffs(results, pattern_col, output_cols):\n",
    "    \n",
    "    offset_diffs = []\n",
    "    od = results[\"start_offset\"]\n",
    " \n",
    "    for name, group in results.groupby(pattern_col):\n",
    "\n",
    "        offset_diffs = [od[i + 1] - od[i] for i in range(len(od)-1)]\n",
    "        offset_diffs.append(offset_diffs)\n",
    "            \n",
    "    return pd.DataFrame(offset_diffs)"
   ]
  },
  {
   "cell_type": "code",
   "execution_count": 159,
   "metadata": {},
   "outputs": [
    {
     "output_type": "execute_result",
     "data": {
      "text/plain": [
       "     pattern_generating_match      pattern_matched piece_title        part  \\\n",
       "0            (4, 1, 2, 2, -3)     (4, 1, 2, 2, -3)   Ave Maria  [Superius]   \n",
       "2            (4, 1, 2, 2, -3)     (4, 1, 2, 2, -3)   Ave Maria       Altus   \n",
       "3            (4, 1, 2, 2, -3)     (4, 1, 2, 2, -3)   Ave Maria       Tenor   \n",
       "4            (4, 1, 2, 2, -3)     (4, 1, 2, 2, -3)   Ave Maria      Bassus   \n",
       "5         (-2, -2, -2, 2, -2)  (-2, -2, -2, 2, -2)   Ave Maria  [Superius]   \n",
       "...                       ...                  ...         ...         ...   \n",
       "276         (2, -2, 2, 2, -2)    (1, -2, 2, 2, -2)   Ave Maria       Tenor   \n",
       "817         (-2, 2, 3, -2, 1)    (-2, 2, 2, -2, 1)   Ave Maria       Tenor   \n",
       "1002        (-2, 2, 2, -2, 1)    (-2, 2, 2, -2, 1)   Ave Maria       Tenor   \n",
       "1070        (-2, 2, 2, -2, 2)    (-2, 2, 2, -2, 1)   Ave Maria       Tenor   \n",
       "752         (-2, 2, 2, -3, 1)    (-2, 2, 2, -2, 1)   Ave Maria       Tenor   \n",
       "\n",
       "      start_measure  start_beat  end_measure  end_beat  start_offset  \\\n",
       "0                 1         1.0            4       1.0           0.0   \n",
       "2                 3         1.0            6       1.0          16.0   \n",
       "3                 5         1.0            8       1.0          32.0   \n",
       "4                 7         1.0           10       1.0          48.0   \n",
       "5                 8         1.0           10       2.0          56.0   \n",
       "...             ...         ...          ...       ...           ...   \n",
       "276             147         3.0          151       5.0        1236.0   \n",
       "817             148         1.0          152       5.0        1240.0   \n",
       "1002            148         1.0          152       5.0        1240.0   \n",
       "1070            148         1.0          152       5.0        1240.0   \n",
       "752             148         1.0          152       5.0        1240.0   \n",
       "\n",
       "      end_offset                     note_durations  \\\n",
       "0           24.0     (4.0, 8.0, 4.0, 4.0, 4.0, 8.0)   \n",
       "2           40.0     (4.0, 8.0, 4.0, 4.0, 4.0, 8.0)   \n",
       "3           56.0     (4.0, 8.0, 4.0, 4.0, 4.0, 8.0)   \n",
       "4           72.0     (4.0, 8.0, 4.0, 4.0, 4.0, 8.0)   \n",
       "5           74.0     (6.0, 2.0, 4.0, 4.0, 2.0, 2.0)   \n",
       "...          ...                                ...   \n",
       "276       1272.0   (4.0, 4.0, 4.0, 8.0, 16.0, 16.0)   \n",
       "817       1288.0  (4.0, 4.0, 8.0, 16.0, 16.0, 16.0)   \n",
       "1002      1288.0  (4.0, 4.0, 8.0, 16.0, 16.0, 16.0)   \n",
       "1070      1288.0  (4.0, 4.0, 8.0, 16.0, 16.0, 16.0)   \n",
       "752       1288.0  (4.0, 4.0, 8.0, 16.0, 16.0, 16.0)   \n",
       "\n",
       "                                                    ema  \\\n",
       "0       1-4/1/@1.0-end,@start-end,@start-end,@start-1.0   \n",
       "2       3-6/2/@1.0-end,@start-end,@start-end,@start-1.0   \n",
       "3       5-8/3/@1.0-end,@start-end,@start-end,@start-1.0   \n",
       "4      7-10/4/@1.0-end,@start-end,@start-end,@start-1.0   \n",
       "5                 8-10/1/@1.0-end,@start-end,@start-2.0   \n",
       "...                                                 ...   \n",
       "276   147-151/3/@3.0-end,@start-end,@start-end,@star...   \n",
       "817   148-152/3/@1.0-end,@start-end,@start-end,@star...   \n",
       "1002  148-152/3/@1.0-end,@start-end,@start-end,@star...   \n",
       "1070  148-152/3/@1.0-end,@start-end,@start-end,@star...   \n",
       "752   148-152/3/@1.0-end,@start-end,@start-end,@star...   \n",
       "\n",
       "                                                ema_url  \\\n",
       "0     https://ema.crimproject.org/https%3A%2F%2Fcrim...   \n",
       "2     https://ema.crimproject.org/https%3A%2F%2Fcrim...   \n",
       "3     https://ema.crimproject.org/https%3A%2F%2Fcrim...   \n",
       "4     https://ema.crimproject.org/https%3A%2F%2Fcrim...   \n",
       "5     https://ema.crimproject.org/https%3A%2F%2Fcrim...   \n",
       "...                                                 ...   \n",
       "276   https://ema.crimproject.org/https%3A%2F%2Fcrim...   \n",
       "817   https://ema.crimproject.org/https%3A%2F%2Fcrim...   \n",
       "1002  https://ema.crimproject.org/https%3A%2F%2Fcrim...   \n",
       "1070  https://ema.crimproject.org/https%3A%2F%2Fcrim...   \n",
       "752   https://ema.crimproject.org/https%3A%2F%2Fcrim...   \n",
       "\n",
       "                               duration_ratios  \n",
       "0                    (2.0, 0.5, 1.0, 1.0, 2.0)  \n",
       "2                    (2.0, 0.5, 1.0, 1.0, 2.0)  \n",
       "3                    (2.0, 0.5, 1.0, 1.0, 2.0)  \n",
       "4                    (2.0, 0.5, 1.0, 1.0, 2.0)  \n",
       "5     (0.3333333333333333, 2.0, 1.0, 0.5, 1.0)  \n",
       "...                                        ...  \n",
       "276                  (1.0, 1.0, 2.0, 2.0, 1.0)  \n",
       "817                  (1.0, 2.0, 2.0, 1.0, 1.0)  \n",
       "1002                 (1.0, 2.0, 2.0, 1.0, 1.0)  \n",
       "1070                 (1.0, 2.0, 2.0, 1.0, 1.0)  \n",
       "752                  (1.0, 2.0, 2.0, 1.0, 1.0)  \n",
       "\n",
       "[1096 rows x 14 columns]"
      ],
      "text/html": "<div>\n<style scoped>\n    .dataframe tbody tr th:only-of-type {\n        vertical-align: middle;\n    }\n\n    .dataframe tbody tr th {\n        vertical-align: top;\n    }\n\n    .dataframe thead th {\n        text-align: right;\n    }\n</style>\n<table border=\"1\" class=\"dataframe\">\n  <thead>\n    <tr style=\"text-align: right;\">\n      <th></th>\n      <th>pattern_generating_match</th>\n      <th>pattern_matched</th>\n      <th>piece_title</th>\n      <th>part</th>\n      <th>start_measure</th>\n      <th>start_beat</th>\n      <th>end_measure</th>\n      <th>end_beat</th>\n      <th>start_offset</th>\n      <th>end_offset</th>\n      <th>note_durations</th>\n      <th>ema</th>\n      <th>ema_url</th>\n      <th>duration_ratios</th>\n    </tr>\n  </thead>\n  <tbody>\n    <tr>\n      <th>0</th>\n      <td>(4, 1, 2, 2, -3)</td>\n      <td>(4, 1, 2, 2, -3)</td>\n      <td>Ave Maria</td>\n      <td>[Superius]</td>\n      <td>1</td>\n      <td>1.0</td>\n      <td>4</td>\n      <td>1.0</td>\n      <td>0.0</td>\n      <td>24.0</td>\n      <td>(4.0, 8.0, 4.0, 4.0, 4.0, 8.0)</td>\n      <td>1-4/1/@1.0-end,@start-end,@start-end,@start-1.0</td>\n      <td>https://ema.crimproject.org/https%3A%2F%2Fcrim...</td>\n      <td>(2.0, 0.5, 1.0, 1.0, 2.0)</td>\n    </tr>\n    <tr>\n      <th>2</th>\n      <td>(4, 1, 2, 2, -3)</td>\n      <td>(4, 1, 2, 2, -3)</td>\n      <td>Ave Maria</td>\n      <td>Altus</td>\n      <td>3</td>\n      <td>1.0</td>\n      <td>6</td>\n      <td>1.0</td>\n      <td>16.0</td>\n      <td>40.0</td>\n      <td>(4.0, 8.0, 4.0, 4.0, 4.0, 8.0)</td>\n      <td>3-6/2/@1.0-end,@start-end,@start-end,@start-1.0</td>\n      <td>https://ema.crimproject.org/https%3A%2F%2Fcrim...</td>\n      <td>(2.0, 0.5, 1.0, 1.0, 2.0)</td>\n    </tr>\n    <tr>\n      <th>3</th>\n      <td>(4, 1, 2, 2, -3)</td>\n      <td>(4, 1, 2, 2, -3)</td>\n      <td>Ave Maria</td>\n      <td>Tenor</td>\n      <td>5</td>\n      <td>1.0</td>\n      <td>8</td>\n      <td>1.0</td>\n      <td>32.0</td>\n      <td>56.0</td>\n      <td>(4.0, 8.0, 4.0, 4.0, 4.0, 8.0)</td>\n      <td>5-8/3/@1.0-end,@start-end,@start-end,@start-1.0</td>\n      <td>https://ema.crimproject.org/https%3A%2F%2Fcrim...</td>\n      <td>(2.0, 0.5, 1.0, 1.0, 2.0)</td>\n    </tr>\n    <tr>\n      <th>4</th>\n      <td>(4, 1, 2, 2, -3)</td>\n      <td>(4, 1, 2, 2, -3)</td>\n      <td>Ave Maria</td>\n      <td>Bassus</td>\n      <td>7</td>\n      <td>1.0</td>\n      <td>10</td>\n      <td>1.0</td>\n      <td>48.0</td>\n      <td>72.0</td>\n      <td>(4.0, 8.0, 4.0, 4.0, 4.0, 8.0)</td>\n      <td>7-10/4/@1.0-end,@start-end,@start-end,@start-1.0</td>\n      <td>https://ema.crimproject.org/https%3A%2F%2Fcrim...</td>\n      <td>(2.0, 0.5, 1.0, 1.0, 2.0)</td>\n    </tr>\n    <tr>\n      <th>5</th>\n      <td>(-2, -2, -2, 2, -2)</td>\n      <td>(-2, -2, -2, 2, -2)</td>\n      <td>Ave Maria</td>\n      <td>[Superius]</td>\n      <td>8</td>\n      <td>1.0</td>\n      <td>10</td>\n      <td>2.0</td>\n      <td>56.0</td>\n      <td>74.0</td>\n      <td>(6.0, 2.0, 4.0, 4.0, 2.0, 2.0)</td>\n      <td>8-10/1/@1.0-end,@start-end,@start-2.0</td>\n      <td>https://ema.crimproject.org/https%3A%2F%2Fcrim...</td>\n      <td>(0.3333333333333333, 2.0, 1.0, 0.5, 1.0)</td>\n    </tr>\n    <tr>\n      <th>...</th>\n      <td>...</td>\n      <td>...</td>\n      <td>...</td>\n      <td>...</td>\n      <td>...</td>\n      <td>...</td>\n      <td>...</td>\n      <td>...</td>\n      <td>...</td>\n      <td>...</td>\n      <td>...</td>\n      <td>...</td>\n      <td>...</td>\n      <td>...</td>\n    </tr>\n    <tr>\n      <th>276</th>\n      <td>(2, -2, 2, 2, -2)</td>\n      <td>(1, -2, 2, 2, -2)</td>\n      <td>Ave Maria</td>\n      <td>Tenor</td>\n      <td>147</td>\n      <td>3.0</td>\n      <td>151</td>\n      <td>5.0</td>\n      <td>1236.0</td>\n      <td>1272.0</td>\n      <td>(4.0, 4.0, 4.0, 8.0, 16.0, 16.0)</td>\n      <td>147-151/3/@3.0-end,@start-end,@start-end,@star...</td>\n      <td>https://ema.crimproject.org/https%3A%2F%2Fcrim...</td>\n      <td>(1.0, 1.0, 2.0, 2.0, 1.0)</td>\n    </tr>\n    <tr>\n      <th>817</th>\n      <td>(-2, 2, 3, -2, 1)</td>\n      <td>(-2, 2, 2, -2, 1)</td>\n      <td>Ave Maria</td>\n      <td>Tenor</td>\n      <td>148</td>\n      <td>1.0</td>\n      <td>152</td>\n      <td>5.0</td>\n      <td>1240.0</td>\n      <td>1288.0</td>\n      <td>(4.0, 4.0, 8.0, 16.0, 16.0, 16.0)</td>\n      <td>148-152/3/@1.0-end,@start-end,@start-end,@star...</td>\n      <td>https://ema.crimproject.org/https%3A%2F%2Fcrim...</td>\n      <td>(1.0, 2.0, 2.0, 1.0, 1.0)</td>\n    </tr>\n    <tr>\n      <th>1002</th>\n      <td>(-2, 2, 2, -2, 1)</td>\n      <td>(-2, 2, 2, -2, 1)</td>\n      <td>Ave Maria</td>\n      <td>Tenor</td>\n      <td>148</td>\n      <td>1.0</td>\n      <td>152</td>\n      <td>5.0</td>\n      <td>1240.0</td>\n      <td>1288.0</td>\n      <td>(4.0, 4.0, 8.0, 16.0, 16.0, 16.0)</td>\n      <td>148-152/3/@1.0-end,@start-end,@start-end,@star...</td>\n      <td>https://ema.crimproject.org/https%3A%2F%2Fcrim...</td>\n      <td>(1.0, 2.0, 2.0, 1.0, 1.0)</td>\n    </tr>\n    <tr>\n      <th>1070</th>\n      <td>(-2, 2, 2, -2, 2)</td>\n      <td>(-2, 2, 2, -2, 1)</td>\n      <td>Ave Maria</td>\n      <td>Tenor</td>\n      <td>148</td>\n      <td>1.0</td>\n      <td>152</td>\n      <td>5.0</td>\n      <td>1240.0</td>\n      <td>1288.0</td>\n      <td>(4.0, 4.0, 8.0, 16.0, 16.0, 16.0)</td>\n      <td>148-152/3/@1.0-end,@start-end,@start-end,@star...</td>\n      <td>https://ema.crimproject.org/https%3A%2F%2Fcrim...</td>\n      <td>(1.0, 2.0, 2.0, 1.0, 1.0)</td>\n    </tr>\n    <tr>\n      <th>752</th>\n      <td>(-2, 2, 2, -3, 1)</td>\n      <td>(-2, 2, 2, -2, 1)</td>\n      <td>Ave Maria</td>\n      <td>Tenor</td>\n      <td>148</td>\n      <td>1.0</td>\n      <td>152</td>\n      <td>5.0</td>\n      <td>1240.0</td>\n      <td>1288.0</td>\n      <td>(4.0, 4.0, 8.0, 16.0, 16.0, 16.0)</td>\n      <td>148-152/3/@1.0-end,@start-end,@start-end,@star...</td>\n      <td>https://ema.crimproject.org/https%3A%2F%2Fcrim...</td>\n      <td>(1.0, 2.0, 2.0, 1.0, 1.0)</td>\n    </tr>\n  </tbody>\n</table>\n<p>1096 rows × 14 columns</p>\n</div>"
     },
     "metadata": {},
     "execution_count": 159
    }
   ],
   "source": [
    "results[\"duration_ratios\"] = results[\"duration_ratios\"].apply(tuple)\n",
    "results[\"note_durations\"] = results[\"note_durations\"].apply(tuple)\n",
    "results[\"duration_ratios\"] = results[\"duration_ratios\"].apply(tuple)\n",
    "results[\"pattern_matched\"] = results[\"pattern_matched\"].apply(tuple)\n",
    "results[\"pattern_generating_match\"] = results[\"pattern_generating_match\"].apply(tuple)\n",
    "# results.groupby([\"pattern_matched\"]).sort_values([\"start_offset\"], ascending = False).reset_index(drop=True)\n",
    "\n",
    "results = results.sort_values(\"start_offset\")\n",
    "results\n",
    "\n",
    "\n",
    "# results[\"offset_diffs\"] = offset_diffs(results, \"pattern_generating_match\", \"offset_diffs\")\n",
    "# results2 = results[[\"pattern_matched\", \"part\", \"start_offset\", \"duration_ratios\", \"offset_diffs\"]]\n",
    "# results2\n"
   ]
  },
  {
   "source": [
    "results[\"duration_ratios\"] = results[\"duration_ratios\"].apply(tuple)\n",
    "results[\"note_durations\"] = results[\"note_durations\"].apply(tuple)\n",
    "results[\"duration_ratios\"] = results[\"duration_ratios\"].apply(tuple)\n",
    "results[\"pattern_matched\"] = results[\"pattern_matched\"].apply(tuple)\n",
    "\n",
    "sum_durs_2(results, \"pattern_generating_match\", \"sum_durations\")\n",
    "results[\"sum_of_durations\"] = sum_durs_2(results, \"pattern_generating_match\", \"sum_durations\")\n",
    "# results2 = results[[\"pattern_matched\", \"part\", \"start_offset\", \"sum_of_durations\", \"duration_ratios\"]]\n",
    "results.head()\n",
    "\n",
    "# results2 = pd.DataFrame(results2.groupby([\"pattern_matched\", \"sum_of_durations\", \"duration_ratios\"]).size())\n",
    "# results2\n"
   ],
   "cell_type": "code",
   "metadata": {},
   "execution_count": 84,
   "outputs": [
    {
     "output_type": "execute_result",
     "data": {
      "text/plain": [
       "  pattern_generating_match      pattern_matched piece_title        part  \\\n",
       "0         (4, 1, 2, 2, -3)     (4, 1, 2, 2, -3)   Ave Maria  [Superius]   \n",
       "2         (4, 1, 2, 2, -3)     (4, 1, 2, 2, -3)   Ave Maria       Altus   \n",
       "3         (4, 1, 2, 2, -3)     (4, 1, 2, 2, -3)   Ave Maria       Tenor   \n",
       "4         (4, 1, 2, 2, -3)     (4, 1, 2, 2, -3)   Ave Maria      Bassus   \n",
       "5      (-2, -2, -2, 2, -2)  (-2, -2, -2, 2, -2)   Ave Maria  [Superius]   \n",
       "\n",
       "   start_measure  start_beat  end_measure  end_beat  start_offset  end_offset  \\\n",
       "0              1         1.0            4       1.0           0.0        24.0   \n",
       "2              3         1.0            6       1.0          16.0        40.0   \n",
       "3              5         1.0            8       1.0          32.0        56.0   \n",
       "4              7         1.0           10       1.0          48.0        72.0   \n",
       "5              8         1.0           10       2.0          56.0        74.0   \n",
       "\n",
       "                   note_durations  \\\n",
       "0  (4.0, 8.0, 4.0, 4.0, 4.0, 8.0)   \n",
       "2  (4.0, 8.0, 4.0, 4.0, 4.0, 8.0)   \n",
       "3  (4.0, 8.0, 4.0, 4.0, 4.0, 8.0)   \n",
       "4  (4.0, 8.0, 4.0, 4.0, 4.0, 8.0)   \n",
       "5  (6.0, 2.0, 4.0, 4.0, 2.0, 2.0)   \n",
       "\n",
       "                                                ema  \\\n",
       "0   1-4/1/@1.0-end,@start-end,@start-end,@start-1.0   \n",
       "2   3-6/2/@1.0-end,@start-end,@start-end,@start-1.0   \n",
       "3   5-8/3/@1.0-end,@start-end,@start-end,@start-1.0   \n",
       "4  7-10/4/@1.0-end,@start-end,@start-end,@start-1.0   \n",
       "5             8-10/1/@1.0-end,@start-end,@start-2.0   \n",
       "\n",
       "                                             ema_url offset_diffs  \\\n",
       "0  https://ema.crimproject.org/https%3A%2F%2Fcrim...          884   \n",
       "2  https://ema.crimproject.org/https%3A%2F%2Fcrim...           16   \n",
       "3  https://ema.crimproject.org/https%3A%2F%2Fcrim...           16   \n",
       "4  https://ema.crimproject.org/https%3A%2F%2Fcrim...            8   \n",
       "5  https://ema.crimproject.org/https%3A%2F%2Fcrim...           16   \n",
       "\n",
       "                            duration_ratios  \\\n",
       "0                 (2.0, 0.5, 1.0, 1.0, 2.0)   \n",
       "2                 (2.0, 0.5, 1.0, 1.0, 2.0)   \n",
       "3                 (2.0, 0.5, 1.0, 1.0, 2.0)   \n",
       "4                 (2.0, 0.5, 1.0, 1.0, 2.0)   \n",
       "5  (0.3333333333333333, 2.0, 1.0, 0.5, 1.0)   \n",
       "\n",
       "                                    sum_of_durations  \n",
       "0                                                 13  \n",
       "2  [13.0, 22.0, [13.0, 22.0, [13.0, 22.0, [13.0, ...  \n",
       "3                                                NaN  \n",
       "4                                                NaN  \n",
       "5                                                NaN  "
      ],
      "text/html": "<div>\n<style scoped>\n    .dataframe tbody tr th:only-of-type {\n        vertical-align: middle;\n    }\n\n    .dataframe tbody tr th {\n        vertical-align: top;\n    }\n\n    .dataframe thead th {\n        text-align: right;\n    }\n</style>\n<table border=\"1\" class=\"dataframe\">\n  <thead>\n    <tr style=\"text-align: right;\">\n      <th></th>\n      <th>pattern_generating_match</th>\n      <th>pattern_matched</th>\n      <th>piece_title</th>\n      <th>part</th>\n      <th>start_measure</th>\n      <th>start_beat</th>\n      <th>end_measure</th>\n      <th>end_beat</th>\n      <th>start_offset</th>\n      <th>end_offset</th>\n      <th>note_durations</th>\n      <th>ema</th>\n      <th>ema_url</th>\n      <th>offset_diffs</th>\n      <th>duration_ratios</th>\n      <th>sum_of_durations</th>\n    </tr>\n  </thead>\n  <tbody>\n    <tr>\n      <th>0</th>\n      <td>(4, 1, 2, 2, -3)</td>\n      <td>(4, 1, 2, 2, -3)</td>\n      <td>Ave Maria</td>\n      <td>[Superius]</td>\n      <td>1</td>\n      <td>1.0</td>\n      <td>4</td>\n      <td>1.0</td>\n      <td>0.0</td>\n      <td>24.0</td>\n      <td>(4.0, 8.0, 4.0, 4.0, 4.0, 8.0)</td>\n      <td>1-4/1/@1.0-end,@start-end,@start-end,@start-1.0</td>\n      <td>https://ema.crimproject.org/https%3A%2F%2Fcrim...</td>\n      <td>884</td>\n      <td>(2.0, 0.5, 1.0, 1.0, 2.0)</td>\n      <td>13</td>\n    </tr>\n    <tr>\n      <th>2</th>\n      <td>(4, 1, 2, 2, -3)</td>\n      <td>(4, 1, 2, 2, -3)</td>\n      <td>Ave Maria</td>\n      <td>Altus</td>\n      <td>3</td>\n      <td>1.0</td>\n      <td>6</td>\n      <td>1.0</td>\n      <td>16.0</td>\n      <td>40.0</td>\n      <td>(4.0, 8.0, 4.0, 4.0, 4.0, 8.0)</td>\n      <td>3-6/2/@1.0-end,@start-end,@start-end,@start-1.0</td>\n      <td>https://ema.crimproject.org/https%3A%2F%2Fcrim...</td>\n      <td>16</td>\n      <td>(2.0, 0.5, 1.0, 1.0, 2.0)</td>\n      <td>[13.0, 22.0, [13.0, 22.0, [13.0, 22.0, [13.0, ...</td>\n    </tr>\n    <tr>\n      <th>3</th>\n      <td>(4, 1, 2, 2, -3)</td>\n      <td>(4, 1, 2, 2, -3)</td>\n      <td>Ave Maria</td>\n      <td>Tenor</td>\n      <td>5</td>\n      <td>1.0</td>\n      <td>8</td>\n      <td>1.0</td>\n      <td>32.0</td>\n      <td>56.0</td>\n      <td>(4.0, 8.0, 4.0, 4.0, 4.0, 8.0)</td>\n      <td>5-8/3/@1.0-end,@start-end,@start-end,@start-1.0</td>\n      <td>https://ema.crimproject.org/https%3A%2F%2Fcrim...</td>\n      <td>16</td>\n      <td>(2.0, 0.5, 1.0, 1.0, 2.0)</td>\n      <td>NaN</td>\n    </tr>\n    <tr>\n      <th>4</th>\n      <td>(4, 1, 2, 2, -3)</td>\n      <td>(4, 1, 2, 2, -3)</td>\n      <td>Ave Maria</td>\n      <td>Bassus</td>\n      <td>7</td>\n      <td>1.0</td>\n      <td>10</td>\n      <td>1.0</td>\n      <td>48.0</td>\n      <td>72.0</td>\n      <td>(4.0, 8.0, 4.0, 4.0, 4.0, 8.0)</td>\n      <td>7-10/4/@1.0-end,@start-end,@start-end,@start-1.0</td>\n      <td>https://ema.crimproject.org/https%3A%2F%2Fcrim...</td>\n      <td>8</td>\n      <td>(2.0, 0.5, 1.0, 1.0, 2.0)</td>\n      <td>NaN</td>\n    </tr>\n    <tr>\n      <th>5</th>\n      <td>(-2, -2, -2, 2, -2)</td>\n      <td>(-2, -2, -2, 2, -2)</td>\n      <td>Ave Maria</td>\n      <td>[Superius]</td>\n      <td>8</td>\n      <td>1.0</td>\n      <td>10</td>\n      <td>2.0</td>\n      <td>56.0</td>\n      <td>74.0</td>\n      <td>(6.0, 2.0, 4.0, 4.0, 2.0, 2.0)</td>\n      <td>8-10/1/@1.0-end,@start-end,@start-2.0</td>\n      <td>https://ema.crimproject.org/https%3A%2F%2Fcrim...</td>\n      <td>16</td>\n      <td>(0.3333333333333333, 2.0, 1.0, 0.5, 1.0)</td>\n      <td>NaN</td>\n    </tr>\n  </tbody>\n</table>\n</div>"
     },
     "metadata": {},
     "execution_count": 84
    }
   ]
  },
  {
   "cell_type": "markdown",
   "metadata": {},
   "source": [
    "## Group by the Pattern Generating Match\n",
    "- Each has its own string of durations, and duration ratios\n",
    "- and then we compare the ratios to get the differences\n",
    "- the \"list(combinations)\" method takes care of building the pairs, using data from our dataframe 'results'"
   ]
  },
  {
   "cell_type": "code",
   "execution_count": 80,
   "metadata": {},
   "outputs": [],
   "source": [
    "def compare_ratios(ratios_1, ratios_2):\n",
    "    \n",
    "    ## division of lists \n",
    "    # using zip() + list comprehension \n",
    "    diffs = [i - j for i, j in zip(ratios_1, ratios_2)] \n",
    "    abs_diffs = [abs(ele) for ele in diffs] \n",
    "    sum_diffs = sum(abs_diffs)\n",
    "\n",
    "    return sum_diffs\n",
    "\n",
    "#results[\"Pattern_Generating_Match\"] = results[\"Pattern_Generating_Match\"].apply(tuple) \n",
    "\n",
    "def get_ratio_distances(results, pattern_col, output_cols):\n",
    "    \n",
    "    matches = []\n",
    "\n",
    "    for name, group in results.groupby(pattern_col):\n",
    "\n",
    "        ratio_pairs = list(combinations(group.index.values, 2))\n",
    "\n",
    "        for a, b in ratio_pairs:\n",
    "            \n",
    "            a_match = results.loc[a]\n",
    "            b_match = results.loc[b]\n",
    "            \n",
    "            sum_diffs = compare_ratios(a_match.duration_ratios, b_match.duration_ratios)\n",
    "            \n",
    "            match_dict = {\n",
    "                \"pattern\": name,\n",
    "                \"sum_diffs\": sum_diffs\n",
    "            }\n",
    "            \n",
    "            for col in output_cols:\n",
    "                match_dict.update({\n",
    "                    f\"match_1_{col}\": a_match[col],\n",
    "                    f\"match_2_{col}\": b_match[col]\n",
    "                })\n",
    "                \n",
    "            matches.append(match_dict)\n",
    "            \n",
    "    return pd.DataFrame(matches)"
   ]
  },
  {
   "cell_type": "markdown",
   "metadata": {},
   "source": [
    "### Now Run the Function to get the 'edit distances' for the durations of matching patterns"
   ]
  },
  {
   "cell_type": "code",
   "execution_count": 83,
   "metadata": {},
   "outputs": [
    {
     "output_type": "execute_result",
     "data": {
      "text/plain": [
       "                pattern  sum_diffs match_1_piece_title match_2_piece_title  \\\n",
       "0    (-3, 2, -3, 2, -2)   0.000000           Ave Maria           Ave Maria   \n",
       "1    (-3, 2, -3, 2, -2)   0.000000           Ave Maria           Ave Maria   \n",
       "2    (-3, 2, -3, 2, -2)   0.000000           Ave Maria           Ave Maria   \n",
       "3    (-3, 2, -3, 2, -2)   0.000000           Ave Maria           Ave Maria   \n",
       "4    (-3, 2, -3, 2, -2)   0.000000           Ave Maria           Ave Maria   \n",
       "..                  ...        ...                 ...                 ...   \n",
       "558    (4, 1, 2, 2, -3)   2.166667           Ave Maria           Ave Maria   \n",
       "559    (4, 1, 2, 2, -3)   2.166667           Ave Maria           Ave Maria   \n",
       "560    (4, 1, 2, 2, -3)   0.000000           Ave Maria           Ave Maria   \n",
       "561    (4, 1, 2, 2, -3)   0.000000           Ave Maria           Ave Maria   \n",
       "562    (4, 1, 2, 2, -3)   0.000000           Ave Maria           Ave Maria   \n",
       "\n",
       "    match_1_part match_2_part  match_1_start_measure  match_2_start_measure  \\\n",
       "0     [Superius]        Altus                     65                     67   \n",
       "1     [Superius]        Tenor                     65                     68   \n",
       "2     [Superius]       Bassus                     65                     70   \n",
       "3          Altus        Tenor                     67                     68   \n",
       "4          Altus       Bassus                     67                     70   \n",
       "..           ...          ...                    ...                    ...   \n",
       "558   [Superius]        Tenor                    105                      5   \n",
       "559   [Superius]       Bassus                    105                      7   \n",
       "560        Altus        Tenor                      3                      5   \n",
       "561        Altus       Bassus                      3                      7   \n",
       "562        Tenor       Bassus                      5                      7   \n",
       "\n",
       "     match_1_start_offset  match_2_start_offset  \n",
       "0                   512.0                 528.0  \n",
       "1                   512.0                 536.0  \n",
       "2                   512.0                 552.0  \n",
       "3                   528.0                 536.0  \n",
       "4                   528.0                 552.0  \n",
       "..                    ...                   ...  \n",
       "558                 884.0                  32.0  \n",
       "559                 884.0                  48.0  \n",
       "560                  16.0                  32.0  \n",
       "561                  16.0                  48.0  \n",
       "562                  32.0                  48.0  \n",
       "\n",
       "[563 rows x 10 columns]"
      ],
      "text/html": "<div>\n<style scoped>\n    .dataframe tbody tr th:only-of-type {\n        vertical-align: middle;\n    }\n\n    .dataframe tbody tr th {\n        vertical-align: top;\n    }\n\n    .dataframe thead th {\n        text-align: right;\n    }\n</style>\n<table border=\"1\" class=\"dataframe\">\n  <thead>\n    <tr style=\"text-align: right;\">\n      <th></th>\n      <th>pattern</th>\n      <th>sum_diffs</th>\n      <th>match_1_piece_title</th>\n      <th>match_2_piece_title</th>\n      <th>match_1_part</th>\n      <th>match_2_part</th>\n      <th>match_1_start_measure</th>\n      <th>match_2_start_measure</th>\n      <th>match_1_start_offset</th>\n      <th>match_2_start_offset</th>\n    </tr>\n  </thead>\n  <tbody>\n    <tr>\n      <th>0</th>\n      <td>(-3, 2, -3, 2, -2)</td>\n      <td>0.000000</td>\n      <td>Ave Maria</td>\n      <td>Ave Maria</td>\n      <td>[Superius]</td>\n      <td>Altus</td>\n      <td>65</td>\n      <td>67</td>\n      <td>512.0</td>\n      <td>528.0</td>\n    </tr>\n    <tr>\n      <th>1</th>\n      <td>(-3, 2, -3, 2, -2)</td>\n      <td>0.000000</td>\n      <td>Ave Maria</td>\n      <td>Ave Maria</td>\n      <td>[Superius]</td>\n      <td>Tenor</td>\n      <td>65</td>\n      <td>68</td>\n      <td>512.0</td>\n      <td>536.0</td>\n    </tr>\n    <tr>\n      <th>2</th>\n      <td>(-3, 2, -3, 2, -2)</td>\n      <td>0.000000</td>\n      <td>Ave Maria</td>\n      <td>Ave Maria</td>\n      <td>[Superius]</td>\n      <td>Bassus</td>\n      <td>65</td>\n      <td>70</td>\n      <td>512.0</td>\n      <td>552.0</td>\n    </tr>\n    <tr>\n      <th>3</th>\n      <td>(-3, 2, -3, 2, -2)</td>\n      <td>0.000000</td>\n      <td>Ave Maria</td>\n      <td>Ave Maria</td>\n      <td>Altus</td>\n      <td>Tenor</td>\n      <td>67</td>\n      <td>68</td>\n      <td>528.0</td>\n      <td>536.0</td>\n    </tr>\n    <tr>\n      <th>4</th>\n      <td>(-3, 2, -3, 2, -2)</td>\n      <td>0.000000</td>\n      <td>Ave Maria</td>\n      <td>Ave Maria</td>\n      <td>Altus</td>\n      <td>Bassus</td>\n      <td>67</td>\n      <td>70</td>\n      <td>528.0</td>\n      <td>552.0</td>\n    </tr>\n    <tr>\n      <th>...</th>\n      <td>...</td>\n      <td>...</td>\n      <td>...</td>\n      <td>...</td>\n      <td>...</td>\n      <td>...</td>\n      <td>...</td>\n      <td>...</td>\n      <td>...</td>\n      <td>...</td>\n    </tr>\n    <tr>\n      <th>558</th>\n      <td>(4, 1, 2, 2, -3)</td>\n      <td>2.166667</td>\n      <td>Ave Maria</td>\n      <td>Ave Maria</td>\n      <td>[Superius]</td>\n      <td>Tenor</td>\n      <td>105</td>\n      <td>5</td>\n      <td>884.0</td>\n      <td>32.0</td>\n    </tr>\n    <tr>\n      <th>559</th>\n      <td>(4, 1, 2, 2, -3)</td>\n      <td>2.166667</td>\n      <td>Ave Maria</td>\n      <td>Ave Maria</td>\n      <td>[Superius]</td>\n      <td>Bassus</td>\n      <td>105</td>\n      <td>7</td>\n      <td>884.0</td>\n      <td>48.0</td>\n    </tr>\n    <tr>\n      <th>560</th>\n      <td>(4, 1, 2, 2, -3)</td>\n      <td>0.000000</td>\n      <td>Ave Maria</td>\n      <td>Ave Maria</td>\n      <td>Altus</td>\n      <td>Tenor</td>\n      <td>3</td>\n      <td>5</td>\n      <td>16.0</td>\n      <td>32.0</td>\n    </tr>\n    <tr>\n      <th>561</th>\n      <td>(4, 1, 2, 2, -3)</td>\n      <td>0.000000</td>\n      <td>Ave Maria</td>\n      <td>Ave Maria</td>\n      <td>Altus</td>\n      <td>Bassus</td>\n      <td>3</td>\n      <td>7</td>\n      <td>16.0</td>\n      <td>48.0</td>\n    </tr>\n    <tr>\n      <th>562</th>\n      <td>(4, 1, 2, 2, -3)</td>\n      <td>0.000000</td>\n      <td>Ave Maria</td>\n      <td>Ave Maria</td>\n      <td>Tenor</td>\n      <td>Bassus</td>\n      <td>5</td>\n      <td>7</td>\n      <td>32.0</td>\n      <td>48.0</td>\n    </tr>\n  </tbody>\n</table>\n<p>563 rows × 10 columns</p>\n</div>"
     },
     "metadata": {},
     "execution_count": 83
    }
   ],
   "source": [
    "ratio_distances = get_ratio_distances(results, \"pattern_generating_match\", [\"piece_title\", \"part\", \"start_measure\", \"start_offset\"])\n",
    "ratio_distances"
   ]
  },
  {
   "cell_type": "markdown",
   "metadata": {},
   "source": [
    "### And FILTER the results according to any threshold we like"
   ]
  },
  {
   "cell_type": "code",
   "execution_count": 82,
   "metadata": {},
   "outputs": [
    {
     "output_type": "execute_result",
     "data": {
      "text/plain": [
       "                pattern  sum_diffs match_1_piece_title match_2_piece_title  \\\n",
       "0    (-3, 2, -3, 2, -2)        0.0           Ave Maria           Ave Maria   \n",
       "1    (-3, 2, -3, 2, -2)        0.0           Ave Maria           Ave Maria   \n",
       "2    (-3, 2, -3, 2, -2)        0.0           Ave Maria           Ave Maria   \n",
       "3    (-3, 2, -3, 2, -2)        0.0           Ave Maria           Ave Maria   \n",
       "4    (-3, 2, -3, 2, -2)        0.0           Ave Maria           Ave Maria   \n",
       "..                  ...        ...                 ...                 ...   \n",
       "555    (4, 1, 2, 2, -3)        0.0           Ave Maria           Ave Maria   \n",
       "556    (4, 1, 2, 2, -3)        0.0           Ave Maria           Ave Maria   \n",
       "560    (4, 1, 2, 2, -3)        0.0           Ave Maria           Ave Maria   \n",
       "561    (4, 1, 2, 2, -3)        0.0           Ave Maria           Ave Maria   \n",
       "562    (4, 1, 2, 2, -3)        0.0           Ave Maria           Ave Maria   \n",
       "\n",
       "    match_1_part match_2_part  match_1_start_offset  match_2_start_offset  \n",
       "0     [Superius]        Altus                 512.0                 528.0  \n",
       "1     [Superius]        Tenor                 512.0                 536.0  \n",
       "2     [Superius]       Bassus                 512.0                 552.0  \n",
       "3          Altus        Tenor                 528.0                 536.0  \n",
       "4          Altus       Bassus                 528.0                 552.0  \n",
       "..           ...          ...                   ...                   ...  \n",
       "555   [Superius]        Tenor                   0.0                  32.0  \n",
       "556   [Superius]       Bassus                   0.0                  48.0  \n",
       "560        Altus        Tenor                  16.0                  32.0  \n",
       "561        Altus       Bassus                  16.0                  48.0  \n",
       "562        Tenor       Bassus                  32.0                  48.0  \n",
       "\n",
       "[240 rows x 8 columns]"
      ],
      "text/html": "<div>\n<style scoped>\n    .dataframe tbody tr th:only-of-type {\n        vertical-align: middle;\n    }\n\n    .dataframe tbody tr th {\n        vertical-align: top;\n    }\n\n    .dataframe thead th {\n        text-align: right;\n    }\n</style>\n<table border=\"1\" class=\"dataframe\">\n  <thead>\n    <tr style=\"text-align: right;\">\n      <th></th>\n      <th>pattern</th>\n      <th>sum_diffs</th>\n      <th>match_1_piece_title</th>\n      <th>match_2_piece_title</th>\n      <th>match_1_part</th>\n      <th>match_2_part</th>\n      <th>match_1_start_offset</th>\n      <th>match_2_start_offset</th>\n    </tr>\n  </thead>\n  <tbody>\n    <tr>\n      <th>0</th>\n      <td>(-3, 2, -3, 2, -2)</td>\n      <td>0.0</td>\n      <td>Ave Maria</td>\n      <td>Ave Maria</td>\n      <td>[Superius]</td>\n      <td>Altus</td>\n      <td>512.0</td>\n      <td>528.0</td>\n    </tr>\n    <tr>\n      <th>1</th>\n      <td>(-3, 2, -3, 2, -2)</td>\n      <td>0.0</td>\n      <td>Ave Maria</td>\n      <td>Ave Maria</td>\n      <td>[Superius]</td>\n      <td>Tenor</td>\n      <td>512.0</td>\n      <td>536.0</td>\n    </tr>\n    <tr>\n      <th>2</th>\n      <td>(-3, 2, -3, 2, -2)</td>\n      <td>0.0</td>\n      <td>Ave Maria</td>\n      <td>Ave Maria</td>\n      <td>[Superius]</td>\n      <td>Bassus</td>\n      <td>512.0</td>\n      <td>552.0</td>\n    </tr>\n    <tr>\n      <th>3</th>\n      <td>(-3, 2, -3, 2, -2)</td>\n      <td>0.0</td>\n      <td>Ave Maria</td>\n      <td>Ave Maria</td>\n      <td>Altus</td>\n      <td>Tenor</td>\n      <td>528.0</td>\n      <td>536.0</td>\n    </tr>\n    <tr>\n      <th>4</th>\n      <td>(-3, 2, -3, 2, -2)</td>\n      <td>0.0</td>\n      <td>Ave Maria</td>\n      <td>Ave Maria</td>\n      <td>Altus</td>\n      <td>Bassus</td>\n      <td>528.0</td>\n      <td>552.0</td>\n    </tr>\n    <tr>\n      <th>...</th>\n      <td>...</td>\n      <td>...</td>\n      <td>...</td>\n      <td>...</td>\n      <td>...</td>\n      <td>...</td>\n      <td>...</td>\n      <td>...</td>\n    </tr>\n    <tr>\n      <th>555</th>\n      <td>(4, 1, 2, 2, -3)</td>\n      <td>0.0</td>\n      <td>Ave Maria</td>\n      <td>Ave Maria</td>\n      <td>[Superius]</td>\n      <td>Tenor</td>\n      <td>0.0</td>\n      <td>32.0</td>\n    </tr>\n    <tr>\n      <th>556</th>\n      <td>(4, 1, 2, 2, -3)</td>\n      <td>0.0</td>\n      <td>Ave Maria</td>\n      <td>Ave Maria</td>\n      <td>[Superius]</td>\n      <td>Bassus</td>\n      <td>0.0</td>\n      <td>48.0</td>\n    </tr>\n    <tr>\n      <th>560</th>\n      <td>(4, 1, 2, 2, -3)</td>\n      <td>0.0</td>\n      <td>Ave Maria</td>\n      <td>Ave Maria</td>\n      <td>Altus</td>\n      <td>Tenor</td>\n      <td>16.0</td>\n      <td>32.0</td>\n    </tr>\n    <tr>\n      <th>561</th>\n      <td>(4, 1, 2, 2, -3)</td>\n      <td>0.0</td>\n      <td>Ave Maria</td>\n      <td>Ave Maria</td>\n      <td>Altus</td>\n      <td>Bassus</td>\n      <td>16.0</td>\n      <td>48.0</td>\n    </tr>\n    <tr>\n      <th>562</th>\n      <td>(4, 1, 2, 2, -3)</td>\n      <td>0.0</td>\n      <td>Ave Maria</td>\n      <td>Ave Maria</td>\n      <td>Tenor</td>\n      <td>Bassus</td>\n      <td>32.0</td>\n      <td>48.0</td>\n    </tr>\n  </tbody>\n</table>\n<p>240 rows × 8 columns</p>\n</div>"
     },
     "metadata": {},
     "execution_count": 82
    }
   ],
   "source": [
    "ratios_filtered = ratio_distances[ratio_distances.sum_diffs <= 1]\n",
    "ratios_filtered"
   ]
  },
  {
   "cell_type": "markdown",
   "metadata": {},
   "source": [
    "### Now Group the Duration-Filter Results by the Pattern (which shows us very closely related soggetti in sets)"
   ]
  },
  {
   "cell_type": "code",
   "execution_count": 33,
   "metadata": {},
   "outputs": [
    {
     "output_type": "execute_result",
     "data": {
      "text/plain": [
       "152"
      ]
     },
     "metadata": {},
     "execution_count": 33
    }
   ],
   "source": [
    "grouped = ratios_filtered.groupby(\"pattern\")\n",
    "len(grouped['pattern'].nunique())"
   ]
  },
  {
   "cell_type": "code",
   "execution_count": 123,
   "metadata": {},
   "outputs": [],
   "source": [
    "ratios_filtered.to_csv(\"filtered_sample_pair.csv\")"
   ]
  },
  {
   "source": [
    "### Greedy Soggetti\n",
    "* Groups by voice part\n",
    "* Gets one voice, then creates shifted cols to contain current+previous intervals and durations\n",
    "* slices each tuple: removes first from previous match and last from current match\n",
    "* if these are identical, then we can merge the two soggetti"
   ],
   "cell_type": "markdown",
   "metadata": {}
  },
  {
   "cell_type": "code",
   "execution_count": 36,
   "metadata": {},
   "outputs": [],
   "source": [
    "results[\"pattern_matched\"] = results[\"pattern_matched\"].apply(tuple)\n",
    "# results_s = results.drop(columns=[\"ema_url\", \"ema\", \"duration_ratios\", \"pattern_generating_match\"])\n",
    "# # #results_s[\"group_number\"] = group_number\n",
    "# # results_grouped = results_s.groupby(by=[\"piece_title\", \"part\"])\n",
    "# # results_grouped.sort_values(\"start_measure\")\n",
    "# # results_grouped.head()\n",
    "# results_shifted = results_s.groupby([\"part\"]).shift(1)\n",
    "# results_shifted.head()\n"
   ]
  },
  {
   "cell_type": "code",
   "execution_count": 58,
   "metadata": {},
   "outputs": [],
   "source": [
    "# function to group by piece and part, then add shfted columns to accept Greedy Data\n",
    "# the 'df: pd.DataFrame' here is a way of specifying the type that ought to go here\n",
    "# it's a form of annotation or 'typing'\n",
    "\n",
    "def add_shifted_cols(df: pd.DataFrame,\n",
    "                    group_cols: list,\n",
    "                    shift_cols: list,\n",
    "                    shift_periods=-1,\n",
    "                    shifted_prefix=\"next\"\n",
    "                    ) -> pd.DataFrame:\n",
    "    \n",
    "    \n",
    "    df = df.copy()\n",
    "\n",
    "    df_shifted = df.groupby(group_cols).shift(shift_periods)\n",
    "\n",
    "    df[[ f\"{shifted_prefix}_{c}\" for c in shift_cols]] = df_shifted[shift_cols]\n",
    "\n",
    "    return df"
   ]
  },
  {
   "cell_type": "code",
   "execution_count": 59,
   "metadata": {},
   "outputs": [],
   "source": [
    "# Sequence here helps us deal with tuples in the data, slicing as needed the various lists of vectors and durations\n",
    "\n",
    "from typing import Sequence\n",
    "\n",
    "def add_subsequence_cols(df: pd.DataFrame, this_sequence_cols: Sequence, next_sequence_cols: Sequence) -> pd.DataFrame:\n",
    "\n",
    "    df = df.copy()\n",
    "\n",
    "    for col in this_sequence_cols:\n",
    "            df[f\"{col}_short\"] = df[col].dropna().apply(lambda x: x[1:]) \n",
    "    \n",
    "    for col in next_sequence_cols:\n",
    "            df[f\"{col}_short\"] = df[col].dropna().apply(lambda x: x[:-1])\n",
    "          \n",
    "\n",
    "    return df\n",
    "\n"
   ]
  },
  {
   "cell_type": "code",
   "execution_count": 60,
   "metadata": {},
   "outputs": [],
   "source": [
    "assert 5==5, 'addition wrong'"
   ]
  },
  {
   "cell_type": "code",
   "execution_count": 62,
   "metadata": {},
   "outputs": [
    {
     "output_type": "execute_result",
     "data": {
      "text/plain": [
       "         pattern_matched piece_title        part  start_measure  start_beat  \\\n",
       "0       [4, 1, 2, 2, -3]   Ave Maria  [Superius]              1         1.0   \n",
       "2       [4, 1, 2, 2, -3]   Ave Maria       Altus              3         1.0   \n",
       "3       [4, 1, 2, 2, -3]   Ave Maria       Tenor              5         1.0   \n",
       "4       [4, 1, 2, 2, -3]   Ave Maria      Bassus              7         1.0   \n",
       "5    [-2, -2, -2, 2, -2]   Ave Maria  [Superius]              8         1.0   \n",
       "..                   ...         ...         ...            ...         ...   \n",
       "111   [2, -2, -2, -2, 2]   Ave Maria      Bassus            139         3.0   \n",
       "155   [2, -3, 2, -2, -2]   Ave Maria      Bassus            139         1.0   \n",
       "35     [2, -2, 1, -2, 2]   Ave Maria       Altus            139         1.0   \n",
       "8    [-2, -2, -2, 2, -2]   Ave Maria      Bassus            139         4.0   \n",
       "163  [-3, 2, -2, -2, -2]   Ave Maria      Bassus            139         2.0   \n",
       "\n",
       "     end_measure  end_beat  start_offset  end_offset  \\\n",
       "0              4       1.0           0.0        24.0   \n",
       "2              6       1.0          16.0        40.0   \n",
       "3              8       1.0          32.0        56.0   \n",
       "4             10       1.0          48.0        72.0   \n",
       "5             10       2.0          56.0        74.0   \n",
       "..           ...       ...           ...         ...   \n",
       "111          140       3.0        1172.0      1180.0   \n",
       "155          140       2.0        1168.0      1178.0   \n",
       "35           141       3.0        1168.0      1180.0   \n",
       "8            141       1.0        1174.0      1184.0   \n",
       "163          140       2.5        1170.0      1179.0   \n",
       "\n",
       "                     note_durations  next_start_measure  next_end_measure  \\\n",
       "0    [4.0, 8.0, 4.0, 4.0, 4.0, 8.0]               105.0             107.0   \n",
       "2    [4.0, 8.0, 4.0, 4.0, 4.0, 8.0]                10.0              12.0   \n",
       "3    [4.0, 8.0, 4.0, 4.0, 4.0, 8.0]                12.0              14.0   \n",
       "4    [4.0, 8.0, 4.0, 4.0, 4.0, 8.0]               139.0             141.0   \n",
       "5    [6.0, 2.0, 4.0, 4.0, 2.0, 2.0]                16.0              19.0   \n",
       "..                              ...                 ...               ...   \n",
       "111  [2.0, 3.0, 1.0, 1.0, 1.0, 4.0]                14.0              16.0   \n",
       "155  [2.0, 2.0, 2.0, 3.0, 1.0, 1.0]                71.0              73.0   \n",
       "35   [2.0, 3.0, 1.0, 4.0, 2.0, 8.0]                94.0              95.0   \n",
       "8    [3.0, 1.0, 1.0, 1.0, 4.0, 8.0]                22.0              25.0   \n",
       "163  [2.0, 2.0, 3.0, 1.0, 1.0, 1.0]               129.0             131.0   \n",
       "\n",
       "                next_note_durations next_pattern_matched  \n",
       "0    [4.0, 8.0, 4.0, 4.0, 6.0, 2.0]     [4, 1, 2, 2, -3]  \n",
       "2    [6.0, 2.0, 4.0, 4.0, 3.0, 1.0]  [-2, -2, -2, 2, -2]  \n",
       "3    [6.0, 2.0, 4.0, 4.0, 2.0, 2.0]  [-2, -2, -2, 2, -2]  \n",
       "4    [3.0, 1.0, 1.0, 1.0, 4.0, 8.0]  [-2, -2, -2, 2, -2]  \n",
       "5    [6.0, 2.0, 4.0, 4.0, 4.0, 3.0]     [1, 1, 2, 2, -3]  \n",
       "..                              ...                  ...  \n",
       "111  [6.0, 2.0, 4.0, 4.0, 6.0, 2.0]   [-2, -2, -2, 2, 2]  \n",
       "155  [4.0, 4.0, 3.0, 1.0, 4.0, 4.0]  [-3, 2, -2, -2, -2]  \n",
       "35   [4.0, 4.0, 4.0, 6.0, 2.0, 2.0]    [1, 1, 2, -2, -2]  \n",
       "8    [6.0, 2.0, 4.0, 4.0, 4.0, 8.0]     [1, 1, 2, 2, -3]  \n",
       "163  [4.0, 3.0, 1.0, 4.0, 3.0, 1.0]  [-2, -2, -2, -2, 2]  \n",
       "\n",
       "[219 rows x 14 columns]"
      ],
      "text/html": "<div>\n<style scoped>\n    .dataframe tbody tr th:only-of-type {\n        vertical-align: middle;\n    }\n\n    .dataframe tbody tr th {\n        vertical-align: top;\n    }\n\n    .dataframe thead th {\n        text-align: right;\n    }\n</style>\n<table border=\"1\" class=\"dataframe\">\n  <thead>\n    <tr style=\"text-align: right;\">\n      <th></th>\n      <th>pattern_matched</th>\n      <th>piece_title</th>\n      <th>part</th>\n      <th>start_measure</th>\n      <th>start_beat</th>\n      <th>end_measure</th>\n      <th>end_beat</th>\n      <th>start_offset</th>\n      <th>end_offset</th>\n      <th>note_durations</th>\n      <th>next_start_measure</th>\n      <th>next_end_measure</th>\n      <th>next_note_durations</th>\n      <th>next_pattern_matched</th>\n    </tr>\n  </thead>\n  <tbody>\n    <tr>\n      <th>0</th>\n      <td>[4, 1, 2, 2, -3]</td>\n      <td>Ave Maria</td>\n      <td>[Superius]</td>\n      <td>1</td>\n      <td>1.0</td>\n      <td>4</td>\n      <td>1.0</td>\n      <td>0.0</td>\n      <td>24.0</td>\n      <td>[4.0, 8.0, 4.0, 4.0, 4.0, 8.0]</td>\n      <td>105.0</td>\n      <td>107.0</td>\n      <td>[4.0, 8.0, 4.0, 4.0, 6.0, 2.0]</td>\n      <td>[4, 1, 2, 2, -3]</td>\n    </tr>\n    <tr>\n      <th>2</th>\n      <td>[4, 1, 2, 2, -3]</td>\n      <td>Ave Maria</td>\n      <td>Altus</td>\n      <td>3</td>\n      <td>1.0</td>\n      <td>6</td>\n      <td>1.0</td>\n      <td>16.0</td>\n      <td>40.0</td>\n      <td>[4.0, 8.0, 4.0, 4.0, 4.0, 8.0]</td>\n      <td>10.0</td>\n      <td>12.0</td>\n      <td>[6.0, 2.0, 4.0, 4.0, 3.0, 1.0]</td>\n      <td>[-2, -2, -2, 2, -2]</td>\n    </tr>\n    <tr>\n      <th>3</th>\n      <td>[4, 1, 2, 2, -3]</td>\n      <td>Ave Maria</td>\n      <td>Tenor</td>\n      <td>5</td>\n      <td>1.0</td>\n      <td>8</td>\n      <td>1.0</td>\n      <td>32.0</td>\n      <td>56.0</td>\n      <td>[4.0, 8.0, 4.0, 4.0, 4.0, 8.0]</td>\n      <td>12.0</td>\n      <td>14.0</td>\n      <td>[6.0, 2.0, 4.0, 4.0, 2.0, 2.0]</td>\n      <td>[-2, -2, -2, 2, -2]</td>\n    </tr>\n    <tr>\n      <th>4</th>\n      <td>[4, 1, 2, 2, -3]</td>\n      <td>Ave Maria</td>\n      <td>Bassus</td>\n      <td>7</td>\n      <td>1.0</td>\n      <td>10</td>\n      <td>1.0</td>\n      <td>48.0</td>\n      <td>72.0</td>\n      <td>[4.0, 8.0, 4.0, 4.0, 4.0, 8.0]</td>\n      <td>139.0</td>\n      <td>141.0</td>\n      <td>[3.0, 1.0, 1.0, 1.0, 4.0, 8.0]</td>\n      <td>[-2, -2, -2, 2, -2]</td>\n    </tr>\n    <tr>\n      <th>5</th>\n      <td>[-2, -2, -2, 2, -2]</td>\n      <td>Ave Maria</td>\n      <td>[Superius]</td>\n      <td>8</td>\n      <td>1.0</td>\n      <td>10</td>\n      <td>2.0</td>\n      <td>56.0</td>\n      <td>74.0</td>\n      <td>[6.0, 2.0, 4.0, 4.0, 2.0, 2.0]</td>\n      <td>16.0</td>\n      <td>19.0</td>\n      <td>[6.0, 2.0, 4.0, 4.0, 4.0, 3.0]</td>\n      <td>[1, 1, 2, 2, -3]</td>\n    </tr>\n    <tr>\n      <th>...</th>\n      <td>...</td>\n      <td>...</td>\n      <td>...</td>\n      <td>...</td>\n      <td>...</td>\n      <td>...</td>\n      <td>...</td>\n      <td>...</td>\n      <td>...</td>\n      <td>...</td>\n      <td>...</td>\n      <td>...</td>\n      <td>...</td>\n      <td>...</td>\n    </tr>\n    <tr>\n      <th>111</th>\n      <td>[2, -2, -2, -2, 2]</td>\n      <td>Ave Maria</td>\n      <td>Bassus</td>\n      <td>139</td>\n      <td>3.0</td>\n      <td>140</td>\n      <td>3.0</td>\n      <td>1172.0</td>\n      <td>1180.0</td>\n      <td>[2.0, 3.0, 1.0, 1.0, 1.0, 4.0]</td>\n      <td>14.0</td>\n      <td>16.0</td>\n      <td>[6.0, 2.0, 4.0, 4.0, 6.0, 2.0]</td>\n      <td>[-2, -2, -2, 2, 2]</td>\n    </tr>\n    <tr>\n      <th>155</th>\n      <td>[2, -3, 2, -2, -2]</td>\n      <td>Ave Maria</td>\n      <td>Bassus</td>\n      <td>139</td>\n      <td>1.0</td>\n      <td>140</td>\n      <td>2.0</td>\n      <td>1168.0</td>\n      <td>1178.0</td>\n      <td>[2.0, 2.0, 2.0, 3.0, 1.0, 1.0]</td>\n      <td>71.0</td>\n      <td>73.0</td>\n      <td>[4.0, 4.0, 3.0, 1.0, 4.0, 4.0]</td>\n      <td>[-3, 2, -2, -2, -2]</td>\n    </tr>\n    <tr>\n      <th>35</th>\n      <td>[2, -2, 1, -2, 2]</td>\n      <td>Ave Maria</td>\n      <td>Altus</td>\n      <td>139</td>\n      <td>1.0</td>\n      <td>141</td>\n      <td>3.0</td>\n      <td>1168.0</td>\n      <td>1180.0</td>\n      <td>[2.0, 3.0, 1.0, 4.0, 2.0, 8.0]</td>\n      <td>94.0</td>\n      <td>95.0</td>\n      <td>[4.0, 4.0, 4.0, 6.0, 2.0, 2.0]</td>\n      <td>[1, 1, 2, -2, -2]</td>\n    </tr>\n    <tr>\n      <th>8</th>\n      <td>[-2, -2, -2, 2, -2]</td>\n      <td>Ave Maria</td>\n      <td>Bassus</td>\n      <td>139</td>\n      <td>4.0</td>\n      <td>141</td>\n      <td>1.0</td>\n      <td>1174.0</td>\n      <td>1184.0</td>\n      <td>[3.0, 1.0, 1.0, 1.0, 4.0, 8.0]</td>\n      <td>22.0</td>\n      <td>25.0</td>\n      <td>[6.0, 2.0, 4.0, 4.0, 4.0, 8.0]</td>\n      <td>[1, 1, 2, 2, -3]</td>\n    </tr>\n    <tr>\n      <th>163</th>\n      <td>[-3, 2, -2, -2, -2]</td>\n      <td>Ave Maria</td>\n      <td>Bassus</td>\n      <td>139</td>\n      <td>2.0</td>\n      <td>140</td>\n      <td>2.5</td>\n      <td>1170.0</td>\n      <td>1179.0</td>\n      <td>[2.0, 2.0, 3.0, 1.0, 1.0, 1.0]</td>\n      <td>129.0</td>\n      <td>131.0</td>\n      <td>[4.0, 3.0, 1.0, 4.0, 3.0, 1.0]</td>\n      <td>[-2, -2, -2, -2, 2]</td>\n    </tr>\n  </tbody>\n</table>\n<p>219 rows × 14 columns</p>\n</div>"
     },
     "metadata": {},
     "execution_count": 62
    }
   ],
   "source": [
    "# here we call the function to add the cols\n",
    "\n",
    "df_shifted = add_shifted_cols(results,\n",
    "                    group_cols=[\"piece_title\", \"part\"],\n",
    "                    shift_cols=[\"start_measure\", \"end_measure\", \"note_durations\", \"pattern_matched\"])\n",
    "\n",
    "df_brief = df_shifted.sort_values(\"start_measure\").drop(columns=[\"ema\", \"ema_url\", \"pattern_generating_match\"])\n",
    "df_brief"
   ]
  },
  {
   "cell_type": "code",
   "execution_count": 43,
   "metadata": {},
   "outputs": [
    {
     "output_type": "execute_result",
     "data": {
      "text/plain": [
       "        pattern_matched piece_title        part  start_measure  start_beat  \\\n",
       "0      (4, 1, 2, 2, -3)   Ave Maria  [Superius]              1         1.0   \n",
       "1      (4, 1, 2, 2, -3)   Ave Maria  [Superius]            105         3.0   \n",
       "2      (4, 1, 2, 2, -3)   Ave Maria       Altus              3         1.0   \n",
       "3      (4, 1, 2, 2, -3)   Ave Maria       Tenor              5         1.0   \n",
       "4      (4, 1, 2, 2, -3)   Ave Maria      Bassus              7         1.0   \n",
       "...                 ...         ...         ...            ...         ...   \n",
       "1091  (2, 2, -3, 1, -2)   Ave Maria  [Superius]            106         3.0   \n",
       "1092  (2, 2, -3, 3, -2)   Ave Maria       Tenor             21         3.0   \n",
       "1093  (1, 2, -3, 2, -2)   Ave Maria       Tenor             81         3.0   \n",
       "1094  (2, 2, -4, 2, -2)   Ave Maria      Bassus            131         3.5   \n",
       "1095  (2, 2, -3, 2, -2)   Ave Maria      Bassus            138         4.5   \n",
       "\n",
       "      end_measure  end_beat  start_offset  end_offset  \\\n",
       "0               4       1.0           0.0        24.0   \n",
       "1             107       3.5         884.0       910.0   \n",
       "2               6       1.0          16.0        40.0   \n",
       "3               8       1.0          32.0        56.0   \n",
       "4              10       1.0          48.0        72.0   \n",
       "...           ...       ...           ...         ...   \n",
       "1091          108       3.0         896.0       920.0   \n",
       "1092           23       3.5         164.0       181.0   \n",
       "1093           83       2.0         644.0       658.0   \n",
       "1094          133       1.0        1109.0      1120.0   \n",
       "1095          140       1.5        1167.0      1177.0   \n",
       "\n",
       "                      note_durations  next_start_measure  next_end_measure  \\\n",
       "0     (4.0, 8.0, 4.0, 4.0, 4.0, 8.0)               105.0             107.0   \n",
       "1     (4.0, 8.0, 4.0, 4.0, 6.0, 2.0)                 8.0              10.0   \n",
       "2     (4.0, 8.0, 4.0, 4.0, 4.0, 8.0)                10.0              12.0   \n",
       "3     (4.0, 8.0, 4.0, 4.0, 4.0, 8.0)                12.0              14.0   \n",
       "4     (4.0, 8.0, 4.0, 4.0, 4.0, 8.0)                91.0              92.0   \n",
       "...                              ...                 ...               ...   \n",
       "1091  (4.0, 4.0, 6.0, 2.0, 8.0, 4.0)                 NaN               NaN   \n",
       "1092  (4.0, 4.0, 4.0, 2.0, 3.0, 1.0)                81.0              83.0   \n",
       "1093  (2.0, 2.0, 4.0, 2.0, 4.0, 2.0)                 NaN               NaN   \n",
       "1094  (1.0, 2.0, 2.0, 2.0, 4.0, 8.0)               138.0             140.0   \n",
       "1095  (1.0, 2.0, 2.0, 2.0, 3.0, 1.0)                 NaN               NaN   \n",
       "\n",
       "                 next_note_durations next_pattern_matched  \\\n",
       "0     (4.0, 8.0, 4.0, 4.0, 6.0, 2.0)     (4, 1, 2, 2, -3)   \n",
       "1     (6.0, 2.0, 4.0, 4.0, 2.0, 2.0)  (-2, -2, -2, 2, -2)   \n",
       "2     (6.0, 2.0, 4.0, 4.0, 3.0, 1.0)  (-2, -2, -2, 2, -2)   \n",
       "3     (6.0, 2.0, 4.0, 4.0, 2.0, 2.0)  (-2, -2, -2, 2, -2)   \n",
       "4     (4.0, 1.0, 1.0, 2.0, 2.0, 4.0)  (-2, -2, -2, 3, -2)   \n",
       "...                              ...                  ...   \n",
       "1091                             NaN                  NaN   \n",
       "1092  (2.0, 2.0, 4.0, 2.0, 4.0, 2.0)    (1, 2, -3, 2, -2)   \n",
       "1093                             NaN                  NaN   \n",
       "1094  (1.0, 2.0, 2.0, 2.0, 3.0, 1.0)    (2, 2, -3, 2, -2)   \n",
       "1095                             NaN                  NaN   \n",
       "\n",
       "     pattern_matched_short       note_durations_short  \\\n",
       "0            (1, 2, 2, -3)  (8.0, 4.0, 4.0, 4.0, 8.0)   \n",
       "1            (1, 2, 2, -3)  (8.0, 4.0, 4.0, 6.0, 2.0)   \n",
       "2            (1, 2, 2, -3)  (8.0, 4.0, 4.0, 4.0, 8.0)   \n",
       "3            (1, 2, 2, -3)  (8.0, 4.0, 4.0, 4.0, 8.0)   \n",
       "4            (1, 2, 2, -3)  (8.0, 4.0, 4.0, 4.0, 8.0)   \n",
       "...                    ...                        ...   \n",
       "1091        (2, -3, 1, -2)  (4.0, 6.0, 2.0, 8.0, 4.0)   \n",
       "1092        (2, -3, 3, -2)  (4.0, 4.0, 2.0, 3.0, 1.0)   \n",
       "1093        (2, -3, 2, -2)  (2.0, 4.0, 2.0, 4.0, 2.0)   \n",
       "1094        (2, -4, 2, -2)  (2.0, 2.0, 2.0, 4.0, 8.0)   \n",
       "1095        (2, -3, 2, -2)  (2.0, 2.0, 2.0, 3.0, 1.0)   \n",
       "\n",
       "     next_pattern_matched_short  next_note_durations_short  \n",
       "0                  (4, 1, 2, 2)  (4.0, 8.0, 4.0, 4.0, 6.0)  \n",
       "1               (-2, -2, -2, 2)  (6.0, 2.0, 4.0, 4.0, 2.0)  \n",
       "2               (-2, -2, -2, 2)  (6.0, 2.0, 4.0, 4.0, 3.0)  \n",
       "3               (-2, -2, -2, 2)  (6.0, 2.0, 4.0, 4.0, 2.0)  \n",
       "4               (-2, -2, -2, 3)  (4.0, 1.0, 1.0, 2.0, 2.0)  \n",
       "...                         ...                        ...  \n",
       "1091                        NaN                        NaN  \n",
       "1092              (1, 2, -3, 2)  (2.0, 2.0, 4.0, 2.0, 4.0)  \n",
       "1093                        NaN                        NaN  \n",
       "1094              (2, 2, -3, 2)  (1.0, 2.0, 2.0, 2.0, 3.0)  \n",
       "1095                        NaN                        NaN  \n",
       "\n",
       "[1096 rows x 18 columns]"
      ],
      "text/html": "<div>\n<style scoped>\n    .dataframe tbody tr th:only-of-type {\n        vertical-align: middle;\n    }\n\n    .dataframe tbody tr th {\n        vertical-align: top;\n    }\n\n    .dataframe thead th {\n        text-align: right;\n    }\n</style>\n<table border=\"1\" class=\"dataframe\">\n  <thead>\n    <tr style=\"text-align: right;\">\n      <th></th>\n      <th>pattern_matched</th>\n      <th>piece_title</th>\n      <th>part</th>\n      <th>start_measure</th>\n      <th>start_beat</th>\n      <th>end_measure</th>\n      <th>end_beat</th>\n      <th>start_offset</th>\n      <th>end_offset</th>\n      <th>note_durations</th>\n      <th>next_start_measure</th>\n      <th>next_end_measure</th>\n      <th>next_note_durations</th>\n      <th>next_pattern_matched</th>\n      <th>pattern_matched_short</th>\n      <th>note_durations_short</th>\n      <th>next_pattern_matched_short</th>\n      <th>next_note_durations_short</th>\n    </tr>\n  </thead>\n  <tbody>\n    <tr>\n      <th>0</th>\n      <td>(4, 1, 2, 2, -3)</td>\n      <td>Ave Maria</td>\n      <td>[Superius]</td>\n      <td>1</td>\n      <td>1.0</td>\n      <td>4</td>\n      <td>1.0</td>\n      <td>0.0</td>\n      <td>24.0</td>\n      <td>(4.0, 8.0, 4.0, 4.0, 4.0, 8.0)</td>\n      <td>105.0</td>\n      <td>107.0</td>\n      <td>(4.0, 8.0, 4.0, 4.0, 6.0, 2.0)</td>\n      <td>(4, 1, 2, 2, -3)</td>\n      <td>(1, 2, 2, -3)</td>\n      <td>(8.0, 4.0, 4.0, 4.0, 8.0)</td>\n      <td>(4, 1, 2, 2)</td>\n      <td>(4.0, 8.0, 4.0, 4.0, 6.0)</td>\n    </tr>\n    <tr>\n      <th>1</th>\n      <td>(4, 1, 2, 2, -3)</td>\n      <td>Ave Maria</td>\n      <td>[Superius]</td>\n      <td>105</td>\n      <td>3.0</td>\n      <td>107</td>\n      <td>3.5</td>\n      <td>884.0</td>\n      <td>910.0</td>\n      <td>(4.0, 8.0, 4.0, 4.0, 6.0, 2.0)</td>\n      <td>8.0</td>\n      <td>10.0</td>\n      <td>(6.0, 2.0, 4.0, 4.0, 2.0, 2.0)</td>\n      <td>(-2, -2, -2, 2, -2)</td>\n      <td>(1, 2, 2, -3)</td>\n      <td>(8.0, 4.0, 4.0, 6.0, 2.0)</td>\n      <td>(-2, -2, -2, 2)</td>\n      <td>(6.0, 2.0, 4.0, 4.0, 2.0)</td>\n    </tr>\n    <tr>\n      <th>2</th>\n      <td>(4, 1, 2, 2, -3)</td>\n      <td>Ave Maria</td>\n      <td>Altus</td>\n      <td>3</td>\n      <td>1.0</td>\n      <td>6</td>\n      <td>1.0</td>\n      <td>16.0</td>\n      <td>40.0</td>\n      <td>(4.0, 8.0, 4.0, 4.0, 4.0, 8.0)</td>\n      <td>10.0</td>\n      <td>12.0</td>\n      <td>(6.0, 2.0, 4.0, 4.0, 3.0, 1.0)</td>\n      <td>(-2, -2, -2, 2, -2)</td>\n      <td>(1, 2, 2, -3)</td>\n      <td>(8.0, 4.0, 4.0, 4.0, 8.0)</td>\n      <td>(-2, -2, -2, 2)</td>\n      <td>(6.0, 2.0, 4.0, 4.0, 3.0)</td>\n    </tr>\n    <tr>\n      <th>3</th>\n      <td>(4, 1, 2, 2, -3)</td>\n      <td>Ave Maria</td>\n      <td>Tenor</td>\n      <td>5</td>\n      <td>1.0</td>\n      <td>8</td>\n      <td>1.0</td>\n      <td>32.0</td>\n      <td>56.0</td>\n      <td>(4.0, 8.0, 4.0, 4.0, 4.0, 8.0)</td>\n      <td>12.0</td>\n      <td>14.0</td>\n      <td>(6.0, 2.0, 4.0, 4.0, 2.0, 2.0)</td>\n      <td>(-2, -2, -2, 2, -2)</td>\n      <td>(1, 2, 2, -3)</td>\n      <td>(8.0, 4.0, 4.0, 4.0, 8.0)</td>\n      <td>(-2, -2, -2, 2)</td>\n      <td>(6.0, 2.0, 4.0, 4.0, 2.0)</td>\n    </tr>\n    <tr>\n      <th>4</th>\n      <td>(4, 1, 2, 2, -3)</td>\n      <td>Ave Maria</td>\n      <td>Bassus</td>\n      <td>7</td>\n      <td>1.0</td>\n      <td>10</td>\n      <td>1.0</td>\n      <td>48.0</td>\n      <td>72.0</td>\n      <td>(4.0, 8.0, 4.0, 4.0, 4.0, 8.0)</td>\n      <td>91.0</td>\n      <td>92.0</td>\n      <td>(4.0, 1.0, 1.0, 2.0, 2.0, 4.0)</td>\n      <td>(-2, -2, -2, 3, -2)</td>\n      <td>(1, 2, 2, -3)</td>\n      <td>(8.0, 4.0, 4.0, 4.0, 8.0)</td>\n      <td>(-2, -2, -2, 3)</td>\n      <td>(4.0, 1.0, 1.0, 2.0, 2.0)</td>\n    </tr>\n    <tr>\n      <th>...</th>\n      <td>...</td>\n      <td>...</td>\n      <td>...</td>\n      <td>...</td>\n      <td>...</td>\n      <td>...</td>\n      <td>...</td>\n      <td>...</td>\n      <td>...</td>\n      <td>...</td>\n      <td>...</td>\n      <td>...</td>\n      <td>...</td>\n      <td>...</td>\n      <td>...</td>\n      <td>...</td>\n      <td>...</td>\n      <td>...</td>\n    </tr>\n    <tr>\n      <th>1091</th>\n      <td>(2, 2, -3, 1, -2)</td>\n      <td>Ave Maria</td>\n      <td>[Superius]</td>\n      <td>106</td>\n      <td>3.0</td>\n      <td>108</td>\n      <td>3.0</td>\n      <td>896.0</td>\n      <td>920.0</td>\n      <td>(4.0, 4.0, 6.0, 2.0, 8.0, 4.0)</td>\n      <td>NaN</td>\n      <td>NaN</td>\n      <td>NaN</td>\n      <td>NaN</td>\n      <td>(2, -3, 1, -2)</td>\n      <td>(4.0, 6.0, 2.0, 8.0, 4.0)</td>\n      <td>NaN</td>\n      <td>NaN</td>\n    </tr>\n    <tr>\n      <th>1092</th>\n      <td>(2, 2, -3, 3, -2)</td>\n      <td>Ave Maria</td>\n      <td>Tenor</td>\n      <td>21</td>\n      <td>3.0</td>\n      <td>23</td>\n      <td>3.5</td>\n      <td>164.0</td>\n      <td>181.0</td>\n      <td>(4.0, 4.0, 4.0, 2.0, 3.0, 1.0)</td>\n      <td>81.0</td>\n      <td>83.0</td>\n      <td>(2.0, 2.0, 4.0, 2.0, 4.0, 2.0)</td>\n      <td>(1, 2, -3, 2, -2)</td>\n      <td>(2, -3, 3, -2)</td>\n      <td>(4.0, 4.0, 2.0, 3.0, 1.0)</td>\n      <td>(1, 2, -3, 2)</td>\n      <td>(2.0, 2.0, 4.0, 2.0, 4.0)</td>\n    </tr>\n    <tr>\n      <th>1093</th>\n      <td>(1, 2, -3, 2, -2)</td>\n      <td>Ave Maria</td>\n      <td>Tenor</td>\n      <td>81</td>\n      <td>3.0</td>\n      <td>83</td>\n      <td>2.0</td>\n      <td>644.0</td>\n      <td>658.0</td>\n      <td>(2.0, 2.0, 4.0, 2.0, 4.0, 2.0)</td>\n      <td>NaN</td>\n      <td>NaN</td>\n      <td>NaN</td>\n      <td>NaN</td>\n      <td>(2, -3, 2, -2)</td>\n      <td>(2.0, 4.0, 2.0, 4.0, 2.0)</td>\n      <td>NaN</td>\n      <td>NaN</td>\n    </tr>\n    <tr>\n      <th>1094</th>\n      <td>(2, 2, -4, 2, -2)</td>\n      <td>Ave Maria</td>\n      <td>Bassus</td>\n      <td>131</td>\n      <td>3.5</td>\n      <td>133</td>\n      <td>1.0</td>\n      <td>1109.0</td>\n      <td>1120.0</td>\n      <td>(1.0, 2.0, 2.0, 2.0, 4.0, 8.0)</td>\n      <td>138.0</td>\n      <td>140.0</td>\n      <td>(1.0, 2.0, 2.0, 2.0, 3.0, 1.0)</td>\n      <td>(2, 2, -3, 2, -2)</td>\n      <td>(2, -4, 2, -2)</td>\n      <td>(2.0, 2.0, 2.0, 4.0, 8.0)</td>\n      <td>(2, 2, -3, 2)</td>\n      <td>(1.0, 2.0, 2.0, 2.0, 3.0)</td>\n    </tr>\n    <tr>\n      <th>1095</th>\n      <td>(2, 2, -3, 2, -2)</td>\n      <td>Ave Maria</td>\n      <td>Bassus</td>\n      <td>138</td>\n      <td>4.5</td>\n      <td>140</td>\n      <td>1.5</td>\n      <td>1167.0</td>\n      <td>1177.0</td>\n      <td>(1.0, 2.0, 2.0, 2.0, 3.0, 1.0)</td>\n      <td>NaN</td>\n      <td>NaN</td>\n      <td>NaN</td>\n      <td>NaN</td>\n      <td>(2, -3, 2, -2)</td>\n      <td>(2.0, 2.0, 2.0, 3.0, 1.0)</td>\n      <td>NaN</td>\n      <td>NaN</td>\n    </tr>\n  </tbody>\n</table>\n<p>1096 rows × 18 columns</p>\n</div>"
     },
     "metadata": {},
     "execution_count": 43
    }
   ],
   "source": [
    "# And here we call the function to slice and enter the data\n",
    "\n",
    "df_brief = add_subsequence_cols(df_shifted, \n",
    "    this_sequence_cols=[\"pattern_matched\", \"note_durations\"], \n",
    "    next_sequence_cols=[\"next_pattern_matched\", \"next_note_durations\"]\n",
    "    )\n",
    "df_brief.drop(columns=[\"ema\", \"ema_url\", \"pattern_generating_match\", \"duration_ratios\"])"
   ]
  },
  {
   "cell_type": "code",
   "execution_count": 44,
   "metadata": {},
   "outputs": [
    {
     "output_type": "execute_result",
     "data": {
      "text/plain": [
       "pattern_generating_match      141\n",
       "pattern_matched               141\n",
       "piece_title                   141\n",
       "part                          141\n",
       "start_measure                 141\n",
       "start_beat                    141\n",
       "end_measure                   141\n",
       "end_beat                      141\n",
       "start_offset                  141\n",
       "end_offset                    141\n",
       "note_durations                141\n",
       "ema                           141\n",
       "ema_url                       141\n",
       "duration_ratios               141\n",
       "next_start_measure            141\n",
       "next_end_measure              141\n",
       "next_note_durations           141\n",
       "next_pattern_matched          141\n",
       "pattern_matched_short         141\n",
       "note_durations_short          141\n",
       "next_pattern_matched_short    141\n",
       "next_note_durations_short     141\n",
       "dtype: int64"
      ]
     },
     "metadata": {},
     "execution_count": 44
    }
   ],
   "source": [
    "# Now  filter previous results to make sure the melodic and rhythmic vectors match for each sequence\n",
    "\n",
    "df_filter_durs = df_brief[df_brief[\"note_durations_short\"] == df_brief[\"next_note_durations_short\"]]\n",
    "df_filter_patts = df_filter_durs[df_filter_durs[\"pattern_matched_short\"] == df_filter_durs[\"next_pattern_matched_short\"]]\n",
    "df_filter_patts.count()"
   ]
  },
  {
   "cell_type": "code",
   "execution_count": 127,
   "metadata": {},
   "outputs": [
    {
     "output_type": "execute_result",
     "data": {
      "text/plain": [
       "Empty DataFrame\n",
       "Columns: [pattern_generating_match, pattern_matched, piece_title, part, start_measure, end_measure, note_durations, ema, ema_url, duration_ratios, next_start_measure, next_end_measure, next_note_durations, next_pattern_matched, pattern_matched_short, note_durations_short, next_pattern_matched_short, next_note_durations_short]\n",
       "Index: []"
      ],
      "text/html": "<div>\n<style scoped>\n    .dataframe tbody tr th:only-of-type {\n        vertical-align: middle;\n    }\n\n    .dataframe tbody tr th {\n        vertical-align: top;\n    }\n\n    .dataframe thead th {\n        text-align: right;\n    }\n</style>\n<table border=\"1\" class=\"dataframe\">\n  <thead>\n    <tr style=\"text-align: right;\">\n      <th></th>\n      <th>pattern_generating_match</th>\n      <th>pattern_matched</th>\n      <th>piece_title</th>\n      <th>part</th>\n      <th>start_measure</th>\n      <th>end_measure</th>\n      <th>note_durations</th>\n      <th>ema</th>\n      <th>ema_url</th>\n      <th>duration_ratios</th>\n      <th>next_start_measure</th>\n      <th>next_end_measure</th>\n      <th>next_note_durations</th>\n      <th>next_pattern_matched</th>\n      <th>pattern_matched_short</th>\n      <th>note_durations_short</th>\n      <th>next_pattern_matched_short</th>\n      <th>next_note_durations_short</th>\n    </tr>\n  </thead>\n  <tbody>\n  </tbody>\n</table>\n</div>"
     },
     "metadata": {},
     "execution_count": 127
    }
   ],
   "source": [
    "# This is just a way to inspect a single voice\n",
    "\n",
    "df_filter_one_voice = df_filter_patts[df_filter_patts[\"part\"].str.contains('Contratenor')]\n",
    "df_filter_one_voice.head()"
   ]
  },
  {
   "cell_type": "code",
   "execution_count": 47,
   "metadata": {},
   "outputs": [
    {
     "output_type": "execute_result",
     "data": {
      "text/plain": [
       "     pattern_generating_match      pattern_matched piece_title        part  \\\n",
       "5         (-2, -2, -2, 2, -2)  (-2, -2, -2, 2, -2)   Ave Maria  [Superius]   \n",
       "8         (-2, -2, -2, 2, -2)  (-2, -2, -2, 2, -2)   Ave Maria       Tenor   \n",
       "14         (-2, 2, -2, 4, -2)   (-2, 2, -2, 4, -2)   Ave Maria  [Superius]   \n",
       "15         (-2, 2, -2, 4, -2)   (-2, 2, -2, 4, -2)   Ave Maria       Altus   \n",
       "16         (-2, 2, -2, 4, -2)   (-2, 2, -2, 4, -2)   Ave Maria       Tenor   \n",
       "...                       ...                  ...         ...         ...   \n",
       "788           (1, 1, 5, 1, 2)      (1, 1, 5, 1, 2)   Ave Maria      Bassus   \n",
       "798        (-2, -2, -2, 2, 3)   (-2, -2, -2, 2, 3)   Ave Maria       Altus   \n",
       "845         (1, -3, 1, 2, -4)    (1, -3, 1, 2, -4)   Ave Maria       Altus   \n",
       "972        (-2, 2, -3, 2, -3)   (-2, 2, -3, 2, -3)   Ave Maria       Tenor   \n",
       "1081         (2, 2, 2, -4, 2)     (2, 2, 2, -4, 2)   Ave Maria      Bassus   \n",
       "\n",
       "      start_measure  start_beat  end_measure  end_beat  start_offset  \\\n",
       "5                 8         1.0           10       2.0          56.0   \n",
       "8                12         1.0           14       2.0          88.0   \n",
       "14                9         1.0           11       2.0          64.0   \n",
       "15               11         1.0           13       2.0          80.0   \n",
       "16               13         1.0           15       2.0          96.0   \n",
       "...             ...         ...          ...       ...           ...   \n",
       "788              81         1.0           82       4.0         640.0   \n",
       "798              84         2.5           85       4.0         667.0   \n",
       "845             102         1.0          104       3.0         840.0   \n",
       "972              51         2.0           52       3.0         402.0   \n",
       "1081            131         3.0          132       3.0        1108.0   \n",
       "\n",
       "      end_offset  ...                                    duration_ratios  \\\n",
       "5           74.0  ...           (0.3333333333333333, 2.0, 1.0, 0.5, 1.0)   \n",
       "8          106.0  ...           (0.3333333333333333, 2.0, 1.0, 0.5, 1.0)   \n",
       "14          82.0  ...          (1.0, 0.5, 1.0, 3.0, 0.16666666666666666)   \n",
       "15          98.0  ...  (1.0, 0.75, 0.3333333333333333, 6.0, 0.1666666...   \n",
       "16         114.0  ...          (1.0, 0.5, 1.0, 3.0, 0.16666666666666666)   \n",
       "...          ...  ...                                                ...   \n",
       "788        654.0  ...                          (0.5, 1.0, 2.0, 0.5, 1.5)   \n",
       "798        678.0  ...                          (2.0, 1.0, 2.0, 0.5, 1.5)   \n",
       "845        872.0  ...                          (0.5, 2.0, 0.5, 2.0, 0.5)   \n",
       "972        412.0  ...           (0.3333333333333333, 2.0, 1.0, 1.0, 2.0)   \n",
       "1081      1116.0  ...                          (1.0, 2.0, 1.0, 1.0, 2.0)   \n",
       "\n",
       "     next_start_measure next_end_measure              next_note_durations  \\\n",
       "5                   8.0             10.0   (2.0, 4.0, 4.0, 2.0, 2.0, 6.0)   \n",
       "8                  12.0             14.0   (2.0, 4.0, 4.0, 2.0, 2.0, 6.0)   \n",
       "14                  9.0             11.0   (4.0, 2.0, 2.0, 6.0, 1.0, 1.0)   \n",
       "15                 11.0             13.0   (4.0, 3.0, 1.0, 6.0, 1.0, 1.0)   \n",
       "16                 13.0             15.0   (4.0, 2.0, 2.0, 6.0, 1.0, 1.0)   \n",
       "...                 ...              ...                              ...   \n",
       "788                81.0             83.0   (2.0, 2.0, 4.0, 2.0, 3.0, 1.0)   \n",
       "798                84.0             86.0   (2.0, 2.0, 4.0, 2.0, 3.0, 1.0)   \n",
       "845               102.0            105.0   (4.0, 8.0, 4.0, 8.0, 4.0, 8.0)   \n",
       "972                51.0             53.0  (1.0, 2.0, 2.0, 2.0, 4.0, 16.0)   \n",
       "1081              131.0            133.0   (1.0, 2.0, 2.0, 2.0, 4.0, 8.0)   \n",
       "\n",
       "      next_pattern_matched  pattern_matched_short       note_durations_short  \\\n",
       "5       (-2, -2, 2, -2, 4)        (-2, -2, 2, -2)  (2.0, 4.0, 4.0, 2.0, 2.0)   \n",
       "8       (-2, -2, 2, -2, 4)        (-2, -2, 2, -2)  (2.0, 4.0, 4.0, 2.0, 2.0)   \n",
       "14      (2, -2, 4, -2, -2)         (2, -2, 4, -2)  (4.0, 2.0, 2.0, 6.0, 1.0)   \n",
       "15      (2, -2, 4, -2, -2)         (2, -2, 4, -2)  (4.0, 3.0, 1.0, 6.0, 1.0)   \n",
       "16      (2, -2, 4, -2, -2)         (2, -2, 4, -2)  (4.0, 2.0, 2.0, 6.0, 1.0)   \n",
       "...                    ...                    ...                        ...   \n",
       "788       (1, 5, 1, 2, -2)           (1, 5, 1, 2)  (2.0, 2.0, 4.0, 2.0, 3.0)   \n",
       "798     (-2, -2, 2, 3, -2)         (-2, -2, 2, 3)  (2.0, 2.0, 4.0, 2.0, 3.0)   \n",
       "845      (-3, 1, 2, -4, 2)         (-3, 1, 2, -4)  (4.0, 8.0, 4.0, 8.0, 4.0)   \n",
       "972     (2, -3, 2, -3, -2)         (2, -3, 2, -3)  (1.0, 2.0, 2.0, 2.0, 4.0)   \n",
       "1081     (2, 2, -4, 2, -2)          (2, 2, -4, 2)  (1.0, 2.0, 2.0, 2.0, 4.0)   \n",
       "\n",
       "     next_pattern_matched_short  next_note_durations_short  \\\n",
       "5               (-2, -2, 2, -2)  (2.0, 4.0, 4.0, 2.0, 2.0)   \n",
       "8               (-2, -2, 2, -2)  (2.0, 4.0, 4.0, 2.0, 2.0)   \n",
       "14               (2, -2, 4, -2)  (4.0, 2.0, 2.0, 6.0, 1.0)   \n",
       "15               (2, -2, 4, -2)  (4.0, 3.0, 1.0, 6.0, 1.0)   \n",
       "16               (2, -2, 4, -2)  (4.0, 2.0, 2.0, 6.0, 1.0)   \n",
       "...                         ...                        ...   \n",
       "788                (1, 5, 1, 2)  (2.0, 2.0, 4.0, 2.0, 3.0)   \n",
       "798              (-2, -2, 2, 3)  (2.0, 2.0, 4.0, 2.0, 3.0)   \n",
       "845              (-3, 1, 2, -4)  (4.0, 8.0, 4.0, 8.0, 4.0)   \n",
       "972              (2, -3, 2, -3)  (1.0, 2.0, 2.0, 2.0, 4.0)   \n",
       "1081              (2, 2, -4, 2)  (1.0, 2.0, 2.0, 2.0, 4.0)   \n",
       "\n",
       "     next_end_measure_minus  \n",
       "5                       9.0  \n",
       "8                      13.0  \n",
       "14                     10.0  \n",
       "15                     12.0  \n",
       "16                     14.0  \n",
       "...                     ...  \n",
       "788                    82.0  \n",
       "798                    85.0  \n",
       "845                   104.0  \n",
       "972                    52.0  \n",
       "1081                  132.0  \n",
       "\n",
       "[127 rows x 23 columns]"
      ],
      "text/html": "<div>\n<style scoped>\n    .dataframe tbody tr th:only-of-type {\n        vertical-align: middle;\n    }\n\n    .dataframe tbody tr th {\n        vertical-align: top;\n    }\n\n    .dataframe thead th {\n        text-align: right;\n    }\n</style>\n<table border=\"1\" class=\"dataframe\">\n  <thead>\n    <tr style=\"text-align: right;\">\n      <th></th>\n      <th>pattern_generating_match</th>\n      <th>pattern_matched</th>\n      <th>piece_title</th>\n      <th>part</th>\n      <th>start_measure</th>\n      <th>start_beat</th>\n      <th>end_measure</th>\n      <th>end_beat</th>\n      <th>start_offset</th>\n      <th>end_offset</th>\n      <th>...</th>\n      <th>duration_ratios</th>\n      <th>next_start_measure</th>\n      <th>next_end_measure</th>\n      <th>next_note_durations</th>\n      <th>next_pattern_matched</th>\n      <th>pattern_matched_short</th>\n      <th>note_durations_short</th>\n      <th>next_pattern_matched_short</th>\n      <th>next_note_durations_short</th>\n      <th>next_end_measure_minus</th>\n    </tr>\n  </thead>\n  <tbody>\n    <tr>\n      <th>5</th>\n      <td>(-2, -2, -2, 2, -2)</td>\n      <td>(-2, -2, -2, 2, -2)</td>\n      <td>Ave Maria</td>\n      <td>[Superius]</td>\n      <td>8</td>\n      <td>1.0</td>\n      <td>10</td>\n      <td>2.0</td>\n      <td>56.0</td>\n      <td>74.0</td>\n      <td>...</td>\n      <td>(0.3333333333333333, 2.0, 1.0, 0.5, 1.0)</td>\n      <td>8.0</td>\n      <td>10.0</td>\n      <td>(2.0, 4.0, 4.0, 2.0, 2.0, 6.0)</td>\n      <td>(-2, -2, 2, -2, 4)</td>\n      <td>(-2, -2, 2, -2)</td>\n      <td>(2.0, 4.0, 4.0, 2.0, 2.0)</td>\n      <td>(-2, -2, 2, -2)</td>\n      <td>(2.0, 4.0, 4.0, 2.0, 2.0)</td>\n      <td>9.0</td>\n    </tr>\n    <tr>\n      <th>8</th>\n      <td>(-2, -2, -2, 2, -2)</td>\n      <td>(-2, -2, -2, 2, -2)</td>\n      <td>Ave Maria</td>\n      <td>Tenor</td>\n      <td>12</td>\n      <td>1.0</td>\n      <td>14</td>\n      <td>2.0</td>\n      <td>88.0</td>\n      <td>106.0</td>\n      <td>...</td>\n      <td>(0.3333333333333333, 2.0, 1.0, 0.5, 1.0)</td>\n      <td>12.0</td>\n      <td>14.0</td>\n      <td>(2.0, 4.0, 4.0, 2.0, 2.0, 6.0)</td>\n      <td>(-2, -2, 2, -2, 4)</td>\n      <td>(-2, -2, 2, -2)</td>\n      <td>(2.0, 4.0, 4.0, 2.0, 2.0)</td>\n      <td>(-2, -2, 2, -2)</td>\n      <td>(2.0, 4.0, 4.0, 2.0, 2.0)</td>\n      <td>13.0</td>\n    </tr>\n    <tr>\n      <th>14</th>\n      <td>(-2, 2, -2, 4, -2)</td>\n      <td>(-2, 2, -2, 4, -2)</td>\n      <td>Ave Maria</td>\n      <td>[Superius]</td>\n      <td>9</td>\n      <td>1.0</td>\n      <td>11</td>\n      <td>2.0</td>\n      <td>64.0</td>\n      <td>82.0</td>\n      <td>...</td>\n      <td>(1.0, 0.5, 1.0, 3.0, 0.16666666666666666)</td>\n      <td>9.0</td>\n      <td>11.0</td>\n      <td>(4.0, 2.0, 2.0, 6.0, 1.0, 1.0)</td>\n      <td>(2, -2, 4, -2, -2)</td>\n      <td>(2, -2, 4, -2)</td>\n      <td>(4.0, 2.0, 2.0, 6.0, 1.0)</td>\n      <td>(2, -2, 4, -2)</td>\n      <td>(4.0, 2.0, 2.0, 6.0, 1.0)</td>\n      <td>10.0</td>\n    </tr>\n    <tr>\n      <th>15</th>\n      <td>(-2, 2, -2, 4, -2)</td>\n      <td>(-2, 2, -2, 4, -2)</td>\n      <td>Ave Maria</td>\n      <td>Altus</td>\n      <td>11</td>\n      <td>1.0</td>\n      <td>13</td>\n      <td>2.0</td>\n      <td>80.0</td>\n      <td>98.0</td>\n      <td>...</td>\n      <td>(1.0, 0.75, 0.3333333333333333, 6.0, 0.1666666...</td>\n      <td>11.0</td>\n      <td>13.0</td>\n      <td>(4.0, 3.0, 1.0, 6.0, 1.0, 1.0)</td>\n      <td>(2, -2, 4, -2, -2)</td>\n      <td>(2, -2, 4, -2)</td>\n      <td>(4.0, 3.0, 1.0, 6.0, 1.0)</td>\n      <td>(2, -2, 4, -2)</td>\n      <td>(4.0, 3.0, 1.0, 6.0, 1.0)</td>\n      <td>12.0</td>\n    </tr>\n    <tr>\n      <th>16</th>\n      <td>(-2, 2, -2, 4, -2)</td>\n      <td>(-2, 2, -2, 4, -2)</td>\n      <td>Ave Maria</td>\n      <td>Tenor</td>\n      <td>13</td>\n      <td>1.0</td>\n      <td>15</td>\n      <td>2.0</td>\n      <td>96.0</td>\n      <td>114.0</td>\n      <td>...</td>\n      <td>(1.0, 0.5, 1.0, 3.0, 0.16666666666666666)</td>\n      <td>13.0</td>\n      <td>15.0</td>\n      <td>(4.0, 2.0, 2.0, 6.0, 1.0, 1.0)</td>\n      <td>(2, -2, 4, -2, -2)</td>\n      <td>(2, -2, 4, -2)</td>\n      <td>(4.0, 2.0, 2.0, 6.0, 1.0)</td>\n      <td>(2, -2, 4, -2)</td>\n      <td>(4.0, 2.0, 2.0, 6.0, 1.0)</td>\n      <td>14.0</td>\n    </tr>\n    <tr>\n      <th>...</th>\n      <td>...</td>\n      <td>...</td>\n      <td>...</td>\n      <td>...</td>\n      <td>...</td>\n      <td>...</td>\n      <td>...</td>\n      <td>...</td>\n      <td>...</td>\n      <td>...</td>\n      <td>...</td>\n      <td>...</td>\n      <td>...</td>\n      <td>...</td>\n      <td>...</td>\n      <td>...</td>\n      <td>...</td>\n      <td>...</td>\n      <td>...</td>\n      <td>...</td>\n      <td>...</td>\n    </tr>\n    <tr>\n      <th>788</th>\n      <td>(1, 1, 5, 1, 2)</td>\n      <td>(1, 1, 5, 1, 2)</td>\n      <td>Ave Maria</td>\n      <td>Bassus</td>\n      <td>81</td>\n      <td>1.0</td>\n      <td>82</td>\n      <td>4.0</td>\n      <td>640.0</td>\n      <td>654.0</td>\n      <td>...</td>\n      <td>(0.5, 1.0, 2.0, 0.5, 1.5)</td>\n      <td>81.0</td>\n      <td>83.0</td>\n      <td>(2.0, 2.0, 4.0, 2.0, 3.0, 1.0)</td>\n      <td>(1, 5, 1, 2, -2)</td>\n      <td>(1, 5, 1, 2)</td>\n      <td>(2.0, 2.0, 4.0, 2.0, 3.0)</td>\n      <td>(1, 5, 1, 2)</td>\n      <td>(2.0, 2.0, 4.0, 2.0, 3.0)</td>\n      <td>82.0</td>\n    </tr>\n    <tr>\n      <th>798</th>\n      <td>(-2, -2, -2, 2, 3)</td>\n      <td>(-2, -2, -2, 2, 3)</td>\n      <td>Ave Maria</td>\n      <td>Altus</td>\n      <td>84</td>\n      <td>2.5</td>\n      <td>85</td>\n      <td>4.0</td>\n      <td>667.0</td>\n      <td>678.0</td>\n      <td>...</td>\n      <td>(2.0, 1.0, 2.0, 0.5, 1.5)</td>\n      <td>84.0</td>\n      <td>86.0</td>\n      <td>(2.0, 2.0, 4.0, 2.0, 3.0, 1.0)</td>\n      <td>(-2, -2, 2, 3, -2)</td>\n      <td>(-2, -2, 2, 3)</td>\n      <td>(2.0, 2.0, 4.0, 2.0, 3.0)</td>\n      <td>(-2, -2, 2, 3)</td>\n      <td>(2.0, 2.0, 4.0, 2.0, 3.0)</td>\n      <td>85.0</td>\n    </tr>\n    <tr>\n      <th>845</th>\n      <td>(1, -3, 1, 2, -4)</td>\n      <td>(1, -3, 1, 2, -4)</td>\n      <td>Ave Maria</td>\n      <td>Altus</td>\n      <td>102</td>\n      <td>1.0</td>\n      <td>104</td>\n      <td>3.0</td>\n      <td>840.0</td>\n      <td>872.0</td>\n      <td>...</td>\n      <td>(0.5, 2.0, 0.5, 2.0, 0.5)</td>\n      <td>102.0</td>\n      <td>105.0</td>\n      <td>(4.0, 8.0, 4.0, 8.0, 4.0, 8.0)</td>\n      <td>(-3, 1, 2, -4, 2)</td>\n      <td>(-3, 1, 2, -4)</td>\n      <td>(4.0, 8.0, 4.0, 8.0, 4.0)</td>\n      <td>(-3, 1, 2, -4)</td>\n      <td>(4.0, 8.0, 4.0, 8.0, 4.0)</td>\n      <td>104.0</td>\n    </tr>\n    <tr>\n      <th>972</th>\n      <td>(-2, 2, -3, 2, -3)</td>\n      <td>(-2, 2, -3, 2, -3)</td>\n      <td>Ave Maria</td>\n      <td>Tenor</td>\n      <td>51</td>\n      <td>2.0</td>\n      <td>52</td>\n      <td>3.0</td>\n      <td>402.0</td>\n      <td>412.0</td>\n      <td>...</td>\n      <td>(0.3333333333333333, 2.0, 1.0, 1.0, 2.0)</td>\n      <td>51.0</td>\n      <td>53.0</td>\n      <td>(1.0, 2.0, 2.0, 2.0, 4.0, 16.0)</td>\n      <td>(2, -3, 2, -3, -2)</td>\n      <td>(2, -3, 2, -3)</td>\n      <td>(1.0, 2.0, 2.0, 2.0, 4.0)</td>\n      <td>(2, -3, 2, -3)</td>\n      <td>(1.0, 2.0, 2.0, 2.0, 4.0)</td>\n      <td>52.0</td>\n    </tr>\n    <tr>\n      <th>1081</th>\n      <td>(2, 2, 2, -4, 2)</td>\n      <td>(2, 2, 2, -4, 2)</td>\n      <td>Ave Maria</td>\n      <td>Bassus</td>\n      <td>131</td>\n      <td>3.0</td>\n      <td>132</td>\n      <td>3.0</td>\n      <td>1108.0</td>\n      <td>1116.0</td>\n      <td>...</td>\n      <td>(1.0, 2.0, 1.0, 1.0, 2.0)</td>\n      <td>131.0</td>\n      <td>133.0</td>\n      <td>(1.0, 2.0, 2.0, 2.0, 4.0, 8.0)</td>\n      <td>(2, 2, -4, 2, -2)</td>\n      <td>(2, 2, -4, 2)</td>\n      <td>(1.0, 2.0, 2.0, 2.0, 4.0)</td>\n      <td>(2, 2, -4, 2)</td>\n      <td>(1.0, 2.0, 2.0, 2.0, 4.0)</td>\n      <td>132.0</td>\n    </tr>\n  </tbody>\n</table>\n<p>127 rows × 23 columns</p>\n</div>"
     },
     "metadata": {},
     "execution_count": 47
    }
   ],
   "source": [
    "# Make sure there are no NaN values \n",
    "\n",
    "# Add new column for check of matching end measures +1 (which we do by subtracting 1, then checking for ==)\n",
    "# combine the results:  these are the soggetti that need to get Greedy\n",
    "\n",
    "df_filter_patts['next_end_measure'].fillna(0)\n",
    "df_filter_patts['next_end_measure_minus'] = df_filter_patts['next_end_measure'].apply(lambda x: x-1)\n",
    "df_test_1 = df_filter_patts[df_filter_patts[\"end_measure\"] == df_filter_patts[\"next_end_measure\"]]\n",
    "df_test_2 = df_filter_patts[df_filter_patts[\"end_measure\"] == df_filter_patts[\"next_end_measure_minus\"]]\n",
    "df_test_combined = pd.concat([df_test_1, df_test_2])\n",
    "df_test_combined\n"
   ]
  },
  {
   "cell_type": "code",
   "execution_count": null,
   "metadata": {},
   "outputs": [],
   "source": []
  },
  {
   "cell_type": "code",
   "execution_count": null,
   "metadata": {},
   "outputs": [],
   "source": []
  }
 ],
 "metadata": {
  "kernelspec": {
   "display_name": "Python 3",
   "language": "python",
   "name": "python3"
  },
  "language_info": {
   "codemirror_mode": {
    "name": "ipython",
    "version": 3
   },
   "file_extension": ".py",
   "mimetype": "text/x-python",
   "name": "python",
   "nbconvert_exporter": "python",
   "pygments_lexer": "ipython3",
   "version": "3.8.5-final"
  }
 },
 "nbformat": 4,
 "nbformat_minor": 4
}