from crim_intervals import *
import pandas as pd
import ast
import matplotlib
from itertools import tee, combinations