{
 "metadata": {
  "language_info": {
   "codemirror_mode": {
    "name": "ipython",
    "version": 3
   },
   "file_extension": ".py",
   "mimetype": "text/x-python",
   "name": "python",
   "nbconvert_exporter": "python",
   "pygments_lexer": "ipython3",
   "version": "3.8.5-final"
  },
  "orig_nbformat": 2,
  "kernelspec": {
   "name": "python3",
   "display_name": "Python 3",
   "language": "python"
  }
 },
 "nbformat": 4,
 "nbformat_minor": 2,
 "cells": [
  {
   "cell_type": "code",
   "execution_count": 31,
   "metadata": {},
   "outputs": [],
   "source": [
    "from crim_intervals import *\n",
    "import pandas as pd\n",
    "import ast\n",
    "import matplotlib\n",
    "from itertools import tee, combinations\n",
    "import numpy as np"
   ]
  },
  {
   "cell_type": "code",
   "execution_count": 32,
   "metadata": {},
   "outputs": [],
   "source": [
    "# THIS IS DEV COPY for use with CLOSE/EXACT Matches\n",
    "\n",
    "import numpy as np\n",
    "\n",
    "# Converts lists to tuples\n",
    "\n",
    "def lists_to_tuples_a(el):\n",
    "    if isinstance(el, list):\n",
    "        return tuple(el)\n",
    "    else:\n",
    "        return el\n",
    "\n",
    "# Filters for the length of the Presentation Type in the Classifier\n",
    "\n",
    "def limit_offset_size(array, limit):\n",
    "    under_limit = np.cumsum(array) <= limit\n",
    "    return array[: sum(under_limit)]\n",
    "\n",
    "\n",
    "# Gets the the list of offset differences for each group \n",
    "\n",
    "def get_offset_difference_list_a(group):\n",
    "    # if we do sort values as part of the func call, then we don't need this first line\n",
    "    group = group.sort_values(\"start_offset\")\n",
    "    group[\"next_offset\"] = group.start_offset.shift(-1)\n",
    "    offset_difference_list = (group.next_offset - group.start_offset).dropna().tolist()\n",
    "    return offset_difference_list\n",
    "\n",
    "# The classifications are done here\n",
    "\n",
    "def classify_offsets_a(offset_difference_list):\n",
    "    \"\"\"\n",
    "    Put logic for classifying an offset list here\n",
    "    \"\"\"\n",
    "    #\n",
    "    offset_difference_list = limit_offset_size(offset_difference_list, 5000)\n",
    "\n",
    "\n",
    "\n",
    "    \n",
    "    alt_list = offset_difference_list[::2]\n",
    "    \n",
    "    \n",
    "    if len(set(offset_difference_list)) == 1 and len(offset_difference_list) > 1:\n",
    "        return (\"PEN\", offset_difference_list)\n",
    "    elif (len(offset_difference_list) %2 != 0) and (len(set(alt_list)) == 1):\n",
    "        return (\"ID\", offset_difference_list)\n",
    "    elif len(offset_difference_list) >= 1:\n",
    "        return (\"Fuga\", offset_difference_list)\n",
    "    else: \n",
    "        return (\"Singleton\", offset_difference_list)\n",
    "    \n",
    "\n",
    "   \n",
    "# adds predicted type, offsets and entry numbers to the results\n",
    "\n",
    "def predict_type_a(group):\n",
    "    offset_differences = get_offset_difference_list_a(group)\n",
    "    predicted_type, offsets = classify_offsets_a(offset_differences)\n",
    "\n",
    "    group[\"predicted_type\"] = [predicted_type for i in range(len(group))]\n",
    "    group[\"offset_diffs\"] = [offsets for i in range(len(group))]\n",
    "    group[\"entry_number\"] = [i + 1 for i in range(len(group))]\n",
    "\n",
    "    return group"
   ]
  },
  {
   "cell_type": "code",
   "execution_count": 38,
   "metadata": {},
   "outputs": [
    {
     "output_type": "execute_result",
     "data": {
      "text/plain": [
       "  pattern_generating_match   pattern_matched piece_title        part  \\\n",
       "0         (4, 1, 2, 2, -3)  [4, 1, 2, 2, -3]   Ave Maria  [Superius]   \n",
       "1         (4, 1, 2, 2, -3)  [4, 1, 2, 2, -3]   Ave Maria  [Superius]   \n",
       "2         (4, 1, 2, 2, -3)  [4, 1, 2, 2, -3]   Ave Maria       Altus   \n",
       "3         (4, 1, 2, 2, -3)  [4, 1, 2, 2, -3]   Ave Maria       Tenor   \n",
       "4         (4, 1, 2, 2, -3)  [4, 1, 2, 2, -3]   Ave Maria      Bassus   \n",
       "\n",
       "   start_measure  start_beat  start_offset  end_offset  \\\n",
       "0              1         1.0           0.0        24.0   \n",
       "1            105         3.0         884.0       910.0   \n",
       "2              3         1.0          16.0        40.0   \n",
       "3              5         1.0          32.0        56.0   \n",
       "4              7         1.0          48.0        72.0   \n",
       "\n",
       "                   note_durations  sum_durs  \n",
       "0  [4.0, 8.0, 4.0, 4.0, 4.0, 8.0]      32.0  \n",
       "1  [4.0, 8.0, 4.0, 4.0, 6.0, 2.0]      28.0  \n",
       "2  [4.0, 8.0, 4.0, 4.0, 4.0, 8.0]      32.0  \n",
       "3  [4.0, 8.0, 4.0, 4.0, 4.0, 8.0]      32.0  \n",
       "4  [4.0, 8.0, 4.0, 4.0, 4.0, 8.0]      32.0  "
      ],
      "text/html": "<div>\n<style scoped>\n    .dataframe tbody tr th:only-of-type {\n        vertical-align: middle;\n    }\n\n    .dataframe tbody tr th {\n        vertical-align: top;\n    }\n\n    .dataframe thead th {\n        text-align: right;\n    }\n</style>\n<table border=\"1\" class=\"dataframe\">\n  <thead>\n    <tr style=\"text-align: right;\">\n      <th></th>\n      <th>pattern_generating_match</th>\n      <th>pattern_matched</th>\n      <th>piece_title</th>\n      <th>part</th>\n      <th>start_measure</th>\n      <th>start_beat</th>\n      <th>start_offset</th>\n      <th>end_offset</th>\n      <th>note_durations</th>\n      <th>sum_durs</th>\n    </tr>\n  </thead>\n  <tbody>\n    <tr>\n      <th>0</th>\n      <td>(4, 1, 2, 2, -3)</td>\n      <td>[4, 1, 2, 2, -3]</td>\n      <td>Ave Maria</td>\n      <td>[Superius]</td>\n      <td>1</td>\n      <td>1.0</td>\n      <td>0.0</td>\n      <td>24.0</td>\n      <td>[4.0, 8.0, 4.0, 4.0, 4.0, 8.0]</td>\n      <td>32.0</td>\n    </tr>\n    <tr>\n      <th>1</th>\n      <td>(4, 1, 2, 2, -3)</td>\n      <td>[4, 1, 2, 2, -3]</td>\n      <td>Ave Maria</td>\n      <td>[Superius]</td>\n      <td>105</td>\n      <td>3.0</td>\n      <td>884.0</td>\n      <td>910.0</td>\n      <td>[4.0, 8.0, 4.0, 4.0, 6.0, 2.0]</td>\n      <td>28.0</td>\n    </tr>\n    <tr>\n      <th>2</th>\n      <td>(4, 1, 2, 2, -3)</td>\n      <td>[4, 1, 2, 2, -3]</td>\n      <td>Ave Maria</td>\n      <td>Altus</td>\n      <td>3</td>\n      <td>1.0</td>\n      <td>16.0</td>\n      <td>40.0</td>\n      <td>[4.0, 8.0, 4.0, 4.0, 4.0, 8.0]</td>\n      <td>32.0</td>\n    </tr>\n    <tr>\n      <th>3</th>\n      <td>(4, 1, 2, 2, -3)</td>\n      <td>[4, 1, 2, 2, -3]</td>\n      <td>Ave Maria</td>\n      <td>Tenor</td>\n      <td>5</td>\n      <td>1.0</td>\n      <td>32.0</td>\n      <td>56.0</td>\n      <td>[4.0, 8.0, 4.0, 4.0, 4.0, 8.0]</td>\n      <td>32.0</td>\n    </tr>\n    <tr>\n      <th>4</th>\n      <td>(4, 1, 2, 2, -3)</td>\n      <td>[4, 1, 2, 2, -3]</td>\n      <td>Ave Maria</td>\n      <td>Bassus</td>\n      <td>7</td>\n      <td>1.0</td>\n      <td>48.0</td>\n      <td>72.0</td>\n      <td>[4.0, 8.0, 4.0, 4.0, 4.0, 8.0]</td>\n      <td>32.0</td>\n    </tr>\n  </tbody>\n</table>\n</div>"
     },
     "metadata": {},
     "execution_count": 38
    }
   ],
   "source": [
    "df = pd.read_csv(('ave_test_set.csv'), index_col=0)\n",
    "df = df.drop(columns=[\"ema\", \"ema_url\", \"end_measure\", \"end_beat\"])\n",
    "df.head()\n"
   ]
  },
  {
   "cell_type": "code",
   "execution_count": 143,
   "metadata": {},
   "outputs": [
    {
     "output_type": "execute_result",
     "data": {
      "text/plain": [
       "   pattern_generating_match       pattern_matched piece_title        part  \\\n",
       "18     (-2, -2, -2, -2, -2)  [-2, -2, -2, -2, -2]   Ave Maria  [Superius]   \n",
       "19     (-2, -2, -2, -2, -2)  [-2, -2, -2, -2, -2]   Ave Maria  [Superius]   \n",
       "21     (-2, -2, -2, -2, -2)  [-2, -2, -2, -2, -2]   Ave Maria       Tenor   \n",
       "20     (-2, -2, -2, -2, -2)  [-2, -2, -2, -2, -2]   Ave Maria  [Superius]   \n",
       "73     (-2, -2, -2, -2, -3)  [-2, -2, -2, -2, -3]   Ave Maria       Tenor   \n",
       "\n",
       "    start_measure  start_beat  start_offset  end_offset  \\\n",
       "18             19         1.0         144.0       156.0   \n",
       "19             20         4.0         158.0       172.0   \n",
       "21             28         1.0         216.0       225.0   \n",
       "20             85         1.0         672.0       688.0   \n",
       "73             42         1.0         328.0       348.0   \n",
       "\n",
       "                    note_durations  sum_durs  group_number  prev_entry_off  \\\n",
       "18  [3.0, 1.0, 2.0, 2.0, 4.0, 2.0]      14.0             0             NaN   \n",
       "19  [3.0, 1.0, 4.0, 2.0, 4.0, 4.0]      18.0             0           144.0   \n",
       "21  [3.0, 1.0, 1.0, 1.0, 3.0, 1.0]      10.0             0           158.0   \n",
       "20  [4.0, 2.0, 4.0, 2.0, 4.0, 4.0]      20.0             0           216.0   \n",
       "73  [6.0, 2.0, 4.0, 4.0, 4.0, 2.0]      22.0             1           672.0   \n",
       "\n",
       "    next_entry_off  last_off_diff  next_off_diff  \n",
       "18           158.0            NaN           14.0  \n",
       "19           216.0           14.0           58.0  \n",
       "21           672.0           58.0          456.0  \n",
       "20           328.0          456.0         -344.0  \n",
       "73           328.0         -344.0            0.0  "
      ],
      "text/html": "<div>\n<style scoped>\n    .dataframe tbody tr th:only-of-type {\n        vertical-align: middle;\n    }\n\n    .dataframe tbody tr th {\n        vertical-align: top;\n    }\n\n    .dataframe thead th {\n        text-align: right;\n    }\n</style>\n<table border=\"1\" class=\"dataframe\">\n  <thead>\n    <tr style=\"text-align: right;\">\n      <th></th>\n      <th>pattern_generating_match</th>\n      <th>pattern_matched</th>\n      <th>piece_title</th>\n      <th>part</th>\n      <th>start_measure</th>\n      <th>start_beat</th>\n      <th>start_offset</th>\n      <th>end_offset</th>\n      <th>note_durations</th>\n      <th>sum_durs</th>\n      <th>group_number</th>\n      <th>prev_entry_off</th>\n      <th>next_entry_off</th>\n      <th>last_off_diff</th>\n      <th>next_off_diff</th>\n    </tr>\n  </thead>\n  <tbody>\n    <tr>\n      <th>18</th>\n      <td>(-2, -2, -2, -2, -2)</td>\n      <td>[-2, -2, -2, -2, -2]</td>\n      <td>Ave Maria</td>\n      <td>[Superius]</td>\n      <td>19</td>\n      <td>1.0</td>\n      <td>144.0</td>\n      <td>156.0</td>\n      <td>[3.0, 1.0, 2.0, 2.0, 4.0, 2.0]</td>\n      <td>14.0</td>\n      <td>0</td>\n      <td>NaN</td>\n      <td>158.0</td>\n      <td>NaN</td>\n      <td>14.0</td>\n    </tr>\n    <tr>\n      <th>19</th>\n      <td>(-2, -2, -2, -2, -2)</td>\n      <td>[-2, -2, -2, -2, -2]</td>\n      <td>Ave Maria</td>\n      <td>[Superius]</td>\n      <td>20</td>\n      <td>4.0</td>\n      <td>158.0</td>\n      <td>172.0</td>\n      <td>[3.0, 1.0, 4.0, 2.0, 4.0, 4.0]</td>\n      <td>18.0</td>\n      <td>0</td>\n      <td>144.0</td>\n      <td>216.0</td>\n      <td>14.0</td>\n      <td>58.0</td>\n    </tr>\n    <tr>\n      <th>21</th>\n      <td>(-2, -2, -2, -2, -2)</td>\n      <td>[-2, -2, -2, -2, -2]</td>\n      <td>Ave Maria</td>\n      <td>Tenor</td>\n      <td>28</td>\n      <td>1.0</td>\n      <td>216.0</td>\n      <td>225.0</td>\n      <td>[3.0, 1.0, 1.0, 1.0, 3.0, 1.0]</td>\n      <td>10.0</td>\n      <td>0</td>\n      <td>158.0</td>\n      <td>672.0</td>\n      <td>58.0</td>\n      <td>456.0</td>\n    </tr>\n    <tr>\n      <th>20</th>\n      <td>(-2, -2, -2, -2, -2)</td>\n      <td>[-2, -2, -2, -2, -2]</td>\n      <td>Ave Maria</td>\n      <td>[Superius]</td>\n      <td>85</td>\n      <td>1.0</td>\n      <td>672.0</td>\n      <td>688.0</td>\n      <td>[4.0, 2.0, 4.0, 2.0, 4.0, 4.0]</td>\n      <td>20.0</td>\n      <td>0</td>\n      <td>216.0</td>\n      <td>328.0</td>\n      <td>456.0</td>\n      <td>-344.0</td>\n    </tr>\n    <tr>\n      <th>73</th>\n      <td>(-2, -2, -2, -2, -3)</td>\n      <td>[-2, -2, -2, -2, -3]</td>\n      <td>Ave Maria</td>\n      <td>Tenor</td>\n      <td>42</td>\n      <td>1.0</td>\n      <td>328.0</td>\n      <td>348.0</td>\n      <td>[6.0, 2.0, 4.0, 4.0, 4.0, 2.0]</td>\n      <td>22.0</td>\n      <td>1</td>\n      <td>672.0</td>\n      <td>328.0</td>\n      <td>-344.0</td>\n      <td>0.0</td>\n    </tr>\n  </tbody>\n</table>\n</div>"
     },
     "metadata": {},
     "execution_count": 143
    }
   ],
   "source": [
    "# now process the original match data df by:\n",
    "# sorting by start offset, then group by pattern generating match and applying the function above for prev entry\n",
    "# also give each group a number\n",
    "# sort by group number and start offset\n",
    "\n",
    "df2 = df.sort_values(\"start_offset\")\n",
    "df2[\"group_number\"] = df2.groupby('pattern_generating_match').ngroup()\n",
    "df2 = df2.sort_values(['group_number', 'start_offset'])\n",
    "df2[\"prev_entry_off\"] = df2[\"start_offset\"].shift(1)\n",
    "df2[\"next_entry_off\"] = df2[\"start_offset\"].shift(-1)\n",
    "df2[\"last_off_diff\"] = df2[\"start_offset\"] - df2[\"prev_entry_off\"]\n",
    "df2[\"next_off_diff\"] = df2[\"next_entry_off\"] - df2[\"start_offset\"]\n",
    "\n",
    "\n",
    "\n",
    "df2.head()"
   ]
  },
  {
   "cell_type": "code",
   "execution_count": 147,
   "metadata": {
    "tags": []
   },
   "outputs": [
    {
     "output_type": "execute_result",
     "data": {
      "text/plain": [
       "   pattern_generating_match       pattern_matched piece_title        part  \\\n",
       "18     (-2, -2, -2, -2, -2)  [-2, -2, -2, -2, -2]   Ave Maria  [Superius]   \n",
       "19     (-2, -2, -2, -2, -2)  [-2, -2, -2, -2, -2]   Ave Maria  [Superius]   \n",
       "21     (-2, -2, -2, -2, -2)  [-2, -2, -2, -2, -2]   Ave Maria       Tenor   \n",
       "20     (-2, -2, -2, -2, -2)  [-2, -2, -2, -2, -2]   Ave Maria  [Superius]   \n",
       "73     (-2, -2, -2, -2, -3)  [-2, -2, -2, -2, -3]   Ave Maria       Tenor   \n",
       "\n",
       "    start_measure  start_beat  start_offset  end_offset  \\\n",
       "18             19         1.0         144.0       156.0   \n",
       "19             20         4.0         158.0       172.0   \n",
       "21             28         1.0         216.0       225.0   \n",
       "20             85         1.0         672.0       688.0   \n",
       "73             42         1.0         328.0       348.0   \n",
       "\n",
       "                    note_durations  sum_durs  group_number  prev_entry_off  \\\n",
       "18  [3.0, 1.0, 2.0, 2.0, 4.0, 2.0]      14.0             0             NaN   \n",
       "19  [3.0, 1.0, 4.0, 2.0, 4.0, 4.0]      18.0             0           144.0   \n",
       "21  [3.0, 1.0, 1.0, 1.0, 3.0, 1.0]      10.0             0           158.0   \n",
       "20  [4.0, 2.0, 4.0, 2.0, 4.0, 4.0]      20.0             0           216.0   \n",
       "73  [6.0, 2.0, 4.0, 4.0, 4.0, 2.0]      22.0             1           672.0   \n",
       "\n",
       "    next_entry_off  last_off_diff  next_off_diff  parallel  forward_gapped  \\\n",
       "18           158.0            NaN           14.0     False           False   \n",
       "19           216.0           14.0           58.0     False            True   \n",
       "21           672.0           58.0          456.0     False            True   \n",
       "20           328.0          456.0         -344.0     False           False   \n",
       "73           328.0         -344.0            0.0     False           False   \n",
       "\n",
       "    back_gapped  singleton  split_group  \n",
       "18        False      False        False  \n",
       "19        False      False         True  \n",
       "21         True       True        False  \n",
       "20         True      False        False  \n",
       "73        False      False        False  "
      ],
      "text/html": "<div>\n<style scoped>\n    .dataframe tbody tr th:only-of-type {\n        vertical-align: middle;\n    }\n\n    .dataframe tbody tr th {\n        vertical-align: top;\n    }\n\n    .dataframe thead th {\n        text-align: right;\n    }\n</style>\n<table border=\"1\" class=\"dataframe\">\n  <thead>\n    <tr style=\"text-align: right;\">\n      <th></th>\n      <th>pattern_generating_match</th>\n      <th>pattern_matched</th>\n      <th>piece_title</th>\n      <th>part</th>\n      <th>start_measure</th>\n      <th>start_beat</th>\n      <th>start_offset</th>\n      <th>end_offset</th>\n      <th>note_durations</th>\n      <th>sum_durs</th>\n      <th>group_number</th>\n      <th>prev_entry_off</th>\n      <th>next_entry_off</th>\n      <th>last_off_diff</th>\n      <th>next_off_diff</th>\n      <th>parallel</th>\n      <th>forward_gapped</th>\n      <th>back_gapped</th>\n      <th>singleton</th>\n      <th>split_group</th>\n    </tr>\n  </thead>\n  <tbody>\n    <tr>\n      <th>18</th>\n      <td>(-2, -2, -2, -2, -2)</td>\n      <td>[-2, -2, -2, -2, -2]</td>\n      <td>Ave Maria</td>\n      <td>[Superius]</td>\n      <td>19</td>\n      <td>1.0</td>\n      <td>144.0</td>\n      <td>156.0</td>\n      <td>[3.0, 1.0, 2.0, 2.0, 4.0, 2.0]</td>\n      <td>14.0</td>\n      <td>0</td>\n      <td>NaN</td>\n      <td>158.0</td>\n      <td>NaN</td>\n      <td>14.0</td>\n      <td>False</td>\n      <td>False</td>\n      <td>False</td>\n      <td>False</td>\n      <td>False</td>\n    </tr>\n    <tr>\n      <th>19</th>\n      <td>(-2, -2, -2, -2, -2)</td>\n      <td>[-2, -2, -2, -2, -2]</td>\n      <td>Ave Maria</td>\n      <td>[Superius]</td>\n      <td>20</td>\n      <td>4.0</td>\n      <td>158.0</td>\n      <td>172.0</td>\n      <td>[3.0, 1.0, 4.0, 2.0, 4.0, 4.0]</td>\n      <td>18.0</td>\n      <td>0</td>\n      <td>144.0</td>\n      <td>216.0</td>\n      <td>14.0</td>\n      <td>58.0</td>\n      <td>False</td>\n      <td>True</td>\n      <td>False</td>\n      <td>False</td>\n      <td>True</td>\n    </tr>\n    <tr>\n      <th>21</th>\n      <td>(-2, -2, -2, -2, -2)</td>\n      <td>[-2, -2, -2, -2, -2]</td>\n      <td>Ave Maria</td>\n      <td>Tenor</td>\n      <td>28</td>\n      <td>1.0</td>\n      <td>216.0</td>\n      <td>225.0</td>\n      <td>[3.0, 1.0, 1.0, 1.0, 3.0, 1.0]</td>\n      <td>10.0</td>\n      <td>0</td>\n      <td>158.0</td>\n      <td>672.0</td>\n      <td>58.0</td>\n      <td>456.0</td>\n      <td>False</td>\n      <td>True</td>\n      <td>True</td>\n      <td>True</td>\n      <td>False</td>\n    </tr>\n    <tr>\n      <th>20</th>\n      <td>(-2, -2, -2, -2, -2)</td>\n      <td>[-2, -2, -2, -2, -2]</td>\n      <td>Ave Maria</td>\n      <td>[Superius]</td>\n      <td>85</td>\n      <td>1.0</td>\n      <td>672.0</td>\n      <td>688.0</td>\n      <td>[4.0, 2.0, 4.0, 2.0, 4.0, 4.0]</td>\n      <td>20.0</td>\n      <td>0</td>\n      <td>216.0</td>\n      <td>328.0</td>\n      <td>456.0</td>\n      <td>-344.0</td>\n      <td>False</td>\n      <td>False</td>\n      <td>True</td>\n      <td>False</td>\n      <td>False</td>\n    </tr>\n    <tr>\n      <th>73</th>\n      <td>(-2, -2, -2, -2, -3)</td>\n      <td>[-2, -2, -2, -2, -3]</td>\n      <td>Ave Maria</td>\n      <td>Tenor</td>\n      <td>42</td>\n      <td>1.0</td>\n      <td>328.0</td>\n      <td>348.0</td>\n      <td>[6.0, 2.0, 4.0, 4.0, 4.0, 2.0]</td>\n      <td>22.0</td>\n      <td>1</td>\n      <td>672.0</td>\n      <td>328.0</td>\n      <td>-344.0</td>\n      <td>0.0</td>\n      <td>False</td>\n      <td>False</td>\n      <td>False</td>\n      <td>False</td>\n      <td>False</td>\n    </tr>\n  </tbody>\n</table>\n</div>"
     },
     "metadata": {},
     "execution_count": 147
    }
   ],
   "source": [
    "# above we need to adapt:  col for PREVIOUS OFFset and NEXT OFFset\n",
    "# so that we can find PARALLEL (=0) Forward Gaps (the distance to NEXT entry), and Backward Gaps (distance to PREVIOUS Entry)\n",
    "# All Proximate Matches are part of same sub Group (and go to classifier)\n",
    "# Parallels are part of Sub Group but NOT part of Classified.  We will filter them OUT before classification\n",
    "# Forward ONLY gaps are part of NEXT subgroup\n",
    "# Forward AND Backward Gaps are SINGLETONS:  We will filter then OUT before Classification\n",
    "\n",
    "\n",
    "df2[\"parallel\"] = df2[\"last_off_diff\"] == 0\n",
    "df2[\"forward_gapped\"] = df2[\"next_off_diff\"] >= 20\n",
    "df2[\"back_gapped\"] = df2[\"last_off_diff\"] >= 20\n",
    "df2[\"singleton\"] = (df2['forward_gapped'] == True) & (df2['back_gapped'] == True)\n",
    "df2[\"split_group\"] = (df2['forward_gapped'] == True) & (df2['back_gapped'] == False)\n",
    "df2.head()\n",
    "\n",
    "\n",
    "    \n"
   ]
  },
  {
   "cell_type": "code",
   "execution_count": 151,
   "metadata": {
    "tags": []
   },
   "outputs": [
    {
     "output_type": "execute_result",
     "data": {
      "text/plain": [
       "    pattern_generating_match       pattern_matched piece_title        part  \\\n",
       "18      (-2, -2, -2, -2, -2)  [-2, -2, -2, -2, -2]   Ave Maria  [Superius]   \n",
       "19      (-2, -2, -2, -2, -2)  [-2, -2, -2, -2, -2]   Ave Maria  [Superius]   \n",
       "21      (-2, -2, -2, -2, -2)  [-2, -2, -2, -2, -2]   Ave Maria       Tenor   \n",
       "20      (-2, -2, -2, -2, -2)  [-2, -2, -2, -2, -2]   Ave Maria  [Superius]   \n",
       "73      (-2, -2, -2, -2, -3)  [-2, -2, -2, -2, -3]   Ave Maria       Tenor   \n",
       "71      (-2, -2, -2, -2, -3)  [-2, -2, -2, -2, -3]   Ave Maria  [Superius]   \n",
       "74      (-2, -2, -2, -2, -3)  [-2, -2, -2, -2, -3]   Ave Maria       Tenor   \n",
       "72      (-2, -2, -2, -2, -3)  [-2, -2, -2, -2, -3]   Ave Maria       Altus   \n",
       "177      (-2, -2, -2, -2, 1)   [-2, -2, -2, -2, 1]   Ave Maria       Altus   \n",
       "178      (-2, -2, -2, -2, 1)   [-2, -2, -2, -2, 1]   Ave Maria       Altus   \n",
       "\n",
       "     start_measure  start_beat  start_offset  end_offset  \\\n",
       "18              19         1.0         144.0       156.0   \n",
       "19              20         4.0         158.0       172.0   \n",
       "21              28         1.0         216.0       225.0   \n",
       "20              85         1.0         672.0       688.0   \n",
       "73              42         1.0         328.0       348.0   \n",
       "71              42         1.0         328.0       348.0   \n",
       "74              74         2.0         586.0       594.0   \n",
       "72             106         1.0         888.0       904.0   \n",
       "177             95         1.0         756.0       776.0   \n",
       "178             99         1.0         804.0       824.0   \n",
       "\n",
       "                     note_durations  sum_durs  ...  prev_entry_off  \\\n",
       "18   [3.0, 1.0, 2.0, 2.0, 4.0, 2.0]      14.0  ...             NaN   \n",
       "19   [3.0, 1.0, 4.0, 2.0, 4.0, 4.0]      18.0  ...           144.0   \n",
       "21   [3.0, 1.0, 1.0, 1.0, 3.0, 1.0]      10.0  ...           158.0   \n",
       "20   [4.0, 2.0, 4.0, 2.0, 4.0, 4.0]      20.0  ...           216.0   \n",
       "73   [6.0, 2.0, 4.0, 4.0, 4.0, 2.0]      22.0  ...           672.0   \n",
       "71   [6.0, 2.0, 4.0, 4.0, 4.0, 4.0]      24.0  ...           328.0   \n",
       "74   [3.0, 1.0, 1.0, 1.0, 2.0, 2.0]      10.0  ...           328.0   \n",
       "72   [6.0, 2.0, 2.0, 2.0, 4.0, 4.0]      20.0  ...           586.0   \n",
       "177  [6.0, 2.0, 2.0, 2.0, 8.0, 4.0]      24.0  ...           888.0   \n",
       "178  [6.0, 2.0, 2.0, 2.0, 8.0, 4.0]      24.0  ...           756.0   \n",
       "\n",
       "     next_entry_off  last_off_diff  next_off_diff  parallel  forward_gapped  \\\n",
       "18            158.0            NaN           14.0     False           False   \n",
       "19            216.0           14.0           58.0     False            True   \n",
       "21            672.0           58.0          456.0     False            True   \n",
       "20            328.0          456.0         -344.0     False           False   \n",
       "73            328.0         -344.0            0.0     False           False   \n",
       "71            586.0            0.0          258.0      True            True   \n",
       "74            888.0          258.0          302.0     False            True   \n",
       "72            756.0          302.0         -132.0     False           False   \n",
       "177           804.0         -132.0           48.0     False            True   \n",
       "178           864.0           48.0           60.0     False            True   \n",
       "\n",
       "     back_gapped  singleton  split_group  sub_group_id  \n",
       "18         False      False        False            41  \n",
       "19         False      False         True            41  \n",
       "21          True       True        False            41  \n",
       "20          True      False        False            41  \n",
       "73         False      False        False            41  \n",
       "71         False      False         True            41  \n",
       "74          True       True        False            41  \n",
       "72          True      False        False            41  \n",
       "177        False      False         True            41  \n",
       "178         True       True        False            41  \n",
       "\n",
       "[10 rows x 21 columns]"
      ],
      "text/html": "<div>\n<style scoped>\n    .dataframe tbody tr th:only-of-type {\n        vertical-align: middle;\n    }\n\n    .dataframe tbody tr th {\n        vertical-align: top;\n    }\n\n    .dataframe thead th {\n        text-align: right;\n    }\n</style>\n<table border=\"1\" class=\"dataframe\">\n  <thead>\n    <tr style=\"text-align: right;\">\n      <th></th>\n      <th>pattern_generating_match</th>\n      <th>pattern_matched</th>\n      <th>piece_title</th>\n      <th>part</th>\n      <th>start_measure</th>\n      <th>start_beat</th>\n      <th>start_offset</th>\n      <th>end_offset</th>\n      <th>note_durations</th>\n      <th>sum_durs</th>\n      <th>...</th>\n      <th>prev_entry_off</th>\n      <th>next_entry_off</th>\n      <th>last_off_diff</th>\n      <th>next_off_diff</th>\n      <th>parallel</th>\n      <th>forward_gapped</th>\n      <th>back_gapped</th>\n      <th>singleton</th>\n      <th>split_group</th>\n      <th>sub_group_id</th>\n    </tr>\n  </thead>\n  <tbody>\n    <tr>\n      <th>18</th>\n      <td>(-2, -2, -2, -2, -2)</td>\n      <td>[-2, -2, -2, -2, -2]</td>\n      <td>Ave Maria</td>\n      <td>[Superius]</td>\n      <td>19</td>\n      <td>1.0</td>\n      <td>144.0</td>\n      <td>156.0</td>\n      <td>[3.0, 1.0, 2.0, 2.0, 4.0, 2.0]</td>\n      <td>14.0</td>\n      <td>...</td>\n      <td>NaN</td>\n      <td>158.0</td>\n      <td>NaN</td>\n      <td>14.0</td>\n      <td>False</td>\n      <td>False</td>\n      <td>False</td>\n      <td>False</td>\n      <td>False</td>\n      <td>41</td>\n    </tr>\n    <tr>\n      <th>19</th>\n      <td>(-2, -2, -2, -2, -2)</td>\n      <td>[-2, -2, -2, -2, -2]</td>\n      <td>Ave Maria</td>\n      <td>[Superius]</td>\n      <td>20</td>\n      <td>4.0</td>\n      <td>158.0</td>\n      <td>172.0</td>\n      <td>[3.0, 1.0, 4.0, 2.0, 4.0, 4.0]</td>\n      <td>18.0</td>\n      <td>...</td>\n      <td>144.0</td>\n      <td>216.0</td>\n      <td>14.0</td>\n      <td>58.0</td>\n      <td>False</td>\n      <td>True</td>\n      <td>False</td>\n      <td>False</td>\n      <td>True</td>\n      <td>41</td>\n    </tr>\n    <tr>\n      <th>21</th>\n      <td>(-2, -2, -2, -2, -2)</td>\n      <td>[-2, -2, -2, -2, -2]</td>\n      <td>Ave Maria</td>\n      <td>Tenor</td>\n      <td>28</td>\n      <td>1.0</td>\n      <td>216.0</td>\n      <td>225.0</td>\n      <td>[3.0, 1.0, 1.0, 1.0, 3.0, 1.0]</td>\n      <td>10.0</td>\n      <td>...</td>\n      <td>158.0</td>\n      <td>672.0</td>\n      <td>58.0</td>\n      <td>456.0</td>\n      <td>False</td>\n      <td>True</td>\n      <td>True</td>\n      <td>True</td>\n      <td>False</td>\n      <td>41</td>\n    </tr>\n    <tr>\n      <th>20</th>\n      <td>(-2, -2, -2, -2, -2)</td>\n      <td>[-2, -2, -2, -2, -2]</td>\n      <td>Ave Maria</td>\n      <td>[Superius]</td>\n      <td>85</td>\n      <td>1.0</td>\n      <td>672.0</td>\n      <td>688.0</td>\n      <td>[4.0, 2.0, 4.0, 2.0, 4.0, 4.0]</td>\n      <td>20.0</td>\n      <td>...</td>\n      <td>216.0</td>\n      <td>328.0</td>\n      <td>456.0</td>\n      <td>-344.0</td>\n      <td>False</td>\n      <td>False</td>\n      <td>True</td>\n      <td>False</td>\n      <td>False</td>\n      <td>41</td>\n    </tr>\n    <tr>\n      <th>73</th>\n      <td>(-2, -2, -2, -2, -3)</td>\n      <td>[-2, -2, -2, -2, -3]</td>\n      <td>Ave Maria</td>\n      <td>Tenor</td>\n      <td>42</td>\n      <td>1.0</td>\n      <td>328.0</td>\n      <td>348.0</td>\n      <td>[6.0, 2.0, 4.0, 4.0, 4.0, 2.0]</td>\n      <td>22.0</td>\n      <td>...</td>\n      <td>672.0</td>\n      <td>328.0</td>\n      <td>-344.0</td>\n      <td>0.0</td>\n      <td>False</td>\n      <td>False</td>\n      <td>False</td>\n      <td>False</td>\n      <td>False</td>\n      <td>41</td>\n    </tr>\n    <tr>\n      <th>71</th>\n      <td>(-2, -2, -2, -2, -3)</td>\n      <td>[-2, -2, -2, -2, -3]</td>\n      <td>Ave Maria</td>\n      <td>[Superius]</td>\n      <td>42</td>\n      <td>1.0</td>\n      <td>328.0</td>\n      <td>348.0</td>\n      <td>[6.0, 2.0, 4.0, 4.0, 4.0, 4.0]</td>\n      <td>24.0</td>\n      <td>...</td>\n      <td>328.0</td>\n      <td>586.0</td>\n      <td>0.0</td>\n      <td>258.0</td>\n      <td>True</td>\n      <td>True</td>\n      <td>False</td>\n      <td>False</td>\n      <td>True</td>\n      <td>41</td>\n    </tr>\n    <tr>\n      <th>74</th>\n      <td>(-2, -2, -2, -2, -3)</td>\n      <td>[-2, -2, -2, -2, -3]</td>\n      <td>Ave Maria</td>\n      <td>Tenor</td>\n      <td>74</td>\n      <td>2.0</td>\n      <td>586.0</td>\n      <td>594.0</td>\n      <td>[3.0, 1.0, 1.0, 1.0, 2.0, 2.0]</td>\n      <td>10.0</td>\n      <td>...</td>\n      <td>328.0</td>\n      <td>888.0</td>\n      <td>258.0</td>\n      <td>302.0</td>\n      <td>False</td>\n      <td>True</td>\n      <td>True</td>\n      <td>True</td>\n      <td>False</td>\n      <td>41</td>\n    </tr>\n    <tr>\n      <th>72</th>\n      <td>(-2, -2, -2, -2, -3)</td>\n      <td>[-2, -2, -2, -2, -3]</td>\n      <td>Ave Maria</td>\n      <td>Altus</td>\n      <td>106</td>\n      <td>1.0</td>\n      <td>888.0</td>\n      <td>904.0</td>\n      <td>[6.0, 2.0, 2.0, 2.0, 4.0, 4.0]</td>\n      <td>20.0</td>\n      <td>...</td>\n      <td>586.0</td>\n      <td>756.0</td>\n      <td>302.0</td>\n      <td>-132.0</td>\n      <td>False</td>\n      <td>False</td>\n      <td>True</td>\n      <td>False</td>\n      <td>False</td>\n      <td>41</td>\n    </tr>\n    <tr>\n      <th>177</th>\n      <td>(-2, -2, -2, -2, 1)</td>\n      <td>[-2, -2, -2, -2, 1]</td>\n      <td>Ave Maria</td>\n      <td>Altus</td>\n      <td>95</td>\n      <td>1.0</td>\n      <td>756.0</td>\n      <td>776.0</td>\n      <td>[6.0, 2.0, 2.0, 2.0, 8.0, 4.0]</td>\n      <td>24.0</td>\n      <td>...</td>\n      <td>888.0</td>\n      <td>804.0</td>\n      <td>-132.0</td>\n      <td>48.0</td>\n      <td>False</td>\n      <td>True</td>\n      <td>False</td>\n      <td>False</td>\n      <td>True</td>\n      <td>41</td>\n    </tr>\n    <tr>\n      <th>178</th>\n      <td>(-2, -2, -2, -2, 1)</td>\n      <td>[-2, -2, -2, -2, 1]</td>\n      <td>Ave Maria</td>\n      <td>Altus</td>\n      <td>99</td>\n      <td>1.0</td>\n      <td>804.0</td>\n      <td>824.0</td>\n      <td>[6.0, 2.0, 2.0, 2.0, 8.0, 4.0]</td>\n      <td>24.0</td>\n      <td>...</td>\n      <td>756.0</td>\n      <td>864.0</td>\n      <td>48.0</td>\n      <td>60.0</td>\n      <td>False</td>\n      <td>True</td>\n      <td>True</td>\n      <td>True</td>\n      <td>False</td>\n      <td>41</td>\n    </tr>\n  </tbody>\n</table>\n<p>10 rows × 21 columns</p>\n</div>"
     },
     "metadata": {},
     "execution_count": 151
    }
   ],
   "source": [
    "# Now we need to interate over each group in order to split the groups at wherever \"split_group\" is TRUE\n",
    "# # initalize sub-group counter\n",
    "sub_counter = 0\n",
    "\n",
    "# the split-group column tells us if we need to start a new sub-group for that set of matches\n",
    "# if TRUE, then we need to add a new sub_group_number\n",
    "# if FALSE, then sub_group is the same\n",
    "for name, group in df2.groupby(\"group_number\"):\n",
    "    if df2[\"split_group\"] is False:\n",
    "        df2[\"sub_group_id\"] = sub_counter   \n",
    "    else:\n",
    "        sub_counter = sub_counter + 1\n",
    "        df2[\"sub_group_id\"] = sub_counter\n",
    "\n",
    "df2.head(10)\n",
    "\n"
   ]
  },
  {
   "cell_type": "code",
   "execution_count": 16,
   "metadata": {},
   "outputs": [
    {
     "output_type": "execute_result",
     "data": {
      "text/plain": [
       "    group_number  entry_number       pattern_matched        part  \\\n",
       "18             0             1  [-2, -2, -2, -2, -2]  [Superius]   \n",
       "19             0             2  [-2, -2, -2, -2, -2]  [Superius]   \n",
       "21             0             3  [-2, -2, -2, -2, -2]       Tenor   \n",
       "20             0             4  [-2, -2, -2, -2, -2]  [Superius]   \n",
       "73             1             1  [-2, -2, -2, -2, -3]       Tenor   \n",
       "\n",
       "    start_measure  start_beat  start_offset  sum_durs         offset_diffs  \\\n",
       "18             19         1.0         144.0      14.0  [14.0, 58.0, 456.0]   \n",
       "19             20         4.0         158.0      18.0  [14.0, 58.0, 456.0]   \n",
       "21             28         1.0         216.0      10.0  [14.0, 58.0, 456.0]   \n",
       "20             85         1.0         672.0      20.0  [14.0, 58.0, 456.0]   \n",
       "73             42         1.0         328.0      22.0  [0.0, 258.0, 302.0]   \n",
       "\n",
       "   predicted_type  offset_list_length  \n",
       "18           Fuga                   4  \n",
       "19           Fuga                   4  \n",
       "21           Fuga                   4  \n",
       "20           Fuga                   4  \n",
       "73           Fuga                   4  "
      ],
      "text/html": "<div>\n<style scoped>\n    .dataframe tbody tr th:only-of-type {\n        vertical-align: middle;\n    }\n\n    .dataframe tbody tr th {\n        vertical-align: top;\n    }\n\n    .dataframe thead th {\n        text-align: right;\n    }\n</style>\n<table border=\"1\" class=\"dataframe\">\n  <thead>\n    <tr style=\"text-align: right;\">\n      <th></th>\n      <th>group_number</th>\n      <th>entry_number</th>\n      <th>pattern_matched</th>\n      <th>part</th>\n      <th>start_measure</th>\n      <th>start_beat</th>\n      <th>start_offset</th>\n      <th>sum_durs</th>\n      <th>offset_diffs</th>\n      <th>predicted_type</th>\n      <th>offset_list_length</th>\n    </tr>\n  </thead>\n  <tbody>\n    <tr>\n      <th>18</th>\n      <td>0</td>\n      <td>1</td>\n      <td>[-2, -2, -2, -2, -2]</td>\n      <td>[Superius]</td>\n      <td>19</td>\n      <td>1.0</td>\n      <td>144.0</td>\n      <td>14.0</td>\n      <td>[14.0, 58.0, 456.0]</td>\n      <td>Fuga</td>\n      <td>4</td>\n    </tr>\n    <tr>\n      <th>19</th>\n      <td>0</td>\n      <td>2</td>\n      <td>[-2, -2, -2, -2, -2]</td>\n      <td>[Superius]</td>\n      <td>20</td>\n      <td>4.0</td>\n      <td>158.0</td>\n      <td>18.0</td>\n      <td>[14.0, 58.0, 456.0]</td>\n      <td>Fuga</td>\n      <td>4</td>\n    </tr>\n    <tr>\n      <th>21</th>\n      <td>0</td>\n      <td>3</td>\n      <td>[-2, -2, -2, -2, -2]</td>\n      <td>Tenor</td>\n      <td>28</td>\n      <td>1.0</td>\n      <td>216.0</td>\n      <td>10.0</td>\n      <td>[14.0, 58.0, 456.0]</td>\n      <td>Fuga</td>\n      <td>4</td>\n    </tr>\n    <tr>\n      <th>20</th>\n      <td>0</td>\n      <td>4</td>\n      <td>[-2, -2, -2, -2, -2]</td>\n      <td>[Superius]</td>\n      <td>85</td>\n      <td>1.0</td>\n      <td>672.0</td>\n      <td>20.0</td>\n      <td>[14.0, 58.0, 456.0]</td>\n      <td>Fuga</td>\n      <td>4</td>\n    </tr>\n    <tr>\n      <th>73</th>\n      <td>1</td>\n      <td>1</td>\n      <td>[-2, -2, -2, -2, -3]</td>\n      <td>Tenor</td>\n      <td>42</td>\n      <td>1.0</td>\n      <td>328.0</td>\n      <td>22.0</td>\n      <td>[0.0, 258.0, 302.0]</td>\n      <td>Fuga</td>\n      <td>4</td>\n    </tr>\n  </tbody>\n</table>\n</div>"
     },
     "metadata": {},
     "execution_count": 16
    }
   ],
   "source": [
    "classified = df.applymap(lists_to_tuples_a).sort_values(\"start_offset\").groupby(\"pattern_matched\").apply(predict_type_a)\n",
    "classified[\"group_number\"] = classified.groupby('pattern_generating_match').ngroup()\n",
    "classified = classified[[\"group_number\", \"pattern_generating_match\", \"pattern_matched\", \"part\", \"start_measure\", \"start_beat\", \"entry_number\", \"start_offset\", \"sum_durs\", \"offset_diffs\", \"predicted_type\"]]\n",
    "\n",
    "# remove singleton entries\n",
    "\n",
    "classified.drop(classified[classified['predicted_type'] == \"Singleton\"].index, inplace = True)\n",
    "\n",
    "# now classified results, in order by OFFSET and ENTRY NUMBER, but the group numbers can overlap with each other.\n",
    "classified.head(25)\n",
    "\n",
    "classified = classified.sort_values([\"group_number\", \"entry_number\"])\n",
    "classified= classified[[\"group_number\", \"entry_number\", \"pattern_matched\", \"part\", \"start_measure\", \"start_beat\", \"start_offset\", \"sum_durs\", \"offset_diffs\", \"predicted_type\"]]\n",
    "classified[\"offset_list_length\"] = classified[\"offset_diffs\"].apply(len) + 1\n",
    "classified.head()\n"
   ]
  },
  {
   "cell_type": "code",
   "execution_count": 6,
   "metadata": {},
   "outputs": [
    {
     "output_type": "execute_result",
     "data": {
      "text/plain": [
       "    group_number  entry_number       pattern_matched        part  \\\n",
       "18             0             1  [-2, -2, -2, -2, -2]  [Superius]   \n",
       "19             0             2  [-2, -2, -2, -2, -2]  [Superius]   \n",
       "21             0             3  [-2, -2, -2, -2, -2]       Tenor   \n",
       "20             0             4  [-2, -2, -2, -2, -2]  [Superius]   \n",
       "73             1             1  [-2, -2, -2, -2, -3]       Tenor   \n",
       "..           ...           ...                   ...         ...   \n",
       "0             40             1      [4, 1, 2, 2, -3]  [Superius]   \n",
       "2             40             2      [4, 1, 2, 2, -3]       Altus   \n",
       "3             40             3      [4, 1, 2, 2, -3]       Tenor   \n",
       "4             40             4      [4, 1, 2, 2, -3]      Bassus   \n",
       "1             40             5      [4, 1, 2, 2, -3]  [Superius]   \n",
       "\n",
       "    start_measure  start_beat  start_offset  sum_durs  \\\n",
       "18             19         1.0         144.0      14.0   \n",
       "19             20         4.0         158.0      18.0   \n",
       "21             28         1.0         216.0      10.0   \n",
       "20             85         1.0         672.0      20.0   \n",
       "73             42         1.0         328.0      22.0   \n",
       "..            ...         ...           ...       ...   \n",
       "0               1         1.0           0.0      32.0   \n",
       "2               3         1.0          16.0      32.0   \n",
       "3               5         1.0          32.0      32.0   \n",
       "4               7         1.0          48.0      32.0   \n",
       "1             105         3.0         884.0      28.0   \n",
       "\n",
       "                 offset_diffs predicted_type  offset_list_length  \n",
       "18        [14.0, 58.0, 456.0]           Fuga                   4  \n",
       "19        [14.0, 58.0, 456.0]           Fuga                   4  \n",
       "21        [14.0, 58.0, 456.0]           Fuga                   4  \n",
       "20        [14.0, 58.0, 456.0]           Fuga                   4  \n",
       "73        [0.0, 258.0, 302.0]           Fuga                   4  \n",
       "..                        ...            ...                 ...  \n",
       "0   [16.0, 16.0, 16.0, 836.0]           Fuga                   5  \n",
       "2   [16.0, 16.0, 16.0, 836.0]           Fuga                   5  \n",
       "3   [16.0, 16.0, 16.0, 836.0]           Fuga                   5  \n",
       "4   [16.0, 16.0, 16.0, 836.0]           Fuga                   5  \n",
       "1   [16.0, 16.0, 16.0, 836.0]           Fuga                   5  \n",
       "\n",
       "[219 rows x 11 columns]"
      ],
      "text/html": "<div>\n<style scoped>\n    .dataframe tbody tr th:only-of-type {\n        vertical-align: middle;\n    }\n\n    .dataframe tbody tr th {\n        vertical-align: top;\n    }\n\n    .dataframe thead th {\n        text-align: right;\n    }\n</style>\n<table border=\"1\" class=\"dataframe\">\n  <thead>\n    <tr style=\"text-align: right;\">\n      <th></th>\n      <th>group_number</th>\n      <th>entry_number</th>\n      <th>pattern_matched</th>\n      <th>part</th>\n      <th>start_measure</th>\n      <th>start_beat</th>\n      <th>start_offset</th>\n      <th>sum_durs</th>\n      <th>offset_diffs</th>\n      <th>predicted_type</th>\n      <th>offset_list_length</th>\n    </tr>\n  </thead>\n  <tbody>\n    <tr>\n      <th>18</th>\n      <td>0</td>\n      <td>1</td>\n      <td>[-2, -2, -2, -2, -2]</td>\n      <td>[Superius]</td>\n      <td>19</td>\n      <td>1.0</td>\n      <td>144.0</td>\n      <td>14.0</td>\n      <td>[14.0, 58.0, 456.0]</td>\n      <td>Fuga</td>\n      <td>4</td>\n    </tr>\n    <tr>\n      <th>19</th>\n      <td>0</td>\n      <td>2</td>\n      <td>[-2, -2, -2, -2, -2]</td>\n      <td>[Superius]</td>\n      <td>20</td>\n      <td>4.0</td>\n      <td>158.0</td>\n      <td>18.0</td>\n      <td>[14.0, 58.0, 456.0]</td>\n      <td>Fuga</td>\n      <td>4</td>\n    </tr>\n    <tr>\n      <th>21</th>\n      <td>0</td>\n      <td>3</td>\n      <td>[-2, -2, -2, -2, -2]</td>\n      <td>Tenor</td>\n      <td>28</td>\n      <td>1.0</td>\n      <td>216.0</td>\n      <td>10.0</td>\n      <td>[14.0, 58.0, 456.0]</td>\n      <td>Fuga</td>\n      <td>4</td>\n    </tr>\n    <tr>\n      <th>20</th>\n      <td>0</td>\n      <td>4</td>\n      <td>[-2, -2, -2, -2, -2]</td>\n      <td>[Superius]</td>\n      <td>85</td>\n      <td>1.0</td>\n      <td>672.0</td>\n      <td>20.0</td>\n      <td>[14.0, 58.0, 456.0]</td>\n      <td>Fuga</td>\n      <td>4</td>\n    </tr>\n    <tr>\n      <th>73</th>\n      <td>1</td>\n      <td>1</td>\n      <td>[-2, -2, -2, -2, -3]</td>\n      <td>Tenor</td>\n      <td>42</td>\n      <td>1.0</td>\n      <td>328.0</td>\n      <td>22.0</td>\n      <td>[0.0, 258.0, 302.0]</td>\n      <td>Fuga</td>\n      <td>4</td>\n    </tr>\n    <tr>\n      <th>...</th>\n      <td>...</td>\n      <td>...</td>\n      <td>...</td>\n      <td>...</td>\n      <td>...</td>\n      <td>...</td>\n      <td>...</td>\n      <td>...</td>\n      <td>...</td>\n      <td>...</td>\n      <td>...</td>\n    </tr>\n    <tr>\n      <th>0</th>\n      <td>40</td>\n      <td>1</td>\n      <td>[4, 1, 2, 2, -3]</td>\n      <td>[Superius]</td>\n      <td>1</td>\n      <td>1.0</td>\n      <td>0.0</td>\n      <td>32.0</td>\n      <td>[16.0, 16.0, 16.0, 836.0]</td>\n      <td>Fuga</td>\n      <td>5</td>\n    </tr>\n    <tr>\n      <th>2</th>\n      <td>40</td>\n      <td>2</td>\n      <td>[4, 1, 2, 2, -3]</td>\n      <td>Altus</td>\n      <td>3</td>\n      <td>1.0</td>\n      <td>16.0</td>\n      <td>32.0</td>\n      <td>[16.0, 16.0, 16.0, 836.0]</td>\n      <td>Fuga</td>\n      <td>5</td>\n    </tr>\n    <tr>\n      <th>3</th>\n      <td>40</td>\n      <td>3</td>\n      <td>[4, 1, 2, 2, -3]</td>\n      <td>Tenor</td>\n      <td>5</td>\n      <td>1.0</td>\n      <td>32.0</td>\n      <td>32.0</td>\n      <td>[16.0, 16.0, 16.0, 836.0]</td>\n      <td>Fuga</td>\n      <td>5</td>\n    </tr>\n    <tr>\n      <th>4</th>\n      <td>40</td>\n      <td>4</td>\n      <td>[4, 1, 2, 2, -3]</td>\n      <td>Bassus</td>\n      <td>7</td>\n      <td>1.0</td>\n      <td>48.0</td>\n      <td>32.0</td>\n      <td>[16.0, 16.0, 16.0, 836.0]</td>\n      <td>Fuga</td>\n      <td>5</td>\n    </tr>\n    <tr>\n      <th>1</th>\n      <td>40</td>\n      <td>5</td>\n      <td>[4, 1, 2, 2, -3]</td>\n      <td>[Superius]</td>\n      <td>105</td>\n      <td>3.0</td>\n      <td>884.0</td>\n      <td>28.0</td>\n      <td>[16.0, 16.0, 16.0, 836.0]</td>\n      <td>Fuga</td>\n      <td>5</td>\n    </tr>\n  </tbody>\n</table>\n<p>219 rows × 11 columns</p>\n</div>"
     },
     "metadata": {},
     "execution_count": 6
    }
   ],
   "source": [
    "classified = classified[classified.entry_number <= classified.offset_list_length]\n",
    "classified"
   ]
  },
  {
   "cell_type": "code",
   "execution_count": 90,
   "metadata": {
    "tags": []
   },
   "outputs": [
    {
     "output_type": "error",
     "ename": "TypeError",
     "evalue": "'DataFrameGroupBy' object does not support item assignment",
     "traceback": [
      "\u001b[0;31m---------------------------------------------------------------------------\u001b[0m",
      "\u001b[0;31mTypeError\u001b[0m                                 Traceback (most recent call last)",
      "\u001b[0;32m<ipython-input-90-9db5e6634701>\u001b[0m in \u001b[0;36m<module>\u001b[0;34m\u001b[0m\n\u001b[1;32m      2\u001b[0m \u001b[0mclassify\u001b[0m \u001b[0;34m=\u001b[0m \u001b[0mdf\u001b[0m\u001b[0;34m.\u001b[0m\u001b[0msort_values\u001b[0m\u001b[0;34m(\u001b[0m\u001b[0;34m\"start_offset\"\u001b[0m\u001b[0;34m)\u001b[0m\u001b[0;34m.\u001b[0m\u001b[0mgroupby\u001b[0m\u001b[0;34m(\u001b[0m\u001b[0;34m\"pattern_matched\"\u001b[0m\u001b[0;34m)\u001b[0m\u001b[0;34m\u001b[0m\u001b[0;34m\u001b[0m\u001b[0m\n\u001b[1;32m      3\u001b[0m \u001b[0;32mfor\u001b[0m \u001b[0mpattern_matched\u001b[0m\u001b[0;34m,\u001b[0m \u001b[0mgroup\u001b[0m \u001b[0;32min\u001b[0m \u001b[0mclassify\u001b[0m\u001b[0;34m:\u001b[0m\u001b[0;34m\u001b[0m\u001b[0;34m\u001b[0m\u001b[0m\n\u001b[0;32m----> 4\u001b[0;31m     \u001b[0mclassify\u001b[0m\u001b[0;34m[\u001b[0m\u001b[0;34m\"prev_ent_offset\"\u001b[0m\u001b[0;34m]\u001b[0m \u001b[0;34m=\u001b[0m \u001b[0mclassify\u001b[0m\u001b[0;34m[\u001b[0m\u001b[0;34m\"start_offset\"\u001b[0m\u001b[0;34m]\u001b[0m\u001b[0;34m\u001b[0m\u001b[0;34m\u001b[0m\u001b[0m\n\u001b[0m\u001b[1;32m      5\u001b[0m     \u001b[0mprint\u001b[0m\u001b[0;34m(\u001b[0m\u001b[0mprev_ent_offset\u001b[0m\u001b[0;34m)\u001b[0m\u001b[0;34m\u001b[0m\u001b[0;34m\u001b[0m\u001b[0m\n\u001b[1;32m      6\u001b[0m     \u001b[0;31m# print(group)\u001b[0m\u001b[0;34m\u001b[0m\u001b[0;34m\u001b[0m\u001b[0;34m\u001b[0m\u001b[0m\n",
      "\u001b[0;31mTypeError\u001b[0m: 'DataFrameGroupBy' object does not support item assignment"
     ]
    }
   ],
   "source": [
    "\n",
    "\n",
    "classify = df.sort_values(\"start_offset\").groupby(\"pattern_matched\")\n",
    "for pattern_matched, group in classify: \n",
    "    classify[\"prev_ent_offset\"] = classify[\"start_offset\"]\n",
    "    print(prev_ent_offset) \n",
    "    # print(group) "
   ]
  },
  {
   "cell_type": "code",
   "execution_count": 141,
   "metadata": {},
   "outputs": [
    {
     "output_type": "execute_result",
     "data": {
      "text/plain": [
       "18    False\n",
       "19     True\n",
       "21    False\n",
       "20    False\n",
       "73    False\n",
       "      ...  \n",
       "0     False\n",
       "2     False\n",
       "3     False\n",
       "4      True\n",
       "1     False\n",
       "Name: split_group, Length: 219, dtype: bool"
      ]
     },
     "metadata": {},
     "execution_count": 141
    }
   ],
   "source": [
    "df2[\"split_group\"]"
   ]
  },
  {
   "cell_type": "code",
   "execution_count": 10,
   "metadata": {},
   "outputs": [
    {
     "output_type": "execute_result",
     "data": {
      "text/plain": [
       "                            pattern_generating_match       pattern_matched  \\\n",
       "pattern_generating_match                                                     \n",
       "(-2, -2, -2, -2, -2)     18     (-2, -2, -2, -2, -2)  [-2, -2, -2, -2, -2]   \n",
       "                         19     (-2, -2, -2, -2, -2)  [-2, -2, -2, -2, -2]   \n",
       "                         21     (-2, -2, -2, -2, -2)  [-2, -2, -2, -2, -2]   \n",
       "                         20     (-2, -2, -2, -2, -2)  [-2, -2, -2, -2, -2]   \n",
       "(-2, -2, -2, -2, -3)     73     (-2, -2, -2, -2, -3)  [-2, -2, -2, -2, -3]   \n",
       "...                                              ...                   ...   \n",
       "(4, 1, 2, 2, -3)         0          (4, 1, 2, 2, -3)      [4, 1, 2, 2, -3]   \n",
       "                         2          (4, 1, 2, 2, -3)      [4, 1, 2, 2, -3]   \n",
       "                         3          (4, 1, 2, 2, -3)      [4, 1, 2, 2, -3]   \n",
       "                         4          (4, 1, 2, 2, -3)      [4, 1, 2, 2, -3]   \n",
       "                         1          (4, 1, 2, 2, -3)      [4, 1, 2, 2, -3]   \n",
       "\n",
       "                            piece_title        part  start_measure  \\\n",
       "pattern_generating_match                                             \n",
       "(-2, -2, -2, -2, -2)     18   Ave Maria  [Superius]             19   \n",
       "                         19   Ave Maria  [Superius]             20   \n",
       "                         21   Ave Maria       Tenor             28   \n",
       "                         20   Ave Maria  [Superius]             85   \n",
       "(-2, -2, -2, -2, -3)     73   Ave Maria       Tenor             42   \n",
       "...                                 ...         ...            ...   \n",
       "(4, 1, 2, 2, -3)         0    Ave Maria  [Superius]              1   \n",
       "                         2    Ave Maria       Altus              3   \n",
       "                         3    Ave Maria       Tenor              5   \n",
       "                         4    Ave Maria      Bassus              7   \n",
       "                         1    Ave Maria  [Superius]            105   \n",
       "\n",
       "                             start_beat  start_offset  end_offset  \\\n",
       "pattern_generating_match                                            \n",
       "(-2, -2, -2, -2, -2)     18         1.0         144.0       156.0   \n",
       "                         19         4.0         158.0       172.0   \n",
       "                         21         1.0         216.0       225.0   \n",
       "                         20         1.0         672.0       688.0   \n",
       "(-2, -2, -2, -2, -3)     73         1.0         328.0       348.0   \n",
       "...                                 ...           ...         ...   \n",
       "(4, 1, 2, 2, -3)         0          1.0           0.0        24.0   \n",
       "                         2          1.0          16.0        40.0   \n",
       "                         3          1.0          32.0        56.0   \n",
       "                         4          1.0          48.0        72.0   \n",
       "                         1          3.0         884.0       910.0   \n",
       "\n",
       "                                             note_durations  sum_durs  \\\n",
       "pattern_generating_match                                                \n",
       "(-2, -2, -2, -2, -2)     18  [3.0, 1.0, 2.0, 2.0, 4.0, 2.0]      14.0   \n",
       "                         19  [3.0, 1.0, 4.0, 2.0, 4.0, 4.0]      18.0   \n",
       "                         21  [3.0, 1.0, 1.0, 1.0, 3.0, 1.0]      10.0   \n",
       "                         20  [4.0, 2.0, 4.0, 2.0, 4.0, 4.0]      20.0   \n",
       "(-2, -2, -2, -2, -3)     73  [6.0, 2.0, 4.0, 4.0, 4.0, 2.0]      22.0   \n",
       "...                                                     ...       ...   \n",
       "(4, 1, 2, 2, -3)         0   [4.0, 8.0, 4.0, 4.0, 4.0, 8.0]      32.0   \n",
       "                         2   [4.0, 8.0, 4.0, 4.0, 4.0, 8.0]      32.0   \n",
       "                         3   [4.0, 8.0, 4.0, 4.0, 4.0, 8.0]      32.0   \n",
       "                         4   [4.0, 8.0, 4.0, 4.0, 4.0, 8.0]      32.0   \n",
       "                         1   [4.0, 8.0, 4.0, 4.0, 6.0, 2.0]      28.0   \n",
       "\n",
       "                             prev_entry_off  parallel_entry  \n",
       "pattern_generating_match                                     \n",
       "(-2, -2, -2, -2, -2)     18             NaN           False  \n",
       "                         19           144.0           False  \n",
       "                         21           158.0           False  \n",
       "                         20           216.0           False  \n",
       "(-2, -2, -2, -2, -3)     73             NaN           False  \n",
       "...                                     ...             ...  \n",
       "(4, 1, 2, 2, -3)         0              NaN           False  \n",
       "                         2              0.0           False  \n",
       "                         3             16.0           False  \n",
       "                         4             32.0           False  \n",
       "                         1             48.0           False  \n",
       "\n",
       "[204 rows x 12 columns]"
      ],
      "text/html": "<div>\n<style scoped>\n    .dataframe tbody tr th:only-of-type {\n        vertical-align: middle;\n    }\n\n    .dataframe tbody tr th {\n        vertical-align: top;\n    }\n\n    .dataframe thead th {\n        text-align: right;\n    }\n</style>\n<table border=\"1\" class=\"dataframe\">\n  <thead>\n    <tr style=\"text-align: right;\">\n      <th></th>\n      <th></th>\n      <th>pattern_generating_match</th>\n      <th>pattern_matched</th>\n      <th>piece_title</th>\n      <th>part</th>\n      <th>start_measure</th>\n      <th>start_beat</th>\n      <th>start_offset</th>\n      <th>end_offset</th>\n      <th>note_durations</th>\n      <th>sum_durs</th>\n      <th>prev_entry_off</th>\n      <th>parallel_entry</th>\n    </tr>\n    <tr>\n      <th>pattern_generating_match</th>\n      <th></th>\n      <th></th>\n      <th></th>\n      <th></th>\n      <th></th>\n      <th></th>\n      <th></th>\n      <th></th>\n      <th></th>\n      <th></th>\n      <th></th>\n      <th></th>\n      <th></th>\n    </tr>\n  </thead>\n  <tbody>\n    <tr>\n      <th rowspan=\"4\" valign=\"top\">(-2, -2, -2, -2, -2)</th>\n      <th>18</th>\n      <td>(-2, -2, -2, -2, -2)</td>\n      <td>[-2, -2, -2, -2, -2]</td>\n      <td>Ave Maria</td>\n      <td>[Superius]</td>\n      <td>19</td>\n      <td>1.0</td>\n      <td>144.0</td>\n      <td>156.0</td>\n      <td>[3.0, 1.0, 2.0, 2.0, 4.0, 2.0]</td>\n      <td>14.0</td>\n      <td>NaN</td>\n      <td>False</td>\n    </tr>\n    <tr>\n      <th>19</th>\n      <td>(-2, -2, -2, -2, -2)</td>\n      <td>[-2, -2, -2, -2, -2]</td>\n      <td>Ave Maria</td>\n      <td>[Superius]</td>\n      <td>20</td>\n      <td>4.0</td>\n      <td>158.0</td>\n      <td>172.0</td>\n      <td>[3.0, 1.0, 4.0, 2.0, 4.0, 4.0]</td>\n      <td>18.0</td>\n      <td>144.0</td>\n      <td>False</td>\n    </tr>\n    <tr>\n      <th>21</th>\n      <td>(-2, -2, -2, -2, -2)</td>\n      <td>[-2, -2, -2, -2, -2]</td>\n      <td>Ave Maria</td>\n      <td>Tenor</td>\n      <td>28</td>\n      <td>1.0</td>\n      <td>216.0</td>\n      <td>225.0</td>\n      <td>[3.0, 1.0, 1.0, 1.0, 3.0, 1.0]</td>\n      <td>10.0</td>\n      <td>158.0</td>\n      <td>False</td>\n    </tr>\n    <tr>\n      <th>20</th>\n      <td>(-2, -2, -2, -2, -2)</td>\n      <td>[-2, -2, -2, -2, -2]</td>\n      <td>Ave Maria</td>\n      <td>[Superius]</td>\n      <td>85</td>\n      <td>1.0</td>\n      <td>672.0</td>\n      <td>688.0</td>\n      <td>[4.0, 2.0, 4.0, 2.0, 4.0, 4.0]</td>\n      <td>20.0</td>\n      <td>216.0</td>\n      <td>False</td>\n    </tr>\n    <tr>\n      <th>(-2, -2, -2, -2, -3)</th>\n      <th>73</th>\n      <td>(-2, -2, -2, -2, -3)</td>\n      <td>[-2, -2, -2, -2, -3]</td>\n      <td>Ave Maria</td>\n      <td>Tenor</td>\n      <td>42</td>\n      <td>1.0</td>\n      <td>328.0</td>\n      <td>348.0</td>\n      <td>[6.0, 2.0, 4.0, 4.0, 4.0, 2.0]</td>\n      <td>22.0</td>\n      <td>NaN</td>\n      <td>False</td>\n    </tr>\n    <tr>\n      <th>...</th>\n      <th>...</th>\n      <td>...</td>\n      <td>...</td>\n      <td>...</td>\n      <td>...</td>\n      <td>...</td>\n      <td>...</td>\n      <td>...</td>\n      <td>...</td>\n      <td>...</td>\n      <td>...</td>\n      <td>...</td>\n      <td>...</td>\n    </tr>\n    <tr>\n      <th rowspan=\"5\" valign=\"top\">(4, 1, 2, 2, -3)</th>\n      <th>0</th>\n      <td>(4, 1, 2, 2, -3)</td>\n      <td>[4, 1, 2, 2, -3]</td>\n      <td>Ave Maria</td>\n      <td>[Superius]</td>\n      <td>1</td>\n      <td>1.0</td>\n      <td>0.0</td>\n      <td>24.0</td>\n      <td>[4.0, 8.0, 4.0, 4.0, 4.0, 8.0]</td>\n      <td>32.0</td>\n      <td>NaN</td>\n      <td>False</td>\n    </tr>\n    <tr>\n      <th>2</th>\n      <td>(4, 1, 2, 2, -3)</td>\n      <td>[4, 1, 2, 2, -3]</td>\n      <td>Ave Maria</td>\n      <td>Altus</td>\n      <td>3</td>\n      <td>1.0</td>\n      <td>16.0</td>\n      <td>40.0</td>\n      <td>[4.0, 8.0, 4.0, 4.0, 4.0, 8.0]</td>\n      <td>32.0</td>\n      <td>0.0</td>\n      <td>False</td>\n    </tr>\n    <tr>\n      <th>3</th>\n      <td>(4, 1, 2, 2, -3)</td>\n      <td>[4, 1, 2, 2, -3]</td>\n      <td>Ave Maria</td>\n      <td>Tenor</td>\n      <td>5</td>\n      <td>1.0</td>\n      <td>32.0</td>\n      <td>56.0</td>\n      <td>[4.0, 8.0, 4.0, 4.0, 4.0, 8.0]</td>\n      <td>32.0</td>\n      <td>16.0</td>\n      <td>False</td>\n    </tr>\n    <tr>\n      <th>4</th>\n      <td>(4, 1, 2, 2, -3)</td>\n      <td>[4, 1, 2, 2, -3]</td>\n      <td>Ave Maria</td>\n      <td>Bassus</td>\n      <td>7</td>\n      <td>1.0</td>\n      <td>48.0</td>\n      <td>72.0</td>\n      <td>[4.0, 8.0, 4.0, 4.0, 4.0, 8.0]</td>\n      <td>32.0</td>\n      <td>32.0</td>\n      <td>False</td>\n    </tr>\n    <tr>\n      <th>1</th>\n      <td>(4, 1, 2, 2, -3)</td>\n      <td>[4, 1, 2, 2, -3]</td>\n      <td>Ave Maria</td>\n      <td>[Superius]</td>\n      <td>105</td>\n      <td>3.0</td>\n      <td>884.0</td>\n      <td>910.0</td>\n      <td>[4.0, 8.0, 4.0, 4.0, 6.0, 2.0]</td>\n      <td>28.0</td>\n      <td>48.0</td>\n      <td>False</td>\n    </tr>\n  </tbody>\n</table>\n<p>204 rows × 12 columns</p>\n</div>"
     },
     "metadata": {},
     "execution_count": 10
    }
   ],
   "source": [
    "#filter out all the parallel entry items\n",
    "df3 = df2[df2['parallel_entry'] != True] \n",
    "df3\n",
    "\n",
    "\n"
   ]
  },
  {
   "cell_type": "code",
   "execution_count": 23,
   "metadata": {},
   "outputs": [
    {
     "output_type": "execute_result",
     "data": {
      "text/plain": [
       "                            pattern_generating_match       pattern_matched  \\\n",
       "pattern_generating_match                                                     \n",
       "(-2, -2, -2, -2, -2)     18     (-2, -2, -2, -2, -2)  [-2, -2, -2, -2, -2]   \n",
       "                         19     (-2, -2, -2, -2, -2)  [-2, -2, -2, -2, -2]   \n",
       "                         21     (-2, -2, -2, -2, -2)  [-2, -2, -2, -2, -2]   \n",
       "                         20     (-2, -2, -2, -2, -2)  [-2, -2, -2, -2, -2]   \n",
       "(-2, -2, -2, -2, -3)     73     (-2, -2, -2, -2, -3)  [-2, -2, -2, -2, -3]   \n",
       "\n",
       "                            piece_title        part  start_measure  \\\n",
       "pattern_generating_match                                             \n",
       "(-2, -2, -2, -2, -2)     18   Ave Maria  [Superius]             19   \n",
       "                         19   Ave Maria  [Superius]             20   \n",
       "                         21   Ave Maria       Tenor             28   \n",
       "                         20   Ave Maria  [Superius]             85   \n",
       "(-2, -2, -2, -2, -3)     73   Ave Maria       Tenor             42   \n",
       "\n",
       "                             start_beat  start_offset  end_offset  \\\n",
       "pattern_generating_match                                            \n",
       "(-2, -2, -2, -2, -2)     18         1.0         144.0       156.0   \n",
       "                         19         4.0         158.0       172.0   \n",
       "                         21         1.0         216.0       225.0   \n",
       "                         20         1.0         672.0       688.0   \n",
       "(-2, -2, -2, -2, -3)     73         1.0         328.0       348.0   \n",
       "\n",
       "                                             note_durations  sum_durs  \\\n",
       "pattern_generating_match                                                \n",
       "(-2, -2, -2, -2, -2)     18  [3.0, 1.0, 2.0, 2.0, 4.0, 2.0]      14.0   \n",
       "                         19  [3.0, 1.0, 4.0, 2.0, 4.0, 4.0]      18.0   \n",
       "                         21  [3.0, 1.0, 1.0, 1.0, 3.0, 1.0]      10.0   \n",
       "                         20  [4.0, 2.0, 4.0, 2.0, 4.0, 4.0]      20.0   \n",
       "(-2, -2, -2, -2, -3)     73  [6.0, 2.0, 4.0, 4.0, 4.0, 2.0]      22.0   \n",
       "\n",
       "                             prev_entry_off  parallel_entry  offset_diff  \\\n",
       "pattern_generating_match                                                   \n",
       "(-2, -2, -2, -2, -2)     18             NaN           False          NaN   \n",
       "                         19           144.0           False         14.0   \n",
       "                         21           158.0           False         58.0   \n",
       "                         20           216.0           False        456.0   \n",
       "(-2, -2, -2, -2, -3)     73             NaN           False          NaN   \n",
       "\n",
       "                             gapped  \n",
       "pattern_generating_match             \n",
       "(-2, -2, -2, -2, -2)     18   False  \n",
       "                         19   False  \n",
       "                         21    True  \n",
       "                         20    True  \n",
       "(-2, -2, -2, -2, -3)     73   False  "
      ],
      "text/html": "<div>\n<style scoped>\n    .dataframe tbody tr th:only-of-type {\n        vertical-align: middle;\n    }\n\n    .dataframe tbody tr th {\n        vertical-align: top;\n    }\n\n    .dataframe thead th {\n        text-align: right;\n    }\n</style>\n<table border=\"1\" class=\"dataframe\">\n  <thead>\n    <tr style=\"text-align: right;\">\n      <th></th>\n      <th></th>\n      <th>pattern_generating_match</th>\n      <th>pattern_matched</th>\n      <th>piece_title</th>\n      <th>part</th>\n      <th>start_measure</th>\n      <th>start_beat</th>\n      <th>start_offset</th>\n      <th>end_offset</th>\n      <th>note_durations</th>\n      <th>sum_durs</th>\n      <th>prev_entry_off</th>\n      <th>parallel_entry</th>\n      <th>offset_diff</th>\n      <th>gapped</th>\n    </tr>\n    <tr>\n      <th>pattern_generating_match</th>\n      <th></th>\n      <th></th>\n      <th></th>\n      <th></th>\n      <th></th>\n      <th></th>\n      <th></th>\n      <th></th>\n      <th></th>\n      <th></th>\n      <th></th>\n      <th></th>\n      <th></th>\n      <th></th>\n      <th></th>\n    </tr>\n  </thead>\n  <tbody>\n    <tr>\n      <th rowspan=\"4\" valign=\"top\">(-2, -2, -2, -2, -2)</th>\n      <th>18</th>\n      <td>(-2, -2, -2, -2, -2)</td>\n      <td>[-2, -2, -2, -2, -2]</td>\n      <td>Ave Maria</td>\n      <td>[Superius]</td>\n      <td>19</td>\n      <td>1.0</td>\n      <td>144.0</td>\n      <td>156.0</td>\n      <td>[3.0, 1.0, 2.0, 2.0, 4.0, 2.0]</td>\n      <td>14.0</td>\n      <td>NaN</td>\n      <td>False</td>\n      <td>NaN</td>\n      <td>False</td>\n    </tr>\n    <tr>\n      <th>19</th>\n      <td>(-2, -2, -2, -2, -2)</td>\n      <td>[-2, -2, -2, -2, -2]</td>\n      <td>Ave Maria</td>\n      <td>[Superius]</td>\n      <td>20</td>\n      <td>4.0</td>\n      <td>158.0</td>\n      <td>172.0</td>\n      <td>[3.0, 1.0, 4.0, 2.0, 4.0, 4.0]</td>\n      <td>18.0</td>\n      <td>144.0</td>\n      <td>False</td>\n      <td>14.0</td>\n      <td>False</td>\n    </tr>\n    <tr>\n      <th>21</th>\n      <td>(-2, -2, -2, -2, -2)</td>\n      <td>[-2, -2, -2, -2, -2]</td>\n      <td>Ave Maria</td>\n      <td>Tenor</td>\n      <td>28</td>\n      <td>1.0</td>\n      <td>216.0</td>\n      <td>225.0</td>\n      <td>[3.0, 1.0, 1.0, 1.0, 3.0, 1.0]</td>\n      <td>10.0</td>\n      <td>158.0</td>\n      <td>False</td>\n      <td>58.0</td>\n      <td>True</td>\n    </tr>\n    <tr>\n      <th>20</th>\n      <td>(-2, -2, -2, -2, -2)</td>\n      <td>[-2, -2, -2, -2, -2]</td>\n      <td>Ave Maria</td>\n      <td>[Superius]</td>\n      <td>85</td>\n      <td>1.0</td>\n      <td>672.0</td>\n      <td>688.0</td>\n      <td>[4.0, 2.0, 4.0, 2.0, 4.0, 4.0]</td>\n      <td>20.0</td>\n      <td>216.0</td>\n      <td>False</td>\n      <td>456.0</td>\n      <td>True</td>\n    </tr>\n    <tr>\n      <th>(-2, -2, -2, -2, -3)</th>\n      <th>73</th>\n      <td>(-2, -2, -2, -2, -3)</td>\n      <td>[-2, -2, -2, -2, -3]</td>\n      <td>Ave Maria</td>\n      <td>Tenor</td>\n      <td>42</td>\n      <td>1.0</td>\n      <td>328.0</td>\n      <td>348.0</td>\n      <td>[6.0, 2.0, 4.0, 4.0, 4.0, 2.0]</td>\n      <td>22.0</td>\n      <td>NaN</td>\n      <td>False</td>\n      <td>NaN</td>\n      <td>False</td>\n    </tr>\n  </tbody>\n</table>\n</div>"
     },
     "metadata": {},
     "execution_count": 23
    }
   ],
   "source": [
    "\n",
    "df3[\"gapped\"] = df3[\"offset_diff\"] >= 20\n",
    "df3.head()"
   ]
  },
  {
   "cell_type": "code",
   "execution_count": 92,
   "metadata": {},
   "outputs": [
    {
     "output_type": "execute_result",
     "data": {
      "text/plain": [
       "2"
      ]
     },
     "metadata": {},
     "execution_count": 92
    }
   ],
   "source": [
    "sub_group_id = 1\n",
    "sub_group = sub_group_id + 1\n",
    "sub_group"
   ]
  },
  {
   "cell_type": "code",
   "execution_count": 94,
   "metadata": {},
   "outputs": [
    {
     "output_type": "error",
     "ename": "NameError",
     "evalue": "name 'df3' is not defined",
     "traceback": [
      "\u001b[0;31m---------------------------------------------------------------------------\u001b[0m",
      "\u001b[0;31mNameError\u001b[0m                                 Traceback (most recent call last)",
      "\u001b[0;32m<ipython-input-94-939c7cc42c28>\u001b[0m in \u001b[0;36m<module>\u001b[0;34m\u001b[0m\n\u001b[1;32m      4\u001b[0m     \u001b[0mdf3\u001b[0m\u001b[0;34m[\u001b[0m\u001b[0;34m\"sub_group\"\u001b[0m\u001b[0;34m]\u001b[0m \u001b[0;34m=\u001b[0m \u001b[0msub_group_id\u001b[0m\u001b[0;34m\u001b[0m\u001b[0;34m\u001b[0m\u001b[0m\n\u001b[1;32m      5\u001b[0m \u001b[0;32melse\u001b[0m\u001b[0;34m:\u001b[0m\u001b[0;34m\u001b[0m\u001b[0;34m\u001b[0m\u001b[0m\n\u001b[0;32m----> 6\u001b[0;31m     \u001b[0mdf3\u001b[0m\u001b[0;34m[\u001b[0m\u001b[0;34m\"sub_group\"\u001b[0m\u001b[0;34m]\u001b[0m \u001b[0;34m=\u001b[0m \u001b[0msub_group_id\u001b[0m \u001b[0;34m+\u001b[0m \u001b[0;36m1\u001b[0m\u001b[0;34m\u001b[0m\u001b[0;34m\u001b[0m\u001b[0m\n\u001b[0m\u001b[1;32m      7\u001b[0m \u001b[0;34m\u001b[0m\u001b[0m\n\u001b[1;32m      8\u001b[0m \u001b[0msub_group\u001b[0m\u001b[0;34m\u001b[0m\u001b[0;34m\u001b[0m\u001b[0m\n",
      "\u001b[0;31mNameError\u001b[0m: name 'df3' is not defined"
     ]
    }
   ],
   "source": [
    "gapped = \"True\"\n",
    "sub_group_id = 1\n",
    "if gapped is False:\n",
    "    df3[\"sub_group\"] = sub_group_id\n",
    "else:\n",
    "    df3[\"sub_group\"] = sub_group_id + 1\n",
    "\n",
    "sub_group\n"
   ]
  },
  {
   "cell_type": "code",
   "execution_count": 12,
   "metadata": {},
   "outputs": [
    {
     "output_type": "error",
     "ename": "ValueError",
     "evalue": "'pattern_generating_match' is both an index level and a column label, which is ambiguous.",
     "traceback": [
      "\u001b[0;31m---------------------------------------------------------------------------\u001b[0m",
      "\u001b[0;31mValueError\u001b[0m                                Traceback (most recent call last)",
      "\u001b[0;32m<ipython-input-12-7b637a71b9d9>\u001b[0m in \u001b[0;36m<module>\u001b[0;34m\u001b[0m\n\u001b[1;32m      2\u001b[0m \u001b[0;34m\u001b[0m\u001b[0m\n\u001b[1;32m      3\u001b[0m \u001b[0mclassified2\u001b[0m \u001b[0;34m=\u001b[0m \u001b[0mdf3\u001b[0m\u001b[0;34m.\u001b[0m\u001b[0mapplymap\u001b[0m\u001b[0;34m(\u001b[0m\u001b[0mlists_to_tuples_a\u001b[0m\u001b[0;34m)\u001b[0m\u001b[0;34m.\u001b[0m\u001b[0msort_values\u001b[0m\u001b[0;34m(\u001b[0m\u001b[0;34m\"start_offset\"\u001b[0m\u001b[0;34m)\u001b[0m\u001b[0;34m.\u001b[0m\u001b[0mgroupby\u001b[0m\u001b[0;34m(\u001b[0m\u001b[0;34m\"pattern_matched\"\u001b[0m\u001b[0;34m)\u001b[0m\u001b[0;34m.\u001b[0m\u001b[0mapply\u001b[0m\u001b[0;34m(\u001b[0m\u001b[0mpredict_type_a\u001b[0m\u001b[0;34m)\u001b[0m\u001b[0;34m\u001b[0m\u001b[0;34m\u001b[0m\u001b[0m\n\u001b[0;32m----> 4\u001b[0;31m \u001b[0mclassified2\u001b[0m\u001b[0;34m[\u001b[0m\u001b[0;34m\"group_number\"\u001b[0m\u001b[0;34m]\u001b[0m \u001b[0;34m=\u001b[0m \u001b[0mclassified2\u001b[0m\u001b[0;34m.\u001b[0m\u001b[0mgroupby\u001b[0m\u001b[0;34m(\u001b[0m\u001b[0;34m'pattern_generating_match'\u001b[0m\u001b[0;34m)\u001b[0m\u001b[0;34m.\u001b[0m\u001b[0mngroup\u001b[0m\u001b[0;34m(\u001b[0m\u001b[0;34m)\u001b[0m\u001b[0;34m\u001b[0m\u001b[0;34m\u001b[0m\u001b[0m\n\u001b[0m\u001b[1;32m      5\u001b[0m \u001b[0mclassified2\u001b[0m \u001b[0;34m=\u001b[0m \u001b[0mclassified2\u001b[0m\u001b[0;34m[\u001b[0m\u001b[0;34m[\u001b[0m\u001b[0;34m\"group_number\"\u001b[0m\u001b[0;34m,\u001b[0m \u001b[0;34m\"pattern_generating_match\"\u001b[0m\u001b[0;34m,\u001b[0m \u001b[0;34m\"pattern_matched\"\u001b[0m\u001b[0;34m,\u001b[0m \u001b[0;34m\"part\"\u001b[0m\u001b[0;34m,\u001b[0m \u001b[0;34m\"start_measure\"\u001b[0m\u001b[0;34m,\u001b[0m \u001b[0;34m\"start_beat\"\u001b[0m\u001b[0;34m,\u001b[0m \u001b[0;34m\"entry_number\"\u001b[0m\u001b[0;34m,\u001b[0m \u001b[0;34m\"start_offset\"\u001b[0m\u001b[0;34m,\u001b[0m \u001b[0;34m\"prev_entry_off\"\u001b[0m\u001b[0;34m,\u001b[0m\u001b[0;34m\"sum_durs\"\u001b[0m\u001b[0;34m,\u001b[0m \u001b[0;34m\"offset_diffs\"\u001b[0m\u001b[0;34m,\u001b[0m \u001b[0;34m\"predicted_type\"\u001b[0m\u001b[0;34m]\u001b[0m\u001b[0;34m]\u001b[0m\u001b[0;34m\u001b[0m\u001b[0;34m\u001b[0m\u001b[0m\n\u001b[1;32m      6\u001b[0m \u001b[0;34m\u001b[0m\u001b[0m\n",
      "\u001b[0;32m/opt/anaconda3/lib/python3.8/site-packages/pandas/core/frame.py\u001b[0m in \u001b[0;36mgroupby\u001b[0;34m(self, by, axis, level, as_index, sort, group_keys, squeeze, observed, dropna)\u001b[0m\n\u001b[1;32m   6509\u001b[0m         \u001b[0maxis\u001b[0m \u001b[0;34m=\u001b[0m \u001b[0mself\u001b[0m\u001b[0;34m.\u001b[0m\u001b[0m_get_axis_number\u001b[0m\u001b[0;34m(\u001b[0m\u001b[0maxis\u001b[0m\u001b[0;34m)\u001b[0m\u001b[0;34m\u001b[0m\u001b[0;34m\u001b[0m\u001b[0m\n\u001b[1;32m   6510\u001b[0m \u001b[0;34m\u001b[0m\u001b[0m\n\u001b[0;32m-> 6511\u001b[0;31m         return DataFrameGroupBy(\n\u001b[0m\u001b[1;32m   6512\u001b[0m             \u001b[0mobj\u001b[0m\u001b[0;34m=\u001b[0m\u001b[0mself\u001b[0m\u001b[0;34m,\u001b[0m\u001b[0;34m\u001b[0m\u001b[0;34m\u001b[0m\u001b[0m\n\u001b[1;32m   6513\u001b[0m             \u001b[0mkeys\u001b[0m\u001b[0;34m=\u001b[0m\u001b[0mby\u001b[0m\u001b[0;34m,\u001b[0m\u001b[0;34m\u001b[0m\u001b[0;34m\u001b[0m\u001b[0m\n",
      "\u001b[0;32m/opt/anaconda3/lib/python3.8/site-packages/pandas/core/groupby/groupby.py\u001b[0m in \u001b[0;36m__init__\u001b[0;34m(self, obj, keys, axis, level, grouper, exclusions, selection, as_index, sort, group_keys, squeeze, observed, mutated, dropna)\u001b[0m\n\u001b[1;32m    523\u001b[0m             \u001b[0;32mfrom\u001b[0m \u001b[0mpandas\u001b[0m\u001b[0;34m.\u001b[0m\u001b[0mcore\u001b[0m\u001b[0;34m.\u001b[0m\u001b[0mgroupby\u001b[0m\u001b[0;34m.\u001b[0m\u001b[0mgrouper\u001b[0m \u001b[0;32mimport\u001b[0m \u001b[0mget_grouper\u001b[0m\u001b[0;34m\u001b[0m\u001b[0;34m\u001b[0m\u001b[0m\n\u001b[1;32m    524\u001b[0m \u001b[0;34m\u001b[0m\u001b[0m\n\u001b[0;32m--> 525\u001b[0;31m             grouper, exclusions, obj = get_grouper(\n\u001b[0m\u001b[1;32m    526\u001b[0m                 \u001b[0mobj\u001b[0m\u001b[0;34m,\u001b[0m\u001b[0;34m\u001b[0m\u001b[0;34m\u001b[0m\u001b[0m\n\u001b[1;32m    527\u001b[0m                 \u001b[0mkeys\u001b[0m\u001b[0;34m,\u001b[0m\u001b[0;34m\u001b[0m\u001b[0;34m\u001b[0m\u001b[0m\n",
      "\u001b[0;32m/opt/anaconda3/lib/python3.8/site-packages/pandas/core/groupby/grouper.py\u001b[0m in \u001b[0;36mget_grouper\u001b[0;34m(obj, key, axis, level, sort, observed, mutated, validate, dropna)\u001b[0m\n\u001b[1;32m    773\u001b[0m             \u001b[0;32mif\u001b[0m \u001b[0mgpr\u001b[0m \u001b[0;32min\u001b[0m \u001b[0mobj\u001b[0m\u001b[0;34m:\u001b[0m\u001b[0;34m\u001b[0m\u001b[0;34m\u001b[0m\u001b[0m\n\u001b[1;32m    774\u001b[0m                 \u001b[0;32mif\u001b[0m \u001b[0mvalidate\u001b[0m\u001b[0;34m:\u001b[0m\u001b[0;34m\u001b[0m\u001b[0;34m\u001b[0m\u001b[0m\n\u001b[0;32m--> 775\u001b[0;31m                     \u001b[0mobj\u001b[0m\u001b[0;34m.\u001b[0m\u001b[0m_check_label_or_level_ambiguity\u001b[0m\u001b[0;34m(\u001b[0m\u001b[0mgpr\u001b[0m\u001b[0;34m,\u001b[0m \u001b[0maxis\u001b[0m\u001b[0;34m=\u001b[0m\u001b[0maxis\u001b[0m\u001b[0;34m)\u001b[0m\u001b[0;34m\u001b[0m\u001b[0;34m\u001b[0m\u001b[0m\n\u001b[0m\u001b[1;32m    776\u001b[0m                 \u001b[0min_axis\u001b[0m\u001b[0;34m,\u001b[0m \u001b[0mname\u001b[0m\u001b[0;34m,\u001b[0m \u001b[0mgpr\u001b[0m \u001b[0;34m=\u001b[0m \u001b[0;32mTrue\u001b[0m\u001b[0;34m,\u001b[0m \u001b[0mgpr\u001b[0m\u001b[0;34m,\u001b[0m \u001b[0mobj\u001b[0m\u001b[0;34m[\u001b[0m\u001b[0mgpr\u001b[0m\u001b[0;34m]\u001b[0m\u001b[0;34m\u001b[0m\u001b[0;34m\u001b[0m\u001b[0m\n\u001b[1;32m    777\u001b[0m                 \u001b[0mexclusions\u001b[0m\u001b[0;34m.\u001b[0m\u001b[0mappend\u001b[0m\u001b[0;34m(\u001b[0m\u001b[0mname\u001b[0m\u001b[0;34m)\u001b[0m\u001b[0;34m\u001b[0m\u001b[0;34m\u001b[0m\u001b[0m\n",
      "\u001b[0;32m/opt/anaconda3/lib/python3.8/site-packages/pandas/core/generic.py\u001b[0m in \u001b[0;36m_check_label_or_level_ambiguity\u001b[0;34m(self, key, axis)\u001b[0m\n\u001b[1;32m   1516\u001b[0m                 \u001b[0;34mf\"{label_article} {label_type} label, which is ambiguous.\"\u001b[0m\u001b[0;34m\u001b[0m\u001b[0;34m\u001b[0m\u001b[0m\n\u001b[1;32m   1517\u001b[0m             )\n\u001b[0;32m-> 1518\u001b[0;31m             \u001b[0;32mraise\u001b[0m \u001b[0mValueError\u001b[0m\u001b[0;34m(\u001b[0m\u001b[0mmsg\u001b[0m\u001b[0;34m)\u001b[0m\u001b[0;34m\u001b[0m\u001b[0;34m\u001b[0m\u001b[0m\n\u001b[0m\u001b[1;32m   1519\u001b[0m \u001b[0;34m\u001b[0m\u001b[0m\n\u001b[1;32m   1520\u001b[0m     \u001b[0;32mdef\u001b[0m \u001b[0m_get_label_or_level_values\u001b[0m\u001b[0;34m(\u001b[0m\u001b[0mself\u001b[0m\u001b[0;34m,\u001b[0m \u001b[0mkey\u001b[0m\u001b[0;34m:\u001b[0m \u001b[0mstr\u001b[0m\u001b[0;34m,\u001b[0m \u001b[0maxis\u001b[0m\u001b[0;34m:\u001b[0m \u001b[0mint\u001b[0m \u001b[0;34m=\u001b[0m \u001b[0;36m0\u001b[0m\u001b[0;34m)\u001b[0m \u001b[0;34m->\u001b[0m \u001b[0mnp\u001b[0m\u001b[0;34m.\u001b[0m\u001b[0mndarray\u001b[0m\u001b[0;34m:\u001b[0m\u001b[0;34m\u001b[0m\u001b[0;34m\u001b[0m\u001b[0m\n",
      "\u001b[0;31mValueError\u001b[0m: 'pattern_generating_match' is both an index level and a column label, which is ambiguous."
     ]
    }
   ],
   "source": [
    "# now run the classifer, but on DF from which the Parallel Entries have been removed!\n",
    "\n",
    "classified2 = df3.applymap(lists_to_tuples_a).sort_values(\"start_offset\").groupby(\"pattern_matched\").apply(predict_type_a)\n",
    "classified2[\"group_number\"] = classified2.groupby('pattern_generating_match').ngroup()\n",
    "classified2 = classified2[[\"group_number\", \"pattern_generating_match\", \"pattern_matched\", \"part\", \"start_measure\", \"start_beat\", \"entry_number\", \"start_offset\", \"prev_entry_off\",\"sum_durs\", \"offset_diffs\", \"predicted_type\"]]\n",
    "\n",
    "# remove singleton entries\n",
    "\n",
    "# classified2.drop(classified[classified['predicted_type'] == \"Singleton\"].index, inplace = True)\n",
    "\n",
    "# now classified results, in order by OFFSET and ENTRY NUMBER, but the group numbers can overlap with each other.\n",
    "\n",
    "classified2 = classified2.sort_values([\"group_number\", \"entry_number\"])\n",
    "classified2= classified2[[\"group_number\", \"entry_number\", \"pattern_matched\", \"part\", \"start_measure\", \"start_beat\", \"start_offset\", \"prev_entry_off\", \"sum_durs\", \"offset_diffs\", \"predicted_type\"]]\n",
    "# classified2 = classified2[classified2[\"predicted_type\"] == \"PEN\"]\n",
    "\n",
    "classified2.head()"
   ]
  },
  {
   "cell_type": "code",
   "execution_count": null,
   "metadata": {},
   "outputs": [],
   "source": []
  },
  {
   "cell_type": "code",
   "execution_count": 38,
   "metadata": {},
   "outputs": [
    {
     "output_type": "stream",
     "name": "stdout",
     "text": [
      "The split lists are : [[16.0, 16.0, 16.0], [836.0]]\n"
     ]
    }
   ],
   "source": [
    "l = [16.0, 16.0, 16.0, 836.0]\n",
    "for count, value in enumerate(l):\n",
    "    if value >= 5000:\n",
    "        split_point = [count]\n",
    "        res = [l[i : j] for i, j in zip([0] + \n",
    "          split_point, split_point + [None])] \n",
    "  \n",
    "# printing result \n",
    "print (\"The split lists are : \" +  str(res)) \n",
    "\n",
    "    # print(count, value)"
   ]
  },
  {
   "cell_type": "code",
   "execution_count": 65,
   "metadata": {},
   "outputs": [],
   "source": [
    "def group_splitter(classified2):\n",
    "    od = classified2.offset_diffs\n",
    "    for count, value in enumerate(od):\n",
    "        if value >= 5000:\n",
    "            split_point = [count]\n",
    "            res = [l[i : j] for i, j in zip([0] + \n",
    "                split_point, split_point + [None])] \n",
    "  \n",
    "# printing result \n",
    "    print (\"The split lists are : \" +  str(res)) \n",
    "    \n",
    "\n",
    "    # return str(res))"
   ]
  },
  {
   "cell_type": "code",
   "execution_count": 66,
   "metadata": {},
   "outputs": [
    {
     "output_type": "error",
     "ename": "TypeError",
     "evalue": "'>=' not supported between instances of 'list' and 'int'",
     "traceback": [
      "\u001b[0;31m---------------------------------------------------------------------------\u001b[0m",
      "\u001b[0;31mTypeError\u001b[0m                                 Traceback (most recent call last)",
      "\u001b[0;32m<ipython-input-66-eefc95375e84>\u001b[0m in \u001b[0;36m<module>\u001b[0;34m\u001b[0m\n\u001b[0;32m----> 1\u001b[0;31m \u001b[0mgroup_splitter\u001b[0m\u001b[0;34m(\u001b[0m\u001b[0mclassified2\u001b[0m\u001b[0;34m)\u001b[0m\u001b[0;34m\u001b[0m\u001b[0;34m\u001b[0m\u001b[0m\n\u001b[0m",
      "\u001b[0;32m<ipython-input-65-e1a23dc9afd3>\u001b[0m in \u001b[0;36mgroup_splitter\u001b[0;34m(classified2)\u001b[0m\n\u001b[1;32m      2\u001b[0m     \u001b[0mod\u001b[0m \u001b[0;34m=\u001b[0m \u001b[0mclassified2\u001b[0m\u001b[0;34m.\u001b[0m\u001b[0moffset_diffs\u001b[0m\u001b[0;34m\u001b[0m\u001b[0;34m\u001b[0m\u001b[0m\n\u001b[1;32m      3\u001b[0m     \u001b[0;32mfor\u001b[0m \u001b[0mcount\u001b[0m\u001b[0;34m,\u001b[0m \u001b[0mvalue\u001b[0m \u001b[0;32min\u001b[0m \u001b[0menumerate\u001b[0m\u001b[0;34m(\u001b[0m\u001b[0mod\u001b[0m\u001b[0;34m)\u001b[0m\u001b[0;34m:\u001b[0m\u001b[0;34m\u001b[0m\u001b[0;34m\u001b[0m\u001b[0m\n\u001b[0;32m----> 4\u001b[0;31m         \u001b[0;32mif\u001b[0m \u001b[0mvalue\u001b[0m \u001b[0;34m>=\u001b[0m \u001b[0;36m5000\u001b[0m\u001b[0;34m:\u001b[0m\u001b[0;34m\u001b[0m\u001b[0;34m\u001b[0m\u001b[0m\n\u001b[0m\u001b[1;32m      5\u001b[0m             \u001b[0msplit_point\u001b[0m \u001b[0;34m=\u001b[0m \u001b[0;34m[\u001b[0m\u001b[0mcount\u001b[0m\u001b[0;34m]\u001b[0m\u001b[0;34m\u001b[0m\u001b[0;34m\u001b[0m\u001b[0m\n\u001b[1;32m      6\u001b[0m             res = [l[i : j] for i, j in zip([0] + \n",
      "\u001b[0;31mTypeError\u001b[0m: '>=' not supported between instances of 'list' and 'int'"
     ]
    }
   ],
   "source": [
    "group_splitter(classified2)"
   ]
  },
  {
   "cell_type": "code",
   "execution_count": 64,
   "metadata": {},
   "outputs": [
    {
     "output_type": "stream",
     "name": "stdout",
     "text": [
      "18          [14.0, 58.0, 456.0]\n19          [14.0, 58.0, 456.0]\n21          [14.0, 58.0, 456.0]\n20          [14.0, 58.0, 456.0]\n73               [258.0, 302.0]\n                ...            \n0     [16.0, 16.0, 16.0, 836.0]\n2     [16.0, 16.0, 16.0, 836.0]\n3     [16.0, 16.0, 16.0, 836.0]\n4     [16.0, 16.0, 16.0, 836.0]\n1     [16.0, 16.0, 16.0, 836.0]\nName: offset_diffs, Length: 204, dtype: object\n"
     ]
    }
   ],
   "source": [
    "print(classified2.offset_diffs)"
   ]
  },
  {
   "cell_type": "code",
   "execution_count": 86,
   "metadata": {},
   "outputs": [
    {
     "output_type": "execute_result",
     "data": {
      "text/plain": [
       "     group_number  entry_number       pattern_matched        part  \\\n",
       "20              0             4  [-2, -2, -2, -2, -2]  [Superius]   \n",
       "74              1             2  [-2, -2, -2, -2, -3]       Tenor   \n",
       "72              1             3  [-2, -2, -2, -2, -3]       Altus   \n",
       "205             3             3   [-2, -2, -2, -2, 2]       Altus   \n",
       "206             3             4   [-2, -2, -2, -2, 2]       Altus   \n",
       "210             3             5   [-2, -2, -2, -2, 2]      Bassus   \n",
       "8               5             4   [-2, -2, -2, 2, -2]      Bassus   \n",
       "113             6             2    [-2, -2, -2, 2, 2]       Altus   \n",
       "112             6             4    [-2, -2, -2, 2, 2]  [Superius]   \n",
       "114             6             5    [-2, -2, -2, 2, 2]       Altus   \n",
       "116             6             6    [-2, -2, -2, 2, 2]       Tenor   \n",
       "118             6             7    [-2, -2, -2, 2, 2]      Bassus   \n",
       "120             8             2    [-2, -2, 2, 2, -2]  [Superius]   \n",
       "122             8             3    [-2, -2, 2, 2, -2]       Tenor   \n",
       "123             8             4    [-2, -2, 2, 2, -2]      Bassus   \n",
       "163            11             8   [-3, 2, -2, -2, -2]      Bassus   \n",
       "39             14             2     [1, 1, 2, -2, -2]  [Superius]   \n",
       "42             14             3     [1, 1, 2, -2, -2]       Altus   \n",
       "40             14             5     [1, 1, 2, -2, -2]  [Superius]   \n",
       "48             17             4    [1, 2, -2, -2, -2]  [Superius]   \n",
       "52             17             5    [1, 2, -2, -2, -2]       Altus   \n",
       "49             17             7    [1, 2, -2, -2, -2]  [Superius]   \n",
       "29             18             3     [1, 2, -2, 1, -2]       Altus   \n",
       "62             21             2   [2, -2, -2, -2, -2]       Altus   \n",
       "61             21             4   [2, -2, -2, -2, -2]  [Superius]   \n",
       "63             21             5   [2, -2, -2, -2, -2]       Altus   \n",
       "65             21             7   [2, -2, -2, -2, -2]       Altus   \n",
       "66             21             8   [2, -2, -2, -2, -2]       Altus   \n",
       "68             21            10   [2, -2, -2, -2, -2]       Altus   \n",
       "110            23             3    [2, -2, -2, -2, 2]       Tenor   \n",
       "111            23             4    [2, -2, -2, -2, 2]      Bassus   \n",
       "34             24             4     [2, -2, 1, -2, 2]       Altus   \n",
       "35             24             6     [2, -2, 1, -2, 2]       Altus   \n",
       "151            27             7    [2, -3, 2, -2, -2]       Altus   \n",
       "155            27             8    [2, -3, 2, -2, -2]      Bassus   \n",
       "137            28             2     [2, -3, 2, -3, 2]  [Superius]   \n",
       "143            28             7     [2, -3, 2, -3, 2]      Bassus   \n",
       "212            30             3     [2, 1, 2, -2, -2]       Altus   \n",
       "107            32             3    [2, 2, -2, -2, -2]       Tenor   \n",
       "106            32             4    [2, 2, -2, -2, -2]       Altus   \n",
       "14             33             2    [2, 2, -3, -2, -2]  [Superius]   \n",
       "24             35             3      [2, 2, 1, 2, -2]       Altus   \n",
       "100            36             3      [2, 2, 2, -2, 2]  [Superius]   \n",
       "1              40             5      [4, 1, 2, 2, -3]  [Superius]   \n",
       "\n",
       "     start_measure  start_beat  start_offset  prev_entry_off  sum_durs  \\\n",
       "20              85         1.0         672.0           216.0      20.0   \n",
       "74              74         2.0         586.0           328.0      10.0   \n",
       "72             106         1.0         888.0           586.0      20.0   \n",
       "205             69         1.0         544.0           219.0      14.0   \n",
       "206             84         1.0         664.0           544.0      14.0   \n",
       "210            129         3.0        1092.0           664.0      16.0   \n",
       "8              139         4.0        1174.0            88.0      18.0   \n",
       "113             27         4.5         215.0           104.0      13.0   \n",
       "112             50         4.0         398.0           220.0      11.0   \n",
       "114             69         2.5         547.0           398.0      14.0   \n",
       "116             90         1.0         712.0           547.0      17.0   \n",
       "118            130         1.0        1096.0           712.0      13.0   \n",
       "120             51         1.5         401.0           221.0       9.0   \n",
       "122             90         3.0         716.0           401.0      14.0   \n",
       "123            117         1.0         992.0           716.0      16.0   \n",
       "163            139         2.0        1170.0           648.0      10.0   \n",
       "39              84         1.0         664.0           316.0      18.0   \n",
       "42              94         1.0         744.0           664.0      22.0   \n",
       "40             111         3.0         940.0           792.0      24.0   \n",
       "48              84         3.0         668.0           320.0      16.0   \n",
       "52              94         2.0         748.0           668.0      20.0   \n",
       "49             112         3.0         948.0           796.0      20.0   \n",
       "29              79         1.0         624.0           288.0      16.0   \n",
       "62              68         3.0         540.0           324.0      16.0   \n",
       "61              84         4.0         670.0           584.0      18.0   \n",
       "63              94         3.0         752.0           670.0      24.0   \n",
       "65             105         3.0         884.0           800.0      20.0   \n",
       "66             116         2.0         986.0           884.0      10.0   \n",
       "68             135         3.0        1132.0          1050.0      12.0   \n",
       "110             91         3.0         724.0           404.0      24.0   \n",
       "111            139         3.0        1172.0           724.0      12.0   \n",
       "34              79         3.0         628.0           292.0      20.0   \n",
       "35             139         1.0        1168.0           652.0      20.0   \n",
       "151            127         2.5        1075.0           646.0      13.0   \n",
       "155            139         1.0        1168.0          1075.0      11.0   \n",
       "137             64         3.0         508.0           403.0      23.0   \n",
       "143            106         1.0         900.0           580.0      28.0   \n",
       "212            116         3.0         980.0           284.0      11.0   \n",
       "107             91         2.5         723.0           403.0      13.0   \n",
       "106            134         2.0        1130.0           723.0      10.0   \n",
       "14              55         4.0         438.0           132.0      18.0   \n",
       "24             115         1.0         976.0           280.0      14.0   \n",
       "100            127         1.0        1072.0           382.0      24.0   \n",
       "1              105         3.0         884.0            48.0      28.0   \n",
       "\n",
       "                                          offset_diffs predicted_type  gapped  \n",
       "20                                 [14.0, 58.0, 456.0]           Fuga    True  \n",
       "74                                      [258.0, 302.0]           Fuga    True  \n",
       "72                                      [258.0, 302.0]           Fuga    True  \n",
       "205             [7.0, 325.0, 120.0, 428.0, 14.0, 28.0]           Fuga    True  \n",
       "206             [7.0, 325.0, 120.0, 428.0, 14.0, 28.0]           Fuga    True  \n",
       "210             [7.0, 325.0, 120.0, 428.0, 14.0, 28.0]           Fuga    True  \n",
       "8                                 [16.0, 16.0, 1086.0]           Fuga    True  \n",
       "113     [111.0, 5.0, 178.0, 149.0, 165.0, 384.0, 66.0]           Fuga    True  \n",
       "112     [111.0, 5.0, 178.0, 149.0, 165.0, 384.0, 66.0]           Fuga    True  \n",
       "114     [111.0, 5.0, 178.0, 149.0, 165.0, 384.0, 66.0]           Fuga    True  \n",
       "116     [111.0, 5.0, 178.0, 149.0, 165.0, 384.0, 66.0]           Fuga    True  \n",
       "118     [111.0, 5.0, 178.0, 149.0, 165.0, 384.0, 66.0]           Fuga    True  \n",
       "120                        [180.0, 315.0, 276.0, 64.0]           Fuga    True  \n",
       "122                        [180.0, 315.0, 276.0, 64.0]           Fuga    True  \n",
       "123                        [180.0, 315.0, 276.0, 64.0]           Fuga    True  \n",
       "163         [16.0, 8.0, 16.0, 22.0, 42.0, 24.0, 522.0]           Fuga    True  \n",
       "39        [348.0, 80.0, 48.0, 148.0, 28.0, 36.0, 28.0]           Fuga    True  \n",
       "42        [348.0, 80.0, 48.0, 148.0, 28.0, 36.0, 28.0]           Fuga    True  \n",
       "40        [348.0, 80.0, 48.0, 148.0, 28.0, 36.0, 28.0]           Fuga    True  \n",
       "48   [32.0, 32.0, 348.0, 80.0, 48.0, 152.0, 28.0, 6...           Fuga    True  \n",
       "52   [32.0, 32.0, 348.0, 80.0, 48.0, 152.0, 28.0, 6...           Fuga    True  \n",
       "49   [32.0, 32.0, 348.0, 80.0, 48.0, 152.0, 28.0, 6...           Fuga    True  \n",
       "29                                 [32.0, 336.0, 24.0]           Fuga    True  \n",
       "62   [216.0, 44.0, 86.0, 82.0, 48.0, 84.0, 102.0, 6...           Fuga    True  \n",
       "61   [216.0, 44.0, 86.0, 82.0, 48.0, 84.0, 102.0, 6...           Fuga    True  \n",
       "63   [216.0, 44.0, 86.0, 82.0, 48.0, 84.0, 102.0, 6...           Fuga    True  \n",
       "65   [216.0, 44.0, 86.0, 82.0, 48.0, 84.0, 102.0, 6...           Fuga    True  \n",
       "66   [216.0, 44.0, 86.0, 82.0, 48.0, 84.0, 102.0, 6...           Fuga    True  \n",
       "68   [216.0, 44.0, 86.0, 82.0, 48.0, 84.0, 102.0, 6...           Fuga    True  \n",
       "110                                [8.0, 320.0, 448.0]           Fuga    True  \n",
       "111                                [8.0, 320.0, 448.0]           Fuga    True  \n",
       "34                     [28.0, 4.0, 336.0, 24.0, 516.0]           Fuga    True  \n",
       "35                     [28.0, 4.0, 336.0, 24.0, 516.0]           Fuga    True  \n",
       "151         [16.0, 8.0, 16.0, 66.0, 24.0, 429.0, 93.0]           Fuga    True  \n",
       "155         [16.0, 8.0, 16.0, 66.0, 24.0, 429.0, 93.0]           Fuga    True  \n",
       "137              [105.0, 16.0, 8.0, 16.0, 32.0, 320.0]           Fuga    True  \n",
       "143              [105.0, 16.0, 8.0, 16.0, 32.0, 320.0]           Fuga    True  \n",
       "212                                [32.0, 696.0, 64.0]           Fuga    True  \n",
       "107                                [8.0, 320.0, 407.0]           Fuga    True  \n",
       "106                                [8.0, 320.0, 407.0]           Fuga    True  \n",
       "14                             [306.0, 4.0, 36.0, 4.0]           Fuga    True  \n",
       "24                                 [32.0, 696.0, 64.0]           Fuga    True  \n",
       "100                                 [2.0, 690.0, 20.0]           Fuga    True  \n",
       "1                            [16.0, 16.0, 16.0, 836.0]           Fuga    True  "
      ],
      "text/html": "<div>\n<style scoped>\n    .dataframe tbody tr th:only-of-type {\n        vertical-align: middle;\n    }\n\n    .dataframe tbody tr th {\n        vertical-align: top;\n    }\n\n    .dataframe thead th {\n        text-align: right;\n    }\n</style>\n<table border=\"1\" class=\"dataframe\">\n  <thead>\n    <tr style=\"text-align: right;\">\n      <th></th>\n      <th>group_number</th>\n      <th>entry_number</th>\n      <th>pattern_matched</th>\n      <th>part</th>\n      <th>start_measure</th>\n      <th>start_beat</th>\n      <th>start_offset</th>\n      <th>prev_entry_off</th>\n      <th>sum_durs</th>\n      <th>offset_diffs</th>\n      <th>predicted_type</th>\n      <th>gapped</th>\n    </tr>\n  </thead>\n  <tbody>\n    <tr>\n      <th>20</th>\n      <td>0</td>\n      <td>4</td>\n      <td>[-2, -2, -2, -2, -2]</td>\n      <td>[Superius]</td>\n      <td>85</td>\n      <td>1.0</td>\n      <td>672.0</td>\n      <td>216.0</td>\n      <td>20.0</td>\n      <td>[14.0, 58.0, 456.0]</td>\n      <td>Fuga</td>\n      <td>True</td>\n    </tr>\n    <tr>\n      <th>74</th>\n      <td>1</td>\n      <td>2</td>\n      <td>[-2, -2, -2, -2, -3]</td>\n      <td>Tenor</td>\n      <td>74</td>\n      <td>2.0</td>\n      <td>586.0</td>\n      <td>328.0</td>\n      <td>10.0</td>\n      <td>[258.0, 302.0]</td>\n      <td>Fuga</td>\n      <td>True</td>\n    </tr>\n    <tr>\n      <th>72</th>\n      <td>1</td>\n      <td>3</td>\n      <td>[-2, -2, -2, -2, -3]</td>\n      <td>Altus</td>\n      <td>106</td>\n      <td>1.0</td>\n      <td>888.0</td>\n      <td>586.0</td>\n      <td>20.0</td>\n      <td>[258.0, 302.0]</td>\n      <td>Fuga</td>\n      <td>True</td>\n    </tr>\n    <tr>\n      <th>205</th>\n      <td>3</td>\n      <td>3</td>\n      <td>[-2, -2, -2, -2, 2]</td>\n      <td>Altus</td>\n      <td>69</td>\n      <td>1.0</td>\n      <td>544.0</td>\n      <td>219.0</td>\n      <td>14.0</td>\n      <td>[7.0, 325.0, 120.0, 428.0, 14.0, 28.0]</td>\n      <td>Fuga</td>\n      <td>True</td>\n    </tr>\n    <tr>\n      <th>206</th>\n      <td>3</td>\n      <td>4</td>\n      <td>[-2, -2, -2, -2, 2]</td>\n      <td>Altus</td>\n      <td>84</td>\n      <td>1.0</td>\n      <td>664.0</td>\n      <td>544.0</td>\n      <td>14.0</td>\n      <td>[7.0, 325.0, 120.0, 428.0, 14.0, 28.0]</td>\n      <td>Fuga</td>\n      <td>True</td>\n    </tr>\n    <tr>\n      <th>210</th>\n      <td>3</td>\n      <td>5</td>\n      <td>[-2, -2, -2, -2, 2]</td>\n      <td>Bassus</td>\n      <td>129</td>\n      <td>3.0</td>\n      <td>1092.0</td>\n      <td>664.0</td>\n      <td>16.0</td>\n      <td>[7.0, 325.0, 120.0, 428.0, 14.0, 28.0]</td>\n      <td>Fuga</td>\n      <td>True</td>\n    </tr>\n    <tr>\n      <th>8</th>\n      <td>5</td>\n      <td>4</td>\n      <td>[-2, -2, -2, 2, -2]</td>\n      <td>Bassus</td>\n      <td>139</td>\n      <td>4.0</td>\n      <td>1174.0</td>\n      <td>88.0</td>\n      <td>18.0</td>\n      <td>[16.0, 16.0, 1086.0]</td>\n      <td>Fuga</td>\n      <td>True</td>\n    </tr>\n    <tr>\n      <th>113</th>\n      <td>6</td>\n      <td>2</td>\n      <td>[-2, -2, -2, 2, 2]</td>\n      <td>Altus</td>\n      <td>27</td>\n      <td>4.5</td>\n      <td>215.0</td>\n      <td>104.0</td>\n      <td>13.0</td>\n      <td>[111.0, 5.0, 178.0, 149.0, 165.0, 384.0, 66.0]</td>\n      <td>Fuga</td>\n      <td>True</td>\n    </tr>\n    <tr>\n      <th>112</th>\n      <td>6</td>\n      <td>4</td>\n      <td>[-2, -2, -2, 2, 2]</td>\n      <td>[Superius]</td>\n      <td>50</td>\n      <td>4.0</td>\n      <td>398.0</td>\n      <td>220.0</td>\n      <td>11.0</td>\n      <td>[111.0, 5.0, 178.0, 149.0, 165.0, 384.0, 66.0]</td>\n      <td>Fuga</td>\n      <td>True</td>\n    </tr>\n    <tr>\n      <th>114</th>\n      <td>6</td>\n      <td>5</td>\n      <td>[-2, -2, -2, 2, 2]</td>\n      <td>Altus</td>\n      <td>69</td>\n      <td>2.5</td>\n      <td>547.0</td>\n      <td>398.0</td>\n      <td>14.0</td>\n      <td>[111.0, 5.0, 178.0, 149.0, 165.0, 384.0, 66.0]</td>\n      <td>Fuga</td>\n      <td>True</td>\n    </tr>\n    <tr>\n      <th>116</th>\n      <td>6</td>\n      <td>6</td>\n      <td>[-2, -2, -2, 2, 2]</td>\n      <td>Tenor</td>\n      <td>90</td>\n      <td>1.0</td>\n      <td>712.0</td>\n      <td>547.0</td>\n      <td>17.0</td>\n      <td>[111.0, 5.0, 178.0, 149.0, 165.0, 384.0, 66.0]</td>\n      <td>Fuga</td>\n      <td>True</td>\n    </tr>\n    <tr>\n      <th>118</th>\n      <td>6</td>\n      <td>7</td>\n      <td>[-2, -2, -2, 2, 2]</td>\n      <td>Bassus</td>\n      <td>130</td>\n      <td>1.0</td>\n      <td>1096.0</td>\n      <td>712.0</td>\n      <td>13.0</td>\n      <td>[111.0, 5.0, 178.0, 149.0, 165.0, 384.0, 66.0]</td>\n      <td>Fuga</td>\n      <td>True</td>\n    </tr>\n    <tr>\n      <th>120</th>\n      <td>8</td>\n      <td>2</td>\n      <td>[-2, -2, 2, 2, -2]</td>\n      <td>[Superius]</td>\n      <td>51</td>\n      <td>1.5</td>\n      <td>401.0</td>\n      <td>221.0</td>\n      <td>9.0</td>\n      <td>[180.0, 315.0, 276.0, 64.0]</td>\n      <td>Fuga</td>\n      <td>True</td>\n    </tr>\n    <tr>\n      <th>122</th>\n      <td>8</td>\n      <td>3</td>\n      <td>[-2, -2, 2, 2, -2]</td>\n      <td>Tenor</td>\n      <td>90</td>\n      <td>3.0</td>\n      <td>716.0</td>\n      <td>401.0</td>\n      <td>14.0</td>\n      <td>[180.0, 315.0, 276.0, 64.0]</td>\n      <td>Fuga</td>\n      <td>True</td>\n    </tr>\n    <tr>\n      <th>123</th>\n      <td>8</td>\n      <td>4</td>\n      <td>[-2, -2, 2, 2, -2]</td>\n      <td>Bassus</td>\n      <td>117</td>\n      <td>1.0</td>\n      <td>992.0</td>\n      <td>716.0</td>\n      <td>16.0</td>\n      <td>[180.0, 315.0, 276.0, 64.0]</td>\n      <td>Fuga</td>\n      <td>True</td>\n    </tr>\n    <tr>\n      <th>163</th>\n      <td>11</td>\n      <td>8</td>\n      <td>[-3, 2, -2, -2, -2]</td>\n      <td>Bassus</td>\n      <td>139</td>\n      <td>2.0</td>\n      <td>1170.0</td>\n      <td>648.0</td>\n      <td>10.0</td>\n      <td>[16.0, 8.0, 16.0, 22.0, 42.0, 24.0, 522.0]</td>\n      <td>Fuga</td>\n      <td>True</td>\n    </tr>\n    <tr>\n      <th>39</th>\n      <td>14</td>\n      <td>2</td>\n      <td>[1, 1, 2, -2, -2]</td>\n      <td>[Superius]</td>\n      <td>84</td>\n      <td>1.0</td>\n      <td>664.0</td>\n      <td>316.0</td>\n      <td>18.0</td>\n      <td>[348.0, 80.0, 48.0, 148.0, 28.0, 36.0, 28.0]</td>\n      <td>Fuga</td>\n      <td>True</td>\n    </tr>\n    <tr>\n      <th>42</th>\n      <td>14</td>\n      <td>3</td>\n      <td>[1, 1, 2, -2, -2]</td>\n      <td>Altus</td>\n      <td>94</td>\n      <td>1.0</td>\n      <td>744.0</td>\n      <td>664.0</td>\n      <td>22.0</td>\n      <td>[348.0, 80.0, 48.0, 148.0, 28.0, 36.0, 28.0]</td>\n      <td>Fuga</td>\n      <td>True</td>\n    </tr>\n    <tr>\n      <th>40</th>\n      <td>14</td>\n      <td>5</td>\n      <td>[1, 1, 2, -2, -2]</td>\n      <td>[Superius]</td>\n      <td>111</td>\n      <td>3.0</td>\n      <td>940.0</td>\n      <td>792.0</td>\n      <td>24.0</td>\n      <td>[348.0, 80.0, 48.0, 148.0, 28.0, 36.0, 28.0]</td>\n      <td>Fuga</td>\n      <td>True</td>\n    </tr>\n    <tr>\n      <th>48</th>\n      <td>17</td>\n      <td>4</td>\n      <td>[1, 2, -2, -2, -2]</td>\n      <td>[Superius]</td>\n      <td>84</td>\n      <td>3.0</td>\n      <td>668.0</td>\n      <td>320.0</td>\n      <td>16.0</td>\n      <td>[32.0, 32.0, 348.0, 80.0, 48.0, 152.0, 28.0, 6...</td>\n      <td>Fuga</td>\n      <td>True</td>\n    </tr>\n    <tr>\n      <th>52</th>\n      <td>17</td>\n      <td>5</td>\n      <td>[1, 2, -2, -2, -2]</td>\n      <td>Altus</td>\n      <td>94</td>\n      <td>2.0</td>\n      <td>748.0</td>\n      <td>668.0</td>\n      <td>20.0</td>\n      <td>[32.0, 32.0, 348.0, 80.0, 48.0, 152.0, 28.0, 6...</td>\n      <td>Fuga</td>\n      <td>True</td>\n    </tr>\n    <tr>\n      <th>49</th>\n      <td>17</td>\n      <td>7</td>\n      <td>[1, 2, -2, -2, -2]</td>\n      <td>[Superius]</td>\n      <td>112</td>\n      <td>3.0</td>\n      <td>948.0</td>\n      <td>796.0</td>\n      <td>20.0</td>\n      <td>[32.0, 32.0, 348.0, 80.0, 48.0, 152.0, 28.0, 6...</td>\n      <td>Fuga</td>\n      <td>True</td>\n    </tr>\n    <tr>\n      <th>29</th>\n      <td>18</td>\n      <td>3</td>\n      <td>[1, 2, -2, 1, -2]</td>\n      <td>Altus</td>\n      <td>79</td>\n      <td>1.0</td>\n      <td>624.0</td>\n      <td>288.0</td>\n      <td>16.0</td>\n      <td>[32.0, 336.0, 24.0]</td>\n      <td>Fuga</td>\n      <td>True</td>\n    </tr>\n    <tr>\n      <th>62</th>\n      <td>21</td>\n      <td>2</td>\n      <td>[2, -2, -2, -2, -2]</td>\n      <td>Altus</td>\n      <td>68</td>\n      <td>3.0</td>\n      <td>540.0</td>\n      <td>324.0</td>\n      <td>16.0</td>\n      <td>[216.0, 44.0, 86.0, 82.0, 48.0, 84.0, 102.0, 6...</td>\n      <td>Fuga</td>\n      <td>True</td>\n    </tr>\n    <tr>\n      <th>61</th>\n      <td>21</td>\n      <td>4</td>\n      <td>[2, -2, -2, -2, -2]</td>\n      <td>[Superius]</td>\n      <td>84</td>\n      <td>4.0</td>\n      <td>670.0</td>\n      <td>584.0</td>\n      <td>18.0</td>\n      <td>[216.0, 44.0, 86.0, 82.0, 48.0, 84.0, 102.0, 6...</td>\n      <td>Fuga</td>\n      <td>True</td>\n    </tr>\n    <tr>\n      <th>63</th>\n      <td>21</td>\n      <td>5</td>\n      <td>[2, -2, -2, -2, -2]</td>\n      <td>Altus</td>\n      <td>94</td>\n      <td>3.0</td>\n      <td>752.0</td>\n      <td>670.0</td>\n      <td>24.0</td>\n      <td>[216.0, 44.0, 86.0, 82.0, 48.0, 84.0, 102.0, 6...</td>\n      <td>Fuga</td>\n      <td>True</td>\n    </tr>\n    <tr>\n      <th>65</th>\n      <td>21</td>\n      <td>7</td>\n      <td>[2, -2, -2, -2, -2]</td>\n      <td>Altus</td>\n      <td>105</td>\n      <td>3.0</td>\n      <td>884.0</td>\n      <td>800.0</td>\n      <td>20.0</td>\n      <td>[216.0, 44.0, 86.0, 82.0, 48.0, 84.0, 102.0, 6...</td>\n      <td>Fuga</td>\n      <td>True</td>\n    </tr>\n    <tr>\n      <th>66</th>\n      <td>21</td>\n      <td>8</td>\n      <td>[2, -2, -2, -2, -2]</td>\n      <td>Altus</td>\n      <td>116</td>\n      <td>2.0</td>\n      <td>986.0</td>\n      <td>884.0</td>\n      <td>10.0</td>\n      <td>[216.0, 44.0, 86.0, 82.0, 48.0, 84.0, 102.0, 6...</td>\n      <td>Fuga</td>\n      <td>True</td>\n    </tr>\n    <tr>\n      <th>68</th>\n      <td>21</td>\n      <td>10</td>\n      <td>[2, -2, -2, -2, -2]</td>\n      <td>Altus</td>\n      <td>135</td>\n      <td>3.0</td>\n      <td>1132.0</td>\n      <td>1050.0</td>\n      <td>12.0</td>\n      <td>[216.0, 44.0, 86.0, 82.0, 48.0, 84.0, 102.0, 6...</td>\n      <td>Fuga</td>\n      <td>True</td>\n    </tr>\n    <tr>\n      <th>110</th>\n      <td>23</td>\n      <td>3</td>\n      <td>[2, -2, -2, -2, 2]</td>\n      <td>Tenor</td>\n      <td>91</td>\n      <td>3.0</td>\n      <td>724.0</td>\n      <td>404.0</td>\n      <td>24.0</td>\n      <td>[8.0, 320.0, 448.0]</td>\n      <td>Fuga</td>\n      <td>True</td>\n    </tr>\n    <tr>\n      <th>111</th>\n      <td>23</td>\n      <td>4</td>\n      <td>[2, -2, -2, -2, 2]</td>\n      <td>Bassus</td>\n      <td>139</td>\n      <td>3.0</td>\n      <td>1172.0</td>\n      <td>724.0</td>\n      <td>12.0</td>\n      <td>[8.0, 320.0, 448.0]</td>\n      <td>Fuga</td>\n      <td>True</td>\n    </tr>\n    <tr>\n      <th>34</th>\n      <td>24</td>\n      <td>4</td>\n      <td>[2, -2, 1, -2, 2]</td>\n      <td>Altus</td>\n      <td>79</td>\n      <td>3.0</td>\n      <td>628.0</td>\n      <td>292.0</td>\n      <td>20.0</td>\n      <td>[28.0, 4.0, 336.0, 24.0, 516.0]</td>\n      <td>Fuga</td>\n      <td>True</td>\n    </tr>\n    <tr>\n      <th>35</th>\n      <td>24</td>\n      <td>6</td>\n      <td>[2, -2, 1, -2, 2]</td>\n      <td>Altus</td>\n      <td>139</td>\n      <td>1.0</td>\n      <td>1168.0</td>\n      <td>652.0</td>\n      <td>20.0</td>\n      <td>[28.0, 4.0, 336.0, 24.0, 516.0]</td>\n      <td>Fuga</td>\n      <td>True</td>\n    </tr>\n    <tr>\n      <th>151</th>\n      <td>27</td>\n      <td>7</td>\n      <td>[2, -3, 2, -2, -2]</td>\n      <td>Altus</td>\n      <td>127</td>\n      <td>2.5</td>\n      <td>1075.0</td>\n      <td>646.0</td>\n      <td>13.0</td>\n      <td>[16.0, 8.0, 16.0, 66.0, 24.0, 429.0, 93.0]</td>\n      <td>Fuga</td>\n      <td>True</td>\n    </tr>\n    <tr>\n      <th>155</th>\n      <td>27</td>\n      <td>8</td>\n      <td>[2, -3, 2, -2, -2]</td>\n      <td>Bassus</td>\n      <td>139</td>\n      <td>1.0</td>\n      <td>1168.0</td>\n      <td>1075.0</td>\n      <td>11.0</td>\n      <td>[16.0, 8.0, 16.0, 66.0, 24.0, 429.0, 93.0]</td>\n      <td>Fuga</td>\n      <td>True</td>\n    </tr>\n    <tr>\n      <th>137</th>\n      <td>28</td>\n      <td>2</td>\n      <td>[2, -3, 2, -3, 2]</td>\n      <td>[Superius]</td>\n      <td>64</td>\n      <td>3.0</td>\n      <td>508.0</td>\n      <td>403.0</td>\n      <td>23.0</td>\n      <td>[105.0, 16.0, 8.0, 16.0, 32.0, 320.0]</td>\n      <td>Fuga</td>\n      <td>True</td>\n    </tr>\n    <tr>\n      <th>143</th>\n      <td>28</td>\n      <td>7</td>\n      <td>[2, -3, 2, -3, 2]</td>\n      <td>Bassus</td>\n      <td>106</td>\n      <td>1.0</td>\n      <td>900.0</td>\n      <td>580.0</td>\n      <td>28.0</td>\n      <td>[105.0, 16.0, 8.0, 16.0, 32.0, 320.0]</td>\n      <td>Fuga</td>\n      <td>True</td>\n    </tr>\n    <tr>\n      <th>212</th>\n      <td>30</td>\n      <td>3</td>\n      <td>[2, 1, 2, -2, -2]</td>\n      <td>Altus</td>\n      <td>116</td>\n      <td>3.0</td>\n      <td>980.0</td>\n      <td>284.0</td>\n      <td>11.0</td>\n      <td>[32.0, 696.0, 64.0]</td>\n      <td>Fuga</td>\n      <td>True</td>\n    </tr>\n    <tr>\n      <th>107</th>\n      <td>32</td>\n      <td>3</td>\n      <td>[2, 2, -2, -2, -2]</td>\n      <td>Tenor</td>\n      <td>91</td>\n      <td>2.5</td>\n      <td>723.0</td>\n      <td>403.0</td>\n      <td>13.0</td>\n      <td>[8.0, 320.0, 407.0]</td>\n      <td>Fuga</td>\n      <td>True</td>\n    </tr>\n    <tr>\n      <th>106</th>\n      <td>32</td>\n      <td>4</td>\n      <td>[2, 2, -2, -2, -2]</td>\n      <td>Altus</td>\n      <td>134</td>\n      <td>2.0</td>\n      <td>1130.0</td>\n      <td>723.0</td>\n      <td>10.0</td>\n      <td>[8.0, 320.0, 407.0]</td>\n      <td>Fuga</td>\n      <td>True</td>\n    </tr>\n    <tr>\n      <th>14</th>\n      <td>33</td>\n      <td>2</td>\n      <td>[2, 2, -3, -2, -2]</td>\n      <td>[Superius]</td>\n      <td>55</td>\n      <td>4.0</td>\n      <td>438.0</td>\n      <td>132.0</td>\n      <td>18.0</td>\n      <td>[306.0, 4.0, 36.0, 4.0]</td>\n      <td>Fuga</td>\n      <td>True</td>\n    </tr>\n    <tr>\n      <th>24</th>\n      <td>35</td>\n      <td>3</td>\n      <td>[2, 2, 1, 2, -2]</td>\n      <td>Altus</td>\n      <td>115</td>\n      <td>1.0</td>\n      <td>976.0</td>\n      <td>280.0</td>\n      <td>14.0</td>\n      <td>[32.0, 696.0, 64.0]</td>\n      <td>Fuga</td>\n      <td>True</td>\n    </tr>\n    <tr>\n      <th>100</th>\n      <td>36</td>\n      <td>3</td>\n      <td>[2, 2, 2, -2, 2]</td>\n      <td>[Superius]</td>\n      <td>127</td>\n      <td>1.0</td>\n      <td>1072.0</td>\n      <td>382.0</td>\n      <td>24.0</td>\n      <td>[2.0, 690.0, 20.0]</td>\n      <td>Fuga</td>\n      <td>True</td>\n    </tr>\n    <tr>\n      <th>1</th>\n      <td>40</td>\n      <td>5</td>\n      <td>[4, 1, 2, 2, -3]</td>\n      <td>[Superius]</td>\n      <td>105</td>\n      <td>3.0</td>\n      <td>884.0</td>\n      <td>48.0</td>\n      <td>28.0</td>\n      <td>[16.0, 16.0, 16.0, 836.0]</td>\n      <td>Fuga</td>\n      <td>True</td>\n    </tr>\n  </tbody>\n</table>\n</div>"
     },
     "metadata": {},
     "execution_count": 86
    }
   ],
   "source": [
    "gap = classified2[\"start_offset\"] - classified2[\"prev_entry_off\"]\n",
    "# return df2\n",
    "\n",
    "classified2[\"gapped\"] = gap >= 80\n",
    "c3 = classified2[classified2[\"gapped\"] == True]\n",
    "c3.head(50)\n"
   ]
  },
  {
   "cell_type": "code",
   "execution_count": null,
   "metadata": {},
   "outputs": [],
   "source": []
  }
 ]
}