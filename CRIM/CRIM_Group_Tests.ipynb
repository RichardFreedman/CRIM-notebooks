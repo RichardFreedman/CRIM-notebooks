{
 "cells": [
  {
   "cell_type": "code",
   "execution_count": 1,
   "metadata": {},
   "outputs": [],
   "source": [
    "from crim_intervals import *\n",
    "import pandas as pd\n",
    "import ast\n",
    "import matplotlib\n",
    "from itertools import tee, combinations\n",
    "import numpy as np"
   ]
  },
  {
   "cell_type": "code",
   "execution_count": 2,
   "metadata": {},
   "outputs": [],
   "source": [
    "# THIS IS DEV COPY for use with CLOSE/EXACT Matches\n",
    "\n",
    "import numpy as np\n",
    "\n",
    "# Converts lists to tuples\n",
    "\n",
    "def lists_to_tuples_a(el):\n",
    "    if isinstance(el, list):\n",
    "        return tuple(el)\n",
    "    else:\n",
    "        return el\n",
    "\n",
    "# Filters for the length of the Presentation Type in the Classifier\n",
    "\n",
    "def limit_offset_size(array, limit):\n",
    "    under_limit = np.cumsum(array) <= limit\n",
    "    return array[: sum(under_limit)]\n",
    "\n",
    "# Gets the the list of offset differences for each group \n",
    "\n",
    "def get_offset_difference_list_a(group):\n",
    "    # if we do sort values as part of the func call, then we don't need this first line\n",
    "    group = group.sort_values(\"start_offset\")\n",
    "    group[\"next_offset\"] = group.start_offset.shift(-1)\n",
    "    offset_difference_list = (group.next_offset - group.start_offset).dropna().tolist()\n",
    "    return offset_difference_list\n",
    "\n",
    "# The classifications are done here\n",
    "# be sure to have the offset difference limit set here and matched in gap check below  80 = ten bars\n",
    "\n",
    "def classify_offsets_a(offset_difference_list):\n",
    "    \"\"\"\n",
    "    Put logic for classifying an offset list here\n",
    "    \"\"\"\n",
    "    # \n",
    "    offset_difference_list = limit_offset_size(offset_difference_list, 500)\n",
    "    \n",
    "    alt_list = offset_difference_list[::2]\n",
    "    \n",
    "    if len(set(offset_difference_list)) == 1 and len(offset_difference_list) > 1:\n",
    "        return (\"PEN\", offset_difference_list)\n",
    "    # elif (len(offset_difference_list) %2 != 0) and (len(set(alt_list)) == 1):\n",
    "    elif (len(offset_difference_list) %2 != 0) and (len(set(alt_list)) == 1) and (len(offset_difference_list) >= 3):\n",
    "        return (\"ID\", offset_difference_list)\n",
    "    elif len(offset_difference_list) >= 1:\n",
    "        return (\"Fuga\", offset_difference_list)\n",
    "    else: \n",
    "        return (\"Singleton\", offset_difference_list)\n",
    "    \n",
    "# adds predicted type, offsets and entry numbers to the results\n",
    "\n",
    "def predict_type_a(group):\n",
    "    offset_differences = get_offset_difference_list_a(group)\n",
    "    predicted_type, offsets = classify_offsets_a(offset_differences)\n",
    "\n",
    "    group[\"predicted_type\"] = [predicted_type for i in range(len(group))]\n",
    "    group[\"offset_diffs\"] = [offsets for i in range(len(group))]\n",
    "    group[\"entry_number\"] = [i + 1 for i in range(len(group))]\n",
    "\n",
    "    return group"
   ]
  },
  {
   "cell_type": "code",
   "execution_count": 91,
   "metadata": {},
   "outputs": [
    {
     "output_type": "execute_result",
     "data": {
      "text/plain": [
       "  pattern_generating_match   pattern_matched piece_title        part  \\\n",
       "0         (4, 1, 2, 2, -3)  [4, 1, 2, 2, -3]   Ave Maria  [Superius]   \n",
       "1         (4, 1, 2, 2, -3)  [4, 1, 2, 2, -3]   Ave Maria  [Superius]   \n",
       "2         (4, 1, 2, 2, -3)  [4, 1, 2, 2, -3]   Ave Maria       Altus   \n",
       "3         (4, 1, 2, 2, -3)  [4, 1, 2, 2, -3]   Ave Maria       Tenor   \n",
       "4         (4, 1, 2, 2, -3)  [4, 1, 2, 2, -3]   Ave Maria      Bassus   \n",
       "\n",
       "   start_measure  start_beat  start_offset  end_offset  \\\n",
       "0              1         1.0           0.0        24.0   \n",
       "1            105         3.0         884.0       910.0   \n",
       "2              3         1.0          16.0        40.0   \n",
       "3              5         1.0          32.0        56.0   \n",
       "4              7         1.0          48.0        72.0   \n",
       "\n",
       "                   note_durations  sum_durs  \n",
       "0  [4.0, 8.0, 4.0, 4.0, 4.0, 8.0]      32.0  \n",
       "1  [4.0, 8.0, 4.0, 4.0, 6.0, 2.0]      28.0  \n",
       "2  [4.0, 8.0, 4.0, 4.0, 4.0, 8.0]      32.0  \n",
       "3  [4.0, 8.0, 4.0, 4.0, 4.0, 8.0]      32.0  \n",
       "4  [4.0, 8.0, 4.0, 4.0, 4.0, 8.0]      32.0  "
      ],
      "text/html": "<div>\n<style scoped>\n    .dataframe tbody tr th:only-of-type {\n        vertical-align: middle;\n    }\n\n    .dataframe tbody tr th {\n        vertical-align: top;\n    }\n\n    .dataframe thead th {\n        text-align: right;\n    }\n</style>\n<table border=\"1\" class=\"dataframe\">\n  <thead>\n    <tr style=\"text-align: right;\">\n      <th></th>\n      <th>pattern_generating_match</th>\n      <th>pattern_matched</th>\n      <th>piece_title</th>\n      <th>part</th>\n      <th>start_measure</th>\n      <th>start_beat</th>\n      <th>start_offset</th>\n      <th>end_offset</th>\n      <th>note_durations</th>\n      <th>sum_durs</th>\n    </tr>\n  </thead>\n  <tbody>\n    <tr>\n      <th>0</th>\n      <td>(4, 1, 2, 2, -3)</td>\n      <td>[4, 1, 2, 2, -3]</td>\n      <td>Ave Maria</td>\n      <td>[Superius]</td>\n      <td>1</td>\n      <td>1.0</td>\n      <td>0.0</td>\n      <td>24.0</td>\n      <td>[4.0, 8.0, 4.0, 4.0, 4.0, 8.0]</td>\n      <td>32.0</td>\n    </tr>\n    <tr>\n      <th>1</th>\n      <td>(4, 1, 2, 2, -3)</td>\n      <td>[4, 1, 2, 2, -3]</td>\n      <td>Ave Maria</td>\n      <td>[Superius]</td>\n      <td>105</td>\n      <td>3.0</td>\n      <td>884.0</td>\n      <td>910.0</td>\n      <td>[4.0, 8.0, 4.0, 4.0, 6.0, 2.0]</td>\n      <td>28.0</td>\n    </tr>\n    <tr>\n      <th>2</th>\n      <td>(4, 1, 2, 2, -3)</td>\n      <td>[4, 1, 2, 2, -3]</td>\n      <td>Ave Maria</td>\n      <td>Altus</td>\n      <td>3</td>\n      <td>1.0</td>\n      <td>16.0</td>\n      <td>40.0</td>\n      <td>[4.0, 8.0, 4.0, 4.0, 4.0, 8.0]</td>\n      <td>32.0</td>\n    </tr>\n    <tr>\n      <th>3</th>\n      <td>(4, 1, 2, 2, -3)</td>\n      <td>[4, 1, 2, 2, -3]</td>\n      <td>Ave Maria</td>\n      <td>Tenor</td>\n      <td>5</td>\n      <td>1.0</td>\n      <td>32.0</td>\n      <td>56.0</td>\n      <td>[4.0, 8.0, 4.0, 4.0, 4.0, 8.0]</td>\n      <td>32.0</td>\n    </tr>\n    <tr>\n      <th>4</th>\n      <td>(4, 1, 2, 2, -3)</td>\n      <td>[4, 1, 2, 2, -3]</td>\n      <td>Ave Maria</td>\n      <td>Bassus</td>\n      <td>7</td>\n      <td>1.0</td>\n      <td>48.0</td>\n      <td>72.0</td>\n      <td>[4.0, 8.0, 4.0, 4.0, 4.0, 8.0]</td>\n      <td>32.0</td>\n    </tr>\n  </tbody>\n</table>\n</div>"
     },
     "metadata": {},
     "execution_count": 91
    }
   ],
   "source": [
    "# read CSV output of CRIM Intervals Search.\n",
    "\n",
    "df = pd.read_csv(('A_Test_Files/ave_test_set.csv'), index_col=0)\n",
    "df = df.drop(columns=[\"ema\", \"ema_url\", \"end_measure\", \"end_beat\"])\n",
    "df.head()\n"
   ]
  },
  {
   "cell_type": "code",
   "execution_count": 92,
   "metadata": {},
   "outputs": [],
   "source": [
    "# lists for views.  These are used when calling the df below\n",
    "\n",
    "simple_view = [\"piece_title\", \"part\", \"pattern_generating_match\", \"pattern_matched\", \"start_offset\"]\n",
    "\n",
    "offset_details = [\"start_measure\", \"start_beat\", \"end_offset\", \"note_durations\", \"prev_entry_off\", \"next_entry_off\"]\n",
    "\n",
    "drop_cols = [\"pattern_matched\", \"part\", \"pattern_generating_match\", \"piece_title\", \"start_measure\", \"start_beat\", \"end_offset\", \"note_durations\", \"prev_entry_off\", \"next_entry_off\"]\n",
    "\n",
    "ready_classify = [\"pattern_generating_match\", \"pattern_matched\", \"piece_title\", \"part\", \"start_measure\", \"start_beat\", \"start_offset\", \"sub_group_id\", \"is_first\"]"
   ]
  },
  {
   "cell_type": "code",
   "execution_count": 93,
   "metadata": {},
   "outputs": [],
   "source": [
    "df['note_durations'] = df.note_durations.apply(ast.literal_eval)\n",
    "df[\"sum_durs\"] = df.note_durations.apply(sum)"
   ]
  },
  {
   "cell_type": "code",
   "execution_count": 94,
   "metadata": {},
   "outputs": [
    {
     "output_type": "execute_result",
     "data": {
      "text/plain": [
       "    pattern_generating_match       pattern_matched piece_title        part  \\\n",
       "18      (-2, -2, -2, -2, -2)  [-2, -2, -2, -2, -2]   Ave Maria  [Superius]   \n",
       "19      (-2, -2, -2, -2, -2)  [-2, -2, -2, -2, -2]   Ave Maria  [Superius]   \n",
       "71      (-2, -2, -2, -2, -3)  [-2, -2, -2, -2, -3]   Ave Maria  [Superius]   \n",
       "177      (-2, -2, -2, -2, 1)   [-2, -2, -2, -2, 1]   Ave Maria       Altus   \n",
       "178      (-2, -2, -2, -2, 1)   [-2, -2, -2, -2, 1]   Ave Maria       Altus   \n",
       "\n",
       "     start_measure  start_beat  start_offset  end_offset  \\\n",
       "18              19         1.0         144.0       156.0   \n",
       "19              20         4.0         158.0       172.0   \n",
       "71              42         1.0         328.0       348.0   \n",
       "177             95         1.0         756.0       776.0   \n",
       "178             99         1.0         804.0       824.0   \n",
       "\n",
       "                     note_durations  sum_durs  ...  is_last  last_off_diff  \\\n",
       "18   [3.0, 1.0, 2.0, 2.0, 4.0, 2.0]      14.0  ...    False            NaN   \n",
       "19   [3.0, 1.0, 4.0, 2.0, 4.0, 4.0]      18.0  ...    False           14.0   \n",
       "71   [6.0, 2.0, 4.0, 4.0, 4.0, 4.0]      24.0  ...    False          344.0   \n",
       "177  [6.0, 2.0, 2.0, 2.0, 8.0, 4.0]      24.0  ...    False          132.0   \n",
       "178  [6.0, 2.0, 2.0, 2.0, 8.0, 4.0]      24.0  ...    False           48.0   \n",
       "\n",
       "     next_off_diff  parallel  forward_gapped  back_gapped  singleton  \\\n",
       "18            14.0     False           False        False      False   \n",
       "19            58.0     False            True        False      False   \n",
       "71             0.0     False           False        False      False   \n",
       "177           48.0     False           False        False      False   \n",
       "178           60.0     False            True        False      False   \n",
       "\n",
       "     split_group  combined_group  sub_group_id  \n",
       "18         False            True           0.0  \n",
       "19         False           False           0.0  \n",
       "71         False            True           1.0  \n",
       "177        False            True           2.0  \n",
       "178        False           False           2.0  \n",
       "\n",
       "[5 rows x 24 columns]"
      ],
      "text/html": "<div>\n<style scoped>\n    .dataframe tbody tr th:only-of-type {\n        vertical-align: middle;\n    }\n\n    .dataframe tbody tr th {\n        vertical-align: top;\n    }\n\n    .dataframe thead th {\n        text-align: right;\n    }\n</style>\n<table border=\"1\" class=\"dataframe\">\n  <thead>\n    <tr style=\"text-align: right;\">\n      <th></th>\n      <th>pattern_generating_match</th>\n      <th>pattern_matched</th>\n      <th>piece_title</th>\n      <th>part</th>\n      <th>start_measure</th>\n      <th>start_beat</th>\n      <th>start_offset</th>\n      <th>end_offset</th>\n      <th>note_durations</th>\n      <th>sum_durs</th>\n      <th>...</th>\n      <th>is_last</th>\n      <th>last_off_diff</th>\n      <th>next_off_diff</th>\n      <th>parallel</th>\n      <th>forward_gapped</th>\n      <th>back_gapped</th>\n      <th>singleton</th>\n      <th>split_group</th>\n      <th>combined_group</th>\n      <th>sub_group_id</th>\n    </tr>\n  </thead>\n  <tbody>\n    <tr>\n      <th>18</th>\n      <td>(-2, -2, -2, -2, -2)</td>\n      <td>[-2, -2, -2, -2, -2]</td>\n      <td>Ave Maria</td>\n      <td>[Superius]</td>\n      <td>19</td>\n      <td>1.0</td>\n      <td>144.0</td>\n      <td>156.0</td>\n      <td>[3.0, 1.0, 2.0, 2.0, 4.0, 2.0]</td>\n      <td>14.0</td>\n      <td>...</td>\n      <td>False</td>\n      <td>NaN</td>\n      <td>14.0</td>\n      <td>False</td>\n      <td>False</td>\n      <td>False</td>\n      <td>False</td>\n      <td>False</td>\n      <td>True</td>\n      <td>0.0</td>\n    </tr>\n    <tr>\n      <th>19</th>\n      <td>(-2, -2, -2, -2, -2)</td>\n      <td>[-2, -2, -2, -2, -2]</td>\n      <td>Ave Maria</td>\n      <td>[Superius]</td>\n      <td>20</td>\n      <td>4.0</td>\n      <td>158.0</td>\n      <td>172.0</td>\n      <td>[3.0, 1.0, 4.0, 2.0, 4.0, 4.0]</td>\n      <td>18.0</td>\n      <td>...</td>\n      <td>False</td>\n      <td>14.0</td>\n      <td>58.0</td>\n      <td>False</td>\n      <td>True</td>\n      <td>False</td>\n      <td>False</td>\n      <td>False</td>\n      <td>False</td>\n      <td>0.0</td>\n    </tr>\n    <tr>\n      <th>71</th>\n      <td>(-2, -2, -2, -2, -3)</td>\n      <td>[-2, -2, -2, -2, -3]</td>\n      <td>Ave Maria</td>\n      <td>[Superius]</td>\n      <td>42</td>\n      <td>1.0</td>\n      <td>328.0</td>\n      <td>348.0</td>\n      <td>[6.0, 2.0, 4.0, 4.0, 4.0, 4.0]</td>\n      <td>24.0</td>\n      <td>...</td>\n      <td>False</td>\n      <td>344.0</td>\n      <td>0.0</td>\n      <td>False</td>\n      <td>False</td>\n      <td>False</td>\n      <td>False</td>\n      <td>False</td>\n      <td>True</td>\n      <td>1.0</td>\n    </tr>\n    <tr>\n      <th>177</th>\n      <td>(-2, -2, -2, -2, 1)</td>\n      <td>[-2, -2, -2, -2, 1]</td>\n      <td>Ave Maria</td>\n      <td>Altus</td>\n      <td>95</td>\n      <td>1.0</td>\n      <td>756.0</td>\n      <td>776.0</td>\n      <td>[6.0, 2.0, 2.0, 2.0, 8.0, 4.0]</td>\n      <td>24.0</td>\n      <td>...</td>\n      <td>False</td>\n      <td>132.0</td>\n      <td>48.0</td>\n      <td>False</td>\n      <td>False</td>\n      <td>False</td>\n      <td>False</td>\n      <td>False</td>\n      <td>True</td>\n      <td>2.0</td>\n    </tr>\n    <tr>\n      <th>178</th>\n      <td>(-2, -2, -2, -2, 1)</td>\n      <td>[-2, -2, -2, -2, 1]</td>\n      <td>Ave Maria</td>\n      <td>Altus</td>\n      <td>99</td>\n      <td>1.0</td>\n      <td>804.0</td>\n      <td>824.0</td>\n      <td>[6.0, 2.0, 2.0, 2.0, 8.0, 4.0]</td>\n      <td>24.0</td>\n      <td>...</td>\n      <td>False</td>\n      <td>48.0</td>\n      <td>60.0</td>\n      <td>False</td>\n      <td>True</td>\n      <td>False</td>\n      <td>False</td>\n      <td>False</td>\n      <td>False</td>\n      <td>2.0</td>\n    </tr>\n  </tbody>\n</table>\n<p>5 rows × 24 columns</p>\n</div>"
     },
     "metadata": {},
     "execution_count": 94
    }
   ],
   "source": [
    "# now process the original match data df by:\n",
    "# sorting by start offset, then group by pattern generating match and applying the function above for prev entry\n",
    "# also give each group a number\n",
    "# sort by group number and start offset\n",
    "# so that we can find PARALLEL (=0) Forward Gaps (the distance to NEXT entry), and Backward Gaps (distance to PREVIOUS Entry)\n",
    "# All Proximate Matches are part of same sub Group (and go to classifier)\n",
    "# Parallels are part of Sub Group but NOT part of Classified.  We will filter them OUT before classification\n",
    "# Forward ONLY means the NEXT entry is a GAP.  No problem for Forward ONLY, since these are part of the previous set.\n",
    "# Backward ONLY means the LAST entry was a GAP.  So these are NEW subgroups, since a new Presentation Type begins\n",
    "# Forward AND Backward Gaps are SINGLETONS:  We will filter then OUT before Classification\n",
    "# If an entry is the LAST in a Group and also has a BACKWARD gap it is also a SINGLETON\n",
    "\n",
    "df2 = df\n",
    "# df2 = df.sort_values(\"start_offset\")\n",
    "\n",
    "# Make Groups, Sort By Group and Offset, then and Add Previous/Next\n",
    "df2[\"group_number\"] = df2.groupby('pattern_generating_match').ngroup()\n",
    "df2 = df2.sort_values(['group_number', 'start_offset'])\n",
    "df2[\"prev_entry_off\"] = df2[\"start_offset\"].shift(1)\n",
    "df2[\"next_entry_off\"] = df2[\"start_offset\"].shift(-1)\n",
    "\n",
    "\n",
    "first_of_group = df2.drop_duplicates(subset=[\"pattern_generating_match\"], keep='first').index\n",
    "df2[\"is_first\"] = df2.index.isin(first_of_group)\n",
    "last_of_group = df2.drop_duplicates(subset=[\"pattern_generating_match\"], keep='last').index\n",
    "df2[\"is_last\"] = df2.index.isin(last_of_group)\n",
    "\n",
    "# Check Differences between Next and Last Offset\n",
    "\n",
    "df2[\"last_off_diff\"] = df2[\"start_offset\"] - df2[\"prev_entry_off\"]\n",
    "df2[\"next_off_diff\"] = df2[\"next_entry_off\"] - df2[\"start_offset\"]\n",
    "\n",
    "# Find Parallel Entries \n",
    "df2[\"parallel\"] = df2[\"last_off_diff\"] == 0\n",
    "\n",
    "# Set Gap Limits and Check Gaps Forward and Back\n",
    "df2[\"forward_gapped\"] = df2[\"next_off_diff\"] >= 50\n",
    "df2[\"back_gapped\"] = df2[\"last_off_diff\"] >= 50\n",
    "\n",
    "# Find Singletons and Split Groups with Gaps\n",
    "df2[\"singleton\"] = ((df2['forward_gapped'] == True) & (df2['back_gapped'] == True) | (df2['back_gapped'] == True) & (df2[\"is_last\"]))\n",
    "df2[\"split_group\"] = (df2['forward_gapped'] == False) & (df2['back_gapped'] == True)\n",
    "\n",
    "#Mask Out Parallels and Singletons\n",
    "df2 = df2[df2[\"parallel\"] != True]\n",
    "df2 = df2[df2[\"singleton\"] != True]\n",
    "df2[\"next_off_diff\"] = df2[\"next_off_diff\"].abs()\n",
    "df2[\"last_off_diff\"] = df2[\"last_off_diff\"].abs()\n",
    "\n",
    "# Find Final Groups\n",
    "df2[\"combined_group\"] = (df2.split_group | df2.is_first)\n",
    "df2.loc[(df2[\"combined_group\"]), \"sub_group_id\"] = range(df2.combined_group.sum())\n",
    "df2[\"sub_group_id\"] = df2[\"sub_group_id\"].ffill()\n",
    "\n",
    "\n",
    "df2.head()\n"
   ]
  },
  {
   "cell_type": "code",
   "execution_count": 95,
   "metadata": {},
   "outputs": [
    {
     "output_type": "execute_result",
     "data": {
      "text/plain": [
       "    pattern_generating_match       pattern_matched piece_title        part  \\\n",
       "18      (-2, -2, -2, -2, -2)  [-2, -2, -2, -2, -2]   Ave Maria  [Superius]   \n",
       "19      (-2, -2, -2, -2, -2)  [-2, -2, -2, -2, -2]   Ave Maria  [Superius]   \n",
       "71      (-2, -2, -2, -2, -3)  [-2, -2, -2, -2, -3]   Ave Maria  [Superius]   \n",
       "177      (-2, -2, -2, -2, 1)   [-2, -2, -2, -2, 1]   Ave Maria       Altus   \n",
       "178      (-2, -2, -2, -2, 1)   [-2, -2, -2, -2, 1]   Ave Maria       Altus   \n",
       "\n",
       "     start_measure  start_beat  start_offset  end_offset  \\\n",
       "18              19         1.0         144.0       156.0   \n",
       "19              20         4.0         158.0       172.0   \n",
       "71              42         1.0         328.0       348.0   \n",
       "177             95         1.0         756.0       776.0   \n",
       "178             99         1.0         804.0       824.0   \n",
       "\n",
       "                     note_durations  sum_durs  ...  is_last  last_off_diff  \\\n",
       "18   [3.0, 1.0, 2.0, 2.0, 4.0, 2.0]      14.0  ...    False            NaN   \n",
       "19   [3.0, 1.0, 4.0, 2.0, 4.0, 4.0]      18.0  ...    False           14.0   \n",
       "71   [6.0, 2.0, 4.0, 4.0, 4.0, 4.0]      24.0  ...    False          344.0   \n",
       "177  [6.0, 2.0, 2.0, 2.0, 8.0, 4.0]      24.0  ...    False          132.0   \n",
       "178  [6.0, 2.0, 2.0, 2.0, 8.0, 4.0]      24.0  ...    False           48.0   \n",
       "\n",
       "     next_off_diff  parallel  forward_gapped  back_gapped  singleton  \\\n",
       "18            14.0     False           False        False      False   \n",
       "19            58.0     False            True        False      False   \n",
       "71             0.0     False           False        False      False   \n",
       "177           48.0     False           False        False      False   \n",
       "178           60.0     False            True        False      False   \n",
       "\n",
       "     split_group  combined_group  sub_group_id  \n",
       "18         False            True           0.0  \n",
       "19         False           False           0.0  \n",
       "71         False            True           1.0  \n",
       "177        False            True           2.0  \n",
       "178        False           False           2.0  \n",
       "\n",
       "[5 rows x 24 columns]"
      ],
      "text/html": "<div>\n<style scoped>\n    .dataframe tbody tr th:only-of-type {\n        vertical-align: middle;\n    }\n\n    .dataframe tbody tr th {\n        vertical-align: top;\n    }\n\n    .dataframe thead th {\n        text-align: right;\n    }\n</style>\n<table border=\"1\" class=\"dataframe\">\n  <thead>\n    <tr style=\"text-align: right;\">\n      <th></th>\n      <th>pattern_generating_match</th>\n      <th>pattern_matched</th>\n      <th>piece_title</th>\n      <th>part</th>\n      <th>start_measure</th>\n      <th>start_beat</th>\n      <th>start_offset</th>\n      <th>end_offset</th>\n      <th>note_durations</th>\n      <th>sum_durs</th>\n      <th>...</th>\n      <th>is_last</th>\n      <th>last_off_diff</th>\n      <th>next_off_diff</th>\n      <th>parallel</th>\n      <th>forward_gapped</th>\n      <th>back_gapped</th>\n      <th>singleton</th>\n      <th>split_group</th>\n      <th>combined_group</th>\n      <th>sub_group_id</th>\n    </tr>\n  </thead>\n  <tbody>\n    <tr>\n      <th>18</th>\n      <td>(-2, -2, -2, -2, -2)</td>\n      <td>[-2, -2, -2, -2, -2]</td>\n      <td>Ave Maria</td>\n      <td>[Superius]</td>\n      <td>19</td>\n      <td>1.0</td>\n      <td>144.0</td>\n      <td>156.0</td>\n      <td>[3.0, 1.0, 2.0, 2.0, 4.0, 2.0]</td>\n      <td>14.0</td>\n      <td>...</td>\n      <td>False</td>\n      <td>NaN</td>\n      <td>14.0</td>\n      <td>False</td>\n      <td>False</td>\n      <td>False</td>\n      <td>False</td>\n      <td>False</td>\n      <td>True</td>\n      <td>0.0</td>\n    </tr>\n    <tr>\n      <th>19</th>\n      <td>(-2, -2, -2, -2, -2)</td>\n      <td>[-2, -2, -2, -2, -2]</td>\n      <td>Ave Maria</td>\n      <td>[Superius]</td>\n      <td>20</td>\n      <td>4.0</td>\n      <td>158.0</td>\n      <td>172.0</td>\n      <td>[3.0, 1.0, 4.0, 2.0, 4.0, 4.0]</td>\n      <td>18.0</td>\n      <td>...</td>\n      <td>False</td>\n      <td>14.0</td>\n      <td>58.0</td>\n      <td>False</td>\n      <td>True</td>\n      <td>False</td>\n      <td>False</td>\n      <td>False</td>\n      <td>False</td>\n      <td>0.0</td>\n    </tr>\n    <tr>\n      <th>71</th>\n      <td>(-2, -2, -2, -2, -3)</td>\n      <td>[-2, -2, -2, -2, -3]</td>\n      <td>Ave Maria</td>\n      <td>[Superius]</td>\n      <td>42</td>\n      <td>1.0</td>\n      <td>328.0</td>\n      <td>348.0</td>\n      <td>[6.0, 2.0, 4.0, 4.0, 4.0, 4.0]</td>\n      <td>24.0</td>\n      <td>...</td>\n      <td>False</td>\n      <td>344.0</td>\n      <td>0.0</td>\n      <td>False</td>\n      <td>False</td>\n      <td>False</td>\n      <td>False</td>\n      <td>False</td>\n      <td>True</td>\n      <td>1.0</td>\n    </tr>\n    <tr>\n      <th>177</th>\n      <td>(-2, -2, -2, -2, 1)</td>\n      <td>[-2, -2, -2, -2, 1]</td>\n      <td>Ave Maria</td>\n      <td>Altus</td>\n      <td>95</td>\n      <td>1.0</td>\n      <td>756.0</td>\n      <td>776.0</td>\n      <td>[6.0, 2.0, 2.0, 2.0, 8.0, 4.0]</td>\n      <td>24.0</td>\n      <td>...</td>\n      <td>False</td>\n      <td>132.0</td>\n      <td>48.0</td>\n      <td>False</td>\n      <td>False</td>\n      <td>False</td>\n      <td>False</td>\n      <td>False</td>\n      <td>True</td>\n      <td>2.0</td>\n    </tr>\n    <tr>\n      <th>178</th>\n      <td>(-2, -2, -2, -2, 1)</td>\n      <td>[-2, -2, -2, -2, 1]</td>\n      <td>Ave Maria</td>\n      <td>Altus</td>\n      <td>99</td>\n      <td>1.0</td>\n      <td>804.0</td>\n      <td>824.0</td>\n      <td>[6.0, 2.0, 2.0, 2.0, 8.0, 4.0]</td>\n      <td>24.0</td>\n      <td>...</td>\n      <td>False</td>\n      <td>48.0</td>\n      <td>60.0</td>\n      <td>False</td>\n      <td>True</td>\n      <td>False</td>\n      <td>False</td>\n      <td>False</td>\n      <td>False</td>\n      <td>2.0</td>\n    </tr>\n  </tbody>\n</table>\n<p>5 rows × 24 columns</p>\n</div>"
     },
     "metadata": {},
     "execution_count": 95
    }
   ],
   "source": [
    "# mask out short soggetti\n",
    "\n",
    "# df2 = df2[df2[\"sum_durs\"] >= 5]\n",
    "\n",
    "df2.head()"
   ]
  },
  {
   "cell_type": "code",
   "execution_count": 96,
   "metadata": {},
   "outputs": [
    {
     "output_type": "execute_result",
     "data": {
      "text/plain": [
       "<AxesSubplot:>"
      ]
     },
     "metadata": {},
     "execution_count": 96
    },
    {
     "output_type": "display_data",
     "data": {
      "text/plain": "<Figure size 432x288 with 1 Axes>",
      "image/png": "[encoded data removed]"
     },
     "metadata": {
      "image/png": {
       "width": 368,
       "height": 248
      },
      "needs_background": "light"
     }
    }
   ],
   "source": [
    "df2.sum_durs.hist(bins = 20)"
   ]
  },
  {
   "cell_type": "code",
   "execution_count": 97,
   "metadata": {},
   "outputs": [
    {
     "output_type": "execute_result",
     "data": {
      "text/plain": [
       "(167, 9)"
      ]
     },
     "metadata": {},
     "execution_count": 97
    }
   ],
   "source": [
    "# compact view for inspection of relevant columns\n",
    "\n",
    "\n",
    "df3 = df2[ready_classify]\n",
    "df3.shape"
   ]
  },
  {
   "cell_type": "code",
   "execution_count": 103,
   "metadata": {},
   "outputs": [
    {
     "output_type": "execute_result",
     "data": {
      "text/plain": [
       "    pattern_generating_match       pattern_matched piece_title        part  \\\n",
       "18      (-2, -2, -2, -2, -2)  [-2, -2, -2, -2, -2]   Ave Maria  [Superius]   \n",
       "19      (-2, -2, -2, -2, -2)  [-2, -2, -2, -2, -2]   Ave Maria  [Superius]   \n",
       "71      (-2, -2, -2, -2, -3)  [-2, -2, -2, -2, -3]   Ave Maria  [Superius]   \n",
       "177      (-2, -2, -2, -2, 1)   [-2, -2, -2, -2, 1]   Ave Maria       Altus   \n",
       "178      (-2, -2, -2, -2, 1)   [-2, -2, -2, -2, 1]   Ave Maria       Altus   \n",
       "\n",
       "     start_offset  sub_group_id  is_first predicted_type  entry_number   start  \n",
       "18          144.0           0.0      True           Fuga             1  19/1.0  \n",
       "19          158.0           0.0     False           Fuga             2  20/4.0  \n",
       "71          328.0           1.0      True      Singleton             1  42/1.0  \n",
       "177         756.0           2.0      True           Fuga             1  95/1.0  \n",
       "178         804.0           2.0     False           Fuga             2  99/1.0  "
      ],
      "text/html": "<div>\n<style scoped>\n    .dataframe tbody tr th:only-of-type {\n        vertical-align: middle;\n    }\n\n    .dataframe tbody tr th {\n        vertical-align: top;\n    }\n\n    .dataframe thead th {\n        text-align: right;\n    }\n</style>\n<table border=\"1\" class=\"dataframe\">\n  <thead>\n    <tr style=\"text-align: right;\">\n      <th></th>\n      <th>pattern_generating_match</th>\n      <th>pattern_matched</th>\n      <th>piece_title</th>\n      <th>part</th>\n      <th>start_offset</th>\n      <th>sub_group_id</th>\n      <th>is_first</th>\n      <th>predicted_type</th>\n      <th>entry_number</th>\n      <th>start</th>\n    </tr>\n  </thead>\n  <tbody>\n    <tr>\n      <th>18</th>\n      <td>(-2, -2, -2, -2, -2)</td>\n      <td>[-2, -2, -2, -2, -2]</td>\n      <td>Ave Maria</td>\n      <td>[Superius]</td>\n      <td>144.0</td>\n      <td>0.0</td>\n      <td>True</td>\n      <td>Fuga</td>\n      <td>1</td>\n      <td>19/1.0</td>\n    </tr>\n    <tr>\n      <th>19</th>\n      <td>(-2, -2, -2, -2, -2)</td>\n      <td>[-2, -2, -2, -2, -2]</td>\n      <td>Ave Maria</td>\n      <td>[Superius]</td>\n      <td>158.0</td>\n      <td>0.0</td>\n      <td>False</td>\n      <td>Fuga</td>\n      <td>2</td>\n      <td>20/4.0</td>\n    </tr>\n    <tr>\n      <th>71</th>\n      <td>(-2, -2, -2, -2, -3)</td>\n      <td>[-2, -2, -2, -2, -3]</td>\n      <td>Ave Maria</td>\n      <td>[Superius]</td>\n      <td>328.0</td>\n      <td>1.0</td>\n      <td>True</td>\n      <td>Singleton</td>\n      <td>1</td>\n      <td>42/1.0</td>\n    </tr>\n    <tr>\n      <th>177</th>\n      <td>(-2, -2, -2, -2, 1)</td>\n      <td>[-2, -2, -2, -2, 1]</td>\n      <td>Ave Maria</td>\n      <td>Altus</td>\n      <td>756.0</td>\n      <td>2.0</td>\n      <td>True</td>\n      <td>Fuga</td>\n      <td>1</td>\n      <td>95/1.0</td>\n    </tr>\n    <tr>\n      <th>178</th>\n      <td>(-2, -2, -2, -2, 1)</td>\n      <td>[-2, -2, -2, -2, 1]</td>\n      <td>Ave Maria</td>\n      <td>Altus</td>\n      <td>804.0</td>\n      <td>2.0</td>\n      <td>False</td>\n      <td>Fuga</td>\n      <td>2</td>\n      <td>99/1.0</td>\n    </tr>\n  </tbody>\n</table>\n</div>"
     },
     "metadata": {},
     "execution_count": 103
    }
   ],
   "source": [
    "# run the classifier on the newly curated list of groups\n",
    "\n",
    "classified2 = df3.applymap(lists_to_tuples_a).groupby(\"sub_group_id\").apply(predict_type_a)\n",
    "\n",
    "# drop the new singletons\n",
    "\n",
    "# classified2.drop(classified2[classified2['predicted_type'] == \"Singleton\"].index, inplace = True)\n",
    "\n",
    "\n",
    "# # classified2 = classified2[classified2[\"predicted_type\"] == \"ID\"]\n",
    "\n",
    "\n",
    "classified2[\"start\"] = classified2[\"start_measure\"].astype(str) +\"/\"+ classified2[\"start_beat\"].astype(str) \n",
    "c3 = classified2.drop(columns=['start_measure', 'start_beat','offset_diffs'])\n",
    "c3.head()\n",
    "\n"
   ]
  },
  {
   "cell_type": "code",
   "execution_count": 104,
   "metadata": {},
   "outputs": [
    {
     "output_type": "execute_result",
     "data": {
      "text/plain": [
       "  pattern_generating_match      pattern_matched piece_title        part  \\\n",
       "0         (4, 1, 2, 2, -3)     [4, 1, 2, 2, -3]   Ave Maria  [Superius]   \n",
       "2         (4, 1, 2, 2, -3)     [4, 1, 2, 2, -3]   Ave Maria       Altus   \n",
       "3         (4, 1, 2, 2, -3)     [4, 1, 2, 2, -3]   Ave Maria       Tenor   \n",
       "4         (4, 1, 2, 2, -3)     [4, 1, 2, 2, -3]   Ave Maria      Bassus   \n",
       "5      (-2, -2, -2, 2, -2)  [-2, -2, -2, 2, -2]   Ave Maria  [Superius]   \n",
       "\n",
       "   start_offset  sub_group_id  is_first predicted_type  entry_number  start  \n",
       "0           0.0          55.0      True            PEN             1  1/1.0  \n",
       "2          16.0          55.0     False            PEN             2  3/1.0  \n",
       "3          32.0          55.0     False            PEN             3  5/1.0  \n",
       "4          48.0          55.0     False            PEN             4  7/1.0  \n",
       "5          56.0           7.0      True            PEN             1  8/1.0  "
      ],
      "text/html": "<div>\n<style scoped>\n    .dataframe tbody tr th:only-of-type {\n        vertical-align: middle;\n    }\n\n    .dataframe tbody tr th {\n        vertical-align: top;\n    }\n\n    .dataframe thead th {\n        text-align: right;\n    }\n</style>\n<table border=\"1\" class=\"dataframe\">\n  <thead>\n    <tr style=\"text-align: right;\">\n      <th></th>\n      <th>pattern_generating_match</th>\n      <th>pattern_matched</th>\n      <th>piece_title</th>\n      <th>part</th>\n      <th>start_offset</th>\n      <th>sub_group_id</th>\n      <th>is_first</th>\n      <th>predicted_type</th>\n      <th>entry_number</th>\n      <th>start</th>\n    </tr>\n  </thead>\n  <tbody>\n    <tr>\n      <th>0</th>\n      <td>(4, 1, 2, 2, -3)</td>\n      <td>[4, 1, 2, 2, -3]</td>\n      <td>Ave Maria</td>\n      <td>[Superius]</td>\n      <td>0.0</td>\n      <td>55.0</td>\n      <td>True</td>\n      <td>PEN</td>\n      <td>1</td>\n      <td>1/1.0</td>\n    </tr>\n    <tr>\n      <th>2</th>\n      <td>(4, 1, 2, 2, -3)</td>\n      <td>[4, 1, 2, 2, -3]</td>\n      <td>Ave Maria</td>\n      <td>Altus</td>\n      <td>16.0</td>\n      <td>55.0</td>\n      <td>False</td>\n      <td>PEN</td>\n      <td>2</td>\n      <td>3/1.0</td>\n    </tr>\n    <tr>\n      <th>3</th>\n      <td>(4, 1, 2, 2, -3)</td>\n      <td>[4, 1, 2, 2, -3]</td>\n      <td>Ave Maria</td>\n      <td>Tenor</td>\n      <td>32.0</td>\n      <td>55.0</td>\n      <td>False</td>\n      <td>PEN</td>\n      <td>3</td>\n      <td>5/1.0</td>\n    </tr>\n    <tr>\n      <th>4</th>\n      <td>(4, 1, 2, 2, -3)</td>\n      <td>[4, 1, 2, 2, -3]</td>\n      <td>Ave Maria</td>\n      <td>Bassus</td>\n      <td>48.0</td>\n      <td>55.0</td>\n      <td>False</td>\n      <td>PEN</td>\n      <td>4</td>\n      <td>7/1.0</td>\n    </tr>\n    <tr>\n      <th>5</th>\n      <td>(-2, -2, -2, 2, -2)</td>\n      <td>[-2, -2, -2, 2, -2]</td>\n      <td>Ave Maria</td>\n      <td>[Superius]</td>\n      <td>56.0</td>\n      <td>7.0</td>\n      <td>True</td>\n      <td>PEN</td>\n      <td>1</td>\n      <td>8/1.0</td>\n    </tr>\n  </tbody>\n</table>\n</div>"
     },
     "metadata": {},
     "execution_count": 104
    }
   ],
   "source": [
    "# put things back in order by offset and group them again\n",
    "\n",
    "c4 = c3.sort_values(by = [\"start_offset\"])\n",
    "c5 = c4.groupby(by = [\"sub_group_id\"])\n",
    "c6 = c5.head(50)\n",
    "c7 = c6.groupby(by = [\"sub_group_id\"])\n",
    "c8 = c7.head(50)\n",
    "c8.head()\n",
    "# c6.to_csv(\"new-test-1.csv\")\n"
   ]
  },
  {
   "cell_type": "code",
   "execution_count": 105,
   "metadata": {},
   "outputs": [
    {
     "output_type": "execute_result",
     "data": {
      "text/plain": [
       "    pattern_generating_match    pattern_matched piece_title        part  \\\n",
       "128        (4, -2, 2, 2, -3)  [4, -2, 2, 2, -3]   Ave Maria      Bassus   \n",
       "0           (4, 1, 2, 2, -3)   [4, 1, 2, 2, -3]   Ave Maria  [Superius]   \n",
       "2           (4, 1, 2, 2, -3)   [4, 1, 2, 2, -3]   Ave Maria       Altus   \n",
       "3           (4, 1, 2, 2, -3)   [4, 1, 2, 2, -3]   Ave Maria       Tenor   \n",
       "4           (4, 1, 2, 2, -3)   [4, 1, 2, 2, -3]   Ave Maria      Bassus   \n",
       "\n",
       "     start_offset  sub_group_id  is_first predicted_type  entry_number   start  \n",
       "128         472.0          54.0     False             ID             4  60/1.0  \n",
       "0             0.0          55.0      True            PEN             1   1/1.0  \n",
       "2            16.0          55.0     False            PEN             2   3/1.0  \n",
       "3            32.0          55.0     False            PEN             3   5/1.0  \n",
       "4            48.0          55.0     False            PEN             4   7/1.0  "
      ],
      "text/html": "<div>\n<style scoped>\n    .dataframe tbody tr th:only-of-type {\n        vertical-align: middle;\n    }\n\n    .dataframe tbody tr th {\n        vertical-align: top;\n    }\n\n    .dataframe thead th {\n        text-align: right;\n    }\n</style>\n<table border=\"1\" class=\"dataframe\">\n  <thead>\n    <tr style=\"text-align: right;\">\n      <th></th>\n      <th>pattern_generating_match</th>\n      <th>pattern_matched</th>\n      <th>piece_title</th>\n      <th>part</th>\n      <th>start_offset</th>\n      <th>sub_group_id</th>\n      <th>is_first</th>\n      <th>predicted_type</th>\n      <th>entry_number</th>\n      <th>start</th>\n    </tr>\n  </thead>\n  <tbody>\n    <tr>\n      <th>128</th>\n      <td>(4, -2, 2, 2, -3)</td>\n      <td>[4, -2, 2, 2, -3]</td>\n      <td>Ave Maria</td>\n      <td>Bassus</td>\n      <td>472.0</td>\n      <td>54.0</td>\n      <td>False</td>\n      <td>ID</td>\n      <td>4</td>\n      <td>60/1.0</td>\n    </tr>\n    <tr>\n      <th>0</th>\n      <td>(4, 1, 2, 2, -3)</td>\n      <td>[4, 1, 2, 2, -3]</td>\n      <td>Ave Maria</td>\n      <td>[Superius]</td>\n      <td>0.0</td>\n      <td>55.0</td>\n      <td>True</td>\n      <td>PEN</td>\n      <td>1</td>\n      <td>1/1.0</td>\n    </tr>\n    <tr>\n      <th>2</th>\n      <td>(4, 1, 2, 2, -3)</td>\n      <td>[4, 1, 2, 2, -3]</td>\n      <td>Ave Maria</td>\n      <td>Altus</td>\n      <td>16.0</td>\n      <td>55.0</td>\n      <td>False</td>\n      <td>PEN</td>\n      <td>2</td>\n      <td>3/1.0</td>\n    </tr>\n    <tr>\n      <th>3</th>\n      <td>(4, 1, 2, 2, -3)</td>\n      <td>[4, 1, 2, 2, -3]</td>\n      <td>Ave Maria</td>\n      <td>Tenor</td>\n      <td>32.0</td>\n      <td>55.0</td>\n      <td>False</td>\n      <td>PEN</td>\n      <td>3</td>\n      <td>5/1.0</td>\n    </tr>\n    <tr>\n      <th>4</th>\n      <td>(4, 1, 2, 2, -3)</td>\n      <td>[4, 1, 2, 2, -3]</td>\n      <td>Ave Maria</td>\n      <td>Bassus</td>\n      <td>48.0</td>\n      <td>55.0</td>\n      <td>False</td>\n      <td>PEN</td>\n      <td>4</td>\n      <td>7/1.0</td>\n    </tr>\n  </tbody>\n</table>\n</div>"
     },
     "metadata": {},
     "execution_count": 105
    }
   ],
   "source": [
    "\n",
    "c9 = c8.sort_values(by = [\"sub_group_id\", \"entry_number\"])\n",
    "c9.tail()"
   ]
  },
  {
   "cell_type": "code",
   "execution_count": 106,
   "metadata": {},
   "outputs": [
    {
     "output_type": "execute_result",
     "data": {
      "text/plain": [
       "                                                                   part  \\\n",
       "entry_number                                                          1   \n",
       "predicted_type pattern_generating_match pattern_matched                   \n",
       "PEN            (4, 1, 2, 2, -3)         [4, 1, 2, 2, -3]     [Superius]   \n",
       "               (-2, -2, -2, 2, -2)      [-2, -2, -2, 2, -2]  [Superius]   \n",
       "Singleton      (-2, -2, -2, 2, 2)       [-2, -2, -2, 2, 2]       Bassus   \n",
       "PEN            (1, 1, 2, 2, -3)         [1, 1, 2, 2, -3]     [Superius]   \n",
       "Singleton      (2, 2, -3, -2, -2)       [2, 2, -3, -2, -2]   [Superius]   \n",
       "\n",
       "                                                                           \\\n",
       "entry_number                                                     2      3   \n",
       "predicted_type pattern_generating_match pattern_matched                     \n",
       "PEN            (4, 1, 2, 2, -3)         [4, 1, 2, 2, -3]     Altus  Tenor   \n",
       "               (-2, -2, -2, 2, -2)      [-2, -2, -2, 2, -2]  Altus  Tenor   \n",
       "Singleton      (-2, -2, -2, 2, 2)       [-2, -2, -2, 2, 2]     NaN    NaN   \n",
       "PEN            (1, 1, 2, 2, -3)         [1, 1, 2, 2, -3]     Altus  Tenor   \n",
       "Singleton      (2, 2, -3, -2, -2)       [2, 2, -3, -2, -2]     NaN    NaN   \n",
       "\n",
       "                                                                               \\\n",
       "entry_number                                                      4    5    6   \n",
       "predicted_type pattern_generating_match pattern_matched                         \n",
       "PEN            (4, 1, 2, 2, -3)         [4, 1, 2, 2, -3]     Bassus  NaN  NaN   \n",
       "               (-2, -2, -2, 2, -2)      [-2, -2, -2, 2, -2]     NaN  NaN  NaN   \n",
       "Singleton      (-2, -2, -2, 2, 2)       [-2, -2, -2, 2, 2]      NaN  NaN  NaN   \n",
       "PEN            (1, 1, 2, 2, -3)         [1, 1, 2, 2, -3]     Bassus  NaN  NaN   \n",
       "Singleton      (2, 2, -3, -2, -2)       [2, 2, -3, -2, -2]      NaN  NaN  NaN   \n",
       "\n",
       "                                                                   start  \\\n",
       "entry_number                                                   7       1   \n",
       "predicted_type pattern_generating_match pattern_matched                    \n",
       "PEN            (4, 1, 2, 2, -3)         [4, 1, 2, 2, -3]     NaN   1/1.0   \n",
       "               (-2, -2, -2, 2, -2)      [-2, -2, -2, 2, -2]  NaN   8/1.0   \n",
       "Singleton      (-2, -2, -2, 2, 2)       [-2, -2, -2, 2, 2]   NaN  14/1.0   \n",
       "PEN            (1, 1, 2, 2, -3)         [1, 1, 2, 2, -3]     NaN  16/3.0   \n",
       "Singleton      (2, 2, -3, -2, -2)       [2, 2, -3, -2, -2]   NaN  17/3.0   \n",
       "\n",
       "                                                                             \\\n",
       "entry_number                                                      2       3   \n",
       "predicted_type pattern_generating_match pattern_matched                       \n",
       "PEN            (4, 1, 2, 2, -3)         [4, 1, 2, 2, -3]      3/1.0   5/1.0   \n",
       "               (-2, -2, -2, 2, -2)      [-2, -2, -2, 2, -2]  10/1.0  12/1.0   \n",
       "Singleton      (-2, -2, -2, 2, 2)       [-2, -2, -2, 2, 2]      NaN     NaN   \n",
       "PEN            (1, 1, 2, 2, -3)         [1, 1, 2, 2, -3]     18/3.0  20/3.0   \n",
       "Singleton      (2, 2, -3, -2, -2)       [2, 2, -3, -2, -2]      NaN     NaN   \n",
       "\n",
       "                                                             ...            \\\n",
       "entry_number                                                 ...    5    6   \n",
       "predicted_type pattern_generating_match pattern_matched      ...             \n",
       "PEN            (4, 1, 2, 2, -3)         [4, 1, 2, 2, -3]     ...  NaN  NaN   \n",
       "               (-2, -2, -2, 2, -2)      [-2, -2, -2, 2, -2]  ...  NaN  NaN   \n",
       "Singleton      (-2, -2, -2, 2, 2)       [-2, -2, -2, 2, 2]   ...  NaN  NaN   \n",
       "PEN            (1, 1, 2, 2, -3)         [1, 1, 2, 2, -3]     ...  NaN  NaN   \n",
       "Singleton      (2, 2, -3, -2, -2)       [2, 2, -3, -2, -2]   ...  NaN  NaN   \n",
       "\n",
       "                                                                 start_offset  \\\n",
       "entry_number                                                   7            1   \n",
       "predicted_type pattern_generating_match pattern_matched                         \n",
       "PEN            (4, 1, 2, 2, -3)         [4, 1, 2, 2, -3]     NaN            0   \n",
       "               (-2, -2, -2, 2, -2)      [-2, -2, -2, 2, -2]  NaN           56   \n",
       "Singleton      (-2, -2, -2, 2, 2)       [-2, -2, -2, 2, 2]   NaN          104   \n",
       "PEN            (1, 1, 2, 2, -3)         [1, 1, 2, 2, -3]     NaN          124   \n",
       "Singleton      (2, 2, -3, -2, -2)       [2, 2, -3, -2, -2]   NaN          132   \n",
       "\n",
       "                                                                            \\\n",
       "entry_number                                                   2    3    4   \n",
       "predicted_type pattern_generating_match pattern_matched                      \n",
       "PEN            (4, 1, 2, 2, -3)         [4, 1, 2, 2, -3]      16   32   48   \n",
       "               (-2, -2, -2, 2, -2)      [-2, -2, -2, 2, -2]   72   88  NaN   \n",
       "Singleton      (-2, -2, -2, 2, 2)       [-2, -2, -2, 2, 2]   NaN  NaN  NaN   \n",
       "PEN            (1, 1, 2, 2, -3)         [1, 1, 2, 2, -3]     140  156  172   \n",
       "Singleton      (2, 2, -3, -2, -2)       [2, 2, -3, -2, -2]   NaN  NaN  NaN   \n",
       "\n",
       "                                                                            \n",
       "entry_number                                                   5    6    7  \n",
       "predicted_type pattern_generating_match pattern_matched                     \n",
       "PEN            (4, 1, 2, 2, -3)         [4, 1, 2, 2, -3]     NaN  NaN  NaN  \n",
       "               (-2, -2, -2, 2, -2)      [-2, -2, -2, 2, -2]  NaN  NaN  NaN  \n",
       "Singleton      (-2, -2, -2, 2, 2)       [-2, -2, -2, 2, 2]   NaN  NaN  NaN  \n",
       "PEN            (1, 1, 2, 2, -3)         [1, 1, 2, 2, -3]     NaN  NaN  NaN  \n",
       "Singleton      (2, 2, -3, -2, -2)       [2, 2, -3, -2, -2]   NaN  NaN  NaN  \n",
       "\n",
       "[5 rows x 21 columns]"
      ],
      "text/html": "<div>\n<style scoped>\n    .dataframe tbody tr th:only-of-type {\n        vertical-align: middle;\n    }\n\n    .dataframe tbody tr th {\n        vertical-align: top;\n    }\n\n    .dataframe thead tr th {\n        text-align: left;\n    }\n\n    .dataframe thead tr:last-of-type th {\n        text-align: right;\n    }\n</style>\n<table border=\"1\" class=\"dataframe\">\n  <thead>\n    <tr>\n      <th></th>\n      <th></th>\n      <th></th>\n      <th colspan=\"7\" halign=\"left\">part</th>\n      <th colspan=\"7\" halign=\"left\">start</th>\n      <th colspan=\"7\" halign=\"left\">start_offset</th>\n    </tr>\n    <tr>\n      <th></th>\n      <th></th>\n      <th>entry_number</th>\n      <th>1</th>\n      <th>2</th>\n      <th>3</th>\n      <th>4</th>\n      <th>5</th>\n      <th>6</th>\n      <th>7</th>\n      <th>1</th>\n      <th>2</th>\n      <th>3</th>\n      <th>...</th>\n      <th>5</th>\n      <th>6</th>\n      <th>7</th>\n      <th>1</th>\n      <th>2</th>\n      <th>3</th>\n      <th>4</th>\n      <th>5</th>\n      <th>6</th>\n      <th>7</th>\n    </tr>\n    <tr>\n      <th>predicted_type</th>\n      <th>pattern_generating_match</th>\n      <th>pattern_matched</th>\n      <th></th>\n      <th></th>\n      <th></th>\n      <th></th>\n      <th></th>\n      <th></th>\n      <th></th>\n      <th></th>\n      <th></th>\n      <th></th>\n      <th></th>\n      <th></th>\n      <th></th>\n      <th></th>\n      <th></th>\n      <th></th>\n      <th></th>\n      <th></th>\n      <th></th>\n      <th></th>\n      <th></th>\n    </tr>\n  </thead>\n  <tbody>\n    <tr>\n      <th rowspan=\"2\" valign=\"top\">PEN</th>\n      <th>(4, 1, 2, 2, -3)</th>\n      <th>[4, 1, 2, 2, -3]</th>\n      <td>[Superius]</td>\n      <td>Altus</td>\n      <td>Tenor</td>\n      <td>Bassus</td>\n      <td>NaN</td>\n      <td>NaN</td>\n      <td>NaN</td>\n      <td>1/1.0</td>\n      <td>3/1.0</td>\n      <td>5/1.0</td>\n      <td>...</td>\n      <td>NaN</td>\n      <td>NaN</td>\n      <td>NaN</td>\n      <td>0</td>\n      <td>16</td>\n      <td>32</td>\n      <td>48</td>\n      <td>NaN</td>\n      <td>NaN</td>\n      <td>NaN</td>\n    </tr>\n    <tr>\n      <th>(-2, -2, -2, 2, -2)</th>\n      <th>[-2, -2, -2, 2, -2]</th>\n      <td>[Superius]</td>\n      <td>Altus</td>\n      <td>Tenor</td>\n      <td>NaN</td>\n      <td>NaN</td>\n      <td>NaN</td>\n      <td>NaN</td>\n      <td>8/1.0</td>\n      <td>10/1.0</td>\n      <td>12/1.0</td>\n      <td>...</td>\n      <td>NaN</td>\n      <td>NaN</td>\n      <td>NaN</td>\n      <td>56</td>\n      <td>72</td>\n      <td>88</td>\n      <td>NaN</td>\n      <td>NaN</td>\n      <td>NaN</td>\n      <td>NaN</td>\n    </tr>\n    <tr>\n      <th>Singleton</th>\n      <th>(-2, -2, -2, 2, 2)</th>\n      <th>[-2, -2, -2, 2, 2]</th>\n      <td>Bassus</td>\n      <td>NaN</td>\n      <td>NaN</td>\n      <td>NaN</td>\n      <td>NaN</td>\n      <td>NaN</td>\n      <td>NaN</td>\n      <td>14/1.0</td>\n      <td>NaN</td>\n      <td>NaN</td>\n      <td>...</td>\n      <td>NaN</td>\n      <td>NaN</td>\n      <td>NaN</td>\n      <td>104</td>\n      <td>NaN</td>\n      <td>NaN</td>\n      <td>NaN</td>\n      <td>NaN</td>\n      <td>NaN</td>\n      <td>NaN</td>\n    </tr>\n    <tr>\n      <th>PEN</th>\n      <th>(1, 1, 2, 2, -3)</th>\n      <th>[1, 1, 2, 2, -3]</th>\n      <td>[Superius]</td>\n      <td>Altus</td>\n      <td>Tenor</td>\n      <td>Bassus</td>\n      <td>NaN</td>\n      <td>NaN</td>\n      <td>NaN</td>\n      <td>16/3.0</td>\n      <td>18/3.0</td>\n      <td>20/3.0</td>\n      <td>...</td>\n      <td>NaN</td>\n      <td>NaN</td>\n      <td>NaN</td>\n      <td>124</td>\n      <td>140</td>\n      <td>156</td>\n      <td>172</td>\n      <td>NaN</td>\n      <td>NaN</td>\n      <td>NaN</td>\n    </tr>\n    <tr>\n      <th>Singleton</th>\n      <th>(2, 2, -3, -2, -2)</th>\n      <th>[2, 2, -3, -2, -2]</th>\n      <td>[Superius]</td>\n      <td>NaN</td>\n      <td>NaN</td>\n      <td>NaN</td>\n      <td>NaN</td>\n      <td>NaN</td>\n      <td>NaN</td>\n      <td>17/3.0</td>\n      <td>NaN</td>\n      <td>NaN</td>\n      <td>...</td>\n      <td>NaN</td>\n      <td>NaN</td>\n      <td>NaN</td>\n      <td>132</td>\n      <td>NaN</td>\n      <td>NaN</td>\n      <td>NaN</td>\n      <td>NaN</td>\n      <td>NaN</td>\n      <td>NaN</td>\n    </tr>\n  </tbody>\n</table>\n<p>5 rows × 21 columns</p>\n</div>"
     },
     "metadata": {},
     "execution_count": 106
    }
   ],
   "source": [
    "#df[\"pattern\"] = df[\"pattern\"].apply(tuple)\n",
    "wide_df = c9.pivot_table(index=[\"predicted_type\", \"pattern_generating_match\", \"pattern_matched\"],\n",
    "            columns=\"entry_number\",\n",
    "            values=[\"part\", \"start_offset\", \"start\"],\n",
    "            aggfunc=lambda x: x)\n",
    "sorted_wide = wide_df.sort_values(by = [(\"start_offset\", 1)])\n",
    "\n",
    "sorted_wide.head()"
   ]
  },
  {
   "cell_type": "code",
   "execution_count": 107,
   "metadata": {},
   "outputs": [],
   "source": [
    "sorted_wide = sorted_wide.reset_index()\n",
    "sorted_wide = sorted_wide.drop(columns=['pattern_generating_match'])\n",
    "# sorted_wide.head(50)\n",
    "sorted_wide.to_csv(\"wide_test_3_4_21.csv\")"
   ]
  },
  {
   "cell_type": "code",
   "execution_count": null,
   "metadata": {},
   "outputs": [],
   "source": [
    "# # use the following to filter for particular types--PEN, ID, Fuga\n",
    "\n",
    "\n",
    "# ac = ab.drop(columns=['is_first','offset_diffs'])\n",
    "# # ad = ac.groupby(\"sub_group_id\")\n",
    "# # ad[\"start\"] = ad[\"start_measure\"].astype(str) +\"/\"+ ad[\"start_beat\"].astype(str) \n",
    "# # ad.head(50)\n",
    "# ac.head(50)\n",
    "\n",
    "# # classified2.shape\n",
    "\n",
    "# output to csv\n",
    "# classified2.to_csv('Model_0001_Classified_2.csv')\n",
    "\n",
    "# classified2.head(50)\n",
    "ac.head(10)\n",
    "ac.to_csv('testA.csv')"
   ]
  },
  {
   "cell_type": "code",
   "execution_count": 146,
   "metadata": {},
   "outputs": [
    {
     "ename": "AttributeError",
     "evalue": "'SeriesGroupBy' object has no attribute 'astype'",
     "output_type": "error",
     "traceback": [
      "\u001b[0;31m---------------------------------------------------------------------------\u001b[0m",
      "\u001b[0;31mAttributeError\u001b[0m                            Traceback (most recent call last)",
      "\u001b[0;32m<ipython-input-146-58d9249d065e>\u001b[0m in \u001b[0;36m<module>\u001b[0;34m\u001b[0m\n\u001b[0;32m----> 1\u001b[0;31m \u001b[0mac\u001b[0m\u001b[0;34m[\u001b[0m\u001b[0;34m\"start\"\u001b[0m\u001b[0;34m]\u001b[0m \u001b[0;34m=\u001b[0m \u001b[0mac\u001b[0m\u001b[0;34m[\u001b[0m\u001b[0;34m\"start_measure\"\u001b[0m\u001b[0;34m]\u001b[0m\u001b[0;34m.\u001b[0m\u001b[0mastype\u001b[0m\u001b[0;34m(\u001b[0m\u001b[0mstr\u001b[0m\u001b[0;34m)\u001b[0m \u001b[0;34m+\u001b[0m\u001b[0;34m\"/\"\u001b[0m\u001b[0;34m+\u001b[0m \u001b[0mac\u001b[0m\u001b[0;34m[\u001b[0m\u001b[0;34m\"start_beat\"\u001b[0m\u001b[0;34m]\u001b[0m\u001b[0;34m.\u001b[0m\u001b[0mastype\u001b[0m\u001b[0;34m(\u001b[0m\u001b[0mstr\u001b[0m\u001b[0;34m)\u001b[0m\u001b[0;34m\u001b[0m\u001b[0;34m\u001b[0m\u001b[0m\n\u001b[0m\u001b[1;32m      2\u001b[0m \u001b[0;31m# classified2[\"start_measure\"] = classified2[\"start_measure\"].astype(str)\u001b[0m\u001b[0;34m\u001b[0m\u001b[0;34m\u001b[0m\u001b[0;34m\u001b[0m\u001b[0m\n\u001b[1;32m      3\u001b[0m \u001b[0;31m# classified2[\"start_beat\"] = classified2[\"start_beat\"].astype(str)\u001b[0m\u001b[0;34m\u001b[0m\u001b[0;34m\u001b[0m\u001b[0;34m\u001b[0m\u001b[0m\n\u001b[1;32m      4\u001b[0m \u001b[0;31m# classified2[\"start\"] = classified2[\"start_measure\"]\u001b[0m\u001b[0;34m\u001b[0m\u001b[0;34m\u001b[0m\u001b[0;34m\u001b[0m\u001b[0m\n\u001b[1;32m      5\u001b[0m \u001b[0;31m# print(classified2.dtypes)\u001b[0m\u001b[0;34m\u001b[0m\u001b[0;34m\u001b[0m\u001b[0;34m\u001b[0m\u001b[0m\n",
      "\u001b[0;32m~/opt/anaconda3/lib/python3.7/site-packages/pandas/core/groupby/groupby.py\u001b[0m in \u001b[0;36m__getattr__\u001b[0;34m(self, attr)\u001b[0m\n\u001b[1;32m    702\u001b[0m \u001b[0;34m\u001b[0m\u001b[0m\n\u001b[1;32m    703\u001b[0m         raise AttributeError(\n\u001b[0;32m--> 704\u001b[0;31m             \u001b[0;34mf\"'{type(self).__name__}' object has no attribute '{attr}'\"\u001b[0m\u001b[0;34m\u001b[0m\u001b[0;34m\u001b[0m\u001b[0m\n\u001b[0m\u001b[1;32m    705\u001b[0m         )\n\u001b[1;32m    706\u001b[0m \u001b[0;34m\u001b[0m\u001b[0m\n",
      "\u001b[0;31mAttributeError\u001b[0m: 'SeriesGroupBy' object has no attribute 'astype'"
     ]
    }
   ],
   "source": [
    "ac[\"start\"] = ac[\"start_measure\"].astype(str) +\"/\"+ ac[\"start_beat\"].astype(str) \n",
    "# classified2[\"start_measure\"] = classified2[\"start_measure\"].astype(str)\n",
    "# classified2[\"start_beat\"] = classified2[\"start_beat\"].astype(str)\n",
    "# classified2[\"start\"] = classified2[\"start_measure\"]\n",
    "# print(classified2.dtypes)\n",
    "ac[\"group\"] = ac[\"sub_group_id\"]\n",
    "ac[\"type\"] = ac[\"predicted_type\"]\n",
    "ac[\"entry\"] = ac[\"entry_number\"]\n",
    "abc = ac[[\"piece_title\", \"pattern_generating_match\", \"pattern_matched\", \"part\", \"group\", \"type\", \"entry\"]]"
   ]
  },
  {
   "cell_type": "code",
   "execution_count": null,
   "metadata": {},
   "outputs": [],
   "source": []
  }
 ],
 "metadata": {
  "kernelspec": {
   "display_name": "Python 3",
   "language": "python",
   "name": "python3"
  },
  "language_info": {
   "codemirror_mode": {
    "name": "ipython",
    "version": 3
   },
   "file_extension": ".py",
   "mimetype": "text/x-python",
   "name": "python",
   "nbconvert_exporter": "python",
   "pygments_lexer": "ipython3",
   "version": "3.8.5-final"
  }
 },
 "nbformat": 4,
 "nbformat_minor": 2
}