{
 "metadata": {
  "language_info": {
   "codemirror_mode": {
    "name": "ipython",
    "version": 3
   },
   "file_extension": ".py",
   "mimetype": "text/x-python",
   "name": "python",
   "nbconvert_exporter": "python",
   "pygments_lexer": "ipython3",
   "version": "3.8.5-final"
  },
  "orig_nbformat": 2,
  "kernelspec": {
   "name": "python3",
   "display_name": "Python 3",
   "language": "python"
  }
 },
 "nbformat": 4,
 "nbformat_minor": 2,
 "cells": [
  {
   "cell_type": "code",
   "execution_count": 29,
   "metadata": {},
   "outputs": [],
   "source": [
    "from crim_intervals import *\n",
    "import pandas as pd\n",
    "import ast\n",
    "import matplotlib\n",
    "from itertools import tee, combinations\n",
    "import numpy as np"
   ]
  },
  {
   "cell_type": "code",
   "execution_count": 58,
   "metadata": {},
   "outputs": [],
   "source": [
    "# THIS IS DEV COPY for use with CLOSE/EXACT Matches\n",
    "\n",
    "import numpy as np\n",
    "\n",
    "# Converts lists to tuples\n",
    "\n",
    "def lists_to_tuples_a(el):\n",
    "    if isinstance(el, list):\n",
    "        return tuple(el)\n",
    "    else:\n",
    "        return el\n",
    "\n",
    "# Filters for the length of the Presentation Type in the Classifier\n",
    "\n",
    "def limit_offset_size(array, limit):\n",
    "    under_limit = np.cumsum(array) <= limit\n",
    "    return array[: sum(under_limit)]\n",
    "\n",
    "# Gets the the list of offset differences for each group \n",
    "\n",
    "def get_offset_difference_list_a(group):\n",
    "    # if we do sort values as part of the func call, then we don't need this first line\n",
    "    group = group.sort_values(\"start_offset\")\n",
    "    group[\"next_offset\"] = group.start_offset.shift(-1)\n",
    "    offset_difference_list = (group.next_offset - group.start_offset).dropna().tolist()\n",
    "    return offset_difference_list\n",
    "\n",
    "# The classifications are done here\n",
    "# be sure to have the offset difference limit set here and matched in gap check below  80 = ten bars\n",
    "\n",
    "def classify_offsets_a(offset_difference_list):\n",
    "    \"\"\"\n",
    "    Put logic for classifying an offset list here\n",
    "    \"\"\"\n",
    "    # \n",
    "    offset_difference_list = limit_offset_size(offset_difference_list, 500)\n",
    "    \n",
    "    alt_list = offset_difference_list[::2]\n",
    "    \n",
    "    if len(set(offset_difference_list)) == 1 and len(offset_difference_list) > 1:\n",
    "        return (\"PEN\", offset_difference_list)\n",
    "    # elif (len(offset_difference_list) %2 != 0) and (len(set(alt_list)) == 1):\n",
    "    elif (len(offset_difference_list) %2 != 0) and (len(set(alt_list)) == 1) and (len(offset_difference_list) >= 3):\n",
    "        return (\"ID\", offset_difference_list)\n",
    "    elif len(offset_difference_list) >= 1:\n",
    "        return (\"Fuga\", offset_difference_list)\n",
    "    else: \n",
    "        return (\"Singleton\", offset_difference_list)\n",
    "    \n",
    "# adds predicted type, offsets and entry numbers to the results\n",
    "\n",
    "def predict_type_a(group):\n",
    "    offset_differences = get_offset_difference_list_a(group)\n",
    "    predicted_type, offsets = classify_offsets_a(offset_differences)\n",
    "\n",
    "    group[\"predicted_type\"] = [predicted_type for i in range(len(group))]\n",
    "    group[\"offset_diffs\"] = [offsets for i in range(len(group))]\n",
    "    group[\"entry_number\"] = [i + 1 for i in range(len(group))]\n",
    "\n",
    "    return group"
   ]
  },
  {
   "cell_type": "code",
   "execution_count": 59,
   "metadata": {},
   "outputs": [
    {
     "output_type": "execute_result",
     "data": {
      "text/plain": [
       "  pattern_generating_match    pattern_matched             piece_title  \\\n",
       "0         [4, 1, 2, 2, -2]   [4, 1, 2, 2, -2]  Missa Ave Maria: Kyrie   \n",
       "1         [4, 1, 2, 2, -2]   [4, 1, 2, 2, -2]  Missa Ave Maria: Kyrie   \n",
       "2         [4, 1, 2, 2, -2]   [4, 1, 2, 2, -2]  Missa Ave Maria: Kyrie   \n",
       "3        [1, 2, 2, -2, -2]  [1, 2, 2, -2, -2]  Missa Ave Maria: Kyrie   \n",
       "4        [1, 2, 2, -2, -2]  [1, 2, 2, -2, -2]  Missa Ave Maria: Kyrie   \n",
       "\n",
       "         part  start_measure  start_beat  start_offset  end_offset  \\\n",
       "0  Sup[erius]              3         3.0          20.0        46.0   \n",
       "1       Altus              1         1.0           0.0        26.0   \n",
       "2      Bassus             10         1.0          72.0        95.0   \n",
       "3  Sup[erius]              4         1.0          24.0        47.0   \n",
       "4       Altus              1         3.0           4.0        27.0   \n",
       "\n",
       "                   note_durations  \n",
       "0  [4.0, 8.0, 4.0, 4.0, 6.0, 1.0]  \n",
       "1  [4.0, 8.0, 4.0, 4.0, 6.0, 1.0]  \n",
       "2  [4.0, 8.0, 4.0, 4.0, 3.0, 1.0]  \n",
       "3  [8.0, 4.0, 4.0, 6.0, 1.0, 1.0]  \n",
       "4  [8.0, 4.0, 4.0, 6.0, 1.0, 1.0]  "
      ],
      "text/html": "<div>\n<style scoped>\n    .dataframe tbody tr th:only-of-type {\n        vertical-align: middle;\n    }\n\n    .dataframe tbody tr th {\n        vertical-align: top;\n    }\n\n    .dataframe thead th {\n        text-align: right;\n    }\n</style>\n<table border=\"1\" class=\"dataframe\">\n  <thead>\n    <tr style=\"text-align: right;\">\n      <th></th>\n      <th>pattern_generating_match</th>\n      <th>pattern_matched</th>\n      <th>piece_title</th>\n      <th>part</th>\n      <th>start_measure</th>\n      <th>start_beat</th>\n      <th>start_offset</th>\n      <th>end_offset</th>\n      <th>note_durations</th>\n    </tr>\n  </thead>\n  <tbody>\n    <tr>\n      <th>0</th>\n      <td>[4, 1, 2, 2, -2]</td>\n      <td>[4, 1, 2, 2, -2]</td>\n      <td>Missa Ave Maria: Kyrie</td>\n      <td>Sup[erius]</td>\n      <td>3</td>\n      <td>3.0</td>\n      <td>20.0</td>\n      <td>46.0</td>\n      <td>[4.0, 8.0, 4.0, 4.0, 6.0, 1.0]</td>\n    </tr>\n    <tr>\n      <th>1</th>\n      <td>[4, 1, 2, 2, -2]</td>\n      <td>[4, 1, 2, 2, -2]</td>\n      <td>Missa Ave Maria: Kyrie</td>\n      <td>Altus</td>\n      <td>1</td>\n      <td>1.0</td>\n      <td>0.0</td>\n      <td>26.0</td>\n      <td>[4.0, 8.0, 4.0, 4.0, 6.0, 1.0]</td>\n    </tr>\n    <tr>\n      <th>2</th>\n      <td>[4, 1, 2, 2, -2]</td>\n      <td>[4, 1, 2, 2, -2]</td>\n      <td>Missa Ave Maria: Kyrie</td>\n      <td>Bassus</td>\n      <td>10</td>\n      <td>1.0</td>\n      <td>72.0</td>\n      <td>95.0</td>\n      <td>[4.0, 8.0, 4.0, 4.0, 3.0, 1.0]</td>\n    </tr>\n    <tr>\n      <th>3</th>\n      <td>[1, 2, 2, -2, -2]</td>\n      <td>[1, 2, 2, -2, -2]</td>\n      <td>Missa Ave Maria: Kyrie</td>\n      <td>Sup[erius]</td>\n      <td>4</td>\n      <td>1.0</td>\n      <td>24.0</td>\n      <td>47.0</td>\n      <td>[8.0, 4.0, 4.0, 6.0, 1.0, 1.0]</td>\n    </tr>\n    <tr>\n      <th>4</th>\n      <td>[1, 2, 2, -2, -2]</td>\n      <td>[1, 2, 2, -2, -2]</td>\n      <td>Missa Ave Maria: Kyrie</td>\n      <td>Altus</td>\n      <td>1</td>\n      <td>3.0</td>\n      <td>4.0</td>\n      <td>27.0</td>\n      <td>[8.0, 4.0, 4.0, 6.0, 1.0, 1.0]</td>\n    </tr>\n  </tbody>\n</table>\n</div>"
     },
     "metadata": {},
     "execution_count": 59
    }
   ],
   "source": [
    "# read CSV output of CRIM Intervals Search.\n",
    "\n",
    "df = pd.read_csv(('A_Test_Files/Mass_0005_1_Exact_4.csv'), index_col=0)\n",
    "df = df.drop(columns=[\"ema\", \"ema_url\", \"end_measure\", \"end_beat\"])\n",
    "df.head()\n"
   ]
  },
  {
   "cell_type": "code",
   "execution_count": 60,
   "metadata": {},
   "outputs": [],
   "source": [
    "# lists for views.  These are used when calling the df below\n",
    "\n",
    "simple_view = [\"piece_title\", \"part\", \"pattern_generating_match\", \"pattern_matched\", \"start_offset\"]\n",
    "\n",
    "offset_details = [\"start_measure\", \"start_beat\", \"end_offset\", \"note_durations\", \"prev_entry_off\", \"next_entry_off\"]\n",
    "\n",
    "drop_cols = [\"pattern_matched\", \"part\", \"pattern_generating_match\", \"piece_title\", \"start_measure\", \"start_beat\", \"end_offset\", \"note_durations\", \"prev_entry_off\", \"next_entry_off\"]\n",
    "\n",
    "ready_classify = [\"pattern_generating_match\", \"pattern_matched\", \"piece_title\", \"part\", \"start_measure\", \"start_beat\", \"start_offset\", \"sub_group_id\"]"
   ]
  },
  {
   "cell_type": "code",
   "execution_count": 61,
   "metadata": {},
   "outputs": [],
   "source": [
    "df['note_durations'] = df.note_durations.apply(ast.literal_eval)\n",
    "df[\"sum_durs\"] = df.note_durations.apply(sum)"
   ]
  },
  {
   "cell_type": "code",
   "execution_count": 62,
   "metadata": {},
   "outputs": [
    {
     "output_type": "execute_result",
     "data": {
      "text/plain": [
       "    pattern_generating_match       pattern_matched             piece_title  \\\n",
       "277     [-2, -2, -2, -2, -2]  [-2, -2, -2, -2, -2]  Missa Ave Maria: Kyrie   \n",
       "278     [-2, -2, -2, -2, -2]  [-2, -2, -2, -2, -2]  Missa Ave Maria: Kyrie   \n",
       "274     [-2, -2, -2, -2, -2]  [-2, -2, -2, -2, -2]  Missa Ave Maria: Kyrie   \n",
       "275     [-2, -2, -2, -2, -2]  [-2, -2, -2, -2, -2]  Missa Ave Maria: Kyrie   \n",
       "276     [-2, -2, -2, -2, -2]  [-2, -2, -2, -2, -2]  Missa Ave Maria: Kyrie   \n",
       "\n",
       "       part  start_measure  start_beat  start_offset  end_offset  \\\n",
       "277  Bassus             31         1.0         240.0       250.0   \n",
       "278  Bassus             31         2.5         243.0       252.0   \n",
       "274   Altus             73         2.0         594.0       602.0   \n",
       "275   Altus             73         4.0         598.0       603.0   \n",
       "276   Altus             73         4.5         599.0       604.0   \n",
       "\n",
       "                     note_durations  sum_durs  ...  is_last  last_off_diff  \\\n",
       "277  [3.0, 1.0, 2.0, 2.0, 2.0, 2.0]      12.0  ...    False            NaN   \n",
       "278  [1.0, 2.0, 2.0, 2.0, 2.0, 2.0]      11.0  ...    False            3.0   \n",
       "274  [4.0, 1.0, 1.0, 1.0, 1.0, 1.0]       9.0  ...    False          351.0   \n",
       "275  [1.0, 1.0, 1.0, 1.0, 1.0, 1.0]       6.0  ...    False            4.0   \n",
       "276  [1.0, 1.0, 1.0, 1.0, 1.0, 4.0]       9.0  ...    False            1.0   \n",
       "\n",
       "     next_off_diff  parallel  forward_gapped  back_gapped  singleton  \\\n",
       "277            3.0     False           False        False      False   \n",
       "278          351.0     False            True        False      False   \n",
       "274            4.0     False           False         True      False   \n",
       "275            1.0     False           False        False      False   \n",
       "276           75.0     False            True        False      False   \n",
       "\n",
       "     split_group  combined_group  sub_group_id  \n",
       "277        False            True           0.0  \n",
       "278        False           False           0.0  \n",
       "274         True            True           1.0  \n",
       "275        False           False           1.0  \n",
       "276        False           False           1.0  \n",
       "\n",
       "[5 rows x 24 columns]"
      ],
      "text/html": "<div>\n<style scoped>\n    .dataframe tbody tr th:only-of-type {\n        vertical-align: middle;\n    }\n\n    .dataframe tbody tr th {\n        vertical-align: top;\n    }\n\n    .dataframe thead th {\n        text-align: right;\n    }\n</style>\n<table border=\"1\" class=\"dataframe\">\n  <thead>\n    <tr style=\"text-align: right;\">\n      <th></th>\n      <th>pattern_generating_match</th>\n      <th>pattern_matched</th>\n      <th>piece_title</th>\n      <th>part</th>\n      <th>start_measure</th>\n      <th>start_beat</th>\n      <th>start_offset</th>\n      <th>end_offset</th>\n      <th>note_durations</th>\n      <th>sum_durs</th>\n      <th>...</th>\n      <th>is_last</th>\n      <th>last_off_diff</th>\n      <th>next_off_diff</th>\n      <th>parallel</th>\n      <th>forward_gapped</th>\n      <th>back_gapped</th>\n      <th>singleton</th>\n      <th>split_group</th>\n      <th>combined_group</th>\n      <th>sub_group_id</th>\n    </tr>\n  </thead>\n  <tbody>\n    <tr>\n      <th>277</th>\n      <td>[-2, -2, -2, -2, -2]</td>\n      <td>[-2, -2, -2, -2, -2]</td>\n      <td>Missa Ave Maria: Kyrie</td>\n      <td>Bassus</td>\n      <td>31</td>\n      <td>1.0</td>\n      <td>240.0</td>\n      <td>250.0</td>\n      <td>[3.0, 1.0, 2.0, 2.0, 2.0, 2.0]</td>\n      <td>12.0</td>\n      <td>...</td>\n      <td>False</td>\n      <td>NaN</td>\n      <td>3.0</td>\n      <td>False</td>\n      <td>False</td>\n      <td>False</td>\n      <td>False</td>\n      <td>False</td>\n      <td>True</td>\n      <td>0.0</td>\n    </tr>\n    <tr>\n      <th>278</th>\n      <td>[-2, -2, -2, -2, -2]</td>\n      <td>[-2, -2, -2, -2, -2]</td>\n      <td>Missa Ave Maria: Kyrie</td>\n      <td>Bassus</td>\n      <td>31</td>\n      <td>2.5</td>\n      <td>243.0</td>\n      <td>252.0</td>\n      <td>[1.0, 2.0, 2.0, 2.0, 2.0, 2.0]</td>\n      <td>11.0</td>\n      <td>...</td>\n      <td>False</td>\n      <td>3.0</td>\n      <td>351.0</td>\n      <td>False</td>\n      <td>True</td>\n      <td>False</td>\n      <td>False</td>\n      <td>False</td>\n      <td>False</td>\n      <td>0.0</td>\n    </tr>\n    <tr>\n      <th>274</th>\n      <td>[-2, -2, -2, -2, -2]</td>\n      <td>[-2, -2, -2, -2, -2]</td>\n      <td>Missa Ave Maria: Kyrie</td>\n      <td>Altus</td>\n      <td>73</td>\n      <td>2.0</td>\n      <td>594.0</td>\n      <td>602.0</td>\n      <td>[4.0, 1.0, 1.0, 1.0, 1.0, 1.0]</td>\n      <td>9.0</td>\n      <td>...</td>\n      <td>False</td>\n      <td>351.0</td>\n      <td>4.0</td>\n      <td>False</td>\n      <td>False</td>\n      <td>True</td>\n      <td>False</td>\n      <td>True</td>\n      <td>True</td>\n      <td>1.0</td>\n    </tr>\n    <tr>\n      <th>275</th>\n      <td>[-2, -2, -2, -2, -2]</td>\n      <td>[-2, -2, -2, -2, -2]</td>\n      <td>Missa Ave Maria: Kyrie</td>\n      <td>Altus</td>\n      <td>73</td>\n      <td>4.0</td>\n      <td>598.0</td>\n      <td>603.0</td>\n      <td>[1.0, 1.0, 1.0, 1.0, 1.0, 1.0]</td>\n      <td>6.0</td>\n      <td>...</td>\n      <td>False</td>\n      <td>4.0</td>\n      <td>1.0</td>\n      <td>False</td>\n      <td>False</td>\n      <td>False</td>\n      <td>False</td>\n      <td>False</td>\n      <td>False</td>\n      <td>1.0</td>\n    </tr>\n    <tr>\n      <th>276</th>\n      <td>[-2, -2, -2, -2, -2]</td>\n      <td>[-2, -2, -2, -2, -2]</td>\n      <td>Missa Ave Maria: Kyrie</td>\n      <td>Altus</td>\n      <td>73</td>\n      <td>4.5</td>\n      <td>599.0</td>\n      <td>604.0</td>\n      <td>[1.0, 1.0, 1.0, 1.0, 1.0, 4.0]</td>\n      <td>9.0</td>\n      <td>...</td>\n      <td>False</td>\n      <td>1.0</td>\n      <td>75.0</td>\n      <td>False</td>\n      <td>True</td>\n      <td>False</td>\n      <td>False</td>\n      <td>False</td>\n      <td>False</td>\n      <td>1.0</td>\n    </tr>\n  </tbody>\n</table>\n<p>5 rows × 24 columns</p>\n</div>"
     },
     "metadata": {},
     "execution_count": 62
    }
   ],
   "source": [
    "# now process the original match data df by:\n",
    "# sorting by start offset, then group by pattern generating match and applying the function above for prev entry\n",
    "# also give each group a number\n",
    "# sort by group number and start offset\n",
    "# so that we can find PARALLEL (=0) Forward Gaps (the distance to NEXT entry), and Backward Gaps (distance to PREVIOUS Entry)\n",
    "# All Proximate Matches are part of same sub Group (and go to classifier)\n",
    "# Parallels are part of Sub Group but NOT part of Classified.  We will filter them OUT before classification\n",
    "# Forward ONLY means the NEXT entry is a GAP.  No problem for Forward ONLY, since these are part of the previous set.\n",
    "# Backward ONLY means the LAST entry was a GAP.  So these are NEW subgroups, since a new Presentation Type begins\n",
    "# Forward AND Backward Gaps are SINGLETONS:  We will filter then OUT before Classification\n",
    "# If an entry is the LAST in a Group and also has a BACKWARD gap it is also a SINGLETON\n",
    "\n",
    "df2 = df\n",
    "# df2 = df.sort_values(\"start_offset\")\n",
    "\n",
    "# Make Groups, Sort By Group and Offset, then and Add Previous/Next\n",
    "df2[\"group_number\"] = df2.groupby('pattern_generating_match').ngroup()\n",
    "df2 = df2.sort_values(['group_number', 'start_offset'])\n",
    "df2[\"prev_entry_off\"] = df2[\"start_offset\"].shift(1)\n",
    "df2[\"next_entry_off\"] = df2[\"start_offset\"].shift(-1)\n",
    "\n",
    "\n",
    "first_of_group = df2.drop_duplicates(subset=[\"pattern_generating_match\"], keep='first').index\n",
    "df2[\"is_first\"] = df2.index.isin(first_of_group)\n",
    "last_of_group = df2.drop_duplicates(subset=[\"pattern_generating_match\"], keep='last').index\n",
    "df2[\"is_last\"] = df2.index.isin(last_of_group)\n",
    "\n",
    "# Check Differences between Next and Last Offset\n",
    "\n",
    "df2[\"last_off_diff\"] = df2[\"start_offset\"] - df2[\"prev_entry_off\"]\n",
    "df2[\"next_off_diff\"] = df2[\"next_entry_off\"] - df2[\"start_offset\"]\n",
    "\n",
    "# Find Parallel Entries \n",
    "df2[\"parallel\"] = df2[\"last_off_diff\"] == 0\n",
    "\n",
    "# Set Gap Limits and Check Gaps Forward and Back\n",
    "df2[\"forward_gapped\"] = df2[\"next_off_diff\"] >= 50\n",
    "df2[\"back_gapped\"] = df2[\"last_off_diff\"] >= 50\n",
    "\n",
    "# Find Singletons and Split Groups with Gaps\n",
    "df2[\"singleton\"] = ((df2['forward_gapped'] == True) & (df2['back_gapped'] == True) | (df2['back_gapped'] == True) & (df2[\"is_last\"]))\n",
    "df2[\"split_group\"] = (df2['forward_gapped'] == False) & (df2['back_gapped'] == True)\n",
    "\n",
    "#Mask Out Parallels and Singletons\n",
    "df2 = df2[df2[\"parallel\"] != True]\n",
    "df2 = df2[df2[\"singleton\"] != True]\n",
    "df2[\"next_off_diff\"] = df2[\"next_off_diff\"].abs()\n",
    "df2[\"last_off_diff\"] = df2[\"last_off_diff\"].abs()\n",
    "\n",
    "# Find Final Groups\n",
    "df2[\"combined_group\"] = (df2.split_group | df2.is_first)\n",
    "df2.loc[(df2[\"combined_group\"]), \"sub_group_id\"] = range(df2.combined_group.sum())\n",
    "df2[\"sub_group_id\"] = df2[\"sub_group_id\"].ffill()\n",
    "\n",
    "\n",
    "df2.head()"
   ]
  },
  {
   "cell_type": "code",
   "execution_count": 63,
   "metadata": {},
   "outputs": [
    {
     "output_type": "execute_result",
     "data": {
      "text/plain": [
       "    pattern_generating_match       pattern_matched             piece_title  \\\n",
       "277     [-2, -2, -2, -2, -2]  [-2, -2, -2, -2, -2]  Missa Ave Maria: Kyrie   \n",
       "278     [-2, -2, -2, -2, -2]  [-2, -2, -2, -2, -2]  Missa Ave Maria: Kyrie   \n",
       "274     [-2, -2, -2, -2, -2]  [-2, -2, -2, -2, -2]  Missa Ave Maria: Kyrie   \n",
       "275     [-2, -2, -2, -2, -2]  [-2, -2, -2, -2, -2]  Missa Ave Maria: Kyrie   \n",
       "276     [-2, -2, -2, -2, -2]  [-2, -2, -2, -2, -2]  Missa Ave Maria: Kyrie   \n",
       "\n",
       "       part  start_measure  start_beat  start_offset  sub_group_id  \n",
       "277  Bassus             31         1.0         240.0           0.0  \n",
       "278  Bassus             31         2.5         243.0           0.0  \n",
       "274   Altus             73         2.0         594.0           1.0  \n",
       "275   Altus             73         4.0         598.0           1.0  \n",
       "276   Altus             73         4.5         599.0           1.0  "
      ],
      "text/html": "<div>\n<style scoped>\n    .dataframe tbody tr th:only-of-type {\n        vertical-align: middle;\n    }\n\n    .dataframe tbody tr th {\n        vertical-align: top;\n    }\n\n    .dataframe thead th {\n        text-align: right;\n    }\n</style>\n<table border=\"1\" class=\"dataframe\">\n  <thead>\n    <tr style=\"text-align: right;\">\n      <th></th>\n      <th>pattern_generating_match</th>\n      <th>pattern_matched</th>\n      <th>piece_title</th>\n      <th>part</th>\n      <th>start_measure</th>\n      <th>start_beat</th>\n      <th>start_offset</th>\n      <th>sub_group_id</th>\n    </tr>\n  </thead>\n  <tbody>\n    <tr>\n      <th>277</th>\n      <td>[-2, -2, -2, -2, -2]</td>\n      <td>[-2, -2, -2, -2, -2]</td>\n      <td>Missa Ave Maria: Kyrie</td>\n      <td>Bassus</td>\n      <td>31</td>\n      <td>1.0</td>\n      <td>240.0</td>\n      <td>0.0</td>\n    </tr>\n    <tr>\n      <th>278</th>\n      <td>[-2, -2, -2, -2, -2]</td>\n      <td>[-2, -2, -2, -2, -2]</td>\n      <td>Missa Ave Maria: Kyrie</td>\n      <td>Bassus</td>\n      <td>31</td>\n      <td>2.5</td>\n      <td>243.0</td>\n      <td>0.0</td>\n    </tr>\n    <tr>\n      <th>274</th>\n      <td>[-2, -2, -2, -2, -2]</td>\n      <td>[-2, -2, -2, -2, -2]</td>\n      <td>Missa Ave Maria: Kyrie</td>\n      <td>Altus</td>\n      <td>73</td>\n      <td>2.0</td>\n      <td>594.0</td>\n      <td>1.0</td>\n    </tr>\n    <tr>\n      <th>275</th>\n      <td>[-2, -2, -2, -2, -2]</td>\n      <td>[-2, -2, -2, -2, -2]</td>\n      <td>Missa Ave Maria: Kyrie</td>\n      <td>Altus</td>\n      <td>73</td>\n      <td>4.0</td>\n      <td>598.0</td>\n      <td>1.0</td>\n    </tr>\n    <tr>\n      <th>276</th>\n      <td>[-2, -2, -2, -2, -2]</td>\n      <td>[-2, -2, -2, -2, -2]</td>\n      <td>Missa Ave Maria: Kyrie</td>\n      <td>Altus</td>\n      <td>73</td>\n      <td>4.5</td>\n      <td>599.0</td>\n      <td>1.0</td>\n    </tr>\n  </tbody>\n</table>\n</div>"
     },
     "metadata": {},
     "execution_count": 63
    }
   ],
   "source": [
    "# compact view for inspection of relevant columns\n",
    "\n",
    "\n",
    "df3 = df2[ready_classify]\n",
    "df3.head()"
   ]
  },
  {
   "cell_type": "code",
   "execution_count": 65,
   "metadata": {},
   "outputs": [
    {
     "output_type": "execute_result",
     "data": {
      "text/plain": [
       "   pattern_generating_match      pattern_matched             piece_title  \\\n",
       "17      [-2, 2, -2, -2, -2]  [-2, 2, -2, -2, -2]  Missa Ave Maria: Kyrie   \n",
       "12      [-2, 2, -2, -2, -2]  [-2, 2, -2, -2, -2]  Missa Ave Maria: Kyrie   \n",
       "25      [-2, 2, -2, -2, -2]  [-2, 2, -2, -2, -2]  Missa Ave Maria: Kyrie   \n",
       "26      [-2, 2, -2, -2, -2]  [-2, 2, -2, -2, -2]  Missa Ave Maria: Kyrie   \n",
       "\n",
       "          part  start_measure  start_beat  start_offset  sub_group_id  \\\n",
       "17       Altus              4         3.0          28.0          24.0   \n",
       "12  Sup[erius]              7         1.0          48.0          24.0   \n",
       "25      Bassus             13         1.0          96.0          24.0   \n",
       "26      Bassus             15         3.0         116.0          24.0   \n",
       "\n",
       "   predicted_type        offset_diffs  entry_number  \n",
       "17             ID  [20.0, 48.0, 20.0]             1  \n",
       "12             ID  [20.0, 48.0, 20.0]             2  \n",
       "25             ID  [20.0, 48.0, 20.0]             3  \n",
       "26             ID  [20.0, 48.0, 20.0]             4  "
      ],
      "text/html": "<div>\n<style scoped>\n    .dataframe tbody tr th:only-of-type {\n        vertical-align: middle;\n    }\n\n    .dataframe tbody tr th {\n        vertical-align: top;\n    }\n\n    .dataframe thead th {\n        text-align: right;\n    }\n</style>\n<table border=\"1\" class=\"dataframe\">\n  <thead>\n    <tr style=\"text-align: right;\">\n      <th></th>\n      <th>pattern_generating_match</th>\n      <th>pattern_matched</th>\n      <th>piece_title</th>\n      <th>part</th>\n      <th>start_measure</th>\n      <th>start_beat</th>\n      <th>start_offset</th>\n      <th>sub_group_id</th>\n      <th>predicted_type</th>\n      <th>offset_diffs</th>\n      <th>entry_number</th>\n    </tr>\n  </thead>\n  <tbody>\n    <tr>\n      <th>17</th>\n      <td>[-2, 2, -2, -2, -2]</td>\n      <td>[-2, 2, -2, -2, -2]</td>\n      <td>Missa Ave Maria: Kyrie</td>\n      <td>Altus</td>\n      <td>4</td>\n      <td>3.0</td>\n      <td>28.0</td>\n      <td>24.0</td>\n      <td>ID</td>\n      <td>[20.0, 48.0, 20.0]</td>\n      <td>1</td>\n    </tr>\n    <tr>\n      <th>12</th>\n      <td>[-2, 2, -2, -2, -2]</td>\n      <td>[-2, 2, -2, -2, -2]</td>\n      <td>Missa Ave Maria: Kyrie</td>\n      <td>Sup[erius]</td>\n      <td>7</td>\n      <td>1.0</td>\n      <td>48.0</td>\n      <td>24.0</td>\n      <td>ID</td>\n      <td>[20.0, 48.0, 20.0]</td>\n      <td>2</td>\n    </tr>\n    <tr>\n      <th>25</th>\n      <td>[-2, 2, -2, -2, -2]</td>\n      <td>[-2, 2, -2, -2, -2]</td>\n      <td>Missa Ave Maria: Kyrie</td>\n      <td>Bassus</td>\n      <td>13</td>\n      <td>1.0</td>\n      <td>96.0</td>\n      <td>24.0</td>\n      <td>ID</td>\n      <td>[20.0, 48.0, 20.0]</td>\n      <td>3</td>\n    </tr>\n    <tr>\n      <th>26</th>\n      <td>[-2, 2, -2, -2, -2]</td>\n      <td>[-2, 2, -2, -2, -2]</td>\n      <td>Missa Ave Maria: Kyrie</td>\n      <td>Bassus</td>\n      <td>15</td>\n      <td>3.0</td>\n      <td>116.0</td>\n      <td>24.0</td>\n      <td>ID</td>\n      <td>[20.0, 48.0, 20.0]</td>\n      <td>4</td>\n    </tr>\n  </tbody>\n</table>\n</div>"
     },
     "metadata": {},
     "execution_count": 65
    }
   ],
   "source": [
    "# run the classifier on the newly curated list of groups\n",
    "\n",
    "classified2 = df3.applymap(lists_to_tuples_a).groupby(\"sub_group_id\").apply(predict_type_a)\n",
    "\n",
    "# drop the new singletons\n",
    "\n",
    "classified2.drop(classified2[classified2['predicted_type'] == \"Singleton\"].index, inplace = True)\n",
    "\n",
    "# use the following to filter for particular types--PEN, ID, Fuga\n",
    "\n",
    "# classified2 = classified2[classified2[\"predicted_type\"] == \"ID\"]\n",
    "\n",
    "classified2.head(50)\n",
    "\n",
    "# output to csv\n",
    "# classified2.to_csv('Mass_0005_1_Classified.csv')\n"
   ]
  },
  {
   "cell_type": "code",
   "execution_count": null,
   "metadata": {},
   "outputs": [],
   "source": []
  }
 ]
}