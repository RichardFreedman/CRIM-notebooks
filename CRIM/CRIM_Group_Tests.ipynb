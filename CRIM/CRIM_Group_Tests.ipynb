{
 "cells": [
  {
   "cell_type": "code",
   "execution_count": 171,
   "metadata": {},
   "outputs": [],
   "source": [
    "from crim_intervals import *\n",
    "import pandas as pd\n",
    "import ast\n",
    "import matplotlib\n",
    "from itertools import tee, combinations\n",
    "import numpy as np"
   ]
  },
  {
   "cell_type": "code",
   "execution_count": 172,
   "metadata": {},
   "outputs": [],
   "source": [
    "# THIS IS DEV COPY for use with CLOSE/EXACT Matches\n",
    "\n",
    "import numpy as np\n",
    "\n",
    "# Converts lists to tuples\n",
    "\n",
    "def lists_to_tuples_a(el):\n",
    "    if isinstance(el, list):\n",
    "        return tuple(el)\n",
    "    else:\n",
    "        return el\n",
    "\n",
    "# Filters for the length of the Presentation Type in the Classifier\n",
    "\n",
    "def limit_offset_size(array, limit):\n",
    "    under_limit = np.cumsum(array) <= limit\n",
    "    return array[: sum(under_limit)]\n",
    "\n",
    "# Gets the the list of offset differences for each group \n",
    "\n",
    "def get_offset_difference_list_a(group):\n",
    "    # if we do sort values as part of the func call, then we don't need this first line\n",
    "    group = group.sort_values(\"start_offset\")\n",
    "    group[\"next_offset\"] = group.start_offset.shift(-1)\n",
    "    offset_difference_list = (group.next_offset - group.start_offset).dropna().tolist()\n",
    "    return offset_difference_list\n",
    "\n",
    "# The classifications are done here\n",
    "# be sure to have the offset difference limit set here and matched in gap check below  80 = ten bars\n",
    "\n",
    "def classify_offsets_a(offset_difference_list):\n",
    "    \"\"\"\n",
    "    Put logic for classifying an offset list here\n",
    "    \"\"\"\n",
    "    # \n",
    "    offset_difference_list = limit_offset_size(offset_difference_list, 500)\n",
    "    \n",
    "    alt_list = offset_difference_list[::2]\n",
    "    \n",
    "    if len(set(offset_difference_list)) == 1 and len(offset_difference_list) > 1:\n",
    "        return (\"PEN\", offset_difference_list)\n",
    "    # elif (len(offset_difference_list) %2 != 0) and (len(set(alt_list)) == 1):\n",
    "    elif (len(offset_difference_list) %2 != 0) and (len(set(alt_list)) == 1) and (len(offset_difference_list) >= 3):\n",
    "        return (\"ID\", offset_difference_list)\n",
    "    elif len(offset_difference_list) >= 1:\n",
    "        return (\"Fuga\", offset_difference_list)\n",
    "    else: \n",
    "        return (\"Singleton\", offset_difference_list)\n",
    "    \n",
    "# adds predicted type, offsets and entry numbers to the results\n",
    "\n",
    "def predict_type_a(group):\n",
    "    offset_differences = get_offset_difference_list_a(group)\n",
    "    predicted_type, offsets = classify_offsets_a(offset_differences)\n",
    "\n",
    "    group[\"predicted_type\"] = [predicted_type for i in range(len(group))]\n",
    "    group[\"offset_diffs\"] = [offsets for i in range(len(group))]\n",
    "    group[\"entry_number\"] = [i + 1 for i in range(len(group))]\n",
    "\n",
    "    return group"
   ]
  },
  {
   "cell_type": "code",
   "execution_count": 173,
   "metadata": {},
   "outputs": [
    {
     "output_type": "execute_result",
     "data": {
      "text/plain": [
       "    pattern_generating_match            pattern_matched     piece_title  \\\n",
       "0  (5, -2, 2, 3, -2, -2, -2)  [5, -2, 2, 3, -2, -2, -2]  Veni speciosam   \n",
       "1  (5, -2, 2, 3, -2, -2, -2)  [5, -2, 2, 3, -2, -2, -2]  Veni speciosam   \n",
       "2  (5, -2, 2, 3, -2, -2, -2)  [4, -2, 2, 3, -2, -2, -2]  Veni speciosam   \n",
       "3  (5, -2, 2, 3, -2, -2, -2)  [4, -2, 2, 3, -2, -2, -2]  Veni speciosam   \n",
       "4  (5, -2, 2, 3, -2, -2, -2)  [4, -2, 2, 3, -2, -2, -2]  Veni speciosam   \n",
       "\n",
       "          part  start_measure  start_beat  start_offset  end_offset  \\\n",
       "0     Superius              1         1.0           0.0        21.0   \n",
       "1     Superius             10         1.0          72.0        94.0   \n",
       "2     Superius             35         2.0         274.0       292.0   \n",
       "3     Superius            125         1.0        1000.0      1013.0   \n",
       "4  Contratenor              2         3.0          12.0        33.0   \n",
       "\n",
       "                             note_durations  \n",
       "0  [4.0, 6.0, 2.0, 2.0, 2.0, 2.0, 3.0, 1.0]  \n",
       "1  [4.0, 6.0, 2.0, 2.0, 2.0, 4.0, 2.0, 2.0]  \n",
       "2  [4.0, 4.0, 2.0, 2.0, 2.0, 3.0, 1.0, 2.0]  \n",
       "3  [2.0, 4.0, 2.0, 2.0, 1.0, 1.0, 1.0, 1.0]  \n",
       "4  [4.0, 6.0, 2.0, 2.0, 2.0, 2.0, 3.0, 1.0]  "
      ],
      "text/html": "<div>\n<style scoped>\n    .dataframe tbody tr th:only-of-type {\n        vertical-align: middle;\n    }\n\n    .dataframe tbody tr th {\n        vertical-align: top;\n    }\n\n    .dataframe thead th {\n        text-align: right;\n    }\n</style>\n<table border=\"1\" class=\"dataframe\">\n  <thead>\n    <tr style=\"text-align: right;\">\n      <th></th>\n      <th>pattern_generating_match</th>\n      <th>pattern_matched</th>\n      <th>piece_title</th>\n      <th>part</th>\n      <th>start_measure</th>\n      <th>start_beat</th>\n      <th>start_offset</th>\n      <th>end_offset</th>\n      <th>note_durations</th>\n    </tr>\n  </thead>\n  <tbody>\n    <tr>\n      <th>0</th>\n      <td>(5, -2, 2, 3, -2, -2, -2)</td>\n      <td>[5, -2, 2, 3, -2, -2, -2]</td>\n      <td>Veni speciosam</td>\n      <td>Superius</td>\n      <td>1</td>\n      <td>1.0</td>\n      <td>0.0</td>\n      <td>21.0</td>\n      <td>[4.0, 6.0, 2.0, 2.0, 2.0, 2.0, 3.0, 1.0]</td>\n    </tr>\n    <tr>\n      <th>1</th>\n      <td>(5, -2, 2, 3, -2, -2, -2)</td>\n      <td>[5, -2, 2, 3, -2, -2, -2]</td>\n      <td>Veni speciosam</td>\n      <td>Superius</td>\n      <td>10</td>\n      <td>1.0</td>\n      <td>72.0</td>\n      <td>94.0</td>\n      <td>[4.0, 6.0, 2.0, 2.0, 2.0, 4.0, 2.0, 2.0]</td>\n    </tr>\n    <tr>\n      <th>2</th>\n      <td>(5, -2, 2, 3, -2, -2, -2)</td>\n      <td>[4, -2, 2, 3, -2, -2, -2]</td>\n      <td>Veni speciosam</td>\n      <td>Superius</td>\n      <td>35</td>\n      <td>2.0</td>\n      <td>274.0</td>\n      <td>292.0</td>\n      <td>[4.0, 4.0, 2.0, 2.0, 2.0, 3.0, 1.0, 2.0]</td>\n    </tr>\n    <tr>\n      <th>3</th>\n      <td>(5, -2, 2, 3, -2, -2, -2)</td>\n      <td>[4, -2, 2, 3, -2, -2, -2]</td>\n      <td>Veni speciosam</td>\n      <td>Superius</td>\n      <td>125</td>\n      <td>1.0</td>\n      <td>1000.0</td>\n      <td>1013.0</td>\n      <td>[2.0, 4.0, 2.0, 2.0, 1.0, 1.0, 1.0, 1.0]</td>\n    </tr>\n    <tr>\n      <th>4</th>\n      <td>(5, -2, 2, 3, -2, -2, -2)</td>\n      <td>[4, -2, 2, 3, -2, -2, -2]</td>\n      <td>Veni speciosam</td>\n      <td>Contratenor</td>\n      <td>2</td>\n      <td>3.0</td>\n      <td>12.0</td>\n      <td>33.0</td>\n      <td>[4.0, 6.0, 2.0, 2.0, 2.0, 2.0, 3.0, 1.0]</td>\n    </tr>\n  </tbody>\n</table>\n</div>"
     },
     "metadata": {},
     "execution_count": 173
    }
   ],
   "source": [
    "# read CSV output of CRIM Intervals Search.\n",
    "\n",
    "df = pd.read_csv(('A_Test_Files/Model_0001_Exact_4.csv'), index_col=0)\n",
    "df = df.drop(columns=[\"ema\", \"ema_url\", \"end_measure\", \"end_beat\"])\n",
    "df.head()\n"
   ]
  },
  {
   "cell_type": "code",
   "execution_count": 174,
   "metadata": {},
   "outputs": [],
   "source": [
    "# lists for views.  These are used when calling the df below\n",
    "\n",
    "simple_view = [\"piece_title\", \"part\", \"pattern_generating_match\", \"pattern_matched\", \"start_offset\"]\n",
    "\n",
    "offset_details = [\"start_measure\", \"start_beat\", \"end_offset\", \"note_durations\", \"prev_entry_off\", \"next_entry_off\"]\n",
    "\n",
    "drop_cols = [\"pattern_matched\", \"part\", \"pattern_generating_match\", \"piece_title\", \"start_measure\", \"start_beat\", \"end_offset\", \"note_durations\", \"prev_entry_off\", \"next_entry_off\"]\n",
    "\n",
    "ready_classify = [\"pattern_generating_match\", \"pattern_matched\", \"piece_title\", \"part\", \"start_measure\", \"start_beat\", \"start_offset\", \"sub_group_id\", \"is_first\"]"
   ]
  },
  {
   "cell_type": "code",
   "execution_count": 175,
   "metadata": {},
   "outputs": [],
   "source": [
    "df['note_durations'] = df.note_durations.apply(ast.literal_eval)\n",
    "df[\"sum_durs\"] = df.note_durations.apply(sum)"
   ]
  },
  {
   "cell_type": "code",
   "execution_count": 255,
   "metadata": {},
   "outputs": [],
   "source": [
    "# now process the original match data df by:\n",
    "# sorting by start offset, then group by pattern generating match and applying the function above for prev entry\n",
    "# also give each group a number\n",
    "# sort by group number and start offset\n",
    "# so that we can find PARALLEL (=0) Forward Gaps (the distance to NEXT entry), and Backward Gaps (distance to PREVIOUS Entry)\n",
    "# All Proximate Matches are part of same sub Group (and go to classifier)\n",
    "# Parallels are part of Sub Group but NOT part of Classified.  We will filter them OUT before classification\n",
    "# Forward ONLY means the NEXT entry is a GAP.  No problem for Forward ONLY, since these are part of the previous set.\n",
    "# Backward ONLY means the LAST entry was a GAP.  So these are NEW subgroups, since a new Presentation Type begins\n",
    "# Forward AND Backward Gaps are SINGLETONS:  We will filter then OUT before Classification\n",
    "# If an entry is the LAST in a Group and also has a BACKWARD gap it is also a SINGLETON\n",
    "\n",
    "df2 = df\n",
    "# df2 = df.sort_values(\"start_offset\")\n",
    "\n",
    "# Make Groups, Sort By Group and Offset, then and Add Previous/Next\n",
    "df2[\"group_number\"] = df2.groupby('pattern_generating_match').ngroup()\n",
    "df2 = df2.sort_values(['group_number', 'start_offset'])\n",
    "df2[\"prev_entry_off\"] = df2[\"start_offset\"].shift(1)\n",
    "df2[\"next_entry_off\"] = df2[\"start_offset\"].shift(-1)\n",
    "\n",
    "\n",
    "first_of_group = df2.drop_duplicates(subset=[\"pattern_generating_match\"], keep='first').index\n",
    "df2[\"is_first\"] = df2.index.isin(first_of_group)\n",
    "last_of_group = df2.drop_duplicates(subset=[\"pattern_generating_match\"], keep='last').index\n",
    "df2[\"is_last\"] = df2.index.isin(last_of_group)\n",
    "\n",
    "# Check Differences between Next and Last Offset\n",
    "\n",
    "df2[\"last_off_diff\"] = df2[\"start_offset\"] - df2[\"prev_entry_off\"]\n",
    "df2[\"next_off_diff\"] = df2[\"next_entry_off\"] - df2[\"start_offset\"]\n",
    "\n",
    "# Find Parallel Entries \n",
    "df2[\"parallel\"] = df2[\"last_off_diff\"] == 0\n",
    "\n",
    "# Set Gap Limits and Check Gaps Forward and Back\n",
    "df2[\"forward_gapped\"] = df2[\"next_off_diff\"] >= 50\n",
    "df2[\"back_gapped\"] = df2[\"last_off_diff\"] >= 50\n",
    "\n",
    "# Find Singletons and Split Groups with Gaps\n",
    "df2[\"singleton\"] = ((df2['forward_gapped'] == True) & (df2['back_gapped'] == True) | (df2['back_gapped'] == True) & (df2[\"is_last\"]))\n",
    "df2[\"split_group\"] = (df2['forward_gapped'] == False) & (df2['back_gapped'] == True)\n",
    "\n",
    "#Mask Out Parallels and Singletons\n",
    "df2 = df2[df2[\"parallel\"] != True]\n",
    "df2 = df2[df2[\"singleton\"] != True]\n",
    "df2[\"next_off_diff\"] = df2[\"next_off_diff\"].abs()\n",
    "df2[\"last_off_diff\"] = df2[\"last_off_diff\"].abs()\n",
    "\n",
    "# Find Final Groups\n",
    "df2[\"combined_group\"] = (df2.split_group | df2.is_first)\n",
    "df2.loc[(df2[\"combined_group\"]), \"sub_group_id\"] = range(df2.combined_group.sum())\n",
    "df2[\"sub_group_id\"] = df2[\"sub_group_id\"].ffill()\n",
    "\n",
    "\n",
    "# df2.head()\n"
   ]
  },
  {
   "cell_type": "code",
   "execution_count": 254,
   "metadata": {},
   "outputs": [],
   "source": [
    "# mask out short soggetti\n",
    "\n",
    "df2 = df2[df2[\"sum_durs\"] >= 10]\n",
    "\n",
    "# df2.head()"
   ]
  },
  {
   "cell_type": "code",
   "execution_count": 210,
   "metadata": {},
   "outputs": [
    {
     "output_type": "execute_result",
     "data": {
      "text/plain": [
       "<AxesSubplot:>"
      ]
     },
     "metadata": {},
     "execution_count": 210
    },
    {
     "output_type": "display_data",
     "data": {
      "text/plain": "<Figure size 432x288 with 1 Axes>",
      "image/png": "[encoded data removed]"
     },
     "metadata": {
      "image/png": {
       "width": 368,
       "height": 248
      },
      "needs_background": "light"
     }
    }
   ],
   "source": [
    "df2.sum_durs.hist(bins = 20)"
   ]
  },
  {
   "cell_type": "code",
   "execution_count": 211,
   "metadata": {},
   "outputs": [
    {
     "output_type": "execute_result",
     "data": {
      "text/plain": [
       "(312, 9)"
      ]
     },
     "metadata": {},
     "execution_count": 211
    }
   ],
   "source": [
    "# compact view for inspection of relevant columns\n",
    "\n",
    "df3 = df2[ready_classify]\n",
    "df3.shape"
   ]
  },
  {
   "cell_type": "code",
   "execution_count": 285,
   "metadata": {},
   "outputs": [],
   "source": [
    "# run the classifier on the newly curated list of groups\n",
    "\n",
    "classified2 = df3.applymap(lists_to_tuples_a).groupby(\"sub_group_id\").apply(predict_type_a)\n",
    "\n",
    "# drop the new singletons\n",
    "\n",
    "classified2.drop(classified2[classified2['predicted_type'] == \"Singleton\"].index, inplace = True)\n",
    "\n",
    "# classified2 = classified2[classified2[\"predicted_type\"] == \"Fuga\"]\n",
    "\n",
    "classified2[\"start\"] = classified2[\"start_measure\"].astype(str) +\"/\"+ classified2[\"start_beat\"].astype(str) \n",
    "c3 = classified2.drop(columns=['start_measure', 'start_beat','offset_diffs'])\n",
    "# c3.head()\n"
   ]
  },
  {
   "cell_type": "code",
   "execution_count": 302,
   "metadata": {},
   "outputs": [],
   "source": [
    "# put things back in order by offset and group them again\n",
    "c4 = c3.sort_values(by = [\"start_offset\"])\n",
    "c5 = c4.groupby(by = [\"sub_group_id\"])\n",
    "c6 = c5.head(50)\n"
   ]
  },
  {
   "cell_type": "code",
   "execution_count": 314,
   "metadata": {},
   "outputs": [
    {
     "output_type": "execute_result",
     "data": {
      "text/plain": [
       "                                                               part  \\\n",
       "entry_number                                                     1    \n",
       "pattern_generating_match   predicted_type sub_group_id                \n",
       "(5, -2, 2, 3, -2, -2, -2)  Fuga           116.0            Superius   \n",
       "(4, -2, 2, 3, -2, -2, -2)  Fuga           113.0            Superius   \n",
       "(-2, 2, 2, -2, -2, -2, -3) Fuga           33.0             Superius   \n",
       "(-2, 2, 3, -2, -2, -2, -2) Fuga           42.0             Superius   \n",
       "(-2, 2, 3, -2, -2, -2, -3) ID             43.0             Superius   \n",
       "(2, 3, -2, -2, -2, -2, 2)  ID             99.0             Superius   \n",
       "(3, -2, -2, -2, -3, 2, 2)  ID             107.0            Superius   \n",
       "(-3, 2, 3, -2, -2, -2, -2) Fuga           55.0             Superius   \n",
       "(3, -2, -2, -2, -2, 2, 2)  Fuga           104.0         Contratenor   \n",
       "(-2, 2, 2, -2, -2, -2, -2) Fuga           32.0               Bassus   \n",
       "\n",
       "                                                                     \\\n",
       "entry_number                                                     2    \n",
       "pattern_generating_match   predicted_type sub_group_id                \n",
       "(5, -2, 2, 3, -2, -2, -2)  Fuga           116.0         Contratenor   \n",
       "(4, -2, 2, 3, -2, -2, -2)  Fuga           113.0         Contratenor   \n",
       "(-2, 2, 2, -2, -2, -2, -3) Fuga           33.0          Contratenor   \n",
       "(-2, 2, 3, -2, -2, -2, -2) Fuga           42.0          Contratenor   \n",
       "(-2, 2, 3, -2, -2, -2, -3) ID             43.0          Contratenor   \n",
       "(2, 3, -2, -2, -2, -2, 2)  ID             99.0             Superius   \n",
       "(3, -2, -2, -2, -3, 2, 2)  ID             107.0         Contratenor   \n",
       "(-3, 2, 3, -2, -2, -2, -2) Fuga           55.0               Bassus   \n",
       "(3, -2, -2, -2, -2, 2, 2)  Fuga           104.0              Bassus   \n",
       "(-2, 2, 2, -2, -2, -2, -2) Fuga           32.0               Bassus   \n",
       "\n",
       "                                                                     \\\n",
       "entry_number                                                     3    \n",
       "pattern_generating_match   predicted_type sub_group_id                \n",
       "(5, -2, 2, 3, -2, -2, -2)  Fuga           116.0         PrimusTenor   \n",
       "(4, -2, 2, 3, -2, -2, -2)  Fuga           113.0         PrimusTenor   \n",
       "(-2, 2, 2, -2, -2, -2, -3) Fuga           33.0          PrimusTenor   \n",
       "(-2, 2, 3, -2, -2, -2, -2) Fuga           42.0             Superius   \n",
       "(-2, 2, 3, -2, -2, -2, -3) ID             43.0          PrimusTenor   \n",
       "(2, 3, -2, -2, -2, -2, 2)  ID             99.0          PrimusTenor   \n",
       "(3, -2, -2, -2, -3, 2, 2)  ID             107.0         PrimusTenor   \n",
       "(-3, 2, 3, -2, -2, -2, -2) Fuga           55.0               Bassus   \n",
       "(3, -2, -2, -2, -2, 2, 2)  Fuga           104.0                   -   \n",
       "(-2, 2, 2, -2, -2, -2, -2) Fuga           32.0                    -   \n",
       "\n",
       "                                                                               \\\n",
       "entry_number                                                     4         5    \n",
       "pattern_generating_match   predicted_type sub_group_id                          \n",
       "(5, -2, 2, 3, -2, -2, -2)  Fuga           116.0              Bassus  Superius   \n",
       "(4, -2, 2, 3, -2, -2, -2)  Fuga           113.0              Bassus  Superius   \n",
       "(-2, 2, 2, -2, -2, -2, -3) Fuga           33.0                    -         -   \n",
       "(-2, 2, 3, -2, -2, -2, -2) Fuga           42.0          PrimusTenor    Bassus   \n",
       "(-2, 2, 3, -2, -2, -2, -3) ID             43.0               Bassus         -   \n",
       "(2, 3, -2, -2, -2, -2, 2)  ID             99.0               Bassus         -   \n",
       "(3, -2, -2, -2, -3, 2, 2)  ID             107.0              Bassus         -   \n",
       "(-3, 2, 3, -2, -2, -2, -2) Fuga           55.0                    -         -   \n",
       "(3, -2, -2, -2, -2, 2, 2)  Fuga           104.0                   -         -   \n",
       "(-2, 2, 2, -2, -2, -2, -2) Fuga           32.0                    -         -   \n",
       "\n",
       "                                                                       ...  \\\n",
       "entry_number                                           6  7  8  9  10  ...   \n",
       "pattern_generating_match   predicted_type sub_group_id                 ...   \n",
       "(5, -2, 2, 3, -2, -2, -2)  Fuga           116.0         -  -  -  -  -  ...   \n",
       "(4, -2, 2, 3, -2, -2, -2)  Fuga           113.0         -  -  -  -  -  ...   \n",
       "(-2, 2, 2, -2, -2, -2, -3) Fuga           33.0          -  -  -  -  -  ...   \n",
       "(-2, 2, 3, -2, -2, -2, -2) Fuga           42.0          -  -  -  -  -  ...   \n",
       "(-2, 2, 3, -2, -2, -2, -3) ID             43.0          -  -  -  -  -  ...   \n",
       "(2, 3, -2, -2, -2, -2, 2)  ID             99.0          -  -  -  -  -  ...   \n",
       "(3, -2, -2, -2, -3, 2, 2)  ID             107.0         -  -  -  -  -  ...   \n",
       "(-3, 2, 3, -2, -2, -2, -2) Fuga           55.0          -  -  -  -  -  ...   \n",
       "(3, -2, -2, -2, -2, 2, 2)  Fuga           104.0         -  -  -  -  -  ...   \n",
       "(-2, 2, 2, -2, -2, -2, -2) Fuga           32.0          -  -  -  -  -  ...   \n",
       "\n",
       "                                                       start_offset            \\\n",
       "entry_number                                                     1     2   3    \n",
       "pattern_generating_match   predicted_type sub_group_id                          \n",
       "(5, -2, 2, 3, -2, -2, -2)  Fuga           116.0                 0.0  12.0  32   \n",
       "(4, -2, 2, 3, -2, -2, -2)  Fuga           113.0                 0.0  12.0  32   \n",
       "(-2, 2, 2, -2, -2, -2, -3) Fuga           33.0                  4.0  16.0  36   \n",
       "(-2, 2, 3, -2, -2, -2, -2) Fuga           42.0                  4.0  16.0  21   \n",
       "(-2, 2, 3, -2, -2, -2, -3) ID             43.0                  4.0  16.0  36   \n",
       "(2, 3, -2, -2, -2, -2, 2)  ID             99.0                 10.0  22.0  42   \n",
       "(3, -2, -2, -2, -3, 2, 2)  ID             107.0                12.0  24.0  44   \n",
       "(-3, 2, 3, -2, -2, -2, -2) Fuga           55.0                 21.0  48.0  94   \n",
       "(3, -2, -2, -2, -2, 2, 2)  Fuga           104.0                24.0  56.0   -   \n",
       "(-2, 2, 2, -2, -2, -2, -2) Fuga           32.0                 48.0  94.0   -   \n",
       "\n",
       "                                                                               \n",
       "entry_number                                            4   5  6  7  8  9  10  \n",
       "pattern_generating_match   predicted_type sub_group_id                         \n",
       "(5, -2, 2, 3, -2, -2, -2)  Fuga           116.0         44  72  -  -  -  -  -  \n",
       "(4, -2, 2, 3, -2, -2, -2)  Fuga           113.0         44  72  -  -  -  -  -  \n",
       "(-2, 2, 2, -2, -2, -2, -3) Fuga           33.0           -   -  -  -  -  -  -  \n",
       "(-2, 2, 3, -2, -2, -2, -2) Fuga           42.0          36  48  -  -  -  -  -  \n",
       "(-2, 2, 3, -2, -2, -2, -3) ID             43.0          48   -  -  -  -  -  -  \n",
       "(2, 3, -2, -2, -2, -2, 2)  ID             99.0          54   -  -  -  -  -  -  \n",
       "(3, -2, -2, -2, -3, 2, 2)  ID             107.0         56   -  -  -  -  -  -  \n",
       "(-3, 2, 3, -2, -2, -2, -2) Fuga           55.0           -   -  -  -  -  -  -  \n",
       "(3, -2, -2, -2, -2, 2, 2)  Fuga           104.0          -   -  -  -  -  -  -  \n",
       "(-2, 2, 2, -2, -2, -2, -2) Fuga           32.0           -   -  -  -  -  -  -  \n",
       "\n",
       "[10 rows x 30 columns]"
      ],
      "text/html": "<div>\n<style scoped>\n    .dataframe tbody tr th:only-of-type {\n        vertical-align: middle;\n    }\n\n    .dataframe tbody tr th {\n        vertical-align: top;\n    }\n\n    .dataframe thead tr th {\n        text-align: left;\n    }\n\n    .dataframe thead tr:last-of-type th {\n        text-align: right;\n    }\n</style>\n<table border=\"1\" class=\"dataframe\">\n  <thead>\n    <tr>\n      <th></th>\n      <th></th>\n      <th></th>\n      <th colspan=\"10\" halign=\"left\">part</th>\n      <th>...</th>\n      <th colspan=\"10\" halign=\"left\">start_offset</th>\n    </tr>\n    <tr>\n      <th></th>\n      <th></th>\n      <th>entry_number</th>\n      <th>1</th>\n      <th>2</th>\n      <th>3</th>\n      <th>4</th>\n      <th>5</th>\n      <th>6</th>\n      <th>7</th>\n      <th>8</th>\n      <th>9</th>\n      <th>10</th>\n      <th>...</th>\n      <th>1</th>\n      <th>2</th>\n      <th>3</th>\n      <th>4</th>\n      <th>5</th>\n      <th>6</th>\n      <th>7</th>\n      <th>8</th>\n      <th>9</th>\n      <th>10</th>\n    </tr>\n    <tr>\n      <th>pattern_generating_match</th>\n      <th>predicted_type</th>\n      <th>sub_group_id</th>\n      <th></th>\n      <th></th>\n      <th></th>\n      <th></th>\n      <th></th>\n      <th></th>\n      <th></th>\n      <th></th>\n      <th></th>\n      <th></th>\n      <th></th>\n      <th></th>\n      <th></th>\n      <th></th>\n      <th></th>\n      <th></th>\n      <th></th>\n      <th></th>\n      <th></th>\n      <th></th>\n      <th></th>\n    </tr>\n  </thead>\n  <tbody>\n    <tr>\n      <th>(5, -2, 2, 3, -2, -2, -2)</th>\n      <th>Fuga</th>\n      <th>116.0</th>\n      <td>Superius</td>\n      <td>Contratenor</td>\n      <td>PrimusTenor</td>\n      <td>Bassus</td>\n      <td>Superius</td>\n      <td>-</td>\n      <td>-</td>\n      <td>-</td>\n      <td>-</td>\n      <td>-</td>\n      <td>...</td>\n      <td>0.0</td>\n      <td>12.0</td>\n      <td>32</td>\n      <td>44</td>\n      <td>72</td>\n      <td>-</td>\n      <td>-</td>\n      <td>-</td>\n      <td>-</td>\n      <td>-</td>\n    </tr>\n    <tr>\n      <th>(4, -2, 2, 3, -2, -2, -2)</th>\n      <th>Fuga</th>\n      <th>113.0</th>\n      <td>Superius</td>\n      <td>Contratenor</td>\n      <td>PrimusTenor</td>\n      <td>Bassus</td>\n      <td>Superius</td>\n      <td>-</td>\n      <td>-</td>\n      <td>-</td>\n      <td>-</td>\n      <td>-</td>\n      <td>...</td>\n      <td>0.0</td>\n      <td>12.0</td>\n      <td>32</td>\n      <td>44</td>\n      <td>72</td>\n      <td>-</td>\n      <td>-</td>\n      <td>-</td>\n      <td>-</td>\n      <td>-</td>\n    </tr>\n    <tr>\n      <th>(-2, 2, 2, -2, -2, -2, -3)</th>\n      <th>Fuga</th>\n      <th>33.0</th>\n      <td>Superius</td>\n      <td>Contratenor</td>\n      <td>PrimusTenor</td>\n      <td>-</td>\n      <td>-</td>\n      <td>-</td>\n      <td>-</td>\n      <td>-</td>\n      <td>-</td>\n      <td>-</td>\n      <td>...</td>\n      <td>4.0</td>\n      <td>16.0</td>\n      <td>36</td>\n      <td>-</td>\n      <td>-</td>\n      <td>-</td>\n      <td>-</td>\n      <td>-</td>\n      <td>-</td>\n      <td>-</td>\n    </tr>\n    <tr>\n      <th>(-2, 2, 3, -2, -2, -2, -2)</th>\n      <th>Fuga</th>\n      <th>42.0</th>\n      <td>Superius</td>\n      <td>Contratenor</td>\n      <td>Superius</td>\n      <td>PrimusTenor</td>\n      <td>Bassus</td>\n      <td>-</td>\n      <td>-</td>\n      <td>-</td>\n      <td>-</td>\n      <td>-</td>\n      <td>...</td>\n      <td>4.0</td>\n      <td>16.0</td>\n      <td>21</td>\n      <td>36</td>\n      <td>48</td>\n      <td>-</td>\n      <td>-</td>\n      <td>-</td>\n      <td>-</td>\n      <td>-</td>\n    </tr>\n    <tr>\n      <th>(-2, 2, 3, -2, -2, -2, -3)</th>\n      <th>ID</th>\n      <th>43.0</th>\n      <td>Superius</td>\n      <td>Contratenor</td>\n      <td>PrimusTenor</td>\n      <td>Bassus</td>\n      <td>-</td>\n      <td>-</td>\n      <td>-</td>\n      <td>-</td>\n      <td>-</td>\n      <td>-</td>\n      <td>...</td>\n      <td>4.0</td>\n      <td>16.0</td>\n      <td>36</td>\n      <td>48</td>\n      <td>-</td>\n      <td>-</td>\n      <td>-</td>\n      <td>-</td>\n      <td>-</td>\n      <td>-</td>\n    </tr>\n    <tr>\n      <th>(2, 3, -2, -2, -2, -2, 2)</th>\n      <th>ID</th>\n      <th>99.0</th>\n      <td>Superius</td>\n      <td>Superius</td>\n      <td>PrimusTenor</td>\n      <td>Bassus</td>\n      <td>-</td>\n      <td>-</td>\n      <td>-</td>\n      <td>-</td>\n      <td>-</td>\n      <td>-</td>\n      <td>...</td>\n      <td>10.0</td>\n      <td>22.0</td>\n      <td>42</td>\n      <td>54</td>\n      <td>-</td>\n      <td>-</td>\n      <td>-</td>\n      <td>-</td>\n      <td>-</td>\n      <td>-</td>\n    </tr>\n    <tr>\n      <th>(3, -2, -2, -2, -3, 2, 2)</th>\n      <th>ID</th>\n      <th>107.0</th>\n      <td>Superius</td>\n      <td>Contratenor</td>\n      <td>PrimusTenor</td>\n      <td>Bassus</td>\n      <td>-</td>\n      <td>-</td>\n      <td>-</td>\n      <td>-</td>\n      <td>-</td>\n      <td>-</td>\n      <td>...</td>\n      <td>12.0</td>\n      <td>24.0</td>\n      <td>44</td>\n      <td>56</td>\n      <td>-</td>\n      <td>-</td>\n      <td>-</td>\n      <td>-</td>\n      <td>-</td>\n      <td>-</td>\n    </tr>\n    <tr>\n      <th>(-3, 2, 3, -2, -2, -2, -2)</th>\n      <th>Fuga</th>\n      <th>55.0</th>\n      <td>Superius</td>\n      <td>Bassus</td>\n      <td>Bassus</td>\n      <td>-</td>\n      <td>-</td>\n      <td>-</td>\n      <td>-</td>\n      <td>-</td>\n      <td>-</td>\n      <td>-</td>\n      <td>...</td>\n      <td>21.0</td>\n      <td>48.0</td>\n      <td>94</td>\n      <td>-</td>\n      <td>-</td>\n      <td>-</td>\n      <td>-</td>\n      <td>-</td>\n      <td>-</td>\n      <td>-</td>\n    </tr>\n    <tr>\n      <th>(3, -2, -2, -2, -2, 2, 2)</th>\n      <th>Fuga</th>\n      <th>104.0</th>\n      <td>Contratenor</td>\n      <td>Bassus</td>\n      <td>-</td>\n      <td>-</td>\n      <td>-</td>\n      <td>-</td>\n      <td>-</td>\n      <td>-</td>\n      <td>-</td>\n      <td>-</td>\n      <td>...</td>\n      <td>24.0</td>\n      <td>56.0</td>\n      <td>-</td>\n      <td>-</td>\n      <td>-</td>\n      <td>-</td>\n      <td>-</td>\n      <td>-</td>\n      <td>-</td>\n      <td>-</td>\n    </tr>\n    <tr>\n      <th>(-2, 2, 2, -2, -2, -2, -2)</th>\n      <th>Fuga</th>\n      <th>32.0</th>\n      <td>Bassus</td>\n      <td>Bassus</td>\n      <td>-</td>\n      <td>-</td>\n      <td>-</td>\n      <td>-</td>\n      <td>-</td>\n      <td>-</td>\n      <td>-</td>\n      <td>-</td>\n      <td>...</td>\n      <td>48.0</td>\n      <td>94.0</td>\n      <td>-</td>\n      <td>-</td>\n      <td>-</td>\n      <td>-</td>\n      <td>-</td>\n      <td>-</td>\n      <td>-</td>\n      <td>-</td>\n    </tr>\n  </tbody>\n</table>\n<p>10 rows × 30 columns</p>\n</div>"
     },
     "metadata": {},
     "execution_count": 314
    }
   ],
   "source": [
    "# Now transform as Pivot Table\n",
    "pivot_c6 = c6.pivot_table(index=[\"pattern_generating_match\", \"predicted_type\", \"sub_group_id\"],\n",
    "            columns=\"entry_number\",\n",
    "            values=[\"part\", \"start_offset\", \"start\"],\n",
    "            aggfunc=lambda x: x)\n",
    "pivot_c6_sort = pivot_c6.sort_values(by = [(\"start_offset\", 1)])\n",
    "pivot_c6_sort = pivot_c6_sort.fillna(\"-\")\n",
    "pivot_c6_sort.head(10)\n"
   ]
  },
  {
   "cell_type": "code",
   "execution_count": 315,
   "metadata": {},
   "outputs": [
    {
     "output_type": "execute_result",
     "data": {
      "text/plain": [
       "                          entry_number    \n",
       "pattern_generating_match                0      (5, -2, 2, 3, -2, -2, -2)\n",
       "                                        1      (4, -2, 2, 3, -2, -2, -2)\n",
       "                                        2     (-2, 2, 2, -2, -2, -2, -3)\n",
       "                                        3     (-2, 2, 3, -2, -2, -2, -2)\n",
       "                                        4     (-2, 2, 3, -2, -2, -2, -3)\n",
       "                                                         ...            \n",
       "start_offset              10            75                             -\n",
       "                                        76                             -\n",
       "                                        77                             -\n",
       "                                        78                             -\n",
       "                                        79                             -\n",
       "Length: 2640, dtype: object"
      ]
     },
     "metadata": {},
     "execution_count": 315
    }
   ],
   "source": [
    "pivot_c6_sort.reset_index(inplace = True)\n",
    "pivot_c6_sort.unstack(level=0)\n",
    "# pivot_c6_sort"
   ]
  },
  {
   "cell_type": "code",
   "execution_count": 316,
   "metadata": {},
   "outputs": [
    {
     "output_type": "execute_result",
     "data": {
      "text/plain": [
       "                 pattern_generating_match predicted_type         part  \\\n",
       "entry_number                                                        1   \n",
       "0               (5, -2, 2, 3, -2, -2, -2)           Fuga     Superius   \n",
       "1               (4, -2, 2, 3, -2, -2, -2)           Fuga     Superius   \n",
       "2              (-2, 2, 2, -2, -2, -2, -3)           Fuga     Superius   \n",
       "3              (-2, 2, 3, -2, -2, -2, -2)           Fuga     Superius   \n",
       "4              (-2, 2, 3, -2, -2, -2, -3)             ID     Superius   \n",
       "..                                    ...            ...          ...   \n",
       "75               (-2, -2, -2, 2, 2, 2, 2)           Fuga       Bassus   \n",
       "76               (-2, -2, -3, 2, 2, 2, 2)           Fuga       Bassus   \n",
       "77               (-2, -3, 2, 2, 2, 2, -2)           Fuga       Bassus   \n",
       "78              (-2, 2, 2, -2, -2, -2, 2)           Fuga  PrimusTenor   \n",
       "79            (-2, -2, -2, 2, -2, -2, -2)           Fuga     Superius   \n",
       "\n",
       "                                                                        ...  \\\n",
       "entry_number            2            3            4         5  6  7  8  ...   \n",
       "0             Contratenor  PrimusTenor       Bassus  Superius  -  -  -  ...   \n",
       "1             Contratenor  PrimusTenor       Bassus  Superius  -  -  -  ...   \n",
       "2             Contratenor  PrimusTenor            -         -  -  -  -  ...   \n",
       "3             Contratenor     Superius  PrimusTenor    Bassus  -  -  -  ...   \n",
       "4             Contratenor  PrimusTenor       Bassus         -  -  -  -  ...   \n",
       "..                    ...          ...          ...       ... .. .. ..  ...   \n",
       "75            Contratenor            -            -         -  -  -  -  ...   \n",
       "76            Contratenor            -            -         -  -  -  -  ...   \n",
       "77            Contratenor            -            -         -  -  -  -  ...   \n",
       "78               Superius            -            -         -  -  -  -  ...   \n",
       "79               Superius            -            -         -  -  -  -  ...   \n",
       "\n",
       "                 start                                                \n",
       "entry_number         1        2      3      4       5  6  7  8  9 10  \n",
       "0                1/1.0    2/3.0  5/1.0  6/3.0  10/1.0  -  -  -  -  -  \n",
       "1                1/1.0    2/3.0  5/1.0  6/3.0  10/1.0  -  -  -  -  -  \n",
       "2                1/3.0    3/1.0  5/3.0      -       -  -  -  -  -  -  \n",
       "3                1/3.0    3/1.0  3/3.5  5/3.0   7/1.0  -  -  -  -  -  \n",
       "4                1/3.0    3/1.0  5/3.0  7/1.0       -  -  -  -  -  -  \n",
       "..                 ...      ...    ...    ...     ... .. .. .. .. ..  \n",
       "75            109/2.75  111/1.0      -      -       -  -  -  -  -  -  \n",
       "76            109/2.75  111/1.0      -      -       -  -  -  -  -  -  \n",
       "77             109/3.0  111/2.0      -      -       -  -  -  -  -  -  \n",
       "78             123/2.0  125/2.0      -      -       -  -  -  -  -  -  \n",
       "79             126/2.0  126/4.0      -      -       -  -  -  -  -  -  \n",
       "\n",
       "[80 rows x 22 columns]"
      ],
      "text/html": "<div>\n<style scoped>\n    .dataframe tbody tr th:only-of-type {\n        vertical-align: middle;\n    }\n\n    .dataframe tbody tr th {\n        vertical-align: top;\n    }\n\n    .dataframe thead tr th {\n        text-align: left;\n    }\n</style>\n<table border=\"1\" class=\"dataframe\">\n  <thead>\n    <tr>\n      <th></th>\n      <th>pattern_generating_match</th>\n      <th>predicted_type</th>\n      <th colspan=\"8\" halign=\"left\">part</th>\n      <th>...</th>\n      <th colspan=\"10\" halign=\"left\">start</th>\n    </tr>\n    <tr>\n      <th>entry_number</th>\n      <th></th>\n      <th></th>\n      <th>1</th>\n      <th>2</th>\n      <th>3</th>\n      <th>4</th>\n      <th>5</th>\n      <th>6</th>\n      <th>7</th>\n      <th>8</th>\n      <th>...</th>\n      <th>1</th>\n      <th>2</th>\n      <th>3</th>\n      <th>4</th>\n      <th>5</th>\n      <th>6</th>\n      <th>7</th>\n      <th>8</th>\n      <th>9</th>\n      <th>10</th>\n    </tr>\n  </thead>\n  <tbody>\n    <tr>\n      <th>0</th>\n      <td>(5, -2, 2, 3, -2, -2, -2)</td>\n      <td>Fuga</td>\n      <td>Superius</td>\n      <td>Contratenor</td>\n      <td>PrimusTenor</td>\n      <td>Bassus</td>\n      <td>Superius</td>\n      <td>-</td>\n      <td>-</td>\n      <td>-</td>\n      <td>...</td>\n      <td>1/1.0</td>\n      <td>2/3.0</td>\n      <td>5/1.0</td>\n      <td>6/3.0</td>\n      <td>10/1.0</td>\n      <td>-</td>\n      <td>-</td>\n      <td>-</td>\n      <td>-</td>\n      <td>-</td>\n    </tr>\n    <tr>\n      <th>1</th>\n      <td>(4, -2, 2, 3, -2, -2, -2)</td>\n      <td>Fuga</td>\n      <td>Superius</td>\n      <td>Contratenor</td>\n      <td>PrimusTenor</td>\n      <td>Bassus</td>\n      <td>Superius</td>\n      <td>-</td>\n      <td>-</td>\n      <td>-</td>\n      <td>...</td>\n      <td>1/1.0</td>\n      <td>2/3.0</td>\n      <td>5/1.0</td>\n      <td>6/3.0</td>\n      <td>10/1.0</td>\n      <td>-</td>\n      <td>-</td>\n      <td>-</td>\n      <td>-</td>\n      <td>-</td>\n    </tr>\n    <tr>\n      <th>2</th>\n      <td>(-2, 2, 2, -2, -2, -2, -3)</td>\n      <td>Fuga</td>\n      <td>Superius</td>\n      <td>Contratenor</td>\n      <td>PrimusTenor</td>\n      <td>-</td>\n      <td>-</td>\n      <td>-</td>\n      <td>-</td>\n      <td>-</td>\n      <td>...</td>\n      <td>1/3.0</td>\n      <td>3/1.0</td>\n      <td>5/3.0</td>\n      <td>-</td>\n      <td>-</td>\n      <td>-</td>\n      <td>-</td>\n      <td>-</td>\n      <td>-</td>\n      <td>-</td>\n    </tr>\n    <tr>\n      <th>3</th>\n      <td>(-2, 2, 3, -2, -2, -2, -2)</td>\n      <td>Fuga</td>\n      <td>Superius</td>\n      <td>Contratenor</td>\n      <td>Superius</td>\n      <td>PrimusTenor</td>\n      <td>Bassus</td>\n      <td>-</td>\n      <td>-</td>\n      <td>-</td>\n      <td>...</td>\n      <td>1/3.0</td>\n      <td>3/1.0</td>\n      <td>3/3.5</td>\n      <td>5/3.0</td>\n      <td>7/1.0</td>\n      <td>-</td>\n      <td>-</td>\n      <td>-</td>\n      <td>-</td>\n      <td>-</td>\n    </tr>\n    <tr>\n      <th>4</th>\n      <td>(-2, 2, 3, -2, -2, -2, -3)</td>\n      <td>ID</td>\n      <td>Superius</td>\n      <td>Contratenor</td>\n      <td>PrimusTenor</td>\n      <td>Bassus</td>\n      <td>-</td>\n      <td>-</td>\n      <td>-</td>\n      <td>-</td>\n      <td>...</td>\n      <td>1/3.0</td>\n      <td>3/1.0</td>\n      <td>5/3.0</td>\n      <td>7/1.0</td>\n      <td>-</td>\n      <td>-</td>\n      <td>-</td>\n      <td>-</td>\n      <td>-</td>\n      <td>-</td>\n    </tr>\n    <tr>\n      <th>...</th>\n      <td>...</td>\n      <td>...</td>\n      <td>...</td>\n      <td>...</td>\n      <td>...</td>\n      <td>...</td>\n      <td>...</td>\n      <td>...</td>\n      <td>...</td>\n      <td>...</td>\n      <td>...</td>\n      <td>...</td>\n      <td>...</td>\n      <td>...</td>\n      <td>...</td>\n      <td>...</td>\n      <td>...</td>\n      <td>...</td>\n      <td>...</td>\n      <td>...</td>\n      <td>...</td>\n    </tr>\n    <tr>\n      <th>75</th>\n      <td>(-2, -2, -2, 2, 2, 2, 2)</td>\n      <td>Fuga</td>\n      <td>Bassus</td>\n      <td>Contratenor</td>\n      <td>-</td>\n      <td>-</td>\n      <td>-</td>\n      <td>-</td>\n      <td>-</td>\n      <td>-</td>\n      <td>...</td>\n      <td>109/2.75</td>\n      <td>111/1.0</td>\n      <td>-</td>\n      <td>-</td>\n      <td>-</td>\n      <td>-</td>\n      <td>-</td>\n      <td>-</td>\n      <td>-</td>\n      <td>-</td>\n    </tr>\n    <tr>\n      <th>76</th>\n      <td>(-2, -2, -3, 2, 2, 2, 2)</td>\n      <td>Fuga</td>\n      <td>Bassus</td>\n      <td>Contratenor</td>\n      <td>-</td>\n      <td>-</td>\n      <td>-</td>\n      <td>-</td>\n      <td>-</td>\n      <td>-</td>\n      <td>...</td>\n      <td>109/2.75</td>\n      <td>111/1.0</td>\n      <td>-</td>\n      <td>-</td>\n      <td>-</td>\n      <td>-</td>\n      <td>-</td>\n      <td>-</td>\n      <td>-</td>\n      <td>-</td>\n    </tr>\n    <tr>\n      <th>77</th>\n      <td>(-2, -3, 2, 2, 2, 2, -2)</td>\n      <td>Fuga</td>\n      <td>Bassus</td>\n      <td>Contratenor</td>\n      <td>-</td>\n      <td>-</td>\n      <td>-</td>\n      <td>-</td>\n      <td>-</td>\n      <td>-</td>\n      <td>...</td>\n      <td>109/3.0</td>\n      <td>111/2.0</td>\n      <td>-</td>\n      <td>-</td>\n      <td>-</td>\n      <td>-</td>\n      <td>-</td>\n      <td>-</td>\n      <td>-</td>\n      <td>-</td>\n    </tr>\n    <tr>\n      <th>78</th>\n      <td>(-2, 2, 2, -2, -2, -2, 2)</td>\n      <td>Fuga</td>\n      <td>PrimusTenor</td>\n      <td>Superius</td>\n      <td>-</td>\n      <td>-</td>\n      <td>-</td>\n      <td>-</td>\n      <td>-</td>\n      <td>-</td>\n      <td>...</td>\n      <td>123/2.0</td>\n      <td>125/2.0</td>\n      <td>-</td>\n      <td>-</td>\n      <td>-</td>\n      <td>-</td>\n      <td>-</td>\n      <td>-</td>\n      <td>-</td>\n      <td>-</td>\n    </tr>\n    <tr>\n      <th>79</th>\n      <td>(-2, -2, -2, 2, -2, -2, -2)</td>\n      <td>Fuga</td>\n      <td>Superius</td>\n      <td>Superius</td>\n      <td>-</td>\n      <td>-</td>\n      <td>-</td>\n      <td>-</td>\n      <td>-</td>\n      <td>-</td>\n      <td>...</td>\n      <td>126/2.0</td>\n      <td>126/4.0</td>\n      <td>-</td>\n      <td>-</td>\n      <td>-</td>\n      <td>-</td>\n      <td>-</td>\n      <td>-</td>\n      <td>-</td>\n      <td>-</td>\n    </tr>\n  </tbody>\n</table>\n<p>80 rows × 22 columns</p>\n</div>"
     },
     "metadata": {},
     "execution_count": 316
    }
   ],
   "source": [
    "\n",
    "pivot_c6_sort = pivot_c6_sort.drop(columns=['start_offset', \"sub_group_id\"])\n",
    "pivot_c6_sort\n",
    "# pivot_c6_sort[\"entry\"] = pivot_c6_sort[\"entry_number\"]\n",
    "# abc = pivot_c6_sort[\"piece_title\", \"pattern_generating_match\", \"pattern_matched\", \"part\", \"group\", \"type\"]\n",
    "# abc"
   ]
  }
 ],
 "metadata": {
  "kernelspec": {
   "display_name": "Python 3",
   "language": "python",
   "name": "python3"
  },
  "language_info": {
   "codemirror_mode": {
    "name": "ipython",
    "version": 3
   },
   "file_extension": ".py",
   "mimetype": "text/x-python",
   "name": "python",
   "nbconvert_exporter": "python",
   "pygments_lexer": "ipython3",
   "version": "3.8.5-final"
  }
 },
 "nbformat": 4,
 "nbformat_minor": 2
}