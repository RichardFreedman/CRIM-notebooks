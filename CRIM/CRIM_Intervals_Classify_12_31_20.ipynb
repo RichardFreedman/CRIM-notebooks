{
 "cells": [
  {
   "cell_type": "markdown",
   "metadata": {},
   "source": [
    "## Search with Options\n",
    "\n",
    "- Piece or Corpus\n",
    "- Actual or Incremental Durations\n",
    "- Chromatic or Diatonic\n",
    "- Exact or Close\n",
    "- Classify\n",
    "\n",
    "***\n"
   ]
  },
  {
   "cell_type": "code",
   "execution_count": 72,
   "metadata": {},
   "outputs": [],
   "source": [
    "from crim_intervals import *\n",
    "import pandas as pd\n",
    "import ast\n",
    "import matplotlib\n",
    "from itertools import tee, combinations"
   ]
  },
  {
   "cell_type": "markdown",
   "metadata": {},
   "source": [
    "### The Complete Corpus"
   ]
  },
  {
   "cell_type": "code",
   "execution_count": null,
   "metadata": {},
   "outputs": [],
   "source": [
    "work_list = ['CRIM_Mass_0001_1.mei','CRIM_Mass_0001_2.mei','CRIM_Mass_0001_3.mei','CRIM_Mass_0001_4.mei','CRIM_Mass_0001_5.mei','CRIM_Mass_0002_1.mei','CRIM_Mass_0002_2.mei','CRIM_Mass_0002_3.mei','CRIM_Mass_0002_4.mei','CRIM_Mass_0002_5.mei','CRIM_Mass_0003_1.mei','CRIM_Mass_0003_2.mei','CRIM_Mass_0003_3.mei','CRIM_Mass_0003_4.mei','CRIM_Mass_0003_5.mei','CRIM_Mass_0004_1.mei','CRIM_Mass_0004_2.mei','CRIM_Mass_0004_3.mei','CRIM_Mass_0004_4.mei','CRIM_Mass_0004_5.mei','CRIM_Mass_0005_1.mei','CRIM_Mass_0005_2.mei','CRIM_Mass_0005_3.mei','CRIM_Mass_0005_4.mei','CRIM_Mass_0005_5.mei','CRIM_Mass_0006_1.mei','CRIM_Mass_0006_2.mei','CRIM_Mass_0006_3.mei','CRIM_Mass_0006_4.mei','CRIM_Mass_0006_5.mei','CRIM_Mass_0007_1.mei', 'CRIM_Mass_0007_2.mei', 'CRIM_Mass_0007_3.mei', 'CRIM_Mass_0007_4.mei', 'CRIM_Mass_0007_5.mei', 'CRIM_Mass_0008_1.mei', 'CRIM_Mass_0008_2.mei', 'CRIM_Mass_0008_3.mei', 'CRIM_Mass_0008_4.mei', 'CRIM_Mass_0008_5.mei', 'CRIM_Mass_0009_1.mei', 'CRIM_Mass_0009_2.mei', 'CRIM_Mass_0009_3.mei', 'CRIM_Mass_0009_4.mei', 'CRIM_Mass_0009_5.mei', 'CRIM_Mass_0010_1.mei', 'CRIM_Mass_0010_2.mei', 'CRIM_Mass_0010_3.mei', 'CRIM_Mass_0010_4.mei', 'CRIM_Mass_0010_5.mei', 'CRIM_Mass_0011_1.mei', 'CRIM_Mass_0011_2.mei', 'CRIM_Mass_0011_3.mei', 'CRIM_Mass_0011_4.mei', 'CRIM_Mass_0011_5.mei', 'CRIM_Mass_0012_1.mei', 'CRIM_Mass_0012_2.mei', 'CRIM_Mass_0012_3.mei', 'CRIM_Mass_0012_4.mei', 'CRIM_Mass_0012_5.mei', 'CRIM_Mass_0013_1.mei', 'CRIM_Mass_0013_2.mei', 'CRIM_Mass_0013_3.mei', 'CRIM_Mass_0013_4.mei', 'CRIM_Mass_0013_5.mei', 'CRIM_Mass_0014_1.mei', 'CRIM_Mass_0014_2.mei', 'CRIM_Mass_0014_3.mei', 'CRIM_Mass_0014_4.mei', 'CRIM_Mass_0014_5.mei', 'CRIM_Mass_0015_1.mei', 'CRIM_Mass_0015_2.mei', 'CRIM_Mass_0015_3.mei', 'CRIM_Mass_0015_4.mei', 'CRIM_Mass_0015_5.mei', 'CRIM_Mass_0016_1.mei', 'CRIM_Mass_0016_2.mei', 'CRIM_Mass_0016_3.mei', 'CRIM_Mass_0016_4.mei', 'CRIM_Mass_0016_5.mei', 'CRIM_Mass_0017_1.mei', 'CRIM_Mass_0017_2.mei', 'CRIM_Mass_0017_3.mei', 'CRIM_Mass_0017_4.mei', 'CRIM_Mass_0017_5.mei', 'CRIM_Mass_0018_1.mei', 'CRIM_Mass_0018_2.mei', 'CRIM_Mass_0018_3.mei', 'CRIM_Mass_0018_4.mei', 'CRIM_Mass_0018_5.mei', 'CRIM_Mass_0019_1.mei', 'CRIM_Mass_0019_2.mei', 'CRIM_Mass_0019_3.mei', 'CRIM_Mass_0019_4.mei', 'CRIM_Mass_0019_5.mei', 'CRIM_Mass_0020_1.mei', 'CRIM_Mass_0020_2.mei', 'CRIM_Mass_0020_3.mei', 'CRIM_Mass_0020_4.mei', 'CRIM_Mass_0020_5.mei', 'CRIM_Mass_0021_1.mei', 'CRIM_Mass_0021_2.mei', 'CRIM_Mass_0021_3.mei', 'CRIM_Mass_0021_4.mei', 'CRIM_Mass_0021_5.mei', 'CRIM_Mass_0022_2.mei', 'CRIM_Model_0001.mei', 'CRIM_Model_0008.mei', 'CRIM_Model_0009.mei', 'CRIM_Model_0010.mei', 'CRIM_Model_0011.mei', 'CRIM_Model_0012.mei', 'CRIM_Model_0013.mei', 'CRIM_Model_0014.mei', 'CRIM_Model_0015.mei', 'CRIM_Model_0016.mei', 'CRIM_Model_0017.mei', 'CRIM_Model_0019.mei', 'CRIM_Model_0020.mei', 'CRIM_Model_0021.mei', 'CRIM_Model_0023.mei', 'CRIM_Model_0025.mei', 'CRIM_Model_0026.mei',\n",
    "]"
   ]
  },
  {
   "cell_type": "markdown",
   "metadata": {},
   "source": [
    "### Short Corpus"
   ]
  },
  {
   "cell_type": "code",
   "execution_count": 5,
   "metadata": {},
   "outputs": [],
   "source": [
    "# work_list = ['CRIM_Mass_0002_1.mei',\n",
    "#  'CRIM_Mass_0002_2.mei',\n",
    "#  'CRIM_Mass_0002_3.mei',\n",
    "#  'CRIM_Mass_0002_4.mei',\n",
    "#  'CRIM_Mass_0002_5.mei',\n",
    "# 'CRIM_Model_0001.mei']\n",
    "\n",
    "work_list = [\n",
    "'CRIM_Model_0001.mei']"
   ]
  },
  {
   "source": [
    "## Load File and Correct the MEI Metadata"
   ],
   "cell_type": "markdown",
   "metadata": {
    "jupyter": {
     "outputs_hidden": true
    },
    "scrolled": true
   }
  },
  {
   "cell_type": "code",
   "execution_count": 6,
   "metadata": {},
   "outputs": [
    {
     "output_type": "stream",
     "name": "stdout",
     "text": [
      "Requesting file from https://crimproject.org/mei/MEI_4.0/CRIM_Model_0001.mei...\n",
      "Successfully imported.\n",
      "https://crimproject.org/mei/MEI_4.0/CRIM_Model_0001.mei Veni speciosam\n",
      "Veni speciosam\n"
     ]
    }
   ],
   "source": [
    "work_list = [el.replace(\"CRIM_\", \"https://crimproject.org/mei/MEI_4.0/CRIM_\") for el in work_list]\n",
    "corpus = CorpusBase(work_list)\n",
    "\n",
    "import xml.etree.ElementTree as ET\n",
    "import requests\n",
    "\n",
    "MEINSURI = 'http://www.music-encoding.org/ns/mei'\n",
    "MEINS = '{%s}' % MEINSURI\n",
    "\n",
    "for i, path in enumerate(work_list):\n",
    "    \n",
    "    try:\n",
    "        if path[0] == '/':\n",
    "            mei_doc = ET.parse(path)\n",
    "        else:\n",
    "            mei_doc = ET.fromstring(requests.get(path).text)\n",
    "\n",
    "      # Find the title from the MEI file and update the Music21 Score metadata\n",
    "        title = mei_doc.find('mei:meiHead//mei:titleStmt/mei:title', namespaces={\"mei\": MEINSURI}).text\n",
    "        print(path, title)\n",
    "        corpus.scores[i].metadata.title = title\n",
    "    except:\n",
    "        continue\n",
    "\n",
    "for s in corpus.scores:\n",
    "    print(s.metadata.title)"
   ]
  },
  {
   "cell_type": "markdown",
   "metadata": {},
   "source": [
    "\n",
    "## Select Actual or Incremental Durations\n",
    "\n",
    "#### About Rhythmic Durations\n",
    "\n",
    "- For `find_close_matches` and `find_exact_matches`, rhythmic variation/duration is displayed, but **not** factored into the calculation of matching.\n",
    "- **Incremental Offset** calculates the intervals using a **fixed offset between notes**, no matter their actual duration.  Use this to ignore passing tones or other ornaments.  The offsets are expressed in multiples of the quarter note (Offset = 1 samples at quarter note; Offset = 2 at half note, etc). Set with `vectors = IntervalBase(corpus.note_list_incremental_offset(2))`"
   ]
  },
  {
   "cell_type": "code",
   "execution_count": 7,
   "metadata": {},
   "outputs": [],
   "source": [
    "vectors = IntervalBase(corpus.note_list)\n",
    "#vectors = IntervalBase(corpus.note_list_incremental_offset(2))"
   ]
  },
  {
   "cell_type": "markdown",
   "metadata": {},
   "source": [
    "***\n",
    "\n",
    "## Select Generic or Semitone Scale:\n",
    "\n",
    "- **Length of the Soggetto**: `into_patterns([vectors.semitone_intervals], 5)` \n",
    "\n",
    "- The **number** in this command represents the **minimum number of vectors to find**. 5 vectors is 6 notes.\n"
   ]
  },
  {
   "cell_type": "code",
   "execution_count": 8,
   "metadata": {},
   "outputs": [],
   "source": [
    "patterns = into_patterns([vectors.generic_intervals], 5)\n",
    "#patterns = into_patterns([vectors.semitone_intervals], 4)"
   ]
  },
  {
   "cell_type": "markdown",
   "metadata": {},
   "source": [
    "***\n",
    "\n",
    "## Select Exact Matches Here, or Close Below\n",
    "#### (Use comment feature to select screen preview or CSV output) \n",
    "\n",
    "- **Exact** is exact in *all* ways `find_exact_matches(patterns, 2)` \n",
    "- The **number** in this command represents the **minimum number of matching melodies needed before reporting**. This allows us to filter for common or uncommon soggetti."
   ]
  },
  {
   "cell_type": "code",
   "execution_count": 31,
   "metadata": {},
   "outputs": [
    {
     "output_type": "stream",
     "name": "stdout",
     "text": [
      "Finding exact matches...\n",
      "72 melodic intervals had more than 3 exact matches.\n",
      "\n"
     ]
    },
    {
     "output_type": "execute_result",
     "data": {
      "text/plain": [
       "    pattern_generating_match      pattern_matched     piece_title  \\\n",
       "0          (5, -2, 2, 3, -2)    [5, -2, 2, 3, -2]  Veni speciosam   \n",
       "1          (5, -2, 2, 3, -2)    [5, -2, 2, 3, -2]  Veni speciosam   \n",
       "2          (5, -2, 2, 3, -2)    [5, -2, 2, 3, -2]  Veni speciosam   \n",
       "3          (5, -2, 2, 3, -2)    [5, -2, 2, 3, -2]  Veni speciosam   \n",
       "4          (5, -2, 2, 3, -2)    [5, -2, 2, 3, -2]  Veni speciosam   \n",
       "..                       ...                  ...             ...   \n",
       "600       (-3, 2, 4, -2, -2)   [-3, 2, 4, -2, -2]  Veni speciosam   \n",
       "601      (-3, 2, -2, -2, -2)  [-3, 2, -2, -2, -2]  Veni speciosam   \n",
       "602      (-3, 2, -2, -2, -2)  [-3, 2, -2, -2, -2]  Veni speciosam   \n",
       "603      (-3, 2, -2, -2, -2)  [-3, 2, -2, -2, -2]  Veni speciosam   \n",
       "604      (-3, 2, -2, -2, -2)  [-3, 2, -2, -2, -2]  Veni speciosam   \n",
       "\n",
       "              part  start_measure  end_measure  \\\n",
       "0         Superius              1            3   \n",
       "1         Superius             10           12   \n",
       "2         Superius             31           33   \n",
       "3      Contratenor             34           36   \n",
       "4      PrimusTenor              5            7   \n",
       "..             ...            ...          ...   \n",
       "600  SecundusTenor             46           48   \n",
       "601    PrimusTenor             85           86   \n",
       "602  SecundusTenor             64           66   \n",
       "603         Bassus             35           36   \n",
       "604         Bassus            103          104   \n",
       "\n",
       "                     note_durations                                     ema  \\\n",
       "0    [4.0, 6.0, 2.0, 2.0, 2.0, 2.0]    1-3/1/@1.0-end,@start-end,@start-1.0   \n",
       "1    [4.0, 6.0, 2.0, 2.0, 2.0, 4.0]  10-12/1/@1.0-end,@start-end,@start-1.0   \n",
       "2    [2.0, 6.0, 2.0, 2.0, 4.0, 2.0]  31-33/1/@2.0-end,@start-end,@start-2.0   \n",
       "3    [2.0, 6.0, 2.0, 2.0, 2.0, 3.0]  34-36/2/@4.0-end,@start-end,@start-3.0   \n",
       "4    [4.0, 6.0, 2.0, 2.0, 2.0, 2.0]    5-7/3/@1.0-end,@start-end,@start-1.0   \n",
       "..                              ...                                     ...   \n",
       "600  [2.0, 2.0, 2.0, 4.0, 2.0, 2.0]  46-48/4/@3.0-end,@start-end,@start-1.0   \n",
       "601  [1.0, 1.0, 4.0, 3.0, 1.0, 2.0]             85-86/3/@2.0-end,@start-3.0   \n",
       "602  [1.0, 2.0, 4.0, 2.0, 4.0, 4.0]  64-66/4/@4.5-end,@start-end,@start-3.0   \n",
       "603  [2.0, 2.0, 4.0, 4.0, 2.0, 2.0]             35-36/5/@1.0-end,@start-4.0   \n",
       "604  [2.0, 2.0, 3.0, 1.0, 2.0, 1.0]           103-104/5/@3.0-end,@start-4.0   \n",
       "\n",
       "                                               ema_url  \n",
       "0    https://ema.crimproject.org/https%3A%2F%2Fcrim...  \n",
       "1    https://ema.crimproject.org/https%3A%2F%2Fcrim...  \n",
       "2    https://ema.crimproject.org/https%3A%2F%2Fcrim...  \n",
       "3    https://ema.crimproject.org/https%3A%2F%2Fcrim...  \n",
       "4    https://ema.crimproject.org/https%3A%2F%2Fcrim...  \n",
       "..                                                 ...  \n",
       "600  https://ema.crimproject.org/https%3A%2F%2Fcrim...  \n",
       "601  https://ema.crimproject.org/https%3A%2F%2Fcrim...  \n",
       "602  https://ema.crimproject.org/https%3A%2F%2Fcrim...  \n",
       "603  https://ema.crimproject.org/https%3A%2F%2Fcrim...  \n",
       "604  https://ema.crimproject.org/https%3A%2F%2Fcrim...  \n",
       "\n",
       "[605 rows x 9 columns]"
      ],
      "text/html": "<div>\n<style scoped>\n    .dataframe tbody tr th:only-of-type {\n        vertical-align: middle;\n    }\n\n    .dataframe tbody tr th {\n        vertical-align: top;\n    }\n\n    .dataframe thead th {\n        text-align: right;\n    }\n</style>\n<table border=\"1\" class=\"dataframe\">\n  <thead>\n    <tr style=\"text-align: right;\">\n      <th></th>\n      <th>pattern_generating_match</th>\n      <th>pattern_matched</th>\n      <th>piece_title</th>\n      <th>part</th>\n      <th>start_measure</th>\n      <th>end_measure</th>\n      <th>note_durations</th>\n      <th>ema</th>\n      <th>ema_url</th>\n    </tr>\n  </thead>\n  <tbody>\n    <tr>\n      <th>0</th>\n      <td>(5, -2, 2, 3, -2)</td>\n      <td>[5, -2, 2, 3, -2]</td>\n      <td>Veni speciosam</td>\n      <td>Superius</td>\n      <td>1</td>\n      <td>3</td>\n      <td>[4.0, 6.0, 2.0, 2.0, 2.0, 2.0]</td>\n      <td>1-3/1/@1.0-end,@start-end,@start-1.0</td>\n      <td>https://ema.crimproject.org/https%3A%2F%2Fcrim...</td>\n    </tr>\n    <tr>\n      <th>1</th>\n      <td>(5, -2, 2, 3, -2)</td>\n      <td>[5, -2, 2, 3, -2]</td>\n      <td>Veni speciosam</td>\n      <td>Superius</td>\n      <td>10</td>\n      <td>12</td>\n      <td>[4.0, 6.0, 2.0, 2.0, 2.0, 4.0]</td>\n      <td>10-12/1/@1.0-end,@start-end,@start-1.0</td>\n      <td>https://ema.crimproject.org/https%3A%2F%2Fcrim...</td>\n    </tr>\n    <tr>\n      <th>2</th>\n      <td>(5, -2, 2, 3, -2)</td>\n      <td>[5, -2, 2, 3, -2]</td>\n      <td>Veni speciosam</td>\n      <td>Superius</td>\n      <td>31</td>\n      <td>33</td>\n      <td>[2.0, 6.0, 2.0, 2.0, 4.0, 2.0]</td>\n      <td>31-33/1/@2.0-end,@start-end,@start-2.0</td>\n      <td>https://ema.crimproject.org/https%3A%2F%2Fcrim...</td>\n    </tr>\n    <tr>\n      <th>3</th>\n      <td>(5, -2, 2, 3, -2)</td>\n      <td>[5, -2, 2, 3, -2]</td>\n      <td>Veni speciosam</td>\n      <td>Contratenor</td>\n      <td>34</td>\n      <td>36</td>\n      <td>[2.0, 6.0, 2.0, 2.0, 2.0, 3.0]</td>\n      <td>34-36/2/@4.0-end,@start-end,@start-3.0</td>\n      <td>https://ema.crimproject.org/https%3A%2F%2Fcrim...</td>\n    </tr>\n    <tr>\n      <th>4</th>\n      <td>(5, -2, 2, 3, -2)</td>\n      <td>[5, -2, 2, 3, -2]</td>\n      <td>Veni speciosam</td>\n      <td>PrimusTenor</td>\n      <td>5</td>\n      <td>7</td>\n      <td>[4.0, 6.0, 2.0, 2.0, 2.0, 2.0]</td>\n      <td>5-7/3/@1.0-end,@start-end,@start-1.0</td>\n      <td>https://ema.crimproject.org/https%3A%2F%2Fcrim...</td>\n    </tr>\n    <tr>\n      <th>...</th>\n      <td>...</td>\n      <td>...</td>\n      <td>...</td>\n      <td>...</td>\n      <td>...</td>\n      <td>...</td>\n      <td>...</td>\n      <td>...</td>\n      <td>...</td>\n    </tr>\n    <tr>\n      <th>600</th>\n      <td>(-3, 2, 4, -2, -2)</td>\n      <td>[-3, 2, 4, -2, -2]</td>\n      <td>Veni speciosam</td>\n      <td>SecundusTenor</td>\n      <td>46</td>\n      <td>48</td>\n      <td>[2.0, 2.0, 2.0, 4.0, 2.0, 2.0]</td>\n      <td>46-48/4/@3.0-end,@start-end,@start-1.0</td>\n      <td>https://ema.crimproject.org/https%3A%2F%2Fcrim...</td>\n    </tr>\n    <tr>\n      <th>601</th>\n      <td>(-3, 2, -2, -2, -2)</td>\n      <td>[-3, 2, -2, -2, -2]</td>\n      <td>Veni speciosam</td>\n      <td>PrimusTenor</td>\n      <td>85</td>\n      <td>86</td>\n      <td>[1.0, 1.0, 4.0, 3.0, 1.0, 2.0]</td>\n      <td>85-86/3/@2.0-end,@start-3.0</td>\n      <td>https://ema.crimproject.org/https%3A%2F%2Fcrim...</td>\n    </tr>\n    <tr>\n      <th>602</th>\n      <td>(-3, 2, -2, -2, -2)</td>\n      <td>[-3, 2, -2, -2, -2]</td>\n      <td>Veni speciosam</td>\n      <td>SecundusTenor</td>\n      <td>64</td>\n      <td>66</td>\n      <td>[1.0, 2.0, 4.0, 2.0, 4.0, 4.0]</td>\n      <td>64-66/4/@4.5-end,@start-end,@start-3.0</td>\n      <td>https://ema.crimproject.org/https%3A%2F%2Fcrim...</td>\n    </tr>\n    <tr>\n      <th>603</th>\n      <td>(-3, 2, -2, -2, -2)</td>\n      <td>[-3, 2, -2, -2, -2]</td>\n      <td>Veni speciosam</td>\n      <td>Bassus</td>\n      <td>35</td>\n      <td>36</td>\n      <td>[2.0, 2.0, 4.0, 4.0, 2.0, 2.0]</td>\n      <td>35-36/5/@1.0-end,@start-4.0</td>\n      <td>https://ema.crimproject.org/https%3A%2F%2Fcrim...</td>\n    </tr>\n    <tr>\n      <th>604</th>\n      <td>(-3, 2, -2, -2, -2)</td>\n      <td>[-3, 2, -2, -2, -2]</td>\n      <td>Veni speciosam</td>\n      <td>Bassus</td>\n      <td>103</td>\n      <td>104</td>\n      <td>[2.0, 2.0, 3.0, 1.0, 2.0, 1.0]</td>\n      <td>103-104/5/@3.0-end,@start-4.0</td>\n      <td>https://ema.crimproject.org/https%3A%2F%2Fcrim...</td>\n    </tr>\n  </tbody>\n</table>\n<p>605 rows × 9 columns</p>\n</div>"
     },
     "metadata": {},
     "execution_count": 31
    }
   ],
   "source": [
    "exact_matches = find_exact_matches(patterns, 3)\n",
    "# Use this for exact screen preview\n",
    "#for item in exact_matches:\n",
    "    #item.print_exact_matches()\n",
    "\n",
    "output_exact = export_pandas(exact_matches)\n",
    "pd.DataFrame(output_exact).head()\n",
    "output_exact[\"pattern_generating_match\"] = output_exact[\"pattern_generating_match\"].apply(tuple)\n",
    "\n",
    "results = pd.DataFrame(output_exact)\n",
    "results[\"pattern_generating_match\"] = results[\"pattern_generating_match\"].apply(tuple)\n",
    "results\n",
    "#export_to_csv(exact_matches)"
   ]
  },
  {
   "source": [
    "### A Quick Overview of the Results"
   ],
   "cell_type": "markdown",
   "metadata": {}
  },
  {
   "cell_type": "code",
   "execution_count": 20,
   "metadata": {},
   "outputs": [
    {
     "output_type": "execute_result",
     "data": {
      "text/plain": [
       "'There are 72 unique soggetti and 605 total matches in this search'"
      ]
     },
     "metadata": {},
     "execution_count": 20
    }
   ],
   "source": [
    "total_matches = len(output_exact)\n",
    "unique_sogetti = output_exact.pattern_generating_match.apply(str).nunique()\n",
    "summary = 'There are {} unique soggetti and {} total matches in this search'.format(unique_sogetti, total_matches)\n",
    "summary"
   ]
  },
  {
   "cell_type": "markdown",
   "metadata": {},
   "source": [
    "### Group by the Pattern Generating Match and Check Distribution of Results\n",
    "\n",
    "- Report Top Ten and Bottom Ten Results)"
   ]
  },
  {
   "cell_type": "code",
   "execution_count": 13,
   "metadata": {},
   "outputs": [
    {
     "output_type": "execute_result",
     "data": {
      "text/plain": [
       "                           0\n",
       "pattern_generating_match    \n",
       "(2, 2, -2, -2, -2)        26\n",
       "(2, 2, 2, -2, -2)         21\n",
       "(-2, -2, -2, 2, 2)        21\n",
       "(2, 3, -2, -2, -2)        21\n",
       "(-2, 2, -2, -2, -2)       19\n",
       "(2, 2, 2, 2, -2)          19\n",
       "(2, -2, -2, -2, 2)        18\n",
       "(-2, -2, -2, -2, 2)       17\n",
       "(2, 2, 2, 2, 2)           17\n",
       "(-2, -2, -2, -2, -2)      15"
      ],
      "text/html": "<div>\n<style scoped>\n    .dataframe tbody tr th:only-of-type {\n        vertical-align: middle;\n    }\n\n    .dataframe tbody tr th {\n        vertical-align: top;\n    }\n\n    .dataframe thead th {\n        text-align: right;\n    }\n</style>\n<table border=\"1\" class=\"dataframe\">\n  <thead>\n    <tr style=\"text-align: right;\">\n      <th></th>\n      <th>0</th>\n    </tr>\n    <tr>\n      <th>pattern_generating_match</th>\n      <th></th>\n    </tr>\n  </thead>\n  <tbody>\n    <tr>\n      <th>(2, 2, -2, -2, -2)</th>\n      <td>26</td>\n    </tr>\n    <tr>\n      <th>(2, 2, 2, -2, -2)</th>\n      <td>21</td>\n    </tr>\n    <tr>\n      <th>(-2, -2, -2, 2, 2)</th>\n      <td>21</td>\n    </tr>\n    <tr>\n      <th>(2, 3, -2, -2, -2)</th>\n      <td>21</td>\n    </tr>\n    <tr>\n      <th>(-2, 2, -2, -2, -2)</th>\n      <td>19</td>\n    </tr>\n    <tr>\n      <th>(2, 2, 2, 2, -2)</th>\n      <td>19</td>\n    </tr>\n    <tr>\n      <th>(2, -2, -2, -2, 2)</th>\n      <td>18</td>\n    </tr>\n    <tr>\n      <th>(-2, -2, -2, -2, 2)</th>\n      <td>17</td>\n    </tr>\n    <tr>\n      <th>(2, 2, 2, 2, 2)</th>\n      <td>17</td>\n    </tr>\n    <tr>\n      <th>(-2, -2, -2, -2, -2)</th>\n      <td>15</td>\n    </tr>\n  </tbody>\n</table>\n</div>"
     },
     "metadata": {},
     "execution_count": 13
    }
   ],
   "source": [
    "pattern_inventory = pd.DataFrame(output_exact.groupby(\"pattern_generating_match\").size().sort_values(ascending=False)[:10])\n",
    "pattern_inventory"
   ]
  },
  {
   "cell_type": "code",
   "execution_count": 14,
   "metadata": {},
   "outputs": [
    {
     "output_type": "execute_result",
     "data": {
      "text/plain": [
       "                          0\n",
       "pattern_generating_match   \n",
       "(-5, 2, 2, 2, 2)          4\n",
       "(2, -2, -2, 2, 2)         4\n",
       "(2, 2, -5, 2, 2)          4\n",
       "(-2, 1, -2, -2, 2)        4\n",
       "(-2, -2, -2, -2, 5)       4\n",
       "(-2, 2, -4, 2, 2)         4\n",
       "(2, 2, -3, 2, 2)          4\n",
       "(-2, -2, -2, -3, 2)       4\n",
       "(2, -3, -2, 2, 2)         4\n",
       "(-2, -3, 5, -2, -2)       4"
      ],
      "text/html": "<div>\n<style scoped>\n    .dataframe tbody tr th:only-of-type {\n        vertical-align: middle;\n    }\n\n    .dataframe tbody tr th {\n        vertical-align: top;\n    }\n\n    .dataframe thead th {\n        text-align: right;\n    }\n</style>\n<table border=\"1\" class=\"dataframe\">\n  <thead>\n    <tr style=\"text-align: right;\">\n      <th></th>\n      <th>0</th>\n    </tr>\n    <tr>\n      <th>pattern_generating_match</th>\n      <th></th>\n    </tr>\n  </thead>\n  <tbody>\n    <tr>\n      <th>(-5, 2, 2, 2, 2)</th>\n      <td>4</td>\n    </tr>\n    <tr>\n      <th>(2, -2, -2, 2, 2)</th>\n      <td>4</td>\n    </tr>\n    <tr>\n      <th>(2, 2, -5, 2, 2)</th>\n      <td>4</td>\n    </tr>\n    <tr>\n      <th>(-2, 1, -2, -2, 2)</th>\n      <td>4</td>\n    </tr>\n    <tr>\n      <th>(-2, -2, -2, -2, 5)</th>\n      <td>4</td>\n    </tr>\n    <tr>\n      <th>(-2, 2, -4, 2, 2)</th>\n      <td>4</td>\n    </tr>\n    <tr>\n      <th>(2, 2, -3, 2, 2)</th>\n      <td>4</td>\n    </tr>\n    <tr>\n      <th>(-2, -2, -2, -3, 2)</th>\n      <td>4</td>\n    </tr>\n    <tr>\n      <th>(2, -3, -2, 2, 2)</th>\n      <td>4</td>\n    </tr>\n    <tr>\n      <th>(-2, -3, 5, -2, -2)</th>\n      <td>4</td>\n    </tr>\n  </tbody>\n</table>\n</div>"
     },
     "metadata": {},
     "execution_count": 14
    }
   ],
   "source": [
    "pattern_inventory = pd.DataFrame(output_exact.groupby(\"pattern_generating_match\").size().sort_values(ascending=True)[:10])\n",
    "pattern_inventory"
   ]
  },
  {
   "cell_type": "markdown",
   "metadata": {},
   "source": [
    "***\n",
    "\n",
    "### Select Close Matches Here\n",
    "#### (Comment out the 'for item iteration' in order to skip screen preview)\n",
    "\n",
    "- **Close** matches allow for melodic variation (see more below). `find_close_matches(patterns, 2, 1)`\n",
    "- The **first number** in this command is the **minimum number of melodies** needed before reporting\n",
    "- The **second number** is **threshold of similarity** needed in order to find a match. \n",
    "- Lower number = very similar; higher number = less similar\n",
    "\n",
    "##### More about Close Matches  \n",
    "- The **threshold for close matches** is determined by the **second number** called in the method. \n",
    "- We select two patterns, then compare *each vector in each pattern successively*. \n",
    "- The *differences between each vector are summed*. \n",
    "- If that value is **below the threshold specified**, we consider the **two patterns closely matched**.\n",
    "- The format of the method call is  `find_close_matches(the array you get from into_patterns, minimum matches needed to be displayed, threshold for close match)`."
   ]
  },
  {
   "cell_type": "code",
   "execution_count": 69,
   "metadata": {
    "tags": [
     "outputPrepend"
    ]
   },
   "outputs": [
    {
     "output_type": "stream",
     "name": "stdout",
     "text": [
      "\n"
     ]
    },
    {
     "output_type": "execute_result",
     "data": {
      "text/plain": [
       " "
      ],
      "text/html": "<div>\n<style scoped>\n    .dataframe tbody tr th:only-of-type {\n        vertical-align: middle;\n    }\n\n    .dataframe tbody tr th {\n        vertical-align: top;\n    }\n\n    .dataframe thead th {\n        text-align: right;\n    }\n</style>\n<table border=\"1\" class=\"dataframe\">\n  <thead>\n    <tr style=\"text-align: right;\">\n      <th></th>\n      <th>pattern_generating_match</th>\n      <th>pattern_matched</th>\n      <th>piece_title</th>\n      <th>part</th>\n      <th>start_measure</th>\n      <th>end_measure</th>\n      <th>note_durations</th>\n      <th>ema</th>\n      <th>ema_url</th>\n    </tr>\n  </thead>\n  <tbody>\n    <tr>\n      <th>0</th>\n      <td>(5, -2, 2, 3, -2)</td>\n      <td>[5, -2, 2, 3, -2]</td>\n      <td>Veni speciosam</td>\n      <td>Superius</td>\n      <td>1</td>\n      <td>3</td>\n      <td>[4.0, 6.0, 2.0, 2.0, 2.0, 2.0]</td>\n      <td>1-3/1/@1.0-end,@start-end,@start-1.0</td>\n      <td>https://ema.crimproject.org/https%3A%2F%2Fcrim...</td>\n    </tr>\n    <tr>\n      <th>1</th>\n      <td>(5, -2, 2, 3, -2)</td>\n      <td>[5, -2, 2, 3, -2]</td>\n      <td>Veni speciosam</td>\n      <td>Superius</td>\n      <td>10</td>\n      <td>12</td>\n      <td>[4.0, 6.0, 2.0, 2.0, 2.0, 4.0]</td>\n      <td>10-12/1/@1.0-end,@start-end,@start-1.0</td>\n      <td>https://ema.crimproject.org/https%3A%2F%2Fcrim...</td>\n    </tr>\n    <tr>\n      <th>2</th>\n      <td>(5, -2, 2, 3, -2)</td>\n      <td>[5, -2, 2, 3, -2]</td>\n      <td>Veni speciosam</td>\n      <td>Superius</td>\n      <td>31</td>\n      <td>33</td>\n      <td>[2.0, 6.0, 2.0, 2.0, 4.0, 2.0]</td>\n      <td>31-33/1/@2.0-end,@start-end,@start-2.0</td>\n      <td>https://ema.crimproject.org/https%3A%2F%2Fcrim...</td>\n    </tr>\n    <tr>\n      <th>3</th>\n      <td>(5, -2, 2, 3, -2)</td>\n      <td>[4, -2, 2, 3, -2]</td>\n      <td>Veni speciosam</td>\n      <td>Superius</td>\n      <td>35</td>\n      <td>37</td>\n      <td>[4.0, 4.0, 2.0, 2.0, 2.0, 3.0]</td>\n      <td>35-37/1/@2.0-end,@start-end,@start-1.0</td>\n      <td>https://ema.crimproject.org/https%3A%2F%2Fcrim...</td>\n    </tr>\n    <tr>\n      <th>4</th>\n      <td>(5, -2, 2, 3, -2)</td>\n      <td>[4, -2, 2, 3, -2]</td>\n      <td>Veni speciosam</td>\n      <td>Superius</td>\n      <td>125</td>\n      <td>126</td>\n      <td>[2.0, 4.0, 2.0, 2.0, 1.0, 1.0]</td>\n      <td>125-126/1/@1.0-end,@start-2.5</td>\n      <td>https://ema.crimproject.org/https%3A%2F%2Fcrim...</td>\n    </tr>\n  </tbody>\n</table>\n</div>"
     },
     "metadata": {},
     "execution_count": 69
    }
   ],
   "source": [
    "close_matches = find_close_matches(patterns, 3, 1)\n",
    "#for item in close_matches:\n",
    "   #item.print_close_matches()\n",
    "    #return pd.DataFrame(close_matches)\n",
    "\n",
    "output_close = export_pandas(close_matches)\n",
    "output_close[\"pattern_generating_match\"] = output_close[\"pattern_generating_match\"].apply(tuple)\n",
    "\n",
    "results = pd.DataFrame(output_close)\n",
    "results[\"pattern_generating_match\"] = results[\"pattern_generating_match\"].apply(tuple)\n",
    "results.head()\n",
    "#export_to_csv(close_matches)"
   ]
  },
  {
   "source": [
    "### How Many Unique Soggetti?  How many instances?"
   ],
   "cell_type": "markdown",
   "metadata": {}
  },
  {
   "cell_type": "code",
   "execution_count": 33,
   "metadata": {},
   "outputs": [
    {
     "output_type": "execute_result",
     "data": {
      "text/plain": [
       "'There are 273 unique soggetti and 3161 total matches in this search'"
      ]
     },
     "metadata": {},
     "execution_count": 33
    }
   ],
   "source": [
    "total_matches = len(output_close)\n",
    "unique_sogetti = output_close.pattern_generating_match.apply(str).nunique()\n",
    "summary = 'There are {} unique soggetti and {} total matches in this search'.format(unique_sogetti, total_matches)\n",
    "summary"
   ]
  },
  {
   "cell_type": "markdown",
   "metadata": {},
   "source": [
    "### Top and Bottom Ten Soggetti\n",
    "\n",
    "\n"
   ]
  },
  {
   "cell_type": "code",
   "execution_count": 85,
   "metadata": {},
   "outputs": [
    {
     "output_type": "execute_result",
     "data": {
      "text/plain": [
       "                           0\n",
       "pattern_generating_match    \n",
       "(2, 3, -2, -2, -2)        55\n",
       "(2, 2, -2, -2, -2)        55\n",
       "(3, 2, -2, -2, -2)        53\n",
       "(2, 4, -2, -2, -2)        52\n",
       "(2, 2, -3, -2, -2)        52\n",
       "(1, 3, -2, -2, -2)        52\n",
       "(-3, 2, 2, -2, -2)        48\n",
       "(2, -2, -2, -2, 2)        44\n",
       "(-2, 2, 3, -2, -2)        44\n",
       "(-2, 2, 2, -2, -2)        43"
      ],
      "text/html": "<div>\n<style scoped>\n    .dataframe tbody tr th:only-of-type {\n        vertical-align: middle;\n    }\n\n    .dataframe tbody tr th {\n        vertical-align: top;\n    }\n\n    .dataframe thead th {\n        text-align: right;\n    }\n</style>\n<table border=\"1\" class=\"dataframe\">\n  <thead>\n    <tr style=\"text-align: right;\">\n      <th></th>\n      <th>0</th>\n    </tr>\n    <tr>\n      <th>pattern_generating_match</th>\n      <th></th>\n    </tr>\n  </thead>\n  <tbody>\n    <tr>\n      <th>(2, 3, -2, -2, -2)</th>\n      <td>55</td>\n    </tr>\n    <tr>\n      <th>(2, 2, -2, -2, -2)</th>\n      <td>55</td>\n    </tr>\n    <tr>\n      <th>(3, 2, -2, -2, -2)</th>\n      <td>53</td>\n    </tr>\n    <tr>\n      <th>(2, 4, -2, -2, -2)</th>\n      <td>52</td>\n    </tr>\n    <tr>\n      <th>(2, 2, -3, -2, -2)</th>\n      <td>52</td>\n    </tr>\n    <tr>\n      <th>(1, 3, -2, -2, -2)</th>\n      <td>52</td>\n    </tr>\n    <tr>\n      <th>(-3, 2, 2, -2, -2)</th>\n      <td>48</td>\n    </tr>\n    <tr>\n      <th>(2, -2, -2, -2, 2)</th>\n      <td>44</td>\n    </tr>\n    <tr>\n      <th>(-2, 2, 3, -2, -2)</th>\n      <td>44</td>\n    </tr>\n    <tr>\n      <th>(-2, 2, 2, -2, -2)</th>\n      <td>43</td>\n    </tr>\n  </tbody>\n</table>\n</div>"
     },
     "metadata": {},
     "execution_count": 85
    }
   ],
   "source": [
    "pattern_inventory = pd.DataFrame(output_close.groupby(\"pattern_generating_match\").size().sort_values(ascending=False)[:10])\n",
    "pattern_inventory"
   ]
  },
  {
   "cell_type": "code",
   "execution_count": 40,
   "metadata": {},
   "outputs": [
    {
     "output_type": "execute_result",
     "data": {
      "text/plain": [
       "4"
      ],
      "text/html": "<div>\n<style scoped>\n    .dataframe tbody tr th:only-of-type {\n        vertical-align: middle;\n    }\n\n    .dataframe tbody tr th {\n        vertical-align: top;\n    }\n\n    .dataframe thead th {\n        text-align: right;\n    }\n</style>\n<table border=\"1\" class=\"dataframe\">\n  <thead>\n    <tr style=\"text-align: right;\">\n      <th></th>\n      <th>0</th>\n    </tr>\n    <tr>\n      <th>pattern_generating_match</th>\n      <th></th>\n    </tr>\n  </thead>\n  <tbody>\n    <tr>\n      <th>(6, -2, -2, 2, 2)</th>\n      <td>4</td>\n    </tr>\n    <tr>\n      <th>(-2, 2, 2, -3, 5)</th>\n      <td>4</td>\n    </tr>\n    <tr>\n      <th>(2, -2, -2, -3, 5)</th>\n      <td>4</td>\n    </tr>\n    <tr>\n      <th>(-2, 3, -2, -3, 3)</th>\n      <td>4</td>\n    </tr>\n    <tr>\n      <th>(1, 2, -2, -3, 2)</th>\n      <td>4</td>\n    </tr>\n    <tr>\n      <th>(-3, 4, 2, -3, -2)</th>\n      <td>4</td>\n    </tr>\n    <tr>\n      <th>(2, 2, -2, 1, -2)</th>\n      <td>4</td>\n    </tr>\n    <tr>\n      <th>(-2, -2, 2, -3, 5)</th>\n      <td>4</td>\n    </tr>\n    <tr>\n      <th>(-3, 5, -2, 2, -2)</th>\n      <td>4</td>\n    </tr>\n    <tr>\n      <th>(1, -2, -2, 2, -3)</th>\n      <td>4</td>\n    </tr>\n  </tbody>\n</table>\n</div>"
     },
     "metadata": {},
     "execution_count": 40
    }
   ],
   "source": [
    "pattern_inventory = pd.DataFrame(output_close.groupby(\"pattern_generating_match\").size().sort_values(ascending=True)[:10])\n",
    "pattern_inventory\n"
   ]
  },
  {
   "cell_type": "markdown",
   "metadata": {},
   "source": [
    "***\n",
    "\n",
    "### Classify Patterns Here \n",
    "#### Note:  depends on choice of Close or Exact above!  Must choose appropriate one below!\n",
    "#### Enable \"export_to_csv\" line to allow this within Notebook (must answer \"Y\" and provide filename)"
   ]
  },
  {
   "cell_type": "code",
   "execution_count": 49,
   "metadata": {
    "jupyter": {
     "outputs_hidden": true
    },
    "tags": []
   },
   "outputs": [],
   "source": [
    "%%capture\n",
    "classify_matches(close_matches, 2)\n",
    "#classify_matches(exact_matches, 2)\n",
    "cm = classify_matches(close_matches, 2)\n",
    "#pd.DataFrame(classified_matches)\n",
    "output_cm = export_pandas(cm)\n",
    "#pd.DataFrame(output).head()\n",
    "\n",
    "## For CSV export, use the following (and follow prompts for file name)\n",
    "\n",
    "#export_to_csv(cm)\n",
    "\n"
   ]
  },
  {
   "cell_type": "code",
   "execution_count": 50,
   "metadata": {},
   "outputs": [
    {
     "output_type": "execute_result",
     "data": {
      "text/plain": [
       "]"
      ],
      "text/html": "<div>\n<style scoped>\n    .dataframe tbody tr th:only-of-type {\n        vertical-align: middle;\n    }\n\n    .dataframe tbody tr th {\n        vertical-align: top;\n    }\n\n    .dataframe thead th {\n        text-align: right;\n    }\n</style>\n<table border=\"1\" class=\"dataframe\">\n  <thead>\n    <tr style=\"text-align: right;\">\n      <th></th>\n      <th>pattern_generating_match</th>\n      <th>pattern_matched</th>\n      <th>piece_title</th>\n      <th>part</th>\n      <th>start_measure</th>\n      <th>end_measure</th>\n      <th>note_durations</th>\n      <th>ema</th>\n    </tr>\n  </thead>\n  <tbody>\n    <tr>\n      <th>0</th>\n      <td>[5, -2, 2, 3, -2]</td>\n      <td>[5, -2, 2, 3, -2]</td>\n      <td>Veni speciosam</td>\n      <td>Superius</td>\n      <td>1</td>\n      <td>3</td>\n      <td>[4.0, 6.0, 2.0, 2.0, 2.0, 2.0]</td>\n      <td>1-3/1/@1.0-end,@start-end,@start-1.0</td>\n    </tr>\n    <tr>\n      <th>1</th>\n      <td>[5, -2, 2, 3, -2]</td>\n      <td>[4, -2, 2, 3, -2]</td>\n      <td>Veni speciosam</td>\n      <td>Contratenor</td>\n      <td>2</td>\n      <td>4</td>\n      <td>[4.0, 6.0, 2.0, 2.0, 2.0, 2.0]</td>\n      <td>2-4/2/@3.0-end,@start-end,@start-3.0</td>\n    </tr>\n    <tr>\n      <th>2</th>\n      <td>[5, -2, 2, 3, -2]</td>\n      <td>[5, -2, 2, 3, -2]</td>\n      <td>Veni speciosam</td>\n      <td>PrimusTenor</td>\n      <td>5</td>\n      <td>7</td>\n      <td>[4.0, 6.0, 2.0, 2.0, 2.0, 2.0]</td>\n      <td>5-7/3/@1.0-end,@start-end,@start-1.0</td>\n    </tr>\n    <tr>\n      <th>3</th>\n      <td>[5, -2, 2, 3, -2]</td>\n      <td>[4, -2, 2, 3, -2]</td>\n      <td>Veni speciosam</td>\n      <td>Bassus</td>\n      <td>6</td>\n      <td>8</td>\n      <td>[4.0, 6.0, 2.0, 2.0, 2.0, 3.0]</td>\n      <td>6-8/5/@3.0-end,@start-end,@start-3.0</td>\n    </tr>\n    <tr>\n      <th>4</th>\n      <td>[4, -2, 2, 3, -2]</td>\n      <td>[4, -2, 2, 3, -2]</td>\n      <td>Veni speciosam</td>\n      <td>Contratenor</td>\n      <td>2</td>\n      <td>4</td>\n      <td>[4.0, 6.0, 2.0, 2.0, 2.0, 2.0]</td>\n      <td>2-4/2/@3.0-end,@start-end,@start-3.0</td>\n    </tr>\n    <tr>\n      <th>...</th>\n      <td>...</td>\n      <td>...</td>\n      <td>...</td>\n      <td>...</td>\n      <td>...</td>\n      <td>...</td>\n      <td>...</td>\n      <td>...</td>\n    </tr>\n    <tr>\n      <th>1500</th>\n      <td>[2, 2, 2, -2, -2]</td>\n      <td>[2, 2, 2, -2, -2]</td>\n      <td>Veni speciosam</td>\n      <td>Bassus</td>\n      <td>91</td>\n      <td>93</td>\n      <td>[2.0, 2.0, 4.0, 6.0, 2.0, 4.0]</td>\n      <td>91-93/5/@1.0-end,@start-end,@start-1.0</td>\n    </tr>\n    <tr>\n      <th>1501</th>\n      <td>[2, 2, 2, -2, -2]</td>\n      <td>[2, 2, 2, -2, -2]</td>\n      <td>Veni speciosam</td>\n      <td>Superius</td>\n      <td>88</td>\n      <td>90</td>\n      <td>[2.0, 2.0, 4.0, 6.0, 2.0, 3.0]</td>\n      <td>88-90/1/@3.0-end,@start-end,@start-3.0</td>\n    </tr>\n    <tr>\n      <th>1502</th>\n      <td>[2, 2, 2, -2, -2]</td>\n      <td>[2, 2, 2, -2, -2]</td>\n      <td>Veni speciosam</td>\n      <td>Bassus</td>\n      <td>91</td>\n      <td>93</td>\n      <td>[2.0, 2.0, 4.0, 6.0, 2.0, 4.0]</td>\n      <td>91-93/5/@1.0-end,@start-end,@start-1.0</td>\n    </tr>\n    <tr>\n      <th>1503</th>\n      <td>[2, 2, 2, -2, -2]</td>\n      <td>[2, 2, 2, -2, -2]</td>\n      <td>Veni speciosam</td>\n      <td>Contratenor</td>\n      <td>92</td>\n      <td>93</td>\n      <td>[2.0, 2.0, 2.0, 4.0, 2.0, 1.0]</td>\n      <td>92-93/2/@2.0-end,@start-4.0</td>\n    </tr>\n    <tr>\n      <th>1504</th>\n      <td>[2, 2, 2, -2, -2]</td>\n      <td>[2, 2, 2, -2, -2]</td>\n      <td>Veni speciosam</td>\n      <td>PrimusTenor</td>\n      <td>92</td>\n      <td>94</td>\n      <td>[2.0, 2.0, 2.0, 4.0, 2.0, 2.0]</td>\n      <td>92-94/3/@3.0-end,@start-end,@start-1.0</td>\n    </tr>\n  </tbody>\n</table>\n<p>1505 rows × 8 columns</p>\n</div>"
     },
     "metadata": {},
     "execution_count": 50
    }
   ],
   "source": [
    "short_out = output_cm.drop(columns=[\"ema_url\"])\n",
    "short_out"
   ]
  },
  {
   "cell_type": "code",
   "execution_count": 60,
   "metadata": {},
   "outputs": [],
   "source": [
    "def classified_matches_to_pandas(matches):\n",
    "    \n",
    "    soggetti_matches = []\n",
    "    \n",
    "    for i, cm in enumerate(matches):\n",
    "        \n",
    "        for j, soggetti in enumerate(cm.matches):\n",
    "            \n",
    "            soggetti_matches.append({\n",
    "                \"piece\": soggetti.first_note.metadata.title,\n",
    "                \"type\": cm.type,\n",
    "                \"part\": soggetti.first_note.part.strip(\"[] \"),\n",
    "                \"bar\": soggetti.first_note.note.measureNumber,\n",
    "                \"entry_number\": j + 1,\n",
    "                \"pattern\": cm.pattern,\n",
    "                \"match_number\": i + 1\n",
    "            })\n",
    "    return pd.DataFrame(soggetti_matches)"
   ]
  },
  {
   "cell_type": "code",
   "execution_count": 61,
   "metadata": {},
   "outputs": [
    {
     "output_type": "execute_result",
     "data": {
      "text/plain": [
       " "
      ],
      "text/html": "<div>\n<style scoped>\n    .dataframe tbody tr th:only-of-type {\n        vertical-align: middle;\n    }\n\n    .dataframe tbody tr th {\n        vertical-align: top;\n    }\n\n    .dataframe thead th {\n        text-align: right;\n    }\n</style>\n<table border=\"1\" class=\"dataframe\">\n  <thead>\n    <tr style=\"text-align: right;\">\n      <th></th>\n      <th>piece</th>\n      <th>type</th>\n      <th>part</th>\n      <th>bar</th>\n      <th>entry_number</th>\n      <th>pattern</th>\n      <th>match_number</th>\n    </tr>\n  </thead>\n  <tbody>\n    <tr>\n      <th>0</th>\n      <td>Veni speciosam</td>\n      <td>imitative duo</td>\n      <td>Superius</td>\n      <td>1</td>\n      <td>1</td>\n      <td>[5, -2, 2, 3, -2]</td>\n      <td>1</td>\n    </tr>\n    <tr>\n      <th>1</th>\n      <td>Veni speciosam</td>\n      <td>imitative duo</td>\n      <td>Contratenor</td>\n      <td>2</td>\n      <td>2</td>\n      <td>[5, -2, 2, 3, -2]</td>\n      <td>1</td>\n    </tr>\n    <tr>\n      <th>2</th>\n      <td>Veni speciosam</td>\n      <td>imitative duo</td>\n      <td>PrimusTenor</td>\n      <td>5</td>\n      <td>3</td>\n      <td>[5, -2, 2, 3, -2]</td>\n      <td>1</td>\n    </tr>\n    <tr>\n      <th>3</th>\n      <td>Veni speciosam</td>\n      <td>imitative duo</td>\n      <td>Bassus</td>\n      <td>6</td>\n      <td>4</td>\n      <td>[5, -2, 2, 3, -2]</td>\n      <td>1</td>\n    </tr>\n    <tr>\n      <th>4</th>\n      <td>Veni speciosam</td>\n      <td>fuga</td>\n      <td>Contratenor</td>\n      <td>2</td>\n      <td>1</td>\n      <td>[4, -2, 2, 3, -2]</td>\n      <td>2</td>\n    </tr>\n    <tr>\n      <th>5</th>\n      <td>Veni speciosam</td>\n      <td>fuga</td>\n      <td>PrimusTenor</td>\n      <td>5</td>\n      <td>2</td>\n      <td>[4, -2, 2, 3, -2]</td>\n      <td>2</td>\n    </tr>\n    <tr>\n      <th>6</th>\n      <td>Veni speciosam</td>\n      <td>fuga</td>\n      <td>Bassus</td>\n      <td>6</td>\n      <td>3</td>\n      <td>[4, -2, 2, 3, -2]</td>\n      <td>2</td>\n    </tr>\n    <tr>\n      <th>7</th>\n      <td>Veni speciosam</td>\n      <td>fuga</td>\n      <td>PrimusTenor</td>\n      <td>5</td>\n      <td>1</td>\n      <td>[5, -2, 2, 3, -2]</td>\n      <td>3</td>\n    </tr>\n    <tr>\n      <th>8</th>\n      <td>Veni speciosam</td>\n      <td>fuga</td>\n      <td>Bassus</td>\n      <td>6</td>\n      <td>2</td>\n      <td>[5, -2, 2, 3, -2]</td>\n      <td>3</td>\n    </tr>\n    <tr>\n      <th>9</th>\n      <td>Veni speciosam</td>\n      <td>fuga</td>\n      <td>Contratenor</td>\n      <td>34</td>\n      <td>3</td>\n      <td>[5, -2, 2, 3, -2]</td>\n      <td>3</td>\n    </tr>\n  </tbody>\n</table>\n</div>"
     },
     "metadata": {},
     "execution_count": 61
    }
   ],
   "source": [
    "df = classified_matches_to_pandas(cm)\n",
    "pd.set_option('display.max_rows', 50)\n",
    "df.head(10)"
   ]
  },
  {
   "cell_type": "code",
   "execution_count": 65,
   "metadata": {
    "scrolled": true
   },
   "outputs": [
    {
     "output_type": "execute_result",
     "data": {
      "text/plain": [
       "]"
      ],
      "text/html": "<div>\n<style scoped>\n    .dataframe tbody tr th:only-of-type {\n        vertical-align: middle;\n    }\n\n    .dataframe tbody tr th {\n        vertical-align: top;\n    }\n\n    .dataframe thead th {\n        text-align: right;\n    }\n</style>\n<table border=\"1\" class=\"dataframe\">\n  <thead>\n    <tr style=\"text-align: right;\">\n      <th></th>\n      <th></th>\n      <th></th>\n      <th>bar_1</th>\n      <th>bar_2</th>\n      <th>bar_3</th>\n      <th>bar_4</th>\n      <th>bar_5</th>\n      <th>part_1</th>\n      <th>part_2</th>\n      <th>part_3</th>\n      <th>part_4</th>\n      <th>part_5</th>\n    </tr>\n    <tr>\n      <th>match_number</th>\n      <th>piece</th>\n      <th>type</th>\n      <th></th>\n      <th></th>\n      <th></th>\n      <th></th>\n      <th></th>\n      <th></th>\n      <th></th>\n      <th></th>\n      <th></th>\n      <th></th>\n    </tr>\n  </thead>\n  <tbody>\n    <tr>\n      <th>1</th>\n      <th>Veni speciosam</th>\n      <th>imitative duo</th>\n      <td>1.0</td>\n      <td>2.0</td>\n      <td>5.0</td>\n      <td>6.0</td>\n      <td>NaN</td>\n      <td>Superius</td>\n      <td>Contratenor</td>\n      <td>PrimusTenor</td>\n      <td>Bassus</td>\n      <td>NaN</td>\n    </tr>\n    <tr>\n      <th>2</th>\n      <th>Veni speciosam</th>\n      <th>fuga</th>\n      <td>2.0</td>\n      <td>5.0</td>\n      <td>6.0</td>\n      <td>NaN</td>\n      <td>NaN</td>\n      <td>Contratenor</td>\n      <td>PrimusTenor</td>\n      <td>Bassus</td>\n      <td>NaN</td>\n      <td>NaN</td>\n    </tr>\n    <tr>\n      <th>3</th>\n      <th>Veni speciosam</th>\n      <th>fuga</th>\n      <td>5.0</td>\n      <td>6.0</td>\n      <td>34.0</td>\n      <td>35.0</td>\n      <td>NaN</td>\n      <td>PrimusTenor</td>\n      <td>Bassus</td>\n      <td>Contratenor</td>\n      <td>Superius</td>\n      <td>NaN</td>\n    </tr>\n    <tr>\n      <th>4</th>\n      <th>Veni speciosam</th>\n      <th>fuga</th>\n      <td>29.0</td>\n      <td>31.0</td>\n      <td>31.0</td>\n      <td>32.0</td>\n      <td>NaN</td>\n      <td>PrimusTenor</td>\n      <td>Bassus</td>\n      <td>Superius</td>\n      <td>SecundusTenor</td>\n      <td>NaN</td>\n    </tr>\n    <tr>\n      <th>5</th>\n      <th>Veni speciosam</th>\n      <th>fuga</th>\n      <td>31.0</td>\n      <td>32.0</td>\n      <td>35.0</td>\n      <td>35.0</td>\n      <td>NaN</td>\n      <td>Superius</td>\n      <td>SecundusTenor</td>\n      <td>Contratenor</td>\n      <td>Superius</td>\n      <td>NaN</td>\n    </tr>\n    <tr>\n      <th>...</th>\n      <th>...</th>\n      <th>...</th>\n      <td>...</td>\n      <td>...</td>\n      <td>...</td>\n      <td>...</td>\n      <td>...</td>\n      <td>...</td>\n      <td>...</td>\n      <td>...</td>\n      <td>...</td>\n      <td>...</td>\n    </tr>\n    <tr>\n      <th>436</th>\n      <th>Veni speciosam</th>\n      <th>fuga</th>\n      <td>63.0</td>\n      <td>63.0</td>\n      <td>65.0</td>\n      <td>NaN</td>\n      <td>NaN</td>\n      <td>Bassus</td>\n      <td>PrimusTenor</td>\n      <td>Bassus</td>\n      <td>NaN</td>\n      <td>NaN</td>\n    </tr>\n    <tr>\n      <th>437</th>\n      <th>Veni speciosam</th>\n      <th>fuga</th>\n      <td>63.0</td>\n      <td>65.0</td>\n      <td>109.0</td>\n      <td>110.0</td>\n      <td>NaN</td>\n      <td>PrimusTenor</td>\n      <td>Bassus</td>\n      <td>Bassus</td>\n      <td>PrimusTenor</td>\n      <td>NaN</td>\n    </tr>\n    <tr>\n      <th>438</th>\n      <th>Veni speciosam</th>\n      <th>fuga</th>\n      <td>85.0</td>\n      <td>87.0</td>\n      <td>88.0</td>\n      <td>NaN</td>\n      <td>NaN</td>\n      <td>Contratenor</td>\n      <td>SecundusTenor</td>\n      <td>Superius</td>\n      <td>NaN</td>\n      <td>NaN</td>\n    </tr>\n    <tr>\n      <th>439</th>\n      <th>Veni speciosam</th>\n      <th>fuga</th>\n      <td>87.0</td>\n      <td>88.0</td>\n      <td>91.0</td>\n      <td>NaN</td>\n      <td>NaN</td>\n      <td>SecundusTenor</td>\n      <td>Superius</td>\n      <td>Bassus</td>\n      <td>NaN</td>\n      <td>NaN</td>\n    </tr>\n    <tr>\n      <th>440</th>\n      <th>Veni speciosam</th>\n      <th>fuga</th>\n      <td>88.0</td>\n      <td>91.0</td>\n      <td>92.0</td>\n      <td>92.0</td>\n      <td>NaN</td>\n      <td>Superius</td>\n      <td>Bassus</td>\n      <td>Contratenor</td>\n      <td>PrimusTenor</td>\n      <td>NaN</td>\n    </tr>\n  </tbody>\n</table>\n<p>440 rows × 10 columns</p>\n</div>"
     },
     "metadata": {},
     "execution_count": 65
    }
   ],
   "source": [
    "wide_df = df.pivot_table(index=[\"match_number\", \"piece\", \"type\"],\n",
    "            columns=\"entry_number\",\n",
    "            values=[\"part\", \"bar\"],\n",
    "            aggfunc=lambda x: x)\n",
    "\n",
    "wide_df.columns = [f\"{a}_{b}\" for a, b in wide_df.columns]\n",
    "\n",
    "wide_df.head().reset_index()\n",
    "\n",
    "wide_df.shape\n",
    "\n",
    "wide_df"
   ]
  },
  {
   "cell_type": "markdown",
   "metadata": {},
   "source": [
    "## Read CSV of Classified Matches\n",
    "\n",
    "- Update file name to match the output of previous cells for Classifier"
   ]
  },
  {
   "cell_type": "code",
   "execution_count": null,
   "metadata": {},
   "outputs": [],
   "source": [
    "results = pd.read_csv('Sandrin_Classified.csv')\n",
    "results.rename(columns=\n",
    "                   {'Pattern Generating Match': 'Pattern_Generating_Match', \n",
    "                    'Pattern matched':'Pattern_Matched',\n",
    "                    'Classification Type': 'Classification_Type',\n",
    "                    'Piece Title': 'Piece_Title',\n",
    "                    'First Note Measure Number': 'Start_Measure',\n",
    "                    'Last Note Measure Number': 'Stop_Measure',\n",
    "                    'Note Durations': 'Note_Durations'\n",
    "                   },\n",
    "                    inplace=True)\n",
    "\n",
    "results['note_durations'] = results['note_durations'].apply(ast.literal_eval)\n",
    "\n",
    "durations = results['note_durations']\n",
    "results.head()"
   ]
  },
  {
   "cell_type": "markdown",
   "metadata": {},
   "source": [
    "# Durational Ratios\n",
    "\n",
    "#### This Function Calculates the Ratios of the Durations in each Match"
   ]
  },
  {
   "cell_type": "code",
   "execution_count": 73,
   "metadata": {},
   "outputs": [],
   "source": [
    "# makes pairs of ratio strings\n",
    "\n",
    "def pairwise(iterable):\n",
    "    \"s -> (s0,s1), (s1,s2), (s2, s3), ...\"\n",
    "    a, b = tee(iterable)\n",
    "    next(b, None)\n",
    "    return zip(a, b)\n",
    "\n",
    "def get_ratios(input_list):\n",
    "    ratio_pairs = []\n",
    "    for a, b in pairwise(input_list):\n",
    "        ratio_pairs.append(b / a)\n",
    "    return ratio_pairs\n",
    "\n",
    "\n"
   ]
  },
  {
   "cell_type": "markdown",
   "metadata": {},
   "source": [
    "#### Now call the function to operate on the RESULTS file from earlier"
   ]
  },
  {
   "cell_type": "code",
   "execution_count": 76,
   "metadata": {},
   "outputs": [
    {
     "output_type": "execute_result",
     "data": {
      "text/plain": [
       " "
      ],
      "text/html": "<div>\n<style scoped>\n    .dataframe tbody tr th:only-of-type {\n        vertical-align: middle;\n    }\n\n    .dataframe tbody tr th {\n        vertical-align: top;\n    }\n\n    .dataframe thead th {\n        text-align: right;\n    }\n</style>\n<table border=\"1\" class=\"dataframe\">\n  <thead>\n    <tr style=\"text-align: right;\">\n      <th></th>\n      <th>pattern_generating_match</th>\n      <th>pattern_matched</th>\n      <th>piece_title</th>\n      <th>part</th>\n      <th>start_measure</th>\n      <th>end_measure</th>\n      <th>note_durations</th>\n      <th>ema</th>\n    </tr>\n  </thead>\n  <tbody>\n    <tr>\n      <th>0</th>\n      <td>[5, -2, 2, 3, -2]</td>\n      <td>[5, -2, 2, 3, -2]</td>\n      <td>Veni speciosam</td>\n      <td>Superius</td>\n      <td>1</td>\n      <td>3</td>\n      <td>[4.0, 6.0, 2.0, 2.0, 2.0, 2.0]</td>\n      <td>1-3/1/@1.0-end,@start-end,@start-1.0</td>\n    </tr>\n    <tr>\n      <th>1</th>\n      <td>[5, -2, 2, 3, -2]</td>\n      <td>[4, -2, 2, 3, -2]</td>\n      <td>Veni speciosam</td>\n      <td>Contratenor</td>\n      <td>2</td>\n      <td>4</td>\n      <td>[4.0, 6.0, 2.0, 2.0, 2.0, 2.0]</td>\n      <td>2-4/2/@3.0-end,@start-end,@start-3.0</td>\n    </tr>\n    <tr>\n      <th>2</th>\n      <td>[5, -2, 2, 3, -2]</td>\n      <td>[5, -2, 2, 3, -2]</td>\n      <td>Veni speciosam</td>\n      <td>PrimusTenor</td>\n      <td>5</td>\n      <td>7</td>\n      <td>[4.0, 6.0, 2.0, 2.0, 2.0, 2.0]</td>\n      <td>5-7/3/@1.0-end,@start-end,@start-1.0</td>\n    </tr>\n    <tr>\n      <th>3</th>\n      <td>[5, -2, 2, 3, -2]</td>\n      <td>[4, -2, 2, 3, -2]</td>\n      <td>Veni speciosam</td>\n      <td>Bassus</td>\n      <td>6</td>\n      <td>8</td>\n      <td>[4.0, 6.0, 2.0, 2.0, 2.0, 3.0]</td>\n      <td>6-8/5/@3.0-end,@start-end,@start-3.0</td>\n    </tr>\n    <tr>\n      <th>4</th>\n      <td>[4, -2, 2, 3, -2]</td>\n      <td>[4, -2, 2, 3, -2]</td>\n      <td>Veni speciosam</td>\n      <td>Contratenor</td>\n      <td>2</td>\n      <td>4</td>\n      <td>[4.0, 6.0, 2.0, 2.0, 2.0, 2.0]</td>\n      <td>2-4/2/@3.0-end,@start-end,@start-3.0</td>\n    </tr>\n    <tr>\n      <th>5</th>\n      <td>[4, -2, 2, 3, -2]</td>\n      <td>[5, -2, 2, 3, -2]</td>\n      <td>Veni speciosam</td>\n      <td>PrimusTenor</td>\n      <td>5</td>\n      <td>7</td>\n      <td>[4.0, 6.0, 2.0, 2.0, 2.0, 2.0]</td>\n      <td>5-7/3/@1.0-end,@start-end,@start-1.0</td>\n    </tr>\n    <tr>\n      <th>6</th>\n      <td>[4, -2, 2, 3, -2]</td>\n      <td>[4, -2, 2, 3, -2]</td>\n      <td>Veni speciosam</td>\n      <td>Bassus</td>\n      <td>6</td>\n      <td>8</td>\n      <td>[4.0, 6.0, 2.0, 2.0, 2.0, 3.0]</td>\n      <td>6-8/5/@3.0-end,@start-end,@start-3.0</td>\n    </tr>\n    <tr>\n      <th>7</th>\n      <td>[5, -2, 2, 3, -2]</td>\n      <td>[5, -2, 2, 3, -2]</td>\n      <td>Veni speciosam</td>\n      <td>PrimusTenor</td>\n      <td>5</td>\n      <td>7</td>\n      <td>[4.0, 6.0, 2.0, 2.0, 2.0, 2.0]</td>\n      <td>5-7/3/@1.0-end,@start-end,@start-1.0</td>\n    </tr>\n    <tr>\n      <th>8</th>\n      <td>[5, -2, 2, 3, -2]</td>\n      <td>[4, -2, 2, 3, -2]</td>\n      <td>Veni speciosam</td>\n      <td>Bassus</td>\n      <td>6</td>\n      <td>8</td>\n      <td>[4.0, 6.0, 2.0, 2.0, 2.0, 3.0]</td>\n      <td>6-8/5/@3.0-end,@start-end,@start-3.0</td>\n    </tr>\n    <tr>\n      <th>9</th>\n      <td>[5, -2, 2, 3, -2]</td>\n      <td>[5, -2, 2, 3, -2]</td>\n      <td>Veni speciosam</td>\n      <td>Contratenor</td>\n      <td>34</td>\n      <td>36</td>\n      <td>[2.0, 6.0, 2.0, 2.0, 2.0, 3.0]</td>\n      <td>34-36/2/@4.0-end,@start-end,@start-3.0</td>\n    </tr>\n  </tbody>\n</table>\n</div>"
     },
     "metadata": {},
     "execution_count": 76
    }
   ],
   "source": [
    "# calculates 'duration ratios' for each soggetto, then adds this to the DF\n",
    "\n",
    "results[\"duration_ratios\"] = results.note_durations.apply(get_ratios)\n",
    "short_results = results.drop(columns=[\"ema_url\"])\n",
    "short_out.head(10)"
   ]
  },
  {
   "cell_type": "markdown",
   "metadata": {},
   "source": [
    "## Group by the Pattern Generating Match\n",
    "- Each has its own string of durations, and duration ratios\n",
    "- and then we compare the ratios to get the differences\n",
    "- the \"list(combinations)\" method takes care of building the pairs, using data from our dataframe 'results'"
   ]
  },
  {
   "cell_type": "code",
   "execution_count": 77,
   "metadata": {},
   "outputs": [],
   "source": [
    "def compare_ratios(ratios_1, ratios_2):\n",
    "    \n",
    "    ## division of lists \n",
    "    # using zip() + list comprehension \n",
    "    diffs = [i - j for i, j in zip(ratios_1, ratios_2)] \n",
    "    abs_diffs = [abs(ele) for ele in diffs] \n",
    "    sum_diffs = sum(abs_diffs)\n",
    "\n",
    "    return sum_diffs\n",
    "\n",
    "#results[\"Pattern_Generating_Match\"] = results[\"Pattern_Generating_Match\"].apply(tuple) \n",
    "\n",
    "def get_ratio_distances(results, pattern_col, output_cols):\n",
    "    \n",
    "    matches = []\n",
    "\n",
    "    for name, group in results.groupby(pattern_col):\n",
    "\n",
    "        ratio_pairs = list(combinations(group.index.values, 2))\n",
    "\n",
    "        for a, b in ratio_pairs:\n",
    "            \n",
    "            a_match = results.loc[a]\n",
    "            b_match = results.loc[b]\n",
    "            \n",
    "            sum_diffs = compare_ratios(a_match.duration_ratios, b_match.duration_ratios)\n",
    "            \n",
    "            match_dict = {\n",
    "                \"pattern\": name,\n",
    "                \"sum_diffs\": sum_diffs\n",
    "            }\n",
    "            \n",
    "            for col in output_cols:\n",
    "                match_dict.update({\n",
    "                    f\"match_1_{col}\": a_match[col],\n",
    "                    f\"match_2_{col}\": b_match[col]\n",
    "                })\n",
    "                \n",
    "            matches.append(match_dict)\n",
    "            \n",
    "    return pd.DataFrame(matches)"
   ]
  },
  {
   "cell_type": "markdown",
   "metadata": {},
   "source": [
    "### Now Run the Function to get the 'edit distances' for the durations of matching patterns"
   ]
  },
  {
   "cell_type": "code",
   "execution_count": 79,
   "metadata": {},
   "outputs": [
    {
     "output_type": "execute_result",
     "data": {
      "text/plain": [
       " "
      ],
      "text/html": "<div>\n<style scoped>\n    .dataframe tbody tr th:only-of-type {\n        vertical-align: middle;\n    }\n\n    .dataframe tbody tr th {\n        vertical-align: top;\n    }\n\n    .dataframe thead th {\n        text-align: right;\n    }\n</style>\n<table border=\"1\" class=\"dataframe\">\n  <thead>\n    <tr style=\"text-align: right;\">\n      <th></th>\n      <th>pattern</th>\n      <th>sum_diffs</th>\n      <th>match_1_piece_title</th>\n      <th>match_2_piece_title</th>\n      <th>match_1_part</th>\n      <th>match_2_part</th>\n      <th>match_1_start_measure</th>\n      <th>match_2_start_measure</th>\n      <th>match_1_end_measure</th>\n      <th>match_2_end_measure</th>\n    </tr>\n  </thead>\n  <tbody>\n    <tr>\n      <th>0</th>\n      <td>(-5, 2, 2, 2, 2)</td>\n      <td>2.000000</td>\n      <td>Veni speciosam</td>\n      <td>Veni speciosam</td>\n      <td>Contratenor</td>\n      <td>Contratenor</td>\n      <td>52</td>\n      <td>130</td>\n      <td>53</td>\n      <td>131</td>\n    </tr>\n    <tr>\n      <th>1</th>\n      <td>(-5, 2, 2, 2, 2)</td>\n      <td>0.000000</td>\n      <td>Veni speciosam</td>\n      <td>Veni speciosam</td>\n      <td>Contratenor</td>\n      <td>SecundusTenor</td>\n      <td>52</td>\n      <td>107</td>\n      <td>53</td>\n      <td>108</td>\n    </tr>\n    <tr>\n      <th>2</th>\n      <td>(-5, 2, 2, 2, 2)</td>\n      <td>0.000000</td>\n      <td>Veni speciosam</td>\n      <td>Veni speciosam</td>\n      <td>Contratenor</td>\n      <td>Bassus</td>\n      <td>52</td>\n      <td>33</td>\n      <td>53</td>\n      <td>34</td>\n    </tr>\n    <tr>\n      <th>3</th>\n      <td>(-5, 2, 2, 2, 2)</td>\n      <td>1.000000</td>\n      <td>Veni speciosam</td>\n      <td>Veni speciosam</td>\n      <td>Contratenor</td>\n      <td>Bassus</td>\n      <td>52</td>\n      <td>82</td>\n      <td>53</td>\n      <td>83</td>\n    </tr>\n    <tr>\n      <th>4</th>\n      <td>(-5, 2, 2, 2, 2)</td>\n      <td>2.666667</td>\n      <td>Veni speciosam</td>\n      <td>Veni speciosam</td>\n      <td>Contratenor</td>\n      <td>Bassus</td>\n      <td>52</td>\n      <td>84</td>\n      <td>53</td>\n      <td>85</td>\n    </tr>\n  </tbody>\n</table>\n</div>"
     },
     "metadata": {},
     "execution_count": 79
    }
   ],
   "source": [
    "ratio_distances = get_ratio_distances(results, \"pattern_generating_match\", [\"piece_title\", \"part\", \"start_measure\", \"end_measure\"])\n",
    "ratio_distances.head()"
   ]
  },
  {
   "cell_type": "markdown",
   "metadata": {},
   "source": [
    "### And FILTER the results according to any threshold we like"
   ]
  },
  {
   "cell_type": "code",
   "execution_count": 80,
   "metadata": {},
   "outputs": [
    {
     "output_type": "execute_result",
     "data": {
      "text/plain": [
       "]"
      ],
      "text/html": "<div>\n<style scoped>\n    .dataframe tbody tr th:only-of-type {\n        vertical-align: middle;\n    }\n\n    .dataframe tbody tr th {\n        vertical-align: top;\n    }\n\n    .dataframe thead th {\n        text-align: right;\n    }\n</style>\n<table border=\"1\" class=\"dataframe\">\n  <thead>\n    <tr style=\"text-align: right;\">\n      <th></th>\n      <th>pattern</th>\n      <th>sum_diffs</th>\n      <th>match_1_piece_title</th>\n      <th>match_2_piece_title</th>\n      <th>match_1_part</th>\n      <th>match_2_part</th>\n      <th>match_1_start_measure</th>\n      <th>match_2_start_measure</th>\n      <th>match_1_end_measure</th>\n      <th>match_2_end_measure</th>\n    </tr>\n  </thead>\n  <tbody>\n    <tr>\n      <th>1</th>\n      <td>(-5, 2, 2, 2, 2)</td>\n      <td>0.000000</td>\n      <td>Veni speciosam</td>\n      <td>Veni speciosam</td>\n      <td>Contratenor</td>\n      <td>SecundusTenor</td>\n      <td>52</td>\n      <td>107</td>\n      <td>53</td>\n      <td>108</td>\n    </tr>\n    <tr>\n      <th>2</th>\n      <td>(-5, 2, 2, 2, 2)</td>\n      <td>0.000000</td>\n      <td>Veni speciosam</td>\n      <td>Veni speciosam</td>\n      <td>Contratenor</td>\n      <td>Bassus</td>\n      <td>52</td>\n      <td>33</td>\n      <td>53</td>\n      <td>34</td>\n    </tr>\n    <tr>\n      <th>3</th>\n      <td>(-5, 2, 2, 2, 2)</td>\n      <td>1.000000</td>\n      <td>Veni speciosam</td>\n      <td>Veni speciosam</td>\n      <td>Contratenor</td>\n      <td>Bassus</td>\n      <td>52</td>\n      <td>82</td>\n      <td>53</td>\n      <td>83</td>\n    </tr>\n    <tr>\n      <th>8</th>\n      <td>(-5, 2, 2, 2, 2)</td>\n      <td>1.000000</td>\n      <td>Veni speciosam</td>\n      <td>Veni speciosam</td>\n      <td>Contratenor</td>\n      <td>Bassus</td>\n      <td>130</td>\n      <td>82</td>\n      <td>131</td>\n      <td>83</td>\n    </tr>\n    <tr>\n      <th>11</th>\n      <td>(-5, 2, 2, 2, 2)</td>\n      <td>0.000000</td>\n      <td>Veni speciosam</td>\n      <td>Veni speciosam</td>\n      <td>SecundusTenor</td>\n      <td>Bassus</td>\n      <td>107</td>\n      <td>33</td>\n      <td>108</td>\n      <td>34</td>\n    </tr>\n    <tr>\n      <th>...</th>\n      <td>...</td>\n      <td>...</td>\n      <td>...</td>\n      <td>...</td>\n      <td>...</td>\n      <td>...</td>\n      <td>...</td>\n      <td>...</td>\n      <td>...</td>\n      <td>...</td>\n    </tr>\n    <tr>\n      <th>26180</th>\n      <td>(5, 1, -2, 2, -2)</td>\n      <td>0.666667</td>\n      <td>Veni speciosam</td>\n      <td>Veni speciosam</td>\n      <td>SecundusTenor</td>\n      <td>Bassus</td>\n      <td>60</td>\n      <td>62</td>\n      <td>62</td>\n      <td>64</td>\n    </tr>\n    <tr>\n      <th>26182</th>\n      <td>(5, 1, -2, 2, -2)</td>\n      <td>0.750000</td>\n      <td>Veni speciosam</td>\n      <td>Veni speciosam</td>\n      <td>SecundusTenor</td>\n      <td>Bassus</td>\n      <td>64</td>\n      <td>58</td>\n      <td>65</td>\n      <td>60</td>\n    </tr>\n    <tr>\n      <th>26183</th>\n      <td>(5, 1, -2, 2, -2)</td>\n      <td>0.750000</td>\n      <td>Veni speciosam</td>\n      <td>Veni speciosam</td>\n      <td>SecundusTenor</td>\n      <td>Bassus</td>\n      <td>64</td>\n      <td>62</td>\n      <td>65</td>\n      <td>64</td>\n    </tr>\n    <tr>\n      <th>26185</th>\n      <td>(5, 1, -2, 2, -2)</td>\n      <td>0.000000</td>\n      <td>Veni speciosam</td>\n      <td>Veni speciosam</td>\n      <td>Bassus</td>\n      <td>Bassus</td>\n      <td>58</td>\n      <td>62</td>\n      <td>60</td>\n      <td>64</td>\n    </tr>\n    <tr>\n      <th>26192</th>\n      <td>(6, -2, -2, 2, 2)</td>\n      <td>1.000000</td>\n      <td>Veni speciosam</td>\n      <td>Veni speciosam</td>\n      <td>Contratenor</td>\n      <td>SecundusTenor</td>\n      <td>101</td>\n      <td>84</td>\n      <td>103</td>\n      <td>86</td>\n    </tr>\n  </tbody>\n</table>\n<p>2922 rows × 10 columns</p>\n</div>"
     },
     "metadata": {},
     "execution_count": 80
    }
   ],
   "source": [
    "ratios_filtered = ratio_distances[ratio_distances.sum_diffs <= 1]\n",
    "ratios_filtered"
   ]
  },
  {
   "cell_type": "markdown",
   "metadata": {},
   "source": [
    "### Now Group the Duration-Filter Results by the Pattern (which shows us very closely related soggetti in sets)"
   ]
  },
  {
   "cell_type": "code",
   "execution_count": 81,
   "metadata": {},
   "outputs": [
    {
     "output_type": "execute_result",
     "data": {
      "text/plain": [
       "]"
      ],
      "text/html": "<div>\n<style scoped>\n    .dataframe tbody tr th:only-of-type {\n        vertical-align: middle;\n    }\n\n    .dataframe tbody tr th {\n        vertical-align: top;\n    }\n\n    .dataframe thead th {\n        text-align: right;\n    }\n</style>\n<table border=\"1\" class=\"dataframe\">\n  <thead>\n    <tr style=\"text-align: right;\">\n      <th></th>\n      <th>pattern</th>\n      <th>sum_diffs</th>\n      <th>match_1_piece_title</th>\n      <th>match_2_piece_title</th>\n      <th>match_1_part</th>\n      <th>match_2_part</th>\n      <th>match_1_start_measure</th>\n      <th>match_2_start_measure</th>\n      <th>match_1_end_measure</th>\n      <th>match_2_end_measure</th>\n    </tr>\n  </thead>\n  <tbody>\n    <tr>\n      <th>1</th>\n      <td>(-5, 2, 2, 2, 2)</td>\n      <td>0.000000</td>\n      <td>Veni speciosam</td>\n      <td>Veni speciosam</td>\n      <td>Contratenor</td>\n      <td>SecundusTenor</td>\n      <td>52</td>\n      <td>107</td>\n      <td>53</td>\n      <td>108</td>\n    </tr>\n    <tr>\n      <th>2</th>\n      <td>(-5, 2, 2, 2, 2)</td>\n      <td>0.000000</td>\n      <td>Veni speciosam</td>\n      <td>Veni speciosam</td>\n      <td>Contratenor</td>\n      <td>Bassus</td>\n      <td>52</td>\n      <td>33</td>\n      <td>53</td>\n      <td>34</td>\n    </tr>\n    <tr>\n      <th>3</th>\n      <td>(-5, 2, 2, 2, 2)</td>\n      <td>1.000000</td>\n      <td>Veni speciosam</td>\n      <td>Veni speciosam</td>\n      <td>Contratenor</td>\n      <td>Bassus</td>\n      <td>52</td>\n      <td>82</td>\n      <td>53</td>\n      <td>83</td>\n    </tr>\n    <tr>\n      <th>8</th>\n      <td>(-5, 2, 2, 2, 2)</td>\n      <td>1.000000</td>\n      <td>Veni speciosam</td>\n      <td>Veni speciosam</td>\n      <td>Contratenor</td>\n      <td>Bassus</td>\n      <td>130</td>\n      <td>82</td>\n      <td>131</td>\n      <td>83</td>\n    </tr>\n    <tr>\n      <th>11</th>\n      <td>(-5, 2, 2, 2, 2)</td>\n      <td>0.000000</td>\n      <td>Veni speciosam</td>\n      <td>Veni speciosam</td>\n      <td>SecundusTenor</td>\n      <td>Bassus</td>\n      <td>107</td>\n      <td>33</td>\n      <td>108</td>\n      <td>34</td>\n    </tr>\n    <tr>\n      <th>...</th>\n      <td>...</td>\n      <td>...</td>\n      <td>...</td>\n      <td>...</td>\n      <td>...</td>\n      <td>...</td>\n      <td>...</td>\n      <td>...</td>\n      <td>...</td>\n      <td>...</td>\n    </tr>\n    <tr>\n      <th>26123</th>\n      <td>(5, 1, -2, 2, -2)</td>\n      <td>0.666667</td>\n      <td>Veni speciosam</td>\n      <td>Veni speciosam</td>\n      <td>Superius</td>\n      <td>Contratenor</td>\n      <td>56</td>\n      <td>59</td>\n      <td>58</td>\n      <td>60</td>\n    </tr>\n    <tr>\n      <th>26124</th>\n      <td>(5, 1, -2, 2, -2)</td>\n      <td>0.000000</td>\n      <td>Veni speciosam</td>\n      <td>Veni speciosam</td>\n      <td>Superius</td>\n      <td>PrimusTenor</td>\n      <td>56</td>\n      <td>54</td>\n      <td>58</td>\n      <td>56</td>\n    </tr>\n    <tr>\n      <th>26125</th>\n      <td>(5, 1, -2, 2, -2)</td>\n      <td>0.000000</td>\n      <td>Veni speciosam</td>\n      <td>Veni speciosam</td>\n      <td>Superius</td>\n      <td>PrimusTenor</td>\n      <td>56</td>\n      <td>58</td>\n      <td>58</td>\n      <td>60</td>\n    </tr>\n    <tr>\n      <th>26128</th>\n      <td>(5, 1, -2, 2, -2)</td>\n      <td>0.666667</td>\n      <td>Veni speciosam</td>\n      <td>Veni speciosam</td>\n      <td>Superius</td>\n      <td>SecundusTenor</td>\n      <td>56</td>\n      <td>60</td>\n      <td>58</td>\n      <td>62</td>\n    </tr>\n    <tr>\n      <th>26192</th>\n      <td>(6, -2, -2, 2, 2)</td>\n      <td>1.000000</td>\n      <td>Veni speciosam</td>\n      <td>Veni speciosam</td>\n      <td>Contratenor</td>\n      <td>SecundusTenor</td>\n      <td>101</td>\n      <td>84</td>\n      <td>103</td>\n      <td>86</td>\n    </tr>\n  </tbody>\n</table>\n<p>808 rows × 10 columns</p>\n</div>"
     },
     "metadata": {},
     "execution_count": 81
    }
   ],
   "source": [
    "grouped = ratios_filtered.groupby(\"pattern\")\n",
    "grouped.head()"
   ]
  },
  {
   "cell_type": "code",
   "execution_count": null,
   "metadata": {},
   "outputs": [],
   "source": [
    "ratios_filtered.to_csv(\"filtered_sample_pair.csv\")"
   ]
  }
 ],
 "metadata": {
  "kernelspec": {
   "display_name": "Python 3",
   "language": "python",
   "name": "python3"
  },
  "language_info": {
   "codemirror_mode": {
    "name": "ipython",
    "version": 3
   },
   "file_extension": ".py",
   "mimetype": "text/x-python",
   "name": "python",
   "nbconvert_exporter": "python",
   "pygments_lexer": "ipython3",
   "version": "3.8.5-final"
  }
 },
 "nbformat": 4,
 "nbformat_minor": 4
}