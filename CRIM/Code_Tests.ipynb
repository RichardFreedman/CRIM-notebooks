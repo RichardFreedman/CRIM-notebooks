{
 "metadata": {
  "language_info": {
   "codemirror_mode": {
    "name": "ipython",
    "version": 3
   },
   "file_extension": ".py",
   "mimetype": "text/x-python",
   "name": "python",
   "nbconvert_exporter": "python",
   "pygments_lexer": "ipython3",
   "version": 3
  },
  "orig_nbformat": 2
 },
 "nbformat": 4,
 "nbformat_minor": 2,
 "cells": [
  {
   "source": [
    "### Experiments for filtering and slicing sets of offsets for a given group"
   ],
   "cell_type": "markdown",
   "metadata": {}
  },
  {
   "cell_type": "code",
   "execution_count": null,
   "metadata": {},
   "outputs": [],
   "source": [
    "# these will be the offset differences, and so the cumsum is really the 'span'\n",
    "\n",
    "np.cumsum([1, 2, 1, 100, 2, 1])"
   ]
  },
  {
   "cell_type": "code",
   "execution_count": null,
   "metadata": {},
   "outputs": [],
   "source": [
    "np.cumsum([1, 2, 1, 100, 2, 1]) <= 90"
   ]
  },
  {
   "cell_type": "code",
   "execution_count": null,
   "metadata": {},
   "outputs": [],
   "source": [
    "sum(np.cumsum([1, 2, 5, 6, 100, 103, 105]) <= 15)"
   ]
  },
  {
   "cell_type": "code",
   "execution_count": null,
   "metadata": {},
   "outputs": [],
   "source": [
    "l = [1, 2, 1, 100, 1, 2, 1, 200, 3, 4, 3]\n",
    "s = sum(np.cumsum(l) <= 90)\n",
    "l[-s: ]\n",
    "\n",
    "# or check for mean.  \n",
    "# if we test from both ends (front and back), then we will have two sets, or more\n",
    "# but for very long enchained patterns with 'gaps' we will instead need to test for 'long gaps' (>X beats), then segment accordingly  Trickt!"
   ]
  },
  {
   "cell_type": "code",
   "execution_count": null,
   "metadata": {},
   "outputs": [],
   "source": [
    "[1, 3, 5, 7][: 3]"
   ]
  },
  {
   "cell_type": "code",
   "execution_count": null,
   "metadata": {},
   "outputs": [],
   "source": [
    "def check_limit(offset_difference_list):\n",
    "    index_pos_list = [ i for i in range(len(offset_difference_list)) if offset_difference_list[i] == 1.0 ] \n",
    "    print(index_list)"
   ]
  },
  {
   "cell_type": "code",
   "execution_count": null,
   "metadata": {},
   "outputs": [],
   "source": [
    "output_exact.applymap(lists_to_tuples_a).groupby(\"pattern_matched\").apply(check_limit)"
   ]
  },
  {
   "cell_type": "code",
   "execution_count": null,
   "metadata": {},
   "outputs": [],
   "source": [
    "\n",
    "offset_diffs = [1.0, 2.0, 1.0, 100.0, 2.0, 1.0]\n",
    "\n",
    "index_pos_list = [ i for i in range(len(offset_diffs)) if offset_diffs[i] == 1.0 ]\n",
    "print('Indexes of all occurrences of a \"Ok\" in the list are : ', index_pos_list)"
   ]
  },
  {
   "cell_type": "code",
   "execution_count": null,
   "metadata": {},
   "outputs": [],
   "source": [
    "# idea for finding index in group based on value of offset-diffs\n",
    "\n",
    "group = ['']\n",
    "lst = [111.0, 5.0, 0.0, 149.0, 165.0, 384.0, 66.0]\n",
    "ind_list = [i for i, value in enumerate(lst) if value == 0] \n",
    "ind_list\n"
   ]
  },
  {
   "cell_type": "code",
   "execution_count": null,
   "metadata": {},
   "outputs": [],
   "source": [
    "sel_items = [lst[value] for value in ind_list]\n",
    "sel_items\n"
   ]
  },
  {
   "source": [
    "## Test for offsets and Presentation Types"
   ],
   "cell_type": "markdown",
   "metadata": {}
  },
  {
   "cell_type": "code",
   "execution_count": null,
   "metadata": {},
   "outputs": [],
   "source": [
    "# now trim it to less than 64 total\n",
    "\n",
    "offset_difference_span = (offset_difference_list[-1] - offset_difference_list[0])\n",
    "\n",
    "if offset_difference_span > 64:\n",
    "    del offset_difference_list[-1]\n",
    "offset_difference_list"
   ]
  },
  {
   "cell_type": "code",
   "execution_count": null,
   "metadata": {},
   "outputs": [],
   "source": [
    "# trim to 64 or less.  Passes short ones without trim\n",
    "\n",
    "list = [16.0, 16.0, 16.0, 100.0]\n",
    "while offset_difference_span == sum(list) and offset_difference_span < 64:\n",
    "# print(offset_difference_span)\n",
    "    del list[-1]\n",
    "# while offset_difference_span > 64:\n",
    "#     print('yup')\n",
    "#     del list[0]\n",
    "# else:\n",
    "#     print('ok')\n",
    "\n",
    "print(list)"
   ]
  },
  {
   "cell_type": "code",
   "execution_count": null,
   "metadata": {},
   "outputs": [],
   "source": [
    "# test if all equal:  PEN\n",
    "out = all(element == offset_difference_list[0] for element in offset_difference_list)\n",
    "out"
   ]
  },
  {
   "cell_type": "code",
   "execution_count": null,
   "metadata": {},
   "outputs": [],
   "source": [
    "# test if unequal:  Fuga\n",
    "\n",
    "out2 = all(element != offset_difference_list[0] for element in offset_difference_list)\n",
    "out2"
   ]
  },
  {
   "cell_type": "code",
   "execution_count": null,
   "metadata": {},
   "outputs": [],
   "source": [
    "#test even or odd (for ID)\n",
    "\n",
    "if len(offset_difference_list)%2==0:\n",
    "     print('even')\n",
    "else:\n",
    "     print('odd')"
   ]
  },
  {
   "cell_type": "code",
   "execution_count": null,
   "metadata": {},
   "outputs": [],
   "source": [
    "# test for equality of odd items -> ID\n",
    "list = [1.0, 3.0, 1.0, 4.0, 1.0, 4.0, 2.0, 4.0]\n",
    "alt_list = list[0::2]\n",
    "print(alt_list)\n",
    "if all(element == alt_list[0] for element in alt_list):\n",
    "    print(\"id\")\n",
    "else:\n",
    "    print(\"nope\")"
   ]
  },
  {
   "cell_type": "code",
   "execution_count": null,
   "metadata": {},
   "outputs": [],
   "source": [
    "# test list and list at 1/3/5, etc\n",
    "\n",
    "list = [1.0, 2.0, 1.0, 2.0, 3.0]\n",
    "alt_list = list[0::2]\n",
    "\n",
    "\n",
    "# check that span is less than 64 beats\n",
    "span = sum(list)\n",
    "while span > 64:\n",
    "    del list[-1] \n",
    "else:\n",
    "    print('ok')\n",
    "\n",
    "alt_list"
   ]
  },
  {
   "cell_type": "code",
   "execution_count": null,
   "metadata": {},
   "outputs": [],
   "source": [
    "if any(element != list[0] for element in list):\n",
    "    print(\"Fuga\")"
   ]
  },
  {
   "cell_type": "code",
   "execution_count": null,
   "metadata": {},
   "outputs": [],
   "source": [
    "if all(element == list[0] for element in list):\n",
    "    print(\"PEn\")\n",
    "if len(list)%2!=0:\n",
    "     if all(element == alt_list[0] for element in alt_list):\n",
    "        print(\"ID\")\n",
    "if any(element != list[0] for element in list):\n",
    "    print(\"Fuga\")\n",
    "else:\n",
    "    print(\"end\")\n",
    "    \n"
   ]
  },
  {
   "cell_type": "code",
   "execution_count": null,
   "metadata": {},
   "outputs": [],
   "source": [
    "# Here is the process\n",
    "# get list of offsets for each group\n",
    "\n",
    "\n",
    "list = [16.0, 18.0, 16.0, 19.0, 16.0]\n",
    "alt_list = list[0::2]\n",
    "span = sum(list)\n",
    "while span > 164:\n",
    "    del list[-1] \n",
    "else:\n",
    "    pass\n",
    "if all(element == list[0] for element in list):\n",
    "    print(\"PEn\")\n",
    "if len(list)%2!=0:\n",
    "     if all(element == alt_list[0] for element in alt_list):\n",
    "        print(\"ID\") \n",
    "else:\n",
    "    print(\"Fuga\")\n"
   ]
  }
 ]
}