{
 "cells": [
  {
   "cell_type": "markdown",
   "metadata": {},
   "source": [
    "## Search with Options\n",
    "\n",
    "- Piece or Corpus\n",
    "- Actual or Incremental Durations\n",
    "- Chromatic or Diatonic\n",
    "- Exact or Close\n",
    "- Classify\n",
    "\n",
    "***\n"
   ]
  },
  {
   "cell_type": "code",
   "execution_count": 175,
   "metadata": {},
   "outputs": [],
   "source": [
    "from crim_intervals import *\n",
    "import pandas as pd\n",
    "import ast\n",
    "import matplotlib\n",
    "from itertools import tee, combinations"
   ]
  },
  {
   "cell_type": "markdown",
   "metadata": {},
   "source": [
    "### The Complete Corpus"
   ]
  },
  {
   "cell_type": "code",
   "execution_count": 3,
   "metadata": {},
   "outputs": [],
   "source": [
    "work_list = ['CRIM_Mass_0001_1.mei','CRIM_Mass_0001_2.mei','CRIM_Mass_0001_3.mei','CRIM_Mass_0001_4.mei','CRIM_Mass_0001_5.mei','CRIM_Mass_0002_1.mei','CRIM_Mass_0002_2.mei','CRIM_Mass_0002_3.mei','CRIM_Mass_0002_4.mei','CRIM_Mass_0002_5.mei','CRIM_Mass_0003_1.mei','CRIM_Mass_0003_2.mei','CRIM_Mass_0003_3.mei','CRIM_Mass_0003_4.mei','CRIM_Mass_0003_5.mei','CRIM_Mass_0004_1.mei','CRIM_Mass_0004_2.mei','CRIM_Mass_0004_3.mei','CRIM_Mass_0004_4.mei','CRIM_Mass_0004_5.mei','CRIM_Mass_0005_1.mei','CRIM_Mass_0005_2.mei','CRIM_Mass_0005_3.mei','CRIM_Mass_0005_4.mei','CRIM_Mass_0005_5.mei','CRIM_Mass_0006_1.mei','CRIM_Mass_0006_2.mei','CRIM_Mass_0006_3.mei','CRIM_Mass_0006_4.mei','CRIM_Mass_0006_5.mei','CRIM_Mass_0007_1.mei', 'CRIM_Mass_0007_2.mei', 'CRIM_Mass_0007_3.mei', 'CRIM_Mass_0007_4.mei', 'CRIM_Mass_0007_5.mei', 'CRIM_Mass_0008_1.mei', 'CRIM_Mass_0008_2.mei', 'CRIM_Mass_0008_3.mei', 'CRIM_Mass_0008_4.mei', 'CRIM_Mass_0008_5.mei', 'CRIM_Mass_0009_1.mei', 'CRIM_Mass_0009_2.mei', 'CRIM_Mass_0009_3.mei', 'CRIM_Mass_0009_4.mei', 'CRIM_Mass_0009_5.mei', 'CRIM_Mass_0010_1.mei', 'CRIM_Mass_0010_2.mei', 'CRIM_Mass_0010_3.mei', 'CRIM_Mass_0010_4.mei', 'CRIM_Mass_0010_5.mei', 'CRIM_Mass_0011_1.mei', 'CRIM_Mass_0011_2.mei', 'CRIM_Mass_0011_3.mei', 'CRIM_Mass_0011_4.mei', 'CRIM_Mass_0011_5.mei', 'CRIM_Mass_0012_1.mei', 'CRIM_Mass_0012_2.mei', 'CRIM_Mass_0012_3.mei', 'CRIM_Mass_0012_4.mei', 'CRIM_Mass_0012_5.mei', 'CRIM_Mass_0013_1.mei', 'CRIM_Mass_0013_2.mei', 'CRIM_Mass_0013_3.mei', 'CRIM_Mass_0013_4.mei', 'CRIM_Mass_0013_5.mei', 'CRIM_Mass_0014_1.mei', 'CRIM_Mass_0014_2.mei', 'CRIM_Mass_0014_3.mei', 'CRIM_Mass_0014_4.mei', 'CRIM_Mass_0014_5.mei', 'CRIM_Mass_0015_1.mei', 'CRIM_Mass_0015_2.mei', 'CRIM_Mass_0015_3.mei', 'CRIM_Mass_0015_4.mei', 'CRIM_Mass_0015_5.mei', 'CRIM_Mass_0016_1.mei', 'CRIM_Mass_0016_2.mei', 'CRIM_Mass_0016_3.mei', 'CRIM_Mass_0016_4.mei', 'CRIM_Mass_0016_5.mei', 'CRIM_Mass_0017_1.mei', 'CRIM_Mass_0017_2.mei', 'CRIM_Mass_0017_3.mei', 'CRIM_Mass_0017_4.mei', 'CRIM_Mass_0017_5.mei', 'CRIM_Mass_0018_1.mei', 'CRIM_Mass_0018_2.mei', 'CRIM_Mass_0018_3.mei', 'CRIM_Mass_0018_4.mei', 'CRIM_Mass_0018_5.mei', 'CRIM_Mass_0019_1.mei', 'CRIM_Mass_0019_2.mei', 'CRIM_Mass_0019_3.mei', 'CRIM_Mass_0019_4.mei', 'CRIM_Mass_0019_5.mei', 'CRIM_Mass_0020_1.mei', 'CRIM_Mass_0020_2.mei', 'CRIM_Mass_0020_3.mei', 'CRIM_Mass_0020_4.mei', 'CRIM_Mass_0020_5.mei', 'CRIM_Mass_0021_1.mei', 'CRIM_Mass_0021_2.mei', 'CRIM_Mass_0021_3.mei', 'CRIM_Mass_0021_4.mei', 'CRIM_Mass_0021_5.mei', 'CRIM_Mass_0022_2.mei', 'CRIM_Model_0001.mei', 'CRIM_Model_0008.mei', 'CRIM_Model_0009.mei', 'CRIM_Model_0010.mei', 'CRIM_Model_0011.mei', 'CRIM_Model_0012.mei', 'CRIM_Model_0013.mei', 'CRIM_Model_0014.mei', 'CRIM_Model_0015.mei', 'CRIM_Model_0016.mei', 'CRIM_Model_0017.mei', 'CRIM_Model_0019.mei', 'CRIM_Model_0020.mei', 'CRIM_Model_0021.mei', 'CRIM_Model_0023.mei', 'CRIM_Model_0025.mei', 'CRIM_Model_0026.mei',\n",
    "]"
   ]
  },
  {
   "cell_type": "markdown",
   "metadata": {},
   "source": [
    "### Short Corpus"
   ]
  },
  {
   "cell_type": "code",
   "execution_count": 176,
   "metadata": {},
   "outputs": [],
   "source": [
    "# work_list = ['CRIM_Mass_0002_1.mei',\n",
    "#  'CRIM_Mass_0002_2.mei',\n",
    "#  'CRIM_Mass_0002_3.mei',\n",
    "#  'CRIM_Mass_0002_4.mei',\n",
    "#  'CRIM_Mass_0002_5.mei',\n",
    "# 'CRIM_Model_0001.mei']\n",
    "\n",
    "work_list = ['CRIM_Model_0009.mei']"
   ]
  },
  {
   "source": [
    "## Load File and Correct the MEI Metadata"
   ],
   "cell_type": "markdown",
   "metadata": {
    "jupyter": {
     "outputs_hidden": true
    },
    "scrolled": true
   }
  },
  {
   "cell_type": "code",
   "execution_count": 177,
   "metadata": {
    "tags": []
   },
   "outputs": [
    {
     "output_type": "stream",
     "name": "stdout",
     "text": [
      "Requesting file from https://crimproject.org/mei/MEI_4.0/CRIM_Model_0009.mei...\n",
      "Successfully imported.\n",
      "https://crimproject.org/mei/MEI_4.0/CRIM_Model_0009.mei Je suis déshéritée\n",
      "Je suis déshéritée\n"
     ]
    }
   ],
   "source": [
    "work_list = [el.replace(\"CRIM_\", \"https://crimproject.org/mei/MEI_4.0/CRIM_\") for el in work_list]\n",
    "corpus = CorpusBase(work_list)\n",
    "\n",
    "import xml.etree.ElementTree as ET\n",
    "import requests\n",
    "\n",
    "MEINSURI = 'http://www.music-encoding.org/ns/mei'\n",
    "MEINS = '{%s}' % MEINSURI\n",
    "\n",
    "for i, path in enumerate(work_list):\n",
    "    \n",
    "    try:\n",
    "        if path[0] == '/':\n",
    "            mei_doc = ET.parse(path)\n",
    "        else:\n",
    "            mei_doc = ET.fromstring(requests.get(path).text)\n",
    "\n",
    "      # Find the title from the MEI file and update the Music21 Score metadata\n",
    "        title = mei_doc.find('mei:meiHead//mei:titleStmt/mei:title', namespaces={\"mei\": MEINSURI}).text\n",
    "        print(path, title)\n",
    "        corpus.scores[i].metadata.title = title\n",
    "    except:\n",
    "        continue\n",
    "\n",
    "for s in corpus.scores:\n",
    "    print(s.metadata.title)"
   ]
  },
  {
   "cell_type": "markdown",
   "metadata": {},
   "source": [
    "\n",
    "## Select Actual or Incremental Durations\n",
    "\n",
    "#### About Rhythmic Durations\n",
    "\n",
    "- For `find_close_matches` and `find_exact_matches`, rhythmic variation/duration is displayed, but **not** factored into the calculation of matching.\n",
    "- **Incremental Offset** calculates the intervals using a **fixed offset between notes**, no matter their actual duration.  Use this to ignore passing tones or other ornaments.  The offsets are expressed in multiples of the quarter note (Offset = 1 samples at quarter note; Offset = 2 at half note, etc). Set with `vectors = IntervalBase(corpus.note_list_incremental_offset(2))`"
   ]
  },
  {
   "cell_type": "code",
   "execution_count": 178,
   "metadata": {},
   "outputs": [],
   "source": [
    "vectors = IntervalBase(corpus.note_list)\n",
    "#vectors = IntervalBase(corpus.note_list_incremental_offset(2))"
   ]
  },
  {
   "cell_type": "markdown",
   "metadata": {},
   "source": [
    "***\n",
    "\n",
    "## Select Generic or Semitone Scale:\n",
    "\n",
    "- **Length of the Soggetto**: `into_patterns([vectors.semitone_intervals], 5)` \n",
    "\n",
    "- The **number** in this command represents the **minimum number of vectors to find**. 5 vectors is 6 notes.\n"
   ]
  },
  {
   "cell_type": "code",
   "execution_count": 179,
   "metadata": {},
   "outputs": [],
   "source": [
    "patterns = into_patterns([vectors.generic_intervals], 6)\n",
    "#patterns = into_patterns([vectors.semitone_intervals], 4)"
   ]
  },
  {
   "cell_type": "markdown",
   "metadata": {},
   "source": [
    "***\n",
    "\n",
    "## Select Exact Matches Here, or Close Below\n",
    "#### (Use comment feature to select screen preview or CSV output) \n",
    "\n",
    "- **Exact** is exact in *all* ways `find_exact_matches(patterns, 2)` \n",
    "- The **number** in this command represents the **minimum number of matching melodies needed before reporting**. This allows us to filter for common or uncommon soggetti."
   ]
  },
  {
   "cell_type": "code",
   "execution_count": 221,
   "metadata": {
    "tags": []
   },
   "outputs": [
    {
     "output_type": "stream",
     "name": "stdout",
     "text": [
      "Finding exact matches...\n24 melodic intervals had more than 1 exact matches.\n\n"
     ]
    },
    {
     "output_type": "execute_result",
     "data": {
      "text/plain": [
       "  pattern_generating_match        pattern_matched         piece_title  \\\n",
       "0      (1, 1, 3, 1, 2, -4)    [1, 1, 3, 1, 2, -4]  Je suis déshéritée   \n",
       "1      (1, 1, 3, 1, 2, -4)    [1, 1, 3, 1, 2, -4]  Je suis déshéritée   \n",
       "2      (1, 1, 3, 1, 2, -4)    [1, 1, 3, 1, 2, -4]  Je suis déshéritée   \n",
       "3      (1, 1, 3, 1, 2, -4)    [1, 1, 3, 1, 2, -4]  Je suis déshéritée   \n",
       "4    (1, 1, -2, -2, -2, 2)  [1, 1, -2, -2, -2, 2]  Je suis déshéritée   \n",
       "\n",
       "       part  start_measure  end_measure                        note_durations  \\\n",
       "0  Superius              3            5   [4.0, 2.0, 2.0, 2.0, 2.0, 4.0, 8.0]   \n",
       "1  Superius             11           13   [4.0, 2.0, 2.0, 2.0, 2.0, 4.0, 8.0]   \n",
       "2     Tenor              1            3   [4.0, 2.0, 2.0, 2.0, 2.0, 4.0, 8.0]   \n",
       "3     Tenor              9           11  [4.0, 2.0, 2.0, 2.0, 2.0, 4.0, 12.0]   \n",
       "4  Superius              7            9   [2.0, 2.0, 2.0, 2.0, 4.0, 2.0, 4.0]   \n",
       "\n",
       "                                      ema  \\\n",
       "0    3-5/1/@1.0-end,@start-end,@start-1.0   \n",
       "1  11-13/1/@1.0-end,@start-end,@start-1.0   \n",
       "2    1-3/3/@3.0-end,@start-end,@start-3.0   \n",
       "3   9-11/3/@1.0-end,@start-end,@start-1.0   \n",
       "4    7-9/1/@2.0-end,@start-end,@start-1.0   \n",
       "\n",
       "                                             ema_url  \n",
       "0  https://ema.crimproject.org/https%3A%2F%2Fcrim...  \n",
       "1  https://ema.crimproject.org/https%3A%2F%2Fcrim...  \n",
       "2  https://ema.crimproject.org/https%3A%2F%2Fcrim...  \n",
       "3  https://ema.crimproject.org/https%3A%2F%2Fcrim...  \n",
       "4  https://ema.crimproject.org/https%3A%2F%2Fcrim...  "
      ],
      "text/html": "<div>\n<style scoped>\n    .dataframe tbody tr th:only-of-type {\n        vertical-align: middle;\n    }\n\n    .dataframe tbody tr th {\n        vertical-align: top;\n    }\n\n    .dataframe thead th {\n        text-align: right;\n    }\n</style>\n<table border=\"1\" class=\"dataframe\">\n  <thead>\n    <tr style=\"text-align: right;\">\n      <th></th>\n      <th>pattern_generating_match</th>\n      <th>pattern_matched</th>\n      <th>piece_title</th>\n      <th>part</th>\n      <th>start_measure</th>\n      <th>end_measure</th>\n      <th>note_durations</th>\n      <th>ema</th>\n      <th>ema_url</th>\n    </tr>\n  </thead>\n  <tbody>\n    <tr>\n      <th>0</th>\n      <td>(1, 1, 3, 1, 2, -4)</td>\n      <td>[1, 1, 3, 1, 2, -4]</td>\n      <td>Je suis déshéritée</td>\n      <td>Superius</td>\n      <td>3</td>\n      <td>5</td>\n      <td>[4.0, 2.0, 2.0, 2.0, 2.0, 4.0, 8.0]</td>\n      <td>3-5/1/@1.0-end,@start-end,@start-1.0</td>\n      <td>https://ema.crimproject.org/https%3A%2F%2Fcrim...</td>\n    </tr>\n    <tr>\n      <th>1</th>\n      <td>(1, 1, 3, 1, 2, -4)</td>\n      <td>[1, 1, 3, 1, 2, -4]</td>\n      <td>Je suis déshéritée</td>\n      <td>Superius</td>\n      <td>11</td>\n      <td>13</td>\n      <td>[4.0, 2.0, 2.0, 2.0, 2.0, 4.0, 8.0]</td>\n      <td>11-13/1/@1.0-end,@start-end,@start-1.0</td>\n      <td>https://ema.crimproject.org/https%3A%2F%2Fcrim...</td>\n    </tr>\n    <tr>\n      <th>2</th>\n      <td>(1, 1, 3, 1, 2, -4)</td>\n      <td>[1, 1, 3, 1, 2, -4]</td>\n      <td>Je suis déshéritée</td>\n      <td>Tenor</td>\n      <td>1</td>\n      <td>3</td>\n      <td>[4.0, 2.0, 2.0, 2.0, 2.0, 4.0, 8.0]</td>\n      <td>1-3/3/@3.0-end,@start-end,@start-3.0</td>\n      <td>https://ema.crimproject.org/https%3A%2F%2Fcrim...</td>\n    </tr>\n    <tr>\n      <th>3</th>\n      <td>(1, 1, 3, 1, 2, -4)</td>\n      <td>[1, 1, 3, 1, 2, -4]</td>\n      <td>Je suis déshéritée</td>\n      <td>Tenor</td>\n      <td>9</td>\n      <td>11</td>\n      <td>[4.0, 2.0, 2.0, 2.0, 2.0, 4.0, 12.0]</td>\n      <td>9-11/3/@1.0-end,@start-end,@start-1.0</td>\n      <td>https://ema.crimproject.org/https%3A%2F%2Fcrim...</td>\n    </tr>\n    <tr>\n      <th>4</th>\n      <td>(1, 1, -2, -2, -2, 2)</td>\n      <td>[1, 1, -2, -2, -2, 2]</td>\n      <td>Je suis déshéritée</td>\n      <td>Superius</td>\n      <td>7</td>\n      <td>9</td>\n      <td>[2.0, 2.0, 2.0, 2.0, 4.0, 2.0, 4.0]</td>\n      <td>7-9/1/@2.0-end,@start-end,@start-1.0</td>\n      <td>https://ema.crimproject.org/https%3A%2F%2Fcrim...</td>\n    </tr>\n  </tbody>\n</table>\n</div>"
     },
     "metadata": {},
     "execution_count": 221
    }
   ],
   "source": [
    "exact_matches = find_exact_matches(patterns, 1)\n",
    "# Use this for exact screen preview\n",
    "#for item in exact_matches:\n",
    "    #item.print_exact_matches()\n",
    "\n",
    "output_exact = export_pandas(exact_matches)\n",
    "pd.DataFrame(output_exact).head()\n",
    "output_exact[\"pattern_generating_match\"] = output_exact[\"pattern_generating_match\"].apply(tuple)\n",
    "\n",
    "results = pd.DataFrame(output_exact)\n",
    "results[\"pattern_generating_match\"] = results[\"pattern_generating_match\"].apply(tuple)\n",
    "results.head()\n",
    "#export_to_csv(exact_matches)"
   ]
  },
  {
   "source": [
    "### A Quick Overview of the Results"
   ],
   "cell_type": "markdown",
   "metadata": {}
  },
  {
   "cell_type": "code",
   "execution_count": 222,
   "metadata": {},
   "outputs": [
    {
     "output_type": "execute_result",
     "data": {
      "text/plain": [
       "'There are 24 unique soggetti and 72 total matches in this search'"
      ]
     },
     "metadata": {},
     "execution_count": 222
    }
   ],
   "source": [
    "total_matches = len(output_exact)\n",
    "unique_sogetti = output_exact.pattern_generating_match.apply(str).nunique()\n",
    "summary = 'There are {} unique soggetti and {} total matches in this search'.format(unique_sogetti, total_matches)\n",
    "summary"
   ]
  },
  {
   "cell_type": "markdown",
   "metadata": {},
   "source": [
    "### Group by the Pattern Generating Match and Check Distribution of Results\n",
    "\n",
    "- Report Top Ten and Bottom Ten Results)"
   ]
  },
  {
   "cell_type": "code",
   "execution_count": 182,
   "metadata": {},
   "outputs": [
    {
     "output_type": "execute_result",
     "data": {
      "text/plain": [
       "                          0\n",
       "pattern_generating_match   \n",
       "(1, 1, -2, -2, -2, 2)     4\n",
       "(2, 2, -3, 2, -2, -2)     4\n",
       "(1, 1, 3, 1, 2, -4)       4\n",
       "(2, -3, 2, -2, -2, -2)    4\n",
       "(2, -2, -2, -2, 2, -2)    4\n",
       "(-3, 2, -2, -2, -2, 2)    4\n",
       "(2, 2, 2, -3, 2, -2)      4\n",
       "(2, 2, 2, -2, -2, -2)     4\n",
       "(2, -2, -2, 2, 2, 2)      3\n",
       "(-2, -2, 2, -2, -2, 2)    3"
      ],
      "text/html": "<div>\n<style scoped>\n    .dataframe tbody tr th:only-of-type {\n        vertical-align: middle;\n    }\n\n    .dataframe tbody tr th {\n        vertical-align: top;\n    }\n\n    .dataframe thead th {\n        text-align: right;\n    }\n</style>\n<table border=\"1\" class=\"dataframe\">\n  <thead>\n    <tr style=\"text-align: right;\">\n      <th></th>\n      <th>0</th>\n    </tr>\n    <tr>\n      <th>pattern_generating_match</th>\n      <th></th>\n    </tr>\n  </thead>\n  <tbody>\n    <tr>\n      <th>(1, 1, -2, -2, -2, 2)</th>\n      <td>4</td>\n    </tr>\n    <tr>\n      <th>(2, 2, -3, 2, -2, -2)</th>\n      <td>4</td>\n    </tr>\n    <tr>\n      <th>(1, 1, 3, 1, 2, -4)</th>\n      <td>4</td>\n    </tr>\n    <tr>\n      <th>(2, -3, 2, -2, -2, -2)</th>\n      <td>4</td>\n    </tr>\n    <tr>\n      <th>(2, -2, -2, -2, 2, -2)</th>\n      <td>4</td>\n    </tr>\n    <tr>\n      <th>(-3, 2, -2, -2, -2, 2)</th>\n      <td>4</td>\n    </tr>\n    <tr>\n      <th>(2, 2, 2, -3, 2, -2)</th>\n      <td>4</td>\n    </tr>\n    <tr>\n      <th>(2, 2, 2, -2, -2, -2)</th>\n      <td>4</td>\n    </tr>\n    <tr>\n      <th>(2, -2, -2, 2, 2, 2)</th>\n      <td>3</td>\n    </tr>\n    <tr>\n      <th>(-2, -2, 2, -2, -2, 2)</th>\n      <td>3</td>\n    </tr>\n  </tbody>\n</table>\n</div>"
     },
     "metadata": {},
     "execution_count": 182
    }
   ],
   "source": [
    "pattern_inventory = pd.DataFrame(output_exact.groupby(\"pattern_generating_match\").size().sort_values(ascending=False)[:10])\n",
    "pattern_inventory"
   ]
  },
  {
   "cell_type": "code",
   "execution_count": 183,
   "metadata": {},
   "outputs": [
    {
     "output_type": "execute_result",
     "data": {
      "text/plain": [
       "                          0\n",
       "pattern_generating_match   \n",
       "(-3, -2, -3, 2, 2, 2)     2\n",
       "(2, -3, -2, -3, 2, 2)     2\n",
       "(1, 2, 3, 1, -2, 2)       2\n",
       "(2, 2, 2, 2, 2, 3)        2\n",
       "(1, -3, 2, 2, 2, 2)       2\n",
       "(2, 2, 2, 2, 3, -2)       2\n",
       "(-3, 2, 2, 2, 2, -2)      2\n",
       "(-3, 2, 2, 2, 2, -3)      2\n",
       "(-2, -2, 2, 2, 2, -2)     3\n",
       "(-2, 2, -2, -2, 2, 2)     3"
      ],
      "text/html": "<div>\n<style scoped>\n    .dataframe tbody tr th:only-of-type {\n        vertical-align: middle;\n    }\n\n    .dataframe tbody tr th {\n        vertical-align: top;\n    }\n\n    .dataframe thead th {\n        text-align: right;\n    }\n</style>\n<table border=\"1\" class=\"dataframe\">\n  <thead>\n    <tr style=\"text-align: right;\">\n      <th></th>\n      <th>0</th>\n    </tr>\n    <tr>\n      <th>pattern_generating_match</th>\n      <th></th>\n    </tr>\n  </thead>\n  <tbody>\n    <tr>\n      <th>(-3, -2, -3, 2, 2, 2)</th>\n      <td>2</td>\n    </tr>\n    <tr>\n      <th>(2, -3, -2, -3, 2, 2)</th>\n      <td>2</td>\n    </tr>\n    <tr>\n      <th>(1, 2, 3, 1, -2, 2)</th>\n      <td>2</td>\n    </tr>\n    <tr>\n      <th>(2, 2, 2, 2, 2, 3)</th>\n      <td>2</td>\n    </tr>\n    <tr>\n      <th>(1, -3, 2, 2, 2, 2)</th>\n      <td>2</td>\n    </tr>\n    <tr>\n      <th>(2, 2, 2, 2, 3, -2)</th>\n      <td>2</td>\n    </tr>\n    <tr>\n      <th>(-3, 2, 2, 2, 2, -2)</th>\n      <td>2</td>\n    </tr>\n    <tr>\n      <th>(-3, 2, 2, 2, 2, -3)</th>\n      <td>2</td>\n    </tr>\n    <tr>\n      <th>(-2, -2, 2, 2, 2, -2)</th>\n      <td>3</td>\n    </tr>\n    <tr>\n      <th>(-2, 2, -2, -2, 2, 2)</th>\n      <td>3</td>\n    </tr>\n  </tbody>\n</table>\n</div>"
     },
     "metadata": {},
     "execution_count": 183
    }
   ],
   "source": [
    "pattern_inventory = pd.DataFrame(output_exact.groupby(\"pattern_generating_match\").size().sort_values(ascending=True)[:10])\n",
    "pattern_inventory"
   ]
  },
  {
   "cell_type": "markdown",
   "metadata": {},
   "source": [
    "***\n",
    "\n",
    "### Select Close Matches Here\n",
    "#### (Comment out the 'for item iteration' in order to skip screen preview)\n",
    "\n",
    "- **Close** matches allow for melodic variation (see more below). `find_close_matches(patterns, 2, 1)`\n",
    "- The **first number** in this command is the **minimum number of melodies** needed before reporting\n",
    "- The **second number** is **threshold of similarity** needed in order to find a match. \n",
    "- Lower number = very similar; higher number = less similar\n",
    "\n",
    "##### More about Close Matches  \n",
    "- The **threshold for close matches** is determined by the **second number** called in the method. \n",
    "- We select two patterns, then compare *each vector in each pattern successively*. \n",
    "- The *differences between each vector are summed*. \n",
    "- If that value is **below the threshold specified**, we consider the **two patterns closely matched**.\n",
    "- The format of the method call is  `find_close_matches(the array you get from into_patterns, minimum matches needed to be displayed, threshold for close match)`."
   ]
  },
  {
   "cell_type": "code",
   "execution_count": 203,
   "metadata": {
    "tags": []
   },
   "outputs": [
    {
     "output_type": "stream",
     "name": "stdout",
     "text": [
      "Finding close matches...\n",
      "60 melodic intervals had more than 1 exact or close matches.\n",
      "\n"
     ]
    },
    {
     "output_type": "execute_result",
     "data": {
      "text/plain": [
       "  pattern_generating_match      pattern_matched         piece_title  \\\n",
       "0      (1, 1, 3, 1, 2, -4)  [1, 1, 3, 1, 2, -4]  Je suis déshéritée   \n",
       "1      (1, 1, 3, 1, 2, -4)  [1, 1, 3, 1, 2, -4]  Je suis déshéritée   \n",
       "2      (1, 1, 3, 1, 2, -4)  [1, 1, 3, 1, 2, -3]  Je suis déshéritée   \n",
       "3      (1, 1, 3, 1, 2, -4)  [1, 1, 3, 1, 2, -4]  Je suis déshéritée   \n",
       "4      (1, 1, 3, 1, 2, -4)  [1, 1, 3, 1, 2, -4]  Je suis déshéritée   \n",
       "\n",
       "          part  start_measure  end_measure  \\\n",
       "0     Superius              3            5   \n",
       "1     Superius             11           13   \n",
       "2  Contratenor              9           11   \n",
       "3        Tenor              1            3   \n",
       "4        Tenor              9           11   \n",
       "\n",
       "                         note_durations  \\\n",
       "0   [4.0, 2.0, 2.0, 2.0, 2.0, 4.0, 8.0]   \n",
       "1   [4.0, 2.0, 2.0, 2.0, 2.0, 4.0, 8.0]   \n",
       "2   [2.0, 2.0, 2.0, 2.0, 2.0, 2.0, 4.0]   \n",
       "3   [4.0, 2.0, 2.0, 2.0, 2.0, 4.0, 8.0]   \n",
       "4  [4.0, 2.0, 2.0, 2.0, 2.0, 4.0, 12.0]   \n",
       "\n",
       "                                      ema  \\\n",
       "0    3-5/1/@1.0-end,@start-end,@start-1.0   \n",
       "1  11-13/1/@1.0-end,@start-end,@start-1.0   \n",
       "2   9-11/2/@4.0-end,@start-end,@start-2.0   \n",
       "3    1-3/3/@3.0-end,@start-end,@start-3.0   \n",
       "4   9-11/3/@1.0-end,@start-end,@start-1.0   \n",
       "\n",
       "                                             ema_url  \n",
       "0  https://ema.crimproject.org/https%3A%2F%2Fcrim...  \n",
       "1  https://ema.crimproject.org/https%3A%2F%2Fcrim...  \n",
       "2  https://ema.crimproject.org/https%3A%2F%2Fcrim...  \n",
       "3  https://ema.crimproject.org/https%3A%2F%2Fcrim...  \n",
       "4  https://ema.crimproject.org/https%3A%2F%2Fcrim...  "
      ],
      "text/html": "<div>\n<style scoped>\n    .dataframe tbody tr th:only-of-type {\n        vertical-align: middle;\n    }\n\n    .dataframe tbody tr th {\n        vertical-align: top;\n    }\n\n    .dataframe thead th {\n        text-align: right;\n    }\n</style>\n<table border=\"1\" class=\"dataframe\">\n  <thead>\n    <tr style=\"text-align: right;\">\n      <th></th>\n      <th>pattern_generating_match</th>\n      <th>pattern_matched</th>\n      <th>piece_title</th>\n      <th>part</th>\n      <th>start_measure</th>\n      <th>end_measure</th>\n      <th>note_durations</th>\n      <th>ema</th>\n      <th>ema_url</th>\n    </tr>\n  </thead>\n  <tbody>\n    <tr>\n      <th>0</th>\n      <td>(1, 1, 3, 1, 2, -4)</td>\n      <td>[1, 1, 3, 1, 2, -4]</td>\n      <td>Je suis déshéritée</td>\n      <td>Superius</td>\n      <td>3</td>\n      <td>5</td>\n      <td>[4.0, 2.0, 2.0, 2.0, 2.0, 4.0, 8.0]</td>\n      <td>3-5/1/@1.0-end,@start-end,@start-1.0</td>\n      <td>https://ema.crimproject.org/https%3A%2F%2Fcrim...</td>\n    </tr>\n    <tr>\n      <th>1</th>\n      <td>(1, 1, 3, 1, 2, -4)</td>\n      <td>[1, 1, 3, 1, 2, -4]</td>\n      <td>Je suis déshéritée</td>\n      <td>Superius</td>\n      <td>11</td>\n      <td>13</td>\n      <td>[4.0, 2.0, 2.0, 2.0, 2.0, 4.0, 8.0]</td>\n      <td>11-13/1/@1.0-end,@start-end,@start-1.0</td>\n      <td>https://ema.crimproject.org/https%3A%2F%2Fcrim...</td>\n    </tr>\n    <tr>\n      <th>2</th>\n      <td>(1, 1, 3, 1, 2, -4)</td>\n      <td>[1, 1, 3, 1, 2, -3]</td>\n      <td>Je suis déshéritée</td>\n      <td>Contratenor</td>\n      <td>9</td>\n      <td>11</td>\n      <td>[2.0, 2.0, 2.0, 2.0, 2.0, 2.0, 4.0]</td>\n      <td>9-11/2/@4.0-end,@start-end,@start-2.0</td>\n      <td>https://ema.crimproject.org/https%3A%2F%2Fcrim...</td>\n    </tr>\n    <tr>\n      <th>3</th>\n      <td>(1, 1, 3, 1, 2, -4)</td>\n      <td>[1, 1, 3, 1, 2, -4]</td>\n      <td>Je suis déshéritée</td>\n      <td>Tenor</td>\n      <td>1</td>\n      <td>3</td>\n      <td>[4.0, 2.0, 2.0, 2.0, 2.0, 4.0, 8.0]</td>\n      <td>1-3/3/@3.0-end,@start-end,@start-3.0</td>\n      <td>https://ema.crimproject.org/https%3A%2F%2Fcrim...</td>\n    </tr>\n    <tr>\n      <th>4</th>\n      <td>(1, 1, 3, 1, 2, -4)</td>\n      <td>[1, 1, 3, 1, 2, -4]</td>\n      <td>Je suis déshéritée</td>\n      <td>Tenor</td>\n      <td>9</td>\n      <td>11</td>\n      <td>[4.0, 2.0, 2.0, 2.0, 2.0, 4.0, 12.0]</td>\n      <td>9-11/3/@1.0-end,@start-end,@start-1.0</td>\n      <td>https://ema.crimproject.org/https%3A%2F%2Fcrim...</td>\n    </tr>\n  </tbody>\n</table>\n</div>"
     },
     "metadata": {},
     "execution_count": 203
    }
   ],
   "source": [
    "close_matches = find_close_matches(patterns, 1, 1)\n",
    "#for item in close_matches:\n",
    "   #item.print_close_matches()\n",
    "    #return pd.DataFrame(close_matches)\n",
    "\n",
    "output_close = export_pandas(close_matches)\n",
    "output_close[\"pattern_generating_match\"] = output_close[\"pattern_generating_match\"].apply(tuple)\n",
    "\n",
    "results = pd.DataFrame(output_close)\n",
    "results[\"pattern_generating_match\"] = results[\"pattern_generating_match\"].apply(tuple)\n",
    "results.head()\n",
    "#export_to_csv(close_matches)"
   ]
  },
  {
   "source": [
    "### How Many Unique Soggetti?  How many instances?"
   ],
   "cell_type": "markdown",
   "metadata": {}
  },
  {
   "cell_type": "code",
   "execution_count": 204,
   "metadata": {},
   "outputs": [
    {
     "output_type": "execute_result",
     "data": {
      "text/plain": [
       "'There are 60 unique soggetti and 187 total matches in this search'"
      ]
     },
     "metadata": {},
     "execution_count": 204
    }
   ],
   "source": [
    "total_matches = len(output_close)\n",
    "unique_sogetti = output_close.pattern_generating_match.apply(str).nunique()\n",
    "summary = 'There are {} unique soggetti and {} total matches in this search'.format(unique_sogetti, total_matches)\n",
    "summary"
   ]
  },
  {
   "cell_type": "markdown",
   "metadata": {},
   "source": [
    "### Top and Bottom Ten Soggetti\n",
    "\n",
    "\n"
   ]
  },
  {
   "cell_type": "code",
   "execution_count": 164,
   "metadata": {},
   "outputs": [
    {
     "output_type": "execute_result",
     "data": {
      "text/plain": [
       "                          0\n",
       "pattern_generating_match   \n",
       "(1, 2, 2, -2, -2, -2)     6\n",
       "(1, 1, 3, 1, 2, -3)       5\n",
       "(2, -2, -2, -2, 2, -2)    5\n",
       "(2, -3, -2, -2, 2, -2)    5\n",
       "(1, 1, 3, 1, 2, -4)       5\n",
       "(1, 1, -2, -2, -2, 2)     5\n",
       "(1, 1, -2, -2, -2, 1)     5\n",
       "(2, 2, 2, -2, -2, -2)     5\n",
       "(-2, -2, 3, -2, -2, 2)    4\n",
       "(-2, -2, 2, 2, 2, 2)      4"
      ],
      "text/html": "<div>\n<style scoped>\n    .dataframe tbody tr th:only-of-type {\n        vertical-align: middle;\n    }\n\n    .dataframe tbody tr th {\n        vertical-align: top;\n    }\n\n    .dataframe thead th {\n        text-align: right;\n    }\n</style>\n<table border=\"1\" class=\"dataframe\">\n  <thead>\n    <tr style=\"text-align: right;\">\n      <th></th>\n      <th>0</th>\n    </tr>\n    <tr>\n      <th>pattern_generating_match</th>\n      <th></th>\n    </tr>\n  </thead>\n  <tbody>\n    <tr>\n      <th>(1, 2, 2, -2, -2, -2)</th>\n      <td>6</td>\n    </tr>\n    <tr>\n      <th>(1, 1, 3, 1, 2, -3)</th>\n      <td>5</td>\n    </tr>\n    <tr>\n      <th>(2, -2, -2, -2, 2, -2)</th>\n      <td>5</td>\n    </tr>\n    <tr>\n      <th>(2, -3, -2, -2, 2, -2)</th>\n      <td>5</td>\n    </tr>\n    <tr>\n      <th>(1, 1, 3, 1, 2, -4)</th>\n      <td>5</td>\n    </tr>\n    <tr>\n      <th>(1, 1, -2, -2, -2, 2)</th>\n      <td>5</td>\n    </tr>\n    <tr>\n      <th>(1, 1, -2, -2, -2, 1)</th>\n      <td>5</td>\n    </tr>\n    <tr>\n      <th>(2, 2, 2, -2, -2, -2)</th>\n      <td>5</td>\n    </tr>\n    <tr>\n      <th>(-2, -2, 3, -2, -2, 2)</th>\n      <td>4</td>\n    </tr>\n    <tr>\n      <th>(-2, -2, 2, 2, 2, 2)</th>\n      <td>4</td>\n    </tr>\n  </tbody>\n</table>\n</div>"
     },
     "metadata": {},
     "execution_count": 164
    }
   ],
   "source": [
    "pattern_inventory = pd.DataFrame(output_close.groupby(\"pattern_generating_match\").size().sort_values(ascending=False)[:10])\n",
    "pattern_inventory"
   ]
  },
  {
   "cell_type": "code",
   "execution_count": 165,
   "metadata": {},
   "outputs": [
    {
     "output_type": "execute_result",
     "data": {
      "text/plain": [
       "                          0\n",
       "pattern_generating_match   \n",
       "(-3, -2, -3, 2, 2, 2)     2\n",
       "(2, -3, -2, -3, 2, 2)     2\n",
       "(1, 3, -2, -2, -2, -2)    2\n",
       "(1, 2, 3, 1, -2, 2)       2\n",
       "(2, 1, -2, 2, 2, 2)       2\n",
       "(1, 2, -2, -2, 2, -2)     2\n",
       "(1, 2, -2, -2, 2, -3)     2\n",
       "(1, 1, 4, -2, -2, -2)     2\n",
       "(2, 2, -2, -2, -2, -2)    2\n",
       "(2, 2, -2, -2, -2, 1)     2"
      ],
      "text/html": "<div>\n<style scoped>\n    .dataframe tbody tr th:only-of-type {\n        vertical-align: middle;\n    }\n\n    .dataframe tbody tr th {\n        vertical-align: top;\n    }\n\n    .dataframe thead th {\n        text-align: right;\n    }\n</style>\n<table border=\"1\" class=\"dataframe\">\n  <thead>\n    <tr style=\"text-align: right;\">\n      <th></th>\n      <th>0</th>\n    </tr>\n    <tr>\n      <th>pattern_generating_match</th>\n      <th></th>\n    </tr>\n  </thead>\n  <tbody>\n    <tr>\n      <th>(-3, -2, -3, 2, 2, 2)</th>\n      <td>2</td>\n    </tr>\n    <tr>\n      <th>(2, -3, -2, -3, 2, 2)</th>\n      <td>2</td>\n    </tr>\n    <tr>\n      <th>(1, 3, -2, -2, -2, -2)</th>\n      <td>2</td>\n    </tr>\n    <tr>\n      <th>(1, 2, 3, 1, -2, 2)</th>\n      <td>2</td>\n    </tr>\n    <tr>\n      <th>(2, 1, -2, 2, 2, 2)</th>\n      <td>2</td>\n    </tr>\n    <tr>\n      <th>(1, 2, -2, -2, 2, -2)</th>\n      <td>2</td>\n    </tr>\n    <tr>\n      <th>(1, 2, -2, -2, 2, -3)</th>\n      <td>2</td>\n    </tr>\n    <tr>\n      <th>(1, 1, 4, -2, -2, -2)</th>\n      <td>2</td>\n    </tr>\n    <tr>\n      <th>(2, 2, -2, -2, -2, -2)</th>\n      <td>2</td>\n    </tr>\n    <tr>\n      <th>(2, 2, -2, -2, -2, 1)</th>\n      <td>2</td>\n    </tr>\n  </tbody>\n</table>\n</div>"
     },
     "metadata": {},
     "execution_count": 165
    }
   ],
   "source": [
    "pattern_inventory = pd.DataFrame(output_close.groupby(\"pattern_generating_match\").size().sort_values(ascending=True)[:10])\n",
    "pattern_inventory\n"
   ]
  },
  {
   "cell_type": "code",
   "execution_count": null,
   "metadata": {},
   "outputs": [],
   "source": [
    "### Grouping the Melodic Matches (No Durational Filter)\n",
    "\n",
    "- This shows us the number each"
   ]
  },
  {
   "cell_type": "code",
   "execution_count": 223,
   "metadata": {},
   "outputs": [
    {
     "output_type": "execute_result",
     "data": {
      "text/plain": [
       "                                                               0\n",
       "pattern_generating_match note_durations                         \n",
       "(-3, -2, -3, 2, 2, 2)    (2.0, 2.0, 2.0, 1.0, 1.0, 1.0, 1.0)   2\n",
       "(-3, 2, -2, -2, -2, 2)   (1.0, 1.0, 1.0, 1.0, 1.0, 1.0, 4.0)   4\n",
       "(-3, 2, 2, 2, 2, -3)     (2.0, 1.0, 1.0, 1.0, 1.0, 1.0, 1.0)   2\n",
       "(-3, 2, 2, 2, 2, -2)     (2.0, 1.0, 1.0, 1.0, 1.0, 3.0, 1.0)   1\n",
       "                         (2.0, 3.0, 1.0, 1.0, 1.0, 2.0, 2.0)   1\n",
       "(-2, -3, 2, 2, 2, 2)     (2.0, 2.0, 1.0, 1.0, 1.0, 1.0, 1.0)   2\n",
       "                         (2.0, 2.0, 1.0, 1.0, 1.0, 1.0, 3.0)   1\n",
       "(-2, -2, 2, -2, -2, 2)   (1.0, 1.0, 1.0, 4.0, 3.0, 1.0, 1.0)   1\n",
       "                         (4.0, 1.0, 1.0, 4.0, 1.0, 1.0, 1.0)   1\n",
       "                         (6.0, 1.0, 1.0, 4.0, 1.0, 1.0, 1.0)   1\n",
       "(-2, -2, 2, 2, 2, -2)    (4.0, 1.0, 1.0, 1.0, 1.0, 3.0, 0.5)   2\n",
       "                         (4.0, 2.0, 3.0, 1.0, 2.0, 3.0, 1.0)   1\n",
       "(-2, 2, -2, -2, 2, 2)    (1.0, 1.0, 4.0, 1.0, 1.0, 1.0, 1.0)   2\n",
       "                         (1.0, 1.0, 4.0, 3.0, 1.0, 1.0, 1.0)   1\n",
       "(-2, 2, 2, 2, -2, -2)    (1.0, 1.0, 1.0, 1.0, 3.0, 0.5, 0.5)   2\n",
       "                         (2.0, 3.0, 1.0, 2.0, 3.0, 1.0, 1.0)   1\n",
       "(1, -3, 2, 2, 2, 2)      (2.0, 2.0, 1.0, 1.0, 1.0, 1.0, 2.0)   1\n",
       "                         (4.0, 2.0, 3.0, 1.0, 1.0, 1.0, 2.0)   1\n",
       "(1, -2, -2, -2, 2, -4)   (2.0, 2.0, 2.0, 4.0, 2.0, 4.0, 8.0)   3\n",
       "(1, 1, -2, -2, -2, 2)    (2.0, 2.0, 2.0, 2.0, 4.0, 2.0, 3.0)   1\n",
       "                         (2.0, 2.0, 2.0, 2.0, 4.0, 2.0, 4.0)   3\n",
       "(1, 1, 3, 1, 2, -4)      (4.0, 2.0, 2.0, 2.0, 2.0, 4.0, 8.0)   3\n",
       "                         (4.0, 2.0, 2.0, 2.0, 2.0, 4.0, 12.0)  1\n",
       "(1, 2, 3, 1, -2, 2)      (4.0, 2.0, 2.0, 2.0, 2.0, 2.0, 2.0)   2\n",
       "(2, -3, -2, -3, 2, 2)    (2.0, 2.0, 2.0, 2.0, 1.0, 1.0, 1.0)   2\n",
       "(2, -3, 2, -2, -2, -2)   (1.0, 1.0, 1.0, 1.0, 1.0, 1.0, 1.0)   4\n",
       "(2, -2, -2, -2, 2, -2)   (1.0, 1.0, 1.0, 1.0, 1.0, 4.0, 2.0)   2\n",
       "                         (1.0, 1.0, 1.0, 1.0, 1.0, 4.0, 3.0)   1\n",
       "                         (1.0, 1.0, 1.0, 1.0, 1.0, 4.0, 4.0)   1\n",
       "(2, -2, -2, 2, 2, 2)     (1.0, 4.0, 1.0, 1.0, 1.0, 1.0, 3.0)   2\n",
       "                         (1.0, 4.0, 3.0, 1.0, 1.0, 1.0, 2.0)   1\n",
       "(2, 2, -3, 2, -2, -2)    (1.0, 1.0, 1.0, 1.0, 1.0, 1.0, 1.0)   4\n",
       "(2, 2, 2, -3, 2, -2)     (1.0, 1.0, 1.0, 1.0, 1.0, 1.0, 1.0)   3\n",
       "                         (2.0, 1.0, 1.0, 1.0, 1.0, 1.0, 1.0)   1\n",
       "(2, 2, 2, -2, -2, -2)    (1.0, 1.0, 1.0, 3.0, 0.5, 0.5, 4.0)   2\n",
       "                         (1.0, 1.0, 1.0, 3.0, 1.0, 2.0, 4.0)   1\n",
       "                         (3.0, 1.0, 2.0, 3.0, 1.0, 1.0, 1.0)   1\n",
       "(2, 2, 2, 2, -3, 2)      (1.0, 1.0, 1.0, 1.0, 1.0, 1.0, 1.0)   2\n",
       "                         (3.0, 1.0, 1.0, 1.0, 1.0, 1.0, 1.0)   1\n",
       "(2, 2, 2, 2, 2, 3)       (1.0, 1.0, 1.0, 1.0, 2.0, 2.0, 4.0)   1\n",
       "                         (3.0, 1.0, 1.0, 1.0, 2.0, 2.0, 4.0)   1\n",
       "(2, 2, 2, 2, 3, -2)      (1.0, 1.0, 1.0, 2.0, 2.0, 4.0, 2.0)   1\n",
       "                         (1.0, 1.0, 1.0, 2.0, 2.0, 4.0, 3.0)   1"
      ],
      "text/html": "<div>\n<style scoped>\n    .dataframe tbody tr th:only-of-type {\n        vertical-align: middle;\n    }\n\n    .dataframe tbody tr th {\n        vertical-align: top;\n    }\n\n    .dataframe thead th {\n        text-align: right;\n    }\n</style>\n<table border=\"1\" class=\"dataframe\">\n  <thead>\n    <tr style=\"text-align: right;\">\n      <th></th>\n      <th></th>\n      <th>0</th>\n    </tr>\n    <tr>\n      <th>pattern_generating_match</th>\n      <th>note_durations</th>\n      <th></th>\n    </tr>\n  </thead>\n  <tbody>\n    <tr>\n      <th>(-3, -2, -3, 2, 2, 2)</th>\n      <th>(2.0, 2.0, 2.0, 1.0, 1.0, 1.0, 1.0)</th>\n      <td>2</td>\n    </tr>\n    <tr>\n      <th>(-3, 2, -2, -2, -2, 2)</th>\n      <th>(1.0, 1.0, 1.0, 1.0, 1.0, 1.0, 4.0)</th>\n      <td>4</td>\n    </tr>\n    <tr>\n      <th>(-3, 2, 2, 2, 2, -3)</th>\n      <th>(2.0, 1.0, 1.0, 1.0, 1.0, 1.0, 1.0)</th>\n      <td>2</td>\n    </tr>\n    <tr>\n      <th rowspan=\"2\" valign=\"top\">(-3, 2, 2, 2, 2, -2)</th>\n      <th>(2.0, 1.0, 1.0, 1.0, 1.0, 3.0, 1.0)</th>\n      <td>1</td>\n    </tr>\n    <tr>\n      <th>(2.0, 3.0, 1.0, 1.0, 1.0, 2.0, 2.0)</th>\n      <td>1</td>\n    </tr>\n    <tr>\n      <th rowspan=\"2\" valign=\"top\">(-2, -3, 2, 2, 2, 2)</th>\n      <th>(2.0, 2.0, 1.0, 1.0, 1.0, 1.0, 1.0)</th>\n      <td>2</td>\n    </tr>\n    <tr>\n      <th>(2.0, 2.0, 1.0, 1.0, 1.0, 1.0, 3.0)</th>\n      <td>1</td>\n    </tr>\n    <tr>\n      <th rowspan=\"3\" valign=\"top\">(-2, -2, 2, -2, -2, 2)</th>\n      <th>(1.0, 1.0, 1.0, 4.0, 3.0, 1.0, 1.0)</th>\n      <td>1</td>\n    </tr>\n    <tr>\n      <th>(4.0, 1.0, 1.0, 4.0, 1.0, 1.0, 1.0)</th>\n      <td>1</td>\n    </tr>\n    <tr>\n      <th>(6.0, 1.0, 1.0, 4.0, 1.0, 1.0, 1.0)</th>\n      <td>1</td>\n    </tr>\n    <tr>\n      <th rowspan=\"2\" valign=\"top\">(-2, -2, 2, 2, 2, -2)</th>\n      <th>(4.0, 1.0, 1.0, 1.0, 1.0, 3.0, 0.5)</th>\n      <td>2</td>\n    </tr>\n    <tr>\n      <th>(4.0, 2.0, 3.0, 1.0, 2.0, 3.0, 1.0)</th>\n      <td>1</td>\n    </tr>\n    <tr>\n      <th rowspan=\"2\" valign=\"top\">(-2, 2, -2, -2, 2, 2)</th>\n      <th>(1.0, 1.0, 4.0, 1.0, 1.0, 1.0, 1.0)</th>\n      <td>2</td>\n    </tr>\n    <tr>\n      <th>(1.0, 1.0, 4.0, 3.0, 1.0, 1.0, 1.0)</th>\n      <td>1</td>\n    </tr>\n    <tr>\n      <th rowspan=\"2\" valign=\"top\">(-2, 2, 2, 2, -2, -2)</th>\n      <th>(1.0, 1.0, 1.0, 1.0, 3.0, 0.5, 0.5)</th>\n      <td>2</td>\n    </tr>\n    <tr>\n      <th>(2.0, 3.0, 1.0, 2.0, 3.0, 1.0, 1.0)</th>\n      <td>1</td>\n    </tr>\n    <tr>\n      <th rowspan=\"2\" valign=\"top\">(1, -3, 2, 2, 2, 2)</th>\n      <th>(2.0, 2.0, 1.0, 1.0, 1.0, 1.0, 2.0)</th>\n      <td>1</td>\n    </tr>\n    <tr>\n      <th>(4.0, 2.0, 3.0, 1.0, 1.0, 1.0, 2.0)</th>\n      <td>1</td>\n    </tr>\n    <tr>\n      <th>(1, -2, -2, -2, 2, -4)</th>\n      <th>(2.0, 2.0, 2.0, 4.0, 2.0, 4.0, 8.0)</th>\n      <td>3</td>\n    </tr>\n    <tr>\n      <th rowspan=\"2\" valign=\"top\">(1, 1, -2, -2, -2, 2)</th>\n      <th>(2.0, 2.0, 2.0, 2.0, 4.0, 2.0, 3.0)</th>\n      <td>1</td>\n    </tr>\n    <tr>\n      <th>(2.0, 2.0, 2.0, 2.0, 4.0, 2.0, 4.0)</th>\n      <td>3</td>\n    </tr>\n    <tr>\n      <th rowspan=\"2\" valign=\"top\">(1, 1, 3, 1, 2, -4)</th>\n      <th>(4.0, 2.0, 2.0, 2.0, 2.0, 4.0, 8.0)</th>\n      <td>3</td>\n    </tr>\n    <tr>\n      <th>(4.0, 2.0, 2.0, 2.0, 2.0, 4.0, 12.0)</th>\n      <td>1</td>\n    </tr>\n    <tr>\n      <th>(1, 2, 3, 1, -2, 2)</th>\n      <th>(4.0, 2.0, 2.0, 2.0, 2.0, 2.0, 2.0)</th>\n      <td>2</td>\n    </tr>\n    <tr>\n      <th>(2, -3, -2, -3, 2, 2)</th>\n      <th>(2.0, 2.0, 2.0, 2.0, 1.0, 1.0, 1.0)</th>\n      <td>2</td>\n    </tr>\n    <tr>\n      <th>(2, -3, 2, -2, -2, -2)</th>\n      <th>(1.0, 1.0, 1.0, 1.0, 1.0, 1.0, 1.0)</th>\n      <td>4</td>\n    </tr>\n    <tr>\n      <th rowspan=\"3\" valign=\"top\">(2, -2, -2, -2, 2, -2)</th>\n      <th>(1.0, 1.0, 1.0, 1.0, 1.0, 4.0, 2.0)</th>\n      <td>2</td>\n    </tr>\n    <tr>\n      <th>(1.0, 1.0, 1.0, 1.0, 1.0, 4.0, 3.0)</th>\n      <td>1</td>\n    </tr>\n    <tr>\n      <th>(1.0, 1.0, 1.0, 1.0, 1.0, 4.0, 4.0)</th>\n      <td>1</td>\n    </tr>\n    <tr>\n      <th rowspan=\"2\" valign=\"top\">(2, -2, -2, 2, 2, 2)</th>\n      <th>(1.0, 4.0, 1.0, 1.0, 1.0, 1.0, 3.0)</th>\n      <td>2</td>\n    </tr>\n    <tr>\n      <th>(1.0, 4.0, 3.0, 1.0, 1.0, 1.0, 2.0)</th>\n      <td>1</td>\n    </tr>\n    <tr>\n      <th>(2, 2, -3, 2, -2, -2)</th>\n      <th>(1.0, 1.0, 1.0, 1.0, 1.0, 1.0, 1.0)</th>\n      <td>4</td>\n    </tr>\n    <tr>\n      <th rowspan=\"2\" valign=\"top\">(2, 2, 2, -3, 2, -2)</th>\n      <th>(1.0, 1.0, 1.0, 1.0, 1.0, 1.0, 1.0)</th>\n      <td>3</td>\n    </tr>\n    <tr>\n      <th>(2.0, 1.0, 1.0, 1.0, 1.0, 1.0, 1.0)</th>\n      <td>1</td>\n    </tr>\n    <tr>\n      <th rowspan=\"3\" valign=\"top\">(2, 2, 2, -2, -2, -2)</th>\n      <th>(1.0, 1.0, 1.0, 3.0, 0.5, 0.5, 4.0)</th>\n      <td>2</td>\n    </tr>\n    <tr>\n      <th>(1.0, 1.0, 1.0, 3.0, 1.0, 2.0, 4.0)</th>\n      <td>1</td>\n    </tr>\n    <tr>\n      <th>(3.0, 1.0, 2.0, 3.0, 1.0, 1.0, 1.0)</th>\n      <td>1</td>\n    </tr>\n    <tr>\n      <th rowspan=\"2\" valign=\"top\">(2, 2, 2, 2, -3, 2)</th>\n      <th>(1.0, 1.0, 1.0, 1.0, 1.0, 1.0, 1.0)</th>\n      <td>2</td>\n    </tr>\n    <tr>\n      <th>(3.0, 1.0, 1.0, 1.0, 1.0, 1.0, 1.0)</th>\n      <td>1</td>\n    </tr>\n    <tr>\n      <th rowspan=\"2\" valign=\"top\">(2, 2, 2, 2, 2, 3)</th>\n      <th>(1.0, 1.0, 1.0, 1.0, 2.0, 2.0, 4.0)</th>\n      <td>1</td>\n    </tr>\n    <tr>\n      <th>(3.0, 1.0, 1.0, 1.0, 2.0, 2.0, 4.0)</th>\n      <td>1</td>\n    </tr>\n    <tr>\n      <th rowspan=\"2\" valign=\"top\">(2, 2, 2, 2, 3, -2)</th>\n      <th>(1.0, 1.0, 1.0, 2.0, 2.0, 4.0, 2.0)</th>\n      <td>1</td>\n    </tr>\n    <tr>\n      <th>(1.0, 1.0, 1.0, 2.0, 2.0, 4.0, 3.0)</th>\n      <td>1</td>\n    </tr>\n  </tbody>\n</table>\n</div>"
     },
     "metadata": {},
     "execution_count": 223
    }
   ],
   "source": [
    "results[\"note_durations\"] = results[\"note_durations\"].apply(tuple)\n",
    "df2 = pd.DataFrame(results.groupby([\"pattern_generating_match\", \"note_durations\"]).size())\n",
    "df2.head(50)"
   ]
  },
  {
   "cell_type": "markdown",
   "metadata": {},
   "source": [
    "***\n",
    "\n",
    "### Classify Patterns Here \n",
    "#### Note:  depends on choice of Close or Exact above!  Must choose appropriate one below!\n",
    "#### Enable \"export_to_csv\" line to allow this within Notebook (must answer \"Y\" and provide filename)\n",
    "\n",
    "### note that the classifier can only find patterns with AT LEAST THREE entries!  2-voice fugas are invisible at the moment.  Could be added!"
   ]
  },
  {
   "cell_type": "code",
   "execution_count": 167,
   "metadata": {
    "jupyter": {
     "outputs_hidden": true
    },
    "tags": []
   },
   "outputs": [],
   "source": [
    "%%capture\n",
    "#classify_matches(close_matches, 1)\n",
    "#classify_matches(exact_matches, 2)\n",
    "cm = classify_matches(close_matches, 1)\n",
    "#pd.DataFrame(classified_matches)\n",
    "output_cm = export_pandas(cm)\n",
    "#pd.DataFrame(output).head()\n",
    "\n",
    "## For CSV export, use the following (and follow prompts for file name)\n",
    "\n",
    "#export_to_csv(cm)\n",
    "\n"
   ]
  },
  {
   "cell_type": "code",
   "execution_count": 168,
   "metadata": {},
   "outputs": [
    {
     "output_type": "execute_result",
     "data": {
      "text/plain": [
       "  pattern_generating_match        pattern_matched         piece_title  \\\n",
       "0    [1, 1, -2, -2, -2, 2]  [1, 1, -2, -2, -2, 2]  Je suis déshéritée   \n",
       "1    [1, 1, -2, -2, -2, 2]  [1, 1, -2, -2, -2, 2]  Je suis déshéritée   \n",
       "2    [1, 1, -2, -2, -2, 2]  [1, 1, -2, -2, -2, 2]  Je suis déshéritée   \n",
       "3    [1, 1, -2, -2, -2, 2]  [1, 1, -2, -2, -2, 2]  Je suis déshéritée   \n",
       "4     [2, 2, 2, -3, 2, -2]   [2, 2, 2, -3, 2, -2]  Je suis déshéritée   \n",
       "\n",
       "       part  start_measure  end_measure                       note_durations  \n",
       "0     Tenor              5            7  [2.0, 2.0, 2.0, 2.0, 4.0, 2.0, 4.0]  \n",
       "1  Superius              7            9  [2.0, 2.0, 2.0, 2.0, 4.0, 2.0, 4.0]  \n",
       "2     Tenor             13           15  [2.0, 2.0, 2.0, 2.0, 4.0, 2.0, 3.0]  \n",
       "3  Superius             15           17  [2.0, 2.0, 2.0, 2.0, 4.0, 2.0, 4.0]  \n",
       "4    Bassus              5            6  [1.0, 1.0, 1.0, 1.0, 1.0, 1.0, 1.0]  "
      ],
      "text/html": "<div>\n<style scoped>\n    .dataframe tbody tr th:only-of-type {\n        vertical-align: middle;\n    }\n\n    .dataframe tbody tr th {\n        vertical-align: top;\n    }\n\n    .dataframe thead th {\n        text-align: right;\n    }\n</style>\n<table border=\"1\" class=\"dataframe\">\n  <thead>\n    <tr style=\"text-align: right;\">\n      <th></th>\n      <th>pattern_generating_match</th>\n      <th>pattern_matched</th>\n      <th>piece_title</th>\n      <th>part</th>\n      <th>start_measure</th>\n      <th>end_measure</th>\n      <th>note_durations</th>\n    </tr>\n  </thead>\n  <tbody>\n    <tr>\n      <th>0</th>\n      <td>[1, 1, -2, -2, -2, 2]</td>\n      <td>[1, 1, -2, -2, -2, 2]</td>\n      <td>Je suis déshéritée</td>\n      <td>Tenor</td>\n      <td>5</td>\n      <td>7</td>\n      <td>[2.0, 2.0, 2.0, 2.0, 4.0, 2.0, 4.0]</td>\n    </tr>\n    <tr>\n      <th>1</th>\n      <td>[1, 1, -2, -2, -2, 2]</td>\n      <td>[1, 1, -2, -2, -2, 2]</td>\n      <td>Je suis déshéritée</td>\n      <td>Superius</td>\n      <td>7</td>\n      <td>9</td>\n      <td>[2.0, 2.0, 2.0, 2.0, 4.0, 2.0, 4.0]</td>\n    </tr>\n    <tr>\n      <th>2</th>\n      <td>[1, 1, -2, -2, -2, 2]</td>\n      <td>[1, 1, -2, -2, -2, 2]</td>\n      <td>Je suis déshéritée</td>\n      <td>Tenor</td>\n      <td>13</td>\n      <td>15</td>\n      <td>[2.0, 2.0, 2.0, 2.0, 4.0, 2.0, 3.0]</td>\n    </tr>\n    <tr>\n      <th>3</th>\n      <td>[1, 1, -2, -2, -2, 2]</td>\n      <td>[1, 1, -2, -2, -2, 2]</td>\n      <td>Je suis déshéritée</td>\n      <td>Superius</td>\n      <td>15</td>\n      <td>17</td>\n      <td>[2.0, 2.0, 2.0, 2.0, 4.0, 2.0, 4.0]</td>\n    </tr>\n    <tr>\n      <th>4</th>\n      <td>[2, 2, 2, -3, 2, -2]</td>\n      <td>[2, 2, 2, -3, 2, -2]</td>\n      <td>Je suis déshéritée</td>\n      <td>Bassus</td>\n      <td>5</td>\n      <td>6</td>\n      <td>[1.0, 1.0, 1.0, 1.0, 1.0, 1.0, 1.0]</td>\n    </tr>\n  </tbody>\n</table>\n</div>"
     },
     "metadata": {},
     "execution_count": 168
    }
   ],
   "source": [
    "short_out = output_cm.drop(columns=[\"ema_url\", \"ema\"])\n",
    "short_out.head()"
   ]
  },
  {
   "cell_type": "code",
   "execution_count": 169,
   "metadata": {},
   "outputs": [],
   "source": [
    "def classified_matches_to_pandas(matches):\n",
    "    \n",
    "    soggetti_matches = []\n",
    "    \n",
    "    for i, cm in enumerate(matches):\n",
    "        \n",
    "        for j, soggetti in enumerate(cm.matches):\n",
    "            \n",
    "            soggetti_matches.append({\n",
    "                \"piece\": soggetti.first_note.metadata.title,\n",
    "                \"type\": cm.type,\n",
    "                \"part\": soggetti.first_note.part.strip(\"[] \"),\n",
    "                \"bar\": soggetti.first_note.note.measureNumber,\n",
    "                \"entry_number\": j + 1,\n",
    "                \"pattern\": cm.pattern,\n",
    "                \"match_number\": i + 1\n",
    "            })\n",
    "    return pd.DataFrame(soggetti_matches)"
   ]
  },
  {
   "cell_type": "code",
   "execution_count": 172,
   "metadata": {},
   "outputs": [
    {
     "output_type": "execute_result",
     "data": {
      "text/plain": [
       "                 piece           type      part  bar  entry_number  \\\n",
       "0   Je suis déshéritée  imitative duo     Tenor    5             1   \n",
       "4   Je suis déshéritée           fuga    Bassus    5             1   \n",
       "16  Je suis déshéritée  imitative duo     Tenor    5             1   \n",
       "7   Je suis déshéritée           fuga    Bassus    5             1   \n",
       "10  Je suis déshéritée           fuga    Bassus    5             1   \n",
       "13  Je suis déshéritée           fuga    Bassus    5             1   \n",
       "1   Je suis déshéritée  imitative duo  Superius    7             2   \n",
       "17  Je suis déshéritée  imitative duo  Superius    7             2   \n",
       "2   Je suis déshéritée  imitative duo     Tenor   13             3   \n",
       "5   Je suis déshéritée           fuga    Bassus   13             2   \n",
       "8   Je suis déshéritée           fuga    Bassus   13             2   \n",
       "18  Je suis déshéritée  imitative duo     Tenor   13             3   \n",
       "11  Je suis déshéritée           fuga    Bassus   13             2   \n",
       "14  Je suis déshéritée           fuga    Bassus   13             2   \n",
       "15  Je suis déshéritée           fuga     Tenor   15             3   \n",
       "9   Je suis déshéritée           fuga     Tenor   15             3   \n",
       "6   Je suis déshéritée           fuga     Tenor   15             3   \n",
       "3   Je suis déshéritée  imitative duo  Superius   15             4   \n",
       "12  Je suis déshéritée           fuga     Tenor   15             3   \n",
       "19  Je suis déshéritée  imitative duo  Superius   15             4   \n",
       "\n",
       "                   pattern  match_number  \n",
       "0    [1, 1, -2, -2, -2, 2]             1  \n",
       "4     [2, 2, 2, -3, 2, -2]             2  \n",
       "16   [1, 1, -2, -2, -2, 2]             6  \n",
       "7    [2, 2, -3, 2, -2, -2]             3  \n",
       "10  [2, -3, 2, -2, -2, -2]             4  \n",
       "13  [-3, 2, -2, -2, -2, 2]             5  \n",
       "1    [1, 1, -2, -2, -2, 2]             1  \n",
       "17   [1, 1, -2, -2, -2, 2]             6  \n",
       "2    [1, 1, -2, -2, -2, 2]             1  \n",
       "5     [2, 2, 2, -3, 2, -2]             2  \n",
       "8    [2, 2, -3, 2, -2, -2]             3  \n",
       "18   [1, 1, -2, -2, -2, 2]             6  \n",
       "11  [2, -3, 2, -2, -2, -2]             4  \n",
       "14  [-3, 2, -2, -2, -2, 2]             5  \n",
       "15  [-3, 2, -2, -2, -2, 2]             5  \n",
       "9    [2, 2, -3, 2, -2, -2]             3  \n",
       "6     [2, 2, 2, -3, 2, -2]             2  \n",
       "3    [1, 1, -2, -2, -2, 2]             1  \n",
       "12  [2, -3, 2, -2, -2, -2]             4  \n",
       "19   [1, 1, -2, -2, -2, 2]             6  "
      ],
      "text/html": "<div>\n<style scoped>\n    .dataframe tbody tr th:only-of-type {\n        vertical-align: middle;\n    }\n\n    .dataframe tbody tr th {\n        vertical-align: top;\n    }\n\n    .dataframe thead th {\n        text-align: right;\n    }\n</style>\n<table border=\"1\" class=\"dataframe\">\n  <thead>\n    <tr style=\"text-align: right;\">\n      <th></th>\n      <th>piece</th>\n      <th>type</th>\n      <th>part</th>\n      <th>bar</th>\n      <th>entry_number</th>\n      <th>pattern</th>\n      <th>match_number</th>\n    </tr>\n  </thead>\n  <tbody>\n    <tr>\n      <th>0</th>\n      <td>Je suis déshéritée</td>\n      <td>imitative duo</td>\n      <td>Tenor</td>\n      <td>5</td>\n      <td>1</td>\n      <td>[1, 1, -2, -2, -2, 2]</td>\n      <td>1</td>\n    </tr>\n    <tr>\n      <th>4</th>\n      <td>Je suis déshéritée</td>\n      <td>fuga</td>\n      <td>Bassus</td>\n      <td>5</td>\n      <td>1</td>\n      <td>[2, 2, 2, -3, 2, -2]</td>\n      <td>2</td>\n    </tr>\n    <tr>\n      <th>16</th>\n      <td>Je suis déshéritée</td>\n      <td>imitative duo</td>\n      <td>Tenor</td>\n      <td>5</td>\n      <td>1</td>\n      <td>[1, 1, -2, -2, -2, 2]</td>\n      <td>6</td>\n    </tr>\n    <tr>\n      <th>7</th>\n      <td>Je suis déshéritée</td>\n      <td>fuga</td>\n      <td>Bassus</td>\n      <td>5</td>\n      <td>1</td>\n      <td>[2, 2, -3, 2, -2, -2]</td>\n      <td>3</td>\n    </tr>\n    <tr>\n      <th>10</th>\n      <td>Je suis déshéritée</td>\n      <td>fuga</td>\n      <td>Bassus</td>\n      <td>5</td>\n      <td>1</td>\n      <td>[2, -3, 2, -2, -2, -2]</td>\n      <td>4</td>\n    </tr>\n    <tr>\n      <th>13</th>\n      <td>Je suis déshéritée</td>\n      <td>fuga</td>\n      <td>Bassus</td>\n      <td>5</td>\n      <td>1</td>\n      <td>[-3, 2, -2, -2, -2, 2]</td>\n      <td>5</td>\n    </tr>\n    <tr>\n      <th>1</th>\n      <td>Je suis déshéritée</td>\n      <td>imitative duo</td>\n      <td>Superius</td>\n      <td>7</td>\n      <td>2</td>\n      <td>[1, 1, -2, -2, -2, 2]</td>\n      <td>1</td>\n    </tr>\n    <tr>\n      <th>17</th>\n      <td>Je suis déshéritée</td>\n      <td>imitative duo</td>\n      <td>Superius</td>\n      <td>7</td>\n      <td>2</td>\n      <td>[1, 1, -2, -2, -2, 2]</td>\n      <td>6</td>\n    </tr>\n    <tr>\n      <th>2</th>\n      <td>Je suis déshéritée</td>\n      <td>imitative duo</td>\n      <td>Tenor</td>\n      <td>13</td>\n      <td>3</td>\n      <td>[1, 1, -2, -2, -2, 2]</td>\n      <td>1</td>\n    </tr>\n    <tr>\n      <th>5</th>\n      <td>Je suis déshéritée</td>\n      <td>fuga</td>\n      <td>Bassus</td>\n      <td>13</td>\n      <td>2</td>\n      <td>[2, 2, 2, -3, 2, -2]</td>\n      <td>2</td>\n    </tr>\n    <tr>\n      <th>8</th>\n      <td>Je suis déshéritée</td>\n      <td>fuga</td>\n      <td>Bassus</td>\n      <td>13</td>\n      <td>2</td>\n      <td>[2, 2, -3, 2, -2, -2]</td>\n      <td>3</td>\n    </tr>\n    <tr>\n      <th>18</th>\n      <td>Je suis déshéritée</td>\n      <td>imitative duo</td>\n      <td>Tenor</td>\n      <td>13</td>\n      <td>3</td>\n      <td>[1, 1, -2, -2, -2, 2]</td>\n      <td>6</td>\n    </tr>\n    <tr>\n      <th>11</th>\n      <td>Je suis déshéritée</td>\n      <td>fuga</td>\n      <td>Bassus</td>\n      <td>13</td>\n      <td>2</td>\n      <td>[2, -3, 2, -2, -2, -2]</td>\n      <td>4</td>\n    </tr>\n    <tr>\n      <th>14</th>\n      <td>Je suis déshéritée</td>\n      <td>fuga</td>\n      <td>Bassus</td>\n      <td>13</td>\n      <td>2</td>\n      <td>[-3, 2, -2, -2, -2, 2]</td>\n      <td>5</td>\n    </tr>\n    <tr>\n      <th>15</th>\n      <td>Je suis déshéritée</td>\n      <td>fuga</td>\n      <td>Tenor</td>\n      <td>15</td>\n      <td>3</td>\n      <td>[-3, 2, -2, -2, -2, 2]</td>\n      <td>5</td>\n    </tr>\n    <tr>\n      <th>9</th>\n      <td>Je suis déshéritée</td>\n      <td>fuga</td>\n      <td>Tenor</td>\n      <td>15</td>\n      <td>3</td>\n      <td>[2, 2, -3, 2, -2, -2]</td>\n      <td>3</td>\n    </tr>\n    <tr>\n      <th>6</th>\n      <td>Je suis déshéritée</td>\n      <td>fuga</td>\n      <td>Tenor</td>\n      <td>15</td>\n      <td>3</td>\n      <td>[2, 2, 2, -3, 2, -2]</td>\n      <td>2</td>\n    </tr>\n    <tr>\n      <th>3</th>\n      <td>Je suis déshéritée</td>\n      <td>imitative duo</td>\n      <td>Superius</td>\n      <td>15</td>\n      <td>4</td>\n      <td>[1, 1, -2, -2, -2, 2]</td>\n      <td>1</td>\n    </tr>\n    <tr>\n      <th>12</th>\n      <td>Je suis déshéritée</td>\n      <td>fuga</td>\n      <td>Tenor</td>\n      <td>15</td>\n      <td>3</td>\n      <td>[2, -3, 2, -2, -2, -2]</td>\n      <td>4</td>\n    </tr>\n    <tr>\n      <th>19</th>\n      <td>Je suis déshéritée</td>\n      <td>imitative duo</td>\n      <td>Superius</td>\n      <td>15</td>\n      <td>4</td>\n      <td>[1, 1, -2, -2, -2, 2]</td>\n      <td>6</td>\n    </tr>\n  </tbody>\n</table>\n</div>"
     },
     "metadata": {},
     "execution_count": 172
    }
   ],
   "source": [
    "df = classified_matches_to_pandas(cm)\n",
    "pd.set_option('display.max_rows', 50)\n",
    "df_sorted = df.sort_values(\"bar\")\n",
    "df_sorted"
   ]
  },
  {
   "cell_type": "code",
   "execution_count": 174,
   "metadata": {
    "scrolled": true
   },
   "outputs": [
    {
     "output_type": "execute_result",
     "data": {
      "text/plain": [
       "                                                                      bar_1  \\\n",
       "match_number piece              type          pattern                         \n",
       "1            Je suis déshéritée imitative duo (1, 1, -2, -2, -2, 2)     5.0   \n",
       "2            Je suis déshéritée fuga          (2, 2, 2, -3, 2, -2)      5.0   \n",
       "3            Je suis déshéritée fuga          (2, 2, -3, 2, -2, -2)     5.0   \n",
       "4            Je suis déshéritée fuga          (2, -3, 2, -2, -2, -2)    5.0   \n",
       "5            Je suis déshéritée fuga          (-3, 2, -2, -2, -2, 2)    5.0   \n",
       "6            Je suis déshéritée imitative duo (1, 1, -2, -2, -2, 2)     5.0   \n",
       "\n",
       "                                                                      bar_2  \\\n",
       "match_number piece              type          pattern                         \n",
       "1            Je suis déshéritée imitative duo (1, 1, -2, -2, -2, 2)     7.0   \n",
       "2            Je suis déshéritée fuga          (2, 2, 2, -3, 2, -2)     13.0   \n",
       "3            Je suis déshéritée fuga          (2, 2, -3, 2, -2, -2)    13.0   \n",
       "4            Je suis déshéritée fuga          (2, -3, 2, -2, -2, -2)   13.0   \n",
       "5            Je suis déshéritée fuga          (-3, 2, -2, -2, -2, 2)   13.0   \n",
       "6            Je suis déshéritée imitative duo (1, 1, -2, -2, -2, 2)     7.0   \n",
       "\n",
       "                                                                      bar_3  \\\n",
       "match_number piece              type          pattern                         \n",
       "1            Je suis déshéritée imitative duo (1, 1, -2, -2, -2, 2)    13.0   \n",
       "2            Je suis déshéritée fuga          (2, 2, 2, -3, 2, -2)     15.0   \n",
       "3            Je suis déshéritée fuga          (2, 2, -3, 2, -2, -2)    15.0   \n",
       "4            Je suis déshéritée fuga          (2, -3, 2, -2, -2, -2)   15.0   \n",
       "5            Je suis déshéritée fuga          (-3, 2, -2, -2, -2, 2)   15.0   \n",
       "6            Je suis déshéritée imitative duo (1, 1, -2, -2, -2, 2)    13.0   \n",
       "\n",
       "                                                                      bar_4  \\\n",
       "match_number piece              type          pattern                         \n",
       "1            Je suis déshéritée imitative duo (1, 1, -2, -2, -2, 2)    15.0   \n",
       "2            Je suis déshéritée fuga          (2, 2, 2, -3, 2, -2)      NaN   \n",
       "3            Je suis déshéritée fuga          (2, 2, -3, 2, -2, -2)     NaN   \n",
       "4            Je suis déshéritée fuga          (2, -3, 2, -2, -2, -2)    NaN   \n",
       "5            Je suis déshéritée fuga          (-3, 2, -2, -2, -2, 2)    NaN   \n",
       "6            Je suis déshéritée imitative duo (1, 1, -2, -2, -2, 2)    15.0   \n",
       "\n",
       "                                                                      part_1  \\\n",
       "match_number piece              type          pattern                          \n",
       "1            Je suis déshéritée imitative duo (1, 1, -2, -2, -2, 2)    Tenor   \n",
       "2            Je suis déshéritée fuga          (2, 2, 2, -3, 2, -2)    Bassus   \n",
       "3            Je suis déshéritée fuga          (2, 2, -3, 2, -2, -2)   Bassus   \n",
       "4            Je suis déshéritée fuga          (2, -3, 2, -2, -2, -2)  Bassus   \n",
       "5            Je suis déshéritée fuga          (-3, 2, -2, -2, -2, 2)  Bassus   \n",
       "6            Je suis déshéritée imitative duo (1, 1, -2, -2, -2, 2)    Tenor   \n",
       "\n",
       "                                                                        part_2  \\\n",
       "match_number piece              type          pattern                            \n",
       "1            Je suis déshéritée imitative duo (1, 1, -2, -2, -2, 2)   Superius   \n",
       "2            Je suis déshéritée fuga          (2, 2, 2, -3, 2, -2)      Bassus   \n",
       "3            Je suis déshéritée fuga          (2, 2, -3, 2, -2, -2)     Bassus   \n",
       "4            Je suis déshéritée fuga          (2, -3, 2, -2, -2, -2)    Bassus   \n",
       "5            Je suis déshéritée fuga          (-3, 2, -2, -2, -2, 2)    Bassus   \n",
       "6            Je suis déshéritée imitative duo (1, 1, -2, -2, -2, 2)   Superius   \n",
       "\n",
       "                                                                     part_3  \\\n",
       "match_number piece              type          pattern                         \n",
       "1            Je suis déshéritée imitative duo (1, 1, -2, -2, -2, 2)   Tenor   \n",
       "2            Je suis déshéritée fuga          (2, 2, 2, -3, 2, -2)    Tenor   \n",
       "3            Je suis déshéritée fuga          (2, 2, -3, 2, -2, -2)   Tenor   \n",
       "4            Je suis déshéritée fuga          (2, -3, 2, -2, -2, -2)  Tenor   \n",
       "5            Je suis déshéritée fuga          (-3, 2, -2, -2, -2, 2)  Tenor   \n",
       "6            Je suis déshéritée imitative duo (1, 1, -2, -2, -2, 2)   Tenor   \n",
       "\n",
       "                                                                        part_4  \n",
       "match_number piece              type          pattern                           \n",
       "1            Je suis déshéritée imitative duo (1, 1, -2, -2, -2, 2)   Superius  \n",
       "2            Je suis déshéritée fuga          (2, 2, 2, -3, 2, -2)         NaN  \n",
       "3            Je suis déshéritée fuga          (2, 2, -3, 2, -2, -2)        NaN  \n",
       "4            Je suis déshéritée fuga          (2, -3, 2, -2, -2, -2)       NaN  \n",
       "5            Je suis déshéritée fuga          (-3, 2, -2, -2, -2, 2)       NaN  \n",
       "6            Je suis déshéritée imitative duo (1, 1, -2, -2, -2, 2)   Superius  "
      ],
      "text/html": "<div>\n<style scoped>\n    .dataframe tbody tr th:only-of-type {\n        vertical-align: middle;\n    }\n\n    .dataframe tbody tr th {\n        vertical-align: top;\n    }\n\n    .dataframe thead th {\n        text-align: right;\n    }\n</style>\n<table border=\"1\" class=\"dataframe\">\n  <thead>\n    <tr style=\"text-align: right;\">\n      <th></th>\n      <th></th>\n      <th></th>\n      <th></th>\n      <th>bar_1</th>\n      <th>bar_2</th>\n      <th>bar_3</th>\n      <th>bar_4</th>\n      <th>part_1</th>\n      <th>part_2</th>\n      <th>part_3</th>\n      <th>part_4</th>\n    </tr>\n    <tr>\n      <th>match_number</th>\n      <th>piece</th>\n      <th>type</th>\n      <th>pattern</th>\n      <th></th>\n      <th></th>\n      <th></th>\n      <th></th>\n      <th></th>\n      <th></th>\n      <th></th>\n      <th></th>\n    </tr>\n  </thead>\n  <tbody>\n    <tr>\n      <th>1</th>\n      <th>Je suis déshéritée</th>\n      <th>imitative duo</th>\n      <th>(1, 1, -2, -2, -2, 2)</th>\n      <td>5.0</td>\n      <td>7.0</td>\n      <td>13.0</td>\n      <td>15.0</td>\n      <td>Tenor</td>\n      <td>Superius</td>\n      <td>Tenor</td>\n      <td>Superius</td>\n    </tr>\n    <tr>\n      <th>2</th>\n      <th>Je suis déshéritée</th>\n      <th>fuga</th>\n      <th>(2, 2, 2, -3, 2, -2)</th>\n      <td>5.0</td>\n      <td>13.0</td>\n      <td>15.0</td>\n      <td>NaN</td>\n      <td>Bassus</td>\n      <td>Bassus</td>\n      <td>Tenor</td>\n      <td>NaN</td>\n    </tr>\n    <tr>\n      <th>3</th>\n      <th>Je suis déshéritée</th>\n      <th>fuga</th>\n      <th>(2, 2, -3, 2, -2, -2)</th>\n      <td>5.0</td>\n      <td>13.0</td>\n      <td>15.0</td>\n      <td>NaN</td>\n      <td>Bassus</td>\n      <td>Bassus</td>\n      <td>Tenor</td>\n      <td>NaN</td>\n    </tr>\n    <tr>\n      <th>4</th>\n      <th>Je suis déshéritée</th>\n      <th>fuga</th>\n      <th>(2, -3, 2, -2, -2, -2)</th>\n      <td>5.0</td>\n      <td>13.0</td>\n      <td>15.0</td>\n      <td>NaN</td>\n      <td>Bassus</td>\n      <td>Bassus</td>\n      <td>Tenor</td>\n      <td>NaN</td>\n    </tr>\n    <tr>\n      <th>5</th>\n      <th>Je suis déshéritée</th>\n      <th>fuga</th>\n      <th>(-3, 2, -2, -2, -2, 2)</th>\n      <td>5.0</td>\n      <td>13.0</td>\n      <td>15.0</td>\n      <td>NaN</td>\n      <td>Bassus</td>\n      <td>Bassus</td>\n      <td>Tenor</td>\n      <td>NaN</td>\n    </tr>\n    <tr>\n      <th>6</th>\n      <th>Je suis déshéritée</th>\n      <th>imitative duo</th>\n      <th>(1, 1, -2, -2, -2, 2)</th>\n      <td>5.0</td>\n      <td>7.0</td>\n      <td>13.0</td>\n      <td>15.0</td>\n      <td>Tenor</td>\n      <td>Superius</td>\n      <td>Tenor</td>\n      <td>Superius</td>\n    </tr>\n  </tbody>\n</table>\n</div>"
     },
     "metadata": {},
     "execution_count": 174
    }
   ],
   "source": [
    "df[\"pattern\"] = df[\"pattern\"].apply(tuple)\n",
    "\n",
    "wide_df = df.pivot_table(index=[\"match_number\", \"piece\", \"type\", \"pattern\"],\n",
    "            columns=\"entry_number\",\n",
    "            values=[\"part\", \"bar\"],\n",
    "            aggfunc=lambda x: x)\n",
    "\n",
    "wide_df.columns = [f\"{a}_{b}\" for a, b in wide_df.columns]\n",
    "\n",
    "wide_df.head().reset_index()\n",
    "\n",
    "sort_bar = wide_df.sort_values(\"bar_1\")\n",
    "\n",
    "sort_bar"
   ]
  },
  {
   "cell_type": "markdown",
   "metadata": {},
   "source": [
    "## Read CSV of Classified Matches\n",
    "\n",
    "- Update file name to match the output of previous cells for Classifier"
   ]
  },
  {
   "cell_type": "code",
   "execution_count": null,
   "metadata": {},
   "outputs": [],
   "source": [
    "results = pd.read_csv('Sandrin_Classified.csv')\n",
    "results.rename(columns=\n",
    "                   {'Pattern Generating Match': 'Pattern_Generating_Match', \n",
    "                    'Pattern matched':'Pattern_Matched',\n",
    "                    'Classification Type': 'Classification_Type',\n",
    "                    'Piece Title': 'Piece_Title',\n",
    "                    'First Note Measure Number': 'Start_Measure',\n",
    "                    'Last Note Measure Number': 'Stop_Measure',\n",
    "                    'Note Durations': 'Note_Durations'\n",
    "                   },\n",
    "                    inplace=True)\n",
    "\n",
    "results['note_durations'] = results['note_durations'].apply(ast.literal_eval)\n",
    "\n",
    "durations = results['note_durations']\n",
    "results.head()"
   ]
  },
  {
   "cell_type": "markdown",
   "metadata": {},
   "source": [
    "# Durational Ratios\n",
    "\n",
    "#### This Function Calculates the Ratios of the Durations in each Match"
   ]
  },
  {
   "cell_type": "code",
   "execution_count": 190,
   "metadata": {},
   "outputs": [],
   "source": [
    "# makes pairs of ratio strings\n",
    "\n",
    "def pairwise(iterable):\n",
    "    \"s -> (s0,s1), (s1,s2), (s2, s3), ...\"\n",
    "    a, b = tee(iterable)\n",
    "    next(b, None)\n",
    "    return zip(a, b)\n",
    "\n",
    "def get_ratios(input_list):\n",
    "    ratio_pairs = []\n",
    "    for a, b in pairwise(input_list):\n",
    "        ratio_pairs.append(b / a)\n",
    "    return ratio_pairs\n",
    "\n",
    "\n"
   ]
  },
  {
   "cell_type": "markdown",
   "metadata": {},
   "source": [
    "#### Now call the function to operate on the RESULTS file from earlier"
   ]
  },
  {
   "cell_type": "code",
   "execution_count": 224,
   "metadata": {},
   "outputs": [
    {
     "output_type": "execute_result",
     "data": {
      "text/plain": [
       "   pattern_generating_match        pattern_matched         piece_title  \\\n",
       "0       (1, 1, 3, 1, 2, -4)    [1, 1, 3, 1, 2, -4]  Je suis déshéritée   \n",
       "1       (1, 1, 3, 1, 2, -4)    [1, 1, 3, 1, 2, -4]  Je suis déshéritée   \n",
       "2       (1, 1, 3, 1, 2, -4)    [1, 1, 3, 1, 2, -4]  Je suis déshéritée   \n",
       "3       (1, 1, 3, 1, 2, -4)    [1, 1, 3, 1, 2, -4]  Je suis déshéritée   \n",
       "4     (1, 1, -2, -2, -2, 2)  [1, 1, -2, -2, -2, 2]  Je suis déshéritée   \n",
       "..                      ...                    ...                 ...   \n",
       "67    (2, -3, -2, -3, 2, 2)  [2, -3, -2, -3, 2, 2]  Je suis déshéritée   \n",
       "68    (-3, -2, -3, 2, 2, 2)  [-3, -2, -3, 2, 2, 2]  Je suis déshéritée   \n",
       "69    (-3, -2, -3, 2, 2, 2)  [-3, -2, -3, 2, 2, 2]  Je suis déshéritée   \n",
       "70     (-3, 2, 2, 2, 2, -3)   [-3, 2, 2, 2, 2, -3]  Je suis déshéritée   \n",
       "71     (-3, 2, 2, 2, 2, -3)   [-3, 2, 2, 2, 2, -3]  Je suis déshéritée   \n",
       "\n",
       "        part  start_measure  end_measure  \\\n",
       "0   Superius              3            5   \n",
       "1   Superius             11           13   \n",
       "2      Tenor              1            3   \n",
       "3      Tenor              9           11   \n",
       "4   Superius              7            9   \n",
       "..       ...            ...          ...   \n",
       "67    Bassus             12           13   \n",
       "68    Bassus              4            5   \n",
       "69    Bassus             12           13   \n",
       "70    Bassus              5            5   \n",
       "71    Bassus             13           13   \n",
       "\n",
       "                          note_durations                 duration_ratios  \n",
       "0    (4.0, 2.0, 2.0, 2.0, 2.0, 4.0, 8.0)  [0.5, 1.0, 1.0, 1.0, 2.0, 2.0]  \n",
       "1    (4.0, 2.0, 2.0, 2.0, 2.0, 4.0, 8.0)  [0.5, 1.0, 1.0, 1.0, 2.0, 2.0]  \n",
       "2    (4.0, 2.0, 2.0, 2.0, 2.0, 4.0, 8.0)  [0.5, 1.0, 1.0, 1.0, 2.0, 2.0]  \n",
       "3   (4.0, 2.0, 2.0, 2.0, 2.0, 4.0, 12.0)  [0.5, 1.0, 1.0, 1.0, 2.0, 3.0]  \n",
       "4    (2.0, 2.0, 2.0, 2.0, 4.0, 2.0, 4.0)  [1.0, 1.0, 1.0, 2.0, 0.5, 2.0]  \n",
       "..                                   ...                             ...  \n",
       "67   (2.0, 2.0, 2.0, 2.0, 1.0, 1.0, 1.0)  [1.0, 1.0, 1.0, 0.5, 1.0, 1.0]  \n",
       "68   (2.0, 2.0, 2.0, 1.0, 1.0, 1.0, 1.0)  [1.0, 1.0, 0.5, 1.0, 1.0, 1.0]  \n",
       "69   (2.0, 2.0, 2.0, 1.0, 1.0, 1.0, 1.0)  [1.0, 1.0, 0.5, 1.0, 1.0, 1.0]  \n",
       "70   (2.0, 1.0, 1.0, 1.0, 1.0, 1.0, 1.0)  [0.5, 1.0, 1.0, 1.0, 1.0, 1.0]  \n",
       "71   (2.0, 1.0, 1.0, 1.0, 1.0, 1.0, 1.0)  [0.5, 1.0, 1.0, 1.0, 1.0, 1.0]  \n",
       "\n",
       "[72 rows x 8 columns]"
      ],
      "text/html": "<div>\n<style scoped>\n    .dataframe tbody tr th:only-of-type {\n        vertical-align: middle;\n    }\n\n    .dataframe tbody tr th {\n        vertical-align: top;\n    }\n\n    .dataframe thead th {\n        text-align: right;\n    }\n</style>\n<table border=\"1\" class=\"dataframe\">\n  <thead>\n    <tr style=\"text-align: right;\">\n      <th></th>\n      <th>pattern_generating_match</th>\n      <th>pattern_matched</th>\n      <th>piece_title</th>\n      <th>part</th>\n      <th>start_measure</th>\n      <th>end_measure</th>\n      <th>note_durations</th>\n      <th>duration_ratios</th>\n    </tr>\n  </thead>\n  <tbody>\n    <tr>\n      <th>0</th>\n      <td>(1, 1, 3, 1, 2, -4)</td>\n      <td>[1, 1, 3, 1, 2, -4]</td>\n      <td>Je suis déshéritée</td>\n      <td>Superius</td>\n      <td>3</td>\n      <td>5</td>\n      <td>(4.0, 2.0, 2.0, 2.0, 2.0, 4.0, 8.0)</td>\n      <td>[0.5, 1.0, 1.0, 1.0, 2.0, 2.0]</td>\n    </tr>\n    <tr>\n      <th>1</th>\n      <td>(1, 1, 3, 1, 2, -4)</td>\n      <td>[1, 1, 3, 1, 2, -4]</td>\n      <td>Je suis déshéritée</td>\n      <td>Superius</td>\n      <td>11</td>\n      <td>13</td>\n      <td>(4.0, 2.0, 2.0, 2.0, 2.0, 4.0, 8.0)</td>\n      <td>[0.5, 1.0, 1.0, 1.0, 2.0, 2.0]</td>\n    </tr>\n    <tr>\n      <th>2</th>\n      <td>(1, 1, 3, 1, 2, -4)</td>\n      <td>[1, 1, 3, 1, 2, -4]</td>\n      <td>Je suis déshéritée</td>\n      <td>Tenor</td>\n      <td>1</td>\n      <td>3</td>\n      <td>(4.0, 2.0, 2.0, 2.0, 2.0, 4.0, 8.0)</td>\n      <td>[0.5, 1.0, 1.0, 1.0, 2.0, 2.0]</td>\n    </tr>\n    <tr>\n      <th>3</th>\n      <td>(1, 1, 3, 1, 2, -4)</td>\n      <td>[1, 1, 3, 1, 2, -4]</td>\n      <td>Je suis déshéritée</td>\n      <td>Tenor</td>\n      <td>9</td>\n      <td>11</td>\n      <td>(4.0, 2.0, 2.0, 2.0, 2.0, 4.0, 12.0)</td>\n      <td>[0.5, 1.0, 1.0, 1.0, 2.0, 3.0]</td>\n    </tr>\n    <tr>\n      <th>4</th>\n      <td>(1, 1, -2, -2, -2, 2)</td>\n      <td>[1, 1, -2, -2, -2, 2]</td>\n      <td>Je suis déshéritée</td>\n      <td>Superius</td>\n      <td>7</td>\n      <td>9</td>\n      <td>(2.0, 2.0, 2.0, 2.0, 4.0, 2.0, 4.0)</td>\n      <td>[1.0, 1.0, 1.0, 2.0, 0.5, 2.0]</td>\n    </tr>\n    <tr>\n      <th>...</th>\n      <td>...</td>\n      <td>...</td>\n      <td>...</td>\n      <td>...</td>\n      <td>...</td>\n      <td>...</td>\n      <td>...</td>\n      <td>...</td>\n    </tr>\n    <tr>\n      <th>67</th>\n      <td>(2, -3, -2, -3, 2, 2)</td>\n      <td>[2, -3, -2, -3, 2, 2]</td>\n      <td>Je suis déshéritée</td>\n      <td>Bassus</td>\n      <td>12</td>\n      <td>13</td>\n      <td>(2.0, 2.0, 2.0, 2.0, 1.0, 1.0, 1.0)</td>\n      <td>[1.0, 1.0, 1.0, 0.5, 1.0, 1.0]</td>\n    </tr>\n    <tr>\n      <th>68</th>\n      <td>(-3, -2, -3, 2, 2, 2)</td>\n      <td>[-3, -2, -3, 2, 2, 2]</td>\n      <td>Je suis déshéritée</td>\n      <td>Bassus</td>\n      <td>4</td>\n      <td>5</td>\n      <td>(2.0, 2.0, 2.0, 1.0, 1.0, 1.0, 1.0)</td>\n      <td>[1.0, 1.0, 0.5, 1.0, 1.0, 1.0]</td>\n    </tr>\n    <tr>\n      <th>69</th>\n      <td>(-3, -2, -3, 2, 2, 2)</td>\n      <td>[-3, -2, -3, 2, 2, 2]</td>\n      <td>Je suis déshéritée</td>\n      <td>Bassus</td>\n      <td>12</td>\n      <td>13</td>\n      <td>(2.0, 2.0, 2.0, 1.0, 1.0, 1.0, 1.0)</td>\n      <td>[1.0, 1.0, 0.5, 1.0, 1.0, 1.0]</td>\n    </tr>\n    <tr>\n      <th>70</th>\n      <td>(-3, 2, 2, 2, 2, -3)</td>\n      <td>[-3, 2, 2, 2, 2, -3]</td>\n      <td>Je suis déshéritée</td>\n      <td>Bassus</td>\n      <td>5</td>\n      <td>5</td>\n      <td>(2.0, 1.0, 1.0, 1.0, 1.0, 1.0, 1.0)</td>\n      <td>[0.5, 1.0, 1.0, 1.0, 1.0, 1.0]</td>\n    </tr>\n    <tr>\n      <th>71</th>\n      <td>(-3, 2, 2, 2, 2, -3)</td>\n      <td>[-3, 2, 2, 2, 2, -3]</td>\n      <td>Je suis déshéritée</td>\n      <td>Bassus</td>\n      <td>13</td>\n      <td>13</td>\n      <td>(2.0, 1.0, 1.0, 1.0, 1.0, 1.0, 1.0)</td>\n      <td>[0.5, 1.0, 1.0, 1.0, 1.0, 1.0]</td>\n    </tr>\n  </tbody>\n</table>\n<p>72 rows × 8 columns</p>\n</div>"
     },
     "metadata": {},
     "execution_count": 224
    }
   ],
   "source": [
    "# calculates 'duration ratios' for each soggetto, then adds this to the DF\n",
    "\n",
    "results[\"duration_ratios\"] = results.note_durations.apply(get_ratios)\n",
    "short_results = results.drop(columns=[\"ema_url\", \"ema\"])\n",
    "short_results"
   ]
  },
  {
   "cell_type": "code",
   "execution_count": 225,
   "metadata": {},
   "outputs": [
    {
     "output_type": "execute_result",
     "data": {
      "text/plain": [
       "                                                                                                                  0\n",
       "pattern_generating_match note_durations                       duration_ratios                                      \n",
       "(-3, -2, -3, 2, 2, 2)    (2.0, 2.0, 2.0, 1.0, 1.0, 1.0, 1.0)  (1.0, 1.0, 0.5, 1.0, 1.0, 1.0)                      2\n",
       "(-3, 2, -2, -2, -2, 2)   (1.0, 1.0, 1.0, 1.0, 1.0, 1.0, 4.0)  (1.0, 1.0, 1.0, 1.0, 1.0, 4.0)                      4\n",
       "(-3, 2, 2, 2, 2, -3)     (2.0, 1.0, 1.0, 1.0, 1.0, 1.0, 1.0)  (0.5, 1.0, 1.0, 1.0, 1.0, 1.0)                      2\n",
       "(-3, 2, 2, 2, 2, -2)     (2.0, 1.0, 1.0, 1.0, 1.0, 3.0, 1.0)  (0.5, 1.0, 1.0, 1.0, 3.0, 0.3333333333333333)       1\n",
       "                         (2.0, 3.0, 1.0, 1.0, 1.0, 2.0, 2.0)  (1.5, 0.3333333333333333, 1.0, 1.0, 2.0, 1.0)       1\n",
       "(-2, -3, 2, 2, 2, 2)     (2.0, 2.0, 1.0, 1.0, 1.0, 1.0, 1.0)  (1.0, 0.5, 1.0, 1.0, 1.0, 1.0)                      2\n",
       "                         (2.0, 2.0, 1.0, 1.0, 1.0, 1.0, 3.0)  (1.0, 0.5, 1.0, 1.0, 1.0, 3.0)                      1\n",
       "(-2, -2, 2, -2, -2, 2)   (1.0, 1.0, 1.0, 4.0, 3.0, 1.0, 1.0)  (1.0, 1.0, 4.0, 0.75, 0.3333333333333333, 1.0)      1\n",
       "                         (4.0, 1.0, 1.0, 4.0, 1.0, 1.0, 1.0)  (0.25, 1.0, 4.0, 0.25, 1.0, 1.0)                    1\n",
       "                         (6.0, 1.0, 1.0, 4.0, 1.0, 1.0, 1.0)  (0.16666666666666666, 1.0, 4.0, 0.25, 1.0, 1.0)     1\n",
       "(-2, -2, 2, 2, 2, -2)    (4.0, 1.0, 1.0, 1.0, 1.0, 3.0, 0.5)  (0.25, 1.0, 1.0, 1.0, 3.0, 0.16666666666666666)     2\n",
       "                         (4.0, 2.0, 3.0, 1.0, 2.0, 3.0, 1.0)  (0.5, 1.5, 0.3333333333333333, 2.0, 1.5, 0.3333...  1\n",
       "(-2, 2, -2, -2, 2, 2)    (1.0, 1.0, 4.0, 1.0, 1.0, 1.0, 1.0)  (1.0, 4.0, 0.25, 1.0, 1.0, 1.0)                     2\n",
       "                         (1.0, 1.0, 4.0, 3.0, 1.0, 1.0, 1.0)  (1.0, 4.0, 0.75, 0.3333333333333333, 1.0, 1.0)      1\n",
       "(-2, 2, 2, 2, -2, -2)    (1.0, 1.0, 1.0, 1.0, 3.0, 0.5, 0.5)  (1.0, 1.0, 1.0, 3.0, 0.16666666666666666, 1.0)      2\n",
       "                         (2.0, 3.0, 1.0, 2.0, 3.0, 1.0, 1.0)  (1.5, 0.3333333333333333, 2.0, 1.5, 0.333333333...  1\n",
       "(1, -3, 2, 2, 2, 2)      (2.0, 2.0, 1.0, 1.0, 1.0, 1.0, 2.0)  (1.0, 0.5, 1.0, 1.0, 1.0, 2.0)                      1\n",
       "                         (4.0, 2.0, 3.0, 1.0, 1.0, 1.0, 2.0)  (0.5, 1.5, 0.3333333333333333, 1.0, 1.0, 2.0)       1\n",
       "(1, -2, -2, -2, 2, -4)   (2.0, 2.0, 2.0, 4.0, 2.0, 4.0, 8.0)  (1.0, 1.0, 2.0, 0.5, 2.0, 2.0)                      3\n",
       "(1, 1, -2, -2, -2, 2)    (2.0, 2.0, 2.0, 2.0, 4.0, 2.0, 3.0)  (1.0, 1.0, 1.0, 2.0, 0.5, 1.5)                      1\n",
       "                         (2.0, 2.0, 2.0, 2.0, 4.0, 2.0, 4.0)  (1.0, 1.0, 1.0, 2.0, 0.5, 2.0)                      3\n",
       "(1, 1, 3, 1, 2, -4)      (4.0, 2.0, 2.0, 2.0, 2.0, 4.0, 8.0)  (0.5, 1.0, 1.0, 1.0, 2.0, 2.0)                      3\n",
       "                         (4.0, 2.0, 2.0, 2.0, 2.0, 4.0, 12.0) (0.5, 1.0, 1.0, 1.0, 2.0, 3.0)                      1\n",
       "(1, 2, 3, 1, -2, 2)      (4.0, 2.0, 2.0, 2.0, 2.0, 2.0, 2.0)  (0.5, 1.0, 1.0, 1.0, 1.0, 1.0)                      2\n",
       "(2, -3, -2, -3, 2, 2)    (2.0, 2.0, 2.0, 2.0, 1.0, 1.0, 1.0)  (1.0, 1.0, 1.0, 0.5, 1.0, 1.0)                      2\n",
       "(2, -3, 2, -2, -2, -2)   (1.0, 1.0, 1.0, 1.0, 1.0, 1.0, 1.0)  (1.0, 1.0, 1.0, 1.0, 1.0, 1.0)                      4\n",
       "(2, -2, -2, -2, 2, -2)   (1.0, 1.0, 1.0, 1.0, 1.0, 4.0, 2.0)  (1.0, 1.0, 1.0, 1.0, 4.0, 0.5)                      2\n",
       "                         (1.0, 1.0, 1.0, 1.0, 1.0, 4.0, 3.0)  (1.0, 1.0, 1.0, 1.0, 4.0, 0.75)                     1\n",
       "                         (1.0, 1.0, 1.0, 1.0, 1.0, 4.0, 4.0)  (1.0, 1.0, 1.0, 1.0, 4.0, 1.0)                      1\n",
       "(2, -2, -2, 2, 2, 2)     (1.0, 4.0, 1.0, 1.0, 1.0, 1.0, 3.0)  (4.0, 0.25, 1.0, 1.0, 1.0, 3.0)                     2\n",
       "                         (1.0, 4.0, 3.0, 1.0, 1.0, 1.0, 2.0)  (4.0, 0.75, 0.3333333333333333, 1.0, 1.0, 2.0)      1\n",
       "(2, 2, -3, 2, -2, -2)    (1.0, 1.0, 1.0, 1.0, 1.0, 1.0, 1.0)  (1.0, 1.0, 1.0, 1.0, 1.0, 1.0)                      4\n",
       "(2, 2, 2, -3, 2, -2)     (1.0, 1.0, 1.0, 1.0, 1.0, 1.0, 1.0)  (1.0, 1.0, 1.0, 1.0, 1.0, 1.0)                      3\n",
       "                         (2.0, 1.0, 1.0, 1.0, 1.0, 1.0, 1.0)  (0.5, 1.0, 1.0, 1.0, 1.0, 1.0)                      1\n",
       "(2, 2, 2, -2, -2, -2)    (1.0, 1.0, 1.0, 3.0, 0.5, 0.5, 4.0)  (1.0, 1.0, 3.0, 0.16666666666666666, 1.0, 8.0)      2\n",
       "                         (1.0, 1.0, 1.0, 3.0, 1.0, 2.0, 4.0)  (1.0, 1.0, 3.0, 0.3333333333333333, 2.0, 2.0)       1\n",
       "                         (3.0, 1.0, 2.0, 3.0, 1.0, 1.0, 1.0)  (0.3333333333333333, 2.0, 1.5, 0.33333333333333...  1\n",
       "(2, 2, 2, 2, -3, 2)      (1.0, 1.0, 1.0, 1.0, 1.0, 1.0, 1.0)  (1.0, 1.0, 1.0, 1.0, 1.0, 1.0)                      2\n",
       "                         (3.0, 1.0, 1.0, 1.0, 1.0, 1.0, 1.0)  (0.3333333333333333, 1.0, 1.0, 1.0, 1.0, 1.0)       1\n",
       "(2, 2, 2, 2, 2, 3)       (1.0, 1.0, 1.0, 1.0, 2.0, 2.0, 4.0)  (1.0, 1.0, 1.0, 2.0, 1.0, 2.0)                      1\n",
       "                         (3.0, 1.0, 1.0, 1.0, 2.0, 2.0, 4.0)  (0.3333333333333333, 1.0, 1.0, 2.0, 1.0, 2.0)       1\n",
       "(2, 2, 2, 2, 3, -2)      (1.0, 1.0, 1.0, 2.0, 2.0, 4.0, 2.0)  (1.0, 1.0, 2.0, 1.0, 2.0, 0.5)                      1\n",
       "                         (1.0, 1.0, 1.0, 2.0, 2.0, 4.0, 3.0)  (1.0, 1.0, 2.0, 1.0, 2.0, 0.75)                     1"
      ],
      "text/html": "<div>\n<style scoped>\n    .dataframe tbody tr th:only-of-type {\n        vertical-align: middle;\n    }\n\n    .dataframe tbody tr th {\n        vertical-align: top;\n    }\n\n    .dataframe thead th {\n        text-align: right;\n    }\n</style>\n<table border=\"1\" class=\"dataframe\">\n  <thead>\n    <tr style=\"text-align: right;\">\n      <th></th>\n      <th></th>\n      <th></th>\n      <th>0</th>\n    </tr>\n    <tr>\n      <th>pattern_generating_match</th>\n      <th>note_durations</th>\n      <th>duration_ratios</th>\n      <th></th>\n    </tr>\n  </thead>\n  <tbody>\n    <tr>\n      <th>(-3, -2, -3, 2, 2, 2)</th>\n      <th>(2.0, 2.0, 2.0, 1.0, 1.0, 1.0, 1.0)</th>\n      <th>(1.0, 1.0, 0.5, 1.0, 1.0, 1.0)</th>\n      <td>2</td>\n    </tr>\n    <tr>\n      <th>(-3, 2, -2, -2, -2, 2)</th>\n      <th>(1.0, 1.0, 1.0, 1.0, 1.0, 1.0, 4.0)</th>\n      <th>(1.0, 1.0, 1.0, 1.0, 1.0, 4.0)</th>\n      <td>4</td>\n    </tr>\n    <tr>\n      <th>(-3, 2, 2, 2, 2, -3)</th>\n      <th>(2.0, 1.0, 1.0, 1.0, 1.0, 1.0, 1.0)</th>\n      <th>(0.5, 1.0, 1.0, 1.0, 1.0, 1.0)</th>\n      <td>2</td>\n    </tr>\n    <tr>\n      <th rowspan=\"2\" valign=\"top\">(-3, 2, 2, 2, 2, -2)</th>\n      <th>(2.0, 1.0, 1.0, 1.0, 1.0, 3.0, 1.0)</th>\n      <th>(0.5, 1.0, 1.0, 1.0, 3.0, 0.3333333333333333)</th>\n      <td>1</td>\n    </tr>\n    <tr>\n      <th>(2.0, 3.0, 1.0, 1.0, 1.0, 2.0, 2.0)</th>\n      <th>(1.5, 0.3333333333333333, 1.0, 1.0, 2.0, 1.0)</th>\n      <td>1</td>\n    </tr>\n    <tr>\n      <th rowspan=\"2\" valign=\"top\">(-2, -3, 2, 2, 2, 2)</th>\n      <th>(2.0, 2.0, 1.0, 1.0, 1.0, 1.0, 1.0)</th>\n      <th>(1.0, 0.5, 1.0, 1.0, 1.0, 1.0)</th>\n      <td>2</td>\n    </tr>\n    <tr>\n      <th>(2.0, 2.0, 1.0, 1.0, 1.0, 1.0, 3.0)</th>\n      <th>(1.0, 0.5, 1.0, 1.0, 1.0, 3.0)</th>\n      <td>1</td>\n    </tr>\n    <tr>\n      <th rowspan=\"3\" valign=\"top\">(-2, -2, 2, -2, -2, 2)</th>\n      <th>(1.0, 1.0, 1.0, 4.0, 3.0, 1.0, 1.0)</th>\n      <th>(1.0, 1.0, 4.0, 0.75, 0.3333333333333333, 1.0)</th>\n      <td>1</td>\n    </tr>\n    <tr>\n      <th>(4.0, 1.0, 1.0, 4.0, 1.0, 1.0, 1.0)</th>\n      <th>(0.25, 1.0, 4.0, 0.25, 1.0, 1.0)</th>\n      <td>1</td>\n    </tr>\n    <tr>\n      <th>(6.0, 1.0, 1.0, 4.0, 1.0, 1.0, 1.0)</th>\n      <th>(0.16666666666666666, 1.0, 4.0, 0.25, 1.0, 1.0)</th>\n      <td>1</td>\n    </tr>\n    <tr>\n      <th rowspan=\"2\" valign=\"top\">(-2, -2, 2, 2, 2, -2)</th>\n      <th>(4.0, 1.0, 1.0, 1.0, 1.0, 3.0, 0.5)</th>\n      <th>(0.25, 1.0, 1.0, 1.0, 3.0, 0.16666666666666666)</th>\n      <td>2</td>\n    </tr>\n    <tr>\n      <th>(4.0, 2.0, 3.0, 1.0, 2.0, 3.0, 1.0)</th>\n      <th>(0.5, 1.5, 0.3333333333333333, 2.0, 1.5, 0.3333333333333333)</th>\n      <td>1</td>\n    </tr>\n    <tr>\n      <th rowspan=\"2\" valign=\"top\">(-2, 2, -2, -2, 2, 2)</th>\n      <th>(1.0, 1.0, 4.0, 1.0, 1.0, 1.0, 1.0)</th>\n      <th>(1.0, 4.0, 0.25, 1.0, 1.0, 1.0)</th>\n      <td>2</td>\n    </tr>\n    <tr>\n      <th>(1.0, 1.0, 4.0, 3.0, 1.0, 1.0, 1.0)</th>\n      <th>(1.0, 4.0, 0.75, 0.3333333333333333, 1.0, 1.0)</th>\n      <td>1</td>\n    </tr>\n    <tr>\n      <th rowspan=\"2\" valign=\"top\">(-2, 2, 2, 2, -2, -2)</th>\n      <th>(1.0, 1.0, 1.0, 1.0, 3.0, 0.5, 0.5)</th>\n      <th>(1.0, 1.0, 1.0, 3.0, 0.16666666666666666, 1.0)</th>\n      <td>2</td>\n    </tr>\n    <tr>\n      <th>(2.0, 3.0, 1.0, 2.0, 3.0, 1.0, 1.0)</th>\n      <th>(1.5, 0.3333333333333333, 2.0, 1.5, 0.3333333333333333, 1.0)</th>\n      <td>1</td>\n    </tr>\n    <tr>\n      <th rowspan=\"2\" valign=\"top\">(1, -3, 2, 2, 2, 2)</th>\n      <th>(2.0, 2.0, 1.0, 1.0, 1.0, 1.0, 2.0)</th>\n      <th>(1.0, 0.5, 1.0, 1.0, 1.0, 2.0)</th>\n      <td>1</td>\n    </tr>\n    <tr>\n      <th>(4.0, 2.0, 3.0, 1.0, 1.0, 1.0, 2.0)</th>\n      <th>(0.5, 1.5, 0.3333333333333333, 1.0, 1.0, 2.0)</th>\n      <td>1</td>\n    </tr>\n    <tr>\n      <th>(1, -2, -2, -2, 2, -4)</th>\n      <th>(2.0, 2.0, 2.0, 4.0, 2.0, 4.0, 8.0)</th>\n      <th>(1.0, 1.0, 2.0, 0.5, 2.0, 2.0)</th>\n      <td>3</td>\n    </tr>\n    <tr>\n      <th rowspan=\"2\" valign=\"top\">(1, 1, -2, -2, -2, 2)</th>\n      <th>(2.0, 2.0, 2.0, 2.0, 4.0, 2.0, 3.0)</th>\n      <th>(1.0, 1.0, 1.0, 2.0, 0.5, 1.5)</th>\n      <td>1</td>\n    </tr>\n    <tr>\n      <th>(2.0, 2.0, 2.0, 2.0, 4.0, 2.0, 4.0)</th>\n      <th>(1.0, 1.0, 1.0, 2.0, 0.5, 2.0)</th>\n      <td>3</td>\n    </tr>\n    <tr>\n      <th rowspan=\"2\" valign=\"top\">(1, 1, 3, 1, 2, -4)</th>\n      <th>(4.0, 2.0, 2.0, 2.0, 2.0, 4.0, 8.0)</th>\n      <th>(0.5, 1.0, 1.0, 1.0, 2.0, 2.0)</th>\n      <td>3</td>\n    </tr>\n    <tr>\n      <th>(4.0, 2.0, 2.0, 2.0, 2.0, 4.0, 12.0)</th>\n      <th>(0.5, 1.0, 1.0, 1.0, 2.0, 3.0)</th>\n      <td>1</td>\n    </tr>\n    <tr>\n      <th>(1, 2, 3, 1, -2, 2)</th>\n      <th>(4.0, 2.0, 2.0, 2.0, 2.0, 2.0, 2.0)</th>\n      <th>(0.5, 1.0, 1.0, 1.0, 1.0, 1.0)</th>\n      <td>2</td>\n    </tr>\n    <tr>\n      <th>(2, -3, -2, -3, 2, 2)</th>\n      <th>(2.0, 2.0, 2.0, 2.0, 1.0, 1.0, 1.0)</th>\n      <th>(1.0, 1.0, 1.0, 0.5, 1.0, 1.0)</th>\n      <td>2</td>\n    </tr>\n    <tr>\n      <th>(2, -3, 2, -2, -2, -2)</th>\n      <th>(1.0, 1.0, 1.0, 1.0, 1.0, 1.0, 1.0)</th>\n      <th>(1.0, 1.0, 1.0, 1.0, 1.0, 1.0)</th>\n      <td>4</td>\n    </tr>\n    <tr>\n      <th rowspan=\"3\" valign=\"top\">(2, -2, -2, -2, 2, -2)</th>\n      <th>(1.0, 1.0, 1.0, 1.0, 1.0, 4.0, 2.0)</th>\n      <th>(1.0, 1.0, 1.0, 1.0, 4.0, 0.5)</th>\n      <td>2</td>\n    </tr>\n    <tr>\n      <th>(1.0, 1.0, 1.0, 1.0, 1.0, 4.0, 3.0)</th>\n      <th>(1.0, 1.0, 1.0, 1.0, 4.0, 0.75)</th>\n      <td>1</td>\n    </tr>\n    <tr>\n      <th>(1.0, 1.0, 1.0, 1.0, 1.0, 4.0, 4.0)</th>\n      <th>(1.0, 1.0, 1.0, 1.0, 4.0, 1.0)</th>\n      <td>1</td>\n    </tr>\n    <tr>\n      <th rowspan=\"2\" valign=\"top\">(2, -2, -2, 2, 2, 2)</th>\n      <th>(1.0, 4.0, 1.0, 1.0, 1.0, 1.0, 3.0)</th>\n      <th>(4.0, 0.25, 1.0, 1.0, 1.0, 3.0)</th>\n      <td>2</td>\n    </tr>\n    <tr>\n      <th>(1.0, 4.0, 3.0, 1.0, 1.0, 1.0, 2.0)</th>\n      <th>(4.0, 0.75, 0.3333333333333333, 1.0, 1.0, 2.0)</th>\n      <td>1</td>\n    </tr>\n    <tr>\n      <th>(2, 2, -3, 2, -2, -2)</th>\n      <th>(1.0, 1.0, 1.0, 1.0, 1.0, 1.0, 1.0)</th>\n      <th>(1.0, 1.0, 1.0, 1.0, 1.0, 1.0)</th>\n      <td>4</td>\n    </tr>\n    <tr>\n      <th rowspan=\"2\" valign=\"top\">(2, 2, 2, -3, 2, -2)</th>\n      <th>(1.0, 1.0, 1.0, 1.0, 1.0, 1.0, 1.0)</th>\n      <th>(1.0, 1.0, 1.0, 1.0, 1.0, 1.0)</th>\n      <td>3</td>\n    </tr>\n    <tr>\n      <th>(2.0, 1.0, 1.0, 1.0, 1.0, 1.0, 1.0)</th>\n      <th>(0.5, 1.0, 1.0, 1.0, 1.0, 1.0)</th>\n      <td>1</td>\n    </tr>\n    <tr>\n      <th rowspan=\"3\" valign=\"top\">(2, 2, 2, -2, -2, -2)</th>\n      <th>(1.0, 1.0, 1.0, 3.0, 0.5, 0.5, 4.0)</th>\n      <th>(1.0, 1.0, 3.0, 0.16666666666666666, 1.0, 8.0)</th>\n      <td>2</td>\n    </tr>\n    <tr>\n      <th>(1.0, 1.0, 1.0, 3.0, 1.0, 2.0, 4.0)</th>\n      <th>(1.0, 1.0, 3.0, 0.3333333333333333, 2.0, 2.0)</th>\n      <td>1</td>\n    </tr>\n    <tr>\n      <th>(3.0, 1.0, 2.0, 3.0, 1.0, 1.0, 1.0)</th>\n      <th>(0.3333333333333333, 2.0, 1.5, 0.3333333333333333, 1.0, 1.0)</th>\n      <td>1</td>\n    </tr>\n    <tr>\n      <th rowspan=\"2\" valign=\"top\">(2, 2, 2, 2, -3, 2)</th>\n      <th>(1.0, 1.0, 1.0, 1.0, 1.0, 1.0, 1.0)</th>\n      <th>(1.0, 1.0, 1.0, 1.0, 1.0, 1.0)</th>\n      <td>2</td>\n    </tr>\n    <tr>\n      <th>(3.0, 1.0, 1.0, 1.0, 1.0, 1.0, 1.0)</th>\n      <th>(0.3333333333333333, 1.0, 1.0, 1.0, 1.0, 1.0)</th>\n      <td>1</td>\n    </tr>\n    <tr>\n      <th rowspan=\"2\" valign=\"top\">(2, 2, 2, 2, 2, 3)</th>\n      <th>(1.0, 1.0, 1.0, 1.0, 2.0, 2.0, 4.0)</th>\n      <th>(1.0, 1.0, 1.0, 2.0, 1.0, 2.0)</th>\n      <td>1</td>\n    </tr>\n    <tr>\n      <th>(3.0, 1.0, 1.0, 1.0, 2.0, 2.0, 4.0)</th>\n      <th>(0.3333333333333333, 1.0, 1.0, 2.0, 1.0, 2.0)</th>\n      <td>1</td>\n    </tr>\n    <tr>\n      <th rowspan=\"2\" valign=\"top\">(2, 2, 2, 2, 3, -2)</th>\n      <th>(1.0, 1.0, 1.0, 2.0, 2.0, 4.0, 2.0)</th>\n      <th>(1.0, 1.0, 2.0, 1.0, 2.0, 0.5)</th>\n      <td>1</td>\n    </tr>\n    <tr>\n      <th>(1.0, 1.0, 1.0, 2.0, 2.0, 4.0, 3.0)</th>\n      <th>(1.0, 1.0, 2.0, 1.0, 2.0, 0.75)</th>\n      <td>1</td>\n    </tr>\n  </tbody>\n</table>\n</div>"
     },
     "metadata": {},
     "execution_count": 225
    }
   ],
   "source": [
    "results[\"duration_ratios\"] = results[\"duration_ratios\"].apply(tuple)\n",
    "df3 = pd.DataFrame(results.groupby([\"pattern_generating_match\", \"note_durations\", \"duration_ratios\"]).size())\n",
    "\n",
    "df3.head(50)"
   ]
  },
  {
   "cell_type": "markdown",
   "metadata": {},
   "source": [
    "## Group by the Pattern Generating Match\n",
    "- Each has its own string of durations, and duration ratios\n",
    "- and then we compare the ratios to get the differences\n",
    "- the \"list(combinations)\" method takes care of building the pairs, using data from our dataframe 'results'"
   ]
  },
  {
   "cell_type": "code",
   "execution_count": 193,
   "metadata": {},
   "outputs": [],
   "source": [
    "def compare_ratios(ratios_1, ratios_2):\n",
    "    \n",
    "    ## division of lists \n",
    "    # using zip() + list comprehension \n",
    "    diffs = [i - j for i, j in zip(ratios_1, ratios_2)] \n",
    "    abs_diffs = [abs(ele) for ele in diffs] \n",
    "    sum_diffs = sum(abs_diffs)\n",
    "\n",
    "    return sum_diffs\n",
    "\n",
    "#results[\"Pattern_Generating_Match\"] = results[\"Pattern_Generating_Match\"].apply(tuple) \n",
    "\n",
    "def get_ratio_distances(results, pattern_col, output_cols):\n",
    "    \n",
    "    matches = []\n",
    "\n",
    "    for name, group in results.groupby(pattern_col):\n",
    "\n",
    "        ratio_pairs = list(combinations(group.index.values, 2))\n",
    "\n",
    "        for a, b in ratio_pairs:\n",
    "            \n",
    "            a_match = results.loc[a]\n",
    "            b_match = results.loc[b]\n",
    "            \n",
    "            sum_diffs = compare_ratios(a_match.duration_ratios, b_match.duration_ratios)\n",
    "            \n",
    "            match_dict = {\n",
    "                \"pattern\": name,\n",
    "                \"sum_diffs\": sum_diffs\n",
    "            }\n",
    "            \n",
    "            for col in output_cols:\n",
    "                match_dict.update({\n",
    "                    f\"match_1_{col}\": a_match[col],\n",
    "                    f\"match_2_{col}\": b_match[col]\n",
    "                })\n",
    "                \n",
    "            matches.append(match_dict)\n",
    "            \n",
    "    return pd.DataFrame(matches)"
   ]
  },
  {
   "cell_type": "markdown",
   "metadata": {},
   "source": [
    "### Now Run the Function to get the 'edit distances' for the durations of matching patterns"
   ]
  },
  {
   "cell_type": "code",
   "execution_count": 226,
   "metadata": {},
   "outputs": [
    {
     "output_type": "execute_result",
     "data": {
      "text/plain": [
       "                   pattern  sum_diffs match_1_piece_title match_2_piece_title  \\\n",
       "0    (-3, -2, -3, 2, 2, 2)   0.000000  Je suis déshéritée  Je suis déshéritée   \n",
       "1   (-3, 2, -2, -2, -2, 2)   0.000000  Je suis déshéritée  Je suis déshéritée   \n",
       "2   (-3, 2, -2, -2, -2, 2)   0.000000  Je suis déshéritée  Je suis déshéritée   \n",
       "3   (-3, 2, -2, -2, -2, 2)   0.000000  Je suis déshéritée  Je suis déshéritée   \n",
       "4   (-3, 2, -2, -2, -2, 2)   0.000000  Je suis déshéritée  Je suis déshéritée   \n",
       "..                     ...        ...                 ...                 ...   \n",
       "75     (2, 2, 2, 2, -3, 2)   0.666667  Je suis déshéritée  Je suis déshéritée   \n",
       "76     (2, 2, 2, 2, -3, 2)   0.666667  Je suis déshéritée  Je suis déshéritée   \n",
       "77     (2, 2, 2, 2, -3, 2)   0.000000  Je suis déshéritée  Je suis déshéritée   \n",
       "78      (2, 2, 2, 2, 2, 3)   0.666667  Je suis déshéritée  Je suis déshéritée   \n",
       "79     (2, 2, 2, 2, 3, -2)   0.250000  Je suis déshéritée  Je suis déshéritée   \n",
       "\n",
       "   match_1_part match_2_part  match_1_start_measure  match_2_start_measure  \\\n",
       "0        Bassus       Bassus                      4                     12   \n",
       "1   Contratenor        Tenor                     19                     15   \n",
       "2   Contratenor       Bassus                     19                      5   \n",
       "3   Contratenor       Bassus                     19                     13   \n",
       "4         Tenor       Bassus                     15                      5   \n",
       "..          ...          ...                    ...                    ...   \n",
       "75        Tenor       Bassus                     15                      5   \n",
       "76        Tenor       Bassus                     15                     13   \n",
       "77       Bassus       Bassus                      5                     13   \n",
       "78     Superius       Bassus                     29                     29   \n",
       "79     Superius       Bassus                     29                     29   \n",
       "\n",
       "    match_1_end_measure  match_2_end_measure  \n",
       "0                     5                   13  \n",
       "1                    20                   16  \n",
       "2                    20                    6  \n",
       "3                    20                   14  \n",
       "4                    16                    6  \n",
       "..                  ...                  ...  \n",
       "75                   16                    6  \n",
       "76                   16                   14  \n",
       "77                    6                   14  \n",
       "78                   30                   30  \n",
       "79                   30                   30  \n",
       "\n",
       "[80 rows x 10 columns]"
      ],
      "text/html": "<div>\n<style scoped>\n    .dataframe tbody tr th:only-of-type {\n        vertical-align: middle;\n    }\n\n    .dataframe tbody tr th {\n        vertical-align: top;\n    }\n\n    .dataframe thead th {\n        text-align: right;\n    }\n</style>\n<table border=\"1\" class=\"dataframe\">\n  <thead>\n    <tr style=\"text-align: right;\">\n      <th></th>\n      <th>pattern</th>\n      <th>sum_diffs</th>\n      <th>match_1_piece_title</th>\n      <th>match_2_piece_title</th>\n      <th>match_1_part</th>\n      <th>match_2_part</th>\n      <th>match_1_start_measure</th>\n      <th>match_2_start_measure</th>\n      <th>match_1_end_measure</th>\n      <th>match_2_end_measure</th>\n    </tr>\n  </thead>\n  <tbody>\n    <tr>\n      <th>0</th>\n      <td>(-3, -2, -3, 2, 2, 2)</td>\n      <td>0.000000</td>\n      <td>Je suis déshéritée</td>\n      <td>Je suis déshéritée</td>\n      <td>Bassus</td>\n      <td>Bassus</td>\n      <td>4</td>\n      <td>12</td>\n      <td>5</td>\n      <td>13</td>\n    </tr>\n    <tr>\n      <th>1</th>\n      <td>(-3, 2, -2, -2, -2, 2)</td>\n      <td>0.000000</td>\n      <td>Je suis déshéritée</td>\n      <td>Je suis déshéritée</td>\n      <td>Contratenor</td>\n      <td>Tenor</td>\n      <td>19</td>\n      <td>15</td>\n      <td>20</td>\n      <td>16</td>\n    </tr>\n    <tr>\n      <th>2</th>\n      <td>(-3, 2, -2, -2, -2, 2)</td>\n      <td>0.000000</td>\n      <td>Je suis déshéritée</td>\n      <td>Je suis déshéritée</td>\n      <td>Contratenor</td>\n      <td>Bassus</td>\n      <td>19</td>\n      <td>5</td>\n      <td>20</td>\n      <td>6</td>\n    </tr>\n    <tr>\n      <th>3</th>\n      <td>(-3, 2, -2, -2, -2, 2)</td>\n      <td>0.000000</td>\n      <td>Je suis déshéritée</td>\n      <td>Je suis déshéritée</td>\n      <td>Contratenor</td>\n      <td>Bassus</td>\n      <td>19</td>\n      <td>13</td>\n      <td>20</td>\n      <td>14</td>\n    </tr>\n    <tr>\n      <th>4</th>\n      <td>(-3, 2, -2, -2, -2, 2)</td>\n      <td>0.000000</td>\n      <td>Je suis déshéritée</td>\n      <td>Je suis déshéritée</td>\n      <td>Tenor</td>\n      <td>Bassus</td>\n      <td>15</td>\n      <td>5</td>\n      <td>16</td>\n      <td>6</td>\n    </tr>\n    <tr>\n      <th>...</th>\n      <td>...</td>\n      <td>...</td>\n      <td>...</td>\n      <td>...</td>\n      <td>...</td>\n      <td>...</td>\n      <td>...</td>\n      <td>...</td>\n      <td>...</td>\n      <td>...</td>\n    </tr>\n    <tr>\n      <th>75</th>\n      <td>(2, 2, 2, 2, -3, 2)</td>\n      <td>0.666667</td>\n      <td>Je suis déshéritée</td>\n      <td>Je suis déshéritée</td>\n      <td>Tenor</td>\n      <td>Bassus</td>\n      <td>15</td>\n      <td>5</td>\n      <td>16</td>\n      <td>6</td>\n    </tr>\n    <tr>\n      <th>76</th>\n      <td>(2, 2, 2, 2, -3, 2)</td>\n      <td>0.666667</td>\n      <td>Je suis déshéritée</td>\n      <td>Je suis déshéritée</td>\n      <td>Tenor</td>\n      <td>Bassus</td>\n      <td>15</td>\n      <td>13</td>\n      <td>16</td>\n      <td>14</td>\n    </tr>\n    <tr>\n      <th>77</th>\n      <td>(2, 2, 2, 2, -3, 2)</td>\n      <td>0.000000</td>\n      <td>Je suis déshéritée</td>\n      <td>Je suis déshéritée</td>\n      <td>Bassus</td>\n      <td>Bassus</td>\n      <td>5</td>\n      <td>13</td>\n      <td>6</td>\n      <td>14</td>\n    </tr>\n    <tr>\n      <th>78</th>\n      <td>(2, 2, 2, 2, 2, 3)</td>\n      <td>0.666667</td>\n      <td>Je suis déshéritée</td>\n      <td>Je suis déshéritée</td>\n      <td>Superius</td>\n      <td>Bassus</td>\n      <td>29</td>\n      <td>29</td>\n      <td>30</td>\n      <td>30</td>\n    </tr>\n    <tr>\n      <th>79</th>\n      <td>(2, 2, 2, 2, 3, -2)</td>\n      <td>0.250000</td>\n      <td>Je suis déshéritée</td>\n      <td>Je suis déshéritée</td>\n      <td>Superius</td>\n      <td>Bassus</td>\n      <td>29</td>\n      <td>29</td>\n      <td>30</td>\n      <td>30</td>\n    </tr>\n  </tbody>\n</table>\n<p>80 rows × 10 columns</p>\n</div>"
     },
     "metadata": {},
     "execution_count": 226
    }
   ],
   "source": [
    "ratio_distances = get_ratio_distances(results, \"pattern_generating_match\", [\"piece_title\", \"part\", \"start_measure\", \"end_measure\"])\n",
    "ratio_distances"
   ]
  },
  {
   "cell_type": "markdown",
   "metadata": {},
   "source": [
    "### And FILTER the results according to any threshold we like"
   ]
  },
  {
   "cell_type": "code",
   "execution_count": 229,
   "metadata": {},
   "outputs": [
    {
     "output_type": "execute_result",
     "data": {
      "text/plain": [
       "42"
      ]
     },
     "metadata": {},
     "execution_count": 229
    }
   ],
   "source": [
    "ratios_filtered = ratio_distances[ratio_distances.sum_diffs <= 0]\n",
    "len(ratios_filtered)"
   ]
  },
  {
   "cell_type": "markdown",
   "metadata": {},
   "source": [
    "### Now Group the Duration-Filter Results by the Pattern (which shows us very closely related soggetti in sets)"
   ]
  },
  {
   "cell_type": "code",
   "execution_count": 230,
   "metadata": {},
   "outputs": [
    {
     "output_type": "execute_result",
     "data": {
      "text/plain": [
       "19"
      ]
     },
     "metadata": {},
     "execution_count": 230
    }
   ],
   "source": [
    "grouped = ratios_filtered.groupby(\"pattern\")\n",
    "len(grouped['pattern'].nunique())"
   ]
  },
  {
   "cell_type": "code",
   "execution_count": 81,
   "metadata": {},
   "outputs": [],
   "source": [
    "ratios_filtered.to_csv(\"filtered_sample_pair.csv\")"
   ]
  },
  {
   "source": [
    "### Greedy Soggetti\n",
    "* Groups by voice part\n",
    "* Gets one voice, then creates shifted cols to contain current+previous intervals and durations\n",
    "* slices each tuple: removes first from previous match and last from current match\n",
    "* if these are identical, then we can merge the two soggetti"
   ],
   "cell_type": "markdown",
   "metadata": {}
  },
  {
   "cell_type": "code",
   "execution_count": null,
   "metadata": {},
   "outputs": [],
   "source": [
    "def "
   ]
  },
  {
   "cell_type": "code",
   "execution_count": 231,
   "metadata": {},
   "outputs": [],
   "source": [
    "def add_shifted_cols(df: pd.DataFrame,\n",
    "                    group_cols: list,\n",
    "                    shift_cols: list,\n",
    "                    shift_periods=-1,\n",
    "                    shifted_prefix=\"next\"\n",
    "                    ) -> pd.DataFrame:\n",
    "    df = df.copy()\n",
    "\n",
    "    df_shifted = df.groupby(group_cols).shift(shift_periods)\n",
    "\n",
    "    df[[ f\"{shifted_prefix}_{c}\" for c in shift_cols]] = df_shifted[shift_cols]\n",
    "\n",
    "    return df"
   ]
  },
  {
   "cell_type": "code",
   "execution_count": 232,
   "metadata": {},
   "outputs": [],
   "source": [
    "from typing import Sequence\n",
    "\n",
    "def add_subsequence_cols(df: pd.DataFrame, sequence_cols: Sequence) -> pd.DataFrame:\n",
    "\n",
    "    df = df.copy()\n",
    "\n",
    "    for col in sequence_cols:\n",
    "            df[f\"{col}_short\"] = df[col].dropna().apply(lambda x: x[1:-1])\n",
    "\n",
    "    return df\n",
    "\n"
   ]
  },
  {
   "cell_type": "code",
   "execution_count": 233,
   "metadata": {},
   "outputs": [
    {
     "output_type": "execute_result",
     "data": {
      "text/plain": [
       "  pattern_generating_match        pattern_matched         piece_title  \\\n",
       "0      (1, 1, 3, 1, 2, -4)    [1, 1, 3, 1, 2, -4]  Je suis déshéritée   \n",
       "1      (1, 1, 3, 1, 2, -4)    [1, 1, 3, 1, 2, -4]  Je suis déshéritée   \n",
       "2      (1, 1, 3, 1, 2, -4)    [1, 1, 3, 1, 2, -4]  Je suis déshéritée   \n",
       "3      (1, 1, 3, 1, 2, -4)    [1, 1, 3, 1, 2, -4]  Je suis déshéritée   \n",
       "4    (1, 1, -2, -2, -2, 2)  [1, 1, -2, -2, -2, 2]  Je suis déshéritée   \n",
       "\n",
       "       part  start_measure  end_measure                        note_durations  \\\n",
       "0  Superius              3            5   (4.0, 2.0, 2.0, 2.0, 2.0, 4.0, 8.0)   \n",
       "1  Superius             11           13   (4.0, 2.0, 2.0, 2.0, 2.0, 4.0, 8.0)   \n",
       "2     Tenor              1            3   (4.0, 2.0, 2.0, 2.0, 2.0, 4.0, 8.0)   \n",
       "3     Tenor              9           11  (4.0, 2.0, 2.0, 2.0, 2.0, 4.0, 12.0)   \n",
       "4  Superius              7            9   (2.0, 2.0, 2.0, 2.0, 4.0, 2.0, 4.0)   \n",
       "\n",
       "                                      ema  \\\n",
       "0    3-5/1/@1.0-end,@start-end,@start-1.0   \n",
       "1  11-13/1/@1.0-end,@start-end,@start-1.0   \n",
       "2    1-3/3/@3.0-end,@start-end,@start-3.0   \n",
       "3   9-11/3/@1.0-end,@start-end,@start-1.0   \n",
       "4    7-9/1/@2.0-end,@start-end,@start-1.0   \n",
       "\n",
       "                                             ema_url  \\\n",
       "0  https://ema.crimproject.org/https%3A%2F%2Fcrim...   \n",
       "1  https://ema.crimproject.org/https%3A%2F%2Fcrim...   \n",
       "2  https://ema.crimproject.org/https%3A%2F%2Fcrim...   \n",
       "3  https://ema.crimproject.org/https%3A%2F%2Fcrim...   \n",
       "4  https://ema.crimproject.org/https%3A%2F%2Fcrim...   \n",
       "\n",
       "                  duration_ratios  next_start_measure  next_end_measure  \\\n",
       "0  (0.5, 1.0, 1.0, 1.0, 2.0, 2.0)                11.0              13.0   \n",
       "1  (0.5, 1.0, 1.0, 1.0, 2.0, 2.0)                 7.0               9.0   \n",
       "2  (0.5, 1.0, 1.0, 1.0, 2.0, 2.0)                 9.0              11.0   \n",
       "3  (0.5, 1.0, 1.0, 1.0, 2.0, 3.0)                 5.0               7.0   \n",
       "4  (1.0, 1.0, 1.0, 2.0, 0.5, 2.0)                15.0              17.0   \n",
       "\n",
       "                    next_note_durations   next_pattern_matched  \n",
       "0   (4.0, 2.0, 2.0, 2.0, 2.0, 4.0, 8.0)    [1, 1, 3, 1, 2, -4]  \n",
       "1   (2.0, 2.0, 2.0, 2.0, 4.0, 2.0, 4.0)  [1, 1, -2, -2, -2, 2]  \n",
       "2  (4.0, 2.0, 2.0, 2.0, 2.0, 4.0, 12.0)    [1, 1, 3, 1, 2, -4]  \n",
       "3   (2.0, 2.0, 2.0, 2.0, 4.0, 2.0, 4.0)  [1, 1, -2, -2, -2, 2]  \n",
       "4   (2.0, 2.0, 2.0, 2.0, 4.0, 2.0, 4.0)  [1, 1, -2, -2, -2, 2]  "
      ],
      "text/html": "<div>\n<style scoped>\n    .dataframe tbody tr th:only-of-type {\n        vertical-align: middle;\n    }\n\n    .dataframe tbody tr th {\n        vertical-align: top;\n    }\n\n    .dataframe thead th {\n        text-align: right;\n    }\n</style>\n<table border=\"1\" class=\"dataframe\">\n  <thead>\n    <tr style=\"text-align: right;\">\n      <th></th>\n      <th>pattern_generating_match</th>\n      <th>pattern_matched</th>\n      <th>piece_title</th>\n      <th>part</th>\n      <th>start_measure</th>\n      <th>end_measure</th>\n      <th>note_durations</th>\n      <th>ema</th>\n      <th>ema_url</th>\n      <th>duration_ratios</th>\n      <th>next_start_measure</th>\n      <th>next_end_measure</th>\n      <th>next_note_durations</th>\n      <th>next_pattern_matched</th>\n    </tr>\n  </thead>\n  <tbody>\n    <tr>\n      <th>0</th>\n      <td>(1, 1, 3, 1, 2, -4)</td>\n      <td>[1, 1, 3, 1, 2, -4]</td>\n      <td>Je suis déshéritée</td>\n      <td>Superius</td>\n      <td>3</td>\n      <td>5</td>\n      <td>(4.0, 2.0, 2.0, 2.0, 2.0, 4.0, 8.0)</td>\n      <td>3-5/1/@1.0-end,@start-end,@start-1.0</td>\n      <td>https://ema.crimproject.org/https%3A%2F%2Fcrim...</td>\n      <td>(0.5, 1.0, 1.0, 1.0, 2.0, 2.0)</td>\n      <td>11.0</td>\n      <td>13.0</td>\n      <td>(4.0, 2.0, 2.0, 2.0, 2.0, 4.0, 8.0)</td>\n      <td>[1, 1, 3, 1, 2, -4]</td>\n    </tr>\n    <tr>\n      <th>1</th>\n      <td>(1, 1, 3, 1, 2, -4)</td>\n      <td>[1, 1, 3, 1, 2, -4]</td>\n      <td>Je suis déshéritée</td>\n      <td>Superius</td>\n      <td>11</td>\n      <td>13</td>\n      <td>(4.0, 2.0, 2.0, 2.0, 2.0, 4.0, 8.0)</td>\n      <td>11-13/1/@1.0-end,@start-end,@start-1.0</td>\n      <td>https://ema.crimproject.org/https%3A%2F%2Fcrim...</td>\n      <td>(0.5, 1.0, 1.0, 1.0, 2.0, 2.0)</td>\n      <td>7.0</td>\n      <td>9.0</td>\n      <td>(2.0, 2.0, 2.0, 2.0, 4.0, 2.0, 4.0)</td>\n      <td>[1, 1, -2, -2, -2, 2]</td>\n    </tr>\n    <tr>\n      <th>2</th>\n      <td>(1, 1, 3, 1, 2, -4)</td>\n      <td>[1, 1, 3, 1, 2, -4]</td>\n      <td>Je suis déshéritée</td>\n      <td>Tenor</td>\n      <td>1</td>\n      <td>3</td>\n      <td>(4.0, 2.0, 2.0, 2.0, 2.0, 4.0, 8.0)</td>\n      <td>1-3/3/@3.0-end,@start-end,@start-3.0</td>\n      <td>https://ema.crimproject.org/https%3A%2F%2Fcrim...</td>\n      <td>(0.5, 1.0, 1.0, 1.0, 2.0, 2.0)</td>\n      <td>9.0</td>\n      <td>11.0</td>\n      <td>(4.0, 2.0, 2.0, 2.0, 2.0, 4.0, 12.0)</td>\n      <td>[1, 1, 3, 1, 2, -4]</td>\n    </tr>\n    <tr>\n      <th>3</th>\n      <td>(1, 1, 3, 1, 2, -4)</td>\n      <td>[1, 1, 3, 1, 2, -4]</td>\n      <td>Je suis déshéritée</td>\n      <td>Tenor</td>\n      <td>9</td>\n      <td>11</td>\n      <td>(4.0, 2.0, 2.0, 2.0, 2.0, 4.0, 12.0)</td>\n      <td>9-11/3/@1.0-end,@start-end,@start-1.0</td>\n      <td>https://ema.crimproject.org/https%3A%2F%2Fcrim...</td>\n      <td>(0.5, 1.0, 1.0, 1.0, 2.0, 3.0)</td>\n      <td>5.0</td>\n      <td>7.0</td>\n      <td>(2.0, 2.0, 2.0, 2.0, 4.0, 2.0, 4.0)</td>\n      <td>[1, 1, -2, -2, -2, 2]</td>\n    </tr>\n    <tr>\n      <th>4</th>\n      <td>(1, 1, -2, -2, -2, 2)</td>\n      <td>[1, 1, -2, -2, -2, 2]</td>\n      <td>Je suis déshéritée</td>\n      <td>Superius</td>\n      <td>7</td>\n      <td>9</td>\n      <td>(2.0, 2.0, 2.0, 2.0, 4.0, 2.0, 4.0)</td>\n      <td>7-9/1/@2.0-end,@start-end,@start-1.0</td>\n      <td>https://ema.crimproject.org/https%3A%2F%2Fcrim...</td>\n      <td>(1.0, 1.0, 1.0, 2.0, 0.5, 2.0)</td>\n      <td>15.0</td>\n      <td>17.0</td>\n      <td>(2.0, 2.0, 2.0, 2.0, 4.0, 2.0, 4.0)</td>\n      <td>[1, 1, -2, -2, -2, 2]</td>\n    </tr>\n  </tbody>\n</table>\n</div>"
     },
     "metadata": {},
     "execution_count": 233
    }
   ],
   "source": [
    "df_shifted = add_shifted_cols(results,\n",
    "                    group_cols=[\"piece_title\", \"part\"],\n",
    "                    shift_cols=[\"start_measure\", \"end_measure\", \"note_durations\", \"pattern_matched\"])\n",
    "df_shifted.head()"
   ]
  },
  {
   "cell_type": "code",
   "execution_count": 34,
   "metadata": {},
   "outputs": [
    {
     "output_type": "execute_result",
     "data": {
      "text/plain": [
       "    pattern_generating_match     pattern_matched         piece_title  \\\n",
       "0            (1, 1, 3, 1, 2)     [1, 1, 3, 1, 2]  Je suis déshéritée   \n",
       "1            (1, 1, 3, 1, 2)     [1, 1, 3, 1, 2]  Je suis déshéritée   \n",
       "2            (1, 1, 3, 1, 2)     [1, 1, 3, 1, 2]  Je suis déshéritée   \n",
       "3            (1, 1, 3, 1, 2)     [1, 1, 3, 1, 2]  Je suis déshéritée   \n",
       "4            (1, 1, 3, 1, 2)     [1, 1, 3, 1, 2]  Je suis déshéritée   \n",
       "..                       ...                 ...                 ...   \n",
       "253       (1, -2, -2, -2, 1)  [1, -2, -2, -2, 2]  Je suis déshéritée   \n",
       "254       (1, -2, -2, -2, 1)  [2, -2, -2, -2, 1]  Je suis déshéritée   \n",
       "255       (1, -2, -2, -2, 1)  [1, -2, -2, -2, 2]  Je suis déshéritée   \n",
       "256       (1, -2, -2, -2, 1)  [1, -2, -2, -2, 2]  Je suis déshéritée   \n",
       "257       (1, -2, -2, -2, 1)  [1, -2, -2, -2, 1]  Je suis déshéritée   \n",
       "\n",
       "            part  start_measure  end_measure                  note_durations  \\\n",
       "0       Superius              3            4  [4.0, 2.0, 2.0, 2.0, 2.0, 4.0]   \n",
       "1       Superius             11           12  [4.0, 2.0, 2.0, 2.0, 2.0, 4.0]   \n",
       "2    Contratenor              9           11  [2.0, 2.0, 2.0, 2.0, 2.0, 2.0]   \n",
       "3          Tenor              1            3  [4.0, 2.0, 2.0, 2.0, 2.0, 4.0]   \n",
       "4          Tenor              9           10  [4.0, 2.0, 2.0, 2.0, 2.0, 4.0]   \n",
       "..           ...            ...          ...                             ...   \n",
       "253     Superius             26           27  [2.0, 2.0, 2.0, 1.0, 1.0, 2.0]   \n",
       "254  Contratenor             22           24  [4.0, 2.0, 2.0, 4.0, 4.0, 2.0]   \n",
       "255        Tenor              5            7  [2.0, 2.0, 2.0, 4.0, 2.0, 4.0]   \n",
       "256        Tenor             13           15  [2.0, 2.0, 2.0, 4.0, 2.0, 3.0]   \n",
       "257       Bassus             15           16  [2.0, 2.0, 2.0, 2.0, 2.0, 2.0]   \n",
       "\n",
       "                                        ema  \\\n",
       "0                 3-4/1/@1.0-end,@start-3.0   \n",
       "1               11-12/1/@1.0-end,@start-3.0   \n",
       "2     9-11/2/@4.0-end,@start-end,@start-1.0   \n",
       "3      1-3/3/@3.0-end,@start-end,@start-1.0   \n",
       "4                9-10/3/@1.0-end,@start-3.0   \n",
       "..                                      ...   \n",
       "253             26-27/1/@1.0-end,@start-1.0   \n",
       "254  22-24/2/@1.0-end,@start-end,@start-1.0   \n",
       "255    5-7/3/@3.0-end,@start-end,@start-1.0   \n",
       "256  13-15/3/@3.0-end,@start-end,@start-1.0   \n",
       "257             15-16/4/@3.0-end,@start-4.0   \n",
       "\n",
       "                                               ema_url  \\\n",
       "0    https://ema.crimproject.org/https%3A%2F%2Fcrim...   \n",
       "1    https://ema.crimproject.org/https%3A%2F%2Fcrim...   \n",
       "2    https://ema.crimproject.org/https%3A%2F%2Fcrim...   \n",
       "3    https://ema.crimproject.org/https%3A%2F%2Fcrim...   \n",
       "4    https://ema.crimproject.org/https%3A%2F%2Fcrim...   \n",
       "..                                                 ...   \n",
       "253  https://ema.crimproject.org/https%3A%2F%2Fcrim...   \n",
       "254  https://ema.crimproject.org/https%3A%2F%2Fcrim...   \n",
       "255  https://ema.crimproject.org/https%3A%2F%2Fcrim...   \n",
       "256  https://ema.crimproject.org/https%3A%2F%2Fcrim...   \n",
       "257  https://ema.crimproject.org/https%3A%2F%2Fcrim...   \n",
       "\n",
       "               duration_ratios  next_start_measure  next_end_measure  \\\n",
       "0    [0.5, 1.0, 1.0, 1.0, 2.0]                11.0              12.0   \n",
       "1    [0.5, 1.0, 1.0, 1.0, 2.0]                 3.0               5.0   \n",
       "2    [1.0, 1.0, 1.0, 1.0, 1.0]                10.0              11.0   \n",
       "3    [0.5, 1.0, 1.0, 1.0, 2.0]                 9.0              10.0   \n",
       "4    [0.5, 1.0, 1.0, 1.0, 2.0]                 2.0               3.0   \n",
       "..                         ...                 ...               ...   \n",
       "253  [1.0, 1.0, 0.5, 1.0, 2.0]                 NaN               NaN   \n",
       "254  [0.5, 1.0, 2.0, 1.0, 0.5]                 NaN               NaN   \n",
       "255  [1.0, 1.0, 2.0, 0.5, 2.0]                13.0              15.0   \n",
       "256  [1.0, 1.0, 2.0, 0.5, 1.5]                 NaN               NaN   \n",
       "257  [1.0, 1.0, 1.0, 1.0, 1.0]                 NaN               NaN   \n",
       "\n",
       "                next_note_durations next_pattern_matched  \\\n",
       "0    [4.0, 2.0, 2.0, 2.0, 2.0, 4.0]      [1, 1, 3, 1, 2]   \n",
       "1    [2.0, 2.0, 2.0, 2.0, 4.0, 8.0]     [1, 3, 1, 2, -4]   \n",
       "2    [2.0, 2.0, 2.0, 2.0, 2.0, 4.0]     [1, 3, 1, 2, -3]   \n",
       "3    [4.0, 2.0, 2.0, 2.0, 2.0, 4.0]      [1, 1, 3, 1, 2]   \n",
       "4    [2.0, 2.0, 2.0, 2.0, 4.0, 8.0]     [1, 3, 1, 2, -4]   \n",
       "..                              ...                  ...   \n",
       "253                             NaN                  NaN   \n",
       "254                             NaN                  NaN   \n",
       "255  [2.0, 2.0, 2.0, 4.0, 2.0, 3.0]   [1, -2, -2, -2, 2]   \n",
       "256                             NaN                  NaN   \n",
       "257                             NaN                  NaN   \n",
       "\n",
       "    pattern_matched_short next_pattern_matched_short  note_durations_short  \\\n",
       "0               [1, 3, 1]                  [1, 3, 1]  [2.0, 2.0, 2.0, 2.0]   \n",
       "1               [1, 3, 1]                  [3, 1, 2]  [2.0, 2.0, 2.0, 2.0]   \n",
       "2               [1, 3, 1]                  [3, 1, 2]  [2.0, 2.0, 2.0, 2.0]   \n",
       "3               [1, 3, 1]                  [1, 3, 1]  [2.0, 2.0, 2.0, 2.0]   \n",
       "4               [1, 3, 1]                  [3, 1, 2]  [2.0, 2.0, 2.0, 2.0]   \n",
       "..                    ...                        ...                   ...   \n",
       "253          [-2, -2, -2]                        NaN  [2.0, 2.0, 1.0, 1.0]   \n",
       "254          [-2, -2, -2]                        NaN  [2.0, 2.0, 4.0, 4.0]   \n",
       "255          [-2, -2, -2]               [-2, -2, -2]  [2.0, 2.0, 4.0, 2.0]   \n",
       "256          [-2, -2, -2]                        NaN  [2.0, 2.0, 4.0, 2.0]   \n",
       "257          [-2, -2, -2]                        NaN  [2.0, 2.0, 2.0, 2.0]   \n",
       "\n",
       "    next_note_durations_short  \n",
       "0        [2.0, 2.0, 2.0, 2.0]  \n",
       "1        [2.0, 2.0, 2.0, 4.0]  \n",
       "2        [2.0, 2.0, 2.0, 2.0]  \n",
       "3        [2.0, 2.0, 2.0, 2.0]  \n",
       "4        [2.0, 2.0, 2.0, 4.0]  \n",
       "..                        ...  \n",
       "253                       NaN  \n",
       "254                       NaN  \n",
       "255      [2.0, 2.0, 4.0, 2.0]  \n",
       "256                       NaN  \n",
       "257                       NaN  \n",
       "\n",
       "[258 rows x 18 columns]"
      ],
      "text/html": "<div>\n<style scoped>\n    .dataframe tbody tr th:only-of-type {\n        vertical-align: middle;\n    }\n\n    .dataframe tbody tr th {\n        vertical-align: top;\n    }\n\n    .dataframe thead th {\n        text-align: right;\n    }\n</style>\n<table border=\"1\" class=\"dataframe\">\n  <thead>\n    <tr style=\"text-align: right;\">\n      <th></th>\n      <th>pattern_generating_match</th>\n      <th>pattern_matched</th>\n      <th>piece_title</th>\n      <th>part</th>\n      <th>start_measure</th>\n      <th>end_measure</th>\n      <th>note_durations</th>\n      <th>ema</th>\n      <th>ema_url</th>\n      <th>duration_ratios</th>\n      <th>next_start_measure</th>\n      <th>next_end_measure</th>\n      <th>next_note_durations</th>\n      <th>next_pattern_matched</th>\n      <th>pattern_matched_short</th>\n      <th>next_pattern_matched_short</th>\n      <th>note_durations_short</th>\n      <th>next_note_durations_short</th>\n    </tr>\n  </thead>\n  <tbody>\n    <tr>\n      <th>0</th>\n      <td>(1, 1, 3, 1, 2)</td>\n      <td>[1, 1, 3, 1, 2]</td>\n      <td>Je suis déshéritée</td>\n      <td>Superius</td>\n      <td>3</td>\n      <td>4</td>\n      <td>[4.0, 2.0, 2.0, 2.0, 2.0, 4.0]</td>\n      <td>3-4/1/@1.0-end,@start-3.0</td>\n      <td>https://ema.crimproject.org/https%3A%2F%2Fcrim...</td>\n      <td>[0.5, 1.0, 1.0, 1.0, 2.0]</td>\n      <td>11.0</td>\n      <td>12.0</td>\n      <td>[4.0, 2.0, 2.0, 2.0, 2.0, 4.0]</td>\n      <td>[1, 1, 3, 1, 2]</td>\n      <td>[1, 3, 1]</td>\n      <td>[1, 3, 1]</td>\n      <td>[2.0, 2.0, 2.0, 2.0]</td>\n      <td>[2.0, 2.0, 2.0, 2.0]</td>\n    </tr>\n    <tr>\n      <th>1</th>\n      <td>(1, 1, 3, 1, 2)</td>\n      <td>[1, 1, 3, 1, 2]</td>\n      <td>Je suis déshéritée</td>\n      <td>Superius</td>\n      <td>11</td>\n      <td>12</td>\n      <td>[4.0, 2.0, 2.0, 2.0, 2.0, 4.0]</td>\n      <td>11-12/1/@1.0-end,@start-3.0</td>\n      <td>https://ema.crimproject.org/https%3A%2F%2Fcrim...</td>\n      <td>[0.5, 1.0, 1.0, 1.0, 2.0]</td>\n      <td>3.0</td>\n      <td>5.0</td>\n      <td>[2.0, 2.0, 2.0, 2.0, 4.0, 8.0]</td>\n      <td>[1, 3, 1, 2, -4]</td>\n      <td>[1, 3, 1]</td>\n      <td>[3, 1, 2]</td>\n      <td>[2.0, 2.0, 2.0, 2.0]</td>\n      <td>[2.0, 2.0, 2.0, 4.0]</td>\n    </tr>\n    <tr>\n      <th>2</th>\n      <td>(1, 1, 3, 1, 2)</td>\n      <td>[1, 1, 3, 1, 2]</td>\n      <td>Je suis déshéritée</td>\n      <td>Contratenor</td>\n      <td>9</td>\n      <td>11</td>\n      <td>[2.0, 2.0, 2.0, 2.0, 2.0, 2.0]</td>\n      <td>9-11/2/@4.0-end,@start-end,@start-1.0</td>\n      <td>https://ema.crimproject.org/https%3A%2F%2Fcrim...</td>\n      <td>[1.0, 1.0, 1.0, 1.0, 1.0]</td>\n      <td>10.0</td>\n      <td>11.0</td>\n      <td>[2.0, 2.0, 2.0, 2.0, 2.0, 4.0]</td>\n      <td>[1, 3, 1, 2, -3]</td>\n      <td>[1, 3, 1]</td>\n      <td>[3, 1, 2]</td>\n      <td>[2.0, 2.0, 2.0, 2.0]</td>\n      <td>[2.0, 2.0, 2.0, 2.0]</td>\n    </tr>\n    <tr>\n      <th>3</th>\n      <td>(1, 1, 3, 1, 2)</td>\n      <td>[1, 1, 3, 1, 2]</td>\n      <td>Je suis déshéritée</td>\n      <td>Tenor</td>\n      <td>1</td>\n      <td>3</td>\n      <td>[4.0, 2.0, 2.0, 2.0, 2.0, 4.0]</td>\n      <td>1-3/3/@3.0-end,@start-end,@start-1.0</td>\n      <td>https://ema.crimproject.org/https%3A%2F%2Fcrim...</td>\n      <td>[0.5, 1.0, 1.0, 1.0, 2.0]</td>\n      <td>9.0</td>\n      <td>10.0</td>\n      <td>[4.0, 2.0, 2.0, 2.0, 2.0, 4.0]</td>\n      <td>[1, 1, 3, 1, 2]</td>\n      <td>[1, 3, 1]</td>\n      <td>[1, 3, 1]</td>\n      <td>[2.0, 2.0, 2.0, 2.0]</td>\n      <td>[2.0, 2.0, 2.0, 2.0]</td>\n    </tr>\n    <tr>\n      <th>4</th>\n      <td>(1, 1, 3, 1, 2)</td>\n      <td>[1, 1, 3, 1, 2]</td>\n      <td>Je suis déshéritée</td>\n      <td>Tenor</td>\n      <td>9</td>\n      <td>10</td>\n      <td>[4.0, 2.0, 2.0, 2.0, 2.0, 4.0]</td>\n      <td>9-10/3/@1.0-end,@start-3.0</td>\n      <td>https://ema.crimproject.org/https%3A%2F%2Fcrim...</td>\n      <td>[0.5, 1.0, 1.0, 1.0, 2.0]</td>\n      <td>2.0</td>\n      <td>3.0</td>\n      <td>[2.0, 2.0, 2.0, 2.0, 4.0, 8.0]</td>\n      <td>[1, 3, 1, 2, -4]</td>\n      <td>[1, 3, 1]</td>\n      <td>[3, 1, 2]</td>\n      <td>[2.0, 2.0, 2.0, 2.0]</td>\n      <td>[2.0, 2.0, 2.0, 4.0]</td>\n    </tr>\n    <tr>\n      <th>...</th>\n      <td>...</td>\n      <td>...</td>\n      <td>...</td>\n      <td>...</td>\n      <td>...</td>\n      <td>...</td>\n      <td>...</td>\n      <td>...</td>\n      <td>...</td>\n      <td>...</td>\n      <td>...</td>\n      <td>...</td>\n      <td>...</td>\n      <td>...</td>\n      <td>...</td>\n      <td>...</td>\n      <td>...</td>\n      <td>...</td>\n    </tr>\n    <tr>\n      <th>253</th>\n      <td>(1, -2, -2, -2, 1)</td>\n      <td>[1, -2, -2, -2, 2]</td>\n      <td>Je suis déshéritée</td>\n      <td>Superius</td>\n      <td>26</td>\n      <td>27</td>\n      <td>[2.0, 2.0, 2.0, 1.0, 1.0, 2.0]</td>\n      <td>26-27/1/@1.0-end,@start-1.0</td>\n      <td>https://ema.crimproject.org/https%3A%2F%2Fcrim...</td>\n      <td>[1.0, 1.0, 0.5, 1.0, 2.0]</td>\n      <td>NaN</td>\n      <td>NaN</td>\n      <td>NaN</td>\n      <td>NaN</td>\n      <td>[-2, -2, -2]</td>\n      <td>NaN</td>\n      <td>[2.0, 2.0, 1.0, 1.0]</td>\n      <td>NaN</td>\n    </tr>\n    <tr>\n      <th>254</th>\n      <td>(1, -2, -2, -2, 1)</td>\n      <td>[2, -2, -2, -2, 1]</td>\n      <td>Je suis déshéritée</td>\n      <td>Contratenor</td>\n      <td>22</td>\n      <td>24</td>\n      <td>[4.0, 2.0, 2.0, 4.0, 4.0, 2.0]</td>\n      <td>22-24/2/@1.0-end,@start-end,@start-1.0</td>\n      <td>https://ema.crimproject.org/https%3A%2F%2Fcrim...</td>\n      <td>[0.5, 1.0, 2.0, 1.0, 0.5]</td>\n      <td>NaN</td>\n      <td>NaN</td>\n      <td>NaN</td>\n      <td>NaN</td>\n      <td>[-2, -2, -2]</td>\n      <td>NaN</td>\n      <td>[2.0, 2.0, 4.0, 4.0]</td>\n      <td>NaN</td>\n    </tr>\n    <tr>\n      <th>255</th>\n      <td>(1, -2, -2, -2, 1)</td>\n      <td>[1, -2, -2, -2, 2]</td>\n      <td>Je suis déshéritée</td>\n      <td>Tenor</td>\n      <td>5</td>\n      <td>7</td>\n      <td>[2.0, 2.0, 2.0, 4.0, 2.0, 4.0]</td>\n      <td>5-7/3/@3.0-end,@start-end,@start-1.0</td>\n      <td>https://ema.crimproject.org/https%3A%2F%2Fcrim...</td>\n      <td>[1.0, 1.0, 2.0, 0.5, 2.0]</td>\n      <td>13.0</td>\n      <td>15.0</td>\n      <td>[2.0, 2.0, 2.0, 4.0, 2.0, 3.0]</td>\n      <td>[1, -2, -2, -2, 2]</td>\n      <td>[-2, -2, -2]</td>\n      <td>[-2, -2, -2]</td>\n      <td>[2.0, 2.0, 4.0, 2.0]</td>\n      <td>[2.0, 2.0, 4.0, 2.0]</td>\n    </tr>\n    <tr>\n      <th>256</th>\n      <td>(1, -2, -2, -2, 1)</td>\n      <td>[1, -2, -2, -2, 2]</td>\n      <td>Je suis déshéritée</td>\n      <td>Tenor</td>\n      <td>13</td>\n      <td>15</td>\n      <td>[2.0, 2.0, 2.0, 4.0, 2.0, 3.0]</td>\n      <td>13-15/3/@3.0-end,@start-end,@start-1.0</td>\n      <td>https://ema.crimproject.org/https%3A%2F%2Fcrim...</td>\n      <td>[1.0, 1.0, 2.0, 0.5, 1.5]</td>\n      <td>NaN</td>\n      <td>NaN</td>\n      <td>NaN</td>\n      <td>NaN</td>\n      <td>[-2, -2, -2]</td>\n      <td>NaN</td>\n      <td>[2.0, 2.0, 4.0, 2.0]</td>\n      <td>NaN</td>\n    </tr>\n    <tr>\n      <th>257</th>\n      <td>(1, -2, -2, -2, 1)</td>\n      <td>[1, -2, -2, -2, 1]</td>\n      <td>Je suis déshéritée</td>\n      <td>Bassus</td>\n      <td>15</td>\n      <td>16</td>\n      <td>[2.0, 2.0, 2.0, 2.0, 2.0, 2.0]</td>\n      <td>15-16/4/@3.0-end,@start-4.0</td>\n      <td>https://ema.crimproject.org/https%3A%2F%2Fcrim...</td>\n      <td>[1.0, 1.0, 1.0, 1.0, 1.0]</td>\n      <td>NaN</td>\n      <td>NaN</td>\n      <td>NaN</td>\n      <td>NaN</td>\n      <td>[-2, -2, -2]</td>\n      <td>NaN</td>\n      <td>[2.0, 2.0, 2.0, 2.0]</td>\n      <td>NaN</td>\n    </tr>\n  </tbody>\n</table>\n<p>258 rows × 18 columns</p>\n</div>"
     },
     "metadata": {},
     "execution_count": 34
    }
   ],
   "source": [
    "df_shifted = add_subsequence_cols(df_shifted, [\"pattern_matched\", \n",
    "                            \"next_pattern_matched\",\n",
    "                            \"note_durations\",\n",
    "                            \"next_note_durations\"])\n",
    "df_shifted"
   ]
  },
  {
   "cell_type": "code",
   "execution_count": 235,
   "metadata": {},
   "outputs": [
    {
     "output_type": "execute_result",
     "data": {
      "text/plain": [
       "           pattern_matched         piece_title         part  start_measure  \\\n",
       "0      [1, 1, 3, 1, 2, -4]  Je suis déshéritée     Superius              3   \n",
       "1      [1, 1, 3, 1, 2, -4]  Je suis déshéritée     Superius             11   \n",
       "2      [1, 1, 3, 1, 2, -4]  Je suis déshéritée        Tenor              1   \n",
       "3      [1, 1, 3, 1, 2, -4]  Je suis déshéritée        Tenor              9   \n",
       "4    [1, 1, -2, -2, -2, 2]  Je suis déshéritée     Superius              7   \n",
       "5    [1, 1, -2, -2, -2, 2]  Je suis déshéritée     Superius             15   \n",
       "6    [1, 1, -2, -2, -2, 2]  Je suis déshéritée        Tenor              5   \n",
       "7    [1, 1, -2, -2, -2, 2]  Je suis déshéritée        Tenor             13   \n",
       "8   [1, -2, -2, -2, 2, -4]  Je suis déshéritée     Superius              7   \n",
       "9   [1, -2, -2, -2, 2, -4]  Je suis déshéritée     Superius             15   \n",
       "10  [1, -2, -2, -2, 2, -4]  Je suis déshéritée        Tenor              5   \n",
       "11     [1, 2, 3, 1, -2, 2]  Je suis déshéritée     Superius             19   \n",
       "12     [1, 2, 3, 1, -2, 2]  Je suis déshéritée        Tenor             17   \n",
       "13     [1, -3, 2, 2, 2, 2]  Je suis déshéritée     Superius             28   \n",
       "14     [1, -3, 2, 2, 2, 2]  Je suis déshéritée  Contratenor             29   \n",
       "15      [2, 2, 2, 2, 2, 3]  Je suis déshéritée     Superius             29   \n",
       "16      [2, 2, 2, 2, 2, 3]  Je suis déshéritée       Bassus             29   \n",
       "17     [2, 2, 2, 2, 3, -2]  Je suis déshéritée     Superius             29   \n",
       "18     [2, 2, 2, 2, 3, -2]  Je suis déshéritée       Bassus             29   \n",
       "19  [-2, -2, 2, -2, -2, 2]  Je suis déshéritée  Contratenor              3   \n",
       "20  [-2, -2, 2, -2, -2, 2]  Je suis déshéritée  Contratenor             11   \n",
       "21  [-2, -2, 2, -2, -2, 2]  Je suis déshéritée       Bassus              6   \n",
       "22   [-2, 2, -2, -2, 2, 2]  Je suis déshéritée  Contratenor              3   \n",
       "23   [-2, 2, -2, -2, 2, 2]  Je suis déshéritée  Contratenor             11   \n",
       "24   [-2, 2, -2, -2, 2, 2]  Je suis déshéritée       Bassus              6   \n",
       "25    [2, -2, -2, 2, 2, 2]  Je suis déshéritée  Contratenor              3   \n",
       "26    [2, -2, -2, 2, 2, 2]  Je suis déshéritée  Contratenor             11   \n",
       "27    [2, -2, -2, 2, 2, 2]  Je suis déshéritée       Bassus              6   \n",
       "28   [-2, -2, 2, 2, 2, -2]  Je suis déshéritée  Contratenor              4   \n",
       "29   [-2, -2, 2, 2, 2, -2]  Je suis déshéritée  Contratenor             12   \n",
       "30   [-2, -2, 2, 2, 2, -2]  Je suis déshéritée        Tenor             29   \n",
       "31   [-2, 2, 2, 2, -2, -2]  Je suis déshéritée  Contratenor              4   \n",
       "32   [-2, 2, 2, 2, -2, -2]  Je suis déshéritée  Contratenor             12   \n",
       "33   [-2, 2, 2, 2, -2, -2]  Je suis déshéritée        Tenor             29   \n",
       "34   [2, 2, 2, -2, -2, -2]  Je suis déshéritée  Contratenor              4   \n",
       "35   [2, 2, 2, -2, -2, -2]  Je suis déshéritée  Contratenor              7   \n",
       "36   [2, 2, 2, -2, -2, -2]  Je suis déshéritée  Contratenor             12   \n",
       "37   [2, 2, 2, -2, -2, -2]  Je suis déshéritée        Tenor             30   \n",
       "38    [-2, -3, 2, 2, 2, 2]  Je suis déshéritée  Contratenor              6   \n",
       "39    [-2, -3, 2, 2, 2, 2]  Je suis déshéritée       Bassus              4   \n",
       "40    [-2, -3, 2, 2, 2, 2]  Je suis déshéritée       Bassus             12   \n",
       "41    [-3, 2, 2, 2, 2, -2]  Je suis déshéritée  Contratenor              7   \n",
       "42    [-3, 2, 2, 2, 2, -2]  Je suis déshéritée  Contratenor             29   \n",
       "43    [2, 2, 2, -3, 2, -2]  Je suis déshéritée  Contratenor             19   \n",
       "44    [2, 2, 2, -3, 2, -2]  Je suis déshéritée        Tenor             15   \n",
       "45    [2, 2, 2, -3, 2, -2]  Je suis déshéritée       Bassus              5   \n",
       "46    [2, 2, 2, -3, 2, -2]  Je suis déshéritée       Bassus             13   \n",
       "47   [2, 2, -3, 2, -2, -2]  Je suis déshéritée  Contratenor             19   \n",
       "48   [2, 2, -3, 2, -2, -2]  Je suis déshéritée        Tenor             15   \n",
       "49   [2, 2, -3, 2, -2, -2]  Je suis déshéritée       Bassus              5   \n",
       "\n",
       "    end_measure                        note_durations  \\\n",
       "0             5   (4.0, 2.0, 2.0, 2.0, 2.0, 4.0, 8.0)   \n",
       "1            13   (4.0, 2.0, 2.0, 2.0, 2.0, 4.0, 8.0)   \n",
       "2             3   (4.0, 2.0, 2.0, 2.0, 2.0, 4.0, 8.0)   \n",
       "3            11  (4.0, 2.0, 2.0, 2.0, 2.0, 4.0, 12.0)   \n",
       "4             9   (2.0, 2.0, 2.0, 2.0, 4.0, 2.0, 4.0)   \n",
       "5            17   (2.0, 2.0, 2.0, 2.0, 4.0, 2.0, 4.0)   \n",
       "6             7   (2.0, 2.0, 2.0, 2.0, 4.0, 2.0, 4.0)   \n",
       "7            15   (2.0, 2.0, 2.0, 2.0, 4.0, 2.0, 3.0)   \n",
       "8             9   (2.0, 2.0, 2.0, 4.0, 2.0, 4.0, 8.0)   \n",
       "9            17   (2.0, 2.0, 2.0, 4.0, 2.0, 4.0, 8.0)   \n",
       "10            7   (2.0, 2.0, 2.0, 4.0, 2.0, 4.0, 8.0)   \n",
       "11           21   (4.0, 2.0, 2.0, 2.0, 2.0, 2.0, 2.0)   \n",
       "12           19   (4.0, 2.0, 2.0, 2.0, 2.0, 2.0, 2.0)   \n",
       "13           29   (2.0, 2.0, 1.0, 1.0, 1.0, 1.0, 2.0)   \n",
       "14           30   (4.0, 2.0, 3.0, 1.0, 1.0, 1.0, 2.0)   \n",
       "15           30   (1.0, 1.0, 1.0, 1.0, 2.0, 2.0, 4.0)   \n",
       "16           30   (3.0, 1.0, 1.0, 1.0, 2.0, 2.0, 4.0)   \n",
       "17           30   (1.0, 1.0, 1.0, 2.0, 2.0, 4.0, 3.0)   \n",
       "18           30   (1.0, 1.0, 1.0, 2.0, 2.0, 4.0, 2.0)   \n",
       "19            4   (6.0, 1.0, 1.0, 4.0, 1.0, 1.0, 1.0)   \n",
       "20           12   (4.0, 1.0, 1.0, 4.0, 1.0, 1.0, 1.0)   \n",
       "21            7   (1.0, 1.0, 1.0, 4.0, 3.0, 1.0, 1.0)   \n",
       "22            4   (1.0, 1.0, 4.0, 1.0, 1.0, 1.0, 1.0)   \n",
       "23           12   (1.0, 1.0, 4.0, 1.0, 1.0, 1.0, 1.0)   \n",
       "24            7   (1.0, 1.0, 4.0, 3.0, 1.0, 1.0, 1.0)   \n",
       "25            5   (1.0, 4.0, 1.0, 1.0, 1.0, 1.0, 3.0)   \n",
       "26           13   (1.0, 4.0, 1.0, 1.0, 1.0, 1.0, 3.0)   \n",
       "27            7   (1.0, 4.0, 3.0, 1.0, 1.0, 1.0, 2.0)   \n",
       "28            5   (4.0, 1.0, 1.0, 1.0, 1.0, 3.0, 0.5)   \n",
       "29           13   (4.0, 1.0, 1.0, 1.0, 1.0, 3.0, 0.5)   \n",
       "30           31   (4.0, 2.0, 3.0, 1.0, 2.0, 3.0, 1.0)   \n",
       "31            5   (1.0, 1.0, 1.0, 1.0, 3.0, 0.5, 0.5)   \n",
       "32           13   (1.0, 1.0, 1.0, 1.0, 3.0, 0.5, 0.5)   \n",
       "33           31   (2.0, 3.0, 1.0, 2.0, 3.0, 1.0, 1.0)   \n",
       "34            5   (1.0, 1.0, 1.0, 3.0, 0.5, 0.5, 4.0)   \n",
       "35            8   (1.0, 1.0, 1.0, 3.0, 1.0, 2.0, 4.0)   \n",
       "36           13   (1.0, 1.0, 1.0, 3.0, 0.5, 0.5, 4.0)   \n",
       "37           31   (3.0, 1.0, 2.0, 3.0, 1.0, 1.0, 1.0)   \n",
       "38            7   (2.0, 2.0, 1.0, 1.0, 1.0, 1.0, 3.0)   \n",
       "39            5   (2.0, 2.0, 1.0, 1.0, 1.0, 1.0, 1.0)   \n",
       "40           13   (2.0, 2.0, 1.0, 1.0, 1.0, 1.0, 1.0)   \n",
       "41            8   (2.0, 1.0, 1.0, 1.0, 1.0, 3.0, 1.0)   \n",
       "42           31   (2.0, 3.0, 1.0, 1.0, 1.0, 2.0, 2.0)   \n",
       "43           20   (2.0, 1.0, 1.0, 1.0, 1.0, 1.0, 1.0)   \n",
       "44           16   (1.0, 1.0, 1.0, 1.0, 1.0, 1.0, 1.0)   \n",
       "45            6   (1.0, 1.0, 1.0, 1.0, 1.0, 1.0, 1.0)   \n",
       "46           14   (1.0, 1.0, 1.0, 1.0, 1.0, 1.0, 1.0)   \n",
       "47           20   (1.0, 1.0, 1.0, 1.0, 1.0, 1.0, 1.0)   \n",
       "48           16   (1.0, 1.0, 1.0, 1.0, 1.0, 1.0, 1.0)   \n",
       "49            6   (1.0, 1.0, 1.0, 1.0, 1.0, 1.0, 1.0)   \n",
       "\n",
       "                                      duration_ratios  next_start_measure  \\\n",
       "0                      (0.5, 1.0, 1.0, 1.0, 2.0, 2.0)                11.0   \n",
       "1                      (0.5, 1.0, 1.0, 1.0, 2.0, 2.0)                 7.0   \n",
       "2                      (0.5, 1.0, 1.0, 1.0, 2.0, 2.0)                 9.0   \n",
       "3                      (0.5, 1.0, 1.0, 1.0, 2.0, 3.0)                 5.0   \n",
       "4                      (1.0, 1.0, 1.0, 2.0, 0.5, 2.0)                15.0   \n",
       "5                      (1.0, 1.0, 1.0, 2.0, 0.5, 2.0)                 7.0   \n",
       "6                      (1.0, 1.0, 1.0, 2.0, 0.5, 2.0)                13.0   \n",
       "7                      (1.0, 1.0, 1.0, 2.0, 0.5, 1.5)                 5.0   \n",
       "8                      (1.0, 1.0, 2.0, 0.5, 2.0, 2.0)                15.0   \n",
       "9                      (1.0, 1.0, 2.0, 0.5, 2.0, 2.0)                19.0   \n",
       "10                     (1.0, 1.0, 2.0, 0.5, 2.0, 2.0)                17.0   \n",
       "11                     (0.5, 1.0, 1.0, 1.0, 1.0, 1.0)                28.0   \n",
       "12                     (0.5, 1.0, 1.0, 1.0, 1.0, 1.0)                29.0   \n",
       "13                     (1.0, 0.5, 1.0, 1.0, 1.0, 2.0)                29.0   \n",
       "14      (0.5, 1.5, 0.3333333333333333, 1.0, 1.0, 2.0)                 3.0   \n",
       "15                     (1.0, 1.0, 1.0, 2.0, 1.0, 2.0)                29.0   \n",
       "16      (0.3333333333333333, 1.0, 1.0, 2.0, 1.0, 2.0)                29.0   \n",
       "17                    (1.0, 1.0, 2.0, 1.0, 2.0, 0.75)                 NaN   \n",
       "18                     (1.0, 1.0, 2.0, 1.0, 2.0, 0.5)                 6.0   \n",
       "19    (0.16666666666666666, 1.0, 4.0, 0.25, 1.0, 1.0)                11.0   \n",
       "20                   (0.25, 1.0, 4.0, 0.25, 1.0, 1.0)                 3.0   \n",
       "21     (1.0, 1.0, 4.0, 0.75, 0.3333333333333333, 1.0)                 6.0   \n",
       "22                    (1.0, 4.0, 0.25, 1.0, 1.0, 1.0)                11.0   \n",
       "23                    (1.0, 4.0, 0.25, 1.0, 1.0, 1.0)                 3.0   \n",
       "24     (1.0, 4.0, 0.75, 0.3333333333333333, 1.0, 1.0)                 6.0   \n",
       "25                    (4.0, 0.25, 1.0, 1.0, 1.0, 3.0)                11.0   \n",
       "26                    (4.0, 0.25, 1.0, 1.0, 1.0, 3.0)                 4.0   \n",
       "27     (4.0, 0.75, 0.3333333333333333, 1.0, 1.0, 2.0)                 4.0   \n",
       "28    (0.25, 1.0, 1.0, 1.0, 3.0, 0.16666666666666666)                12.0   \n",
       "29    (0.25, 1.0, 1.0, 1.0, 3.0, 0.16666666666666666)                 4.0   \n",
       "30  (0.5, 1.5, 0.3333333333333333, 2.0, 1.5, 0.333...                29.0   \n",
       "31     (1.0, 1.0, 1.0, 3.0, 0.16666666666666666, 1.0)                12.0   \n",
       "32     (1.0, 1.0, 1.0, 3.0, 0.16666666666666666, 1.0)                 4.0   \n",
       "33  (1.5, 0.3333333333333333, 2.0, 1.5, 0.33333333...                30.0   \n",
       "34     (1.0, 1.0, 3.0, 0.16666666666666666, 1.0, 8.0)                 7.0   \n",
       "35      (1.0, 1.0, 3.0, 0.3333333333333333, 2.0, 2.0)                12.0   \n",
       "36     (1.0, 1.0, 3.0, 0.16666666666666666, 1.0, 8.0)                 6.0   \n",
       "37  (0.3333333333333333, 2.0, 1.5, 0.3333333333333...                15.0   \n",
       "38                     (1.0, 0.5, 1.0, 1.0, 1.0, 3.0)                 7.0   \n",
       "39                     (1.0, 0.5, 1.0, 1.0, 1.0, 1.0)                12.0   \n",
       "40                     (1.0, 0.5, 1.0, 1.0, 1.0, 1.0)                 5.0   \n",
       "41      (0.5, 1.0, 1.0, 1.0, 3.0, 0.3333333333333333)                29.0   \n",
       "42      (1.5, 0.3333333333333333, 1.0, 1.0, 2.0, 1.0)                19.0   \n",
       "43                     (0.5, 1.0, 1.0, 1.0, 1.0, 1.0)                19.0   \n",
       "44                     (1.0, 1.0, 1.0, 1.0, 1.0, 1.0)                15.0   \n",
       "45                     (1.0, 1.0, 1.0, 1.0, 1.0, 1.0)                13.0   \n",
       "46                     (1.0, 1.0, 1.0, 1.0, 1.0, 1.0)                 5.0   \n",
       "47                     (1.0, 1.0, 1.0, 1.0, 1.0, 1.0)                19.0   \n",
       "48                     (1.0, 1.0, 1.0, 1.0, 1.0, 1.0)                15.0   \n",
       "49                     (1.0, 1.0, 1.0, 1.0, 1.0, 1.0)                13.0   \n",
       "\n",
       "    next_end_measure                   next_note_durations  \\\n",
       "0               13.0   (4.0, 2.0, 2.0, 2.0, 2.0, 4.0, 8.0)   \n",
       "1                9.0   (2.0, 2.0, 2.0, 2.0, 4.0, 2.0, 4.0)   \n",
       "2               11.0  (4.0, 2.0, 2.0, 2.0, 2.0, 4.0, 12.0)   \n",
       "3                7.0   (2.0, 2.0, 2.0, 2.0, 4.0, 2.0, 4.0)   \n",
       "4               17.0   (2.0, 2.0, 2.0, 2.0, 4.0, 2.0, 4.0)   \n",
       "5                9.0   (2.0, 2.0, 2.0, 4.0, 2.0, 4.0, 8.0)   \n",
       "6               15.0   (2.0, 2.0, 2.0, 2.0, 4.0, 2.0, 3.0)   \n",
       "7                7.0   (2.0, 2.0, 2.0, 4.0, 2.0, 4.0, 8.0)   \n",
       "8               17.0   (2.0, 2.0, 2.0, 4.0, 2.0, 4.0, 8.0)   \n",
       "9               21.0   (4.0, 2.0, 2.0, 2.0, 2.0, 2.0, 2.0)   \n",
       "10              19.0   (4.0, 2.0, 2.0, 2.0, 2.0, 2.0, 2.0)   \n",
       "11              29.0   (2.0, 2.0, 1.0, 1.0, 1.0, 1.0, 2.0)   \n",
       "12              31.0   (4.0, 2.0, 3.0, 1.0, 2.0, 3.0, 1.0)   \n",
       "13              30.0   (1.0, 1.0, 1.0, 1.0, 2.0, 2.0, 4.0)   \n",
       "14               4.0   (6.0, 1.0, 1.0, 4.0, 1.0, 1.0, 1.0)   \n",
       "15              30.0   (1.0, 1.0, 1.0, 2.0, 2.0, 4.0, 3.0)   \n",
       "16              30.0   (1.0, 1.0, 1.0, 2.0, 2.0, 4.0, 2.0)   \n",
       "17               NaN                                   NaN   \n",
       "18               7.0   (1.0, 1.0, 1.0, 4.0, 3.0, 1.0, 1.0)   \n",
       "19              12.0   (4.0, 1.0, 1.0, 4.0, 1.0, 1.0, 1.0)   \n",
       "20               4.0   (1.0, 1.0, 4.0, 1.0, 1.0, 1.0, 1.0)   \n",
       "21               7.0   (1.0, 1.0, 4.0, 3.0, 1.0, 1.0, 1.0)   \n",
       "22              12.0   (1.0, 1.0, 4.0, 1.0, 1.0, 1.0, 1.0)   \n",
       "23               5.0   (1.0, 4.0, 1.0, 1.0, 1.0, 1.0, 3.0)   \n",
       "24               7.0   (1.0, 4.0, 3.0, 1.0, 1.0, 1.0, 2.0)   \n",
       "25              13.0   (1.0, 4.0, 1.0, 1.0, 1.0, 1.0, 3.0)   \n",
       "26               5.0   (4.0, 1.0, 1.0, 1.0, 1.0, 3.0, 0.5)   \n",
       "27               5.0   (2.0, 2.0, 1.0, 1.0, 1.0, 1.0, 1.0)   \n",
       "28              13.0   (4.0, 1.0, 1.0, 1.0, 1.0, 3.0, 0.5)   \n",
       "29               5.0   (1.0, 1.0, 1.0, 1.0, 3.0, 0.5, 0.5)   \n",
       "30              31.0   (2.0, 3.0, 1.0, 2.0, 3.0, 1.0, 1.0)   \n",
       "31              13.0   (1.0, 1.0, 1.0, 1.0, 3.0, 0.5, 0.5)   \n",
       "32               5.0   (1.0, 1.0, 1.0, 3.0, 0.5, 0.5, 4.0)   \n",
       "33              31.0   (3.0, 1.0, 2.0, 3.0, 1.0, 1.0, 1.0)   \n",
       "34               8.0   (1.0, 1.0, 1.0, 3.0, 1.0, 2.0, 4.0)   \n",
       "35              13.0   (1.0, 1.0, 1.0, 3.0, 0.5, 0.5, 4.0)   \n",
       "36               7.0   (2.0, 2.0, 1.0, 1.0, 1.0, 1.0, 3.0)   \n",
       "37              16.0   (1.0, 1.0, 1.0, 1.0, 1.0, 1.0, 1.0)   \n",
       "38               8.0   (2.0, 1.0, 1.0, 1.0, 1.0, 3.0, 1.0)   \n",
       "39              13.0   (2.0, 2.0, 1.0, 1.0, 1.0, 1.0, 1.0)   \n",
       "40               6.0   (1.0, 1.0, 1.0, 1.0, 1.0, 1.0, 1.0)   \n",
       "41              31.0   (2.0, 3.0, 1.0, 1.0, 1.0, 2.0, 2.0)   \n",
       "42              20.0   (2.0, 1.0, 1.0, 1.0, 1.0, 1.0, 1.0)   \n",
       "43              20.0   (1.0, 1.0, 1.0, 1.0, 1.0, 1.0, 1.0)   \n",
       "44              16.0   (1.0, 1.0, 1.0, 1.0, 1.0, 1.0, 1.0)   \n",
       "45              14.0   (1.0, 1.0, 1.0, 1.0, 1.0, 1.0, 1.0)   \n",
       "46               6.0   (1.0, 1.0, 1.0, 1.0, 1.0, 1.0, 1.0)   \n",
       "47              20.0   (1.0, 1.0, 1.0, 1.0, 1.0, 1.0, 1.0)   \n",
       "48              16.0   (1.0, 1.0, 1.0, 1.0, 1.0, 1.0, 1.0)   \n",
       "49              14.0   (1.0, 1.0, 1.0, 1.0, 1.0, 1.0, 1.0)   \n",
       "\n",
       "      next_pattern_matched  \n",
       "0      [1, 1, 3, 1, 2, -4]  \n",
       "1    [1, 1, -2, -2, -2, 2]  \n",
       "2      [1, 1, 3, 1, 2, -4]  \n",
       "3    [1, 1, -2, -2, -2, 2]  \n",
       "4    [1, 1, -2, -2, -2, 2]  \n",
       "5   [1, -2, -2, -2, 2, -4]  \n",
       "6    [1, 1, -2, -2, -2, 2]  \n",
       "7   [1, -2, -2, -2, 2, -4]  \n",
       "8   [1, -2, -2, -2, 2, -4]  \n",
       "9      [1, 2, 3, 1, -2, 2]  \n",
       "10     [1, 2, 3, 1, -2, 2]  \n",
       "11     [1, -3, 2, 2, 2, 2]  \n",
       "12   [-2, -2, 2, 2, 2, -2]  \n",
       "13      [2, 2, 2, 2, 2, 3]  \n",
       "14  [-2, -2, 2, -2, -2, 2]  \n",
       "15     [2, 2, 2, 2, 3, -2]  \n",
       "16     [2, 2, 2, 2, 3, -2]  \n",
       "17                     NaN  \n",
       "18  [-2, -2, 2, -2, -2, 2]  \n",
       "19  [-2, -2, 2, -2, -2, 2]  \n",
       "20   [-2, 2, -2, -2, 2, 2]  \n",
       "21   [-2, 2, -2, -2, 2, 2]  \n",
       "22   [-2, 2, -2, -2, 2, 2]  \n",
       "23    [2, -2, -2, 2, 2, 2]  \n",
       "24    [2, -2, -2, 2, 2, 2]  \n",
       "25    [2, -2, -2, 2, 2, 2]  \n",
       "26   [-2, -2, 2, 2, 2, -2]  \n",
       "27    [-2, -3, 2, 2, 2, 2]  \n",
       "28   [-2, -2, 2, 2, 2, -2]  \n",
       "29   [-2, 2, 2, 2, -2, -2]  \n",
       "30   [-2, 2, 2, 2, -2, -2]  \n",
       "31   [-2, 2, 2, 2, -2, -2]  \n",
       "32   [2, 2, 2, -2, -2, -2]  \n",
       "33   [2, 2, 2, -2, -2, -2]  \n",
       "34   [2, 2, 2, -2, -2, -2]  \n",
       "35   [2, 2, 2, -2, -2, -2]  \n",
       "36    [-2, -3, 2, 2, 2, 2]  \n",
       "37    [2, 2, 2, -3, 2, -2]  \n",
       "38    [-3, 2, 2, 2, 2, -2]  \n",
       "39    [-2, -3, 2, 2, 2, 2]  \n",
       "40    [2, 2, 2, -3, 2, -2]  \n",
       "41    [-3, 2, 2, 2, 2, -2]  \n",
       "42    [2, 2, 2, -3, 2, -2]  \n",
       "43   [2, 2, -3, 2, -2, -2]  \n",
       "44   [2, 2, -3, 2, -2, -2]  \n",
       "45    [2, 2, 2, -3, 2, -2]  \n",
       "46   [2, 2, -3, 2, -2, -2]  \n",
       "47  [2, -3, 2, -2, -2, -2]  \n",
       "48  [2, -3, 2, -2, -2, -2]  \n",
       "49   [2, 2, -3, 2, -2, -2]  "
      ],
      "text/html": "<div>\n<style scoped>\n    .dataframe tbody tr th:only-of-type {\n        vertical-align: middle;\n    }\n\n    .dataframe tbody tr th {\n        vertical-align: top;\n    }\n\n    .dataframe thead th {\n        text-align: right;\n    }\n</style>\n<table border=\"1\" class=\"dataframe\">\n  <thead>\n    <tr style=\"text-align: right;\">\n      <th></th>\n      <th>pattern_matched</th>\n      <th>piece_title</th>\n      <th>part</th>\n      <th>start_measure</th>\n      <th>end_measure</th>\n      <th>note_durations</th>\n      <th>duration_ratios</th>\n      <th>next_start_measure</th>\n      <th>next_end_measure</th>\n      <th>next_note_durations</th>\n      <th>next_pattern_matched</th>\n    </tr>\n  </thead>\n  <tbody>\n    <tr>\n      <th>0</th>\n      <td>[1, 1, 3, 1, 2, -4]</td>\n      <td>Je suis déshéritée</td>\n      <td>Superius</td>\n      <td>3</td>\n      <td>5</td>\n      <td>(4.0, 2.0, 2.0, 2.0, 2.0, 4.0, 8.0)</td>\n      <td>(0.5, 1.0, 1.0, 1.0, 2.0, 2.0)</td>\n      <td>11.0</td>\n      <td>13.0</td>\n      <td>(4.0, 2.0, 2.0, 2.0, 2.0, 4.0, 8.0)</td>\n      <td>[1, 1, 3, 1, 2, -4]</td>\n    </tr>\n    <tr>\n      <th>1</th>\n      <td>[1, 1, 3, 1, 2, -4]</td>\n      <td>Je suis déshéritée</td>\n      <td>Superius</td>\n      <td>11</td>\n      <td>13</td>\n      <td>(4.0, 2.0, 2.0, 2.0, 2.0, 4.0, 8.0)</td>\n      <td>(0.5, 1.0, 1.0, 1.0, 2.0, 2.0)</td>\n      <td>7.0</td>\n      <td>9.0</td>\n      <td>(2.0, 2.0, 2.0, 2.0, 4.0, 2.0, 4.0)</td>\n      <td>[1, 1, -2, -2, -2, 2]</td>\n    </tr>\n    <tr>\n      <th>2</th>\n      <td>[1, 1, 3, 1, 2, -4]</td>\n      <td>Je suis déshéritée</td>\n      <td>Tenor</td>\n      <td>1</td>\n      <td>3</td>\n      <td>(4.0, 2.0, 2.0, 2.0, 2.0, 4.0, 8.0)</td>\n      <td>(0.5, 1.0, 1.0, 1.0, 2.0, 2.0)</td>\n      <td>9.0</td>\n      <td>11.0</td>\n      <td>(4.0, 2.0, 2.0, 2.0, 2.0, 4.0, 12.0)</td>\n      <td>[1, 1, 3, 1, 2, -4]</td>\n    </tr>\n    <tr>\n      <th>3</th>\n      <td>[1, 1, 3, 1, 2, -4]</td>\n      <td>Je suis déshéritée</td>\n      <td>Tenor</td>\n      <td>9</td>\n      <td>11</td>\n      <td>(4.0, 2.0, 2.0, 2.0, 2.0, 4.0, 12.0)</td>\n      <td>(0.5, 1.0, 1.0, 1.0, 2.0, 3.0)</td>\n      <td>5.0</td>\n      <td>7.0</td>\n      <td>(2.0, 2.0, 2.0, 2.0, 4.0, 2.0, 4.0)</td>\n      <td>[1, 1, -2, -2, -2, 2]</td>\n    </tr>\n    <tr>\n      <th>4</th>\n      <td>[1, 1, -2, -2, -2, 2]</td>\n      <td>Je suis déshéritée</td>\n      <td>Superius</td>\n      <td>7</td>\n      <td>9</td>\n      <td>(2.0, 2.0, 2.0, 2.0, 4.0, 2.0, 4.0)</td>\n      <td>(1.0, 1.0, 1.0, 2.0, 0.5, 2.0)</td>\n      <td>15.0</td>\n      <td>17.0</td>\n      <td>(2.0, 2.0, 2.0, 2.0, 4.0, 2.0, 4.0)</td>\n      <td>[1, 1, -2, -2, -2, 2]</td>\n    </tr>\n    <tr>\n      <th>5</th>\n      <td>[1, 1, -2, -2, -2, 2]</td>\n      <td>Je suis déshéritée</td>\n      <td>Superius</td>\n      <td>15</td>\n      <td>17</td>\n      <td>(2.0, 2.0, 2.0, 2.0, 4.0, 2.0, 4.0)</td>\n      <td>(1.0, 1.0, 1.0, 2.0, 0.5, 2.0)</td>\n      <td>7.0</td>\n      <td>9.0</td>\n      <td>(2.0, 2.0, 2.0, 4.0, 2.0, 4.0, 8.0)</td>\n      <td>[1, -2, -2, -2, 2, -4]</td>\n    </tr>\n    <tr>\n      <th>6</th>\n      <td>[1, 1, -2, -2, -2, 2]</td>\n      <td>Je suis déshéritée</td>\n      <td>Tenor</td>\n      <td>5</td>\n      <td>7</td>\n      <td>(2.0, 2.0, 2.0, 2.0, 4.0, 2.0, 4.0)</td>\n      <td>(1.0, 1.0, 1.0, 2.0, 0.5, 2.0)</td>\n      <td>13.0</td>\n      <td>15.0</td>\n      <td>(2.0, 2.0, 2.0, 2.0, 4.0, 2.0, 3.0)</td>\n      <td>[1, 1, -2, -2, -2, 2]</td>\n    </tr>\n    <tr>\n      <th>7</th>\n      <td>[1, 1, -2, -2, -2, 2]</td>\n      <td>Je suis déshéritée</td>\n      <td>Tenor</td>\n      <td>13</td>\n      <td>15</td>\n      <td>(2.0, 2.0, 2.0, 2.0, 4.0, 2.0, 3.0)</td>\n      <td>(1.0, 1.0, 1.0, 2.0, 0.5, 1.5)</td>\n      <td>5.0</td>\n      <td>7.0</td>\n      <td>(2.0, 2.0, 2.0, 4.0, 2.0, 4.0, 8.0)</td>\n      <td>[1, -2, -2, -2, 2, -4]</td>\n    </tr>\n    <tr>\n      <th>8</th>\n      <td>[1, -2, -2, -2, 2, -4]</td>\n      <td>Je suis déshéritée</td>\n      <td>Superius</td>\n      <td>7</td>\n      <td>9</td>\n      <td>(2.0, 2.0, 2.0, 4.0, 2.0, 4.0, 8.0)</td>\n      <td>(1.0, 1.0, 2.0, 0.5, 2.0, 2.0)</td>\n      <td>15.0</td>\n      <td>17.0</td>\n      <td>(2.0, 2.0, 2.0, 4.0, 2.0, 4.0, 8.0)</td>\n      <td>[1, -2, -2, -2, 2, -4]</td>\n    </tr>\n    <tr>\n      <th>9</th>\n      <td>[1, -2, -2, -2, 2, -4]</td>\n      <td>Je suis déshéritée</td>\n      <td>Superius</td>\n      <td>15</td>\n      <td>17</td>\n      <td>(2.0, 2.0, 2.0, 4.0, 2.0, 4.0, 8.0)</td>\n      <td>(1.0, 1.0, 2.0, 0.5, 2.0, 2.0)</td>\n      <td>19.0</td>\n      <td>21.0</td>\n      <td>(4.0, 2.0, 2.0, 2.0, 2.0, 2.0, 2.0)</td>\n      <td>[1, 2, 3, 1, -2, 2]</td>\n    </tr>\n    <tr>\n      <th>10</th>\n      <td>[1, -2, -2, -2, 2, -4]</td>\n      <td>Je suis déshéritée</td>\n      <td>Tenor</td>\n      <td>5</td>\n      <td>7</td>\n      <td>(2.0, 2.0, 2.0, 4.0, 2.0, 4.0, 8.0)</td>\n      <td>(1.0, 1.0, 2.0, 0.5, 2.0, 2.0)</td>\n      <td>17.0</td>\n      <td>19.0</td>\n      <td>(4.0, 2.0, 2.0, 2.0, 2.0, 2.0, 2.0)</td>\n      <td>[1, 2, 3, 1, -2, 2]</td>\n    </tr>\n    <tr>\n      <th>11</th>\n      <td>[1, 2, 3, 1, -2, 2]</td>\n      <td>Je suis déshéritée</td>\n      <td>Superius</td>\n      <td>19</td>\n      <td>21</td>\n      <td>(4.0, 2.0, 2.0, 2.0, 2.0, 2.0, 2.0)</td>\n      <td>(0.5, 1.0, 1.0, 1.0, 1.0, 1.0)</td>\n      <td>28.0</td>\n      <td>29.0</td>\n      <td>(2.0, 2.0, 1.0, 1.0, 1.0, 1.0, 2.0)</td>\n      <td>[1, -3, 2, 2, 2, 2]</td>\n    </tr>\n    <tr>\n      <th>12</th>\n      <td>[1, 2, 3, 1, -2, 2]</td>\n      <td>Je suis déshéritée</td>\n      <td>Tenor</td>\n      <td>17</td>\n      <td>19</td>\n      <td>(4.0, 2.0, 2.0, 2.0, 2.0, 2.0, 2.0)</td>\n      <td>(0.5, 1.0, 1.0, 1.0, 1.0, 1.0)</td>\n      <td>29.0</td>\n      <td>31.0</td>\n      <td>(4.0, 2.0, 3.0, 1.0, 2.0, 3.0, 1.0)</td>\n      <td>[-2, -2, 2, 2, 2, -2]</td>\n    </tr>\n    <tr>\n      <th>13</th>\n      <td>[1, -3, 2, 2, 2, 2]</td>\n      <td>Je suis déshéritée</td>\n      <td>Superius</td>\n      <td>28</td>\n      <td>29</td>\n      <td>(2.0, 2.0, 1.0, 1.0, 1.0, 1.0, 2.0)</td>\n      <td>(1.0, 0.5, 1.0, 1.0, 1.0, 2.0)</td>\n      <td>29.0</td>\n      <td>30.0</td>\n      <td>(1.0, 1.0, 1.0, 1.0, 2.0, 2.0, 4.0)</td>\n      <td>[2, 2, 2, 2, 2, 3]</td>\n    </tr>\n    <tr>\n      <th>14</th>\n      <td>[1, -3, 2, 2, 2, 2]</td>\n      <td>Je suis déshéritée</td>\n      <td>Contratenor</td>\n      <td>29</td>\n      <td>30</td>\n      <td>(4.0, 2.0, 3.0, 1.0, 1.0, 1.0, 2.0)</td>\n      <td>(0.5, 1.5, 0.3333333333333333, 1.0, 1.0, 2.0)</td>\n      <td>3.0</td>\n      <td>4.0</td>\n      <td>(6.0, 1.0, 1.0, 4.0, 1.0, 1.0, 1.0)</td>\n      <td>[-2, -2, 2, -2, -2, 2]</td>\n    </tr>\n    <tr>\n      <th>15</th>\n      <td>[2, 2, 2, 2, 2, 3]</td>\n      <td>Je suis déshéritée</td>\n      <td>Superius</td>\n      <td>29</td>\n      <td>30</td>\n      <td>(1.0, 1.0, 1.0, 1.0, 2.0, 2.0, 4.0)</td>\n      <td>(1.0, 1.0, 1.0, 2.0, 1.0, 2.0)</td>\n      <td>29.0</td>\n      <td>30.0</td>\n      <td>(1.0, 1.0, 1.0, 2.0, 2.0, 4.0, 3.0)</td>\n      <td>[2, 2, 2, 2, 3, -2]</td>\n    </tr>\n    <tr>\n      <th>16</th>\n      <td>[2, 2, 2, 2, 2, 3]</td>\n      <td>Je suis déshéritée</td>\n      <td>Bassus</td>\n      <td>29</td>\n      <td>30</td>\n      <td>(3.0, 1.0, 1.0, 1.0, 2.0, 2.0, 4.0)</td>\n      <td>(0.3333333333333333, 1.0, 1.0, 2.0, 1.0, 2.0)</td>\n      <td>29.0</td>\n      <td>30.0</td>\n      <td>(1.0, 1.0, 1.0, 2.0, 2.0, 4.0, 2.0)</td>\n      <td>[2, 2, 2, 2, 3, -2]</td>\n    </tr>\n    <tr>\n      <th>17</th>\n      <td>[2, 2, 2, 2, 3, -2]</td>\n      <td>Je suis déshéritée</td>\n      <td>Superius</td>\n      <td>29</td>\n      <td>30</td>\n      <td>(1.0, 1.0, 1.0, 2.0, 2.0, 4.0, 3.0)</td>\n      <td>(1.0, 1.0, 2.0, 1.0, 2.0, 0.75)</td>\n      <td>NaN</td>\n      <td>NaN</td>\n      <td>NaN</td>\n      <td>NaN</td>\n    </tr>\n    <tr>\n      <th>18</th>\n      <td>[2, 2, 2, 2, 3, -2]</td>\n      <td>Je suis déshéritée</td>\n      <td>Bassus</td>\n      <td>29</td>\n      <td>30</td>\n      <td>(1.0, 1.0, 1.0, 2.0, 2.0, 4.0, 2.0)</td>\n      <td>(1.0, 1.0, 2.0, 1.0, 2.0, 0.5)</td>\n      <td>6.0</td>\n      <td>7.0</td>\n      <td>(1.0, 1.0, 1.0, 4.0, 3.0, 1.0, 1.0)</td>\n      <td>[-2, -2, 2, -2, -2, 2]</td>\n    </tr>\n    <tr>\n      <th>19</th>\n      <td>[-2, -2, 2, -2, -2, 2]</td>\n      <td>Je suis déshéritée</td>\n      <td>Contratenor</td>\n      <td>3</td>\n      <td>4</td>\n      <td>(6.0, 1.0, 1.0, 4.0, 1.0, 1.0, 1.0)</td>\n      <td>(0.16666666666666666, 1.0, 4.0, 0.25, 1.0, 1.0)</td>\n      <td>11.0</td>\n      <td>12.0</td>\n      <td>(4.0, 1.0, 1.0, 4.0, 1.0, 1.0, 1.0)</td>\n      <td>[-2, -2, 2, -2, -2, 2]</td>\n    </tr>\n    <tr>\n      <th>20</th>\n      <td>[-2, -2, 2, -2, -2, 2]</td>\n      <td>Je suis déshéritée</td>\n      <td>Contratenor</td>\n      <td>11</td>\n      <td>12</td>\n      <td>(4.0, 1.0, 1.0, 4.0, 1.0, 1.0, 1.0)</td>\n      <td>(0.25, 1.0, 4.0, 0.25, 1.0, 1.0)</td>\n      <td>3.0</td>\n      <td>4.0</td>\n      <td>(1.0, 1.0, 4.0, 1.0, 1.0, 1.0, 1.0)</td>\n      <td>[-2, 2, -2, -2, 2, 2]</td>\n    </tr>\n    <tr>\n      <th>21</th>\n      <td>[-2, -2, 2, -2, -2, 2]</td>\n      <td>Je suis déshéritée</td>\n      <td>Bassus</td>\n      <td>6</td>\n      <td>7</td>\n      <td>(1.0, 1.0, 1.0, 4.0, 3.0, 1.0, 1.0)</td>\n      <td>(1.0, 1.0, 4.0, 0.75, 0.3333333333333333, 1.0)</td>\n      <td>6.0</td>\n      <td>7.0</td>\n      <td>(1.0, 1.0, 4.0, 3.0, 1.0, 1.0, 1.0)</td>\n      <td>[-2, 2, -2, -2, 2, 2]</td>\n    </tr>\n    <tr>\n      <th>22</th>\n      <td>[-2, 2, -2, -2, 2, 2]</td>\n      <td>Je suis déshéritée</td>\n      <td>Contratenor</td>\n      <td>3</td>\n      <td>4</td>\n      <td>(1.0, 1.0, 4.0, 1.0, 1.0, 1.0, 1.0)</td>\n      <td>(1.0, 4.0, 0.25, 1.0, 1.0, 1.0)</td>\n      <td>11.0</td>\n      <td>12.0</td>\n      <td>(1.0, 1.0, 4.0, 1.0, 1.0, 1.0, 1.0)</td>\n      <td>[-2, 2, -2, -2, 2, 2]</td>\n    </tr>\n    <tr>\n      <th>23</th>\n      <td>[-2, 2, -2, -2, 2, 2]</td>\n      <td>Je suis déshéritée</td>\n      <td>Contratenor</td>\n      <td>11</td>\n      <td>12</td>\n      <td>(1.0, 1.0, 4.0, 1.0, 1.0, 1.0, 1.0)</td>\n      <td>(1.0, 4.0, 0.25, 1.0, 1.0, 1.0)</td>\n      <td>3.0</td>\n      <td>5.0</td>\n      <td>(1.0, 4.0, 1.0, 1.0, 1.0, 1.0, 3.0)</td>\n      <td>[2, -2, -2, 2, 2, 2]</td>\n    </tr>\n    <tr>\n      <th>24</th>\n      <td>[-2, 2, -2, -2, 2, 2]</td>\n      <td>Je suis déshéritée</td>\n      <td>Bassus</td>\n      <td>6</td>\n      <td>7</td>\n      <td>(1.0, 1.0, 4.0, 3.0, 1.0, 1.0, 1.0)</td>\n      <td>(1.0, 4.0, 0.75, 0.3333333333333333, 1.0, 1.0)</td>\n      <td>6.0</td>\n      <td>7.0</td>\n      <td>(1.0, 4.0, 3.0, 1.0, 1.0, 1.0, 2.0)</td>\n      <td>[2, -2, -2, 2, 2, 2]</td>\n    </tr>\n    <tr>\n      <th>25</th>\n      <td>[2, -2, -2, 2, 2, 2]</td>\n      <td>Je suis déshéritée</td>\n      <td>Contratenor</td>\n      <td>3</td>\n      <td>5</td>\n      <td>(1.0, 4.0, 1.0, 1.0, 1.0, 1.0, 3.0)</td>\n      <td>(4.0, 0.25, 1.0, 1.0, 1.0, 3.0)</td>\n      <td>11.0</td>\n      <td>13.0</td>\n      <td>(1.0, 4.0, 1.0, 1.0, 1.0, 1.0, 3.0)</td>\n      <td>[2, -2, -2, 2, 2, 2]</td>\n    </tr>\n    <tr>\n      <th>26</th>\n      <td>[2, -2, -2, 2, 2, 2]</td>\n      <td>Je suis déshéritée</td>\n      <td>Contratenor</td>\n      <td>11</td>\n      <td>13</td>\n      <td>(1.0, 4.0, 1.0, 1.0, 1.0, 1.0, 3.0)</td>\n      <td>(4.0, 0.25, 1.0, 1.0, 1.0, 3.0)</td>\n      <td>4.0</td>\n      <td>5.0</td>\n      <td>(4.0, 1.0, 1.0, 1.0, 1.0, 3.0, 0.5)</td>\n      <td>[-2, -2, 2, 2, 2, -2]</td>\n    </tr>\n    <tr>\n      <th>27</th>\n      <td>[2, -2, -2, 2, 2, 2]</td>\n      <td>Je suis déshéritée</td>\n      <td>Bassus</td>\n      <td>6</td>\n      <td>7</td>\n      <td>(1.0, 4.0, 3.0, 1.0, 1.0, 1.0, 2.0)</td>\n      <td>(4.0, 0.75, 0.3333333333333333, 1.0, 1.0, 2.0)</td>\n      <td>4.0</td>\n      <td>5.0</td>\n      <td>(2.0, 2.0, 1.0, 1.0, 1.0, 1.0, 1.0)</td>\n      <td>[-2, -3, 2, 2, 2, 2]</td>\n    </tr>\n    <tr>\n      <th>28</th>\n      <td>[-2, -2, 2, 2, 2, -2]</td>\n      <td>Je suis déshéritée</td>\n      <td>Contratenor</td>\n      <td>4</td>\n      <td>5</td>\n      <td>(4.0, 1.0, 1.0, 1.0, 1.0, 3.0, 0.5)</td>\n      <td>(0.25, 1.0, 1.0, 1.0, 3.0, 0.16666666666666666)</td>\n      <td>12.0</td>\n      <td>13.0</td>\n      <td>(4.0, 1.0, 1.0, 1.0, 1.0, 3.0, 0.5)</td>\n      <td>[-2, -2, 2, 2, 2, -2]</td>\n    </tr>\n    <tr>\n      <th>29</th>\n      <td>[-2, -2, 2, 2, 2, -2]</td>\n      <td>Je suis déshéritée</td>\n      <td>Contratenor</td>\n      <td>12</td>\n      <td>13</td>\n      <td>(4.0, 1.0, 1.0, 1.0, 1.0, 3.0, 0.5)</td>\n      <td>(0.25, 1.0, 1.0, 1.0, 3.0, 0.16666666666666666)</td>\n      <td>4.0</td>\n      <td>5.0</td>\n      <td>(1.0, 1.0, 1.0, 1.0, 3.0, 0.5, 0.5)</td>\n      <td>[-2, 2, 2, 2, -2, -2]</td>\n    </tr>\n    <tr>\n      <th>30</th>\n      <td>[-2, -2, 2, 2, 2, -2]</td>\n      <td>Je suis déshéritée</td>\n      <td>Tenor</td>\n      <td>29</td>\n      <td>31</td>\n      <td>(4.0, 2.0, 3.0, 1.0, 2.0, 3.0, 1.0)</td>\n      <td>(0.5, 1.5, 0.3333333333333333, 2.0, 1.5, 0.333...</td>\n      <td>29.0</td>\n      <td>31.0</td>\n      <td>(2.0, 3.0, 1.0, 2.0, 3.0, 1.0, 1.0)</td>\n      <td>[-2, 2, 2, 2, -2, -2]</td>\n    </tr>\n    <tr>\n      <th>31</th>\n      <td>[-2, 2, 2, 2, -2, -2]</td>\n      <td>Je suis déshéritée</td>\n      <td>Contratenor</td>\n      <td>4</td>\n      <td>5</td>\n      <td>(1.0, 1.0, 1.0, 1.0, 3.0, 0.5, 0.5)</td>\n      <td>(1.0, 1.0, 1.0, 3.0, 0.16666666666666666, 1.0)</td>\n      <td>12.0</td>\n      <td>13.0</td>\n      <td>(1.0, 1.0, 1.0, 1.0, 3.0, 0.5, 0.5)</td>\n      <td>[-2, 2, 2, 2, -2, -2]</td>\n    </tr>\n    <tr>\n      <th>32</th>\n      <td>[-2, 2, 2, 2, -2, -2]</td>\n      <td>Je suis déshéritée</td>\n      <td>Contratenor</td>\n      <td>12</td>\n      <td>13</td>\n      <td>(1.0, 1.0, 1.0, 1.0, 3.0, 0.5, 0.5)</td>\n      <td>(1.0, 1.0, 1.0, 3.0, 0.16666666666666666, 1.0)</td>\n      <td>4.0</td>\n      <td>5.0</td>\n      <td>(1.0, 1.0, 1.0, 3.0, 0.5, 0.5, 4.0)</td>\n      <td>[2, 2, 2, -2, -2, -2]</td>\n    </tr>\n    <tr>\n      <th>33</th>\n      <td>[-2, 2, 2, 2, -2, -2]</td>\n      <td>Je suis déshéritée</td>\n      <td>Tenor</td>\n      <td>29</td>\n      <td>31</td>\n      <td>(2.0, 3.0, 1.0, 2.0, 3.0, 1.0, 1.0)</td>\n      <td>(1.5, 0.3333333333333333, 2.0, 1.5, 0.33333333...</td>\n      <td>30.0</td>\n      <td>31.0</td>\n      <td>(3.0, 1.0, 2.0, 3.0, 1.0, 1.0, 1.0)</td>\n      <td>[2, 2, 2, -2, -2, -2]</td>\n    </tr>\n    <tr>\n      <th>34</th>\n      <td>[2, 2, 2, -2, -2, -2]</td>\n      <td>Je suis déshéritée</td>\n      <td>Contratenor</td>\n      <td>4</td>\n      <td>5</td>\n      <td>(1.0, 1.0, 1.0, 3.0, 0.5, 0.5, 4.0)</td>\n      <td>(1.0, 1.0, 3.0, 0.16666666666666666, 1.0, 8.0)</td>\n      <td>7.0</td>\n      <td>8.0</td>\n      <td>(1.0, 1.0, 1.0, 3.0, 1.0, 2.0, 4.0)</td>\n      <td>[2, 2, 2, -2, -2, -2]</td>\n    </tr>\n    <tr>\n      <th>35</th>\n      <td>[2, 2, 2, -2, -2, -2]</td>\n      <td>Je suis déshéritée</td>\n      <td>Contratenor</td>\n      <td>7</td>\n      <td>8</td>\n      <td>(1.0, 1.0, 1.0, 3.0, 1.0, 2.0, 4.0)</td>\n      <td>(1.0, 1.0, 3.0, 0.3333333333333333, 2.0, 2.0)</td>\n      <td>12.0</td>\n      <td>13.0</td>\n      <td>(1.0, 1.0, 1.0, 3.0, 0.5, 0.5, 4.0)</td>\n      <td>[2, 2, 2, -2, -2, -2]</td>\n    </tr>\n    <tr>\n      <th>36</th>\n      <td>[2, 2, 2, -2, -2, -2]</td>\n      <td>Je suis déshéritée</td>\n      <td>Contratenor</td>\n      <td>12</td>\n      <td>13</td>\n      <td>(1.0, 1.0, 1.0, 3.0, 0.5, 0.5, 4.0)</td>\n      <td>(1.0, 1.0, 3.0, 0.16666666666666666, 1.0, 8.0)</td>\n      <td>6.0</td>\n      <td>7.0</td>\n      <td>(2.0, 2.0, 1.0, 1.0, 1.0, 1.0, 3.0)</td>\n      <td>[-2, -3, 2, 2, 2, 2]</td>\n    </tr>\n    <tr>\n      <th>37</th>\n      <td>[2, 2, 2, -2, -2, -2]</td>\n      <td>Je suis déshéritée</td>\n      <td>Tenor</td>\n      <td>30</td>\n      <td>31</td>\n      <td>(3.0, 1.0, 2.0, 3.0, 1.0, 1.0, 1.0)</td>\n      <td>(0.3333333333333333, 2.0, 1.5, 0.3333333333333...</td>\n      <td>15.0</td>\n      <td>16.0</td>\n      <td>(1.0, 1.0, 1.0, 1.0, 1.0, 1.0, 1.0)</td>\n      <td>[2, 2, 2, -3, 2, -2]</td>\n    </tr>\n    <tr>\n      <th>38</th>\n      <td>[-2, -3, 2, 2, 2, 2]</td>\n      <td>Je suis déshéritée</td>\n      <td>Contratenor</td>\n      <td>6</td>\n      <td>7</td>\n      <td>(2.0, 2.0, 1.0, 1.0, 1.0, 1.0, 3.0)</td>\n      <td>(1.0, 0.5, 1.0, 1.0, 1.0, 3.0)</td>\n      <td>7.0</td>\n      <td>8.0</td>\n      <td>(2.0, 1.0, 1.0, 1.0, 1.0, 3.0, 1.0)</td>\n      <td>[-3, 2, 2, 2, 2, -2]</td>\n    </tr>\n    <tr>\n      <th>39</th>\n      <td>[-2, -3, 2, 2, 2, 2]</td>\n      <td>Je suis déshéritée</td>\n      <td>Bassus</td>\n      <td>4</td>\n      <td>5</td>\n      <td>(2.0, 2.0, 1.0, 1.0, 1.0, 1.0, 1.0)</td>\n      <td>(1.0, 0.5, 1.0, 1.0, 1.0, 1.0)</td>\n      <td>12.0</td>\n      <td>13.0</td>\n      <td>(2.0, 2.0, 1.0, 1.0, 1.0, 1.0, 1.0)</td>\n      <td>[-2, -3, 2, 2, 2, 2]</td>\n    </tr>\n    <tr>\n      <th>40</th>\n      <td>[-2, -3, 2, 2, 2, 2]</td>\n      <td>Je suis déshéritée</td>\n      <td>Bassus</td>\n      <td>12</td>\n      <td>13</td>\n      <td>(2.0, 2.0, 1.0, 1.0, 1.0, 1.0, 1.0)</td>\n      <td>(1.0, 0.5, 1.0, 1.0, 1.0, 1.0)</td>\n      <td>5.0</td>\n      <td>6.0</td>\n      <td>(1.0, 1.0, 1.0, 1.0, 1.0, 1.0, 1.0)</td>\n      <td>[2, 2, 2, -3, 2, -2]</td>\n    </tr>\n    <tr>\n      <th>41</th>\n      <td>[-3, 2, 2, 2, 2, -2]</td>\n      <td>Je suis déshéritée</td>\n      <td>Contratenor</td>\n      <td>7</td>\n      <td>8</td>\n      <td>(2.0, 1.0, 1.0, 1.0, 1.0, 3.0, 1.0)</td>\n      <td>(0.5, 1.0, 1.0, 1.0, 3.0, 0.3333333333333333)</td>\n      <td>29.0</td>\n      <td>31.0</td>\n      <td>(2.0, 3.0, 1.0, 1.0, 1.0, 2.0, 2.0)</td>\n      <td>[-3, 2, 2, 2, 2, -2]</td>\n    </tr>\n    <tr>\n      <th>42</th>\n      <td>[-3, 2, 2, 2, 2, -2]</td>\n      <td>Je suis déshéritée</td>\n      <td>Contratenor</td>\n      <td>29</td>\n      <td>31</td>\n      <td>(2.0, 3.0, 1.0, 1.0, 1.0, 2.0, 2.0)</td>\n      <td>(1.5, 0.3333333333333333, 1.0, 1.0, 2.0, 1.0)</td>\n      <td>19.0</td>\n      <td>20.0</td>\n      <td>(2.0, 1.0, 1.0, 1.0, 1.0, 1.0, 1.0)</td>\n      <td>[2, 2, 2, -3, 2, -2]</td>\n    </tr>\n    <tr>\n      <th>43</th>\n      <td>[2, 2, 2, -3, 2, -2]</td>\n      <td>Je suis déshéritée</td>\n      <td>Contratenor</td>\n      <td>19</td>\n      <td>20</td>\n      <td>(2.0, 1.0, 1.0, 1.0, 1.0, 1.0, 1.0)</td>\n      <td>(0.5, 1.0, 1.0, 1.0, 1.0, 1.0)</td>\n      <td>19.0</td>\n      <td>20.0</td>\n      <td>(1.0, 1.0, 1.0, 1.0, 1.0, 1.0, 1.0)</td>\n      <td>[2, 2, -3, 2, -2, -2]</td>\n    </tr>\n    <tr>\n      <th>44</th>\n      <td>[2, 2, 2, -3, 2, -2]</td>\n      <td>Je suis déshéritée</td>\n      <td>Tenor</td>\n      <td>15</td>\n      <td>16</td>\n      <td>(1.0, 1.0, 1.0, 1.0, 1.0, 1.0, 1.0)</td>\n      <td>(1.0, 1.0, 1.0, 1.0, 1.0, 1.0)</td>\n      <td>15.0</td>\n      <td>16.0</td>\n      <td>(1.0, 1.0, 1.0, 1.0, 1.0, 1.0, 1.0)</td>\n      <td>[2, 2, -3, 2, -2, -2]</td>\n    </tr>\n    <tr>\n      <th>45</th>\n      <td>[2, 2, 2, -3, 2, -2]</td>\n      <td>Je suis déshéritée</td>\n      <td>Bassus</td>\n      <td>5</td>\n      <td>6</td>\n      <td>(1.0, 1.0, 1.0, 1.0, 1.0, 1.0, 1.0)</td>\n      <td>(1.0, 1.0, 1.0, 1.0, 1.0, 1.0)</td>\n      <td>13.0</td>\n      <td>14.0</td>\n      <td>(1.0, 1.0, 1.0, 1.0, 1.0, 1.0, 1.0)</td>\n      <td>[2, 2, 2, -3, 2, -2]</td>\n    </tr>\n    <tr>\n      <th>46</th>\n      <td>[2, 2, 2, -3, 2, -2]</td>\n      <td>Je suis déshéritée</td>\n      <td>Bassus</td>\n      <td>13</td>\n      <td>14</td>\n      <td>(1.0, 1.0, 1.0, 1.0, 1.0, 1.0, 1.0)</td>\n      <td>(1.0, 1.0, 1.0, 1.0, 1.0, 1.0)</td>\n      <td>5.0</td>\n      <td>6.0</td>\n      <td>(1.0, 1.0, 1.0, 1.0, 1.0, 1.0, 1.0)</td>\n      <td>[2, 2, -3, 2, -2, -2]</td>\n    </tr>\n    <tr>\n      <th>47</th>\n      <td>[2, 2, -3, 2, -2, -2]</td>\n      <td>Je suis déshéritée</td>\n      <td>Contratenor</td>\n      <td>19</td>\n      <td>20</td>\n      <td>(1.0, 1.0, 1.0, 1.0, 1.0, 1.0, 1.0)</td>\n      <td>(1.0, 1.0, 1.0, 1.0, 1.0, 1.0)</td>\n      <td>19.0</td>\n      <td>20.0</td>\n      <td>(1.0, 1.0, 1.0, 1.0, 1.0, 1.0, 1.0)</td>\n      <td>[2, -3, 2, -2, -2, -2]</td>\n    </tr>\n    <tr>\n      <th>48</th>\n      <td>[2, 2, -3, 2, -2, -2]</td>\n      <td>Je suis déshéritée</td>\n      <td>Tenor</td>\n      <td>15</td>\n      <td>16</td>\n      <td>(1.0, 1.0, 1.0, 1.0, 1.0, 1.0, 1.0)</td>\n      <td>(1.0, 1.0, 1.0, 1.0, 1.0, 1.0)</td>\n      <td>15.0</td>\n      <td>16.0</td>\n      <td>(1.0, 1.0, 1.0, 1.0, 1.0, 1.0, 1.0)</td>\n      <td>[2, -3, 2, -2, -2, -2]</td>\n    </tr>\n    <tr>\n      <th>49</th>\n      <td>[2, 2, -3, 2, -2, -2]</td>\n      <td>Je suis déshéritée</td>\n      <td>Bassus</td>\n      <td>5</td>\n      <td>6</td>\n      <td>(1.0, 1.0, 1.0, 1.0, 1.0, 1.0, 1.0)</td>\n      <td>(1.0, 1.0, 1.0, 1.0, 1.0, 1.0)</td>\n      <td>13.0</td>\n      <td>14.0</td>\n      <td>(1.0, 1.0, 1.0, 1.0, 1.0, 1.0, 1.0)</td>\n      <td>[2, 2, -3, 2, -2, -2]</td>\n    </tr>\n  </tbody>\n</table>\n</div>"
     },
     "metadata": {},
     "execution_count": 235
    }
   ],
   "source": [
    "df_brief = df_shifted.drop(columns=[\"ema\", \"ema_url\", \"pattern_generating_match\"])\n",
    "df_brief.head(50)"
   ]
  },
  {
   "cell_type": "code",
   "execution_count": 36,
   "metadata": {},
   "outputs": [
    {
     "output_type": "execute_result",
     "data": {
      "text/plain": [
       "258"
      ]
     },
     "metadata": {},
     "execution_count": 36
    }
   ],
   "source": [
    "df_brief['next_end_measure'] = df_brief['next_end_measure'].fillna(0)\n",
    "df_brief['next_end_measure_minus'] = df_brief[\"next_end_measure\"].apply(lambda x: x-1)\n",
    "df_brief.head()\n",
    "len(df_brief)\n",
    "\n"
   ]
  },
  {
   "cell_type": "code",
   "execution_count": 74,
   "metadata": {},
   "outputs": [
    {
     "output_type": "execute_result",
     "data": {
      "text/plain": [
       "         pattern_matched         piece_title      part  start_measure  \\\n",
       "234  [-2, -2, 2, -2, -2]  Je suis déshéritée    Bassus              6   \n",
       "54       [2, 2, 2, 2, 2]  Je suis déshéritée     Tenor             14   \n",
       "206    [1, 2, 3, -2, -2]  Je suis déshéritée  Superius             21   \n",
       "\n",
       "     end_measure                  note_durations  \\\n",
       "234            7  [1.0, 1.0, 1.0, 4.0, 3.0, 1.0]   \n",
       "54            15  [2.0, 3.0, 1.0, 1.0, 1.0, 1.0]   \n",
       "206           22  [4.0, 2.0, 2.0, 2.0, 2.0, 4.0]   \n",
       "\n",
       "                               duration_ratios  next_start_measure  \\\n",
       "234  [1.0, 1.0, 4.0, 0.75, 0.3333333333333333]                 6.0   \n",
       "54    [1.5, 0.3333333333333333, 1.0, 1.0, 1.0]                14.0   \n",
       "206                  [0.5, 1.0, 1.0, 1.0, 2.0]                21.0   \n",
       "\n",
       "     next_end_measure             next_note_durations next_pattern_matched  \\\n",
       "234               7.0  [1.0, 1.0, 1.0, 4.0, 3.0, 1.0]  [-2, -2, 2, -2, -2]   \n",
       "54               15.0  [2.0, 3.0, 1.0, 1.0, 1.0, 1.0]      [2, 2, 2, 2, 2]   \n",
       "206              22.0  [4.0, 2.0, 2.0, 2.0, 2.0, 4.0]    [1, 2, 3, -2, -2]   \n",
       "\n",
       "    pattern_matched_short next_pattern_matched_short  note_durations_short  \\\n",
       "234           [-2, 2, -2]                [-2, 2, -2]  [1.0, 1.0, 4.0, 3.0]   \n",
       "54              [2, 2, 2]                  [2, 2, 2]  [3.0, 1.0, 1.0, 1.0]   \n",
       "206            [2, 3, -2]                 [2, 3, -2]  [2.0, 2.0, 2.0, 2.0]   \n",
       "\n",
       "    next_note_durations_short  next_end_measure_minus  \n",
       "234      [1.0, 1.0, 4.0, 3.0]                     6.0  \n",
       "54       [3.0, 1.0, 1.0, 1.0]                    14.0  \n",
       "206      [2.0, 2.0, 2.0, 2.0]                    21.0  "
      ],
      "text/html": "<div>\n<style scoped>\n    .dataframe tbody tr th:only-of-type {\n        vertical-align: middle;\n    }\n\n    .dataframe tbody tr th {\n        vertical-align: top;\n    }\n\n    .dataframe thead th {\n        text-align: right;\n    }\n</style>\n<table border=\"1\" class=\"dataframe\">\n  <thead>\n    <tr style=\"text-align: right;\">\n      <th></th>\n      <th>pattern_matched</th>\n      <th>piece_title</th>\n      <th>part</th>\n      <th>start_measure</th>\n      <th>end_measure</th>\n      <th>note_durations</th>\n      <th>duration_ratios</th>\n      <th>next_start_measure</th>\n      <th>next_end_measure</th>\n      <th>next_note_durations</th>\n      <th>next_pattern_matched</th>\n      <th>pattern_matched_short</th>\n      <th>next_pattern_matched_short</th>\n      <th>note_durations_short</th>\n      <th>next_note_durations_short</th>\n      <th>next_end_measure_minus</th>\n    </tr>\n  </thead>\n  <tbody>\n    <tr>\n      <th>234</th>\n      <td>[-2, -2, 2, -2, -2]</td>\n      <td>Je suis déshéritée</td>\n      <td>Bassus</td>\n      <td>6</td>\n      <td>7</td>\n      <td>[1.0, 1.0, 1.0, 4.0, 3.0, 1.0]</td>\n      <td>[1.0, 1.0, 4.0, 0.75, 0.3333333333333333]</td>\n      <td>6.0</td>\n      <td>7.0</td>\n      <td>[1.0, 1.0, 1.0, 4.0, 3.0, 1.0]</td>\n      <td>[-2, -2, 2, -2, -2]</td>\n      <td>[-2, 2, -2]</td>\n      <td>[-2, 2, -2]</td>\n      <td>[1.0, 1.0, 4.0, 3.0]</td>\n      <td>[1.0, 1.0, 4.0, 3.0]</td>\n      <td>6.0</td>\n    </tr>\n    <tr>\n      <th>54</th>\n      <td>[2, 2, 2, 2, 2]</td>\n      <td>Je suis déshéritée</td>\n      <td>Tenor</td>\n      <td>14</td>\n      <td>15</td>\n      <td>[2.0, 3.0, 1.0, 1.0, 1.0, 1.0]</td>\n      <td>[1.5, 0.3333333333333333, 1.0, 1.0, 1.0]</td>\n      <td>14.0</td>\n      <td>15.0</td>\n      <td>[2.0, 3.0, 1.0, 1.0, 1.0, 1.0]</td>\n      <td>[2, 2, 2, 2, 2]</td>\n      <td>[2, 2, 2]</td>\n      <td>[2, 2, 2]</td>\n      <td>[3.0, 1.0, 1.0, 1.0]</td>\n      <td>[3.0, 1.0, 1.0, 1.0]</td>\n      <td>14.0</td>\n    </tr>\n    <tr>\n      <th>206</th>\n      <td>[1, 2, 3, -2, -2]</td>\n      <td>Je suis déshéritée</td>\n      <td>Superius</td>\n      <td>21</td>\n      <td>22</td>\n      <td>[4.0, 2.0, 2.0, 2.0, 2.0, 4.0]</td>\n      <td>[0.5, 1.0, 1.0, 1.0, 2.0]</td>\n      <td>21.0</td>\n      <td>22.0</td>\n      <td>[4.0, 2.0, 2.0, 2.0, 2.0, 4.0]</td>\n      <td>[1, 2, 3, -2, -2]</td>\n      <td>[2, 3, -2]</td>\n      <td>[2, 3, -2]</td>\n      <td>[2.0, 2.0, 2.0, 2.0]</td>\n      <td>[2.0, 2.0, 2.0, 2.0]</td>\n      <td>21.0</td>\n    </tr>\n  </tbody>\n</table>\n</div>"
     },
     "metadata": {},
     "execution_count": 74
    }
   ],
   "source": [
    "nds = df_brief[\"note_durations_short\"]\n",
    "nnds = df_brief[\"next_note_durations_short\"]\n",
    "pms = df_brief[\"pattern_matched_short\"]\n",
    "npms = df_brief[\"next_pattern_matched_short\"]\n",
    "nem = df_brief[\"next_end_measure\"]\n",
    "em = df_brief[\"end_measure\"]\n",
    "nemm = df_brief[\"next_end_measure_minus\"]\n",
    "\n",
    "gsd = df_brief[(pms == npms)]\n",
    "gsd = gsp[(nds == nnds)]\n",
    "gsm = gsd[(em == nem) | (em == nemm)]\n",
    "gsm_sorted = gsm.sort_values(\"start_measure\")\n",
    "gsm_sorted  \n",
    "# greedy_short_durations =  df_brief[(nds == nnds)]\n",
    "\n",
    "# greedy_sorted = greedy_results.sort_values(\"start_measure\")\n",
    "# greedy_sorted\n",
    "\n",
    "\n",
    "# gs_sort = gs_all.sort_values('start_measure')\n",
    "# gs_sort.head()"
   ]
  },
  {
   "cell_type": "code",
   "execution_count": null,
   "metadata": {},
   "outputs": [],
   "source": []
  }
 ],
 "metadata": {
  "kernelspec": {
   "display_name": "Python 3",
   "language": "python",
   "name": "python3"
  },
  "language_info": {
   "codemirror_mode": {
    "name": "ipython",
    "version": 3
   },
   "file_extension": ".py",
   "mimetype": "text/x-python",
   "name": "python",
   "nbconvert_exporter": "python",
   "pygments_lexer": "ipython3",
   "version": "3.8.5-final"
  }
 },
 "nbformat": 4,
 "nbformat_minor": 4
}