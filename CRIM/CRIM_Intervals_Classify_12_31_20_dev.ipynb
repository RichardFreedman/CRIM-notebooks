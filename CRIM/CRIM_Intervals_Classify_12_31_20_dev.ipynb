{
 "cells": [
  {
   "cell_type": "markdown",
   "metadata": {},
   "source": [
    "## Search with Options\n",
    "\n",
    "- Piece or Corpus\n",
    "- Actual or Incremental Durations\n",
    "- Chromatic or Diatonic\n",
    "- Exact or Close\n",
    "- Classify\n",
    "\n",
    "***\n"
   ]
  },
  {
   "cell_type": "code",
   "execution_count": 11,
   "metadata": {},
   "outputs": [],
   "source": [
    "from crim_intervals import *\n",
    "import pandas as pd\n",
    "import ast\n",
    "import matplotlib\n",
    "from itertools import tee, combinations"
   ]
  },
  {
   "cell_type": "markdown",
   "metadata": {},
   "source": [
    "### The Complete Corpus"
   ]
  },
  {
   "cell_type": "code",
   "execution_count": null,
   "metadata": {},
   "outputs": [],
   "source": [
    "work_list = ['CRIM_Mass_0001_1.mei','CRIM_Mass_0001_2.mei','CRIM_Mass_0001_3.mei','CRIM_Mass_0001_4.mei','CRIM_Mass_0001_5.mei','CRIM_Mass_0002_1.mei','CRIM_Mass_0002_2.mei','CRIM_Mass_0002_3.mei','CRIM_Mass_0002_4.mei','CRIM_Mass_0002_5.mei','CRIM_Mass_0003_1.mei','CRIM_Mass_0003_2.mei','CRIM_Mass_0003_3.mei','CRIM_Mass_0003_4.mei','CRIM_Mass_0003_5.mei','CRIM_Mass_0004_1.mei','CRIM_Mass_0004_2.mei','CRIM_Mass_0004_3.mei','CRIM_Mass_0004_4.mei','CRIM_Mass_0004_5.mei','CRIM_Mass_0005_1.mei','CRIM_Mass_0005_2.mei','CRIM_Mass_0005_3.mei','CRIM_Mass_0005_4.mei','CRIM_Mass_0005_5.mei','CRIM_Mass_0006_1.mei','CRIM_Mass_0006_2.mei','CRIM_Mass_0006_3.mei','CRIM_Mass_0006_4.mei','CRIM_Mass_0006_5.mei','CRIM_Mass_0007_1.mei', 'CRIM_Mass_0007_2.mei', 'CRIM_Mass_0007_3.mei', 'CRIM_Mass_0007_4.mei', 'CRIM_Mass_0007_5.mei', 'CRIM_Mass_0008_1.mei', 'CRIM_Mass_0008_2.mei', 'CRIM_Mass_0008_3.mei', 'CRIM_Mass_0008_4.mei', 'CRIM_Mass_0008_5.mei', 'CRIM_Mass_0009_1.mei', 'CRIM_Mass_0009_2.mei', 'CRIM_Mass_0009_3.mei', 'CRIM_Mass_0009_4.mei', 'CRIM_Mass_0009_5.mei', 'CRIM_Mass_0010_1.mei', 'CRIM_Mass_0010_2.mei', 'CRIM_Mass_0010_3.mei', 'CRIM_Mass_0010_4.mei', 'CRIM_Mass_0010_5.mei', 'CRIM_Mass_0011_1.mei', 'CRIM_Mass_0011_2.mei', 'CRIM_Mass_0011_3.mei', 'CRIM_Mass_0011_4.mei', 'CRIM_Mass_0011_5.mei', 'CRIM_Mass_0012_1.mei', 'CRIM_Mass_0012_2.mei', 'CRIM_Mass_0012_3.mei', 'CRIM_Mass_0012_4.mei', 'CRIM_Mass_0012_5.mei', 'CRIM_Mass_0013_1.mei', 'CRIM_Mass_0013_2.mei', 'CRIM_Mass_0013_3.mei', 'CRIM_Mass_0013_4.mei', 'CRIM_Mass_0013_5.mei', 'CRIM_Mass_0014_1.mei', 'CRIM_Mass_0014_2.mei', 'CRIM_Mass_0014_3.mei', 'CRIM_Mass_0014_4.mei', 'CRIM_Mass_0014_5.mei', 'CRIM_Mass_0015_1.mei', 'CRIM_Mass_0015_2.mei', 'CRIM_Mass_0015_3.mei', 'CRIM_Mass_0015_4.mei', 'CRIM_Mass_0015_5.mei', 'CRIM_Mass_0016_1.mei', 'CRIM_Mass_0016_2.mei', 'CRIM_Mass_0016_3.mei', 'CRIM_Mass_0016_4.mei', 'CRIM_Mass_0016_5.mei', 'CRIM_Mass_0017_1.mei', 'CRIM_Mass_0017_2.mei', 'CRIM_Mass_0017_3.mei', 'CRIM_Mass_0017_4.mei', 'CRIM_Mass_0017_5.mei', 'CRIM_Mass_0018_1.mei', 'CRIM_Mass_0018_2.mei', 'CRIM_Mass_0018_3.mei', 'CRIM_Mass_0018_4.mei', 'CRIM_Mass_0018_5.mei', 'CRIM_Mass_0019_1.mei', 'CRIM_Mass_0019_2.mei', 'CRIM_Mass_0019_3.mei', 'CRIM_Mass_0019_4.mei', 'CRIM_Mass_0019_5.mei', 'CRIM_Mass_0020_1.mei', 'CRIM_Mass_0020_2.mei', 'CRIM_Mass_0020_3.mei', 'CRIM_Mass_0020_4.mei', 'CRIM_Mass_0020_5.mei', 'CRIM_Mass_0021_1.mei', 'CRIM_Mass_0021_2.mei', 'CRIM_Mass_0021_3.mei', 'CRIM_Mass_0021_4.mei', 'CRIM_Mass_0021_5.mei', 'CRIM_Mass_0022_2.mei', 'CRIM_Model_0001.mei', 'CRIM_Model_0008.mei', 'CRIM_Model_0009.mei', 'CRIM_Model_0010.mei', 'CRIM_Model_0011.mei', 'CRIM_Model_0012.mei', 'CRIM_Model_0013.mei', 'CRIM_Model_0014.mei', 'CRIM_Model_0015.mei', 'CRIM_Model_0016.mei', 'CRIM_Model_0017.mei', 'CRIM_Model_0019.mei', 'CRIM_Model_0020.mei', 'CRIM_Model_0021.mei', 'CRIM_Model_0023.mei', 'CRIM_Model_0025.mei', 'CRIM_Model_0026.mei',\n",
    "]"
   ]
  },
  {
   "cell_type": "markdown",
   "metadata": {},
   "source": [
    "### Short Corpus"
   ]
  },
  {
   "cell_type": "code",
   "execution_count": 58,
   "metadata": {},
   "outputs": [],
   "source": [
    "# work_list = ['CRIM_Mass_0002_1.mei',\n",
    "#  'CRIM_Mass_0002_2.mei',\n",
    "#  'CRIM_Mass_0002_3.mei',\n",
    "#  'CRIM_Mass_0002_4.mei',\n",
    "#  'CRIM_Mass_0002_5.mei',\n",
    "# 'CRIM_Model_0001.mei']\n",
    "\n",
    "work_list = ['CRIM_Model_0009.mei']"
   ]
  },
  {
   "source": [
    "## Load File and Correct the MEI Metadata"
   ],
   "cell_type": "markdown",
   "metadata": {
    "jupyter": {
     "outputs_hidden": true
    },
    "scrolled": true
   }
  },
  {
   "cell_type": "code",
   "execution_count": 59,
   "metadata": {
    "tags": []
   },
   "outputs": [
    {
     "output_type": "stream",
     "name": "stdout",
     "text": [
      "Requesting file from https://crimproject.org/mei/MEI_4.0/CRIM_Model_0009.mei...\n",
      "Successfully imported.\n",
      "https://crimproject.org/mei/MEI_4.0/CRIM_Model_0009.mei Je suis déshéritée\n",
      "Je suis déshéritée\n"
     ]
    }
   ],
   "source": [
    "work_list = [el.replace(\"CRIM_\", \"https://crimproject.org/mei/MEI_4.0/CRIM_\") for el in work_list]\n",
    "corpus = CorpusBase(work_list)\n",
    "\n",
    "import xml.etree.ElementTree as ET\n",
    "import requests\n",
    "\n",
    "MEINSURI = 'http://www.music-encoding.org/ns/mei'\n",
    "MEINS = '{%s}' % MEINSURI\n",
    "\n",
    "for i, path in enumerate(work_list):\n",
    "    \n",
    "    try:\n",
    "        if path[0] == '/':\n",
    "            mei_doc = ET.parse(path)\n",
    "        else:\n",
    "            mei_doc = ET.fromstring(requests.get(path).text)\n",
    "\n",
    "      # Find the title from the MEI file and update the Music21 Score metadata\n",
    "        title = mei_doc.find('mei:meiHead//mei:titleStmt/mei:title', namespaces={\"mei\": MEINSURI}).text\n",
    "        print(path, title)\n",
    "        corpus.scores[i].metadata.title = title\n",
    "    except:\n",
    "        continue\n",
    "\n",
    "for s in corpus.scores:\n",
    "    print(s.metadata.title)"
   ]
  },
  {
   "cell_type": "markdown",
   "metadata": {},
   "source": [
    "\n",
    "## Select Actual or Incremental Durations\n",
    "\n",
    "#### About Rhythmic Durations\n",
    "\n",
    "- For `find_close_matches` and `find_exact_matches`, rhythmic variation/duration is displayed, but **not** factored into the calculation of matching.\n",
    "- **Incremental Offset** calculates the intervals using a **fixed offset between notes**, no matter their actual duration.  Use this to ignore passing tones or other ornaments.  The offsets are expressed in multiples of the quarter note (Offset = 1 samples at quarter note; Offset = 2 at half note, etc). Set with `vectors = IntervalBase(corpus.note_list_incremental_offset(2))`"
   ]
  },
  {
   "cell_type": "code",
   "execution_count": 60,
   "metadata": {},
   "outputs": [],
   "source": [
    "vectors = IntervalBase(corpus.note_list)\n",
    "#vectors = IntervalBase(corpus.note_list_incremental_offset(2))"
   ]
  },
  {
   "cell_type": "markdown",
   "metadata": {},
   "source": [
    "***\n",
    "\n",
    "## Select Generic or Semitone Scale:\n",
    "\n",
    "- **Length of the Soggetto**: `into_patterns([vectors.semitone_intervals], 5)` \n",
    "\n",
    "- The **number** in this command represents the **minimum number of vectors to find**. 5 vectors is 6 notes.\n"
   ]
  },
  {
   "cell_type": "code",
   "execution_count": 61,
   "metadata": {},
   "outputs": [],
   "source": [
    "patterns = into_patterns([vectors.generic_intervals], 5)\n",
    "#patterns = into_patterns([vectors.semitone_intervals], 4)"
   ]
  },
  {
   "cell_type": "markdown",
   "metadata": {},
   "source": [
    "***\n",
    "\n",
    "## Select Exact Matches Here, or Close Below\n",
    "#### (Use comment feature to select screen preview or CSV output) \n",
    "\n",
    "- **Exact** is exact in *all* ways `find_exact_matches(patterns, 2)` \n",
    "- The **number** in this command represents the **minimum number of matching melodies needed before reporting**. This allows us to filter for common or uncommon soggetti."
   ]
  },
  {
   "cell_type": "code",
   "execution_count": 62,
   "metadata": {
    "tags": []
   },
   "outputs": [
    {
     "output_type": "stream",
     "name": "stdout",
     "text": [
      "Finding exact matches...\n14 melodic intervals had more than 3 exact matches.\n\n"
     ]
    },
    {
     "output_type": "execute_result",
     "data": {
      "text/plain": [
       "   pattern_generating_match      pattern_matched         piece_title  \\\n",
       "0           (1, 1, 3, 1, 2)      [1, 1, 3, 1, 2]  Je suis déshéritée   \n",
       "1           (1, 1, 3, 1, 2)      [1, 1, 3, 1, 2]  Je suis déshéritée   \n",
       "2           (1, 1, 3, 1, 2)      [1, 1, 3, 1, 2]  Je suis déshéritée   \n",
       "3           (1, 1, 3, 1, 2)      [1, 1, 3, 1, 2]  Je suis déshéritée   \n",
       "4           (1, 1, 3, 1, 2)      [1, 1, 3, 1, 2]  Je suis déshéritée   \n",
       "..                      ...                  ...                 ...   \n",
       "58       (2, -2, -2, -2, 2)   [2, -2, -2, -2, 2]  Je suis déshéritée   \n",
       "59      (-2, -2, -2, 2, -2)  [-2, -2, -2, 2, -2]  Je suis déshéritée   \n",
       "60      (-2, -2, -2, 2, -2)  [-2, -2, -2, 2, -2]  Je suis déshéritée   \n",
       "61      (-2, -2, -2, 2, -2)  [-2, -2, -2, 2, -2]  Je suis déshéritée   \n",
       "62      (-2, -2, -2, 2, -2)  [-2, -2, -2, 2, -2]  Je suis déshéritée   \n",
       "\n",
       "           part  start_measure  end_measure                  note_durations  \\\n",
       "0      Superius              3            4  [4.0, 2.0, 2.0, 2.0, 2.0, 4.0]   \n",
       "1      Superius             11           12  [4.0, 2.0, 2.0, 2.0, 2.0, 4.0]   \n",
       "2   Contratenor              9           11  [2.0, 2.0, 2.0, 2.0, 2.0, 2.0]   \n",
       "3         Tenor              1            3  [4.0, 2.0, 2.0, 2.0, 2.0, 4.0]   \n",
       "4         Tenor              9           10  [4.0, 2.0, 2.0, 2.0, 2.0, 4.0]   \n",
       "..          ...            ...          ...                             ...   \n",
       "58       Bassus             13           14  [1.0, 1.0, 1.0, 1.0, 1.0, 4.0]   \n",
       "59  Contratenor             20           21  [1.0, 1.0, 1.0, 1.0, 4.0, 2.0]   \n",
       "60        Tenor             16           17  [1.0, 1.0, 1.0, 1.0, 4.0, 4.0]   \n",
       "61       Bassus              6            7  [1.0, 1.0, 1.0, 1.0, 4.0, 3.0]   \n",
       "62       Bassus             14           15  [1.0, 1.0, 1.0, 1.0, 4.0, 2.0]   \n",
       "\n",
       "                                      ema  \\\n",
       "0               3-4/1/@1.0-end,@start-3.0   \n",
       "1             11-12/1/@1.0-end,@start-3.0   \n",
       "2   9-11/2/@4.0-end,@start-end,@start-1.0   \n",
       "3    1-3/3/@3.0-end,@start-end,@start-1.0   \n",
       "4              9-10/3/@1.0-end,@start-3.0   \n",
       "..                                    ...   \n",
       "58            13-14/4/@4.5-end,@start-3.0   \n",
       "59            20-21/2/@1.0-end,@start-1.0   \n",
       "60            16-17/3/@1.0-end,@start-1.0   \n",
       "61              6-7/4/@1.0-end,@start-1.0   \n",
       "62            14-15/4/@1.0-end,@start-1.0   \n",
       "\n",
       "                                              ema_url  \n",
       "0   https://ema.crimproject.org/https%3A%2F%2Fcrim...  \n",
       "1   https://ema.crimproject.org/https%3A%2F%2Fcrim...  \n",
       "2   https://ema.crimproject.org/https%3A%2F%2Fcrim...  \n",
       "3   https://ema.crimproject.org/https%3A%2F%2Fcrim...  \n",
       "4   https://ema.crimproject.org/https%3A%2F%2Fcrim...  \n",
       "..                                                ...  \n",
       "58  https://ema.crimproject.org/https%3A%2F%2Fcrim...  \n",
       "59  https://ema.crimproject.org/https%3A%2F%2Fcrim...  \n",
       "60  https://ema.crimproject.org/https%3A%2F%2Fcrim...  \n",
       "61  https://ema.crimproject.org/https%3A%2F%2Fcrim...  \n",
       "62  https://ema.crimproject.org/https%3A%2F%2Fcrim...  \n",
       "\n",
       "[63 rows x 9 columns]"
      ],
      "text/html": "<div>\n<style scoped>\n    .dataframe tbody tr th:only-of-type {\n        vertical-align: middle;\n    }\n\n    .dataframe tbody tr th {\n        vertical-align: top;\n    }\n\n    .dataframe thead th {\n        text-align: right;\n    }\n</style>\n<table border=\"1\" class=\"dataframe\">\n  <thead>\n    <tr style=\"text-align: right;\">\n      <th></th>\n      <th>pattern_generating_match</th>\n      <th>pattern_matched</th>\n      <th>piece_title</th>\n      <th>part</th>\n      <th>start_measure</th>\n      <th>end_measure</th>\n      <th>note_durations</th>\n      <th>ema</th>\n      <th>ema_url</th>\n    </tr>\n  </thead>\n  <tbody>\n    <tr>\n      <th>0</th>\n      <td>(1, 1, 3, 1, 2)</td>\n      <td>[1, 1, 3, 1, 2]</td>\n      <td>Je suis déshéritée</td>\n      <td>Superius</td>\n      <td>3</td>\n      <td>4</td>\n      <td>[4.0, 2.0, 2.0, 2.0, 2.0, 4.0]</td>\n      <td>3-4/1/@1.0-end,@start-3.0</td>\n      <td>https://ema.crimproject.org/https%3A%2F%2Fcrim...</td>\n    </tr>\n    <tr>\n      <th>1</th>\n      <td>(1, 1, 3, 1, 2)</td>\n      <td>[1, 1, 3, 1, 2]</td>\n      <td>Je suis déshéritée</td>\n      <td>Superius</td>\n      <td>11</td>\n      <td>12</td>\n      <td>[4.0, 2.0, 2.0, 2.0, 2.0, 4.0]</td>\n      <td>11-12/1/@1.0-end,@start-3.0</td>\n      <td>https://ema.crimproject.org/https%3A%2F%2Fcrim...</td>\n    </tr>\n    <tr>\n      <th>2</th>\n      <td>(1, 1, 3, 1, 2)</td>\n      <td>[1, 1, 3, 1, 2]</td>\n      <td>Je suis déshéritée</td>\n      <td>Contratenor</td>\n      <td>9</td>\n      <td>11</td>\n      <td>[2.0, 2.0, 2.0, 2.0, 2.0, 2.0]</td>\n      <td>9-11/2/@4.0-end,@start-end,@start-1.0</td>\n      <td>https://ema.crimproject.org/https%3A%2F%2Fcrim...</td>\n    </tr>\n    <tr>\n      <th>3</th>\n      <td>(1, 1, 3, 1, 2)</td>\n      <td>[1, 1, 3, 1, 2]</td>\n      <td>Je suis déshéritée</td>\n      <td>Tenor</td>\n      <td>1</td>\n      <td>3</td>\n      <td>[4.0, 2.0, 2.0, 2.0, 2.0, 4.0]</td>\n      <td>1-3/3/@3.0-end,@start-end,@start-1.0</td>\n      <td>https://ema.crimproject.org/https%3A%2F%2Fcrim...</td>\n    </tr>\n    <tr>\n      <th>4</th>\n      <td>(1, 1, 3, 1, 2)</td>\n      <td>[1, 1, 3, 1, 2]</td>\n      <td>Je suis déshéritée</td>\n      <td>Tenor</td>\n      <td>9</td>\n      <td>10</td>\n      <td>[4.0, 2.0, 2.0, 2.0, 2.0, 4.0]</td>\n      <td>9-10/3/@1.0-end,@start-3.0</td>\n      <td>https://ema.crimproject.org/https%3A%2F%2Fcrim...</td>\n    </tr>\n    <tr>\n      <th>...</th>\n      <td>...</td>\n      <td>...</td>\n      <td>...</td>\n      <td>...</td>\n      <td>...</td>\n      <td>...</td>\n      <td>...</td>\n      <td>...</td>\n      <td>...</td>\n    </tr>\n    <tr>\n      <th>58</th>\n      <td>(2, -2, -2, -2, 2)</td>\n      <td>[2, -2, -2, -2, 2]</td>\n      <td>Je suis déshéritée</td>\n      <td>Bassus</td>\n      <td>13</td>\n      <td>14</td>\n      <td>[1.0, 1.0, 1.0, 1.0, 1.0, 4.0]</td>\n      <td>13-14/4/@4.5-end,@start-3.0</td>\n      <td>https://ema.crimproject.org/https%3A%2F%2Fcrim...</td>\n    </tr>\n    <tr>\n      <th>59</th>\n      <td>(-2, -2, -2, 2, -2)</td>\n      <td>[-2, -2, -2, 2, -2]</td>\n      <td>Je suis déshéritée</td>\n      <td>Contratenor</td>\n      <td>20</td>\n      <td>21</td>\n      <td>[1.0, 1.0, 1.0, 1.0, 4.0, 2.0]</td>\n      <td>20-21/2/@1.0-end,@start-1.0</td>\n      <td>https://ema.crimproject.org/https%3A%2F%2Fcrim...</td>\n    </tr>\n    <tr>\n      <th>60</th>\n      <td>(-2, -2, -2, 2, -2)</td>\n      <td>[-2, -2, -2, 2, -2]</td>\n      <td>Je suis déshéritée</td>\n      <td>Tenor</td>\n      <td>16</td>\n      <td>17</td>\n      <td>[1.0, 1.0, 1.0, 1.0, 4.0, 4.0]</td>\n      <td>16-17/3/@1.0-end,@start-1.0</td>\n      <td>https://ema.crimproject.org/https%3A%2F%2Fcrim...</td>\n    </tr>\n    <tr>\n      <th>61</th>\n      <td>(-2, -2, -2, 2, -2)</td>\n      <td>[-2, -2, -2, 2, -2]</td>\n      <td>Je suis déshéritée</td>\n      <td>Bassus</td>\n      <td>6</td>\n      <td>7</td>\n      <td>[1.0, 1.0, 1.0, 1.0, 4.0, 3.0]</td>\n      <td>6-7/4/@1.0-end,@start-1.0</td>\n      <td>https://ema.crimproject.org/https%3A%2F%2Fcrim...</td>\n    </tr>\n    <tr>\n      <th>62</th>\n      <td>(-2, -2, -2, 2, -2)</td>\n      <td>[-2, -2, -2, 2, -2]</td>\n      <td>Je suis déshéritée</td>\n      <td>Bassus</td>\n      <td>14</td>\n      <td>15</td>\n      <td>[1.0, 1.0, 1.0, 1.0, 4.0, 2.0]</td>\n      <td>14-15/4/@1.0-end,@start-1.0</td>\n      <td>https://ema.crimproject.org/https%3A%2F%2Fcrim...</td>\n    </tr>\n  </tbody>\n</table>\n<p>63 rows × 9 columns</p>\n</div>"
     },
     "metadata": {},
     "execution_count": 62
    }
   ],
   "source": [
    "exact_matches = find_exact_matches(patterns, 3)\n",
    "# Use this for exact screen preview\n",
    "#for item in exact_matches:\n",
    "    #item.print_exact_matches()\n",
    "\n",
    "output_exact = export_pandas(exact_matches)\n",
    "pd.DataFrame(output_exact).head()\n",
    "output_exact[\"pattern_generating_match\"] = output_exact[\"pattern_generating_match\"].apply(tuple)\n",
    "\n",
    "results = pd.DataFrame(output_exact)\n",
    "results[\"pattern_generating_match\"] = results[\"pattern_generating_match\"].apply(tuple)\n",
    "results\n",
    "#export_to_csv(exact_matches)"
   ]
  },
  {
   "source": [
    "### A Quick Overview of the Results"
   ],
   "cell_type": "markdown",
   "metadata": {}
  },
  {
   "cell_type": "code",
   "execution_count": 63,
   "metadata": {},
   "outputs": [
    {
     "output_type": "execute_result",
     "data": {
      "text/plain": [
       "'There are 14 unique soggetti and 63 total matches in this search'"
      ]
     },
     "metadata": {},
     "execution_count": 63
    }
   ],
   "source": [
    "total_matches = len(output_exact)\n",
    "unique_sogetti = output_exact.pattern_generating_match.apply(str).nunique()\n",
    "summary = 'There are {} unique soggetti and {} total matches in this search'.format(unique_sogetti, total_matches)\n",
    "summary"
   ]
  },
  {
   "cell_type": "markdown",
   "metadata": {},
   "source": [
    "### Group by the Pattern Generating Match and Check Distribution of Results\n",
    "\n",
    "- Report Top Ten and Bottom Ten Results)"
   ]
  },
  {
   "cell_type": "code",
   "execution_count": 64,
   "metadata": {},
   "outputs": [
    {
     "output_type": "execute_result",
     "data": {
      "text/plain": [
       "                          0\n",
       "pattern_generating_match   \n",
       "(2, 2, -2, -2, -2)        5\n",
       "(2, -2, -2, -2, 2)        5\n",
       "(1, 1, 3, 1, 2)           5\n",
       "(1, 1, -2, -2, -2)        5\n",
       "(1, -2, -2, -2, 2)        5\n",
       "(-2, -2, 2, 2, 2)         5\n",
       "(-3, 2, 2, 2, 2)          5\n",
       "(2, 2, 2, -2, -2)         4\n",
       "(2, 2, 2, -3, 2)          4\n",
       "(2, 2, -3, 2, -2)         4"
      ],
      "text/html": "<div>\n<style scoped>\n    .dataframe tbody tr th:only-of-type {\n        vertical-align: middle;\n    }\n\n    .dataframe tbody tr th {\n        vertical-align: top;\n    }\n\n    .dataframe thead th {\n        text-align: right;\n    }\n</style>\n<table border=\"1\" class=\"dataframe\">\n  <thead>\n    <tr style=\"text-align: right;\">\n      <th></th>\n      <th>0</th>\n    </tr>\n    <tr>\n      <th>pattern_generating_match</th>\n      <th></th>\n    </tr>\n  </thead>\n  <tbody>\n    <tr>\n      <th>(2, 2, -2, -2, -2)</th>\n      <td>5</td>\n    </tr>\n    <tr>\n      <th>(2, -2, -2, -2, 2)</th>\n      <td>5</td>\n    </tr>\n    <tr>\n      <th>(1, 1, 3, 1, 2)</th>\n      <td>5</td>\n    </tr>\n    <tr>\n      <th>(1, 1, -2, -2, -2)</th>\n      <td>5</td>\n    </tr>\n    <tr>\n      <th>(1, -2, -2, -2, 2)</th>\n      <td>5</td>\n    </tr>\n    <tr>\n      <th>(-2, -2, 2, 2, 2)</th>\n      <td>5</td>\n    </tr>\n    <tr>\n      <th>(-3, 2, 2, 2, 2)</th>\n      <td>5</td>\n    </tr>\n    <tr>\n      <th>(2, 2, 2, -2, -2)</th>\n      <td>4</td>\n    </tr>\n    <tr>\n      <th>(2, 2, 2, -3, 2)</th>\n      <td>4</td>\n    </tr>\n    <tr>\n      <th>(2, 2, -3, 2, -2)</th>\n      <td>4</td>\n    </tr>\n  </tbody>\n</table>\n</div>"
     },
     "metadata": {},
     "execution_count": 64
    }
   ],
   "source": [
    "pattern_inventory = pd.DataFrame(output_exact.groupby(\"pattern_generating_match\").size().sort_values(ascending=False)[:10])\n",
    "pattern_inventory"
   ]
  },
  {
   "cell_type": "code",
   "execution_count": 65,
   "metadata": {},
   "outputs": [
    {
     "output_type": "execute_result",
     "data": {
      "text/plain": [
       "                          0\n",
       "pattern_generating_match   \n",
       "(-3, 2, -2, -2, -2)       4\n",
       "(-2, -2, -2, 2, -2)       4\n",
       "(1, 3, 1, 2, -4)          4\n",
       "(2, -3, 2, -2, -2)        4\n",
       "(2, 2, -3, 2, -2)         4\n",
       "(2, 2, 2, -3, 2)          4\n",
       "(2, 2, 2, -2, -2)         4\n",
       "(-3, 2, 2, 2, 2)          5\n",
       "(-2, -2, 2, 2, 2)         5\n",
       "(1, -2, -2, -2, 2)        5"
      ],
      "text/html": "<div>\n<style scoped>\n    .dataframe tbody tr th:only-of-type {\n        vertical-align: middle;\n    }\n\n    .dataframe tbody tr th {\n        vertical-align: top;\n    }\n\n    .dataframe thead th {\n        text-align: right;\n    }\n</style>\n<table border=\"1\" class=\"dataframe\">\n  <thead>\n    <tr style=\"text-align: right;\">\n      <th></th>\n      <th>0</th>\n    </tr>\n    <tr>\n      <th>pattern_generating_match</th>\n      <th></th>\n    </tr>\n  </thead>\n  <tbody>\n    <tr>\n      <th>(-3, 2, -2, -2, -2)</th>\n      <td>4</td>\n    </tr>\n    <tr>\n      <th>(-2, -2, -2, 2, -2)</th>\n      <td>4</td>\n    </tr>\n    <tr>\n      <th>(1, 3, 1, 2, -4)</th>\n      <td>4</td>\n    </tr>\n    <tr>\n      <th>(2, -3, 2, -2, -2)</th>\n      <td>4</td>\n    </tr>\n    <tr>\n      <th>(2, 2, -3, 2, -2)</th>\n      <td>4</td>\n    </tr>\n    <tr>\n      <th>(2, 2, 2, -3, 2)</th>\n      <td>4</td>\n    </tr>\n    <tr>\n      <th>(2, 2, 2, -2, -2)</th>\n      <td>4</td>\n    </tr>\n    <tr>\n      <th>(-3, 2, 2, 2, 2)</th>\n      <td>5</td>\n    </tr>\n    <tr>\n      <th>(-2, -2, 2, 2, 2)</th>\n      <td>5</td>\n    </tr>\n    <tr>\n      <th>(1, -2, -2, -2, 2)</th>\n      <td>5</td>\n    </tr>\n  </tbody>\n</table>\n</div>"
     },
     "metadata": {},
     "execution_count": 65
    }
   ],
   "source": [
    "pattern_inventory = pd.DataFrame(output_exact.groupby(\"pattern_generating_match\").size().sort_values(ascending=True)[:10])\n",
    "pattern_inventory"
   ]
  },
  {
   "cell_type": "markdown",
   "metadata": {},
   "source": [
    "***\n",
    "\n",
    "### Select Close Matches Here\n",
    "#### (Comment out the 'for item iteration' in order to skip screen preview)\n",
    "\n",
    "- **Close** matches allow for melodic variation (see more below). `find_close_matches(patterns, 2, 1)`\n",
    "- The **first number** in this command is the **minimum number of melodies** needed before reporting\n",
    "- The **second number** is **threshold of similarity** needed in order to find a match. \n",
    "- Lower number = very similar; higher number = less similar\n",
    "\n",
    "##### More about Close Matches  \n",
    "- The **threshold for close matches** is determined by the **second number** called in the method. \n",
    "- We select two patterns, then compare *each vector in each pattern successively*. \n",
    "- The *differences between each vector are summed*. \n",
    "- If that value is **below the threshold specified**, we consider the **two patterns closely matched**.\n",
    "- The format of the method call is  `find_close_matches(the array you get from into_patterns, minimum matches needed to be displayed, threshold for close match)`."
   ]
  },
  {
   "cell_type": "code",
   "execution_count": 66,
   "metadata": {
    "tags": []
   },
   "outputs": [
    {
     "output_type": "stream",
     "name": "stdout",
     "text": [
      "Finding close matches...\n",
      "46 melodic intervals had more than 3 exact or close matches.\n",
      "\n"
     ]
    },
    {
     "output_type": "execute_result",
     "data": {
      "text/plain": [
       "  pattern_generating_match  pattern_matched         piece_title         part  \\\n",
       "0          (1, 1, 3, 1, 2)  [1, 1, 3, 1, 2]  Je suis déshéritée     Superius   \n",
       "1          (1, 1, 3, 1, 2)  [1, 1, 3, 1, 2]  Je suis déshéritée     Superius   \n",
       "2          (1, 1, 3, 1, 2)  [1, 1, 3, 1, 2]  Je suis déshéritée  Contratenor   \n",
       "3          (1, 1, 3, 1, 2)  [1, 1, 3, 1, 2]  Je suis déshéritée        Tenor   \n",
       "4          (1, 1, 3, 1, 2)  [1, 1, 3, 1, 2]  Je suis déshéritée        Tenor   \n",
       "\n",
       "   start_measure  end_measure                  note_durations  \\\n",
       "0              3            4  [4.0, 2.0, 2.0, 2.0, 2.0, 4.0]   \n",
       "1             11           12  [4.0, 2.0, 2.0, 2.0, 2.0, 4.0]   \n",
       "2              9           11  [2.0, 2.0, 2.0, 2.0, 2.0, 2.0]   \n",
       "3              1            3  [4.0, 2.0, 2.0, 2.0, 2.0, 4.0]   \n",
       "4              9           10  [4.0, 2.0, 2.0, 2.0, 2.0, 4.0]   \n",
       "\n",
       "                                     ema  \\\n",
       "0              3-4/1/@1.0-end,@start-3.0   \n",
       "1            11-12/1/@1.0-end,@start-3.0   \n",
       "2  9-11/2/@4.0-end,@start-end,@start-1.0   \n",
       "3   1-3/3/@3.0-end,@start-end,@start-1.0   \n",
       "4             9-10/3/@1.0-end,@start-3.0   \n",
       "\n",
       "                                             ema_url  \n",
       "0  https://ema.crimproject.org/https%3A%2F%2Fcrim...  \n",
       "1  https://ema.crimproject.org/https%3A%2F%2Fcrim...  \n",
       "2  https://ema.crimproject.org/https%3A%2F%2Fcrim...  \n",
       "3  https://ema.crimproject.org/https%3A%2F%2Fcrim...  \n",
       "4  https://ema.crimproject.org/https%3A%2F%2Fcrim...  "
      ],
      "text/html": "<div>\n<style scoped>\n    .dataframe tbody tr th:only-of-type {\n        vertical-align: middle;\n    }\n\n    .dataframe tbody tr th {\n        vertical-align: top;\n    }\n\n    .dataframe thead th {\n        text-align: right;\n    }\n</style>\n<table border=\"1\" class=\"dataframe\">\n  <thead>\n    <tr style=\"text-align: right;\">\n      <th></th>\n      <th>pattern_generating_match</th>\n      <th>pattern_matched</th>\n      <th>piece_title</th>\n      <th>part</th>\n      <th>start_measure</th>\n      <th>end_measure</th>\n      <th>note_durations</th>\n      <th>ema</th>\n      <th>ema_url</th>\n    </tr>\n  </thead>\n  <tbody>\n    <tr>\n      <th>0</th>\n      <td>(1, 1, 3, 1, 2)</td>\n      <td>[1, 1, 3, 1, 2]</td>\n      <td>Je suis déshéritée</td>\n      <td>Superius</td>\n      <td>3</td>\n      <td>4</td>\n      <td>[4.0, 2.0, 2.0, 2.0, 2.0, 4.0]</td>\n      <td>3-4/1/@1.0-end,@start-3.0</td>\n      <td>https://ema.crimproject.org/https%3A%2F%2Fcrim...</td>\n    </tr>\n    <tr>\n      <th>1</th>\n      <td>(1, 1, 3, 1, 2)</td>\n      <td>[1, 1, 3, 1, 2]</td>\n      <td>Je suis déshéritée</td>\n      <td>Superius</td>\n      <td>11</td>\n      <td>12</td>\n      <td>[4.0, 2.0, 2.0, 2.0, 2.0, 4.0]</td>\n      <td>11-12/1/@1.0-end,@start-3.0</td>\n      <td>https://ema.crimproject.org/https%3A%2F%2Fcrim...</td>\n    </tr>\n    <tr>\n      <th>2</th>\n      <td>(1, 1, 3, 1, 2)</td>\n      <td>[1, 1, 3, 1, 2]</td>\n      <td>Je suis déshéritée</td>\n      <td>Contratenor</td>\n      <td>9</td>\n      <td>11</td>\n      <td>[2.0, 2.0, 2.0, 2.0, 2.0, 2.0]</td>\n      <td>9-11/2/@4.0-end,@start-end,@start-1.0</td>\n      <td>https://ema.crimproject.org/https%3A%2F%2Fcrim...</td>\n    </tr>\n    <tr>\n      <th>3</th>\n      <td>(1, 1, 3, 1, 2)</td>\n      <td>[1, 1, 3, 1, 2]</td>\n      <td>Je suis déshéritée</td>\n      <td>Tenor</td>\n      <td>1</td>\n      <td>3</td>\n      <td>[4.0, 2.0, 2.0, 2.0, 2.0, 4.0]</td>\n      <td>1-3/3/@3.0-end,@start-end,@start-1.0</td>\n      <td>https://ema.crimproject.org/https%3A%2F%2Fcrim...</td>\n    </tr>\n    <tr>\n      <th>4</th>\n      <td>(1, 1, 3, 1, 2)</td>\n      <td>[1, 1, 3, 1, 2]</td>\n      <td>Je suis déshéritée</td>\n      <td>Tenor</td>\n      <td>9</td>\n      <td>10</td>\n      <td>[4.0, 2.0, 2.0, 2.0, 2.0, 4.0]</td>\n      <td>9-10/3/@1.0-end,@start-3.0</td>\n      <td>https://ema.crimproject.org/https%3A%2F%2Fcrim...</td>\n    </tr>\n  </tbody>\n</table>\n</div>"
     },
     "metadata": {},
     "execution_count": 66
    }
   ],
   "source": [
    "close_matches = find_close_matches(patterns, 3, 1)\n",
    "#for item in close_matches:\n",
    "   #item.print_close_matches()\n",
    "    #return pd.DataFrame(close_matches)\n",
    "\n",
    "output_close = export_pandas(close_matches)\n",
    "output_close[\"pattern_generating_match\"] = output_close[\"pattern_generating_match\"].apply(tuple)\n",
    "\n",
    "results = pd.DataFrame(output_close)\n",
    "results[\"pattern_generating_match\"] = results[\"pattern_generating_match\"].apply(tuple)\n",
    "results.head()\n",
    "#export_to_csv(close_matches)"
   ]
  },
  {
   "source": [
    "### How Many Unique Soggetti?  How many instances?"
   ],
   "cell_type": "markdown",
   "metadata": {}
  },
  {
   "cell_type": "code",
   "execution_count": 67,
   "metadata": {},
   "outputs": [
    {
     "output_type": "execute_result",
     "data": {
      "text/plain": [
       "'There are 46 unique soggetti and 258 total matches in this search'"
      ]
     },
     "metadata": {},
     "execution_count": 67
    }
   ],
   "source": [
    "total_matches = len(output_close)\n",
    "unique_sogetti = output_close.pattern_generating_match.apply(str).nunique()\n",
    "summary = 'There are {} unique soggetti and {} total matches in this search'.format(unique_sogetti, total_matches)\n",
    "summary"
   ]
  },
  {
   "cell_type": "markdown",
   "metadata": {},
   "source": [
    "### Top and Bottom Ten Soggetti\n",
    "\n",
    "\n"
   ]
  },
  {
   "cell_type": "code",
   "execution_count": 68,
   "metadata": {},
   "outputs": [
    {
     "output_type": "execute_result",
     "data": {
      "text/plain": [
       "                           0\n",
       "pattern_generating_match    \n",
       "(2, -2, -2, -2, 2)        12\n",
       "(1, -2, -2, -2, 2)        11\n",
       "(-2, -3, 2, 2, 2)          8\n",
       "(2, -3, -2, -2, 2)         8\n",
       "(2, 2, 2, 2, -2)           8\n",
       "(-2, -2, 2, 2, 2)          8\n",
       "(1, 2, 2, -2, -2)          7\n",
       "(-2, 2, 2, 2, 2)           7\n",
       "(-3, 2, 2, 2, 2)           7\n",
       "(1, -2, -2, -2, 1)         7"
      ],
      "text/html": "<div>\n<style scoped>\n    .dataframe tbody tr th:only-of-type {\n        vertical-align: middle;\n    }\n\n    .dataframe tbody tr th {\n        vertical-align: top;\n    }\n\n    .dataframe thead th {\n        text-align: right;\n    }\n</style>\n<table border=\"1\" class=\"dataframe\">\n  <thead>\n    <tr style=\"text-align: right;\">\n      <th></th>\n      <th>0</th>\n    </tr>\n    <tr>\n      <th>pattern_generating_match</th>\n      <th></th>\n    </tr>\n  </thead>\n  <tbody>\n    <tr>\n      <th>(2, -2, -2, -2, 2)</th>\n      <td>12</td>\n    </tr>\n    <tr>\n      <th>(1, -2, -2, -2, 2)</th>\n      <td>11</td>\n    </tr>\n    <tr>\n      <th>(-2, -3, 2, 2, 2)</th>\n      <td>8</td>\n    </tr>\n    <tr>\n      <th>(2, -3, -2, -2, 2)</th>\n      <td>8</td>\n    </tr>\n    <tr>\n      <th>(2, 2, 2, 2, -2)</th>\n      <td>8</td>\n    </tr>\n    <tr>\n      <th>(-2, -2, 2, 2, 2)</th>\n      <td>8</td>\n    </tr>\n    <tr>\n      <th>(1, 2, 2, -2, -2)</th>\n      <td>7</td>\n    </tr>\n    <tr>\n      <th>(-2, 2, 2, 2, 2)</th>\n      <td>7</td>\n    </tr>\n    <tr>\n      <th>(-3, 2, 2, 2, 2)</th>\n      <td>7</td>\n    </tr>\n    <tr>\n      <th>(1, -2, -2, -2, 1)</th>\n      <td>7</td>\n    </tr>\n  </tbody>\n</table>\n</div>"
     },
     "metadata": {},
     "execution_count": 68
    }
   ],
   "source": [
    "pattern_inventory = pd.DataFrame(output_close.groupby(\"pattern_generating_match\").size().sort_values(ascending=False)[:10])\n",
    "pattern_inventory"
   ]
  },
  {
   "cell_type": "code",
   "execution_count": 69,
   "metadata": {},
   "outputs": [
    {
     "output_type": "execute_result",
     "data": {
      "text/plain": [
       "                          0\n",
       "pattern_generating_match   \n",
       "(3, -2, -2, 2, 2)         4\n",
       "(1, -2, 2, 2, 2)          4\n",
       "(2, -3, 2, -2, -2)        4\n",
       "(1, -3, 2, 2, 2)          4\n",
       "(-2, 3, -2, -2, 2)        4\n",
       "(2, -2, -2, 2, 2)         4\n",
       "(-2, 2, 2, 2, -2)         4\n",
       "(2, 2, -3, 2, -2)         4\n",
       "(1, 1, 3, -2, -2)         4\n",
       "(-2, 2, -2, -2, 2)        4"
      ],
      "text/html": "<div>\n<style scoped>\n    .dataframe tbody tr th:only-of-type {\n        vertical-align: middle;\n    }\n\n    .dataframe tbody tr th {\n        vertical-align: top;\n    }\n\n    .dataframe thead th {\n        text-align: right;\n    }\n</style>\n<table border=\"1\" class=\"dataframe\">\n  <thead>\n    <tr style=\"text-align: right;\">\n      <th></th>\n      <th>0</th>\n    </tr>\n    <tr>\n      <th>pattern_generating_match</th>\n      <th></th>\n    </tr>\n  </thead>\n  <tbody>\n    <tr>\n      <th>(3, -2, -2, 2, 2)</th>\n      <td>4</td>\n    </tr>\n    <tr>\n      <th>(1, -2, 2, 2, 2)</th>\n      <td>4</td>\n    </tr>\n    <tr>\n      <th>(2, -3, 2, -2, -2)</th>\n      <td>4</td>\n    </tr>\n    <tr>\n      <th>(1, -3, 2, 2, 2)</th>\n      <td>4</td>\n    </tr>\n    <tr>\n      <th>(-2, 3, -2, -2, 2)</th>\n      <td>4</td>\n    </tr>\n    <tr>\n      <th>(2, -2, -2, 2, 2)</th>\n      <td>4</td>\n    </tr>\n    <tr>\n      <th>(-2, 2, 2, 2, -2)</th>\n      <td>4</td>\n    </tr>\n    <tr>\n      <th>(2, 2, -3, 2, -2)</th>\n      <td>4</td>\n    </tr>\n    <tr>\n      <th>(1, 1, 3, -2, -2)</th>\n      <td>4</td>\n    </tr>\n    <tr>\n      <th>(-2, 2, -2, -2, 2)</th>\n      <td>4</td>\n    </tr>\n  </tbody>\n</table>\n</div>"
     },
     "metadata": {},
     "execution_count": 69
    }
   ],
   "source": [
    "pattern_inventory = pd.DataFrame(output_close.groupby(\"pattern_generating_match\").size().sort_values(ascending=True)[:10])\n",
    "pattern_inventory\n"
   ]
  },
  {
   "cell_type": "markdown",
   "metadata": {},
   "source": [
    "***\n",
    "\n",
    "### Classify Patterns Here \n",
    "#### Note:  depends on choice of Close or Exact above!  Must choose appropriate one below!\n",
    "#### Enable \"export_to_csv\" line to allow this within Notebook (must answer \"Y\" and provide filename)"
   ]
  },
  {
   "cell_type": "code",
   "execution_count": 70,
   "metadata": {
    "jupyter": {
     "outputs_hidden": true
    },
    "tags": []
   },
   "outputs": [],
   "source": [
    "%%capture\n",
    "classify_matches(close_matches, 2)\n",
    "#classify_matches(exact_matches, 2)\n",
    "cm = classify_matches(close_matches, 2)\n",
    "#pd.DataFrame(classified_matches)\n",
    "output_cm = export_pandas(cm)\n",
    "#pd.DataFrame(output).head()\n",
    "\n",
    "## For CSV export, use the following (and follow prompts for file name)\n",
    "\n",
    "#export_to_csv(cm)\n",
    "\n"
   ]
  },
  {
   "cell_type": "code",
   "execution_count": 71,
   "metadata": {},
   "outputs": [
    {
     "output_type": "execute_result",
     "data": {
      "text/plain": [
       "   pattern_generating_match     pattern_matched         piece_title      part  \\\n",
       "0        [1, 1, -2, -2, -2]  [1, 1, -2, -2, -2]  Je suis déshéritée     Tenor   \n",
       "1        [1, 1, -2, -2, -2]  [1, 1, -2, -2, -2]  Je suis déshéritée  Superius   \n",
       "2        [1, 1, -2, -2, -2]  [1, 1, -2, -2, -2]  Je suis déshéritée     Tenor   \n",
       "3        [1, 1, -2, -2, -2]  [1, 1, -2, -2, -2]  Je suis déshéritée  Superius   \n",
       "4        [1, 1, -2, -2, -2]  [1, 1, -2, -2, -2]  Je suis déshéritée  Superius   \n",
       "..                      ...                 ...                 ...       ...   \n",
       "50         [2, 2, 2, 2, -3]    [2, 2, 2, 2, -3]  Je suis déshéritée    Bassus   \n",
       "51       [1, -2, -2, -2, 2]  [1, -2, -2, -2, 2]  Je suis déshéritée     Tenor   \n",
       "52       [1, -2, -2, -2, 2]  [1, -2, -2, -2, 2]  Je suis déshéritée  Superius   \n",
       "53       [1, -2, -2, -2, 2]  [1, -2, -2, -2, 2]  Je suis déshéritée     Tenor   \n",
       "54       [1, -2, -2, -2, 2]  [1, -2, -2, -2, 2]  Je suis déshéritée  Superius   \n",
       "\n",
       "    start_measure  end_measure                  note_durations  \\\n",
       "0               5            6  [2.0, 2.0, 2.0, 2.0, 4.0, 2.0]   \n",
       "1               7            8  [2.0, 2.0, 2.0, 2.0, 4.0, 2.0]   \n",
       "2              13           14  [2.0, 2.0, 2.0, 2.0, 4.0, 2.0]   \n",
       "3              15           16  [2.0, 2.0, 2.0, 2.0, 4.0, 2.0]   \n",
       "4               7            8  [2.0, 2.0, 2.0, 2.0, 4.0, 2.0]   \n",
       "..            ...          ...                             ...   \n",
       "50             13           13  [1.0, 1.0, 1.0, 1.0, 1.0, 1.0]   \n",
       "51              5            7  [2.0, 2.0, 2.0, 4.0, 2.0, 4.0]   \n",
       "52              7            9  [2.0, 2.0, 2.0, 4.0, 2.0, 4.0]   \n",
       "53             13           15  [2.0, 2.0, 2.0, 4.0, 2.0, 3.0]   \n",
       "54             15           17  [2.0, 2.0, 2.0, 4.0, 2.0, 4.0]   \n",
       "\n",
       "                                       ema  \n",
       "0                5-6/3/@2.0-end,@start-4.0  \n",
       "1                7-8/1/@2.0-end,@start-4.0  \n",
       "2              13-14/3/@2.0-end,@start-4.0  \n",
       "3              15-16/1/@2.0-end,@start-4.0  \n",
       "4                7-8/1/@2.0-end,@start-4.0  \n",
       "..                                     ...  \n",
       "50             13-13/4/@2.0-end,@start-4.5  \n",
       "51    5-7/3/@3.0-end,@start-end,@start-1.0  \n",
       "52    7-9/1/@3.0-end,@start-end,@start-1.0  \n",
       "53  13-15/3/@3.0-end,@start-end,@start-1.0  \n",
       "54  15-17/1/@3.0-end,@start-end,@start-1.0  \n",
       "\n",
       "[55 rows x 8 columns]"
      ],
      "text/html": "<div>\n<style scoped>\n    .dataframe tbody tr th:only-of-type {\n        vertical-align: middle;\n    }\n\n    .dataframe tbody tr th {\n        vertical-align: top;\n    }\n\n    .dataframe thead th {\n        text-align: right;\n    }\n</style>\n<table border=\"1\" class=\"dataframe\">\n  <thead>\n    <tr style=\"text-align: right;\">\n      <th></th>\n      <th>pattern_generating_match</th>\n      <th>pattern_matched</th>\n      <th>piece_title</th>\n      <th>part</th>\n      <th>start_measure</th>\n      <th>end_measure</th>\n      <th>note_durations</th>\n      <th>ema</th>\n    </tr>\n  </thead>\n  <tbody>\n    <tr>\n      <th>0</th>\n      <td>[1, 1, -2, -2, -2]</td>\n      <td>[1, 1, -2, -2, -2]</td>\n      <td>Je suis déshéritée</td>\n      <td>Tenor</td>\n      <td>5</td>\n      <td>6</td>\n      <td>[2.0, 2.0, 2.0, 2.0, 4.0, 2.0]</td>\n      <td>5-6/3/@2.0-end,@start-4.0</td>\n    </tr>\n    <tr>\n      <th>1</th>\n      <td>[1, 1, -2, -2, -2]</td>\n      <td>[1, 1, -2, -2, -2]</td>\n      <td>Je suis déshéritée</td>\n      <td>Superius</td>\n      <td>7</td>\n      <td>8</td>\n      <td>[2.0, 2.0, 2.0, 2.0, 4.0, 2.0]</td>\n      <td>7-8/1/@2.0-end,@start-4.0</td>\n    </tr>\n    <tr>\n      <th>2</th>\n      <td>[1, 1, -2, -2, -2]</td>\n      <td>[1, 1, -2, -2, -2]</td>\n      <td>Je suis déshéritée</td>\n      <td>Tenor</td>\n      <td>13</td>\n      <td>14</td>\n      <td>[2.0, 2.0, 2.0, 2.0, 4.0, 2.0]</td>\n      <td>13-14/3/@2.0-end,@start-4.0</td>\n    </tr>\n    <tr>\n      <th>3</th>\n      <td>[1, 1, -2, -2, -2]</td>\n      <td>[1, 1, -2, -2, -2]</td>\n      <td>Je suis déshéritée</td>\n      <td>Superius</td>\n      <td>15</td>\n      <td>16</td>\n      <td>[2.0, 2.0, 2.0, 2.0, 4.0, 2.0]</td>\n      <td>15-16/1/@2.0-end,@start-4.0</td>\n    </tr>\n    <tr>\n      <th>4</th>\n      <td>[1, 1, -2, -2, -2]</td>\n      <td>[1, 1, -2, -2, -2]</td>\n      <td>Je suis déshéritée</td>\n      <td>Superius</td>\n      <td>7</td>\n      <td>8</td>\n      <td>[2.0, 2.0, 2.0, 2.0, 4.0, 2.0]</td>\n      <td>7-8/1/@2.0-end,@start-4.0</td>\n    </tr>\n    <tr>\n      <th>...</th>\n      <td>...</td>\n      <td>...</td>\n      <td>...</td>\n      <td>...</td>\n      <td>...</td>\n      <td>...</td>\n      <td>...</td>\n      <td>...</td>\n    </tr>\n    <tr>\n      <th>50</th>\n      <td>[2, 2, 2, 2, -3]</td>\n      <td>[2, 2, 2, 2, -3]</td>\n      <td>Je suis déshéritée</td>\n      <td>Bassus</td>\n      <td>13</td>\n      <td>13</td>\n      <td>[1.0, 1.0, 1.0, 1.0, 1.0, 1.0]</td>\n      <td>13-13/4/@2.0-end,@start-4.5</td>\n    </tr>\n    <tr>\n      <th>51</th>\n      <td>[1, -2, -2, -2, 2]</td>\n      <td>[1, -2, -2, -2, 2]</td>\n      <td>Je suis déshéritée</td>\n      <td>Tenor</td>\n      <td>5</td>\n      <td>7</td>\n      <td>[2.0, 2.0, 2.0, 4.0, 2.0, 4.0]</td>\n      <td>5-7/3/@3.0-end,@start-end,@start-1.0</td>\n    </tr>\n    <tr>\n      <th>52</th>\n      <td>[1, -2, -2, -2, 2]</td>\n      <td>[1, -2, -2, -2, 2]</td>\n      <td>Je suis déshéritée</td>\n      <td>Superius</td>\n      <td>7</td>\n      <td>9</td>\n      <td>[2.0, 2.0, 2.0, 4.0, 2.0, 4.0]</td>\n      <td>7-9/1/@3.0-end,@start-end,@start-1.0</td>\n    </tr>\n    <tr>\n      <th>53</th>\n      <td>[1, -2, -2, -2, 2]</td>\n      <td>[1, -2, -2, -2, 2]</td>\n      <td>Je suis déshéritée</td>\n      <td>Tenor</td>\n      <td>13</td>\n      <td>15</td>\n      <td>[2.0, 2.0, 2.0, 4.0, 2.0, 3.0]</td>\n      <td>13-15/3/@3.0-end,@start-end,@start-1.0</td>\n    </tr>\n    <tr>\n      <th>54</th>\n      <td>[1, -2, -2, -2, 2]</td>\n      <td>[1, -2, -2, -2, 2]</td>\n      <td>Je suis déshéritée</td>\n      <td>Superius</td>\n      <td>15</td>\n      <td>17</td>\n      <td>[2.0, 2.0, 2.0, 4.0, 2.0, 4.0]</td>\n      <td>15-17/1/@3.0-end,@start-end,@start-1.0</td>\n    </tr>\n  </tbody>\n</table>\n<p>55 rows × 8 columns</p>\n</div>"
     },
     "metadata": {},
     "execution_count": 71
    }
   ],
   "source": [
    "short_out = output_cm.drop(columns=[\"ema_url\"])\n",
    "short_out"
   ]
  },
  {
   "cell_type": "code",
   "execution_count": 72,
   "metadata": {},
   "outputs": [],
   "source": [
    "def classified_matches_to_pandas(matches):\n",
    "    \n",
    "    soggetti_matches = []\n",
    "    \n",
    "    for i, cm in enumerate(matches):\n",
    "        \n",
    "        for j, soggetti in enumerate(cm.matches):\n",
    "            \n",
    "            soggetti_matches.append({\n",
    "                \"piece\": soggetti.first_note.metadata.title,\n",
    "                \"type\": cm.type,\n",
    "                \"part\": soggetti.first_note.part.strip(\"[] \"),\n",
    "                \"bar\": soggetti.first_note.note.measureNumber,\n",
    "                \"entry_number\": j + 1,\n",
    "                \"pattern\": cm.pattern,\n",
    "                \"match_number\": i + 1\n",
    "            })\n",
    "    return pd.DataFrame(soggetti_matches)"
   ]
  },
  {
   "cell_type": "code",
   "execution_count": 73,
   "metadata": {},
   "outputs": [
    {
     "output_type": "execute_result",
     "data": {
      "text/plain": [
       "                piece           type         part  bar  entry_number  \\\n",
       "0  Je suis déshéritée  imitative duo        Tenor    5             1   \n",
       "1  Je suis déshéritée  imitative duo     Superius    7             2   \n",
       "2  Je suis déshéritée  imitative duo        Tenor   13             3   \n",
       "3  Je suis déshéritée  imitative duo     Superius   15             4   \n",
       "4  Je suis déshéritée           fuga     Superius    7             1   \n",
       "5  Je suis déshéritée           fuga        Tenor   13             2   \n",
       "6  Je suis déshéritée           fuga     Superius   15             3   \n",
       "7  Je suis déshéritée           fuga       Bassus    1             1   \n",
       "8  Je suis déshéritée           fuga  Contratenor    4             2   \n",
       "9  Je suis déshéritée           fuga  Contratenor    7             3   \n",
       "\n",
       "              pattern  match_number  \n",
       "0  [1, 1, -2, -2, -2]             1  \n",
       "1  [1, 1, -2, -2, -2]             1  \n",
       "2  [1, 1, -2, -2, -2]             1  \n",
       "3  [1, 1, -2, -2, -2]             1  \n",
       "4  [1, 1, -2, -2, -2]             2  \n",
       "5  [1, 1, -2, -2, -2]             2  \n",
       "6  [1, 1, -2, -2, -2]             2  \n",
       "7  [1, 3, -2, -2, -2]             3  \n",
       "8  [1, 3, -2, -2, -2]             3  \n",
       "9  [1, 3, -2, -2, -2]             3  "
      ],
      "text/html": "<div>\n<style scoped>\n    .dataframe tbody tr th:only-of-type {\n        vertical-align: middle;\n    }\n\n    .dataframe tbody tr th {\n        vertical-align: top;\n    }\n\n    .dataframe thead th {\n        text-align: right;\n    }\n</style>\n<table border=\"1\" class=\"dataframe\">\n  <thead>\n    <tr style=\"text-align: right;\">\n      <th></th>\n      <th>piece</th>\n      <th>type</th>\n      <th>part</th>\n      <th>bar</th>\n      <th>entry_number</th>\n      <th>pattern</th>\n      <th>match_number</th>\n    </tr>\n  </thead>\n  <tbody>\n    <tr>\n      <th>0</th>\n      <td>Je suis déshéritée</td>\n      <td>imitative duo</td>\n      <td>Tenor</td>\n      <td>5</td>\n      <td>1</td>\n      <td>[1, 1, -2, -2, -2]</td>\n      <td>1</td>\n    </tr>\n    <tr>\n      <th>1</th>\n      <td>Je suis déshéritée</td>\n      <td>imitative duo</td>\n      <td>Superius</td>\n      <td>7</td>\n      <td>2</td>\n      <td>[1, 1, -2, -2, -2]</td>\n      <td>1</td>\n    </tr>\n    <tr>\n      <th>2</th>\n      <td>Je suis déshéritée</td>\n      <td>imitative duo</td>\n      <td>Tenor</td>\n      <td>13</td>\n      <td>3</td>\n      <td>[1, 1, -2, -2, -2]</td>\n      <td>1</td>\n    </tr>\n    <tr>\n      <th>3</th>\n      <td>Je suis déshéritée</td>\n      <td>imitative duo</td>\n      <td>Superius</td>\n      <td>15</td>\n      <td>4</td>\n      <td>[1, 1, -2, -2, -2]</td>\n      <td>1</td>\n    </tr>\n    <tr>\n      <th>4</th>\n      <td>Je suis déshéritée</td>\n      <td>fuga</td>\n      <td>Superius</td>\n      <td>7</td>\n      <td>1</td>\n      <td>[1, 1, -2, -2, -2]</td>\n      <td>2</td>\n    </tr>\n    <tr>\n      <th>5</th>\n      <td>Je suis déshéritée</td>\n      <td>fuga</td>\n      <td>Tenor</td>\n      <td>13</td>\n      <td>2</td>\n      <td>[1, 1, -2, -2, -2]</td>\n      <td>2</td>\n    </tr>\n    <tr>\n      <th>6</th>\n      <td>Je suis déshéritée</td>\n      <td>fuga</td>\n      <td>Superius</td>\n      <td>15</td>\n      <td>3</td>\n      <td>[1, 1, -2, -2, -2]</td>\n      <td>2</td>\n    </tr>\n    <tr>\n      <th>7</th>\n      <td>Je suis déshéritée</td>\n      <td>fuga</td>\n      <td>Bassus</td>\n      <td>1</td>\n      <td>1</td>\n      <td>[1, 3, -2, -2, -2]</td>\n      <td>3</td>\n    </tr>\n    <tr>\n      <th>8</th>\n      <td>Je suis déshéritée</td>\n      <td>fuga</td>\n      <td>Contratenor</td>\n      <td>4</td>\n      <td>2</td>\n      <td>[1, 3, -2, -2, -2]</td>\n      <td>3</td>\n    </tr>\n    <tr>\n      <th>9</th>\n      <td>Je suis déshéritée</td>\n      <td>fuga</td>\n      <td>Contratenor</td>\n      <td>7</td>\n      <td>3</td>\n      <td>[1, 3, -2, -2, -2]</td>\n      <td>3</td>\n    </tr>\n  </tbody>\n</table>\n</div>"
     },
     "metadata": {},
     "execution_count": 73
    }
   ],
   "source": [
    "df = classified_matches_to_pandas(cm)\n",
    "pd.set_option('display.max_rows', 50)\n",
    "df.head(10)"
   ]
  },
  {
   "cell_type": "code",
   "execution_count": 74,
   "metadata": {
    "scrolled": true
   },
   "outputs": [
    {
     "output_type": "execute_result",
     "data": {
      "text/plain": [
       "                                               bar_1  bar_2  bar_3  bar_4  \\\n",
       "match_number piece              type                                        \n",
       "1            Je suis déshéritée imitative duo    5.0    7.0   13.0   15.0   \n",
       "2            Je suis déshéritée fuga             7.0   13.0   15.0    NaN   \n",
       "3            Je suis déshéritée fuga             1.0    4.0    7.0    NaN   \n",
       "4            Je suis déshéritée fuga             4.0    7.0   12.0    NaN   \n",
       "5            Je suis déshéritée fuga             5.0    7.0   13.0    NaN   \n",
       "6            Je suis déshéritée fuga             7.0   13.0   14.0   14.0   \n",
       "7            Je suis déshéritée fuga             4.0    7.0   12.0    NaN   \n",
       "8            Je suis déshéritée fuga             5.0    7.0   13.0    NaN   \n",
       "9            Je suis déshéritée fuga             7.0   13.0   15.0    NaN   \n",
       "10           Je suis déshéritée fuga             5.0    7.0   13.0    NaN   \n",
       "11           Je suis déshéritée fuga             7.0   13.0   14.0   14.0   \n",
       "12           Je suis déshéritée fuga             5.0   13.0   15.0    NaN   \n",
       "13           Je suis déshéritée fuga             5.0   13.0   15.0    NaN   \n",
       "14           Je suis déshéritée fuga             5.0   13.0   15.0    NaN   \n",
       "15           Je suis déshéritée fuga             4.0    7.0   12.0    NaN   \n",
       "16           Je suis déshéritée fuga             5.0    7.0   13.0    NaN   \n",
       "17           Je suis déshéritée imitative duo    5.0    7.0   13.0   15.0   \n",
       "\n",
       "                                                    part_1       part_2  \\\n",
       "match_number piece              type                                      \n",
       "1            Je suis déshéritée imitative duo        Tenor     Superius   \n",
       "2            Je suis déshéritée fuga              Superius        Tenor   \n",
       "3            Je suis déshéritée fuga                Bassus  Contratenor   \n",
       "4            Je suis déshéritée fuga           Contratenor  Contratenor   \n",
       "5            Je suis déshéritée fuga                Bassus  Contratenor   \n",
       "6            Je suis déshéritée fuga           Contratenor       Bassus   \n",
       "7            Je suis déshéritée fuga           Contratenor  Contratenor   \n",
       "8            Je suis déshéritée fuga                Bassus  Contratenor   \n",
       "9            Je suis déshéritée fuga           Contratenor       Bassus   \n",
       "10           Je suis déshéritée fuga                Bassus  Contratenor   \n",
       "11           Je suis déshéritée fuga           Contratenor       Bassus   \n",
       "12           Je suis déshéritée fuga                Bassus       Bassus   \n",
       "13           Je suis déshéritée fuga                Bassus       Bassus   \n",
       "14           Je suis déshéritée fuga                Bassus       Bassus   \n",
       "15           Je suis déshéritée fuga           Contratenor  Contratenor   \n",
       "16           Je suis déshéritée fuga                Bassus  Contratenor   \n",
       "17           Je suis déshéritée imitative duo        Tenor     Superius   \n",
       "\n",
       "                                                    part_3       part_4  \n",
       "match_number piece              type                                     \n",
       "1            Je suis déshéritée imitative duo        Tenor     Superius  \n",
       "2            Je suis déshéritée fuga              Superius          NaN  \n",
       "3            Je suis déshéritée fuga           Contratenor          NaN  \n",
       "4            Je suis déshéritée fuga           Contratenor          NaN  \n",
       "5            Je suis déshéritée fuga                Bassus          NaN  \n",
       "6            Je suis déshéritée fuga                 Tenor  Contratenor  \n",
       "7            Je suis déshéritée fuga           Contratenor          NaN  \n",
       "8            Je suis déshéritée fuga                Bassus          NaN  \n",
       "9            Je suis déshéritée fuga                 Tenor          NaN  \n",
       "10           Je suis déshéritée fuga                Bassus          NaN  \n",
       "11           Je suis déshéritée fuga                 Tenor  Contratenor  \n",
       "12           Je suis déshéritée fuga                 Tenor          NaN  \n",
       "13           Je suis déshéritée fuga                 Tenor          NaN  \n",
       "14           Je suis déshéritée fuga                 Tenor          NaN  \n",
       "15           Je suis déshéritée fuga           Contratenor          NaN  \n",
       "16           Je suis déshéritée fuga                Bassus          NaN  \n",
       "17           Je suis déshéritée imitative duo        Tenor     Superius  "
      ],
      "text/html": "<div>\n<style scoped>\n    .dataframe tbody tr th:only-of-type {\n        vertical-align: middle;\n    }\n\n    .dataframe tbody tr th {\n        vertical-align: top;\n    }\n\n    .dataframe thead th {\n        text-align: right;\n    }\n</style>\n<table border=\"1\" class=\"dataframe\">\n  <thead>\n    <tr style=\"text-align: right;\">\n      <th></th>\n      <th></th>\n      <th></th>\n      <th>bar_1</th>\n      <th>bar_2</th>\n      <th>bar_3</th>\n      <th>bar_4</th>\n      <th>part_1</th>\n      <th>part_2</th>\n      <th>part_3</th>\n      <th>part_4</th>\n    </tr>\n    <tr>\n      <th>match_number</th>\n      <th>piece</th>\n      <th>type</th>\n      <th></th>\n      <th></th>\n      <th></th>\n      <th></th>\n      <th></th>\n      <th></th>\n      <th></th>\n      <th></th>\n    </tr>\n  </thead>\n  <tbody>\n    <tr>\n      <th>1</th>\n      <th>Je suis déshéritée</th>\n      <th>imitative duo</th>\n      <td>5.0</td>\n      <td>7.0</td>\n      <td>13.0</td>\n      <td>15.0</td>\n      <td>Tenor</td>\n      <td>Superius</td>\n      <td>Tenor</td>\n      <td>Superius</td>\n    </tr>\n    <tr>\n      <th>2</th>\n      <th>Je suis déshéritée</th>\n      <th>fuga</th>\n      <td>7.0</td>\n      <td>13.0</td>\n      <td>15.0</td>\n      <td>NaN</td>\n      <td>Superius</td>\n      <td>Tenor</td>\n      <td>Superius</td>\n      <td>NaN</td>\n    </tr>\n    <tr>\n      <th>3</th>\n      <th>Je suis déshéritée</th>\n      <th>fuga</th>\n      <td>1.0</td>\n      <td>4.0</td>\n      <td>7.0</td>\n      <td>NaN</td>\n      <td>Bassus</td>\n      <td>Contratenor</td>\n      <td>Contratenor</td>\n      <td>NaN</td>\n    </tr>\n    <tr>\n      <th>4</th>\n      <th>Je suis déshéritée</th>\n      <th>fuga</th>\n      <td>4.0</td>\n      <td>7.0</td>\n      <td>12.0</td>\n      <td>NaN</td>\n      <td>Contratenor</td>\n      <td>Contratenor</td>\n      <td>Contratenor</td>\n      <td>NaN</td>\n    </tr>\n    <tr>\n      <th>5</th>\n      <th>Je suis déshéritée</th>\n      <th>fuga</th>\n      <td>5.0</td>\n      <td>7.0</td>\n      <td>13.0</td>\n      <td>NaN</td>\n      <td>Bassus</td>\n      <td>Contratenor</td>\n      <td>Bassus</td>\n      <td>NaN</td>\n    </tr>\n    <tr>\n      <th>6</th>\n      <th>Je suis déshéritée</th>\n      <th>fuga</th>\n      <td>7.0</td>\n      <td>13.0</td>\n      <td>14.0</td>\n      <td>14.0</td>\n      <td>Contratenor</td>\n      <td>Bassus</td>\n      <td>Tenor</td>\n      <td>Contratenor</td>\n    </tr>\n    <tr>\n      <th>7</th>\n      <th>Je suis déshéritée</th>\n      <th>fuga</th>\n      <td>4.0</td>\n      <td>7.0</td>\n      <td>12.0</td>\n      <td>NaN</td>\n      <td>Contratenor</td>\n      <td>Contratenor</td>\n      <td>Contratenor</td>\n      <td>NaN</td>\n    </tr>\n    <tr>\n      <th>8</th>\n      <th>Je suis déshéritée</th>\n      <th>fuga</th>\n      <td>5.0</td>\n      <td>7.0</td>\n      <td>13.0</td>\n      <td>NaN</td>\n      <td>Bassus</td>\n      <td>Contratenor</td>\n      <td>Bassus</td>\n      <td>NaN</td>\n    </tr>\n    <tr>\n      <th>9</th>\n      <th>Je suis déshéritée</th>\n      <th>fuga</th>\n      <td>7.0</td>\n      <td>13.0</td>\n      <td>15.0</td>\n      <td>NaN</td>\n      <td>Contratenor</td>\n      <td>Bassus</td>\n      <td>Tenor</td>\n      <td>NaN</td>\n    </tr>\n    <tr>\n      <th>10</th>\n      <th>Je suis déshéritée</th>\n      <th>fuga</th>\n      <td>5.0</td>\n      <td>7.0</td>\n      <td>13.0</td>\n      <td>NaN</td>\n      <td>Bassus</td>\n      <td>Contratenor</td>\n      <td>Bassus</td>\n      <td>NaN</td>\n    </tr>\n    <tr>\n      <th>11</th>\n      <th>Je suis déshéritée</th>\n      <th>fuga</th>\n      <td>7.0</td>\n      <td>13.0</td>\n      <td>14.0</td>\n      <td>14.0</td>\n      <td>Contratenor</td>\n      <td>Bassus</td>\n      <td>Tenor</td>\n      <td>Contratenor</td>\n    </tr>\n    <tr>\n      <th>12</th>\n      <th>Je suis déshéritée</th>\n      <th>fuga</th>\n      <td>5.0</td>\n      <td>13.0</td>\n      <td>15.0</td>\n      <td>NaN</td>\n      <td>Bassus</td>\n      <td>Bassus</td>\n      <td>Tenor</td>\n      <td>NaN</td>\n    </tr>\n    <tr>\n      <th>13</th>\n      <th>Je suis déshéritée</th>\n      <th>fuga</th>\n      <td>5.0</td>\n      <td>13.0</td>\n      <td>15.0</td>\n      <td>NaN</td>\n      <td>Bassus</td>\n      <td>Bassus</td>\n      <td>Tenor</td>\n      <td>NaN</td>\n    </tr>\n    <tr>\n      <th>14</th>\n      <th>Je suis déshéritée</th>\n      <th>fuga</th>\n      <td>5.0</td>\n      <td>13.0</td>\n      <td>15.0</td>\n      <td>NaN</td>\n      <td>Bassus</td>\n      <td>Bassus</td>\n      <td>Tenor</td>\n      <td>NaN</td>\n    </tr>\n    <tr>\n      <th>15</th>\n      <th>Je suis déshéritée</th>\n      <th>fuga</th>\n      <td>4.0</td>\n      <td>7.0</td>\n      <td>12.0</td>\n      <td>NaN</td>\n      <td>Contratenor</td>\n      <td>Contratenor</td>\n      <td>Contratenor</td>\n      <td>NaN</td>\n    </tr>\n    <tr>\n      <th>16</th>\n      <th>Je suis déshéritée</th>\n      <th>fuga</th>\n      <td>5.0</td>\n      <td>7.0</td>\n      <td>13.0</td>\n      <td>NaN</td>\n      <td>Bassus</td>\n      <td>Contratenor</td>\n      <td>Bassus</td>\n      <td>NaN</td>\n    </tr>\n    <tr>\n      <th>17</th>\n      <th>Je suis déshéritée</th>\n      <th>imitative duo</th>\n      <td>5.0</td>\n      <td>7.0</td>\n      <td>13.0</td>\n      <td>15.0</td>\n      <td>Tenor</td>\n      <td>Superius</td>\n      <td>Tenor</td>\n      <td>Superius</td>\n    </tr>\n  </tbody>\n</table>\n</div>"
     },
     "metadata": {},
     "execution_count": 74
    }
   ],
   "source": [
    "wide_df = df.pivot_table(index=[\"match_number\", \"piece\", \"type\"],\n",
    "            columns=\"entry_number\",\n",
    "            values=[\"part\", \"bar\"],\n",
    "            aggfunc=lambda x: x)\n",
    "\n",
    "wide_df.columns = [f\"{a}_{b}\" for a, b in wide_df.columns]\n",
    "\n",
    "wide_df.head().reset_index()\n",
    "\n",
    "wide_df.shape\n",
    "\n",
    "wide_df"
   ]
  },
  {
   "cell_type": "markdown",
   "metadata": {},
   "source": [
    "## Read CSV of Classified Matches\n",
    "\n",
    "- Update file name to match the output of previous cells for Classifier"
   ]
  },
  {
   "cell_type": "code",
   "execution_count": null,
   "metadata": {},
   "outputs": [],
   "source": [
    "results = pd.read_csv('Sandrin_Classified.csv')\n",
    "results.rename(columns=\n",
    "                   {'Pattern Generating Match': 'Pattern_Generating_Match', \n",
    "                    'Pattern matched':'Pattern_Matched',\n",
    "                    'Classification Type': 'Classification_Type',\n",
    "                    'Piece Title': 'Piece_Title',\n",
    "                    'First Note Measure Number': 'Start_Measure',\n",
    "                    'Last Note Measure Number': 'Stop_Measure',\n",
    "                    'Note Durations': 'Note_Durations'\n",
    "                   },\n",
    "                    inplace=True)\n",
    "\n",
    "results['note_durations'] = results['note_durations'].apply(ast.literal_eval)\n",
    "\n",
    "durations = results['note_durations']\n",
    "results.head()"
   ]
  },
  {
   "cell_type": "markdown",
   "metadata": {},
   "source": [
    "# Durational Ratios\n",
    "\n",
    "#### This Function Calculates the Ratios of the Durations in each Match"
   ]
  },
  {
   "cell_type": "code",
   "execution_count": 75,
   "metadata": {},
   "outputs": [],
   "source": [
    "# makes pairs of ratio strings\n",
    "\n",
    "def pairwise(iterable):\n",
    "    \"s -> (s0,s1), (s1,s2), (s2, s3), ...\"\n",
    "    a, b = tee(iterable)\n",
    "    next(b, None)\n",
    "    return zip(a, b)\n",
    "\n",
    "def get_ratios(input_list):\n",
    "    ratio_pairs = []\n",
    "    for a, b in pairwise(input_list):\n",
    "        ratio_pairs.append(b / a)\n",
    "    return ratio_pairs\n",
    "\n",
    "\n"
   ]
  },
  {
   "cell_type": "markdown",
   "metadata": {},
   "source": [
    "#### Now call the function to operate on the RESULTS file from earlier"
   ]
  },
  {
   "cell_type": "code",
   "execution_count": 76,
   "metadata": {},
   "outputs": [
    {
     "output_type": "execute_result",
     "data": {
      "text/plain": [
       "  pattern_generating_match     pattern_matched         piece_title  \\\n",
       "0       [1, 1, -2, -2, -2]  [1, 1, -2, -2, -2]  Je suis déshéritée   \n",
       "1       [1, 1, -2, -2, -2]  [1, 1, -2, -2, -2]  Je suis déshéritée   \n",
       "2       [1, 1, -2, -2, -2]  [1, 1, -2, -2, -2]  Je suis déshéritée   \n",
       "3       [1, 1, -2, -2, -2]  [1, 1, -2, -2, -2]  Je suis déshéritée   \n",
       "4       [1, 1, -2, -2, -2]  [1, 1, -2, -2, -2]  Je suis déshéritée   \n",
       "5       [1, 1, -2, -2, -2]  [1, 1, -2, -2, -2]  Je suis déshéritée   \n",
       "6       [1, 1, -2, -2, -2]  [1, 1, -2, -2, -2]  Je suis déshéritée   \n",
       "7       [1, 3, -2, -2, -2]  [1, 3, -2, -2, -2]  Je suis déshéritée   \n",
       "8       [1, 3, -2, -2, -2]  [2, 2, -2, -2, -2]  Je suis déshéritée   \n",
       "9       [1, 3, -2, -2, -2]  [2, 2, -2, -2, -2]  Je suis déshéritée   \n",
       "\n",
       "          part  start_measure  end_measure                  note_durations  \\\n",
       "0        Tenor              5            6  [2.0, 2.0, 2.0, 2.0, 4.0, 2.0]   \n",
       "1     Superius              7            8  [2.0, 2.0, 2.0, 2.0, 4.0, 2.0]   \n",
       "2        Tenor             13           14  [2.0, 2.0, 2.0, 2.0, 4.0, 2.0]   \n",
       "3     Superius             15           16  [2.0, 2.0, 2.0, 2.0, 4.0, 2.0]   \n",
       "4     Superius              7            8  [2.0, 2.0, 2.0, 2.0, 4.0, 2.0]   \n",
       "5        Tenor             13           14  [2.0, 2.0, 2.0, 2.0, 4.0, 2.0]   \n",
       "6     Superius             15           16  [2.0, 2.0, 2.0, 2.0, 4.0, 2.0]   \n",
       "7       Bassus              1            2  [2.0, 2.0, 3.0, 1.0, 1.0, 1.0]   \n",
       "8  Contratenor              4            5  [1.0, 1.0, 3.0, 0.5, 0.5, 4.0]   \n",
       "9  Contratenor              7            8  [1.0, 1.0, 3.0, 1.0, 2.0, 4.0]   \n",
       "\n",
       "                           ema  \n",
       "0    5-6/3/@2.0-end,@start-4.0  \n",
       "1    7-8/1/@2.0-end,@start-4.0  \n",
       "2  13-14/3/@2.0-end,@start-4.0  \n",
       "3  15-16/1/@2.0-end,@start-4.0  \n",
       "4    7-8/1/@2.0-end,@start-4.0  \n",
       "5  13-14/3/@2.0-end,@start-4.0  \n",
       "6  15-16/1/@2.0-end,@start-4.0  \n",
       "7    1-2/4/@3.0-end,@start-3.5  \n",
       "8    4-5/2/@4.0-end,@start-3.0  \n",
       "9    7-8/2/@3.0-end,@start-3.0  "
      ],
      "text/html": "<div>\n<style scoped>\n    .dataframe tbody tr th:only-of-type {\n        vertical-align: middle;\n    }\n\n    .dataframe tbody tr th {\n        vertical-align: top;\n    }\n\n    .dataframe thead th {\n        text-align: right;\n    }\n</style>\n<table border=\"1\" class=\"dataframe\">\n  <thead>\n    <tr style=\"text-align: right;\">\n      <th></th>\n      <th>pattern_generating_match</th>\n      <th>pattern_matched</th>\n      <th>piece_title</th>\n      <th>part</th>\n      <th>start_measure</th>\n      <th>end_measure</th>\n      <th>note_durations</th>\n      <th>ema</th>\n    </tr>\n  </thead>\n  <tbody>\n    <tr>\n      <th>0</th>\n      <td>[1, 1, -2, -2, -2]</td>\n      <td>[1, 1, -2, -2, -2]</td>\n      <td>Je suis déshéritée</td>\n      <td>Tenor</td>\n      <td>5</td>\n      <td>6</td>\n      <td>[2.0, 2.0, 2.0, 2.0, 4.0, 2.0]</td>\n      <td>5-6/3/@2.0-end,@start-4.0</td>\n    </tr>\n    <tr>\n      <th>1</th>\n      <td>[1, 1, -2, -2, -2]</td>\n      <td>[1, 1, -2, -2, -2]</td>\n      <td>Je suis déshéritée</td>\n      <td>Superius</td>\n      <td>7</td>\n      <td>8</td>\n      <td>[2.0, 2.0, 2.0, 2.0, 4.0, 2.0]</td>\n      <td>7-8/1/@2.0-end,@start-4.0</td>\n    </tr>\n    <tr>\n      <th>2</th>\n      <td>[1, 1, -2, -2, -2]</td>\n      <td>[1, 1, -2, -2, -2]</td>\n      <td>Je suis déshéritée</td>\n      <td>Tenor</td>\n      <td>13</td>\n      <td>14</td>\n      <td>[2.0, 2.0, 2.0, 2.0, 4.0, 2.0]</td>\n      <td>13-14/3/@2.0-end,@start-4.0</td>\n    </tr>\n    <tr>\n      <th>3</th>\n      <td>[1, 1, -2, -2, -2]</td>\n      <td>[1, 1, -2, -2, -2]</td>\n      <td>Je suis déshéritée</td>\n      <td>Superius</td>\n      <td>15</td>\n      <td>16</td>\n      <td>[2.0, 2.0, 2.0, 2.0, 4.0, 2.0]</td>\n      <td>15-16/1/@2.0-end,@start-4.0</td>\n    </tr>\n    <tr>\n      <th>4</th>\n      <td>[1, 1, -2, -2, -2]</td>\n      <td>[1, 1, -2, -2, -2]</td>\n      <td>Je suis déshéritée</td>\n      <td>Superius</td>\n      <td>7</td>\n      <td>8</td>\n      <td>[2.0, 2.0, 2.0, 2.0, 4.0, 2.0]</td>\n      <td>7-8/1/@2.0-end,@start-4.0</td>\n    </tr>\n    <tr>\n      <th>5</th>\n      <td>[1, 1, -2, -2, -2]</td>\n      <td>[1, 1, -2, -2, -2]</td>\n      <td>Je suis déshéritée</td>\n      <td>Tenor</td>\n      <td>13</td>\n      <td>14</td>\n      <td>[2.0, 2.0, 2.0, 2.0, 4.0, 2.0]</td>\n      <td>13-14/3/@2.0-end,@start-4.0</td>\n    </tr>\n    <tr>\n      <th>6</th>\n      <td>[1, 1, -2, -2, -2]</td>\n      <td>[1, 1, -2, -2, -2]</td>\n      <td>Je suis déshéritée</td>\n      <td>Superius</td>\n      <td>15</td>\n      <td>16</td>\n      <td>[2.0, 2.0, 2.0, 2.0, 4.0, 2.0]</td>\n      <td>15-16/1/@2.0-end,@start-4.0</td>\n    </tr>\n    <tr>\n      <th>7</th>\n      <td>[1, 3, -2, -2, -2]</td>\n      <td>[1, 3, -2, -2, -2]</td>\n      <td>Je suis déshéritée</td>\n      <td>Bassus</td>\n      <td>1</td>\n      <td>2</td>\n      <td>[2.0, 2.0, 3.0, 1.0, 1.0, 1.0]</td>\n      <td>1-2/4/@3.0-end,@start-3.5</td>\n    </tr>\n    <tr>\n      <th>8</th>\n      <td>[1, 3, -2, -2, -2]</td>\n      <td>[2, 2, -2, -2, -2]</td>\n      <td>Je suis déshéritée</td>\n      <td>Contratenor</td>\n      <td>4</td>\n      <td>5</td>\n      <td>[1.0, 1.0, 3.0, 0.5, 0.5, 4.0]</td>\n      <td>4-5/2/@4.0-end,@start-3.0</td>\n    </tr>\n    <tr>\n      <th>9</th>\n      <td>[1, 3, -2, -2, -2]</td>\n      <td>[2, 2, -2, -2, -2]</td>\n      <td>Je suis déshéritée</td>\n      <td>Contratenor</td>\n      <td>7</td>\n      <td>8</td>\n      <td>[1.0, 1.0, 3.0, 1.0, 2.0, 4.0]</td>\n      <td>7-8/2/@3.0-end,@start-3.0</td>\n    </tr>\n  </tbody>\n</table>\n</div>"
     },
     "metadata": {},
     "execution_count": 76
    }
   ],
   "source": [
    "# calculates 'duration ratios' for each soggetto, then adds this to the DF\n",
    "\n",
    "results[\"duration_ratios\"] = results.note_durations.apply(get_ratios)\n",
    "short_results = results.drop(columns=[\"ema_url\"])\n",
    "short_out.head(10)"
   ]
  },
  {
   "cell_type": "markdown",
   "metadata": {},
   "source": [
    "## Group by the Pattern Generating Match\n",
    "- Each has its own string of durations, and duration ratios\n",
    "- and then we compare the ratios to get the differences\n",
    "- the \"list(combinations)\" method takes care of building the pairs, using data from our dataframe 'results'"
   ]
  },
  {
   "cell_type": "code",
   "execution_count": 77,
   "metadata": {},
   "outputs": [],
   "source": [
    "def compare_ratios(ratios_1, ratios_2):\n",
    "    \n",
    "    ## division of lists \n",
    "    # using zip() + list comprehension \n",
    "    diffs = [i - j for i, j in zip(ratios_1, ratios_2)] \n",
    "    abs_diffs = [abs(ele) for ele in diffs] \n",
    "    sum_diffs = sum(abs_diffs)\n",
    "\n",
    "    return sum_diffs\n",
    "\n",
    "#results[\"Pattern_Generating_Match\"] = results[\"Pattern_Generating_Match\"].apply(tuple) \n",
    "\n",
    "def get_ratio_distances(results, pattern_col, output_cols):\n",
    "    \n",
    "    matches = []\n",
    "\n",
    "    for name, group in results.groupby(pattern_col):\n",
    "\n",
    "        ratio_pairs = list(combinations(group.index.values, 2))\n",
    "\n",
    "        for a, b in ratio_pairs:\n",
    "            \n",
    "            a_match = results.loc[a]\n",
    "            b_match = results.loc[b]\n",
    "            \n",
    "            sum_diffs = compare_ratios(a_match.duration_ratios, b_match.duration_ratios)\n",
    "            \n",
    "            match_dict = {\n",
    "                \"pattern\": name,\n",
    "                \"sum_diffs\": sum_diffs\n",
    "            }\n",
    "            \n",
    "            for col in output_cols:\n",
    "                match_dict.update({\n",
    "                    f\"match_1_{col}\": a_match[col],\n",
    "                    f\"match_2_{col}\": b_match[col]\n",
    "                })\n",
    "                \n",
    "            matches.append(match_dict)\n",
    "            \n",
    "    return pd.DataFrame(matches)"
   ]
  },
  {
   "cell_type": "markdown",
   "metadata": {},
   "source": [
    "### Now Run the Function to get the 'edit distances' for the durations of matching patterns"
   ]
  },
  {
   "cell_type": "code",
   "execution_count": 78,
   "metadata": {},
   "outputs": [
    {
     "output_type": "execute_result",
     "data": {
      "text/plain": [
       "               pattern  sum_diffs match_1_piece_title match_2_piece_title  \\\n",
       "0  (-3, -2, -2, 2, -2)       2.00  Je suis déshéritée  Je suis déshéritée   \n",
       "1  (-3, -2, -2, 2, -2)       2.50  Je suis déshéritée  Je suis déshéritée   \n",
       "2  (-3, -2, -2, 2, -2)       2.25  Je suis déshéritée  Je suis déshéritée   \n",
       "3  (-3, -2, -2, 2, -2)       2.00  Je suis déshéritée  Je suis déshéritée   \n",
       "4  (-3, -2, -2, 2, -2)       0.50  Je suis déshéritée  Je suis déshéritée   \n",
       "\n",
       "  match_1_part match_2_part  match_1_start_measure  match_2_start_measure  \\\n",
       "0  Contratenor  Contratenor                     11                     20   \n",
       "1  Contratenor        Tenor                     11                     16   \n",
       "2  Contratenor       Bassus                     11                      6   \n",
       "3  Contratenor       Bassus                     11                     14   \n",
       "4  Contratenor        Tenor                     20                     16   \n",
       "\n",
       "   match_1_end_measure  match_2_end_measure  \n",
       "0                   12                   21  \n",
       "1                   12                   17  \n",
       "2                   12                    7  \n",
       "3                   12                   15  \n",
       "4                   21                   17  "
      ],
      "text/html": "<div>\n<style scoped>\n    .dataframe tbody tr th:only-of-type {\n        vertical-align: middle;\n    }\n\n    .dataframe tbody tr th {\n        vertical-align: top;\n    }\n\n    .dataframe thead th {\n        text-align: right;\n    }\n</style>\n<table border=\"1\" class=\"dataframe\">\n  <thead>\n    <tr style=\"text-align: right;\">\n      <th></th>\n      <th>pattern</th>\n      <th>sum_diffs</th>\n      <th>match_1_piece_title</th>\n      <th>match_2_piece_title</th>\n      <th>match_1_part</th>\n      <th>match_2_part</th>\n      <th>match_1_start_measure</th>\n      <th>match_2_start_measure</th>\n      <th>match_1_end_measure</th>\n      <th>match_2_end_measure</th>\n    </tr>\n  </thead>\n  <tbody>\n    <tr>\n      <th>0</th>\n      <td>(-3, -2, -2, 2, -2)</td>\n      <td>2.00</td>\n      <td>Je suis déshéritée</td>\n      <td>Je suis déshéritée</td>\n      <td>Contratenor</td>\n      <td>Contratenor</td>\n      <td>11</td>\n      <td>20</td>\n      <td>12</td>\n      <td>21</td>\n    </tr>\n    <tr>\n      <th>1</th>\n      <td>(-3, -2, -2, 2, -2)</td>\n      <td>2.50</td>\n      <td>Je suis déshéritée</td>\n      <td>Je suis déshéritée</td>\n      <td>Contratenor</td>\n      <td>Tenor</td>\n      <td>11</td>\n      <td>16</td>\n      <td>12</td>\n      <td>17</td>\n    </tr>\n    <tr>\n      <th>2</th>\n      <td>(-3, -2, -2, 2, -2)</td>\n      <td>2.25</td>\n      <td>Je suis déshéritée</td>\n      <td>Je suis déshéritée</td>\n      <td>Contratenor</td>\n      <td>Bassus</td>\n      <td>11</td>\n      <td>6</td>\n      <td>12</td>\n      <td>7</td>\n    </tr>\n    <tr>\n      <th>3</th>\n      <td>(-3, -2, -2, 2, -2)</td>\n      <td>2.00</td>\n      <td>Je suis déshéritée</td>\n      <td>Je suis déshéritée</td>\n      <td>Contratenor</td>\n      <td>Bassus</td>\n      <td>11</td>\n      <td>14</td>\n      <td>12</td>\n      <td>15</td>\n    </tr>\n    <tr>\n      <th>4</th>\n      <td>(-3, -2, -2, 2, -2)</td>\n      <td>0.50</td>\n      <td>Je suis déshéritée</td>\n      <td>Je suis déshéritée</td>\n      <td>Contratenor</td>\n      <td>Tenor</td>\n      <td>20</td>\n      <td>16</td>\n      <td>21</td>\n      <td>17</td>\n    </tr>\n  </tbody>\n</table>\n</div>"
     },
     "metadata": {},
     "execution_count": 78
    }
   ],
   "source": [
    "ratio_distances = get_ratio_distances(results, \"pattern_generating_match\", [\"piece_title\", \"part\", \"start_measure\", \"end_measure\"])\n",
    "ratio_distances.head()"
   ]
  },
  {
   "cell_type": "markdown",
   "metadata": {},
   "source": [
    "### And FILTER the results according to any threshold we like"
   ]
  },
  {
   "cell_type": "code",
   "execution_count": 79,
   "metadata": {},
   "outputs": [
    {
     "output_type": "execute_result",
     "data": {
      "text/plain": [
       "                 pattern  sum_diffs match_1_piece_title match_2_piece_title  \\\n",
       "4    (-3, -2, -2, 2, -2)       0.50  Je suis déshéritée  Je suis déshéritée   \n",
       "5    (-3, -2, -2, 2, -2)       0.25  Je suis déshéritée  Je suis déshéritée   \n",
       "6    (-3, -2, -2, 2, -2)       0.00  Je suis déshéritée  Je suis déshéritée   \n",
       "7    (-3, -2, -2, 2, -2)       0.25  Je suis déshéritée  Je suis déshéritée   \n",
       "8    (-3, -2, -2, 2, -2)       0.50  Je suis déshéritée  Je suis déshéritée   \n",
       "..                   ...        ...                 ...                 ...   \n",
       "626     (2, 2, 2, 3, -2)       0.25  Je suis déshéritée  Je suis déshéritée   \n",
       "640    (2, 2, 3, -2, -2)       0.00  Je suis déshéritée  Je suis déshéritée   \n",
       "652   (2, 3, -2, -2, -2)       0.00  Je suis déshéritée  Je suis déshéritée   \n",
       "665   (2, 3, -2, -2, -2)       1.00  Je suis déshéritée  Je suis déshéritée   \n",
       "666    (3, -2, -2, 2, 2)       0.00  Je suis déshéritée  Je suis déshéritée   \n",
       "\n",
       "    match_1_part match_2_part  match_1_start_measure  match_2_start_measure  \\\n",
       "4    Contratenor        Tenor                     20                     16   \n",
       "5    Contratenor       Bassus                     20                      6   \n",
       "6    Contratenor       Bassus                     20                     14   \n",
       "7          Tenor       Bassus                     16                      6   \n",
       "8          Tenor       Bassus                     16                     14   \n",
       "..           ...          ...                    ...                    ...   \n",
       "626     Superius       Bassus                     29                     29   \n",
       "640  Contratenor  Contratenor                      4                     12   \n",
       "652  Contratenor  Contratenor                      4                     12   \n",
       "665        Tenor       Bassus                     30                      1   \n",
       "666  Contratenor  Contratenor                      3                     11   \n",
       "\n",
       "     match_1_end_measure  match_2_end_measure  \n",
       "4                     21                   17  \n",
       "5                     21                    7  \n",
       "6                     21                   15  \n",
       "7                     17                    7  \n",
       "8                     17                   15  \n",
       "..                   ...                  ...  \n",
       "626                   30                   30  \n",
       "640                    5                   13  \n",
       "652                    5                   13  \n",
       "665                   31                    2  \n",
       "666                    4                   12  \n",
       "\n",
       "[178 rows x 10 columns]"
      ],
      "text/html": "<div>\n<style scoped>\n    .dataframe tbody tr th:only-of-type {\n        vertical-align: middle;\n    }\n\n    .dataframe tbody tr th {\n        vertical-align: top;\n    }\n\n    .dataframe thead th {\n        text-align: right;\n    }\n</style>\n<table border=\"1\" class=\"dataframe\">\n  <thead>\n    <tr style=\"text-align: right;\">\n      <th></th>\n      <th>pattern</th>\n      <th>sum_diffs</th>\n      <th>match_1_piece_title</th>\n      <th>match_2_piece_title</th>\n      <th>match_1_part</th>\n      <th>match_2_part</th>\n      <th>match_1_start_measure</th>\n      <th>match_2_start_measure</th>\n      <th>match_1_end_measure</th>\n      <th>match_2_end_measure</th>\n    </tr>\n  </thead>\n  <tbody>\n    <tr>\n      <th>4</th>\n      <td>(-3, -2, -2, 2, -2)</td>\n      <td>0.50</td>\n      <td>Je suis déshéritée</td>\n      <td>Je suis déshéritée</td>\n      <td>Contratenor</td>\n      <td>Tenor</td>\n      <td>20</td>\n      <td>16</td>\n      <td>21</td>\n      <td>17</td>\n    </tr>\n    <tr>\n      <th>5</th>\n      <td>(-3, -2, -2, 2, -2)</td>\n      <td>0.25</td>\n      <td>Je suis déshéritée</td>\n      <td>Je suis déshéritée</td>\n      <td>Contratenor</td>\n      <td>Bassus</td>\n      <td>20</td>\n      <td>6</td>\n      <td>21</td>\n      <td>7</td>\n    </tr>\n    <tr>\n      <th>6</th>\n      <td>(-3, -2, -2, 2, -2)</td>\n      <td>0.00</td>\n      <td>Je suis déshéritée</td>\n      <td>Je suis déshéritée</td>\n      <td>Contratenor</td>\n      <td>Bassus</td>\n      <td>20</td>\n      <td>14</td>\n      <td>21</td>\n      <td>15</td>\n    </tr>\n    <tr>\n      <th>7</th>\n      <td>(-3, -2, -2, 2, -2)</td>\n      <td>0.25</td>\n      <td>Je suis déshéritée</td>\n      <td>Je suis déshéritée</td>\n      <td>Tenor</td>\n      <td>Bassus</td>\n      <td>16</td>\n      <td>6</td>\n      <td>17</td>\n      <td>7</td>\n    </tr>\n    <tr>\n      <th>8</th>\n      <td>(-3, -2, -2, 2, -2)</td>\n      <td>0.50</td>\n      <td>Je suis déshéritée</td>\n      <td>Je suis déshéritée</td>\n      <td>Tenor</td>\n      <td>Bassus</td>\n      <td>16</td>\n      <td>14</td>\n      <td>17</td>\n      <td>15</td>\n    </tr>\n    <tr>\n      <th>...</th>\n      <td>...</td>\n      <td>...</td>\n      <td>...</td>\n      <td>...</td>\n      <td>...</td>\n      <td>...</td>\n      <td>...</td>\n      <td>...</td>\n      <td>...</td>\n      <td>...</td>\n    </tr>\n    <tr>\n      <th>626</th>\n      <td>(2, 2, 2, 3, -2)</td>\n      <td>0.25</td>\n      <td>Je suis déshéritée</td>\n      <td>Je suis déshéritée</td>\n      <td>Superius</td>\n      <td>Bassus</td>\n      <td>29</td>\n      <td>29</td>\n      <td>30</td>\n      <td>30</td>\n    </tr>\n    <tr>\n      <th>640</th>\n      <td>(2, 2, 3, -2, -2)</td>\n      <td>0.00</td>\n      <td>Je suis déshéritée</td>\n      <td>Je suis déshéritée</td>\n      <td>Contratenor</td>\n      <td>Contratenor</td>\n      <td>4</td>\n      <td>12</td>\n      <td>5</td>\n      <td>13</td>\n    </tr>\n    <tr>\n      <th>652</th>\n      <td>(2, 3, -2, -2, -2)</td>\n      <td>0.00</td>\n      <td>Je suis déshéritée</td>\n      <td>Je suis déshéritée</td>\n      <td>Contratenor</td>\n      <td>Contratenor</td>\n      <td>4</td>\n      <td>12</td>\n      <td>5</td>\n      <td>13</td>\n    </tr>\n    <tr>\n      <th>665</th>\n      <td>(2, 3, -2, -2, -2)</td>\n      <td>1.00</td>\n      <td>Je suis déshéritée</td>\n      <td>Je suis déshéritée</td>\n      <td>Tenor</td>\n      <td>Bassus</td>\n      <td>30</td>\n      <td>1</td>\n      <td>31</td>\n      <td>2</td>\n    </tr>\n    <tr>\n      <th>666</th>\n      <td>(3, -2, -2, 2, 2)</td>\n      <td>0.00</td>\n      <td>Je suis déshéritée</td>\n      <td>Je suis déshéritée</td>\n      <td>Contratenor</td>\n      <td>Contratenor</td>\n      <td>3</td>\n      <td>11</td>\n      <td>4</td>\n      <td>12</td>\n    </tr>\n  </tbody>\n</table>\n<p>178 rows × 10 columns</p>\n</div>"
     },
     "metadata": {},
     "execution_count": 79
    }
   ],
   "source": [
    "ratios_filtered = ratio_distances[ratio_distances.sum_diffs <= 1]\n",
    "ratios_filtered"
   ]
  },
  {
   "cell_type": "markdown",
   "metadata": {},
   "source": [
    "### Now Group the Duration-Filter Results by the Pattern (which shows us very closely related soggetti in sets)"
   ]
  },
  {
   "cell_type": "code",
   "execution_count": 80,
   "metadata": {},
   "outputs": [
    {
     "output_type": "execute_result",
     "data": {
      "text/plain": [
       "                 pattern  sum_diffs match_1_piece_title match_2_piece_title  \\\n",
       "4    (-3, -2, -2, 2, -2)       0.50  Je suis déshéritée  Je suis déshéritée   \n",
       "5    (-3, -2, -2, 2, -2)       0.25  Je suis déshéritée  Je suis déshéritée   \n",
       "6    (-3, -2, -2, 2, -2)       0.00  Je suis déshéritée  Je suis déshéritée   \n",
       "7    (-3, -2, -2, 2, -2)       0.25  Je suis déshéritée  Je suis déshéritée   \n",
       "8    (-3, -2, -2, 2, -2)       0.50  Je suis déshéritée  Je suis déshéritée   \n",
       "..                   ...        ...                 ...                 ...   \n",
       "626     (2, 2, 2, 3, -2)       0.25  Je suis déshéritée  Je suis déshéritée   \n",
       "640    (2, 2, 3, -2, -2)       0.00  Je suis déshéritée  Je suis déshéritée   \n",
       "652   (2, 3, -2, -2, -2)       0.00  Je suis déshéritée  Je suis déshéritée   \n",
       "665   (2, 3, -2, -2, -2)       1.00  Je suis déshéritée  Je suis déshéritée   \n",
       "666    (3, -2, -2, 2, 2)       0.00  Je suis déshéritée  Je suis déshéritée   \n",
       "\n",
       "    match_1_part match_2_part  match_1_start_measure  match_2_start_measure  \\\n",
       "4    Contratenor        Tenor                     20                     16   \n",
       "5    Contratenor       Bassus                     20                      6   \n",
       "6    Contratenor       Bassus                     20                     14   \n",
       "7          Tenor       Bassus                     16                      6   \n",
       "8          Tenor       Bassus                     16                     14   \n",
       "..           ...          ...                    ...                    ...   \n",
       "626     Superius       Bassus                     29                     29   \n",
       "640  Contratenor  Contratenor                      4                     12   \n",
       "652  Contratenor  Contratenor                      4                     12   \n",
       "665        Tenor       Bassus                     30                      1   \n",
       "666  Contratenor  Contratenor                      3                     11   \n",
       "\n",
       "     match_1_end_measure  match_2_end_measure  \n",
       "4                     21                   17  \n",
       "5                     21                    7  \n",
       "6                     21                   15  \n",
       "7                     17                    7  \n",
       "8                     17                   15  \n",
       "..                   ...                  ...  \n",
       "626                   30                   30  \n",
       "640                    5                   13  \n",
       "652                    5                   13  \n",
       "665                   31                    2  \n",
       "666                    4                   12  \n",
       "\n",
       "[134 rows x 10 columns]"
      ],
      "text/html": "<div>\n<style scoped>\n    .dataframe tbody tr th:only-of-type {\n        vertical-align: middle;\n    }\n\n    .dataframe tbody tr th {\n        vertical-align: top;\n    }\n\n    .dataframe thead th {\n        text-align: right;\n    }\n</style>\n<table border=\"1\" class=\"dataframe\">\n  <thead>\n    <tr style=\"text-align: right;\">\n      <th></th>\n      <th>pattern</th>\n      <th>sum_diffs</th>\n      <th>match_1_piece_title</th>\n      <th>match_2_piece_title</th>\n      <th>match_1_part</th>\n      <th>match_2_part</th>\n      <th>match_1_start_measure</th>\n      <th>match_2_start_measure</th>\n      <th>match_1_end_measure</th>\n      <th>match_2_end_measure</th>\n    </tr>\n  </thead>\n  <tbody>\n    <tr>\n      <th>4</th>\n      <td>(-3, -2, -2, 2, -2)</td>\n      <td>0.50</td>\n      <td>Je suis déshéritée</td>\n      <td>Je suis déshéritée</td>\n      <td>Contratenor</td>\n      <td>Tenor</td>\n      <td>20</td>\n      <td>16</td>\n      <td>21</td>\n      <td>17</td>\n    </tr>\n    <tr>\n      <th>5</th>\n      <td>(-3, -2, -2, 2, -2)</td>\n      <td>0.25</td>\n      <td>Je suis déshéritée</td>\n      <td>Je suis déshéritée</td>\n      <td>Contratenor</td>\n      <td>Bassus</td>\n      <td>20</td>\n      <td>6</td>\n      <td>21</td>\n      <td>7</td>\n    </tr>\n    <tr>\n      <th>6</th>\n      <td>(-3, -2, -2, 2, -2)</td>\n      <td>0.00</td>\n      <td>Je suis déshéritée</td>\n      <td>Je suis déshéritée</td>\n      <td>Contratenor</td>\n      <td>Bassus</td>\n      <td>20</td>\n      <td>14</td>\n      <td>21</td>\n      <td>15</td>\n    </tr>\n    <tr>\n      <th>7</th>\n      <td>(-3, -2, -2, 2, -2)</td>\n      <td>0.25</td>\n      <td>Je suis déshéritée</td>\n      <td>Je suis déshéritée</td>\n      <td>Tenor</td>\n      <td>Bassus</td>\n      <td>16</td>\n      <td>6</td>\n      <td>17</td>\n      <td>7</td>\n    </tr>\n    <tr>\n      <th>8</th>\n      <td>(-3, -2, -2, 2, -2)</td>\n      <td>0.50</td>\n      <td>Je suis déshéritée</td>\n      <td>Je suis déshéritée</td>\n      <td>Tenor</td>\n      <td>Bassus</td>\n      <td>16</td>\n      <td>14</td>\n      <td>17</td>\n      <td>15</td>\n    </tr>\n    <tr>\n      <th>...</th>\n      <td>...</td>\n      <td>...</td>\n      <td>...</td>\n      <td>...</td>\n      <td>...</td>\n      <td>...</td>\n      <td>...</td>\n      <td>...</td>\n      <td>...</td>\n      <td>...</td>\n    </tr>\n    <tr>\n      <th>626</th>\n      <td>(2, 2, 2, 3, -2)</td>\n      <td>0.25</td>\n      <td>Je suis déshéritée</td>\n      <td>Je suis déshéritée</td>\n      <td>Superius</td>\n      <td>Bassus</td>\n      <td>29</td>\n      <td>29</td>\n      <td>30</td>\n      <td>30</td>\n    </tr>\n    <tr>\n      <th>640</th>\n      <td>(2, 2, 3, -2, -2)</td>\n      <td>0.00</td>\n      <td>Je suis déshéritée</td>\n      <td>Je suis déshéritée</td>\n      <td>Contratenor</td>\n      <td>Contratenor</td>\n      <td>4</td>\n      <td>12</td>\n      <td>5</td>\n      <td>13</td>\n    </tr>\n    <tr>\n      <th>652</th>\n      <td>(2, 3, -2, -2, -2)</td>\n      <td>0.00</td>\n      <td>Je suis déshéritée</td>\n      <td>Je suis déshéritée</td>\n      <td>Contratenor</td>\n      <td>Contratenor</td>\n      <td>4</td>\n      <td>12</td>\n      <td>5</td>\n      <td>13</td>\n    </tr>\n    <tr>\n      <th>665</th>\n      <td>(2, 3, -2, -2, -2)</td>\n      <td>1.00</td>\n      <td>Je suis déshéritée</td>\n      <td>Je suis déshéritée</td>\n      <td>Tenor</td>\n      <td>Bassus</td>\n      <td>30</td>\n      <td>1</td>\n      <td>31</td>\n      <td>2</td>\n    </tr>\n    <tr>\n      <th>666</th>\n      <td>(3, -2, -2, 2, 2)</td>\n      <td>0.00</td>\n      <td>Je suis déshéritée</td>\n      <td>Je suis déshéritée</td>\n      <td>Contratenor</td>\n      <td>Contratenor</td>\n      <td>3</td>\n      <td>11</td>\n      <td>4</td>\n      <td>12</td>\n    </tr>\n  </tbody>\n</table>\n<p>134 rows × 10 columns</p>\n</div>"
     },
     "metadata": {},
     "execution_count": 80
    }
   ],
   "source": [
    "grouped = ratios_filtered.groupby(\"pattern\")\n",
    "grouped.head()"
   ]
  },
  {
   "cell_type": "code",
   "execution_count": 81,
   "metadata": {},
   "outputs": [],
   "source": [
    "ratios_filtered.to_csv(\"filtered_sample_pair.csv\")"
   ]
  },
  {
   "source": [
    "### Greedy Soggetti\n",
    "* Groups by voice part\n",
    "* Gets one voice, then creates shifted cols to contain current+previous intervals and durations\n",
    "* slices each tuple: removes first from previous match and last from current match\n",
    "* if these are identical, then we can merge the two soggetti"
   ],
   "cell_type": "markdown",
   "metadata": {}
  },
  {
   "cell_type": "code",
   "execution_count": 85,
   "metadata": {},
   "outputs": [],
   "source": [
    "def add_shifted_cols(df: pd.DataFrame,\n",
    "                    group_cols: list,\n",
    "                    shift_cols: list,\n",
    "                    shift_periods=-1,\n",
    "                    shifted_prefix=\"next\"\n",
    "                    ) -> pd.DataFrame:\n",
    "    df = df.copy()\n",
    "\n",
    "    df_shifted = df.groupby(group_cols).shift(shift_periods)\n",
    "\n",
    "    df[[ f\"{shifted_prefix}_{c}\" for c in shift_cols]] = df_shifted[shift_cols]\n",
    "\n",
    "    return df"
   ]
  },
  {
   "cell_type": "code",
   "execution_count": 86,
   "metadata": {},
   "outputs": [],
   "source": [
    "from typing import Sequence\n",
    "\n",
    "def add_subsequence_cols(df: pd.DataFrame, sequence_cols: Sequence) -> pd.DataFrame:\n",
    "\n",
    "    df = df.copy()\n",
    "\n",
    "    for col in sequence_cols:\n",
    "            df[f\"{col}_short\"] = df[col].dropna().apply(lambda x: x[1:-1])\n",
    "\n",
    "    return df\n",
    "\n"
   ]
  },
  {
   "cell_type": "code",
   "execution_count": 87,
   "metadata": {},
   "outputs": [
    {
     "output_type": "execute_result",
     "data": {
      "text/plain": [
       "  pattern_generating_match  pattern_matched         piece_title         part  \\\n",
       "0          (1, 1, 3, 1, 2)  [1, 1, 3, 1, 2]  Je suis déshéritée     Superius   \n",
       "1          (1, 1, 3, 1, 2)  [1, 1, 3, 1, 2]  Je suis déshéritée     Superius   \n",
       "2          (1, 1, 3, 1, 2)  [1, 1, 3, 1, 2]  Je suis déshéritée  Contratenor   \n",
       "3          (1, 1, 3, 1, 2)  [1, 1, 3, 1, 2]  Je suis déshéritée        Tenor   \n",
       "4          (1, 1, 3, 1, 2)  [1, 1, 3, 1, 2]  Je suis déshéritée        Tenor   \n",
       "\n",
       "   start_measure  end_measure                  note_durations  \\\n",
       "0              3            4  [4.0, 2.0, 2.0, 2.0, 2.0, 4.0]   \n",
       "1             11           12  [4.0, 2.0, 2.0, 2.0, 2.0, 4.0]   \n",
       "2              9           11  [2.0, 2.0, 2.0, 2.0, 2.0, 2.0]   \n",
       "3              1            3  [4.0, 2.0, 2.0, 2.0, 2.0, 4.0]   \n",
       "4              9           10  [4.0, 2.0, 2.0, 2.0, 2.0, 4.0]   \n",
       "\n",
       "                                     ema  \\\n",
       "0              3-4/1/@1.0-end,@start-3.0   \n",
       "1            11-12/1/@1.0-end,@start-3.0   \n",
       "2  9-11/2/@4.0-end,@start-end,@start-1.0   \n",
       "3   1-3/3/@3.0-end,@start-end,@start-1.0   \n",
       "4             9-10/3/@1.0-end,@start-3.0   \n",
       "\n",
       "                                             ema_url  \\\n",
       "0  https://ema.crimproject.org/https%3A%2F%2Fcrim...   \n",
       "1  https://ema.crimproject.org/https%3A%2F%2Fcrim...   \n",
       "2  https://ema.crimproject.org/https%3A%2F%2Fcrim...   \n",
       "3  https://ema.crimproject.org/https%3A%2F%2Fcrim...   \n",
       "4  https://ema.crimproject.org/https%3A%2F%2Fcrim...   \n",
       "\n",
       "             duration_ratios  next_start_measure  next_end_measure  \\\n",
       "0  [0.5, 1.0, 1.0, 1.0, 2.0]                11.0              12.0   \n",
       "1  [0.5, 1.0, 1.0, 1.0, 2.0]                 3.0               5.0   \n",
       "2  [1.0, 1.0, 1.0, 1.0, 1.0]                10.0              11.0   \n",
       "3  [0.5, 1.0, 1.0, 1.0, 2.0]                 9.0              10.0   \n",
       "4  [0.5, 1.0, 1.0, 1.0, 2.0]                 2.0               3.0   \n",
       "\n",
       "              next_note_durations next_pattern_matched  \n",
       "0  [4.0, 2.0, 2.0, 2.0, 2.0, 4.0]      [1, 1, 3, 1, 2]  \n",
       "1  [2.0, 2.0, 2.0, 2.0, 4.0, 8.0]     [1, 3, 1, 2, -4]  \n",
       "2  [2.0, 2.0, 2.0, 2.0, 2.0, 4.0]     [1, 3, 1, 2, -3]  \n",
       "3  [4.0, 2.0, 2.0, 2.0, 2.0, 4.0]      [1, 1, 3, 1, 2]  \n",
       "4  [2.0, 2.0, 2.0, 2.0, 4.0, 8.0]     [1, 3, 1, 2, -4]  "
      ],
      "text/html": "<div>\n<style scoped>\n    .dataframe tbody tr th:only-of-type {\n        vertical-align: middle;\n    }\n\n    .dataframe tbody tr th {\n        vertical-align: top;\n    }\n\n    .dataframe thead th {\n        text-align: right;\n    }\n</style>\n<table border=\"1\" class=\"dataframe\">\n  <thead>\n    <tr style=\"text-align: right;\">\n      <th></th>\n      <th>pattern_generating_match</th>\n      <th>pattern_matched</th>\n      <th>piece_title</th>\n      <th>part</th>\n      <th>start_measure</th>\n      <th>end_measure</th>\n      <th>note_durations</th>\n      <th>ema</th>\n      <th>ema_url</th>\n      <th>duration_ratios</th>\n      <th>next_start_measure</th>\n      <th>next_end_measure</th>\n      <th>next_note_durations</th>\n      <th>next_pattern_matched</th>\n    </tr>\n  </thead>\n  <tbody>\n    <tr>\n      <th>0</th>\n      <td>(1, 1, 3, 1, 2)</td>\n      <td>[1, 1, 3, 1, 2]</td>\n      <td>Je suis déshéritée</td>\n      <td>Superius</td>\n      <td>3</td>\n      <td>4</td>\n      <td>[4.0, 2.0, 2.0, 2.0, 2.0, 4.0]</td>\n      <td>3-4/1/@1.0-end,@start-3.0</td>\n      <td>https://ema.crimproject.org/https%3A%2F%2Fcrim...</td>\n      <td>[0.5, 1.0, 1.0, 1.0, 2.0]</td>\n      <td>11.0</td>\n      <td>12.0</td>\n      <td>[4.0, 2.0, 2.0, 2.0, 2.0, 4.0]</td>\n      <td>[1, 1, 3, 1, 2]</td>\n    </tr>\n    <tr>\n      <th>1</th>\n      <td>(1, 1, 3, 1, 2)</td>\n      <td>[1, 1, 3, 1, 2]</td>\n      <td>Je suis déshéritée</td>\n      <td>Superius</td>\n      <td>11</td>\n      <td>12</td>\n      <td>[4.0, 2.0, 2.0, 2.0, 2.0, 4.0]</td>\n      <td>11-12/1/@1.0-end,@start-3.0</td>\n      <td>https://ema.crimproject.org/https%3A%2F%2Fcrim...</td>\n      <td>[0.5, 1.0, 1.0, 1.0, 2.0]</td>\n      <td>3.0</td>\n      <td>5.0</td>\n      <td>[2.0, 2.0, 2.0, 2.0, 4.0, 8.0]</td>\n      <td>[1, 3, 1, 2, -4]</td>\n    </tr>\n    <tr>\n      <th>2</th>\n      <td>(1, 1, 3, 1, 2)</td>\n      <td>[1, 1, 3, 1, 2]</td>\n      <td>Je suis déshéritée</td>\n      <td>Contratenor</td>\n      <td>9</td>\n      <td>11</td>\n      <td>[2.0, 2.0, 2.0, 2.0, 2.0, 2.0]</td>\n      <td>9-11/2/@4.0-end,@start-end,@start-1.0</td>\n      <td>https://ema.crimproject.org/https%3A%2F%2Fcrim...</td>\n      <td>[1.0, 1.0, 1.0, 1.0, 1.0]</td>\n      <td>10.0</td>\n      <td>11.0</td>\n      <td>[2.0, 2.0, 2.0, 2.0, 2.0, 4.0]</td>\n      <td>[1, 3, 1, 2, -3]</td>\n    </tr>\n    <tr>\n      <th>3</th>\n      <td>(1, 1, 3, 1, 2)</td>\n      <td>[1, 1, 3, 1, 2]</td>\n      <td>Je suis déshéritée</td>\n      <td>Tenor</td>\n      <td>1</td>\n      <td>3</td>\n      <td>[4.0, 2.0, 2.0, 2.0, 2.0, 4.0]</td>\n      <td>1-3/3/@3.0-end,@start-end,@start-1.0</td>\n      <td>https://ema.crimproject.org/https%3A%2F%2Fcrim...</td>\n      <td>[0.5, 1.0, 1.0, 1.0, 2.0]</td>\n      <td>9.0</td>\n      <td>10.0</td>\n      <td>[4.0, 2.0, 2.0, 2.0, 2.0, 4.0]</td>\n      <td>[1, 1, 3, 1, 2]</td>\n    </tr>\n    <tr>\n      <th>4</th>\n      <td>(1, 1, 3, 1, 2)</td>\n      <td>[1, 1, 3, 1, 2]</td>\n      <td>Je suis déshéritée</td>\n      <td>Tenor</td>\n      <td>9</td>\n      <td>10</td>\n      <td>[4.0, 2.0, 2.0, 2.0, 2.0, 4.0]</td>\n      <td>9-10/3/@1.0-end,@start-3.0</td>\n      <td>https://ema.crimproject.org/https%3A%2F%2Fcrim...</td>\n      <td>[0.5, 1.0, 1.0, 1.0, 2.0]</td>\n      <td>2.0</td>\n      <td>3.0</td>\n      <td>[2.0, 2.0, 2.0, 2.0, 4.0, 8.0]</td>\n      <td>[1, 3, 1, 2, -4]</td>\n    </tr>\n  </tbody>\n</table>\n</div>"
     },
     "metadata": {},
     "execution_count": 87
    }
   ],
   "source": [
    "df_shifted = add_shifted_cols(results,\n",
    "                    group_cols=[\"piece_title\", \"part\"],\n",
    "                    shift_cols=[\"start_measure\", \"end_measure\", \"note_durations\", \"pattern_matched\"])\n",
    "df_shifted.head()"
   ]
  },
  {
   "cell_type": "code",
   "execution_count": 88,
   "metadata": {},
   "outputs": [
    {
     "output_type": "execute_result",
     "data": {
      "text/plain": [
       "    pattern_generating_match     pattern_matched         piece_title  \\\n",
       "0            (1, 1, 3, 1, 2)     [1, 1, 3, 1, 2]  Je suis déshéritée   \n",
       "1            (1, 1, 3, 1, 2)     [1, 1, 3, 1, 2]  Je suis déshéritée   \n",
       "2            (1, 1, 3, 1, 2)     [1, 1, 3, 1, 2]  Je suis déshéritée   \n",
       "3            (1, 1, 3, 1, 2)     [1, 1, 3, 1, 2]  Je suis déshéritée   \n",
       "4            (1, 1, 3, 1, 2)     [1, 1, 3, 1, 2]  Je suis déshéritée   \n",
       "..                       ...                 ...                 ...   \n",
       "253       (1, -2, -2, -2, 1)  [1, -2, -2, -2, 2]  Je suis déshéritée   \n",
       "254       (1, -2, -2, -2, 1)  [2, -2, -2, -2, 1]  Je suis déshéritée   \n",
       "255       (1, -2, -2, -2, 1)  [1, -2, -2, -2, 2]  Je suis déshéritée   \n",
       "256       (1, -2, -2, -2, 1)  [1, -2, -2, -2, 2]  Je suis déshéritée   \n",
       "257       (1, -2, -2, -2, 1)  [1, -2, -2, -2, 1]  Je suis déshéritée   \n",
       "\n",
       "            part  start_measure  end_measure                  note_durations  \\\n",
       "0       Superius              3            4  [4.0, 2.0, 2.0, 2.0, 2.0, 4.0]   \n",
       "1       Superius             11           12  [4.0, 2.0, 2.0, 2.0, 2.0, 4.0]   \n",
       "2    Contratenor              9           11  [2.0, 2.0, 2.0, 2.0, 2.0, 2.0]   \n",
       "3          Tenor              1            3  [4.0, 2.0, 2.0, 2.0, 2.0, 4.0]   \n",
       "4          Tenor              9           10  [4.0, 2.0, 2.0, 2.0, 2.0, 4.0]   \n",
       "..           ...            ...          ...                             ...   \n",
       "253     Superius             26           27  [2.0, 2.0, 2.0, 1.0, 1.0, 2.0]   \n",
       "254  Contratenor             22           24  [4.0, 2.0, 2.0, 4.0, 4.0, 2.0]   \n",
       "255        Tenor              5            7  [2.0, 2.0, 2.0, 4.0, 2.0, 4.0]   \n",
       "256        Tenor             13           15  [2.0, 2.0, 2.0, 4.0, 2.0, 3.0]   \n",
       "257       Bassus             15           16  [2.0, 2.0, 2.0, 2.0, 2.0, 2.0]   \n",
       "\n",
       "                                        ema  \\\n",
       "0                 3-4/1/@1.0-end,@start-3.0   \n",
       "1               11-12/1/@1.0-end,@start-3.0   \n",
       "2     9-11/2/@4.0-end,@start-end,@start-1.0   \n",
       "3      1-3/3/@3.0-end,@start-end,@start-1.0   \n",
       "4                9-10/3/@1.0-end,@start-3.0   \n",
       "..                                      ...   \n",
       "253             26-27/1/@1.0-end,@start-1.0   \n",
       "254  22-24/2/@1.0-end,@start-end,@start-1.0   \n",
       "255    5-7/3/@3.0-end,@start-end,@start-1.0   \n",
       "256  13-15/3/@3.0-end,@start-end,@start-1.0   \n",
       "257             15-16/4/@3.0-end,@start-4.0   \n",
       "\n",
       "                                               ema_url  \\\n",
       "0    https://ema.crimproject.org/https%3A%2F%2Fcrim...   \n",
       "1    https://ema.crimproject.org/https%3A%2F%2Fcrim...   \n",
       "2    https://ema.crimproject.org/https%3A%2F%2Fcrim...   \n",
       "3    https://ema.crimproject.org/https%3A%2F%2Fcrim...   \n",
       "4    https://ema.crimproject.org/https%3A%2F%2Fcrim...   \n",
       "..                                                 ...   \n",
       "253  https://ema.crimproject.org/https%3A%2F%2Fcrim...   \n",
       "254  https://ema.crimproject.org/https%3A%2F%2Fcrim...   \n",
       "255  https://ema.crimproject.org/https%3A%2F%2Fcrim...   \n",
       "256  https://ema.crimproject.org/https%3A%2F%2Fcrim...   \n",
       "257  https://ema.crimproject.org/https%3A%2F%2Fcrim...   \n",
       "\n",
       "               duration_ratios  next_start_measure  next_end_measure  \\\n",
       "0    [0.5, 1.0, 1.0, 1.0, 2.0]                11.0              12.0   \n",
       "1    [0.5, 1.0, 1.0, 1.0, 2.0]                 3.0               5.0   \n",
       "2    [1.0, 1.0, 1.0, 1.0, 1.0]                10.0              11.0   \n",
       "3    [0.5, 1.0, 1.0, 1.0, 2.0]                 9.0              10.0   \n",
       "4    [0.5, 1.0, 1.0, 1.0, 2.0]                 2.0               3.0   \n",
       "..                         ...                 ...               ...   \n",
       "253  [1.0, 1.0, 0.5, 1.0, 2.0]                 NaN               NaN   \n",
       "254  [0.5, 1.0, 2.0, 1.0, 0.5]                 NaN               NaN   \n",
       "255  [1.0, 1.0, 2.0, 0.5, 2.0]                13.0              15.0   \n",
       "256  [1.0, 1.0, 2.0, 0.5, 1.5]                 NaN               NaN   \n",
       "257  [1.0, 1.0, 1.0, 1.0, 1.0]                 NaN               NaN   \n",
       "\n",
       "                next_note_durations next_pattern_matched  \\\n",
       "0    [4.0, 2.0, 2.0, 2.0, 2.0, 4.0]      [1, 1, 3, 1, 2]   \n",
       "1    [2.0, 2.0, 2.0, 2.0, 4.0, 8.0]     [1, 3, 1, 2, -4]   \n",
       "2    [2.0, 2.0, 2.0, 2.0, 2.0, 4.0]     [1, 3, 1, 2, -3]   \n",
       "3    [4.0, 2.0, 2.0, 2.0, 2.0, 4.0]      [1, 1, 3, 1, 2]   \n",
       "4    [2.0, 2.0, 2.0, 2.0, 4.0, 8.0]     [1, 3, 1, 2, -4]   \n",
       "..                              ...                  ...   \n",
       "253                             NaN                  NaN   \n",
       "254                             NaN                  NaN   \n",
       "255  [2.0, 2.0, 2.0, 4.0, 2.0, 3.0]   [1, -2, -2, -2, 2]   \n",
       "256                             NaN                  NaN   \n",
       "257                             NaN                  NaN   \n",
       "\n",
       "    pattern_matched_short next_pattern_matched_short  note_durations_short  \\\n",
       "0               [1, 3, 1]                  [1, 3, 1]  [2.0, 2.0, 2.0, 2.0]   \n",
       "1               [1, 3, 1]                  [3, 1, 2]  [2.0, 2.0, 2.0, 2.0]   \n",
       "2               [1, 3, 1]                  [3, 1, 2]  [2.0, 2.0, 2.0, 2.0]   \n",
       "3               [1, 3, 1]                  [1, 3, 1]  [2.0, 2.0, 2.0, 2.0]   \n",
       "4               [1, 3, 1]                  [3, 1, 2]  [2.0, 2.0, 2.0, 2.0]   \n",
       "..                    ...                        ...                   ...   \n",
       "253          [-2, -2, -2]                        NaN  [2.0, 2.0, 1.0, 1.0]   \n",
       "254          [-2, -2, -2]                        NaN  [2.0, 2.0, 4.0, 4.0]   \n",
       "255          [-2, -2, -2]               [-2, -2, -2]  [2.0, 2.0, 4.0, 2.0]   \n",
       "256          [-2, -2, -2]                        NaN  [2.0, 2.0, 4.0, 2.0]   \n",
       "257          [-2, -2, -2]                        NaN  [2.0, 2.0, 2.0, 2.0]   \n",
       "\n",
       "    next_note_durations_short  \n",
       "0        [2.0, 2.0, 2.0, 2.0]  \n",
       "1        [2.0, 2.0, 2.0, 4.0]  \n",
       "2        [2.0, 2.0, 2.0, 2.0]  \n",
       "3        [2.0, 2.0, 2.0, 2.0]  \n",
       "4        [2.0, 2.0, 2.0, 4.0]  \n",
       "..                        ...  \n",
       "253                       NaN  \n",
       "254                       NaN  \n",
       "255      [2.0, 2.0, 4.0, 2.0]  \n",
       "256                       NaN  \n",
       "257                       NaN  \n",
       "\n",
       "[258 rows x 18 columns]"
      ],
      "text/html": "<div>\n<style scoped>\n    .dataframe tbody tr th:only-of-type {\n        vertical-align: middle;\n    }\n\n    .dataframe tbody tr th {\n        vertical-align: top;\n    }\n\n    .dataframe thead th {\n        text-align: right;\n    }\n</style>\n<table border=\"1\" class=\"dataframe\">\n  <thead>\n    <tr style=\"text-align: right;\">\n      <th></th>\n      <th>pattern_generating_match</th>\n      <th>pattern_matched</th>\n      <th>piece_title</th>\n      <th>part</th>\n      <th>start_measure</th>\n      <th>end_measure</th>\n      <th>note_durations</th>\n      <th>ema</th>\n      <th>ema_url</th>\n      <th>duration_ratios</th>\n      <th>next_start_measure</th>\n      <th>next_end_measure</th>\n      <th>next_note_durations</th>\n      <th>next_pattern_matched</th>\n      <th>pattern_matched_short</th>\n      <th>next_pattern_matched_short</th>\n      <th>note_durations_short</th>\n      <th>next_note_durations_short</th>\n    </tr>\n  </thead>\n  <tbody>\n    <tr>\n      <th>0</th>\n      <td>(1, 1, 3, 1, 2)</td>\n      <td>[1, 1, 3, 1, 2]</td>\n      <td>Je suis déshéritée</td>\n      <td>Superius</td>\n      <td>3</td>\n      <td>4</td>\n      <td>[4.0, 2.0, 2.0, 2.0, 2.0, 4.0]</td>\n      <td>3-4/1/@1.0-end,@start-3.0</td>\n      <td>https://ema.crimproject.org/https%3A%2F%2Fcrim...</td>\n      <td>[0.5, 1.0, 1.0, 1.0, 2.0]</td>\n      <td>11.0</td>\n      <td>12.0</td>\n      <td>[4.0, 2.0, 2.0, 2.0, 2.0, 4.0]</td>\n      <td>[1, 1, 3, 1, 2]</td>\n      <td>[1, 3, 1]</td>\n      <td>[1, 3, 1]</td>\n      <td>[2.0, 2.0, 2.0, 2.0]</td>\n      <td>[2.0, 2.0, 2.0, 2.0]</td>\n    </tr>\n    <tr>\n      <th>1</th>\n      <td>(1, 1, 3, 1, 2)</td>\n      <td>[1, 1, 3, 1, 2]</td>\n      <td>Je suis déshéritée</td>\n      <td>Superius</td>\n      <td>11</td>\n      <td>12</td>\n      <td>[4.0, 2.0, 2.0, 2.0, 2.0, 4.0]</td>\n      <td>11-12/1/@1.0-end,@start-3.0</td>\n      <td>https://ema.crimproject.org/https%3A%2F%2Fcrim...</td>\n      <td>[0.5, 1.0, 1.0, 1.0, 2.0]</td>\n      <td>3.0</td>\n      <td>5.0</td>\n      <td>[2.0, 2.0, 2.0, 2.0, 4.0, 8.0]</td>\n      <td>[1, 3, 1, 2, -4]</td>\n      <td>[1, 3, 1]</td>\n      <td>[3, 1, 2]</td>\n      <td>[2.0, 2.0, 2.0, 2.0]</td>\n      <td>[2.0, 2.0, 2.0, 4.0]</td>\n    </tr>\n    <tr>\n      <th>2</th>\n      <td>(1, 1, 3, 1, 2)</td>\n      <td>[1, 1, 3, 1, 2]</td>\n      <td>Je suis déshéritée</td>\n      <td>Contratenor</td>\n      <td>9</td>\n      <td>11</td>\n      <td>[2.0, 2.0, 2.0, 2.0, 2.0, 2.0]</td>\n      <td>9-11/2/@4.0-end,@start-end,@start-1.0</td>\n      <td>https://ema.crimproject.org/https%3A%2F%2Fcrim...</td>\n      <td>[1.0, 1.0, 1.0, 1.0, 1.0]</td>\n      <td>10.0</td>\n      <td>11.0</td>\n      <td>[2.0, 2.0, 2.0, 2.0, 2.0, 4.0]</td>\n      <td>[1, 3, 1, 2, -3]</td>\n      <td>[1, 3, 1]</td>\n      <td>[3, 1, 2]</td>\n      <td>[2.0, 2.0, 2.0, 2.0]</td>\n      <td>[2.0, 2.0, 2.0, 2.0]</td>\n    </tr>\n    <tr>\n      <th>3</th>\n      <td>(1, 1, 3, 1, 2)</td>\n      <td>[1, 1, 3, 1, 2]</td>\n      <td>Je suis déshéritée</td>\n      <td>Tenor</td>\n      <td>1</td>\n      <td>3</td>\n      <td>[4.0, 2.0, 2.0, 2.0, 2.0, 4.0]</td>\n      <td>1-3/3/@3.0-end,@start-end,@start-1.0</td>\n      <td>https://ema.crimproject.org/https%3A%2F%2Fcrim...</td>\n      <td>[0.5, 1.0, 1.0, 1.0, 2.0]</td>\n      <td>9.0</td>\n      <td>10.0</td>\n      <td>[4.0, 2.0, 2.0, 2.0, 2.0, 4.0]</td>\n      <td>[1, 1, 3, 1, 2]</td>\n      <td>[1, 3, 1]</td>\n      <td>[1, 3, 1]</td>\n      <td>[2.0, 2.0, 2.0, 2.0]</td>\n      <td>[2.0, 2.0, 2.0, 2.0]</td>\n    </tr>\n    <tr>\n      <th>4</th>\n      <td>(1, 1, 3, 1, 2)</td>\n      <td>[1, 1, 3, 1, 2]</td>\n      <td>Je suis déshéritée</td>\n      <td>Tenor</td>\n      <td>9</td>\n      <td>10</td>\n      <td>[4.0, 2.0, 2.0, 2.0, 2.0, 4.0]</td>\n      <td>9-10/3/@1.0-end,@start-3.0</td>\n      <td>https://ema.crimproject.org/https%3A%2F%2Fcrim...</td>\n      <td>[0.5, 1.0, 1.0, 1.0, 2.0]</td>\n      <td>2.0</td>\n      <td>3.0</td>\n      <td>[2.0, 2.0, 2.0, 2.0, 4.0, 8.0]</td>\n      <td>[1, 3, 1, 2, -4]</td>\n      <td>[1, 3, 1]</td>\n      <td>[3, 1, 2]</td>\n      <td>[2.0, 2.0, 2.0, 2.0]</td>\n      <td>[2.0, 2.0, 2.0, 4.0]</td>\n    </tr>\n    <tr>\n      <th>...</th>\n      <td>...</td>\n      <td>...</td>\n      <td>...</td>\n      <td>...</td>\n      <td>...</td>\n      <td>...</td>\n      <td>...</td>\n      <td>...</td>\n      <td>...</td>\n      <td>...</td>\n      <td>...</td>\n      <td>...</td>\n      <td>...</td>\n      <td>...</td>\n      <td>...</td>\n      <td>...</td>\n      <td>...</td>\n      <td>...</td>\n    </tr>\n    <tr>\n      <th>253</th>\n      <td>(1, -2, -2, -2, 1)</td>\n      <td>[1, -2, -2, -2, 2]</td>\n      <td>Je suis déshéritée</td>\n      <td>Superius</td>\n      <td>26</td>\n      <td>27</td>\n      <td>[2.0, 2.0, 2.0, 1.0, 1.0, 2.0]</td>\n      <td>26-27/1/@1.0-end,@start-1.0</td>\n      <td>https://ema.crimproject.org/https%3A%2F%2Fcrim...</td>\n      <td>[1.0, 1.0, 0.5, 1.0, 2.0]</td>\n      <td>NaN</td>\n      <td>NaN</td>\n      <td>NaN</td>\n      <td>NaN</td>\n      <td>[-2, -2, -2]</td>\n      <td>NaN</td>\n      <td>[2.0, 2.0, 1.0, 1.0]</td>\n      <td>NaN</td>\n    </tr>\n    <tr>\n      <th>254</th>\n      <td>(1, -2, -2, -2, 1)</td>\n      <td>[2, -2, -2, -2, 1]</td>\n      <td>Je suis déshéritée</td>\n      <td>Contratenor</td>\n      <td>22</td>\n      <td>24</td>\n      <td>[4.0, 2.0, 2.0, 4.0, 4.0, 2.0]</td>\n      <td>22-24/2/@1.0-end,@start-end,@start-1.0</td>\n      <td>https://ema.crimproject.org/https%3A%2F%2Fcrim...</td>\n      <td>[0.5, 1.0, 2.0, 1.0, 0.5]</td>\n      <td>NaN</td>\n      <td>NaN</td>\n      <td>NaN</td>\n      <td>NaN</td>\n      <td>[-2, -2, -2]</td>\n      <td>NaN</td>\n      <td>[2.0, 2.0, 4.0, 4.0]</td>\n      <td>NaN</td>\n    </tr>\n    <tr>\n      <th>255</th>\n      <td>(1, -2, -2, -2, 1)</td>\n      <td>[1, -2, -2, -2, 2]</td>\n      <td>Je suis déshéritée</td>\n      <td>Tenor</td>\n      <td>5</td>\n      <td>7</td>\n      <td>[2.0, 2.0, 2.0, 4.0, 2.0, 4.0]</td>\n      <td>5-7/3/@3.0-end,@start-end,@start-1.0</td>\n      <td>https://ema.crimproject.org/https%3A%2F%2Fcrim...</td>\n      <td>[1.0, 1.0, 2.0, 0.5, 2.0]</td>\n      <td>13.0</td>\n      <td>15.0</td>\n      <td>[2.0, 2.0, 2.0, 4.0, 2.0, 3.0]</td>\n      <td>[1, -2, -2, -2, 2]</td>\n      <td>[-2, -2, -2]</td>\n      <td>[-2, -2, -2]</td>\n      <td>[2.0, 2.0, 4.0, 2.0]</td>\n      <td>[2.0, 2.0, 4.0, 2.0]</td>\n    </tr>\n    <tr>\n      <th>256</th>\n      <td>(1, -2, -2, -2, 1)</td>\n      <td>[1, -2, -2, -2, 2]</td>\n      <td>Je suis déshéritée</td>\n      <td>Tenor</td>\n      <td>13</td>\n      <td>15</td>\n      <td>[2.0, 2.0, 2.0, 4.0, 2.0, 3.0]</td>\n      <td>13-15/3/@3.0-end,@start-end,@start-1.0</td>\n      <td>https://ema.crimproject.org/https%3A%2F%2Fcrim...</td>\n      <td>[1.0, 1.0, 2.0, 0.5, 1.5]</td>\n      <td>NaN</td>\n      <td>NaN</td>\n      <td>NaN</td>\n      <td>NaN</td>\n      <td>[-2, -2, -2]</td>\n      <td>NaN</td>\n      <td>[2.0, 2.0, 4.0, 2.0]</td>\n      <td>NaN</td>\n    </tr>\n    <tr>\n      <th>257</th>\n      <td>(1, -2, -2, -2, 1)</td>\n      <td>[1, -2, -2, -2, 1]</td>\n      <td>Je suis déshéritée</td>\n      <td>Bassus</td>\n      <td>15</td>\n      <td>16</td>\n      <td>[2.0, 2.0, 2.0, 2.0, 2.0, 2.0]</td>\n      <td>15-16/4/@3.0-end,@start-4.0</td>\n      <td>https://ema.crimproject.org/https%3A%2F%2Fcrim...</td>\n      <td>[1.0, 1.0, 1.0, 1.0, 1.0]</td>\n      <td>NaN</td>\n      <td>NaN</td>\n      <td>NaN</td>\n      <td>NaN</td>\n      <td>[-2, -2, -2]</td>\n      <td>NaN</td>\n      <td>[2.0, 2.0, 2.0, 2.0]</td>\n      <td>NaN</td>\n    </tr>\n  </tbody>\n</table>\n<p>258 rows × 18 columns</p>\n</div>"
     },
     "metadata": {},
     "execution_count": 88
    }
   ],
   "source": [
    "df_shifted = add_subsequence_cols(df_shifted, [\"pattern_matched\", \n",
    "                            \"next_pattern_matched\",\n",
    "                            \"note_durations\",\n",
    "                            \"next_note_durations\"])\n",
    "df_shifted"
   ]
  },
  {
   "cell_type": "code",
   "execution_count": 89,
   "metadata": {},
   "outputs": [
    {
     "output_type": "execute_result",
     "data": {
      "text/plain": [
       "        pattern_matched         piece_title         part  start_measure  \\\n",
       "0       [1, 1, 3, 1, 2]  Je suis déshéritée     Superius              3   \n",
       "1       [1, 1, 3, 1, 2]  Je suis déshéritée     Superius             11   \n",
       "2       [1, 1, 3, 1, 2]  Je suis déshéritée  Contratenor              9   \n",
       "3       [1, 1, 3, 1, 2]  Je suis déshéritée        Tenor              1   \n",
       "4       [1, 1, 3, 1, 2]  Je suis déshéritée        Tenor              9   \n",
       "..                  ...                 ...          ...            ...   \n",
       "253  [1, -2, -2, -2, 2]  Je suis déshéritée     Superius             26   \n",
       "254  [2, -2, -2, -2, 1]  Je suis déshéritée  Contratenor             22   \n",
       "255  [1, -2, -2, -2, 2]  Je suis déshéritée        Tenor              5   \n",
       "256  [1, -2, -2, -2, 2]  Je suis déshéritée        Tenor             13   \n",
       "257  [1, -2, -2, -2, 1]  Je suis déshéritée       Bassus             15   \n",
       "\n",
       "     end_measure                  note_durations            duration_ratios  \\\n",
       "0              4  [4.0, 2.0, 2.0, 2.0, 2.0, 4.0]  [0.5, 1.0, 1.0, 1.0, 2.0]   \n",
       "1             12  [4.0, 2.0, 2.0, 2.0, 2.0, 4.0]  [0.5, 1.0, 1.0, 1.0, 2.0]   \n",
       "2             11  [2.0, 2.0, 2.0, 2.0, 2.0, 2.0]  [1.0, 1.0, 1.0, 1.0, 1.0]   \n",
       "3              3  [4.0, 2.0, 2.0, 2.0, 2.0, 4.0]  [0.5, 1.0, 1.0, 1.0, 2.0]   \n",
       "4             10  [4.0, 2.0, 2.0, 2.0, 2.0, 4.0]  [0.5, 1.0, 1.0, 1.0, 2.0]   \n",
       "..           ...                             ...                        ...   \n",
       "253           27  [2.0, 2.0, 2.0, 1.0, 1.0, 2.0]  [1.0, 1.0, 0.5, 1.0, 2.0]   \n",
       "254           24  [4.0, 2.0, 2.0, 4.0, 4.0, 2.0]  [0.5, 1.0, 2.0, 1.0, 0.5]   \n",
       "255            7  [2.0, 2.0, 2.0, 4.0, 2.0, 4.0]  [1.0, 1.0, 2.0, 0.5, 2.0]   \n",
       "256           15  [2.0, 2.0, 2.0, 4.0, 2.0, 3.0]  [1.0, 1.0, 2.0, 0.5, 1.5]   \n",
       "257           16  [2.0, 2.0, 2.0, 2.0, 2.0, 2.0]  [1.0, 1.0, 1.0, 1.0, 1.0]   \n",
       "\n",
       "     next_start_measure  next_end_measure             next_note_durations  \\\n",
       "0                  11.0              12.0  [4.0, 2.0, 2.0, 2.0, 2.0, 4.0]   \n",
       "1                   3.0               5.0  [2.0, 2.0, 2.0, 2.0, 4.0, 8.0]   \n",
       "2                  10.0              11.0  [2.0, 2.0, 2.0, 2.0, 2.0, 4.0]   \n",
       "3                   9.0              10.0  [4.0, 2.0, 2.0, 2.0, 2.0, 4.0]   \n",
       "4                   2.0               3.0  [2.0, 2.0, 2.0, 2.0, 4.0, 8.0]   \n",
       "..                  ...               ...                             ...   \n",
       "253                 NaN               NaN                             NaN   \n",
       "254                 NaN               NaN                             NaN   \n",
       "255                13.0              15.0  [2.0, 2.0, 2.0, 4.0, 2.0, 3.0]   \n",
       "256                 NaN               NaN                             NaN   \n",
       "257                 NaN               NaN                             NaN   \n",
       "\n",
       "    next_pattern_matched pattern_matched_short next_pattern_matched_short  \\\n",
       "0        [1, 1, 3, 1, 2]             [1, 3, 1]                  [1, 3, 1]   \n",
       "1       [1, 3, 1, 2, -4]             [1, 3, 1]                  [3, 1, 2]   \n",
       "2       [1, 3, 1, 2, -3]             [1, 3, 1]                  [3, 1, 2]   \n",
       "3        [1, 1, 3, 1, 2]             [1, 3, 1]                  [1, 3, 1]   \n",
       "4       [1, 3, 1, 2, -4]             [1, 3, 1]                  [3, 1, 2]   \n",
       "..                   ...                   ...                        ...   \n",
       "253                  NaN          [-2, -2, -2]                        NaN   \n",
       "254                  NaN          [-2, -2, -2]                        NaN   \n",
       "255   [1, -2, -2, -2, 2]          [-2, -2, -2]               [-2, -2, -2]   \n",
       "256                  NaN          [-2, -2, -2]                        NaN   \n",
       "257                  NaN          [-2, -2, -2]                        NaN   \n",
       "\n",
       "     note_durations_short next_note_durations_short  \n",
       "0    [2.0, 2.0, 2.0, 2.0]      [2.0, 2.0, 2.0, 2.0]  \n",
       "1    [2.0, 2.0, 2.0, 2.0]      [2.0, 2.0, 2.0, 4.0]  \n",
       "2    [2.0, 2.0, 2.0, 2.0]      [2.0, 2.0, 2.0, 2.0]  \n",
       "3    [2.0, 2.0, 2.0, 2.0]      [2.0, 2.0, 2.0, 2.0]  \n",
       "4    [2.0, 2.0, 2.0, 2.0]      [2.0, 2.0, 2.0, 4.0]  \n",
       "..                    ...                       ...  \n",
       "253  [2.0, 2.0, 1.0, 1.0]                       NaN  \n",
       "254  [2.0, 2.0, 4.0, 4.0]                       NaN  \n",
       "255  [2.0, 2.0, 4.0, 2.0]      [2.0, 2.0, 4.0, 2.0]  \n",
       "256  [2.0, 2.0, 4.0, 2.0]                       NaN  \n",
       "257  [2.0, 2.0, 2.0, 2.0]                       NaN  \n",
       "\n",
       "[258 rows x 15 columns]"
      ],
      "text/html": "<div>\n<style scoped>\n    .dataframe tbody tr th:only-of-type {\n        vertical-align: middle;\n    }\n\n    .dataframe tbody tr th {\n        vertical-align: top;\n    }\n\n    .dataframe thead th {\n        text-align: right;\n    }\n</style>\n<table border=\"1\" class=\"dataframe\">\n  <thead>\n    <tr style=\"text-align: right;\">\n      <th></th>\n      <th>pattern_matched</th>\n      <th>piece_title</th>\n      <th>part</th>\n      <th>start_measure</th>\n      <th>end_measure</th>\n      <th>note_durations</th>\n      <th>duration_ratios</th>\n      <th>next_start_measure</th>\n      <th>next_end_measure</th>\n      <th>next_note_durations</th>\n      <th>next_pattern_matched</th>\n      <th>pattern_matched_short</th>\n      <th>next_pattern_matched_short</th>\n      <th>note_durations_short</th>\n      <th>next_note_durations_short</th>\n    </tr>\n  </thead>\n  <tbody>\n    <tr>\n      <th>0</th>\n      <td>[1, 1, 3, 1, 2]</td>\n      <td>Je suis déshéritée</td>\n      <td>Superius</td>\n      <td>3</td>\n      <td>4</td>\n      <td>[4.0, 2.0, 2.0, 2.0, 2.0, 4.0]</td>\n      <td>[0.5, 1.0, 1.0, 1.0, 2.0]</td>\n      <td>11.0</td>\n      <td>12.0</td>\n      <td>[4.0, 2.0, 2.0, 2.0, 2.0, 4.0]</td>\n      <td>[1, 1, 3, 1, 2]</td>\n      <td>[1, 3, 1]</td>\n      <td>[1, 3, 1]</td>\n      <td>[2.0, 2.0, 2.0, 2.0]</td>\n      <td>[2.0, 2.0, 2.0, 2.0]</td>\n    </tr>\n    <tr>\n      <th>1</th>\n      <td>[1, 1, 3, 1, 2]</td>\n      <td>Je suis déshéritée</td>\n      <td>Superius</td>\n      <td>11</td>\n      <td>12</td>\n      <td>[4.0, 2.0, 2.0, 2.0, 2.0, 4.0]</td>\n      <td>[0.5, 1.0, 1.0, 1.0, 2.0]</td>\n      <td>3.0</td>\n      <td>5.0</td>\n      <td>[2.0, 2.0, 2.0, 2.0, 4.0, 8.0]</td>\n      <td>[1, 3, 1, 2, -4]</td>\n      <td>[1, 3, 1]</td>\n      <td>[3, 1, 2]</td>\n      <td>[2.0, 2.0, 2.0, 2.0]</td>\n      <td>[2.0, 2.0, 2.0, 4.0]</td>\n    </tr>\n    <tr>\n      <th>2</th>\n      <td>[1, 1, 3, 1, 2]</td>\n      <td>Je suis déshéritée</td>\n      <td>Contratenor</td>\n      <td>9</td>\n      <td>11</td>\n      <td>[2.0, 2.0, 2.0, 2.0, 2.0, 2.0]</td>\n      <td>[1.0, 1.0, 1.0, 1.0, 1.0]</td>\n      <td>10.0</td>\n      <td>11.0</td>\n      <td>[2.0, 2.0, 2.0, 2.0, 2.0, 4.0]</td>\n      <td>[1, 3, 1, 2, -3]</td>\n      <td>[1, 3, 1]</td>\n      <td>[3, 1, 2]</td>\n      <td>[2.0, 2.0, 2.0, 2.0]</td>\n      <td>[2.0, 2.0, 2.0, 2.0]</td>\n    </tr>\n    <tr>\n      <th>3</th>\n      <td>[1, 1, 3, 1, 2]</td>\n      <td>Je suis déshéritée</td>\n      <td>Tenor</td>\n      <td>1</td>\n      <td>3</td>\n      <td>[4.0, 2.0, 2.0, 2.0, 2.0, 4.0]</td>\n      <td>[0.5, 1.0, 1.0, 1.0, 2.0]</td>\n      <td>9.0</td>\n      <td>10.0</td>\n      <td>[4.0, 2.0, 2.0, 2.0, 2.0, 4.0]</td>\n      <td>[1, 1, 3, 1, 2]</td>\n      <td>[1, 3, 1]</td>\n      <td>[1, 3, 1]</td>\n      <td>[2.0, 2.0, 2.0, 2.0]</td>\n      <td>[2.0, 2.0, 2.0, 2.0]</td>\n    </tr>\n    <tr>\n      <th>4</th>\n      <td>[1, 1, 3, 1, 2]</td>\n      <td>Je suis déshéritée</td>\n      <td>Tenor</td>\n      <td>9</td>\n      <td>10</td>\n      <td>[4.0, 2.0, 2.0, 2.0, 2.0, 4.0]</td>\n      <td>[0.5, 1.0, 1.0, 1.0, 2.0]</td>\n      <td>2.0</td>\n      <td>3.0</td>\n      <td>[2.0, 2.0, 2.0, 2.0, 4.0, 8.0]</td>\n      <td>[1, 3, 1, 2, -4]</td>\n      <td>[1, 3, 1]</td>\n      <td>[3, 1, 2]</td>\n      <td>[2.0, 2.0, 2.0, 2.0]</td>\n      <td>[2.0, 2.0, 2.0, 4.0]</td>\n    </tr>\n    <tr>\n      <th>...</th>\n      <td>...</td>\n      <td>...</td>\n      <td>...</td>\n      <td>...</td>\n      <td>...</td>\n      <td>...</td>\n      <td>...</td>\n      <td>...</td>\n      <td>...</td>\n      <td>...</td>\n      <td>...</td>\n      <td>...</td>\n      <td>...</td>\n      <td>...</td>\n      <td>...</td>\n    </tr>\n    <tr>\n      <th>253</th>\n      <td>[1, -2, -2, -2, 2]</td>\n      <td>Je suis déshéritée</td>\n      <td>Superius</td>\n      <td>26</td>\n      <td>27</td>\n      <td>[2.0, 2.0, 2.0, 1.0, 1.0, 2.0]</td>\n      <td>[1.0, 1.0, 0.5, 1.0, 2.0]</td>\n      <td>NaN</td>\n      <td>NaN</td>\n      <td>NaN</td>\n      <td>NaN</td>\n      <td>[-2, -2, -2]</td>\n      <td>NaN</td>\n      <td>[2.0, 2.0, 1.0, 1.0]</td>\n      <td>NaN</td>\n    </tr>\n    <tr>\n      <th>254</th>\n      <td>[2, -2, -2, -2, 1]</td>\n      <td>Je suis déshéritée</td>\n      <td>Contratenor</td>\n      <td>22</td>\n      <td>24</td>\n      <td>[4.0, 2.0, 2.0, 4.0, 4.0, 2.0]</td>\n      <td>[0.5, 1.0, 2.0, 1.0, 0.5]</td>\n      <td>NaN</td>\n      <td>NaN</td>\n      <td>NaN</td>\n      <td>NaN</td>\n      <td>[-2, -2, -2]</td>\n      <td>NaN</td>\n      <td>[2.0, 2.0, 4.0, 4.0]</td>\n      <td>NaN</td>\n    </tr>\n    <tr>\n      <th>255</th>\n      <td>[1, -2, -2, -2, 2]</td>\n      <td>Je suis déshéritée</td>\n      <td>Tenor</td>\n      <td>5</td>\n      <td>7</td>\n      <td>[2.0, 2.0, 2.0, 4.0, 2.0, 4.0]</td>\n      <td>[1.0, 1.0, 2.0, 0.5, 2.0]</td>\n      <td>13.0</td>\n      <td>15.0</td>\n      <td>[2.0, 2.0, 2.0, 4.0, 2.0, 3.0]</td>\n      <td>[1, -2, -2, -2, 2]</td>\n      <td>[-2, -2, -2]</td>\n      <td>[-2, -2, -2]</td>\n      <td>[2.0, 2.0, 4.0, 2.0]</td>\n      <td>[2.0, 2.0, 4.0, 2.0]</td>\n    </tr>\n    <tr>\n      <th>256</th>\n      <td>[1, -2, -2, -2, 2]</td>\n      <td>Je suis déshéritée</td>\n      <td>Tenor</td>\n      <td>13</td>\n      <td>15</td>\n      <td>[2.0, 2.0, 2.0, 4.0, 2.0, 3.0]</td>\n      <td>[1.0, 1.0, 2.0, 0.5, 1.5]</td>\n      <td>NaN</td>\n      <td>NaN</td>\n      <td>NaN</td>\n      <td>NaN</td>\n      <td>[-2, -2, -2]</td>\n      <td>NaN</td>\n      <td>[2.0, 2.0, 4.0, 2.0]</td>\n      <td>NaN</td>\n    </tr>\n    <tr>\n      <th>257</th>\n      <td>[1, -2, -2, -2, 1]</td>\n      <td>Je suis déshéritée</td>\n      <td>Bassus</td>\n      <td>15</td>\n      <td>16</td>\n      <td>[2.0, 2.0, 2.0, 2.0, 2.0, 2.0]</td>\n      <td>[1.0, 1.0, 1.0, 1.0, 1.0]</td>\n      <td>NaN</td>\n      <td>NaN</td>\n      <td>NaN</td>\n      <td>NaN</td>\n      <td>[-2, -2, -2]</td>\n      <td>NaN</td>\n      <td>[2.0, 2.0, 2.0, 2.0]</td>\n      <td>NaN</td>\n    </tr>\n  </tbody>\n</table>\n<p>258 rows × 15 columns</p>\n</div>"
     },
     "metadata": {},
     "execution_count": 89
    }
   ],
   "source": [
    "df_brief = df_shifted.drop(columns=[\"ema\", \"ema_url\", \"pattern_generating_match\"])\n",
    "df_brief"
   ]
  },
  {
   "cell_type": "code",
   "execution_count": null,
   "metadata": {},
   "outputs": [],
   "source": [
    "greedy_soggetti = df_brief.loc[df_shifted[\"pattern_matched_short\"] == df_brief[\"next_pattern_matched_short\"]]\n",
    "greedy_soggetti"
   ]
  }
 ],
 "metadata": {
  "kernelspec": {
   "display_name": "Python 3",
   "language": "python",
   "name": "python3"
  },
  "language_info": {
   "codemirror_mode": {
    "name": "ipython",
    "version": 3
   },
   "file_extension": ".py",
   "mimetype": "text/x-python",
   "name": "python",
   "nbconvert_exporter": "python",
   "pygments_lexer": "ipython3",
   "version": "3.8.5-final"
  }
 },
 "nbformat": 4,
 "nbformat_minor": 4
}