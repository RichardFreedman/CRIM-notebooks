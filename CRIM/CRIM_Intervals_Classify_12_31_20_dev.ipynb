{
 "cells": [
  {
   "cell_type": "markdown",
   "metadata": {},
   "source": [
    "## Search with Options\n",
    "\n",
    "- Piece or Corpus\n",
    "- Actual or Incremental Durations\n",
    "- Chromatic or Diatonic\n",
    "- Exact or Close\n",
    "- Classify\n",
    "\n",
    "***\n"
   ]
  },
  {
   "cell_type": "code",
   "execution_count": 449,
   "metadata": {},
   "outputs": [],
   "source": [
    "from crim_intervals import *\n",
    "import pandas as pd\n",
    "import ast\n",
    "import matplotlib\n",
    "from itertools import tee, combinations"
   ]
  },
  {
   "cell_type": "markdown",
   "metadata": {},
   "source": [
    "### The Complete Corpus"
   ]
  },
  {
   "cell_type": "code",
   "execution_count": 3,
   "metadata": {},
   "outputs": [],
   "source": [
    "work_list = ['CRIM_Mass_0001_1.mei','CRIM_Mass_0001_2.mei','CRIM_Mass_0001_3.mei','CRIM_Mass_0001_4.mei','CRIM_Mass_0001_5.mei','CRIM_Mass_0002_1.mei','CRIM_Mass_0002_2.mei','CRIM_Mass_0002_3.mei','CRIM_Mass_0002_4.mei','CRIM_Mass_0002_5.mei','CRIM_Mass_0003_1.mei','CRIM_Mass_0003_2.mei','CRIM_Mass_0003_3.mei','CRIM_Mass_0003_4.mei','CRIM_Mass_0003_5.mei','CRIM_Mass_0004_1.mei','CRIM_Mass_0004_2.mei','CRIM_Mass_0004_3.mei','CRIM_Mass_0004_4.mei','CRIM_Mass_0004_5.mei','CRIM_Mass_0005_1.mei','CRIM_Mass_0005_2.mei','CRIM_Mass_0005_3.mei','CRIM_Mass_0005_4.mei','CRIM_Mass_0005_5.mei','CRIM_Mass_0006_1.mei','CRIM_Mass_0006_2.mei','CRIM_Mass_0006_3.mei','CRIM_Mass_0006_4.mei','CRIM_Mass_0006_5.mei','CRIM_Mass_0007_1.mei', 'CRIM_Mass_0007_2.mei', 'CRIM_Mass_0007_3.mei', 'CRIM_Mass_0007_4.mei', 'CRIM_Mass_0007_5.mei', 'CRIM_Mass_0008_1.mei', 'CRIM_Mass_0008_2.mei', 'CRIM_Mass_0008_3.mei', 'CRIM_Mass_0008_4.mei', 'CRIM_Mass_0008_5.mei', 'CRIM_Mass_0009_1.mei', 'CRIM_Mass_0009_2.mei', 'CRIM_Mass_0009_3.mei', 'CRIM_Mass_0009_4.mei', 'CRIM_Mass_0009_5.mei', 'CRIM_Mass_0010_1.mei', 'CRIM_Mass_0010_2.mei', 'CRIM_Mass_0010_3.mei', 'CRIM_Mass_0010_4.mei', 'CRIM_Mass_0010_5.mei', 'CRIM_Mass_0011_1.mei', 'CRIM_Mass_0011_2.mei', 'CRIM_Mass_0011_3.mei', 'CRIM_Mass_0011_4.mei', 'CRIM_Mass_0011_5.mei', 'CRIM_Mass_0012_1.mei', 'CRIM_Mass_0012_2.mei', 'CRIM_Mass_0012_3.mei', 'CRIM_Mass_0012_4.mei', 'CRIM_Mass_0012_5.mei', 'CRIM_Mass_0013_1.mei', 'CRIM_Mass_0013_2.mei', 'CRIM_Mass_0013_3.mei', 'CRIM_Mass_0013_4.mei', 'CRIM_Mass_0013_5.mei', 'CRIM_Mass_0014_1.mei', 'CRIM_Mass_0014_2.mei', 'CRIM_Mass_0014_3.mei', 'CRIM_Mass_0014_4.mei', 'CRIM_Mass_0014_5.mei', 'CRIM_Mass_0015_1.mei', 'CRIM_Mass_0015_2.mei', 'CRIM_Mass_0015_3.mei', 'CRIM_Mass_0015_4.mei', 'CRIM_Mass_0015_5.mei', 'CRIM_Mass_0016_1.mei', 'CRIM_Mass_0016_2.mei', 'CRIM_Mass_0016_3.mei', 'CRIM_Mass_0016_4.mei', 'CRIM_Mass_0016_5.mei', 'CRIM_Mass_0017_1.mei', 'CRIM_Mass_0017_2.mei', 'CRIM_Mass_0017_3.mei', 'CRIM_Mass_0017_4.mei', 'CRIM_Mass_0017_5.mei', 'CRIM_Mass_0018_1.mei', 'CRIM_Mass_0018_2.mei', 'CRIM_Mass_0018_3.mei', 'CRIM_Mass_0018_4.mei', 'CRIM_Mass_0018_5.mei', 'CRIM_Mass_0019_1.mei', 'CRIM_Mass_0019_2.mei', 'CRIM_Mass_0019_3.mei', 'CRIM_Mass_0019_4.mei', 'CRIM_Mass_0019_5.mei', 'CRIM_Mass_0020_1.mei', 'CRIM_Mass_0020_2.mei', 'CRIM_Mass_0020_3.mei', 'CRIM_Mass_0020_4.mei', 'CRIM_Mass_0020_5.mei', 'CRIM_Mass_0021_1.mei', 'CRIM_Mass_0021_2.mei', 'CRIM_Mass_0021_3.mei', 'CRIM_Mass_0021_4.mei', 'CRIM_Mass_0021_5.mei', 'CRIM_Mass_0022_2.mei', 'CRIM_Model_0001.mei', 'CRIM_Model_0008.mei', 'CRIM_Model_0009.mei', 'CRIM_Model_0010.mei', 'CRIM_Model_0011.mei', 'CRIM_Model_0012.mei', 'CRIM_Model_0013.mei', 'CRIM_Model_0014.mei', 'CRIM_Model_0015.mei', 'CRIM_Model_0016.mei', 'CRIM_Model_0017.mei', 'CRIM_Model_0019.mei', 'CRIM_Model_0020.mei', 'CRIM_Model_0021.mei', 'CRIM_Model_0023.mei', 'CRIM_Model_0025.mei', 'CRIM_Model_0026.mei',\n",
    "]"
   ]
  },
  {
   "cell_type": "markdown",
   "metadata": {},
   "source": [
    "### Short Corpus"
   ]
  },
  {
   "cell_type": "code",
   "execution_count": 696,
   "metadata": {},
   "outputs": [],
   "source": [
    "# work_list = ['CRIM_Mass_0002_1.mei',\n",
    "#  'CRIM_Mass_0002_2.mei',\n",
    "#  'CRIM_Mass_0002_3.mei',\n",
    "#  'CRIM_Mass_0002_4.mei',\n",
    "#  'CRIM_Mass_0002_5.mei',\n",
    "# 'CRIM_Model_0001.mei']\n",
    "\n",
    "work_list = ['CRIM_Model_0001.mei']"
   ]
  },
  {
   "source": [
    "## Load File and Correct the MEI Metadata"
   ],
   "cell_type": "markdown",
   "metadata": {
    "jupyter": {
     "outputs_hidden": true
    },
    "scrolled": true
   }
  },
  {
   "cell_type": "code",
   "execution_count": 697,
   "metadata": {
    "tags": []
   },
   "outputs": [
    {
     "output_type": "stream",
     "name": "stdout",
     "text": [
      "Requesting file from https://crimproject.org/mei/MEI_4.0/CRIM_Model_0001.mei...\n",
      "Successfully imported.\n",
      "https://crimproject.org/mei/MEI_4.0/CRIM_Model_0001.mei Veni speciosam\n",
      "Veni speciosam\n"
     ]
    }
   ],
   "source": [
    "work_list = [el.replace(\"CRIM_\", \"https://crimproject.org/mei/MEI_4.0/CRIM_\") for el in work_list]\n",
    "corpus = CorpusBase(work_list)\n",
    "\n",
    "import xml.etree.ElementTree as ET\n",
    "import requests\n",
    "\n",
    "MEINSURI = 'http://www.music-encoding.org/ns/mei'\n",
    "MEINS = '{%s}' % MEINSURI\n",
    "\n",
    "for i, path in enumerate(work_list):\n",
    "    \n",
    "    try:\n",
    "        if path[0] == '/':\n",
    "            mei_doc = ET.parse(path)\n",
    "        else:\n",
    "            mei_doc = ET.fromstring(requests.get(path).text)\n",
    "\n",
    "      # Find the title from the MEI file and update the Music21 Score metadata\n",
    "        title = mei_doc.find('mei:meiHead//mei:titleStmt/mei:title', namespaces={\"mei\": MEINSURI}).text\n",
    "        print(path, title)\n",
    "        corpus.scores[i].metadata.title = title\n",
    "    except:\n",
    "        continue\n",
    "\n",
    "for s in corpus.scores:\n",
    "    print(s.metadata.title)"
   ]
  },
  {
   "cell_type": "markdown",
   "metadata": {},
   "source": [
    "\n",
    "## Select Actual or Incremental Durations\n",
    "\n",
    "#### About Rhythmic Durations\n",
    "\n",
    "- For `find_close_matches` and `find_exact_matches`, rhythmic variation/duration is displayed, but **not** factored into the calculation of matching.\n",
    "- **Incremental Offset** calculates the intervals using a **fixed offset between notes**, no matter their actual duration.  Use this to ignore passing tones or other ornaments.  The offsets are expressed in multiples of the quarter note (Offset = 1 samples at quarter note; Offset = 2 at half note, etc). Set with `vectors = IntervalBase(corpus.note_list_incremental_offset(2))`"
   ]
  },
  {
   "cell_type": "code",
   "execution_count": 698,
   "metadata": {},
   "outputs": [],
   "source": [
    "vectors = IntervalBase(corpus.note_list)\n",
    "#vectors = IntervalBase(corpus.note_list_incremental_offset(2))"
   ]
  },
  {
   "cell_type": "markdown",
   "metadata": {},
   "source": [
    "***\n",
    "\n",
    "## Select Generic or Semitone Scale:\n",
    "\n",
    "- **Length of the Soggetto**: `into_patterns([vectors.semitone_intervals], 5)` \n",
    "\n",
    "- The **number** in this command represents the **minimum number of vectors to find**. 5 vectors is 6 notes.\n"
   ]
  },
  {
   "cell_type": "code",
   "execution_count": 699,
   "metadata": {},
   "outputs": [],
   "source": [
    "patterns = into_patterns([vectors.generic_intervals], 6)\n",
    "#patterns = into_patterns([vectors.semitone_intervals], 4)"
   ]
  },
  {
   "cell_type": "markdown",
   "metadata": {},
   "source": [
    "***\n",
    "\n",
    "## Select Exact Matches Here, or Close Below\n",
    "#### (Use comment feature to select screen preview or CSV output) \n",
    "\n",
    "- **Exact** is exact in *all* ways `find_exact_matches(patterns, 2)` \n",
    "- The **number** in this command represents the **minimum number of matching melodies needed before reporting**. This allows us to filter for common or uncommon soggetti."
   ]
  },
  {
   "cell_type": "code",
   "execution_count": 700,
   "metadata": {
    "tags": []
   },
   "outputs": [
    {
     "output_type": "stream",
     "name": "stdout",
     "text": [
      "Finding exact matches...\n",
      "159 melodic intervals had more than 1 exact matches.\n",
      "\n"
     ]
    },
    {
     "output_type": "execute_result",
     "data": {
      "text/plain": [
       "    pattern_generating_match        pattern_matched     piece_title  \\\n",
       "0        (1, 1, 3, 1, 2, -4)  [5, -2, 2, 3, -2, -2]  Veni speciosam   \n",
       "1        (1, 1, 3, 1, 2, -4)  [5, -2, 2, 3, -2, -2]  Veni speciosam   \n",
       "2        (1, 1, 3, 1, 2, -4)  [5, -2, 2, 3, -2, -2]  Veni speciosam   \n",
       "3        (1, 1, 3, 1, 2, -4)  [5, -2, 2, 3, -2, -2]  Veni speciosam   \n",
       "4      (1, 1, -2, -2, -2, 2)  [5, -2, 2, 3, -2, -2]  Veni speciosam   \n",
       "..                       ...                    ...             ...   \n",
       "563                      NaN   [-2, 2, -4, 2, 2, 2]  Veni speciosam   \n",
       "564                      NaN  [5, 1, -2, 2, -2, -2]  Veni speciosam   \n",
       "565                      NaN  [5, 1, -2, 2, -2, -2]  Veni speciosam   \n",
       "566                      NaN   [2, 2, 2, -3, -3, 5]  Veni speciosam   \n",
       "567                      NaN   [2, 2, 2, -3, -3, 5]  Veni speciosam   \n",
       "\n",
       "            part  start_measure  end_measure  \\\n",
       "0       Superius              1            3   \n",
       "1       Superius             10           12   \n",
       "2       Superius             31           33   \n",
       "3    Contratenor             34           36   \n",
       "4    PrimusTenor              5            7   \n",
       "..           ...            ...          ...   \n",
       "563       Bassus             82           83   \n",
       "564       Bassus             58           60   \n",
       "565       Bassus             65           67   \n",
       "566       Bassus             69           71   \n",
       "567       Bassus            132          134   \n",
       "\n",
       "                           note_durations  \\\n",
       "0     [4.0, 6.0, 2.0, 2.0, 2.0, 2.0, 3.0]   \n",
       "1     [4.0, 6.0, 2.0, 2.0, 2.0, 4.0, 2.0]   \n",
       "2     [2.0, 6.0, 2.0, 2.0, 4.0, 2.0, 4.0]   \n",
       "3     [2.0, 6.0, 2.0, 2.0, 2.0, 3.0, 1.0]   \n",
       "4     [4.0, 6.0, 2.0, 2.0, 2.0, 2.0, 3.0]   \n",
       "..                                    ...   \n",
       "563   [1.0, 2.0, 2.0, 1.0, 1.0, 1.0, 1.0]   \n",
       "564   [4.0, 3.0, 1.0, 2.0, 4.0, 2.0, 2.0]   \n",
       "565   [2.0, 3.0, 1.0, 4.0, 4.0, 2.0, 2.0]   \n",
       "566  [1.0, 1.0, 1.0, 2.0, 2.0, 2.0, 16.0]   \n",
       "567  [1.0, 1.0, 1.0, 2.0, 2.0, 2.0, 16.0]   \n",
       "\n",
       "                                          ema  \\\n",
       "0        1-3/1/@1.0-end,@start-end,@start-2.0   \n",
       "1      10-12/1/@1.0-end,@start-end,@start-3.0   \n",
       "2      31-33/1/@2.0-end,@start-end,@start-3.0   \n",
       "3      34-36/2/@4.0-end,@start-end,@start-4.5   \n",
       "4        5-7/3/@1.0-end,@start-end,@start-2.0   \n",
       "..                                        ...   \n",
       "563               82-83/5/@2.5-end,@start-2.5   \n",
       "564    58-60/5/@2.0-end,@start-end,@start-2.0   \n",
       "565    65-67/5/@2.0-end,@start-end,@start-2.0   \n",
       "566    69-71/5/@4.5-end,@start-end,@start-1.0   \n",
       "567  132-134/5/@4.5-end,@start-end,@start-1.0   \n",
       "\n",
       "                                               ema_url  \n",
       "0    https://ema.crimproject.org/https%3A%2F%2Fcrim...  \n",
       "1    https://ema.crimproject.org/https%3A%2F%2Fcrim...  \n",
       "2    https://ema.crimproject.org/https%3A%2F%2Fcrim...  \n",
       "3    https://ema.crimproject.org/https%3A%2F%2Fcrim...  \n",
       "4    https://ema.crimproject.org/https%3A%2F%2Fcrim...  \n",
       "..                                                 ...  \n",
       "563  https://ema.crimproject.org/https%3A%2F%2Fcrim...  \n",
       "564  https://ema.crimproject.org/https%3A%2F%2Fcrim...  \n",
       "565  https://ema.crimproject.org/https%3A%2F%2Fcrim...  \n",
       "566  https://ema.crimproject.org/https%3A%2F%2Fcrim...  \n",
       "567  https://ema.crimproject.org/https%3A%2F%2Fcrim...  \n",
       "\n",
       "[568 rows x 9 columns]"
      ],
      "text/html": "<div>\n<style scoped>\n    .dataframe tbody tr th:only-of-type {\n        vertical-align: middle;\n    }\n\n    .dataframe tbody tr th {\n        vertical-align: top;\n    }\n\n    .dataframe thead th {\n        text-align: right;\n    }\n</style>\n<table border=\"1\" class=\"dataframe\">\n  <thead>\n    <tr style=\"text-align: right;\">\n      <th></th>\n      <th>pattern_generating_match</th>\n      <th>pattern_matched</th>\n      <th>piece_title</th>\n      <th>part</th>\n      <th>start_measure</th>\n      <th>end_measure</th>\n      <th>note_durations</th>\n      <th>ema</th>\n      <th>ema_url</th>\n    </tr>\n  </thead>\n  <tbody>\n    <tr>\n      <th>0</th>\n      <td>(1, 1, 3, 1, 2, -4)</td>\n      <td>[5, -2, 2, 3, -2, -2]</td>\n      <td>Veni speciosam</td>\n      <td>Superius</td>\n      <td>1</td>\n      <td>3</td>\n      <td>[4.0, 6.0, 2.0, 2.0, 2.0, 2.0, 3.0]</td>\n      <td>1-3/1/@1.0-end,@start-end,@start-2.0</td>\n      <td>https://ema.crimproject.org/https%3A%2F%2Fcrim...</td>\n    </tr>\n    <tr>\n      <th>1</th>\n      <td>(1, 1, 3, 1, 2, -4)</td>\n      <td>[5, -2, 2, 3, -2, -2]</td>\n      <td>Veni speciosam</td>\n      <td>Superius</td>\n      <td>10</td>\n      <td>12</td>\n      <td>[4.0, 6.0, 2.0, 2.0, 2.0, 4.0, 2.0]</td>\n      <td>10-12/1/@1.0-end,@start-end,@start-3.0</td>\n      <td>https://ema.crimproject.org/https%3A%2F%2Fcrim...</td>\n    </tr>\n    <tr>\n      <th>2</th>\n      <td>(1, 1, 3, 1, 2, -4)</td>\n      <td>[5, -2, 2, 3, -2, -2]</td>\n      <td>Veni speciosam</td>\n      <td>Superius</td>\n      <td>31</td>\n      <td>33</td>\n      <td>[2.0, 6.0, 2.0, 2.0, 4.0, 2.0, 4.0]</td>\n      <td>31-33/1/@2.0-end,@start-end,@start-3.0</td>\n      <td>https://ema.crimproject.org/https%3A%2F%2Fcrim...</td>\n    </tr>\n    <tr>\n      <th>3</th>\n      <td>(1, 1, 3, 1, 2, -4)</td>\n      <td>[5, -2, 2, 3, -2, -2]</td>\n      <td>Veni speciosam</td>\n      <td>Contratenor</td>\n      <td>34</td>\n      <td>36</td>\n      <td>[2.0, 6.0, 2.0, 2.0, 2.0, 3.0, 1.0]</td>\n      <td>34-36/2/@4.0-end,@start-end,@start-4.5</td>\n      <td>https://ema.crimproject.org/https%3A%2F%2Fcrim...</td>\n    </tr>\n    <tr>\n      <th>4</th>\n      <td>(1, 1, -2, -2, -2, 2)</td>\n      <td>[5, -2, 2, 3, -2, -2]</td>\n      <td>Veni speciosam</td>\n      <td>PrimusTenor</td>\n      <td>5</td>\n      <td>7</td>\n      <td>[4.0, 6.0, 2.0, 2.0, 2.0, 2.0, 3.0]</td>\n      <td>5-7/3/@1.0-end,@start-end,@start-2.0</td>\n      <td>https://ema.crimproject.org/https%3A%2F%2Fcrim...</td>\n    </tr>\n    <tr>\n      <th>...</th>\n      <td>...</td>\n      <td>...</td>\n      <td>...</td>\n      <td>...</td>\n      <td>...</td>\n      <td>...</td>\n      <td>...</td>\n      <td>...</td>\n      <td>...</td>\n    </tr>\n    <tr>\n      <th>563</th>\n      <td>NaN</td>\n      <td>[-2, 2, -4, 2, 2, 2]</td>\n      <td>Veni speciosam</td>\n      <td>Bassus</td>\n      <td>82</td>\n      <td>83</td>\n      <td>[1.0, 2.0, 2.0, 1.0, 1.0, 1.0, 1.0]</td>\n      <td>82-83/5/@2.5-end,@start-2.5</td>\n      <td>https://ema.crimproject.org/https%3A%2F%2Fcrim...</td>\n    </tr>\n    <tr>\n      <th>564</th>\n      <td>NaN</td>\n      <td>[5, 1, -2, 2, -2, -2]</td>\n      <td>Veni speciosam</td>\n      <td>Bassus</td>\n      <td>58</td>\n      <td>60</td>\n      <td>[4.0, 3.0, 1.0, 2.0, 4.0, 2.0, 2.0]</td>\n      <td>58-60/5/@2.0-end,@start-end,@start-2.0</td>\n      <td>https://ema.crimproject.org/https%3A%2F%2Fcrim...</td>\n    </tr>\n    <tr>\n      <th>565</th>\n      <td>NaN</td>\n      <td>[5, 1, -2, 2, -2, -2]</td>\n      <td>Veni speciosam</td>\n      <td>Bassus</td>\n      <td>65</td>\n      <td>67</td>\n      <td>[2.0, 3.0, 1.0, 4.0, 4.0, 2.0, 2.0]</td>\n      <td>65-67/5/@2.0-end,@start-end,@start-2.0</td>\n      <td>https://ema.crimproject.org/https%3A%2F%2Fcrim...</td>\n    </tr>\n    <tr>\n      <th>566</th>\n      <td>NaN</td>\n      <td>[2, 2, 2, -3, -3, 5]</td>\n      <td>Veni speciosam</td>\n      <td>Bassus</td>\n      <td>69</td>\n      <td>71</td>\n      <td>[1.0, 1.0, 1.0, 2.0, 2.0, 2.0, 16.0]</td>\n      <td>69-71/5/@4.5-end,@start-end,@start-1.0</td>\n      <td>https://ema.crimproject.org/https%3A%2F%2Fcrim...</td>\n    </tr>\n    <tr>\n      <th>567</th>\n      <td>NaN</td>\n      <td>[2, 2, 2, -3, -3, 5]</td>\n      <td>Veni speciosam</td>\n      <td>Bassus</td>\n      <td>132</td>\n      <td>134</td>\n      <td>[1.0, 1.0, 1.0, 2.0, 2.0, 2.0, 16.0]</td>\n      <td>132-134/5/@4.5-end,@start-end,@start-1.0</td>\n      <td>https://ema.crimproject.org/https%3A%2F%2Fcrim...</td>\n    </tr>\n  </tbody>\n</table>\n<p>568 rows × 9 columns</p>\n</div>"
     },
     "metadata": {},
     "execution_count": 700
    }
   ],
   "source": [
    "exact_matches = find_exact_matches(patterns, 1)\n",
    "# Use this for exact screen preview\n",
    "#for item in exact_matches:\n",
    "    #item.print_exact_matches()\n",
    "\n",
    "output_exact = export_pandas(exact_matches)\n",
    "pd.DataFrame(output_exact).head()\n",
    "output_exact[\"pattern_generating_match\"] = output_exact[\"pattern_generating_match\"].apply(tuple)\n",
    "\n",
    "results_ex = pd.DataFrame(output_exact)\n",
    "results_ex[\"pattern_generating_match\"] = results[\"pattern_generating_match\"].apply(tuple)\n",
    "results_ex\n",
    "#export_to_csv(exact_matches)"
   ]
  },
  {
   "source": [
    "### A Quick Overview of the Results"
   ],
   "cell_type": "markdown",
   "metadata": {}
  },
  {
   "cell_type": "code",
   "execution_count": 701,
   "metadata": {},
   "outputs": [
    {
     "output_type": "execute_result",
     "data": {
      "text/plain": [
       "'There are 25 unique soggetti and 568 total matches in this search'"
      ]
     },
     "metadata": {},
     "execution_count": 701
    }
   ],
   "source": [
    "total_matches = len(output_exact)\n",
    "unique_sogetti = output_exact.pattern_generating_match.apply(str).nunique()\n",
    "summary = 'There are {} unique soggetti and {} total matches in this search'.format(unique_sogetti, total_matches)\n",
    "summary"
   ]
  },
  {
   "cell_type": "markdown",
   "metadata": {},
   "source": [
    "### Group by the Pattern Generating Match and Check Distribution of Results\n",
    "\n",
    "- Report Top Ten and Bottom Ten Results)"
   ]
  },
  {
   "cell_type": "code",
   "execution_count": 554,
   "metadata": {},
   "outputs": [
    {
     "output_type": "execute_result",
     "data": {
      "text/plain": [
       "                          0\n",
       "pattern_generating_match   \n",
       "(1, 1, -2, -2, -2, 2)     4\n",
       "(2, 2, -3, 2, -2, -2)     4\n",
       "(1, 1, 3, 1, 2, -4)       4\n",
       "(2, -3, 2, -2, -2, -2)    4\n",
       "(2, -2, -2, -2, 2, -2)    4\n",
       "(-3, 2, -2, -2, -2, 2)    4\n",
       "(2, 2, 2, -3, 2, -2)      4\n",
       "(2, 2, 2, -2, -2, -2)     4\n",
       "(2, -2, -2, 2, 2, 2)      3\n",
       "(-2, -2, 2, -2, -2, 2)    3"
      ],
      "text/html": "<div>\n<style scoped>\n    .dataframe tbody tr th:only-of-type {\n        vertical-align: middle;\n    }\n\n    .dataframe tbody tr th {\n        vertical-align: top;\n    }\n\n    .dataframe thead th {\n        text-align: right;\n    }\n</style>\n<table border=\"1\" class=\"dataframe\">\n  <thead>\n    <tr style=\"text-align: right;\">\n      <th></th>\n      <th>0</th>\n    </tr>\n    <tr>\n      <th>pattern_generating_match</th>\n      <th></th>\n    </tr>\n  </thead>\n  <tbody>\n    <tr>\n      <th>(1, 1, -2, -2, -2, 2)</th>\n      <td>4</td>\n    </tr>\n    <tr>\n      <th>(2, 2, -3, 2, -2, -2)</th>\n      <td>4</td>\n    </tr>\n    <tr>\n      <th>(1, 1, 3, 1, 2, -4)</th>\n      <td>4</td>\n    </tr>\n    <tr>\n      <th>(2, -3, 2, -2, -2, -2)</th>\n      <td>4</td>\n    </tr>\n    <tr>\n      <th>(2, -2, -2, -2, 2, -2)</th>\n      <td>4</td>\n    </tr>\n    <tr>\n      <th>(-3, 2, -2, -2, -2, 2)</th>\n      <td>4</td>\n    </tr>\n    <tr>\n      <th>(2, 2, 2, -3, 2, -2)</th>\n      <td>4</td>\n    </tr>\n    <tr>\n      <th>(2, 2, 2, -2, -2, -2)</th>\n      <td>4</td>\n    </tr>\n    <tr>\n      <th>(2, -2, -2, 2, 2, 2)</th>\n      <td>3</td>\n    </tr>\n    <tr>\n      <th>(-2, -2, 2, -2, -2, 2)</th>\n      <td>3</td>\n    </tr>\n  </tbody>\n</table>\n</div>"
     },
     "metadata": {},
     "execution_count": 554
    }
   ],
   "source": [
    "pattern_inventory = pd.DataFrame(output_exact.groupby(\"pattern_generating_match\").size().sort_values(ascending=False)[:10])\n",
    "pattern_inventory"
   ]
  },
  {
   "cell_type": "code",
   "execution_count": 602,
   "metadata": {},
   "outputs": [
    {
     "output_type": "execute_result",
     "data": {
      "text/plain": [
       "                          0\n",
       "pattern_generating_match   \n",
       "(-3, -2, -3, 2, 2, 2)     2\n",
       "(2, -3, -2, -3, 2, 2)     2\n",
       "(1, 2, 3, 1, -2, 2)       2\n",
       "(2, 2, 2, 2, 2, 3)        2\n",
       "(1, -3, 2, 2, 2, 2)       2\n",
       "(2, 2, 2, 2, 3, -2)       2\n",
       "(-3, 2, 2, 2, 2, -2)      2\n",
       "(-3, 2, 2, 2, 2, -3)      2\n",
       "(-2, -2, 2, 2, 2, -2)     3\n",
       "(-2, 2, -2, -2, 2, 2)     3"
      ],
      "text/html": "<div>\n<style scoped>\n    .dataframe tbody tr th:only-of-type {\n        vertical-align: middle;\n    }\n\n    .dataframe tbody tr th {\n        vertical-align: top;\n    }\n\n    .dataframe thead th {\n        text-align: right;\n    }\n</style>\n<table border=\"1\" class=\"dataframe\">\n  <thead>\n    <tr style=\"text-align: right;\">\n      <th></th>\n      <th>0</th>\n    </tr>\n    <tr>\n      <th>pattern_generating_match</th>\n      <th></th>\n    </tr>\n  </thead>\n  <tbody>\n    <tr>\n      <th>(-3, -2, -3, 2, 2, 2)</th>\n      <td>2</td>\n    </tr>\n    <tr>\n      <th>(2, -3, -2, -3, 2, 2)</th>\n      <td>2</td>\n    </tr>\n    <tr>\n      <th>(1, 2, 3, 1, -2, 2)</th>\n      <td>2</td>\n    </tr>\n    <tr>\n      <th>(2, 2, 2, 2, 2, 3)</th>\n      <td>2</td>\n    </tr>\n    <tr>\n      <th>(1, -3, 2, 2, 2, 2)</th>\n      <td>2</td>\n    </tr>\n    <tr>\n      <th>(2, 2, 2, 2, 3, -2)</th>\n      <td>2</td>\n    </tr>\n    <tr>\n      <th>(-3, 2, 2, 2, 2, -2)</th>\n      <td>2</td>\n    </tr>\n    <tr>\n      <th>(-3, 2, 2, 2, 2, -3)</th>\n      <td>2</td>\n    </tr>\n    <tr>\n      <th>(-2, -2, 2, 2, 2, -2)</th>\n      <td>3</td>\n    </tr>\n    <tr>\n      <th>(-2, 2, -2, -2, 2, 2)</th>\n      <td>3</td>\n    </tr>\n  </tbody>\n</table>\n</div>"
     },
     "metadata": {},
     "execution_count": 602
    }
   ],
   "source": [
    "pattern_inventory = pd.DataFrame(output_exact.groupby(\"pattern_generating_match\").size().sort_values(ascending=True)[:10])\n",
    "pattern_inventory"
   ]
  },
  {
   "cell_type": "code",
   "execution_count": 603,
   "metadata": {},
   "outputs": [
    {
     "output_type": "execute_result",
     "data": {
      "text/plain": [
       "                                                              0\n",
       "pattern_generating_match note_durations                        \n",
       "(-3, -2, -3, 2, 2, 2)    (1.0, 1.0, 1.0, 1.0, 1.0, 1.0, 1.0)  2\n",
       "(-3, 2, -2, -2, -2, 2)   (1.0, 1.0, 1.0, 4.0, 4.0, 2.0, 3.0)  1\n",
       "                         (2.0, 2.0, 2.0, 1.0, 1.0, 1.0, 1.0)  1\n",
       "                         (2.0, 2.0, 2.0, 2.0, 1.0, 1.0, 1.0)  1\n",
       "                         (2.0, 2.0, 2.0, 2.0, 1.0, 1.0, 2.0)  1"
      ],
      "text/html": "<div>\n<style scoped>\n    .dataframe tbody tr th:only-of-type {\n        vertical-align: middle;\n    }\n\n    .dataframe tbody tr th {\n        vertical-align: top;\n    }\n\n    .dataframe thead th {\n        text-align: right;\n    }\n</style>\n<table border=\"1\" class=\"dataframe\">\n  <thead>\n    <tr style=\"text-align: right;\">\n      <th></th>\n      <th></th>\n      <th>0</th>\n    </tr>\n    <tr>\n      <th>pattern_generating_match</th>\n      <th>note_durations</th>\n      <th></th>\n    </tr>\n  </thead>\n  <tbody>\n    <tr>\n      <th>(-3, -2, -3, 2, 2, 2)</th>\n      <th>(1.0, 1.0, 1.0, 1.0, 1.0, 1.0, 1.0)</th>\n      <td>2</td>\n    </tr>\n    <tr>\n      <th rowspan=\"4\" valign=\"top\">(-3, 2, -2, -2, -2, 2)</th>\n      <th>(1.0, 1.0, 1.0, 4.0, 4.0, 2.0, 3.0)</th>\n      <td>1</td>\n    </tr>\n    <tr>\n      <th>(2.0, 2.0, 2.0, 1.0, 1.0, 1.0, 1.0)</th>\n      <td>1</td>\n    </tr>\n    <tr>\n      <th>(2.0, 2.0, 2.0, 2.0, 1.0, 1.0, 1.0)</th>\n      <td>1</td>\n    </tr>\n    <tr>\n      <th>(2.0, 2.0, 2.0, 2.0, 1.0, 1.0, 2.0)</th>\n      <td>1</td>\n    </tr>\n  </tbody>\n</table>\n</div>"
     },
     "metadata": {},
     "execution_count": 603
    }
   ],
   "source": [
    "results_ex[\"note_durations\"] = results_ex[\"note_durations\"].apply(tuple)\n",
    "df2 = pd.DataFrame(results_ex.groupby([\"pattern_generating_match\", \"note_durations\"]).size())\n",
    "df2.head()"
   ]
  },
  {
   "cell_type": "markdown",
   "metadata": {},
   "source": [
    "***\n",
    "\n",
    "### Select Close Matches Here\n",
    "#### (Comment out the 'for item iteration' in order to skip screen preview)\n",
    "\n",
    "- **Close** matches allow for melodic variation (see more below). `find_close_matches(patterns, 2, 1)`\n",
    "- The **first number** in this command is the **minimum number of melodies** needed before reporting\n",
    "- The **second number** is **threshold of similarity** needed in order to find a match. \n",
    "- Lower number = very similar; higher number = less similar\n",
    "\n",
    "##### More about Close Matches  \n",
    "- The **threshold for close matches** is determined by the **second number** called in the method. \n",
    "- We select two patterns, then compare *each vector in each pattern successively*. \n",
    "- The *differences between each vector are summed*. \n",
    "- If that value is **below the threshold specified**, we consider the **two patterns closely matched**.\n",
    "- The format of the method call is  `find_close_matches(the array you get from into_patterns, minimum matches needed to be displayed, threshold for close match)`."
   ]
  },
  {
   "cell_type": "code",
   "execution_count": 702,
   "metadata": {
    "tags": []
   },
   "outputs": [
    {
     "output_type": "stream",
     "name": "stdout",
     "text": [
      "Finding close matches...\n",
      "294 melodic intervals had more than 2 exact or close matches.\n",
      "\n"
     ]
    },
    {
     "output_type": "execute_result",
     "data": {
      "text/plain": [
       "  pattern_generating_match        pattern_matched     piece_title      part  \\\n",
       "0    (5, -2, 2, 3, -2, -2)  [5, -2, 2, 3, -2, -2]  Veni speciosam  Superius   \n",
       "1    (5, -2, 2, 3, -2, -2)  [5, -2, 2, 3, -2, -2]  Veni speciosam  Superius   \n",
       "2    (5, -2, 2, 3, -2, -2)  [5, -2, 2, 3, -2, -2]  Veni speciosam  Superius   \n",
       "3    (5, -2, 2, 3, -2, -2)  [4, -2, 2, 3, -2, -2]  Veni speciosam  Superius   \n",
       "4    (5, -2, 2, 3, -2, -2)  [4, -2, 2, 3, -2, -2]  Veni speciosam  Superius   \n",
       "\n",
       "   start_measure  end_measure                       note_durations  \\\n",
       "0              1            3  [4.0, 6.0, 2.0, 2.0, 2.0, 2.0, 3.0]   \n",
       "1             10           12  [4.0, 6.0, 2.0, 2.0, 2.0, 4.0, 2.0]   \n",
       "2             31           33  [2.0, 6.0, 2.0, 2.0, 4.0, 2.0, 4.0]   \n",
       "3             35           37  [4.0, 4.0, 2.0, 2.0, 2.0, 3.0, 1.0]   \n",
       "4            125          126  [2.0, 4.0, 2.0, 2.0, 1.0, 1.0, 1.0]   \n",
       "\n",
       "                                      ema  \\\n",
       "0    1-3/1/@1.0-end,@start-end,@start-2.0   \n",
       "1  10-12/1/@1.0-end,@start-end,@start-3.0   \n",
       "2  31-33/1/@2.0-end,@start-end,@start-3.0   \n",
       "3  35-37/1/@2.0-end,@start-end,@start-2.5   \n",
       "4           125-126/1/@1.0-end,@start-3.0   \n",
       "\n",
       "                                             ema_url  \n",
       "0  https://ema.crimproject.org/https%3A%2F%2Fcrim...  \n",
       "1  https://ema.crimproject.org/https%3A%2F%2Fcrim...  \n",
       "2  https://ema.crimproject.org/https%3A%2F%2Fcrim...  \n",
       "3  https://ema.crimproject.org/https%3A%2F%2Fcrim...  \n",
       "4  https://ema.crimproject.org/https%3A%2F%2Fcrim...  "
      ],
      "text/html": "<div>\n<style scoped>\n    .dataframe tbody tr th:only-of-type {\n        vertical-align: middle;\n    }\n\n    .dataframe tbody tr th {\n        vertical-align: top;\n    }\n\n    .dataframe thead th {\n        text-align: right;\n    }\n</style>\n<table border=\"1\" class=\"dataframe\">\n  <thead>\n    <tr style=\"text-align: right;\">\n      <th></th>\n      <th>pattern_generating_match</th>\n      <th>pattern_matched</th>\n      <th>piece_title</th>\n      <th>part</th>\n      <th>start_measure</th>\n      <th>end_measure</th>\n      <th>note_durations</th>\n      <th>ema</th>\n      <th>ema_url</th>\n    </tr>\n  </thead>\n  <tbody>\n    <tr>\n      <th>0</th>\n      <td>(5, -2, 2, 3, -2, -2)</td>\n      <td>[5, -2, 2, 3, -2, -2]</td>\n      <td>Veni speciosam</td>\n      <td>Superius</td>\n      <td>1</td>\n      <td>3</td>\n      <td>[4.0, 6.0, 2.0, 2.0, 2.0, 2.0, 3.0]</td>\n      <td>1-3/1/@1.0-end,@start-end,@start-2.0</td>\n      <td>https://ema.crimproject.org/https%3A%2F%2Fcrim...</td>\n    </tr>\n    <tr>\n      <th>1</th>\n      <td>(5, -2, 2, 3, -2, -2)</td>\n      <td>[5, -2, 2, 3, -2, -2]</td>\n      <td>Veni speciosam</td>\n      <td>Superius</td>\n      <td>10</td>\n      <td>12</td>\n      <td>[4.0, 6.0, 2.0, 2.0, 2.0, 4.0, 2.0]</td>\n      <td>10-12/1/@1.0-end,@start-end,@start-3.0</td>\n      <td>https://ema.crimproject.org/https%3A%2F%2Fcrim...</td>\n    </tr>\n    <tr>\n      <th>2</th>\n      <td>(5, -2, 2, 3, -2, -2)</td>\n      <td>[5, -2, 2, 3, -2, -2]</td>\n      <td>Veni speciosam</td>\n      <td>Superius</td>\n      <td>31</td>\n      <td>33</td>\n      <td>[2.0, 6.0, 2.0, 2.0, 4.0, 2.0, 4.0]</td>\n      <td>31-33/1/@2.0-end,@start-end,@start-3.0</td>\n      <td>https://ema.crimproject.org/https%3A%2F%2Fcrim...</td>\n    </tr>\n    <tr>\n      <th>3</th>\n      <td>(5, -2, 2, 3, -2, -2)</td>\n      <td>[4, -2, 2, 3, -2, -2]</td>\n      <td>Veni speciosam</td>\n      <td>Superius</td>\n      <td>35</td>\n      <td>37</td>\n      <td>[4.0, 4.0, 2.0, 2.0, 2.0, 3.0, 1.0]</td>\n      <td>35-37/1/@2.0-end,@start-end,@start-2.5</td>\n      <td>https://ema.crimproject.org/https%3A%2F%2Fcrim...</td>\n    </tr>\n    <tr>\n      <th>4</th>\n      <td>(5, -2, 2, 3, -2, -2)</td>\n      <td>[4, -2, 2, 3, -2, -2]</td>\n      <td>Veni speciosam</td>\n      <td>Superius</td>\n      <td>125</td>\n      <td>126</td>\n      <td>[2.0, 4.0, 2.0, 2.0, 1.0, 1.0, 1.0]</td>\n      <td>125-126/1/@1.0-end,@start-3.0</td>\n      <td>https://ema.crimproject.org/https%3A%2F%2Fcrim...</td>\n    </tr>\n  </tbody>\n</table>\n</div>"
     },
     "metadata": {},
     "execution_count": 702
    }
   ],
   "source": [
    "close_matches = find_close_matches(patterns, 2, 1)\n",
    "#for item in close_matches:\n",
    "   #item.print_close_matches()\n",
    "    #return pd.DataFrame(close_matches)\n",
    "\n",
    "output_close = export_pandas(close_matches)\n",
    "output_close[\"pattern_generating_match\"] = output_close[\"pattern_generating_match\"].apply(tuple)\n",
    "\n",
    "results_cl = pd.DataFrame(output_close)\n",
    "results_cl[\"pattern_generating_match\"] = results_cl[\"pattern_generating_match\"].apply(tuple)\n",
    "results_cl.head()\n",
    "#export_to_csv(close_matches)"
   ]
  },
  {
   "source": [
    "### How Many Unique Soggetti?  How many instances?"
   ],
   "cell_type": "markdown",
   "metadata": {}
  },
  {
   "cell_type": "code",
   "execution_count": 703,
   "metadata": {},
   "outputs": [
    {
     "output_type": "execute_result",
     "data": {
      "text/plain": [
       "'There are 294 unique soggetti and 1895 total matches in this search'"
      ]
     },
     "metadata": {},
     "execution_count": 703
    }
   ],
   "source": [
    "total_matches = len(output_close)\n",
    "unique_sogetti = output_close.pattern_generating_match.apply(str).nunique()\n",
    "summary = 'There are {} unique soggetti and {} total matches in this search'.format(unique_sogetti, total_matches)\n",
    "summary"
   ]
  },
  {
   "cell_type": "markdown",
   "metadata": {},
   "source": [
    "### Top and Bottom Ten Soggetti\n",
    "\n",
    "\n"
   ]
  },
  {
   "cell_type": "code",
   "execution_count": 560,
   "metadata": {},
   "outputs": [
    {
     "output_type": "execute_result",
     "data": {
      "text/plain": [
       "                           0\n",
       "pattern_generating_match    \n",
       "(-2, -2, -3, 2, 2, 2)     26\n",
       "(3, -2, -2, -2, -2, -2)   23\n",
       "(-3, 2, 2, 2, -2, -2)     22\n",
       "(-2, -2, -2, 2, 2, 2)     22\n",
       "(-2, -3, 2, 2, 2, 2)      21\n",
       "(2, 2, 2, -2, -2, -2)     21\n",
       "(-2, 2, 2, 2, -2, -2)     21\n",
       "(2, 2, 2, -2, -2, -3)     20\n",
       "(-2, -2, -2, -3, 2, 2)    20\n",
       "(2, 2, 3, -2, -2, -2)     20"
      ],
      "text/html": "<div>\n<style scoped>\n    .dataframe tbody tr th:only-of-type {\n        vertical-align: middle;\n    }\n\n    .dataframe tbody tr th {\n        vertical-align: top;\n    }\n\n    .dataframe thead th {\n        text-align: right;\n    }\n</style>\n<table border=\"1\" class=\"dataframe\">\n  <thead>\n    <tr style=\"text-align: right;\">\n      <th></th>\n      <th>0</th>\n    </tr>\n    <tr>\n      <th>pattern_generating_match</th>\n      <th></th>\n    </tr>\n  </thead>\n  <tbody>\n    <tr>\n      <th>(-2, -2, -3, 2, 2, 2)</th>\n      <td>26</td>\n    </tr>\n    <tr>\n      <th>(3, -2, -2, -2, -2, -2)</th>\n      <td>23</td>\n    </tr>\n    <tr>\n      <th>(-3, 2, 2, 2, -2, -2)</th>\n      <td>22</td>\n    </tr>\n    <tr>\n      <th>(-2, -2, -2, 2, 2, 2)</th>\n      <td>22</td>\n    </tr>\n    <tr>\n      <th>(-2, -3, 2, 2, 2, 2)</th>\n      <td>21</td>\n    </tr>\n    <tr>\n      <th>(2, 2, 2, -2, -2, -2)</th>\n      <td>21</td>\n    </tr>\n    <tr>\n      <th>(-2, 2, 2, 2, -2, -2)</th>\n      <td>21</td>\n    </tr>\n    <tr>\n      <th>(2, 2, 2, -2, -2, -3)</th>\n      <td>20</td>\n    </tr>\n    <tr>\n      <th>(-2, -2, -2, -3, 2, 2)</th>\n      <td>20</td>\n    </tr>\n    <tr>\n      <th>(2, 2, 3, -2, -2, -2)</th>\n      <td>20</td>\n    </tr>\n  </tbody>\n</table>\n</div>"
     },
     "metadata": {},
     "execution_count": 560
    }
   ],
   "source": [
    "pattern_inventory = pd.DataFrame(output_close.groupby(\"pattern_generating_match\").size().sort_values(ascending=False)[:10])\n",
    "pattern_inventory"
   ]
  },
  {
   "cell_type": "code",
   "execution_count": 248,
   "metadata": {},
   "outputs": [
    {
     "output_type": "execute_result",
     "data": {
      "text/plain": [
       "                          0\n",
       "pattern_generating_match   \n",
       "(-5, 3, -2, 4, -2, -2)    3\n",
       "(1, -2, 3, -2, -2, -2)    3\n",
       "(1, -2, 2, 2, 2, 2)       3\n",
       "(1, -2, -2, 2, -2, -3)    3\n",
       "(1, -3, 2, 2, 3, -2)      3\n",
       "(1, -3, 2, 2, 2, -2)      3\n",
       "(1, -3, 2, 2, -3, -2)     3\n",
       "(1, -5, 3, -2, 4, -2)     3\n",
       "(-2, 3, -2, 2, 2, 2)      3\n",
       "(-2, 2, 2, 2, 2, -4)      3"
      ],
      "text/html": "<div>\n<style scoped>\n    .dataframe tbody tr th:only-of-type {\n        vertical-align: middle;\n    }\n\n    .dataframe tbody tr th {\n        vertical-align: top;\n    }\n\n    .dataframe thead th {\n        text-align: right;\n    }\n</style>\n<table border=\"1\" class=\"dataframe\">\n  <thead>\n    <tr style=\"text-align: right;\">\n      <th></th>\n      <th>0</th>\n    </tr>\n    <tr>\n      <th>pattern_generating_match</th>\n      <th></th>\n    </tr>\n  </thead>\n  <tbody>\n    <tr>\n      <th>(-5, 3, -2, 4, -2, -2)</th>\n      <td>3</td>\n    </tr>\n    <tr>\n      <th>(1, -2, 3, -2, -2, -2)</th>\n      <td>3</td>\n    </tr>\n    <tr>\n      <th>(1, -2, 2, 2, 2, 2)</th>\n      <td>3</td>\n    </tr>\n    <tr>\n      <th>(1, -2, -2, 2, -2, -3)</th>\n      <td>3</td>\n    </tr>\n    <tr>\n      <th>(1, -3, 2, 2, 3, -2)</th>\n      <td>3</td>\n    </tr>\n    <tr>\n      <th>(1, -3, 2, 2, 2, -2)</th>\n      <td>3</td>\n    </tr>\n    <tr>\n      <th>(1, -3, 2, 2, -3, -2)</th>\n      <td>3</td>\n    </tr>\n    <tr>\n      <th>(1, -5, 3, -2, 4, -2)</th>\n      <td>3</td>\n    </tr>\n    <tr>\n      <th>(-2, 3, -2, 2, 2, 2)</th>\n      <td>3</td>\n    </tr>\n    <tr>\n      <th>(-2, 2, 2, 2, 2, -4)</th>\n      <td>3</td>\n    </tr>\n  </tbody>\n</table>\n</div>"
     },
     "metadata": {},
     "execution_count": 248
    }
   ],
   "source": [
    "pattern_inventory = pd.DataFrame(output_close.groupby(\"pattern_generating_match\").size().sort_values(ascending=True)[:10])\n",
    "pattern_inventory\n"
   ]
  },
  {
   "cell_type": "code",
   "execution_count": null,
   "metadata": {},
   "outputs": [],
   "source": [
    "### Grouping the Melodic Matches (No Durational Filter)\n",
    "\n",
    "- This shows us the number each"
   ]
  },
  {
   "cell_type": "code",
   "execution_count": 499,
   "metadata": {},
   "outputs": [
    {
     "output_type": "execute_result",
     "data": {
      "text/plain": [
       "                                                              0\n",
       "pattern_generating_match note_durations                        \n",
       "(-3, 2, -2, -2, -2, 2)   (1.0, 1.0, 1.0, 1.0, 1.0, 1.0, 4.0)  4\n",
       "(-3, 2, 2, 2, 2, -3)     (2.0, 1.0, 1.0, 1.0, 1.0, 1.0, 1.0)  2\n",
       "                         (2.0, 1.0, 1.0, 1.0, 1.0, 3.0, 1.0)  1\n",
       "                         (2.0, 3.0, 1.0, 1.0, 1.0, 2.0, 2.0)  1\n",
       "(-3, 2, 2, 2, 2, -2)     (2.0, 1.0, 1.0, 1.0, 1.0, 1.0, 1.0)  2"
      ],
      "text/html": "<div>\n<style scoped>\n    .dataframe tbody tr th:only-of-type {\n        vertical-align: middle;\n    }\n\n    .dataframe tbody tr th {\n        vertical-align: top;\n    }\n\n    .dataframe thead th {\n        text-align: right;\n    }\n</style>\n<table border=\"1\" class=\"dataframe\">\n  <thead>\n    <tr style=\"text-align: right;\">\n      <th></th>\n      <th></th>\n      <th>0</th>\n    </tr>\n    <tr>\n      <th>pattern_generating_match</th>\n      <th>note_durations</th>\n      <th></th>\n    </tr>\n  </thead>\n  <tbody>\n    <tr>\n      <th>(-3, 2, -2, -2, -2, 2)</th>\n      <th>(1.0, 1.0, 1.0, 1.0, 1.0, 1.0, 4.0)</th>\n      <td>4</td>\n    </tr>\n    <tr>\n      <th rowspan=\"3\" valign=\"top\">(-3, 2, 2, 2, 2, -3)</th>\n      <th>(2.0, 1.0, 1.0, 1.0, 1.0, 1.0, 1.0)</th>\n      <td>2</td>\n    </tr>\n    <tr>\n      <th>(2.0, 1.0, 1.0, 1.0, 1.0, 3.0, 1.0)</th>\n      <td>1</td>\n    </tr>\n    <tr>\n      <th>(2.0, 3.0, 1.0, 1.0, 1.0, 2.0, 2.0)</th>\n      <td>1</td>\n    </tr>\n    <tr>\n      <th>(-3, 2, 2, 2, 2, -2)</th>\n      <th>(2.0, 1.0, 1.0, 1.0, 1.0, 1.0, 1.0)</th>\n      <td>2</td>\n    </tr>\n  </tbody>\n</table>\n</div>"
     },
     "metadata": {},
     "execution_count": 499
    }
   ],
   "source": [
    "results_cl[\"note_durations\"] = results_cl[\"note_durations\"].apply(tuple)\n",
    "df2 = pd.DataFrame(results_cl.groupby([\"pattern_generating_match\", \"note_durations\"]).size())\n",
    "df2.head()"
   ]
  },
  {
   "cell_type": "code",
   "execution_count": 251,
   "metadata": {},
   "outputs": [
    {
     "output_type": "execute_result",
     "data": {
      "text/plain": [
       "  pattern_generating_match        pattern_matched              piece_title  \\\n",
       "0    [-2, 2, 2, 2, -2, -2]  [-2, 2, 2, 2, -2, -2]  Quo abiit dilectus tuus   \n",
       "1    [-2, 2, 2, 2, -2, -2]  [-2, 2, 2, 2, -2, -2]  Quo abiit dilectus tuus   \n",
       "2    [-2, 2, 2, 2, -2, -2]  [-3, 2, 2, 2, -2, -2]  Quo abiit dilectus tuus   \n",
       "3    [-2, 2, 2, 2, -2, -2]  [-3, 2, 2, 2, -2, -2]  Quo abiit dilectus tuus   \n",
       "4    [-3, 2, 2, 2, -2, -2]  [-3, 2, 2, 2, -2, -2]  Quo abiit dilectus tuus   \n",
       "\n",
       "          part  start_measure  end_measure  \\\n",
       "0     Superior              1            3   \n",
       "1  Contratenor              3            5   \n",
       "2     Superior             88           90   \n",
       "3        Tenor             93           95   \n",
       "4     Superior             88           90   \n",
       "\n",
       "                        note_durations  \n",
       "0  [6.0, 2.0, 2.0, 2.0, 3.0, 0.5, 0.5]  \n",
       "1  [6.0, 2.0, 2.0, 2.0, 3.0, 0.5, 0.5]  \n",
       "2  [4.0, 2.0, 2.0, 2.0, 3.0, 1.0, 1.0]  \n",
       "3  [4.0, 2.0, 2.0, 2.0, 3.0, 0.5, 0.5]  \n",
       "4  [4.0, 2.0, 2.0, 2.0, 3.0, 1.0, 1.0]  "
      ],
      "text/html": "<div>\n<style scoped>\n    .dataframe tbody tr th:only-of-type {\n        vertical-align: middle;\n    }\n\n    .dataframe tbody tr th {\n        vertical-align: top;\n    }\n\n    .dataframe thead th {\n        text-align: right;\n    }\n</style>\n<table border=\"1\" class=\"dataframe\">\n  <thead>\n    <tr style=\"text-align: right;\">\n      <th></th>\n      <th>pattern_generating_match</th>\n      <th>pattern_matched</th>\n      <th>piece_title</th>\n      <th>part</th>\n      <th>start_measure</th>\n      <th>end_measure</th>\n      <th>note_durations</th>\n    </tr>\n  </thead>\n  <tbody>\n    <tr>\n      <th>0</th>\n      <td>[-2, 2, 2, 2, -2, -2]</td>\n      <td>[-2, 2, 2, 2, -2, -2]</td>\n      <td>Quo abiit dilectus tuus</td>\n      <td>Superior</td>\n      <td>1</td>\n      <td>3</td>\n      <td>[6.0, 2.0, 2.0, 2.0, 3.0, 0.5, 0.5]</td>\n    </tr>\n    <tr>\n      <th>1</th>\n      <td>[-2, 2, 2, 2, -2, -2]</td>\n      <td>[-2, 2, 2, 2, -2, -2]</td>\n      <td>Quo abiit dilectus tuus</td>\n      <td>Contratenor</td>\n      <td>3</td>\n      <td>5</td>\n      <td>[6.0, 2.0, 2.0, 2.0, 3.0, 0.5, 0.5]</td>\n    </tr>\n    <tr>\n      <th>2</th>\n      <td>[-2, 2, 2, 2, -2, -2]</td>\n      <td>[-3, 2, 2, 2, -2, -2]</td>\n      <td>Quo abiit dilectus tuus</td>\n      <td>Superior</td>\n      <td>88</td>\n      <td>90</td>\n      <td>[4.0, 2.0, 2.0, 2.0, 3.0, 1.0, 1.0]</td>\n    </tr>\n    <tr>\n      <th>3</th>\n      <td>[-2, 2, 2, 2, -2, -2]</td>\n      <td>[-3, 2, 2, 2, -2, -2]</td>\n      <td>Quo abiit dilectus tuus</td>\n      <td>Tenor</td>\n      <td>93</td>\n      <td>95</td>\n      <td>[4.0, 2.0, 2.0, 2.0, 3.0, 0.5, 0.5]</td>\n    </tr>\n    <tr>\n      <th>4</th>\n      <td>[-3, 2, 2, 2, -2, -2]</td>\n      <td>[-3, 2, 2, 2, -2, -2]</td>\n      <td>Quo abiit dilectus tuus</td>\n      <td>Superior</td>\n      <td>88</td>\n      <td>90</td>\n      <td>[4.0, 2.0, 2.0, 2.0, 3.0, 1.0, 1.0]</td>\n    </tr>\n  </tbody>\n</table>\n</div>"
     },
     "metadata": {},
     "execution_count": 251
    }
   ],
   "source": [
    "short_out = output_cm.drop(columns=[\"ema_url\", \"ema\"])\n",
    "short_out.head()"
   ]
  },
  {
   "cell_type": "markdown",
   "metadata": {},
   "source": [
    "# Durational Ratios\n",
    "\n",
    "#### This Function Calculates the Ratios of the Durations in each Match"
   ]
  },
  {
   "cell_type": "code",
   "execution_count": 475,
   "metadata": {},
   "outputs": [],
   "source": [
    "# makes pairs of ratio strings\n",
    "\n",
    "def pairwise(iterable):\n",
    "    \"s -> (s0,s1), (s1,s2), (s2, s3), ...\"\n",
    "    a, b = tee(iterable)\n",
    "    next(b, None)\n",
    "    return zip(a, b)\n",
    "\n",
    "def get_ratios(input_list):\n",
    "    ratio_pairs = []\n",
    "    for a, b in pairwise(input_list):\n",
    "        ratio_pairs.append(b / a)\n",
    "    return ratio_pairs\n",
    "\n",
    "\n"
   ]
  },
  {
   "cell_type": "markdown",
   "metadata": {},
   "source": [
    "#### Now call the function to operate on the RESULTS file from earlier"
   ]
  },
  {
   "cell_type": "code",
   "execution_count": 720,
   "metadata": {},
   "outputs": [
    {
     "output_type": "execute_result",
     "data": {
      "text/plain": [
       "     pattern_generating_match        pattern_matched     piece_title  \\\n",
       "0       (5, -2, 2, 3, -2, -2)  [5, -2, 2, 3, -2, -2]  Veni speciosam   \n",
       "1       (5, -2, 2, 3, -2, -2)  [5, -2, 2, 3, -2, -2]  Veni speciosam   \n",
       "2       (5, -2, 2, 3, -2, -2)  [5, -2, 2, 3, -2, -2]  Veni speciosam   \n",
       "3       (5, -2, 2, 3, -2, -2)  [4, -2, 2, 3, -2, -2]  Veni speciosam   \n",
       "4       (5, -2, 2, 3, -2, -2)  [4, -2, 2, 3, -2, -2]  Veni speciosam   \n",
       "...                       ...                    ...             ...   \n",
       "1890     (2, 2, 2, -2, -3, 2)   [2, 2, 2, -2, -2, 2]  Veni speciosam   \n",
       "1891     (2, 2, 2, -2, -3, 2)   [2, 2, 2, -2, -3, 2]  Veni speciosam   \n",
       "1892    (-2, 1, 2, -2, -3, 2)  [-3, 1, 2, -2, -3, 2]  Veni speciosam   \n",
       "1893    (-2, 1, 2, -2, -3, 2)  [-2, 2, 2, -2, -3, 2]  Veni speciosam   \n",
       "1894    (-2, 1, 2, -2, -3, 2)  [-2, 1, 2, -2, -3, 2]  Veni speciosam   \n",
       "\n",
       "               part  start_measure  end_measure  \\\n",
       "0          Superius              1            3   \n",
       "1          Superius             10           12   \n",
       "2          Superius             31           33   \n",
       "3          Superius             35           37   \n",
       "4          Superius            125          126   \n",
       "...             ...            ...          ...   \n",
       "1890         Bassus             10           11   \n",
       "1891         Bassus            110          111   \n",
       "1892    PrimusTenor            125          127   \n",
       "1893  SecundusTenor             37           38   \n",
       "1894         Bassus            121          125   \n",
       "\n",
       "                            note_durations  \\\n",
       "0      [4.0, 6.0, 2.0, 2.0, 2.0, 2.0, 3.0]   \n",
       "1      [4.0, 6.0, 2.0, 2.0, 2.0, 4.0, 2.0]   \n",
       "2      [2.0, 6.0, 2.0, 2.0, 4.0, 2.0, 4.0]   \n",
       "3      [4.0, 4.0, 2.0, 2.0, 2.0, 3.0, 1.0]   \n",
       "4      [2.0, 4.0, 2.0, 2.0, 1.0, 1.0, 1.0]   \n",
       "...                                    ...   \n",
       "1890   [1.0, 1.0, 1.0, 3.0, 0.5, 0.5, 2.0]   \n",
       "1891   [1.0, 1.0, 1.0, 3.0, 1.0, 2.0, 2.0]   \n",
       "1892   [2.0, 2.0, 4.0, 2.0, 1.0, 1.0, 2.0]   \n",
       "1893   [1.0, 1.0, 1.0, 3.0, 0.5, 0.5, 2.0]   \n",
       "1894  [4.0, 16.0, 4.0, 2.0, 4.0, 2.0, 2.0]   \n",
       "\n",
       "                                     duration_ratios  \n",
       "0      [1.5, 0.3333333333333333, 1.0, 1.0, 1.0, 1.5]  \n",
       "1      [1.5, 0.3333333333333333, 1.0, 1.0, 2.0, 0.5]  \n",
       "2      [3.0, 0.3333333333333333, 1.0, 2.0, 0.5, 2.0]  \n",
       "3      [1.0, 0.5, 1.0, 1.0, 1.5, 0.3333333333333333]  \n",
       "4                     [2.0, 0.5, 1.0, 0.5, 1.0, 1.0]  \n",
       "...                                              ...  \n",
       "1890  [1.0, 1.0, 3.0, 0.16666666666666666, 1.0, 4.0]  \n",
       "1891   [1.0, 1.0, 3.0, 0.3333333333333333, 2.0, 1.0]  \n",
       "1892                  [1.0, 2.0, 0.5, 0.5, 1.0, 2.0]  \n",
       "1893  [1.0, 1.0, 3.0, 0.16666666666666666, 1.0, 4.0]  \n",
       "1894                 [4.0, 0.25, 0.5, 2.0, 0.5, 1.0]  \n",
       "\n",
       "[1895 rows x 8 columns]"
      ],
      "text/html": "<div>\n<style scoped>\n    .dataframe tbody tr th:only-of-type {\n        vertical-align: middle;\n    }\n\n    .dataframe tbody tr th {\n        vertical-align: top;\n    }\n\n    .dataframe thead th {\n        text-align: right;\n    }\n</style>\n<table border=\"1\" class=\"dataframe\">\n  <thead>\n    <tr style=\"text-align: right;\">\n      <th></th>\n      <th>pattern_generating_match</th>\n      <th>pattern_matched</th>\n      <th>piece_title</th>\n      <th>part</th>\n      <th>start_measure</th>\n      <th>end_measure</th>\n      <th>note_durations</th>\n      <th>duration_ratios</th>\n    </tr>\n  </thead>\n  <tbody>\n    <tr>\n      <th>0</th>\n      <td>(5, -2, 2, 3, -2, -2)</td>\n      <td>[5, -2, 2, 3, -2, -2]</td>\n      <td>Veni speciosam</td>\n      <td>Superius</td>\n      <td>1</td>\n      <td>3</td>\n      <td>[4.0, 6.0, 2.0, 2.0, 2.0, 2.0, 3.0]</td>\n      <td>[1.5, 0.3333333333333333, 1.0, 1.0, 1.0, 1.5]</td>\n    </tr>\n    <tr>\n      <th>1</th>\n      <td>(5, -2, 2, 3, -2, -2)</td>\n      <td>[5, -2, 2, 3, -2, -2]</td>\n      <td>Veni speciosam</td>\n      <td>Superius</td>\n      <td>10</td>\n      <td>12</td>\n      <td>[4.0, 6.0, 2.0, 2.0, 2.0, 4.0, 2.0]</td>\n      <td>[1.5, 0.3333333333333333, 1.0, 1.0, 2.0, 0.5]</td>\n    </tr>\n    <tr>\n      <th>2</th>\n      <td>(5, -2, 2, 3, -2, -2)</td>\n      <td>[5, -2, 2, 3, -2, -2]</td>\n      <td>Veni speciosam</td>\n      <td>Superius</td>\n      <td>31</td>\n      <td>33</td>\n      <td>[2.0, 6.0, 2.0, 2.0, 4.0, 2.0, 4.0]</td>\n      <td>[3.0, 0.3333333333333333, 1.0, 2.0, 0.5, 2.0]</td>\n    </tr>\n    <tr>\n      <th>3</th>\n      <td>(5, -2, 2, 3, -2, -2)</td>\n      <td>[4, -2, 2, 3, -2, -2]</td>\n      <td>Veni speciosam</td>\n      <td>Superius</td>\n      <td>35</td>\n      <td>37</td>\n      <td>[4.0, 4.0, 2.0, 2.0, 2.0, 3.0, 1.0]</td>\n      <td>[1.0, 0.5, 1.0, 1.0, 1.5, 0.3333333333333333]</td>\n    </tr>\n    <tr>\n      <th>4</th>\n      <td>(5, -2, 2, 3, -2, -2)</td>\n      <td>[4, -2, 2, 3, -2, -2]</td>\n      <td>Veni speciosam</td>\n      <td>Superius</td>\n      <td>125</td>\n      <td>126</td>\n      <td>[2.0, 4.0, 2.0, 2.0, 1.0, 1.0, 1.0]</td>\n      <td>[2.0, 0.5, 1.0, 0.5, 1.0, 1.0]</td>\n    </tr>\n    <tr>\n      <th>...</th>\n      <td>...</td>\n      <td>...</td>\n      <td>...</td>\n      <td>...</td>\n      <td>...</td>\n      <td>...</td>\n      <td>...</td>\n      <td>...</td>\n    </tr>\n    <tr>\n      <th>1890</th>\n      <td>(2, 2, 2, -2, -3, 2)</td>\n      <td>[2, 2, 2, -2, -2, 2]</td>\n      <td>Veni speciosam</td>\n      <td>Bassus</td>\n      <td>10</td>\n      <td>11</td>\n      <td>[1.0, 1.0, 1.0, 3.0, 0.5, 0.5, 2.0]</td>\n      <td>[1.0, 1.0, 3.0, 0.16666666666666666, 1.0, 4.0]</td>\n    </tr>\n    <tr>\n      <th>1891</th>\n      <td>(2, 2, 2, -2, -3, 2)</td>\n      <td>[2, 2, 2, -2, -3, 2]</td>\n      <td>Veni speciosam</td>\n      <td>Bassus</td>\n      <td>110</td>\n      <td>111</td>\n      <td>[1.0, 1.0, 1.0, 3.0, 1.0, 2.0, 2.0]</td>\n      <td>[1.0, 1.0, 3.0, 0.3333333333333333, 2.0, 1.0]</td>\n    </tr>\n    <tr>\n      <th>1892</th>\n      <td>(-2, 1, 2, -2, -3, 2)</td>\n      <td>[-3, 1, 2, -2, -3, 2]</td>\n      <td>Veni speciosam</td>\n      <td>PrimusTenor</td>\n      <td>125</td>\n      <td>127</td>\n      <td>[2.0, 2.0, 4.0, 2.0, 1.0, 1.0, 2.0]</td>\n      <td>[1.0, 2.0, 0.5, 0.5, 1.0, 2.0]</td>\n    </tr>\n    <tr>\n      <th>1893</th>\n      <td>(-2, 1, 2, -2, -3, 2)</td>\n      <td>[-2, 2, 2, -2, -3, 2]</td>\n      <td>Veni speciosam</td>\n      <td>SecundusTenor</td>\n      <td>37</td>\n      <td>38</td>\n      <td>[1.0, 1.0, 1.0, 3.0, 0.5, 0.5, 2.0]</td>\n      <td>[1.0, 1.0, 3.0, 0.16666666666666666, 1.0, 4.0]</td>\n    </tr>\n    <tr>\n      <th>1894</th>\n      <td>(-2, 1, 2, -2, -3, 2)</td>\n      <td>[-2, 1, 2, -2, -3, 2]</td>\n      <td>Veni speciosam</td>\n      <td>Bassus</td>\n      <td>121</td>\n      <td>125</td>\n      <td>[4.0, 16.0, 4.0, 2.0, 4.0, 2.0, 2.0]</td>\n      <td>[4.0, 0.25, 0.5, 2.0, 0.5, 1.0]</td>\n    </tr>\n  </tbody>\n</table>\n<p>1895 rows × 8 columns</p>\n</div>"
     },
     "metadata": {},
     "execution_count": 720
    }
   ],
   "source": [
    "# calculates 'duration ratios' for each soggetto, then adds this to the DF\n",
    "# use results_ex or results_cl\n",
    "\n",
    "results_cl[\"duration_ratios\"] = results_cl.note_durations.apply(get_ratios)\n",
    "short_results = results_cl.drop(columns=[\"ema_url\", \"ema\"])\n",
    "short_results"
   ]
  },
  {
   "cell_type": "code",
   "execution_count": 722,
   "metadata": {},
   "outputs": [
    {
     "output_type": "execute_result",
     "data": {
      "text/plain": [
       "                                                                                                             0\n",
       "pattern_generating_match note_durations                      duration_ratios                                  \n",
       "(-5, 2, 2, 2, 2, -3)     (2.0, 1.0, 1.0, 1.0, 1.0, 2.0, 2.0) (0.5, 1.0, 1.0, 1.0, 2.0, 1.0)                  1\n",
       "                         (2.0, 1.0, 1.0, 1.0, 1.0, 3.0, 1.0) (0.5, 1.0, 1.0, 1.0, 3.0, 0.3333333333333333)   1\n",
       "                         (4.0, 3.0, 1.0, 1.0, 1.0, 2.0, 2.0) (0.75, 0.3333333333333333, 1.0, 1.0, 2.0, 1.0)  1\n",
       "(-5, 2, 2, 2, 2, 2)      (2.0, 1.0, 1.0, 1.0, 1.0, 1.0, 1.0) (0.5, 1.0, 1.0, 1.0, 1.0, 1.0)                  3\n",
       "(-4, 2, 2, -3, 2, -2)    (2.0, 1.0, 1.0, 1.0, 1.0, 2.0, 1.0) (0.5, 1.0, 1.0, 1.0, 2.0, 0.5)                  1"
      ],
      "text/html": "<div>\n<style scoped>\n    .dataframe tbody tr th:only-of-type {\n        vertical-align: middle;\n    }\n\n    .dataframe tbody tr th {\n        vertical-align: top;\n    }\n\n    .dataframe thead th {\n        text-align: right;\n    }\n</style>\n<table border=\"1\" class=\"dataframe\">\n  <thead>\n    <tr style=\"text-align: right;\">\n      <th></th>\n      <th></th>\n      <th></th>\n      <th>0</th>\n    </tr>\n    <tr>\n      <th>pattern_generating_match</th>\n      <th>note_durations</th>\n      <th>duration_ratios</th>\n      <th></th>\n    </tr>\n  </thead>\n  <tbody>\n    <tr>\n      <th rowspan=\"3\" valign=\"top\">(-5, 2, 2, 2, 2, -3)</th>\n      <th>(2.0, 1.0, 1.0, 1.0, 1.0, 2.0, 2.0)</th>\n      <th>(0.5, 1.0, 1.0, 1.0, 2.0, 1.0)</th>\n      <td>1</td>\n    </tr>\n    <tr>\n      <th>(2.0, 1.0, 1.0, 1.0, 1.0, 3.0, 1.0)</th>\n      <th>(0.5, 1.0, 1.0, 1.0, 3.0, 0.3333333333333333)</th>\n      <td>1</td>\n    </tr>\n    <tr>\n      <th>(4.0, 3.0, 1.0, 1.0, 1.0, 2.0, 2.0)</th>\n      <th>(0.75, 0.3333333333333333, 1.0, 1.0, 2.0, 1.0)</th>\n      <td>1</td>\n    </tr>\n    <tr>\n      <th>(-5, 2, 2, 2, 2, 2)</th>\n      <th>(2.0, 1.0, 1.0, 1.0, 1.0, 1.0, 1.0)</th>\n      <th>(0.5, 1.0, 1.0, 1.0, 1.0, 1.0)</th>\n      <td>3</td>\n    </tr>\n    <tr>\n      <th>(-4, 2, 2, -3, 2, -2)</th>\n      <th>(2.0, 1.0, 1.0, 1.0, 1.0, 2.0, 1.0)</th>\n      <th>(0.5, 1.0, 1.0, 1.0, 2.0, 0.5)</th>\n      <td>1</td>\n    </tr>\n  </tbody>\n</table>\n</div>"
     },
     "metadata": {},
     "execution_count": 722
    }
   ],
   "source": [
    "results_cl[\"note_durations\"] = results_cl[\"note_durations\"].apply(tuple)\n",
    "results_cl[\"duration_ratios\"] = results_cl[\"duration_ratios\"].apply(tuple)\n",
    "df3 = pd.DataFrame(results_cl.groupby([\"pattern_generating_match\", \"note_durations\", \"duration_ratios\"]).size())\n",
    "\n",
    "df3.head()"
   ]
  },
  {
   "cell_type": "markdown",
   "metadata": {},
   "source": [
    "## Group by the Pattern Generating Match\n",
    "- Each has its own string of durations, and duration ratios\n",
    "- and then we compare the ratios to get the differences\n",
    "- the \"list(combinations)\" method takes care of building the pairs, using data from our dataframe 'results'"
   ]
  },
  {
   "cell_type": "code",
   "execution_count": 723,
   "metadata": {},
   "outputs": [],
   "source": [
    "def compare_ratios(ratios_1, ratios_2):\n",
    "    \n",
    "    ## division of lists \n",
    "    # using zip() + list comprehension \n",
    "    diffs = [i - j for i, j in zip(ratios_1, ratios_2)] \n",
    "    abs_diffs = [abs(ele) for ele in diffs] \n",
    "    sum_diffs = sum(abs_diffs)\n",
    "\n",
    "    return sum_diffs\n",
    "\n",
    "#results[\"Pattern_Generating_Match\"] = results[\"Pattern_Generating_Match\"].apply(tuple) \n",
    "\n",
    "def get_ratio_distances(results_cl, pattern_col, output_cols):\n",
    "    \n",
    "    matches = []\n",
    "\n",
    "    for name, group in results_cl.groupby(pattern_col):\n",
    "\n",
    "        ratio_pairs = list(combinations(group.index.values, 2))\n",
    "\n",
    "        for a, b in ratio_pairs:\n",
    "            \n",
    "            a_match = results_cl.loc[a]\n",
    "            b_match = results_cl.loc[b]\n",
    "            \n",
    "            sum_diffs = compare_ratios(a_match.duration_ratios, b_match.duration_ratios)\n",
    "            \n",
    "            match_dict = {\n",
    "                \"pattern\": name,\n",
    "                \"sum_diffs\": sum_diffs\n",
    "            }\n",
    "            \n",
    "            for col in output_cols:\n",
    "                match_dict.update({\n",
    "                    f\"match_1_{col}\": a_match[col],\n",
    "                    f\"match_2_{col}\": b_match[col]\n",
    "                })\n",
    "                \n",
    "            matches.append(match_dict)\n",
    "            \n",
    "    return pd.DataFrame(matches)"
   ]
  },
  {
   "cell_type": "markdown",
   "metadata": {},
   "source": [
    "### Now Run the Function to get the 'edit distances' for the durations of matching patterns"
   ]
  },
  {
   "cell_type": "code",
   "execution_count": 724,
   "metadata": {},
   "outputs": [
    {
     "output_type": "execute_result",
     "data": {
      "text/plain": [
       "                    pattern  sum_diffs match_1_piece_title  \\\n",
       "0      (-5, 2, 2, 2, 2, -3)   1.666667      Veni speciosam   \n",
       "1      (-5, 2, 2, 2, 2, -3)   2.583333      Veni speciosam   \n",
       "2      (-5, 2, 2, 2, 2, -3)   0.916667      Veni speciosam   \n",
       "3       (-5, 2, 2, 2, 2, 2)   0.000000      Veni speciosam   \n",
       "4       (-5, 2, 2, 2, 2, 2)   0.000000      Veni speciosam   \n",
       "...                     ...        ...                 ...   \n",
       "7627  (5, 1, -2, 2, -2, -2)   1.750000      Veni speciosam   \n",
       "7628  (5, 1, -2, 2, -2, -2)   4.000000      Veni speciosam   \n",
       "7629  (5, 1, -2, 2, -2, -2)   0.000000      Veni speciosam   \n",
       "7630  (5, 1, -2, 2, -2, -2)   3.750000      Veni speciosam   \n",
       "7631  (5, 1, -2, 2, -2, -2)   3.750000      Veni speciosam   \n",
       "\n",
       "     match_2_piece_title   match_1_part   match_2_part  match_1_start_measure  \\\n",
       "0         Veni speciosam    Contratenor         Bassus                    130   \n",
       "1         Veni speciosam    Contratenor         Bassus                    130   \n",
       "2         Veni speciosam         Bassus         Bassus                     82   \n",
       "3         Veni speciosam    Contratenor  SecundusTenor                     52   \n",
       "4         Veni speciosam    Contratenor         Bassus                     52   \n",
       "...                  ...            ...            ...                    ...   \n",
       "7627      Veni speciosam  SecundusTenor         Bassus                     64   \n",
       "7628      Veni speciosam  SecundusTenor         Bassus                     64   \n",
       "7629      Veni speciosam         Bassus         Bassus                     58   \n",
       "7630      Veni speciosam         Bassus         Bassus                     58   \n",
       "7631      Veni speciosam         Bassus         Bassus                     62   \n",
       "\n",
       "      match_2_start_measure  match_1_end_measure  match_2_end_measure  \n",
       "0                        82                  131                   83  \n",
       "1                       132                  131                  133  \n",
       "2                       132                   83                  133  \n",
       "3                       107                   53                  108  \n",
       "4                        33                   53                   34  \n",
       "...                     ...                  ...                  ...  \n",
       "7627                     62                   66                   64  \n",
       "7628                     65                   66                   67  \n",
       "7629                     62                   60                   64  \n",
       "7630                     65                   60                   67  \n",
       "7631                     65                   64                   67  \n",
       "\n",
       "[7632 rows x 10 columns]"
      ],
      "text/html": "<div>\n<style scoped>\n    .dataframe tbody tr th:only-of-type {\n        vertical-align: middle;\n    }\n\n    .dataframe tbody tr th {\n        vertical-align: top;\n    }\n\n    .dataframe thead th {\n        text-align: right;\n    }\n</style>\n<table border=\"1\" class=\"dataframe\">\n  <thead>\n    <tr style=\"text-align: right;\">\n      <th></th>\n      <th>pattern</th>\n      <th>sum_diffs</th>\n      <th>match_1_piece_title</th>\n      <th>match_2_piece_title</th>\n      <th>match_1_part</th>\n      <th>match_2_part</th>\n      <th>match_1_start_measure</th>\n      <th>match_2_start_measure</th>\n      <th>match_1_end_measure</th>\n      <th>match_2_end_measure</th>\n    </tr>\n  </thead>\n  <tbody>\n    <tr>\n      <th>0</th>\n      <td>(-5, 2, 2, 2, 2, -3)</td>\n      <td>1.666667</td>\n      <td>Veni speciosam</td>\n      <td>Veni speciosam</td>\n      <td>Contratenor</td>\n      <td>Bassus</td>\n      <td>130</td>\n      <td>82</td>\n      <td>131</td>\n      <td>83</td>\n    </tr>\n    <tr>\n      <th>1</th>\n      <td>(-5, 2, 2, 2, 2, -3)</td>\n      <td>2.583333</td>\n      <td>Veni speciosam</td>\n      <td>Veni speciosam</td>\n      <td>Contratenor</td>\n      <td>Bassus</td>\n      <td>130</td>\n      <td>132</td>\n      <td>131</td>\n      <td>133</td>\n    </tr>\n    <tr>\n      <th>2</th>\n      <td>(-5, 2, 2, 2, 2, -3)</td>\n      <td>0.916667</td>\n      <td>Veni speciosam</td>\n      <td>Veni speciosam</td>\n      <td>Bassus</td>\n      <td>Bassus</td>\n      <td>82</td>\n      <td>132</td>\n      <td>83</td>\n      <td>133</td>\n    </tr>\n    <tr>\n      <th>3</th>\n      <td>(-5, 2, 2, 2, 2, 2)</td>\n      <td>0.000000</td>\n      <td>Veni speciosam</td>\n      <td>Veni speciosam</td>\n      <td>Contratenor</td>\n      <td>SecundusTenor</td>\n      <td>52</td>\n      <td>107</td>\n      <td>53</td>\n      <td>108</td>\n    </tr>\n    <tr>\n      <th>4</th>\n      <td>(-5, 2, 2, 2, 2, 2)</td>\n      <td>0.000000</td>\n      <td>Veni speciosam</td>\n      <td>Veni speciosam</td>\n      <td>Contratenor</td>\n      <td>Bassus</td>\n      <td>52</td>\n      <td>33</td>\n      <td>53</td>\n      <td>34</td>\n    </tr>\n    <tr>\n      <th>...</th>\n      <td>...</td>\n      <td>...</td>\n      <td>...</td>\n      <td>...</td>\n      <td>...</td>\n      <td>...</td>\n      <td>...</td>\n      <td>...</td>\n      <td>...</td>\n      <td>...</td>\n    </tr>\n    <tr>\n      <th>7627</th>\n      <td>(5, 1, -2, 2, -2, -2)</td>\n      <td>1.750000</td>\n      <td>Veni speciosam</td>\n      <td>Veni speciosam</td>\n      <td>SecundusTenor</td>\n      <td>Bassus</td>\n      <td>64</td>\n      <td>62</td>\n      <td>66</td>\n      <td>64</td>\n    </tr>\n    <tr>\n      <th>7628</th>\n      <td>(5, 1, -2, 2, -2, -2)</td>\n      <td>4.000000</td>\n      <td>Veni speciosam</td>\n      <td>Veni speciosam</td>\n      <td>SecundusTenor</td>\n      <td>Bassus</td>\n      <td>64</td>\n      <td>65</td>\n      <td>66</td>\n      <td>67</td>\n    </tr>\n    <tr>\n      <th>7629</th>\n      <td>(5, 1, -2, 2, -2, -2)</td>\n      <td>0.000000</td>\n      <td>Veni speciosam</td>\n      <td>Veni speciosam</td>\n      <td>Bassus</td>\n      <td>Bassus</td>\n      <td>58</td>\n      <td>62</td>\n      <td>60</td>\n      <td>64</td>\n    </tr>\n    <tr>\n      <th>7630</th>\n      <td>(5, 1, -2, 2, -2, -2)</td>\n      <td>3.750000</td>\n      <td>Veni speciosam</td>\n      <td>Veni speciosam</td>\n      <td>Bassus</td>\n      <td>Bassus</td>\n      <td>58</td>\n      <td>65</td>\n      <td>60</td>\n      <td>67</td>\n    </tr>\n    <tr>\n      <th>7631</th>\n      <td>(5, 1, -2, 2, -2, -2)</td>\n      <td>3.750000</td>\n      <td>Veni speciosam</td>\n      <td>Veni speciosam</td>\n      <td>Bassus</td>\n      <td>Bassus</td>\n      <td>62</td>\n      <td>65</td>\n      <td>64</td>\n      <td>67</td>\n    </tr>\n  </tbody>\n</table>\n<p>7632 rows × 10 columns</p>\n</div>"
     },
     "metadata": {},
     "execution_count": 724
    }
   ],
   "source": [
    "ratio_distances = get_ratio_distances(results_cl, \"pattern_generating_match\", [\"piece_title\", \"part\", \"start_measure\", \"end_measure\"])\n",
    "ratio_distances"
   ]
  },
  {
   "cell_type": "markdown",
   "metadata": {},
   "source": [
    "### And FILTER the results according to any threshold we like"
   ]
  },
  {
   "cell_type": "code",
   "execution_count": 715,
   "metadata": {},
   "outputs": [
    {
     "output_type": "execute_result",
     "data": {
      "text/plain": [
       "pattern                  10\n",
       "sum_diffs                10\n",
       "match_1_piece_title      10\n",
       "match_2_piece_title      10\n",
       "match_1_part             10\n",
       "match_2_part             10\n",
       "match_1_start_measure    10\n",
       "match_2_start_measure    10\n",
       "match_1_end_measure      10\n",
       "match_2_end_measure      10\n",
       "dtype: int64"
      ]
     },
     "metadata": {},
     "execution_count": 715
    }
   ],
   "source": [
    "ratios_filtered = ratio_distances[ratio_distances.sum_diffs <= 0]\n",
    "ratios_filtered.count()"
   ]
  },
  {
   "cell_type": "markdown",
   "metadata": {},
   "source": [
    "### Now Group the Duration-Filter Results by the Pattern (which shows us very closely related soggetti in sets)"
   ]
  },
  {
   "cell_type": "code",
   "execution_count": 681,
   "metadata": {},
   "outputs": [
    {
     "output_type": "execute_result",
     "data": {
      "text/plain": [
       "4"
      ]
     },
     "metadata": {},
     "execution_count": 681
    }
   ],
   "source": [
    "grouped = ratios_filtered.groupby(\"pattern\")\n",
    "len(grouped['pattern'].nunique())"
   ]
  },
  {
   "source": [
    "### Greedy Soggetti\n",
    "* Groups by voice part\n",
    "* Gets one voice, then creates shifted cols to contain current+previous intervals and durations\n",
    "* slices each tuple: removes first from previous match and last from current match\n",
    "* if these are identical, then we can merge the two soggetti"
   ],
   "cell_type": "markdown",
   "metadata": {}
  },
  {
   "cell_type": "code",
   "execution_count": 725,
   "metadata": {},
   "outputs": [],
   "source": [
    "# function to group by piece and part, then add shfted columns to accept Greedy Data\n",
    "\n",
    "def add_shifted_cols(df: pd.DataFrame,\n",
    "                    group_cols: list,\n",
    "                    shift_cols: list,\n",
    "                    shift_periods=-1,\n",
    "                    shifted_prefix=\"next\"\n",
    "                    ) -> pd.DataFrame:\n",
    "    \n",
    "    \n",
    "    df = df.copy()\n",
    "\n",
    "    df_shifted = df.groupby(group_cols).shift(shift_periods)\n",
    "\n",
    "    df[[ f\"{shifted_prefix}_{c}\" for c in shift_cols]] = df_shifted[shift_cols]\n",
    "\n",
    "    return df"
   ]
  },
  {
   "cell_type": "code",
   "execution_count": 726,
   "metadata": {},
   "outputs": [],
   "source": [
    "# Sequence here helps us deal with tuples in the data, slicing as needed the various lists of vectors and durations\n",
    "\n",
    "from typing import Sequence\n",
    "\n",
    "def add_subsequence_cols(df: pd.DataFrame, this_sequence_cols: Sequence, next_sequence_cols: Sequence) -> pd.DataFrame:\n",
    "\n",
    "    df = df.copy()\n",
    "\n",
    "    for col in this_sequence_cols:\n",
    "            df[f\"{col}_short\"] = df[col].dropna().apply(lambda x: x[1:]) \n",
    "    \n",
    "    for col in next_sequence_cols:\n",
    "            df[f\"{col}_short\"] = df[col].dropna().apply(lambda x: x[:-1])\n",
    "          \n",
    "\n",
    "    return df\n",
    "\n"
   ]
  },
  {
   "cell_type": "code",
   "execution_count": 727,
   "metadata": {},
   "outputs": [],
   "source": [
    "# here we call the function to add the cols\n",
    "\n",
    "df_shifted = add_shifted_cols(results_cl,\n",
    "                    group_cols=[\"piece_title\", \"part\"],\n",
    "                    shift_cols=[\"start_measure\", \"end_measure\", \"note_durations\", \"pattern_matched\"])\n",
    "\n",
    "# df_brief = df_shifted.sort_values(\"start_measure\").drop(columns=[\"ema\", \"ema_url\", \"pattern_generating_match\"])\n"
   ]
  },
  {
   "cell_type": "code",
   "execution_count": 728,
   "metadata": {},
   "outputs": [
    {
     "output_type": "execute_result",
     "data": {
      "text/plain": [
       "pattern_matched               1895\n",
       "piece_title                   1895\n",
       "part                          1895\n",
       "start_measure                 1895\n",
       "end_measure                   1895\n",
       "next_start_measure            1890\n",
       "next_end_measure              1890\n",
       "next_pattern_matched          1890\n",
       "pattern_matched_short         1895\n",
       "note_durations_short          1895\n",
       "next_pattern_matched_short    1890\n",
       "next_note_durations_short     1890\n",
       "dtype: int64"
      ]
     },
     "metadata": {},
     "execution_count": 728
    }
   ],
   "source": [
    "# And here we call the function to slice and enter the data\n",
    "\n",
    "df_shifted_data = add_subsequence_cols(df_shifted, \n",
    "    this_sequence_cols=[\"pattern_matched\", \"note_durations\"], \n",
    "    next_sequence_cols=[\"next_pattern_matched\", \"next_note_durations\"]\n",
    "    )\n",
    "df_brief = df_shifted_data.drop(columns=[\"ema\", \"ema_url\", \"pattern_generating_match\", \"duration_ratios\", \"note_durations\", \"next_note_durations\"])\n",
    "df_brief.count()"
   ]
  },
  {
   "cell_type": "code",
   "execution_count": 729,
   "metadata": {},
   "outputs": [
    {
     "output_type": "execute_result",
     "data": {
      "text/plain": [
       "pattern_matched               155\n",
       "piece_title                   155\n",
       "part                          155\n",
       "start_measure                 155\n",
       "end_measure                   155\n",
       "next_start_measure            155\n",
       "next_end_measure              155\n",
       "next_pattern_matched          155\n",
       "pattern_matched_short         155\n",
       "note_durations_short          155\n",
       "next_pattern_matched_short    155\n",
       "next_note_durations_short     155\n",
       "dtype: int64"
      ]
     },
     "metadata": {},
     "execution_count": 729
    }
   ],
   "source": [
    "# Now filter prevoious results to make sure the melodic and rhythmic vectors match for each sequence\n",
    "\n",
    "df_filter_durs = df_brief[df_brief[\"note_durations_short\"] == df_brief[\"next_note_durations_short\"]]\n",
    "df_filter_patts = df_filter_durs[df_filter_durs[\"pattern_matched_short\"] == df_filter_durs[\"next_pattern_matched_short\"]]\n",
    "df_filter_patts.count()"
   ]
  },
  {
   "cell_type": "code",
   "execution_count": 586,
   "metadata": {},
   "outputs": [
    {
     "output_type": "execute_result",
     "data": {
      "text/plain": [
       "             pattern_matched              piece_title         part  \\\n",
       "153   [3, -2, -2, -2, -3, 1]  Quo abiit dilectus tuus  Contratenor   \n",
       "157   [-2, -2, -2, -3, 1, 2]  Quo abiit dilectus tuus  Contratenor   \n",
       "182      [2, 2, -2, 2, 2, 2]  Quo abiit dilectus tuus  Contratenor   \n",
       "190   [2, -2, -2, 2, -2, -2]  Quo abiit dilectus tuus  Contratenor   \n",
       "273   [-2, -2, -2, -2, 2, 2]  Quo abiit dilectus tuus  Contratenor   \n",
       "364   [-2, -2, -2, 2, 2, -3]  Quo abiit dilectus tuus  Contratenor   \n",
       "370    [-2, -2, 2, 2, -3, 2]  Quo abiit dilectus tuus  Contratenor   \n",
       "443  [-2, -2, -2, 2, -3, -2]  Quo abiit dilectus tuus  Contratenor   \n",
       "452     [2, 2, -3, -2, 2, 2]  Quo abiit dilectus tuus  Contratenor   \n",
       "474     [1, 1, 3, -2, -3, 2]  Quo abiit dilectus tuus  Contratenor   \n",
       "500     [1, 1, -5, 3, -2, 4]  Quo abiit dilectus tuus  Contratenor   \n",
       "503    [1, -5, 3, -2, 4, -2]  Quo abiit dilectus tuus  Contratenor   \n",
       "506   [-5, 3, -2, 4, -2, -2]  Quo abiit dilectus tuus  Contratenor   \n",
       "509   [3, -2, 4, -2, -2, -2]  Quo abiit dilectus tuus  Contratenor   \n",
       "512   [-2, 4, -2, -2, -2, 2]  Quo abiit dilectus tuus  Contratenor   \n",
       "551     [2, 2, -2, -2, 2, 3]  Quo abiit dilectus tuus  Contratenor   \n",
       "553    [2, -2, -2, 2, 3, -2]  Quo abiit dilectus tuus  Contratenor   \n",
       "565  [-2, 3, -2, -2, -2, -2]  Quo abiit dilectus tuus  Contratenor   \n",
       "580  [-2, -2, -2, -2, 4, -2]  Quo abiit dilectus tuus  Contratenor   \n",
       "603      [1, 2, 2, 2, -2, 4]  Quo abiit dilectus tuus  Contratenor   \n",
       "605     [2, 2, 2, -2, 4, -2]  Quo abiit dilectus tuus  Contratenor   \n",
       "607    [2, 2, -2, 4, -2, -2]  Quo abiit dilectus tuus  Contratenor   \n",
       "627    [3, -2, -3, 2, 2, -2]  Quo abiit dilectus tuus  Contratenor   \n",
       "\n",
       "     start_measure  end_measure  next_start_measure  next_end_measure  \\\n",
       "153             22           24                23.0              24.0   \n",
       "157             23           24                23.0              25.0   \n",
       "182             32           33                32.0              33.0   \n",
       "190              4            6                 5.0               6.0   \n",
       "273            127          128                39.0              40.0   \n",
       "364            124          126               125.0             126.0   \n",
       "370            125          126               125.0             126.0   \n",
       "443            164          165               164.0             165.0   \n",
       "452             25           27                26.0              27.0   \n",
       "474            110          112               111.0             112.0   \n",
       "500            123          124               123.0             125.0   \n",
       "503            123          125               123.0             125.0   \n",
       "506            123          125               124.0             125.0   \n",
       "509            124          125               124.0             126.0   \n",
       "512            124          126               124.0             126.0   \n",
       "551            119          121                 8.0              10.0   \n",
       "553            119          121                 9.0              10.0   \n",
       "565             48           50                37.0              38.0   \n",
       "580             47           48                47.0              49.0   \n",
       "603             88           89                88.0              90.0   \n",
       "605             88           90                88.0              90.0   \n",
       "607             88           90                88.0              90.0   \n",
       "627            111          113               111.0             113.0   \n",
       "\n",
       "        next_pattern_matched pattern_matched_short  \\\n",
       "153   [-2, -2, -2, -3, 1, 2]   [-2, -2, -2, -3, 1]   \n",
       "157    [-2, -2, -3, 1, 2, 2]    [-2, -2, -3, 1, 2]   \n",
       "182     [2, -2, 2, 2, 2, -2]      [2, -2, 2, 2, 2]   \n",
       "190   [-2, -2, 2, -2, -2, 2]   [-2, -2, 2, -2, -2]   \n",
       "273    [-2, -2, -2, 2, 2, 2]    [-2, -2, -2, 2, 2]   \n",
       "364    [-2, -2, 2, 2, -3, 2]    [-2, -2, 2, 2, -3]   \n",
       "370     [-2, 2, 2, -3, 2, 2]     [-2, 2, 2, -3, 2]   \n",
       "443   [-2, -2, 2, -3, -2, 2]   [-2, -2, 2, -3, -2]   \n",
       "452    [2, -3, -2, 2, 2, -2]     [2, -3, -2, 2, 2]   \n",
       "474     [1, 3, -2, -3, 2, 2]     [1, 3, -2, -3, 2]   \n",
       "500    [1, -5, 3, -2, 4, -2]     [1, -5, 3, -2, 4]   \n",
       "503   [-5, 3, -2, 4, -2, -2]    [-5, 3, -2, 4, -2]   \n",
       "506   [3, -2, 4, -2, -2, -2]    [3, -2, 4, -2, -2]   \n",
       "509   [-2, 4, -2, -2, -2, 2]   [-2, 4, -2, -2, -2]   \n",
       "512    [4, -2, -2, -2, 2, 2]    [4, -2, -2, -2, 2]   \n",
       "551    [2, -2, -2, 2, 3, -2]     [2, -2, -2, 2, 3]   \n",
       "553   [-2, -2, 2, 3, -2, -2]    [-2, -2, 2, 3, -2]   \n",
       "565  [3, -2, -2, -2, -2, -3]   [3, -2, -2, -2, -2]   \n",
       "580  [-2, -2, -2, 4, -2, -2]   [-2, -2, -2, 4, -2]   \n",
       "603     [2, 2, 2, -2, 4, -2]      [2, 2, 2, -2, 4]   \n",
       "605    [2, 2, -2, 4, -2, -2]     [2, 2, -2, 4, -2]   \n",
       "607   [2, -2, 4, -2, -2, -3]    [2, -2, 4, -2, -2]   \n",
       "627   [-2, -3, 2, 2, -2, -2]    [-2, -3, 2, 2, -2]   \n",
       "\n",
       "               note_durations_short next_pattern_matched_short  \\\n",
       "153  [2.0, 2.0, 4.0, 2.0, 2.0, 2.0]        [-2, -2, -2, -3, 1]   \n",
       "157  [2.0, 4.0, 2.0, 2.0, 2.0, 2.0]         [-2, -2, -3, 1, 2]   \n",
       "182  [2.0, 1.0, 1.0, 1.0, 1.0, 2.0]           [2, -2, 2, 2, 2]   \n",
       "190  [3.0, 0.5, 0.5, 2.0, 4.0, 2.0]        [-2, -2, 2, -2, -2]   \n",
       "273  [1.0, 1.0, 1.0, 1.0, 2.0, 2.0]         [-2, -2, -2, 2, 2]   \n",
       "364  [2.0, 2.0, 3.0, 1.0, 1.0, 1.0]         [-2, -2, 2, 2, -3]   \n",
       "370  [2.0, 3.0, 1.0, 1.0, 1.0, 2.0]          [-2, 2, 2, -3, 2]   \n",
       "443  [1.0, 1.0, 1.0, 2.0, 2.0, 2.0]        [-2, -2, 2, -3, -2]   \n",
       "452  [2.0, 2.0, 2.0, 3.0, 1.0, 4.0]          [2, -3, -2, 2, 2]   \n",
       "474  [2.0, 2.0, 2.0, 2.0, 2.0, 2.0]          [1, 3, -2, -3, 2]   \n",
       "500  [2.0, 2.0, 2.0, 2.0, 2.0, 4.0]          [1, -5, 3, -2, 4]   \n",
       "503  [2.0, 2.0, 2.0, 2.0, 4.0, 2.0]         [-5, 3, -2, 4, -2]   \n",
       "506  [2.0, 2.0, 2.0, 4.0, 2.0, 2.0]         [3, -2, 4, -2, -2]   \n",
       "509  [2.0, 2.0, 4.0, 2.0, 2.0, 3.0]        [-2, 4, -2, -2, -2]   \n",
       "512  [2.0, 4.0, 2.0, 2.0, 3.0, 1.0]         [4, -2, -2, -2, 2]   \n",
       "551  [1.0, 2.0, 4.0, 2.0, 2.0, 3.0]          [2, -2, -2, 2, 3]   \n",
       "553  [2.0, 4.0, 2.0, 2.0, 3.0, 1.0]         [-2, -2, 2, 3, -2]   \n",
       "565  [2.0, 3.0, 1.0, 1.0, 1.0, 1.0]        [3, -2, -2, -2, -2]   \n",
       "580  [2.0, 2.0, 2.0, 2.0, 2.0, 4.0]        [-2, -2, -2, 4, -2]   \n",
       "603  [2.0, 2.0, 2.0, 4.0, 2.0, 2.0]           [2, 2, 2, -2, 4]   \n",
       "605  [2.0, 2.0, 4.0, 2.0, 2.0, 2.0]          [2, 2, -2, 4, -2]   \n",
       "607  [2.0, 4.0, 2.0, 2.0, 2.0, 4.0]         [2, -2, 4, -2, -2]   \n",
       "627  [2.0, 2.0, 2.0, 2.0, 6.0, 1.0]         [-2, -3, 2, 2, -2]   \n",
       "\n",
       "          next_note_durations_short  \n",
       "153  [2.0, 2.0, 4.0, 2.0, 2.0, 2.0]  \n",
       "157  [2.0, 4.0, 2.0, 2.0, 2.0, 2.0]  \n",
       "182  [2.0, 1.0, 1.0, 1.0, 1.0, 2.0]  \n",
       "190  [3.0, 0.5, 0.5, 2.0, 4.0, 2.0]  \n",
       "273  [1.0, 1.0, 1.0, 1.0, 2.0, 2.0]  \n",
       "364  [2.0, 2.0, 3.0, 1.0, 1.0, 1.0]  \n",
       "370  [2.0, 3.0, 1.0, 1.0, 1.0, 2.0]  \n",
       "443  [1.0, 1.0, 1.0, 2.0, 2.0, 2.0]  \n",
       "452  [2.0, 2.0, 2.0, 3.0, 1.0, 4.0]  \n",
       "474  [2.0, 2.0, 2.0, 2.0, 2.0, 2.0]  \n",
       "500  [2.0, 2.0, 2.0, 2.0, 2.0, 4.0]  \n",
       "503  [2.0, 2.0, 2.0, 2.0, 4.0, 2.0]  \n",
       "506  [2.0, 2.0, 2.0, 4.0, 2.0, 2.0]  \n",
       "509  [2.0, 2.0, 4.0, 2.0, 2.0, 3.0]  \n",
       "512  [2.0, 4.0, 2.0, 2.0, 3.0, 1.0]  \n",
       "551  [1.0, 2.0, 4.0, 2.0, 2.0, 3.0]  \n",
       "553  [2.0, 4.0, 2.0, 2.0, 3.0, 1.0]  \n",
       "565  [2.0, 3.0, 1.0, 1.0, 1.0, 1.0]  \n",
       "580  [2.0, 2.0, 2.0, 2.0, 2.0, 4.0]  \n",
       "603  [2.0, 2.0, 2.0, 4.0, 2.0, 2.0]  \n",
       "605  [2.0, 2.0, 4.0, 2.0, 2.0, 2.0]  \n",
       "607  [2.0, 4.0, 2.0, 2.0, 2.0, 4.0]  \n",
       "627  [2.0, 2.0, 2.0, 2.0, 6.0, 1.0]  "
      ],
      "text/html": "<div>\n<style scoped>\n    .dataframe tbody tr th:only-of-type {\n        vertical-align: middle;\n    }\n\n    .dataframe tbody tr th {\n        vertical-align: top;\n    }\n\n    .dataframe thead th {\n        text-align: right;\n    }\n</style>\n<table border=\"1\" class=\"dataframe\">\n  <thead>\n    <tr style=\"text-align: right;\">\n      <th></th>\n      <th>pattern_matched</th>\n      <th>piece_title</th>\n      <th>part</th>\n      <th>start_measure</th>\n      <th>end_measure</th>\n      <th>next_start_measure</th>\n      <th>next_end_measure</th>\n      <th>next_pattern_matched</th>\n      <th>pattern_matched_short</th>\n      <th>note_durations_short</th>\n      <th>next_pattern_matched_short</th>\n      <th>next_note_durations_short</th>\n    </tr>\n  </thead>\n  <tbody>\n    <tr>\n      <th>153</th>\n      <td>[3, -2, -2, -2, -3, 1]</td>\n      <td>Quo abiit dilectus tuus</td>\n      <td>Contratenor</td>\n      <td>22</td>\n      <td>24</td>\n      <td>23.0</td>\n      <td>24.0</td>\n      <td>[-2, -2, -2, -3, 1, 2]</td>\n      <td>[-2, -2, -2, -3, 1]</td>\n      <td>[2.0, 2.0, 4.0, 2.0, 2.0, 2.0]</td>\n      <td>[-2, -2, -2, -3, 1]</td>\n      <td>[2.0, 2.0, 4.0, 2.0, 2.0, 2.0]</td>\n    </tr>\n    <tr>\n      <th>157</th>\n      <td>[-2, -2, -2, -3, 1, 2]</td>\n      <td>Quo abiit dilectus tuus</td>\n      <td>Contratenor</td>\n      <td>23</td>\n      <td>24</td>\n      <td>23.0</td>\n      <td>25.0</td>\n      <td>[-2, -2, -3, 1, 2, 2]</td>\n      <td>[-2, -2, -3, 1, 2]</td>\n      <td>[2.0, 4.0, 2.0, 2.0, 2.0, 2.0]</td>\n      <td>[-2, -2, -3, 1, 2]</td>\n      <td>[2.0, 4.0, 2.0, 2.0, 2.0, 2.0]</td>\n    </tr>\n    <tr>\n      <th>182</th>\n      <td>[2, 2, -2, 2, 2, 2]</td>\n      <td>Quo abiit dilectus tuus</td>\n      <td>Contratenor</td>\n      <td>32</td>\n      <td>33</td>\n      <td>32.0</td>\n      <td>33.0</td>\n      <td>[2, -2, 2, 2, 2, -2]</td>\n      <td>[2, -2, 2, 2, 2]</td>\n      <td>[2.0, 1.0, 1.0, 1.0, 1.0, 2.0]</td>\n      <td>[2, -2, 2, 2, 2]</td>\n      <td>[2.0, 1.0, 1.0, 1.0, 1.0, 2.0]</td>\n    </tr>\n    <tr>\n      <th>190</th>\n      <td>[2, -2, -2, 2, -2, -2]</td>\n      <td>Quo abiit dilectus tuus</td>\n      <td>Contratenor</td>\n      <td>4</td>\n      <td>6</td>\n      <td>5.0</td>\n      <td>6.0</td>\n      <td>[-2, -2, 2, -2, -2, 2]</td>\n      <td>[-2, -2, 2, -2, -2]</td>\n      <td>[3.0, 0.5, 0.5, 2.0, 4.0, 2.0]</td>\n      <td>[-2, -2, 2, -2, -2]</td>\n      <td>[3.0, 0.5, 0.5, 2.0, 4.0, 2.0]</td>\n    </tr>\n    <tr>\n      <th>273</th>\n      <td>[-2, -2, -2, -2, 2, 2]</td>\n      <td>Quo abiit dilectus tuus</td>\n      <td>Contratenor</td>\n      <td>127</td>\n      <td>128</td>\n      <td>39.0</td>\n      <td>40.0</td>\n      <td>[-2, -2, -2, 2, 2, 2]</td>\n      <td>[-2, -2, -2, 2, 2]</td>\n      <td>[1.0, 1.0, 1.0, 1.0, 2.0, 2.0]</td>\n      <td>[-2, -2, -2, 2, 2]</td>\n      <td>[1.0, 1.0, 1.0, 1.0, 2.0, 2.0]</td>\n    </tr>\n    <tr>\n      <th>364</th>\n      <td>[-2, -2, -2, 2, 2, -3]</td>\n      <td>Quo abiit dilectus tuus</td>\n      <td>Contratenor</td>\n      <td>124</td>\n      <td>126</td>\n      <td>125.0</td>\n      <td>126.0</td>\n      <td>[-2, -2, 2, 2, -3, 2]</td>\n      <td>[-2, -2, 2, 2, -3]</td>\n      <td>[2.0, 2.0, 3.0, 1.0, 1.0, 1.0]</td>\n      <td>[-2, -2, 2, 2, -3]</td>\n      <td>[2.0, 2.0, 3.0, 1.0, 1.0, 1.0]</td>\n    </tr>\n    <tr>\n      <th>370</th>\n      <td>[-2, -2, 2, 2, -3, 2]</td>\n      <td>Quo abiit dilectus tuus</td>\n      <td>Contratenor</td>\n      <td>125</td>\n      <td>126</td>\n      <td>125.0</td>\n      <td>126.0</td>\n      <td>[-2, 2, 2, -3, 2, 2]</td>\n      <td>[-2, 2, 2, -3, 2]</td>\n      <td>[2.0, 3.0, 1.0, 1.0, 1.0, 2.0]</td>\n      <td>[-2, 2, 2, -3, 2]</td>\n      <td>[2.0, 3.0, 1.0, 1.0, 1.0, 2.0]</td>\n    </tr>\n    <tr>\n      <th>443</th>\n      <td>[-2, -2, -2, 2, -3, -2]</td>\n      <td>Quo abiit dilectus tuus</td>\n      <td>Contratenor</td>\n      <td>164</td>\n      <td>165</td>\n      <td>164.0</td>\n      <td>165.0</td>\n      <td>[-2, -2, 2, -3, -2, 2]</td>\n      <td>[-2, -2, 2, -3, -2]</td>\n      <td>[1.0, 1.0, 1.0, 2.0, 2.0, 2.0]</td>\n      <td>[-2, -2, 2, -3, -2]</td>\n      <td>[1.0, 1.0, 1.0, 2.0, 2.0, 2.0]</td>\n    </tr>\n    <tr>\n      <th>452</th>\n      <td>[2, 2, -3, -2, 2, 2]</td>\n      <td>Quo abiit dilectus tuus</td>\n      <td>Contratenor</td>\n      <td>25</td>\n      <td>27</td>\n      <td>26.0</td>\n      <td>27.0</td>\n      <td>[2, -3, -2, 2, 2, -2]</td>\n      <td>[2, -3, -2, 2, 2]</td>\n      <td>[2.0, 2.0, 2.0, 3.0, 1.0, 4.0]</td>\n      <td>[2, -3, -2, 2, 2]</td>\n      <td>[2.0, 2.0, 2.0, 3.0, 1.0, 4.0]</td>\n    </tr>\n    <tr>\n      <th>474</th>\n      <td>[1, 1, 3, -2, -3, 2]</td>\n      <td>Quo abiit dilectus tuus</td>\n      <td>Contratenor</td>\n      <td>110</td>\n      <td>112</td>\n      <td>111.0</td>\n      <td>112.0</td>\n      <td>[1, 3, -2, -3, 2, 2]</td>\n      <td>[1, 3, -2, -3, 2]</td>\n      <td>[2.0, 2.0, 2.0, 2.0, 2.0, 2.0]</td>\n      <td>[1, 3, -2, -3, 2]</td>\n      <td>[2.0, 2.0, 2.0, 2.0, 2.0, 2.0]</td>\n    </tr>\n    <tr>\n      <th>500</th>\n      <td>[1, 1, -5, 3, -2, 4]</td>\n      <td>Quo abiit dilectus tuus</td>\n      <td>Contratenor</td>\n      <td>123</td>\n      <td>124</td>\n      <td>123.0</td>\n      <td>125.0</td>\n      <td>[1, -5, 3, -2, 4, -2]</td>\n      <td>[1, -5, 3, -2, 4]</td>\n      <td>[2.0, 2.0, 2.0, 2.0, 2.0, 4.0]</td>\n      <td>[1, -5, 3, -2, 4]</td>\n      <td>[2.0, 2.0, 2.0, 2.0, 2.0, 4.0]</td>\n    </tr>\n    <tr>\n      <th>503</th>\n      <td>[1, -5, 3, -2, 4, -2]</td>\n      <td>Quo abiit dilectus tuus</td>\n      <td>Contratenor</td>\n      <td>123</td>\n      <td>125</td>\n      <td>123.0</td>\n      <td>125.0</td>\n      <td>[-5, 3, -2, 4, -2, -2]</td>\n      <td>[-5, 3, -2, 4, -2]</td>\n      <td>[2.0, 2.0, 2.0, 2.0, 4.0, 2.0]</td>\n      <td>[-5, 3, -2, 4, -2]</td>\n      <td>[2.0, 2.0, 2.0, 2.0, 4.0, 2.0]</td>\n    </tr>\n    <tr>\n      <th>506</th>\n      <td>[-5, 3, -2, 4, -2, -2]</td>\n      <td>Quo abiit dilectus tuus</td>\n      <td>Contratenor</td>\n      <td>123</td>\n      <td>125</td>\n      <td>124.0</td>\n      <td>125.0</td>\n      <td>[3, -2, 4, -2, -2, -2]</td>\n      <td>[3, -2, 4, -2, -2]</td>\n      <td>[2.0, 2.0, 2.0, 4.0, 2.0, 2.0]</td>\n      <td>[3, -2, 4, -2, -2]</td>\n      <td>[2.0, 2.0, 2.0, 4.0, 2.0, 2.0]</td>\n    </tr>\n    <tr>\n      <th>509</th>\n      <td>[3, -2, 4, -2, -2, -2]</td>\n      <td>Quo abiit dilectus tuus</td>\n      <td>Contratenor</td>\n      <td>124</td>\n      <td>125</td>\n      <td>124.0</td>\n      <td>126.0</td>\n      <td>[-2, 4, -2, -2, -2, 2]</td>\n      <td>[-2, 4, -2, -2, -2]</td>\n      <td>[2.0, 2.0, 4.0, 2.0, 2.0, 3.0]</td>\n      <td>[-2, 4, -2, -2, -2]</td>\n      <td>[2.0, 2.0, 4.0, 2.0, 2.0, 3.0]</td>\n    </tr>\n    <tr>\n      <th>512</th>\n      <td>[-2, 4, -2, -2, -2, 2]</td>\n      <td>Quo abiit dilectus tuus</td>\n      <td>Contratenor</td>\n      <td>124</td>\n      <td>126</td>\n      <td>124.0</td>\n      <td>126.0</td>\n      <td>[4, -2, -2, -2, 2, 2]</td>\n      <td>[4, -2, -2, -2, 2]</td>\n      <td>[2.0, 4.0, 2.0, 2.0, 3.0, 1.0]</td>\n      <td>[4, -2, -2, -2, 2]</td>\n      <td>[2.0, 4.0, 2.0, 2.0, 3.0, 1.0]</td>\n    </tr>\n    <tr>\n      <th>551</th>\n      <td>[2, 2, -2, -2, 2, 3]</td>\n      <td>Quo abiit dilectus tuus</td>\n      <td>Contratenor</td>\n      <td>119</td>\n      <td>121</td>\n      <td>8.0</td>\n      <td>10.0</td>\n      <td>[2, -2, -2, 2, 3, -2]</td>\n      <td>[2, -2, -2, 2, 3]</td>\n      <td>[1.0, 2.0, 4.0, 2.0, 2.0, 3.0]</td>\n      <td>[2, -2, -2, 2, 3]</td>\n      <td>[1.0, 2.0, 4.0, 2.0, 2.0, 3.0]</td>\n    </tr>\n    <tr>\n      <th>553</th>\n      <td>[2, -2, -2, 2, 3, -2]</td>\n      <td>Quo abiit dilectus tuus</td>\n      <td>Contratenor</td>\n      <td>119</td>\n      <td>121</td>\n      <td>9.0</td>\n      <td>10.0</td>\n      <td>[-2, -2, 2, 3, -2, -2]</td>\n      <td>[-2, -2, 2, 3, -2]</td>\n      <td>[2.0, 4.0, 2.0, 2.0, 3.0, 1.0]</td>\n      <td>[-2, -2, 2, 3, -2]</td>\n      <td>[2.0, 4.0, 2.0, 2.0, 3.0, 1.0]</td>\n    </tr>\n    <tr>\n      <th>565</th>\n      <td>[-2, 3, -2, -2, -2, -2]</td>\n      <td>Quo abiit dilectus tuus</td>\n      <td>Contratenor</td>\n      <td>48</td>\n      <td>50</td>\n      <td>37.0</td>\n      <td>38.0</td>\n      <td>[3, -2, -2, -2, -2, -3]</td>\n      <td>[3, -2, -2, -2, -2]</td>\n      <td>[2.0, 3.0, 1.0, 1.0, 1.0, 1.0]</td>\n      <td>[3, -2, -2, -2, -2]</td>\n      <td>[2.0, 3.0, 1.0, 1.0, 1.0, 1.0]</td>\n    </tr>\n    <tr>\n      <th>580</th>\n      <td>[-2, -2, -2, -2, 4, -2]</td>\n      <td>Quo abiit dilectus tuus</td>\n      <td>Contratenor</td>\n      <td>47</td>\n      <td>48</td>\n      <td>47.0</td>\n      <td>49.0</td>\n      <td>[-2, -2, -2, 4, -2, -2]</td>\n      <td>[-2, -2, -2, 4, -2]</td>\n      <td>[2.0, 2.0, 2.0, 2.0, 2.0, 4.0]</td>\n      <td>[-2, -2, -2, 4, -2]</td>\n      <td>[2.0, 2.0, 2.0, 2.0, 2.0, 4.0]</td>\n    </tr>\n    <tr>\n      <th>603</th>\n      <td>[1, 2, 2, 2, -2, 4]</td>\n      <td>Quo abiit dilectus tuus</td>\n      <td>Contratenor</td>\n      <td>88</td>\n      <td>89</td>\n      <td>88.0</td>\n      <td>90.0</td>\n      <td>[2, 2, 2, -2, 4, -2]</td>\n      <td>[2, 2, 2, -2, 4]</td>\n      <td>[2.0, 2.0, 2.0, 4.0, 2.0, 2.0]</td>\n      <td>[2, 2, 2, -2, 4]</td>\n      <td>[2.0, 2.0, 2.0, 4.0, 2.0, 2.0]</td>\n    </tr>\n    <tr>\n      <th>605</th>\n      <td>[2, 2, 2, -2, 4, -2]</td>\n      <td>Quo abiit dilectus tuus</td>\n      <td>Contratenor</td>\n      <td>88</td>\n      <td>90</td>\n      <td>88.0</td>\n      <td>90.0</td>\n      <td>[2, 2, -2, 4, -2, -2]</td>\n      <td>[2, 2, -2, 4, -2]</td>\n      <td>[2.0, 2.0, 4.0, 2.0, 2.0, 2.0]</td>\n      <td>[2, 2, -2, 4, -2]</td>\n      <td>[2.0, 2.0, 4.0, 2.0, 2.0, 2.0]</td>\n    </tr>\n    <tr>\n      <th>607</th>\n      <td>[2, 2, -2, 4, -2, -2]</td>\n      <td>Quo abiit dilectus tuus</td>\n      <td>Contratenor</td>\n      <td>88</td>\n      <td>90</td>\n      <td>88.0</td>\n      <td>90.0</td>\n      <td>[2, -2, 4, -2, -2, -3]</td>\n      <td>[2, -2, 4, -2, -2]</td>\n      <td>[2.0, 4.0, 2.0, 2.0, 2.0, 4.0]</td>\n      <td>[2, -2, 4, -2, -2]</td>\n      <td>[2.0, 4.0, 2.0, 2.0, 2.0, 4.0]</td>\n    </tr>\n    <tr>\n      <th>627</th>\n      <td>[3, -2, -3, 2, 2, -2]</td>\n      <td>Quo abiit dilectus tuus</td>\n      <td>Contratenor</td>\n      <td>111</td>\n      <td>113</td>\n      <td>111.0</td>\n      <td>113.0</td>\n      <td>[-2, -3, 2, 2, -2, -2]</td>\n      <td>[-2, -3, 2, 2, -2]</td>\n      <td>[2.0, 2.0, 2.0, 2.0, 6.0, 1.0]</td>\n      <td>[-2, -3, 2, 2, -2]</td>\n      <td>[2.0, 2.0, 2.0, 2.0, 6.0, 1.0]</td>\n    </tr>\n  </tbody>\n</table>\n</div>"
     },
     "metadata": {},
     "execution_count": 586
    }
   ],
   "source": [
    "# This is just a way to inspect a single voice\n",
    "df_filter_one_voice = df_filter_patts[df_filter_patts[\"part\"].str.contains('Contratenor')]\n",
    "df_filter_one_voice\n"
   ]
  },
  {
   "cell_type": "code",
   "execution_count": 730,
   "metadata": {},
   "outputs": [
    {
     "output_type": "execute_result",
     "data": {
      "text/plain": [
       "pattern_matched               145\n",
       "piece_title                   145\n",
       "part                          145\n",
       "start_measure                 145\n",
       "end_measure                   145\n",
       "next_start_measure            145\n",
       "next_end_measure              145\n",
       "next_pattern_matched          145\n",
       "pattern_matched_short         145\n",
       "note_durations_short          145\n",
       "next_pattern_matched_short    145\n",
       "next_note_durations_short     145\n",
       "next_end_measure_minus        145\n",
       "dtype: int64"
      ]
     },
     "metadata": {},
     "execution_count": 730
    }
   ],
   "source": [
    "# Make sure there are no NaN values\n",
    "# Add new column for check of matching end measures +1 (which we do by subtracting 1, then checking for ==)\n",
    "# combine the results:  these are the soggetti that need to get Greedy\n",
    "\n",
    "df_filter_patts['next_end_measure'].fillna(0)\n",
    "df_filter_patts['next_end_measure_minus'] = df_filter_patts['next_end_measure'].apply(lambda x: x-1)\n",
    "df_test_1 = df_filter_patts[df_filter_patts[\"end_measure\"] == df_filter_patts[\"next_end_measure\"]]\n",
    "df_test_2 = df_filter_patts[df_filter_patts[\"end_measure\"] == df_filter_patts[\"next_end_measure_minus\"]]\n",
    "df_test_combined = pd.concat([df_test_1, df_test_2])\n",
    "df_test_combined.count()\n",
    "# ct = df_test_combined[df_test_combined[\"part\"].str.contains(\"Contratenor\")]\n",
    "# ct\n"
   ]
  },
  {
   "cell_type": "code",
   "execution_count": null,
   "metadata": {},
   "outputs": [],
   "source": []
  },
  {
   "cell_type": "markdown",
   "metadata": {},
   "source": [
    "***\n",
    "\n",
    "### Classify Patterns Here \n",
    "#### Note:  depends on choice of Close or Exact above!  Must choose appropriate one below!\n",
    "#### Enable \"export_to_csv\" line to allow this within Notebook (must answer \"Y\" and provide filename)\n",
    "\n",
    "### note that the classifier can only find patterns with AT LEAST THREE entries!  2-voice fugas are invisible at the moment.  Could be added!"
   ]
 },
{
 "cell_type": "code",
 "execution_count": 250,
 "metadata": {
  "jupyter": {
   "outputs_hidden": true
  },
  "tags": []
 },
 "outputs": [],
 "source": [
  "%%capture\n",
  "#classify_matches(close_matches, 1)\n",
  "#classify_matches(exact_matches, 2)\n",
  "cm = classify_matches(close_matches, 1)\n",
  "#pd.DataFrame(classified_matches)\n",
  "output_cm = export_pandas(cm)\n",
  "#pd.DataFrame(output).head()\n",
  "\n",
  "## For CSV export, use the following (and follow prompts for file name)\n",
  "\n",
  "#export_to_csv(cm)\n",
  "\n"
 ]
},
{
 "cell_type": "code",
 "execution_count": 252,
 "metadata": {},
 "outputs": [],
 "source": [
  "def classified_matches_to_pandas(matches):\n",
  "    \n",
  "    soggetti_matches = []\n",
  "    \n",
  "    for i, cm in enumerate(matches):\n",
  "        \n",
  "        for j, soggetti in enumerate(cm.matches):\n",
  "            \n",
  "            soggetti_matches.append({\n",
  "                \"piece\": soggetti.first_note.metadata.title,\n",
  "                \"type\": cm.type,\n",
  "                \"part\": soggetti.first_note.part.strip(\"[] \"),\n",
  "                \"bar\": soggetti.first_note.note.measureNumber,\n",
  "                \"entry_number\": j + 1,\n",
  "                \"pattern\": cm.pattern,\n",
  "                \"match_number\": i + 1\n",
  "            })\n",
  "    return pd.DataFrame(soggetti_matches)"
 ]
},
{
 "cell_type": "code",
 "execution_count": 253,
 "metadata": {},
 "outputs": [
  {
   "output_type": "execute_result",
   "data": {
    "text/plain": [
     "                       piece  type         part  bar  entry_number  \\\n",
     "0    Quo abiit dilectus tuus  fuga     Superior    1             1   \n",
     "117  Quo abiit dilectus tuus  fuga     Superior    1             1   \n",
     "1    Quo abiit dilectus tuus  fuga  Contratenor    3             2   \n",
     "118  Quo abiit dilectus tuus  fuga  Contratenor    3             2   \n",
     "74   Quo abiit dilectus tuus  fuga        Tenor   20             1   \n",
     "..                       ...   ...          ...  ...           ...   \n",
     "124  Quo abiit dilectus tuus  fuga  Contratenor  119             4   \n",
     "7    Quo abiit dilectus tuus  fuga  Contratenor  119             4   \n",
     "141  Quo abiit dilectus tuus  fuga     Superior  132             1   \n",
     "142  Quo abiit dilectus tuus  fuga  Contratenor  133             2   \n",
     "143  Quo abiit dilectus tuus  fuga        Tenor  134             3   \n",
     "\n",
     "                   pattern  match_number  \n",
     "0    [-2, 2, 2, 2, -2, -2]             1  \n",
     "117  [-2, 2, 2, 2, -2, -2]            34  \n",
     "1    [-2, 2, 2, 2, -2, -2]             1  \n",
     "118  [-2, 2, 2, 2, -2, -2]            34  \n",
     "74   [2, 2, -2, -2, -2, 2]            22  \n",
     "..                     ...           ...  \n",
     "124  [-3, 2, 2, 2, -2, -2]            35  \n",
     "7    [-3, 2, 2, 2, -2, -2]             2  \n",
     "141   [2, 3, -2, -2, 1, 3]            41  \n",
     "142   [2, 3, -2, -2, 1, 3]            41  \n",
     "143   [2, 3, -2, -2, 1, 3]            41  \n",
     "\n",
     "[198 rows x 7 columns]"
    ],
    "text/html": "<div>\n<style scoped>\n    .dataframe tbody tr th:only-of-type {\n        vertical-align: middle;\n    }\n\n    .dataframe tbody tr th {\n        vertical-align: top;\n    }\n\n    .dataframe thead th {\n        text-align: right;\n    }\n</style>\n<table border=\"1\" class=\"dataframe\">\n  <thead>\n    <tr style=\"text-align: right;\">\n      <th></th>\n      <th>piece</th>\n      <th>type</th>\n      <th>part</th>\n      <th>bar</th>\n      <th>entry_number</th>\n      <th>pattern</th>\n      <th>match_number</th>\n    </tr>\n  </thead>\n  <tbody>\n    <tr>\n      <th>0</th>\n      <td>Quo abiit dilectus tuus</td>\n      <td>fuga</td>\n      <td>Superior</td>\n      <td>1</td>\n      <td>1</td>\n      <td>[-2, 2, 2, 2, -2, -2]</td>\n      <td>1</td>\n    </tr>\n    <tr>\n      <th>117</th>\n      <td>Quo abiit dilectus tuus</td>\n      <td>fuga</td>\n      <td>Superior</td>\n      <td>1</td>\n      <td>1</td>\n      <td>[-2, 2, 2, 2, -2, -2]</td>\n      <td>34</td>\n    </tr>\n    <tr>\n      <th>1</th>\n      <td>Quo abiit dilectus tuus</td>\n      <td>fuga</td>\n      <td>Contratenor</td>\n      <td>3</td>\n      <td>2</td>\n      <td>[-2, 2, 2, 2, -2, -2]</td>\n      <td>1</td>\n    </tr>\n    <tr>\n      <th>118</th>\n      <td>Quo abiit dilectus tuus</td>\n      <td>fuga</td>\n      <td>Contratenor</td>\n      <td>3</td>\n      <td>2</td>\n      <td>[-2, 2, 2, 2, -2, -2]</td>\n      <td>34</td>\n    </tr>\n    <tr>\n      <th>74</th>\n      <td>Quo abiit dilectus tuus</td>\n      <td>fuga</td>\n      <td>Tenor</td>\n      <td>20</td>\n      <td>1</td>\n      <td>[2, 2, -2, -2, -2, 2]</td>\n      <td>22</td>\n    </tr>\n    <tr>\n      <th>...</th>\n      <td>...</td>\n      <td>...</td>\n      <td>...</td>\n      <td>...</td>\n      <td>...</td>\n      <td>...</td>\n      <td>...</td>\n    </tr>\n    <tr>\n      <th>124</th>\n      <td>Quo abiit dilectus tuus</td>\n      <td>fuga</td>\n      <td>Contratenor</td>\n      <td>119</td>\n      <td>4</td>\n      <td>[-3, 2, 2, 2, -2, -2]</td>\n      <td>35</td>\n    </tr>\n    <tr>\n      <th>7</th>\n      <td>Quo abiit dilectus tuus</td>\n      <td>fuga</td>\n      <td>Contratenor</td>\n      <td>119</td>\n      <td>4</td>\n      <td>[-3, 2, 2, 2, -2, -2]</td>\n      <td>2</td>\n    </tr>\n    <tr>\n      <th>141</th>\n      <td>Quo abiit dilectus tuus</td>\n      <td>fuga</td>\n      <td>Superior</td>\n      <td>132</td>\n      <td>1</td>\n      <td>[2, 3, -2, -2, 1, 3]</td>\n      <td>41</td>\n    </tr>\n    <tr>\n      <th>142</th>\n      <td>Quo abiit dilectus tuus</td>\n      <td>fuga</td>\n      <td>Contratenor</td>\n      <td>133</td>\n      <td>2</td>\n      <td>[2, 3, -2, -2, 1, 3]</td>\n      <td>41</td>\n    </tr>\n    <tr>\n      <th>143</th>\n      <td>Quo abiit dilectus tuus</td>\n      <td>fuga</td>\n      <td>Tenor</td>\n      <td>134</td>\n      <td>3</td>\n      <td>[2, 3, -2, -2, 1, 3]</td>\n      <td>41</td>\n    </tr>\n  </tbody>\n</table>\n<p>198 rows × 7 columns</p>\n</div>"
   },
   "metadata": {},
   "execution_count": 253
  }
 ],
 "source": [
  "df = classified_matches_to_pandas(cm)\n",
  "pd.set_option('display.max_rows', 50)\n",
  "df_sorted = df.sort_values(\"bar\")\n",
  "df_sorted"
 ]
},

{
 "cell_type": "markdown",
 "metadata": {},
 "source": [
  "## Read CSV of Classified Matches\n",
  "\n",
  "- Update file name to match the output of previous cells for Classifier"
 ]
},
{
 "cell_type": "code",
 "execution_count": null,
 "metadata": {},
 "outputs": [],
 "source": [
  "results = pd.read_csv('Sandrin_Classified.csv')\n",
  "results.rename(columns=\n",
  "                   {'Pattern Generating Match': 'Pattern_Generating_Match', \n",
  "                    'Pattern matched':'Pattern_Matched',\n",
  "                    'Classification Type': 'Classification_Type',\n",
  "                    'Piece Title': 'Piece_Title',\n",
  "                    'First Note Measure Number': 'Start_Measure',\n",
  "                    'Last Note Measure Number': 'Stop_Measure',\n",
  "                    'Note Durations': 'Note_Durations'\n",
  "                   },\n",
  "                    inplace=True)\n",
  "\n",
  "results['note_durations'] = results['note_durations'].apply(ast.literal_eval)\n",
  "\n",
  "durations = results['note_durations']\n",
  "results.head()"
 ]
},
],
"metadata": {
 "kernelspec": {
  "display_name": "Python 3",
  "language": "python",
  "name": "python3"
 },
 "language_info": {
  "codemirror_mode": {
   "name": "ipython",
   "version": 3
  },
  "file_extension": ".py",
  "mimetype": "text/x-python",
  "name": "python",
  "nbconvert_exporter": "python",
  "pygments_lexer": "ipython3",
  "version": "3.8.5-final"
 }
},
"nbformat": 4,
"nbformat_minor": 4
}
